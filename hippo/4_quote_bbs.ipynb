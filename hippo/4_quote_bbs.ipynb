{
 "cells": [
  {
   "cell_type": "markdown",
   "id": "3c01b35c-2ffe-4955-9598-3213d28bfd02",
   "metadata": {
    "tags": []
   },
   "source": [
    "# 2A_HIPPO 4: Quote Reactants"
   ]
  },
  {
   "cell_type": "code",
   "execution_count": 2,
   "id": "93b6316a-977e-4497-ad43-3a18864cf18f",
   "metadata": {
    "tags": []
   },
   "outputs": [],
   "source": [
    "%load_ext autoreload\n",
    "%autoreload 2\n",
    "import hippo\n",
    "from pathlib import Path\n",
    "import pandas as pd\n",
    "import mrich\n",
    "from rich import print\n",
    "# from hippo.fragalysis import download_target"
   ]
  },
  {
   "cell_type": "code",
   "execution_count": 3,
   "id": "51c567b8-7f12-4472-b8cd-086741fa49d6",
   "metadata": {
    "scrolled": true,
    "tags": []
   },
   "outputs": [
    {
     "data": {
      "text/html": [
       "<pre style=\"white-space:pre;overflow-x:auto;line-height:normal;font-family:Menlo,'DejaVu Sans Mono',consolas,'Courier New',monospace\"><span style=\"font-weight: bold\"> Creating HIPPO animal</span>\n",
       "</pre>\n"
      ],
      "text/plain": [
       "\u001b[1m Creating HIPPO animal\u001b[0m\n"
      ]
     },
     "metadata": {},
     "output_type": "display_data"
    },
    {
     "data": {
      "text/html": [
       "<pre style=\"white-space:pre;overflow-x:auto;line-height:normal;font-family:Menlo,'DejaVu Sans Mono',consolas,'Courier New',monospace\"><span style=\"color: #008080; text-decoration-color: #008080; font-weight: bold\">name</span> = <span style=\"color: #00d7af; text-decoration-color: #00d7af\">2A_HIPPO</span>\n",
       "</pre>\n"
      ],
      "text/plain": [
       "\u001b[1;36mname\u001b[0m = \u001b[38;5;43m2A_HIPPO\u001b[0m\n"
      ]
     },
     "metadata": {},
     "output_type": "display_data"
    },
    {
     "data": {
      "text/html": [
       "<pre style=\"white-space:pre;overflow-x:auto;line-height:normal;font-family:Menlo,'DejaVu Sans Mono',consolas,'Courier New',monospace\"><span style=\"color: #008080; text-decoration-color: #008080; font-weight: bold\">db_path</span> = <span style=\"color: #d7af00; text-decoration-color: #d7af00\">A71EV2A_4.sqlite</span>\n",
       "</pre>\n"
      ],
      "text/plain": [
       "\u001b[1;36mdb_path\u001b[0m = \u001b[38;5;178mA71EV2A_4.sqlite\u001b[0m\n"
      ]
     },
     "metadata": {},
     "output_type": "display_data"
    },
    {
     "data": {
      "text/html": [
       "<pre style=\"white-space:pre;overflow-x:auto;line-height:normal;font-family:Menlo,'DejaVu Sans Mono',consolas,'Courier New',monospace\">Copying A71EV2A_3.sqlite --&gt; A71EV2A_4.sqlite\n",
       "</pre>\n"
      ],
      "text/plain": [
       "Copying A71EV2A_3.sqlite --> A71EV2A_4.sqlite\n"
      ]
     },
     "metadata": {},
     "output_type": "display_data"
    },
    {
     "data": {
      "text/html": [
       "<pre style=\"white-space:pre;overflow-x:auto;line-height:normal;font-family:Menlo,'DejaVu Sans Mono',consolas,'Courier New',monospace\"><span style=\"color: #808080; text-decoration-color: #808080\">DEBUG: Copied 10000 of 169291 pages...</span>\n",
       "</pre>\n"
      ],
      "text/plain": [
       "\u001b[90mDEBUG: Copied 10000 of 169291 pages...\u001b[0m\n"
      ]
     },
     "metadata": {},
     "output_type": "display_data"
    },
    {
     "data": {
      "text/html": [
       "<pre style=\"white-space:pre;overflow-x:auto;line-height:normal;font-family:Menlo,'DejaVu Sans Mono',consolas,'Courier New',monospace\"><span style=\"color: #808080; text-decoration-color: #808080\">DEBUG: Copied 20000 of 169291 pages...</span>\n",
       "</pre>\n"
      ],
      "text/plain": [
       "\u001b[90mDEBUG: Copied 20000 of 169291 pages...\u001b[0m\n"
      ]
     },
     "metadata": {},
     "output_type": "display_data"
    },
    {
     "data": {
      "text/html": [
       "<pre style=\"white-space:pre;overflow-x:auto;line-height:normal;font-family:Menlo,'DejaVu Sans Mono',consolas,'Courier New',monospace\"><span style=\"color: #808080; text-decoration-color: #808080\">DEBUG: Copied 30000 of 169291 pages...</span>\n",
       "</pre>\n"
      ],
      "text/plain": [
       "\u001b[90mDEBUG: Copied 30000 of 169291 pages...\u001b[0m\n"
      ]
     },
     "metadata": {},
     "output_type": "display_data"
    },
    {
     "data": {
      "text/html": [
       "<pre style=\"white-space:pre;overflow-x:auto;line-height:normal;font-family:Menlo,'DejaVu Sans Mono',consolas,'Courier New',monospace\"><span style=\"color: #808080; text-decoration-color: #808080\">DEBUG: Copied 40000 of 169291 pages...</span>\n",
       "</pre>\n"
      ],
      "text/plain": [
       "\u001b[90mDEBUG: Copied 40000 of 169291 pages...\u001b[0m\n"
      ]
     },
     "metadata": {},
     "output_type": "display_data"
    },
    {
     "data": {
      "text/html": [
       "<pre style=\"white-space:pre;overflow-x:auto;line-height:normal;font-family:Menlo,'DejaVu Sans Mono',consolas,'Courier New',monospace\"><span style=\"color: #808080; text-decoration-color: #808080\">DEBUG: Copied 50000 of 169291 pages...</span>\n",
       "</pre>\n"
      ],
      "text/plain": [
       "\u001b[90mDEBUG: Copied 50000 of 169291 pages...\u001b[0m\n"
      ]
     },
     "metadata": {},
     "output_type": "display_data"
    },
    {
     "data": {
      "text/html": [
       "<pre style=\"white-space:pre;overflow-x:auto;line-height:normal;font-family:Menlo,'DejaVu Sans Mono',consolas,'Courier New',monospace\"><span style=\"color: #808080; text-decoration-color: #808080\">DEBUG: Copied 60000 of 169291 pages...</span>\n",
       "</pre>\n"
      ],
      "text/plain": [
       "\u001b[90mDEBUG: Copied 60000 of 169291 pages...\u001b[0m\n"
      ]
     },
     "metadata": {},
     "output_type": "display_data"
    },
    {
     "data": {
      "text/html": [
       "<pre style=\"white-space:pre;overflow-x:auto;line-height:normal;font-family:Menlo,'DejaVu Sans Mono',consolas,'Courier New',monospace\"><span style=\"color: #808080; text-decoration-color: #808080\">DEBUG: Copied 70000 of 169291 pages...</span>\n",
       "</pre>\n"
      ],
      "text/plain": [
       "\u001b[90mDEBUG: Copied 70000 of 169291 pages...\u001b[0m\n"
      ]
     },
     "metadata": {},
     "output_type": "display_data"
    },
    {
     "data": {
      "text/html": [
       "<pre style=\"white-space:pre;overflow-x:auto;line-height:normal;font-family:Menlo,'DejaVu Sans Mono',consolas,'Courier New',monospace\"><span style=\"color: #808080; text-decoration-color: #808080\">DEBUG: Copied 80000 of 169291 pages...</span>\n",
       "</pre>\n"
      ],
      "text/plain": [
       "\u001b[90mDEBUG: Copied 80000 of 169291 pages...\u001b[0m\n"
      ]
     },
     "metadata": {},
     "output_type": "display_data"
    },
    {
     "data": {
      "text/html": [
       "<pre style=\"white-space:pre;overflow-x:auto;line-height:normal;font-family:Menlo,'DejaVu Sans Mono',consolas,'Courier New',monospace\"><span style=\"color: #808080; text-decoration-color: #808080\">DEBUG: Copied 90000 of 169291 pages...</span>\n",
       "</pre>\n"
      ],
      "text/plain": [
       "\u001b[90mDEBUG: Copied 90000 of 169291 pages...\u001b[0m\n"
      ]
     },
     "metadata": {},
     "output_type": "display_data"
    },
    {
     "data": {
      "text/html": [
       "<pre style=\"white-space:pre;overflow-x:auto;line-height:normal;font-family:Menlo,'DejaVu Sans Mono',consolas,'Courier New',monospace\"><span style=\"color: #808080; text-decoration-color: #808080\">DEBUG: Copied 100000 of 169291 pages...</span>\n",
       "</pre>\n"
      ],
      "text/plain": [
       "\u001b[90mDEBUG: Copied 100000 of 169291 pages...\u001b[0m\n"
      ]
     },
     "metadata": {},
     "output_type": "display_data"
    },
    {
     "data": {
      "text/html": [
       "<pre style=\"white-space:pre;overflow-x:auto;line-height:normal;font-family:Menlo,'DejaVu Sans Mono',consolas,'Courier New',monospace\"><span style=\"color: #808080; text-decoration-color: #808080\">DEBUG: Copied 110000 of 169291 pages...</span>\n",
       "</pre>\n"
      ],
      "text/plain": [
       "\u001b[90mDEBUG: Copied 110000 of 169291 pages...\u001b[0m\n"
      ]
     },
     "metadata": {},
     "output_type": "display_data"
    },
    {
     "data": {
      "text/html": [
       "<pre style=\"white-space:pre;overflow-x:auto;line-height:normal;font-family:Menlo,'DejaVu Sans Mono',consolas,'Courier New',monospace\"><span style=\"color: #808080; text-decoration-color: #808080\">DEBUG: Copied 120000 of 169291 pages...</span>\n",
       "</pre>\n"
      ],
      "text/plain": [
       "\u001b[90mDEBUG: Copied 120000 of 169291 pages...\u001b[0m\n"
      ]
     },
     "metadata": {},
     "output_type": "display_data"
    },
    {
     "data": {
      "text/html": [
       "<pre style=\"white-space:pre;overflow-x:auto;line-height:normal;font-family:Menlo,'DejaVu Sans Mono',consolas,'Courier New',monospace\"><span style=\"color: #808080; text-decoration-color: #808080\">DEBUG: Copied 130000 of 169291 pages...</span>\n",
       "</pre>\n"
      ],
      "text/plain": [
       "\u001b[90mDEBUG: Copied 130000 of 169291 pages...\u001b[0m\n"
      ]
     },
     "metadata": {},
     "output_type": "display_data"
    },
    {
     "data": {
      "text/html": [
       "<pre style=\"white-space:pre;overflow-x:auto;line-height:normal;font-family:Menlo,'DejaVu Sans Mono',consolas,'Courier New',monospace\"><span style=\"color: #808080; text-decoration-color: #808080\">DEBUG: Copied 140000 of 169291 pages...</span>\n",
       "</pre>\n"
      ],
      "text/plain": [
       "\u001b[90mDEBUG: Copied 140000 of 169291 pages...\u001b[0m\n"
      ]
     },
     "metadata": {},
     "output_type": "display_data"
    },
    {
     "data": {
      "text/html": [
       "<pre style=\"white-space:pre;overflow-x:auto;line-height:normal;font-family:Menlo,'DejaVu Sans Mono',consolas,'Courier New',monospace\"><span style=\"color: #808080; text-decoration-color: #808080\">DEBUG: Copied 150000 of 169291 pages...</span>\n",
       "</pre>\n"
      ],
      "text/plain": [
       "\u001b[90mDEBUG: Copied 150000 of 169291 pages...\u001b[0m\n"
      ]
     },
     "metadata": {},
     "output_type": "display_data"
    },
    {
     "data": {
      "text/html": [
       "<pre style=\"white-space:pre;overflow-x:auto;line-height:normal;font-family:Menlo,'DejaVu Sans Mono',consolas,'Courier New',monospace\"><span style=\"color: #808080; text-decoration-color: #808080\">DEBUG: Copied 160000 of 169291 pages...</span>\n",
       "</pre>\n"
      ],
      "text/plain": [
       "\u001b[90mDEBUG: Copied 160000 of 169291 pages...\u001b[0m\n"
      ]
     },
     "metadata": {},
     "output_type": "display_data"
    },
    {
     "data": {
      "text/html": [
       "<pre style=\"white-space:pre;overflow-x:auto;line-height:normal;font-family:Menlo,'DejaVu Sans Mono',consolas,'Courier New',monospace\"><span style=\"color: #808080; text-decoration-color: #808080\">DEBUG: Copied 169291 of 169291 pages...</span>\n",
       "</pre>\n"
      ],
      "text/plain": [
       "\u001b[90mDEBUG: Copied 169291 of 169291 pages...\u001b[0m\n"
      ]
     },
     "metadata": {},
     "output_type": "display_data"
    },
    {
     "data": {
      "text/html": [
       "<pre style=\"white-space:pre;overflow-x:auto;line-height:normal;font-family:Menlo,'DejaVu Sans Mono',consolas,'Courier New',monospace\"><span style=\"color: #808080; text-decoration-color: #808080\">DEBUG: hippo.Database.__init__()</span>\n",
       "</pre>\n"
      ],
      "text/plain": [
       "\u001b[90mDEBUG: hippo.Database.__init__()\u001b[0m\n"
      ]
     },
     "metadata": {},
     "output_type": "display_data"
    },
    {
     "data": {
      "text/html": [
       "<pre style=\"white-space:pre;overflow-x:auto;line-height:normal;font-family:Menlo,'DejaVu Sans Mono',consolas,'Courier New',monospace\"><span style=\"color: #808080; text-decoration-color: #808080\">DEBUG: Database.path = A71EV2A_4.sqlite</span>\n",
       "</pre>\n"
      ],
      "text/plain": [
       "\u001b[90mDEBUG: Database.path = A71EV2A_4.sqlite\u001b[0m\n"
      ]
     },
     "metadata": {},
     "output_type": "display_data"
    },
    {
     "data": {
      "text/html": [
       "<pre style=\"white-space:pre;overflow-x:auto;line-height:normal;font-family:Menlo,'DejaVu Sans Mono',consolas,'Courier New',monospace\"><span style=\"color: #808080; text-decoration-color: #808080\">DEBUG: hippo.Database.connect()</span>\n",
       "</pre>\n"
      ],
      "text/plain": [
       "\u001b[90mDEBUG: hippo.Database.connect()\u001b[0m\n"
      ]
     },
     "metadata": {},
     "output_type": "display_data"
    },
    {
     "data": {
      "text/html": [
       "<pre style=\"white-space:pre;overflow-x:auto;line-height:normal;font-family:Menlo,'DejaVu Sans Mono',consolas,'Courier New',monospace\"><span style=\"color: #808080; text-decoration-color: #808080\">DEBUG: sqlite3.version='2.6.0'</span>\n",
       "</pre>\n"
      ],
      "text/plain": [
       "\u001b[90mDEBUG: sqlite3.version='2.6.0'\u001b[0m\n"
      ]
     },
     "metadata": {},
     "output_type": "display_data"
    },
    {
     "data": {
      "text/html": [
       "<pre style=\"white-space:pre;overflow-x:auto;line-height:normal;font-family:Menlo,'DejaVu Sans Mono',consolas,'Courier New',monospace\"><span style=\"background-color: #008000; font-weight: bold\"> Success </span><span style=\"color: #008000; text-decoration-color: #008000; font-weight: bold\"> Database connected @</span><span style=\"color: #d7af00; text-decoration-color: #d7af00; font-weight: bold\"> A71EV2A_4.sqlite!</span>\n",
       "</pre>\n"
      ],
      "text/plain": [
       "\u001b[1;7;32m Success \u001b[0m\u001b[1;32m Database connected @\u001b[0m\u001b[1;38;5;178m A71EV2A_4.sqlite!\u001b[0m\n"
      ]
     },
     "metadata": {},
     "output_type": "display_data"
    },
    {
     "data": {
      "text/html": [
       "<pre style=\"white-space:pre;overflow-x:auto;line-height:normal;font-family:Menlo,'DejaVu Sans Mono',consolas,'Courier New',monospace\"><span style=\"background-color: #008000; font-weight: bold\"> Success </span><span style=\"color: #008000; text-decoration-color: #008000; font-weight: bold\"> Initialised animal</span><span style=\"color: #008080; text-decoration-color: #008080; font-weight: bold\"> HIPPO(\"2A_HIPPO\")!</span>\n",
       "</pre>\n"
      ],
      "text/plain": [
       "\u001b[1;7;32m Success \u001b[0m\u001b[1;32m Initialised animal\u001b[0m\u001b[1;36m HIPPO(\"2A_HIPPO\")!\u001b[0m\n"
      ]
     },
     "metadata": {},
     "output_type": "display_data"
    }
   ],
   "source": [
    "animal = hippo.HIPPO(\"2A_HIPPO\", \"A71EV2A_4.sqlite\", copy_from=\"A71EV2A_3.sqlite\")"
   ]
  },
  {
   "cell_type": "code",
   "execution_count": 23,
   "id": "b9189858-5a6b-4d27-a3e3-00dfc7541211",
   "metadata": {
    "scrolled": true
   },
   "outputs": [
    {
     "data": {
      "text/html": [
       "<pre style=\"white-space:pre;overflow-x:auto;line-height:normal;font-family:Menlo,'DejaVu Sans Mono',consolas,'Courier New',monospace\"><span style=\"background-color: #d7af00; font-weight: bold\"> DISK </span> Writing <span style=\"color: #d7af00; text-decoration-color: #d7af00\">/opt/xchem-fragalysis-2/maxwin/2A_HIPPO/hippo/A71EV2A_4_1LHJ9NK.sqlite</span>...\n",
       "</pre>\n"
      ],
      "text/plain": [
       "\u001b[1;7;38;5;178m DISK \u001b[0m Writing \u001b[38;5;178m/opt/xchem-fragalysis-2/maxwin/2A_HIPPO/hippo/A71EV2A_4_1LHJ9NK.sqlite\u001b[0m...\n"
      ]
     },
     "metadata": {},
     "output_type": "display_data"
    },
    {
     "data": {
      "application/vnd.jupyter.widget-view+json": {
       "model_id": "",
       "version_major": 2,
       "version_minor": 0
      },
      "text/plain": [
       "Output()"
      ]
     },
     "metadata": {},
     "output_type": "display_data"
    },
    {
     "data": {
      "text/html": [
       "<pre style=\"white-space:pre;overflow-x:auto;line-height:normal;font-family:Menlo,'DejaVu Sans Mono',consolas,'Courier New',monospace\"><span style=\"color: #808080; text-decoration-color: #808080\">DEBUG: Copied 10000 of 170525 pages...</span>\n",
       "</pre>\n"
      ],
      "text/plain": [
       "\u001b[90mDEBUG: Copied 10000 of 170525 pages...\u001b[0m\n"
      ]
     },
     "metadata": {},
     "output_type": "display_data"
    },
    {
     "data": {
      "text/html": [
       "<pre style=\"white-space:pre;overflow-x:auto;line-height:normal;font-family:Menlo,'DejaVu Sans Mono',consolas,'Courier New',monospace\"><span style=\"color: #808080; text-decoration-color: #808080\">DEBUG: Copied 20000 of 170525 pages...</span>\n",
       "</pre>\n"
      ],
      "text/plain": [
       "\u001b[90mDEBUG: Copied 20000 of 170525 pages...\u001b[0m\n"
      ]
     },
     "metadata": {},
     "output_type": "display_data"
    },
    {
     "data": {
      "text/html": [
       "<pre style=\"white-space:pre;overflow-x:auto;line-height:normal;font-family:Menlo,'DejaVu Sans Mono',consolas,'Courier New',monospace\"><span style=\"color: #808080; text-decoration-color: #808080\">DEBUG: Copied 30000 of 170525 pages...</span>\n",
       "</pre>\n"
      ],
      "text/plain": [
       "\u001b[90mDEBUG: Copied 30000 of 170525 pages...\u001b[0m\n"
      ]
     },
     "metadata": {},
     "output_type": "display_data"
    },
    {
     "data": {
      "text/html": [
       "<pre style=\"white-space:pre;overflow-x:auto;line-height:normal;font-family:Menlo,'DejaVu Sans Mono',consolas,'Courier New',monospace\"><span style=\"color: #808080; text-decoration-color: #808080\">DEBUG: Copied 40000 of 170525 pages...</span>\n",
       "</pre>\n"
      ],
      "text/plain": [
       "\u001b[90mDEBUG: Copied 40000 of 170525 pages...\u001b[0m\n"
      ]
     },
     "metadata": {},
     "output_type": "display_data"
    },
    {
     "data": {
      "text/html": [
       "<pre style=\"white-space:pre;overflow-x:auto;line-height:normal;font-family:Menlo,'DejaVu Sans Mono',consolas,'Courier New',monospace\"><span style=\"color: #808080; text-decoration-color: #808080\">DEBUG: Copied 50000 of 170525 pages...</span>\n",
       "</pre>\n"
      ],
      "text/plain": [
       "\u001b[90mDEBUG: Copied 50000 of 170525 pages...\u001b[0m\n"
      ]
     },
     "metadata": {},
     "output_type": "display_data"
    },
    {
     "data": {
      "text/html": [
       "<pre style=\"white-space:pre;overflow-x:auto;line-height:normal;font-family:Menlo,'DejaVu Sans Mono',consolas,'Courier New',monospace\"><span style=\"color: #808080; text-decoration-color: #808080\">DEBUG: Copied 60000 of 170525 pages...</span>\n",
       "</pre>\n"
      ],
      "text/plain": [
       "\u001b[90mDEBUG: Copied 60000 of 170525 pages...\u001b[0m\n"
      ]
     },
     "metadata": {},
     "output_type": "display_data"
    },
    {
     "data": {
      "text/html": [
       "<pre style=\"white-space:pre;overflow-x:auto;line-height:normal;font-family:Menlo,'DejaVu Sans Mono',consolas,'Courier New',monospace\"><span style=\"color: #808080; text-decoration-color: #808080\">DEBUG: Copied 70000 of 170525 pages...</span>\n",
       "</pre>\n"
      ],
      "text/plain": [
       "\u001b[90mDEBUG: Copied 70000 of 170525 pages...\u001b[0m\n"
      ]
     },
     "metadata": {},
     "output_type": "display_data"
    },
    {
     "data": {
      "text/html": [
       "<pre style=\"white-space:pre;overflow-x:auto;line-height:normal;font-family:Menlo,'DejaVu Sans Mono',consolas,'Courier New',monospace\"><span style=\"color: #808080; text-decoration-color: #808080\">DEBUG: Copied 80000 of 170525 pages...</span>\n",
       "</pre>\n"
      ],
      "text/plain": [
       "\u001b[90mDEBUG: Copied 80000 of 170525 pages...\u001b[0m\n"
      ]
     },
     "metadata": {},
     "output_type": "display_data"
    },
    {
     "data": {
      "text/html": [
       "<pre style=\"white-space:pre;overflow-x:auto;line-height:normal;font-family:Menlo,'DejaVu Sans Mono',consolas,'Courier New',monospace\"><span style=\"color: #808080; text-decoration-color: #808080\">DEBUG: Copied 90000 of 170525 pages...</span>\n",
       "</pre>\n"
      ],
      "text/plain": [
       "\u001b[90mDEBUG: Copied 90000 of 170525 pages...\u001b[0m\n"
      ]
     },
     "metadata": {},
     "output_type": "display_data"
    },
    {
     "data": {
      "text/html": [
       "<pre style=\"white-space:pre;overflow-x:auto;line-height:normal;font-family:Menlo,'DejaVu Sans Mono',consolas,'Courier New',monospace\"><span style=\"color: #808080; text-decoration-color: #808080\">DEBUG: Copied 100000 of 170525 pages...</span>\n",
       "</pre>\n"
      ],
      "text/plain": [
       "\u001b[90mDEBUG: Copied 100000 of 170525 pages...\u001b[0m\n"
      ]
     },
     "metadata": {},
     "output_type": "display_data"
    },
    {
     "data": {
      "text/html": [
       "<pre style=\"white-space:pre;overflow-x:auto;line-height:normal;font-family:Menlo,'DejaVu Sans Mono',consolas,'Courier New',monospace\"><span style=\"color: #808080; text-decoration-color: #808080\">DEBUG: Copied 110000 of 170525 pages...</span>\n",
       "</pre>\n"
      ],
      "text/plain": [
       "\u001b[90mDEBUG: Copied 110000 of 170525 pages...\u001b[0m\n"
      ]
     },
     "metadata": {},
     "output_type": "display_data"
    },
    {
     "data": {
      "text/html": [
       "<pre style=\"white-space:pre;overflow-x:auto;line-height:normal;font-family:Menlo,'DejaVu Sans Mono',consolas,'Courier New',monospace\"><span style=\"color: #808080; text-decoration-color: #808080\">DEBUG: Copied 120000 of 170525 pages...</span>\n",
       "</pre>\n"
      ],
      "text/plain": [
       "\u001b[90mDEBUG: Copied 120000 of 170525 pages...\u001b[0m\n"
      ]
     },
     "metadata": {},
     "output_type": "display_data"
    },
    {
     "data": {
      "text/html": [
       "<pre style=\"white-space:pre;overflow-x:auto;line-height:normal;font-family:Menlo,'DejaVu Sans Mono',consolas,'Courier New',monospace\"><span style=\"color: #808080; text-decoration-color: #808080\">DEBUG: Copied 130000 of 170525 pages...</span>\n",
       "</pre>\n"
      ],
      "text/plain": [
       "\u001b[90mDEBUG: Copied 130000 of 170525 pages...\u001b[0m\n"
      ]
     },
     "metadata": {},
     "output_type": "display_data"
    },
    {
     "data": {
      "text/html": [
       "<pre style=\"white-space:pre;overflow-x:auto;line-height:normal;font-family:Menlo,'DejaVu Sans Mono',consolas,'Courier New',monospace\"><span style=\"color: #808080; text-decoration-color: #808080\">DEBUG: Copied 140000 of 170525 pages...</span>\n",
       "</pre>\n"
      ],
      "text/plain": [
       "\u001b[90mDEBUG: Copied 140000 of 170525 pages...\u001b[0m\n"
      ]
     },
     "metadata": {},
     "output_type": "display_data"
    },
    {
     "data": {
      "text/html": [
       "<pre style=\"white-space:pre;overflow-x:auto;line-height:normal;font-family:Menlo,'DejaVu Sans Mono',consolas,'Courier New',monospace\"><span style=\"color: #808080; text-decoration-color: #808080\">DEBUG: Copied 150000 of 170525 pages...</span>\n",
       "</pre>\n"
      ],
      "text/plain": [
       "\u001b[90mDEBUG: Copied 150000 of 170525 pages...\u001b[0m\n"
      ]
     },
     "metadata": {},
     "output_type": "display_data"
    },
    {
     "data": {
      "text/html": [
       "<pre style=\"white-space:pre;overflow-x:auto;line-height:normal;font-family:Menlo,'DejaVu Sans Mono',consolas,'Courier New',monospace\"><span style=\"color: #808080; text-decoration-color: #808080\">DEBUG: Copied 160000 of 170525 pages...</span>\n",
       "</pre>\n"
      ],
      "text/plain": [
       "\u001b[90mDEBUG: Copied 160000 of 170525 pages...\u001b[0m\n"
      ]
     },
     "metadata": {},
     "output_type": "display_data"
    },
    {
     "data": {
      "text/html": [
       "<pre style=\"white-space:pre;overflow-x:auto;line-height:normal;font-family:Menlo,'DejaVu Sans Mono',consolas,'Courier New',monospace\"><span style=\"color: #808080; text-decoration-color: #808080\">DEBUG: Copied 170000 of 170525 pages...</span>\n",
       "</pre>\n"
      ],
      "text/plain": [
       "\u001b[90mDEBUG: Copied 170000 of 170525 pages...\u001b[0m\n"
      ]
     },
     "metadata": {},
     "output_type": "display_data"
    },
    {
     "data": {
      "text/html": [
       "<pre style=\"white-space:pre;overflow-x:auto;line-height:normal;font-family:Menlo,'DejaVu Sans Mono',consolas,'Courier New',monospace\"><span style=\"color: #808080; text-decoration-color: #808080\">DEBUG: Copied 170525 of 170525 pages...</span>\n",
       "</pre>\n"
      ],
      "text/plain": [
       "\u001b[90mDEBUG: Copied 170525 of 170525 pages...\u001b[0m\n"
      ]
     },
     "metadata": {},
     "output_type": "display_data"
    },
    {
     "data": {
      "text/html": [
       "<pre style=\"white-space:pre;overflow-x:auto;line-height:normal;font-family:Menlo,'DejaVu Sans Mono',consolas,'Courier New',monospace\"></pre>\n"
      ],
      "text/plain": []
     },
     "metadata": {},
     "output_type": "display_data"
    }
   ],
   "source": [
    "animal.db.backup()"
   ]
  },
  {
   "cell_type": "markdown",
   "id": "35b71e06-0c74-4031-bd7c-f4c85980a835",
   "metadata": {},
   "source": [
    "## Check elabs"
   ]
  },
  {
   "cell_type": "code",
   "execution_count": 6,
   "id": "7e204eae-b7bb-4c61-b7d3-dbd191471347",
   "metadata": {},
   "outputs": [
    {
     "data": {
      "application/vnd.plotly.v1+json": {
       "config": {
        "plotlyServerURL": "https://plot.ly"
       },
       "data": [
        {
         "hovertemplate": "category=%{x}<br>number=%{y}<extra></extra>",
         "legendgroup": "",
         "marker": {
          "color": "#636efa"
         },
         "name": "",
         "orientation": "v",
         "showlegend": false,
         "type": "funnel",
         "x": [
          "Reactants",
          "Intermediates",
          "Products"
         ],
         "xaxis": "x",
         "y": [
          5681,
          5411,
          110970
         ],
         "yaxis": "y"
        }
       ],
       "layout": {
        "autosize": true,
        "legend": {
         "tracegroupgap": 0
        },
        "margin": {
         "t": 60
        },
        "template": {
         "data": {
          "bar": [
           {
            "error_x": {
             "color": "#2a3f5f"
            },
            "error_y": {
             "color": "#2a3f5f"
            },
            "marker": {
             "line": {
              "color": "#E5ECF6",
              "width": 0.5
             },
             "pattern": {
              "fillmode": "overlay",
              "size": 10,
              "solidity": 0.2
             }
            },
            "type": "bar"
           }
          ],
          "barpolar": [
           {
            "marker": {
             "line": {
              "color": "#E5ECF6",
              "width": 0.5
             },
             "pattern": {
              "fillmode": "overlay",
              "size": 10,
              "solidity": 0.2
             }
            },
            "type": "barpolar"
           }
          ],
          "carpet": [
           {
            "aaxis": {
             "endlinecolor": "#2a3f5f",
             "gridcolor": "white",
             "linecolor": "white",
             "minorgridcolor": "white",
             "startlinecolor": "#2a3f5f"
            },
            "baxis": {
             "endlinecolor": "#2a3f5f",
             "gridcolor": "white",
             "linecolor": "white",
             "minorgridcolor": "white",
             "startlinecolor": "#2a3f5f"
            },
            "type": "carpet"
           }
          ],
          "choropleth": [
           {
            "colorbar": {
             "outlinewidth": 0,
             "ticks": ""
            },
            "type": "choropleth"
           }
          ],
          "contour": [
           {
            "colorbar": {
             "outlinewidth": 0,
             "ticks": ""
            },
            "colorscale": [
             [
              0,
              "#0d0887"
             ],
             [
              0.1111111111111111,
              "#46039f"
             ],
             [
              0.2222222222222222,
              "#7201a8"
             ],
             [
              0.3333333333333333,
              "#9c179e"
             ],
             [
              0.4444444444444444,
              "#bd3786"
             ],
             [
              0.5555555555555556,
              "#d8576b"
             ],
             [
              0.6666666666666666,
              "#ed7953"
             ],
             [
              0.7777777777777778,
              "#fb9f3a"
             ],
             [
              0.8888888888888888,
              "#fdca26"
             ],
             [
              1,
              "#f0f921"
             ]
            ],
            "type": "contour"
           }
          ],
          "contourcarpet": [
           {
            "colorbar": {
             "outlinewidth": 0,
             "ticks": ""
            },
            "type": "contourcarpet"
           }
          ],
          "heatmap": [
           {
            "colorbar": {
             "outlinewidth": 0,
             "ticks": ""
            },
            "colorscale": [
             [
              0,
              "#0d0887"
             ],
             [
              0.1111111111111111,
              "#46039f"
             ],
             [
              0.2222222222222222,
              "#7201a8"
             ],
             [
              0.3333333333333333,
              "#9c179e"
             ],
             [
              0.4444444444444444,
              "#bd3786"
             ],
             [
              0.5555555555555556,
              "#d8576b"
             ],
             [
              0.6666666666666666,
              "#ed7953"
             ],
             [
              0.7777777777777778,
              "#fb9f3a"
             ],
             [
              0.8888888888888888,
              "#fdca26"
             ],
             [
              1,
              "#f0f921"
             ]
            ],
            "type": "heatmap"
           }
          ],
          "heatmapgl": [
           {
            "colorbar": {
             "outlinewidth": 0,
             "ticks": ""
            },
            "colorscale": [
             [
              0,
              "#0d0887"
             ],
             [
              0.1111111111111111,
              "#46039f"
             ],
             [
              0.2222222222222222,
              "#7201a8"
             ],
             [
              0.3333333333333333,
              "#9c179e"
             ],
             [
              0.4444444444444444,
              "#bd3786"
             ],
             [
              0.5555555555555556,
              "#d8576b"
             ],
             [
              0.6666666666666666,
              "#ed7953"
             ],
             [
              0.7777777777777778,
              "#fb9f3a"
             ],
             [
              0.8888888888888888,
              "#fdca26"
             ],
             [
              1,
              "#f0f921"
             ]
            ],
            "type": "heatmapgl"
           }
          ],
          "histogram": [
           {
            "marker": {
             "pattern": {
              "fillmode": "overlay",
              "size": 10,
              "solidity": 0.2
             }
            },
            "type": "histogram"
           }
          ],
          "histogram2d": [
           {
            "colorbar": {
             "outlinewidth": 0,
             "ticks": ""
            },
            "colorscale": [
             [
              0,
              "#0d0887"
             ],
             [
              0.1111111111111111,
              "#46039f"
             ],
             [
              0.2222222222222222,
              "#7201a8"
             ],
             [
              0.3333333333333333,
              "#9c179e"
             ],
             [
              0.4444444444444444,
              "#bd3786"
             ],
             [
              0.5555555555555556,
              "#d8576b"
             ],
             [
              0.6666666666666666,
              "#ed7953"
             ],
             [
              0.7777777777777778,
              "#fb9f3a"
             ],
             [
              0.8888888888888888,
              "#fdca26"
             ],
             [
              1,
              "#f0f921"
             ]
            ],
            "type": "histogram2d"
           }
          ],
          "histogram2dcontour": [
           {
            "colorbar": {
             "outlinewidth": 0,
             "ticks": ""
            },
            "colorscale": [
             [
              0,
              "#0d0887"
             ],
             [
              0.1111111111111111,
              "#46039f"
             ],
             [
              0.2222222222222222,
              "#7201a8"
             ],
             [
              0.3333333333333333,
              "#9c179e"
             ],
             [
              0.4444444444444444,
              "#bd3786"
             ],
             [
              0.5555555555555556,
              "#d8576b"
             ],
             [
              0.6666666666666666,
              "#ed7953"
             ],
             [
              0.7777777777777778,
              "#fb9f3a"
             ],
             [
              0.8888888888888888,
              "#fdca26"
             ],
             [
              1,
              "#f0f921"
             ]
            ],
            "type": "histogram2dcontour"
           }
          ],
          "mesh3d": [
           {
            "colorbar": {
             "outlinewidth": 0,
             "ticks": ""
            },
            "type": "mesh3d"
           }
          ],
          "parcoords": [
           {
            "line": {
             "colorbar": {
              "outlinewidth": 0,
              "ticks": ""
             }
            },
            "type": "parcoords"
           }
          ],
          "pie": [
           {
            "automargin": true,
            "type": "pie"
           }
          ],
          "scatter": [
           {
            "fillpattern": {
             "fillmode": "overlay",
             "size": 10,
             "solidity": 0.2
            },
            "type": "scatter"
           }
          ],
          "scatter3d": [
           {
            "line": {
             "colorbar": {
              "outlinewidth": 0,
              "ticks": ""
             }
            },
            "marker": {
             "colorbar": {
              "outlinewidth": 0,
              "ticks": ""
             }
            },
            "type": "scatter3d"
           }
          ],
          "scattercarpet": [
           {
            "marker": {
             "colorbar": {
              "outlinewidth": 0,
              "ticks": ""
             }
            },
            "type": "scattercarpet"
           }
          ],
          "scattergeo": [
           {
            "marker": {
             "colorbar": {
              "outlinewidth": 0,
              "ticks": ""
             }
            },
            "type": "scattergeo"
           }
          ],
          "scattergl": [
           {
            "marker": {
             "colorbar": {
              "outlinewidth": 0,
              "ticks": ""
             }
            },
            "type": "scattergl"
           }
          ],
          "scattermapbox": [
           {
            "marker": {
             "colorbar": {
              "outlinewidth": 0,
              "ticks": ""
             }
            },
            "type": "scattermapbox"
           }
          ],
          "scatterpolar": [
           {
            "marker": {
             "colorbar": {
              "outlinewidth": 0,
              "ticks": ""
             }
            },
            "type": "scatterpolar"
           }
          ],
          "scatterpolargl": [
           {
            "marker": {
             "colorbar": {
              "outlinewidth": 0,
              "ticks": ""
             }
            },
            "type": "scatterpolargl"
           }
          ],
          "scatterternary": [
           {
            "marker": {
             "colorbar": {
              "outlinewidth": 0,
              "ticks": ""
             }
            },
            "type": "scatterternary"
           }
          ],
          "surface": [
           {
            "colorbar": {
             "outlinewidth": 0,
             "ticks": ""
            },
            "colorscale": [
             [
              0,
              "#0d0887"
             ],
             [
              0.1111111111111111,
              "#46039f"
             ],
             [
              0.2222222222222222,
              "#7201a8"
             ],
             [
              0.3333333333333333,
              "#9c179e"
             ],
             [
              0.4444444444444444,
              "#bd3786"
             ],
             [
              0.5555555555555556,
              "#d8576b"
             ],
             [
              0.6666666666666666,
              "#ed7953"
             ],
             [
              0.7777777777777778,
              "#fb9f3a"
             ],
             [
              0.8888888888888888,
              "#fdca26"
             ],
             [
              1,
              "#f0f921"
             ]
            ],
            "type": "surface"
           }
          ],
          "table": [
           {
            "cells": {
             "fill": {
              "color": "#EBF0F8"
             },
             "line": {
              "color": "white"
             }
            },
            "header": {
             "fill": {
              "color": "#C8D4E3"
             },
             "line": {
              "color": "white"
             }
            },
            "type": "table"
           }
          ]
         },
         "layout": {
          "annotationdefaults": {
           "arrowcolor": "#2a3f5f",
           "arrowhead": 0,
           "arrowwidth": 1
          },
          "autotypenumbers": "strict",
          "coloraxis": {
           "colorbar": {
            "outlinewidth": 0,
            "ticks": ""
           }
          },
          "colorscale": {
           "diverging": [
            [
             0,
             "#8e0152"
            ],
            [
             0.1,
             "#c51b7d"
            ],
            [
             0.2,
             "#de77ae"
            ],
            [
             0.3,
             "#f1b6da"
            ],
            [
             0.4,
             "#fde0ef"
            ],
            [
             0.5,
             "#f7f7f7"
            ],
            [
             0.6,
             "#e6f5d0"
            ],
            [
             0.7,
             "#b8e186"
            ],
            [
             0.8,
             "#7fbc41"
            ],
            [
             0.9,
             "#4d9221"
            ],
            [
             1,
             "#276419"
            ]
           ],
           "sequential": [
            [
             0,
             "#0d0887"
            ],
            [
             0.1111111111111111,
             "#46039f"
            ],
            [
             0.2222222222222222,
             "#7201a8"
            ],
            [
             0.3333333333333333,
             "#9c179e"
            ],
            [
             0.4444444444444444,
             "#bd3786"
            ],
            [
             0.5555555555555556,
             "#d8576b"
            ],
            [
             0.6666666666666666,
             "#ed7953"
            ],
            [
             0.7777777777777778,
             "#fb9f3a"
            ],
            [
             0.8888888888888888,
             "#fdca26"
            ],
            [
             1,
             "#f0f921"
            ]
           ],
           "sequentialminus": [
            [
             0,
             "#0d0887"
            ],
            [
             0.1111111111111111,
             "#46039f"
            ],
            [
             0.2222222222222222,
             "#7201a8"
            ],
            [
             0.3333333333333333,
             "#9c179e"
            ],
            [
             0.4444444444444444,
             "#bd3786"
            ],
            [
             0.5555555555555556,
             "#d8576b"
            ],
            [
             0.6666666666666666,
             "#ed7953"
            ],
            [
             0.7777777777777778,
             "#fb9f3a"
            ],
            [
             0.8888888888888888,
             "#fdca26"
            ],
            [
             1,
             "#f0f921"
            ]
           ]
          },
          "colorway": [
           "#636efa",
           "#EF553B",
           "#00cc96",
           "#ab63fa",
           "#FFA15A",
           "#19d3f3",
           "#FF6692",
           "#B6E880",
           "#FF97FF",
           "#FECB52"
          ],
          "font": {
           "color": "#2a3f5f"
          },
          "geo": {
           "bgcolor": "white",
           "lakecolor": "white",
           "landcolor": "#E5ECF6",
           "showlakes": true,
           "showland": true,
           "subunitcolor": "white"
          },
          "hoverlabel": {
           "align": "left"
          },
          "hovermode": "closest",
          "mapbox": {
           "style": "light"
          },
          "paper_bgcolor": "white",
          "plot_bgcolor": "#E5ECF6",
          "polar": {
           "angularaxis": {
            "gridcolor": "white",
            "linecolor": "white",
            "ticks": ""
           },
           "bgcolor": "#E5ECF6",
           "radialaxis": {
            "gridcolor": "white",
            "linecolor": "white",
            "ticks": ""
           }
          },
          "scene": {
           "xaxis": {
            "backgroundcolor": "#E5ECF6",
            "gridcolor": "white",
            "gridwidth": 2,
            "linecolor": "white",
            "showbackground": true,
            "ticks": "",
            "zerolinecolor": "white"
           },
           "yaxis": {
            "backgroundcolor": "#E5ECF6",
            "gridcolor": "white",
            "gridwidth": 2,
            "linecolor": "white",
            "showbackground": true,
            "ticks": "",
            "zerolinecolor": "white"
           },
           "zaxis": {
            "backgroundcolor": "#E5ECF6",
            "gridcolor": "white",
            "gridwidth": 2,
            "linecolor": "white",
            "showbackground": true,
            "ticks": "",
            "zerolinecolor": "white"
           }
          },
          "shapedefaults": {
           "line": {
            "color": "#2a3f5f"
           }
          },
          "ternary": {
           "aaxis": {
            "gridcolor": "white",
            "linecolor": "white",
            "ticks": ""
           },
           "baxis": {
            "gridcolor": "white",
            "linecolor": "white",
            "ticks": ""
           },
           "bgcolor": "#E5ECF6",
           "caxis": {
            "gridcolor": "white",
            "linecolor": "white",
            "ticks": ""
           }
          },
          "title": {
           "x": 0.05
          },
          "xaxis": {
           "automargin": true,
           "gridcolor": "white",
           "linecolor": "white",
           "ticks": "",
           "title": {
            "standoff": 15
           },
           "zerolinecolor": "white",
           "zerolinewidth": 2
          },
          "yaxis": {
           "automargin": true,
           "gridcolor": "white",
           "linecolor": "white",
           "ticks": "",
           "title": {
            "standoff": 15
           },
           "zerolinecolor": "white",
           "zerolinewidth": 2
          }
         }
        },
        "title": {
         "automargin": false,
         "text": "<b>2A_HIPPO</b>: Reaction statistics",
         "yref": "container"
        },
        "xaxis": {
         "anchor": "y",
         "autorange": true,
         "domain": [
          0,
          1
         ],
         "range": [
          -0.5,
          2.5
         ],
         "title": {
          "text": "category"
         },
         "type": "category"
        },
        "yaxis": {
         "anchor": "x",
         "autorange": true,
         "domain": [
          0,
          1
         ],
         "range": [
          -61650,
          61650
         ],
         "title": {
          "text": "number"
         },
         "type": "linear"
        }
       }
      },
      "image/png": "[encoded data removed]",
      "text/html": [
       "<div>                            <div id=\"9bc07b4e-ca6c-499b-a4a3-ab26e24659cd\" class=\"plotly-graph-div\" style=\"height:525px; width:100%;\"></div>            <script type=\"text/javascript\">                require([\"plotly\"], function(Plotly) {                    window.PLOTLYENV=window.PLOTLYENV || {};                                    if (document.getElementById(\"9bc07b4e-ca6c-499b-a4a3-ab26e24659cd\")) {                    Plotly.newPlot(                        \"9bc07b4e-ca6c-499b-a4a3-ab26e24659cd\",                        [{\"hovertemplate\":\"category=%{x}\\u003cbr\\u003enumber=%{y}\\u003cextra\\u003e\\u003c\\u002fextra\\u003e\",\"legendgroup\":\"\",\"marker\":{\"color\":\"#636efa\"},\"name\":\"\",\"orientation\":\"v\",\"showlegend\":false,\"x\":[\"Reactants\",\"Intermediates\",\"Products\"],\"xaxis\":\"x\",\"y\":[5681,5411,110970],\"yaxis\":\"y\",\"type\":\"funnel\"}],                        {\"template\":{\"data\":{\"histogram2dcontour\":[{\"type\":\"histogram2dcontour\",\"colorbar\":{\"outlinewidth\":0,\"ticks\":\"\"},\"colorscale\":[[0.0,\"#0d0887\"],[0.1111111111111111,\"#46039f\"],[0.2222222222222222,\"#7201a8\"],[0.3333333333333333,\"#9c179e\"],[0.4444444444444444,\"#bd3786\"],[0.5555555555555556,\"#d8576b\"],[0.6666666666666666,\"#ed7953\"],[0.7777777777777778,\"#fb9f3a\"],[0.8888888888888888,\"#fdca26\"],[1.0,\"#f0f921\"]]}],\"choropleth\":[{\"type\":\"choropleth\",\"colorbar\":{\"outlinewidth\":0,\"ticks\":\"\"}}],\"histogram2d\":[{\"type\":\"histogram2d\",\"colorbar\":{\"outlinewidth\":0,\"ticks\":\"\"},\"colorscale\":[[0.0,\"#0d0887\"],[0.1111111111111111,\"#46039f\"],[0.2222222222222222,\"#7201a8\"],[0.3333333333333333,\"#9c179e\"],[0.4444444444444444,\"#bd3786\"],[0.5555555555555556,\"#d8576b\"],[0.6666666666666666,\"#ed7953\"],[0.7777777777777778,\"#fb9f3a\"],[0.8888888888888888,\"#fdca26\"],[1.0,\"#f0f921\"]]}],\"heatmap\":[{\"type\":\"heatmap\",\"colorbar\":{\"outlinewidth\":0,\"ticks\":\"\"},\"colorscale\":[[0.0,\"#0d0887\"],[0.1111111111111111,\"#46039f\"],[0.2222222222222222,\"#7201a8\"],[0.3333333333333333,\"#9c179e\"],[0.4444444444444444,\"#bd3786\"],[0.5555555555555556,\"#d8576b\"],[0.6666666666666666,\"#ed7953\"],[0.7777777777777778,\"#fb9f3a\"],[0.8888888888888888,\"#fdca26\"],[1.0,\"#f0f921\"]]}],\"heatmapgl\":[{\"type\":\"heatmapgl\",\"colorbar\":{\"outlinewidth\":0,\"ticks\":\"\"},\"colorscale\":[[0.0,\"#0d0887\"],[0.1111111111111111,\"#46039f\"],[0.2222222222222222,\"#7201a8\"],[0.3333333333333333,\"#9c179e\"],[0.4444444444444444,\"#bd3786\"],[0.5555555555555556,\"#d8576b\"],[0.6666666666666666,\"#ed7953\"],[0.7777777777777778,\"#fb9f3a\"],[0.8888888888888888,\"#fdca26\"],[1.0,\"#f0f921\"]]}],\"contourcarpet\":[{\"type\":\"contourcarpet\",\"colorbar\":{\"outlinewidth\":0,\"ticks\":\"\"}}],\"contour\":[{\"type\":\"contour\",\"colorbar\":{\"outlinewidth\":0,\"ticks\":\"\"},\"colorscale\":[[0.0,\"#0d0887\"],[0.1111111111111111,\"#46039f\"],[0.2222222222222222,\"#7201a8\"],[0.3333333333333333,\"#9c179e\"],[0.4444444444444444,\"#bd3786\"],[0.5555555555555556,\"#d8576b\"],[0.6666666666666666,\"#ed7953\"],[0.7777777777777778,\"#fb9f3a\"],[0.8888888888888888,\"#fdca26\"],[1.0,\"#f0f921\"]]}],\"surface\":[{\"type\":\"surface\",\"colorbar\":{\"outlinewidth\":0,\"ticks\":\"\"},\"colorscale\":[[0.0,\"#0d0887\"],[0.1111111111111111,\"#46039f\"],[0.2222222222222222,\"#7201a8\"],[0.3333333333333333,\"#9c179e\"],[0.4444444444444444,\"#bd3786\"],[0.5555555555555556,\"#d8576b\"],[0.6666666666666666,\"#ed7953\"],[0.7777777777777778,\"#fb9f3a\"],[0.8888888888888888,\"#fdca26\"],[1.0,\"#f0f921\"]]}],\"mesh3d\":[{\"type\":\"mesh3d\",\"colorbar\":{\"outlinewidth\":0,\"ticks\":\"\"}}],\"scatter\":[{\"fillpattern\":{\"fillmode\":\"overlay\",\"size\":10,\"solidity\":0.2},\"type\":\"scatter\"}],\"parcoords\":[{\"type\":\"parcoords\",\"line\":{\"colorbar\":{\"outlinewidth\":0,\"ticks\":\"\"}}}],\"scatterpolargl\":[{\"type\":\"scatterpolargl\",\"marker\":{\"colorbar\":{\"outlinewidth\":0,\"ticks\":\"\"}}}],\"bar\":[{\"error_x\":{\"color\":\"#2a3f5f\"},\"error_y\":{\"color\":\"#2a3f5f\"},\"marker\":{\"line\":{\"color\":\"#E5ECF6\",\"width\":0.5},\"pattern\":{\"fillmode\":\"overlay\",\"size\":10,\"solidity\":0.2}},\"type\":\"bar\"}],\"scattergeo\":[{\"type\":\"scattergeo\",\"marker\":{\"colorbar\":{\"outlinewidth\":0,\"ticks\":\"\"}}}],\"scatterpolar\":[{\"type\":\"scatterpolar\",\"marker\":{\"colorbar\":{\"outlinewidth\":0,\"ticks\":\"\"}}}],\"histogram\":[{\"marker\":{\"pattern\":{\"fillmode\":\"overlay\",\"size\":10,\"solidity\":0.2}},\"type\":\"histogram\"}],\"scattergl\":[{\"type\":\"scattergl\",\"marker\":{\"colorbar\":{\"outlinewidth\":0,\"ticks\":\"\"}}}],\"scatter3d\":[{\"type\":\"scatter3d\",\"line\":{\"colorbar\":{\"outlinewidth\":0,\"ticks\":\"\"}},\"marker\":{\"colorbar\":{\"outlinewidth\":0,\"ticks\":\"\"}}}],\"scattermapbox\":[{\"type\":\"scattermapbox\",\"marker\":{\"colorbar\":{\"outlinewidth\":0,\"ticks\":\"\"}}}],\"scatterternary\":[{\"type\":\"scatterternary\",\"marker\":{\"colorbar\":{\"outlinewidth\":0,\"ticks\":\"\"}}}],\"scattercarpet\":[{\"type\":\"scattercarpet\",\"marker\":{\"colorbar\":{\"outlinewidth\":0,\"ticks\":\"\"}}}],\"carpet\":[{\"aaxis\":{\"endlinecolor\":\"#2a3f5f\",\"gridcolor\":\"white\",\"linecolor\":\"white\",\"minorgridcolor\":\"white\",\"startlinecolor\":\"#2a3f5f\"},\"baxis\":{\"endlinecolor\":\"#2a3f5f\",\"gridcolor\":\"white\",\"linecolor\":\"white\",\"minorgridcolor\":\"white\",\"startlinecolor\":\"#2a3f5f\"},\"type\":\"carpet\"}],\"table\":[{\"cells\":{\"fill\":{\"color\":\"#EBF0F8\"},\"line\":{\"color\":\"white\"}},\"header\":{\"fill\":{\"color\":\"#C8D4E3\"},\"line\":{\"color\":\"white\"}},\"type\":\"table\"}],\"barpolar\":[{\"marker\":{\"line\":{\"color\":\"#E5ECF6\",\"width\":0.5},\"pattern\":{\"fillmode\":\"overlay\",\"size\":10,\"solidity\":0.2}},\"type\":\"barpolar\"}],\"pie\":[{\"automargin\":true,\"type\":\"pie\"}]},\"layout\":{\"autotypenumbers\":\"strict\",\"colorway\":[\"#636efa\",\"#EF553B\",\"#00cc96\",\"#ab63fa\",\"#FFA15A\",\"#19d3f3\",\"#FF6692\",\"#B6E880\",\"#FF97FF\",\"#FECB52\"],\"font\":{\"color\":\"#2a3f5f\"},\"hovermode\":\"closest\",\"hoverlabel\":{\"align\":\"left\"},\"paper_bgcolor\":\"white\",\"plot_bgcolor\":\"#E5ECF6\",\"polar\":{\"bgcolor\":\"#E5ECF6\",\"angularaxis\":{\"gridcolor\":\"white\",\"linecolor\":\"white\",\"ticks\":\"\"},\"radialaxis\":{\"gridcolor\":\"white\",\"linecolor\":\"white\",\"ticks\":\"\"}},\"ternary\":{\"bgcolor\":\"#E5ECF6\",\"aaxis\":{\"gridcolor\":\"white\",\"linecolor\":\"white\",\"ticks\":\"\"},\"baxis\":{\"gridcolor\":\"white\",\"linecolor\":\"white\",\"ticks\":\"\"},\"caxis\":{\"gridcolor\":\"white\",\"linecolor\":\"white\",\"ticks\":\"\"}},\"coloraxis\":{\"colorbar\":{\"outlinewidth\":0,\"ticks\":\"\"}},\"colorscale\":{\"sequential\":[[0.0,\"#0d0887\"],[0.1111111111111111,\"#46039f\"],[0.2222222222222222,\"#7201a8\"],[0.3333333333333333,\"#9c179e\"],[0.4444444444444444,\"#bd3786\"],[0.5555555555555556,\"#d8576b\"],[0.6666666666666666,\"#ed7953\"],[0.7777777777777778,\"#fb9f3a\"],[0.8888888888888888,\"#fdca26\"],[1.0,\"#f0f921\"]],\"sequentialminus\":[[0.0,\"#0d0887\"],[0.1111111111111111,\"#46039f\"],[0.2222222222222222,\"#7201a8\"],[0.3333333333333333,\"#9c179e\"],[0.4444444444444444,\"#bd3786\"],[0.5555555555555556,\"#d8576b\"],[0.6666666666666666,\"#ed7953\"],[0.7777777777777778,\"#fb9f3a\"],[0.8888888888888888,\"#fdca26\"],[1.0,\"#f0f921\"]],\"diverging\":[[0,\"#8e0152\"],[0.1,\"#c51b7d\"],[0.2,\"#de77ae\"],[0.3,\"#f1b6da\"],[0.4,\"#fde0ef\"],[0.5,\"#f7f7f7\"],[0.6,\"#e6f5d0\"],[0.7,\"#b8e186\"],[0.8,\"#7fbc41\"],[0.9,\"#4d9221\"],[1,\"#276419\"]]},\"xaxis\":{\"gridcolor\":\"white\",\"linecolor\":\"white\",\"ticks\":\"\",\"title\":{\"standoff\":15},\"zerolinecolor\":\"white\",\"automargin\":true,\"zerolinewidth\":2},\"yaxis\":{\"gridcolor\":\"white\",\"linecolor\":\"white\",\"ticks\":\"\",\"title\":{\"standoff\":15},\"zerolinecolor\":\"white\",\"automargin\":true,\"zerolinewidth\":2},\"scene\":{\"xaxis\":{\"backgroundcolor\":\"#E5ECF6\",\"gridcolor\":\"white\",\"linecolor\":\"white\",\"showbackground\":true,\"ticks\":\"\",\"zerolinecolor\":\"white\",\"gridwidth\":2},\"yaxis\":{\"backgroundcolor\":\"#E5ECF6\",\"gridcolor\":\"white\",\"linecolor\":\"white\",\"showbackground\":true,\"ticks\":\"\",\"zerolinecolor\":\"white\",\"gridwidth\":2},\"zaxis\":{\"backgroundcolor\":\"#E5ECF6\",\"gridcolor\":\"white\",\"linecolor\":\"white\",\"showbackground\":true,\"ticks\":\"\",\"zerolinecolor\":\"white\",\"gridwidth\":2}},\"shapedefaults\":{\"line\":{\"color\":\"#2a3f5f\"}},\"annotationdefaults\":{\"arrowcolor\":\"#2a3f5f\",\"arrowhead\":0,\"arrowwidth\":1},\"geo\":{\"bgcolor\":\"white\",\"landcolor\":\"#E5ECF6\",\"subunitcolor\":\"white\",\"showland\":true,\"showlakes\":true,\"lakecolor\":\"white\"},\"title\":{\"x\":0.05},\"mapbox\":{\"style\":\"light\"}}},\"xaxis\":{\"anchor\":\"y\",\"domain\":[0.0,1.0],\"title\":{\"text\":\"category\"}},\"yaxis\":{\"anchor\":\"x\",\"domain\":[0.0,1.0],\"title\":{\"text\":\"number\"}},\"legend\":{\"tracegroupgap\":0},\"margin\":{\"t\":60},\"title\":{\"text\":\"\\u003cb\\u003e2A_HIPPO\\u003c\\u002fb\\u003e: Reaction statistics\",\"automargin\":false,\"yref\":\"container\"}},                        {\"responsive\": true}                    ).then(function(){\n",
       "                            \n",
       "var gd = document.getElementById('9bc07b4e-ca6c-499b-a4a3-ab26e24659cd');\n",
       "var x = new MutationObserver(function (mutations, observer) {{\n",
       "        var display = window.getComputedStyle(gd).display;\n",
       "        if (!display || display === 'none') {{\n",
       "            console.log([gd, 'removed!']);\n",
       "            Plotly.purge(gd);\n",
       "            observer.disconnect();\n",
       "        }}\n",
       "}});\n",
       "\n",
       "// Listen for the removal of the full notebook cells\n",
       "var notebookContainer = gd.closest('#notebook-container');\n",
       "if (notebookContainer) {{\n",
       "    x.observe(notebookContainer, {childList: true});\n",
       "}}\n",
       "\n",
       "// Listen for the clearing of the current output cell\n",
       "var outputEl = gd.closest('.output');\n",
       "if (outputEl) {{\n",
       "    x.observe(outputEl, {childList: true});\n",
       "}}\n",
       "\n",
       "                        })                };                });            </script>        </div>"
      ]
     },
     "metadata": {},
     "output_type": "display_data"
    }
   ],
   "source": [
    "animal.plot_reaction_funnel(logo=False)"
   ]
  },
  {
   "cell_type": "markdown",
   "id": "9c2ab8fc-a618-4fee-a8c0-5b78a4009533",
   "metadata": {},
   "source": [
    "## Quote compounds"
   ]
  },
  {
   "cell_type": "code",
   "execution_count": 8,
   "id": "33cd4977-9cad-4eda-b7f6-acdbffd4d28d",
   "metadata": {},
   "outputs": [
    {
     "data": {
      "text/plain": [
       "\u001b[1m\u001b[4mall reactants: {C × 5681}\u001b[22m\u001b[24m"
      ]
     },
     "execution_count": 8,
     "metadata": {},
     "output_type": "execute_result"
    }
   ],
   "source": [
    "reactants = animal.reactants\n",
    "reactants"
   ]
  },
  {
   "cell_type": "code",
   "execution_count": 10,
   "id": "26886833-14f0-4a86-8419-e8030c7f1302",
   "metadata": {},
   "outputs": [
    {
     "data": {
      "text/html": [
       "<pre style=\"white-space:pre;overflow-x:auto;line-height:normal;font-family:Menlo,'DejaVu Sans Mono',consolas,'Courier New',monospace\"><span style=\"font-weight: bold\"> Creating HIPPO animal</span>\n",
       "</pre>\n"
      ],
      "text/plain": [
       "\u001b[1m Creating HIPPO animal\u001b[0m\n"
      ]
     },
     "metadata": {},
     "output_type": "display_data"
    },
    {
     "data": {
      "text/html": [
       "<pre style=\"white-space:pre;overflow-x:auto;line-height:normal;font-family:Menlo,'DejaVu Sans Mono',consolas,'Courier New',monospace\"><span style=\"color: #008080; text-decoration-color: #008080; font-weight: bold\">name</span> = <span style=\"color: #00d7af; text-decoration-color: #00d7af\">EnamineCatalogs</span>\n",
       "</pre>\n"
      ],
      "text/plain": [
       "\u001b[1;36mname\u001b[0m = \u001b[38;5;43mEnamineCatalogs\u001b[0m\n"
      ]
     },
     "metadata": {},
     "output_type": "display_data"
    },
    {
     "data": {
      "text/html": [
       "<pre style=\"white-space:pre;overflow-x:auto;line-height:normal;font-family:Menlo,'DejaVu Sans Mono',consolas,'Courier New',monospace\"><span style=\"color: #008080; text-decoration-color: #008080; font-weight: bold\">db_path</span> = <span style=\"color: #d7af00; text-decoration-color: #d7af00\">/opt/xchem-fragalysis-2/maxwin/EnamineCatalogs/enamine_bb_hippo.sqlite</span>\n",
       "</pre>\n"
      ],
      "text/plain": [
       "\u001b[1;36mdb_path\u001b[0m = \u001b[38;5;178m/opt/xchem-fragalysis-2/maxwin/EnamineCatalogs/enamine_bb_hippo.sqlite\u001b[0m\n"
      ]
     },
     "metadata": {},
     "output_type": "display_data"
    },
    {
     "data": {
      "text/html": [
       "<pre style=\"white-space:pre;overflow-x:auto;line-height:normal;font-family:Menlo,'DejaVu Sans Mono',consolas,'Courier New',monospace\"><span style=\"color: #808080; text-decoration-color: #808080\">DEBUG: hippo.Database.__init__()</span>\n",
       "</pre>\n"
      ],
      "text/plain": [
       "\u001b[90mDEBUG: hippo.Database.__init__()\u001b[0m\n"
      ]
     },
     "metadata": {},
     "output_type": "display_data"
    },
    {
     "data": {
      "text/html": [
       "<pre style=\"white-space:pre;overflow-x:auto;line-height:normal;font-family:Menlo,'DejaVu Sans Mono',consolas,'Courier New',monospace\"><span style=\"color: #808080; text-decoration-color: #808080\">DEBUG: Database.path = /opt/xchem-fragalysis-2/maxwin/EnamineCatalogs/enamine_bb_hippo.sqlite</span>\n",
       "</pre>\n"
      ],
      "text/plain": [
       "\u001b[90mDEBUG: Database.path = /opt/xchem-fragalysis-2/maxwin/EnamineCatalogs/enamine_bb_hippo.sqlite\u001b[0m\n"
      ]
     },
     "metadata": {},
     "output_type": "display_data"
    },
    {
     "data": {
      "text/html": [
       "<pre style=\"white-space:pre;overflow-x:auto;line-height:normal;font-family:Menlo,'DejaVu Sans Mono',consolas,'Courier New',monospace\"><span style=\"color: #808080; text-decoration-color: #808080\">DEBUG: hippo.Database.connect()</span>\n",
       "</pre>\n"
      ],
      "text/plain": [
       "\u001b[90mDEBUG: hippo.Database.connect()\u001b[0m\n"
      ]
     },
     "metadata": {},
     "output_type": "display_data"
    },
    {
     "data": {
      "text/html": [
       "<pre style=\"white-space:pre;overflow-x:auto;line-height:normal;font-family:Menlo,'DejaVu Sans Mono',consolas,'Courier New',monospace\"><span style=\"color: #808080; text-decoration-color: #808080\">DEBUG: sqlite3.version='2.6.0'</span>\n",
       "</pre>\n"
      ],
      "text/plain": [
       "\u001b[90mDEBUG: sqlite3.version='2.6.0'\u001b[0m\n"
      ]
     },
     "metadata": {},
     "output_type": "display_data"
    },
    {
     "data": {
      "text/html": [
       "<pre style=\"white-space:pre;overflow-x:auto;line-height:normal;font-family:Menlo,'DejaVu Sans Mono',consolas,'Courier New',monospace\"><span style=\"background-color: #008000; font-weight: bold\"> Success </span><span style=\"color: #008000; text-decoration-color: #008000; font-weight: bold\"> Database connected @</span><span style=\"color: #d7af00; text-decoration-color: #d7af00; font-weight: bold\"> /opt/xchem-fragalysis-2/maxwin/EnamineCatalogs/enamine_bb_hippo.sqlite!</span>\n",
       "</pre>\n"
      ],
      "text/plain": [
       "\u001b[1;7;32m Success \u001b[0m\u001b[1;32m Database connected @\u001b[0m\u001b[1;38;5;178m /opt/xchem-fragalysis-2/maxwin/EnamineCatalogs/enamine_bb_hippo.sqlite!\u001b[0m\n"
      ]
     },
     "metadata": {},
     "output_type": "display_data"
    },
    {
     "data": {
      "text/html": [
       "<pre style=\"white-space:pre;overflow-x:auto;line-height:normal;font-family:Menlo,'DejaVu Sans Mono',consolas,'Courier New',monospace\"><span style=\"background-color: #008000; font-weight: bold\"> Success </span><span style=\"color: #008000; text-decoration-color: #008000; font-weight: bold\"> Initialised animal</span><span style=\"color: #008080; text-decoration-color: #008080; font-weight: bold\"> HIPPO(\"EnamineCatalogs\")!</span>\n",
       "</pre>\n"
      ],
      "text/plain": [
       "\u001b[1;7;32m Success \u001b[0m\u001b[1;32m Initialised animal\u001b[0m\u001b[1;36m HIPPO(\"EnamineCatalogs\")!\u001b[0m\n"
      ]
     },
     "metadata": {},
     "output_type": "display_data"
    }
   ],
   "source": [
    "catalogue = hippo.HIPPO(\"EnamineCatalogs\", \"/opt/xchem-fragalysis-2/maxwin/EnamineCatalogs/enamine_bb_hippo.sqlite\")"
   ]
  },
  {
   "cell_type": "code",
   "execution_count": 22,
   "id": "f0474546-8291-40fb-918e-bf3b02c92a72",
   "metadata": {
    "scrolled": true
   },
   "outputs": [
    {
     "data": {
      "application/vnd.jupyter.widget-view+json": {
       "model_id": "f33c9b55963d4a2094426db1e09824b2",
       "version_major": 2,
       "version_minor": 0
      },
      "text/plain": [
       "Output()"
      ]
     },
     "metadata": {},
     "output_type": "display_data"
    },
    {
     "data": {
      "text/html": [
       "<pre style=\"white-space:pre;overflow-x:auto;line-height:normal;font-family:Menlo,'DejaVu Sans Mono',consolas,'Courier New',monospace\"><span style=\"color: #d75f00; text-decoration-color: #d75f00\">Warning: Isotope(s) in SMILES: [2H]C([2H])([2H])Oc1ccc(C(=O)O)cc1</span>\n",
       "</pre>\n"
      ],
      "text/plain": [
       "\u001b[38;5;166mWarning: Isotope(s) in SMILES: [2H]C([2H])([2H])Oc1ccc(C(=O)O)cc1\u001b[0m\n"
      ]
     },
     "metadata": {},
     "output_type": "display_data"
    },
    {
     "data": {
      "text/html": [
       "<pre style=\"white-space:pre;overflow-x:auto;line-height:normal;font-family:Menlo,'DejaVu Sans Mono',consolas,'Courier New',monospace\"><span style=\"color: #d75f00; text-decoration-color: #d75f00\">Warning: Isotope(s) in SMILES: [2H]C([2H])([2H])Oc1ccc(C(=O)O)cc1</span>\n",
       "</pre>\n"
      ],
      "text/plain": [
       "\u001b[38;5;166mWarning: Isotope(s) in SMILES: [2H]C([2H])([2H])Oc1ccc(C(=O)O)cc1\u001b[0m\n"
      ]
     },
     "metadata": {},
     "output_type": "display_data"
    },
    {
     "data": {
      "text/html": [
       "<pre style=\"white-space:pre;overflow-x:auto;line-height:normal;font-family:Menlo,'DejaVu Sans Mono',consolas,'Courier New',monospace\"><span style=\"color: #d75f00; text-decoration-color: #d75f00\">Warning: Isotope(s) in SMILES: [2H]C([2H])([2H])Oc1ccc(C(=O)O)cc1</span>\n",
       "</pre>\n"
      ],
      "text/plain": [
       "\u001b[38;5;166mWarning: Isotope(s) in SMILES: [2H]C([2H])([2H])Oc1ccc(C(=O)O)cc1\u001b[0m\n"
      ]
     },
     "metadata": {},
     "output_type": "display_data"
    },
    {
     "data": {
      "text/html": [
       "<pre style=\"white-space:pre;overflow-x:auto;line-height:normal;font-family:Menlo,'DejaVu Sans Mono',consolas,'Courier New',monospace\"><span style=\"color: #d75f00; text-decoration-color: #d75f00\">Warning: Isotope(s) in SMILES: [2H]C([2H])([2H])Oc1ccc(C(=O)O)cc1</span>\n",
       "</pre>\n"
      ],
      "text/plain": [
       "\u001b[38;5;166mWarning: Isotope(s) in SMILES: [2H]C([2H])([2H])Oc1ccc(C(=O)O)cc1\u001b[0m\n"
      ]
     },
     "metadata": {},
     "output_type": "display_data"
    },
    {
     "data": {
      "text/html": [
       "<pre style=\"white-space:pre;overflow-x:auto;line-height:normal;font-family:Menlo,'DejaVu Sans Mono',consolas,'Courier New',monospace\"><span style=\"color: #d75f00; text-decoration-color: #d75f00\">Warning: Isotope(s) in SMILES: [2H]C([2H])([2H])Oc1ccc(C(=O)O)cc1</span>\n",
       "</pre>\n"
      ],
      "text/plain": [
       "\u001b[38;5;166mWarning: Isotope(s) in SMILES: [2H]C([2H])([2H])Oc1ccc(C(=O)O)cc1\u001b[0m\n"
      ]
     },
     "metadata": {},
     "output_type": "display_data"
    },
    {
     "data": {
      "text/html": [
       "<pre style=\"white-space:pre;overflow-x:auto;line-height:normal;font-family:Menlo,'DejaVu Sans Mono',consolas,'Courier New',monospace\"><span style=\"color: #d75f00; text-decoration-color: #d75f00\">Warning: Isotope(s) in SMILES: [2H]C([2H])([2H])Oc1ccc(C(=O)O)cc1</span>\n",
       "</pre>\n"
      ],
      "text/plain": [
       "\u001b[38;5;166mWarning: Isotope(s) in SMILES: [2H]C([2H])([2H])Oc1ccc(C(=O)O)cc1\u001b[0m\n"
      ]
     },
     "metadata": {},
     "output_type": "display_data"
    },
    {
     "data": {
      "text/html": [
       "<pre style=\"white-space:pre;overflow-x:auto;line-height:normal;font-family:Menlo,'DejaVu Sans Mono',consolas,'Courier New',monospace\"><span style=\"color: #d75f00; text-decoration-color: #d75f00\">Warning: Isotope(s) in SMILES: [2H]C([2H])([2H])Oc1ccc(C(=O)O)cc1</span>\n",
       "</pre>\n"
      ],
      "text/plain": [
       "\u001b[38;5;166mWarning: Isotope(s) in SMILES: [2H]C([2H])([2H])Oc1ccc(C(=O)O)cc1\u001b[0m\n"
      ]
     },
     "metadata": {},
     "output_type": "display_data"
    },
    {
     "data": {
      "text/html": [
       "<pre style=\"white-space:pre;overflow-x:auto;line-height:normal;font-family:Menlo,'DejaVu Sans Mono',consolas,'Courier New',monospace\"><span style=\"color: #d75f00; text-decoration-color: #d75f00\">Warning: Isotope(s) in SMILES: [2H]C([2H])(Br)C(=O)Br</span>\n",
       "</pre>\n"
      ],
      "text/plain": [
       "\u001b[38;5;166mWarning: Isotope(s) in SMILES: [2H]C([2H])(Br)C(=O)Br\u001b[0m\n"
      ]
     },
     "metadata": {},
     "output_type": "display_data"
    },
    {
     "data": {
      "text/html": [
       "<pre style=\"white-space:pre;overflow-x:auto;line-height:normal;font-family:Menlo,'DejaVu Sans Mono',consolas,'Courier New',monospace\"><span style=\"color: #d75f00; text-decoration-color: #d75f00\">Warning: Isotope(s) in SMILES: [2H]C([2H])(Br)C(=O)Br</span>\n",
       "</pre>\n"
      ],
      "text/plain": [
       "\u001b[38;5;166mWarning: Isotope(s) in SMILES: [2H]C([2H])(Br)C(=O)Br\u001b[0m\n"
      ]
     },
     "metadata": {},
     "output_type": "display_data"
    },
    {
     "data": {
      "text/html": [
       "<pre style=\"white-space:pre;overflow-x:auto;line-height:normal;font-family:Menlo,'DejaVu Sans Mono',consolas,'Courier New',monospace\"><span style=\"color: #d75f00; text-decoration-color: #d75f00\">Warning: Isotope(s) in SMILES: [2H]C([2H])(Br)C(=O)Br</span>\n",
       "</pre>\n"
      ],
      "text/plain": [
       "\u001b[38;5;166mWarning: Isotope(s) in SMILES: [2H]C([2H])(Br)C(=O)Br\u001b[0m\n"
      ]
     },
     "metadata": {},
     "output_type": "display_data"
    },
    {
     "data": {
      "text/html": [
       "<pre style=\"white-space:pre;overflow-x:auto;line-height:normal;font-family:Menlo,'DejaVu Sans Mono',consolas,'Courier New',monospace\"><span style=\"color: #d75f00; text-decoration-color: #d75f00\">Warning: Isotope(s) in SMILES: [2H]C([2H])(Br)C(=O)Br</span>\n",
       "</pre>\n"
      ],
      "text/plain": [
       "\u001b[38;5;166mWarning: Isotope(s) in SMILES: [2H]C([2H])(Br)C(=O)Br\u001b[0m\n"
      ]
     },
     "metadata": {},
     "output_type": "display_data"
    },
    {
     "data": {
      "text/html": [
       "<pre style=\"white-space:pre;overflow-x:auto;line-height:normal;font-family:Menlo,'DejaVu Sans Mono',consolas,'Courier New',monospace\"><span style=\"color: #d75f00; text-decoration-color: #d75f00\">Warning: Isotope(s) in SMILES: [2H]C([2H])(Br)C(=O)Br</span>\n",
       "</pre>\n"
      ],
      "text/plain": [
       "\u001b[38;5;166mWarning: Isotope(s) in SMILES: [2H]C([2H])(Br)C(=O)Br\u001b[0m\n"
      ]
     },
     "metadata": {},
     "output_type": "display_data"
    },
    {
     "data": {
      "text/html": [
       "<pre style=\"white-space:pre;overflow-x:auto;line-height:normal;font-family:Menlo,'DejaVu Sans Mono',consolas,'Courier New',monospace\"><span style=\"color: #d75f00; text-decoration-color: #d75f00\">Warning: Isotope(s) in SMILES: [2H]C([2H])(Br)C(=O)Br</span>\n",
       "</pre>\n"
      ],
      "text/plain": [
       "\u001b[38;5;166mWarning: Isotope(s) in SMILES: [2H]C([2H])(Br)C(=O)Br\u001b[0m\n"
      ]
     },
     "metadata": {},
     "output_type": "display_data"
    },
    {
     "data": {
      "text/html": [
       "<pre style=\"white-space:pre;overflow-x:auto;line-height:normal;font-family:Menlo,'DejaVu Sans Mono',consolas,'Courier New',monospace\"><span style=\"color: #d75f00; text-decoration-color: #d75f00\">Warning: Isotope(s) in SMILES: [2H]C([2H])(Br)C(=O)Br</span>\n",
       "</pre>\n"
      ],
      "text/plain": [
       "\u001b[38;5;166mWarning: Isotope(s) in SMILES: [2H]C([2H])(Br)C(=O)Br\u001b[0m\n"
      ]
     },
     "metadata": {},
     "output_type": "display_data"
    },
    {
     "data": {
      "text/html": [
       "<pre style=\"white-space:pre;overflow-x:auto;line-height:normal;font-family:Menlo,'DejaVu Sans Mono',consolas,'Courier New',monospace\"><span style=\"color: #d75f00; text-decoration-color: #d75f00\">Warning: Isotope(s) in SMILES: [2H]C([2H])([2H])C(N)(C(=O)O)C([2H])([2H])[2H]</span>\n",
       "</pre>\n"
      ],
      "text/plain": [
       "\u001b[38;5;166mWarning: Isotope(s) in SMILES: [2H]C([2H])([2H])C(N)(C(=O)O)C([2H])([2H])[2H]\u001b[0m\n"
      ]
     },
     "metadata": {},
     "output_type": "display_data"
    },
    {
     "data": {
      "text/html": [
       "<pre style=\"white-space:pre;overflow-x:auto;line-height:normal;font-family:Menlo,'DejaVu Sans Mono',consolas,'Courier New',monospace\"><span style=\"color: #d75f00; text-decoration-color: #d75f00\">Warning: Isotope(s) in SMILES: [2H]C([2H])([2H])C(N)(C(=O)O)C([2H])([2H])[2H]</span>\n",
       "</pre>\n"
      ],
      "text/plain": [
       "\u001b[38;5;166mWarning: Isotope(s) in SMILES: [2H]C([2H])([2H])C(N)(C(=O)O)C([2H])([2H])[2H]\u001b[0m\n"
      ]
     },
     "metadata": {},
     "output_type": "display_data"
    },
    {
     "data": {
      "text/html": [
       "<pre style=\"white-space:pre;overflow-x:auto;line-height:normal;font-family:Menlo,'DejaVu Sans Mono',consolas,'Courier New',monospace\"><span style=\"color: #d75f00; text-decoration-color: #d75f00\">Warning: Isotope(s) in SMILES: [2H]C([2H])([2H])C(N)(C(=O)O)C([2H])([2H])[2H]</span>\n",
       "</pre>\n"
      ],
      "text/plain": [
       "\u001b[38;5;166mWarning: Isotope(s) in SMILES: [2H]C([2H])([2H])C(N)(C(=O)O)C([2H])([2H])[2H]\u001b[0m\n"
      ]
     },
     "metadata": {},
     "output_type": "display_data"
    },
    {
     "data": {
      "text/html": [
       "<pre style=\"white-space:pre;overflow-x:auto;line-height:normal;font-family:Menlo,'DejaVu Sans Mono',consolas,'Courier New',monospace\"><span style=\"color: #d75f00; text-decoration-color: #d75f00\">Warning: Isotope(s) in SMILES: [2H]C([2H])([2H])C(N)(C(=O)O)C([2H])([2H])[2H]</span>\n",
       "</pre>\n"
      ],
      "text/plain": [
       "\u001b[38;5;166mWarning: Isotope(s) in SMILES: [2H]C([2H])([2H])C(N)(C(=O)O)C([2H])([2H])[2H]\u001b[0m\n"
      ]
     },
     "metadata": {},
     "output_type": "display_data"
    },
    {
     "data": {
      "text/html": [
       "<pre style=\"white-space:pre;overflow-x:auto;line-height:normal;font-family:Menlo,'DejaVu Sans Mono',consolas,'Courier New',monospace\"><span style=\"color: #d75f00; text-decoration-color: #d75f00\">Warning: Isotope(s) in SMILES: [2H]C([2H])([2H])C(N)(C(=O)O)C([2H])([2H])[2H]</span>\n",
       "</pre>\n"
      ],
      "text/plain": [
       "\u001b[38;5;166mWarning: Isotope(s) in SMILES: [2H]C([2H])([2H])C(N)(C(=O)O)C([2H])([2H])[2H]\u001b[0m\n"
      ]
     },
     "metadata": {},
     "output_type": "display_data"
    },
    {
     "data": {
      "text/html": [
       "<pre style=\"white-space:pre;overflow-x:auto;line-height:normal;font-family:Menlo,'DejaVu Sans Mono',consolas,'Courier New',monospace\"><span style=\"color: #d75f00; text-decoration-color: #d75f00\">Warning: Isotope(s) in SMILES: [2H]C([2H])([2H])C(N)(C(=O)O)C([2H])([2H])[2H]</span>\n",
       "</pre>\n"
      ],
      "text/plain": [
       "\u001b[38;5;166mWarning: Isotope(s) in SMILES: [2H]C([2H])([2H])C(N)(C(=O)O)C([2H])([2H])[2H]\u001b[0m\n"
      ]
     },
     "metadata": {},
     "output_type": "display_data"
    },
    {
     "data": {
      "text/html": [
       "<pre style=\"white-space:pre;overflow-x:auto;line-height:normal;font-family:Menlo,'DejaVu Sans Mono',consolas,'Courier New',monospace\"><span style=\"color: #d75f00; text-decoration-color: #d75f00\">Warning: Isotope(s) in SMILES: [2H]C([2H])([2H])C(N)(C(=O)O)C([2H])([2H])[2H]</span>\n",
       "</pre>\n"
      ],
      "text/plain": [
       "\u001b[38;5;166mWarning: Isotope(s) in SMILES: [2H]C([2H])([2H])C(N)(C(=O)O)C([2H])([2H])[2H]\u001b[0m\n"
      ]
     },
     "metadata": {},
     "output_type": "display_data"
    },
    {
     "data": {
      "text/html": [
       "<pre style=\"white-space:pre;overflow-x:auto;line-height:normal;font-family:Menlo,'DejaVu Sans Mono',consolas,'Courier New',monospace\"><span style=\"color: #d75f00; text-decoration-color: #d75f00\">Warning: Isotope(s) in SMILES: [2H]C([2H])([2H])OCC(=O)O</span>\n",
       "</pre>\n"
      ],
      "text/plain": [
       "\u001b[38;5;166mWarning: Isotope(s) in SMILES: [2H]C([2H])([2H])OCC(=O)O\u001b[0m\n"
      ]
     },
     "metadata": {},
     "output_type": "display_data"
    },
    {
     "data": {
      "text/html": [
       "<pre style=\"white-space:pre;overflow-x:auto;line-height:normal;font-family:Menlo,'DejaVu Sans Mono',consolas,'Courier New',monospace\"><span style=\"color: #d75f00; text-decoration-color: #d75f00\">Warning: Isotope(s) in SMILES: [2H]C([2H])([2H])OCC(=O)O</span>\n",
       "</pre>\n"
      ],
      "text/plain": [
       "\u001b[38;5;166mWarning: Isotope(s) in SMILES: [2H]C([2H])([2H])OCC(=O)O\u001b[0m\n"
      ]
     },
     "metadata": {},
     "output_type": "display_data"
    },
    {
     "data": {
      "text/html": [
       "<pre style=\"white-space:pre;overflow-x:auto;line-height:normal;font-family:Menlo,'DejaVu Sans Mono',consolas,'Courier New',monospace\"><span style=\"color: #d75f00; text-decoration-color: #d75f00\">Warning: Isotope(s) in SMILES: [2H]C([2H])([2H])OCC(=O)O</span>\n",
       "</pre>\n"
      ],
      "text/plain": [
       "\u001b[38;5;166mWarning: Isotope(s) in SMILES: [2H]C([2H])([2H])OCC(=O)O\u001b[0m\n"
      ]
     },
     "metadata": {},
     "output_type": "display_data"
    },
    {
     "data": {
      "text/html": [
       "<pre style=\"white-space:pre;overflow-x:auto;line-height:normal;font-family:Menlo,'DejaVu Sans Mono',consolas,'Courier New',monospace\"><span style=\"color: #d75f00; text-decoration-color: #d75f00\">Warning: Isotope(s) in SMILES: [2H]C([2H])([2H])OCC(=O)O</span>\n",
       "</pre>\n"
      ],
      "text/plain": [
       "\u001b[38;5;166mWarning: Isotope(s) in SMILES: [2H]C([2H])([2H])OCC(=O)O\u001b[0m\n"
      ]
     },
     "metadata": {},
     "output_type": "display_data"
    },
    {
     "data": {
      "text/html": [
       "<pre style=\"white-space:pre;overflow-x:auto;line-height:normal;font-family:Menlo,'DejaVu Sans Mono',consolas,'Courier New',monospace\"><span style=\"color: #d75f00; text-decoration-color: #d75f00\">Warning: Isotope(s) in SMILES: [2H]C([2H])([2H])OCC(=O)O</span>\n",
       "</pre>\n"
      ],
      "text/plain": [
       "\u001b[38;5;166mWarning: Isotope(s) in SMILES: [2H]C([2H])([2H])OCC(=O)O\u001b[0m\n"
      ]
     },
     "metadata": {},
     "output_type": "display_data"
    },
    {
     "data": {
      "text/html": [
       "<pre style=\"white-space:pre;overflow-x:auto;line-height:normal;font-family:Menlo,'DejaVu Sans Mono',consolas,'Courier New',monospace\"><span style=\"color: #d75f00; text-decoration-color: #d75f00\">Warning: Isotope(s) in SMILES: [2H]C([2H])([2H])OCC(=O)O</span>\n",
       "</pre>\n"
      ],
      "text/plain": [
       "\u001b[38;5;166mWarning: Isotope(s) in SMILES: [2H]C([2H])([2H])OCC(=O)O\u001b[0m\n"
      ]
     },
     "metadata": {},
     "output_type": "display_data"
    },
    {
     "data": {
      "text/html": [
       "<pre style=\"white-space:pre;overflow-x:auto;line-height:normal;font-family:Menlo,'DejaVu Sans Mono',consolas,'Courier New',monospace\"><span style=\"color: #d75f00; text-decoration-color: #d75f00\">Warning: Isotope(s) in SMILES: [2H]C([2H])([2H])OCC(=O)O</span>\n",
       "</pre>\n"
      ],
      "text/plain": [
       "\u001b[38;5;166mWarning: Isotope(s) in SMILES: [2H]C([2H])([2H])OCC(=O)O\u001b[0m\n"
      ]
     },
     "metadata": {},
     "output_type": "display_data"
    },
    {
     "data": {
      "text/html": [
       "<pre style=\"white-space:pre;overflow-x:auto;line-height:normal;font-family:Menlo,'DejaVu Sans Mono',consolas,'Courier New',monospace\"><span style=\"color: #d75f00; text-decoration-color: #d75f00\">Warning: Isotope(s) in SMILES: [2H]C([2H])([2H])C12CC(N)(C1)C2</span>\n",
       "</pre>\n"
      ],
      "text/plain": [
       "\u001b[38;5;166mWarning: Isotope(s) in SMILES: [2H]C([2H])([2H])C12CC(N)(C1)C2\u001b[0m\n"
      ]
     },
     "metadata": {},
     "output_type": "display_data"
    },
    {
     "data": {
      "text/html": [
       "<pre style=\"white-space:pre;overflow-x:auto;line-height:normal;font-family:Menlo,'DejaVu Sans Mono',consolas,'Courier New',monospace\"><span style=\"color: #d75f00; text-decoration-color: #d75f00\">Warning: Isotope(s) in SMILES: [2H]C([2H])([2H])C12CC(N)(C1)C2</span>\n",
       "</pre>\n"
      ],
      "text/plain": [
       "\u001b[38;5;166mWarning: Isotope(s) in SMILES: [2H]C([2H])([2H])C12CC(N)(C1)C2\u001b[0m\n"
      ]
     },
     "metadata": {},
     "output_type": "display_data"
    },
    {
     "data": {
      "text/html": [
       "<pre style=\"white-space:pre;overflow-x:auto;line-height:normal;font-family:Menlo,'DejaVu Sans Mono',consolas,'Courier New',monospace\"><span style=\"color: #d75f00; text-decoration-color: #d75f00\">Warning: Isotope(s) in SMILES: [2H]C([2H])([2H])C12CC(N)(C1)C2</span>\n",
       "</pre>\n"
      ],
      "text/plain": [
       "\u001b[38;5;166mWarning: Isotope(s) in SMILES: [2H]C([2H])([2H])C12CC(N)(C1)C2\u001b[0m\n"
      ]
     },
     "metadata": {},
     "output_type": "display_data"
    },
    {
     "data": {
      "text/html": [
       "<pre style=\"white-space:pre;overflow-x:auto;line-height:normal;font-family:Menlo,'DejaVu Sans Mono',consolas,'Courier New',monospace\"><span style=\"color: #d75f00; text-decoration-color: #d75f00\">Warning: Isotope(s) in SMILES: [2H]C([2H])([2H])C12CC(N)(C1)C2</span>\n",
       "</pre>\n"
      ],
      "text/plain": [
       "\u001b[38;5;166mWarning: Isotope(s) in SMILES: [2H]C([2H])([2H])C12CC(N)(C1)C2\u001b[0m\n"
      ]
     },
     "metadata": {},
     "output_type": "display_data"
    },
    {
     "data": {
      "text/html": [
       "<pre style=\"white-space:pre;overflow-x:auto;line-height:normal;font-family:Menlo,'DejaVu Sans Mono',consolas,'Courier New',monospace\"><span style=\"color: #d75f00; text-decoration-color: #d75f00\">Warning: Isotope(s) in SMILES: [2H]C([2H])([2H])C12CC(N)(C1)C2</span>\n",
       "</pre>\n"
      ],
      "text/plain": [
       "\u001b[38;5;166mWarning: Isotope(s) in SMILES: [2H]C([2H])([2H])C12CC(N)(C1)C2\u001b[0m\n"
      ]
     },
     "metadata": {},
     "output_type": "display_data"
    },
    {
     "data": {
      "text/html": [
       "<pre style=\"white-space:pre;overflow-x:auto;line-height:normal;font-family:Menlo,'DejaVu Sans Mono',consolas,'Courier New',monospace\"><span style=\"color: #d75f00; text-decoration-color: #d75f00\">Warning: Isotope(s) in SMILES: [2H]C([2H])([2H])C12CC(N)(C1)C2</span>\n",
       "</pre>\n"
      ],
      "text/plain": [
       "\u001b[38;5;166mWarning: Isotope(s) in SMILES: [2H]C([2H])([2H])C12CC(N)(C1)C2\u001b[0m\n"
      ]
     },
     "metadata": {},
     "output_type": "display_data"
    },
    {
     "data": {
      "text/html": [
       "<pre style=\"white-space:pre;overflow-x:auto;line-height:normal;font-family:Menlo,'DejaVu Sans Mono',consolas,'Courier New',monospace\"><span style=\"color: #d75f00; text-decoration-color: #d75f00\">Warning: Isotope(s) in SMILES: [2H]C([2H])([2H])C12CC(N)(C1)C2</span>\n",
       "</pre>\n"
      ],
      "text/plain": [
       "\u001b[38;5;166mWarning: Isotope(s) in SMILES: [2H]C([2H])([2H])C12CC(N)(C1)C2\u001b[0m\n"
      ]
     },
     "metadata": {},
     "output_type": "display_data"
    },
    {
     "data": {
      "text/html": [
       "<pre style=\"white-space:pre;overflow-x:auto;line-height:normal;font-family:Menlo,'DejaVu Sans Mono',consolas,'Courier New',monospace\"><span style=\"color: #d75f00; text-decoration-color: #d75f00\">Warning: Isotope(s) in SMILES: [2H]C([2H])([2H])Oc1ccc(C(=O)O)cc1</span>\n",
       "</pre>\n"
      ],
      "text/plain": [
       "\u001b[38;5;166mWarning: Isotope(s) in SMILES: [2H]C([2H])([2H])Oc1ccc(C(=O)O)cc1\u001b[0m\n"
      ]
     },
     "metadata": {},
     "output_type": "display_data"
    },
    {
     "data": {
      "text/html": [
       "<pre style=\"white-space:pre;overflow-x:auto;line-height:normal;font-family:Menlo,'DejaVu Sans Mono',consolas,'Courier New',monospace\"><span style=\"color: #d75f00; text-decoration-color: #d75f00\">Warning: Isotope(s) in SMILES: [2H]C([2H])([2H])Oc1ccc(C(=O)O)cc1</span>\n",
       "</pre>\n"
      ],
      "text/plain": [
       "\u001b[38;5;166mWarning: Isotope(s) in SMILES: [2H]C([2H])([2H])Oc1ccc(C(=O)O)cc1\u001b[0m\n"
      ]
     },
     "metadata": {},
     "output_type": "display_data"
    },
    {
     "data": {
      "text/html": [
       "<pre style=\"white-space:pre;overflow-x:auto;line-height:normal;font-family:Menlo,'DejaVu Sans Mono',consolas,'Courier New',monospace\"><span style=\"color: #d75f00; text-decoration-color: #d75f00\">Warning: Isotope(s) in SMILES: [2H]C([2H])([2H])Oc1ccc(C(=O)O)cc1</span>\n",
       "</pre>\n"
      ],
      "text/plain": [
       "\u001b[38;5;166mWarning: Isotope(s) in SMILES: [2H]C([2H])([2H])Oc1ccc(C(=O)O)cc1\u001b[0m\n"
      ]
     },
     "metadata": {},
     "output_type": "display_data"
    },
    {
     "data": {
      "text/html": [
       "<pre style=\"white-space:pre;overflow-x:auto;line-height:normal;font-family:Menlo,'DejaVu Sans Mono',consolas,'Courier New',monospace\"><span style=\"color: #d75f00; text-decoration-color: #d75f00\">Warning: Isotope(s) in SMILES: [2H]C([2H])([2H])Oc1ccc(C(=O)O)cc1</span>\n",
       "</pre>\n"
      ],
      "text/plain": [
       "\u001b[38;5;166mWarning: Isotope(s) in SMILES: [2H]C([2H])([2H])Oc1ccc(C(=O)O)cc1\u001b[0m\n"
      ]
     },
     "metadata": {},
     "output_type": "display_data"
    },
    {
     "data": {
      "text/html": [
       "<pre style=\"white-space:pre;overflow-x:auto;line-height:normal;font-family:Menlo,'DejaVu Sans Mono',consolas,'Courier New',monospace\"><span style=\"color: #d75f00; text-decoration-color: #d75f00\">Warning: Isotope(s) in SMILES: [2H]C([2H])([2H])Oc1ccc(C(=O)O)cc1</span>\n",
       "</pre>\n"
      ],
      "text/plain": [
       "\u001b[38;5;166mWarning: Isotope(s) in SMILES: [2H]C([2H])([2H])Oc1ccc(C(=O)O)cc1\u001b[0m\n"
      ]
     },
     "metadata": {},
     "output_type": "display_data"
    },
    {
     "data": {
      "text/html": [
       "<pre style=\"white-space:pre;overflow-x:auto;line-height:normal;font-family:Menlo,'DejaVu Sans Mono',consolas,'Courier New',monospace\"><span style=\"color: #d75f00; text-decoration-color: #d75f00\">Warning: Isotope(s) in SMILES: [2H]C([2H])([2H])Oc1ccc(C(=O)O)cc1</span>\n",
       "</pre>\n"
      ],
      "text/plain": [
       "\u001b[38;5;166mWarning: Isotope(s) in SMILES: [2H]C([2H])([2H])Oc1ccc(C(=O)O)cc1\u001b[0m\n"
      ]
     },
     "metadata": {},
     "output_type": "display_data"
    },
    {
     "data": {
      "text/html": [
       "<pre style=\"white-space:pre;overflow-x:auto;line-height:normal;font-family:Menlo,'DejaVu Sans Mono',consolas,'Courier New',monospace\"><span style=\"color: #d75f00; text-decoration-color: #d75f00\">Warning: Isotope(s) in SMILES: [2H]C([2H])([2H])Oc1ccc(C(=O)O)cc1</span>\n",
       "</pre>\n"
      ],
      "text/plain": [
       "\u001b[38;5;166mWarning: Isotope(s) in SMILES: [2H]C([2H])([2H])Oc1ccc(C(=O)O)cc1\u001b[0m\n"
      ]
     },
     "metadata": {},
     "output_type": "display_data"
    },
    {
     "data": {
      "text/html": [
       "<pre style=\"white-space:pre;overflow-x:auto;line-height:normal;font-family:Menlo,'DejaVu Sans Mono',consolas,'Courier New',monospace\"><span style=\"color: #d75f00; text-decoration-color: #d75f00\">Warning: Isotope(s) in SMILES: [2H]C([2H])([2H])NCC(=O)O</span>\n",
       "</pre>\n"
      ],
      "text/plain": [
       "\u001b[38;5;166mWarning: Isotope(s) in SMILES: [2H]C([2H])([2H])NCC(=O)O\u001b[0m\n"
      ]
     },
     "metadata": {},
     "output_type": "display_data"
    },
    {
     "data": {
      "text/html": [
       "<pre style=\"white-space:pre;overflow-x:auto;line-height:normal;font-family:Menlo,'DejaVu Sans Mono',consolas,'Courier New',monospace\"><span style=\"color: #d75f00; text-decoration-color: #d75f00\">Warning: Isotope(s) in SMILES: [2H]C([2H])([2H])NCC(=O)O</span>\n",
       "</pre>\n"
      ],
      "text/plain": [
       "\u001b[38;5;166mWarning: Isotope(s) in SMILES: [2H]C([2H])([2H])NCC(=O)O\u001b[0m\n"
      ]
     },
     "metadata": {},
     "output_type": "display_data"
    },
    {
     "data": {
      "text/html": [
       "<pre style=\"white-space:pre;overflow-x:auto;line-height:normal;font-family:Menlo,'DejaVu Sans Mono',consolas,'Courier New',monospace\"><span style=\"color: #d75f00; text-decoration-color: #d75f00\">Warning: Isotope(s) in SMILES: [2H]C([2H])([2H])NCC(=O)O</span>\n",
       "</pre>\n"
      ],
      "text/plain": [
       "\u001b[38;5;166mWarning: Isotope(s) in SMILES: [2H]C([2H])([2H])NCC(=O)O\u001b[0m\n"
      ]
     },
     "metadata": {},
     "output_type": "display_data"
    },
    {
     "data": {
      "text/html": [
       "<pre style=\"white-space:pre;overflow-x:auto;line-height:normal;font-family:Menlo,'DejaVu Sans Mono',consolas,'Courier New',monospace\"><span style=\"color: #d75f00; text-decoration-color: #d75f00\">Warning: Isotope(s) in SMILES: [2H]C([2H])([2H])NCC(=O)O</span>\n",
       "</pre>\n"
      ],
      "text/plain": [
       "\u001b[38;5;166mWarning: Isotope(s) in SMILES: [2H]C([2H])([2H])NCC(=O)O\u001b[0m\n"
      ]
     },
     "metadata": {},
     "output_type": "display_data"
    },
    {
     "data": {
      "text/html": [
       "<pre style=\"white-space:pre;overflow-x:auto;line-height:normal;font-family:Menlo,'DejaVu Sans Mono',consolas,'Courier New',monospace\"><span style=\"color: #d75f00; text-decoration-color: #d75f00\">Warning: Isotope(s) in SMILES: [2H]C([2H])([2H])NCC(=O)O</span>\n",
       "</pre>\n"
      ],
      "text/plain": [
       "\u001b[38;5;166mWarning: Isotope(s) in SMILES: [2H]C([2H])([2H])NCC(=O)O\u001b[0m\n"
      ]
     },
     "metadata": {},
     "output_type": "display_data"
    },
    {
     "data": {
      "text/html": [
       "<pre style=\"white-space:pre;overflow-x:auto;line-height:normal;font-family:Menlo,'DejaVu Sans Mono',consolas,'Courier New',monospace\"><span style=\"color: #d75f00; text-decoration-color: #d75f00\">Warning: Isotope(s) in SMILES: [2H]C([2H])([2H])NCC(=O)O</span>\n",
       "</pre>\n"
      ],
      "text/plain": [
       "\u001b[38;5;166mWarning: Isotope(s) in SMILES: [2H]C([2H])([2H])NCC(=O)O\u001b[0m\n"
      ]
     },
     "metadata": {},
     "output_type": "display_data"
    },
    {
     "data": {
      "text/html": [
       "<pre style=\"white-space:pre;overflow-x:auto;line-height:normal;font-family:Menlo,'DejaVu Sans Mono',consolas,'Courier New',monospace\"><span style=\"color: #d75f00; text-decoration-color: #d75f00\">Warning: Isotope(s) in SMILES: [2H]C([2H])([2H])NCC(=O)O</span>\n",
       "</pre>\n"
      ],
      "text/plain": [
       "\u001b[38;5;166mWarning: Isotope(s) in SMILES: [2H]C([2H])([2H])NCC(=O)O\u001b[0m\n"
      ]
     },
     "metadata": {},
     "output_type": "display_data"
    },
    {
     "data": {
      "text/html": [
       "<pre style=\"white-space:pre;overflow-x:auto;line-height:normal;font-family:Menlo,'DejaVu Sans Mono',consolas,'Courier New',monospace\"></pre>\n"
      ],
      "text/plain": []
     },
     "metadata": {},
     "output_type": "display_data"
    },
    {
     "data": {
      "text/html": [
       "<pre style=\"white-space:pre;overflow-x:auto;line-height:normal;font-family:Menlo,'DejaVu Sans Mono',consolas,'Courier New',monospace\"><span style=\"color: #008080; text-decoration-color: #008080; font-weight: bold\">#new quotes</span> = <span style=\"color: #008080; text-decoration-color: #008080; font-weight: bold\">23146</span>\n",
       "</pre>\n"
      ],
      "text/plain": [
       "\u001b[1;36m#new quotes\u001b[0m = \u001b[1;36m23146\u001b[0m\n"
      ]
     },
     "metadata": {},
     "output_type": "display_data"
    },
    {
     "data": {
      "text/html": [
       "<pre style=\"white-space:pre;overflow-x:auto;line-height:normal;font-family:Menlo,'DejaVu Sans Mono',consolas,'Courier New',monospace\"><span style=\"color: #008080; text-decoration-color: #008080; font-weight: bold\">#quoted_compounds</span> = <span style=\"color: #008080; text-decoration-color: #008080; font-weight: bold\">2090</span>\n",
       "</pre>\n"
      ],
      "text/plain": [
       "\u001b[1;36m#quoted_compounds\u001b[0m = \u001b[1;36m2090\u001b[0m\n"
      ]
     },
     "metadata": {},
     "output_type": "display_data"
    },
    {
     "data": {
      "text/html": [
       "<pre style=\"white-space:pre;overflow-x:auto;line-height:normal;font-family:Menlo,'DejaVu Sans Mono',consolas,'Courier New',monospace\"><span style=\"color: #008080; text-decoration-color: #008080; font-weight: bold\">#unquoted_compounds</span> = <span style=\"color: #008080; text-decoration-color: #008080; font-weight: bold\">3591</span>\n",
       "</pre>\n"
      ],
      "text/plain": [
       "\u001b[1;36m#unquoted_compounds\u001b[0m = \u001b[1;36m3591\u001b[0m\n"
      ]
     },
     "metadata": {},
     "output_type": "display_data"
    },
    {
     "data": {
      "text/plain": [
       "(\u001b[1m\u001b[4m{C × 2090}\u001b[22m\u001b[24m, \u001b[1m\u001b[4m{C × 3591}\u001b[22m\u001b[24m)"
      ]
     },
     "execution_count": 22,
     "metadata": {},
     "output_type": "execute_result"
    }
   ],
   "source": [
    "animal.quote_compounds(catalogue, reactants, debug=False)"
   ]
  },
  {
   "cell_type": "code",
   "execution_count": 24,
   "id": "5b437a07-cbee-475a-9a12-f18707315b34",
   "metadata": {},
   "outputs": [
    {
     "data": {
      "text/plain": [
       "['Buchwald-Hartwig_amidation_with_amide-like_nucleophile',\n",
       " 'Amidation',\n",
       " 'Sp3-sp2_Suzuki_coupling',\n",
       " 'Reductive_amination',\n",
       " 'Buchwald-Hartwig_amination',\n",
       " 'Steglich_esterification',\n",
       " 'Ester_amidation',\n",
       " 'Formation_of_urea_from_two_amines',\n",
       " 'Williamson_ether_synthesis']"
      ]
     },
     "execution_count": 24,
     "metadata": {},
     "output_type": "execute_result"
    }
   ],
   "source": [
    "animal.reactions.types"
   ]
  },
  {
   "cell_type": "code",
   "execution_count": 25,
   "id": "6227269b-183c-4ef0-99cb-7df8092949c5",
   "metadata": {},
   "outputs": [
    {
     "data": {
      "text/plain": [
       "\u001b[1m\u001b[4mcompounds tagged Syndirella scaffold: {C × 122}\u001b[22m\u001b[24m"
      ]
     },
     "execution_count": 25,
     "metadata": {},
     "output_type": "execute_result"
    }
   ],
   "source": [
    "animal.compounds(tag=\"Syndirella scaffold\")"
   ]
  },
  {
   "cell_type": "code",
   "execution_count": 27,
   "id": "024364d5-656d-4cb3-a0be-b2f3b4c77fad",
   "metadata": {},
   "outputs": [
    {
     "data": {
      "text/plain": [
       "\u001b[1m\u001b[4m{C × 44}\u001b[22m\u001b[24m"
      ]
     },
     "execution_count": 27,
     "metadata": {},
     "output_type": "execute_result"
    }
   ],
   "source": [
    "animal.elabs.bases.get_by_tag(tag=\"Syndirella scaffold\")"
   ]
  },
  {
   "cell_type": "markdown",
   "id": "ba2d1ca5-e61e-4066-a3e8-f603ab17b6f7",
   "metadata": {},
   "source": [
    "## Export Scaffold Chemistry"
   ]
  },
  {
   "cell_type": "code",
   "execution_count": 28,
   "id": "4e3a0e2a-b9f1-4862-9435-63bdfa24fdf3",
   "metadata": {},
   "outputs": [
    {
     "data": {
      "text/plain": [
       "\u001b[1m\u001b[4mcompounds tagged Syndirella scaffold: {C × 122}\u001b[22m\u001b[24m"
      ]
     },
     "execution_count": 28,
     "metadata": {},
     "output_type": "execute_result"
    }
   ],
   "source": [
    "animal.compounds(tag=\"Syndirella scaffold\")"
   ]
  },
  {
   "cell_type": "code",
   "execution_count": null,
   "id": "e20cad3e-836b-4fb3-859c-b02c5289a59c",
   "metadata": {},
   "outputs": [],
   "source": []
  },
  {
   "cell_type": "code",
   "execution_count": 29,
   "id": "5741f06a-dcdc-4e6e-b57b-f76704a0114b",
   "metadata": {
    "collapsed": true,
    "jupyter": {
     "outputs_hidden": true
    },
    "scrolled": true
   },
   "outputs": [
    {
     "data": {
      "text/html": [
       "<pre style=\"white-space:pre;overflow-x:auto;line-height:normal;font-family:Menlo,'DejaVu Sans Mono',consolas,'Courier New',monospace\"><span style=\"color: #008080; text-decoration-color: #008080; font-weight: bold\">#compounds</span> = <span style=\"color: #008080; text-decoration-color: #008080; font-weight: bold\">122</span>\n",
       "</pre>\n"
      ],
      "text/plain": [
       "\u001b[1;36m#compounds\u001b[0m = \u001b[1;36m122\u001b[0m\n"
      ]
     },
     "metadata": {},
     "output_type": "display_data"
    },
    {
     "data": {
      "application/vnd.jupyter.widget-view+json": {
       "model_id": "6b69017dc7144d06ad47f51b76050a70",
       "version_major": 2,
       "version_minor": 0
      },
      "text/plain": [
       "Output()"
      ]
     },
     "metadata": {},
     "output_type": "display_data"
    },
    {
     "data": {
      "text/html": [
       "<pre style=\"white-space:pre;overflow-x:auto;line-height:normal;font-family:Menlo,'DejaVu Sans Mono',consolas,'Courier New',monospace\"><span style=\"background-color: #800000; font-weight: bold\"> ERROR </span><span style=\"color: #800000; text-decoration-color: #800000; font-weight: bold\"> No entry in quote with quote_compound=73!</span>\n",
       "</pre>\n"
      ],
      "text/plain": [
       "\u001b[1;7;31m ERROR \u001b[0m\u001b[1;31m No entry in quote with quote_compound=73!\u001b[0m\n"
      ]
     },
     "metadata": {},
     "output_type": "display_data"
    },
    {
     "data": {
      "text/html": [
       "<pre style=\"white-space:pre;overflow-x:auto;line-height:normal;font-family:Menlo,'DejaVu Sans Mono',consolas,'Courier New',monospace\"><span style=\"background-color: #008000; font-weight: bold\"> Success </span><span style=\"color: #008000; text-decoration-color: #008000; font-weight: bold\"> Found solution for compound=C73!</span>\n",
       "</pre>\n"
      ],
      "text/plain": [
       "\u001b[1;7;32m Success \u001b[0m\u001b[1;32m Found solution for compound=C73!\u001b[0m\n"
      ]
     },
     "metadata": {},
     "output_type": "display_data"
    },
    {
     "data": {
      "text/html": [
       "<pre style=\"white-space:pre;overflow-x:auto;line-height:normal;font-family:Menlo,'DejaVu Sans Mono',consolas,'Courier New',monospace\"><span style=\"background-color: #800000; font-weight: bold\"> ERROR </span><span style=\"color: #800000; text-decoration-color: #800000; font-weight: bold\"> No entry in quote with quote_compound=91!</span>\n",
       "</pre>\n"
      ],
      "text/plain": [
       "\u001b[1;7;31m ERROR \u001b[0m\u001b[1;31m No entry in quote with quote_compound=91!\u001b[0m\n"
      ]
     },
     "metadata": {},
     "output_type": "display_data"
    },
    {
     "data": {
      "text/html": [
       "<pre style=\"white-space:pre;overflow-x:auto;line-height:normal;font-family:Menlo,'DejaVu Sans Mono',consolas,'Courier New',monospace\"><span style=\"background-color: #008000; font-weight: bold\"> Success </span><span style=\"color: #008000; text-decoration-color: #008000; font-weight: bold\"> Found solution for compound=C91!</span>\n",
       "</pre>\n"
      ],
      "text/plain": [
       "\u001b[1;7;32m Success \u001b[0m\u001b[1;32m Found solution for compound=C91!\u001b[0m\n"
      ]
     },
     "metadata": {},
     "output_type": "display_data"
    },
    {
     "data": {
      "text/html": [
       "<pre style=\"white-space:pre;overflow-x:auto;line-height:normal;font-family:Menlo,'DejaVu Sans Mono',consolas,'Courier New',monospace\"><span style=\"background-color: #800000; font-weight: bold\"> ERROR </span><span style=\"color: #800000; text-decoration-color: #800000; font-weight: bold\"> No entry in quote with quote_compound=92!</span>\n",
       "</pre>\n"
      ],
      "text/plain": [
       "\u001b[1;7;31m ERROR \u001b[0m\u001b[1;31m No entry in quote with quote_compound=92!\u001b[0m\n"
      ]
     },
     "metadata": {},
     "output_type": "display_data"
    },
    {
     "data": {
      "text/html": [
       "<pre style=\"white-space:pre;overflow-x:auto;line-height:normal;font-family:Menlo,'DejaVu Sans Mono',consolas,'Courier New',monospace\"><span style=\"background-color: #008000; font-weight: bold\"> Success </span><span style=\"color: #008000; text-decoration-color: #008000; font-weight: bold\"> Found solution for compound=C92!</span>\n",
       "</pre>\n"
      ],
      "text/plain": [
       "\u001b[1;7;32m Success \u001b[0m\u001b[1;32m Found solution for compound=C92!\u001b[0m\n"
      ]
     },
     "metadata": {},
     "output_type": "display_data"
    },
    {
     "data": {
      "text/html": [
       "<pre style=\"white-space:pre;overflow-x:auto;line-height:normal;font-family:Menlo,'DejaVu Sans Mono',consolas,'Courier New',monospace\"><span style=\"background-color: #800000; font-weight: bold\"> ERROR </span><span style=\"color: #800000; text-decoration-color: #800000; font-weight: bold\"> No entry in quote with quote_compound=93!</span>\n",
       "</pre>\n"
      ],
      "text/plain": [
       "\u001b[1;7;31m ERROR \u001b[0m\u001b[1;31m No entry in quote with quote_compound=93!\u001b[0m\n"
      ]
     },
     "metadata": {},
     "output_type": "display_data"
    },
    {
     "data": {
      "text/html": [
       "<pre style=\"white-space:pre;overflow-x:auto;line-height:normal;font-family:Menlo,'DejaVu Sans Mono',consolas,'Courier New',monospace\"><span style=\"background-color: #800000; font-weight: bold\"> ERROR </span><span style=\"color: #800000; text-decoration-color: #800000; font-weight: bold\"> No entry in quote with quote_compound=93!</span>\n",
       "</pre>\n"
      ],
      "text/plain": [
       "\u001b[1;7;31m ERROR \u001b[0m\u001b[1;31m No entry in quote with quote_compound=93!\u001b[0m\n"
      ]
     },
     "metadata": {},
     "output_type": "display_data"
    },
    {
     "data": {
      "text/html": [
       "<pre style=\"white-space:pre;overflow-x:auto;line-height:normal;font-family:Menlo,'DejaVu Sans Mono',consolas,'Courier New',monospace\"><span style=\"background-color: #800000; font-weight: bold\"> ERROR </span><span style=\"color: #800000; text-decoration-color: #800000; font-weight: bold\"> No entry in quote with quote_compound=87346!</span>\n",
       "</pre>\n"
      ],
      "text/plain": [
       "\u001b[1;7;31m ERROR \u001b[0m\u001b[1;31m No entry in quote with quote_compound=87346!\u001b[0m\n"
      ]
     },
     "metadata": {},
     "output_type": "display_data"
    },
    {
     "data": {
      "text/html": [
       "<pre style=\"white-space:pre;overflow-x:auto;line-height:normal;font-family:Menlo,'DejaVu Sans Mono',consolas,'Courier New',monospace\"><span style=\"background-color: #ff8700; font-weight: bold\"> Warning </span><span style=\"color: #ff8700; text-decoration-color: #ff8700\"> Multiple solutions for compound=C93!</span>\n",
       "</pre>\n"
      ],
      "text/plain": [
       "\u001b[1;7;38;5;208m Warning \u001b[0m\u001b[38;5;208m Multiple solutions for compound=C93!\u001b[0m\n"
      ]
     },
     "metadata": {},
     "output_type": "display_data"
    },
    {
     "data": {
      "text/html": [
       "<pre style=\"white-space:pre;overflow-x:auto;line-height:normal;font-family:Menlo,'DejaVu Sans Mono',consolas,'Courier New',monospace\"><span style=\"background-color: #800000; font-weight: bold\"> ERROR </span><span style=\"color: #800000; text-decoration-color: #800000; font-weight: bold\"> No entry in quote with quote_compound=94!</span>\n",
       "</pre>\n"
      ],
      "text/plain": [
       "\u001b[1;7;31m ERROR \u001b[0m\u001b[1;31m No entry in quote with quote_compound=94!\u001b[0m\n"
      ]
     },
     "metadata": {},
     "output_type": "display_data"
    },
    {
     "data": {
      "text/html": [
       "<pre style=\"white-space:pre;overflow-x:auto;line-height:normal;font-family:Menlo,'DejaVu Sans Mono',consolas,'Courier New',monospace\"><span style=\"background-color: #800000; font-weight: bold\"> ERROR </span><span style=\"color: #800000; text-decoration-color: #800000; font-weight: bold\"> No entry in quote with quote_compound=71592!</span>\n",
       "</pre>\n"
      ],
      "text/plain": [
       "\u001b[1;7;31m ERROR \u001b[0m\u001b[1;31m No entry in quote with quote_compound=71592!\u001b[0m\n"
      ]
     },
     "metadata": {},
     "output_type": "display_data"
    },
    {
     "data": {
      "text/html": [
       "<pre style=\"white-space:pre;overflow-x:auto;line-height:normal;font-family:Menlo,'DejaVu Sans Mono',consolas,'Courier New',monospace\"><span style=\"background-color: #008000; font-weight: bold\"> Success </span><span style=\"color: #008000; text-decoration-color: #008000; font-weight: bold\"> Found solution for compound=C94!</span>\n",
       "</pre>\n"
      ],
      "text/plain": [
       "\u001b[1;7;32m Success \u001b[0m\u001b[1;32m Found solution for compound=C94!\u001b[0m\n"
      ]
     },
     "metadata": {},
     "output_type": "display_data"
    },
    {
     "data": {
      "text/html": [
       "<pre style=\"white-space:pre;overflow-x:auto;line-height:normal;font-family:Menlo,'DejaVu Sans Mono',consolas,'Courier New',monospace\"><span style=\"background-color: #800000; font-weight: bold\"> ERROR </span><span style=\"color: #800000; text-decoration-color: #800000; font-weight: bold\"> No entry in quote with quote_compound=95!</span>\n",
       "</pre>\n"
      ],
      "text/plain": [
       "\u001b[1;7;31m ERROR \u001b[0m\u001b[1;31m No entry in quote with quote_compound=95!\u001b[0m\n"
      ]
     },
     "metadata": {},
     "output_type": "display_data"
    },
    {
     "data": {
      "text/html": [
       "<pre style=\"white-space:pre;overflow-x:auto;line-height:normal;font-family:Menlo,'DejaVu Sans Mono',consolas,'Courier New',monospace\"><span style=\"background-color: #800000; font-weight: bold\"> ERROR </span><span style=\"color: #800000; text-decoration-color: #800000; font-weight: bold\"> No entry in quote with quote_compound=75662!</span>\n",
       "</pre>\n"
      ],
      "text/plain": [
       "\u001b[1;7;31m ERROR \u001b[0m\u001b[1;31m No entry in quote with quote_compound=75662!\u001b[0m\n"
      ]
     },
     "metadata": {},
     "output_type": "display_data"
    },
    {
     "data": {
      "text/html": [
       "<pre style=\"white-space:pre;overflow-x:auto;line-height:normal;font-family:Menlo,'DejaVu Sans Mono',consolas,'Courier New',monospace\"><span style=\"background-color: #008000; font-weight: bold\"> Success </span><span style=\"color: #008000; text-decoration-color: #008000; font-weight: bold\"> Found solution for compound=C95!</span>\n",
       "</pre>\n"
      ],
      "text/plain": [
       "\u001b[1;7;32m Success \u001b[0m\u001b[1;32m Found solution for compound=C95!\u001b[0m\n"
      ]
     },
     "metadata": {},
     "output_type": "display_data"
    },
    {
     "data": {
      "text/html": [
       "<pre style=\"white-space:pre;overflow-x:auto;line-height:normal;font-family:Menlo,'DejaVu Sans Mono',consolas,'Courier New',monospace\"><span style=\"background-color: #800000; font-weight: bold\"> ERROR </span><span style=\"color: #800000; text-decoration-color: #800000; font-weight: bold\"> No solutions for compound=C96 (comp.reactions.ids=[])!</span>\n",
       "</pre>\n"
      ],
      "text/plain": [
       "\u001b[1;7;31m ERROR \u001b[0m\u001b[1;31m No solutions for compound=C96 (comp.reactions.ids=[])!\u001b[0m\n"
      ]
     },
     "metadata": {},
     "output_type": "display_data"
    },
    {
     "data": {
      "text/html": [
       "<pre style=\"white-space:pre;overflow-x:auto;line-height:normal;font-family:Menlo,'DejaVu Sans Mono',consolas,'Courier New',monospace\"><span style=\"background-color: #800000; font-weight: bold\"> ERROR </span><span style=\"color: #800000; text-decoration-color: #800000; font-weight: bold\"> No entry in quote with quote_compound=133!</span>\n",
       "</pre>\n"
      ],
      "text/plain": [
       "\u001b[1;7;31m ERROR \u001b[0m\u001b[1;31m No entry in quote with quote_compound=133!\u001b[0m\n"
      ]
     },
     "metadata": {},
     "output_type": "display_data"
    },
    {
     "data": {
      "text/html": [
       "<pre style=\"white-space:pre;overflow-x:auto;line-height:normal;font-family:Menlo,'DejaVu Sans Mono',consolas,'Courier New',monospace\"><span style=\"background-color: #800000; font-weight: bold\"> ERROR </span><span style=\"color: #800000; text-decoration-color: #800000; font-weight: bold\"> No entry in quote with quote_compound=252!</span>\n",
       "</pre>\n"
      ],
      "text/plain": [
       "\u001b[1;7;31m ERROR \u001b[0m\u001b[1;31m No entry in quote with quote_compound=252!\u001b[0m\n"
      ]
     },
     "metadata": {},
     "output_type": "display_data"
    },
    {
     "data": {
      "text/html": [
       "<pre style=\"white-space:pre;overflow-x:auto;line-height:normal;font-family:Menlo,'DejaVu Sans Mono',consolas,'Courier New',monospace\"><span style=\"background-color: #800000; font-weight: bold\"> ERROR </span><span style=\"color: #800000; text-decoration-color: #800000; font-weight: bold\"> No entry in quote with quote_compound=250!</span>\n",
       "</pre>\n"
      ],
      "text/plain": [
       "\u001b[1;7;31m ERROR \u001b[0m\u001b[1;31m No entry in quote with quote_compound=250!\u001b[0m\n"
      ]
     },
     "metadata": {},
     "output_type": "display_data"
    },
    {
     "data": {
      "text/html": [
       "<pre style=\"white-space:pre;overflow-x:auto;line-height:normal;font-family:Menlo,'DejaVu Sans Mono',consolas,'Courier New',monospace\"><span style=\"background-color: #800000; font-weight: bold\"> ERROR </span><span style=\"color: #800000; text-decoration-color: #800000; font-weight: bold\"> No entry in quote with quote_compound=248!</span>\n",
       "</pre>\n"
      ],
      "text/plain": [
       "\u001b[1;7;31m ERROR \u001b[0m\u001b[1;31m No entry in quote with quote_compound=248!\u001b[0m\n"
      ]
     },
     "metadata": {},
     "output_type": "display_data"
    },
    {
     "data": {
      "text/html": [
       "<pre style=\"white-space:pre;overflow-x:auto;line-height:normal;font-family:Menlo,'DejaVu Sans Mono',consolas,'Courier New',monospace\"><span style=\"background-color: #800000; font-weight: bold\"> ERROR </span><span style=\"color: #800000; text-decoration-color: #800000; font-weight: bold\"> No entry in quote with quote_compound=250!</span>\n",
       "</pre>\n"
      ],
      "text/plain": [
       "\u001b[1;7;31m ERROR \u001b[0m\u001b[1;31m No entry in quote with quote_compound=250!\u001b[0m\n"
      ]
     },
     "metadata": {},
     "output_type": "display_data"
    },
    {
     "data": {
      "text/html": [
       "<pre style=\"white-space:pre;overflow-x:auto;line-height:normal;font-family:Menlo,'DejaVu Sans Mono',consolas,'Courier New',monospace\"><span style=\"background-color: #800000; font-weight: bold\"> ERROR </span><span style=\"color: #800000; text-decoration-color: #800000; font-weight: bold\"> No entry in quote with quote_compound=251!</span>\n",
       "</pre>\n"
      ],
      "text/plain": [
       "\u001b[1;7;31m ERROR \u001b[0m\u001b[1;31m No entry in quote with quote_compound=251!\u001b[0m\n"
      ]
     },
     "metadata": {},
     "output_type": "display_data"
    },
    {
     "data": {
      "text/html": [
       "<pre style=\"white-space:pre;overflow-x:auto;line-height:normal;font-family:Menlo,'DejaVu Sans Mono',consolas,'Courier New',monospace\"><span style=\"background-color: #800000; font-weight: bold\"> ERROR </span><span style=\"color: #800000; text-decoration-color: #800000; font-weight: bold\"> No entry in quote with quote_compound=252!</span>\n",
       "</pre>\n"
      ],
      "text/plain": [
       "\u001b[1;7;31m ERROR \u001b[0m\u001b[1;31m No entry in quote with quote_compound=252!\u001b[0m\n"
      ]
     },
     "metadata": {},
     "output_type": "display_data"
    },
    {
     "data": {
      "text/html": [
       "<pre style=\"white-space:pre;overflow-x:auto;line-height:normal;font-family:Menlo,'DejaVu Sans Mono',consolas,'Courier New',monospace\"><span style=\"background-color: #008000; font-weight: bold\"> Success </span><span style=\"color: #008000; text-decoration-color: #008000; font-weight: bold\"> Found solution for compound=C133!</span>\n",
       "</pre>\n"
      ],
      "text/plain": [
       "\u001b[1;7;32m Success \u001b[0m\u001b[1;32m Found solution for compound=C133!\u001b[0m\n"
      ]
     },
     "metadata": {},
     "output_type": "display_data"
    },
    {
     "data": {
      "text/html": [
       "<pre style=\"white-space:pre;overflow-x:auto;line-height:normal;font-family:Menlo,'DejaVu Sans Mono',consolas,'Courier New',monospace\"><span style=\"background-color: #800000; font-weight: bold\"> ERROR </span><span style=\"color: #800000; text-decoration-color: #800000; font-weight: bold\"> No entry in quote with quote_compound=134!</span>\n",
       "</pre>\n"
      ],
      "text/plain": [
       "\u001b[1;7;31m ERROR \u001b[0m\u001b[1;31m No entry in quote with quote_compound=134!\u001b[0m\n"
      ]
     },
     "metadata": {},
     "output_type": "display_data"
    },
    {
     "data": {
      "text/html": [
       "<pre style=\"white-space:pre;overflow-x:auto;line-height:normal;font-family:Menlo,'DejaVu Sans Mono',consolas,'Courier New',monospace\"><span style=\"background-color: #800000; font-weight: bold\"> ERROR </span><span style=\"color: #800000; text-decoration-color: #800000; font-weight: bold\"> No entry in quote with quote_compound=2761!</span>\n",
       "</pre>\n"
      ],
      "text/plain": [
       "\u001b[1;7;31m ERROR \u001b[0m\u001b[1;31m No entry in quote with quote_compound=2761!\u001b[0m\n"
      ]
     },
     "metadata": {},
     "output_type": "display_data"
    },
    {
     "data": {
      "text/html": [
       "<pre style=\"white-space:pre;overflow-x:auto;line-height:normal;font-family:Menlo,'DejaVu Sans Mono',consolas,'Courier New',monospace\"><span style=\"background-color: #800000; font-weight: bold\"> ERROR </span><span style=\"color: #800000; text-decoration-color: #800000; font-weight: bold\"> No entry in quote with quote_compound=2759!</span>\n",
       "</pre>\n"
      ],
      "text/plain": [
       "\u001b[1;7;31m ERROR \u001b[0m\u001b[1;31m No entry in quote with quote_compound=2759!\u001b[0m\n"
      ]
     },
     "metadata": {},
     "output_type": "display_data"
    },
    {
     "data": {
      "text/html": [
       "<pre style=\"white-space:pre;overflow-x:auto;line-height:normal;font-family:Menlo,'DejaVu Sans Mono',consolas,'Courier New',monospace\"><span style=\"background-color: #800000; font-weight: bold\"> ERROR </span><span style=\"color: #800000; text-decoration-color: #800000; font-weight: bold\"> No entry in quote with quote_compound=251!</span>\n",
       "</pre>\n"
      ],
      "text/plain": [
       "\u001b[1;7;31m ERROR \u001b[0m\u001b[1;31m No entry in quote with quote_compound=251!\u001b[0m\n"
      ]
     },
     "metadata": {},
     "output_type": "display_data"
    },
    {
     "data": {
      "text/html": [
       "<pre style=\"white-space:pre;overflow-x:auto;line-height:normal;font-family:Menlo,'DejaVu Sans Mono',consolas,'Courier New',monospace\"><span style=\"background-color: #800000; font-weight: bold\"> ERROR </span><span style=\"color: #800000; text-decoration-color: #800000; font-weight: bold\"> No entry in quote with quote_compound=2759!</span>\n",
       "</pre>\n"
      ],
      "text/plain": [
       "\u001b[1;7;31m ERROR \u001b[0m\u001b[1;31m No entry in quote with quote_compound=2759!\u001b[0m\n"
      ]
     },
     "metadata": {},
     "output_type": "display_data"
    },
    {
     "data": {
      "text/html": [
       "<pre style=\"white-space:pre;overflow-x:auto;line-height:normal;font-family:Menlo,'DejaVu Sans Mono',consolas,'Courier New',monospace\"><span style=\"background-color: #800000; font-weight: bold\"> ERROR </span><span style=\"color: #800000; text-decoration-color: #800000; font-weight: bold\"> No entry in quote with quote_compound=2761!</span>\n",
       "</pre>\n"
      ],
      "text/plain": [
       "\u001b[1;7;31m ERROR \u001b[0m\u001b[1;31m No entry in quote with quote_compound=2761!\u001b[0m\n"
      ]
     },
     "metadata": {},
     "output_type": "display_data"
    },
    {
     "data": {
      "text/html": [
       "<pre style=\"white-space:pre;overflow-x:auto;line-height:normal;font-family:Menlo,'DejaVu Sans Mono',consolas,'Courier New',monospace\"><span style=\"background-color: #008000; font-weight: bold\"> Success </span><span style=\"color: #008000; text-decoration-color: #008000; font-weight: bold\"> Found solution for compound=C134!</span>\n",
       "</pre>\n"
      ],
      "text/plain": [
       "\u001b[1;7;32m Success \u001b[0m\u001b[1;32m Found solution for compound=C134!\u001b[0m\n"
      ]
     },
     "metadata": {},
     "output_type": "display_data"
    },
    {
     "data": {
      "text/html": [
       "<pre style=\"white-space:pre;overflow-x:auto;line-height:normal;font-family:Menlo,'DejaVu Sans Mono',consolas,'Courier New',monospace\"><span style=\"background-color: #800000; font-weight: bold\"> ERROR </span><span style=\"color: #800000; text-decoration-color: #800000; font-weight: bold\"> No entry in quote with quote_compound=135!</span>\n",
       "</pre>\n"
      ],
      "text/plain": [
       "\u001b[1;7;31m ERROR \u001b[0m\u001b[1;31m No entry in quote with quote_compound=135!\u001b[0m\n"
      ]
     },
     "metadata": {},
     "output_type": "display_data"
    },
    {
     "data": {
      "text/html": [
       "<pre style=\"white-space:pre;overflow-x:auto;line-height:normal;font-family:Menlo,'DejaVu Sans Mono',consolas,'Courier New',monospace\"><span style=\"background-color: #800000; font-weight: bold\"> ERROR </span><span style=\"color: #800000; text-decoration-color: #800000; font-weight: bold\"> No entry in quote with quote_compound=5729!</span>\n",
       "</pre>\n"
      ],
      "text/plain": [
       "\u001b[1;7;31m ERROR \u001b[0m\u001b[1;31m No entry in quote with quote_compound=5729!\u001b[0m\n"
      ]
     },
     "metadata": {},
     "output_type": "display_data"
    },
    {
     "data": {
      "text/html": [
       "<pre style=\"white-space:pre;overflow-x:auto;line-height:normal;font-family:Menlo,'DejaVu Sans Mono',consolas,'Courier New',monospace\"><span style=\"background-color: #800000; font-weight: bold\"> ERROR </span><span style=\"color: #800000; text-decoration-color: #800000; font-weight: bold\"> No entry in quote with quote_compound=250!</span>\n",
       "</pre>\n"
      ],
      "text/plain": [
       "\u001b[1;7;31m ERROR \u001b[0m\u001b[1;31m No entry in quote with quote_compound=250!\u001b[0m\n"
      ]
     },
     "metadata": {},
     "output_type": "display_data"
    },
    {
     "data": {
      "text/html": [
       "<pre style=\"white-space:pre;overflow-x:auto;line-height:normal;font-family:Menlo,'DejaVu Sans Mono',consolas,'Courier New',monospace\"><span style=\"background-color: #800000; font-weight: bold\"> ERROR </span><span style=\"color: #800000; text-decoration-color: #800000; font-weight: bold\"> No entry in quote with quote_compound=248!</span>\n",
       "</pre>\n"
      ],
      "text/plain": [
       "\u001b[1;7;31m ERROR \u001b[0m\u001b[1;31m No entry in quote with quote_compound=248!\u001b[0m\n"
      ]
     },
     "metadata": {},
     "output_type": "display_data"
    },
    {
     "data": {
      "text/html": [
       "<pre style=\"white-space:pre;overflow-x:auto;line-height:normal;font-family:Menlo,'DejaVu Sans Mono',consolas,'Courier New',monospace\"><span style=\"background-color: #800000; font-weight: bold\"> ERROR </span><span style=\"color: #800000; text-decoration-color: #800000; font-weight: bold\"> No entry in quote with quote_compound=250!</span>\n",
       "</pre>\n"
      ],
      "text/plain": [
       "\u001b[1;7;31m ERROR \u001b[0m\u001b[1;31m No entry in quote with quote_compound=250!\u001b[0m\n"
      ]
     },
     "metadata": {},
     "output_type": "display_data"
    },
    {
     "data": {
      "text/html": [
       "<pre style=\"white-space:pre;overflow-x:auto;line-height:normal;font-family:Menlo,'DejaVu Sans Mono',consolas,'Courier New',monospace\"><span style=\"background-color: #800000; font-weight: bold\"> ERROR </span><span style=\"color: #800000; text-decoration-color: #800000; font-weight: bold\"> No entry in quote with quote_compound=5728!</span>\n",
       "</pre>\n"
      ],
      "text/plain": [
       "\u001b[1;7;31m ERROR \u001b[0m\u001b[1;31m No entry in quote with quote_compound=5728!\u001b[0m\n"
      ]
     },
     "metadata": {},
     "output_type": "display_data"
    },
    {
     "data": {
      "text/html": [
       "<pre style=\"white-space:pre;overflow-x:auto;line-height:normal;font-family:Menlo,'DejaVu Sans Mono',consolas,'Courier New',monospace\"><span style=\"background-color: #800000; font-weight: bold\"> ERROR </span><span style=\"color: #800000; text-decoration-color: #800000; font-weight: bold\"> No entry in quote with quote_compound=5729!</span>\n",
       "</pre>\n"
      ],
      "text/plain": [
       "\u001b[1;7;31m ERROR \u001b[0m\u001b[1;31m No entry in quote with quote_compound=5729!\u001b[0m\n"
      ]
     },
     "metadata": {},
     "output_type": "display_data"
    },
    {
     "data": {
      "text/html": [
       "<pre style=\"white-space:pre;overflow-x:auto;line-height:normal;font-family:Menlo,'DejaVu Sans Mono',consolas,'Courier New',monospace\"><span style=\"background-color: #008000; font-weight: bold\"> Success </span><span style=\"color: #008000; text-decoration-color: #008000; font-weight: bold\"> Found solution for compound=C135!</span>\n",
       "</pre>\n"
      ],
      "text/plain": [
       "\u001b[1;7;32m Success \u001b[0m\u001b[1;32m Found solution for compound=C135!\u001b[0m\n"
      ]
     },
     "metadata": {},
     "output_type": "display_data"
    },
    {
     "data": {
      "text/html": [
       "<pre style=\"white-space:pre;overflow-x:auto;line-height:normal;font-family:Menlo,'DejaVu Sans Mono',consolas,'Courier New',monospace\"><span style=\"background-color: #800000; font-weight: bold\"> ERROR </span><span style=\"color: #800000; text-decoration-color: #800000; font-weight: bold\"> No entry in quote with quote_compound=136!</span>\n",
       "</pre>\n"
      ],
      "text/plain": [
       "\u001b[1;7;31m ERROR \u001b[0m\u001b[1;31m No entry in quote with quote_compound=136!\u001b[0m\n"
      ]
     },
     "metadata": {},
     "output_type": "display_data"
    },
    {
     "data": {
      "text/html": [
       "<pre style=\"white-space:pre;overflow-x:auto;line-height:normal;font-family:Menlo,'DejaVu Sans Mono',consolas,'Courier New',monospace\"><span style=\"background-color: #800000; font-weight: bold\"> ERROR </span><span style=\"color: #800000; text-decoration-color: #800000; font-weight: bold\"> No entry in quote with quote_compound=8871!</span>\n",
       "</pre>\n"
      ],
      "text/plain": [
       "\u001b[1;7;31m ERROR \u001b[0m\u001b[1;31m No entry in quote with quote_compound=8871!\u001b[0m\n"
      ]
     },
     "metadata": {},
     "output_type": "display_data"
    },
    {
     "data": {
      "text/html": [
       "<pre style=\"white-space:pre;overflow-x:auto;line-height:normal;font-family:Menlo,'DejaVu Sans Mono',consolas,'Courier New',monospace\"><span style=\"background-color: #800000; font-weight: bold\"> ERROR </span><span style=\"color: #800000; text-decoration-color: #800000; font-weight: bold\"> No entry in quote with quote_compound=8869!</span>\n",
       "</pre>\n"
      ],
      "text/plain": [
       "\u001b[1;7;31m ERROR \u001b[0m\u001b[1;31m No entry in quote with quote_compound=8869!\u001b[0m\n"
      ]
     },
     "metadata": {},
     "output_type": "display_data"
    },
    {
     "data": {
      "text/html": [
       "<pre style=\"white-space:pre;overflow-x:auto;line-height:normal;font-family:Menlo,'DejaVu Sans Mono',consolas,'Courier New',monospace\"><span style=\"background-color: #800000; font-weight: bold\"> ERROR </span><span style=\"color: #800000; text-decoration-color: #800000; font-weight: bold\"> No entry in quote with quote_compound=5728!</span>\n",
       "</pre>\n"
      ],
      "text/plain": [
       "\u001b[1;7;31m ERROR \u001b[0m\u001b[1;31m No entry in quote with quote_compound=5728!\u001b[0m\n"
      ]
     },
     "metadata": {},
     "output_type": "display_data"
    },
    {
     "data": {
      "text/html": [
       "<pre style=\"white-space:pre;overflow-x:auto;line-height:normal;font-family:Menlo,'DejaVu Sans Mono',consolas,'Courier New',monospace\"><span style=\"background-color: #800000; font-weight: bold\"> ERROR </span><span style=\"color: #800000; text-decoration-color: #800000; font-weight: bold\"> No entry in quote with quote_compound=8869!</span>\n",
       "</pre>\n"
      ],
      "text/plain": [
       "\u001b[1;7;31m ERROR \u001b[0m\u001b[1;31m No entry in quote with quote_compound=8869!\u001b[0m\n"
      ]
     },
     "metadata": {},
     "output_type": "display_data"
    },
    {
     "data": {
      "text/html": [
       "<pre style=\"white-space:pre;overflow-x:auto;line-height:normal;font-family:Menlo,'DejaVu Sans Mono',consolas,'Courier New',monospace\"><span style=\"background-color: #800000; font-weight: bold\"> ERROR </span><span style=\"color: #800000; text-decoration-color: #800000; font-weight: bold\"> No entry in quote with quote_compound=8870!</span>\n",
       "</pre>\n"
      ],
      "text/plain": [
       "\u001b[1;7;31m ERROR \u001b[0m\u001b[1;31m No entry in quote with quote_compound=8870!\u001b[0m\n"
      ]
     },
     "metadata": {},
     "output_type": "display_data"
    },
    {
     "data": {
      "text/html": [
       "<pre style=\"white-space:pre;overflow-x:auto;line-height:normal;font-family:Menlo,'DejaVu Sans Mono',consolas,'Courier New',monospace\"><span style=\"background-color: #800000; font-weight: bold\"> ERROR </span><span style=\"color: #800000; text-decoration-color: #800000; font-weight: bold\"> No entry in quote with quote_compound=8871!</span>\n",
       "</pre>\n"
      ],
      "text/plain": [
       "\u001b[1;7;31m ERROR \u001b[0m\u001b[1;31m No entry in quote with quote_compound=8871!\u001b[0m\n"
      ]
     },
     "metadata": {},
     "output_type": "display_data"
    },
    {
     "data": {
      "text/html": [
       "<pre style=\"white-space:pre;overflow-x:auto;line-height:normal;font-family:Menlo,'DejaVu Sans Mono',consolas,'Courier New',monospace\"><span style=\"background-color: #800000; font-weight: bold\"> ERROR </span><span style=\"color: #800000; text-decoration-color: #800000; font-weight: bold\"> No entry in quote with quote_compound=31844!</span>\n",
       "</pre>\n"
      ],
      "text/plain": [
       "\u001b[1;7;31m ERROR \u001b[0m\u001b[1;31m No entry in quote with quote_compound=31844!\u001b[0m\n"
      ]
     },
     "metadata": {},
     "output_type": "display_data"
    },
    {
     "data": {
      "text/html": [
       "<pre style=\"white-space:pre;overflow-x:auto;line-height:normal;font-family:Menlo,'DejaVu Sans Mono',consolas,'Courier New',monospace\"><span style=\"background-color: #800000; font-weight: bold\"> ERROR </span><span style=\"color: #800000; text-decoration-color: #800000; font-weight: bold\"> No entry in quote with quote_compound=5728!</span>\n",
       "</pre>\n"
      ],
      "text/plain": [
       "\u001b[1;7;31m ERROR \u001b[0m\u001b[1;31m No entry in quote with quote_compound=5728!\u001b[0m\n"
      ]
     },
     "metadata": {},
     "output_type": "display_data"
    },
    {
     "data": {
      "text/html": [
       "<pre style=\"white-space:pre;overflow-x:auto;line-height:normal;font-family:Menlo,'DejaVu Sans Mono',consolas,'Courier New',monospace\"><span style=\"background-color: #800000; font-weight: bold\"> ERROR </span><span style=\"color: #800000; text-decoration-color: #800000; font-weight: bold\"> No entry in quote with quote_compound=8870!</span>\n",
       "</pre>\n"
      ],
      "text/plain": [
       "\u001b[1;7;31m ERROR \u001b[0m\u001b[1;31m No entry in quote with quote_compound=8870!\u001b[0m\n"
      ]
     },
     "metadata": {},
     "output_type": "display_data"
    },
    {
     "data": {
      "text/html": [
       "<pre style=\"white-space:pre;overflow-x:auto;line-height:normal;font-family:Menlo,'DejaVu Sans Mono',consolas,'Courier New',monospace\"><span style=\"background-color: #800000; font-weight: bold\"> ERROR </span><span style=\"color: #800000; text-decoration-color: #800000; font-weight: bold\"> No entry in quote with quote_compound=31844!</span>\n",
       "</pre>\n"
      ],
      "text/plain": [
       "\u001b[1;7;31m ERROR \u001b[0m\u001b[1;31m No entry in quote with quote_compound=31844!\u001b[0m\n"
      ]
     },
     "metadata": {},
     "output_type": "display_data"
    },
    {
     "data": {
      "text/html": [
       "<pre style=\"white-space:pre;overflow-x:auto;line-height:normal;font-family:Menlo,'DejaVu Sans Mono',consolas,'Courier New',monospace\"><span style=\"background-color: #800000; font-weight: bold\"> ERROR </span><span style=\"color: #800000; text-decoration-color: #800000; font-weight: bold\"> No entry in quote with quote_compound=8871!</span>\n",
       "</pre>\n"
      ],
      "text/plain": [
       "\u001b[1;7;31m ERROR \u001b[0m\u001b[1;31m No entry in quote with quote_compound=8871!\u001b[0m\n"
      ]
     },
     "metadata": {},
     "output_type": "display_data"
    },
    {
     "data": {
      "text/html": [
       "<pre style=\"white-space:pre;overflow-x:auto;line-height:normal;font-family:Menlo,'DejaVu Sans Mono',consolas,'Courier New',monospace\"><span style=\"background-color: #800000; font-weight: bold\"> ERROR </span><span style=\"color: #800000; text-decoration-color: #800000; font-weight: bold\"> No entry in quote with quote_compound=8871!</span>\n",
       "</pre>\n"
      ],
      "text/plain": [
       "\u001b[1;7;31m ERROR \u001b[0m\u001b[1;31m No entry in quote with quote_compound=8871!\u001b[0m\n"
      ]
     },
     "metadata": {},
     "output_type": "display_data"
    },
    {
     "data": {
      "text/html": [
       "<pre style=\"white-space:pre;overflow-x:auto;line-height:normal;font-family:Menlo,'DejaVu Sans Mono',consolas,'Courier New',monospace\"><span style=\"background-color: #800000; font-weight: bold\"> ERROR </span><span style=\"color: #800000; text-decoration-color: #800000; font-weight: bold\"> No entry in quote with quote_compound=8872!</span>\n",
       "</pre>\n"
      ],
      "text/plain": [
       "\u001b[1;7;31m ERROR \u001b[0m\u001b[1;31m No entry in quote with quote_compound=8872!\u001b[0m\n"
      ]
     },
     "metadata": {},
     "output_type": "display_data"
    },
    {
     "data": {
      "text/html": [
       "<pre style=\"white-space:pre;overflow-x:auto;line-height:normal;font-family:Menlo,'DejaVu Sans Mono',consolas,'Courier New',monospace\"><span style=\"background-color: #800000; font-weight: bold\"> ERROR </span><span style=\"color: #800000; text-decoration-color: #800000; font-weight: bold\"> No entry in quote with quote_compound=8872!</span>\n",
       "</pre>\n"
      ],
      "text/plain": [
       "\u001b[1;7;31m ERROR \u001b[0m\u001b[1;31m No entry in quote with quote_compound=8872!\u001b[0m\n"
      ]
     },
     "metadata": {},
     "output_type": "display_data"
    },
    {
     "data": {
      "text/html": [
       "<pre style=\"white-space:pre;overflow-x:auto;line-height:normal;font-family:Menlo,'DejaVu Sans Mono',consolas,'Courier New',monospace\"><span style=\"background-color: #ff8700; font-weight: bold\"> Warning </span><span style=\"color: #ff8700; text-decoration-color: #ff8700\"> Multiple solutions for compound=C136!</span>\n",
       "</pre>\n"
      ],
      "text/plain": [
       "\u001b[1;7;38;5;208m Warning \u001b[0m\u001b[38;5;208m Multiple solutions for compound=C136!\u001b[0m\n"
      ]
     },
     "metadata": {},
     "output_type": "display_data"
    },
    {
     "data": {
      "text/html": [
       "<pre style=\"white-space:pre;overflow-x:auto;line-height:normal;font-family:Menlo,'DejaVu Sans Mono',consolas,'Courier New',monospace\"><span style=\"background-color: #800000; font-weight: bold\"> ERROR </span><span style=\"color: #800000; text-decoration-color: #800000; font-weight: bold\"> No solutions for compound=C137 (comp.reactions.ids=[])!</span>\n",
       "</pre>\n"
      ],
      "text/plain": [
       "\u001b[1;7;31m ERROR \u001b[0m\u001b[1;31m No solutions for compound=C137 (comp.reactions.ids=[])!\u001b[0m\n"
      ]
     },
     "metadata": {},
     "output_type": "display_data"
    },
    {
     "data": {
      "text/html": [
       "<pre style=\"white-space:pre;overflow-x:auto;line-height:normal;font-family:Menlo,'DejaVu Sans Mono',consolas,'Courier New',monospace\"><span style=\"background-color: #800000; font-weight: bold\"> ERROR </span><span style=\"color: #800000; text-decoration-color: #800000; font-weight: bold\"> No solutions for compound=C138 (comp.reactions.ids=[])!</span>\n",
       "</pre>\n"
      ],
      "text/plain": [
       "\u001b[1;7;31m ERROR \u001b[0m\u001b[1;31m No solutions for compound=C138 (comp.reactions.ids=[])!\u001b[0m\n"
      ]
     },
     "metadata": {},
     "output_type": "display_data"
    },
    {
     "data": {
      "text/html": [
       "<pre style=\"white-space:pre;overflow-x:auto;line-height:normal;font-family:Menlo,'DejaVu Sans Mono',consolas,'Courier New',monospace\"><span style=\"background-color: #800000; font-weight: bold\"> ERROR </span><span style=\"color: #800000; text-decoration-color: #800000; font-weight: bold\"> No entry in quote with quote_compound=139!</span>\n",
       "</pre>\n"
      ],
      "text/plain": [
       "\u001b[1;7;31m ERROR \u001b[0m\u001b[1;31m No entry in quote with quote_compound=139!\u001b[0m\n"
      ]
     },
     "metadata": {},
     "output_type": "display_data"
    },
    {
     "data": {
      "text/html": [
       "<pre style=\"white-space:pre;overflow-x:auto;line-height:normal;font-family:Menlo,'DejaVu Sans Mono',consolas,'Courier New',monospace\"><span style=\"background-color: #008000; font-weight: bold\"> Success </span><span style=\"color: #008000; text-decoration-color: #008000; font-weight: bold\"> Found solution for compound=C139!</span>\n",
       "</pre>\n"
      ],
      "text/plain": [
       "\u001b[1;7;32m Success \u001b[0m\u001b[1;32m Found solution for compound=C139!\u001b[0m\n"
      ]
     },
     "metadata": {},
     "output_type": "display_data"
    },
    {
     "data": {
      "text/html": [
       "<pre style=\"white-space:pre;overflow-x:auto;line-height:normal;font-family:Menlo,'DejaVu Sans Mono',consolas,'Courier New',monospace\"><span style=\"background-color: #800000; font-weight: bold\"> ERROR </span><span style=\"color: #800000; text-decoration-color: #800000; font-weight: bold\"> No solutions for compound=C140 (comp.reactions.ids=[])!</span>\n",
       "</pre>\n"
      ],
      "text/plain": [
       "\u001b[1;7;31m ERROR \u001b[0m\u001b[1;31m No solutions for compound=C140 (comp.reactions.ids=[])!\u001b[0m\n"
      ]
     },
     "metadata": {},
     "output_type": "display_data"
    },
    {
     "data": {
      "text/html": [
       "<pre style=\"white-space:pre;overflow-x:auto;line-height:normal;font-family:Menlo,'DejaVu Sans Mono',consolas,'Courier New',monospace\"><span style=\"background-color: #800000; font-weight: bold\"> ERROR </span><span style=\"color: #800000; text-decoration-color: #800000; font-weight: bold\"> No solutions for compound=C141 (comp.reactions.ids=[])!</span>\n",
       "</pre>\n"
      ],
      "text/plain": [
       "\u001b[1;7;31m ERROR \u001b[0m\u001b[1;31m No solutions for compound=C141 (comp.reactions.ids=[])!\u001b[0m\n"
      ]
     },
     "metadata": {},
     "output_type": "display_data"
    },
    {
     "data": {
      "text/html": [
       "<pre style=\"white-space:pre;overflow-x:auto;line-height:normal;font-family:Menlo,'DejaVu Sans Mono',consolas,'Courier New',monospace\"><span style=\"background-color: #800000; font-weight: bold\"> ERROR </span><span style=\"color: #800000; text-decoration-color: #800000; font-weight: bold\"> No solutions for compound=C142 (comp.reactions.ids=[])!</span>\n",
       "</pre>\n"
      ],
      "text/plain": [
       "\u001b[1;7;31m ERROR \u001b[0m\u001b[1;31m No solutions for compound=C142 (comp.reactions.ids=[])!\u001b[0m\n"
      ]
     },
     "metadata": {},
     "output_type": "display_data"
    },
    {
     "data": {
      "text/html": [
       "<pre style=\"white-space:pre;overflow-x:auto;line-height:normal;font-family:Menlo,'DejaVu Sans Mono',consolas,'Courier New',monospace\"><span style=\"background-color: #800000; font-weight: bold\"> ERROR </span><span style=\"color: #800000; text-decoration-color: #800000; font-weight: bold\"> No entry in quote with quote_compound=143!</span>\n",
       "</pre>\n"
      ],
      "text/plain": [
       "\u001b[1;7;31m ERROR \u001b[0m\u001b[1;31m No entry in quote with quote_compound=143!\u001b[0m\n"
      ]
     },
     "metadata": {},
     "output_type": "display_data"
    },
    {
     "data": {
      "text/html": [
       "<pre style=\"white-space:pre;overflow-x:auto;line-height:normal;font-family:Menlo,'DejaVu Sans Mono',consolas,'Courier New',monospace\"><span style=\"background-color: #800000; font-weight: bold\"> ERROR </span><span style=\"color: #800000; text-decoration-color: #800000; font-weight: bold\"> No entry in quote with quote_compound=22818!</span>\n",
       "</pre>\n"
      ],
      "text/plain": [
       "\u001b[1;7;31m ERROR \u001b[0m\u001b[1;31m No entry in quote with quote_compound=22818!\u001b[0m\n"
      ]
     },
     "metadata": {},
     "output_type": "display_data"
    },
    {
     "data": {
      "text/html": [
       "<pre style=\"white-space:pre;overflow-x:auto;line-height:normal;font-family:Menlo,'DejaVu Sans Mono',consolas,'Courier New',monospace\"><span style=\"background-color: #800000; font-weight: bold\"> ERROR </span><span style=\"color: #800000; text-decoration-color: #800000; font-weight: bold\"> No entry in quote with quote_compound=8869!</span>\n",
       "</pre>\n"
      ],
      "text/plain": [
       "\u001b[1;7;31m ERROR \u001b[0m\u001b[1;31m No entry in quote with quote_compound=8869!\u001b[0m\n"
      ]
     },
     "metadata": {},
     "output_type": "display_data"
    },
    {
     "data": {
      "text/html": [
       "<pre style=\"white-space:pre;overflow-x:auto;line-height:normal;font-family:Menlo,'DejaVu Sans Mono',consolas,'Courier New',monospace\"><span style=\"background-color: #800000; font-weight: bold\"> ERROR </span><span style=\"color: #800000; text-decoration-color: #800000; font-weight: bold\"> No entry in quote with quote_compound=5728!</span>\n",
       "</pre>\n"
      ],
      "text/plain": [
       "\u001b[1;7;31m ERROR \u001b[0m\u001b[1;31m No entry in quote with quote_compound=5728!\u001b[0m\n"
      ]
     },
     "metadata": {},
     "output_type": "display_data"
    },
    {
     "data": {
      "text/html": [
       "<pre style=\"white-space:pre;overflow-x:auto;line-height:normal;font-family:Menlo,'DejaVu Sans Mono',consolas,'Courier New',monospace\"><span style=\"background-color: #800000; font-weight: bold\"> ERROR </span><span style=\"color: #800000; text-decoration-color: #800000; font-weight: bold\"> No entry in quote with quote_compound=8869!</span>\n",
       "</pre>\n"
      ],
      "text/plain": [
       "\u001b[1;7;31m ERROR \u001b[0m\u001b[1;31m No entry in quote with quote_compound=8869!\u001b[0m\n"
      ]
     },
     "metadata": {},
     "output_type": "display_data"
    },
    {
     "data": {
      "text/html": [
       "<pre style=\"white-space:pre;overflow-x:auto;line-height:normal;font-family:Menlo,'DejaVu Sans Mono',consolas,'Courier New',monospace\"><span style=\"background-color: #800000; font-weight: bold\"> ERROR </span><span style=\"color: #800000; text-decoration-color: #800000; font-weight: bold\"> No entry in quote with quote_compound=22818!</span>\n",
       "</pre>\n"
      ],
      "text/plain": [
       "\u001b[1;7;31m ERROR \u001b[0m\u001b[1;31m No entry in quote with quote_compound=22818!\u001b[0m\n"
      ]
     },
     "metadata": {},
     "output_type": "display_data"
    },
    {
     "data": {
      "text/html": [
       "<pre style=\"white-space:pre;overflow-x:auto;line-height:normal;font-family:Menlo,'DejaVu Sans Mono',consolas,'Courier New',monospace\"><span style=\"background-color: #008000; font-weight: bold\"> Success </span><span style=\"color: #008000; text-decoration-color: #008000; font-weight: bold\"> Found solution for compound=C143!</span>\n",
       "</pre>\n"
      ],
      "text/plain": [
       "\u001b[1;7;32m Success \u001b[0m\u001b[1;32m Found solution for compound=C143!\u001b[0m\n"
      ]
     },
     "metadata": {},
     "output_type": "display_data"
    },
    {
     "data": {
      "text/html": [
       "<pre style=\"white-space:pre;overflow-x:auto;line-height:normal;font-family:Menlo,'DejaVu Sans Mono',consolas,'Courier New',monospace\"><span style=\"background-color: #800000; font-weight: bold\"> ERROR </span><span style=\"color: #800000; text-decoration-color: #800000; font-weight: bold\"> No solutions for compound=C144 (comp.reactions.ids=[])!</span>\n",
       "</pre>\n"
      ],
      "text/plain": [
       "\u001b[1;7;31m ERROR \u001b[0m\u001b[1;31m No solutions for compound=C144 (comp.reactions.ids=[])!\u001b[0m\n"
      ]
     },
     "metadata": {},
     "output_type": "display_data"
    },
    {
     "data": {
      "text/html": [
       "<pre style=\"white-space:pre;overflow-x:auto;line-height:normal;font-family:Menlo,'DejaVu Sans Mono',consolas,'Courier New',monospace\"><span style=\"background-color: #800000; font-weight: bold\"> ERROR </span><span style=\"color: #800000; text-decoration-color: #800000; font-weight: bold\"> No solutions for compound=C145 (comp.reactions.ids=[])!</span>\n",
       "</pre>\n"
      ],
      "text/plain": [
       "\u001b[1;7;31m ERROR \u001b[0m\u001b[1;31m No solutions for compound=C145 (comp.reactions.ids=[])!\u001b[0m\n"
      ]
     },
     "metadata": {},
     "output_type": "display_data"
    },
    {
     "data": {
      "text/html": [
       "<pre style=\"white-space:pre;overflow-x:auto;line-height:normal;font-family:Menlo,'DejaVu Sans Mono',consolas,'Courier New',monospace\"><span style=\"background-color: #800000; font-weight: bold\"> ERROR </span><span style=\"color: #800000; text-decoration-color: #800000; font-weight: bold\"> No solutions for compound=C146 (comp.reactions.ids=[])!</span>\n",
       "</pre>\n"
      ],
      "text/plain": [
       "\u001b[1;7;31m ERROR \u001b[0m\u001b[1;31m No solutions for compound=C146 (comp.reactions.ids=[])!\u001b[0m\n"
      ]
     },
     "metadata": {},
     "output_type": "display_data"
    },
    {
     "data": {
      "text/html": [
       "<pre style=\"white-space:pre;overflow-x:auto;line-height:normal;font-family:Menlo,'DejaVu Sans Mono',consolas,'Courier New',monospace\"><span style=\"background-color: #800000; font-weight: bold\"> ERROR </span><span style=\"color: #800000; text-decoration-color: #800000; font-weight: bold\"> No solutions for compound=C147 (comp.reactions.ids=[])!</span>\n",
       "</pre>\n"
      ],
      "text/plain": [
       "\u001b[1;7;31m ERROR \u001b[0m\u001b[1;31m No solutions for compound=C147 (comp.reactions.ids=[])!\u001b[0m\n"
      ]
     },
     "metadata": {},
     "output_type": "display_data"
    },
    {
     "data": {
      "text/html": [
       "<pre style=\"white-space:pre;overflow-x:auto;line-height:normal;font-family:Menlo,'DejaVu Sans Mono',consolas,'Courier New',monospace\"><span style=\"background-color: #800000; font-weight: bold\"> ERROR </span><span style=\"color: #800000; text-decoration-color: #800000; font-weight: bold\"> No solutions for compound=C148 (comp.reactions.ids=[])!</span>\n",
       "</pre>\n"
      ],
      "text/plain": [
       "\u001b[1;7;31m ERROR \u001b[0m\u001b[1;31m No solutions for compound=C148 (comp.reactions.ids=[])!\u001b[0m\n"
      ]
     },
     "metadata": {},
     "output_type": "display_data"
    },
    {
     "data": {
      "text/html": [
       "<pre style=\"white-space:pre;overflow-x:auto;line-height:normal;font-family:Menlo,'DejaVu Sans Mono',consolas,'Courier New',monospace\"><span style=\"background-color: #800000; font-weight: bold\"> ERROR </span><span style=\"color: #800000; text-decoration-color: #800000; font-weight: bold\"> No entry in quote with quote_compound=149!</span>\n",
       "</pre>\n"
      ],
      "text/plain": [
       "\u001b[1;7;31m ERROR \u001b[0m\u001b[1;31m No entry in quote with quote_compound=149!\u001b[0m\n"
      ]
     },
     "metadata": {},
     "output_type": "display_data"
    },
    {
     "data": {
      "text/html": [
       "<pre style=\"white-space:pre;overflow-x:auto;line-height:normal;font-family:Menlo,'DejaVu Sans Mono',consolas,'Courier New',monospace\"><span style=\"background-color: #800000; font-weight: bold\"> ERROR </span><span style=\"color: #800000; text-decoration-color: #800000; font-weight: bold\"> No entry in quote with quote_compound=31846!</span>\n",
       "</pre>\n"
      ],
      "text/plain": [
       "\u001b[1;7;31m ERROR \u001b[0m\u001b[1;31m No entry in quote with quote_compound=31846!\u001b[0m\n"
      ]
     },
     "metadata": {},
     "output_type": "display_data"
    },
    {
     "data": {
      "text/html": [
       "<pre style=\"white-space:pre;overflow-x:auto;line-height:normal;font-family:Menlo,'DejaVu Sans Mono',consolas,'Courier New',monospace\"><span style=\"background-color: #800000; font-weight: bold\"> ERROR </span><span style=\"color: #800000; text-decoration-color: #800000; font-weight: bold\"> No entry in quote with quote_compound=8871!</span>\n",
       "</pre>\n"
      ],
      "text/plain": [
       "\u001b[1;7;31m ERROR \u001b[0m\u001b[1;31m No entry in quote with quote_compound=8871!\u001b[0m\n"
      ]
     },
     "metadata": {},
     "output_type": "display_data"
    },
    {
     "data": {
      "text/html": [
       "<pre style=\"white-space:pre;overflow-x:auto;line-height:normal;font-family:Menlo,'DejaVu Sans Mono',consolas,'Courier New',monospace\"><span style=\"background-color: #800000; font-weight: bold\"> ERROR </span><span style=\"color: #800000; text-decoration-color: #800000; font-weight: bold\"> No entry in quote with quote_compound=8869!</span>\n",
       "</pre>\n"
      ],
      "text/plain": [
       "\u001b[1;7;31m ERROR \u001b[0m\u001b[1;31m No entry in quote with quote_compound=8869!\u001b[0m\n"
      ]
     },
     "metadata": {},
     "output_type": "display_data"
    },
    {
     "data": {
      "text/html": [
       "<pre style=\"white-space:pre;overflow-x:auto;line-height:normal;font-family:Menlo,'DejaVu Sans Mono',consolas,'Courier New',monospace\"><span style=\"background-color: #800000; font-weight: bold\"> ERROR </span><span style=\"color: #800000; text-decoration-color: #800000; font-weight: bold\"> No entry in quote with quote_compound=5728!</span>\n",
       "</pre>\n"
      ],
      "text/plain": [
       "\u001b[1;7;31m ERROR \u001b[0m\u001b[1;31m No entry in quote with quote_compound=5728!\u001b[0m\n"
      ]
     },
     "metadata": {},
     "output_type": "display_data"
    },
    {
     "data": {
      "text/html": [
       "<pre style=\"white-space:pre;overflow-x:auto;line-height:normal;font-family:Menlo,'DejaVu Sans Mono',consolas,'Courier New',monospace\"><span style=\"background-color: #800000; font-weight: bold\"> ERROR </span><span style=\"color: #800000; text-decoration-color: #800000; font-weight: bold\"> No entry in quote with quote_compound=8869!</span>\n",
       "</pre>\n"
      ],
      "text/plain": [
       "\u001b[1;7;31m ERROR \u001b[0m\u001b[1;31m No entry in quote with quote_compound=8869!\u001b[0m\n"
      ]
     },
     "metadata": {},
     "output_type": "display_data"
    },
    {
     "data": {
      "text/html": [
       "<pre style=\"white-space:pre;overflow-x:auto;line-height:normal;font-family:Menlo,'DejaVu Sans Mono',consolas,'Courier New',monospace\"><span style=\"background-color: #800000; font-weight: bold\"> ERROR </span><span style=\"color: #800000; text-decoration-color: #800000; font-weight: bold\"> No entry in quote with quote_compound=8870!</span>\n",
       "</pre>\n"
      ],
      "text/plain": [
       "\u001b[1;7;31m ERROR \u001b[0m\u001b[1;31m No entry in quote with quote_compound=8870!\u001b[0m\n"
      ]
     },
     "metadata": {},
     "output_type": "display_data"
    },
    {
     "data": {
      "text/html": [
       "<pre style=\"white-space:pre;overflow-x:auto;line-height:normal;font-family:Menlo,'DejaVu Sans Mono',consolas,'Courier New',monospace\"><span style=\"background-color: #800000; font-weight: bold\"> ERROR </span><span style=\"color: #800000; text-decoration-color: #800000; font-weight: bold\"> No entry in quote with quote_compound=8871!</span>\n",
       "</pre>\n"
      ],
      "text/plain": [
       "\u001b[1;7;31m ERROR \u001b[0m\u001b[1;31m No entry in quote with quote_compound=8871!\u001b[0m\n"
      ]
     },
     "metadata": {},
     "output_type": "display_data"
    },
    {
     "data": {
      "text/html": [
       "<pre style=\"white-space:pre;overflow-x:auto;line-height:normal;font-family:Menlo,'DejaVu Sans Mono',consolas,'Courier New',monospace\"><span style=\"background-color: #800000; font-weight: bold\"> ERROR </span><span style=\"color: #800000; text-decoration-color: #800000; font-weight: bold\"> No entry in quote with quote_compound=31844!</span>\n",
       "</pre>\n"
      ],
      "text/plain": [
       "\u001b[1;7;31m ERROR \u001b[0m\u001b[1;31m No entry in quote with quote_compound=31844!\u001b[0m\n"
      ]
     },
     "metadata": {},
     "output_type": "display_data"
    },
    {
     "data": {
      "text/html": [
       "<pre style=\"white-space:pre;overflow-x:auto;line-height:normal;font-family:Menlo,'DejaVu Sans Mono',consolas,'Courier New',monospace\"><span style=\"background-color: #800000; font-weight: bold\"> ERROR </span><span style=\"color: #800000; text-decoration-color: #800000; font-weight: bold\"> No entry in quote with quote_compound=5728!</span>\n",
       "</pre>\n"
      ],
      "text/plain": [
       "\u001b[1;7;31m ERROR \u001b[0m\u001b[1;31m No entry in quote with quote_compound=5728!\u001b[0m\n"
      ]
     },
     "metadata": {},
     "output_type": "display_data"
    },
    {
     "data": {
      "text/html": [
       "<pre style=\"white-space:pre;overflow-x:auto;line-height:normal;font-family:Menlo,'DejaVu Sans Mono',consolas,'Courier New',monospace\"><span style=\"background-color: #800000; font-weight: bold\"> ERROR </span><span style=\"color: #800000; text-decoration-color: #800000; font-weight: bold\"> No entry in quote with quote_compound=8870!</span>\n",
       "</pre>\n"
      ],
      "text/plain": [
       "\u001b[1;7;31m ERROR \u001b[0m\u001b[1;31m No entry in quote with quote_compound=8870!\u001b[0m\n"
      ]
     },
     "metadata": {},
     "output_type": "display_data"
    },
    {
     "data": {
      "text/html": [
       "<pre style=\"white-space:pre;overflow-x:auto;line-height:normal;font-family:Menlo,'DejaVu Sans Mono',consolas,'Courier New',monospace\"><span style=\"background-color: #800000; font-weight: bold\"> ERROR </span><span style=\"color: #800000; text-decoration-color: #800000; font-weight: bold\"> No entry in quote with quote_compound=31844!</span>\n",
       "</pre>\n"
      ],
      "text/plain": [
       "\u001b[1;7;31m ERROR \u001b[0m\u001b[1;31m No entry in quote with quote_compound=31844!\u001b[0m\n"
      ]
     },
     "metadata": {},
     "output_type": "display_data"
    },
    {
     "data": {
      "text/html": [
       "<pre style=\"white-space:pre;overflow-x:auto;line-height:normal;font-family:Menlo,'DejaVu Sans Mono',consolas,'Courier New',monospace\"><span style=\"background-color: #800000; font-weight: bold\"> ERROR </span><span style=\"color: #800000; text-decoration-color: #800000; font-weight: bold\"> No entry in quote with quote_compound=8871!</span>\n",
       "</pre>\n"
      ],
      "text/plain": [
       "\u001b[1;7;31m ERROR \u001b[0m\u001b[1;31m No entry in quote with quote_compound=8871!\u001b[0m\n"
      ]
     },
     "metadata": {},
     "output_type": "display_data"
    },
    {
     "data": {
      "text/html": [
       "<pre style=\"white-space:pre;overflow-x:auto;line-height:normal;font-family:Menlo,'DejaVu Sans Mono',consolas,'Courier New',monospace\"><span style=\"background-color: #800000; font-weight: bold\"> ERROR </span><span style=\"color: #800000; text-decoration-color: #800000; font-weight: bold\"> No entry in quote with quote_compound=8871!</span>\n",
       "</pre>\n"
      ],
      "text/plain": [
       "\u001b[1;7;31m ERROR \u001b[0m\u001b[1;31m No entry in quote with quote_compound=8871!\u001b[0m\n"
      ]
     },
     "metadata": {},
     "output_type": "display_data"
    },
    {
     "data": {
      "text/html": [
       "<pre style=\"white-space:pre;overflow-x:auto;line-height:normal;font-family:Menlo,'DejaVu Sans Mono',consolas,'Courier New',monospace\"><span style=\"background-color: #800000; font-weight: bold\"> ERROR </span><span style=\"color: #800000; text-decoration-color: #800000; font-weight: bold\"> No entry in quote with quote_compound=31845!</span>\n",
       "</pre>\n"
      ],
      "text/plain": [
       "\u001b[1;7;31m ERROR \u001b[0m\u001b[1;31m No entry in quote with quote_compound=31845!\u001b[0m\n"
      ]
     },
     "metadata": {},
     "output_type": "display_data"
    },
    {
     "data": {
      "text/html": [
       "<pre style=\"white-space:pre;overflow-x:auto;line-height:normal;font-family:Menlo,'DejaVu Sans Mono',consolas,'Courier New',monospace\"><span style=\"background-color: #800000; font-weight: bold\"> ERROR </span><span style=\"color: #800000; text-decoration-color: #800000; font-weight: bold\"> No entry in quote with quote_compound=31845!</span>\n",
       "</pre>\n"
      ],
      "text/plain": [
       "\u001b[1;7;31m ERROR \u001b[0m\u001b[1;31m No entry in quote with quote_compound=31845!\u001b[0m\n"
      ]
     },
     "metadata": {},
     "output_type": "display_data"
    },
    {
     "data": {
      "text/html": [
       "<pre style=\"white-space:pre;overflow-x:auto;line-height:normal;font-family:Menlo,'DejaVu Sans Mono',consolas,'Courier New',monospace\"><span style=\"background-color: #800000; font-weight: bold\"> ERROR </span><span style=\"color: #800000; text-decoration-color: #800000; font-weight: bold\"> No entry in quote with quote_compound=31846!</span>\n",
       "</pre>\n"
      ],
      "text/plain": [
       "\u001b[1;7;31m ERROR \u001b[0m\u001b[1;31m No entry in quote with quote_compound=31846!\u001b[0m\n"
      ]
     },
     "metadata": {},
     "output_type": "display_data"
    },
    {
     "data": {
      "text/html": [
       "<pre style=\"white-space:pre;overflow-x:auto;line-height:normal;font-family:Menlo,'DejaVu Sans Mono',consolas,'Courier New',monospace\"><span style=\"background-color: #800000; font-weight: bold\"> ERROR </span><span style=\"color: #800000; text-decoration-color: #800000; font-weight: bold\"> No entry in quote with quote_compound=31846!</span>\n",
       "</pre>\n"
      ],
      "text/plain": [
       "\u001b[1;7;31m ERROR \u001b[0m\u001b[1;31m No entry in quote with quote_compound=31846!\u001b[0m\n"
      ]
     },
     "metadata": {},
     "output_type": "display_data"
    },
    {
     "data": {
      "text/html": [
       "<pre style=\"white-space:pre;overflow-x:auto;line-height:normal;font-family:Menlo,'DejaVu Sans Mono',consolas,'Courier New',monospace\"><span style=\"background-color: #ff8700; font-weight: bold\"> Warning </span><span style=\"color: #ff8700; text-decoration-color: #ff8700\"> Multiple solutions for compound=C149!</span>\n",
       "</pre>\n"
      ],
      "text/plain": [
       "\u001b[1;7;38;5;208m Warning \u001b[0m\u001b[38;5;208m Multiple solutions for compound=C149!\u001b[0m\n"
      ]
     },
     "metadata": {},
     "output_type": "display_data"
    },
    {
     "data": {
      "text/html": [
       "<pre style=\"white-space:pre;overflow-x:auto;line-height:normal;font-family:Menlo,'DejaVu Sans Mono',consolas,'Courier New',monospace\"><span style=\"background-color: #800000; font-weight: bold\"> ERROR </span><span style=\"color: #800000; text-decoration-color: #800000; font-weight: bold\"> No solutions for compound=C150 (comp.reactions.ids=[])!</span>\n",
       "</pre>\n"
      ],
      "text/plain": [
       "\u001b[1;7;31m ERROR \u001b[0m\u001b[1;31m No solutions for compound=C150 (comp.reactions.ids=[])!\u001b[0m\n"
      ]
     },
     "metadata": {},
     "output_type": "display_data"
    },
    {
     "data": {
      "text/html": [
       "<pre style=\"white-space:pre;overflow-x:auto;line-height:normal;font-family:Menlo,'DejaVu Sans Mono',consolas,'Courier New',monospace\"><span style=\"background-color: #800000; font-weight: bold\"> ERROR </span><span style=\"color: #800000; text-decoration-color: #800000; font-weight: bold\"> No solutions for compound=C151 (comp.reactions.ids=[])!</span>\n",
       "</pre>\n"
      ],
      "text/plain": [
       "\u001b[1;7;31m ERROR \u001b[0m\u001b[1;31m No solutions for compound=C151 (comp.reactions.ids=[])!\u001b[0m\n"
      ]
     },
     "metadata": {},
     "output_type": "display_data"
    },
    {
     "data": {
      "text/html": [
       "<pre style=\"white-space:pre;overflow-x:auto;line-height:normal;font-family:Menlo,'DejaVu Sans Mono',consolas,'Courier New',monospace\"><span style=\"background-color: #800000; font-weight: bold\"> ERROR </span><span style=\"color: #800000; text-decoration-color: #800000; font-weight: bold\"> No solutions for compound=C152 (comp.reactions.ids=[])!</span>\n",
       "</pre>\n"
      ],
      "text/plain": [
       "\u001b[1;7;31m ERROR \u001b[0m\u001b[1;31m No solutions for compound=C152 (comp.reactions.ids=[])!\u001b[0m\n"
      ]
     },
     "metadata": {},
     "output_type": "display_data"
    },
    {
     "data": {
      "text/html": [
       "<pre style=\"white-space:pre;overflow-x:auto;line-height:normal;font-family:Menlo,'DejaVu Sans Mono',consolas,'Courier New',monospace\"><span style=\"background-color: #800000; font-weight: bold\"> ERROR </span><span style=\"color: #800000; text-decoration-color: #800000; font-weight: bold\"> No solutions for compound=C153 (comp.reactions.ids=[])!</span>\n",
       "</pre>\n"
      ],
      "text/plain": [
       "\u001b[1;7;31m ERROR \u001b[0m\u001b[1;31m No solutions for compound=C153 (comp.reactions.ids=[])!\u001b[0m\n"
      ]
     },
     "metadata": {},
     "output_type": "display_data"
    },
    {
     "data": {
      "text/html": [
       "<pre style=\"white-space:pre;overflow-x:auto;line-height:normal;font-family:Menlo,'DejaVu Sans Mono',consolas,'Courier New',monospace\"><span style=\"background-color: #800000; font-weight: bold\"> ERROR </span><span style=\"color: #800000; text-decoration-color: #800000; font-weight: bold\"> No solutions for compound=C154 (comp.reactions.ids=[])!</span>\n",
       "</pre>\n"
      ],
      "text/plain": [
       "\u001b[1;7;31m ERROR \u001b[0m\u001b[1;31m No solutions for compound=C154 (comp.reactions.ids=[])!\u001b[0m\n"
      ]
     },
     "metadata": {},
     "output_type": "display_data"
    },
    {
     "data": {
      "text/html": [
       "<pre style=\"white-space:pre;overflow-x:auto;line-height:normal;font-family:Menlo,'DejaVu Sans Mono',consolas,'Courier New',monospace\"><span style=\"background-color: #800000; font-weight: bold\"> ERROR </span><span style=\"color: #800000; text-decoration-color: #800000; font-weight: bold\"> No solutions for compound=C155 (comp.reactions.ids=[])!</span>\n",
       "</pre>\n"
      ],
      "text/plain": [
       "\u001b[1;7;31m ERROR \u001b[0m\u001b[1;31m No solutions for compound=C155 (comp.reactions.ids=[])!\u001b[0m\n"
      ]
     },
     "metadata": {},
     "output_type": "display_data"
    },
    {
     "data": {
      "text/html": [
       "<pre style=\"white-space:pre;overflow-x:auto;line-height:normal;font-family:Menlo,'DejaVu Sans Mono',consolas,'Courier New',monospace\"><span style=\"background-color: #800000; font-weight: bold\"> ERROR </span><span style=\"color: #800000; text-decoration-color: #800000; font-weight: bold\"> No solutions for compound=C156 (comp.reactions.ids=[])!</span>\n",
       "</pre>\n"
      ],
      "text/plain": [
       "\u001b[1;7;31m ERROR \u001b[0m\u001b[1;31m No solutions for compound=C156 (comp.reactions.ids=[])!\u001b[0m\n"
      ]
     },
     "metadata": {},
     "output_type": "display_data"
    },
    {
     "data": {
      "text/html": [
       "<pre style=\"white-space:pre;overflow-x:auto;line-height:normal;font-family:Menlo,'DejaVu Sans Mono',consolas,'Courier New',monospace\"><span style=\"background-color: #800000; font-weight: bold\"> ERROR </span><span style=\"color: #800000; text-decoration-color: #800000; font-weight: bold\"> No solutions for compound=C157 (comp.reactions.ids=[])!</span>\n",
       "</pre>\n"
      ],
      "text/plain": [
       "\u001b[1;7;31m ERROR \u001b[0m\u001b[1;31m No solutions for compound=C157 (comp.reactions.ids=[])!\u001b[0m\n"
      ]
     },
     "metadata": {},
     "output_type": "display_data"
    },
    {
     "data": {
      "text/html": [
       "<pre style=\"white-space:pre;overflow-x:auto;line-height:normal;font-family:Menlo,'DejaVu Sans Mono',consolas,'Courier New',monospace\"><span style=\"background-color: #800000; font-weight: bold\"> ERROR </span><span style=\"color: #800000; text-decoration-color: #800000; font-weight: bold\"> No solutions for compound=C158 (comp.reactions.ids=[])!</span>\n",
       "</pre>\n"
      ],
      "text/plain": [
       "\u001b[1;7;31m ERROR \u001b[0m\u001b[1;31m No solutions for compound=C158 (comp.reactions.ids=[])!\u001b[0m\n"
      ]
     },
     "metadata": {},
     "output_type": "display_data"
    },
    {
     "data": {
      "text/html": [
       "<pre style=\"white-space:pre;overflow-x:auto;line-height:normal;font-family:Menlo,'DejaVu Sans Mono',consolas,'Courier New',monospace\"><span style=\"background-color: #800000; font-weight: bold\"> ERROR </span><span style=\"color: #800000; text-decoration-color: #800000; font-weight: bold\"> No solutions for compound=C159 (comp.reactions.ids=[])!</span>\n",
       "</pre>\n"
      ],
      "text/plain": [
       "\u001b[1;7;31m ERROR \u001b[0m\u001b[1;31m No solutions for compound=C159 (comp.reactions.ids=[])!\u001b[0m\n"
      ]
     },
     "metadata": {},
     "output_type": "display_data"
    },
    {
     "data": {
      "text/html": [
       "<pre style=\"white-space:pre;overflow-x:auto;line-height:normal;font-family:Menlo,'DejaVu Sans Mono',consolas,'Courier New',monospace\"><span style=\"background-color: #800000; font-weight: bold\"> ERROR </span><span style=\"color: #800000; text-decoration-color: #800000; font-weight: bold\"> No solutions for compound=C160 (comp.reactions.ids=[])!</span>\n",
       "</pre>\n"
      ],
      "text/plain": [
       "\u001b[1;7;31m ERROR \u001b[0m\u001b[1;31m No solutions for compound=C160 (comp.reactions.ids=[])!\u001b[0m\n"
      ]
     },
     "metadata": {},
     "output_type": "display_data"
    },
    {
     "data": {
      "text/html": [
       "<pre style=\"white-space:pre;overflow-x:auto;line-height:normal;font-family:Menlo,'DejaVu Sans Mono',consolas,'Courier New',monospace\"><span style=\"background-color: #800000; font-weight: bold\"> ERROR </span><span style=\"color: #800000; text-decoration-color: #800000; font-weight: bold\"> No solutions for compound=C161 (comp.reactions.ids=[])!</span>\n",
       "</pre>\n"
      ],
      "text/plain": [
       "\u001b[1;7;31m ERROR \u001b[0m\u001b[1;31m No solutions for compound=C161 (comp.reactions.ids=[])!\u001b[0m\n"
      ]
     },
     "metadata": {},
     "output_type": "display_data"
    },
    {
     "data": {
      "text/html": [
       "<pre style=\"white-space:pre;overflow-x:auto;line-height:normal;font-family:Menlo,'DejaVu Sans Mono',consolas,'Courier New',monospace\"><span style=\"background-color: #800000; font-weight: bold\"> ERROR </span><span style=\"color: #800000; text-decoration-color: #800000; font-weight: bold\"> No solutions for compound=C162 (comp.reactions.ids=[])!</span>\n",
       "</pre>\n"
      ],
      "text/plain": [
       "\u001b[1;7;31m ERROR \u001b[0m\u001b[1;31m No solutions for compound=C162 (comp.reactions.ids=[])!\u001b[0m\n"
      ]
     },
     "metadata": {},
     "output_type": "display_data"
    },
    {
     "data": {
      "text/html": [
       "<pre style=\"white-space:pre;overflow-x:auto;line-height:normal;font-family:Menlo,'DejaVu Sans Mono',consolas,'Courier New',monospace\"><span style=\"background-color: #800000; font-weight: bold\"> ERROR </span><span style=\"color: #800000; text-decoration-color: #800000; font-weight: bold\"> No solutions for compound=C163 (comp.reactions.ids=[])!</span>\n",
       "</pre>\n"
      ],
      "text/plain": [
       "\u001b[1;7;31m ERROR \u001b[0m\u001b[1;31m No solutions for compound=C163 (comp.reactions.ids=[])!\u001b[0m\n"
      ]
     },
     "metadata": {},
     "output_type": "display_data"
    },
    {
     "data": {
      "text/html": [
       "<pre style=\"white-space:pre;overflow-x:auto;line-height:normal;font-family:Menlo,'DejaVu Sans Mono',consolas,'Courier New',monospace\"><span style=\"background-color: #800000; font-weight: bold\"> ERROR </span><span style=\"color: #800000; text-decoration-color: #800000; font-weight: bold\"> No solutions for compound=C164 (comp.reactions.ids=[])!</span>\n",
       "</pre>\n"
      ],
      "text/plain": [
       "\u001b[1;7;31m ERROR \u001b[0m\u001b[1;31m No solutions for compound=C164 (comp.reactions.ids=[])!\u001b[0m\n"
      ]
     },
     "metadata": {},
     "output_type": "display_data"
    },
    {
     "data": {
      "text/html": [
       "<pre style=\"white-space:pre;overflow-x:auto;line-height:normal;font-family:Menlo,'DejaVu Sans Mono',consolas,'Courier New',monospace\"><span style=\"background-color: #800000; font-weight: bold\"> ERROR </span><span style=\"color: #800000; text-decoration-color: #800000; font-weight: bold\"> No solutions for compound=C165 (comp.reactions.ids=[])!</span>\n",
       "</pre>\n"
      ],
      "text/plain": [
       "\u001b[1;7;31m ERROR \u001b[0m\u001b[1;31m No solutions for compound=C165 (comp.reactions.ids=[])!\u001b[0m\n"
      ]
     },
     "metadata": {},
     "output_type": "display_data"
    },
    {
     "data": {
      "text/html": [
       "<pre style=\"white-space:pre;overflow-x:auto;line-height:normal;font-family:Menlo,'DejaVu Sans Mono',consolas,'Courier New',monospace\"><span style=\"background-color: #800000; font-weight: bold\"> ERROR </span><span style=\"color: #800000; text-decoration-color: #800000; font-weight: bold\"> No solutions for compound=C166 (comp.reactions.ids=[])!</span>\n",
       "</pre>\n"
      ],
      "text/plain": [
       "\u001b[1;7;31m ERROR \u001b[0m\u001b[1;31m No solutions for compound=C166 (comp.reactions.ids=[])!\u001b[0m\n"
      ]
     },
     "metadata": {},
     "output_type": "display_data"
    },
    {
     "data": {
      "text/html": [
       "<pre style=\"white-space:pre;overflow-x:auto;line-height:normal;font-family:Menlo,'DejaVu Sans Mono',consolas,'Courier New',monospace\"><span style=\"background-color: #800000; font-weight: bold\"> ERROR </span><span style=\"color: #800000; text-decoration-color: #800000; font-weight: bold\"> No entry in quote with quote_compound=167!</span>\n",
       "</pre>\n"
      ],
      "text/plain": [
       "\u001b[1;7;31m ERROR \u001b[0m\u001b[1;31m No entry in quote with quote_compound=167!\u001b[0m\n"
      ]
     },
     "metadata": {},
     "output_type": "display_data"
    },
    {
     "data": {
      "text/html": [
       "<pre style=\"white-space:pre;overflow-x:auto;line-height:normal;font-family:Menlo,'DejaVu Sans Mono',consolas,'Courier New',monospace\"><span style=\"background-color: #800000; font-weight: bold\"> ERROR </span><span style=\"color: #800000; text-decoration-color: #800000; font-weight: bold\"> No entry in quote with quote_compound=56174!</span>\n",
       "</pre>\n"
      ],
      "text/plain": [
       "\u001b[1;7;31m ERROR \u001b[0m\u001b[1;31m No entry in quote with quote_compound=56174!\u001b[0m\n"
      ]
     },
     "metadata": {},
     "output_type": "display_data"
    },
    {
     "data": {
      "text/html": [
       "<pre style=\"white-space:pre;overflow-x:auto;line-height:normal;font-family:Menlo,'DejaVu Sans Mono',consolas,'Courier New',monospace\"><span style=\"background-color: #800000; font-weight: bold\"> ERROR </span><span style=\"color: #800000; text-decoration-color: #800000; font-weight: bold\"> No entry in quote with quote_compound=56172!</span>\n",
       "</pre>\n"
      ],
      "text/plain": [
       "\u001b[1;7;31m ERROR \u001b[0m\u001b[1;31m No entry in quote with quote_compound=56172!\u001b[0m\n"
      ]
     },
     "metadata": {},
     "output_type": "display_data"
    },
    {
     "data": {
      "text/html": [
       "<pre style=\"white-space:pre;overflow-x:auto;line-height:normal;font-family:Menlo,'DejaVu Sans Mono',consolas,'Courier New',monospace\"><span style=\"background-color: #800000; font-weight: bold\"> ERROR </span><span style=\"color: #800000; text-decoration-color: #800000; font-weight: bold\"> No entry in quote with quote_compound=251!</span>\n",
       "</pre>\n"
      ],
      "text/plain": [
       "\u001b[1;7;31m ERROR \u001b[0m\u001b[1;31m No entry in quote with quote_compound=251!\u001b[0m\n"
      ]
     },
     "metadata": {},
     "output_type": "display_data"
    },
    {
     "data": {
      "text/html": [
       "<pre style=\"white-space:pre;overflow-x:auto;line-height:normal;font-family:Menlo,'DejaVu Sans Mono',consolas,'Courier New',monospace\"><span style=\"background-color: #800000; font-weight: bold\"> ERROR </span><span style=\"color: #800000; text-decoration-color: #800000; font-weight: bold\"> No entry in quote with quote_compound=56171!</span>\n",
       "</pre>\n"
      ],
      "text/plain": [
       "\u001b[1;7;31m ERROR \u001b[0m\u001b[1;31m No entry in quote with quote_compound=56171!\u001b[0m\n"
      ]
     },
     "metadata": {},
     "output_type": "display_data"
    },
    {
     "data": {
      "text/html": [
       "<pre style=\"white-space:pre;overflow-x:auto;line-height:normal;font-family:Menlo,'DejaVu Sans Mono',consolas,'Courier New',monospace\"><span style=\"background-color: #800000; font-weight: bold\"> ERROR </span><span style=\"color: #800000; text-decoration-color: #800000; font-weight: bold\"> No entry in quote with quote_compound=56170!</span>\n",
       "</pre>\n"
      ],
      "text/plain": [
       "\u001b[1;7;31m ERROR \u001b[0m\u001b[1;31m No entry in quote with quote_compound=56170!\u001b[0m\n"
      ]
     },
     "metadata": {},
     "output_type": "display_data"
    },
    {
     "data": {
      "text/html": [
       "<pre style=\"white-space:pre;overflow-x:auto;line-height:normal;font-family:Menlo,'DejaVu Sans Mono',consolas,'Courier New',monospace\"><span style=\"background-color: #800000; font-weight: bold\"> ERROR </span><span style=\"color: #800000; text-decoration-color: #800000; font-weight: bold\"> No entry in quote with quote_compound=56171!</span>\n",
       "</pre>\n"
      ],
      "text/plain": [
       "\u001b[1;7;31m ERROR \u001b[0m\u001b[1;31m No entry in quote with quote_compound=56171!\u001b[0m\n"
      ]
     },
     "metadata": {},
     "output_type": "display_data"
    },
    {
     "data": {
      "text/html": [
       "<pre style=\"white-space:pre;overflow-x:auto;line-height:normal;font-family:Menlo,'DejaVu Sans Mono',consolas,'Courier New',monospace\"><span style=\"background-color: #800000; font-weight: bold\"> ERROR </span><span style=\"color: #800000; text-decoration-color: #800000; font-weight: bold\"> No entry in quote with quote_compound=56172!</span>\n",
       "</pre>\n"
      ],
      "text/plain": [
       "\u001b[1;7;31m ERROR \u001b[0m\u001b[1;31m No entry in quote with quote_compound=56172!\u001b[0m\n"
      ]
     },
     "metadata": {},
     "output_type": "display_data"
    },
    {
     "data": {
      "text/html": [
       "<pre style=\"white-space:pre;overflow-x:auto;line-height:normal;font-family:Menlo,'DejaVu Sans Mono',consolas,'Courier New',monospace\"><span style=\"background-color: #800000; font-weight: bold\"> ERROR </span><span style=\"color: #800000; text-decoration-color: #800000; font-weight: bold\"> No entry in quote with quote_compound=56174!</span>\n",
       "</pre>\n"
      ],
      "text/plain": [
       "\u001b[1;7;31m ERROR \u001b[0m\u001b[1;31m No entry in quote with quote_compound=56174!\u001b[0m\n"
      ]
     },
     "metadata": {},
     "output_type": "display_data"
    },
    {
     "data": {
      "text/html": [
       "<pre style=\"white-space:pre;overflow-x:auto;line-height:normal;font-family:Menlo,'DejaVu Sans Mono',consolas,'Courier New',monospace\"><span style=\"background-color: #800000; font-weight: bold\"> ERROR </span><span style=\"color: #800000; text-decoration-color: #800000; font-weight: bold\"> No entry in quote with quote_compound=56172!</span>\n",
       "</pre>\n"
      ],
      "text/plain": [
       "\u001b[1;7;31m ERROR \u001b[0m\u001b[1;31m No entry in quote with quote_compound=56172!\u001b[0m\n"
      ]
     },
     "metadata": {},
     "output_type": "display_data"
    },
    {
     "data": {
      "text/html": [
       "<pre style=\"white-space:pre;overflow-x:auto;line-height:normal;font-family:Menlo,'DejaVu Sans Mono',consolas,'Courier New',monospace\"><span style=\"background-color: #800000; font-weight: bold\"> ERROR </span><span style=\"color: #800000; text-decoration-color: #800000; font-weight: bold\"> No entry in quote with quote_compound=251!</span>\n",
       "</pre>\n"
      ],
      "text/plain": [
       "\u001b[1;7;31m ERROR \u001b[0m\u001b[1;31m No entry in quote with quote_compound=251!\u001b[0m\n"
      ]
     },
     "metadata": {},
     "output_type": "display_data"
    },
    {
     "data": {
      "text/html": [
       "<pre style=\"white-space:pre;overflow-x:auto;line-height:normal;font-family:Menlo,'DejaVu Sans Mono',consolas,'Courier New',monospace\"><span style=\"background-color: #800000; font-weight: bold\"> ERROR </span><span style=\"color: #800000; text-decoration-color: #800000; font-weight: bold\"> No entry in quote with quote_compound=56171!</span>\n",
       "</pre>\n"
      ],
      "text/plain": [
       "\u001b[1;7;31m ERROR \u001b[0m\u001b[1;31m No entry in quote with quote_compound=56171!\u001b[0m\n"
      ]
     },
     "metadata": {},
     "output_type": "display_data"
    },
    {
     "data": {
      "text/html": [
       "<pre style=\"white-space:pre;overflow-x:auto;line-height:normal;font-family:Menlo,'DejaVu Sans Mono',consolas,'Courier New',monospace\"><span style=\"background-color: #800000; font-weight: bold\"> ERROR </span><span style=\"color: #800000; text-decoration-color: #800000; font-weight: bold\"> No entry in quote with quote_compound=56170!</span>\n",
       "</pre>\n"
      ],
      "text/plain": [
       "\u001b[1;7;31m ERROR \u001b[0m\u001b[1;31m No entry in quote with quote_compound=56170!\u001b[0m\n"
      ]
     },
     "metadata": {},
     "output_type": "display_data"
    },
    {
     "data": {
      "text/html": [
       "<pre style=\"white-space:pre;overflow-x:auto;line-height:normal;font-family:Menlo,'DejaVu Sans Mono',consolas,'Courier New',monospace\"><span style=\"background-color: #800000; font-weight: bold\"> ERROR </span><span style=\"color: #800000; text-decoration-color: #800000; font-weight: bold\"> No entry in quote with quote_compound=56171!</span>\n",
       "</pre>\n"
      ],
      "text/plain": [
       "\u001b[1;7;31m ERROR \u001b[0m\u001b[1;31m No entry in quote with quote_compound=56171!\u001b[0m\n"
      ]
     },
     "metadata": {},
     "output_type": "display_data"
    },
    {
     "data": {
      "text/html": [
       "<pre style=\"white-space:pre;overflow-x:auto;line-height:normal;font-family:Menlo,'DejaVu Sans Mono',consolas,'Courier New',monospace\"><span style=\"background-color: #800000; font-weight: bold\"> ERROR </span><span style=\"color: #800000; text-decoration-color: #800000; font-weight: bold\"> No entry in quote with quote_compound=56172!</span>\n",
       "</pre>\n"
      ],
      "text/plain": [
       "\u001b[1;7;31m ERROR \u001b[0m\u001b[1;31m No entry in quote with quote_compound=56172!\u001b[0m\n"
      ]
     },
     "metadata": {},
     "output_type": "display_data"
    },
    {
     "data": {
      "text/html": [
       "<pre style=\"white-space:pre;overflow-x:auto;line-height:normal;font-family:Menlo,'DejaVu Sans Mono',consolas,'Courier New',monospace\"><span style=\"background-color: #800000; font-weight: bold\"> ERROR </span><span style=\"color: #800000; text-decoration-color: #800000; font-weight: bold\"> No entry in quote with quote_compound=56177!</span>\n",
       "</pre>\n"
      ],
      "text/plain": [
       "\u001b[1;7;31m ERROR \u001b[0m\u001b[1;31m No entry in quote with quote_compound=56177!\u001b[0m\n"
      ]
     },
     "metadata": {},
     "output_type": "display_data"
    },
    {
     "data": {
      "text/html": [
       "<pre style=\"white-space:pre;overflow-x:auto;line-height:normal;font-family:Menlo,'DejaVu Sans Mono',consolas,'Courier New',monospace\"><span style=\"background-color: #800000; font-weight: bold\"> ERROR </span><span style=\"color: #800000; text-decoration-color: #800000; font-weight: bold\"> No entry in quote with quote_compound=56174!</span>\n",
       "</pre>\n"
      ],
      "text/plain": [
       "\u001b[1;7;31m ERROR \u001b[0m\u001b[1;31m No entry in quote with quote_compound=56174!\u001b[0m\n"
      ]
     },
     "metadata": {},
     "output_type": "display_data"
    },
    {
     "data": {
      "text/html": [
       "<pre style=\"white-space:pre;overflow-x:auto;line-height:normal;font-family:Menlo,'DejaVu Sans Mono',consolas,'Courier New',monospace\"><span style=\"background-color: #800000; font-weight: bold\"> ERROR </span><span style=\"color: #800000; text-decoration-color: #800000; font-weight: bold\"> No entry in quote with quote_compound=56172!</span>\n",
       "</pre>\n"
      ],
      "text/plain": [
       "\u001b[1;7;31m ERROR \u001b[0m\u001b[1;31m No entry in quote with quote_compound=56172!\u001b[0m\n"
      ]
     },
     "metadata": {},
     "output_type": "display_data"
    },
    {
     "data": {
      "text/html": [
       "<pre style=\"white-space:pre;overflow-x:auto;line-height:normal;font-family:Menlo,'DejaVu Sans Mono',consolas,'Courier New',monospace\"><span style=\"background-color: #800000; font-weight: bold\"> ERROR </span><span style=\"color: #800000; text-decoration-color: #800000; font-weight: bold\"> No entry in quote with quote_compound=251!</span>\n",
       "</pre>\n"
      ],
      "text/plain": [
       "\u001b[1;7;31m ERROR \u001b[0m\u001b[1;31m No entry in quote with quote_compound=251!\u001b[0m\n"
      ]
     },
     "metadata": {},
     "output_type": "display_data"
    },
    {
     "data": {
      "text/html": [
       "<pre style=\"white-space:pre;overflow-x:auto;line-height:normal;font-family:Menlo,'DejaVu Sans Mono',consolas,'Courier New',monospace\"><span style=\"background-color: #800000; font-weight: bold\"> ERROR </span><span style=\"color: #800000; text-decoration-color: #800000; font-weight: bold\"> No entry in quote with quote_compound=56171!</span>\n",
       "</pre>\n"
      ],
      "text/plain": [
       "\u001b[1;7;31m ERROR \u001b[0m\u001b[1;31m No entry in quote with quote_compound=56171!\u001b[0m\n"
      ]
     },
     "metadata": {},
     "output_type": "display_data"
    },
    {
     "data": {
      "text/html": [
       "<pre style=\"white-space:pre;overflow-x:auto;line-height:normal;font-family:Menlo,'DejaVu Sans Mono',consolas,'Courier New',monospace\"><span style=\"background-color: #800000; font-weight: bold\"> ERROR </span><span style=\"color: #800000; text-decoration-color: #800000; font-weight: bold\"> No entry in quote with quote_compound=56170!</span>\n",
       "</pre>\n"
      ],
      "text/plain": [
       "\u001b[1;7;31m ERROR \u001b[0m\u001b[1;31m No entry in quote with quote_compound=56170!\u001b[0m\n"
      ]
     },
     "metadata": {},
     "output_type": "display_data"
    },
    {
     "data": {
      "text/html": [
       "<pre style=\"white-space:pre;overflow-x:auto;line-height:normal;font-family:Menlo,'DejaVu Sans Mono',consolas,'Courier New',monospace\"><span style=\"background-color: #800000; font-weight: bold\"> ERROR </span><span style=\"color: #800000; text-decoration-color: #800000; font-weight: bold\"> No entry in quote with quote_compound=56171!</span>\n",
       "</pre>\n"
      ],
      "text/plain": [
       "\u001b[1;7;31m ERROR \u001b[0m\u001b[1;31m No entry in quote with quote_compound=56171!\u001b[0m\n"
      ]
     },
     "metadata": {},
     "output_type": "display_data"
    },
    {
     "data": {
      "text/html": [
       "<pre style=\"white-space:pre;overflow-x:auto;line-height:normal;font-family:Menlo,'DejaVu Sans Mono',consolas,'Courier New',monospace\"><span style=\"background-color: #800000; font-weight: bold\"> ERROR </span><span style=\"color: #800000; text-decoration-color: #800000; font-weight: bold\"> No entry in quote with quote_compound=56172!</span>\n",
       "</pre>\n"
      ],
      "text/plain": [
       "\u001b[1;7;31m ERROR \u001b[0m\u001b[1;31m No entry in quote with quote_compound=56172!\u001b[0m\n"
      ]
     },
     "metadata": {},
     "output_type": "display_data"
    },
    {
     "data": {
      "text/html": [
       "<pre style=\"white-space:pre;overflow-x:auto;line-height:normal;font-family:Menlo,'DejaVu Sans Mono',consolas,'Courier New',monospace\"><span style=\"background-color: #800000; font-weight: bold\"> ERROR </span><span style=\"color: #800000; text-decoration-color: #800000; font-weight: bold\"> No entry in quote with quote_compound=56178!</span>\n",
       "</pre>\n"
      ],
      "text/plain": [
       "\u001b[1;7;31m ERROR \u001b[0m\u001b[1;31m No entry in quote with quote_compound=56178!\u001b[0m\n"
      ]
     },
     "metadata": {},
     "output_type": "display_data"
    },
    {
     "data": {
      "text/html": [
       "<pre style=\"white-space:pre;overflow-x:auto;line-height:normal;font-family:Menlo,'DejaVu Sans Mono',consolas,'Courier New',monospace\"><span style=\"background-color: #800000; font-weight: bold\"> ERROR </span><span style=\"color: #800000; text-decoration-color: #800000; font-weight: bold\"> No entry in quote with quote_compound=56174!</span>\n",
       "</pre>\n"
      ],
      "text/plain": [
       "\u001b[1;7;31m ERROR \u001b[0m\u001b[1;31m No entry in quote with quote_compound=56174!\u001b[0m\n"
      ]
     },
     "metadata": {},
     "output_type": "display_data"
    },
    {
     "data": {
      "text/html": [
       "<pre style=\"white-space:pre;overflow-x:auto;line-height:normal;font-family:Menlo,'DejaVu Sans Mono',consolas,'Courier New',monospace\"><span style=\"background-color: #800000; font-weight: bold\"> ERROR </span><span style=\"color: #800000; text-decoration-color: #800000; font-weight: bold\"> No entry in quote with quote_compound=56172!</span>\n",
       "</pre>\n"
      ],
      "text/plain": [
       "\u001b[1;7;31m ERROR \u001b[0m\u001b[1;31m No entry in quote with quote_compound=56172!\u001b[0m\n"
      ]
     },
     "metadata": {},
     "output_type": "display_data"
    },
    {
     "data": {
      "text/html": [
       "<pre style=\"white-space:pre;overflow-x:auto;line-height:normal;font-family:Menlo,'DejaVu Sans Mono',consolas,'Courier New',monospace\"><span style=\"background-color: #800000; font-weight: bold\"> ERROR </span><span style=\"color: #800000; text-decoration-color: #800000; font-weight: bold\"> No entry in quote with quote_compound=251!</span>\n",
       "</pre>\n"
      ],
      "text/plain": [
       "\u001b[1;7;31m ERROR \u001b[0m\u001b[1;31m No entry in quote with quote_compound=251!\u001b[0m\n"
      ]
     },
     "metadata": {},
     "output_type": "display_data"
    },
    {
     "data": {
      "text/html": [
       "<pre style=\"white-space:pre;overflow-x:auto;line-height:normal;font-family:Menlo,'DejaVu Sans Mono',consolas,'Courier New',monospace\"><span style=\"background-color: #800000; font-weight: bold\"> ERROR </span><span style=\"color: #800000; text-decoration-color: #800000; font-weight: bold\"> No entry in quote with quote_compound=56171!</span>\n",
       "</pre>\n"
      ],
      "text/plain": [
       "\u001b[1;7;31m ERROR \u001b[0m\u001b[1;31m No entry in quote with quote_compound=56171!\u001b[0m\n"
      ]
     },
     "metadata": {},
     "output_type": "display_data"
    },
    {
     "data": {
      "text/html": [
       "<pre style=\"white-space:pre;overflow-x:auto;line-height:normal;font-family:Menlo,'DejaVu Sans Mono',consolas,'Courier New',monospace\"><span style=\"background-color: #800000; font-weight: bold\"> ERROR </span><span style=\"color: #800000; text-decoration-color: #800000; font-weight: bold\"> No entry in quote with quote_compound=56170!</span>\n",
       "</pre>\n"
      ],
      "text/plain": [
       "\u001b[1;7;31m ERROR \u001b[0m\u001b[1;31m No entry in quote with quote_compound=56170!\u001b[0m\n"
      ]
     },
     "metadata": {},
     "output_type": "display_data"
    },
    {
     "data": {
      "text/html": [
       "<pre style=\"white-space:pre;overflow-x:auto;line-height:normal;font-family:Menlo,'DejaVu Sans Mono',consolas,'Courier New',monospace\"><span style=\"background-color: #800000; font-weight: bold\"> ERROR </span><span style=\"color: #800000; text-decoration-color: #800000; font-weight: bold\"> No entry in quote with quote_compound=56171!</span>\n",
       "</pre>\n"
      ],
      "text/plain": [
       "\u001b[1;7;31m ERROR \u001b[0m\u001b[1;31m No entry in quote with quote_compound=56171!\u001b[0m\n"
      ]
     },
     "metadata": {},
     "output_type": "display_data"
    },
    {
     "data": {
      "text/html": [
       "<pre style=\"white-space:pre;overflow-x:auto;line-height:normal;font-family:Menlo,'DejaVu Sans Mono',consolas,'Courier New',monospace\"><span style=\"background-color: #800000; font-weight: bold\"> ERROR </span><span style=\"color: #800000; text-decoration-color: #800000; font-weight: bold\"> No entry in quote with quote_compound=56172!</span>\n",
       "</pre>\n"
      ],
      "text/plain": [
       "\u001b[1;7;31m ERROR \u001b[0m\u001b[1;31m No entry in quote with quote_compound=56172!\u001b[0m\n"
      ]
     },
     "metadata": {},
     "output_type": "display_data"
    },
    {
     "data": {
      "text/html": [
       "<pre style=\"white-space:pre;overflow-x:auto;line-height:normal;font-family:Menlo,'DejaVu Sans Mono',consolas,'Courier New',monospace\"><span style=\"background-color: #800000; font-weight: bold\"> ERROR </span><span style=\"color: #800000; text-decoration-color: #800000; font-weight: bold\"> No entry in quote with quote_compound=56174!</span>\n",
       "</pre>\n"
      ],
      "text/plain": [
       "\u001b[1;7;31m ERROR \u001b[0m\u001b[1;31m No entry in quote with quote_compound=56174!\u001b[0m\n"
      ]
     },
     "metadata": {},
     "output_type": "display_data"
    },
    {
     "data": {
      "text/html": [
       "<pre style=\"white-space:pre;overflow-x:auto;line-height:normal;font-family:Menlo,'DejaVu Sans Mono',consolas,'Courier New',monospace\"><span style=\"background-color: #800000; font-weight: bold\"> ERROR </span><span style=\"color: #800000; text-decoration-color: #800000; font-weight: bold\"> No entry in quote with quote_compound=56172!</span>\n",
       "</pre>\n"
      ],
      "text/plain": [
       "\u001b[1;7;31m ERROR \u001b[0m\u001b[1;31m No entry in quote with quote_compound=56172!\u001b[0m\n"
      ]
     },
     "metadata": {},
     "output_type": "display_data"
    },
    {
     "data": {
      "text/html": [
       "<pre style=\"white-space:pre;overflow-x:auto;line-height:normal;font-family:Menlo,'DejaVu Sans Mono',consolas,'Courier New',monospace\"><span style=\"background-color: #800000; font-weight: bold\"> ERROR </span><span style=\"color: #800000; text-decoration-color: #800000; font-weight: bold\"> No entry in quote with quote_compound=251!</span>\n",
       "</pre>\n"
      ],
      "text/plain": [
       "\u001b[1;7;31m ERROR \u001b[0m\u001b[1;31m No entry in quote with quote_compound=251!\u001b[0m\n"
      ]
     },
     "metadata": {},
     "output_type": "display_data"
    },
    {
     "data": {
      "text/html": [
       "<pre style=\"white-space:pre;overflow-x:auto;line-height:normal;font-family:Menlo,'DejaVu Sans Mono',consolas,'Courier New',monospace\"><span style=\"background-color: #800000; font-weight: bold\"> ERROR </span><span style=\"color: #800000; text-decoration-color: #800000; font-weight: bold\"> No entry in quote with quote_compound=56171!</span>\n",
       "</pre>\n"
      ],
      "text/plain": [
       "\u001b[1;7;31m ERROR \u001b[0m\u001b[1;31m No entry in quote with quote_compound=56171!\u001b[0m\n"
      ]
     },
     "metadata": {},
     "output_type": "display_data"
    },
    {
     "data": {
      "text/html": [
       "<pre style=\"white-space:pre;overflow-x:auto;line-height:normal;font-family:Menlo,'DejaVu Sans Mono',consolas,'Courier New',monospace\"><span style=\"background-color: #800000; font-weight: bold\"> ERROR </span><span style=\"color: #800000; text-decoration-color: #800000; font-weight: bold\"> No entry in quote with quote_compound=56170!</span>\n",
       "</pre>\n"
      ],
      "text/plain": [
       "\u001b[1;7;31m ERROR \u001b[0m\u001b[1;31m No entry in quote with quote_compound=56170!\u001b[0m\n"
      ]
     },
     "metadata": {},
     "output_type": "display_data"
    },
    {
     "data": {
      "text/html": [
       "<pre style=\"white-space:pre;overflow-x:auto;line-height:normal;font-family:Menlo,'DejaVu Sans Mono',consolas,'Courier New',monospace\"><span style=\"background-color: #800000; font-weight: bold\"> ERROR </span><span style=\"color: #800000; text-decoration-color: #800000; font-weight: bold\"> No entry in quote with quote_compound=56171!</span>\n",
       "</pre>\n"
      ],
      "text/plain": [
       "\u001b[1;7;31m ERROR \u001b[0m\u001b[1;31m No entry in quote with quote_compound=56171!\u001b[0m\n"
      ]
     },
     "metadata": {},
     "output_type": "display_data"
    },
    {
     "data": {
      "text/html": [
       "<pre style=\"white-space:pre;overflow-x:auto;line-height:normal;font-family:Menlo,'DejaVu Sans Mono',consolas,'Courier New',monospace\"><span style=\"background-color: #800000; font-weight: bold\"> ERROR </span><span style=\"color: #800000; text-decoration-color: #800000; font-weight: bold\"> No entry in quote with quote_compound=56172!</span>\n",
       "</pre>\n"
      ],
      "text/plain": [
       "\u001b[1;7;31m ERROR \u001b[0m\u001b[1;31m No entry in quote with quote_compound=56172!\u001b[0m\n"
      ]
     },
     "metadata": {},
     "output_type": "display_data"
    },
    {
     "data": {
      "text/html": [
       "<pre style=\"white-space:pre;overflow-x:auto;line-height:normal;font-family:Menlo,'DejaVu Sans Mono',consolas,'Courier New',monospace\"><span style=\"background-color: #800000; font-weight: bold\"> ERROR </span><span style=\"color: #800000; text-decoration-color: #800000; font-weight: bold\"> No entry in quote with quote_compound=56174!</span>\n",
       "</pre>\n"
      ],
      "text/plain": [
       "\u001b[1;7;31m ERROR \u001b[0m\u001b[1;31m No entry in quote with quote_compound=56174!\u001b[0m\n"
      ]
     },
     "metadata": {},
     "output_type": "display_data"
    },
    {
     "data": {
      "text/html": [
       "<pre style=\"white-space:pre;overflow-x:auto;line-height:normal;font-family:Menlo,'DejaVu Sans Mono',consolas,'Courier New',monospace\"><span style=\"background-color: #800000; font-weight: bold\"> ERROR </span><span style=\"color: #800000; text-decoration-color: #800000; font-weight: bold\"> No entry in quote with quote_compound=56172!</span>\n",
       "</pre>\n"
      ],
      "text/plain": [
       "\u001b[1;7;31m ERROR \u001b[0m\u001b[1;31m No entry in quote with quote_compound=56172!\u001b[0m\n"
      ]
     },
     "metadata": {},
     "output_type": "display_data"
    },
    {
     "data": {
      "text/html": [
       "<pre style=\"white-space:pre;overflow-x:auto;line-height:normal;font-family:Menlo,'DejaVu Sans Mono',consolas,'Courier New',monospace\"><span style=\"background-color: #800000; font-weight: bold\"> ERROR </span><span style=\"color: #800000; text-decoration-color: #800000; font-weight: bold\"> No entry in quote with quote_compound=251!</span>\n",
       "</pre>\n"
      ],
      "text/plain": [
       "\u001b[1;7;31m ERROR \u001b[0m\u001b[1;31m No entry in quote with quote_compound=251!\u001b[0m\n"
      ]
     },
     "metadata": {},
     "output_type": "display_data"
    },
    {
     "data": {
      "text/html": [
       "<pre style=\"white-space:pre;overflow-x:auto;line-height:normal;font-family:Menlo,'DejaVu Sans Mono',consolas,'Courier New',monospace\"><span style=\"background-color: #800000; font-weight: bold\"> ERROR </span><span style=\"color: #800000; text-decoration-color: #800000; font-weight: bold\"> No entry in quote with quote_compound=56171!</span>\n",
       "</pre>\n"
      ],
      "text/plain": [
       "\u001b[1;7;31m ERROR \u001b[0m\u001b[1;31m No entry in quote with quote_compound=56171!\u001b[0m\n"
      ]
     },
     "metadata": {},
     "output_type": "display_data"
    },
    {
     "data": {
      "text/html": [
       "<pre style=\"white-space:pre;overflow-x:auto;line-height:normal;font-family:Menlo,'DejaVu Sans Mono',consolas,'Courier New',monospace\"><span style=\"background-color: #800000; font-weight: bold\"> ERROR </span><span style=\"color: #800000; text-decoration-color: #800000; font-weight: bold\"> No entry in quote with quote_compound=56170!</span>\n",
       "</pre>\n"
      ],
      "text/plain": [
       "\u001b[1;7;31m ERROR \u001b[0m\u001b[1;31m No entry in quote with quote_compound=56170!\u001b[0m\n"
      ]
     },
     "metadata": {},
     "output_type": "display_data"
    },
    {
     "data": {
      "text/html": [
       "<pre style=\"white-space:pre;overflow-x:auto;line-height:normal;font-family:Menlo,'DejaVu Sans Mono',consolas,'Courier New',monospace\"><span style=\"background-color: #800000; font-weight: bold\"> ERROR </span><span style=\"color: #800000; text-decoration-color: #800000; font-weight: bold\"> No entry in quote with quote_compound=56171!</span>\n",
       "</pre>\n"
      ],
      "text/plain": [
       "\u001b[1;7;31m ERROR \u001b[0m\u001b[1;31m No entry in quote with quote_compound=56171!\u001b[0m\n"
      ]
     },
     "metadata": {},
     "output_type": "display_data"
    },
    {
     "data": {
      "text/html": [
       "<pre style=\"white-space:pre;overflow-x:auto;line-height:normal;font-family:Menlo,'DejaVu Sans Mono',consolas,'Courier New',monospace\"><span style=\"background-color: #800000; font-weight: bold\"> ERROR </span><span style=\"color: #800000; text-decoration-color: #800000; font-weight: bold\"> No entry in quote with quote_compound=56172!</span>\n",
       "</pre>\n"
      ],
      "text/plain": [
       "\u001b[1;7;31m ERROR \u001b[0m\u001b[1;31m No entry in quote with quote_compound=56172!\u001b[0m\n"
      ]
     },
     "metadata": {},
     "output_type": "display_data"
    },
    {
     "data": {
      "text/html": [
       "<pre style=\"white-space:pre;overflow-x:auto;line-height:normal;font-family:Menlo,'DejaVu Sans Mono',consolas,'Courier New',monospace\"><span style=\"background-color: #800000; font-weight: bold\"> ERROR </span><span style=\"color: #800000; text-decoration-color: #800000; font-weight: bold\"> No entry in quote with quote_compound=56181!</span>\n",
       "</pre>\n"
      ],
      "text/plain": [
       "\u001b[1;7;31m ERROR \u001b[0m\u001b[1;31m No entry in quote with quote_compound=56181!\u001b[0m\n"
      ]
     },
     "metadata": {},
     "output_type": "display_data"
    },
    {
     "data": {
      "text/html": [
       "<pre style=\"white-space:pre;overflow-x:auto;line-height:normal;font-family:Menlo,'DejaVu Sans Mono',consolas,'Courier New',monospace\"><span style=\"background-color: #800000; font-weight: bold\"> ERROR </span><span style=\"color: #800000; text-decoration-color: #800000; font-weight: bold\"> No entry in quote with quote_compound=56174!</span>\n",
       "</pre>\n"
      ],
      "text/plain": [
       "\u001b[1;7;31m ERROR \u001b[0m\u001b[1;31m No entry in quote with quote_compound=56174!\u001b[0m\n"
      ]
     },
     "metadata": {},
     "output_type": "display_data"
    },
    {
     "data": {
      "text/html": [
       "<pre style=\"white-space:pre;overflow-x:auto;line-height:normal;font-family:Menlo,'DejaVu Sans Mono',consolas,'Courier New',monospace\"><span style=\"background-color: #800000; font-weight: bold\"> ERROR </span><span style=\"color: #800000; text-decoration-color: #800000; font-weight: bold\"> No entry in quote with quote_compound=56172!</span>\n",
       "</pre>\n"
      ],
      "text/plain": [
       "\u001b[1;7;31m ERROR \u001b[0m\u001b[1;31m No entry in quote with quote_compound=56172!\u001b[0m\n"
      ]
     },
     "metadata": {},
     "output_type": "display_data"
    },
    {
     "data": {
      "text/html": [
       "<pre style=\"white-space:pre;overflow-x:auto;line-height:normal;font-family:Menlo,'DejaVu Sans Mono',consolas,'Courier New',monospace\"><span style=\"background-color: #800000; font-weight: bold\"> ERROR </span><span style=\"color: #800000; text-decoration-color: #800000; font-weight: bold\"> No entry in quote with quote_compound=251!</span>\n",
       "</pre>\n"
      ],
      "text/plain": [
       "\u001b[1;7;31m ERROR \u001b[0m\u001b[1;31m No entry in quote with quote_compound=251!\u001b[0m\n"
      ]
     },
     "metadata": {},
     "output_type": "display_data"
    },
    {
     "data": {
      "text/html": [
       "<pre style=\"white-space:pre;overflow-x:auto;line-height:normal;font-family:Menlo,'DejaVu Sans Mono',consolas,'Courier New',monospace\"><span style=\"background-color: #800000; font-weight: bold\"> ERROR </span><span style=\"color: #800000; text-decoration-color: #800000; font-weight: bold\"> No entry in quote with quote_compound=56171!</span>\n",
       "</pre>\n"
      ],
      "text/plain": [
       "\u001b[1;7;31m ERROR \u001b[0m\u001b[1;31m No entry in quote with quote_compound=56171!\u001b[0m\n"
      ]
     },
     "metadata": {},
     "output_type": "display_data"
    },
    {
     "data": {
      "text/html": [
       "<pre style=\"white-space:pre;overflow-x:auto;line-height:normal;font-family:Menlo,'DejaVu Sans Mono',consolas,'Courier New',monospace\"><span style=\"background-color: #800000; font-weight: bold\"> ERROR </span><span style=\"color: #800000; text-decoration-color: #800000; font-weight: bold\"> No entry in quote with quote_compound=56170!</span>\n",
       "</pre>\n"
      ],
      "text/plain": [
       "\u001b[1;7;31m ERROR \u001b[0m\u001b[1;31m No entry in quote with quote_compound=56170!\u001b[0m\n"
      ]
     },
     "metadata": {},
     "output_type": "display_data"
    },
    {
     "data": {
      "text/html": [
       "<pre style=\"white-space:pre;overflow-x:auto;line-height:normal;font-family:Menlo,'DejaVu Sans Mono',consolas,'Courier New',monospace\"><span style=\"background-color: #800000; font-weight: bold\"> ERROR </span><span style=\"color: #800000; text-decoration-color: #800000; font-weight: bold\"> No entry in quote with quote_compound=56171!</span>\n",
       "</pre>\n"
      ],
      "text/plain": [
       "\u001b[1;7;31m ERROR \u001b[0m\u001b[1;31m No entry in quote with quote_compound=56171!\u001b[0m\n"
      ]
     },
     "metadata": {},
     "output_type": "display_data"
    },
    {
     "data": {
      "text/html": [
       "<pre style=\"white-space:pre;overflow-x:auto;line-height:normal;font-family:Menlo,'DejaVu Sans Mono',consolas,'Courier New',monospace\"><span style=\"background-color: #800000; font-weight: bold\"> ERROR </span><span style=\"color: #800000; text-decoration-color: #800000; font-weight: bold\"> No entry in quote with quote_compound=56172!</span>\n",
       "</pre>\n"
      ],
      "text/plain": [
       "\u001b[1;7;31m ERROR \u001b[0m\u001b[1;31m No entry in quote with quote_compound=56172!\u001b[0m\n"
      ]
     },
     "metadata": {},
     "output_type": "display_data"
    },
    {
     "data": {
      "text/html": [
       "<pre style=\"white-space:pre;overflow-x:auto;line-height:normal;font-family:Menlo,'DejaVu Sans Mono',consolas,'Courier New',monospace\"><span style=\"background-color: #800000; font-weight: bold\"> ERROR </span><span style=\"color: #800000; text-decoration-color: #800000; font-weight: bold\"> No entry in quote with quote_compound=56174!</span>\n",
       "</pre>\n"
      ],
      "text/plain": [
       "\u001b[1;7;31m ERROR \u001b[0m\u001b[1;31m No entry in quote with quote_compound=56174!\u001b[0m\n"
      ]
     },
     "metadata": {},
     "output_type": "display_data"
    },
    {
     "data": {
      "text/html": [
       "<pre style=\"white-space:pre;overflow-x:auto;line-height:normal;font-family:Menlo,'DejaVu Sans Mono',consolas,'Courier New',monospace\"><span style=\"background-color: #800000; font-weight: bold\"> ERROR </span><span style=\"color: #800000; text-decoration-color: #800000; font-weight: bold\"> No entry in quote with quote_compound=56172!</span>\n",
       "</pre>\n"
      ],
      "text/plain": [
       "\u001b[1;7;31m ERROR \u001b[0m\u001b[1;31m No entry in quote with quote_compound=56172!\u001b[0m\n"
      ]
     },
     "metadata": {},
     "output_type": "display_data"
    },
    {
     "data": {
      "text/html": [
       "<pre style=\"white-space:pre;overflow-x:auto;line-height:normal;font-family:Menlo,'DejaVu Sans Mono',consolas,'Courier New',monospace\"><span style=\"background-color: #800000; font-weight: bold\"> ERROR </span><span style=\"color: #800000; text-decoration-color: #800000; font-weight: bold\"> No entry in quote with quote_compound=251!</span>\n",
       "</pre>\n"
      ],
      "text/plain": [
       "\u001b[1;7;31m ERROR \u001b[0m\u001b[1;31m No entry in quote with quote_compound=251!\u001b[0m\n"
      ]
     },
     "metadata": {},
     "output_type": "display_data"
    },
    {
     "data": {
      "text/html": [
       "<pre style=\"white-space:pre;overflow-x:auto;line-height:normal;font-family:Menlo,'DejaVu Sans Mono',consolas,'Courier New',monospace\"><span style=\"background-color: #800000; font-weight: bold\"> ERROR </span><span style=\"color: #800000; text-decoration-color: #800000; font-weight: bold\"> No entry in quote with quote_compound=56171!</span>\n",
       "</pre>\n"
      ],
      "text/plain": [
       "\u001b[1;7;31m ERROR \u001b[0m\u001b[1;31m No entry in quote with quote_compound=56171!\u001b[0m\n"
      ]
     },
     "metadata": {},
     "output_type": "display_data"
    },
    {
     "data": {
      "text/html": [
       "<pre style=\"white-space:pre;overflow-x:auto;line-height:normal;font-family:Menlo,'DejaVu Sans Mono',consolas,'Courier New',monospace\"><span style=\"background-color: #800000; font-weight: bold\"> ERROR </span><span style=\"color: #800000; text-decoration-color: #800000; font-weight: bold\"> No entry in quote with quote_compound=56170!</span>\n",
       "</pre>\n"
      ],
      "text/plain": [
       "\u001b[1;7;31m ERROR \u001b[0m\u001b[1;31m No entry in quote with quote_compound=56170!\u001b[0m\n"
      ]
     },
     "metadata": {},
     "output_type": "display_data"
    },
    {
     "data": {
      "text/html": [
       "<pre style=\"white-space:pre;overflow-x:auto;line-height:normal;font-family:Menlo,'DejaVu Sans Mono',consolas,'Courier New',monospace\"><span style=\"background-color: #800000; font-weight: bold\"> ERROR </span><span style=\"color: #800000; text-decoration-color: #800000; font-weight: bold\"> No entry in quote with quote_compound=56171!</span>\n",
       "</pre>\n"
      ],
      "text/plain": [
       "\u001b[1;7;31m ERROR \u001b[0m\u001b[1;31m No entry in quote with quote_compound=56171!\u001b[0m\n"
      ]
     },
     "metadata": {},
     "output_type": "display_data"
    },
    {
     "data": {
      "text/html": [
       "<pre style=\"white-space:pre;overflow-x:auto;line-height:normal;font-family:Menlo,'DejaVu Sans Mono',consolas,'Courier New',monospace\"><span style=\"background-color: #800000; font-weight: bold\"> ERROR </span><span style=\"color: #800000; text-decoration-color: #800000; font-weight: bold\"> No entry in quote with quote_compound=56172!</span>\n",
       "</pre>\n"
      ],
      "text/plain": [
       "\u001b[1;7;31m ERROR \u001b[0m\u001b[1;31m No entry in quote with quote_compound=56172!\u001b[0m\n"
      ]
     },
     "metadata": {},
     "output_type": "display_data"
    },
    {
     "data": {
      "text/html": [
       "<pre style=\"white-space:pre;overflow-x:auto;line-height:normal;font-family:Menlo,'DejaVu Sans Mono',consolas,'Courier New',monospace\"><span style=\"background-color: #800000; font-weight: bold\"> ERROR </span><span style=\"color: #800000; text-decoration-color: #800000; font-weight: bold\"> No entry in quote with quote_compound=56183!</span>\n",
       "</pre>\n"
      ],
      "text/plain": [
       "\u001b[1;7;31m ERROR \u001b[0m\u001b[1;31m No entry in quote with quote_compound=56183!\u001b[0m\n"
      ]
     },
     "metadata": {},
     "output_type": "display_data"
    },
    {
     "data": {
      "text/html": [
       "<pre style=\"white-space:pre;overflow-x:auto;line-height:normal;font-family:Menlo,'DejaVu Sans Mono',consolas,'Courier New',monospace\"><span style=\"background-color: #800000; font-weight: bold\"> ERROR </span><span style=\"color: #800000; text-decoration-color: #800000; font-weight: bold\"> No entry in quote with quote_compound=56174!</span>\n",
       "</pre>\n"
      ],
      "text/plain": [
       "\u001b[1;7;31m ERROR \u001b[0m\u001b[1;31m No entry in quote with quote_compound=56174!\u001b[0m\n"
      ]
     },
     "metadata": {},
     "output_type": "display_data"
    },
    {
     "data": {
      "text/html": [
       "<pre style=\"white-space:pre;overflow-x:auto;line-height:normal;font-family:Menlo,'DejaVu Sans Mono',consolas,'Courier New',monospace\"><span style=\"background-color: #800000; font-weight: bold\"> ERROR </span><span style=\"color: #800000; text-decoration-color: #800000; font-weight: bold\"> No entry in quote with quote_compound=56172!</span>\n",
       "</pre>\n"
      ],
      "text/plain": [
       "\u001b[1;7;31m ERROR \u001b[0m\u001b[1;31m No entry in quote with quote_compound=56172!\u001b[0m\n"
      ]
     },
     "metadata": {},
     "output_type": "display_data"
    },
    {
     "data": {
      "text/html": [
       "<pre style=\"white-space:pre;overflow-x:auto;line-height:normal;font-family:Menlo,'DejaVu Sans Mono',consolas,'Courier New',monospace\"><span style=\"background-color: #800000; font-weight: bold\"> ERROR </span><span style=\"color: #800000; text-decoration-color: #800000; font-weight: bold\"> No entry in quote with quote_compound=251!</span>\n",
       "</pre>\n"
      ],
      "text/plain": [
       "\u001b[1;7;31m ERROR \u001b[0m\u001b[1;31m No entry in quote with quote_compound=251!\u001b[0m\n"
      ]
     },
     "metadata": {},
     "output_type": "display_data"
    },
    {
     "data": {
      "text/html": [
       "<pre style=\"white-space:pre;overflow-x:auto;line-height:normal;font-family:Menlo,'DejaVu Sans Mono',consolas,'Courier New',monospace\"><span style=\"background-color: #800000; font-weight: bold\"> ERROR </span><span style=\"color: #800000; text-decoration-color: #800000; font-weight: bold\"> No entry in quote with quote_compound=56171!</span>\n",
       "</pre>\n"
      ],
      "text/plain": [
       "\u001b[1;7;31m ERROR \u001b[0m\u001b[1;31m No entry in quote with quote_compound=56171!\u001b[0m\n"
      ]
     },
     "metadata": {},
     "output_type": "display_data"
    },
    {
     "data": {
      "text/html": [
       "<pre style=\"white-space:pre;overflow-x:auto;line-height:normal;font-family:Menlo,'DejaVu Sans Mono',consolas,'Courier New',monospace\"><span style=\"background-color: #800000; font-weight: bold\"> ERROR </span><span style=\"color: #800000; text-decoration-color: #800000; font-weight: bold\"> No entry in quote with quote_compound=56170!</span>\n",
       "</pre>\n"
      ],
      "text/plain": [
       "\u001b[1;7;31m ERROR \u001b[0m\u001b[1;31m No entry in quote with quote_compound=56170!\u001b[0m\n"
      ]
     },
     "metadata": {},
     "output_type": "display_data"
    },
    {
     "data": {
      "text/html": [
       "<pre style=\"white-space:pre;overflow-x:auto;line-height:normal;font-family:Menlo,'DejaVu Sans Mono',consolas,'Courier New',monospace\"><span style=\"background-color: #800000; font-weight: bold\"> ERROR </span><span style=\"color: #800000; text-decoration-color: #800000; font-weight: bold\"> No entry in quote with quote_compound=56171!</span>\n",
       "</pre>\n"
      ],
      "text/plain": [
       "\u001b[1;7;31m ERROR \u001b[0m\u001b[1;31m No entry in quote with quote_compound=56171!\u001b[0m\n"
      ]
     },
     "metadata": {},
     "output_type": "display_data"
    },
    {
     "data": {
      "text/html": [
       "<pre style=\"white-space:pre;overflow-x:auto;line-height:normal;font-family:Menlo,'DejaVu Sans Mono',consolas,'Courier New',monospace\"><span style=\"background-color: #800000; font-weight: bold\"> ERROR </span><span style=\"color: #800000; text-decoration-color: #800000; font-weight: bold\"> No entry in quote with quote_compound=56172!</span>\n",
       "</pre>\n"
      ],
      "text/plain": [
       "\u001b[1;7;31m ERROR \u001b[0m\u001b[1;31m No entry in quote with quote_compound=56172!\u001b[0m\n"
      ]
     },
     "metadata": {},
     "output_type": "display_data"
    },
    {
     "data": {
      "text/html": [
       "<pre style=\"white-space:pre;overflow-x:auto;line-height:normal;font-family:Menlo,'DejaVu Sans Mono',consolas,'Courier New',monospace\"><span style=\"background-color: #800000; font-weight: bold\"> ERROR </span><span style=\"color: #800000; text-decoration-color: #800000; font-weight: bold\"> No entry in quote with quote_compound=56184!</span>\n",
       "</pre>\n"
      ],
      "text/plain": [
       "\u001b[1;7;31m ERROR \u001b[0m\u001b[1;31m No entry in quote with quote_compound=56184!\u001b[0m\n"
      ]
     },
     "metadata": {},
     "output_type": "display_data"
    },
    {
     "data": {
      "text/html": [
       "<pre style=\"white-space:pre;overflow-x:auto;line-height:normal;font-family:Menlo,'DejaVu Sans Mono',consolas,'Courier New',monospace\"><span style=\"background-color: #800000; font-weight: bold\"> ERROR </span><span style=\"color: #800000; text-decoration-color: #800000; font-weight: bold\"> No entry in quote with quote_compound=56174!</span>\n",
       "</pre>\n"
      ],
      "text/plain": [
       "\u001b[1;7;31m ERROR \u001b[0m\u001b[1;31m No entry in quote with quote_compound=56174!\u001b[0m\n"
      ]
     },
     "metadata": {},
     "output_type": "display_data"
    },
    {
     "data": {
      "text/html": [
       "<pre style=\"white-space:pre;overflow-x:auto;line-height:normal;font-family:Menlo,'DejaVu Sans Mono',consolas,'Courier New',monospace\"><span style=\"background-color: #800000; font-weight: bold\"> ERROR </span><span style=\"color: #800000; text-decoration-color: #800000; font-weight: bold\"> No entry in quote with quote_compound=56174!</span>\n",
       "</pre>\n"
      ],
      "text/plain": [
       "\u001b[1;7;31m ERROR \u001b[0m\u001b[1;31m No entry in quote with quote_compound=56174!\u001b[0m\n"
      ]
     },
     "metadata": {},
     "output_type": "display_data"
    },
    {
     "data": {
      "text/html": [
       "<pre style=\"white-space:pre;overflow-x:auto;line-height:normal;font-family:Menlo,'DejaVu Sans Mono',consolas,'Courier New',monospace\"><span style=\"background-color: #800000; font-weight: bold\"> ERROR </span><span style=\"color: #800000; text-decoration-color: #800000; font-weight: bold\"> No entry in quote with quote_compound=56174!</span>\n",
       "</pre>\n"
      ],
      "text/plain": [
       "\u001b[1;7;31m ERROR \u001b[0m\u001b[1;31m No entry in quote with quote_compound=56174!\u001b[0m\n"
      ]
     },
     "metadata": {},
     "output_type": "display_data"
    },
    {
     "data": {
      "text/html": [
       "<pre style=\"white-space:pre;overflow-x:auto;line-height:normal;font-family:Menlo,'DejaVu Sans Mono',consolas,'Courier New',monospace\"><span style=\"background-color: #800000; font-weight: bold\"> ERROR </span><span style=\"color: #800000; text-decoration-color: #800000; font-weight: bold\"> No entry in quote with quote_compound=56174!</span>\n",
       "</pre>\n"
      ],
      "text/plain": [
       "\u001b[1;7;31m ERROR \u001b[0m\u001b[1;31m No entry in quote with quote_compound=56174!\u001b[0m\n"
      ]
     },
     "metadata": {},
     "output_type": "display_data"
    },
    {
     "data": {
      "text/html": [
       "<pre style=\"white-space:pre;overflow-x:auto;line-height:normal;font-family:Menlo,'DejaVu Sans Mono',consolas,'Courier New',monospace\"><span style=\"background-color: #800000; font-weight: bold\"> ERROR </span><span style=\"color: #800000; text-decoration-color: #800000; font-weight: bold\"> No entry in quote with quote_compound=56174!</span>\n",
       "</pre>\n"
      ],
      "text/plain": [
       "\u001b[1;7;31m ERROR \u001b[0m\u001b[1;31m No entry in quote with quote_compound=56174!\u001b[0m\n"
      ]
     },
     "metadata": {},
     "output_type": "display_data"
    },
    {
     "data": {
      "text/html": [
       "<pre style=\"white-space:pre;overflow-x:auto;line-height:normal;font-family:Menlo,'DejaVu Sans Mono',consolas,'Courier New',monospace\"><span style=\"background-color: #800000; font-weight: bold\"> ERROR </span><span style=\"color: #800000; text-decoration-color: #800000; font-weight: bold\"> No entry in quote with quote_compound=56174!</span>\n",
       "</pre>\n"
      ],
      "text/plain": [
       "\u001b[1;7;31m ERROR \u001b[0m\u001b[1;31m No entry in quote with quote_compound=56174!\u001b[0m\n"
      ]
     },
     "metadata": {},
     "output_type": "display_data"
    },
    {
     "data": {
      "text/html": [
       "<pre style=\"white-space:pre;overflow-x:auto;line-height:normal;font-family:Menlo,'DejaVu Sans Mono',consolas,'Courier New',monospace\"><span style=\"background-color: #800000; font-weight: bold\"> ERROR </span><span style=\"color: #800000; text-decoration-color: #800000; font-weight: bold\"> No entry in quote with quote_compound=56174!</span>\n",
       "</pre>\n"
      ],
      "text/plain": [
       "\u001b[1;7;31m ERROR \u001b[0m\u001b[1;31m No entry in quote with quote_compound=56174!\u001b[0m\n"
      ]
     },
     "metadata": {},
     "output_type": "display_data"
    },
    {
     "data": {
      "text/html": [
       "<pre style=\"white-space:pre;overflow-x:auto;line-height:normal;font-family:Menlo,'DejaVu Sans Mono',consolas,'Courier New',monospace\"><span style=\"background-color: #800000; font-weight: bold\"> ERROR </span><span style=\"color: #800000; text-decoration-color: #800000; font-weight: bold\"> No entry in quote with quote_compound=56174!</span>\n",
       "</pre>\n"
      ],
      "text/plain": [
       "\u001b[1;7;31m ERROR \u001b[0m\u001b[1;31m No entry in quote with quote_compound=56174!\u001b[0m\n"
      ]
     },
     "metadata": {},
     "output_type": "display_data"
    },
    {
     "data": {
      "text/html": [
       "<pre style=\"white-space:pre;overflow-x:auto;line-height:normal;font-family:Menlo,'DejaVu Sans Mono',consolas,'Courier New',monospace\"><span style=\"background-color: #800000; font-weight: bold\"> ERROR </span><span style=\"color: #800000; text-decoration-color: #800000; font-weight: bold\"> No entry in quote with quote_compound=56174!</span>\n",
       "</pre>\n"
      ],
      "text/plain": [
       "\u001b[1;7;31m ERROR \u001b[0m\u001b[1;31m No entry in quote with quote_compound=56174!\u001b[0m\n"
      ]
     },
     "metadata": {},
     "output_type": "display_data"
    },
    {
     "data": {
      "text/html": [
       "<pre style=\"white-space:pre;overflow-x:auto;line-height:normal;font-family:Menlo,'DejaVu Sans Mono',consolas,'Courier New',monospace\"><span style=\"background-color: #800000; font-weight: bold\"> ERROR </span><span style=\"color: #800000; text-decoration-color: #800000; font-weight: bold\"> No entry in quote with quote_compound=167!</span>\n",
       "</pre>\n"
      ],
      "text/plain": [
       "\u001b[1;7;31m ERROR \u001b[0m\u001b[1;31m No entry in quote with quote_compound=167!\u001b[0m\n"
      ]
     },
     "metadata": {},
     "output_type": "display_data"
    },
    {
     "data": {
      "text/html": [
       "<pre style=\"white-space:pre;overflow-x:auto;line-height:normal;font-family:Menlo,'DejaVu Sans Mono',consolas,'Courier New',monospace\"><span style=\"background-color: #800000; font-weight: bold\"> ERROR </span><span style=\"color: #800000; text-decoration-color: #800000; font-weight: bold\"> No entry in quote with quote_compound=56187!</span>\n",
       "</pre>\n"
      ],
      "text/plain": [
       "\u001b[1;7;31m ERROR \u001b[0m\u001b[1;31m No entry in quote with quote_compound=56187!\u001b[0m\n"
      ]
     },
     "metadata": {},
     "output_type": "display_data"
    },
    {
     "data": {
      "text/html": [
       "<pre style=\"white-space:pre;overflow-x:auto;line-height:normal;font-family:Menlo,'DejaVu Sans Mono',consolas,'Courier New',monospace\"><span style=\"background-color: #800000; font-weight: bold\"> ERROR </span><span style=\"color: #800000; text-decoration-color: #800000; font-weight: bold\"> No entry in quote with quote_compound=56186!</span>\n",
       "</pre>\n"
      ],
      "text/plain": [
       "\u001b[1;7;31m ERROR \u001b[0m\u001b[1;31m No entry in quote with quote_compound=56186!\u001b[0m\n"
      ]
     },
     "metadata": {},
     "output_type": "display_data"
    },
    {
     "data": {
      "text/html": [
       "<pre style=\"white-space:pre;overflow-x:auto;line-height:normal;font-family:Menlo,'DejaVu Sans Mono',consolas,'Courier New',monospace\"><span style=\"background-color: #800000; font-weight: bold\"> ERROR </span><span style=\"color: #800000; text-decoration-color: #800000; font-weight: bold\"> No entry in quote with quote_compound=251!</span>\n",
       "</pre>\n"
      ],
      "text/plain": [
       "\u001b[1;7;31m ERROR \u001b[0m\u001b[1;31m No entry in quote with quote_compound=251!\u001b[0m\n"
      ]
     },
     "metadata": {},
     "output_type": "display_data"
    },
    {
     "data": {
      "text/html": [
       "<pre style=\"white-space:pre;overflow-x:auto;line-height:normal;font-family:Menlo,'DejaVu Sans Mono',consolas,'Courier New',monospace\"><span style=\"background-color: #800000; font-weight: bold\"> ERROR </span><span style=\"color: #800000; text-decoration-color: #800000; font-weight: bold\"> No entry in quote with quote_compound=56185!</span>\n",
       "</pre>\n"
      ],
      "text/plain": [
       "\u001b[1;7;31m ERROR \u001b[0m\u001b[1;31m No entry in quote with quote_compound=56185!\u001b[0m\n"
      ]
     },
     "metadata": {},
     "output_type": "display_data"
    },
    {
     "data": {
      "text/html": [
       "<pre style=\"white-space:pre;overflow-x:auto;line-height:normal;font-family:Menlo,'DejaVu Sans Mono',consolas,'Courier New',monospace\"><span style=\"background-color: #800000; font-weight: bold\"> ERROR </span><span style=\"color: #800000; text-decoration-color: #800000; font-weight: bold\"> No entry in quote with quote_compound=56170!</span>\n",
       "</pre>\n"
      ],
      "text/plain": [
       "\u001b[1;7;31m ERROR \u001b[0m\u001b[1;31m No entry in quote with quote_compound=56170!\u001b[0m\n"
      ]
     },
     "metadata": {},
     "output_type": "display_data"
    },
    {
     "data": {
      "text/html": [
       "<pre style=\"white-space:pre;overflow-x:auto;line-height:normal;font-family:Menlo,'DejaVu Sans Mono',consolas,'Courier New',monospace\"><span style=\"background-color: #800000; font-weight: bold\"> ERROR </span><span style=\"color: #800000; text-decoration-color: #800000; font-weight: bold\"> No entry in quote with quote_compound=56185!</span>\n",
       "</pre>\n"
      ],
      "text/plain": [
       "\u001b[1;7;31m ERROR \u001b[0m\u001b[1;31m No entry in quote with quote_compound=56185!\u001b[0m\n"
      ]
     },
     "metadata": {},
     "output_type": "display_data"
    },
    {
     "data": {
      "text/html": [
       "<pre style=\"white-space:pre;overflow-x:auto;line-height:normal;font-family:Menlo,'DejaVu Sans Mono',consolas,'Courier New',monospace\"><span style=\"background-color: #800000; font-weight: bold\"> ERROR </span><span style=\"color: #800000; text-decoration-color: #800000; font-weight: bold\"> No entry in quote with quote_compound=56186!</span>\n",
       "</pre>\n"
      ],
      "text/plain": [
       "\u001b[1;7;31m ERROR \u001b[0m\u001b[1;31m No entry in quote with quote_compound=56186!\u001b[0m\n"
      ]
     },
     "metadata": {},
     "output_type": "display_data"
    },
    {
     "data": {
      "text/html": [
       "<pre style=\"white-space:pre;overflow-x:auto;line-height:normal;font-family:Menlo,'DejaVu Sans Mono',consolas,'Courier New',monospace\"><span style=\"background-color: #800000; font-weight: bold\"> ERROR </span><span style=\"color: #800000; text-decoration-color: #800000; font-weight: bold\"> No entry in quote with quote_compound=56187!</span>\n",
       "</pre>\n"
      ],
      "text/plain": [
       "\u001b[1;7;31m ERROR \u001b[0m\u001b[1;31m No entry in quote with quote_compound=56187!\u001b[0m\n"
      ]
     },
     "metadata": {},
     "output_type": "display_data"
    },
    {
     "data": {
      "text/html": [
       "<pre style=\"white-space:pre;overflow-x:auto;line-height:normal;font-family:Menlo,'DejaVu Sans Mono',consolas,'Courier New',monospace\"><span style=\"background-color: #800000; font-weight: bold\"> ERROR </span><span style=\"color: #800000; text-decoration-color: #800000; font-weight: bold\"> No entry in quote with quote_compound=56177!</span>\n",
       "</pre>\n"
      ],
      "text/plain": [
       "\u001b[1;7;31m ERROR \u001b[0m\u001b[1;31m No entry in quote with quote_compound=56177!\u001b[0m\n"
      ]
     },
     "metadata": {},
     "output_type": "display_data"
    },
    {
     "data": {
      "text/html": [
       "<pre style=\"white-space:pre;overflow-x:auto;line-height:normal;font-family:Menlo,'DejaVu Sans Mono',consolas,'Courier New',monospace\"><span style=\"background-color: #800000; font-weight: bold\"> ERROR </span><span style=\"color: #800000; text-decoration-color: #800000; font-weight: bold\"> No entry in quote with quote_compound=56186!</span>\n",
       "</pre>\n"
      ],
      "text/plain": [
       "\u001b[1;7;31m ERROR \u001b[0m\u001b[1;31m No entry in quote with quote_compound=56186!\u001b[0m\n"
      ]
     },
     "metadata": {},
     "output_type": "display_data"
    },
    {
     "data": {
      "text/html": [
       "<pre style=\"white-space:pre;overflow-x:auto;line-height:normal;font-family:Menlo,'DejaVu Sans Mono',consolas,'Courier New',monospace\"><span style=\"background-color: #800000; font-weight: bold\"> ERROR </span><span style=\"color: #800000; text-decoration-color: #800000; font-weight: bold\"> No entry in quote with quote_compound=251!</span>\n",
       "</pre>\n"
      ],
      "text/plain": [
       "\u001b[1;7;31m ERROR \u001b[0m\u001b[1;31m No entry in quote with quote_compound=251!\u001b[0m\n"
      ]
     },
     "metadata": {},
     "output_type": "display_data"
    },
    {
     "data": {
      "text/html": [
       "<pre style=\"white-space:pre;overflow-x:auto;line-height:normal;font-family:Menlo,'DejaVu Sans Mono',consolas,'Courier New',monospace\"><span style=\"background-color: #800000; font-weight: bold\"> ERROR </span><span style=\"color: #800000; text-decoration-color: #800000; font-weight: bold\"> No entry in quote with quote_compound=56185!</span>\n",
       "</pre>\n"
      ],
      "text/plain": [
       "\u001b[1;7;31m ERROR \u001b[0m\u001b[1;31m No entry in quote with quote_compound=56185!\u001b[0m\n"
      ]
     },
     "metadata": {},
     "output_type": "display_data"
    },
    {
     "data": {
      "text/html": [
       "<pre style=\"white-space:pre;overflow-x:auto;line-height:normal;font-family:Menlo,'DejaVu Sans Mono',consolas,'Courier New',monospace\"><span style=\"background-color: #800000; font-weight: bold\"> ERROR </span><span style=\"color: #800000; text-decoration-color: #800000; font-weight: bold\"> No entry in quote with quote_compound=56170!</span>\n",
       "</pre>\n"
      ],
      "text/plain": [
       "\u001b[1;7;31m ERROR \u001b[0m\u001b[1;31m No entry in quote with quote_compound=56170!\u001b[0m\n"
      ]
     },
     "metadata": {},
     "output_type": "display_data"
    },
    {
     "data": {
      "text/html": [
       "<pre style=\"white-space:pre;overflow-x:auto;line-height:normal;font-family:Menlo,'DejaVu Sans Mono',consolas,'Courier New',monospace\"><span style=\"background-color: #800000; font-weight: bold\"> ERROR </span><span style=\"color: #800000; text-decoration-color: #800000; font-weight: bold\"> No entry in quote with quote_compound=56185!</span>\n",
       "</pre>\n"
      ],
      "text/plain": [
       "\u001b[1;7;31m ERROR \u001b[0m\u001b[1;31m No entry in quote with quote_compound=56185!\u001b[0m\n"
      ]
     },
     "metadata": {},
     "output_type": "display_data"
    },
    {
     "data": {
      "text/html": [
       "<pre style=\"white-space:pre;overflow-x:auto;line-height:normal;font-family:Menlo,'DejaVu Sans Mono',consolas,'Courier New',monospace\"><span style=\"background-color: #800000; font-weight: bold\"> ERROR </span><span style=\"color: #800000; text-decoration-color: #800000; font-weight: bold\"> No entry in quote with quote_compound=56186!</span>\n",
       "</pre>\n"
      ],
      "text/plain": [
       "\u001b[1;7;31m ERROR \u001b[0m\u001b[1;31m No entry in quote with quote_compound=56186!\u001b[0m\n"
      ]
     },
     "metadata": {},
     "output_type": "display_data"
    },
    {
     "data": {
      "text/html": [
       "<pre style=\"white-space:pre;overflow-x:auto;line-height:normal;font-family:Menlo,'DejaVu Sans Mono',consolas,'Courier New',monospace\"><span style=\"background-color: #800000; font-weight: bold\"> ERROR </span><span style=\"color: #800000; text-decoration-color: #800000; font-weight: bold\"> No entry in quote with quote_compound=56187!</span>\n",
       "</pre>\n"
      ],
      "text/plain": [
       "\u001b[1;7;31m ERROR \u001b[0m\u001b[1;31m No entry in quote with quote_compound=56187!\u001b[0m\n"
      ]
     },
     "metadata": {},
     "output_type": "display_data"
    },
    {
     "data": {
      "text/html": [
       "<pre style=\"white-space:pre;overflow-x:auto;line-height:normal;font-family:Menlo,'DejaVu Sans Mono',consolas,'Courier New',monospace\"><span style=\"background-color: #800000; font-weight: bold\"> ERROR </span><span style=\"color: #800000; text-decoration-color: #800000; font-weight: bold\"> No entry in quote with quote_compound=56178!</span>\n",
       "</pre>\n"
      ],
      "text/plain": [
       "\u001b[1;7;31m ERROR \u001b[0m\u001b[1;31m No entry in quote with quote_compound=56178!\u001b[0m\n"
      ]
     },
     "metadata": {},
     "output_type": "display_data"
    },
    {
     "data": {
      "text/html": [
       "<pre style=\"white-space:pre;overflow-x:auto;line-height:normal;font-family:Menlo,'DejaVu Sans Mono',consolas,'Courier New',monospace\"><span style=\"background-color: #800000; font-weight: bold\"> ERROR </span><span style=\"color: #800000; text-decoration-color: #800000; font-weight: bold\"> No entry in quote with quote_compound=56186!</span>\n",
       "</pre>\n"
      ],
      "text/plain": [
       "\u001b[1;7;31m ERROR \u001b[0m\u001b[1;31m No entry in quote with quote_compound=56186!\u001b[0m\n"
      ]
     },
     "metadata": {},
     "output_type": "display_data"
    },
    {
     "data": {
      "text/html": [
       "<pre style=\"white-space:pre;overflow-x:auto;line-height:normal;font-family:Menlo,'DejaVu Sans Mono',consolas,'Courier New',monospace\"><span style=\"background-color: #800000; font-weight: bold\"> ERROR </span><span style=\"color: #800000; text-decoration-color: #800000; font-weight: bold\"> No entry in quote with quote_compound=251!</span>\n",
       "</pre>\n"
      ],
      "text/plain": [
       "\u001b[1;7;31m ERROR \u001b[0m\u001b[1;31m No entry in quote with quote_compound=251!\u001b[0m\n"
      ]
     },
     "metadata": {},
     "output_type": "display_data"
    },
    {
     "data": {
      "text/html": [
       "<pre style=\"white-space:pre;overflow-x:auto;line-height:normal;font-family:Menlo,'DejaVu Sans Mono',consolas,'Courier New',monospace\"><span style=\"background-color: #800000; font-weight: bold\"> ERROR </span><span style=\"color: #800000; text-decoration-color: #800000; font-weight: bold\"> No entry in quote with quote_compound=56185!</span>\n",
       "</pre>\n"
      ],
      "text/plain": [
       "\u001b[1;7;31m ERROR \u001b[0m\u001b[1;31m No entry in quote with quote_compound=56185!\u001b[0m\n"
      ]
     },
     "metadata": {},
     "output_type": "display_data"
    },
    {
     "data": {
      "text/html": [
       "<pre style=\"white-space:pre;overflow-x:auto;line-height:normal;font-family:Menlo,'DejaVu Sans Mono',consolas,'Courier New',monospace\"><span style=\"background-color: #800000; font-weight: bold\"> ERROR </span><span style=\"color: #800000; text-decoration-color: #800000; font-weight: bold\"> No entry in quote with quote_compound=56170!</span>\n",
       "</pre>\n"
      ],
      "text/plain": [
       "\u001b[1;7;31m ERROR \u001b[0m\u001b[1;31m No entry in quote with quote_compound=56170!\u001b[0m\n"
      ]
     },
     "metadata": {},
     "output_type": "display_data"
    },
    {
     "data": {
      "text/html": [
       "<pre style=\"white-space:pre;overflow-x:auto;line-height:normal;font-family:Menlo,'DejaVu Sans Mono',consolas,'Courier New',monospace\"><span style=\"background-color: #800000; font-weight: bold\"> ERROR </span><span style=\"color: #800000; text-decoration-color: #800000; font-weight: bold\"> No entry in quote with quote_compound=56185!</span>\n",
       "</pre>\n"
      ],
      "text/plain": [
       "\u001b[1;7;31m ERROR \u001b[0m\u001b[1;31m No entry in quote with quote_compound=56185!\u001b[0m\n"
      ]
     },
     "metadata": {},
     "output_type": "display_data"
    },
    {
     "data": {
      "text/html": [
       "<pre style=\"white-space:pre;overflow-x:auto;line-height:normal;font-family:Menlo,'DejaVu Sans Mono',consolas,'Courier New',monospace\"><span style=\"background-color: #800000; font-weight: bold\"> ERROR </span><span style=\"color: #800000; text-decoration-color: #800000; font-weight: bold\"> No entry in quote with quote_compound=56186!</span>\n",
       "</pre>\n"
      ],
      "text/plain": [
       "\u001b[1;7;31m ERROR \u001b[0m\u001b[1;31m No entry in quote with quote_compound=56186!\u001b[0m\n"
      ]
     },
     "metadata": {},
     "output_type": "display_data"
    },
    {
     "data": {
      "text/html": [
       "<pre style=\"white-space:pre;overflow-x:auto;line-height:normal;font-family:Menlo,'DejaVu Sans Mono',consolas,'Courier New',monospace\"><span style=\"background-color: #800000; font-weight: bold\"> ERROR </span><span style=\"color: #800000; text-decoration-color: #800000; font-weight: bold\"> No entry in quote with quote_compound=56187!</span>\n",
       "</pre>\n"
      ],
      "text/plain": [
       "\u001b[1;7;31m ERROR \u001b[0m\u001b[1;31m No entry in quote with quote_compound=56187!\u001b[0m\n"
      ]
     },
     "metadata": {},
     "output_type": "display_data"
    },
    {
     "data": {
      "text/html": [
       "<pre style=\"white-space:pre;overflow-x:auto;line-height:normal;font-family:Menlo,'DejaVu Sans Mono',consolas,'Courier New',monospace\"><span style=\"background-color: #800000; font-weight: bold\"> ERROR </span><span style=\"color: #800000; text-decoration-color: #800000; font-weight: bold\"> No entry in quote with quote_compound=56186!</span>\n",
       "</pre>\n"
      ],
      "text/plain": [
       "\u001b[1;7;31m ERROR \u001b[0m\u001b[1;31m No entry in quote with quote_compound=56186!\u001b[0m\n"
      ]
     },
     "metadata": {},
     "output_type": "display_data"
    },
    {
     "data": {
      "text/html": [
       "<pre style=\"white-space:pre;overflow-x:auto;line-height:normal;font-family:Menlo,'DejaVu Sans Mono',consolas,'Courier New',monospace\"><span style=\"background-color: #800000; font-weight: bold\"> ERROR </span><span style=\"color: #800000; text-decoration-color: #800000; font-weight: bold\"> No entry in quote with quote_compound=251!</span>\n",
       "</pre>\n"
      ],
      "text/plain": [
       "\u001b[1;7;31m ERROR \u001b[0m\u001b[1;31m No entry in quote with quote_compound=251!\u001b[0m\n"
      ]
     },
     "metadata": {},
     "output_type": "display_data"
    },
    {
     "data": {
      "text/html": [
       "<pre style=\"white-space:pre;overflow-x:auto;line-height:normal;font-family:Menlo,'DejaVu Sans Mono',consolas,'Courier New',monospace\"><span style=\"background-color: #800000; font-weight: bold\"> ERROR </span><span style=\"color: #800000; text-decoration-color: #800000; font-weight: bold\"> No entry in quote with quote_compound=56185!</span>\n",
       "</pre>\n"
      ],
      "text/plain": [
       "\u001b[1;7;31m ERROR \u001b[0m\u001b[1;31m No entry in quote with quote_compound=56185!\u001b[0m\n"
      ]
     },
     "metadata": {},
     "output_type": "display_data"
    },
    {
     "data": {
      "text/html": [
       "<pre style=\"white-space:pre;overflow-x:auto;line-height:normal;font-family:Menlo,'DejaVu Sans Mono',consolas,'Courier New',monospace\"><span style=\"background-color: #800000; font-weight: bold\"> ERROR </span><span style=\"color: #800000; text-decoration-color: #800000; font-weight: bold\"> No entry in quote with quote_compound=56170!</span>\n",
       "</pre>\n"
      ],
      "text/plain": [
       "\u001b[1;7;31m ERROR \u001b[0m\u001b[1;31m No entry in quote with quote_compound=56170!\u001b[0m\n"
      ]
     },
     "metadata": {},
     "output_type": "display_data"
    },
    {
     "data": {
      "text/html": [
       "<pre style=\"white-space:pre;overflow-x:auto;line-height:normal;font-family:Menlo,'DejaVu Sans Mono',consolas,'Courier New',monospace\"><span style=\"background-color: #800000; font-weight: bold\"> ERROR </span><span style=\"color: #800000; text-decoration-color: #800000; font-weight: bold\"> No entry in quote with quote_compound=56185!</span>\n",
       "</pre>\n"
      ],
      "text/plain": [
       "\u001b[1;7;31m ERROR \u001b[0m\u001b[1;31m No entry in quote with quote_compound=56185!\u001b[0m\n"
      ]
     },
     "metadata": {},
     "output_type": "display_data"
    },
    {
     "data": {
      "text/html": [
       "<pre style=\"white-space:pre;overflow-x:auto;line-height:normal;font-family:Menlo,'DejaVu Sans Mono',consolas,'Courier New',monospace\"><span style=\"background-color: #800000; font-weight: bold\"> ERROR </span><span style=\"color: #800000; text-decoration-color: #800000; font-weight: bold\"> No entry in quote with quote_compound=56186!</span>\n",
       "</pre>\n"
      ],
      "text/plain": [
       "\u001b[1;7;31m ERROR \u001b[0m\u001b[1;31m No entry in quote with quote_compound=56186!\u001b[0m\n"
      ]
     },
     "metadata": {},
     "output_type": "display_data"
    },
    {
     "data": {
      "text/html": [
       "<pre style=\"white-space:pre;overflow-x:auto;line-height:normal;font-family:Menlo,'DejaVu Sans Mono',consolas,'Courier New',monospace\"><span style=\"background-color: #800000; font-weight: bold\"> ERROR </span><span style=\"color: #800000; text-decoration-color: #800000; font-weight: bold\"> No entry in quote with quote_compound=56187!</span>\n",
       "</pre>\n"
      ],
      "text/plain": [
       "\u001b[1;7;31m ERROR \u001b[0m\u001b[1;31m No entry in quote with quote_compound=56187!\u001b[0m\n"
      ]
     },
     "metadata": {},
     "output_type": "display_data"
    },
    {
     "data": {
      "text/html": [
       "<pre style=\"white-space:pre;overflow-x:auto;line-height:normal;font-family:Menlo,'DejaVu Sans Mono',consolas,'Courier New',monospace\"><span style=\"background-color: #800000; font-weight: bold\"> ERROR </span><span style=\"color: #800000; text-decoration-color: #800000; font-weight: bold\"> No entry in quote with quote_compound=56186!</span>\n",
       "</pre>\n"
      ],
      "text/plain": [
       "\u001b[1;7;31m ERROR \u001b[0m\u001b[1;31m No entry in quote with quote_compound=56186!\u001b[0m\n"
      ]
     },
     "metadata": {},
     "output_type": "display_data"
    },
    {
     "data": {
      "text/html": [
       "<pre style=\"white-space:pre;overflow-x:auto;line-height:normal;font-family:Menlo,'DejaVu Sans Mono',consolas,'Courier New',monospace\"><span style=\"background-color: #800000; font-weight: bold\"> ERROR </span><span style=\"color: #800000; text-decoration-color: #800000; font-weight: bold\"> No entry in quote with quote_compound=251!</span>\n",
       "</pre>\n"
      ],
      "text/plain": [
       "\u001b[1;7;31m ERROR \u001b[0m\u001b[1;31m No entry in quote with quote_compound=251!\u001b[0m\n"
      ]
     },
     "metadata": {},
     "output_type": "display_data"
    },
    {
     "data": {
      "text/html": [
       "<pre style=\"white-space:pre;overflow-x:auto;line-height:normal;font-family:Menlo,'DejaVu Sans Mono',consolas,'Courier New',monospace\"><span style=\"background-color: #800000; font-weight: bold\"> ERROR </span><span style=\"color: #800000; text-decoration-color: #800000; font-weight: bold\"> No entry in quote with quote_compound=56185!</span>\n",
       "</pre>\n"
      ],
      "text/plain": [
       "\u001b[1;7;31m ERROR \u001b[0m\u001b[1;31m No entry in quote with quote_compound=56185!\u001b[0m\n"
      ]
     },
     "metadata": {},
     "output_type": "display_data"
    },
    {
     "data": {
      "text/html": [
       "<pre style=\"white-space:pre;overflow-x:auto;line-height:normal;font-family:Menlo,'DejaVu Sans Mono',consolas,'Courier New',monospace\"><span style=\"background-color: #800000; font-weight: bold\"> ERROR </span><span style=\"color: #800000; text-decoration-color: #800000; font-weight: bold\"> No entry in quote with quote_compound=56170!</span>\n",
       "</pre>\n"
      ],
      "text/plain": [
       "\u001b[1;7;31m ERROR \u001b[0m\u001b[1;31m No entry in quote with quote_compound=56170!\u001b[0m\n"
      ]
     },
     "metadata": {},
     "output_type": "display_data"
    },
    {
     "data": {
      "text/html": [
       "<pre style=\"white-space:pre;overflow-x:auto;line-height:normal;font-family:Menlo,'DejaVu Sans Mono',consolas,'Courier New',monospace\"><span style=\"background-color: #800000; font-weight: bold\"> ERROR </span><span style=\"color: #800000; text-decoration-color: #800000; font-weight: bold\"> No entry in quote with quote_compound=56185!</span>\n",
       "</pre>\n"
      ],
      "text/plain": [
       "\u001b[1;7;31m ERROR \u001b[0m\u001b[1;31m No entry in quote with quote_compound=56185!\u001b[0m\n"
      ]
     },
     "metadata": {},
     "output_type": "display_data"
    },
    {
     "data": {
      "text/html": [
       "<pre style=\"white-space:pre;overflow-x:auto;line-height:normal;font-family:Menlo,'DejaVu Sans Mono',consolas,'Courier New',monospace\"><span style=\"background-color: #800000; font-weight: bold\"> ERROR </span><span style=\"color: #800000; text-decoration-color: #800000; font-weight: bold\"> No entry in quote with quote_compound=56186!</span>\n",
       "</pre>\n"
      ],
      "text/plain": [
       "\u001b[1;7;31m ERROR \u001b[0m\u001b[1;31m No entry in quote with quote_compound=56186!\u001b[0m\n"
      ]
     },
     "metadata": {},
     "output_type": "display_data"
    },
    {
     "data": {
      "text/html": [
       "<pre style=\"white-space:pre;overflow-x:auto;line-height:normal;font-family:Menlo,'DejaVu Sans Mono',consolas,'Courier New',monospace\"><span style=\"background-color: #800000; font-weight: bold\"> ERROR </span><span style=\"color: #800000; text-decoration-color: #800000; font-weight: bold\"> No entry in quote with quote_compound=56187!</span>\n",
       "</pre>\n"
      ],
      "text/plain": [
       "\u001b[1;7;31m ERROR \u001b[0m\u001b[1;31m No entry in quote with quote_compound=56187!\u001b[0m\n"
      ]
     },
     "metadata": {},
     "output_type": "display_data"
    },
    {
     "data": {
      "text/html": [
       "<pre style=\"white-space:pre;overflow-x:auto;line-height:normal;font-family:Menlo,'DejaVu Sans Mono',consolas,'Courier New',monospace\"><span style=\"background-color: #800000; font-weight: bold\"> ERROR </span><span style=\"color: #800000; text-decoration-color: #800000; font-weight: bold\"> No entry in quote with quote_compound=56181!</span>\n",
       "</pre>\n"
      ],
      "text/plain": [
       "\u001b[1;7;31m ERROR \u001b[0m\u001b[1;31m No entry in quote with quote_compound=56181!\u001b[0m\n"
      ]
     },
     "metadata": {},
     "output_type": "display_data"
    },
    {
     "data": {
      "text/html": [
       "<pre style=\"white-space:pre;overflow-x:auto;line-height:normal;font-family:Menlo,'DejaVu Sans Mono',consolas,'Courier New',monospace\"><span style=\"background-color: #800000; font-weight: bold\"> ERROR </span><span style=\"color: #800000; text-decoration-color: #800000; font-weight: bold\"> No entry in quote with quote_compound=56186!</span>\n",
       "</pre>\n"
      ],
      "text/plain": [
       "\u001b[1;7;31m ERROR \u001b[0m\u001b[1;31m No entry in quote with quote_compound=56186!\u001b[0m\n"
      ]
     },
     "metadata": {},
     "output_type": "display_data"
    },
    {
     "data": {
      "text/html": [
       "<pre style=\"white-space:pre;overflow-x:auto;line-height:normal;font-family:Menlo,'DejaVu Sans Mono',consolas,'Courier New',monospace\"><span style=\"background-color: #800000; font-weight: bold\"> ERROR </span><span style=\"color: #800000; text-decoration-color: #800000; font-weight: bold\"> No entry in quote with quote_compound=251!</span>\n",
       "</pre>\n"
      ],
      "text/plain": [
       "\u001b[1;7;31m ERROR \u001b[0m\u001b[1;31m No entry in quote with quote_compound=251!\u001b[0m\n"
      ]
     },
     "metadata": {},
     "output_type": "display_data"
    },
    {
     "data": {
      "text/html": [
       "<pre style=\"white-space:pre;overflow-x:auto;line-height:normal;font-family:Menlo,'DejaVu Sans Mono',consolas,'Courier New',monospace\"><span style=\"background-color: #800000; font-weight: bold\"> ERROR </span><span style=\"color: #800000; text-decoration-color: #800000; font-weight: bold\"> No entry in quote with quote_compound=56185!</span>\n",
       "</pre>\n"
      ],
      "text/plain": [
       "\u001b[1;7;31m ERROR \u001b[0m\u001b[1;31m No entry in quote with quote_compound=56185!\u001b[0m\n"
      ]
     },
     "metadata": {},
     "output_type": "display_data"
    },
    {
     "data": {
      "text/html": [
       "<pre style=\"white-space:pre;overflow-x:auto;line-height:normal;font-family:Menlo,'DejaVu Sans Mono',consolas,'Courier New',monospace\"><span style=\"background-color: #800000; font-weight: bold\"> ERROR </span><span style=\"color: #800000; text-decoration-color: #800000; font-weight: bold\"> No entry in quote with quote_compound=56170!</span>\n",
       "</pre>\n"
      ],
      "text/plain": [
       "\u001b[1;7;31m ERROR \u001b[0m\u001b[1;31m No entry in quote with quote_compound=56170!\u001b[0m\n"
      ]
     },
     "metadata": {},
     "output_type": "display_data"
    },
    {
     "data": {
      "text/html": [
       "<pre style=\"white-space:pre;overflow-x:auto;line-height:normal;font-family:Menlo,'DejaVu Sans Mono',consolas,'Courier New',monospace\"><span style=\"background-color: #800000; font-weight: bold\"> ERROR </span><span style=\"color: #800000; text-decoration-color: #800000; font-weight: bold\"> No entry in quote with quote_compound=56185!</span>\n",
       "</pre>\n"
      ],
      "text/plain": [
       "\u001b[1;7;31m ERROR \u001b[0m\u001b[1;31m No entry in quote with quote_compound=56185!\u001b[0m\n"
      ]
     },
     "metadata": {},
     "output_type": "display_data"
    },
    {
     "data": {
      "text/html": [
       "<pre style=\"white-space:pre;overflow-x:auto;line-height:normal;font-family:Menlo,'DejaVu Sans Mono',consolas,'Courier New',monospace\"><span style=\"background-color: #800000; font-weight: bold\"> ERROR </span><span style=\"color: #800000; text-decoration-color: #800000; font-weight: bold\"> No entry in quote with quote_compound=56186!</span>\n",
       "</pre>\n"
      ],
      "text/plain": [
       "\u001b[1;7;31m ERROR \u001b[0m\u001b[1;31m No entry in quote with quote_compound=56186!\u001b[0m\n"
      ]
     },
     "metadata": {},
     "output_type": "display_data"
    },
    {
     "data": {
      "text/html": [
       "<pre style=\"white-space:pre;overflow-x:auto;line-height:normal;font-family:Menlo,'DejaVu Sans Mono',consolas,'Courier New',monospace\"><span style=\"background-color: #800000; font-weight: bold\"> ERROR </span><span style=\"color: #800000; text-decoration-color: #800000; font-weight: bold\"> No entry in quote with quote_compound=56187!</span>\n",
       "</pre>\n"
      ],
      "text/plain": [
       "\u001b[1;7;31m ERROR \u001b[0m\u001b[1;31m No entry in quote with quote_compound=56187!\u001b[0m\n"
      ]
     },
     "metadata": {},
     "output_type": "display_data"
    },
    {
     "data": {
      "text/html": [
       "<pre style=\"white-space:pre;overflow-x:auto;line-height:normal;font-family:Menlo,'DejaVu Sans Mono',consolas,'Courier New',monospace\"><span style=\"background-color: #800000; font-weight: bold\"> ERROR </span><span style=\"color: #800000; text-decoration-color: #800000; font-weight: bold\"> No entry in quote with quote_compound=56186!</span>\n",
       "</pre>\n"
      ],
      "text/plain": [
       "\u001b[1;7;31m ERROR \u001b[0m\u001b[1;31m No entry in quote with quote_compound=56186!\u001b[0m\n"
      ]
     },
     "metadata": {},
     "output_type": "display_data"
    },
    {
     "data": {
      "text/html": [
       "<pre style=\"white-space:pre;overflow-x:auto;line-height:normal;font-family:Menlo,'DejaVu Sans Mono',consolas,'Courier New',monospace\"><span style=\"background-color: #800000; font-weight: bold\"> ERROR </span><span style=\"color: #800000; text-decoration-color: #800000; font-weight: bold\"> No entry in quote with quote_compound=251!</span>\n",
       "</pre>\n"
      ],
      "text/plain": [
       "\u001b[1;7;31m ERROR \u001b[0m\u001b[1;31m No entry in quote with quote_compound=251!\u001b[0m\n"
      ]
     },
     "metadata": {},
     "output_type": "display_data"
    },
    {
     "data": {
      "text/html": [
       "<pre style=\"white-space:pre;overflow-x:auto;line-height:normal;font-family:Menlo,'DejaVu Sans Mono',consolas,'Courier New',monospace\"><span style=\"background-color: #800000; font-weight: bold\"> ERROR </span><span style=\"color: #800000; text-decoration-color: #800000; font-weight: bold\"> No entry in quote with quote_compound=56185!</span>\n",
       "</pre>\n"
      ],
      "text/plain": [
       "\u001b[1;7;31m ERROR \u001b[0m\u001b[1;31m No entry in quote with quote_compound=56185!\u001b[0m\n"
      ]
     },
     "metadata": {},
     "output_type": "display_data"
    },
    {
     "data": {
      "text/html": [
       "<pre style=\"white-space:pre;overflow-x:auto;line-height:normal;font-family:Menlo,'DejaVu Sans Mono',consolas,'Courier New',monospace\"><span style=\"background-color: #800000; font-weight: bold\"> ERROR </span><span style=\"color: #800000; text-decoration-color: #800000; font-weight: bold\"> No entry in quote with quote_compound=56170!</span>\n",
       "</pre>\n"
      ],
      "text/plain": [
       "\u001b[1;7;31m ERROR \u001b[0m\u001b[1;31m No entry in quote with quote_compound=56170!\u001b[0m\n"
      ]
     },
     "metadata": {},
     "output_type": "display_data"
    },
    {
     "data": {
      "text/html": [
       "<pre style=\"white-space:pre;overflow-x:auto;line-height:normal;font-family:Menlo,'DejaVu Sans Mono',consolas,'Courier New',monospace\"><span style=\"background-color: #800000; font-weight: bold\"> ERROR </span><span style=\"color: #800000; text-decoration-color: #800000; font-weight: bold\"> No entry in quote with quote_compound=56185!</span>\n",
       "</pre>\n"
      ],
      "text/plain": [
       "\u001b[1;7;31m ERROR \u001b[0m\u001b[1;31m No entry in quote with quote_compound=56185!\u001b[0m\n"
      ]
     },
     "metadata": {},
     "output_type": "display_data"
    },
    {
     "data": {
      "text/html": [
       "<pre style=\"white-space:pre;overflow-x:auto;line-height:normal;font-family:Menlo,'DejaVu Sans Mono',consolas,'Courier New',monospace\"><span style=\"background-color: #800000; font-weight: bold\"> ERROR </span><span style=\"color: #800000; text-decoration-color: #800000; font-weight: bold\"> No entry in quote with quote_compound=56186!</span>\n",
       "</pre>\n"
      ],
      "text/plain": [
       "\u001b[1;7;31m ERROR \u001b[0m\u001b[1;31m No entry in quote with quote_compound=56186!\u001b[0m\n"
      ]
     },
     "metadata": {},
     "output_type": "display_data"
    },
    {
     "data": {
      "text/html": [
       "<pre style=\"white-space:pre;overflow-x:auto;line-height:normal;font-family:Menlo,'DejaVu Sans Mono',consolas,'Courier New',monospace\"><span style=\"background-color: #800000; font-weight: bold\"> ERROR </span><span style=\"color: #800000; text-decoration-color: #800000; font-weight: bold\"> No entry in quote with quote_compound=56187!</span>\n",
       "</pre>\n"
      ],
      "text/plain": [
       "\u001b[1;7;31m ERROR \u001b[0m\u001b[1;31m No entry in quote with quote_compound=56187!\u001b[0m\n"
      ]
     },
     "metadata": {},
     "output_type": "display_data"
    },
    {
     "data": {
      "text/html": [
       "<pre style=\"white-space:pre;overflow-x:auto;line-height:normal;font-family:Menlo,'DejaVu Sans Mono',consolas,'Courier New',monospace\"><span style=\"background-color: #800000; font-weight: bold\"> ERROR </span><span style=\"color: #800000; text-decoration-color: #800000; font-weight: bold\"> No entry in quote with quote_compound=56183!</span>\n",
       "</pre>\n"
      ],
      "text/plain": [
       "\u001b[1;7;31m ERROR \u001b[0m\u001b[1;31m No entry in quote with quote_compound=56183!\u001b[0m\n"
      ]
     },
     "metadata": {},
     "output_type": "display_data"
    },
    {
     "data": {
      "text/html": [
       "<pre style=\"white-space:pre;overflow-x:auto;line-height:normal;font-family:Menlo,'DejaVu Sans Mono',consolas,'Courier New',monospace\"><span style=\"background-color: #800000; font-weight: bold\"> ERROR </span><span style=\"color: #800000; text-decoration-color: #800000; font-weight: bold\"> No entry in quote with quote_compound=56186!</span>\n",
       "</pre>\n"
      ],
      "text/plain": [
       "\u001b[1;7;31m ERROR \u001b[0m\u001b[1;31m No entry in quote with quote_compound=56186!\u001b[0m\n"
      ]
     },
     "metadata": {},
     "output_type": "display_data"
    },
    {
     "data": {
      "text/html": [
       "<pre style=\"white-space:pre;overflow-x:auto;line-height:normal;font-family:Menlo,'DejaVu Sans Mono',consolas,'Courier New',monospace\"><span style=\"background-color: #800000; font-weight: bold\"> ERROR </span><span style=\"color: #800000; text-decoration-color: #800000; font-weight: bold\"> No entry in quote with quote_compound=251!</span>\n",
       "</pre>\n"
      ],
      "text/plain": [
       "\u001b[1;7;31m ERROR \u001b[0m\u001b[1;31m No entry in quote with quote_compound=251!\u001b[0m\n"
      ]
     },
     "metadata": {},
     "output_type": "display_data"
    },
    {
     "data": {
      "text/html": [
       "<pre style=\"white-space:pre;overflow-x:auto;line-height:normal;font-family:Menlo,'DejaVu Sans Mono',consolas,'Courier New',monospace\"><span style=\"background-color: #800000; font-weight: bold\"> ERROR </span><span style=\"color: #800000; text-decoration-color: #800000; font-weight: bold\"> No entry in quote with quote_compound=56185!</span>\n",
       "</pre>\n"
      ],
      "text/plain": [
       "\u001b[1;7;31m ERROR \u001b[0m\u001b[1;31m No entry in quote with quote_compound=56185!\u001b[0m\n"
      ]
     },
     "metadata": {},
     "output_type": "display_data"
    },
    {
     "data": {
      "text/html": [
       "<pre style=\"white-space:pre;overflow-x:auto;line-height:normal;font-family:Menlo,'DejaVu Sans Mono',consolas,'Courier New',monospace\"><span style=\"background-color: #800000; font-weight: bold\"> ERROR </span><span style=\"color: #800000; text-decoration-color: #800000; font-weight: bold\"> No entry in quote with quote_compound=56170!</span>\n",
       "</pre>\n"
      ],
      "text/plain": [
       "\u001b[1;7;31m ERROR \u001b[0m\u001b[1;31m No entry in quote with quote_compound=56170!\u001b[0m\n"
      ]
     },
     "metadata": {},
     "output_type": "display_data"
    },
    {
     "data": {
      "text/html": [
       "<pre style=\"white-space:pre;overflow-x:auto;line-height:normal;font-family:Menlo,'DejaVu Sans Mono',consolas,'Courier New',monospace\"><span style=\"background-color: #800000; font-weight: bold\"> ERROR </span><span style=\"color: #800000; text-decoration-color: #800000; font-weight: bold\"> No entry in quote with quote_compound=56185!</span>\n",
       "</pre>\n"
      ],
      "text/plain": [
       "\u001b[1;7;31m ERROR \u001b[0m\u001b[1;31m No entry in quote with quote_compound=56185!\u001b[0m\n"
      ]
     },
     "metadata": {},
     "output_type": "display_data"
    },
    {
     "data": {
      "text/html": [
       "<pre style=\"white-space:pre;overflow-x:auto;line-height:normal;font-family:Menlo,'DejaVu Sans Mono',consolas,'Courier New',monospace\"><span style=\"background-color: #800000; font-weight: bold\"> ERROR </span><span style=\"color: #800000; text-decoration-color: #800000; font-weight: bold\"> No entry in quote with quote_compound=56186!</span>\n",
       "</pre>\n"
      ],
      "text/plain": [
       "\u001b[1;7;31m ERROR \u001b[0m\u001b[1;31m No entry in quote with quote_compound=56186!\u001b[0m\n"
      ]
     },
     "metadata": {},
     "output_type": "display_data"
    },
    {
     "data": {
      "text/html": [
       "<pre style=\"white-space:pre;overflow-x:auto;line-height:normal;font-family:Menlo,'DejaVu Sans Mono',consolas,'Courier New',monospace\"><span style=\"background-color: #800000; font-weight: bold\"> ERROR </span><span style=\"color: #800000; text-decoration-color: #800000; font-weight: bold\"> No entry in quote with quote_compound=56187!</span>\n",
       "</pre>\n"
      ],
      "text/plain": [
       "\u001b[1;7;31m ERROR \u001b[0m\u001b[1;31m No entry in quote with quote_compound=56187!\u001b[0m\n"
      ]
     },
     "metadata": {},
     "output_type": "display_data"
    },
    {
     "data": {
      "text/html": [
       "<pre style=\"white-space:pre;overflow-x:auto;line-height:normal;font-family:Menlo,'DejaVu Sans Mono',consolas,'Courier New',monospace\"><span style=\"background-color: #800000; font-weight: bold\"> ERROR </span><span style=\"color: #800000; text-decoration-color: #800000; font-weight: bold\"> No entry in quote with quote_compound=56184!</span>\n",
       "</pre>\n"
      ],
      "text/plain": [
       "\u001b[1;7;31m ERROR \u001b[0m\u001b[1;31m No entry in quote with quote_compound=56184!\u001b[0m\n"
      ]
     },
     "metadata": {},
     "output_type": "display_data"
    },
    {
     "data": {
      "text/html": [
       "<pre style=\"white-space:pre;overflow-x:auto;line-height:normal;font-family:Menlo,'DejaVu Sans Mono',consolas,'Courier New',monospace\"><span style=\"background-color: #800000; font-weight: bold\"> ERROR </span><span style=\"color: #800000; text-decoration-color: #800000; font-weight: bold\"> No entry in quote with quote_compound=56186!</span>\n",
       "</pre>\n"
      ],
      "text/plain": [
       "\u001b[1;7;31m ERROR \u001b[0m\u001b[1;31m No entry in quote with quote_compound=56186!\u001b[0m\n"
      ]
     },
     "metadata": {},
     "output_type": "display_data"
    },
    {
     "data": {
      "text/html": [
       "<pre style=\"white-space:pre;overflow-x:auto;line-height:normal;font-family:Menlo,'DejaVu Sans Mono',consolas,'Courier New',monospace\"><span style=\"background-color: #800000; font-weight: bold\"> ERROR </span><span style=\"color: #800000; text-decoration-color: #800000; font-weight: bold\"> No entry in quote with quote_compound=251!</span>\n",
       "</pre>\n"
      ],
      "text/plain": [
       "\u001b[1;7;31m ERROR \u001b[0m\u001b[1;31m No entry in quote with quote_compound=251!\u001b[0m\n"
      ]
     },
     "metadata": {},
     "output_type": "display_data"
    },
    {
     "data": {
      "text/html": [
       "<pre style=\"white-space:pre;overflow-x:auto;line-height:normal;font-family:Menlo,'DejaVu Sans Mono',consolas,'Courier New',monospace\"><span style=\"background-color: #800000; font-weight: bold\"> ERROR </span><span style=\"color: #800000; text-decoration-color: #800000; font-weight: bold\"> No entry in quote with quote_compound=56185!</span>\n",
       "</pre>\n"
      ],
      "text/plain": [
       "\u001b[1;7;31m ERROR \u001b[0m\u001b[1;31m No entry in quote with quote_compound=56185!\u001b[0m\n"
      ]
     },
     "metadata": {},
     "output_type": "display_data"
    },
    {
     "data": {
      "text/html": [
       "<pre style=\"white-space:pre;overflow-x:auto;line-height:normal;font-family:Menlo,'DejaVu Sans Mono',consolas,'Courier New',monospace\"><span style=\"background-color: #800000; font-weight: bold\"> ERROR </span><span style=\"color: #800000; text-decoration-color: #800000; font-weight: bold\"> No entry in quote with quote_compound=56170!</span>\n",
       "</pre>\n"
      ],
      "text/plain": [
       "\u001b[1;7;31m ERROR \u001b[0m\u001b[1;31m No entry in quote with quote_compound=56170!\u001b[0m\n"
      ]
     },
     "metadata": {},
     "output_type": "display_data"
    },
    {
     "data": {
      "text/html": [
       "<pre style=\"white-space:pre;overflow-x:auto;line-height:normal;font-family:Menlo,'DejaVu Sans Mono',consolas,'Courier New',monospace\"><span style=\"background-color: #800000; font-weight: bold\"> ERROR </span><span style=\"color: #800000; text-decoration-color: #800000; font-weight: bold\"> No entry in quote with quote_compound=56185!</span>\n",
       "</pre>\n"
      ],
      "text/plain": [
       "\u001b[1;7;31m ERROR \u001b[0m\u001b[1;31m No entry in quote with quote_compound=56185!\u001b[0m\n"
      ]
     },
     "metadata": {},
     "output_type": "display_data"
    },
    {
     "data": {
      "text/html": [
       "<pre style=\"white-space:pre;overflow-x:auto;line-height:normal;font-family:Menlo,'DejaVu Sans Mono',consolas,'Courier New',monospace\"><span style=\"background-color: #800000; font-weight: bold\"> ERROR </span><span style=\"color: #800000; text-decoration-color: #800000; font-weight: bold\"> No entry in quote with quote_compound=56186!</span>\n",
       "</pre>\n"
      ],
      "text/plain": [
       "\u001b[1;7;31m ERROR \u001b[0m\u001b[1;31m No entry in quote with quote_compound=56186!\u001b[0m\n"
      ]
     },
     "metadata": {},
     "output_type": "display_data"
    },
    {
     "data": {
      "text/html": [
       "<pre style=\"white-space:pre;overflow-x:auto;line-height:normal;font-family:Menlo,'DejaVu Sans Mono',consolas,'Courier New',monospace\"><span style=\"background-color: #800000; font-weight: bold\"> ERROR </span><span style=\"color: #800000; text-decoration-color: #800000; font-weight: bold\"> No entry in quote with quote_compound=56187!</span>\n",
       "</pre>\n"
      ],
      "text/plain": [
       "\u001b[1;7;31m ERROR \u001b[0m\u001b[1;31m No entry in quote with quote_compound=56187!\u001b[0m\n"
      ]
     },
     "metadata": {},
     "output_type": "display_data"
    },
    {
     "data": {
      "text/html": [
       "<pre style=\"white-space:pre;overflow-x:auto;line-height:normal;font-family:Menlo,'DejaVu Sans Mono',consolas,'Courier New',monospace\"><span style=\"background-color: #800000; font-weight: bold\"> ERROR </span><span style=\"color: #800000; text-decoration-color: #800000; font-weight: bold\"> No entry in quote with quote_compound=56187!</span>\n",
       "</pre>\n"
      ],
      "text/plain": [
       "\u001b[1;7;31m ERROR \u001b[0m\u001b[1;31m No entry in quote with quote_compound=56187!\u001b[0m\n"
      ]
     },
     "metadata": {},
     "output_type": "display_data"
    },
    {
     "data": {
      "text/html": [
       "<pre style=\"white-space:pre;overflow-x:auto;line-height:normal;font-family:Menlo,'DejaVu Sans Mono',consolas,'Courier New',monospace\"><span style=\"background-color: #800000; font-weight: bold\"> ERROR </span><span style=\"color: #800000; text-decoration-color: #800000; font-weight: bold\"> No entry in quote with quote_compound=56187!</span>\n",
       "</pre>\n"
      ],
      "text/plain": [
       "\u001b[1;7;31m ERROR \u001b[0m\u001b[1;31m No entry in quote with quote_compound=56187!\u001b[0m\n"
      ]
     },
     "metadata": {},
     "output_type": "display_data"
    },
    {
     "data": {
      "text/html": [
       "<pre style=\"white-space:pre;overflow-x:auto;line-height:normal;font-family:Menlo,'DejaVu Sans Mono',consolas,'Courier New',monospace\"><span style=\"background-color: #800000; font-weight: bold\"> ERROR </span><span style=\"color: #800000; text-decoration-color: #800000; font-weight: bold\"> No entry in quote with quote_compound=56187!</span>\n",
       "</pre>\n"
      ],
      "text/plain": [
       "\u001b[1;7;31m ERROR \u001b[0m\u001b[1;31m No entry in quote with quote_compound=56187!\u001b[0m\n"
      ]
     },
     "metadata": {},
     "output_type": "display_data"
    },
    {
     "data": {
      "text/html": [
       "<pre style=\"white-space:pre;overflow-x:auto;line-height:normal;font-family:Menlo,'DejaVu Sans Mono',consolas,'Courier New',monospace\"><span style=\"background-color: #800000; font-weight: bold\"> ERROR </span><span style=\"color: #800000; text-decoration-color: #800000; font-weight: bold\"> No entry in quote with quote_compound=56187!</span>\n",
       "</pre>\n"
      ],
      "text/plain": [
       "\u001b[1;7;31m ERROR \u001b[0m\u001b[1;31m No entry in quote with quote_compound=56187!\u001b[0m\n"
      ]
     },
     "metadata": {},
     "output_type": "display_data"
    },
    {
     "data": {
      "text/html": [
       "<pre style=\"white-space:pre;overflow-x:auto;line-height:normal;font-family:Menlo,'DejaVu Sans Mono',consolas,'Courier New',monospace\"><span style=\"background-color: #800000; font-weight: bold\"> ERROR </span><span style=\"color: #800000; text-decoration-color: #800000; font-weight: bold\"> No entry in quote with quote_compound=56187!</span>\n",
       "</pre>\n"
      ],
      "text/plain": [
       "\u001b[1;7;31m ERROR \u001b[0m\u001b[1;31m No entry in quote with quote_compound=56187!\u001b[0m\n"
      ]
     },
     "metadata": {},
     "output_type": "display_data"
    },
    {
     "data": {
      "text/html": [
       "<pre style=\"white-space:pre;overflow-x:auto;line-height:normal;font-family:Menlo,'DejaVu Sans Mono',consolas,'Courier New',monospace\"><span style=\"background-color: #800000; font-weight: bold\"> ERROR </span><span style=\"color: #800000; text-decoration-color: #800000; font-weight: bold\"> No entry in quote with quote_compound=56187!</span>\n",
       "</pre>\n"
      ],
      "text/plain": [
       "\u001b[1;7;31m ERROR \u001b[0m\u001b[1;31m No entry in quote with quote_compound=56187!\u001b[0m\n"
      ]
     },
     "metadata": {},
     "output_type": "display_data"
    },
    {
     "data": {
      "text/html": [
       "<pre style=\"white-space:pre;overflow-x:auto;line-height:normal;font-family:Menlo,'DejaVu Sans Mono',consolas,'Courier New',monospace\"><span style=\"background-color: #800000; font-weight: bold\"> ERROR </span><span style=\"color: #800000; text-decoration-color: #800000; font-weight: bold\"> No entry in quote with quote_compound=56187!</span>\n",
       "</pre>\n"
      ],
      "text/plain": [
       "\u001b[1;7;31m ERROR \u001b[0m\u001b[1;31m No entry in quote with quote_compound=56187!\u001b[0m\n"
      ]
     },
     "metadata": {},
     "output_type": "display_data"
    },
    {
     "data": {
      "text/html": [
       "<pre style=\"white-space:pre;overflow-x:auto;line-height:normal;font-family:Menlo,'DejaVu Sans Mono',consolas,'Courier New',monospace\"><span style=\"background-color: #800000; font-weight: bold\"> ERROR </span><span style=\"color: #800000; text-decoration-color: #800000; font-weight: bold\"> No entry in quote with quote_compound=56187!</span>\n",
       "</pre>\n"
      ],
      "text/plain": [
       "\u001b[1;7;31m ERROR \u001b[0m\u001b[1;31m No entry in quote with quote_compound=56187!\u001b[0m\n"
      ]
     },
     "metadata": {},
     "output_type": "display_data"
    },
    {
     "data": {
      "text/html": [
       "<pre style=\"white-space:pre;overflow-x:auto;line-height:normal;font-family:Menlo,'DejaVu Sans Mono',consolas,'Courier New',monospace\"><span style=\"background-color: #ff8700; font-weight: bold\"> Warning </span><span style=\"color: #ff8700; text-decoration-color: #ff8700\"> Multiple solutions for compound=C167!</span>\n",
       "</pre>\n"
      ],
      "text/plain": [
       "\u001b[1;7;38;5;208m Warning \u001b[0m\u001b[38;5;208m Multiple solutions for compound=C167!\u001b[0m\n"
      ]
     },
     "metadata": {},
     "output_type": "display_data"
    },
    {
     "data": {
      "text/html": [
       "<pre style=\"white-space:pre;overflow-x:auto;line-height:normal;font-family:Menlo,'DejaVu Sans Mono',consolas,'Courier New',monospace\"><span style=\"background-color: #800000; font-weight: bold\"> ERROR </span><span style=\"color: #800000; text-decoration-color: #800000; font-weight: bold\"> No solutions for compound=C168 (comp.reactions.ids=[])!</span>\n",
       "</pre>\n"
      ],
      "text/plain": [
       "\u001b[1;7;31m ERROR \u001b[0m\u001b[1;31m No solutions for compound=C168 (comp.reactions.ids=[])!\u001b[0m\n"
      ]
     },
     "metadata": {},
     "output_type": "display_data"
    },
    {
     "data": {
      "text/html": [
       "<pre style=\"white-space:pre;overflow-x:auto;line-height:normal;font-family:Menlo,'DejaVu Sans Mono',consolas,'Courier New',monospace\"><span style=\"background-color: #800000; font-weight: bold\"> ERROR </span><span style=\"color: #800000; text-decoration-color: #800000; font-weight: bold\"> No solutions for compound=C169 (comp.reactions.ids=[])!</span>\n",
       "</pre>\n"
      ],
      "text/plain": [
       "\u001b[1;7;31m ERROR \u001b[0m\u001b[1;31m No solutions for compound=C169 (comp.reactions.ids=[])!\u001b[0m\n"
      ]
     },
     "metadata": {},
     "output_type": "display_data"
    },
    {
     "data": {
      "text/html": [
       "<pre style=\"white-space:pre;overflow-x:auto;line-height:normal;font-family:Menlo,'DejaVu Sans Mono',consolas,'Courier New',monospace\"><span style=\"background-color: #800000; font-weight: bold\"> ERROR </span><span style=\"color: #800000; text-decoration-color: #800000; font-weight: bold\"> No solutions for compound=C170 (comp.reactions.ids=[])!</span>\n",
       "</pre>\n"
      ],
      "text/plain": [
       "\u001b[1;7;31m ERROR \u001b[0m\u001b[1;31m No solutions for compound=C170 (comp.reactions.ids=[])!\u001b[0m\n"
      ]
     },
     "metadata": {},
     "output_type": "display_data"
    },
    {
     "data": {
      "text/html": [
       "<pre style=\"white-space:pre;overflow-x:auto;line-height:normal;font-family:Menlo,'DejaVu Sans Mono',consolas,'Courier New',monospace\"><span style=\"background-color: #800000; font-weight: bold\"> ERROR </span><span style=\"color: #800000; text-decoration-color: #800000; font-weight: bold\"> No entry in quote with quote_compound=171!</span>\n",
       "</pre>\n"
      ],
      "text/plain": [
       "\u001b[1;7;31m ERROR \u001b[0m\u001b[1;31m No entry in quote with quote_compound=171!\u001b[0m\n"
      ]
     },
     "metadata": {},
     "output_type": "display_data"
    },
    {
     "data": {
      "text/html": [
       "<pre style=\"white-space:pre;overflow-x:auto;line-height:normal;font-family:Menlo,'DejaVu Sans Mono',consolas,'Courier New',monospace\"><span style=\"background-color: #008000; font-weight: bold\"> Success </span><span style=\"color: #008000; text-decoration-color: #008000; font-weight: bold\"> Found solution for compound=C171!</span>\n",
       "</pre>\n"
      ],
      "text/plain": [
       "\u001b[1;7;32m Success \u001b[0m\u001b[1;32m Found solution for compound=C171!\u001b[0m\n"
      ]
     },
     "metadata": {},
     "output_type": "display_data"
    },
    {
     "data": {
      "text/html": [
       "<pre style=\"white-space:pre;overflow-x:auto;line-height:normal;font-family:Menlo,'DejaVu Sans Mono',consolas,'Courier New',monospace\"><span style=\"background-color: #800000; font-weight: bold\"> ERROR </span><span style=\"color: #800000; text-decoration-color: #800000; font-weight: bold\"> No solutions for compound=C172 (comp.reactions.ids=[])!</span>\n",
       "</pre>\n"
      ],
      "text/plain": [
       "\u001b[1;7;31m ERROR \u001b[0m\u001b[1;31m No solutions for compound=C172 (comp.reactions.ids=[])!\u001b[0m\n"
      ]
     },
     "metadata": {},
     "output_type": "display_data"
    },
    {
     "data": {
      "text/html": [
       "<pre style=\"white-space:pre;overflow-x:auto;line-height:normal;font-family:Menlo,'DejaVu Sans Mono',consolas,'Courier New',monospace\"><span style=\"background-color: #800000; font-weight: bold\"> ERROR </span><span style=\"color: #800000; text-decoration-color: #800000; font-weight: bold\"> No solutions for compound=C173 (comp.reactions.ids=[])!</span>\n",
       "</pre>\n"
      ],
      "text/plain": [
       "\u001b[1;7;31m ERROR \u001b[0m\u001b[1;31m No solutions for compound=C173 (comp.reactions.ids=[])!\u001b[0m\n"
      ]
     },
     "metadata": {},
     "output_type": "display_data"
    },
    {
     "data": {
      "text/html": [
       "<pre style=\"white-space:pre;overflow-x:auto;line-height:normal;font-family:Menlo,'DejaVu Sans Mono',consolas,'Courier New',monospace\"><span style=\"background-color: #800000; font-weight: bold\"> ERROR </span><span style=\"color: #800000; text-decoration-color: #800000; font-weight: bold\"> No solutions for compound=C174 (comp.reactions.ids=[])!</span>\n",
       "</pre>\n"
      ],
      "text/plain": [
       "\u001b[1;7;31m ERROR \u001b[0m\u001b[1;31m No solutions for compound=C174 (comp.reactions.ids=[])!\u001b[0m\n"
      ]
     },
     "metadata": {},
     "output_type": "display_data"
    },
    {
     "data": {
      "text/html": [
       "<pre style=\"white-space:pre;overflow-x:auto;line-height:normal;font-family:Menlo,'DejaVu Sans Mono',consolas,'Courier New',monospace\"><span style=\"background-color: #800000; font-weight: bold\"> ERROR </span><span style=\"color: #800000; text-decoration-color: #800000; font-weight: bold\"> No solutions for compound=C175 (comp.reactions.ids=[])!</span>\n",
       "</pre>\n"
      ],
      "text/plain": [
       "\u001b[1;7;31m ERROR \u001b[0m\u001b[1;31m No solutions for compound=C175 (comp.reactions.ids=[])!\u001b[0m\n"
      ]
     },
     "metadata": {},
     "output_type": "display_data"
    },
    {
     "data": {
      "text/html": [
       "<pre style=\"white-space:pre;overflow-x:auto;line-height:normal;font-family:Menlo,'DejaVu Sans Mono',consolas,'Courier New',monospace\"><span style=\"background-color: #800000; font-weight: bold\"> ERROR </span><span style=\"color: #800000; text-decoration-color: #800000; font-weight: bold\"> No solutions for compound=C176 (comp.reactions.ids=[])!</span>\n",
       "</pre>\n"
      ],
      "text/plain": [
       "\u001b[1;7;31m ERROR \u001b[0m\u001b[1;31m No solutions for compound=C176 (comp.reactions.ids=[])!\u001b[0m\n"
      ]
     },
     "metadata": {},
     "output_type": "display_data"
    },
    {
     "data": {
      "text/html": [
       "<pre style=\"white-space:pre;overflow-x:auto;line-height:normal;font-family:Menlo,'DejaVu Sans Mono',consolas,'Courier New',monospace\"><span style=\"background-color: #800000; font-weight: bold\"> ERROR </span><span style=\"color: #800000; text-decoration-color: #800000; font-weight: bold\"> No solutions for compound=C177 (comp.reactions.ids=[])!</span>\n",
       "</pre>\n"
      ],
      "text/plain": [
       "\u001b[1;7;31m ERROR \u001b[0m\u001b[1;31m No solutions for compound=C177 (comp.reactions.ids=[])!\u001b[0m\n"
      ]
     },
     "metadata": {},
     "output_type": "display_data"
    },
    {
     "data": {
      "text/html": [
       "<pre style=\"white-space:pre;overflow-x:auto;line-height:normal;font-family:Menlo,'DejaVu Sans Mono',consolas,'Courier New',monospace\"><span style=\"background-color: #800000; font-weight: bold\"> ERROR </span><span style=\"color: #800000; text-decoration-color: #800000; font-weight: bold\"> No solutions for compound=C178 (comp.reactions.ids=[])!</span>\n",
       "</pre>\n"
      ],
      "text/plain": [
       "\u001b[1;7;31m ERROR \u001b[0m\u001b[1;31m No solutions for compound=C178 (comp.reactions.ids=[])!\u001b[0m\n"
      ]
     },
     "metadata": {},
     "output_type": "display_data"
    },
    {
     "data": {
      "text/html": [
       "<pre style=\"white-space:pre;overflow-x:auto;line-height:normal;font-family:Menlo,'DejaVu Sans Mono',consolas,'Courier New',monospace\"><span style=\"background-color: #800000; font-weight: bold\"> ERROR </span><span style=\"color: #800000; text-decoration-color: #800000; font-weight: bold\"> No solutions for compound=C179 (comp.reactions.ids=[])!</span>\n",
       "</pre>\n"
      ],
      "text/plain": [
       "\u001b[1;7;31m ERROR \u001b[0m\u001b[1;31m No solutions for compound=C179 (comp.reactions.ids=[])!\u001b[0m\n"
      ]
     },
     "metadata": {},
     "output_type": "display_data"
    },
    {
     "data": {
      "text/html": [
       "<pre style=\"white-space:pre;overflow-x:auto;line-height:normal;font-family:Menlo,'DejaVu Sans Mono',consolas,'Courier New',monospace\"><span style=\"background-color: #800000; font-weight: bold\"> ERROR </span><span style=\"color: #800000; text-decoration-color: #800000; font-weight: bold\"> No solutions for compound=C180 (comp.reactions.ids=[])!</span>\n",
       "</pre>\n"
      ],
      "text/plain": [
       "\u001b[1;7;31m ERROR \u001b[0m\u001b[1;31m No solutions for compound=C180 (comp.reactions.ids=[])!\u001b[0m\n"
      ]
     },
     "metadata": {},
     "output_type": "display_data"
    },
    {
     "data": {
      "text/html": [
       "<pre style=\"white-space:pre;overflow-x:auto;line-height:normal;font-family:Menlo,'DejaVu Sans Mono',consolas,'Courier New',monospace\"><span style=\"background-color: #800000; font-weight: bold\"> ERROR </span><span style=\"color: #800000; text-decoration-color: #800000; font-weight: bold\"> No entry in quote with quote_compound=181!</span>\n",
       "</pre>\n"
      ],
      "text/plain": [
       "\u001b[1;7;31m ERROR \u001b[0m\u001b[1;31m No entry in quote with quote_compound=181!\u001b[0m\n"
      ]
     },
     "metadata": {},
     "output_type": "display_data"
    },
    {
     "data": {
      "text/html": [
       "<pre style=\"white-space:pre;overflow-x:auto;line-height:normal;font-family:Menlo,'DejaVu Sans Mono',consolas,'Courier New',monospace\"><span style=\"background-color: #008000; font-weight: bold\"> Success </span><span style=\"color: #008000; text-decoration-color: #008000; font-weight: bold\"> Found solution for compound=C181!</span>\n",
       "</pre>\n"
      ],
      "text/plain": [
       "\u001b[1;7;32m Success \u001b[0m\u001b[1;32m Found solution for compound=C181!\u001b[0m\n"
      ]
     },
     "metadata": {},
     "output_type": "display_data"
    },
    {
     "data": {
      "text/html": [
       "<pre style=\"white-space:pre;overflow-x:auto;line-height:normal;font-family:Menlo,'DejaVu Sans Mono',consolas,'Courier New',monospace\"><span style=\"background-color: #800000; font-weight: bold\"> ERROR </span><span style=\"color: #800000; text-decoration-color: #800000; font-weight: bold\"> No entry in quote with quote_compound=182!</span>\n",
       "</pre>\n"
      ],
      "text/plain": [
       "\u001b[1;7;31m ERROR \u001b[0m\u001b[1;31m No entry in quote with quote_compound=182!\u001b[0m\n"
      ]
     },
     "metadata": {},
     "output_type": "display_data"
    },
    {
     "data": {
      "text/html": [
       "<pre style=\"white-space:pre;overflow-x:auto;line-height:normal;font-family:Menlo,'DejaVu Sans Mono',consolas,'Courier New',monospace\"><span style=\"background-color: #008000; font-weight: bold\"> Success </span><span style=\"color: #008000; text-decoration-color: #008000; font-weight: bold\"> Found solution for compound=C182!</span>\n",
       "</pre>\n"
      ],
      "text/plain": [
       "\u001b[1;7;32m Success \u001b[0m\u001b[1;32m Found solution for compound=C182!\u001b[0m\n"
      ]
     },
     "metadata": {},
     "output_type": "display_data"
    },
    {
     "data": {
      "text/html": [
       "<pre style=\"white-space:pre;overflow-x:auto;line-height:normal;font-family:Menlo,'DejaVu Sans Mono',consolas,'Courier New',monospace\"><span style=\"background-color: #800000; font-weight: bold\"> ERROR </span><span style=\"color: #800000; text-decoration-color: #800000; font-weight: bold\"> No entry in quote with quote_compound=183!</span>\n",
       "</pre>\n"
      ],
      "text/plain": [
       "\u001b[1;7;31m ERROR \u001b[0m\u001b[1;31m No entry in quote with quote_compound=183!\u001b[0m\n"
      ]
     },
     "metadata": {},
     "output_type": "display_data"
    },
    {
     "data": {
      "text/html": [
       "<pre style=\"white-space:pre;overflow-x:auto;line-height:normal;font-family:Menlo,'DejaVu Sans Mono',consolas,'Courier New',monospace\"><span style=\"background-color: #008000; font-weight: bold\"> Success </span><span style=\"color: #008000; text-decoration-color: #008000; font-weight: bold\"> Found solution for compound=C183!</span>\n",
       "</pre>\n"
      ],
      "text/plain": [
       "\u001b[1;7;32m Success \u001b[0m\u001b[1;32m Found solution for compound=C183!\u001b[0m\n"
      ]
     },
     "metadata": {},
     "output_type": "display_data"
    },
    {
     "data": {
      "text/html": [
       "<pre style=\"white-space:pre;overflow-x:auto;line-height:normal;font-family:Menlo,'DejaVu Sans Mono',consolas,'Courier New',monospace\"><span style=\"background-color: #800000; font-weight: bold\"> ERROR </span><span style=\"color: #800000; text-decoration-color: #800000; font-weight: bold\"> No entry in quote with quote_compound=184!</span>\n",
       "</pre>\n"
      ],
      "text/plain": [
       "\u001b[1;7;31m ERROR \u001b[0m\u001b[1;31m No entry in quote with quote_compound=184!\u001b[0m\n"
      ]
     },
     "metadata": {},
     "output_type": "display_data"
    },
    {
     "data": {
      "text/html": [
       "<pre style=\"white-space:pre;overflow-x:auto;line-height:normal;font-family:Menlo,'DejaVu Sans Mono',consolas,'Courier New',monospace\"><span style=\"background-color: #008000; font-weight: bold\"> Success </span><span style=\"color: #008000; text-decoration-color: #008000; font-weight: bold\"> Found solution for compound=C184!</span>\n",
       "</pre>\n"
      ],
      "text/plain": [
       "\u001b[1;7;32m Success \u001b[0m\u001b[1;32m Found solution for compound=C184!\u001b[0m\n"
      ]
     },
     "metadata": {},
     "output_type": "display_data"
    },
    {
     "data": {
      "text/html": [
       "<pre style=\"white-space:pre;overflow-x:auto;line-height:normal;font-family:Menlo,'DejaVu Sans Mono',consolas,'Courier New',monospace\"><span style=\"background-color: #800000; font-weight: bold\"> ERROR </span><span style=\"color: #800000; text-decoration-color: #800000; font-weight: bold\"> No entry in quote with quote_compound=185!</span>\n",
       "</pre>\n"
      ],
      "text/plain": [
       "\u001b[1;7;31m ERROR \u001b[0m\u001b[1;31m No entry in quote with quote_compound=185!\u001b[0m\n"
      ]
     },
     "metadata": {},
     "output_type": "display_data"
    },
    {
     "data": {
      "text/html": [
       "<pre style=\"white-space:pre;overflow-x:auto;line-height:normal;font-family:Menlo,'DejaVu Sans Mono',consolas,'Courier New',monospace\"><span style=\"background-color: #008000; font-weight: bold\"> Success </span><span style=\"color: #008000; text-decoration-color: #008000; font-weight: bold\"> Found solution for compound=C185!</span>\n",
       "</pre>\n"
      ],
      "text/plain": [
       "\u001b[1;7;32m Success \u001b[0m\u001b[1;32m Found solution for compound=C185!\u001b[0m\n"
      ]
     },
     "metadata": {},
     "output_type": "display_data"
    },
    {
     "data": {
      "text/html": [
       "<pre style=\"white-space:pre;overflow-x:auto;line-height:normal;font-family:Menlo,'DejaVu Sans Mono',consolas,'Courier New',monospace\"><span style=\"background-color: #800000; font-weight: bold\"> ERROR </span><span style=\"color: #800000; text-decoration-color: #800000; font-weight: bold\"> No entry in quote with quote_compound=186!</span>\n",
       "</pre>\n"
      ],
      "text/plain": [
       "\u001b[1;7;31m ERROR \u001b[0m\u001b[1;31m No entry in quote with quote_compound=186!\u001b[0m\n"
      ]
     },
     "metadata": {},
     "output_type": "display_data"
    },
    {
     "data": {
      "text/html": [
       "<pre style=\"white-space:pre;overflow-x:auto;line-height:normal;font-family:Menlo,'DejaVu Sans Mono',consolas,'Courier New',monospace\"><span style=\"background-color: #008000; font-weight: bold\"> Success </span><span style=\"color: #008000; text-decoration-color: #008000; font-weight: bold\"> Found solution for compound=C186!</span>\n",
       "</pre>\n"
      ],
      "text/plain": [
       "\u001b[1;7;32m Success \u001b[0m\u001b[1;32m Found solution for compound=C186!\u001b[0m\n"
      ]
     },
     "metadata": {},
     "output_type": "display_data"
    },
    {
     "data": {
      "text/html": [
       "<pre style=\"white-space:pre;overflow-x:auto;line-height:normal;font-family:Menlo,'DejaVu Sans Mono',consolas,'Courier New',monospace\"><span style=\"background-color: #800000; font-weight: bold\"> ERROR </span><span style=\"color: #800000; text-decoration-color: #800000; font-weight: bold\"> No entry in quote with quote_compound=187!</span>\n",
       "</pre>\n"
      ],
      "text/plain": [
       "\u001b[1;7;31m ERROR \u001b[0m\u001b[1;31m No entry in quote with quote_compound=187!\u001b[0m\n"
      ]
     },
     "metadata": {},
     "output_type": "display_data"
    },
    {
     "data": {
      "text/html": [
       "<pre style=\"white-space:pre;overflow-x:auto;line-height:normal;font-family:Menlo,'DejaVu Sans Mono',consolas,'Courier New',monospace\"><span style=\"background-color: #008000; font-weight: bold\"> Success </span><span style=\"color: #008000; text-decoration-color: #008000; font-weight: bold\"> Found solution for compound=C187!</span>\n",
       "</pre>\n"
      ],
      "text/plain": [
       "\u001b[1;7;32m Success \u001b[0m\u001b[1;32m Found solution for compound=C187!\u001b[0m\n"
      ]
     },
     "metadata": {},
     "output_type": "display_data"
    },
    {
     "data": {
      "text/html": [
       "<pre style=\"white-space:pre;overflow-x:auto;line-height:normal;font-family:Menlo,'DejaVu Sans Mono',consolas,'Courier New',monospace\"><span style=\"background-color: #800000; font-weight: bold\"> ERROR </span><span style=\"color: #800000; text-decoration-color: #800000; font-weight: bold\"> No solutions for compound=C188 (comp.reactions.ids=[])!</span>\n",
       "</pre>\n"
      ],
      "text/plain": [
       "\u001b[1;7;31m ERROR \u001b[0m\u001b[1;31m No solutions for compound=C188 (comp.reactions.ids=[])!\u001b[0m\n"
      ]
     },
     "metadata": {},
     "output_type": "display_data"
    },
    {
     "data": {
      "text/html": [
       "<pre style=\"white-space:pre;overflow-x:auto;line-height:normal;font-family:Menlo,'DejaVu Sans Mono',consolas,'Courier New',monospace\"><span style=\"background-color: #800000; font-weight: bold\"> ERROR </span><span style=\"color: #800000; text-decoration-color: #800000; font-weight: bold\"> No solutions for compound=C189 (comp.reactions.ids=[])!</span>\n",
       "</pre>\n"
      ],
      "text/plain": [
       "\u001b[1;7;31m ERROR \u001b[0m\u001b[1;31m No solutions for compound=C189 (comp.reactions.ids=[])!\u001b[0m\n"
      ]
     },
     "metadata": {},
     "output_type": "display_data"
    },
    {
     "data": {
      "text/html": [
       "<pre style=\"white-space:pre;overflow-x:auto;line-height:normal;font-family:Menlo,'DejaVu Sans Mono',consolas,'Courier New',monospace\"><span style=\"background-color: #800000; font-weight: bold\"> ERROR </span><span style=\"color: #800000; text-decoration-color: #800000; font-weight: bold\"> No solutions for compound=C190 (comp.reactions.ids=[])!</span>\n",
       "</pre>\n"
      ],
      "text/plain": [
       "\u001b[1;7;31m ERROR \u001b[0m\u001b[1;31m No solutions for compound=C190 (comp.reactions.ids=[])!\u001b[0m\n"
      ]
     },
     "metadata": {},
     "output_type": "display_data"
    },
    {
     "data": {
      "text/html": [
       "<pre style=\"white-space:pre;overflow-x:auto;line-height:normal;font-family:Menlo,'DejaVu Sans Mono',consolas,'Courier New',monospace\"><span style=\"background-color: #800000; font-weight: bold\"> ERROR </span><span style=\"color: #800000; text-decoration-color: #800000; font-weight: bold\"> No entry in quote with quote_compound=191!</span>\n",
       "</pre>\n"
      ],
      "text/plain": [
       "\u001b[1;7;31m ERROR \u001b[0m\u001b[1;31m No entry in quote with quote_compound=191!\u001b[0m\n"
      ]
     },
     "metadata": {},
     "output_type": "display_data"
    },
    {
     "data": {
      "text/html": [
       "<pre style=\"white-space:pre;overflow-x:auto;line-height:normal;font-family:Menlo,'DejaVu Sans Mono',consolas,'Courier New',monospace\"><span style=\"background-color: #008000; font-weight: bold\"> Success </span><span style=\"color: #008000; text-decoration-color: #008000; font-weight: bold\"> Found solution for compound=C191!</span>\n",
       "</pre>\n"
      ],
      "text/plain": [
       "\u001b[1;7;32m Success \u001b[0m\u001b[1;32m Found solution for compound=C191!\u001b[0m\n"
      ]
     },
     "metadata": {},
     "output_type": "display_data"
    },
    {
     "data": {
      "text/html": [
       "<pre style=\"white-space:pre;overflow-x:auto;line-height:normal;font-family:Menlo,'DejaVu Sans Mono',consolas,'Courier New',monospace\"><span style=\"background-color: #800000; font-weight: bold\"> ERROR </span><span style=\"color: #800000; text-decoration-color: #800000; font-weight: bold\"> No entry in quote with quote_compound=192!</span>\n",
       "</pre>\n"
      ],
      "text/plain": [
       "\u001b[1;7;31m ERROR \u001b[0m\u001b[1;31m No entry in quote with quote_compound=192!\u001b[0m\n"
      ]
     },
     "metadata": {},
     "output_type": "display_data"
    },
    {
     "data": {
      "text/html": [
       "<pre style=\"white-space:pre;overflow-x:auto;line-height:normal;font-family:Menlo,'DejaVu Sans Mono',consolas,'Courier New',monospace\"><span style=\"background-color: #008000; font-weight: bold\"> Success </span><span style=\"color: #008000; text-decoration-color: #008000; font-weight: bold\"> Found solution for compound=C192!</span>\n",
       "</pre>\n"
      ],
      "text/plain": [
       "\u001b[1;7;32m Success \u001b[0m\u001b[1;32m Found solution for compound=C192!\u001b[0m\n"
      ]
     },
     "metadata": {},
     "output_type": "display_data"
    },
    {
     "data": {
      "text/html": [
       "<pre style=\"white-space:pre;overflow-x:auto;line-height:normal;font-family:Menlo,'DejaVu Sans Mono',consolas,'Courier New',monospace\"><span style=\"background-color: #800000; font-weight: bold\"> ERROR </span><span style=\"color: #800000; text-decoration-color: #800000; font-weight: bold\"> No solutions for compound=C193 (comp.reactions.ids=[])!</span>\n",
       "</pre>\n"
      ],
      "text/plain": [
       "\u001b[1;7;31m ERROR \u001b[0m\u001b[1;31m No solutions for compound=C193 (comp.reactions.ids=[])!\u001b[0m\n"
      ]
     },
     "metadata": {},
     "output_type": "display_data"
    },
    {
     "data": {
      "text/html": [
       "<pre style=\"white-space:pre;overflow-x:auto;line-height:normal;font-family:Menlo,'DejaVu Sans Mono',consolas,'Courier New',monospace\"><span style=\"background-color: #800000; font-weight: bold\"> ERROR </span><span style=\"color: #800000; text-decoration-color: #800000; font-weight: bold\"> No entry in quote with quote_compound=194!</span>\n",
       "</pre>\n"
      ],
      "text/plain": [
       "\u001b[1;7;31m ERROR \u001b[0m\u001b[1;31m No entry in quote with quote_compound=194!\u001b[0m\n"
      ]
     },
     "metadata": {},
     "output_type": "display_data"
    },
    {
     "data": {
      "text/html": [
       "<pre style=\"white-space:pre;overflow-x:auto;line-height:normal;font-family:Menlo,'DejaVu Sans Mono',consolas,'Courier New',monospace\"><span style=\"background-color: #008000; font-weight: bold\"> Success </span><span style=\"color: #008000; text-decoration-color: #008000; font-weight: bold\"> Found solution for compound=C194!</span>\n",
       "</pre>\n"
      ],
      "text/plain": [
       "\u001b[1;7;32m Success \u001b[0m\u001b[1;32m Found solution for compound=C194!\u001b[0m\n"
      ]
     },
     "metadata": {},
     "output_type": "display_data"
    },
    {
     "data": {
      "text/html": [
       "<pre style=\"white-space:pre;overflow-x:auto;line-height:normal;font-family:Menlo,'DejaVu Sans Mono',consolas,'Courier New',monospace\"><span style=\"background-color: #800000; font-weight: bold\"> ERROR </span><span style=\"color: #800000; text-decoration-color: #800000; font-weight: bold\"> No entry in quote with quote_compound=195!</span>\n",
       "</pre>\n"
      ],
      "text/plain": [
       "\u001b[1;7;31m ERROR \u001b[0m\u001b[1;31m No entry in quote with quote_compound=195!\u001b[0m\n"
      ]
     },
     "metadata": {},
     "output_type": "display_data"
    },
    {
     "data": {
      "text/html": [
       "<pre style=\"white-space:pre;overflow-x:auto;line-height:normal;font-family:Menlo,'DejaVu Sans Mono',consolas,'Courier New',monospace\"><span style=\"background-color: #008000; font-weight: bold\"> Success </span><span style=\"color: #008000; text-decoration-color: #008000; font-weight: bold\"> Found solution for compound=C195!</span>\n",
       "</pre>\n"
      ],
      "text/plain": [
       "\u001b[1;7;32m Success \u001b[0m\u001b[1;32m Found solution for compound=C195!\u001b[0m\n"
      ]
     },
     "metadata": {},
     "output_type": "display_data"
    },
    {
     "data": {
      "text/html": [
       "<pre style=\"white-space:pre;overflow-x:auto;line-height:normal;font-family:Menlo,'DejaVu Sans Mono',consolas,'Courier New',monospace\"><span style=\"background-color: #800000; font-weight: bold\"> ERROR </span><span style=\"color: #800000; text-decoration-color: #800000; font-weight: bold\"> No entry in quote with quote_compound=196!</span>\n",
       "</pre>\n"
      ],
      "text/plain": [
       "\u001b[1;7;31m ERROR \u001b[0m\u001b[1;31m No entry in quote with quote_compound=196!\u001b[0m\n"
      ]
     },
     "metadata": {},
     "output_type": "display_data"
    },
    {
     "data": {
      "text/html": [
       "<pre style=\"white-space:pre;overflow-x:auto;line-height:normal;font-family:Menlo,'DejaVu Sans Mono',consolas,'Courier New',monospace\"><span style=\"background-color: #008000; font-weight: bold\"> Success </span><span style=\"color: #008000; text-decoration-color: #008000; font-weight: bold\"> Found solution for compound=C196!</span>\n",
       "</pre>\n"
      ],
      "text/plain": [
       "\u001b[1;7;32m Success \u001b[0m\u001b[1;32m Found solution for compound=C196!\u001b[0m\n"
      ]
     },
     "metadata": {},
     "output_type": "display_data"
    },
    {
     "data": {
      "text/html": [
       "<pre style=\"white-space:pre;overflow-x:auto;line-height:normal;font-family:Menlo,'DejaVu Sans Mono',consolas,'Courier New',monospace\"><span style=\"background-color: #800000; font-weight: bold\"> ERROR </span><span style=\"color: #800000; text-decoration-color: #800000; font-weight: bold\"> No entry in quote with quote_compound=197!</span>\n",
       "</pre>\n"
      ],
      "text/plain": [
       "\u001b[1;7;31m ERROR \u001b[0m\u001b[1;31m No entry in quote with quote_compound=197!\u001b[0m\n"
      ]
     },
     "metadata": {},
     "output_type": "display_data"
    },
    {
     "data": {
      "text/html": [
       "<pre style=\"white-space:pre;overflow-x:auto;line-height:normal;font-family:Menlo,'DejaVu Sans Mono',consolas,'Courier New',monospace\"><span style=\"background-color: #008000; font-weight: bold\"> Success </span><span style=\"color: #008000; text-decoration-color: #008000; font-weight: bold\"> Found solution for compound=C197!</span>\n",
       "</pre>\n"
      ],
      "text/plain": [
       "\u001b[1;7;32m Success \u001b[0m\u001b[1;32m Found solution for compound=C197!\u001b[0m\n"
      ]
     },
     "metadata": {},
     "output_type": "display_data"
    },
    {
     "data": {
      "text/html": [
       "<pre style=\"white-space:pre;overflow-x:auto;line-height:normal;font-family:Menlo,'DejaVu Sans Mono',consolas,'Courier New',monospace\"><span style=\"background-color: #800000; font-weight: bold\"> ERROR </span><span style=\"color: #800000; text-decoration-color: #800000; font-weight: bold\"> No entry in quote with quote_compound=198!</span>\n",
       "</pre>\n"
      ],
      "text/plain": [
       "\u001b[1;7;31m ERROR \u001b[0m\u001b[1;31m No entry in quote with quote_compound=198!\u001b[0m\n"
      ]
     },
     "metadata": {},
     "output_type": "display_data"
    },
    {
     "data": {
      "text/html": [
       "<pre style=\"white-space:pre;overflow-x:auto;line-height:normal;font-family:Menlo,'DejaVu Sans Mono',consolas,'Courier New',monospace\"><span style=\"background-color: #008000; font-weight: bold\"> Success </span><span style=\"color: #008000; text-decoration-color: #008000; font-weight: bold\"> Found solution for compound=C198!</span>\n",
       "</pre>\n"
      ],
      "text/plain": [
       "\u001b[1;7;32m Success \u001b[0m\u001b[1;32m Found solution for compound=C198!\u001b[0m\n"
      ]
     },
     "metadata": {},
     "output_type": "display_data"
    },
    {
     "data": {
      "text/html": [
       "<pre style=\"white-space:pre;overflow-x:auto;line-height:normal;font-family:Menlo,'DejaVu Sans Mono',consolas,'Courier New',monospace\"><span style=\"background-color: #800000; font-weight: bold\"> ERROR </span><span style=\"color: #800000; text-decoration-color: #800000; font-weight: bold\"> No entry in quote with quote_compound=199!</span>\n",
       "</pre>\n"
      ],
      "text/plain": [
       "\u001b[1;7;31m ERROR \u001b[0m\u001b[1;31m No entry in quote with quote_compound=199!\u001b[0m\n"
      ]
     },
     "metadata": {},
     "output_type": "display_data"
    },
    {
     "data": {
      "text/html": [
       "<pre style=\"white-space:pre;overflow-x:auto;line-height:normal;font-family:Menlo,'DejaVu Sans Mono',consolas,'Courier New',monospace\"><span style=\"background-color: #008000; font-weight: bold\"> Success </span><span style=\"color: #008000; text-decoration-color: #008000; font-weight: bold\"> Found solution for compound=C199!</span>\n",
       "</pre>\n"
      ],
      "text/plain": [
       "\u001b[1;7;32m Success \u001b[0m\u001b[1;32m Found solution for compound=C199!\u001b[0m\n"
      ]
     },
     "metadata": {},
     "output_type": "display_data"
    },
    {
     "data": {
      "text/html": [
       "<pre style=\"white-space:pre;overflow-x:auto;line-height:normal;font-family:Menlo,'DejaVu Sans Mono',consolas,'Courier New',monospace\"><span style=\"background-color: #800000; font-weight: bold\"> ERROR </span><span style=\"color: #800000; text-decoration-color: #800000; font-weight: bold\"> No solutions for compound=C200 (comp.reactions.ids=[])!</span>\n",
       "</pre>\n"
      ],
      "text/plain": [
       "\u001b[1;7;31m ERROR \u001b[0m\u001b[1;31m No solutions for compound=C200 (comp.reactions.ids=[])!\u001b[0m\n"
      ]
     },
     "metadata": {},
     "output_type": "display_data"
    },
    {
     "data": {
      "text/html": [
       "<pre style=\"white-space:pre;overflow-x:auto;line-height:normal;font-family:Menlo,'DejaVu Sans Mono',consolas,'Courier New',monospace\"><span style=\"background-color: #800000; font-weight: bold\"> ERROR </span><span style=\"color: #800000; text-decoration-color: #800000; font-weight: bold\"> No solutions for compound=C201 (comp.reactions.ids=[])!</span>\n",
       "</pre>\n"
      ],
      "text/plain": [
       "\u001b[1;7;31m ERROR \u001b[0m\u001b[1;31m No solutions for compound=C201 (comp.reactions.ids=[])!\u001b[0m\n"
      ]
     },
     "metadata": {},
     "output_type": "display_data"
    },
    {
     "data": {
      "text/html": [
       "<pre style=\"white-space:pre;overflow-x:auto;line-height:normal;font-family:Menlo,'DejaVu Sans Mono',consolas,'Courier New',monospace\"><span style=\"background-color: #800000; font-weight: bold\"> ERROR </span><span style=\"color: #800000; text-decoration-color: #800000; font-weight: bold\"> No solutions for compound=C202 (comp.reactions.ids=[])!</span>\n",
       "</pre>\n"
      ],
      "text/plain": [
       "\u001b[1;7;31m ERROR \u001b[0m\u001b[1;31m No solutions for compound=C202 (comp.reactions.ids=[])!\u001b[0m\n"
      ]
     },
     "metadata": {},
     "output_type": "display_data"
    },
    {
     "data": {
      "text/html": [
       "<pre style=\"white-space:pre;overflow-x:auto;line-height:normal;font-family:Menlo,'DejaVu Sans Mono',consolas,'Courier New',monospace\"><span style=\"background-color: #800000; font-weight: bold\"> ERROR </span><span style=\"color: #800000; text-decoration-color: #800000; font-weight: bold\"> No entry in quote with quote_compound=203!</span>\n",
       "</pre>\n"
      ],
      "text/plain": [
       "\u001b[1;7;31m ERROR \u001b[0m\u001b[1;31m No entry in quote with quote_compound=203!\u001b[0m\n"
      ]
     },
     "metadata": {},
     "output_type": "display_data"
    },
    {
     "data": {
      "text/html": [
       "<pre style=\"white-space:pre;overflow-x:auto;line-height:normal;font-family:Menlo,'DejaVu Sans Mono',consolas,'Courier New',monospace\"><span style=\"background-color: #800000; font-weight: bold\"> ERROR </span><span style=\"color: #800000; text-decoration-color: #800000; font-weight: bold\"> No entry in quote with quote_compound=79457!</span>\n",
       "</pre>\n"
      ],
      "text/plain": [
       "\u001b[1;7;31m ERROR \u001b[0m\u001b[1;31m No entry in quote with quote_compound=79457!\u001b[0m\n"
      ]
     },
     "metadata": {},
     "output_type": "display_data"
    },
    {
     "data": {
      "text/html": [
       "<pre style=\"white-space:pre;overflow-x:auto;line-height:normal;font-family:Menlo,'DejaVu Sans Mono',consolas,'Courier New',monospace\"><span style=\"background-color: #008000; font-weight: bold\"> Success </span><span style=\"color: #008000; text-decoration-color: #008000; font-weight: bold\"> Found solution for compound=C203!</span>\n",
       "</pre>\n"
      ],
      "text/plain": [
       "\u001b[1;7;32m Success \u001b[0m\u001b[1;32m Found solution for compound=C203!\u001b[0m\n"
      ]
     },
     "metadata": {},
     "output_type": "display_data"
    },
    {
     "data": {
      "text/html": [
       "<pre style=\"white-space:pre;overflow-x:auto;line-height:normal;font-family:Menlo,'DejaVu Sans Mono',consolas,'Courier New',monospace\"><span style=\"background-color: #800000; font-weight: bold\"> ERROR </span><span style=\"color: #800000; text-decoration-color: #800000; font-weight: bold\"> No entry in quote with quote_compound=204!</span>\n",
       "</pre>\n"
      ],
      "text/plain": [
       "\u001b[1;7;31m ERROR \u001b[0m\u001b[1;31m No entry in quote with quote_compound=204!\u001b[0m\n"
      ]
     },
     "metadata": {},
     "output_type": "display_data"
    },
    {
     "data": {
      "text/html": [
       "<pre style=\"white-space:pre;overflow-x:auto;line-height:normal;font-family:Menlo,'DejaVu Sans Mono',consolas,'Courier New',monospace\"><span style=\"background-color: #008000; font-weight: bold\"> Success </span><span style=\"color: #008000; text-decoration-color: #008000; font-weight: bold\"> Found solution for compound=C204!</span>\n",
       "</pre>\n"
      ],
      "text/plain": [
       "\u001b[1;7;32m Success \u001b[0m\u001b[1;32m Found solution for compound=C204!\u001b[0m\n"
      ]
     },
     "metadata": {},
     "output_type": "display_data"
    },
    {
     "data": {
      "text/html": [
       "<pre style=\"white-space:pre;overflow-x:auto;line-height:normal;font-family:Menlo,'DejaVu Sans Mono',consolas,'Courier New',monospace\"><span style=\"background-color: #800000; font-weight: bold\"> ERROR </span><span style=\"color: #800000; text-decoration-color: #800000; font-weight: bold\"> No solutions for compound=C205 (comp.reactions.ids=[])!</span>\n",
       "</pre>\n"
      ],
      "text/plain": [
       "\u001b[1;7;31m ERROR \u001b[0m\u001b[1;31m No solutions for compound=C205 (comp.reactions.ids=[])!\u001b[0m\n"
      ]
     },
     "metadata": {},
     "output_type": "display_data"
    },
    {
     "data": {
      "text/html": [
       "<pre style=\"white-space:pre;overflow-x:auto;line-height:normal;font-family:Menlo,'DejaVu Sans Mono',consolas,'Courier New',monospace\"><span style=\"background-color: #800000; font-weight: bold\"> ERROR </span><span style=\"color: #800000; text-decoration-color: #800000; font-weight: bold\"> No solutions for compound=C206 (comp.reactions.ids=[])!</span>\n",
       "</pre>\n"
      ],
      "text/plain": [
       "\u001b[1;7;31m ERROR \u001b[0m\u001b[1;31m No solutions for compound=C206 (comp.reactions.ids=[])!\u001b[0m\n"
      ]
     },
     "metadata": {},
     "output_type": "display_data"
    },
    {
     "data": {
      "text/html": [
       "<pre style=\"white-space:pre;overflow-x:auto;line-height:normal;font-family:Menlo,'DejaVu Sans Mono',consolas,'Courier New',monospace\"><span style=\"background-color: #800000; font-weight: bold\"> ERROR </span><span style=\"color: #800000; text-decoration-color: #800000; font-weight: bold\"> No solutions for compound=C207 (comp.reactions.ids=[])!</span>\n",
       "</pre>\n"
      ],
      "text/plain": [
       "\u001b[1;7;31m ERROR \u001b[0m\u001b[1;31m No solutions for compound=C207 (comp.reactions.ids=[])!\u001b[0m\n"
      ]
     },
     "metadata": {},
     "output_type": "display_data"
    },
    {
     "data": {
      "text/html": [
       "<pre style=\"white-space:pre;overflow-x:auto;line-height:normal;font-family:Menlo,'DejaVu Sans Mono',consolas,'Courier New',monospace\"><span style=\"background-color: #800000; font-weight: bold\"> ERROR </span><span style=\"color: #800000; text-decoration-color: #800000; font-weight: bold\"> No solutions for compound=C208 (comp.reactions.ids=[])!</span>\n",
       "</pre>\n"
      ],
      "text/plain": [
       "\u001b[1;7;31m ERROR \u001b[0m\u001b[1;31m No solutions for compound=C208 (comp.reactions.ids=[])!\u001b[0m\n"
      ]
     },
     "metadata": {},
     "output_type": "display_data"
    },
    {
     "data": {
      "text/html": [
       "<pre style=\"white-space:pre;overflow-x:auto;line-height:normal;font-family:Menlo,'DejaVu Sans Mono',consolas,'Courier New',monospace\"><span style=\"background-color: #800000; font-weight: bold\"> ERROR </span><span style=\"color: #800000; text-decoration-color: #800000; font-weight: bold\"> No entry in quote with quote_compound=209!</span>\n",
       "</pre>\n"
      ],
      "text/plain": [
       "\u001b[1;7;31m ERROR \u001b[0m\u001b[1;31m No entry in quote with quote_compound=209!\u001b[0m\n"
      ]
     },
     "metadata": {},
     "output_type": "display_data"
    },
    {
     "data": {
      "text/html": [
       "<pre style=\"white-space:pre;overflow-x:auto;line-height:normal;font-family:Menlo,'DejaVu Sans Mono',consolas,'Courier New',monospace\"><span style=\"background-color: #800000; font-weight: bold\"> ERROR </span><span style=\"color: #800000; text-decoration-color: #800000; font-weight: bold\"> No entry in quote with quote_compound=16082!</span>\n",
       "</pre>\n"
      ],
      "text/plain": [
       "\u001b[1;7;31m ERROR \u001b[0m\u001b[1;31m No entry in quote with quote_compound=16082!\u001b[0m\n"
      ]
     },
     "metadata": {},
     "output_type": "display_data"
    },
    {
     "data": {
      "text/html": [
       "<pre style=\"white-space:pre;overflow-x:auto;line-height:normal;font-family:Menlo,'DejaVu Sans Mono',consolas,'Courier New',monospace\"><span style=\"background-color: #800000; font-weight: bold\"> ERROR </span><span style=\"color: #800000; text-decoration-color: #800000; font-weight: bold\"> No entry in quote with quote_compound=113941!</span>\n",
       "</pre>\n"
      ],
      "text/plain": [
       "\u001b[1;7;31m ERROR \u001b[0m\u001b[1;31m No entry in quote with quote_compound=113941!\u001b[0m\n"
      ]
     },
     "metadata": {},
     "output_type": "display_data"
    },
    {
     "data": {
      "text/html": [
       "<pre style=\"white-space:pre;overflow-x:auto;line-height:normal;font-family:Menlo,'DejaVu Sans Mono',consolas,'Courier New',monospace\"><span style=\"background-color: #008000; font-weight: bold\"> Success </span><span style=\"color: #008000; text-decoration-color: #008000; font-weight: bold\"> Found solution for compound=C209!</span>\n",
       "</pre>\n"
      ],
      "text/plain": [
       "\u001b[1;7;32m Success \u001b[0m\u001b[1;32m Found solution for compound=C209!\u001b[0m\n"
      ]
     },
     "metadata": {},
     "output_type": "display_data"
    },
    {
     "data": {
      "text/html": [
       "<pre style=\"white-space:pre;overflow-x:auto;line-height:normal;font-family:Menlo,'DejaVu Sans Mono',consolas,'Courier New',monospace\"><span style=\"background-color: #800000; font-weight: bold\"> ERROR </span><span style=\"color: #800000; text-decoration-color: #800000; font-weight: bold\"> No solutions for compound=C210 (comp.reactions.ids=[])!</span>\n",
       "</pre>\n"
      ],
      "text/plain": [
       "\u001b[1;7;31m ERROR \u001b[0m\u001b[1;31m No solutions for compound=C210 (comp.reactions.ids=[])!\u001b[0m\n"
      ]
     },
     "metadata": {},
     "output_type": "display_data"
    },
    {
     "data": {
      "text/html": [
       "<pre style=\"white-space:pre;overflow-x:auto;line-height:normal;font-family:Menlo,'DejaVu Sans Mono',consolas,'Courier New',monospace\"><span style=\"background-color: #800000; font-weight: bold\"> ERROR </span><span style=\"color: #800000; text-decoration-color: #800000; font-weight: bold\"> No entry in quote with quote_compound=211!</span>\n",
       "</pre>\n"
      ],
      "text/plain": [
       "\u001b[1;7;31m ERROR \u001b[0m\u001b[1;31m No entry in quote with quote_compound=211!\u001b[0m\n"
      ]
     },
     "metadata": {},
     "output_type": "display_data"
    },
    {
     "data": {
      "text/html": [
       "<pre style=\"white-space:pre;overflow-x:auto;line-height:normal;font-family:Menlo,'DejaVu Sans Mono',consolas,'Courier New',monospace\"><span style=\"background-color: #008000; font-weight: bold\"> Success </span><span style=\"color: #008000; text-decoration-color: #008000; font-weight: bold\"> Found solution for compound=C211!</span>\n",
       "</pre>\n"
      ],
      "text/plain": [
       "\u001b[1;7;32m Success \u001b[0m\u001b[1;32m Found solution for compound=C211!\u001b[0m\n"
      ]
     },
     "metadata": {},
     "output_type": "display_data"
    },
    {
     "data": {
      "text/html": [
       "<pre style=\"white-space:pre;overflow-x:auto;line-height:normal;font-family:Menlo,'DejaVu Sans Mono',consolas,'Courier New',monospace\"><span style=\"background-color: #800000; font-weight: bold\"> ERROR </span><span style=\"color: #800000; text-decoration-color: #800000; font-weight: bold\"> No solutions for compound=C212 (comp.reactions.ids=[])!</span>\n",
       "</pre>\n"
      ],
      "text/plain": [
       "\u001b[1;7;31m ERROR \u001b[0m\u001b[1;31m No solutions for compound=C212 (comp.reactions.ids=[])!\u001b[0m\n"
      ]
     },
     "metadata": {},
     "output_type": "display_data"
    },
    {
     "data": {
      "text/html": [
       "<pre style=\"white-space:pre;overflow-x:auto;line-height:normal;font-family:Menlo,'DejaVu Sans Mono',consolas,'Courier New',monospace\"><span style=\"background-color: #800000; font-weight: bold\"> ERROR </span><span style=\"color: #800000; text-decoration-color: #800000; font-weight: bold\"> No solutions for compound=C213 (comp.reactions.ids=[])!</span>\n",
       "</pre>\n"
      ],
      "text/plain": [
       "\u001b[1;7;31m ERROR \u001b[0m\u001b[1;31m No solutions for compound=C213 (comp.reactions.ids=[])!\u001b[0m\n"
      ]
     },
     "metadata": {},
     "output_type": "display_data"
    },
    {
     "data": {
      "text/html": [
       "<pre style=\"white-space:pre;overflow-x:auto;line-height:normal;font-family:Menlo,'DejaVu Sans Mono',consolas,'Courier New',monospace\"><span style=\"background-color: #800000; font-weight: bold\"> ERROR </span><span style=\"color: #800000; text-decoration-color: #800000; font-weight: bold\"> No entry in quote with quote_compound=214!</span>\n",
       "</pre>\n"
      ],
      "text/plain": [
       "\u001b[1;7;31m ERROR \u001b[0m\u001b[1;31m No entry in quote with quote_compound=214!\u001b[0m\n"
      ]
     },
     "metadata": {},
     "output_type": "display_data"
    },
    {
     "data": {
      "text/html": [
       "<pre style=\"white-space:pre;overflow-x:auto;line-height:normal;font-family:Menlo,'DejaVu Sans Mono',consolas,'Courier New',monospace\"><span style=\"background-color: #800000; font-weight: bold\"> ERROR </span><span style=\"color: #800000; text-decoration-color: #800000; font-weight: bold\"> No entry in quote with quote_compound=119347!</span>\n",
       "</pre>\n"
      ],
      "text/plain": [
       "\u001b[1;7;31m ERROR \u001b[0m\u001b[1;31m No entry in quote with quote_compound=119347!\u001b[0m\n"
      ]
     },
     "metadata": {},
     "output_type": "display_data"
    },
    {
     "data": {
      "text/html": [
       "<pre style=\"white-space:pre;overflow-x:auto;line-height:normal;font-family:Menlo,'DejaVu Sans Mono',consolas,'Courier New',monospace\"><span style=\"background-color: #008000; font-weight: bold\"> Success </span><span style=\"color: #008000; text-decoration-color: #008000; font-weight: bold\"> Found solution for compound=C214!</span>\n",
       "</pre>\n"
      ],
      "text/plain": [
       "\u001b[1;7;32m Success \u001b[0m\u001b[1;32m Found solution for compound=C214!\u001b[0m\n"
      ]
     },
     "metadata": {},
     "output_type": "display_data"
    },
    {
     "data": {
      "text/html": [
       "<pre style=\"white-space:pre;overflow-x:auto;line-height:normal;font-family:Menlo,'DejaVu Sans Mono',consolas,'Courier New',monospace\"><span style=\"background-color: #800000; font-weight: bold\"> ERROR </span><span style=\"color: #800000; text-decoration-color: #800000; font-weight: bold\"> No solutions for compound=C215 (comp.reactions.ids=[])!</span>\n",
       "</pre>\n"
      ],
      "text/plain": [
       "\u001b[1;7;31m ERROR \u001b[0m\u001b[1;31m No solutions for compound=C215 (comp.reactions.ids=[])!\u001b[0m\n"
      ]
     },
     "metadata": {},
     "output_type": "display_data"
    },
    {
     "data": {
      "text/html": [
       "<pre style=\"white-space:pre;overflow-x:auto;line-height:normal;font-family:Menlo,'DejaVu Sans Mono',consolas,'Courier New',monospace\"><span style=\"background-color: #800000; font-weight: bold\"> ERROR </span><span style=\"color: #800000; text-decoration-color: #800000; font-weight: bold\"> No solutions for compound=C216 (comp.reactions.ids=[])!</span>\n",
       "</pre>\n"
      ],
      "text/plain": [
       "\u001b[1;7;31m ERROR \u001b[0m\u001b[1;31m No solutions for compound=C216 (comp.reactions.ids=[])!\u001b[0m\n"
      ]
     },
     "metadata": {},
     "output_type": "display_data"
    },
    {
     "data": {
      "text/html": [
       "<pre style=\"white-space:pre;overflow-x:auto;line-height:normal;font-family:Menlo,'DejaVu Sans Mono',consolas,'Courier New',monospace\"><span style=\"background-color: #800000; font-weight: bold\"> ERROR </span><span style=\"color: #800000; text-decoration-color: #800000; font-weight: bold\"> No solutions for compound=C217 (comp.reactions.ids=[])!</span>\n",
       "</pre>\n"
      ],
      "text/plain": [
       "\u001b[1;7;31m ERROR \u001b[0m\u001b[1;31m No solutions for compound=C217 (comp.reactions.ids=[])!\u001b[0m\n"
      ]
     },
     "metadata": {},
     "output_type": "display_data"
    },
    {
     "data": {
      "text/html": [
       "<pre style=\"white-space:pre;overflow-x:auto;line-height:normal;font-family:Menlo,'DejaVu Sans Mono',consolas,'Courier New',monospace\"><span style=\"background-color: #800000; font-weight: bold\"> ERROR </span><span style=\"color: #800000; text-decoration-color: #800000; font-weight: bold\"> No solutions for compound=C218 (comp.reactions.ids=[])!</span>\n",
       "</pre>\n"
      ],
      "text/plain": [
       "\u001b[1;7;31m ERROR \u001b[0m\u001b[1;31m No solutions for compound=C218 (comp.reactions.ids=[])!\u001b[0m\n"
      ]
     },
     "metadata": {},
     "output_type": "display_data"
    },
    {
     "data": {
      "text/html": [
       "<pre style=\"white-space:pre;overflow-x:auto;line-height:normal;font-family:Menlo,'DejaVu Sans Mono',consolas,'Courier New',monospace\"><span style=\"background-color: #800000; font-weight: bold\"> ERROR </span><span style=\"color: #800000; text-decoration-color: #800000; font-weight: bold\"> No solutions for compound=C219 (comp.reactions.ids=[])!</span>\n",
       "</pre>\n"
      ],
      "text/plain": [
       "\u001b[1;7;31m ERROR \u001b[0m\u001b[1;31m No solutions for compound=C219 (comp.reactions.ids=[])!\u001b[0m\n"
      ]
     },
     "metadata": {},
     "output_type": "display_data"
    },
    {
     "data": {
      "text/html": [
       "<pre style=\"white-space:pre;overflow-x:auto;line-height:normal;font-family:Menlo,'DejaVu Sans Mono',consolas,'Courier New',monospace\"><span style=\"background-color: #800000; font-weight: bold\"> ERROR </span><span style=\"color: #800000; text-decoration-color: #800000; font-weight: bold\"> No solutions for compound=C220 (comp.reactions.ids=[])!</span>\n",
       "</pre>\n"
      ],
      "text/plain": [
       "\u001b[1;7;31m ERROR \u001b[0m\u001b[1;31m No solutions for compound=C220 (comp.reactions.ids=[])!\u001b[0m\n"
      ]
     },
     "metadata": {},
     "output_type": "display_data"
    },
    {
     "data": {
      "text/html": [
       "<pre style=\"white-space:pre;overflow-x:auto;line-height:normal;font-family:Menlo,'DejaVu Sans Mono',consolas,'Courier New',monospace\"><span style=\"background-color: #800000; font-weight: bold\"> ERROR </span><span style=\"color: #800000; text-decoration-color: #800000; font-weight: bold\"> No solutions for compound=C221 (comp.reactions.ids=[])!</span>\n",
       "</pre>\n"
      ],
      "text/plain": [
       "\u001b[1;7;31m ERROR \u001b[0m\u001b[1;31m No solutions for compound=C221 (comp.reactions.ids=[])!\u001b[0m\n"
      ]
     },
     "metadata": {},
     "output_type": "display_data"
    },
    {
     "data": {
      "text/html": [
       "<pre style=\"white-space:pre;overflow-x:auto;line-height:normal;font-family:Menlo,'DejaVu Sans Mono',consolas,'Courier New',monospace\"><span style=\"background-color: #800000; font-weight: bold\"> ERROR </span><span style=\"color: #800000; text-decoration-color: #800000; font-weight: bold\"> No solutions for compound=C222 (comp.reactions.ids=[])!</span>\n",
       "</pre>\n"
      ],
      "text/plain": [
       "\u001b[1;7;31m ERROR \u001b[0m\u001b[1;31m No solutions for compound=C222 (comp.reactions.ids=[])!\u001b[0m\n"
      ]
     },
     "metadata": {},
     "output_type": "display_data"
    },
    {
     "data": {
      "text/html": [
       "<pre style=\"white-space:pre;overflow-x:auto;line-height:normal;font-family:Menlo,'DejaVu Sans Mono',consolas,'Courier New',monospace\"><span style=\"background-color: #800000; font-weight: bold\"> ERROR </span><span style=\"color: #800000; text-decoration-color: #800000; font-weight: bold\"> No solutions for compound=C223 (comp.reactions.ids=[])!</span>\n",
       "</pre>\n"
      ],
      "text/plain": [
       "\u001b[1;7;31m ERROR \u001b[0m\u001b[1;31m No solutions for compound=C223 (comp.reactions.ids=[])!\u001b[0m\n"
      ]
     },
     "metadata": {},
     "output_type": "display_data"
    },
    {
     "data": {
      "text/html": [
       "<pre style=\"white-space:pre;overflow-x:auto;line-height:normal;font-family:Menlo,'DejaVu Sans Mono',consolas,'Courier New',monospace\"><span style=\"background-color: #800000; font-weight: bold\"> ERROR </span><span style=\"color: #800000; text-decoration-color: #800000; font-weight: bold\"> No solutions for compound=C224 (comp.reactions.ids=[])!</span>\n",
       "</pre>\n"
      ],
      "text/plain": [
       "\u001b[1;7;31m ERROR \u001b[0m\u001b[1;31m No solutions for compound=C224 (comp.reactions.ids=[])!\u001b[0m\n"
      ]
     },
     "metadata": {},
     "output_type": "display_data"
    },
    {
     "data": {
      "text/html": [
       "<pre style=\"white-space:pre;overflow-x:auto;line-height:normal;font-family:Menlo,'DejaVu Sans Mono',consolas,'Courier New',monospace\"><span style=\"background-color: #800000; font-weight: bold\"> ERROR </span><span style=\"color: #800000; text-decoration-color: #800000; font-weight: bold\"> No solutions for compound=C225 (comp.reactions.ids=[])!</span>\n",
       "</pre>\n"
      ],
      "text/plain": [
       "\u001b[1;7;31m ERROR \u001b[0m\u001b[1;31m No solutions for compound=C225 (comp.reactions.ids=[])!\u001b[0m\n"
      ]
     },
     "metadata": {},
     "output_type": "display_data"
    },
    {
     "data": {
      "text/html": [
       "<pre style=\"white-space:pre;overflow-x:auto;line-height:normal;font-family:Menlo,'DejaVu Sans Mono',consolas,'Courier New',monospace\"><span style=\"background-color: #800000; font-weight: bold\"> ERROR </span><span style=\"color: #800000; text-decoration-color: #800000; font-weight: bold\"> No solutions for compound=C226 (comp.reactions.ids=[])!</span>\n",
       "</pre>\n"
      ],
      "text/plain": [
       "\u001b[1;7;31m ERROR \u001b[0m\u001b[1;31m No solutions for compound=C226 (comp.reactions.ids=[])!\u001b[0m\n"
      ]
     },
     "metadata": {},
     "output_type": "display_data"
    },
    {
     "data": {
      "text/html": [
       "<pre style=\"white-space:pre;overflow-x:auto;line-height:normal;font-family:Menlo,'DejaVu Sans Mono',consolas,'Courier New',monospace\"><span style=\"background-color: #800000; font-weight: bold\"> ERROR </span><span style=\"color: #800000; text-decoration-color: #800000; font-weight: bold\"> No solutions for compound=C227 (comp.reactions.ids=[])!</span>\n",
       "</pre>\n"
      ],
      "text/plain": [
       "\u001b[1;7;31m ERROR \u001b[0m\u001b[1;31m No solutions for compound=C227 (comp.reactions.ids=[])!\u001b[0m\n"
      ]
     },
     "metadata": {},
     "output_type": "display_data"
    },
    {
     "data": {
      "text/html": [
       "<pre style=\"white-space:pre;overflow-x:auto;line-height:normal;font-family:Menlo,'DejaVu Sans Mono',consolas,'Courier New',monospace\"><span style=\"background-color: #800000; font-weight: bold\"> ERROR </span><span style=\"color: #800000; text-decoration-color: #800000; font-weight: bold\"> No solutions for compound=C228 (comp.reactions.ids=[])!</span>\n",
       "</pre>\n"
      ],
      "text/plain": [
       "\u001b[1;7;31m ERROR \u001b[0m\u001b[1;31m No solutions for compound=C228 (comp.reactions.ids=[])!\u001b[0m\n"
      ]
     },
     "metadata": {},
     "output_type": "display_data"
    },
    {
     "data": {
      "text/html": [
       "<pre style=\"white-space:pre;overflow-x:auto;line-height:normal;font-family:Menlo,'DejaVu Sans Mono',consolas,'Courier New',monospace\"><span style=\"background-color: #800000; font-weight: bold\"> ERROR </span><span style=\"color: #800000; text-decoration-color: #800000; font-weight: bold\"> No solutions for compound=C229 (comp.reactions.ids=[])!</span>\n",
       "</pre>\n"
      ],
      "text/plain": [
       "\u001b[1;7;31m ERROR \u001b[0m\u001b[1;31m No solutions for compound=C229 (comp.reactions.ids=[])!\u001b[0m\n"
      ]
     },
     "metadata": {},
     "output_type": "display_data"
    },
    {
     "data": {
      "text/html": [
       "<pre style=\"white-space:pre;overflow-x:auto;line-height:normal;font-family:Menlo,'DejaVu Sans Mono',consolas,'Courier New',monospace\"><span style=\"background-color: #800000; font-weight: bold\"> ERROR </span><span style=\"color: #800000; text-decoration-color: #800000; font-weight: bold\"> No solutions for compound=C230 (comp.reactions.ids=[])!</span>\n",
       "</pre>\n"
      ],
      "text/plain": [
       "\u001b[1;7;31m ERROR \u001b[0m\u001b[1;31m No solutions for compound=C230 (comp.reactions.ids=[])!\u001b[0m\n"
      ]
     },
     "metadata": {},
     "output_type": "display_data"
    },
    {
     "data": {
      "text/html": [
       "<pre style=\"white-space:pre;overflow-x:auto;line-height:normal;font-family:Menlo,'DejaVu Sans Mono',consolas,'Courier New',monospace\"><span style=\"background-color: #800000; font-weight: bold\"> ERROR </span><span style=\"color: #800000; text-decoration-color: #800000; font-weight: bold\"> No solutions for compound=C231 (comp.reactions.ids=[])!</span>\n",
       "</pre>\n"
      ],
      "text/plain": [
       "\u001b[1;7;31m ERROR \u001b[0m\u001b[1;31m No solutions for compound=C231 (comp.reactions.ids=[])!\u001b[0m\n"
      ]
     },
     "metadata": {},
     "output_type": "display_data"
    },
    {
     "data": {
      "text/html": [
       "<pre style=\"white-space:pre;overflow-x:auto;line-height:normal;font-family:Menlo,'DejaVu Sans Mono',consolas,'Courier New',monospace\"><span style=\"background-color: #800000; font-weight: bold\"> ERROR </span><span style=\"color: #800000; text-decoration-color: #800000; font-weight: bold\"> No solutions for compound=C232 (comp.reactions.ids=[])!</span>\n",
       "</pre>\n"
      ],
      "text/plain": [
       "\u001b[1;7;31m ERROR \u001b[0m\u001b[1;31m No solutions for compound=C232 (comp.reactions.ids=[])!\u001b[0m\n"
      ]
     },
     "metadata": {},
     "output_type": "display_data"
    },
    {
     "data": {
      "text/html": [
       "<pre style=\"white-space:pre;overflow-x:auto;line-height:normal;font-family:Menlo,'DejaVu Sans Mono',consolas,'Courier New',monospace\"><span style=\"background-color: #800000; font-weight: bold\"> ERROR </span><span style=\"color: #800000; text-decoration-color: #800000; font-weight: bold\"> No solutions for compound=C233 (comp.reactions.ids=[])!</span>\n",
       "</pre>\n"
      ],
      "text/plain": [
       "\u001b[1;7;31m ERROR \u001b[0m\u001b[1;31m No solutions for compound=C233 (comp.reactions.ids=[])!\u001b[0m\n"
      ]
     },
     "metadata": {},
     "output_type": "display_data"
    },
    {
     "data": {
      "text/html": [
       "<pre style=\"white-space:pre;overflow-x:auto;line-height:normal;font-family:Menlo,'DejaVu Sans Mono',consolas,'Courier New',monospace\"><span style=\"background-color: #800000; font-weight: bold\"> ERROR </span><span style=\"color: #800000; text-decoration-color: #800000; font-weight: bold\"> No solutions for compound=C234 (comp.reactions.ids=[])!</span>\n",
       "</pre>\n"
      ],
      "text/plain": [
       "\u001b[1;7;31m ERROR \u001b[0m\u001b[1;31m No solutions for compound=C234 (comp.reactions.ids=[])!\u001b[0m\n"
      ]
     },
     "metadata": {},
     "output_type": "display_data"
    },
    {
     "data": {
      "text/html": [
       "<pre style=\"white-space:pre;overflow-x:auto;line-height:normal;font-family:Menlo,'DejaVu Sans Mono',consolas,'Courier New',monospace\"><span style=\"background-color: #800000; font-weight: bold\"> ERROR </span><span style=\"color: #800000; text-decoration-color: #800000; font-weight: bold\"> No solutions for compound=C235 (comp.reactions.ids=[])!</span>\n",
       "</pre>\n"
      ],
      "text/plain": [
       "\u001b[1;7;31m ERROR \u001b[0m\u001b[1;31m No solutions for compound=C235 (comp.reactions.ids=[])!\u001b[0m\n"
      ]
     },
     "metadata": {},
     "output_type": "display_data"
    },
    {
     "data": {
      "text/html": [
       "<pre style=\"white-space:pre;overflow-x:auto;line-height:normal;font-family:Menlo,'DejaVu Sans Mono',consolas,'Courier New',monospace\"><span style=\"background-color: #800000; font-weight: bold\"> ERROR </span><span style=\"color: #800000; text-decoration-color: #800000; font-weight: bold\"> No entry in quote with quote_compound=236!</span>\n",
       "</pre>\n"
      ],
      "text/plain": [
       "\u001b[1;7;31m ERROR \u001b[0m\u001b[1;31m No entry in quote with quote_compound=236!\u001b[0m\n"
      ]
     },
     "metadata": {},
     "output_type": "display_data"
    },
    {
     "data": {
      "text/html": [
       "<pre style=\"white-space:pre;overflow-x:auto;line-height:normal;font-family:Menlo,'DejaVu Sans Mono',consolas,'Courier New',monospace\"><span style=\"background-color: #800000; font-weight: bold\"> ERROR </span><span style=\"color: #800000; text-decoration-color: #800000; font-weight: bold\"> No entry in quote with quote_compound=236!</span>\n",
       "</pre>\n"
      ],
      "text/plain": [
       "\u001b[1;7;31m ERROR \u001b[0m\u001b[1;31m No entry in quote with quote_compound=236!\u001b[0m\n"
      ]
     },
     "metadata": {},
     "output_type": "display_data"
    },
    {
     "data": {
      "text/html": [
       "<pre style=\"white-space:pre;overflow-x:auto;line-height:normal;font-family:Menlo,'DejaVu Sans Mono',consolas,'Courier New',monospace\"><span style=\"background-color: #800000; font-weight: bold\"> ERROR </span><span style=\"color: #800000; text-decoration-color: #800000; font-weight: bold\"> No entry in quote with quote_compound=87346!</span>\n",
       "</pre>\n"
      ],
      "text/plain": [
       "\u001b[1;7;31m ERROR \u001b[0m\u001b[1;31m No entry in quote with quote_compound=87346!\u001b[0m\n"
      ]
     },
     "metadata": {},
     "output_type": "display_data"
    },
    {
     "data": {
      "text/html": [
       "<pre style=\"white-space:pre;overflow-x:auto;line-height:normal;font-family:Menlo,'DejaVu Sans Mono',consolas,'Courier New',monospace\"><span style=\"background-color: #ff8700; font-weight: bold\"> Warning </span><span style=\"color: #ff8700; text-decoration-color: #ff8700\"> Multiple solutions for compound=C236!</span>\n",
       "</pre>\n"
      ],
      "text/plain": [
       "\u001b[1;7;38;5;208m Warning \u001b[0m\u001b[38;5;208m Multiple solutions for compound=C236!\u001b[0m\n"
      ]
     },
     "metadata": {},
     "output_type": "display_data"
    },
    {
     "data": {
      "text/html": [
       "<pre style=\"white-space:pre;overflow-x:auto;line-height:normal;font-family:Menlo,'DejaVu Sans Mono',consolas,'Courier New',monospace\"><span style=\"background-color: #800000; font-weight: bold\"> ERROR </span><span style=\"color: #800000; text-decoration-color: #800000; font-weight: bold\"> No entry in quote with quote_compound=237!</span>\n",
       "</pre>\n"
      ],
      "text/plain": [
       "\u001b[1;7;31m ERROR \u001b[0m\u001b[1;31m No entry in quote with quote_compound=237!\u001b[0m\n"
      ]
     },
     "metadata": {},
     "output_type": "display_data"
    },
    {
     "data": {
      "text/html": [
       "<pre style=\"white-space:pre;overflow-x:auto;line-height:normal;font-family:Menlo,'DejaVu Sans Mono',consolas,'Courier New',monospace\"><span style=\"background-color: #800000; font-weight: bold\"> ERROR </span><span style=\"color: #800000; text-decoration-color: #800000; font-weight: bold\"> No entry in quote with quote_compound=74041!</span>\n",
       "</pre>\n"
      ],
      "text/plain": [
       "\u001b[1;7;31m ERROR \u001b[0m\u001b[1;31m No entry in quote with quote_compound=74041!\u001b[0m\n"
      ]
     },
     "metadata": {},
     "output_type": "display_data"
    },
    {
     "data": {
      "text/html": [
       "<pre style=\"white-space:pre;overflow-x:auto;line-height:normal;font-family:Menlo,'DejaVu Sans Mono',consolas,'Courier New',monospace\"><span style=\"background-color: #008000; font-weight: bold\"> Success </span><span style=\"color: #008000; text-decoration-color: #008000; font-weight: bold\"> Found solution for compound=C237!</span>\n",
       "</pre>\n"
      ],
      "text/plain": [
       "\u001b[1;7;32m Success \u001b[0m\u001b[1;32m Found solution for compound=C237!\u001b[0m\n"
      ]
     },
     "metadata": {},
     "output_type": "display_data"
    },
    {
     "data": {
      "text/html": [
       "<pre style=\"white-space:pre;overflow-x:auto;line-height:normal;font-family:Menlo,'DejaVu Sans Mono',consolas,'Courier New',monospace\"><span style=\"background-color: #800000; font-weight: bold\"> ERROR </span><span style=\"color: #800000; text-decoration-color: #800000; font-weight: bold\"> No entry in quote with quote_compound=238!</span>\n",
       "</pre>\n"
      ],
      "text/plain": [
       "\u001b[1;7;31m ERROR \u001b[0m\u001b[1;31m No entry in quote with quote_compound=238!\u001b[0m\n"
      ]
     },
     "metadata": {},
     "output_type": "display_data"
    },
    {
     "data": {
      "text/html": [
       "<pre style=\"white-space:pre;overflow-x:auto;line-height:normal;font-family:Menlo,'DejaVu Sans Mono',consolas,'Courier New',monospace\"><span style=\"background-color: #800000; font-weight: bold\"> ERROR </span><span style=\"color: #800000; text-decoration-color: #800000; font-weight: bold\"> No entry in quote with quote_compound=74058!</span>\n",
       "</pre>\n"
      ],
      "text/plain": [
       "\u001b[1;7;31m ERROR \u001b[0m\u001b[1;31m No entry in quote with quote_compound=74058!\u001b[0m\n"
      ]
     },
     "metadata": {},
     "output_type": "display_data"
    },
    {
     "data": {
      "text/html": [
       "<pre style=\"white-space:pre;overflow-x:auto;line-height:normal;font-family:Menlo,'DejaVu Sans Mono',consolas,'Courier New',monospace\"><span style=\"background-color: #008000; font-weight: bold\"> Success </span><span style=\"color: #008000; text-decoration-color: #008000; font-weight: bold\"> Found solution for compound=C238!</span>\n",
       "</pre>\n"
      ],
      "text/plain": [
       "\u001b[1;7;32m Success \u001b[0m\u001b[1;32m Found solution for compound=C238!\u001b[0m\n"
      ]
     },
     "metadata": {},
     "output_type": "display_data"
    },
    {
     "data": {
      "text/html": [
       "<pre style=\"white-space:pre;overflow-x:auto;line-height:normal;font-family:Menlo,'DejaVu Sans Mono',consolas,'Courier New',monospace\"><span style=\"background-color: #800000; font-weight: bold\"> ERROR </span><span style=\"color: #800000; text-decoration-color: #800000; font-weight: bold\"> No solutions for compound=C239 (comp.reactions.ids=[])!</span>\n",
       "</pre>\n"
      ],
      "text/plain": [
       "\u001b[1;7;31m ERROR \u001b[0m\u001b[1;31m No solutions for compound=C239 (comp.reactions.ids=[])!\u001b[0m\n"
      ]
     },
     "metadata": {},
     "output_type": "display_data"
    },
    {
     "data": {
      "text/html": [
       "<pre style=\"white-space:pre;overflow-x:auto;line-height:normal;font-family:Menlo,'DejaVu Sans Mono',consolas,'Courier New',monospace\"><span style=\"background-color: #800000; font-weight: bold\"> ERROR </span><span style=\"color: #800000; text-decoration-color: #800000; font-weight: bold\"> No entry in quote with quote_compound=240!</span>\n",
       "</pre>\n"
      ],
      "text/plain": [
       "\u001b[1;7;31m ERROR \u001b[0m\u001b[1;31m No entry in quote with quote_compound=240!\u001b[0m\n"
      ]
     },
     "metadata": {},
     "output_type": "display_data"
    },
    {
     "data": {
      "text/html": [
       "<pre style=\"white-space:pre;overflow-x:auto;line-height:normal;font-family:Menlo,'DejaVu Sans Mono',consolas,'Courier New',monospace\"><span style=\"background-color: #800000; font-weight: bold\"> ERROR </span><span style=\"color: #800000; text-decoration-color: #800000; font-weight: bold\"> No entry in quote with quote_compound=240!</span>\n",
       "</pre>\n"
      ],
      "text/plain": [
       "\u001b[1;7;31m ERROR \u001b[0m\u001b[1;31m No entry in quote with quote_compound=240!\u001b[0m\n"
      ]
     },
     "metadata": {},
     "output_type": "display_data"
    },
    {
     "data": {
      "text/html": [
       "<pre style=\"white-space:pre;overflow-x:auto;line-height:normal;font-family:Menlo,'DejaVu Sans Mono',consolas,'Courier New',monospace\"><span style=\"background-color: #800000; font-weight: bold\"> ERROR </span><span style=\"color: #800000; text-decoration-color: #800000; font-weight: bold\"> No entry in quote with quote_compound=87346!</span>\n",
       "</pre>\n"
      ],
      "text/plain": [
       "\u001b[1;7;31m ERROR \u001b[0m\u001b[1;31m No entry in quote with quote_compound=87346!\u001b[0m\n"
      ]
     },
     "metadata": {},
     "output_type": "display_data"
    },
    {
     "data": {
      "text/html": [
       "<pre style=\"white-space:pre;overflow-x:auto;line-height:normal;font-family:Menlo,'DejaVu Sans Mono',consolas,'Courier New',monospace\"><span style=\"background-color: #ff8700; font-weight: bold\"> Warning </span><span style=\"color: #ff8700; text-decoration-color: #ff8700\"> Multiple solutions for compound=C240!</span>\n",
       "</pre>\n"
      ],
      "text/plain": [
       "\u001b[1;7;38;5;208m Warning \u001b[0m\u001b[38;5;208m Multiple solutions for compound=C240!\u001b[0m\n"
      ]
     },
     "metadata": {},
     "output_type": "display_data"
    },
    {
     "data": {
      "text/html": [
       "<pre style=\"white-space:pre;overflow-x:auto;line-height:normal;font-family:Menlo,'DejaVu Sans Mono',consolas,'Courier New',monospace\"><span style=\"background-color: #800000; font-weight: bold\"> ERROR </span><span style=\"color: #800000; text-decoration-color: #800000; font-weight: bold\"> No entry in quote with quote_compound=241!</span>\n",
       "</pre>\n"
      ],
      "text/plain": [
       "\u001b[1;7;31m ERROR \u001b[0m\u001b[1;31m No entry in quote with quote_compound=241!\u001b[0m\n"
      ]
     },
     "metadata": {},
     "output_type": "display_data"
    },
    {
     "data": {
      "text/html": [
       "<pre style=\"white-space:pre;overflow-x:auto;line-height:normal;font-family:Menlo,'DejaVu Sans Mono',consolas,'Courier New',monospace\"><span style=\"background-color: #800000; font-weight: bold\"> ERROR </span><span style=\"color: #800000; text-decoration-color: #800000; font-weight: bold\"> No entry in quote with quote_compound=87346!</span>\n",
       "</pre>\n"
      ],
      "text/plain": [
       "\u001b[1;7;31m ERROR \u001b[0m\u001b[1;31m No entry in quote with quote_compound=87346!\u001b[0m\n"
      ]
     },
     "metadata": {},
     "output_type": "display_data"
    },
    {
     "data": {
      "text/html": [
       "<pre style=\"white-space:pre;overflow-x:auto;line-height:normal;font-family:Menlo,'DejaVu Sans Mono',consolas,'Courier New',monospace\"><span style=\"background-color: #008000; font-weight: bold\"> Success </span><span style=\"color: #008000; text-decoration-color: #008000; font-weight: bold\"> Found solution for compound=C241!</span>\n",
       "</pre>\n"
      ],
      "text/plain": [
       "\u001b[1;7;32m Success \u001b[0m\u001b[1;32m Found solution for compound=C241!\u001b[0m\n"
      ]
     },
     "metadata": {},
     "output_type": "display_data"
    },
    {
     "data": {
      "text/html": [
       "<pre style=\"white-space:pre;overflow-x:auto;line-height:normal;font-family:Menlo,'DejaVu Sans Mono',consolas,'Courier New',monospace\"><span style=\"background-color: #800000; font-weight: bold\"> ERROR </span><span style=\"color: #800000; text-decoration-color: #800000; font-weight: bold\"> No entry in quote with quote_compound=242!</span>\n",
       "</pre>\n"
      ],
      "text/plain": [
       "\u001b[1;7;31m ERROR \u001b[0m\u001b[1;31m No entry in quote with quote_compound=242!\u001b[0m\n"
      ]
     },
     "metadata": {},
     "output_type": "display_data"
    },
    {
     "data": {
      "text/html": [
       "<pre style=\"white-space:pre;overflow-x:auto;line-height:normal;font-family:Menlo,'DejaVu Sans Mono',consolas,'Courier New',monospace\"><span style=\"background-color: #008000; font-weight: bold\"> Success </span><span style=\"color: #008000; text-decoration-color: #008000; font-weight: bold\"> Found solution for compound=C242!</span>\n",
       "</pre>\n"
      ],
      "text/plain": [
       "\u001b[1;7;32m Success \u001b[0m\u001b[1;32m Found solution for compound=C242!\u001b[0m\n"
      ]
     },
     "metadata": {},
     "output_type": "display_data"
    },
    {
     "data": {
      "text/html": [
       "<pre style=\"white-space:pre;overflow-x:auto;line-height:normal;font-family:Menlo,'DejaVu Sans Mono',consolas,'Courier New',monospace\"><span style=\"background-color: #800000; font-weight: bold\"> ERROR </span><span style=\"color: #800000; text-decoration-color: #800000; font-weight: bold\"> No entry in quote with quote_compound=243!</span>\n",
       "</pre>\n"
      ],
      "text/plain": [
       "\u001b[1;7;31m ERROR \u001b[0m\u001b[1;31m No entry in quote with quote_compound=243!\u001b[0m\n"
      ]
     },
     "metadata": {},
     "output_type": "display_data"
    },
    {
     "data": {
      "text/html": [
       "<pre style=\"white-space:pre;overflow-x:auto;line-height:normal;font-family:Menlo,'DejaVu Sans Mono',consolas,'Courier New',monospace\"><span style=\"background-color: #008000; font-weight: bold\"> Success </span><span style=\"color: #008000; text-decoration-color: #008000; font-weight: bold\"> Found solution for compound=C243!</span>\n",
       "</pre>\n"
      ],
      "text/plain": [
       "\u001b[1;7;32m Success \u001b[0m\u001b[1;32m Found solution for compound=C243!\u001b[0m\n"
      ]
     },
     "metadata": {},
     "output_type": "display_data"
    },
    {
     "data": {
      "text/html": [
       "<pre style=\"white-space:pre;overflow-x:auto;line-height:normal;font-family:Menlo,'DejaVu Sans Mono',consolas,'Courier New',monospace\"><span style=\"background-color: #800000; font-weight: bold\"> ERROR </span><span style=\"color: #800000; text-decoration-color: #800000; font-weight: bold\"> No entry in quote with quote_compound=244!</span>\n",
       "</pre>\n"
      ],
      "text/plain": [
       "\u001b[1;7;31m ERROR \u001b[0m\u001b[1;31m No entry in quote with quote_compound=244!\u001b[0m\n"
      ]
     },
     "metadata": {},
     "output_type": "display_data"
    },
    {
     "data": {
      "text/html": [
       "<pre style=\"white-space:pre;overflow-x:auto;line-height:normal;font-family:Menlo,'DejaVu Sans Mono',consolas,'Courier New',monospace\"><span style=\"background-color: #800000; font-weight: bold\"> ERROR </span><span style=\"color: #800000; text-decoration-color: #800000; font-weight: bold\"> No entry in quote with quote_compound=93285!</span>\n",
       "</pre>\n"
      ],
      "text/plain": [
       "\u001b[1;7;31m ERROR \u001b[0m\u001b[1;31m No entry in quote with quote_compound=93285!\u001b[0m\n"
      ]
     },
     "metadata": {},
     "output_type": "display_data"
    },
    {
     "data": {
      "text/html": [
       "<pre style=\"white-space:pre;overflow-x:auto;line-height:normal;font-family:Menlo,'DejaVu Sans Mono',consolas,'Courier New',monospace\"><span style=\"background-color: #008000; font-weight: bold\"> Success </span><span style=\"color: #008000; text-decoration-color: #008000; font-weight: bold\"> Found solution for compound=C244!</span>\n",
       "</pre>\n"
      ],
      "text/plain": [
       "\u001b[1;7;32m Success \u001b[0m\u001b[1;32m Found solution for compound=C244!\u001b[0m\n"
      ]
     },
     "metadata": {},
     "output_type": "display_data"
    },
    {
     "data": {
      "text/html": [
       "<pre style=\"white-space:pre;overflow-x:auto;line-height:normal;font-family:Menlo,'DejaVu Sans Mono',consolas,'Courier New',monospace\"><span style=\"background-color: #800000; font-weight: bold\"> ERROR </span><span style=\"color: #800000; text-decoration-color: #800000; font-weight: bold\"> No entry in quote with quote_compound=245!</span>\n",
       "</pre>\n"
      ],
      "text/plain": [
       "\u001b[1;7;31m ERROR \u001b[0m\u001b[1;31m No entry in quote with quote_compound=245!\u001b[0m\n"
      ]
     },
     "metadata": {},
     "output_type": "display_data"
    },
    {
     "data": {
      "text/html": [
       "<pre style=\"white-space:pre;overflow-x:auto;line-height:normal;font-family:Menlo,'DejaVu Sans Mono',consolas,'Courier New',monospace\"><span style=\"background-color: #800000; font-weight: bold\"> ERROR </span><span style=\"color: #800000; text-decoration-color: #800000; font-weight: bold\"> No entry in quote with quote_compound=99711!</span>\n",
       "</pre>\n"
      ],
      "text/plain": [
       "\u001b[1;7;31m ERROR \u001b[0m\u001b[1;31m No entry in quote with quote_compound=99711!\u001b[0m\n"
      ]
     },
     "metadata": {},
     "output_type": "display_data"
    },
    {
     "data": {
      "text/html": [
       "<pre style=\"white-space:pre;overflow-x:auto;line-height:normal;font-family:Menlo,'DejaVu Sans Mono',consolas,'Courier New',monospace\"><span style=\"background-color: #008000; font-weight: bold\"> Success </span><span style=\"color: #008000; text-decoration-color: #008000; font-weight: bold\"> Found solution for compound=C245!</span>\n",
       "</pre>\n"
      ],
      "text/plain": [
       "\u001b[1;7;32m Success \u001b[0m\u001b[1;32m Found solution for compound=C245!\u001b[0m\n"
      ]
     },
     "metadata": {},
     "output_type": "display_data"
    },
    {
     "data": {
      "text/html": [
       "<pre style=\"white-space:pre;overflow-x:auto;line-height:normal;font-family:Menlo,'DejaVu Sans Mono',consolas,'Courier New',monospace\"><span style=\"background-color: #800000; font-weight: bold\"> ERROR </span><span style=\"color: #800000; text-decoration-color: #800000; font-weight: bold\"> No solutions for compound=C246 (comp.reactions.ids=[])!</span>\n",
       "</pre>\n"
      ],
      "text/plain": [
       "\u001b[1;7;31m ERROR \u001b[0m\u001b[1;31m No solutions for compound=C246 (comp.reactions.ids=[])!\u001b[0m\n"
      ]
     },
     "metadata": {},
     "output_type": "display_data"
    },
    {
     "data": {
      "text/html": [
       "<pre style=\"white-space:pre;overflow-x:auto;line-height:normal;font-family:Menlo,'DejaVu Sans Mono',consolas,'Courier New',monospace\"><span style=\"background-color: #800000; font-weight: bold\"> ERROR </span><span style=\"color: #800000; text-decoration-color: #800000; font-weight: bold\"> No solutions for compound=C247 (comp.reactions.ids=[])!</span>\n",
       "</pre>\n"
      ],
      "text/plain": [
       "\u001b[1;7;31m ERROR \u001b[0m\u001b[1;31m No solutions for compound=C247 (comp.reactions.ids=[])!\u001b[0m\n"
      ]
     },
     "metadata": {},
     "output_type": "display_data"
    },
    {
     "data": {
      "text/html": [
       "<pre style=\"white-space:pre;overflow-x:auto;line-height:normal;font-family:Menlo,'DejaVu Sans Mono',consolas,'Courier New',monospace\"></pre>\n"
      ],
      "text/plain": []
     },
     "metadata": {},
     "output_type": "display_data"
    },
    {
     "data": {
      "text/html": [
       "<pre style=\"white-space:pre;overflow-x:auto;line-height:normal;font-family:Menlo,'DejaVu Sans Mono',consolas,'Courier New',monospace\">Solving recipe combinations<span style=\"color: #808000; text-decoration-color: #808000\">...</span>\n",
       "</pre>\n"
      ],
      "text/plain": [
       "Solving recipe combinations\u001b[33m...\u001b[0m\n"
      ]
     },
     "metadata": {},
     "output_type": "display_data"
    },
    {
     "data": {
      "text/html": [
       "<pre style=\"white-space:pre;overflow-x:auto;line-height:normal;font-family:Menlo,'DejaVu Sans Mono',consolas,'Courier New',monospace\">\n",
       "</pre>\n"
      ],
      "text/plain": [
       "\n"
      ]
     },
     "metadata": {},
     "output_type": "display_data"
    },
    {
     "data": {
      "application/vnd.jupyter.widget-view+json": {
       "model_id": "005a4bcdf402419d889c39f54458ce70",
       "version_major": 2,
       "version_minor": 0
      },
      "text/plain": [
       "Output()"
      ]
     },
     "metadata": {},
     "output_type": "display_data"
    },
    {
     "data": {
      "text/html": [
       "<pre style=\"white-space:pre;overflow-x:auto;line-height:normal;font-family:Menlo,'DejaVu Sans Mono',consolas,'Courier New',monospace\"></pre>\n"
      ],
      "text/plain": []
     },
     "metadata": {},
     "output_type": "display_data"
    }
   ],
   "source": [
    "recipes = hippo.Recipe.from_compounds(animal.compounds(tag=\"Syndirella scaffold\"), quoted_only=False, pick_cheapest=False)"
   ]
  },
  {
   "cell_type": "code",
   "execution_count": 30,
   "id": "f73a9118-78c8-4312-ab7f-e99f1acf69ff",
   "metadata": {},
   "outputs": [
    {
     "data": {
      "text/plain": [
       "576"
      ]
     },
     "execution_count": 30,
     "metadata": {},
     "output_type": "execute_result"
    }
   ],
   "source": [
    "len(recipes)"
   ]
  },
  {
   "cell_type": "code",
   "execution_count": 31,
   "id": "87460a3b-f714-4e9e-8a34-84f2ce40b619",
   "metadata": {
    "scrolled": true
   },
   "outputs": [
    {
     "data": {
      "text/html": [
       "<pre style=\"white-space:pre;overflow-x:auto;line-height:normal;font-family:Menlo,'DejaVu Sans Mono',consolas,'Courier New',monospace\"><span style=\"color: #808080; text-decoration-color: #808080\">DEBUG: Querying database for routes</span>\n",
       "</pre>\n"
      ],
      "text/plain": [
       "\u001b[90mDEBUG: Querying database for routes\u001b[0m\n"
      ]
     },
     "metadata": {},
     "output_type": "display_data"
    },
    {
     "data": {
      "text/html": [
       "<pre style=\"white-space:pre;overflow-x:auto;line-height:normal;font-family:Menlo,'DejaVu Sans Mono',consolas,'Courier New',monospace\"><span style=\"color: #808080; text-decoration-color: #808080\">DEBUG: Assembling route dictionary</span>\n",
       "</pre>\n"
      ],
      "text/plain": [
       "\u001b[90mDEBUG: Assembling route dictionary\u001b[0m\n"
      ]
     },
     "metadata": {},
     "output_type": "display_data"
    },
    {
     "data": {
      "text/html": [
       "<pre style=\"white-space:pre;overflow-x:auto;line-height:normal;font-family:Menlo,'DejaVu Sans Mono',consolas,'Courier New',monospace\"><span style=\"color: #808080; text-decoration-color: #808080\">DEBUG: Checking availability</span>\n",
       "</pre>\n"
      ],
      "text/plain": [
       "\u001b[90mDEBUG: Checking availability\u001b[0m\n"
      ]
     },
     "metadata": {},
     "output_type": "display_data"
    },
    {
     "data": {
      "application/vnd.jupyter.widget-view+json": {
       "model_id": "3b0dbafa51774cf79ef4e90da88e678f",
       "version_major": 2,
       "version_minor": 0
      },
      "text/plain": [
       "Output()"
      ]
     },
     "metadata": {},
     "output_type": "display_data"
    },
    {
     "data": {
      "text/html": [
       "<pre style=\"white-space:pre;overflow-x:auto;line-height:normal;font-family:Menlo,'DejaVu Sans Mono',consolas,'Courier New',monospace\"></pre>\n"
      ],
      "text/plain": []
     },
     "metadata": {},
     "output_type": "display_data"
    },
    {
     "data": {
      "text/html": [
       "<pre style=\"white-space:pre;overflow-x:auto;line-height:normal;font-family:Menlo,'DejaVu Sans Mono',consolas,'Courier New',monospace\"><span style=\"color: #800000; text-decoration-color: #800000\">╭─────────────────────────────── </span><span style=\"color: #800000; text-decoration-color: #800000; font-weight: bold\">Traceback </span><span style=\"color: #bf7f7f; text-decoration-color: #bf7f7f; font-weight: bold\">(most recent call last)</span><span style=\"color: #800000; text-decoration-color: #800000\"> ────────────────────────────────╮</span>\n",
       "<span style=\"color: #800000; text-decoration-color: #800000\">│</span> in <span style=\"color: #00ff00; text-decoration-color: #00ff00\">&lt;module&gt;</span>:<span style=\"color: #0000ff; text-decoration-color: #0000ff\">2</span>                                                                                    <span style=\"color: #800000; text-decoration-color: #800000\">│</span>\n",
       "<span style=\"color: #800000; text-decoration-color: #800000\">│</span>                                                                                                  <span style=\"color: #800000; text-decoration-color: #800000\">│</span>\n",
       "<span style=\"color: #800000; text-decoration-color: #800000\">│</span>   <span style=\"color: #7f7f7f; text-decoration-color: #7f7f7f\">1 </span><span style=\"color: #0000ff; text-decoration-color: #0000ff\">for</span> i,recipe <span style=\"color: #ff00ff; text-decoration-color: #ff00ff\">in</span> <span style=\"color: #00ffff; text-decoration-color: #00ffff\">enumerate</span>(recipes):                                                          <span style=\"color: #800000; text-decoration-color: #800000\">│</span>\n",
       "<span style=\"color: #800000; text-decoration-color: #800000\">│</span> <span style=\"color: #800000; text-decoration-color: #800000\">❱ </span>2 <span style=\"color: #7f7f7f; text-decoration-color: #7f7f7f\">│   </span>recipe.write_CAR_csv(<span style=\"color: #808000; text-decoration-color: #808000\">f\"all_scaffold_recipes/scaffold_Recipe_{</span>i<span style=\"color: #808000; text-decoration-color: #808000\">:03}.csv\"</span>)                 <span style=\"color: #800000; text-decoration-color: #800000\">│</span>\n",
       "<span style=\"color: #800000; text-decoration-color: #800000\">│</span>   <span style=\"color: #7f7f7f; text-decoration-color: #7f7f7f\">3 </span>                                                                                             <span style=\"color: #800000; text-decoration-color: #800000\">│</span>\n",
       "<span style=\"color: #800000; text-decoration-color: #800000\">│</span>                                                                                                  <span style=\"color: #800000; text-decoration-color: #800000\">│</span>\n",
       "<span style=\"color: #800000; text-decoration-color: #800000\">│</span> <span style=\"color: #808000; text-decoration-color: #808000\">╭─────────────────────────────────────────── locals ───────────────────────────────────────────╮</span> <span style=\"color: #800000; text-decoration-color: #800000\">│</span>\n",
       "<span style=\"color: #800000; text-decoration-color: #800000\">│</span> <span style=\"color: #808000; text-decoration-color: #808000\">│</span>      animal = <span style=\"color: #800080; text-decoration-color: #800080; font-weight: bold; text-decoration: underline\">HIPPO</span><span style=\"font-weight: bold; text-decoration: underline\">(</span><span style=\"color: #808000; text-decoration-color: #808000; font-weight: bold; text-decoration: underline\">\"2A_HIPPO\"</span><span style=\"font-weight: bold; text-decoration: underline\">)</span>                                                              <span style=\"color: #808000; text-decoration-color: #808000\">│</span> <span style=\"color: #800000; text-decoration-color: #800000\">│</span>\n",
       "<span style=\"color: #800000; text-decoration-color: #800000\">│</span> <span style=\"color: #808000; text-decoration-color: #808000\">│</span>           c = <span style=\"font-weight: bold\">&lt;</span><span style=\"color: #ff00ff; text-decoration-color: #ff00ff; font-weight: bold\">sqlite3.Cursor</span><span style=\"color: #000000; text-decoration-color: #000000\"> object at </span><span style=\"color: #0000ff; text-decoration-color: #0000ff\">0x7fc697908940</span><span style=\"font-weight: bold\">&gt;</span>                                      <span style=\"color: #808000; text-decoration-color: #808000\">│</span> <span style=\"color: #800000; text-decoration-color: #800000\">│</span>\n",
       "<span style=\"color: #800000; text-decoration-color: #800000\">│</span> <span style=\"color: #808000; text-decoration-color: #808000\">│</span>   catalogue = <span style=\"color: #800080; text-decoration-color: #800080; font-weight: bold; text-decoration: underline\">HIPPO</span><span style=\"font-weight: bold; text-decoration: underline\">(</span><span style=\"color: #808000; text-decoration-color: #808000; font-weight: bold; text-decoration: underline\">\"EnamineCatalogs\"</span><span style=\"font-weight: bold; text-decoration: underline\">)</span>                                                       <span style=\"color: #808000; text-decoration-color: #808000\">│</span> <span style=\"color: #800000; text-decoration-color: #800000\">│</span>\n",
       "<span style=\"color: #800000; text-decoration-color: #800000\">│</span> <span style=\"color: #808000; text-decoration-color: #808000\">│</span>        exit = <span style=\"font-weight: bold\">&lt;</span><span style=\"color: #ff00ff; text-decoration-color: #ff00ff; font-weight: bold\">IPython.core.autocall.ZMQExitAutocall</span><span style=\"color: #000000; text-decoration-color: #000000\"> object at </span><span style=\"color: #0000ff; text-decoration-color: #0000ff\">0x7fc697927790</span><span style=\"font-weight: bold\">&gt;</span>               <span style=\"color: #808000; text-decoration-color: #808000\">│</span> <span style=\"color: #800000; text-decoration-color: #800000\">│</span>\n",
       "<span style=\"color: #800000; text-decoration-color: #800000\">│</span> <span style=\"color: #808000; text-decoration-color: #808000\">│</span> get_ipython = <span style=\"font-weight: bold\">&lt;</span><span style=\"color: #ff00ff; text-decoration-color: #ff00ff; font-weight: bold\">bound</span><span style=\"color: #000000; text-decoration-color: #000000\"> method InteractiveShell.get_ipython of </span>                                 <span style=\"color: #808000; text-decoration-color: #808000\">│</span> <span style=\"color: #800000; text-decoration-color: #800000\">│</span>\n",
       "<span style=\"color: #800000; text-decoration-color: #800000\">│</span> <span style=\"color: #808000; text-decoration-color: #808000\">│</span>               <span style=\"color: #000000; text-decoration-color: #000000\">&lt;ipykernel.zmqshell.ZMQInteractiveShell object at </span><span style=\"color: #0000ff; text-decoration-color: #0000ff\">0x7fc697923290</span><span style=\"color: #000000; text-decoration-color: #000000\">&gt;</span><span style=\"font-weight: bold\">&gt;</span>             <span style=\"color: #808000; text-decoration-color: #808000\">│</span> <span style=\"color: #800000; text-decoration-color: #800000\">│</span>\n",
       "<span style=\"color: #800000; text-decoration-color: #800000\">│</span> <span style=\"color: #808000; text-decoration-color: #808000\">│</span>       hippo = <span style=\"font-weight: bold\">&lt;</span><span style=\"color: #ff00ff; text-decoration-color: #ff00ff; font-weight: bold\">module</span><span style=\"color: #000000; text-decoration-color: #000000\"> </span><span style=\"color: #808000; text-decoration-color: #808000\">'hippo'</span><span style=\"color: #000000; text-decoration-color: #000000\"> from </span><span style=\"color: #808000; text-decoration-color: #808000\">'/opt/xchem-fragalysis-2/maxwin/HIPPO/hippo/__init__.py'</span><span style=\"font-weight: bold\">&gt;</span> <span style=\"color: #808000; text-decoration-color: #808000\">│</span> <span style=\"color: #800000; text-decoration-color: #800000\">│</span>\n",
       "<span style=\"color: #800000; text-decoration-color: #800000\">│</span> <span style=\"color: #808000; text-decoration-color: #808000\">│</span>           i = <span style=\"color: #0000ff; text-decoration-color: #0000ff\">0</span>                                                                              <span style=\"color: #808000; text-decoration-color: #808000\">│</span> <span style=\"color: #800000; text-decoration-color: #800000\">│</span>\n",
       "<span style=\"color: #800000; text-decoration-color: #800000\">│</span> <span style=\"color: #808000; text-decoration-color: #808000\">│</span>          In = <span style=\"font-weight: bold\">[</span>                                                                              <span style=\"color: #808000; text-decoration-color: #808000\">│</span> <span style=\"color: #800000; text-decoration-color: #800000\">│</span>\n",
       "<span style=\"color: #800000; text-decoration-color: #800000\">│</span> <span style=\"color: #808000; text-decoration-color: #808000\">│</span>               <span style=\"color: #7f7f7f; text-decoration-color: #7f7f7f\">│   </span><span style=\"color: #808000; text-decoration-color: #808000\">''</span>,                                                                        <span style=\"color: #808000; text-decoration-color: #808000\">│</span> <span style=\"color: #800000; text-decoration-color: #800000\">│</span>\n",
       "<span style=\"color: #800000; text-decoration-color: #800000\">│</span> <span style=\"color: #808000; text-decoration-color: #808000\">│</span>               <span style=\"color: #7f7f7f; text-decoration-color: #7f7f7f\">│   </span><span style=\"color: #808000; text-decoration-color: #808000\">'animal = hippo.HIPPO</span><span style=\"color: #808000; text-decoration-color: #808000; font-weight: bold\">(</span><span style=\"color: #808000; text-decoration-color: #808000\">\"2A_HIPPO\", \"A71EV2A_4.sqlite\", </span>                     <span style=\"color: #808000; text-decoration-color: #808000\">│</span> <span style=\"color: #800000; text-decoration-color: #800000\">│</span>\n",
       "<span style=\"color: #800000; text-decoration-color: #800000\">│</span> <span style=\"color: #808000; text-decoration-color: #808000\">│</span>               <span style=\"color: #808000; text-decoration-color: #808000\">copy_from</span><span style=\"color: #808000; text-decoration-color: #808000\">=</span><span style=\"color: #808000; text-decoration-color: #808000\">\"A71EV2A_3</span><span style=\"color: #808000; text-decoration-color: #808000\">.sqlite'</span>+<span style=\"color: #0000ff; text-decoration-color: #0000ff\">2</span>,                                                <span style=\"color: #808000; text-decoration-color: #808000\">│</span> <span style=\"color: #800000; text-decoration-color: #800000\">│</span>\n",
       "<span style=\"color: #800000; text-decoration-color: #800000\">│</span> <span style=\"color: #808000; text-decoration-color: #808000\">│</span>               <span style=\"color: #7f7f7f; text-decoration-color: #7f7f7f\">│   </span><span style=\"color: #808000; text-decoration-color: #808000\">\"get_ipython</span><span style=\"color: #808000; text-decoration-color: #808000; font-weight: bold\">()</span><span style=\"color: #808000; text-decoration-color: #808000\">.run_line_magic</span><span style=\"color: #808000; text-decoration-color: #808000; font-weight: bold\">(</span><span style=\"color: #808000; text-decoration-color: #808000\">'load_ext', </span>                                 <span style=\"color: #808000; text-decoration-color: #808000\">│</span> <span style=\"color: #800000; text-decoration-color: #800000\">│</span>\n",
       "<span style=\"color: #800000; text-decoration-color: #800000\">│</span> <span style=\"color: #808000; text-decoration-color: #808000\">│</span>               <span style=\"color: #808000; text-decoration-color: #808000\">'autoreload'</span><span style=\"color: #808000; text-decoration-color: #808000; font-weight: bold\">)</span><span style=\"color: #808000; text-decoration-color: #808000\">\\nget_ipython</span><span style=\"color: #808000; text-decoration-color: #808000; font-weight: bold\">()</span><span style=\"color: #808000; text-decoration-color: #808000\">.run_line_ma\"</span>+<span style=\"color: #0000ff; text-decoration-color: #0000ff\">163</span>,                                 <span style=\"color: #808000; text-decoration-color: #808000\">│</span> <span style=\"color: #800000; text-decoration-color: #800000\">│</span>\n",
       "<span style=\"color: #800000; text-decoration-color: #800000\">│</span> <span style=\"color: #808000; text-decoration-color: #808000\">│</span>               <span style=\"color: #7f7f7f; text-decoration-color: #7f7f7f\">│   </span><span style=\"color: #808000; text-decoration-color: #808000\">'animal = hippo.HIPPO</span><span style=\"color: #808000; text-decoration-color: #808000; font-weight: bold\">(</span><span style=\"color: #808000; text-decoration-color: #808000\">\"2A_HIPPO\", \"A71EV2A_4.sqlite\", </span>                     <span style=\"color: #808000; text-decoration-color: #808000\">│</span> <span style=\"color: #800000; text-decoration-color: #800000\">│</span>\n",
       "<span style=\"color: #800000; text-decoration-color: #800000\">│</span> <span style=\"color: #808000; text-decoration-color: #808000\">│</span>               <span style=\"color: #808000; text-decoration-color: #808000\">copy_from</span><span style=\"color: #808000; text-decoration-color: #808000\">=</span><span style=\"color: #808000; text-decoration-color: #808000\">\"A71EV2A_3</span><span style=\"color: #808000; text-decoration-color: #808000\">.sqlite'</span>+<span style=\"color: #0000ff; text-decoration-color: #0000ff\">2</span>,                                                <span style=\"color: #808000; text-decoration-color: #808000\">│</span> <span style=\"color: #800000; text-decoration-color: #800000\">│</span>\n",
       "<span style=\"color: #800000; text-decoration-color: #800000\">│</span> <span style=\"color: #808000; text-decoration-color: #808000\">│</span>               <span style=\"color: #7f7f7f; text-decoration-color: #7f7f7f\">│   </span><span style=\"color: #808000; text-decoration-color: #808000\">'animal.db.backup</span><span style=\"color: #808000; text-decoration-color: #808000; font-weight: bold\">()</span><span style=\"color: #808000; text-decoration-color: #808000\">'</span>,                                                      <span style=\"color: #808000; text-decoration-color: #808000\">│</span> <span style=\"color: #800000; text-decoration-color: #800000\">│</span>\n",
       "<span style=\"color: #800000; text-decoration-color: #800000\">│</span> <span style=\"color: #808000; text-decoration-color: #808000\">│</span>               <span style=\"color: #7f7f7f; text-decoration-color: #7f7f7f\">│   </span><span style=\"color: #808000; text-decoration-color: #808000\">'animal.plot_reaction_funnel</span><span style=\"color: #808000; text-decoration-color: #808000; font-weight: bold\">()</span><span style=\"color: #808000; text-decoration-color: #808000\">'</span>,                                           <span style=\"color: #808000; text-decoration-color: #808000\">│</span> <span style=\"color: #800000; text-decoration-color: #800000\">│</span>\n",
       "<span style=\"color: #800000; text-decoration-color: #800000\">│</span> <span style=\"color: #808000; text-decoration-color: #808000\">│</span>               <span style=\"color: #7f7f7f; text-decoration-color: #7f7f7f\">│   </span><span style=\"color: #808000; text-decoration-color: #808000\">'animal.plot_reaction_funnel</span><span style=\"color: #808000; text-decoration-color: #808000; font-weight: bold\">(</span><span style=\"color: #808000; text-decoration-color: #808000\">logo</span><span style=\"color: #808000; text-decoration-color: #808000\">=</span><span style=\"color: #808000; text-decoration-color: #808000\">False</span><span style=\"color: #808000; text-decoration-color: #808000; font-weight: bold\">)</span><span style=\"color: #808000; text-decoration-color: #808000\">'</span>,                                 <span style=\"color: #808000; text-decoration-color: #808000\">│</span> <span style=\"color: #800000; text-decoration-color: #800000\">│</span>\n",
       "<span style=\"color: #800000; text-decoration-color: #800000\">│</span> <span style=\"color: #808000; text-decoration-color: #808000\">│</span>               <span style=\"color: #7f7f7f; text-decoration-color: #7f7f7f\">│   </span><span style=\"color: #808000; text-decoration-color: #808000\">'reactants = animal.reactants'</span>,                                            <span style=\"color: #808000; text-decoration-color: #808000\">│</span> <span style=\"color: #800000; text-decoration-color: #800000\">│</span>\n",
       "<span style=\"color: #800000; text-decoration-color: #800000\">│</span> <span style=\"color: #808000; text-decoration-color: #808000\">│</span>               <span style=\"color: #7f7f7f; text-decoration-color: #7f7f7f\">│   </span><span style=\"color: #808000; text-decoration-color: #808000\">'reactants = animal.reactants\\nreactants'</span>,                                 <span style=\"color: #808000; text-decoration-color: #808000\">│</span> <span style=\"color: #800000; text-decoration-color: #800000\">│</span>\n",
       "<span style=\"color: #800000; text-decoration-color: #800000\">│</span> <span style=\"color: #808000; text-decoration-color: #808000\">│</span>               <span style=\"color: #7f7f7f; text-decoration-color: #7f7f7f\">│   </span><span style=\"color: #808000; text-decoration-color: #808000\">'catalogue = hippo.HIPPO</span><span style=\"color: #808000; text-decoration-color: #808000; font-weight: bold\">(</span><span style=\"color: #808000; text-decoration-color: #808000\">\"EnamineCatalogs\", </span>                               <span style=\"color: #808000; text-decoration-color: #808000\">│</span> <span style=\"color: #800000; text-decoration-color: #800000\">│</span>\n",
       "<span style=\"color: #800000; text-decoration-color: #800000\">│</span> <span style=\"color: #808000; text-decoration-color: #808000\">│</span>               <span style=\"color: #808000; text-decoration-color: #808000\">\"/opt/xchem-fragalysis-2/EnamineCatal'</span>+<span style=\"color: #0000ff; text-decoration-color: #0000ff\">29</span>,                                     <span style=\"color: #808000; text-decoration-color: #808000\">│</span> <span style=\"color: #800000; text-decoration-color: #800000\">│</span>\n",
       "<span style=\"color: #800000; text-decoration-color: #800000\">│</span> <span style=\"color: #808000; text-decoration-color: #808000\">│</span>               <span style=\"color: #7f7f7f; text-decoration-color: #7f7f7f\">│   </span><span style=\"color: #808000; text-decoration-color: #808000\">...</span> +<span style=\"color: #0000ff; text-decoration-color: #0000ff\">22</span>                                                                    <span style=\"color: #808000; text-decoration-color: #808000\">│</span> <span style=\"color: #800000; text-decoration-color: #800000\">│</span>\n",
       "<span style=\"color: #800000; text-decoration-color: #800000\">│</span> <span style=\"color: #808000; text-decoration-color: #808000\">│</span>               <span style=\"font-weight: bold\">]</span>                                                                              <span style=\"color: #808000; text-decoration-color: #808000\">│</span> <span style=\"color: #800000; text-decoration-color: #800000\">│</span>\n",
       "<span style=\"color: #800000; text-decoration-color: #800000\">│</span> <span style=\"color: #808000; text-decoration-color: #808000\">│</span>   inchikeys = <span style=\"font-weight: bold\">[</span>                                                                              <span style=\"color: #808000; text-decoration-color: #808000\">│</span> <span style=\"color: #800000; text-decoration-color: #800000\">│</span>\n",
       "<span style=\"color: #800000; text-decoration-color: #800000\">│</span> <span style=\"color: #808000; text-decoration-color: #808000\">│</span>               <span style=\"color: #7f7f7f; text-decoration-color: #7f7f7f\">│   </span><span style=\"color: #808000; text-decoration-color: #808000\">'ZFLKDMGBVZHBAC-UHFFFAOYSA-N'</span>,                                             <span style=\"color: #808000; text-decoration-color: #808000\">│</span> <span style=\"color: #800000; text-decoration-color: #800000\">│</span>\n",
       "<span style=\"color: #800000; text-decoration-color: #800000\">│</span> <span style=\"color: #808000; text-decoration-color: #808000\">│</span>               <span style=\"color: #7f7f7f; text-decoration-color: #7f7f7f\">│   </span><span style=\"color: #808000; text-decoration-color: #808000\">'YMSMEZAYZIYFGA-UHFFFAOYSA-N'</span>,                                             <span style=\"color: #808000; text-decoration-color: #808000\">│</span> <span style=\"color: #800000; text-decoration-color: #800000\">│</span>\n",
       "<span style=\"color: #800000; text-decoration-color: #800000\">│</span> <span style=\"color: #808000; text-decoration-color: #808000\">│</span>               <span style=\"color: #7f7f7f; text-decoration-color: #7f7f7f\">│   </span><span style=\"color: #808000; text-decoration-color: #808000\">'JFGXRDGYMLGBBB-UHFFFAOYSA-N'</span>,                                             <span style=\"color: #808000; text-decoration-color: #808000\">│</span> <span style=\"color: #800000; text-decoration-color: #800000\">│</span>\n",
       "<span style=\"color: #800000; text-decoration-color: #800000\">│</span> <span style=\"color: #808000; text-decoration-color: #808000\">│</span>               <span style=\"color: #7f7f7f; text-decoration-color: #7f7f7f\">│   </span><span style=\"color: #808000; text-decoration-color: #808000\">'QTEBJBNJJATETR-UHFFFAOYSA-N'</span>,                                             <span style=\"color: #808000; text-decoration-color: #808000\">│</span> <span style=\"color: #800000; text-decoration-color: #800000\">│</span>\n",
       "<span style=\"color: #800000; text-decoration-color: #800000\">│</span> <span style=\"color: #808000; text-decoration-color: #808000\">│</span>               <span style=\"color: #7f7f7f; text-decoration-color: #7f7f7f\">│   </span><span style=\"color: #808000; text-decoration-color: #808000\">'DLFVBJFMPXGRIB-UHFFFAOYSA-N'</span>,                                             <span style=\"color: #808000; text-decoration-color: #808000\">│</span> <span style=\"color: #800000; text-decoration-color: #800000\">│</span>\n",
       "<span style=\"color: #800000; text-decoration-color: #800000\">│</span> <span style=\"color: #808000; text-decoration-color: #808000\">│</span>               <span style=\"color: #7f7f7f; text-decoration-color: #7f7f7f\">│   </span><span style=\"color: #808000; text-decoration-color: #808000\">'XFFSBSNRWOVMFS-UHFFFAOYSA-N'</span>,                                             <span style=\"color: #808000; text-decoration-color: #808000\">│</span> <span style=\"color: #800000; text-decoration-color: #800000\">│</span>\n",
       "<span style=\"color: #800000; text-decoration-color: #800000\">│</span> <span style=\"color: #808000; text-decoration-color: #808000\">│</span>               <span style=\"color: #7f7f7f; text-decoration-color: #7f7f7f\">│   </span><span style=\"color: #808000; text-decoration-color: #808000\">'FOCAUTSVDIKZOP-UHFFFAOYSA-N'</span>,                                             <span style=\"color: #808000; text-decoration-color: #808000\">│</span> <span style=\"color: #800000; text-decoration-color: #800000\">│</span>\n",
       "<span style=\"color: #800000; text-decoration-color: #800000\">│</span> <span style=\"color: #808000; text-decoration-color: #808000\">│</span>               <span style=\"color: #7f7f7f; text-decoration-color: #7f7f7f\">│   </span><span style=\"color: #808000; text-decoration-color: #808000\">'TZGPACAKMCUCKX-UHFFFAOYSA-N'</span>,                                             <span style=\"color: #808000; text-decoration-color: #808000\">│</span> <span style=\"color: #800000; text-decoration-color: #800000\">│</span>\n",
       "<span style=\"color: #800000; text-decoration-color: #800000\">│</span> <span style=\"color: #808000; text-decoration-color: #808000\">│</span>               <span style=\"color: #7f7f7f; text-decoration-color: #7f7f7f\">│   </span><span style=\"color: #808000; text-decoration-color: #808000\">'GYXHHICIFZSKKZ-UHFFFAOYSA-N'</span>,                                             <span style=\"color: #808000; text-decoration-color: #808000\">│</span> <span style=\"color: #800000; text-decoration-color: #800000\">│</span>\n",
       "<span style=\"color: #800000; text-decoration-color: #800000\">│</span> <span style=\"color: #808000; text-decoration-color: #808000\">│</span>               <span style=\"color: #7f7f7f; text-decoration-color: #7f7f7f\">│   </span><span style=\"color: #808000; text-decoration-color: #808000\">'JBIKZDFUXGHTHD-UHFFFAOYSA-N'</span>,                                             <span style=\"color: #808000; text-decoration-color: #808000\">│</span> <span style=\"color: #800000; text-decoration-color: #800000\">│</span>\n",
       "<span style=\"color: #800000; text-decoration-color: #800000\">│</span> <span style=\"color: #808000; text-decoration-color: #808000\">│</span>               <span style=\"color: #7f7f7f; text-decoration-color: #7f7f7f\">│   </span><span style=\"color: #808000; text-decoration-color: #808000\">...</span> +<span style=\"color: #0000ff; text-decoration-color: #0000ff\">5671</span>                                                                  <span style=\"color: #808000; text-decoration-color: #808000\">│</span> <span style=\"color: #800000; text-decoration-color: #800000\">│</span>\n",
       "<span style=\"color: #800000; text-decoration-color: #800000\">│</span> <span style=\"color: #808000; text-decoration-color: #808000\">│</span>               <span style=\"font-weight: bold\">]</span>                                                                              <span style=\"color: #808000; text-decoration-color: #808000\">│</span> <span style=\"color: #800000; text-decoration-color: #800000\">│</span>\n",
       "<span style=\"color: #800000; text-decoration-color: #800000\">│</span> <span style=\"color: #808000; text-decoration-color: #808000\">│</span>       mrich = <span style=\"font-weight: bold\">&lt;</span><span style=\"color: #ff00ff; text-decoration-color: #ff00ff; font-weight: bold\">module</span><span style=\"color: #000000; text-decoration-color: #000000\"> </span><span style=\"color: #808000; text-decoration-color: #808000\">'mrich'</span><span style=\"color: #000000; text-decoration-color: #000000\"> from </span>                                                          <span style=\"color: #808000; text-decoration-color: #808000\">│</span> <span style=\"color: #800000; text-decoration-color: #800000\">│</span>\n",
       "<span style=\"color: #800000; text-decoration-color: #800000\">│</span> <span style=\"color: #808000; text-decoration-color: #808000\">│</span>               <span style=\"color: #808000; text-decoration-color: #808000\">'/opt/xchem-fragalysis-2/maxwin/conda_slurm/lib/python3.11/site-packages/mric…</span> <span style=\"color: #808000; text-decoration-color: #808000\">│</span> <span style=\"color: #800000; text-decoration-color: #800000\">│</span>\n",
       "<span style=\"color: #800000; text-decoration-color: #800000\">│</span> <span style=\"color: #808000; text-decoration-color: #808000\">│</span>        open = <span style=\"font-weight: bold\">&lt;</span><span style=\"color: #ff00ff; text-decoration-color: #ff00ff; font-weight: bold\">function</span><span style=\"color: #000000; text-decoration-color: #000000\"> open at </span><span style=\"color: #0000ff; text-decoration-color: #0000ff\">0x7fc698a0ea20</span><span style=\"font-weight: bold\">&gt;</span>                                              <span style=\"color: #808000; text-decoration-color: #808000\">│</span> <span style=\"color: #800000; text-decoration-color: #800000\">│</span>\n",
       "<span style=\"color: #800000; text-decoration-color: #800000\">│</span> <span style=\"color: #808000; text-decoration-color: #808000\">│</span>         Out = <span style=\"font-weight: bold\">{</span>                                                                              <span style=\"color: #808000; text-decoration-color: #808000\">│</span> <span style=\"color: #800000; text-decoration-color: #800000\">│</span>\n",
       "<span style=\"color: #800000; text-decoration-color: #800000\">│</span> <span style=\"color: #808000; text-decoration-color: #808000\">│</span>               <span style=\"color: #7f7f7f; text-decoration-color: #7f7f7f\">│   </span><span style=\"color: #0000ff; text-decoration-color: #0000ff\">5</span>: <span style=\"color: #800080; text-decoration-color: #800080; font-weight: bold\">Figure</span><span style=\"font-weight: bold\">({</span>                                                                <span style=\"color: #808000; text-decoration-color: #808000\">│</span> <span style=\"color: #800000; text-decoration-color: #800000\">│</span>\n",
       "<span style=\"color: #800000; text-decoration-color: #800000\">│</span> <span style=\"color: #808000; text-decoration-color: #808000\">│</span>               <span style=\"color: #7f7f7f; text-decoration-color: #7f7f7f\">│   </span><span style=\"color: #808000; text-decoration-color: #808000\">'data'</span>: <span style=\"font-weight: bold\">[{</span><span style=\"color: #808000; text-decoration-color: #808000\">'hovertemplate'</span>: <span style=\"color: #808000; text-decoration-color: #808000\">'</span><span style=\"color: #808000; text-decoration-color: #808000\">category</span><span style=\"color: #808000; text-decoration-color: #808000\">=%</span><span style=\"color: #808000; text-decoration-color: #808000; font-weight: bold\">{</span><span style=\"color: #808000; text-decoration-color: #808000\">x</span><span style=\"color: #808000; text-decoration-color: #808000; font-weight: bold\">}&lt;br</span><span style=\"color: #808000; text-decoration-color: #808000\">&gt;</span><span style=\"color: #808000; text-decoration-color: #808000\">number</span><span style=\"color: #808000; text-decoration-color: #808000\">=%</span><span style=\"color: #808000; text-decoration-color: #808000; font-weight: bold\">{</span><span style=\"color: #808000; text-decoration-color: #808000\">y</span><span style=\"color: #808000; text-decoration-color: #808000; font-weight: bold\">}</span><span style=\"color: #808000; text-decoration-color: #808000\">&lt;extra&gt;&lt;/extra&gt;'</span><span style=\"color: #000000; text-decoration-color: #000000\">,</span>  <span style=\"color: #808000; text-decoration-color: #808000\">│</span> <span style=\"color: #800000; text-decoration-color: #800000\">│</span>\n",
       "<span style=\"color: #800000; text-decoration-color: #800000\">│</span> <span style=\"color: #808000; text-decoration-color: #808000\">│</span>               <span style=\"color: #7f7f7f; text-decoration-color: #7f7f7f\">│   │   │     </span><span style=\"color: #808000; text-decoration-color: #808000\">'legendgroup'</span><span style=\"color: #000000; text-decoration-color: #000000\">: </span><span style=\"color: #808000; text-decoration-color: #808000\">''</span><span style=\"color: #000000; text-decoration-color: #000000\">,</span>                                               <span style=\"color: #808000; text-decoration-color: #808000\">│</span> <span style=\"color: #800000; text-decoration-color: #800000\">│</span>\n",
       "<span style=\"color: #800000; text-decoration-color: #800000\">│</span> <span style=\"color: #808000; text-decoration-color: #808000\">│</span>               <span style=\"color: #7f7f7f; text-decoration-color: #7f7f7f\">│   │   │     </span><span style=\"color: #808000; text-decoration-color: #808000\">'marker'</span><span style=\"color: #000000; text-decoration-color: #000000\">: </span><span style=\"color: #000000; text-decoration-color: #000000; font-weight: bold\">{</span><span style=\"color: #808000; text-decoration-color: #808000\">'color'</span><span style=\"color: #000000; text-decoration-color: #000000\">: </span><span style=\"color: #808000; text-decoration-color: #808000\">'#636efa'</span><span style=\"color: #000000; text-decoration-color: #000000; font-weight: bold\">}</span><span style=\"color: #000000; text-decoration-color: #000000\">,</span>                                  <span style=\"color: #808000; text-decoration-color: #808000\">│</span> <span style=\"color: #800000; text-decoration-color: #800000\">│</span>\n",
       "<span style=\"color: #800000; text-decoration-color: #800000\">│</span> <span style=\"color: #808000; text-decoration-color: #808000\">│</span>               <span style=\"color: #7f7f7f; text-decoration-color: #7f7f7f\">│   │   │     </span><span style=\"color: #808000; text-decoration-color: #808000\">'name'</span><span style=\"color: #000000; text-decoration-color: #000000\">: </span><span style=\"color: #808000; text-decoration-color: #808000\">''</span><span style=\"color: #000000; text-decoration-color: #000000\">,</span>                                                      <span style=\"color: #808000; text-decoration-color: #808000\">│</span> <span style=\"color: #800000; text-decoration-color: #800000\">│</span>\n",
       "<span style=\"color: #800000; text-decoration-color: #800000\">│</span> <span style=\"color: #808000; text-decoration-color: #808000\">│</span>               <span style=\"color: #7f7f7f; text-decoration-color: #7f7f7f\">│   │   │     </span><span style=\"color: #808000; text-decoration-color: #808000\">'orientation'</span><span style=\"color: #000000; text-decoration-color: #000000\">: </span><span style=\"color: #808000; text-decoration-color: #808000\">'v'</span><span style=\"color: #000000; text-decoration-color: #000000\">,</span>                                              <span style=\"color: #808000; text-decoration-color: #808000\">│</span> <span style=\"color: #800000; text-decoration-color: #800000\">│</span>\n",
       "<span style=\"color: #800000; text-decoration-color: #800000\">│</span> <span style=\"color: #808000; text-decoration-color: #808000\">│</span>               <span style=\"color: #7f7f7f; text-decoration-color: #7f7f7f\">│   │   │     </span><span style=\"color: #808000; text-decoration-color: #808000\">'showlegend'</span><span style=\"color: #000000; text-decoration-color: #000000\">: </span><span style=\"color: #0000ff; text-decoration-color: #0000ff\">False</span><span style=\"color: #000000; text-decoration-color: #000000\">,</span>                                             <span style=\"color: #808000; text-decoration-color: #808000\">│</span> <span style=\"color: #800000; text-decoration-color: #800000\">│</span>\n",
       "<span style=\"color: #800000; text-decoration-color: #800000\">│</span> <span style=\"color: #808000; text-decoration-color: #808000\">│</span>               <span style=\"color: #7f7f7f; text-decoration-color: #7f7f7f\">│   │   │     </span><span style=\"color: #808000; text-decoration-color: #808000\">'type'</span><span style=\"color: #000000; text-decoration-color: #000000\">: </span><span style=\"color: #808000; text-decoration-color: #808000\">'funnel'</span><span style=\"color: #000000; text-decoration-color: #000000\">,</span>                                                <span style=\"color: #808000; text-decoration-color: #808000\">│</span> <span style=\"color: #800000; text-decoration-color: #800000\">│</span>\n",
       "<span style=\"color: #800000; text-decoration-color: #800000\">│</span> <span style=\"color: #808000; text-decoration-color: #808000\">│</span>               <span style=\"color: #7f7f7f; text-decoration-color: #7f7f7f\">│   │   │     </span><span style=\"color: #808000; text-decoration-color: #808000\">'x'</span><span style=\"color: #000000; text-decoration-color: #000000\">: </span><span style=\"color: #800080; text-decoration-color: #800080; font-weight: bold\">array</span><span style=\"color: #000000; text-decoration-color: #000000; font-weight: bold\">([</span><span style=\"color: #808000; text-decoration-color: #808000\">'Reactants'</span><span style=\"color: #000000; text-decoration-color: #000000\">, </span><span style=\"color: #808000; text-decoration-color: #808000\">'Intermediates'</span><span style=\"color: #000000; text-decoration-color: #000000\">, </span><span style=\"color: #808000; text-decoration-color: #808000\">'Products'</span><span style=\"color: #000000; text-decoration-color: #000000; font-weight: bold\">]</span><span style=\"color: #000000; text-decoration-color: #000000\">, </span>          <span style=\"color: #808000; text-decoration-color: #808000\">│</span> <span style=\"color: #800000; text-decoration-color: #800000\">│</span>\n",
       "<span style=\"color: #800000; text-decoration-color: #800000\">│</span> <span style=\"color: #808000; text-decoration-color: #808000\">│</span>               <span style=\"color: #808000; text-decoration-color: #808000\">dtype</span><span style=\"color: #000000; text-decoration-color: #000000\">=</span><span style=\"color: #800080; text-decoration-color: #800080\">object</span><span style=\"color: #000000; text-decoration-color: #000000; font-weight: bold\">)</span><span style=\"color: #000000; text-decoration-color: #000000\">,</span>                                                                 <span style=\"color: #808000; text-decoration-color: #808000\">│</span> <span style=\"color: #800000; text-decoration-color: #800000\">│</span>\n",
       "<span style=\"color: #800000; text-decoration-color: #800000\">│</span> <span style=\"color: #808000; text-decoration-color: #808000\">│</span>               <span style=\"color: #7f7f7f; text-decoration-color: #7f7f7f\">│   │   │     </span><span style=\"color: #808000; text-decoration-color: #808000\">'xaxis'</span><span style=\"color: #000000; text-decoration-color: #000000\">: </span><span style=\"color: #808000; text-decoration-color: #808000\">'x'</span><span style=\"color: #000000; text-decoration-color: #000000\">,</span>                                                    <span style=\"color: #808000; text-decoration-color: #808000\">│</span> <span style=\"color: #800000; text-decoration-color: #800000\">│</span>\n",
       "<span style=\"color: #800000; text-decoration-color: #800000\">│</span> <span style=\"color: #808000; text-decoration-color: #808000\">│</span>               <span style=\"color: #7f7f7f; text-decoration-color: #7f7f7f\">│   │   │     </span><span style=\"color: #808000; text-decoration-color: #808000\">'y'</span><span style=\"color: #000000; text-decoration-color: #000000\">: </span><span style=\"color: #800080; text-decoration-color: #800080; font-weight: bold\">array</span><span style=\"color: #000000; text-decoration-color: #000000; font-weight: bold\">([</span><span style=\"color: #000000; text-decoration-color: #000000\">  </span><span style=\"color: #0000ff; text-decoration-color: #0000ff\">5681</span><span style=\"color: #000000; text-decoration-color: #000000\">,   </span><span style=\"color: #0000ff; text-decoration-color: #0000ff\">5411</span><span style=\"color: #000000; text-decoration-color: #000000\">, </span><span style=\"color: #0000ff; text-decoration-color: #0000ff\">110970</span><span style=\"color: #000000; text-decoration-color: #000000; font-weight: bold\">])</span><span style=\"color: #000000; text-decoration-color: #000000\">,</span>                            <span style=\"color: #808000; text-decoration-color: #808000\">│</span> <span style=\"color: #800000; text-decoration-color: #800000\">│</span>\n",
       "<span style=\"color: #800000; text-decoration-color: #800000\">│</span> <span style=\"color: #808000; text-decoration-color: #808000\">│</span>               <span style=\"color: #7f7f7f; text-decoration-color: #7f7f7f\">│   │   │     </span><span style=\"color: #808000; text-decoration-color: #808000\">'yaxis'</span><span style=\"color: #000000; text-decoration-color: #000000\">: </span><span style=\"color: #808000; text-decoration-color: #808000\">'y'</span><span style=\"color: #000000; text-decoration-color: #000000; font-weight: bold\">}]</span><span style=\"color: #000000; text-decoration-color: #000000\">,</span>                                                  <span style=\"color: #808000; text-decoration-color: #808000\">│</span> <span style=\"color: #800000; text-decoration-color: #800000\">│</span>\n",
       "<span style=\"color: #800000; text-decoration-color: #800000\">│</span> <span style=\"color: #808000; text-decoration-color: #808000\">│</span>               <span style=\"color: #7f7f7f; text-decoration-color: #7f7f7f\">│   </span><span style=\"color: #808000; text-decoration-color: #808000\">'layout'</span><span style=\"color: #000000; text-decoration-color: #000000\">: </span><span style=\"color: #000000; text-decoration-color: #000000; font-weight: bold\">{</span><span style=\"color: #808000; text-decoration-color: #808000\">'images'</span><span style=\"color: #000000; text-decoration-color: #000000\">: </span><span style=\"color: #000000; text-decoration-color: #000000; font-weight: bold\">[{</span><span style=\"color: #808000; text-decoration-color: #808000\">'sizex'</span><span style=\"color: #000000; text-decoration-color: #000000\">: </span><span style=\"color: #0000ff; text-decoration-color: #0000ff\">0.3</span><span style=\"color: #000000; text-decoration-color: #000000\">,</span>                                       <span style=\"color: #808000; text-decoration-color: #808000\">│</span> <span style=\"color: #800000; text-decoration-color: #800000\">│</span>\n",
       "<span style=\"color: #800000; text-decoration-color: #800000\">│</span> <span style=\"color: #808000; text-decoration-color: #808000\">│</span>               <span style=\"color: #7f7f7f; text-decoration-color: #7f7f7f\">│   │   │   │   │   │      </span><span style=\"color: #808000; text-decoration-color: #808000\">'sizey'</span><span style=\"color: #000000; text-decoration-color: #000000\">: </span><span style=\"color: #0000ff; text-decoration-color: #0000ff\">0.3</span><span style=\"color: #000000; text-decoration-color: #000000\">,</span>                                       <span style=\"color: #808000; text-decoration-color: #808000\">│</span> <span style=\"color: #800000; text-decoration-color: #800000\">│</span>\n",
       "<span style=\"color: #800000; text-decoration-color: #800000\">│</span> <span style=\"color: #808000; text-decoration-color: #808000\">│</span>               <span style=\"color: #7f7f7f; text-decoration-color: #7f7f7f\">│   │   │   │   │   │      </span><span style=\"color: #808000; text-decoration-color: #808000\">'source'</span><span style=\"color: #000000; text-decoration-color: #000000\">: </span><span style=\"color: #000000; text-decoration-color: #000000; font-weight: bold\">(</span><span style=\"color: #808000; text-decoration-color: #808000\">'https://raw.githubusercontent.'</span><span style=\"color: #000000; text-decoration-color: #000000\"> </span><span style=\"color: #808000; text-decoration-color: #808000\">...</span><span style=\"color: #000000; text-decoration-color: #000000\"> </span>    <span style=\"color: #808000; text-decoration-color: #808000\">│</span> <span style=\"color: #800000; text-decoration-color: #800000\">│</span>\n",
       "<span style=\"color: #800000; text-decoration-color: #800000\">│</span> <span style=\"color: #808000; text-decoration-color: #808000\">│</span>               <span style=\"color: #808000; text-decoration-color: #808000\">'logos/hippo_logo_tightcrop.png'</span><span style=\"color: #000000; text-decoration-color: #000000; font-weight: bold\">)</span><span style=\"color: #000000; text-decoration-color: #000000\">,</span>                                             <span style=\"color: #808000; text-decoration-color: #808000\">│</span> <span style=\"color: #800000; text-decoration-color: #800000\">│</span>\n",
       "<span style=\"color: #800000; text-decoration-color: #800000\">│</span> <span style=\"color: #808000; text-decoration-color: #808000\">│</span>               <span style=\"color: #7f7f7f; text-decoration-color: #7f7f7f\">│   │   │   │   │   │      </span><span style=\"color: #808000; text-decoration-color: #808000\">'x'</span><span style=\"color: #000000; text-decoration-color: #000000\">: </span><span style=\"color: #0000ff; text-decoration-color: #0000ff\">0.95</span><span style=\"color: #000000; text-decoration-color: #000000\">,</span>                                          <span style=\"color: #808000; text-decoration-color: #808000\">│</span> <span style=\"color: #800000; text-decoration-color: #800000\">│</span>\n",
       "<span style=\"color: #800000; text-decoration-color: #800000\">│</span> <span style=\"color: #808000; text-decoration-color: #808000\">│</span>               <span style=\"color: #7f7f7f; text-decoration-color: #7f7f7f\">│   │   │   │   │   │      </span><span style=\"color: #808000; text-decoration-color: #808000\">'xanchor'</span><span style=\"color: #000000; text-decoration-color: #000000\">: </span><span style=\"color: #808000; text-decoration-color: #808000\">'right'</span><span style=\"color: #000000; text-decoration-color: #000000\">,</span>                                 <span style=\"color: #808000; text-decoration-color: #808000\">│</span> <span style=\"color: #800000; text-decoration-color: #800000\">│</span>\n",
       "<span style=\"color: #800000; text-decoration-color: #800000\">│</span> <span style=\"color: #808000; text-decoration-color: #808000\">│</span>               <span style=\"color: #7f7f7f; text-decoration-color: #7f7f7f\">│   │   │   │   │   │      </span><span style=\"color: #808000; text-decoration-color: #808000\">'xref'</span><span style=\"color: #000000; text-decoration-color: #000000\">: </span><span style=\"color: #808000; text-decoration-color: #808000\">'paper'</span><span style=\"color: #000000; text-decoration-color: #000000\">,</span>                                    <span style=\"color: #808000; text-decoration-color: #808000\">│</span> <span style=\"color: #800000; text-decoration-color: #800000\">│</span>\n",
       "<span style=\"color: #800000; text-decoration-color: #800000\">│</span> <span style=\"color: #808000; text-decoration-color: #808000\">│</span>               <span style=\"color: #7f7f7f; text-decoration-color: #7f7f7f\">│   │   │   │   │   │      </span><span style=\"color: #808000; text-decoration-color: #808000\">'y'</span><span style=\"color: #000000; text-decoration-color: #000000\">: </span><span style=\"color: #0000ff; text-decoration-color: #0000ff\">0.95</span><span style=\"color: #000000; text-decoration-color: #000000\">,</span>                                          <span style=\"color: #808000; text-decoration-color: #808000\">│</span> <span style=\"color: #800000; text-decoration-color: #800000\">│</span>\n",
       "<span style=\"color: #800000; text-decoration-color: #800000\">│</span> <span style=\"color: #808000; text-decoration-color: #808000\">│</span>               <span style=\"color: #7f7f7f; text-decoration-color: #7f7f7f\">│   │   │   │   │   │      </span><span style=\"color: #808000; text-decoration-color: #808000\">'yanchor'</span><span style=\"color: #000000; text-decoration-color: #000000\">: </span><span style=\"color: #808000; text-decoration-color: #808000\">'top'</span><span style=\"color: #000000; text-decoration-color: #000000\">,</span>                                   <span style=\"color: #808000; text-decoration-color: #808000\">│</span> <span style=\"color: #800000; text-decoration-color: #800000\">│</span>\n",
       "<span style=\"color: #800000; text-decoration-color: #800000\">│</span> <span style=\"color: #808000; text-decoration-color: #808000\">│</span>               <span style=\"color: #7f7f7f; text-decoration-color: #7f7f7f\">│   │   │   │   │   │      </span><span style=\"color: #808000; text-decoration-color: #808000\">'yref'</span><span style=\"color: #000000; text-decoration-color: #000000\">: </span><span style=\"color: #808000; text-decoration-color: #808000\">'paper'</span><span style=\"color: #000000; text-decoration-color: #000000; font-weight: bold\">}]</span><span style=\"color: #000000; text-decoration-color: #000000\">,</span>                                  <span style=\"color: #808000; text-decoration-color: #808000\">│</span> <span style=\"color: #800000; text-decoration-color: #800000\">│</span>\n",
       "<span style=\"color: #800000; text-decoration-color: #800000\">│</span> <span style=\"color: #808000; text-decoration-color: #808000\">│</span>               <span style=\"color: #7f7f7f; text-decoration-color: #7f7f7f\">│   │   │      </span><span style=\"color: #808000; text-decoration-color: #808000\">'legend'</span><span style=\"color: #000000; text-decoration-color: #000000\">: </span><span style=\"color: #000000; text-decoration-color: #000000; font-weight: bold\">{</span><span style=\"color: #808000; text-decoration-color: #808000\">'tracegroupgap'</span><span style=\"color: #000000; text-decoration-color: #000000\">: </span><span style=\"color: #0000ff; text-decoration-color: #0000ff\">0</span><span style=\"color: #000000; text-decoration-color: #000000; font-weight: bold\">}</span><span style=\"color: #000000; text-decoration-color: #000000\">,</span>                                 <span style=\"color: #808000; text-decoration-color: #808000\">│</span> <span style=\"color: #800000; text-decoration-color: #800000\">│</span>\n",
       "<span style=\"color: #800000; text-decoration-color: #800000\">│</span> <span style=\"color: #808000; text-decoration-color: #808000\">│</span>               <span style=\"color: #7f7f7f; text-decoration-color: #7f7f7f\">│   │   │      </span><span style=\"color: #808000; text-decoration-color: #808000\">'margin'</span><span style=\"color: #000000; text-decoration-color: #000000\">: </span><span style=\"color: #000000; text-decoration-color: #000000; font-weight: bold\">{</span><span style=\"color: #808000; text-decoration-color: #808000\">'t'</span><span style=\"color: #000000; text-decoration-color: #000000\">: </span><span style=\"color: #0000ff; text-decoration-color: #0000ff\">60</span><span style=\"color: #000000; text-decoration-color: #000000; font-weight: bold\">}</span><span style=\"color: #000000; text-decoration-color: #000000\">,</span>                                            <span style=\"color: #808000; text-decoration-color: #808000\">│</span> <span style=\"color: #800000; text-decoration-color: #800000\">│</span>\n",
       "<span style=\"color: #800000; text-decoration-color: #800000\">│</span> <span style=\"color: #808000; text-decoration-color: #808000\">│</span>               <span style=\"color: #7f7f7f; text-decoration-color: #7f7f7f\">│   │   │      </span><span style=\"color: #808000; text-decoration-color: #808000\">'template'</span><span style=\"color: #000000; text-decoration-color: #000000\">: </span><span style=\"color: #808000; text-decoration-color: #808000\">'...'</span><span style=\"color: #000000; text-decoration-color: #000000\">,</span>                                              <span style=\"color: #808000; text-decoration-color: #808000\">│</span> <span style=\"color: #800000; text-decoration-color: #800000\">│</span>\n",
       "<span style=\"color: #800000; text-decoration-color: #800000\">│</span> <span style=\"color: #808000; text-decoration-color: #808000\">│</span>               <span style=\"color: #7f7f7f; text-decoration-color: #7f7f7f\">│   │   │      </span><span style=\"color: #808000; text-decoration-color: #808000\">'title'</span><span style=\"color: #000000; text-decoration-color: #000000\">: </span><span style=\"color: #000000; text-decoration-color: #000000; font-weight: bold\">{</span><span style=\"color: #808000; text-decoration-color: #808000\">'automargin'</span><span style=\"color: #000000; text-decoration-color: #000000\">: </span><span style=\"color: #0000ff; text-decoration-color: #0000ff\">False</span><span style=\"color: #000000; text-decoration-color: #000000\">, </span><span style=\"color: #808000; text-decoration-color: #808000\">'text'</span><span style=\"color: #000000; text-decoration-color: #000000\">: </span><span style=\"color: #808000; text-decoration-color: #808000\">'&lt;b&gt;2A_HIPPO&lt;/b&gt;: </span>       <span style=\"color: #808000; text-decoration-color: #808000\">│</span> <span style=\"color: #800000; text-decoration-color: #800000\">│</span>\n",
       "<span style=\"color: #800000; text-decoration-color: #800000\">│</span> <span style=\"color: #808000; text-decoration-color: #808000\">│</span>               <span style=\"color: #808000; text-decoration-color: #808000\">Reaction statistics'</span><span style=\"color: #000000; text-decoration-color: #000000\">, </span><span style=\"color: #808000; text-decoration-color: #808000\">'yref'</span><span style=\"color: #000000; text-decoration-color: #000000\">: </span><span style=\"color: #808000; text-decoration-color: #808000\">'container'</span><span style=\"color: #000000; text-decoration-color: #000000; font-weight: bold\">}</span><span style=\"color: #000000; text-decoration-color: #000000\">,</span>                                    <span style=\"color: #808000; text-decoration-color: #808000\">│</span> <span style=\"color: #800000; text-decoration-color: #800000\">│</span>\n",
       "<span style=\"color: #800000; text-decoration-color: #800000\">│</span> <span style=\"color: #808000; text-decoration-color: #808000\">│</span>               <span style=\"color: #7f7f7f; text-decoration-color: #7f7f7f\">│   │   │      </span><span style=\"color: #808000; text-decoration-color: #808000\">'xaxis'</span><span style=\"color: #000000; text-decoration-color: #000000\">: </span><span style=\"color: #000000; text-decoration-color: #000000; font-weight: bold\">{</span><span style=\"color: #808000; text-decoration-color: #808000\">'anchor'</span><span style=\"color: #000000; text-decoration-color: #000000\">: </span><span style=\"color: #808000; text-decoration-color: #808000\">'y'</span><span style=\"color: #000000; text-decoration-color: #000000\">, </span><span style=\"color: #808000; text-decoration-color: #808000\">'domain'</span><span style=\"color: #000000; text-decoration-color: #000000\">: </span><span style=\"color: #000000; text-decoration-color: #000000; font-weight: bold\">[</span><span style=\"color: #0000ff; text-decoration-color: #0000ff\">0.0</span><span style=\"color: #000000; text-decoration-color: #000000\">, </span><span style=\"color: #0000ff; text-decoration-color: #0000ff\">1.0</span><span style=\"color: #000000; text-decoration-color: #000000; font-weight: bold\">]</span><span style=\"color: #000000; text-decoration-color: #000000\">, </span><span style=\"color: #808000; text-decoration-color: #808000\">'title'</span><span style=\"color: #000000; text-decoration-color: #000000\">: </span>        <span style=\"color: #808000; text-decoration-color: #808000\">│</span> <span style=\"color: #800000; text-decoration-color: #800000\">│</span>\n",
       "<span style=\"color: #800000; text-decoration-color: #800000\">│</span> <span style=\"color: #808000; text-decoration-color: #808000\">│</span>               <span style=\"color: #000000; text-decoration-color: #000000; font-weight: bold\">{</span><span style=\"color: #808000; text-decoration-color: #808000\">'text'</span><span style=\"color: #000000; text-decoration-color: #000000\">: </span><span style=\"color: #808000; text-decoration-color: #808000\">'category'</span><span style=\"color: #000000; text-decoration-color: #000000; font-weight: bold\">}}</span><span style=\"color: #000000; text-decoration-color: #000000\">,</span>                                                         <span style=\"color: #808000; text-decoration-color: #808000\">│</span> <span style=\"color: #800000; text-decoration-color: #800000\">│</span>\n",
       "<span style=\"color: #800000; text-decoration-color: #800000\">│</span> <span style=\"color: #808000; text-decoration-color: #808000\">│</span>               <span style=\"color: #7f7f7f; text-decoration-color: #7f7f7f\">│   │   │      </span><span style=\"color: #808000; text-decoration-color: #808000\">'yaxis'</span><span style=\"color: #000000; text-decoration-color: #000000\">: </span><span style=\"color: #000000; text-decoration-color: #000000; font-weight: bold\">{</span><span style=\"color: #808000; text-decoration-color: #808000\">'anchor'</span><span style=\"color: #000000; text-decoration-color: #000000\">: </span><span style=\"color: #808000; text-decoration-color: #808000\">'x'</span><span style=\"color: #000000; text-decoration-color: #000000\">, </span><span style=\"color: #808000; text-decoration-color: #808000\">'domain'</span><span style=\"color: #000000; text-decoration-color: #000000\">: </span><span style=\"color: #000000; text-decoration-color: #000000; font-weight: bold\">[</span><span style=\"color: #0000ff; text-decoration-color: #0000ff\">0.0</span><span style=\"color: #000000; text-decoration-color: #000000\">, </span><span style=\"color: #0000ff; text-decoration-color: #0000ff\">1.0</span><span style=\"color: #000000; text-decoration-color: #000000; font-weight: bold\">]</span><span style=\"color: #000000; text-decoration-color: #000000\">, </span><span style=\"color: #808000; text-decoration-color: #808000\">'title'</span><span style=\"color: #000000; text-decoration-color: #000000\">: </span>        <span style=\"color: #808000; text-decoration-color: #808000\">│</span> <span style=\"color: #800000; text-decoration-color: #800000\">│</span>\n",
       "<span style=\"color: #800000; text-decoration-color: #800000\">│</span> <span style=\"color: #808000; text-decoration-color: #808000\">│</span>               <span style=\"color: #000000; text-decoration-color: #000000; font-weight: bold\">{</span><span style=\"color: #808000; text-decoration-color: #808000\">'text'</span><span style=\"color: #000000; text-decoration-color: #000000\">: </span><span style=\"color: #808000; text-decoration-color: #808000\">'number'</span><span style=\"color: #000000; text-decoration-color: #000000; font-weight: bold\">}}}</span>                                                           <span style=\"color: #808000; text-decoration-color: #808000\">│</span> <span style=\"color: #800000; text-decoration-color: #800000\">│</span>\n",
       "<span style=\"color: #800000; text-decoration-color: #800000\">│</span> <span style=\"color: #808000; text-decoration-color: #808000\">│</span>               <span style=\"color: #000000; text-decoration-color: #000000; font-weight: bold\">})</span><span style=\"color: #000000; text-decoration-color: #000000\">,</span>                                                                            <span style=\"color: #808000; text-decoration-color: #808000\">│</span> <span style=\"color: #800000; text-decoration-color: #800000\">│</span>\n",
       "<span style=\"color: #800000; text-decoration-color: #800000\">│</span> <span style=\"color: #808000; text-decoration-color: #808000\">│</span>               <span style=\"color: #7f7f7f; text-decoration-color: #7f7f7f\">│   </span><span style=\"color: #0000ff; text-decoration-color: #0000ff\">6</span><span style=\"color: #000000; text-decoration-color: #000000\">: </span><span style=\"color: #800080; text-decoration-color: #800080; font-weight: bold\">Figure</span><span style=\"color: #000000; text-decoration-color: #000000; font-weight: bold\">({</span>                                                                <span style=\"color: #808000; text-decoration-color: #808000\">│</span> <span style=\"color: #800000; text-decoration-color: #800000\">│</span>\n",
       "<span style=\"color: #800000; text-decoration-color: #800000\">│</span> <span style=\"color: #808000; text-decoration-color: #808000\">│</span>               <span style=\"color: #7f7f7f; text-decoration-color: #7f7f7f\">│   </span><span style=\"color: #808000; text-decoration-color: #808000\">'data'</span><span style=\"color: #000000; text-decoration-color: #000000\">: </span><span style=\"color: #000000; text-decoration-color: #000000; font-weight: bold\">[{</span><span style=\"color: #808000; text-decoration-color: #808000\">'hovertemplate'</span><span style=\"color: #000000; text-decoration-color: #000000\">: </span><span style=\"color: #808000; text-decoration-color: #808000\">'</span><span style=\"color: #808000; text-decoration-color: #808000\">category</span><span style=\"color: #808000; text-decoration-color: #808000\">=%</span><span style=\"color: #808000; text-decoration-color: #808000; font-weight: bold\">{</span><span style=\"color: #808000; text-decoration-color: #808000\">x</span><span style=\"color: #808000; text-decoration-color: #808000; font-weight: bold\">}</span><span style=\"color: #808000; text-decoration-color: #808000\">&lt;br&gt;</span><span style=\"color: #808000; text-decoration-color: #808000\">number</span><span style=\"color: #808000; text-decoration-color: #808000\">=%</span><span style=\"color: #808000; text-decoration-color: #808000; font-weight: bold\">{</span><span style=\"color: #808000; text-decoration-color: #808000\">y</span><span style=\"color: #808000; text-decoration-color: #808000; font-weight: bold\">}</span><span style=\"color: #808000; text-decoration-color: #808000\">&lt;extra&gt;&lt;/extra&gt;'</span><span style=\"color: #000000; text-decoration-color: #000000\">,</span>  <span style=\"color: #808000; text-decoration-color: #808000\">│</span> <span style=\"color: #800000; text-decoration-color: #800000\">│</span>\n",
       "<span style=\"color: #800000; text-decoration-color: #800000\">│</span> <span style=\"color: #808000; text-decoration-color: #808000\">│</span>               <span style=\"color: #7f7f7f; text-decoration-color: #7f7f7f\">│   │   │     </span><span style=\"color: #808000; text-decoration-color: #808000\">'legendgroup'</span><span style=\"color: #000000; text-decoration-color: #000000\">: </span><span style=\"color: #808000; text-decoration-color: #808000\">''</span><span style=\"color: #000000; text-decoration-color: #000000\">,</span>                                               <span style=\"color: #808000; text-decoration-color: #808000\">│</span> <span style=\"color: #800000; text-decoration-color: #800000\">│</span>\n",
       "<span style=\"color: #800000; text-decoration-color: #800000\">│</span> <span style=\"color: #808000; text-decoration-color: #808000\">│</span>               <span style=\"color: #7f7f7f; text-decoration-color: #7f7f7f\">│   │   │     </span><span style=\"color: #808000; text-decoration-color: #808000\">'marker'</span><span style=\"color: #000000; text-decoration-color: #000000\">: </span><span style=\"color: #000000; text-decoration-color: #000000; font-weight: bold\">{</span><span style=\"color: #808000; text-decoration-color: #808000\">'color'</span><span style=\"color: #000000; text-decoration-color: #000000\">: </span><span style=\"color: #808000; text-decoration-color: #808000\">'#636efa'</span><span style=\"color: #000000; text-decoration-color: #000000; font-weight: bold\">}</span><span style=\"color: #000000; text-decoration-color: #000000\">,</span>                                  <span style=\"color: #808000; text-decoration-color: #808000\">│</span> <span style=\"color: #800000; text-decoration-color: #800000\">│</span>\n",
       "<span style=\"color: #800000; text-decoration-color: #800000\">│</span> <span style=\"color: #808000; text-decoration-color: #808000\">│</span>               <span style=\"color: #7f7f7f; text-decoration-color: #7f7f7f\">│   │   │     </span><span style=\"color: #808000; text-decoration-color: #808000\">'name'</span><span style=\"color: #000000; text-decoration-color: #000000\">: </span><span style=\"color: #808000; text-decoration-color: #808000\">''</span><span style=\"color: #000000; text-decoration-color: #000000\">,</span>                                                      <span style=\"color: #808000; text-decoration-color: #808000\">│</span> <span style=\"color: #800000; text-decoration-color: #800000\">│</span>\n",
       "<span style=\"color: #800000; text-decoration-color: #800000\">│</span> <span style=\"color: #808000; text-decoration-color: #808000\">│</span>               <span style=\"color: #7f7f7f; text-decoration-color: #7f7f7f\">│   │   │     </span><span style=\"color: #808000; text-decoration-color: #808000\">'orientation'</span><span style=\"color: #000000; text-decoration-color: #000000\">: </span><span style=\"color: #808000; text-decoration-color: #808000\">'v'</span><span style=\"color: #000000; text-decoration-color: #000000\">,</span>                                              <span style=\"color: #808000; text-decoration-color: #808000\">│</span> <span style=\"color: #800000; text-decoration-color: #800000\">│</span>\n",
       "<span style=\"color: #800000; text-decoration-color: #800000\">│</span> <span style=\"color: #808000; text-decoration-color: #808000\">│</span>               <span style=\"color: #7f7f7f; text-decoration-color: #7f7f7f\">│   │   │     </span><span style=\"color: #808000; text-decoration-color: #808000\">'showlegend'</span><span style=\"color: #000000; text-decoration-color: #000000\">: </span><span style=\"color: #0000ff; text-decoration-color: #0000ff\">False</span><span style=\"color: #000000; text-decoration-color: #000000\">,</span>                                             <span style=\"color: #808000; text-decoration-color: #808000\">│</span> <span style=\"color: #800000; text-decoration-color: #800000\">│</span>\n",
       "<span style=\"color: #800000; text-decoration-color: #800000\">│</span> <span style=\"color: #808000; text-decoration-color: #808000\">│</span>               <span style=\"color: #7f7f7f; text-decoration-color: #7f7f7f\">│   │   │     </span><span style=\"color: #808000; text-decoration-color: #808000\">'type'</span><span style=\"color: #000000; text-decoration-color: #000000\">: </span><span style=\"color: #808000; text-decoration-color: #808000\">'funnel'</span><span style=\"color: #000000; text-decoration-color: #000000\">,</span>                                                <span style=\"color: #808000; text-decoration-color: #808000\">│</span> <span style=\"color: #800000; text-decoration-color: #800000\">│</span>\n",
       "<span style=\"color: #800000; text-decoration-color: #800000\">│</span> <span style=\"color: #808000; text-decoration-color: #808000\">│</span>               <span style=\"color: #7f7f7f; text-decoration-color: #7f7f7f\">│   │   │     </span><span style=\"color: #808000; text-decoration-color: #808000\">'x'</span><span style=\"color: #000000; text-decoration-color: #000000\">: </span><span style=\"color: #800080; text-decoration-color: #800080; font-weight: bold\">array</span><span style=\"color: #000000; text-decoration-color: #000000; font-weight: bold\">([</span><span style=\"color: #808000; text-decoration-color: #808000\">'Reactants'</span><span style=\"color: #000000; text-decoration-color: #000000\">, </span><span style=\"color: #808000; text-decoration-color: #808000\">'Intermediates'</span><span style=\"color: #000000; text-decoration-color: #000000\">, </span><span style=\"color: #808000; text-decoration-color: #808000\">'Products'</span><span style=\"color: #000000; text-decoration-color: #000000; font-weight: bold\">]</span><span style=\"color: #000000; text-decoration-color: #000000\">, </span>          <span style=\"color: #808000; text-decoration-color: #808000\">│</span> <span style=\"color: #800000; text-decoration-color: #800000\">│</span>\n",
       "<span style=\"color: #800000; text-decoration-color: #800000\">│</span> <span style=\"color: #808000; text-decoration-color: #808000\">│</span>               <span style=\"color: #808000; text-decoration-color: #808000\">dtype</span><span style=\"color: #000000; text-decoration-color: #000000\">=</span><span style=\"color: #800080; text-decoration-color: #800080\">object</span><span style=\"color: #000000; text-decoration-color: #000000; font-weight: bold\">)</span><span style=\"color: #000000; text-decoration-color: #000000\">,</span>                                                                 <span style=\"color: #808000; text-decoration-color: #808000\">│</span> <span style=\"color: #800000; text-decoration-color: #800000\">│</span>\n",
       "<span style=\"color: #800000; text-decoration-color: #800000\">│</span> <span style=\"color: #808000; text-decoration-color: #808000\">│</span>               <span style=\"color: #7f7f7f; text-decoration-color: #7f7f7f\">│   │   │     </span><span style=\"color: #808000; text-decoration-color: #808000\">'xaxis'</span><span style=\"color: #000000; text-decoration-color: #000000\">: </span><span style=\"color: #808000; text-decoration-color: #808000\">'x'</span><span style=\"color: #000000; text-decoration-color: #000000\">,</span>                                                    <span style=\"color: #808000; text-decoration-color: #808000\">│</span> <span style=\"color: #800000; text-decoration-color: #800000\">│</span>\n",
       "<span style=\"color: #800000; text-decoration-color: #800000\">│</span> <span style=\"color: #808000; text-decoration-color: #808000\">│</span>               <span style=\"color: #7f7f7f; text-decoration-color: #7f7f7f\">│   │   │     </span><span style=\"color: #808000; text-decoration-color: #808000\">'y'</span><span style=\"color: #000000; text-decoration-color: #000000\">: </span><span style=\"color: #800080; text-decoration-color: #800080; font-weight: bold\">array</span><span style=\"color: #000000; text-decoration-color: #000000; font-weight: bold\">([</span><span style=\"color: #000000; text-decoration-color: #000000\">  </span><span style=\"color: #0000ff; text-decoration-color: #0000ff\">5681</span><span style=\"color: #000000; text-decoration-color: #000000\">,   </span><span style=\"color: #0000ff; text-decoration-color: #0000ff\">5411</span><span style=\"color: #000000; text-decoration-color: #000000\">, </span><span style=\"color: #0000ff; text-decoration-color: #0000ff\">110970</span><span style=\"color: #000000; text-decoration-color: #000000; font-weight: bold\">])</span><span style=\"color: #000000; text-decoration-color: #000000\">,</span>                            <span style=\"color: #808000; text-decoration-color: #808000\">│</span> <span style=\"color: #800000; text-decoration-color: #800000\">│</span>\n",
       "<span style=\"color: #800000; text-decoration-color: #800000\">│</span> <span style=\"color: #808000; text-decoration-color: #808000\">│</span>               <span style=\"color: #7f7f7f; text-decoration-color: #7f7f7f\">│   │   │     </span><span style=\"color: #808000; text-decoration-color: #808000\">'yaxis'</span><span style=\"color: #000000; text-decoration-color: #000000\">: </span><span style=\"color: #808000; text-decoration-color: #808000\">'y'</span><span style=\"color: #000000; text-decoration-color: #000000; font-weight: bold\">}]</span><span style=\"color: #000000; text-decoration-color: #000000\">,</span>                                                  <span style=\"color: #808000; text-decoration-color: #808000\">│</span> <span style=\"color: #800000; text-decoration-color: #800000\">│</span>\n",
       "<span style=\"color: #800000; text-decoration-color: #800000\">│</span> <span style=\"color: #808000; text-decoration-color: #808000\">│</span>               <span style=\"color: #7f7f7f; text-decoration-color: #7f7f7f\">│   </span><span style=\"color: #808000; text-decoration-color: #808000\">'layout'</span><span style=\"color: #000000; text-decoration-color: #000000\">: </span><span style=\"color: #000000; text-decoration-color: #000000; font-weight: bold\">{</span><span style=\"color: #808000; text-decoration-color: #808000\">'legend'</span><span style=\"color: #000000; text-decoration-color: #000000\">: </span><span style=\"color: #000000; text-decoration-color: #000000; font-weight: bold\">{</span><span style=\"color: #808000; text-decoration-color: #808000\">'tracegroupgap'</span><span style=\"color: #000000; text-decoration-color: #000000\">: </span><span style=\"color: #0000ff; text-decoration-color: #0000ff\">0</span><span style=\"color: #000000; text-decoration-color: #000000; font-weight: bold\">}</span><span style=\"color: #000000; text-decoration-color: #000000\">,</span>                                 <span style=\"color: #808000; text-decoration-color: #808000\">│</span> <span style=\"color: #800000; text-decoration-color: #800000\">│</span>\n",
       "<span style=\"color: #800000; text-decoration-color: #800000\">│</span> <span style=\"color: #808000; text-decoration-color: #808000\">│</span>               <span style=\"color: #7f7f7f; text-decoration-color: #7f7f7f\">│   │   │      </span><span style=\"color: #808000; text-decoration-color: #808000\">'margin'</span><span style=\"color: #000000; text-decoration-color: #000000\">: </span><span style=\"color: #000000; text-decoration-color: #000000; font-weight: bold\">{</span><span style=\"color: #808000; text-decoration-color: #808000\">'t'</span><span style=\"color: #000000; text-decoration-color: #000000\">: </span><span style=\"color: #0000ff; text-decoration-color: #0000ff\">60</span><span style=\"color: #000000; text-decoration-color: #000000; font-weight: bold\">}</span><span style=\"color: #000000; text-decoration-color: #000000\">,</span>                                            <span style=\"color: #808000; text-decoration-color: #808000\">│</span> <span style=\"color: #800000; text-decoration-color: #800000\">│</span>\n",
       "<span style=\"color: #800000; text-decoration-color: #800000\">│</span> <span style=\"color: #808000; text-decoration-color: #808000\">│</span>               <span style=\"color: #7f7f7f; text-decoration-color: #7f7f7f\">│   │   │      </span><span style=\"color: #808000; text-decoration-color: #808000\">'template'</span><span style=\"color: #000000; text-decoration-color: #000000\">: </span><span style=\"color: #808000; text-decoration-color: #808000\">'...'</span><span style=\"color: #000000; text-decoration-color: #000000\">,</span>                                              <span style=\"color: #808000; text-decoration-color: #808000\">│</span> <span style=\"color: #800000; text-decoration-color: #800000\">│</span>\n",
       "<span style=\"color: #800000; text-decoration-color: #800000\">│</span> <span style=\"color: #808000; text-decoration-color: #808000\">│</span>               <span style=\"color: #7f7f7f; text-decoration-color: #7f7f7f\">│   │   │      </span><span style=\"color: #808000; text-decoration-color: #808000\">'title'</span><span style=\"color: #000000; text-decoration-color: #000000\">: </span><span style=\"color: #000000; text-decoration-color: #000000; font-weight: bold\">{</span><span style=\"color: #808000; text-decoration-color: #808000\">'automargin'</span><span style=\"color: #000000; text-decoration-color: #000000\">: </span><span style=\"color: #0000ff; text-decoration-color: #0000ff\">False</span><span style=\"color: #000000; text-decoration-color: #000000\">, </span><span style=\"color: #808000; text-decoration-color: #808000\">'text'</span><span style=\"color: #000000; text-decoration-color: #000000\">: </span><span style=\"color: #808000; text-decoration-color: #808000\">'&lt;b&gt;2A_HIPPO&lt;/b</span><span style=\"color: #808000; text-decoration-color: #808000; font-weight: bold\">&gt;</span><span style=\"color: #808000; text-decoration-color: #808000\">: </span>       <span style=\"color: #808000; text-decoration-color: #808000\">│</span> <span style=\"color: #800000; text-decoration-color: #800000\">│</span>\n",
       "<span style=\"color: #800000; text-decoration-color: #800000\">│</span> <span style=\"color: #808000; text-decoration-color: #808000\">│</span>               <span style=\"color: #808000; text-decoration-color: #808000\">Reaction statistics'</span>, <span style=\"color: #808000; text-decoration-color: #808000\">'yref'</span>: <span style=\"color: #808000; text-decoration-color: #808000\">'container'</span><span style=\"font-weight: bold\">}</span>,                                    <span style=\"color: #808000; text-decoration-color: #808000\">│</span> <span style=\"color: #800000; text-decoration-color: #800000\">│</span>\n",
       "<span style=\"color: #800000; text-decoration-color: #800000\">│</span> <span style=\"color: #808000; text-decoration-color: #808000\">│</span>               <span style=\"color: #7f7f7f; text-decoration-color: #7f7f7f\">│   │   │      </span><span style=\"color: #808000; text-decoration-color: #808000\">'xaxis'</span>: <span style=\"font-weight: bold\">{</span><span style=\"color: #808000; text-decoration-color: #808000\">'anchor'</span>: <span style=\"color: #808000; text-decoration-color: #808000\">'y'</span>, <span style=\"color: #808000; text-decoration-color: #808000\">'domain'</span>: <span style=\"font-weight: bold\">[</span><span style=\"color: #0000ff; text-decoration-color: #0000ff\">0.0</span>, <span style=\"color: #0000ff; text-decoration-color: #0000ff\">1.0</span><span style=\"font-weight: bold\">]</span>, <span style=\"color: #808000; text-decoration-color: #808000\">'title'</span>:         <span style=\"color: #808000; text-decoration-color: #808000\">│</span> <span style=\"color: #800000; text-decoration-color: #800000\">│</span>\n",
       "<span style=\"color: #800000; text-decoration-color: #800000\">│</span> <span style=\"color: #808000; text-decoration-color: #808000\">│</span>               <span style=\"font-weight: bold\">{</span><span style=\"color: #808000; text-decoration-color: #808000\">'text'</span>: <span style=\"color: #808000; text-decoration-color: #808000\">'category'</span><span style=\"font-weight: bold\">}}</span>,                                                         <span style=\"color: #808000; text-decoration-color: #808000\">│</span> <span style=\"color: #800000; text-decoration-color: #800000\">│</span>\n",
       "<span style=\"color: #800000; text-decoration-color: #800000\">│</span> <span style=\"color: #808000; text-decoration-color: #808000\">│</span>               <span style=\"color: #7f7f7f; text-decoration-color: #7f7f7f\">│   │   │      </span><span style=\"color: #808000; text-decoration-color: #808000\">'yaxis'</span>: <span style=\"font-weight: bold\">{</span><span style=\"color: #808000; text-decoration-color: #808000\">'anchor'</span>: <span style=\"color: #808000; text-decoration-color: #808000\">'x'</span>, <span style=\"color: #808000; text-decoration-color: #808000\">'domain'</span>: <span style=\"font-weight: bold\">[</span><span style=\"color: #0000ff; text-decoration-color: #0000ff\">0.0</span>, <span style=\"color: #0000ff; text-decoration-color: #0000ff\">1.0</span><span style=\"font-weight: bold\">]</span>, <span style=\"color: #808000; text-decoration-color: #808000\">'title'</span>:         <span style=\"color: #808000; text-decoration-color: #808000\">│</span> <span style=\"color: #800000; text-decoration-color: #800000\">│</span>\n",
       "<span style=\"color: #800000; text-decoration-color: #800000\">│</span> <span style=\"color: #808000; text-decoration-color: #808000\">│</span>               <span style=\"font-weight: bold\">{</span><span style=\"color: #808000; text-decoration-color: #808000\">'text'</span>: <span style=\"color: #808000; text-decoration-color: #808000\">'number'</span><span style=\"font-weight: bold\">}}}</span>                                                           <span style=\"color: #808000; text-decoration-color: #808000\">│</span> <span style=\"color: #800000; text-decoration-color: #800000\">│</span>\n",
       "<span style=\"color: #800000; text-decoration-color: #800000\">│</span> <span style=\"color: #808000; text-decoration-color: #808000\">│</span>               <span style=\"font-weight: bold\">})</span>,                                                                            <span style=\"color: #808000; text-decoration-color: #808000\">│</span> <span style=\"color: #800000; text-decoration-color: #800000\">│</span>\n",
       "<span style=\"color: #800000; text-decoration-color: #800000\">│</span> <span style=\"color: #808000; text-decoration-color: #808000\">│</span>               <span style=\"color: #7f7f7f; text-decoration-color: #7f7f7f\">│   </span><span style=\"color: #0000ff; text-decoration-color: #0000ff\">8</span>: <span style=\"font-weight: bold; text-decoration: underline\">all reactants: {C × </span><span style=\"color: #0000ff; text-decoration-color: #0000ff; font-weight: bold; text-decoration: underline\">5681</span><span style=\"font-weight: bold; text-decoration: underline\">}</span>,                                              <span style=\"color: #808000; text-decoration-color: #808000\">│</span> <span style=\"color: #800000; text-decoration-color: #800000\">│</span>\n",
       "<span style=\"color: #800000; text-decoration-color: #800000\">│</span> <span style=\"color: #808000; text-decoration-color: #808000\">│</span>               <span style=\"color: #7f7f7f; text-decoration-color: #7f7f7f\">│   </span><span style=\"color: #0000ff; text-decoration-color: #0000ff\">13</span>: <span style=\"font-weight: bold\">[</span>                                                                      <span style=\"color: #808000; text-decoration-color: #808000\">│</span> <span style=\"color: #800000; text-decoration-color: #800000\">│</span>\n",
       "<span style=\"color: #800000; text-decoration-color: #800000\">│</span> <span style=\"color: #808000; text-decoration-color: #808000\">│</span>               <span style=\"color: #7f7f7f; text-decoration-color: #7f7f7f\">│   │   </span><span style=\"color: #808000; text-decoration-color: #808000\">'ZFLKDMGBVZHBAC-UHFFFAOYSA-N'</span>,                                         <span style=\"color: #808000; text-decoration-color: #808000\">│</span> <span style=\"color: #800000; text-decoration-color: #800000\">│</span>\n",
       "<span style=\"color: #800000; text-decoration-color: #800000\">│</span> <span style=\"color: #808000; text-decoration-color: #808000\">│</span>               <span style=\"color: #7f7f7f; text-decoration-color: #7f7f7f\">│   │   </span><span style=\"color: #808000; text-decoration-color: #808000\">'YMSMEZAYZIYFGA-UHFFFAOYSA-N'</span>,                                         <span style=\"color: #808000; text-decoration-color: #808000\">│</span> <span style=\"color: #800000; text-decoration-color: #800000\">│</span>\n",
       "<span style=\"color: #800000; text-decoration-color: #800000\">│</span> <span style=\"color: #808000; text-decoration-color: #808000\">│</span>               <span style=\"color: #7f7f7f; text-decoration-color: #7f7f7f\">│   │   </span><span style=\"color: #808000; text-decoration-color: #808000\">'JFGXRDGYMLGBBB-UHFFFAOYSA-N'</span>,                                         <span style=\"color: #808000; text-decoration-color: #808000\">│</span> <span style=\"color: #800000; text-decoration-color: #800000\">│</span>\n",
       "<span style=\"color: #800000; text-decoration-color: #800000\">│</span> <span style=\"color: #808000; text-decoration-color: #808000\">│</span>               <span style=\"color: #7f7f7f; text-decoration-color: #7f7f7f\">│   │   </span><span style=\"color: #808000; text-decoration-color: #808000\">'QTEBJBNJJATETR-UHFFFAOYSA-N'</span>,                                         <span style=\"color: #808000; text-decoration-color: #808000\">│</span> <span style=\"color: #800000; text-decoration-color: #800000\">│</span>\n",
       "<span style=\"color: #800000; text-decoration-color: #800000\">│</span> <span style=\"color: #808000; text-decoration-color: #808000\">│</span>               <span style=\"color: #7f7f7f; text-decoration-color: #7f7f7f\">│   │   </span><span style=\"color: #808000; text-decoration-color: #808000\">'DLFVBJFMPXGRIB-UHFFFAOYSA-N'</span>                                          <span style=\"color: #808000; text-decoration-color: #808000\">│</span> <span style=\"color: #800000; text-decoration-color: #800000\">│</span>\n",
       "<span style=\"color: #800000; text-decoration-color: #800000\">│</span> <span style=\"color: #808000; text-decoration-color: #808000\">│</span>               <span style=\"color: #7f7f7f; text-decoration-color: #7f7f7f\">│   </span><span style=\"font-weight: bold\">]</span>,                                                                         <span style=\"color: #808000; text-decoration-color: #808000\">│</span> <span style=\"color: #800000; text-decoration-color: #800000\">│</span>\n",
       "<span style=\"color: #800000; text-decoration-color: #800000\">│</span> <span style=\"color: #808000; text-decoration-color: #808000\">│</span>               <span style=\"color: #7f7f7f; text-decoration-color: #7f7f7f\">│   </span><span style=\"color: #0000ff; text-decoration-color: #0000ff\">22</span>: <span style=\"font-weight: bold\">(</span><span style=\"font-weight: bold; text-decoration: underline\">{C × </span><span style=\"color: #0000ff; text-decoration-color: #0000ff; font-weight: bold; text-decoration: underline\">2090</span><span style=\"font-weight: bold; text-decoration: underline\">}</span>, <span style=\"font-weight: bold; text-decoration: underline\">{C × </span><span style=\"color: #0000ff; text-decoration-color: #0000ff; font-weight: bold; text-decoration: underline\">3591</span><span style=\"font-weight: bold; text-decoration: underline\">}</span><span style=\"font-weight: bold\">)</span>,                                              <span style=\"color: #808000; text-decoration-color: #808000\">│</span> <span style=\"color: #800000; text-decoration-color: #800000\">│</span>\n",
       "<span style=\"color: #800000; text-decoration-color: #800000\">│</span> <span style=\"color: #808000; text-decoration-color: #808000\">│</span>               <span style=\"color: #7f7f7f; text-decoration-color: #7f7f7f\">│   </span><span style=\"color: #0000ff; text-decoration-color: #0000ff\">24</span>: <span style=\"font-weight: bold\">[</span>                                                                      <span style=\"color: #808000; text-decoration-color: #808000\">│</span> <span style=\"color: #800000; text-decoration-color: #800000\">│</span>\n",
       "<span style=\"color: #800000; text-decoration-color: #800000\">│</span> <span style=\"color: #808000; text-decoration-color: #808000\">│</span>               <span style=\"color: #7f7f7f; text-decoration-color: #7f7f7f\">│   │   </span><span style=\"color: #808000; text-decoration-color: #808000\">'Buchwald-Hartwig_amidation_with_amide-like_nucleophile'</span>,              <span style=\"color: #808000; text-decoration-color: #808000\">│</span> <span style=\"color: #800000; text-decoration-color: #800000\">│</span>\n",
       "<span style=\"color: #800000; text-decoration-color: #800000\">│</span> <span style=\"color: #808000; text-decoration-color: #808000\">│</span>               <span style=\"color: #7f7f7f; text-decoration-color: #7f7f7f\">│   │   </span><span style=\"color: #808000; text-decoration-color: #808000\">'Amidation'</span>,                                                           <span style=\"color: #808000; text-decoration-color: #808000\">│</span> <span style=\"color: #800000; text-decoration-color: #800000\">│</span>\n",
       "<span style=\"color: #800000; text-decoration-color: #800000\">│</span> <span style=\"color: #808000; text-decoration-color: #808000\">│</span>               <span style=\"color: #7f7f7f; text-decoration-color: #7f7f7f\">│   │   </span><span style=\"color: #808000; text-decoration-color: #808000\">'Sp3-sp2_Suzuki_coupling'</span>,                                             <span style=\"color: #808000; text-decoration-color: #808000\">│</span> <span style=\"color: #800000; text-decoration-color: #800000\">│</span>\n",
       "<span style=\"color: #800000; text-decoration-color: #800000\">│</span> <span style=\"color: #808000; text-decoration-color: #808000\">│</span>               <span style=\"color: #7f7f7f; text-decoration-color: #7f7f7f\">│   │   </span><span style=\"color: #808000; text-decoration-color: #808000\">'Reductive_amination'</span>,                                                 <span style=\"color: #808000; text-decoration-color: #808000\">│</span> <span style=\"color: #800000; text-decoration-color: #800000\">│</span>\n",
       "<span style=\"color: #800000; text-decoration-color: #800000\">│</span> <span style=\"color: #808000; text-decoration-color: #808000\">│</span>               <span style=\"color: #7f7f7f; text-decoration-color: #7f7f7f\">│   │   </span><span style=\"color: #808000; text-decoration-color: #808000\">'Buchwald-Hartwig_amination'</span>,                                          <span style=\"color: #808000; text-decoration-color: #808000\">│</span> <span style=\"color: #800000; text-decoration-color: #800000\">│</span>\n",
       "<span style=\"color: #800000; text-decoration-color: #800000\">│</span> <span style=\"color: #808000; text-decoration-color: #808000\">│</span>               <span style=\"color: #7f7f7f; text-decoration-color: #7f7f7f\">│   │   </span><span style=\"color: #808000; text-decoration-color: #808000\">'Steglich_esterification'</span>,                                             <span style=\"color: #808000; text-decoration-color: #808000\">│</span> <span style=\"color: #800000; text-decoration-color: #800000\">│</span>\n",
       "<span style=\"color: #800000; text-decoration-color: #800000\">│</span> <span style=\"color: #808000; text-decoration-color: #808000\">│</span>               <span style=\"color: #7f7f7f; text-decoration-color: #7f7f7f\">│   │   </span><span style=\"color: #808000; text-decoration-color: #808000\">'Ester_amidation'</span>,                                                     <span style=\"color: #808000; text-decoration-color: #808000\">│</span> <span style=\"color: #800000; text-decoration-color: #800000\">│</span>\n",
       "<span style=\"color: #800000; text-decoration-color: #800000\">│</span> <span style=\"color: #808000; text-decoration-color: #808000\">│</span>               <span style=\"color: #7f7f7f; text-decoration-color: #7f7f7f\">│   │   </span><span style=\"color: #808000; text-decoration-color: #808000\">'Formation_of_urea_from_two_amines'</span>,                                   <span style=\"color: #808000; text-decoration-color: #808000\">│</span> <span style=\"color: #800000; text-decoration-color: #800000\">│</span>\n",
       "<span style=\"color: #800000; text-decoration-color: #800000\">│</span> <span style=\"color: #808000; text-decoration-color: #808000\">│</span>               <span style=\"color: #7f7f7f; text-decoration-color: #7f7f7f\">│   │   </span><span style=\"color: #808000; text-decoration-color: #808000\">'Williamson_ether_synthesis'</span>                                           <span style=\"color: #808000; text-decoration-color: #808000\">│</span> <span style=\"color: #800000; text-decoration-color: #800000\">│</span>\n",
       "<span style=\"color: #800000; text-decoration-color: #800000\">│</span> <span style=\"color: #808000; text-decoration-color: #808000\">│</span>               <span style=\"color: #7f7f7f; text-decoration-color: #7f7f7f\">│   </span><span style=\"font-weight: bold\">]</span>,                                                                         <span style=\"color: #808000; text-decoration-color: #808000\">│</span> <span style=\"color: #800000; text-decoration-color: #800000\">│</span>\n",
       "<span style=\"color: #800000; text-decoration-color: #800000\">│</span> <span style=\"color: #808000; text-decoration-color: #808000\">│</span>               <span style=\"color: #7f7f7f; text-decoration-color: #7f7f7f\">│   </span><span style=\"color: #0000ff; text-decoration-color: #0000ff\">25</span>: <span style=\"font-weight: bold; text-decoration: underline\">compounds tagged Syndirella scaffold: {C × </span><span style=\"color: #0000ff; text-decoration-color: #0000ff; font-weight: bold; text-decoration: underline\">122</span><span style=\"font-weight: bold; text-decoration: underline\">}</span>,                       <span style=\"color: #808000; text-decoration-color: #808000\">│</span> <span style=\"color: #800000; text-decoration-color: #800000\">│</span>\n",
       "<span style=\"color: #800000; text-decoration-color: #800000\">│</span> <span style=\"color: #808000; text-decoration-color: #808000\">│</span>               <span style=\"color: #7f7f7f; text-decoration-color: #7f7f7f\">│   </span><span style=\"color: #0000ff; text-decoration-color: #0000ff\">27</span>: <span style=\"font-weight: bold; text-decoration: underline\">{C × </span><span style=\"color: #0000ff; text-decoration-color: #0000ff; font-weight: bold; text-decoration: underline\">44</span><span style=\"font-weight: bold; text-decoration: underline\">}</span>,                                                              <span style=\"color: #808000; text-decoration-color: #808000\">│</span> <span style=\"color: #800000; text-decoration-color: #800000\">│</span>\n",
       "<span style=\"color: #800000; text-decoration-color: #800000\">│</span> <span style=\"color: #808000; text-decoration-color: #808000\">│</span>               <span style=\"color: #7f7f7f; text-decoration-color: #7f7f7f\">│   </span><span style=\"color: #0000ff; text-decoration-color: #0000ff\">28</span>: <span style=\"font-weight: bold; text-decoration: underline\">compounds tagged Syndirella scaffold: {C × </span><span style=\"color: #0000ff; text-decoration-color: #0000ff; font-weight: bold; text-decoration: underline\">122</span><span style=\"font-weight: bold; text-decoration: underline\">}</span>,                       <span style=\"color: #808000; text-decoration-color: #808000\">│</span> <span style=\"color: #800000; text-decoration-color: #800000\">│</span>\n",
       "<span style=\"color: #800000; text-decoration-color: #800000\">│</span> <span style=\"color: #808000; text-decoration-color: #808000\">│</span>               <span style=\"color: #7f7f7f; text-decoration-color: #7f7f7f\">│   </span><span style=\"color: #0000ff; text-decoration-color: #0000ff\">30</span>: <span style=\"color: #0000ff; text-decoration-color: #0000ff\">576</span>                                                                    <span style=\"color: #808000; text-decoration-color: #808000\">│</span> <span style=\"color: #800000; text-decoration-color: #800000\">│</span>\n",
       "<span style=\"color: #800000; text-decoration-color: #800000\">│</span> <span style=\"color: #808000; text-decoration-color: #808000\">│</span>               <span style=\"font-weight: bold\">}</span>                                                                              <span style=\"color: #808000; text-decoration-color: #808000\">│</span> <span style=\"color: #800000; text-decoration-color: #800000\">│</span>\n",
       "<span style=\"color: #800000; text-decoration-color: #800000\">│</span> <span style=\"color: #808000; text-decoration-color: #808000\">│</span>        Path = <span style=\"font-weight: bold\">&lt;</span><span style=\"color: #ff00ff; text-decoration-color: #ff00ff; font-weight: bold\">class</span><span style=\"color: #000000; text-decoration-color: #000000\"> </span><span style=\"color: #808000; text-decoration-color: #808000\">'pathlib.Path'</span><span style=\"font-weight: bold\">&gt;</span>                                                         <span style=\"color: #808000; text-decoration-color: #808000\">│</span> <span style=\"color: #800000; text-decoration-color: #800000\">│</span>\n",
       "<span style=\"color: #800000; text-decoration-color: #800000\">│</span> <span style=\"color: #808000; text-decoration-color: #808000\">│</span>          pd = <span style=\"font-weight: bold\">&lt;</span><span style=\"color: #ff00ff; text-decoration-color: #ff00ff; font-weight: bold\">module</span><span style=\"color: #000000; text-decoration-color: #000000\"> </span><span style=\"color: #808000; text-decoration-color: #808000\">'pandas'</span><span style=\"color: #000000; text-decoration-color: #000000\"> from </span>                                                         <span style=\"color: #808000; text-decoration-color: #808000\">│</span> <span style=\"color: #800000; text-decoration-color: #800000\">│</span>\n",
       "<span style=\"color: #800000; text-decoration-color: #800000\">│</span> <span style=\"color: #808000; text-decoration-color: #808000\">│</span>               <span style=\"color: #808000; text-decoration-color: #808000\">'/opt/xchem-fragalysis-2/maxwin/conda_slurm/lib/python3.11/site-packages/pand…</span> <span style=\"color: #808000; text-decoration-color: #808000\">│</span> <span style=\"color: #800000; text-decoration-color: #800000\">│</span>\n",
       "<span style=\"color: #800000; text-decoration-color: #800000\">│</span> <span style=\"color: #808000; text-decoration-color: #808000\">│</span>       print = <span style=\"font-weight: bold\">&lt;</span><span style=\"color: #ff00ff; text-decoration-color: #ff00ff; font-weight: bold\">function</span><span style=\"color: #000000; text-decoration-color: #000000\"> print at </span><span style=\"color: #0000ff; text-decoration-color: #0000ff\">0x7fc5b6759bc0</span><span style=\"font-weight: bold\">&gt;</span>                                             <span style=\"color: #808000; text-decoration-color: #808000\">│</span> <span style=\"color: #800000; text-decoration-color: #800000\">│</span>\n",
       "<span style=\"color: #800000; text-decoration-color: #800000\">│</span> <span style=\"color: #808000; text-decoration-color: #808000\">│</span>        quit = <span style=\"font-weight: bold\">&lt;</span><span style=\"color: #ff00ff; text-decoration-color: #ff00ff; font-weight: bold\">IPython.core.autocall.ZMQExitAutocall</span><span style=\"color: #000000; text-decoration-color: #000000\"> object at </span><span style=\"color: #0000ff; text-decoration-color: #0000ff\">0x7fc697927790</span><span style=\"font-weight: bold\">&gt;</span>               <span style=\"color: #808000; text-decoration-color: #808000\">│</span> <span style=\"color: #800000; text-decoration-color: #800000\">│</span>\n",
       "<span style=\"color: #800000; text-decoration-color: #800000\">│</span> <span style=\"color: #808000; text-decoration-color: #808000\">│</span>   reactants = <span style=\"font-weight: bold; text-decoration: underline\">all reactants: {C × </span><span style=\"color: #0000ff; text-decoration-color: #0000ff; font-weight: bold; text-decoration: underline\">5681</span><span style=\"font-weight: bold; text-decoration: underline\">}</span>                                                      <span style=\"color: #808000; text-decoration-color: #808000\">│</span> <span style=\"color: #800000; text-decoration-color: #800000\">│</span>\n",
       "<span style=\"color: #800000; text-decoration-color: #800000\">│</span> <span style=\"color: #808000; text-decoration-color: #808000\">│</span>      recipe = <span style=\"color: #800080; text-decoration-color: #800080; font-weight: bold; text-decoration: underline\">Recipe</span><span style=\"font-weight: bold; text-decoration: underline\">({Ingredient × </span><span style=\"color: #0000ff; text-decoration-color: #0000ff; font-weight: bold; text-decoration: underline\">70</span><span style=\"font-weight: bold; text-decoration: underline\">} --&gt; {Ingredient × </span><span style=\"color: #0000ff; text-decoration-color: #0000ff; font-weight: bold; text-decoration: underline\">12</span><span style=\"font-weight: bold; text-decoration: underline\">} --&gt; {Ingredient × </span><span style=\"color: #0000ff; text-decoration-color: #0000ff; font-weight: bold; text-decoration: underline\">44</span><span style=\"font-weight: bold; text-decoration: underline\">} via {R × </span> <span style=\"color: #808000; text-decoration-color: #808000\">│</span> <span style=\"color: #800000; text-decoration-color: #800000\">│</span>\n",
       "<span style=\"color: #800000; text-decoration-color: #800000\">│</span> <span style=\"color: #808000; text-decoration-color: #808000\">│</span>               <span style=\"color: #0000ff; text-decoration-color: #0000ff; font-weight: bold; text-decoration: underline\">56</span><span style=\"font-weight: bold; text-decoration: underline\">})</span>                                                                           <span style=\"color: #808000; text-decoration-color: #808000\">│</span> <span style=\"color: #800000; text-decoration-color: #800000\">│</span>\n",
       "<span style=\"color: #800000; text-decoration-color: #800000\">│</span> <span style=\"color: #808000; text-decoration-color: #808000\">│</span>     recipes = <span style=\"font-weight: bold\">[</span>                                                                              <span style=\"color: #808000; text-decoration-color: #808000\">│</span> <span style=\"color: #800000; text-decoration-color: #800000\">│</span>\n",
       "<span style=\"color: #800000; text-decoration-color: #800000\">│</span> <span style=\"color: #808000; text-decoration-color: #808000\">│</span>               <span style=\"color: #7f7f7f; text-decoration-color: #7f7f7f\">│   </span><span style=\"color: #800080; text-decoration-color: #800080; font-weight: bold; text-decoration: underline\">Recipe</span><span style=\"font-weight: bold; text-decoration: underline\">({Ingredient × </span><span style=\"color: #0000ff; text-decoration-color: #0000ff; font-weight: bold; text-decoration: underline\">70</span><span style=\"font-weight: bold; text-decoration: underline\">} --&gt; {Ingredient × </span><span style=\"color: #0000ff; text-decoration-color: #0000ff; font-weight: bold; text-decoration: underline\">12</span><span style=\"font-weight: bold; text-decoration: underline\">} --&gt; {Ingredient × </span><span style=\"color: #0000ff; text-decoration-color: #0000ff; font-weight: bold; text-decoration: underline\">44</span><span style=\"font-weight: bold; text-decoration: underline\">} via </span>  <span style=\"color: #808000; text-decoration-color: #808000\">│</span> <span style=\"color: #800000; text-decoration-color: #800000\">│</span>\n",
       "<span style=\"color: #800000; text-decoration-color: #800000\">│</span> <span style=\"color: #808000; text-decoration-color: #808000\">│</span>               <span style=\"font-weight: bold; text-decoration: underline\">{R × </span><span style=\"color: #0000ff; text-decoration-color: #0000ff; font-weight: bold; text-decoration: underline\">56</span><span style=\"font-weight: bold; text-decoration: underline\">})</span>,                                                                     <span style=\"color: #808000; text-decoration-color: #808000\">│</span> <span style=\"color: #800000; text-decoration-color: #800000\">│</span>\n",
       "<span style=\"color: #800000; text-decoration-color: #800000\">│</span> <span style=\"color: #808000; text-decoration-color: #808000\">│</span>               <span style=\"color: #7f7f7f; text-decoration-color: #7f7f7f\">│   </span><span style=\"color: #800080; text-decoration-color: #800080; font-weight: bold; text-decoration: underline\">Recipe</span><span style=\"font-weight: bold; text-decoration: underline\">({Ingredient × </span><span style=\"color: #0000ff; text-decoration-color: #0000ff; font-weight: bold; text-decoration: underline\">70</span><span style=\"font-weight: bold; text-decoration: underline\">} --&gt; {Ingredient × </span><span style=\"color: #0000ff; text-decoration-color: #0000ff; font-weight: bold; text-decoration: underline\">12</span><span style=\"font-weight: bold; text-decoration: underline\">} --&gt; {Ingredient × </span><span style=\"color: #0000ff; text-decoration-color: #0000ff; font-weight: bold; text-decoration: underline\">44</span><span style=\"font-weight: bold; text-decoration: underline\">} via </span>  <span style=\"color: #808000; text-decoration-color: #808000\">│</span> <span style=\"color: #800000; text-decoration-color: #800000\">│</span>\n",
       "<span style=\"color: #800000; text-decoration-color: #800000\">│</span> <span style=\"color: #808000; text-decoration-color: #808000\">│</span>               <span style=\"font-weight: bold; text-decoration: underline\">{R × </span><span style=\"color: #0000ff; text-decoration-color: #0000ff; font-weight: bold; text-decoration: underline\">56</span><span style=\"font-weight: bold; text-decoration: underline\">})</span>,                                                                     <span style=\"color: #808000; text-decoration-color: #808000\">│</span> <span style=\"color: #800000; text-decoration-color: #800000\">│</span>\n",
       "<span style=\"color: #800000; text-decoration-color: #800000\">│</span> <span style=\"color: #808000; text-decoration-color: #808000\">│</span>               <span style=\"color: #7f7f7f; text-decoration-color: #7f7f7f\">│   </span><span style=\"color: #800080; text-decoration-color: #800080; font-weight: bold; text-decoration: underline\">Recipe</span><span style=\"font-weight: bold; text-decoration: underline\">({Ingredient × </span><span style=\"color: #0000ff; text-decoration-color: #0000ff; font-weight: bold; text-decoration: underline\">70</span><span style=\"font-weight: bold; text-decoration: underline\">} --&gt; {Ingredient × </span><span style=\"color: #0000ff; text-decoration-color: #0000ff; font-weight: bold; text-decoration: underline\">12</span><span style=\"font-weight: bold; text-decoration: underline\">} --&gt; {Ingredient × </span><span style=\"color: #0000ff; text-decoration-color: #0000ff; font-weight: bold; text-decoration: underline\">44</span><span style=\"font-weight: bold; text-decoration: underline\">} via </span>  <span style=\"color: #808000; text-decoration-color: #808000\">│</span> <span style=\"color: #800000; text-decoration-color: #800000\">│</span>\n",
       "<span style=\"color: #800000; text-decoration-color: #800000\">│</span> <span style=\"color: #808000; text-decoration-color: #808000\">│</span>               <span style=\"font-weight: bold; text-decoration: underline\">{R × </span><span style=\"color: #0000ff; text-decoration-color: #0000ff; font-weight: bold; text-decoration: underline\">56</span><span style=\"font-weight: bold; text-decoration: underline\">})</span>,                                                                     <span style=\"color: #808000; text-decoration-color: #808000\">│</span> <span style=\"color: #800000; text-decoration-color: #800000\">│</span>\n",
       "<span style=\"color: #800000; text-decoration-color: #800000\">│</span> <span style=\"color: #808000; text-decoration-color: #808000\">│</span>               <span style=\"color: #7f7f7f; text-decoration-color: #7f7f7f\">│   </span><span style=\"color: #800080; text-decoration-color: #800080; font-weight: bold; text-decoration: underline\">Recipe</span><span style=\"font-weight: bold; text-decoration: underline\">({Ingredient × </span><span style=\"color: #0000ff; text-decoration-color: #0000ff; font-weight: bold; text-decoration: underline\">70</span><span style=\"font-weight: bold; text-decoration: underline\">} --&gt; {Ingredient × </span><span style=\"color: #0000ff; text-decoration-color: #0000ff; font-weight: bold; text-decoration: underline\">12</span><span style=\"font-weight: bold; text-decoration: underline\">} --&gt; {Ingredient × </span><span style=\"color: #0000ff; text-decoration-color: #0000ff; font-weight: bold; text-decoration: underline\">44</span><span style=\"font-weight: bold; text-decoration: underline\">} via </span>  <span style=\"color: #808000; text-decoration-color: #808000\">│</span> <span style=\"color: #800000; text-decoration-color: #800000\">│</span>\n",
       "<span style=\"color: #800000; text-decoration-color: #800000\">│</span> <span style=\"color: #808000; text-decoration-color: #808000\">│</span>               <span style=\"font-weight: bold; text-decoration: underline\">{R × </span><span style=\"color: #0000ff; text-decoration-color: #0000ff; font-weight: bold; text-decoration: underline\">56</span><span style=\"font-weight: bold; text-decoration: underline\">})</span>,                                                                     <span style=\"color: #808000; text-decoration-color: #808000\">│</span> <span style=\"color: #800000; text-decoration-color: #800000\">│</span>\n",
       "<span style=\"color: #800000; text-decoration-color: #800000\">│</span> <span style=\"color: #808000; text-decoration-color: #808000\">│</span>               <span style=\"color: #7f7f7f; text-decoration-color: #7f7f7f\">│   </span><span style=\"color: #800080; text-decoration-color: #800080; font-weight: bold; text-decoration: underline\">Recipe</span><span style=\"font-weight: bold; text-decoration: underline\">({Ingredient × </span><span style=\"color: #0000ff; text-decoration-color: #0000ff; font-weight: bold; text-decoration: underline\">70</span><span style=\"font-weight: bold; text-decoration: underline\">} --&gt; {Ingredient × </span><span style=\"color: #0000ff; text-decoration-color: #0000ff; font-weight: bold; text-decoration: underline\">12</span><span style=\"font-weight: bold; text-decoration: underline\">} --&gt; {Ingredient × </span><span style=\"color: #0000ff; text-decoration-color: #0000ff; font-weight: bold; text-decoration: underline\">44</span><span style=\"font-weight: bold; text-decoration: underline\">} via </span>  <span style=\"color: #808000; text-decoration-color: #808000\">│</span> <span style=\"color: #800000; text-decoration-color: #800000\">│</span>\n",
       "<span style=\"color: #800000; text-decoration-color: #800000\">│</span> <span style=\"color: #808000; text-decoration-color: #808000\">│</span>               <span style=\"font-weight: bold; text-decoration: underline\">{R × </span><span style=\"color: #0000ff; text-decoration-color: #0000ff; font-weight: bold; text-decoration: underline\">56</span><span style=\"font-weight: bold; text-decoration: underline\">})</span>,                                                                     <span style=\"color: #808000; text-decoration-color: #808000\">│</span> <span style=\"color: #800000; text-decoration-color: #800000\">│</span>\n",
       "<span style=\"color: #800000; text-decoration-color: #800000\">│</span> <span style=\"color: #808000; text-decoration-color: #808000\">│</span>               <span style=\"color: #7f7f7f; text-decoration-color: #7f7f7f\">│   </span><span style=\"color: #800080; text-decoration-color: #800080; font-weight: bold; text-decoration: underline\">Recipe</span><span style=\"font-weight: bold; text-decoration: underline\">({Ingredient × </span><span style=\"color: #0000ff; text-decoration-color: #0000ff; font-weight: bold; text-decoration: underline\">70</span><span style=\"font-weight: bold; text-decoration: underline\">} --&gt; {Ingredient × </span><span style=\"color: #0000ff; text-decoration-color: #0000ff; font-weight: bold; text-decoration: underline\">12</span><span style=\"font-weight: bold; text-decoration: underline\">} --&gt; {Ingredient × </span><span style=\"color: #0000ff; text-decoration-color: #0000ff; font-weight: bold; text-decoration: underline\">44</span><span style=\"font-weight: bold; text-decoration: underline\">} via </span>  <span style=\"color: #808000; text-decoration-color: #808000\">│</span> <span style=\"color: #800000; text-decoration-color: #800000\">│</span>\n",
       "<span style=\"color: #800000; text-decoration-color: #800000\">│</span> <span style=\"color: #808000; text-decoration-color: #808000\">│</span>               <span style=\"font-weight: bold; text-decoration: underline\">{R × </span><span style=\"color: #0000ff; text-decoration-color: #0000ff; font-weight: bold; text-decoration: underline\">56</span><span style=\"font-weight: bold; text-decoration: underline\">})</span>,                                                                     <span style=\"color: #808000; text-decoration-color: #808000\">│</span> <span style=\"color: #800000; text-decoration-color: #800000\">│</span>\n",
       "<span style=\"color: #800000; text-decoration-color: #800000\">│</span> <span style=\"color: #808000; text-decoration-color: #808000\">│</span>               <span style=\"color: #7f7f7f; text-decoration-color: #7f7f7f\">│   </span><span style=\"color: #800080; text-decoration-color: #800080; font-weight: bold; text-decoration: underline\">Recipe</span><span style=\"font-weight: bold; text-decoration: underline\">({Ingredient × </span><span style=\"color: #0000ff; text-decoration-color: #0000ff; font-weight: bold; text-decoration: underline\">70</span><span style=\"font-weight: bold; text-decoration: underline\">} --&gt; {Ingredient × </span><span style=\"color: #0000ff; text-decoration-color: #0000ff; font-weight: bold; text-decoration: underline\">12</span><span style=\"font-weight: bold; text-decoration: underline\">} --&gt; {Ingredient × </span><span style=\"color: #0000ff; text-decoration-color: #0000ff; font-weight: bold; text-decoration: underline\">44</span><span style=\"font-weight: bold; text-decoration: underline\">} via </span>  <span style=\"color: #808000; text-decoration-color: #808000\">│</span> <span style=\"color: #800000; text-decoration-color: #800000\">│</span>\n",
       "<span style=\"color: #800000; text-decoration-color: #800000\">│</span> <span style=\"color: #808000; text-decoration-color: #808000\">│</span>               <span style=\"font-weight: bold; text-decoration: underline\">{R × </span><span style=\"color: #0000ff; text-decoration-color: #0000ff; font-weight: bold; text-decoration: underline\">56</span><span style=\"font-weight: bold; text-decoration: underline\">})</span>,                                                                     <span style=\"color: #808000; text-decoration-color: #808000\">│</span> <span style=\"color: #800000; text-decoration-color: #800000\">│</span>\n",
       "<span style=\"color: #800000; text-decoration-color: #800000\">│</span> <span style=\"color: #808000; text-decoration-color: #808000\">│</span>               <span style=\"color: #7f7f7f; text-decoration-color: #7f7f7f\">│   </span><span style=\"color: #800080; text-decoration-color: #800080; font-weight: bold; text-decoration: underline\">Recipe</span><span style=\"font-weight: bold; text-decoration: underline\">({Ingredient × </span><span style=\"color: #0000ff; text-decoration-color: #0000ff; font-weight: bold; text-decoration: underline\">70</span><span style=\"font-weight: bold; text-decoration: underline\">} --&gt; {Ingredient × </span><span style=\"color: #0000ff; text-decoration-color: #0000ff; font-weight: bold; text-decoration: underline\">12</span><span style=\"font-weight: bold; text-decoration: underline\">} --&gt; {Ingredient × </span><span style=\"color: #0000ff; text-decoration-color: #0000ff; font-weight: bold; text-decoration: underline\">44</span><span style=\"font-weight: bold; text-decoration: underline\">} via </span>  <span style=\"color: #808000; text-decoration-color: #808000\">│</span> <span style=\"color: #800000; text-decoration-color: #800000\">│</span>\n",
       "<span style=\"color: #800000; text-decoration-color: #800000\">│</span> <span style=\"color: #808000; text-decoration-color: #808000\">│</span>               <span style=\"font-weight: bold; text-decoration: underline\">{R × </span><span style=\"color: #0000ff; text-decoration-color: #0000ff; font-weight: bold; text-decoration: underline\">56</span><span style=\"font-weight: bold; text-decoration: underline\">})</span>,                                                                     <span style=\"color: #808000; text-decoration-color: #808000\">│</span> <span style=\"color: #800000; text-decoration-color: #800000\">│</span>\n",
       "<span style=\"color: #800000; text-decoration-color: #800000\">│</span> <span style=\"color: #808000; text-decoration-color: #808000\">│</span>               <span style=\"color: #7f7f7f; text-decoration-color: #7f7f7f\">│   </span><span style=\"color: #800080; text-decoration-color: #800080; font-weight: bold; text-decoration: underline\">Recipe</span><span style=\"font-weight: bold; text-decoration: underline\">({Ingredient × </span><span style=\"color: #0000ff; text-decoration-color: #0000ff; font-weight: bold; text-decoration: underline\">70</span><span style=\"font-weight: bold; text-decoration: underline\">} --&gt; {Ingredient × </span><span style=\"color: #0000ff; text-decoration-color: #0000ff; font-weight: bold; text-decoration: underline\">12</span><span style=\"font-weight: bold; text-decoration: underline\">} --&gt; {Ingredient × </span><span style=\"color: #0000ff; text-decoration-color: #0000ff; font-weight: bold; text-decoration: underline\">44</span><span style=\"font-weight: bold; text-decoration: underline\">} via </span>  <span style=\"color: #808000; text-decoration-color: #808000\">│</span> <span style=\"color: #800000; text-decoration-color: #800000\">│</span>\n",
       "<span style=\"color: #800000; text-decoration-color: #800000\">│</span> <span style=\"color: #808000; text-decoration-color: #808000\">│</span>               <span style=\"font-weight: bold; text-decoration: underline\">{R × </span><span style=\"color: #0000ff; text-decoration-color: #0000ff; font-weight: bold; text-decoration: underline\">56</span><span style=\"font-weight: bold; text-decoration: underline\">})</span>,                                                                     <span style=\"color: #808000; text-decoration-color: #808000\">│</span> <span style=\"color: #800000; text-decoration-color: #800000\">│</span>\n",
       "<span style=\"color: #800000; text-decoration-color: #800000\">│</span> <span style=\"color: #808000; text-decoration-color: #808000\">│</span>               <span style=\"color: #7f7f7f; text-decoration-color: #7f7f7f\">│   </span><span style=\"color: #800080; text-decoration-color: #800080; font-weight: bold; text-decoration: underline\">Recipe</span><span style=\"font-weight: bold; text-decoration: underline\">({Ingredient × </span><span style=\"color: #0000ff; text-decoration-color: #0000ff; font-weight: bold; text-decoration: underline\">70</span><span style=\"font-weight: bold; text-decoration: underline\">} --&gt; {Ingredient × </span><span style=\"color: #0000ff; text-decoration-color: #0000ff; font-weight: bold; text-decoration: underline\">12</span><span style=\"font-weight: bold; text-decoration: underline\">} --&gt; {Ingredient × </span><span style=\"color: #0000ff; text-decoration-color: #0000ff; font-weight: bold; text-decoration: underline\">44</span><span style=\"font-weight: bold; text-decoration: underline\">} via </span>  <span style=\"color: #808000; text-decoration-color: #808000\">│</span> <span style=\"color: #800000; text-decoration-color: #800000\">│</span>\n",
       "<span style=\"color: #800000; text-decoration-color: #800000\">│</span> <span style=\"color: #808000; text-decoration-color: #808000\">│</span>               <span style=\"font-weight: bold; text-decoration: underline\">{R × </span><span style=\"color: #0000ff; text-decoration-color: #0000ff; font-weight: bold; text-decoration: underline\">56</span><span style=\"font-weight: bold; text-decoration: underline\">})</span>,                                                                     <span style=\"color: #808000; text-decoration-color: #808000\">│</span> <span style=\"color: #800000; text-decoration-color: #800000\">│</span>\n",
       "<span style=\"color: #800000; text-decoration-color: #800000\">│</span> <span style=\"color: #808000; text-decoration-color: #808000\">│</span>               <span style=\"color: #7f7f7f; text-decoration-color: #7f7f7f\">│   </span><span style=\"color: #808000; text-decoration-color: #808000\">...</span> +<span style=\"color: #0000ff; text-decoration-color: #0000ff\">566</span>                                                                   <span style=\"color: #808000; text-decoration-color: #808000\">│</span> <span style=\"color: #800000; text-decoration-color: #800000\">│</span>\n",
       "<span style=\"color: #800000; text-decoration-color: #800000\">│</span> <span style=\"color: #808000; text-decoration-color: #808000\">│</span>               <span style=\"font-weight: bold\">]</span>                                                                              <span style=\"color: #808000; text-decoration-color: #808000\">│</span> <span style=\"color: #800000; text-decoration-color: #800000\">│</span>\n",
       "<span style=\"color: #800000; text-decoration-color: #800000\">│</span> <span style=\"color: #808000; text-decoration-color: #808000\">│</span>         sql = <span style=\"color: #808000; text-decoration-color: #808000\">'\\nSELECT quote_id, quote_smiles, quote_amount, quote_supplier, </span>               <span style=\"color: #808000; text-decoration-color: #808000\">│</span> <span style=\"color: #800000; text-decoration-color: #800000\">│</span>\n",
       "<span style=\"color: #800000; text-decoration-color: #800000\">│</span> <span style=\"color: #808000; text-decoration-color: #808000\">│</span>               <span style=\"color: #808000; text-decoration-color: #808000\">quote_catalogue, q'</span>+<span style=\"color: #0000ff; text-decoration-color: #0000ff\">176301</span>                                                     <span style=\"color: #808000; text-decoration-color: #808000\">│</span> <span style=\"color: #800000; text-decoration-color: #800000\">│</span>\n",
       "<span style=\"color: #800000; text-decoration-color: #800000\">│</span> <span style=\"color: #808000; text-decoration-color: #808000\">╰──────────────────────────────────────────────────────────────────────────────────────────────╯</span> <span style=\"color: #800000; text-decoration-color: #800000\">│</span>\n",
       "<span style=\"color: #800000; text-decoration-color: #800000\">│</span>                                                                                                  <span style=\"color: #800000; text-decoration-color: #800000\">│</span>\n",
       "<span style=\"color: #800000; text-decoration-color: #800000\">│</span> <span style=\"color: #bfbf7f; text-decoration-color: #bfbf7f\">/opt/xchem-fragalysis-2/maxwin/HIPPO/hippo/</span><span style=\"color: #808000; text-decoration-color: #808000; font-weight: bold\">recipe.py</span>:<span style=\"color: #0000ff; text-decoration-color: #0000ff\">1275</span> in <span style=\"color: #00ff00; text-decoration-color: #00ff00\">write_CAR_csv</span>                       <span style=\"color: #800000; text-decoration-color: #800000\">│</span>\n",
       "<span style=\"color: #800000; text-decoration-color: #800000\">│</span>                                                                                                  <span style=\"color: #800000; text-decoration-color: #800000\">│</span>\n",
       "<span style=\"color: #800000; text-decoration-color: #800000\">│</span>   <span style=\"color: #7f7f7f; text-decoration-color: #7f7f7f\">1272 </span><span style=\"color: #7f7f7f; text-decoration-color: #7f7f7f\">│   │   </span>                                                                                  <span style=\"color: #800000; text-decoration-color: #800000\">│</span>\n",
       "<span style=\"color: #800000; text-decoration-color: #800000\">│</span>   <span style=\"color: #7f7f7f; text-decoration-color: #7f7f7f\">1273 </span><span style=\"color: #7f7f7f; text-decoration-color: #7f7f7f\">│   │   </span>df = df.convert_dtypes()                                                          <span style=\"color: #800000; text-decoration-color: #800000\">│</span>\n",
       "<span style=\"color: #800000; text-decoration-color: #800000\">│</span>   <span style=\"color: #7f7f7f; text-decoration-color: #7f7f7f\">1274 </span><span style=\"color: #7f7f7f; text-decoration-color: #7f7f7f\">│   │   </span>                                                                                  <span style=\"color: #800000; text-decoration-color: #800000\">│</span>\n",
       "<span style=\"color: #800000; text-decoration-color: #800000\">│</span> <span style=\"color: #800000; text-decoration-color: #800000\">❱ </span>1275 <span style=\"color: #7f7f7f; text-decoration-color: #7f7f7f\">│   │   </span><span style=\"color: #0000ff; text-decoration-color: #0000ff\">for</span> n_steps <span style=\"color: #ff00ff; text-decoration-color: #ff00ff\">in</span> <span style=\"color: #00ffff; text-decoration-color: #00ffff\">set</span>(df[<span style=\"color: #808000; text-decoration-color: #808000\">\"no-steps\"</span>]):                                               <span style=\"color: #800000; text-decoration-color: #800000\">│</span>\n",
       "<span style=\"color: #800000; text-decoration-color: #800000\">│</span>   <span style=\"color: #7f7f7f; text-decoration-color: #7f7f7f\">1276 </span><span style=\"color: #7f7f7f; text-decoration-color: #7f7f7f\">│   │   │   </span>subset = df[df[<span style=\"color: #808000; text-decoration-color: #808000\">\"no-steps\"</span>] == n_steps]                                        <span style=\"color: #800000; text-decoration-color: #800000\">│</span>\n",
       "<span style=\"color: #800000; text-decoration-color: #800000\">│</span>   <span style=\"color: #7f7f7f; text-decoration-color: #7f7f7f\">1277 </span><span style=\"color: #7f7f7f; text-decoration-color: #7f7f7f\">│   │   │   </span>this_file = file.replace(<span style=\"color: #808000; text-decoration-color: #808000\">\".csv\"</span>, <span style=\"color: #808000; text-decoration-color: #808000\">f\"_{</span>n_steps<span style=\"color: #808000; text-decoration-color: #808000\">}steps.csv\"</span>)                      <span style=\"color: #800000; text-decoration-color: #800000\">│</span>\n",
       "<span style=\"color: #800000; text-decoration-color: #800000\">│</span>   <span style=\"color: #7f7f7f; text-decoration-color: #7f7f7f\">1278 </span><span style=\"color: #7f7f7f; text-decoration-color: #7f7f7f\">│   │   │   </span>mrich.writing(this_file)                                                      <span style=\"color: #800000; text-decoration-color: #800000\">│</span>\n",
       "<span style=\"color: #800000; text-decoration-color: #800000\">│</span>                                                                                                  <span style=\"color: #800000; text-decoration-color: #800000\">│</span>\n",
       "<span style=\"color: #800000; text-decoration-color: #800000\">│</span> <span style=\"color: #808000; text-decoration-color: #808000\">╭─────────────────────────────────────────── locals ───────────────────────────────────────────╮</span> <span style=\"color: #800000; text-decoration-color: #800000\">│</span>\n",
       "<span style=\"color: #800000; text-decoration-color: #800000\">│</span> <span style=\"color: #808000; text-decoration-color: #808000\">│</span> CompoundSet = <span style=\"font-weight: bold\">&lt;</span><span style=\"color: #ff00ff; text-decoration-color: #ff00ff; font-weight: bold\">class</span><span style=\"color: #000000; text-decoration-color: #000000\"> </span><span style=\"color: #808000; text-decoration-color: #808000\">'hippo.cset.CompoundSet'</span><span style=\"font-weight: bold\">&gt;</span>                                               <span style=\"color: #808000; text-decoration-color: #808000\">│</span> <span style=\"color: #800000; text-decoration-color: #800000\">│</span>\n",
       "<span style=\"color: #800000; text-decoration-color: #800000\">│</span> <span style=\"color: #808000; text-decoration-color: #808000\">│</span>   DataFrame = <span style=\"font-weight: bold\">&lt;</span><span style=\"color: #ff00ff; text-decoration-color: #ff00ff; font-weight: bold\">class</span><span style=\"color: #000000; text-decoration-color: #000000\"> </span><span style=\"color: #808000; text-decoration-color: #808000\">'pandas.core.frame.DataFrame'</span><span style=\"font-weight: bold\">&gt;</span>                                          <span style=\"color: #808000; text-decoration-color: #808000\">│</span> <span style=\"color: #800000; text-decoration-color: #800000\">│</span>\n",
       "<span style=\"color: #800000; text-decoration-color: #800000\">│</span> <span style=\"color: #808000; text-decoration-color: #808000\">│</span>          df = Empty DataFrame                                                                <span style=\"color: #808000; text-decoration-color: #808000\">│</span> <span style=\"color: #800000; text-decoration-color: #800000\">│</span>\n",
       "<span style=\"color: #800000; text-decoration-color: #800000\">│</span> <span style=\"color: #808000; text-decoration-color: #808000\">│</span>               Columns: <span style=\"font-weight: bold\">[]</span>                                                                    <span style=\"color: #808000; text-decoration-color: #808000\">│</span> <span style=\"color: #800000; text-decoration-color: #800000\">│</span>\n",
       "<span style=\"color: #800000; text-decoration-color: #800000\">│</span> <span style=\"color: #808000; text-decoration-color: #808000\">│</span>               Index: <span style=\"font-weight: bold\">[]</span>                                                                      <span style=\"color: #808000; text-decoration-color: #808000\">│</span> <span style=\"color: #800000; text-decoration-color: #800000\">│</span>\n",
       "<span style=\"color: #800000; text-decoration-color: #800000\">│</span> <span style=\"color: #808000; text-decoration-color: #808000\">│</span>        file = <span style=\"color: #808000; text-decoration-color: #808000\">'/opt/xchem-fragalysis-2/maxwin/2A_HIPPO/hippo/all_scaffold_recipes/scaffold_…</span> <span style=\"color: #808000; text-decoration-color: #808000\">│</span> <span style=\"color: #800000; text-decoration-color: #800000\">│</span>\n",
       "<span style=\"color: #800000; text-decoration-color: #800000\">│</span> <span style=\"color: #808000; text-decoration-color: #808000\">│</span>        Path = <span style=\"font-weight: bold\">&lt;</span><span style=\"color: #ff00ff; text-decoration-color: #ff00ff; font-weight: bold\">class</span><span style=\"color: #000000; text-decoration-color: #000000\"> </span><span style=\"color: #808000; text-decoration-color: #808000\">'pathlib.Path'</span><span style=\"font-weight: bold\">&gt;</span>                                                         <span style=\"color: #808000; text-decoration-color: #808000\">│</span> <span style=\"color: #800000; text-decoration-color: #800000\">│</span>\n",
       "<span style=\"color: #800000; text-decoration-color: #800000\">│</span> <span style=\"color: #808000; text-decoration-color: #808000\">│</span>   return_df = <span style=\"color: #0000ff; text-decoration-color: #0000ff\">False</span>                                                                          <span style=\"color: #808000; text-decoration-color: #808000\">│</span> <span style=\"color: #800000; text-decoration-color: #800000\">│</span>\n",
       "<span style=\"color: #800000; text-decoration-color: #800000\">│</span> <span style=\"color: #808000; text-decoration-color: #808000\">│</span>      routes = <span style=\"font-weight: bold; text-decoration: underline\">{Route × </span><span style=\"color: #0000ff; text-decoration-color: #0000ff; font-weight: bold; text-decoration: underline\">0</span><span style=\"font-weight: bold; text-decoration: underline\">}</span>                                                                    <span style=\"color: #808000; text-decoration-color: #808000\">│</span> <span style=\"color: #800000; text-decoration-color: #800000\">│</span>\n",
       "<span style=\"color: #800000; text-decoration-color: #800000\">│</span> <span style=\"color: #808000; text-decoration-color: #808000\">│</span>        rows = <span style=\"font-weight: bold\">[]</span>                                                                             <span style=\"color: #808000; text-decoration-color: #808000\">│</span> <span style=\"color: #800000; text-decoration-color: #800000\">│</span>\n",
       "<span style=\"color: #800000; text-decoration-color: #800000\">│</span> <span style=\"color: #808000; text-decoration-color: #808000\">│</span>        self = <span style=\"color: #800080; text-decoration-color: #800080; font-weight: bold; text-decoration: underline\">Recipe</span><span style=\"font-weight: bold; text-decoration: underline\">({Ingredient × </span><span style=\"color: #0000ff; text-decoration-color: #0000ff; font-weight: bold; text-decoration: underline\">70</span><span style=\"font-weight: bold; text-decoration: underline\">} --&gt; {Ingredient × </span><span style=\"color: #0000ff; text-decoration-color: #0000ff; font-weight: bold; text-decoration: underline\">12</span><span style=\"font-weight: bold; text-decoration: underline\">} --&gt; {Ingredient × </span><span style=\"color: #0000ff; text-decoration-color: #0000ff; font-weight: bold; text-decoration: underline\">44</span><span style=\"font-weight: bold; text-decoration: underline\">} via {R × </span> <span style=\"color: #808000; text-decoration-color: #808000\">│</span> <span style=\"color: #800000; text-decoration-color: #800000\">│</span>\n",
       "<span style=\"color: #800000; text-decoration-color: #800000\">│</span> <span style=\"color: #808000; text-decoration-color: #808000\">│</span>               <span style=\"color: #0000ff; text-decoration-color: #0000ff; font-weight: bold; text-decoration: underline\">56</span><span style=\"font-weight: bold; text-decoration: underline\">})</span>                                                                           <span style=\"color: #808000; text-decoration-color: #808000\">│</span> <span style=\"color: #800000; text-decoration-color: #800000\">│</span>\n",
       "<span style=\"color: #800000; text-decoration-color: #800000\">│</span> <span style=\"color: #808000; text-decoration-color: #808000\">╰──────────────────────────────────────────────────────────────────────────────────────────────╯</span> <span style=\"color: #800000; text-decoration-color: #800000\">│</span>\n",
       "<span style=\"color: #800000; text-decoration-color: #800000\">│</span>                                                                                                  <span style=\"color: #800000; text-decoration-color: #800000\">│</span>\n",
       "<span style=\"color: #800000; text-decoration-color: #800000\">│</span> <span style=\"color: #bfbf7f; text-decoration-color: #bfbf7f\">/opt/xchem-fragalysis-2/maxwin/conda_slurm/lib/python3.11/site-packages/pandas/core/</span><span style=\"color: #808000; text-decoration-color: #808000; font-weight: bold\">frame.py</span>:<span style=\"color: #0000ff; text-decoration-color: #0000ff\">410</span> <span style=\"color: #800000; text-decoration-color: #800000\">│</span>\n",
       "<span style=\"color: #800000; text-decoration-color: #800000\">│</span> <span style=\"color: #0000ff; text-decoration-color: #0000ff\">2</span> in <span style=\"color: #00ff00; text-decoration-color: #00ff00\">__getitem__</span>                                                                                 <span style=\"color: #800000; text-decoration-color: #800000\">│</span>\n",
       "<span style=\"color: #800000; text-decoration-color: #800000\">│</span>                                                                                                  <span style=\"color: #800000; text-decoration-color: #800000\">│</span>\n",
       "<span style=\"color: #800000; text-decoration-color: #800000\">│</span>   <span style=\"color: #7f7f7f; text-decoration-color: #7f7f7f\"> 4099 </span><span style=\"color: #7f7f7f; text-decoration-color: #7f7f7f\">│   │   </span><span style=\"color: #0000ff; text-decoration-color: #0000ff\">if</span> is_single_key:                                                                <span style=\"color: #800000; text-decoration-color: #800000\">│</span>\n",
       "<span style=\"color: #800000; text-decoration-color: #800000\">│</span>   <span style=\"color: #7f7f7f; text-decoration-color: #7f7f7f\"> 4100 </span><span style=\"color: #7f7f7f; text-decoration-color: #7f7f7f\">│   │   │   </span><span style=\"color: #0000ff; text-decoration-color: #0000ff\">if</span> <span style=\"color: #00ffff; text-decoration-color: #00ffff\">self</span>.columns.nlevels &gt; <span style=\"color: #0000ff; text-decoration-color: #0000ff\">1</span>:                                                 <span style=\"color: #800000; text-decoration-color: #800000\">│</span>\n",
       "<span style=\"color: #800000; text-decoration-color: #800000\">│</span>   <span style=\"color: #7f7f7f; text-decoration-color: #7f7f7f\"> 4101 </span><span style=\"color: #7f7f7f; text-decoration-color: #7f7f7f\">│   │   │   │   </span><span style=\"color: #0000ff; text-decoration-color: #0000ff\">return</span> <span style=\"color: #00ffff; text-decoration-color: #00ffff\">self</span>._getitem_multilevel(key)                                     <span style=\"color: #800000; text-decoration-color: #800000\">│</span>\n",
       "<span style=\"color: #800000; text-decoration-color: #800000\">│</span> <span style=\"color: #800000; text-decoration-color: #800000\">❱ </span> 4102 <span style=\"color: #7f7f7f; text-decoration-color: #7f7f7f\">│   │   │   </span>indexer = <span style=\"color: #00ffff; text-decoration-color: #00ffff\">self</span>.columns.get_loc(key)                                          <span style=\"color: #800000; text-decoration-color: #800000\">│</span>\n",
       "<span style=\"color: #800000; text-decoration-color: #800000\">│</span>   <span style=\"color: #7f7f7f; text-decoration-color: #7f7f7f\"> 4103 </span><span style=\"color: #7f7f7f; text-decoration-color: #7f7f7f\">│   │   │   </span><span style=\"color: #0000ff; text-decoration-color: #0000ff\">if</span> is_integer(indexer):                                                      <span style=\"color: #800000; text-decoration-color: #800000\">│</span>\n",
       "<span style=\"color: #800000; text-decoration-color: #800000\">│</span>   <span style=\"color: #7f7f7f; text-decoration-color: #7f7f7f\"> 4104 </span><span style=\"color: #7f7f7f; text-decoration-color: #7f7f7f\">│   │   │   │   </span>indexer = [indexer]                                                      <span style=\"color: #800000; text-decoration-color: #800000\">│</span>\n",
       "<span style=\"color: #800000; text-decoration-color: #800000\">│</span>   <span style=\"color: #7f7f7f; text-decoration-color: #7f7f7f\"> 4105 </span><span style=\"color: #7f7f7f; text-decoration-color: #7f7f7f\">│   │   </span><span style=\"color: #0000ff; text-decoration-color: #0000ff\">else</span>:                                                                            <span style=\"color: #800000; text-decoration-color: #800000\">│</span>\n",
       "<span style=\"color: #800000; text-decoration-color: #800000\">│</span>                                                                                                  <span style=\"color: #800000; text-decoration-color: #800000\">│</span>\n",
       "<span style=\"color: #800000; text-decoration-color: #800000\">│</span> <span style=\"color: #808000; text-decoration-color: #808000\">╭──────────── locals ─────────────╮</span>                                                              <span style=\"color: #800000; text-decoration-color: #800000\">│</span>\n",
       "<span style=\"color: #800000; text-decoration-color: #800000\">│</span> <span style=\"color: #808000; text-decoration-color: #808000\">│</span>         is_mi = <span style=\"color: #0000ff; text-decoration-color: #0000ff\">False</span>           <span style=\"color: #808000; text-decoration-color: #808000\">│</span>                                                              <span style=\"color: #800000; text-decoration-color: #800000\">│</span>\n",
       "<span style=\"color: #800000; text-decoration-color: #800000\">│</span> <span style=\"color: #808000; text-decoration-color: #808000\">│</span> is_single_key = <span style=\"color: #0000ff; text-decoration-color: #0000ff\">True</span>            <span style=\"color: #808000; text-decoration-color: #808000\">│</span>                                                              <span style=\"color: #800000; text-decoration-color: #800000\">│</span>\n",
       "<span style=\"color: #800000; text-decoration-color: #800000\">│</span> <span style=\"color: #808000; text-decoration-color: #808000\">│</span>           key = <span style=\"color: #808000; text-decoration-color: #808000\">'no-steps'</span>      <span style=\"color: #808000; text-decoration-color: #808000\">│</span>                                                              <span style=\"color: #800000; text-decoration-color: #800000\">│</span>\n",
       "<span style=\"color: #800000; text-decoration-color: #800000\">│</span> <span style=\"color: #808000; text-decoration-color: #808000\">│</span>          self = Empty DataFrame <span style=\"color: #808000; text-decoration-color: #808000\">│</span>                                                              <span style=\"color: #800000; text-decoration-color: #800000\">│</span>\n",
       "<span style=\"color: #800000; text-decoration-color: #800000\">│</span> <span style=\"color: #808000; text-decoration-color: #808000\">│</span>                 Columns: <span style=\"font-weight: bold\">[]</span>     <span style=\"color: #808000; text-decoration-color: #808000\">│</span>                                                              <span style=\"color: #800000; text-decoration-color: #800000\">│</span>\n",
       "<span style=\"color: #800000; text-decoration-color: #800000\">│</span> <span style=\"color: #808000; text-decoration-color: #808000\">│</span>                 Index: <span style=\"font-weight: bold\">[]</span>       <span style=\"color: #808000; text-decoration-color: #808000\">│</span>                                                              <span style=\"color: #800000; text-decoration-color: #800000\">│</span>\n",
       "<span style=\"color: #800000; text-decoration-color: #800000\">│</span> <span style=\"color: #808000; text-decoration-color: #808000\">╰─────────────────────────────────╯</span>                                                              <span style=\"color: #800000; text-decoration-color: #800000\">│</span>\n",
       "<span style=\"color: #800000; text-decoration-color: #800000\">│</span>                                                                                                  <span style=\"color: #800000; text-decoration-color: #800000\">│</span>\n",
       "<span style=\"color: #800000; text-decoration-color: #800000\">│</span> <span style=\"color: #bfbf7f; text-decoration-color: #bfbf7f\">/opt/xchem-fragalysis-2/maxwin/conda_slurm/lib/python3.11/site-packages/pandas/core/indexes/</span><span style=\"color: #808000; text-decoration-color: #808000; font-weight: bold\">rang</span> <span style=\"color: #800000; text-decoration-color: #800000\">│</span>\n",
       "<span style=\"color: #800000; text-decoration-color: #800000\">│</span> <span style=\"color: #808000; text-decoration-color: #808000; font-weight: bold\">e.py</span>:<span style=\"color: #0000ff; text-decoration-color: #0000ff\">417</span> in <span style=\"color: #00ff00; text-decoration-color: #00ff00\">get_loc</span>                                                                              <span style=\"color: #800000; text-decoration-color: #800000\">│</span>\n",
       "<span style=\"color: #800000; text-decoration-color: #800000\">│</span>                                                                                                  <span style=\"color: #800000; text-decoration-color: #800000\">│</span>\n",
       "<span style=\"color: #800000; text-decoration-color: #800000\">│</span>   <span style=\"color: #7f7f7f; text-decoration-color: #7f7f7f\"> 414 </span><span style=\"color: #7f7f7f; text-decoration-color: #7f7f7f\">│   │   │   </span><span style=\"color: #0000ff; text-decoration-color: #0000ff\">except</span> <span style=\"color: #00ffff; text-decoration-color: #00ffff\">ValueError</span> <span style=\"color: #0000ff; text-decoration-color: #0000ff\">as</span> err:                                                     <span style=\"color: #800000; text-decoration-color: #800000\">│</span>\n",
       "<span style=\"color: #800000; text-decoration-color: #800000\">│</span>   <span style=\"color: #7f7f7f; text-decoration-color: #7f7f7f\"> 415 </span><span style=\"color: #7f7f7f; text-decoration-color: #7f7f7f\">│   │   │   │   </span><span style=\"color: #0000ff; text-decoration-color: #0000ff\">raise</span> <span style=\"color: #00ffff; text-decoration-color: #00ffff\">KeyError</span>(key) <span style=\"color: #0000ff; text-decoration-color: #0000ff\">from</span> <span style=\"color: #00ffff; text-decoration-color: #00ffff; text-decoration: underline\">err</span>                                              <span style=\"color: #800000; text-decoration-color: #800000\">│</span>\n",
       "<span style=\"color: #800000; text-decoration-color: #800000\">│</span>   <span style=\"color: #7f7f7f; text-decoration-color: #7f7f7f\"> 416 </span><span style=\"color: #7f7f7f; text-decoration-color: #7f7f7f\">│   │   </span><span style=\"color: #0000ff; text-decoration-color: #0000ff\">if</span> <span style=\"color: #00ffff; text-decoration-color: #00ffff\">isinstance</span>(key, Hashable):                                                     <span style=\"color: #800000; text-decoration-color: #800000\">│</span>\n",
       "<span style=\"color: #800000; text-decoration-color: #800000\">│</span> <span style=\"color: #800000; text-decoration-color: #800000\">❱ </span> 417 <span style=\"color: #7f7f7f; text-decoration-color: #7f7f7f\">│   │   │   </span><span style=\"color: #0000ff; text-decoration-color: #0000ff\">raise</span> <span style=\"color: #00ffff; text-decoration-color: #00ffff\">KeyError</span>(key)                                                           <span style=\"color: #800000; text-decoration-color: #800000\">│</span>\n",
       "<span style=\"color: #800000; text-decoration-color: #800000\">│</span>   <span style=\"color: #7f7f7f; text-decoration-color: #7f7f7f\"> 418 </span><span style=\"color: #7f7f7f; text-decoration-color: #7f7f7f\">│   │   </span><span style=\"color: #00ffff; text-decoration-color: #00ffff\">self</span>._check_indexing_error(key)                                                   <span style=\"color: #800000; text-decoration-color: #800000\">│</span>\n",
       "<span style=\"color: #800000; text-decoration-color: #800000\">│</span>   <span style=\"color: #7f7f7f; text-decoration-color: #7f7f7f\"> 419 </span><span style=\"color: #7f7f7f; text-decoration-color: #7f7f7f\">│   │   </span><span style=\"color: #0000ff; text-decoration-color: #0000ff\">raise</span> <span style=\"color: #00ffff; text-decoration-color: #00ffff\">KeyError</span>(key)                                                               <span style=\"color: #800000; text-decoration-color: #800000\">│</span>\n",
       "<span style=\"color: #800000; text-decoration-color: #800000\">│</span>   <span style=\"color: #7f7f7f; text-decoration-color: #7f7f7f\"> 420 </span>                                                                                          <span style=\"color: #800000; text-decoration-color: #800000\">│</span>\n",
       "<span style=\"color: #800000; text-decoration-color: #800000\">│</span>                                                                                                  <span style=\"color: #800000; text-decoration-color: #800000\">│</span>\n",
       "<span style=\"color: #800000; text-decoration-color: #800000\">│</span> <span style=\"color: #808000; text-decoration-color: #808000\">╭────────────────── locals ──────────────────╮</span>                                                   <span style=\"color: #800000; text-decoration-color: #800000\">│</span>\n",
       "<span style=\"color: #800000; text-decoration-color: #800000\">│</span> <span style=\"color: #808000; text-decoration-color: #808000\">│</span>  key = <span style=\"color: #808000; text-decoration-color: #808000\">'no-steps'</span>                          <span style=\"color: #808000; text-decoration-color: #808000\">│</span>                                                   <span style=\"color: #800000; text-decoration-color: #800000\">│</span>\n",
       "<span style=\"color: #800000; text-decoration-color: #800000\">│</span> <span style=\"color: #808000; text-decoration-color: #808000\">│</span> self = <span style=\"color: #800080; text-decoration-color: #800080; font-weight: bold\">RangeIndex</span><span style=\"font-weight: bold\">(</span><span style=\"color: #808000; text-decoration-color: #808000\">start</span>=<span style=\"color: #0000ff; text-decoration-color: #0000ff\">0</span>, <span style=\"color: #808000; text-decoration-color: #808000\">stop</span>=<span style=\"color: #0000ff; text-decoration-color: #0000ff\">0</span>, <span style=\"color: #808000; text-decoration-color: #808000\">step</span>=<span style=\"color: #0000ff; text-decoration-color: #0000ff\">1</span><span style=\"font-weight: bold\">)</span> <span style=\"color: #808000; text-decoration-color: #808000\">│</span>                                                   <span style=\"color: #800000; text-decoration-color: #800000\">│</span>\n",
       "<span style=\"color: #800000; text-decoration-color: #800000\">│</span> <span style=\"color: #808000; text-decoration-color: #808000\">╰────────────────────────────────────────────╯</span>                                                   <span style=\"color: #800000; text-decoration-color: #800000\">│</span>\n",
       "<span style=\"color: #800000; text-decoration-color: #800000\">╰──────────────────────────────────────────────────────────────────────────────────────────────────╯</span>\n",
       "<span style=\"color: #ff0000; text-decoration-color: #ff0000; font-weight: bold\">KeyError: </span><span style=\"color: #008000; text-decoration-color: #008000\">'no-steps'</span>\n",
       "</pre>\n"
      ],
      "text/plain": [
       "\u001b[31m╭─\u001b[0m\u001b[31m──────────────────────────────\u001b[0m\u001b[31m \u001b[0m\u001b[1;31mTraceback \u001b[0m\u001b[1;2;31m(most recent call last)\u001b[0m\u001b[31m \u001b[0m\u001b[31m───────────────────────────────\u001b[0m\u001b[31m─╮\u001b[0m\n",
       "\u001b[31m│\u001b[0m in \u001b[92m<module>\u001b[0m:\u001b[94m2\u001b[0m                                                                                    \u001b[31m│\u001b[0m\n",
       "\u001b[31m│\u001b[0m                                                                                                  \u001b[31m│\u001b[0m\n",
       "\u001b[31m│\u001b[0m   \u001b[2m1 \u001b[0m\u001b[94mfor\u001b[0m i,recipe \u001b[95min\u001b[0m \u001b[96menumerate\u001b[0m(recipes):                                                          \u001b[31m│\u001b[0m\n",
       "\u001b[31m│\u001b[0m \u001b[31m❱ \u001b[0m2 \u001b[2m│   \u001b[0mrecipe.write_CAR_csv(\u001b[33mf\u001b[0m\u001b[33m\"\u001b[0m\u001b[33mall_scaffold_recipes/scaffold_Recipe_\u001b[0m\u001b[33m{\u001b[0mi\u001b[33m:\u001b[0m\u001b[33m03\u001b[0m\u001b[33m}\u001b[0m\u001b[33m.csv\u001b[0m\u001b[33m\"\u001b[0m)                 \u001b[31m│\u001b[0m\n",
       "\u001b[31m│\u001b[0m   \u001b[2m3 \u001b[0m                                                                                             \u001b[31m│\u001b[0m\n",
       "\u001b[31m│\u001b[0m                                                                                                  \u001b[31m│\u001b[0m\n",
       "\u001b[31m│\u001b[0m \u001b[33m╭─\u001b[0m\u001b[33m──────────────────────────────────────────\u001b[0m\u001b[33m locals \u001b[0m\u001b[33m──────────────────────────────────────────\u001b[0m\u001b[33m─╮\u001b[0m \u001b[31m│\u001b[0m\n",
       "\u001b[31m│\u001b[0m \u001b[33m│\u001b[0m      animal = \u001b[1;4;35mHIPPO\u001b[0m\u001b[1;4m(\u001b[0m\u001b[1;4;33m\"2A_HIPPO\"\u001b[0m\u001b[1;4m)\u001b[0m                                                              \u001b[33m│\u001b[0m \u001b[31m│\u001b[0m\n",
       "\u001b[31m│\u001b[0m \u001b[33m│\u001b[0m           c = \u001b[1m<\u001b[0m\u001b[1;95msqlite3.Cursor\u001b[0m\u001b[39m object at \u001b[0m\u001b[94m0x7fc697908940\u001b[0m\u001b[1m>\u001b[0m                                      \u001b[33m│\u001b[0m \u001b[31m│\u001b[0m\n",
       "\u001b[31m│\u001b[0m \u001b[33m│\u001b[0m   catalogue = \u001b[1;4;35mHIPPO\u001b[0m\u001b[1;4m(\u001b[0m\u001b[1;4;33m\"EnamineCatalogs\"\u001b[0m\u001b[1;4m)\u001b[0m                                                       \u001b[33m│\u001b[0m \u001b[31m│\u001b[0m\n",
       "\u001b[31m│\u001b[0m \u001b[33m│\u001b[0m        exit = \u001b[1m<\u001b[0m\u001b[1;95mIPython.core.autocall.ZMQExitAutocall\u001b[0m\u001b[39m object at \u001b[0m\u001b[94m0x7fc697927790\u001b[0m\u001b[1m>\u001b[0m               \u001b[33m│\u001b[0m \u001b[31m│\u001b[0m\n",
       "\u001b[31m│\u001b[0m \u001b[33m│\u001b[0m get_ipython = \u001b[1m<\u001b[0m\u001b[1;95mbound\u001b[0m\u001b[39m method InteractiveShell.get_ipython of \u001b[0m                                 \u001b[33m│\u001b[0m \u001b[31m│\u001b[0m\n",
       "\u001b[31m│\u001b[0m \u001b[33m│\u001b[0m               \u001b[39m<ipykernel.zmqshell.ZMQInteractiveShell object at \u001b[0m\u001b[94m0x7fc697923290\u001b[0m\u001b[39m>\u001b[0m\u001b[1m>\u001b[0m             \u001b[33m│\u001b[0m \u001b[31m│\u001b[0m\n",
       "\u001b[31m│\u001b[0m \u001b[33m│\u001b[0m       hippo = \u001b[1m<\u001b[0m\u001b[1;95mmodule\u001b[0m\u001b[39m \u001b[0m\u001b[33m'hippo'\u001b[0m\u001b[39m from \u001b[0m\u001b[33m'/opt/xchem-fragalysis-2/maxwin/HIPPO/hippo/__init__.py'\u001b[0m\u001b[1m>\u001b[0m \u001b[33m│\u001b[0m \u001b[31m│\u001b[0m\n",
       "\u001b[31m│\u001b[0m \u001b[33m│\u001b[0m           i = \u001b[94m0\u001b[0m                                                                              \u001b[33m│\u001b[0m \u001b[31m│\u001b[0m\n",
       "\u001b[31m│\u001b[0m \u001b[33m│\u001b[0m          In = \u001b[1m[\u001b[0m                                                                              \u001b[33m│\u001b[0m \u001b[31m│\u001b[0m\n",
       "\u001b[31m│\u001b[0m \u001b[33m│\u001b[0m               \u001b[2m│   \u001b[0m\u001b[33m''\u001b[0m,                                                                        \u001b[33m│\u001b[0m \u001b[31m│\u001b[0m\n",
       "\u001b[31m│\u001b[0m \u001b[33m│\u001b[0m               \u001b[2m│   \u001b[0m\u001b[33m'animal = hippo.HIPPO\u001b[0m\u001b[1;33m(\u001b[0m\u001b[33m\"2A_HIPPO\", \"A71EV2A_4.sqlite\", \u001b[0m                     \u001b[33m│\u001b[0m \u001b[31m│\u001b[0m\n",
       "\u001b[31m│\u001b[0m \u001b[33m│\u001b[0m               \u001b[33mcopy_from\u001b[0m\u001b[33m=\u001b[0m\u001b[33m\"A71EV2A_3\u001b[0m\u001b[33m.sqlite'\u001b[0m+\u001b[94m2\u001b[0m,                                                \u001b[33m│\u001b[0m \u001b[31m│\u001b[0m\n",
       "\u001b[31m│\u001b[0m \u001b[33m│\u001b[0m               \u001b[2m│   \u001b[0m\u001b[33m\"get_ipython\u001b[0m\u001b[1;33m(\u001b[0m\u001b[1;33m)\u001b[0m\u001b[33m.run_line_magic\u001b[0m\u001b[1;33m(\u001b[0m\u001b[33m'load_ext', \u001b[0m                                 \u001b[33m│\u001b[0m \u001b[31m│\u001b[0m\n",
       "\u001b[31m│\u001b[0m \u001b[33m│\u001b[0m               \u001b[33m'autoreload'\u001b[0m\u001b[1;33m)\u001b[0m\u001b[33m\\nget_ipython\u001b[0m\u001b[1;33m(\u001b[0m\u001b[1;33m)\u001b[0m\u001b[33m.run_line_ma\"\u001b[0m+\u001b[94m163\u001b[0m,                                 \u001b[33m│\u001b[0m \u001b[31m│\u001b[0m\n",
       "\u001b[31m│\u001b[0m \u001b[33m│\u001b[0m               \u001b[2m│   \u001b[0m\u001b[33m'animal = hippo.HIPPO\u001b[0m\u001b[1;33m(\u001b[0m\u001b[33m\"2A_HIPPO\", \"A71EV2A_4.sqlite\", \u001b[0m                     \u001b[33m│\u001b[0m \u001b[31m│\u001b[0m\n",
       "\u001b[31m│\u001b[0m \u001b[33m│\u001b[0m               \u001b[33mcopy_from\u001b[0m\u001b[33m=\u001b[0m\u001b[33m\"A71EV2A_3\u001b[0m\u001b[33m.sqlite'\u001b[0m+\u001b[94m2\u001b[0m,                                                \u001b[33m│\u001b[0m \u001b[31m│\u001b[0m\n",
       "\u001b[31m│\u001b[0m \u001b[33m│\u001b[0m               \u001b[2m│   \u001b[0m\u001b[33m'animal.db.backup\u001b[0m\u001b[1;33m(\u001b[0m\u001b[1;33m)\u001b[0m\u001b[33m'\u001b[0m,                                                      \u001b[33m│\u001b[0m \u001b[31m│\u001b[0m\n",
       "\u001b[31m│\u001b[0m \u001b[33m│\u001b[0m               \u001b[2m│   \u001b[0m\u001b[33m'animal.plot_reaction_funnel\u001b[0m\u001b[1;33m(\u001b[0m\u001b[1;33m)\u001b[0m\u001b[33m'\u001b[0m,                                           \u001b[33m│\u001b[0m \u001b[31m│\u001b[0m\n",
       "\u001b[31m│\u001b[0m \u001b[33m│\u001b[0m               \u001b[2m│   \u001b[0m\u001b[33m'animal.plot_reaction_funnel\u001b[0m\u001b[1;33m(\u001b[0m\u001b[33mlogo\u001b[0m\u001b[33m=\u001b[0m\u001b[33mFalse\u001b[0m\u001b[1;33m)\u001b[0m\u001b[33m'\u001b[0m,                                 \u001b[33m│\u001b[0m \u001b[31m│\u001b[0m\n",
       "\u001b[31m│\u001b[0m \u001b[33m│\u001b[0m               \u001b[2m│   \u001b[0m\u001b[33m'reactants = animal.reactants'\u001b[0m,                                            \u001b[33m│\u001b[0m \u001b[31m│\u001b[0m\n",
       "\u001b[31m│\u001b[0m \u001b[33m│\u001b[0m               \u001b[2m│   \u001b[0m\u001b[33m'reactants = animal.reactants\\nreactants'\u001b[0m,                                 \u001b[33m│\u001b[0m \u001b[31m│\u001b[0m\n",
       "\u001b[31m│\u001b[0m \u001b[33m│\u001b[0m               \u001b[2m│   \u001b[0m\u001b[33m'catalogue = hippo.HIPPO\u001b[0m\u001b[1;33m(\u001b[0m\u001b[33m\"EnamineCatalogs\", \u001b[0m                               \u001b[33m│\u001b[0m \u001b[31m│\u001b[0m\n",
       "\u001b[31m│\u001b[0m \u001b[33m│\u001b[0m               \u001b[33m\"/opt/xchem-fragalysis-2/EnamineCatal'\u001b[0m+\u001b[94m29\u001b[0m,                                     \u001b[33m│\u001b[0m \u001b[31m│\u001b[0m\n",
       "\u001b[31m│\u001b[0m \u001b[33m│\u001b[0m               \u001b[2m│   \u001b[0m\u001b[33m...\u001b[0m +\u001b[94m22\u001b[0m                                                                    \u001b[33m│\u001b[0m \u001b[31m│\u001b[0m\n",
       "\u001b[31m│\u001b[0m \u001b[33m│\u001b[0m               \u001b[1m]\u001b[0m                                                                              \u001b[33m│\u001b[0m \u001b[31m│\u001b[0m\n",
       "\u001b[31m│\u001b[0m \u001b[33m│\u001b[0m   inchikeys = \u001b[1m[\u001b[0m                                                                              \u001b[33m│\u001b[0m \u001b[31m│\u001b[0m\n",
       "\u001b[31m│\u001b[0m \u001b[33m│\u001b[0m               \u001b[2m│   \u001b[0m\u001b[33m'ZFLKDMGBVZHBAC-UHFFFAOYSA-N'\u001b[0m,                                             \u001b[33m│\u001b[0m \u001b[31m│\u001b[0m\n",
       "\u001b[31m│\u001b[0m \u001b[33m│\u001b[0m               \u001b[2m│   \u001b[0m\u001b[33m'YMSMEZAYZIYFGA-UHFFFAOYSA-N'\u001b[0m,                                             \u001b[33m│\u001b[0m \u001b[31m│\u001b[0m\n",
       "\u001b[31m│\u001b[0m \u001b[33m│\u001b[0m               \u001b[2m│   \u001b[0m\u001b[33m'JFGXRDGYMLGBBB-UHFFFAOYSA-N'\u001b[0m,                                             \u001b[33m│\u001b[0m \u001b[31m│\u001b[0m\n",
       "\u001b[31m│\u001b[0m \u001b[33m│\u001b[0m               \u001b[2m│   \u001b[0m\u001b[33m'QTEBJBNJJATETR-UHFFFAOYSA-N'\u001b[0m,                                             \u001b[33m│\u001b[0m \u001b[31m│\u001b[0m\n",
       "\u001b[31m│\u001b[0m \u001b[33m│\u001b[0m               \u001b[2m│   \u001b[0m\u001b[33m'DLFVBJFMPXGRIB-UHFFFAOYSA-N'\u001b[0m,                                             \u001b[33m│\u001b[0m \u001b[31m│\u001b[0m\n",
       "\u001b[31m│\u001b[0m \u001b[33m│\u001b[0m               \u001b[2m│   \u001b[0m\u001b[33m'XFFSBSNRWOVMFS-UHFFFAOYSA-N'\u001b[0m,                                             \u001b[33m│\u001b[0m \u001b[31m│\u001b[0m\n",
       "\u001b[31m│\u001b[0m \u001b[33m│\u001b[0m               \u001b[2m│   \u001b[0m\u001b[33m'FOCAUTSVDIKZOP-UHFFFAOYSA-N'\u001b[0m,                                             \u001b[33m│\u001b[0m \u001b[31m│\u001b[0m\n",
       "\u001b[31m│\u001b[0m \u001b[33m│\u001b[0m               \u001b[2m│   \u001b[0m\u001b[33m'TZGPACAKMCUCKX-UHFFFAOYSA-N'\u001b[0m,                                             \u001b[33m│\u001b[0m \u001b[31m│\u001b[0m\n",
       "\u001b[31m│\u001b[0m \u001b[33m│\u001b[0m               \u001b[2m│   \u001b[0m\u001b[33m'GYXHHICIFZSKKZ-UHFFFAOYSA-N'\u001b[0m,                                             \u001b[33m│\u001b[0m \u001b[31m│\u001b[0m\n",
       "\u001b[31m│\u001b[0m \u001b[33m│\u001b[0m               \u001b[2m│   \u001b[0m\u001b[33m'JBIKZDFUXGHTHD-UHFFFAOYSA-N'\u001b[0m,                                             \u001b[33m│\u001b[0m \u001b[31m│\u001b[0m\n",
       "\u001b[31m│\u001b[0m \u001b[33m│\u001b[0m               \u001b[2m│   \u001b[0m\u001b[33m...\u001b[0m +\u001b[94m5671\u001b[0m                                                                  \u001b[33m│\u001b[0m \u001b[31m│\u001b[0m\n",
       "\u001b[31m│\u001b[0m \u001b[33m│\u001b[0m               \u001b[1m]\u001b[0m                                                                              \u001b[33m│\u001b[0m \u001b[31m│\u001b[0m\n",
       "\u001b[31m│\u001b[0m \u001b[33m│\u001b[0m       mrich = \u001b[1m<\u001b[0m\u001b[1;95mmodule\u001b[0m\u001b[39m \u001b[0m\u001b[33m'mrich'\u001b[0m\u001b[39m from \u001b[0m                                                          \u001b[33m│\u001b[0m \u001b[31m│\u001b[0m\n",
       "\u001b[31m│\u001b[0m \u001b[33m│\u001b[0m               \u001b[33m'/opt/xchem-fragalysis-2/maxwin/conda_slurm/lib/python3.11/site-packages/mric…\u001b[0m \u001b[33m│\u001b[0m \u001b[31m│\u001b[0m\n",
       "\u001b[31m│\u001b[0m \u001b[33m│\u001b[0m        open = \u001b[1m<\u001b[0m\u001b[1;95mfunction\u001b[0m\u001b[39m open at \u001b[0m\u001b[94m0x7fc698a0ea20\u001b[0m\u001b[1m>\u001b[0m                                              \u001b[33m│\u001b[0m \u001b[31m│\u001b[0m\n",
       "\u001b[31m│\u001b[0m \u001b[33m│\u001b[0m         Out = \u001b[1m{\u001b[0m                                                                              \u001b[33m│\u001b[0m \u001b[31m│\u001b[0m\n",
       "\u001b[31m│\u001b[0m \u001b[33m│\u001b[0m               \u001b[2m│   \u001b[0m\u001b[94m5\u001b[0m: \u001b[1;35mFigure\u001b[0m\u001b[1m(\u001b[0m\u001b[1m{\u001b[0m                                                                \u001b[33m│\u001b[0m \u001b[31m│\u001b[0m\n",
       "\u001b[31m│\u001b[0m \u001b[33m│\u001b[0m               \u001b[2m│   \u001b[0m\u001b[33m'data'\u001b[0m: \u001b[1m[\u001b[0m\u001b[1m{\u001b[0m\u001b[33m'hovertemplate'\u001b[0m: \u001b[33m'\u001b[0m\u001b[33mcategory\u001b[0m\u001b[33m=%\u001b[0m\u001b[1;33m{\u001b[0m\u001b[33mx\u001b[0m\u001b[1;33m}\u001b[0m\u001b[1;33m<\u001b[0m\u001b[1;33mbr\u001b[0m\u001b[33m>\u001b[0m\u001b[33mnumber\u001b[0m\u001b[33m=%\u001b[0m\u001b[1;33m{\u001b[0m\u001b[33my\u001b[0m\u001b[1;33m}\u001b[0m\u001b[33m<extra></extra>'\u001b[0m\u001b[39m,\u001b[0m  \u001b[33m│\u001b[0m \u001b[31m│\u001b[0m\n",
       "\u001b[31m│\u001b[0m \u001b[33m│\u001b[0m               \u001b[2;39m│   │   │     \u001b[0m\u001b[33m'legendgroup'\u001b[0m\u001b[39m: \u001b[0m\u001b[33m''\u001b[0m\u001b[39m,\u001b[0m                                               \u001b[33m│\u001b[0m \u001b[31m│\u001b[0m\n",
       "\u001b[31m│\u001b[0m \u001b[33m│\u001b[0m               \u001b[2;39m│   │   │     \u001b[0m\u001b[33m'marker'\u001b[0m\u001b[39m: \u001b[0m\u001b[1;39m{\u001b[0m\u001b[33m'color'\u001b[0m\u001b[39m: \u001b[0m\u001b[33m'#636efa'\u001b[0m\u001b[1;39m}\u001b[0m\u001b[39m,\u001b[0m                                  \u001b[33m│\u001b[0m \u001b[31m│\u001b[0m\n",
       "\u001b[31m│\u001b[0m \u001b[33m│\u001b[0m               \u001b[2;39m│   │   │     \u001b[0m\u001b[33m'name'\u001b[0m\u001b[39m: \u001b[0m\u001b[33m''\u001b[0m\u001b[39m,\u001b[0m                                                      \u001b[33m│\u001b[0m \u001b[31m│\u001b[0m\n",
       "\u001b[31m│\u001b[0m \u001b[33m│\u001b[0m               \u001b[2;39m│   │   │     \u001b[0m\u001b[33m'orientation'\u001b[0m\u001b[39m: \u001b[0m\u001b[33m'v'\u001b[0m\u001b[39m,\u001b[0m                                              \u001b[33m│\u001b[0m \u001b[31m│\u001b[0m\n",
       "\u001b[31m│\u001b[0m \u001b[33m│\u001b[0m               \u001b[2;39m│   │   │     \u001b[0m\u001b[33m'showlegend'\u001b[0m\u001b[39m: \u001b[0m\u001b[94mFalse\u001b[0m\u001b[39m,\u001b[0m                                             \u001b[33m│\u001b[0m \u001b[31m│\u001b[0m\n",
       "\u001b[31m│\u001b[0m \u001b[33m│\u001b[0m               \u001b[2;39m│   │   │     \u001b[0m\u001b[33m'type'\u001b[0m\u001b[39m: \u001b[0m\u001b[33m'funnel'\u001b[0m\u001b[39m,\u001b[0m                                                \u001b[33m│\u001b[0m \u001b[31m│\u001b[0m\n",
       "\u001b[31m│\u001b[0m \u001b[33m│\u001b[0m               \u001b[2;39m│   │   │     \u001b[0m\u001b[33m'x'\u001b[0m\u001b[39m: \u001b[0m\u001b[1;35marray\u001b[0m\u001b[1;39m(\u001b[0m\u001b[1;39m[\u001b[0m\u001b[33m'Reactants'\u001b[0m\u001b[39m, \u001b[0m\u001b[33m'Intermediates'\u001b[0m\u001b[39m, \u001b[0m\u001b[33m'Products'\u001b[0m\u001b[1;39m]\u001b[0m\u001b[39m, \u001b[0m          \u001b[33m│\u001b[0m \u001b[31m│\u001b[0m\n",
       "\u001b[31m│\u001b[0m \u001b[33m│\u001b[0m               \u001b[33mdtype\u001b[0m\u001b[39m=\u001b[0m\u001b[35mobject\u001b[0m\u001b[1;39m)\u001b[0m\u001b[39m,\u001b[0m                                                                 \u001b[33m│\u001b[0m \u001b[31m│\u001b[0m\n",
       "\u001b[31m│\u001b[0m \u001b[33m│\u001b[0m               \u001b[2;39m│   │   │     \u001b[0m\u001b[33m'xaxis'\u001b[0m\u001b[39m: \u001b[0m\u001b[33m'x'\u001b[0m\u001b[39m,\u001b[0m                                                    \u001b[33m│\u001b[0m \u001b[31m│\u001b[0m\n",
       "\u001b[31m│\u001b[0m \u001b[33m│\u001b[0m               \u001b[2;39m│   │   │     \u001b[0m\u001b[33m'y'\u001b[0m\u001b[39m: \u001b[0m\u001b[1;35marray\u001b[0m\u001b[1;39m(\u001b[0m\u001b[1;39m[\u001b[0m\u001b[39m  \u001b[0m\u001b[94m5681\u001b[0m\u001b[39m,   \u001b[0m\u001b[94m5411\u001b[0m\u001b[39m, \u001b[0m\u001b[94m110970\u001b[0m\u001b[1;39m]\u001b[0m\u001b[1;39m)\u001b[0m\u001b[39m,\u001b[0m                            \u001b[33m│\u001b[0m \u001b[31m│\u001b[0m\n",
       "\u001b[31m│\u001b[0m \u001b[33m│\u001b[0m               \u001b[2;39m│   │   │     \u001b[0m\u001b[33m'yaxis'\u001b[0m\u001b[39m: \u001b[0m\u001b[33m'y'\u001b[0m\u001b[1;39m}\u001b[0m\u001b[1;39m]\u001b[0m\u001b[39m,\u001b[0m                                                  \u001b[33m│\u001b[0m \u001b[31m│\u001b[0m\n",
       "\u001b[31m│\u001b[0m \u001b[33m│\u001b[0m               \u001b[2;39m│   \u001b[0m\u001b[33m'layout'\u001b[0m\u001b[39m: \u001b[0m\u001b[1;39m{\u001b[0m\u001b[33m'images'\u001b[0m\u001b[39m: \u001b[0m\u001b[1;39m[\u001b[0m\u001b[1;39m{\u001b[0m\u001b[33m'sizex'\u001b[0m\u001b[39m: \u001b[0m\u001b[94m0.3\u001b[0m\u001b[39m,\u001b[0m                                       \u001b[33m│\u001b[0m \u001b[31m│\u001b[0m\n",
       "\u001b[31m│\u001b[0m \u001b[33m│\u001b[0m               \u001b[2;39m│   │   │   │   │   │      \u001b[0m\u001b[33m'sizey'\u001b[0m\u001b[39m: \u001b[0m\u001b[94m0.3\u001b[0m\u001b[39m,\u001b[0m                                       \u001b[33m│\u001b[0m \u001b[31m│\u001b[0m\n",
       "\u001b[31m│\u001b[0m \u001b[33m│\u001b[0m               \u001b[2;39m│   │   │   │   │   │      \u001b[0m\u001b[33m'source'\u001b[0m\u001b[39m: \u001b[0m\u001b[1;39m(\u001b[0m\u001b[33m'https://raw.githubusercontent.'\u001b[0m\u001b[39m \u001b[0m\u001b[33m...\u001b[0m\u001b[39m \u001b[0m    \u001b[33m│\u001b[0m \u001b[31m│\u001b[0m\n",
       "\u001b[31m│\u001b[0m \u001b[33m│\u001b[0m               \u001b[33m'logos/hippo_logo_tightcrop.png'\u001b[0m\u001b[1;39m)\u001b[0m\u001b[39m,\u001b[0m                                             \u001b[33m│\u001b[0m \u001b[31m│\u001b[0m\n",
       "\u001b[31m│\u001b[0m \u001b[33m│\u001b[0m               \u001b[2;39m│   │   │   │   │   │      \u001b[0m\u001b[33m'x'\u001b[0m\u001b[39m: \u001b[0m\u001b[94m0.95\u001b[0m\u001b[39m,\u001b[0m                                          \u001b[33m│\u001b[0m \u001b[31m│\u001b[0m\n",
       "\u001b[31m│\u001b[0m \u001b[33m│\u001b[0m               \u001b[2;39m│   │   │   │   │   │      \u001b[0m\u001b[33m'xanchor'\u001b[0m\u001b[39m: \u001b[0m\u001b[33m'right'\u001b[0m\u001b[39m,\u001b[0m                                 \u001b[33m│\u001b[0m \u001b[31m│\u001b[0m\n",
       "\u001b[31m│\u001b[0m \u001b[33m│\u001b[0m               \u001b[2;39m│   │   │   │   │   │      \u001b[0m\u001b[33m'xref'\u001b[0m\u001b[39m: \u001b[0m\u001b[33m'paper'\u001b[0m\u001b[39m,\u001b[0m                                    \u001b[33m│\u001b[0m \u001b[31m│\u001b[0m\n",
       "\u001b[31m│\u001b[0m \u001b[33m│\u001b[0m               \u001b[2;39m│   │   │   │   │   │      \u001b[0m\u001b[33m'y'\u001b[0m\u001b[39m: \u001b[0m\u001b[94m0.95\u001b[0m\u001b[39m,\u001b[0m                                          \u001b[33m│\u001b[0m \u001b[31m│\u001b[0m\n",
       "\u001b[31m│\u001b[0m \u001b[33m│\u001b[0m               \u001b[2;39m│   │   │   │   │   │      \u001b[0m\u001b[33m'yanchor'\u001b[0m\u001b[39m: \u001b[0m\u001b[33m'top'\u001b[0m\u001b[39m,\u001b[0m                                   \u001b[33m│\u001b[0m \u001b[31m│\u001b[0m\n",
       "\u001b[31m│\u001b[0m \u001b[33m│\u001b[0m               \u001b[2;39m│   │   │   │   │   │      \u001b[0m\u001b[33m'yref'\u001b[0m\u001b[39m: \u001b[0m\u001b[33m'paper'\u001b[0m\u001b[1;39m}\u001b[0m\u001b[1;39m]\u001b[0m\u001b[39m,\u001b[0m                                  \u001b[33m│\u001b[0m \u001b[31m│\u001b[0m\n",
       "\u001b[31m│\u001b[0m \u001b[33m│\u001b[0m               \u001b[2;39m│   │   │      \u001b[0m\u001b[33m'legend'\u001b[0m\u001b[39m: \u001b[0m\u001b[1;39m{\u001b[0m\u001b[33m'tracegroupgap'\u001b[0m\u001b[39m: \u001b[0m\u001b[94m0\u001b[0m\u001b[1;39m}\u001b[0m\u001b[39m,\u001b[0m                                 \u001b[33m│\u001b[0m \u001b[31m│\u001b[0m\n",
       "\u001b[31m│\u001b[0m \u001b[33m│\u001b[0m               \u001b[2;39m│   │   │      \u001b[0m\u001b[33m'margin'\u001b[0m\u001b[39m: \u001b[0m\u001b[1;39m{\u001b[0m\u001b[33m't'\u001b[0m\u001b[39m: \u001b[0m\u001b[94m60\u001b[0m\u001b[1;39m}\u001b[0m\u001b[39m,\u001b[0m                                            \u001b[33m│\u001b[0m \u001b[31m│\u001b[0m\n",
       "\u001b[31m│\u001b[0m \u001b[33m│\u001b[0m               \u001b[2;39m│   │   │      \u001b[0m\u001b[33m'template'\u001b[0m\u001b[39m: \u001b[0m\u001b[33m'...'\u001b[0m\u001b[39m,\u001b[0m                                              \u001b[33m│\u001b[0m \u001b[31m│\u001b[0m\n",
       "\u001b[31m│\u001b[0m \u001b[33m│\u001b[0m               \u001b[2;39m│   │   │      \u001b[0m\u001b[33m'title'\u001b[0m\u001b[39m: \u001b[0m\u001b[1;39m{\u001b[0m\u001b[33m'automargin'\u001b[0m\u001b[39m: \u001b[0m\u001b[94mFalse\u001b[0m\u001b[39m, \u001b[0m\u001b[33m'text'\u001b[0m\u001b[39m: \u001b[0m\u001b[33m'<b>2A_HIPPO</b>: \u001b[0m       \u001b[33m│\u001b[0m \u001b[31m│\u001b[0m\n",
       "\u001b[31m│\u001b[0m \u001b[33m│\u001b[0m               \u001b[33mReaction statistics'\u001b[0m\u001b[39m, \u001b[0m\u001b[33m'yref'\u001b[0m\u001b[39m: \u001b[0m\u001b[33m'container'\u001b[0m\u001b[1;39m}\u001b[0m\u001b[39m,\u001b[0m                                    \u001b[33m│\u001b[0m \u001b[31m│\u001b[0m\n",
       "\u001b[31m│\u001b[0m \u001b[33m│\u001b[0m               \u001b[2;39m│   │   │      \u001b[0m\u001b[33m'xaxis'\u001b[0m\u001b[39m: \u001b[0m\u001b[1;39m{\u001b[0m\u001b[33m'anchor'\u001b[0m\u001b[39m: \u001b[0m\u001b[33m'y'\u001b[0m\u001b[39m, \u001b[0m\u001b[33m'domain'\u001b[0m\u001b[39m: \u001b[0m\u001b[1;39m[\u001b[0m\u001b[94m0.0\u001b[0m\u001b[39m, \u001b[0m\u001b[94m1.0\u001b[0m\u001b[1;39m]\u001b[0m\u001b[39m, \u001b[0m\u001b[33m'title'\u001b[0m\u001b[39m: \u001b[0m        \u001b[33m│\u001b[0m \u001b[31m│\u001b[0m\n",
       "\u001b[31m│\u001b[0m \u001b[33m│\u001b[0m               \u001b[1;39m{\u001b[0m\u001b[33m'text'\u001b[0m\u001b[39m: \u001b[0m\u001b[33m'category'\u001b[0m\u001b[1;39m}\u001b[0m\u001b[1;39m}\u001b[0m\u001b[39m,\u001b[0m                                                         \u001b[33m│\u001b[0m \u001b[31m│\u001b[0m\n",
       "\u001b[31m│\u001b[0m \u001b[33m│\u001b[0m               \u001b[2;39m│   │   │      \u001b[0m\u001b[33m'yaxis'\u001b[0m\u001b[39m: \u001b[0m\u001b[1;39m{\u001b[0m\u001b[33m'anchor'\u001b[0m\u001b[39m: \u001b[0m\u001b[33m'x'\u001b[0m\u001b[39m, \u001b[0m\u001b[33m'domain'\u001b[0m\u001b[39m: \u001b[0m\u001b[1;39m[\u001b[0m\u001b[94m0.0\u001b[0m\u001b[39m, \u001b[0m\u001b[94m1.0\u001b[0m\u001b[1;39m]\u001b[0m\u001b[39m, \u001b[0m\u001b[33m'title'\u001b[0m\u001b[39m: \u001b[0m        \u001b[33m│\u001b[0m \u001b[31m│\u001b[0m\n",
       "\u001b[31m│\u001b[0m \u001b[33m│\u001b[0m               \u001b[1;39m{\u001b[0m\u001b[33m'text'\u001b[0m\u001b[39m: \u001b[0m\u001b[33m'number'\u001b[0m\u001b[1;39m}\u001b[0m\u001b[1;39m}\u001b[0m\u001b[1;39m}\u001b[0m                                                           \u001b[33m│\u001b[0m \u001b[31m│\u001b[0m\n",
       "\u001b[31m│\u001b[0m \u001b[33m│\u001b[0m               \u001b[1;39m}\u001b[0m\u001b[1;39m)\u001b[0m\u001b[39m,\u001b[0m                                                                            \u001b[33m│\u001b[0m \u001b[31m│\u001b[0m\n",
       "\u001b[31m│\u001b[0m \u001b[33m│\u001b[0m               \u001b[2;39m│   \u001b[0m\u001b[94m6\u001b[0m\u001b[39m: \u001b[0m\u001b[1;35mFigure\u001b[0m\u001b[1;39m(\u001b[0m\u001b[1;39m{\u001b[0m                                                                \u001b[33m│\u001b[0m \u001b[31m│\u001b[0m\n",
       "\u001b[31m│\u001b[0m \u001b[33m│\u001b[0m               \u001b[2;39m│   \u001b[0m\u001b[33m'data'\u001b[0m\u001b[39m: \u001b[0m\u001b[1;39m[\u001b[0m\u001b[1;39m{\u001b[0m\u001b[33m'hovertemplate'\u001b[0m\u001b[39m: \u001b[0m\u001b[33m'\u001b[0m\u001b[33mcategory\u001b[0m\u001b[33m=%\u001b[0m\u001b[1;33m{\u001b[0m\u001b[33mx\u001b[0m\u001b[1;33m}\u001b[0m\u001b[33m<br>\u001b[0m\u001b[33mnumber\u001b[0m\u001b[33m=%\u001b[0m\u001b[1;33m{\u001b[0m\u001b[33my\u001b[0m\u001b[1;33m}\u001b[0m\u001b[33m<extra></extra>'\u001b[0m\u001b[39m,\u001b[0m  \u001b[33m│\u001b[0m \u001b[31m│\u001b[0m\n",
       "\u001b[31m│\u001b[0m \u001b[33m│\u001b[0m               \u001b[2;39m│   │   │     \u001b[0m\u001b[33m'legendgroup'\u001b[0m\u001b[39m: \u001b[0m\u001b[33m''\u001b[0m\u001b[39m,\u001b[0m                                               \u001b[33m│\u001b[0m \u001b[31m│\u001b[0m\n",
       "\u001b[31m│\u001b[0m \u001b[33m│\u001b[0m               \u001b[2;39m│   │   │     \u001b[0m\u001b[33m'marker'\u001b[0m\u001b[39m: \u001b[0m\u001b[1;39m{\u001b[0m\u001b[33m'color'\u001b[0m\u001b[39m: \u001b[0m\u001b[33m'#636efa'\u001b[0m\u001b[1;39m}\u001b[0m\u001b[39m,\u001b[0m                                  \u001b[33m│\u001b[0m \u001b[31m│\u001b[0m\n",
       "\u001b[31m│\u001b[0m \u001b[33m│\u001b[0m               \u001b[2;39m│   │   │     \u001b[0m\u001b[33m'name'\u001b[0m\u001b[39m: \u001b[0m\u001b[33m''\u001b[0m\u001b[39m,\u001b[0m                                                      \u001b[33m│\u001b[0m \u001b[31m│\u001b[0m\n",
       "\u001b[31m│\u001b[0m \u001b[33m│\u001b[0m               \u001b[2;39m│   │   │     \u001b[0m\u001b[33m'orientation'\u001b[0m\u001b[39m: \u001b[0m\u001b[33m'v'\u001b[0m\u001b[39m,\u001b[0m                                              \u001b[33m│\u001b[0m \u001b[31m│\u001b[0m\n",
       "\u001b[31m│\u001b[0m \u001b[33m│\u001b[0m               \u001b[2;39m│   │   │     \u001b[0m\u001b[33m'showlegend'\u001b[0m\u001b[39m: \u001b[0m\u001b[94mFalse\u001b[0m\u001b[39m,\u001b[0m                                             \u001b[33m│\u001b[0m \u001b[31m│\u001b[0m\n",
       "\u001b[31m│\u001b[0m \u001b[33m│\u001b[0m               \u001b[2;39m│   │   │     \u001b[0m\u001b[33m'type'\u001b[0m\u001b[39m: \u001b[0m\u001b[33m'funnel'\u001b[0m\u001b[39m,\u001b[0m                                                \u001b[33m│\u001b[0m \u001b[31m│\u001b[0m\n",
       "\u001b[31m│\u001b[0m \u001b[33m│\u001b[0m               \u001b[2;39m│   │   │     \u001b[0m\u001b[33m'x'\u001b[0m\u001b[39m: \u001b[0m\u001b[1;35marray\u001b[0m\u001b[1;39m(\u001b[0m\u001b[1;39m[\u001b[0m\u001b[33m'Reactants'\u001b[0m\u001b[39m, \u001b[0m\u001b[33m'Intermediates'\u001b[0m\u001b[39m, \u001b[0m\u001b[33m'Products'\u001b[0m\u001b[1;39m]\u001b[0m\u001b[39m, \u001b[0m          \u001b[33m│\u001b[0m \u001b[31m│\u001b[0m\n",
       "\u001b[31m│\u001b[0m \u001b[33m│\u001b[0m               \u001b[33mdtype\u001b[0m\u001b[39m=\u001b[0m\u001b[35mobject\u001b[0m\u001b[1;39m)\u001b[0m\u001b[39m,\u001b[0m                                                                 \u001b[33m│\u001b[0m \u001b[31m│\u001b[0m\n",
       "\u001b[31m│\u001b[0m \u001b[33m│\u001b[0m               \u001b[2;39m│   │   │     \u001b[0m\u001b[33m'xaxis'\u001b[0m\u001b[39m: \u001b[0m\u001b[33m'x'\u001b[0m\u001b[39m,\u001b[0m                                                    \u001b[33m│\u001b[0m \u001b[31m│\u001b[0m\n",
       "\u001b[31m│\u001b[0m \u001b[33m│\u001b[0m               \u001b[2;39m│   │   │     \u001b[0m\u001b[33m'y'\u001b[0m\u001b[39m: \u001b[0m\u001b[1;35marray\u001b[0m\u001b[1;39m(\u001b[0m\u001b[1;39m[\u001b[0m\u001b[39m  \u001b[0m\u001b[94m5681\u001b[0m\u001b[39m,   \u001b[0m\u001b[94m5411\u001b[0m\u001b[39m, \u001b[0m\u001b[94m110970\u001b[0m\u001b[1;39m]\u001b[0m\u001b[1;39m)\u001b[0m\u001b[39m,\u001b[0m                            \u001b[33m│\u001b[0m \u001b[31m│\u001b[0m\n",
       "\u001b[31m│\u001b[0m \u001b[33m│\u001b[0m               \u001b[2;39m│   │   │     \u001b[0m\u001b[33m'yaxis'\u001b[0m\u001b[39m: \u001b[0m\u001b[33m'y'\u001b[0m\u001b[1;39m}\u001b[0m\u001b[1;39m]\u001b[0m\u001b[39m,\u001b[0m                                                  \u001b[33m│\u001b[0m \u001b[31m│\u001b[0m\n",
       "\u001b[31m│\u001b[0m \u001b[33m│\u001b[0m               \u001b[2;39m│   \u001b[0m\u001b[33m'layout'\u001b[0m\u001b[39m: \u001b[0m\u001b[1;39m{\u001b[0m\u001b[33m'legend'\u001b[0m\u001b[39m: \u001b[0m\u001b[1;39m{\u001b[0m\u001b[33m'tracegroupgap'\u001b[0m\u001b[39m: \u001b[0m\u001b[94m0\u001b[0m\u001b[1;39m}\u001b[0m\u001b[39m,\u001b[0m                                 \u001b[33m│\u001b[0m \u001b[31m│\u001b[0m\n",
       "\u001b[31m│\u001b[0m \u001b[33m│\u001b[0m               \u001b[2;39m│   │   │      \u001b[0m\u001b[33m'margin'\u001b[0m\u001b[39m: \u001b[0m\u001b[1;39m{\u001b[0m\u001b[33m't'\u001b[0m\u001b[39m: \u001b[0m\u001b[94m60\u001b[0m\u001b[1;39m}\u001b[0m\u001b[39m,\u001b[0m                                            \u001b[33m│\u001b[0m \u001b[31m│\u001b[0m\n",
       "\u001b[31m│\u001b[0m \u001b[33m│\u001b[0m               \u001b[2;39m│   │   │      \u001b[0m\u001b[33m'template'\u001b[0m\u001b[39m: \u001b[0m\u001b[33m'...'\u001b[0m\u001b[39m,\u001b[0m                                              \u001b[33m│\u001b[0m \u001b[31m│\u001b[0m\n",
       "\u001b[31m│\u001b[0m \u001b[33m│\u001b[0m               \u001b[2;39m│   │   │      \u001b[0m\u001b[33m'title'\u001b[0m\u001b[39m: \u001b[0m\u001b[1;39m{\u001b[0m\u001b[33m'automargin'\u001b[0m\u001b[39m: \u001b[0m\u001b[94mFalse\u001b[0m\u001b[39m, \u001b[0m\u001b[33m'text'\u001b[0m\u001b[39m: \u001b[0m\u001b[33m'<b>2A_HIPPO</b\u001b[0m\u001b[1;33m>\u001b[0m\u001b[33m: \u001b[0m       \u001b[33m│\u001b[0m \u001b[31m│\u001b[0m\n",
       "\u001b[31m│\u001b[0m \u001b[33m│\u001b[0m               \u001b[33mReaction statistics'\u001b[0m, \u001b[33m'yref'\u001b[0m: \u001b[33m'container'\u001b[0m\u001b[1m}\u001b[0m,                                    \u001b[33m│\u001b[0m \u001b[31m│\u001b[0m\n",
       "\u001b[31m│\u001b[0m \u001b[33m│\u001b[0m               \u001b[2m│   │   │      \u001b[0m\u001b[33m'xaxis'\u001b[0m: \u001b[1m{\u001b[0m\u001b[33m'anchor'\u001b[0m: \u001b[33m'y'\u001b[0m, \u001b[33m'domain'\u001b[0m: \u001b[1m[\u001b[0m\u001b[94m0.0\u001b[0m, \u001b[94m1.0\u001b[0m\u001b[1m]\u001b[0m, \u001b[33m'title'\u001b[0m:         \u001b[33m│\u001b[0m \u001b[31m│\u001b[0m\n",
       "\u001b[31m│\u001b[0m \u001b[33m│\u001b[0m               \u001b[1m{\u001b[0m\u001b[33m'text'\u001b[0m: \u001b[33m'category'\u001b[0m\u001b[1m}\u001b[0m\u001b[1m}\u001b[0m,                                                         \u001b[33m│\u001b[0m \u001b[31m│\u001b[0m\n",
       "\u001b[31m│\u001b[0m \u001b[33m│\u001b[0m               \u001b[2m│   │   │      \u001b[0m\u001b[33m'yaxis'\u001b[0m: \u001b[1m{\u001b[0m\u001b[33m'anchor'\u001b[0m: \u001b[33m'x'\u001b[0m, \u001b[33m'domain'\u001b[0m: \u001b[1m[\u001b[0m\u001b[94m0.0\u001b[0m, \u001b[94m1.0\u001b[0m\u001b[1m]\u001b[0m, \u001b[33m'title'\u001b[0m:         \u001b[33m│\u001b[0m \u001b[31m│\u001b[0m\n",
       "\u001b[31m│\u001b[0m \u001b[33m│\u001b[0m               \u001b[1m{\u001b[0m\u001b[33m'text'\u001b[0m: \u001b[33m'number'\u001b[0m\u001b[1m}\u001b[0m\u001b[1m}\u001b[0m\u001b[1m}\u001b[0m                                                           \u001b[33m│\u001b[0m \u001b[31m│\u001b[0m\n",
       "\u001b[31m│\u001b[0m \u001b[33m│\u001b[0m               \u001b[1m}\u001b[0m\u001b[1m)\u001b[0m,                                                                            \u001b[33m│\u001b[0m \u001b[31m│\u001b[0m\n",
       "\u001b[31m│\u001b[0m \u001b[33m│\u001b[0m               \u001b[2m│   \u001b[0m\u001b[94m8\u001b[0m: \u001b[1;4mall reactants: \u001b[0m\u001b[1;4m{\u001b[0m\u001b[1;4mC × \u001b[0m\u001b[1;4;94m5681\u001b[0m\u001b[1;4m}\u001b[0m,                                              \u001b[33m│\u001b[0m \u001b[31m│\u001b[0m\n",
       "\u001b[31m│\u001b[0m \u001b[33m│\u001b[0m               \u001b[2m│   \u001b[0m\u001b[94m13\u001b[0m: \u001b[1m[\u001b[0m                                                                      \u001b[33m│\u001b[0m \u001b[31m│\u001b[0m\n",
       "\u001b[31m│\u001b[0m \u001b[33m│\u001b[0m               \u001b[2m│   │   \u001b[0m\u001b[33m'ZFLKDMGBVZHBAC-UHFFFAOYSA-N'\u001b[0m,                                         \u001b[33m│\u001b[0m \u001b[31m│\u001b[0m\n",
       "\u001b[31m│\u001b[0m \u001b[33m│\u001b[0m               \u001b[2m│   │   \u001b[0m\u001b[33m'YMSMEZAYZIYFGA-UHFFFAOYSA-N'\u001b[0m,                                         \u001b[33m│\u001b[0m \u001b[31m│\u001b[0m\n",
       "\u001b[31m│\u001b[0m \u001b[33m│\u001b[0m               \u001b[2m│   │   \u001b[0m\u001b[33m'JFGXRDGYMLGBBB-UHFFFAOYSA-N'\u001b[0m,                                         \u001b[33m│\u001b[0m \u001b[31m│\u001b[0m\n",
       "\u001b[31m│\u001b[0m \u001b[33m│\u001b[0m               \u001b[2m│   │   \u001b[0m\u001b[33m'QTEBJBNJJATETR-UHFFFAOYSA-N'\u001b[0m,                                         \u001b[33m│\u001b[0m \u001b[31m│\u001b[0m\n",
       "\u001b[31m│\u001b[0m \u001b[33m│\u001b[0m               \u001b[2m│   │   \u001b[0m\u001b[33m'DLFVBJFMPXGRIB-UHFFFAOYSA-N'\u001b[0m                                          \u001b[33m│\u001b[0m \u001b[31m│\u001b[0m\n",
       "\u001b[31m│\u001b[0m \u001b[33m│\u001b[0m               \u001b[2m│   \u001b[0m\u001b[1m]\u001b[0m,                                                                         \u001b[33m│\u001b[0m \u001b[31m│\u001b[0m\n",
       "\u001b[31m│\u001b[0m \u001b[33m│\u001b[0m               \u001b[2m│   \u001b[0m\u001b[94m22\u001b[0m: \u001b[1m(\u001b[0m\u001b[1;4m{\u001b[0m\u001b[1;4mC × \u001b[0m\u001b[1;4;94m2090\u001b[0m\u001b[1;4m}\u001b[0m, \u001b[1;4m{\u001b[0m\u001b[1;4mC × \u001b[0m\u001b[1;4;94m3591\u001b[0m\u001b[1;4m}\u001b[0m\u001b[1m)\u001b[0m,                                              \u001b[33m│\u001b[0m \u001b[31m│\u001b[0m\n",
       "\u001b[31m│\u001b[0m \u001b[33m│\u001b[0m               \u001b[2m│   \u001b[0m\u001b[94m24\u001b[0m: \u001b[1m[\u001b[0m                                                                      \u001b[33m│\u001b[0m \u001b[31m│\u001b[0m\n",
       "\u001b[31m│\u001b[0m \u001b[33m│\u001b[0m               \u001b[2m│   │   \u001b[0m\u001b[33m'Buchwald-Hartwig_amidation_with_amide-like_nucleophile'\u001b[0m,              \u001b[33m│\u001b[0m \u001b[31m│\u001b[0m\n",
       "\u001b[31m│\u001b[0m \u001b[33m│\u001b[0m               \u001b[2m│   │   \u001b[0m\u001b[33m'Amidation'\u001b[0m,                                                           \u001b[33m│\u001b[0m \u001b[31m│\u001b[0m\n",
       "\u001b[31m│\u001b[0m \u001b[33m│\u001b[0m               \u001b[2m│   │   \u001b[0m\u001b[33m'Sp3-sp2_Suzuki_coupling'\u001b[0m,                                             \u001b[33m│\u001b[0m \u001b[31m│\u001b[0m\n",
       "\u001b[31m│\u001b[0m \u001b[33m│\u001b[0m               \u001b[2m│   │   \u001b[0m\u001b[33m'Reductive_amination'\u001b[0m,                                                 \u001b[33m│\u001b[0m \u001b[31m│\u001b[0m\n",
       "\u001b[31m│\u001b[0m \u001b[33m│\u001b[0m               \u001b[2m│   │   \u001b[0m\u001b[33m'Buchwald-Hartwig_amination'\u001b[0m,                                          \u001b[33m│\u001b[0m \u001b[31m│\u001b[0m\n",
       "\u001b[31m│\u001b[0m \u001b[33m│\u001b[0m               \u001b[2m│   │   \u001b[0m\u001b[33m'Steglich_esterification'\u001b[0m,                                             \u001b[33m│\u001b[0m \u001b[31m│\u001b[0m\n",
       "\u001b[31m│\u001b[0m \u001b[33m│\u001b[0m               \u001b[2m│   │   \u001b[0m\u001b[33m'Ester_amidation'\u001b[0m,                                                     \u001b[33m│\u001b[0m \u001b[31m│\u001b[0m\n",
       "\u001b[31m│\u001b[0m \u001b[33m│\u001b[0m               \u001b[2m│   │   \u001b[0m\u001b[33m'Formation_of_urea_from_two_amines'\u001b[0m,                                   \u001b[33m│\u001b[0m \u001b[31m│\u001b[0m\n",
       "\u001b[31m│\u001b[0m \u001b[33m│\u001b[0m               \u001b[2m│   │   \u001b[0m\u001b[33m'Williamson_ether_synthesis'\u001b[0m                                           \u001b[33m│\u001b[0m \u001b[31m│\u001b[0m\n",
       "\u001b[31m│\u001b[0m \u001b[33m│\u001b[0m               \u001b[2m│   \u001b[0m\u001b[1m]\u001b[0m,                                                                         \u001b[33m│\u001b[0m \u001b[31m│\u001b[0m\n",
       "\u001b[31m│\u001b[0m \u001b[33m│\u001b[0m               \u001b[2m│   \u001b[0m\u001b[94m25\u001b[0m: \u001b[1;4mcompounds tagged Syndirella scaffold: \u001b[0m\u001b[1;4m{\u001b[0m\u001b[1;4mC × \u001b[0m\u001b[1;4;94m122\u001b[0m\u001b[1;4m}\u001b[0m,                       \u001b[33m│\u001b[0m \u001b[31m│\u001b[0m\n",
       "\u001b[31m│\u001b[0m \u001b[33m│\u001b[0m               \u001b[2m│   \u001b[0m\u001b[94m27\u001b[0m: \u001b[1;4m{\u001b[0m\u001b[1;4mC × \u001b[0m\u001b[1;4;94m44\u001b[0m\u001b[1;4m}\u001b[0m,                                                              \u001b[33m│\u001b[0m \u001b[31m│\u001b[0m\n",
       "\u001b[31m│\u001b[0m \u001b[33m│\u001b[0m               \u001b[2m│   \u001b[0m\u001b[94m28\u001b[0m: \u001b[1;4mcompounds tagged Syndirella scaffold: \u001b[0m\u001b[1;4m{\u001b[0m\u001b[1;4mC × \u001b[0m\u001b[1;4;94m122\u001b[0m\u001b[1;4m}\u001b[0m,                       \u001b[33m│\u001b[0m \u001b[31m│\u001b[0m\n",
       "\u001b[31m│\u001b[0m \u001b[33m│\u001b[0m               \u001b[2m│   \u001b[0m\u001b[94m30\u001b[0m: \u001b[94m576\u001b[0m                                                                    \u001b[33m│\u001b[0m \u001b[31m│\u001b[0m\n",
       "\u001b[31m│\u001b[0m \u001b[33m│\u001b[0m               \u001b[1m}\u001b[0m                                                                              \u001b[33m│\u001b[0m \u001b[31m│\u001b[0m\n",
       "\u001b[31m│\u001b[0m \u001b[33m│\u001b[0m        Path = \u001b[1m<\u001b[0m\u001b[1;95mclass\u001b[0m\u001b[39m \u001b[0m\u001b[33m'pathlib.Path'\u001b[0m\u001b[1m>\u001b[0m                                                         \u001b[33m│\u001b[0m \u001b[31m│\u001b[0m\n",
       "\u001b[31m│\u001b[0m \u001b[33m│\u001b[0m          pd = \u001b[1m<\u001b[0m\u001b[1;95mmodule\u001b[0m\u001b[39m \u001b[0m\u001b[33m'pandas'\u001b[0m\u001b[39m from \u001b[0m                                                         \u001b[33m│\u001b[0m \u001b[31m│\u001b[0m\n",
       "\u001b[31m│\u001b[0m \u001b[33m│\u001b[0m               \u001b[33m'/opt/xchem-fragalysis-2/maxwin/conda_slurm/lib/python3.11/site-packages/pand…\u001b[0m \u001b[33m│\u001b[0m \u001b[31m│\u001b[0m\n",
       "\u001b[31m│\u001b[0m \u001b[33m│\u001b[0m       print = \u001b[1m<\u001b[0m\u001b[1;95mfunction\u001b[0m\u001b[39m print at \u001b[0m\u001b[94m0x7fc5b6759bc0\u001b[0m\u001b[1m>\u001b[0m                                             \u001b[33m│\u001b[0m \u001b[31m│\u001b[0m\n",
       "\u001b[31m│\u001b[0m \u001b[33m│\u001b[0m        quit = \u001b[1m<\u001b[0m\u001b[1;95mIPython.core.autocall.ZMQExitAutocall\u001b[0m\u001b[39m object at \u001b[0m\u001b[94m0x7fc697927790\u001b[0m\u001b[1m>\u001b[0m               \u001b[33m│\u001b[0m \u001b[31m│\u001b[0m\n",
       "\u001b[31m│\u001b[0m \u001b[33m│\u001b[0m   reactants = \u001b[1;4mall reactants: \u001b[0m\u001b[1;4m{\u001b[0m\u001b[1;4mC × \u001b[0m\u001b[1;4;94m5681\u001b[0m\u001b[1;4m}\u001b[0m                                                      \u001b[33m│\u001b[0m \u001b[31m│\u001b[0m\n",
       "\u001b[31m│\u001b[0m \u001b[33m│\u001b[0m      recipe = \u001b[1;4;35mRecipe\u001b[0m\u001b[1;4m(\u001b[0m\u001b[1;4m{\u001b[0m\u001b[1;4mIngredient × \u001b[0m\u001b[1;4;94m70\u001b[0m\u001b[1;4m}\u001b[0m\u001b[1;4m --> \u001b[0m\u001b[1;4m{\u001b[0m\u001b[1;4mIngredient × \u001b[0m\u001b[1;4;94m12\u001b[0m\u001b[1;4m}\u001b[0m\u001b[1;4m --> \u001b[0m\u001b[1;4m{\u001b[0m\u001b[1;4mIngredient × \u001b[0m\u001b[1;4;94m44\u001b[0m\u001b[1;4m}\u001b[0m\u001b[1;4m via \u001b[0m\u001b[1;4m{\u001b[0m\u001b[1;4mR × \u001b[0m \u001b[33m│\u001b[0m \u001b[31m│\u001b[0m\n",
       "\u001b[31m│\u001b[0m \u001b[33m│\u001b[0m               \u001b[1;4;94m56\u001b[0m\u001b[1;4m}\u001b[0m\u001b[1;4m)\u001b[0m                                                                           \u001b[33m│\u001b[0m \u001b[31m│\u001b[0m\n",
       "\u001b[31m│\u001b[0m \u001b[33m│\u001b[0m     recipes = \u001b[1m[\u001b[0m                                                                              \u001b[33m│\u001b[0m \u001b[31m│\u001b[0m\n",
       "\u001b[31m│\u001b[0m \u001b[33m│\u001b[0m               \u001b[2m│   \u001b[0m\u001b[1;4;35mRecipe\u001b[0m\u001b[1;4m(\u001b[0m\u001b[1;4m{\u001b[0m\u001b[1;4mIngredient × \u001b[0m\u001b[1;4;94m70\u001b[0m\u001b[1;4m}\u001b[0m\u001b[1;4m --> \u001b[0m\u001b[1;4m{\u001b[0m\u001b[1;4mIngredient × \u001b[0m\u001b[1;4;94m12\u001b[0m\u001b[1;4m}\u001b[0m\u001b[1;4m --> \u001b[0m\u001b[1;4m{\u001b[0m\u001b[1;4mIngredient × \u001b[0m\u001b[1;4;94m44\u001b[0m\u001b[1;4m}\u001b[0m\u001b[1;4m via \u001b[0m  \u001b[33m│\u001b[0m \u001b[31m│\u001b[0m\n",
       "\u001b[31m│\u001b[0m \u001b[33m│\u001b[0m               \u001b[1;4m{\u001b[0m\u001b[1;4mR × \u001b[0m\u001b[1;4;94m56\u001b[0m\u001b[1;4m}\u001b[0m\u001b[1;4m)\u001b[0m,                                                                     \u001b[33m│\u001b[0m \u001b[31m│\u001b[0m\n",
       "\u001b[31m│\u001b[0m \u001b[33m│\u001b[0m               \u001b[2m│   \u001b[0m\u001b[1;4;35mRecipe\u001b[0m\u001b[1;4m(\u001b[0m\u001b[1;4m{\u001b[0m\u001b[1;4mIngredient × \u001b[0m\u001b[1;4;94m70\u001b[0m\u001b[1;4m}\u001b[0m\u001b[1;4m --> \u001b[0m\u001b[1;4m{\u001b[0m\u001b[1;4mIngredient × \u001b[0m\u001b[1;4;94m12\u001b[0m\u001b[1;4m}\u001b[0m\u001b[1;4m --> \u001b[0m\u001b[1;4m{\u001b[0m\u001b[1;4mIngredient × \u001b[0m\u001b[1;4;94m44\u001b[0m\u001b[1;4m}\u001b[0m\u001b[1;4m via \u001b[0m  \u001b[33m│\u001b[0m \u001b[31m│\u001b[0m\n",
       "\u001b[31m│\u001b[0m \u001b[33m│\u001b[0m               \u001b[1;4m{\u001b[0m\u001b[1;4mR × \u001b[0m\u001b[1;4;94m56\u001b[0m\u001b[1;4m}\u001b[0m\u001b[1;4m)\u001b[0m,                                                                     \u001b[33m│\u001b[0m \u001b[31m│\u001b[0m\n",
       "\u001b[31m│\u001b[0m \u001b[33m│\u001b[0m               \u001b[2m│   \u001b[0m\u001b[1;4;35mRecipe\u001b[0m\u001b[1;4m(\u001b[0m\u001b[1;4m{\u001b[0m\u001b[1;4mIngredient × \u001b[0m\u001b[1;4;94m70\u001b[0m\u001b[1;4m}\u001b[0m\u001b[1;4m --> \u001b[0m\u001b[1;4m{\u001b[0m\u001b[1;4mIngredient × \u001b[0m\u001b[1;4;94m12\u001b[0m\u001b[1;4m}\u001b[0m\u001b[1;4m --> \u001b[0m\u001b[1;4m{\u001b[0m\u001b[1;4mIngredient × \u001b[0m\u001b[1;4;94m44\u001b[0m\u001b[1;4m}\u001b[0m\u001b[1;4m via \u001b[0m  \u001b[33m│\u001b[0m \u001b[31m│\u001b[0m\n",
       "\u001b[31m│\u001b[0m \u001b[33m│\u001b[0m               \u001b[1;4m{\u001b[0m\u001b[1;4mR × \u001b[0m\u001b[1;4;94m56\u001b[0m\u001b[1;4m}\u001b[0m\u001b[1;4m)\u001b[0m,                                                                     \u001b[33m│\u001b[0m \u001b[31m│\u001b[0m\n",
       "\u001b[31m│\u001b[0m \u001b[33m│\u001b[0m               \u001b[2m│   \u001b[0m\u001b[1;4;35mRecipe\u001b[0m\u001b[1;4m(\u001b[0m\u001b[1;4m{\u001b[0m\u001b[1;4mIngredient × \u001b[0m\u001b[1;4;94m70\u001b[0m\u001b[1;4m}\u001b[0m\u001b[1;4m --> \u001b[0m\u001b[1;4m{\u001b[0m\u001b[1;4mIngredient × \u001b[0m\u001b[1;4;94m12\u001b[0m\u001b[1;4m}\u001b[0m\u001b[1;4m --> \u001b[0m\u001b[1;4m{\u001b[0m\u001b[1;4mIngredient × \u001b[0m\u001b[1;4;94m44\u001b[0m\u001b[1;4m}\u001b[0m\u001b[1;4m via \u001b[0m  \u001b[33m│\u001b[0m \u001b[31m│\u001b[0m\n",
       "\u001b[31m│\u001b[0m \u001b[33m│\u001b[0m               \u001b[1;4m{\u001b[0m\u001b[1;4mR × \u001b[0m\u001b[1;4;94m56\u001b[0m\u001b[1;4m}\u001b[0m\u001b[1;4m)\u001b[0m,                                                                     \u001b[33m│\u001b[0m \u001b[31m│\u001b[0m\n",
       "\u001b[31m│\u001b[0m \u001b[33m│\u001b[0m               \u001b[2m│   \u001b[0m\u001b[1;4;35mRecipe\u001b[0m\u001b[1;4m(\u001b[0m\u001b[1;4m{\u001b[0m\u001b[1;4mIngredient × \u001b[0m\u001b[1;4;94m70\u001b[0m\u001b[1;4m}\u001b[0m\u001b[1;4m --> \u001b[0m\u001b[1;4m{\u001b[0m\u001b[1;4mIngredient × \u001b[0m\u001b[1;4;94m12\u001b[0m\u001b[1;4m}\u001b[0m\u001b[1;4m --> \u001b[0m\u001b[1;4m{\u001b[0m\u001b[1;4mIngredient × \u001b[0m\u001b[1;4;94m44\u001b[0m\u001b[1;4m}\u001b[0m\u001b[1;4m via \u001b[0m  \u001b[33m│\u001b[0m \u001b[31m│\u001b[0m\n",
       "\u001b[31m│\u001b[0m \u001b[33m│\u001b[0m               \u001b[1;4m{\u001b[0m\u001b[1;4mR × \u001b[0m\u001b[1;4;94m56\u001b[0m\u001b[1;4m}\u001b[0m\u001b[1;4m)\u001b[0m,                                                                     \u001b[33m│\u001b[0m \u001b[31m│\u001b[0m\n",
       "\u001b[31m│\u001b[0m \u001b[33m│\u001b[0m               \u001b[2m│   \u001b[0m\u001b[1;4;35mRecipe\u001b[0m\u001b[1;4m(\u001b[0m\u001b[1;4m{\u001b[0m\u001b[1;4mIngredient × \u001b[0m\u001b[1;4;94m70\u001b[0m\u001b[1;4m}\u001b[0m\u001b[1;4m --> \u001b[0m\u001b[1;4m{\u001b[0m\u001b[1;4mIngredient × \u001b[0m\u001b[1;4;94m12\u001b[0m\u001b[1;4m}\u001b[0m\u001b[1;4m --> \u001b[0m\u001b[1;4m{\u001b[0m\u001b[1;4mIngredient × \u001b[0m\u001b[1;4;94m44\u001b[0m\u001b[1;4m}\u001b[0m\u001b[1;4m via \u001b[0m  \u001b[33m│\u001b[0m \u001b[31m│\u001b[0m\n",
       "\u001b[31m│\u001b[0m \u001b[33m│\u001b[0m               \u001b[1;4m{\u001b[0m\u001b[1;4mR × \u001b[0m\u001b[1;4;94m56\u001b[0m\u001b[1;4m}\u001b[0m\u001b[1;4m)\u001b[0m,                                                                     \u001b[33m│\u001b[0m \u001b[31m│\u001b[0m\n",
       "\u001b[31m│\u001b[0m \u001b[33m│\u001b[0m               \u001b[2m│   \u001b[0m\u001b[1;4;35mRecipe\u001b[0m\u001b[1;4m(\u001b[0m\u001b[1;4m{\u001b[0m\u001b[1;4mIngredient × \u001b[0m\u001b[1;4;94m70\u001b[0m\u001b[1;4m}\u001b[0m\u001b[1;4m --> \u001b[0m\u001b[1;4m{\u001b[0m\u001b[1;4mIngredient × \u001b[0m\u001b[1;4;94m12\u001b[0m\u001b[1;4m}\u001b[0m\u001b[1;4m --> \u001b[0m\u001b[1;4m{\u001b[0m\u001b[1;4mIngredient × \u001b[0m\u001b[1;4;94m44\u001b[0m\u001b[1;4m}\u001b[0m\u001b[1;4m via \u001b[0m  \u001b[33m│\u001b[0m \u001b[31m│\u001b[0m\n",
       "\u001b[31m│\u001b[0m \u001b[33m│\u001b[0m               \u001b[1;4m{\u001b[0m\u001b[1;4mR × \u001b[0m\u001b[1;4;94m56\u001b[0m\u001b[1;4m}\u001b[0m\u001b[1;4m)\u001b[0m,                                                                     \u001b[33m│\u001b[0m \u001b[31m│\u001b[0m\n",
       "\u001b[31m│\u001b[0m \u001b[33m│\u001b[0m               \u001b[2m│   \u001b[0m\u001b[1;4;35mRecipe\u001b[0m\u001b[1;4m(\u001b[0m\u001b[1;4m{\u001b[0m\u001b[1;4mIngredient × \u001b[0m\u001b[1;4;94m70\u001b[0m\u001b[1;4m}\u001b[0m\u001b[1;4m --> \u001b[0m\u001b[1;4m{\u001b[0m\u001b[1;4mIngredient × \u001b[0m\u001b[1;4;94m12\u001b[0m\u001b[1;4m}\u001b[0m\u001b[1;4m --> \u001b[0m\u001b[1;4m{\u001b[0m\u001b[1;4mIngredient × \u001b[0m\u001b[1;4;94m44\u001b[0m\u001b[1;4m}\u001b[0m\u001b[1;4m via \u001b[0m  \u001b[33m│\u001b[0m \u001b[31m│\u001b[0m\n",
       "\u001b[31m│\u001b[0m \u001b[33m│\u001b[0m               \u001b[1;4m{\u001b[0m\u001b[1;4mR × \u001b[0m\u001b[1;4;94m56\u001b[0m\u001b[1;4m}\u001b[0m\u001b[1;4m)\u001b[0m,                                                                     \u001b[33m│\u001b[0m \u001b[31m│\u001b[0m\n",
       "\u001b[31m│\u001b[0m \u001b[33m│\u001b[0m               \u001b[2m│   \u001b[0m\u001b[1;4;35mRecipe\u001b[0m\u001b[1;4m(\u001b[0m\u001b[1;4m{\u001b[0m\u001b[1;4mIngredient × \u001b[0m\u001b[1;4;94m70\u001b[0m\u001b[1;4m}\u001b[0m\u001b[1;4m --> \u001b[0m\u001b[1;4m{\u001b[0m\u001b[1;4mIngredient × \u001b[0m\u001b[1;4;94m12\u001b[0m\u001b[1;4m}\u001b[0m\u001b[1;4m --> \u001b[0m\u001b[1;4m{\u001b[0m\u001b[1;4mIngredient × \u001b[0m\u001b[1;4;94m44\u001b[0m\u001b[1;4m}\u001b[0m\u001b[1;4m via \u001b[0m  \u001b[33m│\u001b[0m \u001b[31m│\u001b[0m\n",
       "\u001b[31m│\u001b[0m \u001b[33m│\u001b[0m               \u001b[1;4m{\u001b[0m\u001b[1;4mR × \u001b[0m\u001b[1;4;94m56\u001b[0m\u001b[1;4m}\u001b[0m\u001b[1;4m)\u001b[0m,                                                                     \u001b[33m│\u001b[0m \u001b[31m│\u001b[0m\n",
       "\u001b[31m│\u001b[0m \u001b[33m│\u001b[0m               \u001b[2m│   \u001b[0m\u001b[1;4;35mRecipe\u001b[0m\u001b[1;4m(\u001b[0m\u001b[1;4m{\u001b[0m\u001b[1;4mIngredient × \u001b[0m\u001b[1;4;94m70\u001b[0m\u001b[1;4m}\u001b[0m\u001b[1;4m --> \u001b[0m\u001b[1;4m{\u001b[0m\u001b[1;4mIngredient × \u001b[0m\u001b[1;4;94m12\u001b[0m\u001b[1;4m}\u001b[0m\u001b[1;4m --> \u001b[0m\u001b[1;4m{\u001b[0m\u001b[1;4mIngredient × \u001b[0m\u001b[1;4;94m44\u001b[0m\u001b[1;4m}\u001b[0m\u001b[1;4m via \u001b[0m  \u001b[33m│\u001b[0m \u001b[31m│\u001b[0m\n",
       "\u001b[31m│\u001b[0m \u001b[33m│\u001b[0m               \u001b[1;4m{\u001b[0m\u001b[1;4mR × \u001b[0m\u001b[1;4;94m56\u001b[0m\u001b[1;4m}\u001b[0m\u001b[1;4m)\u001b[0m,                                                                     \u001b[33m│\u001b[0m \u001b[31m│\u001b[0m\n",
       "\u001b[31m│\u001b[0m \u001b[33m│\u001b[0m               \u001b[2m│   \u001b[0m\u001b[33m...\u001b[0m +\u001b[94m566\u001b[0m                                                                   \u001b[33m│\u001b[0m \u001b[31m│\u001b[0m\n",
       "\u001b[31m│\u001b[0m \u001b[33m│\u001b[0m               \u001b[1m]\u001b[0m                                                                              \u001b[33m│\u001b[0m \u001b[31m│\u001b[0m\n",
       "\u001b[31m│\u001b[0m \u001b[33m│\u001b[0m         sql = \u001b[33m'\\nSELECT quote_id, quote_smiles, quote_amount, quote_supplier, \u001b[0m               \u001b[33m│\u001b[0m \u001b[31m│\u001b[0m\n",
       "\u001b[31m│\u001b[0m \u001b[33m│\u001b[0m               \u001b[33mquote_catalogue, q'\u001b[0m+\u001b[94m176301\u001b[0m                                                     \u001b[33m│\u001b[0m \u001b[31m│\u001b[0m\n",
       "\u001b[31m│\u001b[0m \u001b[33m╰──────────────────────────────────────────────────────────────────────────────────────────────╯\u001b[0m \u001b[31m│\u001b[0m\n",
       "\u001b[31m│\u001b[0m                                                                                                  \u001b[31m│\u001b[0m\n",
       "\u001b[31m│\u001b[0m \u001b[2;33m/opt/xchem-fragalysis-2/maxwin/HIPPO/hippo/\u001b[0m\u001b[1;33mrecipe.py\u001b[0m:\u001b[94m1275\u001b[0m in \u001b[92mwrite_CAR_csv\u001b[0m                       \u001b[31m│\u001b[0m\n",
       "\u001b[31m│\u001b[0m                                                                                                  \u001b[31m│\u001b[0m\n",
       "\u001b[31m│\u001b[0m   \u001b[2m1272 \u001b[0m\u001b[2m│   │   \u001b[0m                                                                                  \u001b[31m│\u001b[0m\n",
       "\u001b[31m│\u001b[0m   \u001b[2m1273 \u001b[0m\u001b[2m│   │   \u001b[0mdf = df.convert_dtypes()                                                          \u001b[31m│\u001b[0m\n",
       "\u001b[31m│\u001b[0m   \u001b[2m1274 \u001b[0m\u001b[2m│   │   \u001b[0m                                                                                  \u001b[31m│\u001b[0m\n",
       "\u001b[31m│\u001b[0m \u001b[31m❱ \u001b[0m1275 \u001b[2m│   │   \u001b[0m\u001b[94mfor\u001b[0m n_steps \u001b[95min\u001b[0m \u001b[96mset\u001b[0m(df[\u001b[33m\"\u001b[0m\u001b[33mno-steps\u001b[0m\u001b[33m\"\u001b[0m]):                                               \u001b[31m│\u001b[0m\n",
       "\u001b[31m│\u001b[0m   \u001b[2m1276 \u001b[0m\u001b[2m│   │   │   \u001b[0msubset = df[df[\u001b[33m\"\u001b[0m\u001b[33mno-steps\u001b[0m\u001b[33m\"\u001b[0m] == n_steps]                                        \u001b[31m│\u001b[0m\n",
       "\u001b[31m│\u001b[0m   \u001b[2m1277 \u001b[0m\u001b[2m│   │   │   \u001b[0mthis_file = file.replace(\u001b[33m\"\u001b[0m\u001b[33m.csv\u001b[0m\u001b[33m\"\u001b[0m, \u001b[33mf\u001b[0m\u001b[33m\"\u001b[0m\u001b[33m_\u001b[0m\u001b[33m{\u001b[0mn_steps\u001b[33m}\u001b[0m\u001b[33msteps.csv\u001b[0m\u001b[33m\"\u001b[0m)                      \u001b[31m│\u001b[0m\n",
       "\u001b[31m│\u001b[0m   \u001b[2m1278 \u001b[0m\u001b[2m│   │   │   \u001b[0mmrich.writing(this_file)                                                      \u001b[31m│\u001b[0m\n",
       "\u001b[31m│\u001b[0m                                                                                                  \u001b[31m│\u001b[0m\n",
       "\u001b[31m│\u001b[0m \u001b[33m╭─\u001b[0m\u001b[33m──────────────────────────────────────────\u001b[0m\u001b[33m locals \u001b[0m\u001b[33m──────────────────────────────────────────\u001b[0m\u001b[33m─╮\u001b[0m \u001b[31m│\u001b[0m\n",
       "\u001b[31m│\u001b[0m \u001b[33m│\u001b[0m CompoundSet = \u001b[1m<\u001b[0m\u001b[1;95mclass\u001b[0m\u001b[39m \u001b[0m\u001b[33m'hippo.cset.CompoundSet'\u001b[0m\u001b[1m>\u001b[0m                                               \u001b[33m│\u001b[0m \u001b[31m│\u001b[0m\n",
       "\u001b[31m│\u001b[0m \u001b[33m│\u001b[0m   DataFrame = \u001b[1m<\u001b[0m\u001b[1;95mclass\u001b[0m\u001b[39m \u001b[0m\u001b[33m'pandas.core.frame.DataFrame'\u001b[0m\u001b[1m>\u001b[0m                                          \u001b[33m│\u001b[0m \u001b[31m│\u001b[0m\n",
       "\u001b[31m│\u001b[0m \u001b[33m│\u001b[0m          df = Empty DataFrame                                                                \u001b[33m│\u001b[0m \u001b[31m│\u001b[0m\n",
       "\u001b[31m│\u001b[0m \u001b[33m│\u001b[0m               Columns: \u001b[1m[\u001b[0m\u001b[1m]\u001b[0m                                                                    \u001b[33m│\u001b[0m \u001b[31m│\u001b[0m\n",
       "\u001b[31m│\u001b[0m \u001b[33m│\u001b[0m               Index: \u001b[1m[\u001b[0m\u001b[1m]\u001b[0m                                                                      \u001b[33m│\u001b[0m \u001b[31m│\u001b[0m\n",
       "\u001b[31m│\u001b[0m \u001b[33m│\u001b[0m        file = \u001b[33m'/opt/xchem-fragalysis-2/maxwin/2A_HIPPO/hippo/all_scaffold_recipes/scaffold_…\u001b[0m \u001b[33m│\u001b[0m \u001b[31m│\u001b[0m\n",
       "\u001b[31m│\u001b[0m \u001b[33m│\u001b[0m        Path = \u001b[1m<\u001b[0m\u001b[1;95mclass\u001b[0m\u001b[39m \u001b[0m\u001b[33m'pathlib.Path'\u001b[0m\u001b[1m>\u001b[0m                                                         \u001b[33m│\u001b[0m \u001b[31m│\u001b[0m\n",
       "\u001b[31m│\u001b[0m \u001b[33m│\u001b[0m   return_df = \u001b[94mFalse\u001b[0m                                                                          \u001b[33m│\u001b[0m \u001b[31m│\u001b[0m\n",
       "\u001b[31m│\u001b[0m \u001b[33m│\u001b[0m      routes = \u001b[1;4m{\u001b[0m\u001b[1;4mRoute × \u001b[0m\u001b[1;4;94m0\u001b[0m\u001b[1;4m}\u001b[0m                                                                    \u001b[33m│\u001b[0m \u001b[31m│\u001b[0m\n",
       "\u001b[31m│\u001b[0m \u001b[33m│\u001b[0m        rows = \u001b[1m[\u001b[0m\u001b[1m]\u001b[0m                                                                             \u001b[33m│\u001b[0m \u001b[31m│\u001b[0m\n",
       "\u001b[31m│\u001b[0m \u001b[33m│\u001b[0m        self = \u001b[1;4;35mRecipe\u001b[0m\u001b[1;4m(\u001b[0m\u001b[1;4m{\u001b[0m\u001b[1;4mIngredient × \u001b[0m\u001b[1;4;94m70\u001b[0m\u001b[1;4m}\u001b[0m\u001b[1;4m --> \u001b[0m\u001b[1;4m{\u001b[0m\u001b[1;4mIngredient × \u001b[0m\u001b[1;4;94m12\u001b[0m\u001b[1;4m}\u001b[0m\u001b[1;4m --> \u001b[0m\u001b[1;4m{\u001b[0m\u001b[1;4mIngredient × \u001b[0m\u001b[1;4;94m44\u001b[0m\u001b[1;4m}\u001b[0m\u001b[1;4m via \u001b[0m\u001b[1;4m{\u001b[0m\u001b[1;4mR × \u001b[0m \u001b[33m│\u001b[0m \u001b[31m│\u001b[0m\n",
       "\u001b[31m│\u001b[0m \u001b[33m│\u001b[0m               \u001b[1;4;94m56\u001b[0m\u001b[1;4m}\u001b[0m\u001b[1;4m)\u001b[0m                                                                           \u001b[33m│\u001b[0m \u001b[31m│\u001b[0m\n",
       "\u001b[31m│\u001b[0m \u001b[33m╰──────────────────────────────────────────────────────────────────────────────────────────────╯\u001b[0m \u001b[31m│\u001b[0m\n",
       "\u001b[31m│\u001b[0m                                                                                                  \u001b[31m│\u001b[0m\n",
       "\u001b[31m│\u001b[0m \u001b[2;33m/opt/xchem-fragalysis-2/maxwin/conda_slurm/lib/python3.11/site-packages/pandas/core/\u001b[0m\u001b[1;33mframe.py\u001b[0m:\u001b[94m410\u001b[0m \u001b[31m│\u001b[0m\n",
       "\u001b[31m│\u001b[0m \u001b[94m2\u001b[0m in \u001b[92m__getitem__\u001b[0m                                                                                 \u001b[31m│\u001b[0m\n",
       "\u001b[31m│\u001b[0m                                                                                                  \u001b[31m│\u001b[0m\n",
       "\u001b[31m│\u001b[0m   \u001b[2m 4099 \u001b[0m\u001b[2m│   │   \u001b[0m\u001b[94mif\u001b[0m is_single_key:                                                                \u001b[31m│\u001b[0m\n",
       "\u001b[31m│\u001b[0m   \u001b[2m 4100 \u001b[0m\u001b[2m│   │   │   \u001b[0m\u001b[94mif\u001b[0m \u001b[96mself\u001b[0m.columns.nlevels > \u001b[94m1\u001b[0m:                                                 \u001b[31m│\u001b[0m\n",
       "\u001b[31m│\u001b[0m   \u001b[2m 4101 \u001b[0m\u001b[2m│   │   │   │   \u001b[0m\u001b[94mreturn\u001b[0m \u001b[96mself\u001b[0m._getitem_multilevel(key)                                     \u001b[31m│\u001b[0m\n",
       "\u001b[31m│\u001b[0m \u001b[31m❱ \u001b[0m 4102 \u001b[2m│   │   │   \u001b[0mindexer = \u001b[96mself\u001b[0m.columns.get_loc(key)                                          \u001b[31m│\u001b[0m\n",
       "\u001b[31m│\u001b[0m   \u001b[2m 4103 \u001b[0m\u001b[2m│   │   │   \u001b[0m\u001b[94mif\u001b[0m is_integer(indexer):                                                      \u001b[31m│\u001b[0m\n",
       "\u001b[31m│\u001b[0m   \u001b[2m 4104 \u001b[0m\u001b[2m│   │   │   │   \u001b[0mindexer = [indexer]                                                      \u001b[31m│\u001b[0m\n",
       "\u001b[31m│\u001b[0m   \u001b[2m 4105 \u001b[0m\u001b[2m│   │   \u001b[0m\u001b[94melse\u001b[0m:                                                                            \u001b[31m│\u001b[0m\n",
       "\u001b[31m│\u001b[0m                                                                                                  \u001b[31m│\u001b[0m\n",
       "\u001b[31m│\u001b[0m \u001b[33m╭─\u001b[0m\u001b[33m───────────\u001b[0m\u001b[33m locals \u001b[0m\u001b[33m────────────\u001b[0m\u001b[33m─╮\u001b[0m                                                              \u001b[31m│\u001b[0m\n",
       "\u001b[31m│\u001b[0m \u001b[33m│\u001b[0m         is_mi = \u001b[94mFalse\u001b[0m           \u001b[33m│\u001b[0m                                                              \u001b[31m│\u001b[0m\n",
       "\u001b[31m│\u001b[0m \u001b[33m│\u001b[0m is_single_key = \u001b[94mTrue\u001b[0m            \u001b[33m│\u001b[0m                                                              \u001b[31m│\u001b[0m\n",
       "\u001b[31m│\u001b[0m \u001b[33m│\u001b[0m           key = \u001b[33m'no-steps'\u001b[0m      \u001b[33m│\u001b[0m                                                              \u001b[31m│\u001b[0m\n",
       "\u001b[31m│\u001b[0m \u001b[33m│\u001b[0m          self = Empty DataFrame \u001b[33m│\u001b[0m                                                              \u001b[31m│\u001b[0m\n",
       "\u001b[31m│\u001b[0m \u001b[33m│\u001b[0m                 Columns: \u001b[1m[\u001b[0m\u001b[1m]\u001b[0m     \u001b[33m│\u001b[0m                                                              \u001b[31m│\u001b[0m\n",
       "\u001b[31m│\u001b[0m \u001b[33m│\u001b[0m                 Index: \u001b[1m[\u001b[0m\u001b[1m]\u001b[0m       \u001b[33m│\u001b[0m                                                              \u001b[31m│\u001b[0m\n",
       "\u001b[31m│\u001b[0m \u001b[33m╰─────────────────────────────────╯\u001b[0m                                                              \u001b[31m│\u001b[0m\n",
       "\u001b[31m│\u001b[0m                                                                                                  \u001b[31m│\u001b[0m\n",
       "\u001b[31m│\u001b[0m \u001b[2;33m/opt/xchem-fragalysis-2/maxwin/conda_slurm/lib/python3.11/site-packages/pandas/core/indexes/\u001b[0m\u001b[1;33mrang\u001b[0m \u001b[31m│\u001b[0m\n",
       "\u001b[31m│\u001b[0m \u001b[1;33me.py\u001b[0m:\u001b[94m417\u001b[0m in \u001b[92mget_loc\u001b[0m                                                                              \u001b[31m│\u001b[0m\n",
       "\u001b[31m│\u001b[0m                                                                                                  \u001b[31m│\u001b[0m\n",
       "\u001b[31m│\u001b[0m   \u001b[2m 414 \u001b[0m\u001b[2m│   │   │   \u001b[0m\u001b[94mexcept\u001b[0m \u001b[96mValueError\u001b[0m \u001b[94mas\u001b[0m err:                                                     \u001b[31m│\u001b[0m\n",
       "\u001b[31m│\u001b[0m   \u001b[2m 415 \u001b[0m\u001b[2m│   │   │   │   \u001b[0m\u001b[94mraise\u001b[0m \u001b[96mKeyError\u001b[0m(key) \u001b[94mfrom\u001b[0m \u001b[4;96merr\u001b[0m                                              \u001b[31m│\u001b[0m\n",
       "\u001b[31m│\u001b[0m   \u001b[2m 416 \u001b[0m\u001b[2m│   │   \u001b[0m\u001b[94mif\u001b[0m \u001b[96misinstance\u001b[0m(key, Hashable):                                                     \u001b[31m│\u001b[0m\n",
       "\u001b[31m│\u001b[0m \u001b[31m❱ \u001b[0m 417 \u001b[2m│   │   │   \u001b[0m\u001b[94mraise\u001b[0m \u001b[96mKeyError\u001b[0m(key)                                                           \u001b[31m│\u001b[0m\n",
       "\u001b[31m│\u001b[0m   \u001b[2m 418 \u001b[0m\u001b[2m│   │   \u001b[0m\u001b[96mself\u001b[0m._check_indexing_error(key)                                                   \u001b[31m│\u001b[0m\n",
       "\u001b[31m│\u001b[0m   \u001b[2m 419 \u001b[0m\u001b[2m│   │   \u001b[0m\u001b[94mraise\u001b[0m \u001b[96mKeyError\u001b[0m(key)                                                               \u001b[31m│\u001b[0m\n",
       "\u001b[31m│\u001b[0m   \u001b[2m 420 \u001b[0m                                                                                          \u001b[31m│\u001b[0m\n",
       "\u001b[31m│\u001b[0m                                                                                                  \u001b[31m│\u001b[0m\n",
       "\u001b[31m│\u001b[0m \u001b[33m╭─\u001b[0m\u001b[33m─────────────────\u001b[0m\u001b[33m locals \u001b[0m\u001b[33m─────────────────\u001b[0m\u001b[33m─╮\u001b[0m                                                   \u001b[31m│\u001b[0m\n",
       "\u001b[31m│\u001b[0m \u001b[33m│\u001b[0m  key = \u001b[33m'no-steps'\u001b[0m                          \u001b[33m│\u001b[0m                                                   \u001b[31m│\u001b[0m\n",
       "\u001b[31m│\u001b[0m \u001b[33m│\u001b[0m self = \u001b[1;35mRangeIndex\u001b[0m\u001b[1m(\u001b[0m\u001b[33mstart\u001b[0m=\u001b[94m0\u001b[0m, \u001b[33mstop\u001b[0m=\u001b[94m0\u001b[0m, \u001b[33mstep\u001b[0m=\u001b[94m1\u001b[0m\u001b[1m)\u001b[0m \u001b[33m│\u001b[0m                                                   \u001b[31m│\u001b[0m\n",
       "\u001b[31m│\u001b[0m \u001b[33m╰────────────────────────────────────────────╯\u001b[0m                                                   \u001b[31m│\u001b[0m\n",
       "\u001b[31m╰──────────────────────────────────────────────────────────────────────────────────────────────────╯\u001b[0m\n",
       "\u001b[1;91mKeyError: \u001b[0m\u001b[32m'no-steps'\u001b[0m\n"
      ]
     },
     "metadata": {},
     "output_type": "display_data"
    }
   ],
   "source": [
    "for i,recipe in enumerate(recipes):\n",
    "    recipe.write_CAR_csv(f\"all_scaffold_recipes/scaffold_Recipe_{i:03}.csv\")"
   ]
  },
  {
   "cell_type": "code",
   "execution_count": 36,
   "id": "0224fc97-84c4-4cb8-a867-99e5a78a336b",
   "metadata": {},
   "outputs": [
    {
     "data": {
      "application/vnd.jupyter.widget-view+json": {
       "model_id": "9e0d5396a32c41aaa23efeef48c11925",
       "version_major": 2,
       "version_minor": 0
      },
      "text/plain": [
       "Output()"
      ]
     },
     "metadata": {},
     "output_type": "display_data"
    },
    {
     "data": {
      "text/html": [
       "<pre style=\"white-space:pre;overflow-x:auto;line-height:normal;font-family:Menlo,'DejaVu Sans Mono',consolas,'Courier New',monospace\"><span style=\"background-color: #800000; font-weight: bold\"> ERROR </span><span style=\"color: #800000; text-decoration-color: #800000; font-weight: bold\"> No entry in quote with quote_compound=133!</span>\n",
       "</pre>\n"
      ],
      "text/plain": [
       "\u001b[1;7;31m ERROR \u001b[0m\u001b[1;31m No entry in quote with quote_compound=133!\u001b[0m\n"
      ]
     },
     "metadata": {},
     "output_type": "display_data"
    },
    {
     "data": {
      "text/html": [
       "<pre style=\"white-space:pre;overflow-x:auto;line-height:normal;font-family:Menlo,'DejaVu Sans Mono',consolas,'Courier New',monospace\"><span style=\"background-color: #800000; font-weight: bold\"> ERROR </span><span style=\"color: #800000; text-decoration-color: #800000; font-weight: bold\"> No entry in quote with quote_compound=252!</span>\n",
       "</pre>\n"
      ],
      "text/plain": [
       "\u001b[1;7;31m ERROR \u001b[0m\u001b[1;31m No entry in quote with quote_compound=252!\u001b[0m\n"
      ]
     },
     "metadata": {},
     "output_type": "display_data"
    },
    {
     "data": {
      "text/html": [
       "<pre style=\"white-space:pre;overflow-x:auto;line-height:normal;font-family:Menlo,'DejaVu Sans Mono',consolas,'Courier New',monospace\"><span style=\"background-color: #800000; font-weight: bold\"> ERROR </span><span style=\"color: #800000; text-decoration-color: #800000; font-weight: bold\"> No entry in quote with quote_compound=250!</span>\n",
       "</pre>\n"
      ],
      "text/plain": [
       "\u001b[1;7;31m ERROR \u001b[0m\u001b[1;31m No entry in quote with quote_compound=250!\u001b[0m\n"
      ]
     },
     "metadata": {},
     "output_type": "display_data"
    },
    {
     "data": {
      "text/html": [
       "<pre style=\"white-space:pre;overflow-x:auto;line-height:normal;font-family:Menlo,'DejaVu Sans Mono',consolas,'Courier New',monospace\"><span style=\"background-color: #800000; font-weight: bold\"> ERROR </span><span style=\"color: #800000; text-decoration-color: #800000; font-weight: bold\"> No entry in quote with quote_compound=248!</span>\n",
       "</pre>\n"
      ],
      "text/plain": [
       "\u001b[1;7;31m ERROR \u001b[0m\u001b[1;31m No entry in quote with quote_compound=248!\u001b[0m\n"
      ]
     },
     "metadata": {},
     "output_type": "display_data"
    },
    {
     "data": {
      "text/html": [
       "<pre style=\"white-space:pre;overflow-x:auto;line-height:normal;font-family:Menlo,'DejaVu Sans Mono',consolas,'Courier New',monospace\"><span style=\"background-color: #800000; font-weight: bold\"> ERROR </span><span style=\"color: #800000; text-decoration-color: #800000; font-weight: bold\"> No entry in quote with quote_compound=250!</span>\n",
       "</pre>\n"
      ],
      "text/plain": [
       "\u001b[1;7;31m ERROR \u001b[0m\u001b[1;31m No entry in quote with quote_compound=250!\u001b[0m\n"
      ]
     },
     "metadata": {},
     "output_type": "display_data"
    },
    {
     "data": {
      "text/html": [
       "<pre style=\"white-space:pre;overflow-x:auto;line-height:normal;font-family:Menlo,'DejaVu Sans Mono',consolas,'Courier New',monospace\"><span style=\"background-color: #800000; font-weight: bold\"> ERROR </span><span style=\"color: #800000; text-decoration-color: #800000; font-weight: bold\"> No entry in quote with quote_compound=251!</span>\n",
       "</pre>\n"
      ],
      "text/plain": [
       "\u001b[1;7;31m ERROR \u001b[0m\u001b[1;31m No entry in quote with quote_compound=251!\u001b[0m\n"
      ]
     },
     "metadata": {},
     "output_type": "display_data"
    },
    {
     "data": {
      "text/html": [
       "<pre style=\"white-space:pre;overflow-x:auto;line-height:normal;font-family:Menlo,'DejaVu Sans Mono',consolas,'Courier New',monospace\"><span style=\"background-color: #800000; font-weight: bold\"> ERROR </span><span style=\"color: #800000; text-decoration-color: #800000; font-weight: bold\"> No entry in quote with quote_compound=252!</span>\n",
       "</pre>\n"
      ],
      "text/plain": [
       "\u001b[1;7;31m ERROR \u001b[0m\u001b[1;31m No entry in quote with quote_compound=252!\u001b[0m\n"
      ]
     },
     "metadata": {},
     "output_type": "display_data"
    },
    {
     "data": {
      "text/html": [
       "<pre style=\"white-space:pre;overflow-x:auto;line-height:normal;font-family:Menlo,'DejaVu Sans Mono',consolas,'Courier New',monospace\"><span style=\"background-color: #800000; font-weight: bold\"> ERROR </span><span style=\"color: #800000; text-decoration-color: #800000; font-weight: bold\"> No entry in quote with quote_compound=134!</span>\n",
       "</pre>\n"
      ],
      "text/plain": [
       "\u001b[1;7;31m ERROR \u001b[0m\u001b[1;31m No entry in quote with quote_compound=134!\u001b[0m\n"
      ]
     },
     "metadata": {},
     "output_type": "display_data"
    },
    {
     "data": {
      "text/html": [
       "<pre style=\"white-space:pre;overflow-x:auto;line-height:normal;font-family:Menlo,'DejaVu Sans Mono',consolas,'Courier New',monospace\"><span style=\"background-color: #800000; font-weight: bold\"> ERROR </span><span style=\"color: #800000; text-decoration-color: #800000; font-weight: bold\"> No entry in quote with quote_compound=2761!</span>\n",
       "</pre>\n"
      ],
      "text/plain": [
       "\u001b[1;7;31m ERROR \u001b[0m\u001b[1;31m No entry in quote with quote_compound=2761!\u001b[0m\n"
      ]
     },
     "metadata": {},
     "output_type": "display_data"
    },
    {
     "data": {
      "text/html": [
       "<pre style=\"white-space:pre;overflow-x:auto;line-height:normal;font-family:Menlo,'DejaVu Sans Mono',consolas,'Courier New',monospace\"><span style=\"background-color: #800000; font-weight: bold\"> ERROR </span><span style=\"color: #800000; text-decoration-color: #800000; font-weight: bold\"> No entry in quote with quote_compound=2759!</span>\n",
       "</pre>\n"
      ],
      "text/plain": [
       "\u001b[1;7;31m ERROR \u001b[0m\u001b[1;31m No entry in quote with quote_compound=2759!\u001b[0m\n"
      ]
     },
     "metadata": {},
     "output_type": "display_data"
    },
    {
     "data": {
      "text/html": [
       "<pre style=\"white-space:pre;overflow-x:auto;line-height:normal;font-family:Menlo,'DejaVu Sans Mono',consolas,'Courier New',monospace\"><span style=\"background-color: #800000; font-weight: bold\"> ERROR </span><span style=\"color: #800000; text-decoration-color: #800000; font-weight: bold\"> No entry in quote with quote_compound=251!</span>\n",
       "</pre>\n"
      ],
      "text/plain": [
       "\u001b[1;7;31m ERROR \u001b[0m\u001b[1;31m No entry in quote with quote_compound=251!\u001b[0m\n"
      ]
     },
     "metadata": {},
     "output_type": "display_data"
    },
    {
     "data": {
      "text/html": [
       "<pre style=\"white-space:pre;overflow-x:auto;line-height:normal;font-family:Menlo,'DejaVu Sans Mono',consolas,'Courier New',monospace\"><span style=\"background-color: #800000; font-weight: bold\"> ERROR </span><span style=\"color: #800000; text-decoration-color: #800000; font-weight: bold\"> No entry in quote with quote_compound=2759!</span>\n",
       "</pre>\n"
      ],
      "text/plain": [
       "\u001b[1;7;31m ERROR \u001b[0m\u001b[1;31m No entry in quote with quote_compound=2759!\u001b[0m\n"
      ]
     },
     "metadata": {},
     "output_type": "display_data"
    },
    {
     "data": {
      "text/html": [
       "<pre style=\"white-space:pre;overflow-x:auto;line-height:normal;font-family:Menlo,'DejaVu Sans Mono',consolas,'Courier New',monospace\"><span style=\"background-color: #800000; font-weight: bold\"> ERROR </span><span style=\"color: #800000; text-decoration-color: #800000; font-weight: bold\"> No entry in quote with quote_compound=2761!</span>\n",
       "</pre>\n"
      ],
      "text/plain": [
       "\u001b[1;7;31m ERROR \u001b[0m\u001b[1;31m No entry in quote with quote_compound=2761!\u001b[0m\n"
      ]
     },
     "metadata": {},
     "output_type": "display_data"
    },
    {
     "data": {
      "text/html": [
       "<pre style=\"white-space:pre;overflow-x:auto;line-height:normal;font-family:Menlo,'DejaVu Sans Mono',consolas,'Courier New',monospace\"><span style=\"background-color: #800000; font-weight: bold\"> ERROR </span><span style=\"color: #800000; text-decoration-color: #800000; font-weight: bold\"> No entry in quote with quote_compound=135!</span>\n",
       "</pre>\n"
      ],
      "text/plain": [
       "\u001b[1;7;31m ERROR \u001b[0m\u001b[1;31m No entry in quote with quote_compound=135!\u001b[0m\n"
      ]
     },
     "metadata": {},
     "output_type": "display_data"
    },
    {
     "data": {
      "text/html": [
       "<pre style=\"white-space:pre;overflow-x:auto;line-height:normal;font-family:Menlo,'DejaVu Sans Mono',consolas,'Courier New',monospace\"><span style=\"background-color: #800000; font-weight: bold\"> ERROR </span><span style=\"color: #800000; text-decoration-color: #800000; font-weight: bold\"> No entry in quote with quote_compound=5729!</span>\n",
       "</pre>\n"
      ],
      "text/plain": [
       "\u001b[1;7;31m ERROR \u001b[0m\u001b[1;31m No entry in quote with quote_compound=5729!\u001b[0m\n"
      ]
     },
     "metadata": {},
     "output_type": "display_data"
    },
    {
     "data": {
      "text/html": [
       "<pre style=\"white-space:pre;overflow-x:auto;line-height:normal;font-family:Menlo,'DejaVu Sans Mono',consolas,'Courier New',monospace\"><span style=\"background-color: #800000; font-weight: bold\"> ERROR </span><span style=\"color: #800000; text-decoration-color: #800000; font-weight: bold\"> No entry in quote with quote_compound=250!</span>\n",
       "</pre>\n"
      ],
      "text/plain": [
       "\u001b[1;7;31m ERROR \u001b[0m\u001b[1;31m No entry in quote with quote_compound=250!\u001b[0m\n"
      ]
     },
     "metadata": {},
     "output_type": "display_data"
    },
    {
     "data": {
      "text/html": [
       "<pre style=\"white-space:pre;overflow-x:auto;line-height:normal;font-family:Menlo,'DejaVu Sans Mono',consolas,'Courier New',monospace\"><span style=\"background-color: #800000; font-weight: bold\"> ERROR </span><span style=\"color: #800000; text-decoration-color: #800000; font-weight: bold\"> No entry in quote with quote_compound=248!</span>\n",
       "</pre>\n"
      ],
      "text/plain": [
       "\u001b[1;7;31m ERROR \u001b[0m\u001b[1;31m No entry in quote with quote_compound=248!\u001b[0m\n"
      ]
     },
     "metadata": {},
     "output_type": "display_data"
    },
    {
     "data": {
      "text/html": [
       "<pre style=\"white-space:pre;overflow-x:auto;line-height:normal;font-family:Menlo,'DejaVu Sans Mono',consolas,'Courier New',monospace\"><span style=\"background-color: #800000; font-weight: bold\"> ERROR </span><span style=\"color: #800000; text-decoration-color: #800000; font-weight: bold\"> No entry in quote with quote_compound=250!</span>\n",
       "</pre>\n"
      ],
      "text/plain": [
       "\u001b[1;7;31m ERROR \u001b[0m\u001b[1;31m No entry in quote with quote_compound=250!\u001b[0m\n"
      ]
     },
     "metadata": {},
     "output_type": "display_data"
    },
    {
     "data": {
      "text/html": [
       "<pre style=\"white-space:pre;overflow-x:auto;line-height:normal;font-family:Menlo,'DejaVu Sans Mono',consolas,'Courier New',monospace\"><span style=\"background-color: #800000; font-weight: bold\"> ERROR </span><span style=\"color: #800000; text-decoration-color: #800000; font-weight: bold\"> No entry in quote with quote_compound=5728!</span>\n",
       "</pre>\n"
      ],
      "text/plain": [
       "\u001b[1;7;31m ERROR \u001b[0m\u001b[1;31m No entry in quote with quote_compound=5728!\u001b[0m\n"
      ]
     },
     "metadata": {},
     "output_type": "display_data"
    },
    {
     "data": {
      "text/html": [
       "<pre style=\"white-space:pre;overflow-x:auto;line-height:normal;font-family:Menlo,'DejaVu Sans Mono',consolas,'Courier New',monospace\"><span style=\"background-color: #800000; font-weight: bold\"> ERROR </span><span style=\"color: #800000; text-decoration-color: #800000; font-weight: bold\"> No entry in quote with quote_compound=5729!</span>\n",
       "</pre>\n"
      ],
      "text/plain": [
       "\u001b[1;7;31m ERROR \u001b[0m\u001b[1;31m No entry in quote with quote_compound=5729!\u001b[0m\n"
      ]
     },
     "metadata": {},
     "output_type": "display_data"
    },
    {
     "data": {
      "text/html": [
       "<pre style=\"white-space:pre;overflow-x:auto;line-height:normal;font-family:Menlo,'DejaVu Sans Mono',consolas,'Courier New',monospace\"><span style=\"background-color: #800000; font-weight: bold\"> ERROR </span><span style=\"color: #800000; text-decoration-color: #800000; font-weight: bold\"> No entry in quote with quote_compound=136!</span>\n",
       "</pre>\n"
      ],
      "text/plain": [
       "\u001b[1;7;31m ERROR \u001b[0m\u001b[1;31m No entry in quote with quote_compound=136!\u001b[0m\n"
      ]
     },
     "metadata": {},
     "output_type": "display_data"
    },
    {
     "data": {
      "text/html": [
       "<pre style=\"white-space:pre;overflow-x:auto;line-height:normal;font-family:Menlo,'DejaVu Sans Mono',consolas,'Courier New',monospace\"><span style=\"background-color: #800000; font-weight: bold\"> ERROR </span><span style=\"color: #800000; text-decoration-color: #800000; font-weight: bold\"> No entry in quote with quote_compound=8871!</span>\n",
       "</pre>\n"
      ],
      "text/plain": [
       "\u001b[1;7;31m ERROR \u001b[0m\u001b[1;31m No entry in quote with quote_compound=8871!\u001b[0m\n"
      ]
     },
     "metadata": {},
     "output_type": "display_data"
    },
    {
     "data": {
      "text/html": [
       "<pre style=\"white-space:pre;overflow-x:auto;line-height:normal;font-family:Menlo,'DejaVu Sans Mono',consolas,'Courier New',monospace\"><span style=\"background-color: #800000; font-weight: bold\"> ERROR </span><span style=\"color: #800000; text-decoration-color: #800000; font-weight: bold\"> No entry in quote with quote_compound=8869!</span>\n",
       "</pre>\n"
      ],
      "text/plain": [
       "\u001b[1;7;31m ERROR \u001b[0m\u001b[1;31m No entry in quote with quote_compound=8869!\u001b[0m\n"
      ]
     },
     "metadata": {},
     "output_type": "display_data"
    },
    {
     "data": {
      "text/html": [
       "<pre style=\"white-space:pre;overflow-x:auto;line-height:normal;font-family:Menlo,'DejaVu Sans Mono',consolas,'Courier New',monospace\"><span style=\"background-color: #800000; font-weight: bold\"> ERROR </span><span style=\"color: #800000; text-decoration-color: #800000; font-weight: bold\"> No entry in quote with quote_compound=5728!</span>\n",
       "</pre>\n"
      ],
      "text/plain": [
       "\u001b[1;7;31m ERROR \u001b[0m\u001b[1;31m No entry in quote with quote_compound=5728!\u001b[0m\n"
      ]
     },
     "metadata": {},
     "output_type": "display_data"
    },
    {
     "data": {
      "text/html": [
       "<pre style=\"white-space:pre;overflow-x:auto;line-height:normal;font-family:Menlo,'DejaVu Sans Mono',consolas,'Courier New',monospace\"><span style=\"background-color: #800000; font-weight: bold\"> ERROR </span><span style=\"color: #800000; text-decoration-color: #800000; font-weight: bold\"> No entry in quote with quote_compound=8869!</span>\n",
       "</pre>\n"
      ],
      "text/plain": [
       "\u001b[1;7;31m ERROR \u001b[0m\u001b[1;31m No entry in quote with quote_compound=8869!\u001b[0m\n"
      ]
     },
     "metadata": {},
     "output_type": "display_data"
    },
    {
     "data": {
      "text/html": [
       "<pre style=\"white-space:pre;overflow-x:auto;line-height:normal;font-family:Menlo,'DejaVu Sans Mono',consolas,'Courier New',monospace\"><span style=\"background-color: #800000; font-weight: bold\"> ERROR </span><span style=\"color: #800000; text-decoration-color: #800000; font-weight: bold\"> No entry in quote with quote_compound=8870!</span>\n",
       "</pre>\n"
      ],
      "text/plain": [
       "\u001b[1;7;31m ERROR \u001b[0m\u001b[1;31m No entry in quote with quote_compound=8870!\u001b[0m\n"
      ]
     },
     "metadata": {},
     "output_type": "display_data"
    },
    {
     "data": {
      "text/html": [
       "<pre style=\"white-space:pre;overflow-x:auto;line-height:normal;font-family:Menlo,'DejaVu Sans Mono',consolas,'Courier New',monospace\"><span style=\"background-color: #800000; font-weight: bold\"> ERROR </span><span style=\"color: #800000; text-decoration-color: #800000; font-weight: bold\"> No entry in quote with quote_compound=8871!</span>\n",
       "</pre>\n"
      ],
      "text/plain": [
       "\u001b[1;7;31m ERROR \u001b[0m\u001b[1;31m No entry in quote with quote_compound=8871!\u001b[0m\n"
      ]
     },
     "metadata": {},
     "output_type": "display_data"
    },
    {
     "data": {
      "text/html": [
       "<pre style=\"white-space:pre;overflow-x:auto;line-height:normal;font-family:Menlo,'DejaVu Sans Mono',consolas,'Courier New',monospace\"><span style=\"background-color: #800000; font-weight: bold\"> ERROR </span><span style=\"color: #800000; text-decoration-color: #800000; font-weight: bold\"> No entry in quote with quote_compound=31844!</span>\n",
       "</pre>\n"
      ],
      "text/plain": [
       "\u001b[1;7;31m ERROR \u001b[0m\u001b[1;31m No entry in quote with quote_compound=31844!\u001b[0m\n"
      ]
     },
     "metadata": {},
     "output_type": "display_data"
    },
    {
     "data": {
      "text/html": [
       "<pre style=\"white-space:pre;overflow-x:auto;line-height:normal;font-family:Menlo,'DejaVu Sans Mono',consolas,'Courier New',monospace\"><span style=\"background-color: #800000; font-weight: bold\"> ERROR </span><span style=\"color: #800000; text-decoration-color: #800000; font-weight: bold\"> No entry in quote with quote_compound=5728!</span>\n",
       "</pre>\n"
      ],
      "text/plain": [
       "\u001b[1;7;31m ERROR \u001b[0m\u001b[1;31m No entry in quote with quote_compound=5728!\u001b[0m\n"
      ]
     },
     "metadata": {},
     "output_type": "display_data"
    },
    {
     "data": {
      "text/html": [
       "<pre style=\"white-space:pre;overflow-x:auto;line-height:normal;font-family:Menlo,'DejaVu Sans Mono',consolas,'Courier New',monospace\"><span style=\"background-color: #800000; font-weight: bold\"> ERROR </span><span style=\"color: #800000; text-decoration-color: #800000; font-weight: bold\"> No entry in quote with quote_compound=8870!</span>\n",
       "</pre>\n"
      ],
      "text/plain": [
       "\u001b[1;7;31m ERROR \u001b[0m\u001b[1;31m No entry in quote with quote_compound=8870!\u001b[0m\n"
      ]
     },
     "metadata": {},
     "output_type": "display_data"
    },
    {
     "data": {
      "text/html": [
       "<pre style=\"white-space:pre;overflow-x:auto;line-height:normal;font-family:Menlo,'DejaVu Sans Mono',consolas,'Courier New',monospace\"><span style=\"background-color: #800000; font-weight: bold\"> ERROR </span><span style=\"color: #800000; text-decoration-color: #800000; font-weight: bold\"> No entry in quote with quote_compound=31844!</span>\n",
       "</pre>\n"
      ],
      "text/plain": [
       "\u001b[1;7;31m ERROR \u001b[0m\u001b[1;31m No entry in quote with quote_compound=31844!\u001b[0m\n"
      ]
     },
     "metadata": {},
     "output_type": "display_data"
    },
    {
     "data": {
      "text/html": [
       "<pre style=\"white-space:pre;overflow-x:auto;line-height:normal;font-family:Menlo,'DejaVu Sans Mono',consolas,'Courier New',monospace\"><span style=\"background-color: #800000; font-weight: bold\"> ERROR </span><span style=\"color: #800000; text-decoration-color: #800000; font-weight: bold\"> No entry in quote with quote_compound=8871!</span>\n",
       "</pre>\n"
      ],
      "text/plain": [
       "\u001b[1;7;31m ERROR \u001b[0m\u001b[1;31m No entry in quote with quote_compound=8871!\u001b[0m\n"
      ]
     },
     "metadata": {},
     "output_type": "display_data"
    },
    {
     "data": {
      "text/html": [
       "<pre style=\"white-space:pre;overflow-x:auto;line-height:normal;font-family:Menlo,'DejaVu Sans Mono',consolas,'Courier New',monospace\"><span style=\"background-color: #800000; font-weight: bold\"> ERROR </span><span style=\"color: #800000; text-decoration-color: #800000; font-weight: bold\"> No entry in quote with quote_compound=8871!</span>\n",
       "</pre>\n"
      ],
      "text/plain": [
       "\u001b[1;7;31m ERROR \u001b[0m\u001b[1;31m No entry in quote with quote_compound=8871!\u001b[0m\n"
      ]
     },
     "metadata": {},
     "output_type": "display_data"
    },
    {
     "data": {
      "text/html": [
       "<pre style=\"white-space:pre;overflow-x:auto;line-height:normal;font-family:Menlo,'DejaVu Sans Mono',consolas,'Courier New',monospace\"><span style=\"background-color: #800000; font-weight: bold\"> ERROR </span><span style=\"color: #800000; text-decoration-color: #800000; font-weight: bold\"> No entry in quote with quote_compound=8872!</span>\n",
       "</pre>\n"
      ],
      "text/plain": [
       "\u001b[1;7;31m ERROR \u001b[0m\u001b[1;31m No entry in quote with quote_compound=8872!\u001b[0m\n"
      ]
     },
     "metadata": {},
     "output_type": "display_data"
    },
    {
     "data": {
      "text/html": [
       "<pre style=\"white-space:pre;overflow-x:auto;line-height:normal;font-family:Menlo,'DejaVu Sans Mono',consolas,'Courier New',monospace\"><span style=\"background-color: #800000; font-weight: bold\"> ERROR </span><span style=\"color: #800000; text-decoration-color: #800000; font-weight: bold\"> No entry in quote with quote_compound=8872!</span>\n",
       "</pre>\n"
      ],
      "text/plain": [
       "\u001b[1;7;31m ERROR \u001b[0m\u001b[1;31m No entry in quote with quote_compound=8872!\u001b[0m\n"
      ]
     },
     "metadata": {},
     "output_type": "display_data"
    },
    {
     "data": {
      "text/html": [
       "<pre style=\"white-space:pre;overflow-x:auto;line-height:normal;font-family:Menlo,'DejaVu Sans Mono',consolas,'Courier New',monospace\"><span style=\"background-color: #800000; font-weight: bold\"> ERROR </span><span style=\"color: #800000; text-decoration-color: #800000; font-weight: bold\"> No entry in quote with quote_compound=181!</span>\n",
       "</pre>\n"
      ],
      "text/plain": [
       "\u001b[1;7;31m ERROR \u001b[0m\u001b[1;31m No entry in quote with quote_compound=181!\u001b[0m\n"
      ]
     },
     "metadata": {},
     "output_type": "display_data"
    },
    {
     "data": {
      "text/html": [
       "<pre style=\"white-space:pre;overflow-x:auto;line-height:normal;font-family:Menlo,'DejaVu Sans Mono',consolas,'Courier New',monospace\"><span style=\"background-color: #800000; font-weight: bold\"> ERROR </span><span style=\"color: #800000; text-decoration-color: #800000; font-weight: bold\"> No entry in quote with quote_compound=139!</span>\n",
       "</pre>\n"
      ],
      "text/plain": [
       "\u001b[1;7;31m ERROR \u001b[0m\u001b[1;31m No entry in quote with quote_compound=139!\u001b[0m\n"
      ]
     },
     "metadata": {},
     "output_type": "display_data"
    },
    {
     "data": {
      "text/html": [
       "<pre style=\"white-space:pre;overflow-x:auto;line-height:normal;font-family:Menlo,'DejaVu Sans Mono',consolas,'Courier New',monospace\"><span style=\"background-color: #800000; font-weight: bold\"> ERROR </span><span style=\"color: #800000; text-decoration-color: #800000; font-weight: bold\"> No entry in quote with quote_compound=182!</span>\n",
       "</pre>\n"
      ],
      "text/plain": [
       "\u001b[1;7;31m ERROR \u001b[0m\u001b[1;31m No entry in quote with quote_compound=182!\u001b[0m\n"
      ]
     },
     "metadata": {},
     "output_type": "display_data"
    },
    {
     "data": {
      "text/html": [
       "<pre style=\"white-space:pre;overflow-x:auto;line-height:normal;font-family:Menlo,'DejaVu Sans Mono',consolas,'Courier New',monospace\"><span style=\"background-color: #800000; font-weight: bold\"> ERROR </span><span style=\"color: #800000; text-decoration-color: #800000; font-weight: bold\"> No entry in quote with quote_compound=183!</span>\n",
       "</pre>\n"
      ],
      "text/plain": [
       "\u001b[1;7;31m ERROR \u001b[0m\u001b[1;31m No entry in quote with quote_compound=183!\u001b[0m\n"
      ]
     },
     "metadata": {},
     "output_type": "display_data"
    },
    {
     "data": {
      "text/html": [
       "<pre style=\"white-space:pre;overflow-x:auto;line-height:normal;font-family:Menlo,'DejaVu Sans Mono',consolas,'Courier New',monospace\"><span style=\"background-color: #800000; font-weight: bold\"> ERROR </span><span style=\"color: #800000; text-decoration-color: #800000; font-weight: bold\"> No entry in quote with quote_compound=143!</span>\n",
       "</pre>\n"
      ],
      "text/plain": [
       "\u001b[1;7;31m ERROR \u001b[0m\u001b[1;31m No entry in quote with quote_compound=143!\u001b[0m\n"
      ]
     },
     "metadata": {},
     "output_type": "display_data"
    },
    {
     "data": {
      "text/html": [
       "<pre style=\"white-space:pre;overflow-x:auto;line-height:normal;font-family:Menlo,'DejaVu Sans Mono',consolas,'Courier New',monospace\"><span style=\"background-color: #800000; font-weight: bold\"> ERROR </span><span style=\"color: #800000; text-decoration-color: #800000; font-weight: bold\"> No entry in quote with quote_compound=22818!</span>\n",
       "</pre>\n"
      ],
      "text/plain": [
       "\u001b[1;7;31m ERROR \u001b[0m\u001b[1;31m No entry in quote with quote_compound=22818!\u001b[0m\n"
      ]
     },
     "metadata": {},
     "output_type": "display_data"
    },
    {
     "data": {
      "text/html": [
       "<pre style=\"white-space:pre;overflow-x:auto;line-height:normal;font-family:Menlo,'DejaVu Sans Mono',consolas,'Courier New',monospace\"><span style=\"background-color: #800000; font-weight: bold\"> ERROR </span><span style=\"color: #800000; text-decoration-color: #800000; font-weight: bold\"> No entry in quote with quote_compound=8869!</span>\n",
       "</pre>\n"
      ],
      "text/plain": [
       "\u001b[1;7;31m ERROR \u001b[0m\u001b[1;31m No entry in quote with quote_compound=8869!\u001b[0m\n"
      ]
     },
     "metadata": {},
     "output_type": "display_data"
    },
    {
     "data": {
      "text/html": [
       "<pre style=\"white-space:pre;overflow-x:auto;line-height:normal;font-family:Menlo,'DejaVu Sans Mono',consolas,'Courier New',monospace\"><span style=\"background-color: #800000; font-weight: bold\"> ERROR </span><span style=\"color: #800000; text-decoration-color: #800000; font-weight: bold\"> No entry in quote with quote_compound=5728!</span>\n",
       "</pre>\n"
      ],
      "text/plain": [
       "\u001b[1;7;31m ERROR \u001b[0m\u001b[1;31m No entry in quote with quote_compound=5728!\u001b[0m\n"
      ]
     },
     "metadata": {},
     "output_type": "display_data"
    },
    {
     "data": {
      "text/html": [
       "<pre style=\"white-space:pre;overflow-x:auto;line-height:normal;font-family:Menlo,'DejaVu Sans Mono',consolas,'Courier New',monospace\"><span style=\"background-color: #800000; font-weight: bold\"> ERROR </span><span style=\"color: #800000; text-decoration-color: #800000; font-weight: bold\"> No entry in quote with quote_compound=8869!</span>\n",
       "</pre>\n"
      ],
      "text/plain": [
       "\u001b[1;7;31m ERROR \u001b[0m\u001b[1;31m No entry in quote with quote_compound=8869!\u001b[0m\n"
      ]
     },
     "metadata": {},
     "output_type": "display_data"
    },
    {
     "data": {
      "text/html": [
       "<pre style=\"white-space:pre;overflow-x:auto;line-height:normal;font-family:Menlo,'DejaVu Sans Mono',consolas,'Courier New',monospace\"><span style=\"background-color: #800000; font-weight: bold\"> ERROR </span><span style=\"color: #800000; text-decoration-color: #800000; font-weight: bold\"> No entry in quote with quote_compound=22818!</span>\n",
       "</pre>\n"
      ],
      "text/plain": [
       "\u001b[1;7;31m ERROR \u001b[0m\u001b[1;31m No entry in quote with quote_compound=22818!\u001b[0m\n"
      ]
     },
     "metadata": {},
     "output_type": "display_data"
    },
    {
     "data": {
      "text/html": [
       "<pre style=\"white-space:pre;overflow-x:auto;line-height:normal;font-family:Menlo,'DejaVu Sans Mono',consolas,'Courier New',monospace\"><span style=\"background-color: #800000; font-weight: bold\"> ERROR </span><span style=\"color: #800000; text-decoration-color: #800000; font-weight: bold\"> No entry in quote with quote_compound=184!</span>\n",
       "</pre>\n"
      ],
      "text/plain": [
       "\u001b[1;7;31m ERROR \u001b[0m\u001b[1;31m No entry in quote with quote_compound=184!\u001b[0m\n"
      ]
     },
     "metadata": {},
     "output_type": "display_data"
    },
    {
     "data": {
      "text/html": [
       "<pre style=\"white-space:pre;overflow-x:auto;line-height:normal;font-family:Menlo,'DejaVu Sans Mono',consolas,'Courier New',monospace\"><span style=\"background-color: #800000; font-weight: bold\"> ERROR </span><span style=\"color: #800000; text-decoration-color: #800000; font-weight: bold\"> No entry in quote with quote_compound=185!</span>\n",
       "</pre>\n"
      ],
      "text/plain": [
       "\u001b[1;7;31m ERROR \u001b[0m\u001b[1;31m No entry in quote with quote_compound=185!\u001b[0m\n"
      ]
     },
     "metadata": {},
     "output_type": "display_data"
    },
    {
     "data": {
      "text/html": [
       "<pre style=\"white-space:pre;overflow-x:auto;line-height:normal;font-family:Menlo,'DejaVu Sans Mono',consolas,'Courier New',monospace\"><span style=\"background-color: #800000; font-weight: bold\"> ERROR </span><span style=\"color: #800000; text-decoration-color: #800000; font-weight: bold\"> No entry in quote with quote_compound=186!</span>\n",
       "</pre>\n"
      ],
      "text/plain": [
       "\u001b[1;7;31m ERROR \u001b[0m\u001b[1;31m No entry in quote with quote_compound=186!\u001b[0m\n"
      ]
     },
     "metadata": {},
     "output_type": "display_data"
    },
    {
     "data": {
      "text/html": [
       "<pre style=\"white-space:pre;overflow-x:auto;line-height:normal;font-family:Menlo,'DejaVu Sans Mono',consolas,'Courier New',monospace\"><span style=\"background-color: #800000; font-weight: bold\"> ERROR </span><span style=\"color: #800000; text-decoration-color: #800000; font-weight: bold\"> No entry in quote with quote_compound=149!</span>\n",
       "</pre>\n"
      ],
      "text/plain": [
       "\u001b[1;7;31m ERROR \u001b[0m\u001b[1;31m No entry in quote with quote_compound=149!\u001b[0m\n"
      ]
     },
     "metadata": {},
     "output_type": "display_data"
    },
    {
     "data": {
      "text/html": [
       "<pre style=\"white-space:pre;overflow-x:auto;line-height:normal;font-family:Menlo,'DejaVu Sans Mono',consolas,'Courier New',monospace\"><span style=\"background-color: #800000; font-weight: bold\"> ERROR </span><span style=\"color: #800000; text-decoration-color: #800000; font-weight: bold\"> No entry in quote with quote_compound=31846!</span>\n",
       "</pre>\n"
      ],
      "text/plain": [
       "\u001b[1;7;31m ERROR \u001b[0m\u001b[1;31m No entry in quote with quote_compound=31846!\u001b[0m\n"
      ]
     },
     "metadata": {},
     "output_type": "display_data"
    },
    {
     "data": {
      "text/html": [
       "<pre style=\"white-space:pre;overflow-x:auto;line-height:normal;font-family:Menlo,'DejaVu Sans Mono',consolas,'Courier New',monospace\"><span style=\"background-color: #800000; font-weight: bold\"> ERROR </span><span style=\"color: #800000; text-decoration-color: #800000; font-weight: bold\"> No entry in quote with quote_compound=8871!</span>\n",
       "</pre>\n"
      ],
      "text/plain": [
       "\u001b[1;7;31m ERROR \u001b[0m\u001b[1;31m No entry in quote with quote_compound=8871!\u001b[0m\n"
      ]
     },
     "metadata": {},
     "output_type": "display_data"
    },
    {
     "data": {
      "text/html": [
       "<pre style=\"white-space:pre;overflow-x:auto;line-height:normal;font-family:Menlo,'DejaVu Sans Mono',consolas,'Courier New',monospace\"><span style=\"background-color: #800000; font-weight: bold\"> ERROR </span><span style=\"color: #800000; text-decoration-color: #800000; font-weight: bold\"> No entry in quote with quote_compound=8869!</span>\n",
       "</pre>\n"
      ],
      "text/plain": [
       "\u001b[1;7;31m ERROR \u001b[0m\u001b[1;31m No entry in quote with quote_compound=8869!\u001b[0m\n"
      ]
     },
     "metadata": {},
     "output_type": "display_data"
    },
    {
     "data": {
      "text/html": [
       "<pre style=\"white-space:pre;overflow-x:auto;line-height:normal;font-family:Menlo,'DejaVu Sans Mono',consolas,'Courier New',monospace\"><span style=\"background-color: #800000; font-weight: bold\"> ERROR </span><span style=\"color: #800000; text-decoration-color: #800000; font-weight: bold\"> No entry in quote with quote_compound=5728!</span>\n",
       "</pre>\n"
      ],
      "text/plain": [
       "\u001b[1;7;31m ERROR \u001b[0m\u001b[1;31m No entry in quote with quote_compound=5728!\u001b[0m\n"
      ]
     },
     "metadata": {},
     "output_type": "display_data"
    },
    {
     "data": {
      "text/html": [
       "<pre style=\"white-space:pre;overflow-x:auto;line-height:normal;font-family:Menlo,'DejaVu Sans Mono',consolas,'Courier New',monospace\"><span style=\"background-color: #800000; font-weight: bold\"> ERROR </span><span style=\"color: #800000; text-decoration-color: #800000; font-weight: bold\"> No entry in quote with quote_compound=8869!</span>\n",
       "</pre>\n"
      ],
      "text/plain": [
       "\u001b[1;7;31m ERROR \u001b[0m\u001b[1;31m No entry in quote with quote_compound=8869!\u001b[0m\n"
      ]
     },
     "metadata": {},
     "output_type": "display_data"
    },
    {
     "data": {
      "text/html": [
       "<pre style=\"white-space:pre;overflow-x:auto;line-height:normal;font-family:Menlo,'DejaVu Sans Mono',consolas,'Courier New',monospace\"><span style=\"background-color: #800000; font-weight: bold\"> ERROR </span><span style=\"color: #800000; text-decoration-color: #800000; font-weight: bold\"> No entry in quote with quote_compound=8870!</span>\n",
       "</pre>\n"
      ],
      "text/plain": [
       "\u001b[1;7;31m ERROR \u001b[0m\u001b[1;31m No entry in quote with quote_compound=8870!\u001b[0m\n"
      ]
     },
     "metadata": {},
     "output_type": "display_data"
    },
    {
     "data": {
      "text/html": [
       "<pre style=\"white-space:pre;overflow-x:auto;line-height:normal;font-family:Menlo,'DejaVu Sans Mono',consolas,'Courier New',monospace\"><span style=\"background-color: #800000; font-weight: bold\"> ERROR </span><span style=\"color: #800000; text-decoration-color: #800000; font-weight: bold\"> No entry in quote with quote_compound=8871!</span>\n",
       "</pre>\n"
      ],
      "text/plain": [
       "\u001b[1;7;31m ERROR \u001b[0m\u001b[1;31m No entry in quote with quote_compound=8871!\u001b[0m\n"
      ]
     },
     "metadata": {},
     "output_type": "display_data"
    },
    {
     "data": {
      "text/html": [
       "<pre style=\"white-space:pre;overflow-x:auto;line-height:normal;font-family:Menlo,'DejaVu Sans Mono',consolas,'Courier New',monospace\"><span style=\"background-color: #800000; font-weight: bold\"> ERROR </span><span style=\"color: #800000; text-decoration-color: #800000; font-weight: bold\"> No entry in quote with quote_compound=31844!</span>\n",
       "</pre>\n"
      ],
      "text/plain": [
       "\u001b[1;7;31m ERROR \u001b[0m\u001b[1;31m No entry in quote with quote_compound=31844!\u001b[0m\n"
      ]
     },
     "metadata": {},
     "output_type": "display_data"
    },
    {
     "data": {
      "text/html": [
       "<pre style=\"white-space:pre;overflow-x:auto;line-height:normal;font-family:Menlo,'DejaVu Sans Mono',consolas,'Courier New',monospace\"><span style=\"background-color: #800000; font-weight: bold\"> ERROR </span><span style=\"color: #800000; text-decoration-color: #800000; font-weight: bold\"> No entry in quote with quote_compound=5728!</span>\n",
       "</pre>\n"
      ],
      "text/plain": [
       "\u001b[1;7;31m ERROR \u001b[0m\u001b[1;31m No entry in quote with quote_compound=5728!\u001b[0m\n"
      ]
     },
     "metadata": {},
     "output_type": "display_data"
    },
    {
     "data": {
      "text/html": [
       "<pre style=\"white-space:pre;overflow-x:auto;line-height:normal;font-family:Menlo,'DejaVu Sans Mono',consolas,'Courier New',monospace\"><span style=\"background-color: #800000; font-weight: bold\"> ERROR </span><span style=\"color: #800000; text-decoration-color: #800000; font-weight: bold\"> No entry in quote with quote_compound=8870!</span>\n",
       "</pre>\n"
      ],
      "text/plain": [
       "\u001b[1;7;31m ERROR \u001b[0m\u001b[1;31m No entry in quote with quote_compound=8870!\u001b[0m\n"
      ]
     },
     "metadata": {},
     "output_type": "display_data"
    },
    {
     "data": {
      "text/html": [
       "<pre style=\"white-space:pre;overflow-x:auto;line-height:normal;font-family:Menlo,'DejaVu Sans Mono',consolas,'Courier New',monospace\"><span style=\"background-color: #800000; font-weight: bold\"> ERROR </span><span style=\"color: #800000; text-decoration-color: #800000; font-weight: bold\"> No entry in quote with quote_compound=31844!</span>\n",
       "</pre>\n"
      ],
      "text/plain": [
       "\u001b[1;7;31m ERROR \u001b[0m\u001b[1;31m No entry in quote with quote_compound=31844!\u001b[0m\n"
      ]
     },
     "metadata": {},
     "output_type": "display_data"
    },
    {
     "data": {
      "text/html": [
       "<pre style=\"white-space:pre;overflow-x:auto;line-height:normal;font-family:Menlo,'DejaVu Sans Mono',consolas,'Courier New',monospace\"><span style=\"background-color: #800000; font-weight: bold\"> ERROR </span><span style=\"color: #800000; text-decoration-color: #800000; font-weight: bold\"> No entry in quote with quote_compound=8871!</span>\n",
       "</pre>\n"
      ],
      "text/plain": [
       "\u001b[1;7;31m ERROR \u001b[0m\u001b[1;31m No entry in quote with quote_compound=8871!\u001b[0m\n"
      ]
     },
     "metadata": {},
     "output_type": "display_data"
    },
    {
     "data": {
      "text/html": [
       "<pre style=\"white-space:pre;overflow-x:auto;line-height:normal;font-family:Menlo,'DejaVu Sans Mono',consolas,'Courier New',monospace\"><span style=\"background-color: #800000; font-weight: bold\"> ERROR </span><span style=\"color: #800000; text-decoration-color: #800000; font-weight: bold\"> No entry in quote with quote_compound=8871!</span>\n",
       "</pre>\n"
      ],
      "text/plain": [
       "\u001b[1;7;31m ERROR \u001b[0m\u001b[1;31m No entry in quote with quote_compound=8871!\u001b[0m\n"
      ]
     },
     "metadata": {},
     "output_type": "display_data"
    },
    {
     "data": {
      "text/html": [
       "<pre style=\"white-space:pre;overflow-x:auto;line-height:normal;font-family:Menlo,'DejaVu Sans Mono',consolas,'Courier New',monospace\"><span style=\"background-color: #800000; font-weight: bold\"> ERROR </span><span style=\"color: #800000; text-decoration-color: #800000; font-weight: bold\"> No entry in quote with quote_compound=31845!</span>\n",
       "</pre>\n"
      ],
      "text/plain": [
       "\u001b[1;7;31m ERROR \u001b[0m\u001b[1;31m No entry in quote with quote_compound=31845!\u001b[0m\n"
      ]
     },
     "metadata": {},
     "output_type": "display_data"
    },
    {
     "data": {
      "text/html": [
       "<pre style=\"white-space:pre;overflow-x:auto;line-height:normal;font-family:Menlo,'DejaVu Sans Mono',consolas,'Courier New',monospace\"><span style=\"background-color: #800000; font-weight: bold\"> ERROR </span><span style=\"color: #800000; text-decoration-color: #800000; font-weight: bold\"> No entry in quote with quote_compound=31845!</span>\n",
       "</pre>\n"
      ],
      "text/plain": [
       "\u001b[1;7;31m ERROR \u001b[0m\u001b[1;31m No entry in quote with quote_compound=31845!\u001b[0m\n"
      ]
     },
     "metadata": {},
     "output_type": "display_data"
    },
    {
     "data": {
      "text/html": [
       "<pre style=\"white-space:pre;overflow-x:auto;line-height:normal;font-family:Menlo,'DejaVu Sans Mono',consolas,'Courier New',monospace\"><span style=\"background-color: #800000; font-weight: bold\"> ERROR </span><span style=\"color: #800000; text-decoration-color: #800000; font-weight: bold\"> No entry in quote with quote_compound=31846!</span>\n",
       "</pre>\n"
      ],
      "text/plain": [
       "\u001b[1;7;31m ERROR \u001b[0m\u001b[1;31m No entry in quote with quote_compound=31846!\u001b[0m\n"
      ]
     },
     "metadata": {},
     "output_type": "display_data"
    },
    {
     "data": {
      "text/html": [
       "<pre style=\"white-space:pre;overflow-x:auto;line-height:normal;font-family:Menlo,'DejaVu Sans Mono',consolas,'Courier New',monospace\"><span style=\"background-color: #800000; font-weight: bold\"> ERROR </span><span style=\"color: #800000; text-decoration-color: #800000; font-weight: bold\"> No entry in quote with quote_compound=31846!</span>\n",
       "</pre>\n"
      ],
      "text/plain": [
       "\u001b[1;7;31m ERROR \u001b[0m\u001b[1;31m No entry in quote with quote_compound=31846!\u001b[0m\n"
      ]
     },
     "metadata": {},
     "output_type": "display_data"
    },
    {
     "data": {
      "text/html": [
       "<pre style=\"white-space:pre;overflow-x:auto;line-height:normal;font-family:Menlo,'DejaVu Sans Mono',consolas,'Courier New',monospace\"><span style=\"background-color: #800000; font-weight: bold\"> ERROR </span><span style=\"color: #800000; text-decoration-color: #800000; font-weight: bold\"> No entry in quote with quote_compound=187!</span>\n",
       "</pre>\n"
      ],
      "text/plain": [
       "\u001b[1;7;31m ERROR \u001b[0m\u001b[1;31m No entry in quote with quote_compound=187!\u001b[0m\n"
      ]
     },
     "metadata": {},
     "output_type": "display_data"
    },
    {
     "data": {
      "text/html": [
       "<pre style=\"white-space:pre;overflow-x:auto;line-height:normal;font-family:Menlo,'DejaVu Sans Mono',consolas,'Courier New',monospace\"><span style=\"background-color: #800000; font-weight: bold\"> ERROR </span><span style=\"color: #800000; text-decoration-color: #800000; font-weight: bold\"> No entry in quote with quote_compound=191!</span>\n",
       "</pre>\n"
      ],
      "text/plain": [
       "\u001b[1;7;31m ERROR \u001b[0m\u001b[1;31m No entry in quote with quote_compound=191!\u001b[0m\n"
      ]
     },
     "metadata": {},
     "output_type": "display_data"
    },
    {
     "data": {
      "text/html": [
       "<pre style=\"white-space:pre;overflow-x:auto;line-height:normal;font-family:Menlo,'DejaVu Sans Mono',consolas,'Courier New',monospace\"><span style=\"background-color: #800000; font-weight: bold\"> ERROR </span><span style=\"color: #800000; text-decoration-color: #800000; font-weight: bold\"> No entry in quote with quote_compound=192!</span>\n",
       "</pre>\n"
      ],
      "text/plain": [
       "\u001b[1;7;31m ERROR \u001b[0m\u001b[1;31m No entry in quote with quote_compound=192!\u001b[0m\n"
      ]
     },
     "metadata": {},
     "output_type": "display_data"
    },
    {
     "data": {
      "text/html": [
       "<pre style=\"white-space:pre;overflow-x:auto;line-height:normal;font-family:Menlo,'DejaVu Sans Mono',consolas,'Courier New',monospace\"><span style=\"background-color: #800000; font-weight: bold\"> ERROR </span><span style=\"color: #800000; text-decoration-color: #800000; font-weight: bold\"> No entry in quote with quote_compound=171!</span>\n",
       "</pre>\n"
      ],
      "text/plain": [
       "\u001b[1;7;31m ERROR \u001b[0m\u001b[1;31m No entry in quote with quote_compound=171!\u001b[0m\n"
      ]
     },
     "metadata": {},
     "output_type": "display_data"
    },
    {
     "data": {
      "text/html": [
       "<pre style=\"white-space:pre;overflow-x:auto;line-height:normal;font-family:Menlo,'DejaVu Sans Mono',consolas,'Courier New',monospace\"><span style=\"background-color: #800000; font-weight: bold\"> ERROR </span><span style=\"color: #800000; text-decoration-color: #800000; font-weight: bold\"> No entry in quote with quote_compound=195!</span>\n",
       "</pre>\n"
      ],
      "text/plain": [
       "\u001b[1;7;31m ERROR \u001b[0m\u001b[1;31m No entry in quote with quote_compound=195!\u001b[0m\n"
      ]
     },
     "metadata": {},
     "output_type": "display_data"
    },
    {
     "data": {
      "text/html": [
       "<pre style=\"white-space:pre;overflow-x:auto;line-height:normal;font-family:Menlo,'DejaVu Sans Mono',consolas,'Courier New',monospace\"><span style=\"background-color: #800000; font-weight: bold\"> ERROR </span><span style=\"color: #800000; text-decoration-color: #800000; font-weight: bold\"> No entry in quote with quote_compound=196!</span>\n",
       "</pre>\n"
      ],
      "text/plain": [
       "\u001b[1;7;31m ERROR \u001b[0m\u001b[1;31m No entry in quote with quote_compound=196!\u001b[0m\n"
      ]
     },
     "metadata": {},
     "output_type": "display_data"
    },
    {
     "data": {
      "text/html": [
       "<pre style=\"white-space:pre;overflow-x:auto;line-height:normal;font-family:Menlo,'DejaVu Sans Mono',consolas,'Courier New',monospace\"><span style=\"background-color: #800000; font-weight: bold\"> ERROR </span><span style=\"color: #800000; text-decoration-color: #800000; font-weight: bold\"> No entry in quote with quote_compound=167!</span>\n",
       "</pre>\n"
      ],
      "text/plain": [
       "\u001b[1;7;31m ERROR \u001b[0m\u001b[1;31m No entry in quote with quote_compound=167!\u001b[0m\n"
      ]
     },
     "metadata": {},
     "output_type": "display_data"
    },
    {
     "data": {
      "text/html": [
       "<pre style=\"white-space:pre;overflow-x:auto;line-height:normal;font-family:Menlo,'DejaVu Sans Mono',consolas,'Courier New',monospace\"><span style=\"background-color: #800000; font-weight: bold\"> ERROR </span><span style=\"color: #800000; text-decoration-color: #800000; font-weight: bold\"> No entry in quote with quote_compound=56174!</span>\n",
       "</pre>\n"
      ],
      "text/plain": [
       "\u001b[1;7;31m ERROR \u001b[0m\u001b[1;31m No entry in quote with quote_compound=56174!\u001b[0m\n"
      ]
     },
     "metadata": {},
     "output_type": "display_data"
    },
    {
     "data": {
      "text/html": [
       "<pre style=\"white-space:pre;overflow-x:auto;line-height:normal;font-family:Menlo,'DejaVu Sans Mono',consolas,'Courier New',monospace\"><span style=\"background-color: #800000; font-weight: bold\"> ERROR </span><span style=\"color: #800000; text-decoration-color: #800000; font-weight: bold\"> No entry in quote with quote_compound=56172!</span>\n",
       "</pre>\n"
      ],
      "text/plain": [
       "\u001b[1;7;31m ERROR \u001b[0m\u001b[1;31m No entry in quote with quote_compound=56172!\u001b[0m\n"
      ]
     },
     "metadata": {},
     "output_type": "display_data"
    },
    {
     "data": {
      "text/html": [
       "<pre style=\"white-space:pre;overflow-x:auto;line-height:normal;font-family:Menlo,'DejaVu Sans Mono',consolas,'Courier New',monospace\"><span style=\"background-color: #800000; font-weight: bold\"> ERROR </span><span style=\"color: #800000; text-decoration-color: #800000; font-weight: bold\"> No entry in quote with quote_compound=251!</span>\n",
       "</pre>\n"
      ],
      "text/plain": [
       "\u001b[1;7;31m ERROR \u001b[0m\u001b[1;31m No entry in quote with quote_compound=251!\u001b[0m\n"
      ]
     },
     "metadata": {},
     "output_type": "display_data"
    },
    {
     "data": {
      "text/html": [
       "<pre style=\"white-space:pre;overflow-x:auto;line-height:normal;font-family:Menlo,'DejaVu Sans Mono',consolas,'Courier New',monospace\"><span style=\"background-color: #800000; font-weight: bold\"> ERROR </span><span style=\"color: #800000; text-decoration-color: #800000; font-weight: bold\"> No entry in quote with quote_compound=56171!</span>\n",
       "</pre>\n"
      ],
      "text/plain": [
       "\u001b[1;7;31m ERROR \u001b[0m\u001b[1;31m No entry in quote with quote_compound=56171!\u001b[0m\n"
      ]
     },
     "metadata": {},
     "output_type": "display_data"
    },
    {
     "data": {
      "text/html": [
       "<pre style=\"white-space:pre;overflow-x:auto;line-height:normal;font-family:Menlo,'DejaVu Sans Mono',consolas,'Courier New',monospace\"><span style=\"background-color: #800000; font-weight: bold\"> ERROR </span><span style=\"color: #800000; text-decoration-color: #800000; font-weight: bold\"> No entry in quote with quote_compound=56170!</span>\n",
       "</pre>\n"
      ],
      "text/plain": [
       "\u001b[1;7;31m ERROR \u001b[0m\u001b[1;31m No entry in quote with quote_compound=56170!\u001b[0m\n"
      ]
     },
     "metadata": {},
     "output_type": "display_data"
    },
    {
     "data": {
      "text/html": [
       "<pre style=\"white-space:pre;overflow-x:auto;line-height:normal;font-family:Menlo,'DejaVu Sans Mono',consolas,'Courier New',monospace\"><span style=\"background-color: #800000; font-weight: bold\"> ERROR </span><span style=\"color: #800000; text-decoration-color: #800000; font-weight: bold\"> No entry in quote with quote_compound=56171!</span>\n",
       "</pre>\n"
      ],
      "text/plain": [
       "\u001b[1;7;31m ERROR \u001b[0m\u001b[1;31m No entry in quote with quote_compound=56171!\u001b[0m\n"
      ]
     },
     "metadata": {},
     "output_type": "display_data"
    },
    {
     "data": {
      "text/html": [
       "<pre style=\"white-space:pre;overflow-x:auto;line-height:normal;font-family:Menlo,'DejaVu Sans Mono',consolas,'Courier New',monospace\"><span style=\"background-color: #800000; font-weight: bold\"> ERROR </span><span style=\"color: #800000; text-decoration-color: #800000; font-weight: bold\"> No entry in quote with quote_compound=56172!</span>\n",
       "</pre>\n"
      ],
      "text/plain": [
       "\u001b[1;7;31m ERROR \u001b[0m\u001b[1;31m No entry in quote with quote_compound=56172!\u001b[0m\n"
      ]
     },
     "metadata": {},
     "output_type": "display_data"
    },
    {
     "data": {
      "text/html": [
       "<pre style=\"white-space:pre;overflow-x:auto;line-height:normal;font-family:Menlo,'DejaVu Sans Mono',consolas,'Courier New',monospace\"><span style=\"background-color: #800000; font-weight: bold\"> ERROR </span><span style=\"color: #800000; text-decoration-color: #800000; font-weight: bold\"> No entry in quote with quote_compound=56174!</span>\n",
       "</pre>\n"
      ],
      "text/plain": [
       "\u001b[1;7;31m ERROR \u001b[0m\u001b[1;31m No entry in quote with quote_compound=56174!\u001b[0m\n"
      ]
     },
     "metadata": {},
     "output_type": "display_data"
    },
    {
     "data": {
      "text/html": [
       "<pre style=\"white-space:pre;overflow-x:auto;line-height:normal;font-family:Menlo,'DejaVu Sans Mono',consolas,'Courier New',monospace\"><span style=\"background-color: #800000; font-weight: bold\"> ERROR </span><span style=\"color: #800000; text-decoration-color: #800000; font-weight: bold\"> No entry in quote with quote_compound=56172!</span>\n",
       "</pre>\n"
      ],
      "text/plain": [
       "\u001b[1;7;31m ERROR \u001b[0m\u001b[1;31m No entry in quote with quote_compound=56172!\u001b[0m\n"
      ]
     },
     "metadata": {},
     "output_type": "display_data"
    },
    {
     "data": {
      "text/html": [
       "<pre style=\"white-space:pre;overflow-x:auto;line-height:normal;font-family:Menlo,'DejaVu Sans Mono',consolas,'Courier New',monospace\"><span style=\"background-color: #800000; font-weight: bold\"> ERROR </span><span style=\"color: #800000; text-decoration-color: #800000; font-weight: bold\"> No entry in quote with quote_compound=251!</span>\n",
       "</pre>\n"
      ],
      "text/plain": [
       "\u001b[1;7;31m ERROR \u001b[0m\u001b[1;31m No entry in quote with quote_compound=251!\u001b[0m\n"
      ]
     },
     "metadata": {},
     "output_type": "display_data"
    },
    {
     "data": {
      "text/html": [
       "<pre style=\"white-space:pre;overflow-x:auto;line-height:normal;font-family:Menlo,'DejaVu Sans Mono',consolas,'Courier New',monospace\"><span style=\"background-color: #800000; font-weight: bold\"> ERROR </span><span style=\"color: #800000; text-decoration-color: #800000; font-weight: bold\"> No entry in quote with quote_compound=56171!</span>\n",
       "</pre>\n"
      ],
      "text/plain": [
       "\u001b[1;7;31m ERROR \u001b[0m\u001b[1;31m No entry in quote with quote_compound=56171!\u001b[0m\n"
      ]
     },
     "metadata": {},
     "output_type": "display_data"
    },
    {
     "data": {
      "text/html": [
       "<pre style=\"white-space:pre;overflow-x:auto;line-height:normal;font-family:Menlo,'DejaVu Sans Mono',consolas,'Courier New',monospace\"><span style=\"background-color: #800000; font-weight: bold\"> ERROR </span><span style=\"color: #800000; text-decoration-color: #800000; font-weight: bold\"> No entry in quote with quote_compound=56170!</span>\n",
       "</pre>\n"
      ],
      "text/plain": [
       "\u001b[1;7;31m ERROR \u001b[0m\u001b[1;31m No entry in quote with quote_compound=56170!\u001b[0m\n"
      ]
     },
     "metadata": {},
     "output_type": "display_data"
    },
    {
     "data": {
      "text/html": [
       "<pre style=\"white-space:pre;overflow-x:auto;line-height:normal;font-family:Menlo,'DejaVu Sans Mono',consolas,'Courier New',monospace\"><span style=\"background-color: #800000; font-weight: bold\"> ERROR </span><span style=\"color: #800000; text-decoration-color: #800000; font-weight: bold\"> No entry in quote with quote_compound=56171!</span>\n",
       "</pre>\n"
      ],
      "text/plain": [
       "\u001b[1;7;31m ERROR \u001b[0m\u001b[1;31m No entry in quote with quote_compound=56171!\u001b[0m\n"
      ]
     },
     "metadata": {},
     "output_type": "display_data"
    },
    {
     "data": {
      "text/html": [
       "<pre style=\"white-space:pre;overflow-x:auto;line-height:normal;font-family:Menlo,'DejaVu Sans Mono',consolas,'Courier New',monospace\"><span style=\"background-color: #800000; font-weight: bold\"> ERROR </span><span style=\"color: #800000; text-decoration-color: #800000; font-weight: bold\"> No entry in quote with quote_compound=56172!</span>\n",
       "</pre>\n"
      ],
      "text/plain": [
       "\u001b[1;7;31m ERROR \u001b[0m\u001b[1;31m No entry in quote with quote_compound=56172!\u001b[0m\n"
      ]
     },
     "metadata": {},
     "output_type": "display_data"
    },
    {
     "data": {
      "text/html": [
       "<pre style=\"white-space:pre;overflow-x:auto;line-height:normal;font-family:Menlo,'DejaVu Sans Mono',consolas,'Courier New',monospace\"><span style=\"background-color: #800000; font-weight: bold\"> ERROR </span><span style=\"color: #800000; text-decoration-color: #800000; font-weight: bold\"> No entry in quote with quote_compound=56177!</span>\n",
       "</pre>\n"
      ],
      "text/plain": [
       "\u001b[1;7;31m ERROR \u001b[0m\u001b[1;31m No entry in quote with quote_compound=56177!\u001b[0m\n"
      ]
     },
     "metadata": {},
     "output_type": "display_data"
    },
    {
     "data": {
      "text/html": [
       "<pre style=\"white-space:pre;overflow-x:auto;line-height:normal;font-family:Menlo,'DejaVu Sans Mono',consolas,'Courier New',monospace\"><span style=\"background-color: #800000; font-weight: bold\"> ERROR </span><span style=\"color: #800000; text-decoration-color: #800000; font-weight: bold\"> No entry in quote with quote_compound=56174!</span>\n",
       "</pre>\n"
      ],
      "text/plain": [
       "\u001b[1;7;31m ERROR \u001b[0m\u001b[1;31m No entry in quote with quote_compound=56174!\u001b[0m\n"
      ]
     },
     "metadata": {},
     "output_type": "display_data"
    },
    {
     "data": {
      "text/html": [
       "<pre style=\"white-space:pre;overflow-x:auto;line-height:normal;font-family:Menlo,'DejaVu Sans Mono',consolas,'Courier New',monospace\"><span style=\"background-color: #800000; font-weight: bold\"> ERROR </span><span style=\"color: #800000; text-decoration-color: #800000; font-weight: bold\"> No entry in quote with quote_compound=56172!</span>\n",
       "</pre>\n"
      ],
      "text/plain": [
       "\u001b[1;7;31m ERROR \u001b[0m\u001b[1;31m No entry in quote with quote_compound=56172!\u001b[0m\n"
      ]
     },
     "metadata": {},
     "output_type": "display_data"
    },
    {
     "data": {
      "text/html": [
       "<pre style=\"white-space:pre;overflow-x:auto;line-height:normal;font-family:Menlo,'DejaVu Sans Mono',consolas,'Courier New',monospace\"><span style=\"background-color: #800000; font-weight: bold\"> ERROR </span><span style=\"color: #800000; text-decoration-color: #800000; font-weight: bold\"> No entry in quote with quote_compound=251!</span>\n",
       "</pre>\n"
      ],
      "text/plain": [
       "\u001b[1;7;31m ERROR \u001b[0m\u001b[1;31m No entry in quote with quote_compound=251!\u001b[0m\n"
      ]
     },
     "metadata": {},
     "output_type": "display_data"
    },
    {
     "data": {
      "text/html": [
       "<pre style=\"white-space:pre;overflow-x:auto;line-height:normal;font-family:Menlo,'DejaVu Sans Mono',consolas,'Courier New',monospace\"><span style=\"background-color: #800000; font-weight: bold\"> ERROR </span><span style=\"color: #800000; text-decoration-color: #800000; font-weight: bold\"> No entry in quote with quote_compound=56171!</span>\n",
       "</pre>\n"
      ],
      "text/plain": [
       "\u001b[1;7;31m ERROR \u001b[0m\u001b[1;31m No entry in quote with quote_compound=56171!\u001b[0m\n"
      ]
     },
     "metadata": {},
     "output_type": "display_data"
    },
    {
     "data": {
      "text/html": [
       "<pre style=\"white-space:pre;overflow-x:auto;line-height:normal;font-family:Menlo,'DejaVu Sans Mono',consolas,'Courier New',monospace\"><span style=\"background-color: #800000; font-weight: bold\"> ERROR </span><span style=\"color: #800000; text-decoration-color: #800000; font-weight: bold\"> No entry in quote with quote_compound=56170!</span>\n",
       "</pre>\n"
      ],
      "text/plain": [
       "\u001b[1;7;31m ERROR \u001b[0m\u001b[1;31m No entry in quote with quote_compound=56170!\u001b[0m\n"
      ]
     },
     "metadata": {},
     "output_type": "display_data"
    },
    {
     "data": {
      "text/html": [
       "<pre style=\"white-space:pre;overflow-x:auto;line-height:normal;font-family:Menlo,'DejaVu Sans Mono',consolas,'Courier New',monospace\"><span style=\"background-color: #800000; font-weight: bold\"> ERROR </span><span style=\"color: #800000; text-decoration-color: #800000; font-weight: bold\"> No entry in quote with quote_compound=56171!</span>\n",
       "</pre>\n"
      ],
      "text/plain": [
       "\u001b[1;7;31m ERROR \u001b[0m\u001b[1;31m No entry in quote with quote_compound=56171!\u001b[0m\n"
      ]
     },
     "metadata": {},
     "output_type": "display_data"
    },
    {
     "data": {
      "text/html": [
       "<pre style=\"white-space:pre;overflow-x:auto;line-height:normal;font-family:Menlo,'DejaVu Sans Mono',consolas,'Courier New',monospace\"><span style=\"background-color: #800000; font-weight: bold\"> ERROR </span><span style=\"color: #800000; text-decoration-color: #800000; font-weight: bold\"> No entry in quote with quote_compound=56172!</span>\n",
       "</pre>\n"
      ],
      "text/plain": [
       "\u001b[1;7;31m ERROR \u001b[0m\u001b[1;31m No entry in quote with quote_compound=56172!\u001b[0m\n"
      ]
     },
     "metadata": {},
     "output_type": "display_data"
    },
    {
     "data": {
      "text/html": [
       "<pre style=\"white-space:pre;overflow-x:auto;line-height:normal;font-family:Menlo,'DejaVu Sans Mono',consolas,'Courier New',monospace\"><span style=\"background-color: #800000; font-weight: bold\"> ERROR </span><span style=\"color: #800000; text-decoration-color: #800000; font-weight: bold\"> No entry in quote with quote_compound=56178!</span>\n",
       "</pre>\n"
      ],
      "text/plain": [
       "\u001b[1;7;31m ERROR \u001b[0m\u001b[1;31m No entry in quote with quote_compound=56178!\u001b[0m\n"
      ]
     },
     "metadata": {},
     "output_type": "display_data"
    },
    {
     "data": {
      "text/html": [
       "<pre style=\"white-space:pre;overflow-x:auto;line-height:normal;font-family:Menlo,'DejaVu Sans Mono',consolas,'Courier New',monospace\"><span style=\"background-color: #800000; font-weight: bold\"> ERROR </span><span style=\"color: #800000; text-decoration-color: #800000; font-weight: bold\"> No entry in quote with quote_compound=56174!</span>\n",
       "</pre>\n"
      ],
      "text/plain": [
       "\u001b[1;7;31m ERROR \u001b[0m\u001b[1;31m No entry in quote with quote_compound=56174!\u001b[0m\n"
      ]
     },
     "metadata": {},
     "output_type": "display_data"
    },
    {
     "data": {
      "text/html": [
       "<pre style=\"white-space:pre;overflow-x:auto;line-height:normal;font-family:Menlo,'DejaVu Sans Mono',consolas,'Courier New',monospace\"><span style=\"background-color: #800000; font-weight: bold\"> ERROR </span><span style=\"color: #800000; text-decoration-color: #800000; font-weight: bold\"> No entry in quote with quote_compound=56172!</span>\n",
       "</pre>\n"
      ],
      "text/plain": [
       "\u001b[1;7;31m ERROR \u001b[0m\u001b[1;31m No entry in quote with quote_compound=56172!\u001b[0m\n"
      ]
     },
     "metadata": {},
     "output_type": "display_data"
    },
    {
     "data": {
      "text/html": [
       "<pre style=\"white-space:pre;overflow-x:auto;line-height:normal;font-family:Menlo,'DejaVu Sans Mono',consolas,'Courier New',monospace\"><span style=\"background-color: #800000; font-weight: bold\"> ERROR </span><span style=\"color: #800000; text-decoration-color: #800000; font-weight: bold\"> No entry in quote with quote_compound=251!</span>\n",
       "</pre>\n"
      ],
      "text/plain": [
       "\u001b[1;7;31m ERROR \u001b[0m\u001b[1;31m No entry in quote with quote_compound=251!\u001b[0m\n"
      ]
     },
     "metadata": {},
     "output_type": "display_data"
    },
    {
     "data": {
      "text/html": [
       "<pre style=\"white-space:pre;overflow-x:auto;line-height:normal;font-family:Menlo,'DejaVu Sans Mono',consolas,'Courier New',monospace\"><span style=\"background-color: #800000; font-weight: bold\"> ERROR </span><span style=\"color: #800000; text-decoration-color: #800000; font-weight: bold\"> No entry in quote with quote_compound=56171!</span>\n",
       "</pre>\n"
      ],
      "text/plain": [
       "\u001b[1;7;31m ERROR \u001b[0m\u001b[1;31m No entry in quote with quote_compound=56171!\u001b[0m\n"
      ]
     },
     "metadata": {},
     "output_type": "display_data"
    },
    {
     "data": {
      "text/html": [
       "<pre style=\"white-space:pre;overflow-x:auto;line-height:normal;font-family:Menlo,'DejaVu Sans Mono',consolas,'Courier New',monospace\"><span style=\"background-color: #800000; font-weight: bold\"> ERROR </span><span style=\"color: #800000; text-decoration-color: #800000; font-weight: bold\"> No entry in quote with quote_compound=56170!</span>\n",
       "</pre>\n"
      ],
      "text/plain": [
       "\u001b[1;7;31m ERROR \u001b[0m\u001b[1;31m No entry in quote with quote_compound=56170!\u001b[0m\n"
      ]
     },
     "metadata": {},
     "output_type": "display_data"
    },
    {
     "data": {
      "text/html": [
       "<pre style=\"white-space:pre;overflow-x:auto;line-height:normal;font-family:Menlo,'DejaVu Sans Mono',consolas,'Courier New',monospace\"><span style=\"background-color: #800000; font-weight: bold\"> ERROR </span><span style=\"color: #800000; text-decoration-color: #800000; font-weight: bold\"> No entry in quote with quote_compound=56171!</span>\n",
       "</pre>\n"
      ],
      "text/plain": [
       "\u001b[1;7;31m ERROR \u001b[0m\u001b[1;31m No entry in quote with quote_compound=56171!\u001b[0m\n"
      ]
     },
     "metadata": {},
     "output_type": "display_data"
    },
    {
     "data": {
      "text/html": [
       "<pre style=\"white-space:pre;overflow-x:auto;line-height:normal;font-family:Menlo,'DejaVu Sans Mono',consolas,'Courier New',monospace\"><span style=\"background-color: #800000; font-weight: bold\"> ERROR </span><span style=\"color: #800000; text-decoration-color: #800000; font-weight: bold\"> No entry in quote with quote_compound=56172!</span>\n",
       "</pre>\n"
      ],
      "text/plain": [
       "\u001b[1;7;31m ERROR \u001b[0m\u001b[1;31m No entry in quote with quote_compound=56172!\u001b[0m\n"
      ]
     },
     "metadata": {},
     "output_type": "display_data"
    },
    {
     "data": {
      "text/html": [
       "<pre style=\"white-space:pre;overflow-x:auto;line-height:normal;font-family:Menlo,'DejaVu Sans Mono',consolas,'Courier New',monospace\"><span style=\"background-color: #800000; font-weight: bold\"> ERROR </span><span style=\"color: #800000; text-decoration-color: #800000; font-weight: bold\"> No entry in quote with quote_compound=56174!</span>\n",
       "</pre>\n"
      ],
      "text/plain": [
       "\u001b[1;7;31m ERROR \u001b[0m\u001b[1;31m No entry in quote with quote_compound=56174!\u001b[0m\n"
      ]
     },
     "metadata": {},
     "output_type": "display_data"
    },
    {
     "data": {
      "text/html": [
       "<pre style=\"white-space:pre;overflow-x:auto;line-height:normal;font-family:Menlo,'DejaVu Sans Mono',consolas,'Courier New',monospace\"><span style=\"background-color: #800000; font-weight: bold\"> ERROR </span><span style=\"color: #800000; text-decoration-color: #800000; font-weight: bold\"> No entry in quote with quote_compound=56172!</span>\n",
       "</pre>\n"
      ],
      "text/plain": [
       "\u001b[1;7;31m ERROR \u001b[0m\u001b[1;31m No entry in quote with quote_compound=56172!\u001b[0m\n"
      ]
     },
     "metadata": {},
     "output_type": "display_data"
    },
    {
     "data": {
      "text/html": [
       "<pre style=\"white-space:pre;overflow-x:auto;line-height:normal;font-family:Menlo,'DejaVu Sans Mono',consolas,'Courier New',monospace\"><span style=\"background-color: #800000; font-weight: bold\"> ERROR </span><span style=\"color: #800000; text-decoration-color: #800000; font-weight: bold\"> No entry in quote with quote_compound=251!</span>\n",
       "</pre>\n"
      ],
      "text/plain": [
       "\u001b[1;7;31m ERROR \u001b[0m\u001b[1;31m No entry in quote with quote_compound=251!\u001b[0m\n"
      ]
     },
     "metadata": {},
     "output_type": "display_data"
    },
    {
     "data": {
      "text/html": [
       "<pre style=\"white-space:pre;overflow-x:auto;line-height:normal;font-family:Menlo,'DejaVu Sans Mono',consolas,'Courier New',monospace\"><span style=\"background-color: #800000; font-weight: bold\"> ERROR </span><span style=\"color: #800000; text-decoration-color: #800000; font-weight: bold\"> No entry in quote with quote_compound=56171!</span>\n",
       "</pre>\n"
      ],
      "text/plain": [
       "\u001b[1;7;31m ERROR \u001b[0m\u001b[1;31m No entry in quote with quote_compound=56171!\u001b[0m\n"
      ]
     },
     "metadata": {},
     "output_type": "display_data"
    },
    {
     "data": {
      "text/html": [
       "<pre style=\"white-space:pre;overflow-x:auto;line-height:normal;font-family:Menlo,'DejaVu Sans Mono',consolas,'Courier New',monospace\"><span style=\"background-color: #800000; font-weight: bold\"> ERROR </span><span style=\"color: #800000; text-decoration-color: #800000; font-weight: bold\"> No entry in quote with quote_compound=56170!</span>\n",
       "</pre>\n"
      ],
      "text/plain": [
       "\u001b[1;7;31m ERROR \u001b[0m\u001b[1;31m No entry in quote with quote_compound=56170!\u001b[0m\n"
      ]
     },
     "metadata": {},
     "output_type": "display_data"
    },
    {
     "data": {
      "text/html": [
       "<pre style=\"white-space:pre;overflow-x:auto;line-height:normal;font-family:Menlo,'DejaVu Sans Mono',consolas,'Courier New',monospace\"><span style=\"background-color: #800000; font-weight: bold\"> ERROR </span><span style=\"color: #800000; text-decoration-color: #800000; font-weight: bold\"> No entry in quote with quote_compound=56171!</span>\n",
       "</pre>\n"
      ],
      "text/plain": [
       "\u001b[1;7;31m ERROR \u001b[0m\u001b[1;31m No entry in quote with quote_compound=56171!\u001b[0m\n"
      ]
     },
     "metadata": {},
     "output_type": "display_data"
    },
    {
     "data": {
      "text/html": [
       "<pre style=\"white-space:pre;overflow-x:auto;line-height:normal;font-family:Menlo,'DejaVu Sans Mono',consolas,'Courier New',monospace\"><span style=\"background-color: #800000; font-weight: bold\"> ERROR </span><span style=\"color: #800000; text-decoration-color: #800000; font-weight: bold\"> No entry in quote with quote_compound=56172!</span>\n",
       "</pre>\n"
      ],
      "text/plain": [
       "\u001b[1;7;31m ERROR \u001b[0m\u001b[1;31m No entry in quote with quote_compound=56172!\u001b[0m\n"
      ]
     },
     "metadata": {},
     "output_type": "display_data"
    },
    {
     "data": {
      "text/html": [
       "<pre style=\"white-space:pre;overflow-x:auto;line-height:normal;font-family:Menlo,'DejaVu Sans Mono',consolas,'Courier New',monospace\"><span style=\"background-color: #800000; font-weight: bold\"> ERROR </span><span style=\"color: #800000; text-decoration-color: #800000; font-weight: bold\"> No entry in quote with quote_compound=56174!</span>\n",
       "</pre>\n"
      ],
      "text/plain": [
       "\u001b[1;7;31m ERROR \u001b[0m\u001b[1;31m No entry in quote with quote_compound=56174!\u001b[0m\n"
      ]
     },
     "metadata": {},
     "output_type": "display_data"
    },
    {
     "data": {
      "text/html": [
       "<pre style=\"white-space:pre;overflow-x:auto;line-height:normal;font-family:Menlo,'DejaVu Sans Mono',consolas,'Courier New',monospace\"><span style=\"background-color: #800000; font-weight: bold\"> ERROR </span><span style=\"color: #800000; text-decoration-color: #800000; font-weight: bold\"> No entry in quote with quote_compound=56172!</span>\n",
       "</pre>\n"
      ],
      "text/plain": [
       "\u001b[1;7;31m ERROR \u001b[0m\u001b[1;31m No entry in quote with quote_compound=56172!\u001b[0m\n"
      ]
     },
     "metadata": {},
     "output_type": "display_data"
    },
    {
     "data": {
      "text/html": [
       "<pre style=\"white-space:pre;overflow-x:auto;line-height:normal;font-family:Menlo,'DejaVu Sans Mono',consolas,'Courier New',monospace\"><span style=\"background-color: #800000; font-weight: bold\"> ERROR </span><span style=\"color: #800000; text-decoration-color: #800000; font-weight: bold\"> No entry in quote with quote_compound=251!</span>\n",
       "</pre>\n"
      ],
      "text/plain": [
       "\u001b[1;7;31m ERROR \u001b[0m\u001b[1;31m No entry in quote with quote_compound=251!\u001b[0m\n"
      ]
     },
     "metadata": {},
     "output_type": "display_data"
    },
    {
     "data": {
      "text/html": [
       "<pre style=\"white-space:pre;overflow-x:auto;line-height:normal;font-family:Menlo,'DejaVu Sans Mono',consolas,'Courier New',monospace\"><span style=\"background-color: #800000; font-weight: bold\"> ERROR </span><span style=\"color: #800000; text-decoration-color: #800000; font-weight: bold\"> No entry in quote with quote_compound=56171!</span>\n",
       "</pre>\n"
      ],
      "text/plain": [
       "\u001b[1;7;31m ERROR \u001b[0m\u001b[1;31m No entry in quote with quote_compound=56171!\u001b[0m\n"
      ]
     },
     "metadata": {},
     "output_type": "display_data"
    },
    {
     "data": {
      "text/html": [
       "<pre style=\"white-space:pre;overflow-x:auto;line-height:normal;font-family:Menlo,'DejaVu Sans Mono',consolas,'Courier New',monospace\"><span style=\"background-color: #800000; font-weight: bold\"> ERROR </span><span style=\"color: #800000; text-decoration-color: #800000; font-weight: bold\"> No entry in quote with quote_compound=56170!</span>\n",
       "</pre>\n"
      ],
      "text/plain": [
       "\u001b[1;7;31m ERROR \u001b[0m\u001b[1;31m No entry in quote with quote_compound=56170!\u001b[0m\n"
      ]
     },
     "metadata": {},
     "output_type": "display_data"
    },
    {
     "data": {
      "text/html": [
       "<pre style=\"white-space:pre;overflow-x:auto;line-height:normal;font-family:Menlo,'DejaVu Sans Mono',consolas,'Courier New',monospace\"><span style=\"background-color: #800000; font-weight: bold\"> ERROR </span><span style=\"color: #800000; text-decoration-color: #800000; font-weight: bold\"> No entry in quote with quote_compound=56171!</span>\n",
       "</pre>\n"
      ],
      "text/plain": [
       "\u001b[1;7;31m ERROR \u001b[0m\u001b[1;31m No entry in quote with quote_compound=56171!\u001b[0m\n"
      ]
     },
     "metadata": {},
     "output_type": "display_data"
    },
    {
     "data": {
      "text/html": [
       "<pre style=\"white-space:pre;overflow-x:auto;line-height:normal;font-family:Menlo,'DejaVu Sans Mono',consolas,'Courier New',monospace\"><span style=\"background-color: #800000; font-weight: bold\"> ERROR </span><span style=\"color: #800000; text-decoration-color: #800000; font-weight: bold\"> No entry in quote with quote_compound=56172!</span>\n",
       "</pre>\n"
      ],
      "text/plain": [
       "\u001b[1;7;31m ERROR \u001b[0m\u001b[1;31m No entry in quote with quote_compound=56172!\u001b[0m\n"
      ]
     },
     "metadata": {},
     "output_type": "display_data"
    },
    {
     "data": {
      "text/html": [
       "<pre style=\"white-space:pre;overflow-x:auto;line-height:normal;font-family:Menlo,'DejaVu Sans Mono',consolas,'Courier New',monospace\"><span style=\"background-color: #800000; font-weight: bold\"> ERROR </span><span style=\"color: #800000; text-decoration-color: #800000; font-weight: bold\"> No entry in quote with quote_compound=56181!</span>\n",
       "</pre>\n"
      ],
      "text/plain": [
       "\u001b[1;7;31m ERROR \u001b[0m\u001b[1;31m No entry in quote with quote_compound=56181!\u001b[0m\n"
      ]
     },
     "metadata": {},
     "output_type": "display_data"
    },
    {
     "data": {
      "text/html": [
       "<pre style=\"white-space:pre;overflow-x:auto;line-height:normal;font-family:Menlo,'DejaVu Sans Mono',consolas,'Courier New',monospace\"><span style=\"background-color: #800000; font-weight: bold\"> ERROR </span><span style=\"color: #800000; text-decoration-color: #800000; font-weight: bold\"> No entry in quote with quote_compound=56174!</span>\n",
       "</pre>\n"
      ],
      "text/plain": [
       "\u001b[1;7;31m ERROR \u001b[0m\u001b[1;31m No entry in quote with quote_compound=56174!\u001b[0m\n"
      ]
     },
     "metadata": {},
     "output_type": "display_data"
    },
    {
     "data": {
      "text/html": [
       "<pre style=\"white-space:pre;overflow-x:auto;line-height:normal;font-family:Menlo,'DejaVu Sans Mono',consolas,'Courier New',monospace\"><span style=\"background-color: #800000; font-weight: bold\"> ERROR </span><span style=\"color: #800000; text-decoration-color: #800000; font-weight: bold\"> No entry in quote with quote_compound=56172!</span>\n",
       "</pre>\n"
      ],
      "text/plain": [
       "\u001b[1;7;31m ERROR \u001b[0m\u001b[1;31m No entry in quote with quote_compound=56172!\u001b[0m\n"
      ]
     },
     "metadata": {},
     "output_type": "display_data"
    },
    {
     "data": {
      "text/html": [
       "<pre style=\"white-space:pre;overflow-x:auto;line-height:normal;font-family:Menlo,'DejaVu Sans Mono',consolas,'Courier New',monospace\"><span style=\"background-color: #800000; font-weight: bold\"> ERROR </span><span style=\"color: #800000; text-decoration-color: #800000; font-weight: bold\"> No entry in quote with quote_compound=251!</span>\n",
       "</pre>\n"
      ],
      "text/plain": [
       "\u001b[1;7;31m ERROR \u001b[0m\u001b[1;31m No entry in quote with quote_compound=251!\u001b[0m\n"
      ]
     },
     "metadata": {},
     "output_type": "display_data"
    },
    {
     "data": {
      "text/html": [
       "<pre style=\"white-space:pre;overflow-x:auto;line-height:normal;font-family:Menlo,'DejaVu Sans Mono',consolas,'Courier New',monospace\"><span style=\"background-color: #800000; font-weight: bold\"> ERROR </span><span style=\"color: #800000; text-decoration-color: #800000; font-weight: bold\"> No entry in quote with quote_compound=56171!</span>\n",
       "</pre>\n"
      ],
      "text/plain": [
       "\u001b[1;7;31m ERROR \u001b[0m\u001b[1;31m No entry in quote with quote_compound=56171!\u001b[0m\n"
      ]
     },
     "metadata": {},
     "output_type": "display_data"
    },
    {
     "data": {
      "text/html": [
       "<pre style=\"white-space:pre;overflow-x:auto;line-height:normal;font-family:Menlo,'DejaVu Sans Mono',consolas,'Courier New',monospace\"><span style=\"background-color: #800000; font-weight: bold\"> ERROR </span><span style=\"color: #800000; text-decoration-color: #800000; font-weight: bold\"> No entry in quote with quote_compound=56170!</span>\n",
       "</pre>\n"
      ],
      "text/plain": [
       "\u001b[1;7;31m ERROR \u001b[0m\u001b[1;31m No entry in quote with quote_compound=56170!\u001b[0m\n"
      ]
     },
     "metadata": {},
     "output_type": "display_data"
    },
    {
     "data": {
      "text/html": [
       "<pre style=\"white-space:pre;overflow-x:auto;line-height:normal;font-family:Menlo,'DejaVu Sans Mono',consolas,'Courier New',monospace\"><span style=\"background-color: #800000; font-weight: bold\"> ERROR </span><span style=\"color: #800000; text-decoration-color: #800000; font-weight: bold\"> No entry in quote with quote_compound=56171!</span>\n",
       "</pre>\n"
      ],
      "text/plain": [
       "\u001b[1;7;31m ERROR \u001b[0m\u001b[1;31m No entry in quote with quote_compound=56171!\u001b[0m\n"
      ]
     },
     "metadata": {},
     "output_type": "display_data"
    },
    {
     "data": {
      "text/html": [
       "<pre style=\"white-space:pre;overflow-x:auto;line-height:normal;font-family:Menlo,'DejaVu Sans Mono',consolas,'Courier New',monospace\"><span style=\"background-color: #800000; font-weight: bold\"> ERROR </span><span style=\"color: #800000; text-decoration-color: #800000; font-weight: bold\"> No entry in quote with quote_compound=56172!</span>\n",
       "</pre>\n"
      ],
      "text/plain": [
       "\u001b[1;7;31m ERROR \u001b[0m\u001b[1;31m No entry in quote with quote_compound=56172!\u001b[0m\n"
      ]
     },
     "metadata": {},
     "output_type": "display_data"
    },
    {
     "data": {
      "text/html": [
       "<pre style=\"white-space:pre;overflow-x:auto;line-height:normal;font-family:Menlo,'DejaVu Sans Mono',consolas,'Courier New',monospace\"><span style=\"background-color: #800000; font-weight: bold\"> ERROR </span><span style=\"color: #800000; text-decoration-color: #800000; font-weight: bold\"> No entry in quote with quote_compound=56174!</span>\n",
       "</pre>\n"
      ],
      "text/plain": [
       "\u001b[1;7;31m ERROR \u001b[0m\u001b[1;31m No entry in quote with quote_compound=56174!\u001b[0m\n"
      ]
     },
     "metadata": {},
     "output_type": "display_data"
    },
    {
     "data": {
      "text/html": [
       "<pre style=\"white-space:pre;overflow-x:auto;line-height:normal;font-family:Menlo,'DejaVu Sans Mono',consolas,'Courier New',monospace\"><span style=\"background-color: #800000; font-weight: bold\"> ERROR </span><span style=\"color: #800000; text-decoration-color: #800000; font-weight: bold\"> No entry in quote with quote_compound=56172!</span>\n",
       "</pre>\n"
      ],
      "text/plain": [
       "\u001b[1;7;31m ERROR \u001b[0m\u001b[1;31m No entry in quote with quote_compound=56172!\u001b[0m\n"
      ]
     },
     "metadata": {},
     "output_type": "display_data"
    },
    {
     "data": {
      "text/html": [
       "<pre style=\"white-space:pre;overflow-x:auto;line-height:normal;font-family:Menlo,'DejaVu Sans Mono',consolas,'Courier New',monospace\"><span style=\"background-color: #800000; font-weight: bold\"> ERROR </span><span style=\"color: #800000; text-decoration-color: #800000; font-weight: bold\"> No entry in quote with quote_compound=251!</span>\n",
       "</pre>\n"
      ],
      "text/plain": [
       "\u001b[1;7;31m ERROR \u001b[0m\u001b[1;31m No entry in quote with quote_compound=251!\u001b[0m\n"
      ]
     },
     "metadata": {},
     "output_type": "display_data"
    },
    {
     "data": {
      "text/html": [
       "<pre style=\"white-space:pre;overflow-x:auto;line-height:normal;font-family:Menlo,'DejaVu Sans Mono',consolas,'Courier New',monospace\"><span style=\"background-color: #800000; font-weight: bold\"> ERROR </span><span style=\"color: #800000; text-decoration-color: #800000; font-weight: bold\"> No entry in quote with quote_compound=56171!</span>\n",
       "</pre>\n"
      ],
      "text/plain": [
       "\u001b[1;7;31m ERROR \u001b[0m\u001b[1;31m No entry in quote with quote_compound=56171!\u001b[0m\n"
      ]
     },
     "metadata": {},
     "output_type": "display_data"
    },
    {
     "data": {
      "text/html": [
       "<pre style=\"white-space:pre;overflow-x:auto;line-height:normal;font-family:Menlo,'DejaVu Sans Mono',consolas,'Courier New',monospace\"><span style=\"background-color: #800000; font-weight: bold\"> ERROR </span><span style=\"color: #800000; text-decoration-color: #800000; font-weight: bold\"> No entry in quote with quote_compound=56170!</span>\n",
       "</pre>\n"
      ],
      "text/plain": [
       "\u001b[1;7;31m ERROR \u001b[0m\u001b[1;31m No entry in quote with quote_compound=56170!\u001b[0m\n"
      ]
     },
     "metadata": {},
     "output_type": "display_data"
    },
    {
     "data": {
      "text/html": [
       "<pre style=\"white-space:pre;overflow-x:auto;line-height:normal;font-family:Menlo,'DejaVu Sans Mono',consolas,'Courier New',monospace\"><span style=\"background-color: #800000; font-weight: bold\"> ERROR </span><span style=\"color: #800000; text-decoration-color: #800000; font-weight: bold\"> No entry in quote with quote_compound=56171!</span>\n",
       "</pre>\n"
      ],
      "text/plain": [
       "\u001b[1;7;31m ERROR \u001b[0m\u001b[1;31m No entry in quote with quote_compound=56171!\u001b[0m\n"
      ]
     },
     "metadata": {},
     "output_type": "display_data"
    },
    {
     "data": {
      "text/html": [
       "<pre style=\"white-space:pre;overflow-x:auto;line-height:normal;font-family:Menlo,'DejaVu Sans Mono',consolas,'Courier New',monospace\"><span style=\"background-color: #800000; font-weight: bold\"> ERROR </span><span style=\"color: #800000; text-decoration-color: #800000; font-weight: bold\"> No entry in quote with quote_compound=56172!</span>\n",
       "</pre>\n"
      ],
      "text/plain": [
       "\u001b[1;7;31m ERROR \u001b[0m\u001b[1;31m No entry in quote with quote_compound=56172!\u001b[0m\n"
      ]
     },
     "metadata": {},
     "output_type": "display_data"
    },
    {
     "data": {
      "text/html": [
       "<pre style=\"white-space:pre;overflow-x:auto;line-height:normal;font-family:Menlo,'DejaVu Sans Mono',consolas,'Courier New',monospace\"><span style=\"background-color: #800000; font-weight: bold\"> ERROR </span><span style=\"color: #800000; text-decoration-color: #800000; font-weight: bold\"> No entry in quote with quote_compound=56183!</span>\n",
       "</pre>\n"
      ],
      "text/plain": [
       "\u001b[1;7;31m ERROR \u001b[0m\u001b[1;31m No entry in quote with quote_compound=56183!\u001b[0m\n"
      ]
     },
     "metadata": {},
     "output_type": "display_data"
    },
    {
     "data": {
      "text/html": [
       "<pre style=\"white-space:pre;overflow-x:auto;line-height:normal;font-family:Menlo,'DejaVu Sans Mono',consolas,'Courier New',monospace\"><span style=\"background-color: #800000; font-weight: bold\"> ERROR </span><span style=\"color: #800000; text-decoration-color: #800000; font-weight: bold\"> No entry in quote with quote_compound=56174!</span>\n",
       "</pre>\n"
      ],
      "text/plain": [
       "\u001b[1;7;31m ERROR \u001b[0m\u001b[1;31m No entry in quote with quote_compound=56174!\u001b[0m\n"
      ]
     },
     "metadata": {},
     "output_type": "display_data"
    },
    {
     "data": {
      "text/html": [
       "<pre style=\"white-space:pre;overflow-x:auto;line-height:normal;font-family:Menlo,'DejaVu Sans Mono',consolas,'Courier New',monospace\"><span style=\"background-color: #800000; font-weight: bold\"> ERROR </span><span style=\"color: #800000; text-decoration-color: #800000; font-weight: bold\"> No entry in quote with quote_compound=56172!</span>\n",
       "</pre>\n"
      ],
      "text/plain": [
       "\u001b[1;7;31m ERROR \u001b[0m\u001b[1;31m No entry in quote with quote_compound=56172!\u001b[0m\n"
      ]
     },
     "metadata": {},
     "output_type": "display_data"
    },
    {
     "data": {
      "text/html": [
       "<pre style=\"white-space:pre;overflow-x:auto;line-height:normal;font-family:Menlo,'DejaVu Sans Mono',consolas,'Courier New',monospace\"><span style=\"background-color: #800000; font-weight: bold\"> ERROR </span><span style=\"color: #800000; text-decoration-color: #800000; font-weight: bold\"> No entry in quote with quote_compound=251!</span>\n",
       "</pre>\n"
      ],
      "text/plain": [
       "\u001b[1;7;31m ERROR \u001b[0m\u001b[1;31m No entry in quote with quote_compound=251!\u001b[0m\n"
      ]
     },
     "metadata": {},
     "output_type": "display_data"
    },
    {
     "data": {
      "text/html": [
       "<pre style=\"white-space:pre;overflow-x:auto;line-height:normal;font-family:Menlo,'DejaVu Sans Mono',consolas,'Courier New',monospace\"><span style=\"background-color: #800000; font-weight: bold\"> ERROR </span><span style=\"color: #800000; text-decoration-color: #800000; font-weight: bold\"> No entry in quote with quote_compound=56171!</span>\n",
       "</pre>\n"
      ],
      "text/plain": [
       "\u001b[1;7;31m ERROR \u001b[0m\u001b[1;31m No entry in quote with quote_compound=56171!\u001b[0m\n"
      ]
     },
     "metadata": {},
     "output_type": "display_data"
    },
    {
     "data": {
      "text/html": [
       "<pre style=\"white-space:pre;overflow-x:auto;line-height:normal;font-family:Menlo,'DejaVu Sans Mono',consolas,'Courier New',monospace\"><span style=\"background-color: #800000; font-weight: bold\"> ERROR </span><span style=\"color: #800000; text-decoration-color: #800000; font-weight: bold\"> No entry in quote with quote_compound=56170!</span>\n",
       "</pre>\n"
      ],
      "text/plain": [
       "\u001b[1;7;31m ERROR \u001b[0m\u001b[1;31m No entry in quote with quote_compound=56170!\u001b[0m\n"
      ]
     },
     "metadata": {},
     "output_type": "display_data"
    },
    {
     "data": {
      "text/html": [
       "<pre style=\"white-space:pre;overflow-x:auto;line-height:normal;font-family:Menlo,'DejaVu Sans Mono',consolas,'Courier New',monospace\"><span style=\"background-color: #800000; font-weight: bold\"> ERROR </span><span style=\"color: #800000; text-decoration-color: #800000; font-weight: bold\"> No entry in quote with quote_compound=56171!</span>\n",
       "</pre>\n"
      ],
      "text/plain": [
       "\u001b[1;7;31m ERROR \u001b[0m\u001b[1;31m No entry in quote with quote_compound=56171!\u001b[0m\n"
      ]
     },
     "metadata": {},
     "output_type": "display_data"
    },
    {
     "data": {
      "text/html": [
       "<pre style=\"white-space:pre;overflow-x:auto;line-height:normal;font-family:Menlo,'DejaVu Sans Mono',consolas,'Courier New',monospace\"><span style=\"background-color: #800000; font-weight: bold\"> ERROR </span><span style=\"color: #800000; text-decoration-color: #800000; font-weight: bold\"> No entry in quote with quote_compound=56172!</span>\n",
       "</pre>\n"
      ],
      "text/plain": [
       "\u001b[1;7;31m ERROR \u001b[0m\u001b[1;31m No entry in quote with quote_compound=56172!\u001b[0m\n"
      ]
     },
     "metadata": {},
     "output_type": "display_data"
    },
    {
     "data": {
      "text/html": [
       "<pre style=\"white-space:pre;overflow-x:auto;line-height:normal;font-family:Menlo,'DejaVu Sans Mono',consolas,'Courier New',monospace\"><span style=\"background-color: #800000; font-weight: bold\"> ERROR </span><span style=\"color: #800000; text-decoration-color: #800000; font-weight: bold\"> No entry in quote with quote_compound=56184!</span>\n",
       "</pre>\n"
      ],
      "text/plain": [
       "\u001b[1;7;31m ERROR \u001b[0m\u001b[1;31m No entry in quote with quote_compound=56184!\u001b[0m\n"
      ]
     },
     "metadata": {},
     "output_type": "display_data"
    },
    {
     "data": {
      "text/html": [
       "<pre style=\"white-space:pre;overflow-x:auto;line-height:normal;font-family:Menlo,'DejaVu Sans Mono',consolas,'Courier New',monospace\"><span style=\"background-color: #800000; font-weight: bold\"> ERROR </span><span style=\"color: #800000; text-decoration-color: #800000; font-weight: bold\"> No entry in quote with quote_compound=56174!</span>\n",
       "</pre>\n"
      ],
      "text/plain": [
       "\u001b[1;7;31m ERROR \u001b[0m\u001b[1;31m No entry in quote with quote_compound=56174!\u001b[0m\n"
      ]
     },
     "metadata": {},
     "output_type": "display_data"
    },
    {
     "data": {
      "text/html": [
       "<pre style=\"white-space:pre;overflow-x:auto;line-height:normal;font-family:Menlo,'DejaVu Sans Mono',consolas,'Courier New',monospace\"><span style=\"background-color: #800000; font-weight: bold\"> ERROR </span><span style=\"color: #800000; text-decoration-color: #800000; font-weight: bold\"> No entry in quote with quote_compound=56174!</span>\n",
       "</pre>\n"
      ],
      "text/plain": [
       "\u001b[1;7;31m ERROR \u001b[0m\u001b[1;31m No entry in quote with quote_compound=56174!\u001b[0m\n"
      ]
     },
     "metadata": {},
     "output_type": "display_data"
    },
    {
     "data": {
      "text/html": [
       "<pre style=\"white-space:pre;overflow-x:auto;line-height:normal;font-family:Menlo,'DejaVu Sans Mono',consolas,'Courier New',monospace\"><span style=\"background-color: #800000; font-weight: bold\"> ERROR </span><span style=\"color: #800000; text-decoration-color: #800000; font-weight: bold\"> No entry in quote with quote_compound=56174!</span>\n",
       "</pre>\n"
      ],
      "text/plain": [
       "\u001b[1;7;31m ERROR \u001b[0m\u001b[1;31m No entry in quote with quote_compound=56174!\u001b[0m\n"
      ]
     },
     "metadata": {},
     "output_type": "display_data"
    },
    {
     "data": {
      "text/html": [
       "<pre style=\"white-space:pre;overflow-x:auto;line-height:normal;font-family:Menlo,'DejaVu Sans Mono',consolas,'Courier New',monospace\"><span style=\"background-color: #800000; font-weight: bold\"> ERROR </span><span style=\"color: #800000; text-decoration-color: #800000; font-weight: bold\"> No entry in quote with quote_compound=56174!</span>\n",
       "</pre>\n"
      ],
      "text/plain": [
       "\u001b[1;7;31m ERROR \u001b[0m\u001b[1;31m No entry in quote with quote_compound=56174!\u001b[0m\n"
      ]
     },
     "metadata": {},
     "output_type": "display_data"
    },
    {
     "data": {
      "text/html": [
       "<pre style=\"white-space:pre;overflow-x:auto;line-height:normal;font-family:Menlo,'DejaVu Sans Mono',consolas,'Courier New',monospace\"><span style=\"background-color: #800000; font-weight: bold\"> ERROR </span><span style=\"color: #800000; text-decoration-color: #800000; font-weight: bold\"> No entry in quote with quote_compound=56174!</span>\n",
       "</pre>\n"
      ],
      "text/plain": [
       "\u001b[1;7;31m ERROR \u001b[0m\u001b[1;31m No entry in quote with quote_compound=56174!\u001b[0m\n"
      ]
     },
     "metadata": {},
     "output_type": "display_data"
    },
    {
     "data": {
      "text/html": [
       "<pre style=\"white-space:pre;overflow-x:auto;line-height:normal;font-family:Menlo,'DejaVu Sans Mono',consolas,'Courier New',monospace\"><span style=\"background-color: #800000; font-weight: bold\"> ERROR </span><span style=\"color: #800000; text-decoration-color: #800000; font-weight: bold\"> No entry in quote with quote_compound=56174!</span>\n",
       "</pre>\n"
      ],
      "text/plain": [
       "\u001b[1;7;31m ERROR \u001b[0m\u001b[1;31m No entry in quote with quote_compound=56174!\u001b[0m\n"
      ]
     },
     "metadata": {},
     "output_type": "display_data"
    },
    {
     "data": {
      "text/html": [
       "<pre style=\"white-space:pre;overflow-x:auto;line-height:normal;font-family:Menlo,'DejaVu Sans Mono',consolas,'Courier New',monospace\"><span style=\"background-color: #800000; font-weight: bold\"> ERROR </span><span style=\"color: #800000; text-decoration-color: #800000; font-weight: bold\"> No entry in quote with quote_compound=56174!</span>\n",
       "</pre>\n"
      ],
      "text/plain": [
       "\u001b[1;7;31m ERROR \u001b[0m\u001b[1;31m No entry in quote with quote_compound=56174!\u001b[0m\n"
      ]
     },
     "metadata": {},
     "output_type": "display_data"
    },
    {
     "data": {
      "text/html": [
       "<pre style=\"white-space:pre;overflow-x:auto;line-height:normal;font-family:Menlo,'DejaVu Sans Mono',consolas,'Courier New',monospace\"><span style=\"background-color: #800000; font-weight: bold\"> ERROR </span><span style=\"color: #800000; text-decoration-color: #800000; font-weight: bold\"> No entry in quote with quote_compound=56174!</span>\n",
       "</pre>\n"
      ],
      "text/plain": [
       "\u001b[1;7;31m ERROR \u001b[0m\u001b[1;31m No entry in quote with quote_compound=56174!\u001b[0m\n"
      ]
     },
     "metadata": {},
     "output_type": "display_data"
    },
    {
     "data": {
      "text/html": [
       "<pre style=\"white-space:pre;overflow-x:auto;line-height:normal;font-family:Menlo,'DejaVu Sans Mono',consolas,'Courier New',monospace\"><span style=\"background-color: #800000; font-weight: bold\"> ERROR </span><span style=\"color: #800000; text-decoration-color: #800000; font-weight: bold\"> No entry in quote with quote_compound=56174!</span>\n",
       "</pre>\n"
      ],
      "text/plain": [
       "\u001b[1;7;31m ERROR \u001b[0m\u001b[1;31m No entry in quote with quote_compound=56174!\u001b[0m\n"
      ]
     },
     "metadata": {},
     "output_type": "display_data"
    },
    {
     "data": {
      "text/html": [
       "<pre style=\"white-space:pre;overflow-x:auto;line-height:normal;font-family:Menlo,'DejaVu Sans Mono',consolas,'Courier New',monospace\"><span style=\"background-color: #800000; font-weight: bold\"> ERROR </span><span style=\"color: #800000; text-decoration-color: #800000; font-weight: bold\"> No entry in quote with quote_compound=167!</span>\n",
       "</pre>\n"
      ],
      "text/plain": [
       "\u001b[1;7;31m ERROR \u001b[0m\u001b[1;31m No entry in quote with quote_compound=167!\u001b[0m\n"
      ]
     },
     "metadata": {},
     "output_type": "display_data"
    },
    {
     "data": {
      "text/html": [
       "<pre style=\"white-space:pre;overflow-x:auto;line-height:normal;font-family:Menlo,'DejaVu Sans Mono',consolas,'Courier New',monospace\"><span style=\"background-color: #800000; font-weight: bold\"> ERROR </span><span style=\"color: #800000; text-decoration-color: #800000; font-weight: bold\"> No entry in quote with quote_compound=56187!</span>\n",
       "</pre>\n"
      ],
      "text/plain": [
       "\u001b[1;7;31m ERROR \u001b[0m\u001b[1;31m No entry in quote with quote_compound=56187!\u001b[0m\n"
      ]
     },
     "metadata": {},
     "output_type": "display_data"
    },
    {
     "data": {
      "text/html": [
       "<pre style=\"white-space:pre;overflow-x:auto;line-height:normal;font-family:Menlo,'DejaVu Sans Mono',consolas,'Courier New',monospace\"><span style=\"background-color: #800000; font-weight: bold\"> ERROR </span><span style=\"color: #800000; text-decoration-color: #800000; font-weight: bold\"> No entry in quote with quote_compound=56186!</span>\n",
       "</pre>\n"
      ],
      "text/plain": [
       "\u001b[1;7;31m ERROR \u001b[0m\u001b[1;31m No entry in quote with quote_compound=56186!\u001b[0m\n"
      ]
     },
     "metadata": {},
     "output_type": "display_data"
    },
    {
     "data": {
      "text/html": [
       "<pre style=\"white-space:pre;overflow-x:auto;line-height:normal;font-family:Menlo,'DejaVu Sans Mono',consolas,'Courier New',monospace\"><span style=\"background-color: #800000; font-weight: bold\"> ERROR </span><span style=\"color: #800000; text-decoration-color: #800000; font-weight: bold\"> No entry in quote with quote_compound=251!</span>\n",
       "</pre>\n"
      ],
      "text/plain": [
       "\u001b[1;7;31m ERROR \u001b[0m\u001b[1;31m No entry in quote with quote_compound=251!\u001b[0m\n"
      ]
     },
     "metadata": {},
     "output_type": "display_data"
    },
    {
     "data": {
      "text/html": [
       "<pre style=\"white-space:pre;overflow-x:auto;line-height:normal;font-family:Menlo,'DejaVu Sans Mono',consolas,'Courier New',monospace\"><span style=\"background-color: #800000; font-weight: bold\"> ERROR </span><span style=\"color: #800000; text-decoration-color: #800000; font-weight: bold\"> No entry in quote with quote_compound=56185!</span>\n",
       "</pre>\n"
      ],
      "text/plain": [
       "\u001b[1;7;31m ERROR \u001b[0m\u001b[1;31m No entry in quote with quote_compound=56185!\u001b[0m\n"
      ]
     },
     "metadata": {},
     "output_type": "display_data"
    },
    {
     "data": {
      "text/html": [
       "<pre style=\"white-space:pre;overflow-x:auto;line-height:normal;font-family:Menlo,'DejaVu Sans Mono',consolas,'Courier New',monospace\"><span style=\"background-color: #800000; font-weight: bold\"> ERROR </span><span style=\"color: #800000; text-decoration-color: #800000; font-weight: bold\"> No entry in quote with quote_compound=56170!</span>\n",
       "</pre>\n"
      ],
      "text/plain": [
       "\u001b[1;7;31m ERROR \u001b[0m\u001b[1;31m No entry in quote with quote_compound=56170!\u001b[0m\n"
      ]
     },
     "metadata": {},
     "output_type": "display_data"
    },
    {
     "data": {
      "text/html": [
       "<pre style=\"white-space:pre;overflow-x:auto;line-height:normal;font-family:Menlo,'DejaVu Sans Mono',consolas,'Courier New',monospace\"><span style=\"background-color: #800000; font-weight: bold\"> ERROR </span><span style=\"color: #800000; text-decoration-color: #800000; font-weight: bold\"> No entry in quote with quote_compound=56185!</span>\n",
       "</pre>\n"
      ],
      "text/plain": [
       "\u001b[1;7;31m ERROR \u001b[0m\u001b[1;31m No entry in quote with quote_compound=56185!\u001b[0m\n"
      ]
     },
     "metadata": {},
     "output_type": "display_data"
    },
    {
     "data": {
      "text/html": [
       "<pre style=\"white-space:pre;overflow-x:auto;line-height:normal;font-family:Menlo,'DejaVu Sans Mono',consolas,'Courier New',monospace\"><span style=\"background-color: #800000; font-weight: bold\"> ERROR </span><span style=\"color: #800000; text-decoration-color: #800000; font-weight: bold\"> No entry in quote with quote_compound=56186!</span>\n",
       "</pre>\n"
      ],
      "text/plain": [
       "\u001b[1;7;31m ERROR \u001b[0m\u001b[1;31m No entry in quote with quote_compound=56186!\u001b[0m\n"
      ]
     },
     "metadata": {},
     "output_type": "display_data"
    },
    {
     "data": {
      "text/html": [
       "<pre style=\"white-space:pre;overflow-x:auto;line-height:normal;font-family:Menlo,'DejaVu Sans Mono',consolas,'Courier New',monospace\"><span style=\"background-color: #800000; font-weight: bold\"> ERROR </span><span style=\"color: #800000; text-decoration-color: #800000; font-weight: bold\"> No entry in quote with quote_compound=56187!</span>\n",
       "</pre>\n"
      ],
      "text/plain": [
       "\u001b[1;7;31m ERROR \u001b[0m\u001b[1;31m No entry in quote with quote_compound=56187!\u001b[0m\n"
      ]
     },
     "metadata": {},
     "output_type": "display_data"
    },
    {
     "data": {
      "text/html": [
       "<pre style=\"white-space:pre;overflow-x:auto;line-height:normal;font-family:Menlo,'DejaVu Sans Mono',consolas,'Courier New',monospace\"><span style=\"background-color: #800000; font-weight: bold\"> ERROR </span><span style=\"color: #800000; text-decoration-color: #800000; font-weight: bold\"> No entry in quote with quote_compound=56177!</span>\n",
       "</pre>\n"
      ],
      "text/plain": [
       "\u001b[1;7;31m ERROR \u001b[0m\u001b[1;31m No entry in quote with quote_compound=56177!\u001b[0m\n"
      ]
     },
     "metadata": {},
     "output_type": "display_data"
    },
    {
     "data": {
      "text/html": [
       "<pre style=\"white-space:pre;overflow-x:auto;line-height:normal;font-family:Menlo,'DejaVu Sans Mono',consolas,'Courier New',monospace\"><span style=\"background-color: #800000; font-weight: bold\"> ERROR </span><span style=\"color: #800000; text-decoration-color: #800000; font-weight: bold\"> No entry in quote with quote_compound=56186!</span>\n",
       "</pre>\n"
      ],
      "text/plain": [
       "\u001b[1;7;31m ERROR \u001b[0m\u001b[1;31m No entry in quote with quote_compound=56186!\u001b[0m\n"
      ]
     },
     "metadata": {},
     "output_type": "display_data"
    },
    {
     "data": {
      "text/html": [
       "<pre style=\"white-space:pre;overflow-x:auto;line-height:normal;font-family:Menlo,'DejaVu Sans Mono',consolas,'Courier New',monospace\"><span style=\"background-color: #800000; font-weight: bold\"> ERROR </span><span style=\"color: #800000; text-decoration-color: #800000; font-weight: bold\"> No entry in quote with quote_compound=251!</span>\n",
       "</pre>\n"
      ],
      "text/plain": [
       "\u001b[1;7;31m ERROR \u001b[0m\u001b[1;31m No entry in quote with quote_compound=251!\u001b[0m\n"
      ]
     },
     "metadata": {},
     "output_type": "display_data"
    },
    {
     "data": {
      "text/html": [
       "<pre style=\"white-space:pre;overflow-x:auto;line-height:normal;font-family:Menlo,'DejaVu Sans Mono',consolas,'Courier New',monospace\"><span style=\"background-color: #800000; font-weight: bold\"> ERROR </span><span style=\"color: #800000; text-decoration-color: #800000; font-weight: bold\"> No entry in quote with quote_compound=56185!</span>\n",
       "</pre>\n"
      ],
      "text/plain": [
       "\u001b[1;7;31m ERROR \u001b[0m\u001b[1;31m No entry in quote with quote_compound=56185!\u001b[0m\n"
      ]
     },
     "metadata": {},
     "output_type": "display_data"
    },
    {
     "data": {
      "text/html": [
       "<pre style=\"white-space:pre;overflow-x:auto;line-height:normal;font-family:Menlo,'DejaVu Sans Mono',consolas,'Courier New',monospace\"><span style=\"background-color: #800000; font-weight: bold\"> ERROR </span><span style=\"color: #800000; text-decoration-color: #800000; font-weight: bold\"> No entry in quote with quote_compound=56170!</span>\n",
       "</pre>\n"
      ],
      "text/plain": [
       "\u001b[1;7;31m ERROR \u001b[0m\u001b[1;31m No entry in quote with quote_compound=56170!\u001b[0m\n"
      ]
     },
     "metadata": {},
     "output_type": "display_data"
    },
    {
     "data": {
      "text/html": [
       "<pre style=\"white-space:pre;overflow-x:auto;line-height:normal;font-family:Menlo,'DejaVu Sans Mono',consolas,'Courier New',monospace\"><span style=\"background-color: #800000; font-weight: bold\"> ERROR </span><span style=\"color: #800000; text-decoration-color: #800000; font-weight: bold\"> No entry in quote with quote_compound=56185!</span>\n",
       "</pre>\n"
      ],
      "text/plain": [
       "\u001b[1;7;31m ERROR \u001b[0m\u001b[1;31m No entry in quote with quote_compound=56185!\u001b[0m\n"
      ]
     },
     "metadata": {},
     "output_type": "display_data"
    },
    {
     "data": {
      "text/html": [
       "<pre style=\"white-space:pre;overflow-x:auto;line-height:normal;font-family:Menlo,'DejaVu Sans Mono',consolas,'Courier New',monospace\"><span style=\"background-color: #800000; font-weight: bold\"> ERROR </span><span style=\"color: #800000; text-decoration-color: #800000; font-weight: bold\"> No entry in quote with quote_compound=56186!</span>\n",
       "</pre>\n"
      ],
      "text/plain": [
       "\u001b[1;7;31m ERROR \u001b[0m\u001b[1;31m No entry in quote with quote_compound=56186!\u001b[0m\n"
      ]
     },
     "metadata": {},
     "output_type": "display_data"
    },
    {
     "data": {
      "text/html": [
       "<pre style=\"white-space:pre;overflow-x:auto;line-height:normal;font-family:Menlo,'DejaVu Sans Mono',consolas,'Courier New',monospace\"><span style=\"background-color: #800000; font-weight: bold\"> ERROR </span><span style=\"color: #800000; text-decoration-color: #800000; font-weight: bold\"> No entry in quote with quote_compound=56187!</span>\n",
       "</pre>\n"
      ],
      "text/plain": [
       "\u001b[1;7;31m ERROR \u001b[0m\u001b[1;31m No entry in quote with quote_compound=56187!\u001b[0m\n"
      ]
     },
     "metadata": {},
     "output_type": "display_data"
    },
    {
     "data": {
      "text/html": [
       "<pre style=\"white-space:pre;overflow-x:auto;line-height:normal;font-family:Menlo,'DejaVu Sans Mono',consolas,'Courier New',monospace\"><span style=\"background-color: #800000; font-weight: bold\"> ERROR </span><span style=\"color: #800000; text-decoration-color: #800000; font-weight: bold\"> No entry in quote with quote_compound=56178!</span>\n",
       "</pre>\n"
      ],
      "text/plain": [
       "\u001b[1;7;31m ERROR \u001b[0m\u001b[1;31m No entry in quote with quote_compound=56178!\u001b[0m\n"
      ]
     },
     "metadata": {},
     "output_type": "display_data"
    },
    {
     "data": {
      "text/html": [
       "<pre style=\"white-space:pre;overflow-x:auto;line-height:normal;font-family:Menlo,'DejaVu Sans Mono',consolas,'Courier New',monospace\"><span style=\"background-color: #800000; font-weight: bold\"> ERROR </span><span style=\"color: #800000; text-decoration-color: #800000; font-weight: bold\"> No entry in quote with quote_compound=56186!</span>\n",
       "</pre>\n"
      ],
      "text/plain": [
       "\u001b[1;7;31m ERROR \u001b[0m\u001b[1;31m No entry in quote with quote_compound=56186!\u001b[0m\n"
      ]
     },
     "metadata": {},
     "output_type": "display_data"
    },
    {
     "data": {
      "text/html": [
       "<pre style=\"white-space:pre;overflow-x:auto;line-height:normal;font-family:Menlo,'DejaVu Sans Mono',consolas,'Courier New',monospace\"><span style=\"background-color: #800000; font-weight: bold\"> ERROR </span><span style=\"color: #800000; text-decoration-color: #800000; font-weight: bold\"> No entry in quote with quote_compound=251!</span>\n",
       "</pre>\n"
      ],
      "text/plain": [
       "\u001b[1;7;31m ERROR \u001b[0m\u001b[1;31m No entry in quote with quote_compound=251!\u001b[0m\n"
      ]
     },
     "metadata": {},
     "output_type": "display_data"
    },
    {
     "data": {
      "text/html": [
       "<pre style=\"white-space:pre;overflow-x:auto;line-height:normal;font-family:Menlo,'DejaVu Sans Mono',consolas,'Courier New',monospace\"><span style=\"background-color: #800000; font-weight: bold\"> ERROR </span><span style=\"color: #800000; text-decoration-color: #800000; font-weight: bold\"> No entry in quote with quote_compound=56185!</span>\n",
       "</pre>\n"
      ],
      "text/plain": [
       "\u001b[1;7;31m ERROR \u001b[0m\u001b[1;31m No entry in quote with quote_compound=56185!\u001b[0m\n"
      ]
     },
     "metadata": {},
     "output_type": "display_data"
    },
    {
     "data": {
      "text/html": [
       "<pre style=\"white-space:pre;overflow-x:auto;line-height:normal;font-family:Menlo,'DejaVu Sans Mono',consolas,'Courier New',monospace\"><span style=\"background-color: #800000; font-weight: bold\"> ERROR </span><span style=\"color: #800000; text-decoration-color: #800000; font-weight: bold\"> No entry in quote with quote_compound=56170!</span>\n",
       "</pre>\n"
      ],
      "text/plain": [
       "\u001b[1;7;31m ERROR \u001b[0m\u001b[1;31m No entry in quote with quote_compound=56170!\u001b[0m\n"
      ]
     },
     "metadata": {},
     "output_type": "display_data"
    },
    {
     "data": {
      "text/html": [
       "<pre style=\"white-space:pre;overflow-x:auto;line-height:normal;font-family:Menlo,'DejaVu Sans Mono',consolas,'Courier New',monospace\"><span style=\"background-color: #800000; font-weight: bold\"> ERROR </span><span style=\"color: #800000; text-decoration-color: #800000; font-weight: bold\"> No entry in quote with quote_compound=56185!</span>\n",
       "</pre>\n"
      ],
      "text/plain": [
       "\u001b[1;7;31m ERROR \u001b[0m\u001b[1;31m No entry in quote with quote_compound=56185!\u001b[0m\n"
      ]
     },
     "metadata": {},
     "output_type": "display_data"
    },
    {
     "data": {
      "text/html": [
       "<pre style=\"white-space:pre;overflow-x:auto;line-height:normal;font-family:Menlo,'DejaVu Sans Mono',consolas,'Courier New',monospace\"><span style=\"background-color: #800000; font-weight: bold\"> ERROR </span><span style=\"color: #800000; text-decoration-color: #800000; font-weight: bold\"> No entry in quote with quote_compound=56186!</span>\n",
       "</pre>\n"
      ],
      "text/plain": [
       "\u001b[1;7;31m ERROR \u001b[0m\u001b[1;31m No entry in quote with quote_compound=56186!\u001b[0m\n"
      ]
     },
     "metadata": {},
     "output_type": "display_data"
    },
    {
     "data": {
      "text/html": [
       "<pre style=\"white-space:pre;overflow-x:auto;line-height:normal;font-family:Menlo,'DejaVu Sans Mono',consolas,'Courier New',monospace\"><span style=\"background-color: #800000; font-weight: bold\"> ERROR </span><span style=\"color: #800000; text-decoration-color: #800000; font-weight: bold\"> No entry in quote with quote_compound=56187!</span>\n",
       "</pre>\n"
      ],
      "text/plain": [
       "\u001b[1;7;31m ERROR \u001b[0m\u001b[1;31m No entry in quote with quote_compound=56187!\u001b[0m\n"
      ]
     },
     "metadata": {},
     "output_type": "display_data"
    },
    {
     "data": {
      "text/html": [
       "<pre style=\"white-space:pre;overflow-x:auto;line-height:normal;font-family:Menlo,'DejaVu Sans Mono',consolas,'Courier New',monospace\"><span style=\"background-color: #800000; font-weight: bold\"> ERROR </span><span style=\"color: #800000; text-decoration-color: #800000; font-weight: bold\"> No entry in quote with quote_compound=56186!</span>\n",
       "</pre>\n"
      ],
      "text/plain": [
       "\u001b[1;7;31m ERROR \u001b[0m\u001b[1;31m No entry in quote with quote_compound=56186!\u001b[0m\n"
      ]
     },
     "metadata": {},
     "output_type": "display_data"
    },
    {
     "data": {
      "text/html": [
       "<pre style=\"white-space:pre;overflow-x:auto;line-height:normal;font-family:Menlo,'DejaVu Sans Mono',consolas,'Courier New',monospace\"><span style=\"background-color: #800000; font-weight: bold\"> ERROR </span><span style=\"color: #800000; text-decoration-color: #800000; font-weight: bold\"> No entry in quote with quote_compound=251!</span>\n",
       "</pre>\n"
      ],
      "text/plain": [
       "\u001b[1;7;31m ERROR \u001b[0m\u001b[1;31m No entry in quote with quote_compound=251!\u001b[0m\n"
      ]
     },
     "metadata": {},
     "output_type": "display_data"
    },
    {
     "data": {
      "text/html": [
       "<pre style=\"white-space:pre;overflow-x:auto;line-height:normal;font-family:Menlo,'DejaVu Sans Mono',consolas,'Courier New',monospace\"><span style=\"background-color: #800000; font-weight: bold\"> ERROR </span><span style=\"color: #800000; text-decoration-color: #800000; font-weight: bold\"> No entry in quote with quote_compound=56185!</span>\n",
       "</pre>\n"
      ],
      "text/plain": [
       "\u001b[1;7;31m ERROR \u001b[0m\u001b[1;31m No entry in quote with quote_compound=56185!\u001b[0m\n"
      ]
     },
     "metadata": {},
     "output_type": "display_data"
    },
    {
     "data": {
      "text/html": [
       "<pre style=\"white-space:pre;overflow-x:auto;line-height:normal;font-family:Menlo,'DejaVu Sans Mono',consolas,'Courier New',monospace\"><span style=\"background-color: #800000; font-weight: bold\"> ERROR </span><span style=\"color: #800000; text-decoration-color: #800000; font-weight: bold\"> No entry in quote with quote_compound=56170!</span>\n",
       "</pre>\n"
      ],
      "text/plain": [
       "\u001b[1;7;31m ERROR \u001b[0m\u001b[1;31m No entry in quote with quote_compound=56170!\u001b[0m\n"
      ]
     },
     "metadata": {},
     "output_type": "display_data"
    },
    {
     "data": {
      "text/html": [
       "<pre style=\"white-space:pre;overflow-x:auto;line-height:normal;font-family:Menlo,'DejaVu Sans Mono',consolas,'Courier New',monospace\"><span style=\"background-color: #800000; font-weight: bold\"> ERROR </span><span style=\"color: #800000; text-decoration-color: #800000; font-weight: bold\"> No entry in quote with quote_compound=56185!</span>\n",
       "</pre>\n"
      ],
      "text/plain": [
       "\u001b[1;7;31m ERROR \u001b[0m\u001b[1;31m No entry in quote with quote_compound=56185!\u001b[0m\n"
      ]
     },
     "metadata": {},
     "output_type": "display_data"
    },
    {
     "data": {
      "text/html": [
       "<pre style=\"white-space:pre;overflow-x:auto;line-height:normal;font-family:Menlo,'DejaVu Sans Mono',consolas,'Courier New',monospace\"><span style=\"background-color: #800000; font-weight: bold\"> ERROR </span><span style=\"color: #800000; text-decoration-color: #800000; font-weight: bold\"> No entry in quote with quote_compound=56186!</span>\n",
       "</pre>\n"
      ],
      "text/plain": [
       "\u001b[1;7;31m ERROR \u001b[0m\u001b[1;31m No entry in quote with quote_compound=56186!\u001b[0m\n"
      ]
     },
     "metadata": {},
     "output_type": "display_data"
    },
    {
     "data": {
      "text/html": [
       "<pre style=\"white-space:pre;overflow-x:auto;line-height:normal;font-family:Menlo,'DejaVu Sans Mono',consolas,'Courier New',monospace\"><span style=\"background-color: #800000; font-weight: bold\"> ERROR </span><span style=\"color: #800000; text-decoration-color: #800000; font-weight: bold\"> No entry in quote with quote_compound=56187!</span>\n",
       "</pre>\n"
      ],
      "text/plain": [
       "\u001b[1;7;31m ERROR \u001b[0m\u001b[1;31m No entry in quote with quote_compound=56187!\u001b[0m\n"
      ]
     },
     "metadata": {},
     "output_type": "display_data"
    },
    {
     "data": {
      "text/html": [
       "<pre style=\"white-space:pre;overflow-x:auto;line-height:normal;font-family:Menlo,'DejaVu Sans Mono',consolas,'Courier New',monospace\"><span style=\"background-color: #800000; font-weight: bold\"> ERROR </span><span style=\"color: #800000; text-decoration-color: #800000; font-weight: bold\"> No entry in quote with quote_compound=56186!</span>\n",
       "</pre>\n"
      ],
      "text/plain": [
       "\u001b[1;7;31m ERROR \u001b[0m\u001b[1;31m No entry in quote with quote_compound=56186!\u001b[0m\n"
      ]
     },
     "metadata": {},
     "output_type": "display_data"
    },
    {
     "data": {
      "text/html": [
       "<pre style=\"white-space:pre;overflow-x:auto;line-height:normal;font-family:Menlo,'DejaVu Sans Mono',consolas,'Courier New',monospace\"><span style=\"background-color: #800000; font-weight: bold\"> ERROR </span><span style=\"color: #800000; text-decoration-color: #800000; font-weight: bold\"> No entry in quote with quote_compound=251!</span>\n",
       "</pre>\n"
      ],
      "text/plain": [
       "\u001b[1;7;31m ERROR \u001b[0m\u001b[1;31m No entry in quote with quote_compound=251!\u001b[0m\n"
      ]
     },
     "metadata": {},
     "output_type": "display_data"
    },
    {
     "data": {
      "text/html": [
       "<pre style=\"white-space:pre;overflow-x:auto;line-height:normal;font-family:Menlo,'DejaVu Sans Mono',consolas,'Courier New',monospace\"><span style=\"background-color: #800000; font-weight: bold\"> ERROR </span><span style=\"color: #800000; text-decoration-color: #800000; font-weight: bold\"> No entry in quote with quote_compound=56185!</span>\n",
       "</pre>\n"
      ],
      "text/plain": [
       "\u001b[1;7;31m ERROR \u001b[0m\u001b[1;31m No entry in quote with quote_compound=56185!\u001b[0m\n"
      ]
     },
     "metadata": {},
     "output_type": "display_data"
    },
    {
     "data": {
      "text/html": [
       "<pre style=\"white-space:pre;overflow-x:auto;line-height:normal;font-family:Menlo,'DejaVu Sans Mono',consolas,'Courier New',monospace\"><span style=\"background-color: #800000; font-weight: bold\"> ERROR </span><span style=\"color: #800000; text-decoration-color: #800000; font-weight: bold\"> No entry in quote with quote_compound=56170!</span>\n",
       "</pre>\n"
      ],
      "text/plain": [
       "\u001b[1;7;31m ERROR \u001b[0m\u001b[1;31m No entry in quote with quote_compound=56170!\u001b[0m\n"
      ]
     },
     "metadata": {},
     "output_type": "display_data"
    },
    {
     "data": {
      "text/html": [
       "<pre style=\"white-space:pre;overflow-x:auto;line-height:normal;font-family:Menlo,'DejaVu Sans Mono',consolas,'Courier New',monospace\"><span style=\"background-color: #800000; font-weight: bold\"> ERROR </span><span style=\"color: #800000; text-decoration-color: #800000; font-weight: bold\"> No entry in quote with quote_compound=56185!</span>\n",
       "</pre>\n"
      ],
      "text/plain": [
       "\u001b[1;7;31m ERROR \u001b[0m\u001b[1;31m No entry in quote with quote_compound=56185!\u001b[0m\n"
      ]
     },
     "metadata": {},
     "output_type": "display_data"
    },
    {
     "data": {
      "text/html": [
       "<pre style=\"white-space:pre;overflow-x:auto;line-height:normal;font-family:Menlo,'DejaVu Sans Mono',consolas,'Courier New',monospace\"><span style=\"background-color: #800000; font-weight: bold\"> ERROR </span><span style=\"color: #800000; text-decoration-color: #800000; font-weight: bold\"> No entry in quote with quote_compound=56186!</span>\n",
       "</pre>\n"
      ],
      "text/plain": [
       "\u001b[1;7;31m ERROR \u001b[0m\u001b[1;31m No entry in quote with quote_compound=56186!\u001b[0m\n"
      ]
     },
     "metadata": {},
     "output_type": "display_data"
    },
    {
     "data": {
      "text/html": [
       "<pre style=\"white-space:pre;overflow-x:auto;line-height:normal;font-family:Menlo,'DejaVu Sans Mono',consolas,'Courier New',monospace\"><span style=\"background-color: #800000; font-weight: bold\"> ERROR </span><span style=\"color: #800000; text-decoration-color: #800000; font-weight: bold\"> No entry in quote with quote_compound=56187!</span>\n",
       "</pre>\n"
      ],
      "text/plain": [
       "\u001b[1;7;31m ERROR \u001b[0m\u001b[1;31m No entry in quote with quote_compound=56187!\u001b[0m\n"
      ]
     },
     "metadata": {},
     "output_type": "display_data"
    },
    {
     "data": {
      "text/html": [
       "<pre style=\"white-space:pre;overflow-x:auto;line-height:normal;font-family:Menlo,'DejaVu Sans Mono',consolas,'Courier New',monospace\"><span style=\"background-color: #800000; font-weight: bold\"> ERROR </span><span style=\"color: #800000; text-decoration-color: #800000; font-weight: bold\"> No entry in quote with quote_compound=56181!</span>\n",
       "</pre>\n"
      ],
      "text/plain": [
       "\u001b[1;7;31m ERROR \u001b[0m\u001b[1;31m No entry in quote with quote_compound=56181!\u001b[0m\n"
      ]
     },
     "metadata": {},
     "output_type": "display_data"
    },
    {
     "data": {
      "text/html": [
       "<pre style=\"white-space:pre;overflow-x:auto;line-height:normal;font-family:Menlo,'DejaVu Sans Mono',consolas,'Courier New',monospace\"><span style=\"background-color: #800000; font-weight: bold\"> ERROR </span><span style=\"color: #800000; text-decoration-color: #800000; font-weight: bold\"> No entry in quote with quote_compound=56186!</span>\n",
       "</pre>\n"
      ],
      "text/plain": [
       "\u001b[1;7;31m ERROR \u001b[0m\u001b[1;31m No entry in quote with quote_compound=56186!\u001b[0m\n"
      ]
     },
     "metadata": {},
     "output_type": "display_data"
    },
    {
     "data": {
      "text/html": [
       "<pre style=\"white-space:pre;overflow-x:auto;line-height:normal;font-family:Menlo,'DejaVu Sans Mono',consolas,'Courier New',monospace\"><span style=\"background-color: #800000; font-weight: bold\"> ERROR </span><span style=\"color: #800000; text-decoration-color: #800000; font-weight: bold\"> No entry in quote with quote_compound=251!</span>\n",
       "</pre>\n"
      ],
      "text/plain": [
       "\u001b[1;7;31m ERROR \u001b[0m\u001b[1;31m No entry in quote with quote_compound=251!\u001b[0m\n"
      ]
     },
     "metadata": {},
     "output_type": "display_data"
    },
    {
     "data": {
      "text/html": [
       "<pre style=\"white-space:pre;overflow-x:auto;line-height:normal;font-family:Menlo,'DejaVu Sans Mono',consolas,'Courier New',monospace\"><span style=\"background-color: #800000; font-weight: bold\"> ERROR </span><span style=\"color: #800000; text-decoration-color: #800000; font-weight: bold\"> No entry in quote with quote_compound=56185!</span>\n",
       "</pre>\n"
      ],
      "text/plain": [
       "\u001b[1;7;31m ERROR \u001b[0m\u001b[1;31m No entry in quote with quote_compound=56185!\u001b[0m\n"
      ]
     },
     "metadata": {},
     "output_type": "display_data"
    },
    {
     "data": {
      "text/html": [
       "<pre style=\"white-space:pre;overflow-x:auto;line-height:normal;font-family:Menlo,'DejaVu Sans Mono',consolas,'Courier New',monospace\"><span style=\"background-color: #800000; font-weight: bold\"> ERROR </span><span style=\"color: #800000; text-decoration-color: #800000; font-weight: bold\"> No entry in quote with quote_compound=56170!</span>\n",
       "</pre>\n"
      ],
      "text/plain": [
       "\u001b[1;7;31m ERROR \u001b[0m\u001b[1;31m No entry in quote with quote_compound=56170!\u001b[0m\n"
      ]
     },
     "metadata": {},
     "output_type": "display_data"
    },
    {
     "data": {
      "text/html": [
       "<pre style=\"white-space:pre;overflow-x:auto;line-height:normal;font-family:Menlo,'DejaVu Sans Mono',consolas,'Courier New',monospace\"><span style=\"background-color: #800000; font-weight: bold\"> ERROR </span><span style=\"color: #800000; text-decoration-color: #800000; font-weight: bold\"> No entry in quote with quote_compound=56185!</span>\n",
       "</pre>\n"
      ],
      "text/plain": [
       "\u001b[1;7;31m ERROR \u001b[0m\u001b[1;31m No entry in quote with quote_compound=56185!\u001b[0m\n"
      ]
     },
     "metadata": {},
     "output_type": "display_data"
    },
    {
     "data": {
      "text/html": [
       "<pre style=\"white-space:pre;overflow-x:auto;line-height:normal;font-family:Menlo,'DejaVu Sans Mono',consolas,'Courier New',monospace\"><span style=\"background-color: #800000; font-weight: bold\"> ERROR </span><span style=\"color: #800000; text-decoration-color: #800000; font-weight: bold\"> No entry in quote with quote_compound=56186!</span>\n",
       "</pre>\n"
      ],
      "text/plain": [
       "\u001b[1;7;31m ERROR \u001b[0m\u001b[1;31m No entry in quote with quote_compound=56186!\u001b[0m\n"
      ]
     },
     "metadata": {},
     "output_type": "display_data"
    },
    {
     "data": {
      "text/html": [
       "<pre style=\"white-space:pre;overflow-x:auto;line-height:normal;font-family:Menlo,'DejaVu Sans Mono',consolas,'Courier New',monospace\"><span style=\"background-color: #800000; font-weight: bold\"> ERROR </span><span style=\"color: #800000; text-decoration-color: #800000; font-weight: bold\"> No entry in quote with quote_compound=56187!</span>\n",
       "</pre>\n"
      ],
      "text/plain": [
       "\u001b[1;7;31m ERROR \u001b[0m\u001b[1;31m No entry in quote with quote_compound=56187!\u001b[0m\n"
      ]
     },
     "metadata": {},
     "output_type": "display_data"
    },
    {
     "data": {
      "text/html": [
       "<pre style=\"white-space:pre;overflow-x:auto;line-height:normal;font-family:Menlo,'DejaVu Sans Mono',consolas,'Courier New',monospace\"><span style=\"background-color: #800000; font-weight: bold\"> ERROR </span><span style=\"color: #800000; text-decoration-color: #800000; font-weight: bold\"> No entry in quote with quote_compound=56186!</span>\n",
       "</pre>\n"
      ],
      "text/plain": [
       "\u001b[1;7;31m ERROR \u001b[0m\u001b[1;31m No entry in quote with quote_compound=56186!\u001b[0m\n"
      ]
     },
     "metadata": {},
     "output_type": "display_data"
    },
    {
     "data": {
      "text/html": [
       "<pre style=\"white-space:pre;overflow-x:auto;line-height:normal;font-family:Menlo,'DejaVu Sans Mono',consolas,'Courier New',monospace\"><span style=\"background-color: #800000; font-weight: bold\"> ERROR </span><span style=\"color: #800000; text-decoration-color: #800000; font-weight: bold\"> No entry in quote with quote_compound=251!</span>\n",
       "</pre>\n"
      ],
      "text/plain": [
       "\u001b[1;7;31m ERROR \u001b[0m\u001b[1;31m No entry in quote with quote_compound=251!\u001b[0m\n"
      ]
     },
     "metadata": {},
     "output_type": "display_data"
    },
    {
     "data": {
      "text/html": [
       "<pre style=\"white-space:pre;overflow-x:auto;line-height:normal;font-family:Menlo,'DejaVu Sans Mono',consolas,'Courier New',monospace\"><span style=\"background-color: #800000; font-weight: bold\"> ERROR </span><span style=\"color: #800000; text-decoration-color: #800000; font-weight: bold\"> No entry in quote with quote_compound=56185!</span>\n",
       "</pre>\n"
      ],
      "text/plain": [
       "\u001b[1;7;31m ERROR \u001b[0m\u001b[1;31m No entry in quote with quote_compound=56185!\u001b[0m\n"
      ]
     },
     "metadata": {},
     "output_type": "display_data"
    },
    {
     "data": {
      "text/html": [
       "<pre style=\"white-space:pre;overflow-x:auto;line-height:normal;font-family:Menlo,'DejaVu Sans Mono',consolas,'Courier New',monospace\"><span style=\"background-color: #800000; font-weight: bold\"> ERROR </span><span style=\"color: #800000; text-decoration-color: #800000; font-weight: bold\"> No entry in quote with quote_compound=56170!</span>\n",
       "</pre>\n"
      ],
      "text/plain": [
       "\u001b[1;7;31m ERROR \u001b[0m\u001b[1;31m No entry in quote with quote_compound=56170!\u001b[0m\n"
      ]
     },
     "metadata": {},
     "output_type": "display_data"
    },
    {
     "data": {
      "text/html": [
       "<pre style=\"white-space:pre;overflow-x:auto;line-height:normal;font-family:Menlo,'DejaVu Sans Mono',consolas,'Courier New',monospace\"><span style=\"background-color: #800000; font-weight: bold\"> ERROR </span><span style=\"color: #800000; text-decoration-color: #800000; font-weight: bold\"> No entry in quote with quote_compound=56185!</span>\n",
       "</pre>\n"
      ],
      "text/plain": [
       "\u001b[1;7;31m ERROR \u001b[0m\u001b[1;31m No entry in quote with quote_compound=56185!\u001b[0m\n"
      ]
     },
     "metadata": {},
     "output_type": "display_data"
    },
    {
     "data": {
      "text/html": [
       "<pre style=\"white-space:pre;overflow-x:auto;line-height:normal;font-family:Menlo,'DejaVu Sans Mono',consolas,'Courier New',monospace\"><span style=\"background-color: #800000; font-weight: bold\"> ERROR </span><span style=\"color: #800000; text-decoration-color: #800000; font-weight: bold\"> No entry in quote with quote_compound=56186!</span>\n",
       "</pre>\n"
      ],
      "text/plain": [
       "\u001b[1;7;31m ERROR \u001b[0m\u001b[1;31m No entry in quote with quote_compound=56186!\u001b[0m\n"
      ]
     },
     "metadata": {},
     "output_type": "display_data"
    },
    {
     "data": {
      "text/html": [
       "<pre style=\"white-space:pre;overflow-x:auto;line-height:normal;font-family:Menlo,'DejaVu Sans Mono',consolas,'Courier New',monospace\"><span style=\"background-color: #800000; font-weight: bold\"> ERROR </span><span style=\"color: #800000; text-decoration-color: #800000; font-weight: bold\"> No entry in quote with quote_compound=56187!</span>\n",
       "</pre>\n"
      ],
      "text/plain": [
       "\u001b[1;7;31m ERROR \u001b[0m\u001b[1;31m No entry in quote with quote_compound=56187!\u001b[0m\n"
      ]
     },
     "metadata": {},
     "output_type": "display_data"
    },
    {
     "data": {
      "text/html": [
       "<pre style=\"white-space:pre;overflow-x:auto;line-height:normal;font-family:Menlo,'DejaVu Sans Mono',consolas,'Courier New',monospace\"><span style=\"background-color: #800000; font-weight: bold\"> ERROR </span><span style=\"color: #800000; text-decoration-color: #800000; font-weight: bold\"> No entry in quote with quote_compound=56183!</span>\n",
       "</pre>\n"
      ],
      "text/plain": [
       "\u001b[1;7;31m ERROR \u001b[0m\u001b[1;31m No entry in quote with quote_compound=56183!\u001b[0m\n"
      ]
     },
     "metadata": {},
     "output_type": "display_data"
    },
    {
     "data": {
      "text/html": [
       "<pre style=\"white-space:pre;overflow-x:auto;line-height:normal;font-family:Menlo,'DejaVu Sans Mono',consolas,'Courier New',monospace\"><span style=\"background-color: #800000; font-weight: bold\"> ERROR </span><span style=\"color: #800000; text-decoration-color: #800000; font-weight: bold\"> No entry in quote with quote_compound=56186!</span>\n",
       "</pre>\n"
      ],
      "text/plain": [
       "\u001b[1;7;31m ERROR \u001b[0m\u001b[1;31m No entry in quote with quote_compound=56186!\u001b[0m\n"
      ]
     },
     "metadata": {},
     "output_type": "display_data"
    },
    {
     "data": {
      "text/html": [
       "<pre style=\"white-space:pre;overflow-x:auto;line-height:normal;font-family:Menlo,'DejaVu Sans Mono',consolas,'Courier New',monospace\"><span style=\"background-color: #800000; font-weight: bold\"> ERROR </span><span style=\"color: #800000; text-decoration-color: #800000; font-weight: bold\"> No entry in quote with quote_compound=251!</span>\n",
       "</pre>\n"
      ],
      "text/plain": [
       "\u001b[1;7;31m ERROR \u001b[0m\u001b[1;31m No entry in quote with quote_compound=251!\u001b[0m\n"
      ]
     },
     "metadata": {},
     "output_type": "display_data"
    },
    {
     "data": {
      "text/html": [
       "<pre style=\"white-space:pre;overflow-x:auto;line-height:normal;font-family:Menlo,'DejaVu Sans Mono',consolas,'Courier New',monospace\"><span style=\"background-color: #800000; font-weight: bold\"> ERROR </span><span style=\"color: #800000; text-decoration-color: #800000; font-weight: bold\"> No entry in quote with quote_compound=56185!</span>\n",
       "</pre>\n"
      ],
      "text/plain": [
       "\u001b[1;7;31m ERROR \u001b[0m\u001b[1;31m No entry in quote with quote_compound=56185!\u001b[0m\n"
      ]
     },
     "metadata": {},
     "output_type": "display_data"
    },
    {
     "data": {
      "text/html": [
       "<pre style=\"white-space:pre;overflow-x:auto;line-height:normal;font-family:Menlo,'DejaVu Sans Mono',consolas,'Courier New',monospace\"><span style=\"background-color: #800000; font-weight: bold\"> ERROR </span><span style=\"color: #800000; text-decoration-color: #800000; font-weight: bold\"> No entry in quote with quote_compound=56170!</span>\n",
       "</pre>\n"
      ],
      "text/plain": [
       "\u001b[1;7;31m ERROR \u001b[0m\u001b[1;31m No entry in quote with quote_compound=56170!\u001b[0m\n"
      ]
     },
     "metadata": {},
     "output_type": "display_data"
    },
    {
     "data": {
      "text/html": [
       "<pre style=\"white-space:pre;overflow-x:auto;line-height:normal;font-family:Menlo,'DejaVu Sans Mono',consolas,'Courier New',monospace\"><span style=\"background-color: #800000; font-weight: bold\"> ERROR </span><span style=\"color: #800000; text-decoration-color: #800000; font-weight: bold\"> No entry in quote with quote_compound=56185!</span>\n",
       "</pre>\n"
      ],
      "text/plain": [
       "\u001b[1;7;31m ERROR \u001b[0m\u001b[1;31m No entry in quote with quote_compound=56185!\u001b[0m\n"
      ]
     },
     "metadata": {},
     "output_type": "display_data"
    },
    {
     "data": {
      "text/html": [
       "<pre style=\"white-space:pre;overflow-x:auto;line-height:normal;font-family:Menlo,'DejaVu Sans Mono',consolas,'Courier New',monospace\"><span style=\"background-color: #800000; font-weight: bold\"> ERROR </span><span style=\"color: #800000; text-decoration-color: #800000; font-weight: bold\"> No entry in quote with quote_compound=56186!</span>\n",
       "</pre>\n"
      ],
      "text/plain": [
       "\u001b[1;7;31m ERROR \u001b[0m\u001b[1;31m No entry in quote with quote_compound=56186!\u001b[0m\n"
      ]
     },
     "metadata": {},
     "output_type": "display_data"
    },
    {
     "data": {
      "text/html": [
       "<pre style=\"white-space:pre;overflow-x:auto;line-height:normal;font-family:Menlo,'DejaVu Sans Mono',consolas,'Courier New',monospace\"><span style=\"background-color: #800000; font-weight: bold\"> ERROR </span><span style=\"color: #800000; text-decoration-color: #800000; font-weight: bold\"> No entry in quote with quote_compound=56187!</span>\n",
       "</pre>\n"
      ],
      "text/plain": [
       "\u001b[1;7;31m ERROR \u001b[0m\u001b[1;31m No entry in quote with quote_compound=56187!\u001b[0m\n"
      ]
     },
     "metadata": {},
     "output_type": "display_data"
    },
    {
     "data": {
      "text/html": [
       "<pre style=\"white-space:pre;overflow-x:auto;line-height:normal;font-family:Menlo,'DejaVu Sans Mono',consolas,'Courier New',monospace\"><span style=\"background-color: #800000; font-weight: bold\"> ERROR </span><span style=\"color: #800000; text-decoration-color: #800000; font-weight: bold\"> No entry in quote with quote_compound=56184!</span>\n",
       "</pre>\n"
      ],
      "text/plain": [
       "\u001b[1;7;31m ERROR \u001b[0m\u001b[1;31m No entry in quote with quote_compound=56184!\u001b[0m\n"
      ]
     },
     "metadata": {},
     "output_type": "display_data"
    },
    {
     "data": {
      "text/html": [
       "<pre style=\"white-space:pre;overflow-x:auto;line-height:normal;font-family:Menlo,'DejaVu Sans Mono',consolas,'Courier New',monospace\"><span style=\"background-color: #800000; font-weight: bold\"> ERROR </span><span style=\"color: #800000; text-decoration-color: #800000; font-weight: bold\"> No entry in quote with quote_compound=56186!</span>\n",
       "</pre>\n"
      ],
      "text/plain": [
       "\u001b[1;7;31m ERROR \u001b[0m\u001b[1;31m No entry in quote with quote_compound=56186!\u001b[0m\n"
      ]
     },
     "metadata": {},
     "output_type": "display_data"
    },
    {
     "data": {
      "text/html": [
       "<pre style=\"white-space:pre;overflow-x:auto;line-height:normal;font-family:Menlo,'DejaVu Sans Mono',consolas,'Courier New',monospace\"><span style=\"background-color: #800000; font-weight: bold\"> ERROR </span><span style=\"color: #800000; text-decoration-color: #800000; font-weight: bold\"> No entry in quote with quote_compound=251!</span>\n",
       "</pre>\n"
      ],
      "text/plain": [
       "\u001b[1;7;31m ERROR \u001b[0m\u001b[1;31m No entry in quote with quote_compound=251!\u001b[0m\n"
      ]
     },
     "metadata": {},
     "output_type": "display_data"
    },
    {
     "data": {
      "text/html": [
       "<pre style=\"white-space:pre;overflow-x:auto;line-height:normal;font-family:Menlo,'DejaVu Sans Mono',consolas,'Courier New',monospace\"><span style=\"background-color: #800000; font-weight: bold\"> ERROR </span><span style=\"color: #800000; text-decoration-color: #800000; font-weight: bold\"> No entry in quote with quote_compound=56185!</span>\n",
       "</pre>\n"
      ],
      "text/plain": [
       "\u001b[1;7;31m ERROR \u001b[0m\u001b[1;31m No entry in quote with quote_compound=56185!\u001b[0m\n"
      ]
     },
     "metadata": {},
     "output_type": "display_data"
    },
    {
     "data": {
      "text/html": [
       "<pre style=\"white-space:pre;overflow-x:auto;line-height:normal;font-family:Menlo,'DejaVu Sans Mono',consolas,'Courier New',monospace\"><span style=\"background-color: #800000; font-weight: bold\"> ERROR </span><span style=\"color: #800000; text-decoration-color: #800000; font-weight: bold\"> No entry in quote with quote_compound=56170!</span>\n",
       "</pre>\n"
      ],
      "text/plain": [
       "\u001b[1;7;31m ERROR \u001b[0m\u001b[1;31m No entry in quote with quote_compound=56170!\u001b[0m\n"
      ]
     },
     "metadata": {},
     "output_type": "display_data"
    },
    {
     "data": {
      "text/html": [
       "<pre style=\"white-space:pre;overflow-x:auto;line-height:normal;font-family:Menlo,'DejaVu Sans Mono',consolas,'Courier New',monospace\"><span style=\"background-color: #800000; font-weight: bold\"> ERROR </span><span style=\"color: #800000; text-decoration-color: #800000; font-weight: bold\"> No entry in quote with quote_compound=56185!</span>\n",
       "</pre>\n"
      ],
      "text/plain": [
       "\u001b[1;7;31m ERROR \u001b[0m\u001b[1;31m No entry in quote with quote_compound=56185!\u001b[0m\n"
      ]
     },
     "metadata": {},
     "output_type": "display_data"
    },
    {
     "data": {
      "text/html": [
       "<pre style=\"white-space:pre;overflow-x:auto;line-height:normal;font-family:Menlo,'DejaVu Sans Mono',consolas,'Courier New',monospace\"><span style=\"background-color: #800000; font-weight: bold\"> ERROR </span><span style=\"color: #800000; text-decoration-color: #800000; font-weight: bold\"> No entry in quote with quote_compound=56186!</span>\n",
       "</pre>\n"
      ],
      "text/plain": [
       "\u001b[1;7;31m ERROR \u001b[0m\u001b[1;31m No entry in quote with quote_compound=56186!\u001b[0m\n"
      ]
     },
     "metadata": {},
     "output_type": "display_data"
    },
    {
     "data": {
      "text/html": [
       "<pre style=\"white-space:pre;overflow-x:auto;line-height:normal;font-family:Menlo,'DejaVu Sans Mono',consolas,'Courier New',monospace\"><span style=\"background-color: #800000; font-weight: bold\"> ERROR </span><span style=\"color: #800000; text-decoration-color: #800000; font-weight: bold\"> No entry in quote with quote_compound=56187!</span>\n",
       "</pre>\n"
      ],
      "text/plain": [
       "\u001b[1;7;31m ERROR \u001b[0m\u001b[1;31m No entry in quote with quote_compound=56187!\u001b[0m\n"
      ]
     },
     "metadata": {},
     "output_type": "display_data"
    },
    {
     "data": {
      "text/html": [
       "<pre style=\"white-space:pre;overflow-x:auto;line-height:normal;font-family:Menlo,'DejaVu Sans Mono',consolas,'Courier New',monospace\"><span style=\"background-color: #800000; font-weight: bold\"> ERROR </span><span style=\"color: #800000; text-decoration-color: #800000; font-weight: bold\"> No entry in quote with quote_compound=56187!</span>\n",
       "</pre>\n"
      ],
      "text/plain": [
       "\u001b[1;7;31m ERROR \u001b[0m\u001b[1;31m No entry in quote with quote_compound=56187!\u001b[0m\n"
      ]
     },
     "metadata": {},
     "output_type": "display_data"
    },
    {
     "data": {
      "text/html": [
       "<pre style=\"white-space:pre;overflow-x:auto;line-height:normal;font-family:Menlo,'DejaVu Sans Mono',consolas,'Courier New',monospace\"><span style=\"background-color: #800000; font-weight: bold\"> ERROR </span><span style=\"color: #800000; text-decoration-color: #800000; font-weight: bold\"> No entry in quote with quote_compound=56187!</span>\n",
       "</pre>\n"
      ],
      "text/plain": [
       "\u001b[1;7;31m ERROR \u001b[0m\u001b[1;31m No entry in quote with quote_compound=56187!\u001b[0m\n"
      ]
     },
     "metadata": {},
     "output_type": "display_data"
    },
    {
     "data": {
      "text/html": [
       "<pre style=\"white-space:pre;overflow-x:auto;line-height:normal;font-family:Menlo,'DejaVu Sans Mono',consolas,'Courier New',monospace\"><span style=\"background-color: #800000; font-weight: bold\"> ERROR </span><span style=\"color: #800000; text-decoration-color: #800000; font-weight: bold\"> No entry in quote with quote_compound=56187!</span>\n",
       "</pre>\n"
      ],
      "text/plain": [
       "\u001b[1;7;31m ERROR \u001b[0m\u001b[1;31m No entry in quote with quote_compound=56187!\u001b[0m\n"
      ]
     },
     "metadata": {},
     "output_type": "display_data"
    },
    {
     "data": {
      "text/html": [
       "<pre style=\"white-space:pre;overflow-x:auto;line-height:normal;font-family:Menlo,'DejaVu Sans Mono',consolas,'Courier New',monospace\"><span style=\"background-color: #800000; font-weight: bold\"> ERROR </span><span style=\"color: #800000; text-decoration-color: #800000; font-weight: bold\"> No entry in quote with quote_compound=56187!</span>\n",
       "</pre>\n"
      ],
      "text/plain": [
       "\u001b[1;7;31m ERROR \u001b[0m\u001b[1;31m No entry in quote with quote_compound=56187!\u001b[0m\n"
      ]
     },
     "metadata": {},
     "output_type": "display_data"
    },
    {
     "data": {
      "text/html": [
       "<pre style=\"white-space:pre;overflow-x:auto;line-height:normal;font-family:Menlo,'DejaVu Sans Mono',consolas,'Courier New',monospace\"><span style=\"background-color: #800000; font-weight: bold\"> ERROR </span><span style=\"color: #800000; text-decoration-color: #800000; font-weight: bold\"> No entry in quote with quote_compound=56187!</span>\n",
       "</pre>\n"
      ],
      "text/plain": [
       "\u001b[1;7;31m ERROR \u001b[0m\u001b[1;31m No entry in quote with quote_compound=56187!\u001b[0m\n"
      ]
     },
     "metadata": {},
     "output_type": "display_data"
    },
    {
     "data": {
      "text/html": [
       "<pre style=\"white-space:pre;overflow-x:auto;line-height:normal;font-family:Menlo,'DejaVu Sans Mono',consolas,'Courier New',monospace\"><span style=\"background-color: #800000; font-weight: bold\"> ERROR </span><span style=\"color: #800000; text-decoration-color: #800000; font-weight: bold\"> No entry in quote with quote_compound=56187!</span>\n",
       "</pre>\n"
      ],
      "text/plain": [
       "\u001b[1;7;31m ERROR \u001b[0m\u001b[1;31m No entry in quote with quote_compound=56187!\u001b[0m\n"
      ]
     },
     "metadata": {},
     "output_type": "display_data"
    },
    {
     "data": {
      "text/html": [
       "<pre style=\"white-space:pre;overflow-x:auto;line-height:normal;font-family:Menlo,'DejaVu Sans Mono',consolas,'Courier New',monospace\"><span style=\"background-color: #800000; font-weight: bold\"> ERROR </span><span style=\"color: #800000; text-decoration-color: #800000; font-weight: bold\"> No entry in quote with quote_compound=56187!</span>\n",
       "</pre>\n"
      ],
      "text/plain": [
       "\u001b[1;7;31m ERROR \u001b[0m\u001b[1;31m No entry in quote with quote_compound=56187!\u001b[0m\n"
      ]
     },
     "metadata": {},
     "output_type": "display_data"
    },
    {
     "data": {
      "text/html": [
       "<pre style=\"white-space:pre;overflow-x:auto;line-height:normal;font-family:Menlo,'DejaVu Sans Mono',consolas,'Courier New',monospace\"><span style=\"background-color: #800000; font-weight: bold\"> ERROR </span><span style=\"color: #800000; text-decoration-color: #800000; font-weight: bold\"> No entry in quote with quote_compound=56187!</span>\n",
       "</pre>\n"
      ],
      "text/plain": [
       "\u001b[1;7;31m ERROR \u001b[0m\u001b[1;31m No entry in quote with quote_compound=56187!\u001b[0m\n"
      ]
     },
     "metadata": {},
     "output_type": "display_data"
    },
    {
     "data": {
      "text/html": [
       "<pre style=\"white-space:pre;overflow-x:auto;line-height:normal;font-family:Menlo,'DejaVu Sans Mono',consolas,'Courier New',monospace\"><span style=\"background-color: #800000; font-weight: bold\"> ERROR </span><span style=\"color: #800000; text-decoration-color: #800000; font-weight: bold\"> No entry in quote with quote_compound=194!</span>\n",
       "</pre>\n"
      ],
      "text/plain": [
       "\u001b[1;7;31m ERROR \u001b[0m\u001b[1;31m No entry in quote with quote_compound=194!\u001b[0m\n"
      ]
     },
     "metadata": {},
     "output_type": "display_data"
    },
    {
     "data": {
      "text/html": [
       "<pre style=\"white-space:pre;overflow-x:auto;line-height:normal;font-family:Menlo,'DejaVu Sans Mono',consolas,'Courier New',monospace\"><span style=\"background-color: #800000; font-weight: bold\"> ERROR </span><span style=\"color: #800000; text-decoration-color: #800000; font-weight: bold\"> No entry in quote with quote_compound=197!</span>\n",
       "</pre>\n"
      ],
      "text/plain": [
       "\u001b[1;7;31m ERROR \u001b[0m\u001b[1;31m No entry in quote with quote_compound=197!\u001b[0m\n"
      ]
     },
     "metadata": {},
     "output_type": "display_data"
    },
    {
     "data": {
      "text/html": [
       "<pre style=\"white-space:pre;overflow-x:auto;line-height:normal;font-family:Menlo,'DejaVu Sans Mono',consolas,'Courier New',monospace\"><span style=\"background-color: #800000; font-weight: bold\"> ERROR </span><span style=\"color: #800000; text-decoration-color: #800000; font-weight: bold\"> No entry in quote with quote_compound=91!</span>\n",
       "</pre>\n"
      ],
      "text/plain": [
       "\u001b[1;7;31m ERROR \u001b[0m\u001b[1;31m No entry in quote with quote_compound=91!\u001b[0m\n"
      ]
     },
     "metadata": {},
     "output_type": "display_data"
    },
    {
     "data": {
      "text/html": [
       "<pre style=\"white-space:pre;overflow-x:auto;line-height:normal;font-family:Menlo,'DejaVu Sans Mono',consolas,'Courier New',monospace\"><span style=\"background-color: #800000; font-weight: bold\"> ERROR </span><span style=\"color: #800000; text-decoration-color: #800000; font-weight: bold\"> No entry in quote with quote_compound=92!</span>\n",
       "</pre>\n"
      ],
      "text/plain": [
       "\u001b[1;7;31m ERROR \u001b[0m\u001b[1;31m No entry in quote with quote_compound=92!\u001b[0m\n"
      ]
     },
     "metadata": {},
     "output_type": "display_data"
    },
    {
     "data": {
      "text/html": [
       "<pre style=\"white-space:pre;overflow-x:auto;line-height:normal;font-family:Menlo,'DejaVu Sans Mono',consolas,'Courier New',monospace\"><span style=\"background-color: #800000; font-weight: bold\"> ERROR </span><span style=\"color: #800000; text-decoration-color: #800000; font-weight: bold\"> No entry in quote with quote_compound=73!</span>\n",
       "</pre>\n"
      ],
      "text/plain": [
       "\u001b[1;7;31m ERROR \u001b[0m\u001b[1;31m No entry in quote with quote_compound=73!\u001b[0m\n"
      ]
     },
     "metadata": {},
     "output_type": "display_data"
    },
    {
     "data": {
      "text/html": [
       "<pre style=\"white-space:pre;overflow-x:auto;line-height:normal;font-family:Menlo,'DejaVu Sans Mono',consolas,'Courier New',monospace\"><span style=\"background-color: #800000; font-weight: bold\"> ERROR </span><span style=\"color: #800000; text-decoration-color: #800000; font-weight: bold\"> No entry in quote with quote_compound=93!</span>\n",
       "</pre>\n"
      ],
      "text/plain": [
       "\u001b[1;7;31m ERROR \u001b[0m\u001b[1;31m No entry in quote with quote_compound=93!\u001b[0m\n"
      ]
     },
     "metadata": {},
     "output_type": "display_data"
    },
    {
     "data": {
      "text/html": [
       "<pre style=\"white-space:pre;overflow-x:auto;line-height:normal;font-family:Menlo,'DejaVu Sans Mono',consolas,'Courier New',monospace\"><span style=\"background-color: #800000; font-weight: bold\"> ERROR </span><span style=\"color: #800000; text-decoration-color: #800000; font-weight: bold\"> No entry in quote with quote_compound=94!</span>\n",
       "</pre>\n"
      ],
      "text/plain": [
       "\u001b[1;7;31m ERROR \u001b[0m\u001b[1;31m No entry in quote with quote_compound=94!\u001b[0m\n"
      ]
     },
     "metadata": {},
     "output_type": "display_data"
    },
    {
     "data": {
      "text/html": [
       "<pre style=\"white-space:pre;overflow-x:auto;line-height:normal;font-family:Menlo,'DejaVu Sans Mono',consolas,'Courier New',monospace\"><span style=\"background-color: #800000; font-weight: bold\"> ERROR </span><span style=\"color: #800000; text-decoration-color: #800000; font-weight: bold\"> No entry in quote with quote_compound=71592!</span>\n",
       "</pre>\n"
      ],
      "text/plain": [
       "\u001b[1;7;31m ERROR \u001b[0m\u001b[1;31m No entry in quote with quote_compound=71592!\u001b[0m\n"
      ]
     },
     "metadata": {},
     "output_type": "display_data"
    },
    {
     "data": {
      "text/html": [
       "<pre style=\"white-space:pre;overflow-x:auto;line-height:normal;font-family:Menlo,'DejaVu Sans Mono',consolas,'Courier New',monospace\"><span style=\"background-color: #800000; font-weight: bold\"> ERROR </span><span style=\"color: #800000; text-decoration-color: #800000; font-weight: bold\"> No entry in quote with quote_compound=236!</span>\n",
       "</pre>\n"
      ],
      "text/plain": [
       "\u001b[1;7;31m ERROR \u001b[0m\u001b[1;31m No entry in quote with quote_compound=236!\u001b[0m\n"
      ]
     },
     "metadata": {},
     "output_type": "display_data"
    },
    {
     "data": {
      "text/html": [
       "<pre style=\"white-space:pre;overflow-x:auto;line-height:normal;font-family:Menlo,'DejaVu Sans Mono',consolas,'Courier New',monospace\"><span style=\"background-color: #800000; font-weight: bold\"> ERROR </span><span style=\"color: #800000; text-decoration-color: #800000; font-weight: bold\"> No entry in quote with quote_compound=237!</span>\n",
       "</pre>\n"
      ],
      "text/plain": [
       "\u001b[1;7;31m ERROR \u001b[0m\u001b[1;31m No entry in quote with quote_compound=237!\u001b[0m\n"
      ]
     },
     "metadata": {},
     "output_type": "display_data"
    },
    {
     "data": {
      "text/html": [
       "<pre style=\"white-space:pre;overflow-x:auto;line-height:normal;font-family:Menlo,'DejaVu Sans Mono',consolas,'Courier New',monospace\"><span style=\"background-color: #800000; font-weight: bold\"> ERROR </span><span style=\"color: #800000; text-decoration-color: #800000; font-weight: bold\"> No entry in quote with quote_compound=74041!</span>\n",
       "</pre>\n"
      ],
      "text/plain": [
       "\u001b[1;7;31m ERROR \u001b[0m\u001b[1;31m No entry in quote with quote_compound=74041!\u001b[0m\n"
      ]
     },
     "metadata": {},
     "output_type": "display_data"
    },
    {
     "data": {
      "text/html": [
       "<pre style=\"white-space:pre;overflow-x:auto;line-height:normal;font-family:Menlo,'DejaVu Sans Mono',consolas,'Courier New',monospace\"><span style=\"background-color: #800000; font-weight: bold\"> ERROR </span><span style=\"color: #800000; text-decoration-color: #800000; font-weight: bold\"> No entry in quote with quote_compound=238!</span>\n",
       "</pre>\n"
      ],
      "text/plain": [
       "\u001b[1;7;31m ERROR \u001b[0m\u001b[1;31m No entry in quote with quote_compound=238!\u001b[0m\n"
      ]
     },
     "metadata": {},
     "output_type": "display_data"
    },
    {
     "data": {
      "text/html": [
       "<pre style=\"white-space:pre;overflow-x:auto;line-height:normal;font-family:Menlo,'DejaVu Sans Mono',consolas,'Courier New',monospace\"><span style=\"background-color: #800000; font-weight: bold\"> ERROR </span><span style=\"color: #800000; text-decoration-color: #800000; font-weight: bold\"> No entry in quote with quote_compound=74058!</span>\n",
       "</pre>\n"
      ],
      "text/plain": [
       "\u001b[1;7;31m ERROR \u001b[0m\u001b[1;31m No entry in quote with quote_compound=74058!\u001b[0m\n"
      ]
     },
     "metadata": {},
     "output_type": "display_data"
    },
    {
     "data": {
      "text/html": [
       "<pre style=\"white-space:pre;overflow-x:auto;line-height:normal;font-family:Menlo,'DejaVu Sans Mono',consolas,'Courier New',monospace\"><span style=\"background-color: #800000; font-weight: bold\"> ERROR </span><span style=\"color: #800000; text-decoration-color: #800000; font-weight: bold\"> No entry in quote with quote_compound=95!</span>\n",
       "</pre>\n"
      ],
      "text/plain": [
       "\u001b[1;7;31m ERROR \u001b[0m\u001b[1;31m No entry in quote with quote_compound=95!\u001b[0m\n"
      ]
     },
     "metadata": {},
     "output_type": "display_data"
    },
    {
     "data": {
      "text/html": [
       "<pre style=\"white-space:pre;overflow-x:auto;line-height:normal;font-family:Menlo,'DejaVu Sans Mono',consolas,'Courier New',monospace\"><span style=\"background-color: #800000; font-weight: bold\"> ERROR </span><span style=\"color: #800000; text-decoration-color: #800000; font-weight: bold\"> No entry in quote with quote_compound=75662!</span>\n",
       "</pre>\n"
      ],
      "text/plain": [
       "\u001b[1;7;31m ERROR \u001b[0m\u001b[1;31m No entry in quote with quote_compound=75662!\u001b[0m\n"
      ]
     },
     "metadata": {},
     "output_type": "display_data"
    },
    {
     "data": {
      "text/html": [
       "<pre style=\"white-space:pre;overflow-x:auto;line-height:normal;font-family:Menlo,'DejaVu Sans Mono',consolas,'Courier New',monospace\"><span style=\"background-color: #800000; font-weight: bold\"> ERROR </span><span style=\"color: #800000; text-decoration-color: #800000; font-weight: bold\"> No entry in quote with quote_compound=204!</span>\n",
       "</pre>\n"
      ],
      "text/plain": [
       "\u001b[1;7;31m ERROR \u001b[0m\u001b[1;31m No entry in quote with quote_compound=204!\u001b[0m\n"
      ]
     },
     "metadata": {},
     "output_type": "display_data"
    },
    {
     "data": {
      "text/html": [
       "<pre style=\"white-space:pre;overflow-x:auto;line-height:normal;font-family:Menlo,'DejaVu Sans Mono',consolas,'Courier New',monospace\"><span style=\"background-color: #800000; font-weight: bold\"> ERROR </span><span style=\"color: #800000; text-decoration-color: #800000; font-weight: bold\"> No entry in quote with quote_compound=203!</span>\n",
       "</pre>\n"
      ],
      "text/plain": [
       "\u001b[1;7;31m ERROR \u001b[0m\u001b[1;31m No entry in quote with quote_compound=203!\u001b[0m\n"
      ]
     },
     "metadata": {},
     "output_type": "display_data"
    },
    {
     "data": {
      "text/html": [
       "<pre style=\"white-space:pre;overflow-x:auto;line-height:normal;font-family:Menlo,'DejaVu Sans Mono',consolas,'Courier New',monospace\"><span style=\"background-color: #800000; font-weight: bold\"> ERROR </span><span style=\"color: #800000; text-decoration-color: #800000; font-weight: bold\"> No entry in quote with quote_compound=79457!</span>\n",
       "</pre>\n"
      ],
      "text/plain": [
       "\u001b[1;7;31m ERROR \u001b[0m\u001b[1;31m No entry in quote with quote_compound=79457!\u001b[0m\n"
      ]
     },
     "metadata": {},
     "output_type": "display_data"
    },
    {
     "data": {
      "text/html": [
       "<pre style=\"white-space:pre;overflow-x:auto;line-height:normal;font-family:Menlo,'DejaVu Sans Mono',consolas,'Courier New',monospace\"><span style=\"background-color: #800000; font-weight: bold\"> ERROR </span><span style=\"color: #800000; text-decoration-color: #800000; font-weight: bold\"> No entry in quote with quote_compound=240!</span>\n",
       "</pre>\n"
      ],
      "text/plain": [
       "\u001b[1;7;31m ERROR \u001b[0m\u001b[1;31m No entry in quote with quote_compound=240!\u001b[0m\n"
      ]
     },
     "metadata": {},
     "output_type": "display_data"
    },
    {
     "data": {
      "text/html": [
       "<pre style=\"white-space:pre;overflow-x:auto;line-height:normal;font-family:Menlo,'DejaVu Sans Mono',consolas,'Courier New',monospace\"><span style=\"background-color: #800000; font-weight: bold\"> ERROR </span><span style=\"color: #800000; text-decoration-color: #800000; font-weight: bold\"> No entry in quote with quote_compound=241!</span>\n",
       "</pre>\n"
      ],
      "text/plain": [
       "\u001b[1;7;31m ERROR \u001b[0m\u001b[1;31m No entry in quote with quote_compound=241!\u001b[0m\n"
      ]
     },
     "metadata": {},
     "output_type": "display_data"
    },
    {
     "data": {
      "text/html": [
       "<pre style=\"white-space:pre;overflow-x:auto;line-height:normal;font-family:Menlo,'DejaVu Sans Mono',consolas,'Courier New',monospace\"><span style=\"background-color: #800000; font-weight: bold\"> ERROR </span><span style=\"color: #800000; text-decoration-color: #800000; font-weight: bold\"> No entry in quote with quote_compound=87346!</span>\n",
       "</pre>\n"
      ],
      "text/plain": [
       "\u001b[1;7;31m ERROR \u001b[0m\u001b[1;31m No entry in quote with quote_compound=87346!\u001b[0m\n"
      ]
     },
     "metadata": {},
     "output_type": "display_data"
    },
    {
     "data": {
      "text/html": [
       "<pre style=\"white-space:pre;overflow-x:auto;line-height:normal;font-family:Menlo,'DejaVu Sans Mono',consolas,'Courier New',monospace\"><span style=\"background-color: #800000; font-weight: bold\"> ERROR </span><span style=\"color: #800000; text-decoration-color: #800000; font-weight: bold\"> No entry in quote with quote_compound=240!</span>\n",
       "</pre>\n"
      ],
      "text/plain": [
       "\u001b[1;7;31m ERROR \u001b[0m\u001b[1;31m No entry in quote with quote_compound=240!\u001b[0m\n"
      ]
     },
     "metadata": {},
     "output_type": "display_data"
    },
    {
     "data": {
      "text/html": [
       "<pre style=\"white-space:pre;overflow-x:auto;line-height:normal;font-family:Menlo,'DejaVu Sans Mono',consolas,'Courier New',monospace\"><span style=\"background-color: #800000; font-weight: bold\"> ERROR </span><span style=\"color: #800000; text-decoration-color: #800000; font-weight: bold\"> No entry in quote with quote_compound=87346!</span>\n",
       "</pre>\n"
      ],
      "text/plain": [
       "\u001b[1;7;31m ERROR \u001b[0m\u001b[1;31m No entry in quote with quote_compound=87346!\u001b[0m\n"
      ]
     },
     "metadata": {},
     "output_type": "display_data"
    },
    {
     "data": {
      "text/html": [
       "<pre style=\"white-space:pre;overflow-x:auto;line-height:normal;font-family:Menlo,'DejaVu Sans Mono',consolas,'Courier New',monospace\"><span style=\"background-color: #800000; font-weight: bold\"> ERROR </span><span style=\"color: #800000; text-decoration-color: #800000; font-weight: bold\"> No entry in quote with quote_compound=93!</span>\n",
       "</pre>\n"
      ],
      "text/plain": [
       "\u001b[1;7;31m ERROR \u001b[0m\u001b[1;31m No entry in quote with quote_compound=93!\u001b[0m\n"
      ]
     },
     "metadata": {},
     "output_type": "display_data"
    },
    {
     "data": {
      "text/html": [
       "<pre style=\"white-space:pre;overflow-x:auto;line-height:normal;font-family:Menlo,'DejaVu Sans Mono',consolas,'Courier New',monospace\"><span style=\"background-color: #800000; font-weight: bold\"> ERROR </span><span style=\"color: #800000; text-decoration-color: #800000; font-weight: bold\"> No entry in quote with quote_compound=87346!</span>\n",
       "</pre>\n"
      ],
      "text/plain": [
       "\u001b[1;7;31m ERROR \u001b[0m\u001b[1;31m No entry in quote with quote_compound=87346!\u001b[0m\n"
      ]
     },
     "metadata": {},
     "output_type": "display_data"
    },
    {
     "data": {
      "text/html": [
       "<pre style=\"white-space:pre;overflow-x:auto;line-height:normal;font-family:Menlo,'DejaVu Sans Mono',consolas,'Courier New',monospace\"><span style=\"background-color: #800000; font-weight: bold\"> ERROR </span><span style=\"color: #800000; text-decoration-color: #800000; font-weight: bold\"> No entry in quote with quote_compound=236!</span>\n",
       "</pre>\n"
      ],
      "text/plain": [
       "\u001b[1;7;31m ERROR \u001b[0m\u001b[1;31m No entry in quote with quote_compound=236!\u001b[0m\n"
      ]
     },
     "metadata": {},
     "output_type": "display_data"
    },
    {
     "data": {
      "text/html": [
       "<pre style=\"white-space:pre;overflow-x:auto;line-height:normal;font-family:Menlo,'DejaVu Sans Mono',consolas,'Courier New',monospace\"><span style=\"background-color: #800000; font-weight: bold\"> ERROR </span><span style=\"color: #800000; text-decoration-color: #800000; font-weight: bold\"> No entry in quote with quote_compound=87346!</span>\n",
       "</pre>\n"
      ],
      "text/plain": [
       "\u001b[1;7;31m ERROR \u001b[0m\u001b[1;31m No entry in quote with quote_compound=87346!\u001b[0m\n"
      ]
     },
     "metadata": {},
     "output_type": "display_data"
    },
    {
     "data": {
      "text/html": [
       "<pre style=\"white-space:pre;overflow-x:auto;line-height:normal;font-family:Menlo,'DejaVu Sans Mono',consolas,'Courier New',monospace\"><span style=\"background-color: #800000; font-weight: bold\"> ERROR </span><span style=\"color: #800000; text-decoration-color: #800000; font-weight: bold\"> No entry in quote with quote_compound=242!</span>\n",
       "</pre>\n"
      ],
      "text/plain": [
       "\u001b[1;7;31m ERROR \u001b[0m\u001b[1;31m No entry in quote with quote_compound=242!\u001b[0m\n"
      ]
     },
     "metadata": {},
     "output_type": "display_data"
    },
    {
     "data": {
      "text/html": [
       "<pre style=\"white-space:pre;overflow-x:auto;line-height:normal;font-family:Menlo,'DejaVu Sans Mono',consolas,'Courier New',monospace\"><span style=\"background-color: #800000; font-weight: bold\"> ERROR </span><span style=\"color: #800000; text-decoration-color: #800000; font-weight: bold\"> No entry in quote with quote_compound=244!</span>\n",
       "</pre>\n"
      ],
      "text/plain": [
       "\u001b[1;7;31m ERROR \u001b[0m\u001b[1;31m No entry in quote with quote_compound=244!\u001b[0m\n"
      ]
     },
     "metadata": {},
     "output_type": "display_data"
    },
    {
     "data": {
      "text/html": [
       "<pre style=\"white-space:pre;overflow-x:auto;line-height:normal;font-family:Menlo,'DejaVu Sans Mono',consolas,'Courier New',monospace\"><span style=\"background-color: #800000; font-weight: bold\"> ERROR </span><span style=\"color: #800000; text-decoration-color: #800000; font-weight: bold\"> No entry in quote with quote_compound=93285!</span>\n",
       "</pre>\n"
      ],
      "text/plain": [
       "\u001b[1;7;31m ERROR \u001b[0m\u001b[1;31m No entry in quote with quote_compound=93285!\u001b[0m\n"
      ]
     },
     "metadata": {},
     "output_type": "display_data"
    },
    {
     "data": {
      "text/html": [
       "<pre style=\"white-space:pre;overflow-x:auto;line-height:normal;font-family:Menlo,'DejaVu Sans Mono',consolas,'Courier New',monospace\"><span style=\"background-color: #800000; font-weight: bold\"> ERROR </span><span style=\"color: #800000; text-decoration-color: #800000; font-weight: bold\"> No entry in quote with quote_compound=243!</span>\n",
       "</pre>\n"
      ],
      "text/plain": [
       "\u001b[1;7;31m ERROR \u001b[0m\u001b[1;31m No entry in quote with quote_compound=243!\u001b[0m\n"
      ]
     },
     "metadata": {},
     "output_type": "display_data"
    },
    {
     "data": {
      "text/html": [
       "<pre style=\"white-space:pre;overflow-x:auto;line-height:normal;font-family:Menlo,'DejaVu Sans Mono',consolas,'Courier New',monospace\"><span style=\"background-color: #800000; font-weight: bold\"> ERROR </span><span style=\"color: #800000; text-decoration-color: #800000; font-weight: bold\"> No entry in quote with quote_compound=245!</span>\n",
       "</pre>\n"
      ],
      "text/plain": [
       "\u001b[1;7;31m ERROR \u001b[0m\u001b[1;31m No entry in quote with quote_compound=245!\u001b[0m\n"
      ]
     },
     "metadata": {},
     "output_type": "display_data"
    },
    {
     "data": {
      "text/html": [
       "<pre style=\"white-space:pre;overflow-x:auto;line-height:normal;font-family:Menlo,'DejaVu Sans Mono',consolas,'Courier New',monospace\"><span style=\"background-color: #800000; font-weight: bold\"> ERROR </span><span style=\"color: #800000; text-decoration-color: #800000; font-weight: bold\"> No entry in quote with quote_compound=99711!</span>\n",
       "</pre>\n"
      ],
      "text/plain": [
       "\u001b[1;7;31m ERROR \u001b[0m\u001b[1;31m No entry in quote with quote_compound=99711!\u001b[0m\n"
      ]
     },
     "metadata": {},
     "output_type": "display_data"
    },
    {
     "data": {
      "text/html": [
       "<pre style=\"white-space:pre;overflow-x:auto;line-height:normal;font-family:Menlo,'DejaVu Sans Mono',consolas,'Courier New',monospace\"><span style=\"background-color: #800000; font-weight: bold\"> ERROR </span><span style=\"color: #800000; text-decoration-color: #800000; font-weight: bold\"> No entry in quote with quote_compound=199!</span>\n",
       "</pre>\n"
      ],
      "text/plain": [
       "\u001b[1;7;31m ERROR \u001b[0m\u001b[1;31m No entry in quote with quote_compound=199!\u001b[0m\n"
      ]
     },
     "metadata": {},
     "output_type": "display_data"
    },
    {
     "data": {
      "text/html": [
       "<pre style=\"white-space:pre;overflow-x:auto;line-height:normal;font-family:Menlo,'DejaVu Sans Mono',consolas,'Courier New',monospace\"><span style=\"background-color: #800000; font-weight: bold\"> ERROR </span><span style=\"color: #800000; text-decoration-color: #800000; font-weight: bold\"> No entry in quote with quote_compound=198!</span>\n",
       "</pre>\n"
      ],
      "text/plain": [
       "\u001b[1;7;31m ERROR \u001b[0m\u001b[1;31m No entry in quote with quote_compound=198!\u001b[0m\n"
      ]
     },
     "metadata": {},
     "output_type": "display_data"
    },
    {
     "data": {
      "text/html": [
       "<pre style=\"white-space:pre;overflow-x:auto;line-height:normal;font-family:Menlo,'DejaVu Sans Mono',consolas,'Courier New',monospace\"><span style=\"background-color: #800000; font-weight: bold\"> ERROR </span><span style=\"color: #800000; text-decoration-color: #800000; font-weight: bold\"> No entry in quote with quote_compound=209!</span>\n",
       "</pre>\n"
      ],
      "text/plain": [
       "\u001b[1;7;31m ERROR \u001b[0m\u001b[1;31m No entry in quote with quote_compound=209!\u001b[0m\n"
      ]
     },
     "metadata": {},
     "output_type": "display_data"
    },
    {
     "data": {
      "text/html": [
       "<pre style=\"white-space:pre;overflow-x:auto;line-height:normal;font-family:Menlo,'DejaVu Sans Mono',consolas,'Courier New',monospace\"><span style=\"background-color: #800000; font-weight: bold\"> ERROR </span><span style=\"color: #800000; text-decoration-color: #800000; font-weight: bold\"> No entry in quote with quote_compound=16082!</span>\n",
       "</pre>\n"
      ],
      "text/plain": [
       "\u001b[1;7;31m ERROR \u001b[0m\u001b[1;31m No entry in quote with quote_compound=16082!\u001b[0m\n"
      ]
     },
     "metadata": {},
     "output_type": "display_data"
    },
    {
     "data": {
      "text/html": [
       "<pre style=\"white-space:pre;overflow-x:auto;line-height:normal;font-family:Menlo,'DejaVu Sans Mono',consolas,'Courier New',monospace\"><span style=\"background-color: #800000; font-weight: bold\"> ERROR </span><span style=\"color: #800000; text-decoration-color: #800000; font-weight: bold\"> No entry in quote with quote_compound=113941!</span>\n",
       "</pre>\n"
      ],
      "text/plain": [
       "\u001b[1;7;31m ERROR \u001b[0m\u001b[1;31m No entry in quote with quote_compound=113941!\u001b[0m\n"
      ]
     },
     "metadata": {},
     "output_type": "display_data"
    },
    {
     "data": {
      "text/html": [
       "<pre style=\"white-space:pre;overflow-x:auto;line-height:normal;font-family:Menlo,'DejaVu Sans Mono',consolas,'Courier New',monospace\"><span style=\"background-color: #800000; font-weight: bold\"> ERROR </span><span style=\"color: #800000; text-decoration-color: #800000; font-weight: bold\"> No entry in quote with quote_compound=211!</span>\n",
       "</pre>\n"
      ],
      "text/plain": [
       "\u001b[1;7;31m ERROR \u001b[0m\u001b[1;31m No entry in quote with quote_compound=211!\u001b[0m\n"
      ]
     },
     "metadata": {},
     "output_type": "display_data"
    },
    {
     "data": {
      "text/html": [
       "<pre style=\"white-space:pre;overflow-x:auto;line-height:normal;font-family:Menlo,'DejaVu Sans Mono',consolas,'Courier New',monospace\"><span style=\"background-color: #800000; font-weight: bold\"> ERROR </span><span style=\"color: #800000; text-decoration-color: #800000; font-weight: bold\"> No entry in quote with quote_compound=214!</span>\n",
       "</pre>\n"
      ],
      "text/plain": [
       "\u001b[1;7;31m ERROR \u001b[0m\u001b[1;31m No entry in quote with quote_compound=214!\u001b[0m\n"
      ]
     },
     "metadata": {},
     "output_type": "display_data"
    },
    {
     "data": {
      "text/html": [
       "<pre style=\"white-space:pre;overflow-x:auto;line-height:normal;font-family:Menlo,'DejaVu Sans Mono',consolas,'Courier New',monospace\"><span style=\"background-color: #800000; font-weight: bold\"> ERROR </span><span style=\"color: #800000; text-decoration-color: #800000; font-weight: bold\"> No entry in quote with quote_compound=119347!</span>\n",
       "</pre>\n"
      ],
      "text/plain": [
       "\u001b[1;7;31m ERROR \u001b[0m\u001b[1;31m No entry in quote with quote_compound=119347!\u001b[0m\n"
      ]
     },
     "metadata": {},
     "output_type": "display_data"
    },
    {
     "data": {
      "text/html": [
       "<pre style=\"white-space:pre;overflow-x:auto;line-height:normal;font-family:Menlo,'DejaVu Sans Mono',consolas,'Courier New',monospace\"></pre>\n"
      ],
      "text/plain": []
     },
     "metadata": {},
     "output_type": "display_data"
    },
    {
     "data": {
      "text/html": [
       "<pre style=\"white-space:pre;overflow-x:auto;line-height:normal;font-family:Menlo,'DejaVu Sans Mono',consolas,'Courier New',monospace\"><span style=\"background-color: #d7af00; font-weight: bold\"> DISK </span> Writing <span style=\"color: #d7af00; text-decoration-color: #d7af00\">/opt/xchem-fragalysis-2/maxwin/2A_HIPPO/hippo/all_scaffold_CAR_1steps.csv</span>...\n",
       "</pre>\n"
      ],
      "text/plain": [
       "\u001b[1;7;38;5;178m DISK \u001b[0m Writing \u001b[38;5;178m/opt/xchem-fragalysis-2/maxwin/2A_HIPPO/hippo/all_scaffold_CAR_1steps.csv\u001b[0m...\n"
      ]
     },
     "metadata": {},
     "output_type": "display_data"
    },
    {
     "data": {
      "text/html": [
       "<pre style=\"white-space:pre;overflow-x:auto;line-height:normal;font-family:Menlo,'DejaVu Sans Mono',consolas,'Courier New',monospace\"><span style=\"background-color: #d7af00; font-weight: bold\"> DISK </span> Writing <span style=\"color: #d7af00; text-decoration-color: #d7af00\">/opt/xchem-fragalysis-2/maxwin/2A_HIPPO/hippo/all_scaffold_CAR_3steps.csv</span>...\n",
       "</pre>\n"
      ],
      "text/plain": [
       "\u001b[1;7;38;5;178m DISK \u001b[0m Writing \u001b[38;5;178m/opt/xchem-fragalysis-2/maxwin/2A_HIPPO/hippo/all_scaffold_CAR_3steps.csv\u001b[0m...\n"
      ]
     },
     "metadata": {},
     "output_type": "display_data"
    },
    {
     "data": {
      "text/html": [
       "<pre style=\"white-space:pre;overflow-x:auto;line-height:normal;font-family:Menlo,'DejaVu Sans Mono',consolas,'Courier New',monospace\"><span style=\"background-color: #d7af00; font-weight: bold\"> DISK </span> Writing <span style=\"color: #d7af00; text-decoration-color: #d7af00\">/opt/xchem-fragalysis-2/maxwin/2A_HIPPO/hippo/all_scaffold_CAR_4steps.csv</span>...\n",
       "</pre>\n"
      ],
      "text/plain": [
       "\u001b[1;7;38;5;178m DISK \u001b[0m Writing \u001b[38;5;178m/opt/xchem-fragalysis-2/maxwin/2A_HIPPO/hippo/all_scaffold_CAR_4steps.csv\u001b[0m...\n"
      ]
     },
     "metadata": {},
     "output_type": "display_data"
    },
    {
     "data": {
      "text/html": [
       "<pre style=\"white-space:pre;overflow-x:auto;line-height:normal;font-family:Menlo,'DejaVu Sans Mono',consolas,'Courier New',monospace\"><span style=\"background-color: #d7af00; font-weight: bold\"> DISK </span> Writing <span style=\"color: #d7af00; text-decoration-color: #d7af00\">/opt/xchem-fragalysis-2/maxwin/2A_HIPPO/hippo/all_scaffold_CAR.csv</span>...\n",
       "</pre>\n"
      ],
      "text/plain": [
       "\u001b[1;7;38;5;178m DISK \u001b[0m Writing \u001b[38;5;178m/opt/xchem-fragalysis-2/maxwin/2A_HIPPO/hippo/all_scaffold_CAR.csv\u001b[0m...\n"
      ]
     },
     "metadata": {},
     "output_type": "display_data"
    },
    {
     "data": {
      "text/html": [
       "<div>\n",
       "<style scoped>\n",
       "    .dataframe tbody tr th:only-of-type {\n",
       "        vertical-align: middle;\n",
       "    }\n",
       "\n",
       "    .dataframe tbody tr th {\n",
       "        vertical-align: top;\n",
       "    }\n",
       "\n",
       "    .dataframe thead th {\n",
       "        text-align: right;\n",
       "    }\n",
       "</style>\n",
       "<table border=\"1\" class=\"dataframe\">\n",
       "  <thead>\n",
       "    <tr style=\"text-align: right;\">\n",
       "      <th></th>\n",
       "      <th>target-names</th>\n",
       "      <th>no-steps</th>\n",
       "      <th>concentration-required-mM</th>\n",
       "      <th>amount-required-uL</th>\n",
       "      <th>batch-tag</th>\n",
       "      <th>reactant-1-1</th>\n",
       "      <th>reactant-2-1</th>\n",
       "      <th>reaction-product-smiles-1</th>\n",
       "      <th>reaction-name-1</th>\n",
       "      <th>reaction-recipe-1</th>\n",
       "      <th>...</th>\n",
       "      <th>reaction-product-smiles-3</th>\n",
       "      <th>reaction-name-3</th>\n",
       "      <th>reaction-recipe-3</th>\n",
       "      <th>reaction-groupby-column-3</th>\n",
       "      <th>reactant-1-4</th>\n",
       "      <th>reactant-2-4</th>\n",
       "      <th>reaction-product-smiles-4</th>\n",
       "      <th>reaction-name-4</th>\n",
       "      <th>reaction-recipe-4</th>\n",
       "      <th>reaction-groupby-column-4</th>\n",
       "    </tr>\n",
       "  </thead>\n",
       "  <tbody>\n",
       "    <tr>\n",
       "      <th>0</th>\n",
       "      <td>C133</td>\n",
       "      <td>3</td>\n",
       "      <td>None</td>\n",
       "      <td>None</td>\n",
       "      <td>None</td>\n",
       "      <td>O=C(O)Cc1cnnc(Cl)c1</td>\n",
       "      <td>CC(N)=O</td>\n",
       "      <td>CC(=O)Nc1cc(CC(=O)O)cnn1</td>\n",
       "      <td>Buchwald-Hartwig_amidation_with_amide-like_nuc...</td>\n",
       "      <td>None</td>\n",
       "      <td>...</td>\n",
       "      <td>CC(=O)Nc1cc(CC(=O)NC(CNC(=O)CCl)c2ccc3ccccc3c2...</td>\n",
       "      <td>Amidation</td>\n",
       "      <td>&lt;NA&gt;</td>\n",
       "      <td>&lt;NA&gt;</td>\n",
       "      <td>&lt;NA&gt;</td>\n",
       "      <td>&lt;NA&gt;</td>\n",
       "      <td>&lt;NA&gt;</td>\n",
       "      <td>&lt;NA&gt;</td>\n",
       "      <td>&lt;NA&gt;</td>\n",
       "      <td>&lt;NA&gt;</td>\n",
       "    </tr>\n",
       "    <tr>\n",
       "      <th>1</th>\n",
       "      <td>C134</td>\n",
       "      <td>3</td>\n",
       "      <td>None</td>\n",
       "      <td>None</td>\n",
       "      <td>None</td>\n",
       "      <td>NCC(N)c1ccc2ccccc2c1</td>\n",
       "      <td>O=C(O)CCl</td>\n",
       "      <td>NC(CNC(=O)CCl)c1ccc2ccccc2c1</td>\n",
       "      <td>Amidation</td>\n",
       "      <td>None</td>\n",
       "      <td>...</td>\n",
       "      <td>CC(=O)Nc1c(CC(=O)NC(CNC(=O)CCl)c2ccc3ccccc3c2)...</td>\n",
       "      <td>Buchwald-Hartwig_amidation_with_amide-like_nuc...</td>\n",
       "      <td>&lt;NA&gt;</td>\n",
       "      <td>&lt;NA&gt;</td>\n",
       "      <td>&lt;NA&gt;</td>\n",
       "      <td>&lt;NA&gt;</td>\n",
       "      <td>&lt;NA&gt;</td>\n",
       "      <td>&lt;NA&gt;</td>\n",
       "      <td>&lt;NA&gt;</td>\n",
       "      <td>&lt;NA&gt;</td>\n",
       "    </tr>\n",
       "    <tr>\n",
       "      <th>2</th>\n",
       "      <td>C135</td>\n",
       "      <td>3</td>\n",
       "      <td>None</td>\n",
       "      <td>None</td>\n",
       "      <td>None</td>\n",
       "      <td>O=C(O)Cc1cnnc(Cl)c1</td>\n",
       "      <td>CC(N)=O</td>\n",
       "      <td>CC(=O)Nc1cc(CC(=O)O)cnn1</td>\n",
       "      <td>Buchwald-Hartwig_amidation_with_amide-like_nuc...</td>\n",
       "      <td>None</td>\n",
       "      <td>...</td>\n",
       "      <td>CC(=O)Nc1cc(CC(=O)NC(CNC(=O)CCl)c2cccnc2)cnn1</td>\n",
       "      <td>Amidation</td>\n",
       "      <td>&lt;NA&gt;</td>\n",
       "      <td>&lt;NA&gt;</td>\n",
       "      <td>&lt;NA&gt;</td>\n",
       "      <td>&lt;NA&gt;</td>\n",
       "      <td>&lt;NA&gt;</td>\n",
       "      <td>&lt;NA&gt;</td>\n",
       "      <td>&lt;NA&gt;</td>\n",
       "      <td>&lt;NA&gt;</td>\n",
       "    </tr>\n",
       "    <tr>\n",
       "      <th>3</th>\n",
       "      <td>C136</td>\n",
       "      <td>3</td>\n",
       "      <td>None</td>\n",
       "      <td>None</td>\n",
       "      <td>None</td>\n",
       "      <td>O=C(O)CCl</td>\n",
       "      <td>NCC(N)c1cccnc1</td>\n",
       "      <td>NC(CNC(=O)CCl)c1cccnc1</td>\n",
       "      <td>Amidation</td>\n",
       "      <td>None</td>\n",
       "      <td>...</td>\n",
       "      <td>CC(=O)Nc1c(CC(=O)NC(CNC(=O)CCl)c2cccnc2)c(C)nn1C</td>\n",
       "      <td>Sp3-sp2_Suzuki_coupling</td>\n",
       "      <td>&lt;NA&gt;</td>\n",
       "      <td>&lt;NA&gt;</td>\n",
       "      <td>&lt;NA&gt;</td>\n",
       "      <td>&lt;NA&gt;</td>\n",
       "      <td>&lt;NA&gt;</td>\n",
       "      <td>&lt;NA&gt;</td>\n",
       "      <td>&lt;NA&gt;</td>\n",
       "      <td>&lt;NA&gt;</td>\n",
       "    </tr>\n",
       "    <tr>\n",
       "      <th>4</th>\n",
       "      <td>C136</td>\n",
       "      <td>3</td>\n",
       "      <td>None</td>\n",
       "      <td>None</td>\n",
       "      <td>None</td>\n",
       "      <td>NCC(N)c1cccnc1</td>\n",
       "      <td>O=C(O)CB(O)O</td>\n",
       "      <td>NCC(NC(=O)CB(O)O)c1cccnc1</td>\n",
       "      <td>Amidation</td>\n",
       "      <td>None</td>\n",
       "      <td>...</td>\n",
       "      <td>CC(=O)Nc1c(CC(=O)NC(CNC(=O)CCl)c2cccnc2)c(C)nn1C</td>\n",
       "      <td>Sp3-sp2_Suzuki_coupling</td>\n",
       "      <td>&lt;NA&gt;</td>\n",
       "      <td>&lt;NA&gt;</td>\n",
       "      <td>&lt;NA&gt;</td>\n",
       "      <td>&lt;NA&gt;</td>\n",
       "      <td>&lt;NA&gt;</td>\n",
       "      <td>&lt;NA&gt;</td>\n",
       "      <td>&lt;NA&gt;</td>\n",
       "      <td>&lt;NA&gt;</td>\n",
       "    </tr>\n",
       "    <tr>\n",
       "      <th>...</th>\n",
       "      <td>...</td>\n",
       "      <td>...</td>\n",
       "      <td>...</td>\n",
       "      <td>...</td>\n",
       "      <td>...</td>\n",
       "      <td>...</td>\n",
       "      <td>...</td>\n",
       "      <td>...</td>\n",
       "      <td>...</td>\n",
       "      <td>...</td>\n",
       "      <td>...</td>\n",
       "      <td>...</td>\n",
       "      <td>...</td>\n",
       "      <td>...</td>\n",
       "      <td>...</td>\n",
       "      <td>...</td>\n",
       "      <td>...</td>\n",
       "      <td>...</td>\n",
       "      <td>...</td>\n",
       "      <td>...</td>\n",
       "      <td>...</td>\n",
       "    </tr>\n",
       "    <tr>\n",
       "      <th>61</th>\n",
       "      <td>C199</td>\n",
       "      <td>1</td>\n",
       "      <td>None</td>\n",
       "      <td>None</td>\n",
       "      <td>None</td>\n",
       "      <td>O=C(O)c1cc2ccsc2[nH]1</td>\n",
       "      <td>NC1CC(C(F)(F)F)C1</td>\n",
       "      <td>O=C(NC1CC(C(F)(F)F)C1)c1cc2ccsc2[nH]1</td>\n",
       "      <td>Amidation</td>\n",
       "      <td>None</td>\n",
       "      <td>...</td>\n",
       "      <td>&lt;NA&gt;</td>\n",
       "      <td>&lt;NA&gt;</td>\n",
       "      <td>&lt;NA&gt;</td>\n",
       "      <td>&lt;NA&gt;</td>\n",
       "      <td>&lt;NA&gt;</td>\n",
       "      <td>&lt;NA&gt;</td>\n",
       "      <td>&lt;NA&gt;</td>\n",
       "      <td>&lt;NA&gt;</td>\n",
       "      <td>&lt;NA&gt;</td>\n",
       "      <td>&lt;NA&gt;</td>\n",
       "    </tr>\n",
       "    <tr>\n",
       "      <th>62</th>\n",
       "      <td>C198</td>\n",
       "      <td>1</td>\n",
       "      <td>None</td>\n",
       "      <td>None</td>\n",
       "      <td>None</td>\n",
       "      <td>O=C(O)C12CCC(CO1)C2</td>\n",
       "      <td>NC(=O)c1cc(N)[nH]n1</td>\n",
       "      <td>NC(=O)c1cc(NC(=O)C23CCC(CO2)C3)[nH]n1</td>\n",
       "      <td>Amidation</td>\n",
       "      <td>None</td>\n",
       "      <td>...</td>\n",
       "      <td>&lt;NA&gt;</td>\n",
       "      <td>&lt;NA&gt;</td>\n",
       "      <td>&lt;NA&gt;</td>\n",
       "      <td>&lt;NA&gt;</td>\n",
       "      <td>&lt;NA&gt;</td>\n",
       "      <td>&lt;NA&gt;</td>\n",
       "      <td>&lt;NA&gt;</td>\n",
       "      <td>&lt;NA&gt;</td>\n",
       "      <td>&lt;NA&gt;</td>\n",
       "      <td>&lt;NA&gt;</td>\n",
       "    </tr>\n",
       "    <tr>\n",
       "      <th>63</th>\n",
       "      <td>C209</td>\n",
       "      <td>1</td>\n",
       "      <td>None</td>\n",
       "      <td>None</td>\n",
       "      <td>None</td>\n",
       "      <td>Cc1ccc(C(N)=O)cc1C</td>\n",
       "      <td>O=C1CN(c2ccc(Br)cn2)CCN1</td>\n",
       "      <td>Cc1ccc(C(=O)Nc2ccc(N3CCNC(=O)C3)nc2)cc1C</td>\n",
       "      <td>Buchwald-Hartwig_amidation_with_amide-like_nuc...</td>\n",
       "      <td>None</td>\n",
       "      <td>...</td>\n",
       "      <td>&lt;NA&gt;</td>\n",
       "      <td>&lt;NA&gt;</td>\n",
       "      <td>&lt;NA&gt;</td>\n",
       "      <td>&lt;NA&gt;</td>\n",
       "      <td>&lt;NA&gt;</td>\n",
       "      <td>&lt;NA&gt;</td>\n",
       "      <td>&lt;NA&gt;</td>\n",
       "      <td>&lt;NA&gt;</td>\n",
       "      <td>&lt;NA&gt;</td>\n",
       "      <td>&lt;NA&gt;</td>\n",
       "    </tr>\n",
       "    <tr>\n",
       "      <th>64</th>\n",
       "      <td>C211</td>\n",
       "      <td>1</td>\n",
       "      <td>None</td>\n",
       "      <td>None</td>\n",
       "      <td>None</td>\n",
       "      <td>O=Cc1cccc(F)c1</td>\n",
       "      <td>Nc1ccc(N2CCCC2=O)cn1</td>\n",
       "      <td>O=C1CCCN1c1ccc(NCc2cccc(F)c2)nc1</td>\n",
       "      <td>Reductive_amination</td>\n",
       "      <td>None</td>\n",
       "      <td>...</td>\n",
       "      <td>&lt;NA&gt;</td>\n",
       "      <td>&lt;NA&gt;</td>\n",
       "      <td>&lt;NA&gt;</td>\n",
       "      <td>&lt;NA&gt;</td>\n",
       "      <td>&lt;NA&gt;</td>\n",
       "      <td>&lt;NA&gt;</td>\n",
       "      <td>&lt;NA&gt;</td>\n",
       "      <td>&lt;NA&gt;</td>\n",
       "      <td>&lt;NA&gt;</td>\n",
       "      <td>&lt;NA&gt;</td>\n",
       "    </tr>\n",
       "    <tr>\n",
       "      <th>65</th>\n",
       "      <td>C214</td>\n",
       "      <td>1</td>\n",
       "      <td>None</td>\n",
       "      <td>None</td>\n",
       "      <td>None</td>\n",
       "      <td>NC(=O)C1CCCNC1</td>\n",
       "      <td>O=C(O)c1cccc(O)c1C(=O)NC1CC1</td>\n",
       "      <td>NC(=O)C1CCCN(C(=O)c2cccc(O)c2C(=O)NC2CC2)C1</td>\n",
       "      <td>Amidation</td>\n",
       "      <td>None</td>\n",
       "      <td>...</td>\n",
       "      <td>&lt;NA&gt;</td>\n",
       "      <td>&lt;NA&gt;</td>\n",
       "      <td>&lt;NA&gt;</td>\n",
       "      <td>&lt;NA&gt;</td>\n",
       "      <td>&lt;NA&gt;</td>\n",
       "      <td>&lt;NA&gt;</td>\n",
       "      <td>&lt;NA&gt;</td>\n",
       "      <td>&lt;NA&gt;</td>\n",
       "      <td>&lt;NA&gt;</td>\n",
       "      <td>&lt;NA&gt;</td>\n",
       "    </tr>\n",
       "  </tbody>\n",
       "</table>\n",
       "<p>66 rows × 29 columns</p>\n",
       "</div>"
      ],
      "text/plain": [
       "   target-names  no-steps concentration-required-mM amount-required-uL  \\\n",
       "0          C133         3                      None               None   \n",
       "1          C134         3                      None               None   \n",
       "2          C135         3                      None               None   \n",
       "3          C136         3                      None               None   \n",
       "4          C136         3                      None               None   \n",
       "..          ...       ...                       ...                ...   \n",
       "61         C199         1                      None               None   \n",
       "62         C198         1                      None               None   \n",
       "63         C209         1                      None               None   \n",
       "64         C211         1                      None               None   \n",
       "65         C214         1                      None               None   \n",
       "\n",
       "   batch-tag           reactant-1-1                  reactant-2-1  \\\n",
       "0       None    O=C(O)Cc1cnnc(Cl)c1                       CC(N)=O   \n",
       "1       None   NCC(N)c1ccc2ccccc2c1                     O=C(O)CCl   \n",
       "2       None    O=C(O)Cc1cnnc(Cl)c1                       CC(N)=O   \n",
       "3       None              O=C(O)CCl                NCC(N)c1cccnc1   \n",
       "4       None         NCC(N)c1cccnc1                  O=C(O)CB(O)O   \n",
       "..       ...                    ...                           ...   \n",
       "61      None  O=C(O)c1cc2ccsc2[nH]1             NC1CC(C(F)(F)F)C1   \n",
       "62      None    O=C(O)C12CCC(CO1)C2           NC(=O)c1cc(N)[nH]n1   \n",
       "63      None     Cc1ccc(C(N)=O)cc1C      O=C1CN(c2ccc(Br)cn2)CCN1   \n",
       "64      None         O=Cc1cccc(F)c1          Nc1ccc(N2CCCC2=O)cn1   \n",
       "65      None         NC(=O)C1CCCNC1  O=C(O)c1cccc(O)c1C(=O)NC1CC1   \n",
       "\n",
       "                      reaction-product-smiles-1  \\\n",
       "0                      CC(=O)Nc1cc(CC(=O)O)cnn1   \n",
       "1                  NC(CNC(=O)CCl)c1ccc2ccccc2c1   \n",
       "2                      CC(=O)Nc1cc(CC(=O)O)cnn1   \n",
       "3                        NC(CNC(=O)CCl)c1cccnc1   \n",
       "4                     NCC(NC(=O)CB(O)O)c1cccnc1   \n",
       "..                                          ...   \n",
       "61        O=C(NC1CC(C(F)(F)F)C1)c1cc2ccsc2[nH]1   \n",
       "62        NC(=O)c1cc(NC(=O)C23CCC(CO2)C3)[nH]n1   \n",
       "63     Cc1ccc(C(=O)Nc2ccc(N3CCNC(=O)C3)nc2)cc1C   \n",
       "64             O=C1CCCN1c1ccc(NCc2cccc(F)c2)nc1   \n",
       "65  NC(=O)C1CCCN(C(=O)c2cccc(O)c2C(=O)NC2CC2)C1   \n",
       "\n",
       "                                      reaction-name-1 reaction-recipe-1  ...  \\\n",
       "0   Buchwald-Hartwig_amidation_with_amide-like_nuc...              None  ...   \n",
       "1                                           Amidation              None  ...   \n",
       "2   Buchwald-Hartwig_amidation_with_amide-like_nuc...              None  ...   \n",
       "3                                           Amidation              None  ...   \n",
       "4                                           Amidation              None  ...   \n",
       "..                                                ...               ...  ...   \n",
       "61                                          Amidation              None  ...   \n",
       "62                                          Amidation              None  ...   \n",
       "63  Buchwald-Hartwig_amidation_with_amide-like_nuc...              None  ...   \n",
       "64                                Reductive_amination              None  ...   \n",
       "65                                          Amidation              None  ...   \n",
       "\n",
       "                            reaction-product-smiles-3  \\\n",
       "0   CC(=O)Nc1cc(CC(=O)NC(CNC(=O)CCl)c2ccc3ccccc3c2...   \n",
       "1   CC(=O)Nc1c(CC(=O)NC(CNC(=O)CCl)c2ccc3ccccc3c2)...   \n",
       "2       CC(=O)Nc1cc(CC(=O)NC(CNC(=O)CCl)c2cccnc2)cnn1   \n",
       "3    CC(=O)Nc1c(CC(=O)NC(CNC(=O)CCl)c2cccnc2)c(C)nn1C   \n",
       "4    CC(=O)Nc1c(CC(=O)NC(CNC(=O)CCl)c2cccnc2)c(C)nn1C   \n",
       "..                                                ...   \n",
       "61                                               <NA>   \n",
       "62                                               <NA>   \n",
       "63                                               <NA>   \n",
       "64                                               <NA>   \n",
       "65                                               <NA>   \n",
       "\n",
       "                                      reaction-name-3 reaction-recipe-3  \\\n",
       "0                                           Amidation              <NA>   \n",
       "1   Buchwald-Hartwig_amidation_with_amide-like_nuc...              <NA>   \n",
       "2                                           Amidation              <NA>   \n",
       "3                             Sp3-sp2_Suzuki_coupling              <NA>   \n",
       "4                             Sp3-sp2_Suzuki_coupling              <NA>   \n",
       "..                                                ...               ...   \n",
       "61                                               <NA>              <NA>   \n",
       "62                                               <NA>              <NA>   \n",
       "63                                               <NA>              <NA>   \n",
       "64                                               <NA>              <NA>   \n",
       "65                                               <NA>              <NA>   \n",
       "\n",
       "   reaction-groupby-column-3 reactant-1-4  reactant-2-4  \\\n",
       "0                       <NA>         <NA>          <NA>   \n",
       "1                       <NA>         <NA>          <NA>   \n",
       "2                       <NA>         <NA>          <NA>   \n",
       "3                       <NA>         <NA>          <NA>   \n",
       "4                       <NA>         <NA>          <NA>   \n",
       "..                       ...          ...           ...   \n",
       "61                      <NA>         <NA>          <NA>   \n",
       "62                      <NA>         <NA>          <NA>   \n",
       "63                      <NA>         <NA>          <NA>   \n",
       "64                      <NA>         <NA>          <NA>   \n",
       "65                      <NA>         <NA>          <NA>   \n",
       "\n",
       "    reaction-product-smiles-4 reaction-name-4 reaction-recipe-4  \\\n",
       "0                        <NA>            <NA>              <NA>   \n",
       "1                        <NA>            <NA>              <NA>   \n",
       "2                        <NA>            <NA>              <NA>   \n",
       "3                        <NA>            <NA>              <NA>   \n",
       "4                        <NA>            <NA>              <NA>   \n",
       "..                        ...             ...               ...   \n",
       "61                       <NA>            <NA>              <NA>   \n",
       "62                       <NA>            <NA>              <NA>   \n",
       "63                       <NA>            <NA>              <NA>   \n",
       "64                       <NA>            <NA>              <NA>   \n",
       "65                       <NA>            <NA>              <NA>   \n",
       "\n",
       "   reaction-groupby-column-4  \n",
       "0                       <NA>  \n",
       "1                       <NA>  \n",
       "2                       <NA>  \n",
       "3                       <NA>  \n",
       "4                       <NA>  \n",
       "..                       ...  \n",
       "61                      <NA>  \n",
       "62                      <NA>  \n",
       "63                      <NA>  \n",
       "64                      <NA>  \n",
       "65                      <NA>  \n",
       "\n",
       "[66 rows x 29 columns]"
      ]
     },
     "execution_count": 36,
     "metadata": {},
     "output_type": "execute_result"
    }
   ],
   "source": [
    "animal.compounds(tag=\"Syndirella scaffold\").write_CAR_csv(\"all_scaffold_CAR.csv\", return_df=True)"
   ]
  },
  {
   "cell_type": "code",
   "execution_count": 37,
   "id": "ff912461-76d6-4e87-b147-85fdd725b1d5",
   "metadata": {},
   "outputs": [
    {
     "data": {
      "application/vnd.jupyter.widget-view+json": {
       "model_id": "3343508f5f3d4a65b8e72389927ceee5",
       "version_major": 2,
       "version_minor": 0
      },
      "text/plain": [
       "Output()"
      ]
     },
     "metadata": {},
     "output_type": "display_data"
    },
    {
     "data": {
      "text/html": [
       "<pre style=\"white-space:pre;overflow-x:auto;line-height:normal;font-family:Menlo,'DejaVu Sans Mono',consolas,'Courier New',monospace\"><span style=\"background-color: #800000; font-weight: bold\"> ERROR </span><span style=\"color: #800000; text-decoration-color: #800000; font-weight: bold\"> No entry in quote with quote_compound=133!</span>\n",
       "</pre>\n"
      ],
      "text/plain": [
       "\u001b[1;7;31m ERROR \u001b[0m\u001b[1;31m No entry in quote with quote_compound=133!\u001b[0m\n"
      ]
     },
     "metadata": {},
     "output_type": "display_data"
    },
    {
     "data": {
      "text/html": [
       "<pre style=\"white-space:pre;overflow-x:auto;line-height:normal;font-family:Menlo,'DejaVu Sans Mono',consolas,'Courier New',monospace\"><span style=\"background-color: #800000; font-weight: bold\"> ERROR </span><span style=\"color: #800000; text-decoration-color: #800000; font-weight: bold\"> No entry in quote with quote_compound=252!</span>\n",
       "</pre>\n"
      ],
      "text/plain": [
       "\u001b[1;7;31m ERROR \u001b[0m\u001b[1;31m No entry in quote with quote_compound=252!\u001b[0m\n"
      ]
     },
     "metadata": {},
     "output_type": "display_data"
    },
    {
     "data": {
      "text/html": [
       "<pre style=\"white-space:pre;overflow-x:auto;line-height:normal;font-family:Menlo,'DejaVu Sans Mono',consolas,'Courier New',monospace\"><span style=\"background-color: #800000; font-weight: bold\"> ERROR </span><span style=\"color: #800000; text-decoration-color: #800000; font-weight: bold\"> Reactants not available for reaction=\u001b[1m\u001b[4mR2: C250 + C251 -&gt; C252 via Amidation\u001b[22m\u001b[24m!</span>\n",
       "</pre>\n"
      ],
      "text/plain": [
       "\u001b[1;7;31m ERROR \u001b[0m\u001b[1;31m Reactants not available for reaction=\u001b[1m\u001b[4mR2: C250 + C251 -> C252 via Amidation\u001b[22m\u001b[24m!\u001b[0m\n"
      ]
     },
     "metadata": {},
     "output_type": "display_data"
    },
    {
     "data": {
      "text/html": [
       "<pre style=\"white-space:pre;overflow-x:auto;line-height:normal;font-family:Menlo,'DejaVu Sans Mono',consolas,'Courier New',monospace\"><span style=\"background-color: #800000; font-weight: bold\"> ERROR </span><span style=\"color: #800000; text-decoration-color: #800000; font-weight: bold\"> No entry in quote with quote_compound=134!</span>\n",
       "</pre>\n"
      ],
      "text/plain": [
       "\u001b[1;7;31m ERROR \u001b[0m\u001b[1;31m No entry in quote with quote_compound=134!\u001b[0m\n"
      ]
     },
     "metadata": {},
     "output_type": "display_data"
    },
    {
     "data": {
      "text/html": [
       "<pre style=\"white-space:pre;overflow-x:auto;line-height:normal;font-family:Menlo,'DejaVu Sans Mono',consolas,'Courier New',monospace\"><span style=\"background-color: #800000; font-weight: bold\"> ERROR </span><span style=\"color: #800000; text-decoration-color: #800000; font-weight: bold\"> No entry in quote with quote_compound=2761!</span>\n",
       "</pre>\n"
      ],
      "text/plain": [
       "\u001b[1;7;31m ERROR \u001b[0m\u001b[1;31m No entry in quote with quote_compound=2761!\u001b[0m\n"
      ]
     },
     "metadata": {},
     "output_type": "display_data"
    },
    {
     "data": {
      "text/html": [
       "<pre style=\"white-space:pre;overflow-x:auto;line-height:normal;font-family:Menlo,'DejaVu Sans Mono',consolas,'Courier New',monospace\"><span style=\"background-color: #800000; font-weight: bold\"> ERROR </span><span style=\"color: #800000; text-decoration-color: #800000; font-weight: bold\"> No entry in quote with quote_compound=2759!</span>\n",
       "</pre>\n"
      ],
      "text/plain": [
       "\u001b[1;7;31m ERROR \u001b[0m\u001b[1;31m No entry in quote with quote_compound=2759!\u001b[0m\n"
      ]
     },
     "metadata": {},
     "output_type": "display_data"
    },
    {
     "data": {
      "text/html": [
       "<pre style=\"white-space:pre;overflow-x:auto;line-height:normal;font-family:Menlo,'DejaVu Sans Mono',consolas,'Courier New',monospace\"><span style=\"background-color: #800000; font-weight: bold\"> ERROR </span><span style=\"color: #800000; text-decoration-color: #800000; font-weight: bold\"> Reactants not available for reaction=\u001b[1m\u001b[4mR2430: C251 + C253 -&gt; C2759 via Amidation\u001b[22m\u001b[24m!</span>\n",
       "</pre>\n"
      ],
      "text/plain": [
       "\u001b[1;7;31m ERROR \u001b[0m\u001b[1;31m Reactants not available for reaction=\u001b[1m\u001b[4mR2430: C251 + C253 -> C2759 via Amidation\u001b[22m\u001b[24m!\u001b[0m\n"
      ]
     },
     "metadata": {},
     "output_type": "display_data"
    },
    {
     "data": {
      "text/html": [
       "<pre style=\"white-space:pre;overflow-x:auto;line-height:normal;font-family:Menlo,'DejaVu Sans Mono',consolas,'Courier New',monospace\"><span style=\"background-color: #800000; font-weight: bold\"> ERROR </span><span style=\"color: #800000; text-decoration-color: #800000; font-weight: bold\"> No entry in quote with quote_compound=135!</span>\n",
       "</pre>\n"
      ],
      "text/plain": [
       "\u001b[1;7;31m ERROR \u001b[0m\u001b[1;31m No entry in quote with quote_compound=135!\u001b[0m\n"
      ]
     },
     "metadata": {},
     "output_type": "display_data"
    },
    {
     "data": {
      "text/html": [
       "<pre style=\"white-space:pre;overflow-x:auto;line-height:normal;font-family:Menlo,'DejaVu Sans Mono',consolas,'Courier New',monospace\"><span style=\"background-color: #800000; font-weight: bold\"> ERROR </span><span style=\"color: #800000; text-decoration-color: #800000; font-weight: bold\"> No entry in quote with quote_compound=5729!</span>\n",
       "</pre>\n"
      ],
      "text/plain": [
       "\u001b[1;7;31m ERROR \u001b[0m\u001b[1;31m No entry in quote with quote_compound=5729!\u001b[0m\n"
      ]
     },
     "metadata": {},
     "output_type": "display_data"
    },
    {
     "data": {
      "text/html": [
       "<pre style=\"white-space:pre;overflow-x:auto;line-height:normal;font-family:Menlo,'DejaVu Sans Mono',consolas,'Courier New',monospace\"><span style=\"background-color: #800000; font-weight: bold\"> ERROR </span><span style=\"color: #800000; text-decoration-color: #800000; font-weight: bold\"> Reactants not available for reaction=\u001b[1m\u001b[4mR5333: C250 + C5728 -&gt; C5729 via Amidation\u001b[22m\u001b[24m!</span>\n",
       "</pre>\n"
      ],
      "text/plain": [
       "\u001b[1;7;31m ERROR \u001b[0m\u001b[1;31m Reactants not available for reaction=\u001b[1m\u001b[4mR5333: C250 + C5728 -> C5729 via Amidation\u001b[22m\u001b[24m!\u001b[0m\n"
      ]
     },
     "metadata": {},
     "output_type": "display_data"
    },
    {
     "data": {
      "text/html": [
       "<pre style=\"white-space:pre;overflow-x:auto;line-height:normal;font-family:Menlo,'DejaVu Sans Mono',consolas,'Courier New',monospace\"><span style=\"background-color: #800000; font-weight: bold\"> ERROR </span><span style=\"color: #800000; text-decoration-color: #800000; font-weight: bold\"> No entry in quote with quote_compound=136!</span>\n",
       "</pre>\n"
      ],
      "text/plain": [
       "\u001b[1;7;31m ERROR \u001b[0m\u001b[1;31m No entry in quote with quote_compound=136!\u001b[0m\n"
      ]
     },
     "metadata": {},
     "output_type": "display_data"
    },
    {
     "data": {
      "text/html": [
       "<pre style=\"white-space:pre;overflow-x:auto;line-height:normal;font-family:Menlo,'DejaVu Sans Mono',consolas,'Courier New',monospace\"><span style=\"background-color: #800000; font-weight: bold\"> ERROR </span><span style=\"color: #800000; text-decoration-color: #800000; font-weight: bold\"> Reactants not available for reaction=\u001b[1m\u001b[4mR8466: C8871 + C8872 -&gt; C136 via </span>\n",
       "<span style=\"color: #800000; text-decoration-color: #800000; font-weight: bold\">Sp3-sp2_Suzuki_coupling\u001b[22m\u001b[24m!</span>\n",
       "</pre>\n"
      ],
      "text/plain": [
       "\u001b[1;7;31m ERROR \u001b[0m\u001b[1;31m Reactants not available for reaction=\u001b[1m\u001b[4mR8466: C8871 + C8872 -> C136 via \u001b[0m\n",
       "\u001b[1;31mSp3-sp2_Suzuki_coupling\u001b[22m\u001b[24m!\u001b[0m\n"
      ]
     },
     "metadata": {},
     "output_type": "display_data"
    },
    {
     "data": {
      "text/html": [
       "<pre style=\"white-space:pre;overflow-x:auto;line-height:normal;font-family:Menlo,'DejaVu Sans Mono',consolas,'Courier New',monospace\"><span style=\"background-color: #800000; font-weight: bold\"> ERROR </span><span style=\"color: #800000; text-decoration-color: #800000; font-weight: bold\"> No entry in quote with quote_compound=181!</span>\n",
       "</pre>\n"
      ],
      "text/plain": [
       "\u001b[1;7;31m ERROR \u001b[0m\u001b[1;31m No entry in quote with quote_compound=181!\u001b[0m\n"
      ]
     },
     "metadata": {},
     "output_type": "display_data"
    },
    {
     "data": {
      "text/html": [
       "<pre style=\"white-space:pre;overflow-x:auto;line-height:normal;font-family:Menlo,'DejaVu Sans Mono',consolas,'Courier New',monospace\"><span style=\"background-color: #800000; font-weight: bold\"> ERROR </span><span style=\"color: #800000; text-decoration-color: #800000; font-weight: bold\"> No entry in quote with quote_compound=139!</span>\n",
       "</pre>\n"
      ],
      "text/plain": [
       "\u001b[1;7;31m ERROR \u001b[0m\u001b[1;31m No entry in quote with quote_compound=139!\u001b[0m\n"
      ]
     },
     "metadata": {},
     "output_type": "display_data"
    },
    {
     "data": {
      "text/html": [
       "<pre style=\"white-space:pre;overflow-x:auto;line-height:normal;font-family:Menlo,'DejaVu Sans Mono',consolas,'Courier New',monospace\"><span style=\"background-color: #800000; font-weight: bold\"> ERROR </span><span style=\"color: #800000; text-decoration-color: #800000; font-weight: bold\"> No entry in quote with quote_compound=182!</span>\n",
       "</pre>\n"
      ],
      "text/plain": [
       "\u001b[1;7;31m ERROR \u001b[0m\u001b[1;31m No entry in quote with quote_compound=182!\u001b[0m\n"
      ]
     },
     "metadata": {},
     "output_type": "display_data"
    },
    {
     "data": {
      "text/html": [
       "<pre style=\"white-space:pre;overflow-x:auto;line-height:normal;font-family:Menlo,'DejaVu Sans Mono',consolas,'Courier New',monospace\"><span style=\"background-color: #800000; font-weight: bold\"> ERROR </span><span style=\"color: #800000; text-decoration-color: #800000; font-weight: bold\"> No entry in quote with quote_compound=183!</span>\n",
       "</pre>\n"
      ],
      "text/plain": [
       "\u001b[1;7;31m ERROR \u001b[0m\u001b[1;31m No entry in quote with quote_compound=183!\u001b[0m\n"
      ]
     },
     "metadata": {},
     "output_type": "display_data"
    },
    {
     "data": {
      "text/html": [
       "<pre style=\"white-space:pre;overflow-x:auto;line-height:normal;font-family:Menlo,'DejaVu Sans Mono',consolas,'Courier New',monospace\"><span style=\"background-color: #800000; font-weight: bold\"> ERROR </span><span style=\"color: #800000; text-decoration-color: #800000; font-weight: bold\"> No entry in quote with quote_compound=143!</span>\n",
       "</pre>\n"
      ],
      "text/plain": [
       "\u001b[1;7;31m ERROR \u001b[0m\u001b[1;31m No entry in quote with quote_compound=143!\u001b[0m\n"
      ]
     },
     "metadata": {},
     "output_type": "display_data"
    },
    {
     "data": {
      "text/html": [
       "<pre style=\"white-space:pre;overflow-x:auto;line-height:normal;font-family:Menlo,'DejaVu Sans Mono',consolas,'Courier New',monospace\"><span style=\"background-color: #800000; font-weight: bold\"> ERROR </span><span style=\"color: #800000; text-decoration-color: #800000; font-weight: bold\"> No entry in quote with quote_compound=22818!</span>\n",
       "</pre>\n"
      ],
      "text/plain": [
       "\u001b[1;7;31m ERROR \u001b[0m\u001b[1;31m No entry in quote with quote_compound=22818!\u001b[0m\n"
      ]
     },
     "metadata": {},
     "output_type": "display_data"
    },
    {
     "data": {
      "text/html": [
       "<pre style=\"white-space:pre;overflow-x:auto;line-height:normal;font-family:Menlo,'DejaVu Sans Mono',consolas,'Courier New',monospace\"><span style=\"background-color: #800000; font-weight: bold\"> ERROR </span><span style=\"color: #800000; text-decoration-color: #800000; font-weight: bold\"> No entry in quote with quote_compound=8869!</span>\n",
       "</pre>\n"
      ],
      "text/plain": [
       "\u001b[1;7;31m ERROR \u001b[0m\u001b[1;31m No entry in quote with quote_compound=8869!\u001b[0m\n"
      ]
     },
     "metadata": {},
     "output_type": "display_data"
    },
    {
     "data": {
      "text/html": [
       "<pre style=\"white-space:pre;overflow-x:auto;line-height:normal;font-family:Menlo,'DejaVu Sans Mono',consolas,'Courier New',monospace\"><span style=\"background-color: #800000; font-weight: bold\"> ERROR </span><span style=\"color: #800000; text-decoration-color: #800000; font-weight: bold\"> Reactants not available for reaction=\u001b[1m\u001b[4mR8464: C253 + C5728 -&gt; C8869 via Amidation\u001b[22m\u001b[24m!</span>\n",
       "</pre>\n"
      ],
      "text/plain": [
       "\u001b[1;7;31m ERROR \u001b[0m\u001b[1;31m Reactants not available for reaction=\u001b[1m\u001b[4mR8464: C253 + C5728 -> C8869 via Amidation\u001b[22m\u001b[24m!\u001b[0m\n"
      ]
     },
     "metadata": {},
     "output_type": "display_data"
    },
    {
     "data": {
      "text/html": [
       "<pre style=\"white-space:pre;overflow-x:auto;line-height:normal;font-family:Menlo,'DejaVu Sans Mono',consolas,'Courier New',monospace\"><span style=\"background-color: #800000; font-weight: bold\"> ERROR </span><span style=\"color: #800000; text-decoration-color: #800000; font-weight: bold\"> No entry in quote with quote_compound=184!</span>\n",
       "</pre>\n"
      ],
      "text/plain": [
       "\u001b[1;7;31m ERROR \u001b[0m\u001b[1;31m No entry in quote with quote_compound=184!\u001b[0m\n"
      ]
     },
     "metadata": {},
     "output_type": "display_data"
    },
    {
     "data": {
      "text/html": [
       "<pre style=\"white-space:pre;overflow-x:auto;line-height:normal;font-family:Menlo,'DejaVu Sans Mono',consolas,'Courier New',monospace\"><span style=\"background-color: #800000; font-weight: bold\"> ERROR </span><span style=\"color: #800000; text-decoration-color: #800000; font-weight: bold\"> No entry in quote with quote_compound=185!</span>\n",
       "</pre>\n"
      ],
      "text/plain": [
       "\u001b[1;7;31m ERROR \u001b[0m\u001b[1;31m No entry in quote with quote_compound=185!\u001b[0m\n"
      ]
     },
     "metadata": {},
     "output_type": "display_data"
    },
    {
     "data": {
      "text/html": [
       "<pre style=\"white-space:pre;overflow-x:auto;line-height:normal;font-family:Menlo,'DejaVu Sans Mono',consolas,'Courier New',monospace\"><span style=\"background-color: #800000; font-weight: bold\"> ERROR </span><span style=\"color: #800000; text-decoration-color: #800000; font-weight: bold\"> No entry in quote with quote_compound=186!</span>\n",
       "</pre>\n"
      ],
      "text/plain": [
       "\u001b[1;7;31m ERROR \u001b[0m\u001b[1;31m No entry in quote with quote_compound=186!\u001b[0m\n"
      ]
     },
     "metadata": {},
     "output_type": "display_data"
    },
    {
     "data": {
      "text/html": [
       "<pre style=\"white-space:pre;overflow-x:auto;line-height:normal;font-family:Menlo,'DejaVu Sans Mono',consolas,'Courier New',monospace\"><span style=\"background-color: #800000; font-weight: bold\"> ERROR </span><span style=\"color: #800000; text-decoration-color: #800000; font-weight: bold\"> No entry in quote with quote_compound=149!</span>\n",
       "</pre>\n"
      ],
      "text/plain": [
       "\u001b[1;7;31m ERROR \u001b[0m\u001b[1;31m No entry in quote with quote_compound=149!\u001b[0m\n"
      ]
     },
     "metadata": {},
     "output_type": "display_data"
    },
    {
     "data": {
      "text/html": [
       "<pre style=\"white-space:pre;overflow-x:auto;line-height:normal;font-family:Menlo,'DejaVu Sans Mono',consolas,'Courier New',monospace\"><span style=\"background-color: #800000; font-weight: bold\"> ERROR </span><span style=\"color: #800000; text-decoration-color: #800000; font-weight: bold\"> No entry in quote with quote_compound=31846!</span>\n",
       "</pre>\n"
      ],
      "text/plain": [
       "\u001b[1;7;31m ERROR \u001b[0m\u001b[1;31m No entry in quote with quote_compound=31846!\u001b[0m\n"
      ]
     },
     "metadata": {},
     "output_type": "display_data"
    },
    {
     "data": {
      "text/html": [
       "<pre style=\"white-space:pre;overflow-x:auto;line-height:normal;font-family:Menlo,'DejaVu Sans Mono',consolas,'Courier New',monospace\"><span style=\"background-color: #800000; font-weight: bold\"> ERROR </span><span style=\"color: #800000; text-decoration-color: #800000; font-weight: bold\"> Reactants not available for reaction=\u001b[1m\u001b[4mR30070: C8871 + C31845 -&gt; C31846 via </span>\n",
       "<span style=\"color: #800000; text-decoration-color: #800000; font-weight: bold\">Sp3-sp2_Suzuki_coupling\u001b[22m\u001b[24m!</span>\n",
       "</pre>\n"
      ],
      "text/plain": [
       "\u001b[1;7;31m ERROR \u001b[0m\u001b[1;31m Reactants not available for reaction=\u001b[1m\u001b[4mR30070: C8871 + C31845 -> C31846 via \u001b[0m\n",
       "\u001b[1;31mSp3-sp2_Suzuki_coupling\u001b[22m\u001b[24m!\u001b[0m\n"
      ]
     },
     "metadata": {},
     "output_type": "display_data"
    },
    {
     "data": {
      "text/html": [
       "<pre style=\"white-space:pre;overflow-x:auto;line-height:normal;font-family:Menlo,'DejaVu Sans Mono',consolas,'Courier New',monospace\"><span style=\"background-color: #800000; font-weight: bold\"> ERROR </span><span style=\"color: #800000; text-decoration-color: #800000; font-weight: bold\"> No entry in quote with quote_compound=187!</span>\n",
       "</pre>\n"
      ],
      "text/plain": [
       "\u001b[1;7;31m ERROR \u001b[0m\u001b[1;31m No entry in quote with quote_compound=187!\u001b[0m\n"
      ]
     },
     "metadata": {},
     "output_type": "display_data"
    },
    {
     "data": {
      "text/html": [
       "<pre style=\"white-space:pre;overflow-x:auto;line-height:normal;font-family:Menlo,'DejaVu Sans Mono',consolas,'Courier New',monospace\"><span style=\"background-color: #800000; font-weight: bold\"> ERROR </span><span style=\"color: #800000; text-decoration-color: #800000; font-weight: bold\"> No entry in quote with quote_compound=191!</span>\n",
       "</pre>\n"
      ],
      "text/plain": [
       "\u001b[1;7;31m ERROR \u001b[0m\u001b[1;31m No entry in quote with quote_compound=191!\u001b[0m\n"
      ]
     },
     "metadata": {},
     "output_type": "display_data"
    },
    {
     "data": {
      "text/html": [
       "<pre style=\"white-space:pre;overflow-x:auto;line-height:normal;font-family:Menlo,'DejaVu Sans Mono',consolas,'Courier New',monospace\"><span style=\"background-color: #800000; font-weight: bold\"> ERROR </span><span style=\"color: #800000; text-decoration-color: #800000; font-weight: bold\"> No entry in quote with quote_compound=192!</span>\n",
       "</pre>\n"
      ],
      "text/plain": [
       "\u001b[1;7;31m ERROR \u001b[0m\u001b[1;31m No entry in quote with quote_compound=192!\u001b[0m\n"
      ]
     },
     "metadata": {},
     "output_type": "display_data"
    },
    {
     "data": {
      "text/html": [
       "<pre style=\"white-space:pre;overflow-x:auto;line-height:normal;font-family:Menlo,'DejaVu Sans Mono',consolas,'Courier New',monospace\"><span style=\"background-color: #800000; font-weight: bold\"> ERROR </span><span style=\"color: #800000; text-decoration-color: #800000; font-weight: bold\"> No entry in quote with quote_compound=171!</span>\n",
       "</pre>\n"
      ],
      "text/plain": [
       "\u001b[1;7;31m ERROR \u001b[0m\u001b[1;31m No entry in quote with quote_compound=171!\u001b[0m\n"
      ]
     },
     "metadata": {},
     "output_type": "display_data"
    },
    {
     "data": {
      "text/html": [
       "<pre style=\"white-space:pre;overflow-x:auto;line-height:normal;font-family:Menlo,'DejaVu Sans Mono',consolas,'Courier New',monospace\"><span style=\"background-color: #800000; font-weight: bold\"> ERROR </span><span style=\"color: #800000; text-decoration-color: #800000; font-weight: bold\"> No entry in quote with quote_compound=195!</span>\n",
       "</pre>\n"
      ],
      "text/plain": [
       "\u001b[1;7;31m ERROR \u001b[0m\u001b[1;31m No entry in quote with quote_compound=195!\u001b[0m\n"
      ]
     },
     "metadata": {},
     "output_type": "display_data"
    },
    {
     "data": {
      "text/html": [
       "<pre style=\"white-space:pre;overflow-x:auto;line-height:normal;font-family:Menlo,'DejaVu Sans Mono',consolas,'Courier New',monospace\"><span style=\"background-color: #800000; font-weight: bold\"> ERROR </span><span style=\"color: #800000; text-decoration-color: #800000; font-weight: bold\"> No entry in quote with quote_compound=196!</span>\n",
       "</pre>\n"
      ],
      "text/plain": [
       "\u001b[1;7;31m ERROR \u001b[0m\u001b[1;31m No entry in quote with quote_compound=196!\u001b[0m\n"
      ]
     },
     "metadata": {},
     "output_type": "display_data"
    },
    {
     "data": {
      "text/html": [
       "<pre style=\"white-space:pre;overflow-x:auto;line-height:normal;font-family:Menlo,'DejaVu Sans Mono',consolas,'Courier New',monospace\"><span style=\"background-color: #800000; font-weight: bold\"> ERROR </span><span style=\"color: #800000; text-decoration-color: #800000; font-weight: bold\"> No entry in quote with quote_compound=167!</span>\n",
       "</pre>\n"
      ],
      "text/plain": [
       "\u001b[1;7;31m ERROR \u001b[0m\u001b[1;31m No entry in quote with quote_compound=167!\u001b[0m\n"
      ]
     },
     "metadata": {},
     "output_type": "display_data"
    },
    {
     "data": {
      "text/html": [
       "<pre style=\"white-space:pre;overflow-x:auto;line-height:normal;font-family:Menlo,'DejaVu Sans Mono',consolas,'Courier New',monospace\"><span style=\"background-color: #800000; font-weight: bold\"> ERROR </span><span style=\"color: #800000; text-decoration-color: #800000; font-weight: bold\"> No entry in quote with quote_compound=56174!</span>\n",
       "</pre>\n"
      ],
      "text/plain": [
       "\u001b[1;7;31m ERROR \u001b[0m\u001b[1;31m No entry in quote with quote_compound=56174!\u001b[0m\n"
      ]
     },
     "metadata": {},
     "output_type": "display_data"
    },
    {
     "data": {
      "text/html": [
       "<pre style=\"white-space:pre;overflow-x:auto;line-height:normal;font-family:Menlo,'DejaVu Sans Mono',consolas,'Courier New',monospace\"><span style=\"background-color: #800000; font-weight: bold\"> ERROR </span><span style=\"color: #800000; text-decoration-color: #800000; font-weight: bold\"> No entry in quote with quote_compound=56172!</span>\n",
       "</pre>\n"
      ],
      "text/plain": [
       "\u001b[1;7;31m ERROR \u001b[0m\u001b[1;31m No entry in quote with quote_compound=56172!\u001b[0m\n"
      ]
     },
     "metadata": {},
     "output_type": "display_data"
    },
    {
     "data": {
      "text/html": [
       "<pre style=\"white-space:pre;overflow-x:auto;line-height:normal;font-family:Menlo,'DejaVu Sans Mono',consolas,'Courier New',monospace\"><span style=\"background-color: #800000; font-weight: bold\"> ERROR </span><span style=\"color: #800000; text-decoration-color: #800000; font-weight: bold\"> Reactants not available for reaction=\u001b[1m\u001b[4mR53780: C251 + C56171 -&gt; C56172 via Amidation\u001b[22m\u001b[24m!</span>\n",
       "</pre>\n"
      ],
      "text/plain": [
       "\u001b[1;7;31m ERROR \u001b[0m\u001b[1;31m Reactants not available for reaction=\u001b[1m\u001b[4mR53780: C251 + C56171 -> C56172 via Amidation\u001b[22m\u001b[24m!\u001b[0m\n"
      ]
     },
     "metadata": {},
     "output_type": "display_data"
    },
    {
     "data": {
      "text/html": [
       "<pre style=\"white-space:pre;overflow-x:auto;line-height:normal;font-family:Menlo,'DejaVu Sans Mono',consolas,'Courier New',monospace\"><span style=\"background-color: #800000; font-weight: bold\"> ERROR </span><span style=\"color: #800000; text-decoration-color: #800000; font-weight: bold\"> No entry in quote with quote_compound=56174!</span>\n",
       "</pre>\n"
      ],
      "text/plain": [
       "\u001b[1;7;31m ERROR \u001b[0m\u001b[1;31m No entry in quote with quote_compound=56174!\u001b[0m\n"
      ]
     },
     "metadata": {},
     "output_type": "display_data"
    },
    {
     "data": {
      "text/html": [
       "<pre style=\"white-space:pre;overflow-x:auto;line-height:normal;font-family:Menlo,'DejaVu Sans Mono',consolas,'Courier New',monospace\"><span style=\"background-color: #800000; font-weight: bold\"> ERROR </span><span style=\"color: #800000; text-decoration-color: #800000; font-weight: bold\"> Reactants not available for reaction=\u001b[1m\u001b[4mR53783: C56172 + C56177 -&gt; C56174 via Ester_amidation\u001b[22m\u001b[24m!</span>\n",
       "</pre>\n"
      ],
      "text/plain": [
       "\u001b[1;7;31m ERROR \u001b[0m\u001b[1;31m Reactants not available for reaction=\u001b[1m\u001b[4mR53783: C56172 + C56177 -> C56174 via Ester_amidation\u001b[22m\u001b[24m!\u001b[0m\n"
      ]
     },
     "metadata": {},
     "output_type": "display_data"
    },
    {
     "data": {
      "text/html": [
       "<pre style=\"white-space:pre;overflow-x:auto;line-height:normal;font-family:Menlo,'DejaVu Sans Mono',consolas,'Courier New',monospace\"><span style=\"background-color: #800000; font-weight: bold\"> ERROR </span><span style=\"color: #800000; text-decoration-color: #800000; font-weight: bold\"> No entry in quote with quote_compound=56174!</span>\n",
       "</pre>\n"
      ],
      "text/plain": [
       "\u001b[1;7;31m ERROR \u001b[0m\u001b[1;31m No entry in quote with quote_compound=56174!\u001b[0m\n"
      ]
     },
     "metadata": {},
     "output_type": "display_data"
    },
    {
     "data": {
      "text/html": [
       "<pre style=\"white-space:pre;overflow-x:auto;line-height:normal;font-family:Menlo,'DejaVu Sans Mono',consolas,'Courier New',monospace\"><span style=\"background-color: #800000; font-weight: bold\"> ERROR </span><span style=\"color: #800000; text-decoration-color: #800000; font-weight: bold\"> Reactants not available for reaction=\u001b[1m\u001b[4mR53784: C56172 + C56178 -&gt; C56174 via Ester_amidation\u001b[22m\u001b[24m!</span>\n",
       "</pre>\n"
      ],
      "text/plain": [
       "\u001b[1;7;31m ERROR \u001b[0m\u001b[1;31m Reactants not available for reaction=\u001b[1m\u001b[4mR53784: C56172 + C56178 -> C56174 via Ester_amidation\u001b[22m\u001b[24m!\u001b[0m\n"
      ]
     },
     "metadata": {},
     "output_type": "display_data"
    },
    {
     "data": {
      "text/html": [
       "<pre style=\"white-space:pre;overflow-x:auto;line-height:normal;font-family:Menlo,'DejaVu Sans Mono',consolas,'Courier New',monospace\"><span style=\"background-color: #800000; font-weight: bold\"> ERROR </span><span style=\"color: #800000; text-decoration-color: #800000; font-weight: bold\"> No entry in quote with quote_compound=56174!</span>\n",
       "</pre>\n"
      ],
      "text/plain": [
       "\u001b[1;7;31m ERROR \u001b[0m\u001b[1;31m No entry in quote with quote_compound=56174!\u001b[0m\n"
      ]
     },
     "metadata": {},
     "output_type": "display_data"
    },
    {
     "data": {
      "text/html": [
       "<pre style=\"white-space:pre;overflow-x:auto;line-height:normal;font-family:Menlo,'DejaVu Sans Mono',consolas,'Courier New',monospace\"><span style=\"background-color: #800000; font-weight: bold\"> ERROR </span><span style=\"color: #800000; text-decoration-color: #800000; font-weight: bold\"> No entry in quote with quote_compound=56172!</span>\n",
       "</pre>\n"
      ],
      "text/plain": [
       "\u001b[1;7;31m ERROR \u001b[0m\u001b[1;31m No entry in quote with quote_compound=56172!\u001b[0m\n"
      ]
     },
     "metadata": {},
     "output_type": "display_data"
    },
    {
     "data": {
      "text/html": [
       "<pre style=\"white-space:pre;overflow-x:auto;line-height:normal;font-family:Menlo,'DejaVu Sans Mono',consolas,'Courier New',monospace\"><span style=\"background-color: #800000; font-weight: bold\"> ERROR </span><span style=\"color: #800000; text-decoration-color: #800000; font-weight: bold\"> Reactants not available for reaction=\u001b[1m\u001b[4mR53780: C251 + C56171 -&gt; C56172 via Amidation\u001b[22m\u001b[24m!</span>\n",
       "</pre>\n"
      ],
      "text/plain": [
       "\u001b[1;7;31m ERROR \u001b[0m\u001b[1;31m Reactants not available for reaction=\u001b[1m\u001b[4mR53780: C251 + C56171 -> C56172 via Amidation\u001b[22m\u001b[24m!\u001b[0m\n"
      ]
     },
     "metadata": {},
     "output_type": "display_data"
    },
    {
     "data": {
      "text/html": [
       "<pre style=\"white-space:pre;overflow-x:auto;line-height:normal;font-family:Menlo,'DejaVu Sans Mono',consolas,'Courier New',monospace\"><span style=\"background-color: #800000; font-weight: bold\"> ERROR </span><span style=\"color: #800000; text-decoration-color: #800000; font-weight: bold\"> No entry in quote with quote_compound=56174!</span>\n",
       "</pre>\n"
      ],
      "text/plain": [
       "\u001b[1;7;31m ERROR \u001b[0m\u001b[1;31m No entry in quote with quote_compound=56174!\u001b[0m\n"
      ]
     },
     "metadata": {},
     "output_type": "display_data"
    },
    {
     "data": {
      "text/html": [
       "<pre style=\"white-space:pre;overflow-x:auto;line-height:normal;font-family:Menlo,'DejaVu Sans Mono',consolas,'Courier New',monospace\"><span style=\"background-color: #800000; font-weight: bold\"> ERROR </span><span style=\"color: #800000; text-decoration-color: #800000; font-weight: bold\"> No entry in quote with quote_compound=56172!</span>\n",
       "</pre>\n"
      ],
      "text/plain": [
       "\u001b[1;7;31m ERROR \u001b[0m\u001b[1;31m No entry in quote with quote_compound=56172!\u001b[0m\n"
      ]
     },
     "metadata": {},
     "output_type": "display_data"
    },
    {
     "data": {
      "text/html": [
       "<pre style=\"white-space:pre;overflow-x:auto;line-height:normal;font-family:Menlo,'DejaVu Sans Mono',consolas,'Courier New',monospace\"><span style=\"background-color: #800000; font-weight: bold\"> ERROR </span><span style=\"color: #800000; text-decoration-color: #800000; font-weight: bold\"> Reactants not available for reaction=\u001b[1m\u001b[4mR53780: C251 + C56171 -&gt; C56172 via Amidation\u001b[22m\u001b[24m!</span>\n",
       "</pre>\n"
      ],
      "text/plain": [
       "\u001b[1;7;31m ERROR \u001b[0m\u001b[1;31m Reactants not available for reaction=\u001b[1m\u001b[4mR53780: C251 + C56171 -> C56172 via Amidation\u001b[22m\u001b[24m!\u001b[0m\n"
      ]
     },
     "metadata": {},
     "output_type": "display_data"
    },
    {
     "data": {
      "text/html": [
       "<pre style=\"white-space:pre;overflow-x:auto;line-height:normal;font-family:Menlo,'DejaVu Sans Mono',consolas,'Courier New',monospace\"><span style=\"background-color: #800000; font-weight: bold\"> ERROR </span><span style=\"color: #800000; text-decoration-color: #800000; font-weight: bold\"> No entry in quote with quote_compound=56174!</span>\n",
       "</pre>\n"
      ],
      "text/plain": [
       "\u001b[1;7;31m ERROR \u001b[0m\u001b[1;31m No entry in quote with quote_compound=56174!\u001b[0m\n"
      ]
     },
     "metadata": {},
     "output_type": "display_data"
    },
    {
     "data": {
      "text/html": [
       "<pre style=\"white-space:pre;overflow-x:auto;line-height:normal;font-family:Menlo,'DejaVu Sans Mono',consolas,'Courier New',monospace\"><span style=\"background-color: #800000; font-weight: bold\"> ERROR </span><span style=\"color: #800000; text-decoration-color: #800000; font-weight: bold\"> Reactants not available for reaction=\u001b[1m\u001b[4mR53787: C56172 + C56181 -&gt; C56174 via Ester_amidation\u001b[22m\u001b[24m!</span>\n",
       "</pre>\n"
      ],
      "text/plain": [
       "\u001b[1;7;31m ERROR \u001b[0m\u001b[1;31m Reactants not available for reaction=\u001b[1m\u001b[4mR53787: C56172 + C56181 -> C56174 via Ester_amidation\u001b[22m\u001b[24m!\u001b[0m\n"
      ]
     },
     "metadata": {},
     "output_type": "display_data"
    },
    {
     "data": {
      "text/html": [
       "<pre style=\"white-space:pre;overflow-x:auto;line-height:normal;font-family:Menlo,'DejaVu Sans Mono',consolas,'Courier New',monospace\"><span style=\"background-color: #800000; font-weight: bold\"> ERROR </span><span style=\"color: #800000; text-decoration-color: #800000; font-weight: bold\"> No entry in quote with quote_compound=56174!</span>\n",
       "</pre>\n"
      ],
      "text/plain": [
       "\u001b[1;7;31m ERROR \u001b[0m\u001b[1;31m No entry in quote with quote_compound=56174!\u001b[0m\n"
      ]
     },
     "metadata": {},
     "output_type": "display_data"
    },
    {
     "data": {
      "text/html": [
       "<pre style=\"white-space:pre;overflow-x:auto;line-height:normal;font-family:Menlo,'DejaVu Sans Mono',consolas,'Courier New',monospace\"><span style=\"background-color: #800000; font-weight: bold\"> ERROR </span><span style=\"color: #800000; text-decoration-color: #800000; font-weight: bold\"> No entry in quote with quote_compound=56172!</span>\n",
       "</pre>\n"
      ],
      "text/plain": [
       "\u001b[1;7;31m ERROR \u001b[0m\u001b[1;31m No entry in quote with quote_compound=56172!\u001b[0m\n"
      ]
     },
     "metadata": {},
     "output_type": "display_data"
    },
    {
     "data": {
      "text/html": [
       "<pre style=\"white-space:pre;overflow-x:auto;line-height:normal;font-family:Menlo,'DejaVu Sans Mono',consolas,'Courier New',monospace\"><span style=\"background-color: #800000; font-weight: bold\"> ERROR </span><span style=\"color: #800000; text-decoration-color: #800000; font-weight: bold\"> Reactants not available for reaction=\u001b[1m\u001b[4mR53780: C251 + C56171 -&gt; C56172 via Amidation\u001b[22m\u001b[24m!</span>\n",
       "</pre>\n"
      ],
      "text/plain": [
       "\u001b[1;7;31m ERROR \u001b[0m\u001b[1;31m Reactants not available for reaction=\u001b[1m\u001b[4mR53780: C251 + C56171 -> C56172 via Amidation\u001b[22m\u001b[24m!\u001b[0m\n"
      ]
     },
     "metadata": {},
     "output_type": "display_data"
    },
    {
     "data": {
      "text/html": [
       "<pre style=\"white-space:pre;overflow-x:auto;line-height:normal;font-family:Menlo,'DejaVu Sans Mono',consolas,'Courier New',monospace\"><span style=\"background-color: #800000; font-weight: bold\"> ERROR </span><span style=\"color: #800000; text-decoration-color: #800000; font-weight: bold\"> No entry in quote with quote_compound=56174!</span>\n",
       "</pre>\n"
      ],
      "text/plain": [
       "\u001b[1;7;31m ERROR \u001b[0m\u001b[1;31m No entry in quote with quote_compound=56174!\u001b[0m\n"
      ]
     },
     "metadata": {},
     "output_type": "display_data"
    },
    {
     "data": {
      "text/html": [
       "<pre style=\"white-space:pre;overflow-x:auto;line-height:normal;font-family:Menlo,'DejaVu Sans Mono',consolas,'Courier New',monospace\"><span style=\"background-color: #800000; font-weight: bold\"> ERROR </span><span style=\"color: #800000; text-decoration-color: #800000; font-weight: bold\"> Reactants not available for reaction=\u001b[1m\u001b[4mR53789: C56172 + C56183 -&gt; C56174 via Ester_amidation\u001b[22m\u001b[24m!</span>\n",
       "</pre>\n"
      ],
      "text/plain": [
       "\u001b[1;7;31m ERROR \u001b[0m\u001b[1;31m Reactants not available for reaction=\u001b[1m\u001b[4mR53789: C56172 + C56183 -> C56174 via Ester_amidation\u001b[22m\u001b[24m!\u001b[0m\n"
      ]
     },
     "metadata": {},
     "output_type": "display_data"
    },
    {
     "data": {
      "text/html": [
       "<pre style=\"white-space:pre;overflow-x:auto;line-height:normal;font-family:Menlo,'DejaVu Sans Mono',consolas,'Courier New',monospace\"><span style=\"background-color: #800000; font-weight: bold\"> ERROR </span><span style=\"color: #800000; text-decoration-color: #800000; font-weight: bold\"> No entry in quote with quote_compound=56174!</span>\n",
       "</pre>\n"
      ],
      "text/plain": [
       "\u001b[1;7;31m ERROR \u001b[0m\u001b[1;31m No entry in quote with quote_compound=56174!\u001b[0m\n"
      ]
     },
     "metadata": {},
     "output_type": "display_data"
    },
    {
     "data": {
      "text/html": [
       "<pre style=\"white-space:pre;overflow-x:auto;line-height:normal;font-family:Menlo,'DejaVu Sans Mono',consolas,'Courier New',monospace\"><span style=\"background-color: #800000; font-weight: bold\"> ERROR </span><span style=\"color: #800000; text-decoration-color: #800000; font-weight: bold\"> Reactants not available for reaction=\u001b[1m\u001b[4mR53790: C56172 + C56184 -&gt; C56174 via Ester_amidation\u001b[22m\u001b[24m!</span>\n",
       "</pre>\n"
      ],
      "text/plain": [
       "\u001b[1;7;31m ERROR \u001b[0m\u001b[1;31m Reactants not available for reaction=\u001b[1m\u001b[4mR53790: C56172 + C56184 -> C56174 via Ester_amidation\u001b[22m\u001b[24m!\u001b[0m\n"
      ]
     },
     "metadata": {},
     "output_type": "display_data"
    },
    {
     "data": {
      "text/html": [
       "<pre style=\"white-space:pre;overflow-x:auto;line-height:normal;font-family:Menlo,'DejaVu Sans Mono',consolas,'Courier New',monospace\"><span style=\"background-color: #800000; font-weight: bold\"> ERROR </span><span style=\"color: #800000; text-decoration-color: #800000; font-weight: bold\"> No entry in quote with quote_compound=167!</span>\n",
       "</pre>\n"
      ],
      "text/plain": [
       "\u001b[1;7;31m ERROR \u001b[0m\u001b[1;31m No entry in quote with quote_compound=167!\u001b[0m\n"
      ]
     },
     "metadata": {},
     "output_type": "display_data"
    },
    {
     "data": {
      "text/html": [
       "<pre style=\"white-space:pre;overflow-x:auto;line-height:normal;font-family:Menlo,'DejaVu Sans Mono',consolas,'Courier New',monospace\"><span style=\"background-color: #800000; font-weight: bold\"> ERROR </span><span style=\"color: #800000; text-decoration-color: #800000; font-weight: bold\"> No entry in quote with quote_compound=56187!</span>\n",
       "</pre>\n"
      ],
      "text/plain": [
       "\u001b[1;7;31m ERROR \u001b[0m\u001b[1;31m No entry in quote with quote_compound=56187!\u001b[0m\n"
      ]
     },
     "metadata": {},
     "output_type": "display_data"
    },
    {
     "data": {
      "text/html": [
       "<pre style=\"white-space:pre;overflow-x:auto;line-height:normal;font-family:Menlo,'DejaVu Sans Mono',consolas,'Courier New',monospace\"><span style=\"background-color: #800000; font-weight: bold\"> ERROR </span><span style=\"color: #800000; text-decoration-color: #800000; font-weight: bold\"> No entry in quote with quote_compound=56186!</span>\n",
       "</pre>\n"
      ],
      "text/plain": [
       "\u001b[1;7;31m ERROR \u001b[0m\u001b[1;31m No entry in quote with quote_compound=56186!\u001b[0m\n"
      ]
     },
     "metadata": {},
     "output_type": "display_data"
    },
    {
     "data": {
      "text/html": [
       "<pre style=\"white-space:pre;overflow-x:auto;line-height:normal;font-family:Menlo,'DejaVu Sans Mono',consolas,'Courier New',monospace\"><span style=\"background-color: #800000; font-weight: bold\"> ERROR </span><span style=\"color: #800000; text-decoration-color: #800000; font-weight: bold\"> Reactants not available for reaction=\u001b[1m\u001b[4mR53792: C251 + C56185 -&gt; C56186 via Amidation\u001b[22m\u001b[24m!</span>\n",
       "</pre>\n"
      ],
      "text/plain": [
       "\u001b[1;7;31m ERROR \u001b[0m\u001b[1;31m Reactants not available for reaction=\u001b[1m\u001b[4mR53792: C251 + C56185 -> C56186 via Amidation\u001b[22m\u001b[24m!\u001b[0m\n"
      ]
     },
     "metadata": {},
     "output_type": "display_data"
    },
    {
     "data": {
      "text/html": [
       "<pre style=\"white-space:pre;overflow-x:auto;line-height:normal;font-family:Menlo,'DejaVu Sans Mono',consolas,'Courier New',monospace\"><span style=\"background-color: #800000; font-weight: bold\"> ERROR </span><span style=\"color: #800000; text-decoration-color: #800000; font-weight: bold\"> No entry in quote with quote_compound=56187!</span>\n",
       "</pre>\n"
      ],
      "text/plain": [
       "\u001b[1;7;31m ERROR \u001b[0m\u001b[1;31m No entry in quote with quote_compound=56187!\u001b[0m\n"
      ]
     },
     "metadata": {},
     "output_type": "display_data"
    },
    {
     "data": {
      "text/html": [
       "<pre style=\"white-space:pre;overflow-x:auto;line-height:normal;font-family:Menlo,'DejaVu Sans Mono',consolas,'Courier New',monospace\"><span style=\"background-color: #800000; font-weight: bold\"> ERROR </span><span style=\"color: #800000; text-decoration-color: #800000; font-weight: bold\"> Reactants not available for reaction=\u001b[1m\u001b[4mR53795: C56177 + C56186 -&gt; C56187 via Ester_amidation\u001b[22m\u001b[24m!</span>\n",
       "</pre>\n"
      ],
      "text/plain": [
       "\u001b[1;7;31m ERROR \u001b[0m\u001b[1;31m Reactants not available for reaction=\u001b[1m\u001b[4mR53795: C56177 + C56186 -> C56187 via Ester_amidation\u001b[22m\u001b[24m!\u001b[0m\n"
      ]
     },
     "metadata": {},
     "output_type": "display_data"
    },
    {
     "data": {
      "text/html": [
       "<pre style=\"white-space:pre;overflow-x:auto;line-height:normal;font-family:Menlo,'DejaVu Sans Mono',consolas,'Courier New',monospace\"><span style=\"background-color: #800000; font-weight: bold\"> ERROR </span><span style=\"color: #800000; text-decoration-color: #800000; font-weight: bold\"> No entry in quote with quote_compound=56187!</span>\n",
       "</pre>\n"
      ],
      "text/plain": [
       "\u001b[1;7;31m ERROR \u001b[0m\u001b[1;31m No entry in quote with quote_compound=56187!\u001b[0m\n"
      ]
     },
     "metadata": {},
     "output_type": "display_data"
    },
    {
     "data": {
      "text/html": [
       "<pre style=\"white-space:pre;overflow-x:auto;line-height:normal;font-family:Menlo,'DejaVu Sans Mono',consolas,'Courier New',monospace\"><span style=\"background-color: #800000; font-weight: bold\"> ERROR </span><span style=\"color: #800000; text-decoration-color: #800000; font-weight: bold\"> Reactants not available for reaction=\u001b[1m\u001b[4mR53796: C56178 + C56186 -&gt; C56187 via Ester_amidation\u001b[22m\u001b[24m!</span>\n",
       "</pre>\n"
      ],
      "text/plain": [
       "\u001b[1;7;31m ERROR \u001b[0m\u001b[1;31m Reactants not available for reaction=\u001b[1m\u001b[4mR53796: C56178 + C56186 -> C56187 via Ester_amidation\u001b[22m\u001b[24m!\u001b[0m\n"
      ]
     },
     "metadata": {},
     "output_type": "display_data"
    },
    {
     "data": {
      "text/html": [
       "<pre style=\"white-space:pre;overflow-x:auto;line-height:normal;font-family:Menlo,'DejaVu Sans Mono',consolas,'Courier New',monospace\"><span style=\"background-color: #800000; font-weight: bold\"> ERROR </span><span style=\"color: #800000; text-decoration-color: #800000; font-weight: bold\"> No entry in quote with quote_compound=56187!</span>\n",
       "</pre>\n"
      ],
      "text/plain": [
       "\u001b[1;7;31m ERROR \u001b[0m\u001b[1;31m No entry in quote with quote_compound=56187!\u001b[0m\n"
      ]
     },
     "metadata": {},
     "output_type": "display_data"
    },
    {
     "data": {
      "text/html": [
       "<pre style=\"white-space:pre;overflow-x:auto;line-height:normal;font-family:Menlo,'DejaVu Sans Mono',consolas,'Courier New',monospace\"><span style=\"background-color: #800000; font-weight: bold\"> ERROR </span><span style=\"color: #800000; text-decoration-color: #800000; font-weight: bold\"> No entry in quote with quote_compound=56186!</span>\n",
       "</pre>\n"
      ],
      "text/plain": [
       "\u001b[1;7;31m ERROR \u001b[0m\u001b[1;31m No entry in quote with quote_compound=56186!\u001b[0m\n"
      ]
     },
     "metadata": {},
     "output_type": "display_data"
    },
    {
     "data": {
      "text/html": [
       "<pre style=\"white-space:pre;overflow-x:auto;line-height:normal;font-family:Menlo,'DejaVu Sans Mono',consolas,'Courier New',monospace\"><span style=\"background-color: #800000; font-weight: bold\"> ERROR </span><span style=\"color: #800000; text-decoration-color: #800000; font-weight: bold\"> Reactants not available for reaction=\u001b[1m\u001b[4mR53792: C251 + C56185 -&gt; C56186 via Amidation\u001b[22m\u001b[24m!</span>\n",
       "</pre>\n"
      ],
      "text/plain": [
       "\u001b[1;7;31m ERROR \u001b[0m\u001b[1;31m Reactants not available for reaction=\u001b[1m\u001b[4mR53792: C251 + C56185 -> C56186 via Amidation\u001b[22m\u001b[24m!\u001b[0m\n"
      ]
     },
     "metadata": {},
     "output_type": "display_data"
    },
    {
     "data": {
      "text/html": [
       "<pre style=\"white-space:pre;overflow-x:auto;line-height:normal;font-family:Menlo,'DejaVu Sans Mono',consolas,'Courier New',monospace\"><span style=\"background-color: #800000; font-weight: bold\"> ERROR </span><span style=\"color: #800000; text-decoration-color: #800000; font-weight: bold\"> No entry in quote with quote_compound=56187!</span>\n",
       "</pre>\n"
      ],
      "text/plain": [
       "\u001b[1;7;31m ERROR \u001b[0m\u001b[1;31m No entry in quote with quote_compound=56187!\u001b[0m\n"
      ]
     },
     "metadata": {},
     "output_type": "display_data"
    },
    {
     "data": {
      "text/html": [
       "<pre style=\"white-space:pre;overflow-x:auto;line-height:normal;font-family:Menlo,'DejaVu Sans Mono',consolas,'Courier New',monospace\"><span style=\"background-color: #800000; font-weight: bold\"> ERROR </span><span style=\"color: #800000; text-decoration-color: #800000; font-weight: bold\"> No entry in quote with quote_compound=56186!</span>\n",
       "</pre>\n"
      ],
      "text/plain": [
       "\u001b[1;7;31m ERROR \u001b[0m\u001b[1;31m No entry in quote with quote_compound=56186!\u001b[0m\n"
      ]
     },
     "metadata": {},
     "output_type": "display_data"
    },
    {
     "data": {
      "text/html": [
       "<pre style=\"white-space:pre;overflow-x:auto;line-height:normal;font-family:Menlo,'DejaVu Sans Mono',consolas,'Courier New',monospace\"><span style=\"background-color: #800000; font-weight: bold\"> ERROR </span><span style=\"color: #800000; text-decoration-color: #800000; font-weight: bold\"> Reactants not available for reaction=\u001b[1m\u001b[4mR53792: C251 + C56185 -&gt; C56186 via Amidation\u001b[22m\u001b[24m!</span>\n",
       "</pre>\n"
      ],
      "text/plain": [
       "\u001b[1;7;31m ERROR \u001b[0m\u001b[1;31m Reactants not available for reaction=\u001b[1m\u001b[4mR53792: C251 + C56185 -> C56186 via Amidation\u001b[22m\u001b[24m!\u001b[0m\n"
      ]
     },
     "metadata": {},
     "output_type": "display_data"
    },
    {
     "data": {
      "text/html": [
       "<pre style=\"white-space:pre;overflow-x:auto;line-height:normal;font-family:Menlo,'DejaVu Sans Mono',consolas,'Courier New',monospace\"><span style=\"background-color: #800000; font-weight: bold\"> ERROR </span><span style=\"color: #800000; text-decoration-color: #800000; font-weight: bold\"> No entry in quote with quote_compound=56187!</span>\n",
       "</pre>\n"
      ],
      "text/plain": [
       "\u001b[1;7;31m ERROR \u001b[0m\u001b[1;31m No entry in quote with quote_compound=56187!\u001b[0m\n"
      ]
     },
     "metadata": {},
     "output_type": "display_data"
    },
    {
     "data": {
      "text/html": [
       "<pre style=\"white-space:pre;overflow-x:auto;line-height:normal;font-family:Menlo,'DejaVu Sans Mono',consolas,'Courier New',monospace\"><span style=\"background-color: #800000; font-weight: bold\"> ERROR </span><span style=\"color: #800000; text-decoration-color: #800000; font-weight: bold\"> Reactants not available for reaction=\u001b[1m\u001b[4mR53799: C56181 + C56186 -&gt; C56187 via Ester_amidation\u001b[22m\u001b[24m!</span>\n",
       "</pre>\n"
      ],
      "text/plain": [
       "\u001b[1;7;31m ERROR \u001b[0m\u001b[1;31m Reactants not available for reaction=\u001b[1m\u001b[4mR53799: C56181 + C56186 -> C56187 via Ester_amidation\u001b[22m\u001b[24m!\u001b[0m\n"
      ]
     },
     "metadata": {},
     "output_type": "display_data"
    },
    {
     "data": {
      "text/html": [
       "<pre style=\"white-space:pre;overflow-x:auto;line-height:normal;font-family:Menlo,'DejaVu Sans Mono',consolas,'Courier New',monospace\"><span style=\"background-color: #800000; font-weight: bold\"> ERROR </span><span style=\"color: #800000; text-decoration-color: #800000; font-weight: bold\"> No entry in quote with quote_compound=56187!</span>\n",
       "</pre>\n"
      ],
      "text/plain": [
       "\u001b[1;7;31m ERROR \u001b[0m\u001b[1;31m No entry in quote with quote_compound=56187!\u001b[0m\n"
      ]
     },
     "metadata": {},
     "output_type": "display_data"
    },
    {
     "data": {
      "text/html": [
       "<pre style=\"white-space:pre;overflow-x:auto;line-height:normal;font-family:Menlo,'DejaVu Sans Mono',consolas,'Courier New',monospace\"><span style=\"background-color: #800000; font-weight: bold\"> ERROR </span><span style=\"color: #800000; text-decoration-color: #800000; font-weight: bold\"> No entry in quote with quote_compound=56186!</span>\n",
       "</pre>\n"
      ],
      "text/plain": [
       "\u001b[1;7;31m ERROR \u001b[0m\u001b[1;31m No entry in quote with quote_compound=56186!\u001b[0m\n"
      ]
     },
     "metadata": {},
     "output_type": "display_data"
    },
    {
     "data": {
      "text/html": [
       "<pre style=\"white-space:pre;overflow-x:auto;line-height:normal;font-family:Menlo,'DejaVu Sans Mono',consolas,'Courier New',monospace\"><span style=\"background-color: #800000; font-weight: bold\"> ERROR </span><span style=\"color: #800000; text-decoration-color: #800000; font-weight: bold\"> Reactants not available for reaction=\u001b[1m\u001b[4mR53792: C251 + C56185 -&gt; C56186 via Amidation\u001b[22m\u001b[24m!</span>\n",
       "</pre>\n"
      ],
      "text/plain": [
       "\u001b[1;7;31m ERROR \u001b[0m\u001b[1;31m Reactants not available for reaction=\u001b[1m\u001b[4mR53792: C251 + C56185 -> C56186 via Amidation\u001b[22m\u001b[24m!\u001b[0m\n"
      ]
     },
     "metadata": {},
     "output_type": "display_data"
    },
    {
     "data": {
      "text/html": [
       "<pre style=\"white-space:pre;overflow-x:auto;line-height:normal;font-family:Menlo,'DejaVu Sans Mono',consolas,'Courier New',monospace\"><span style=\"background-color: #800000; font-weight: bold\"> ERROR </span><span style=\"color: #800000; text-decoration-color: #800000; font-weight: bold\"> No entry in quote with quote_compound=56187!</span>\n",
       "</pre>\n"
      ],
      "text/plain": [
       "\u001b[1;7;31m ERROR \u001b[0m\u001b[1;31m No entry in quote with quote_compound=56187!\u001b[0m\n"
      ]
     },
     "metadata": {},
     "output_type": "display_data"
    },
    {
     "data": {
      "text/html": [
       "<pre style=\"white-space:pre;overflow-x:auto;line-height:normal;font-family:Menlo,'DejaVu Sans Mono',consolas,'Courier New',monospace\"><span style=\"background-color: #800000; font-weight: bold\"> ERROR </span><span style=\"color: #800000; text-decoration-color: #800000; font-weight: bold\"> Reactants not available for reaction=\u001b[1m\u001b[4mR53801: C56183 + C56186 -&gt; C56187 via Ester_amidation\u001b[22m\u001b[24m!</span>\n",
       "</pre>\n"
      ],
      "text/plain": [
       "\u001b[1;7;31m ERROR \u001b[0m\u001b[1;31m Reactants not available for reaction=\u001b[1m\u001b[4mR53801: C56183 + C56186 -> C56187 via Ester_amidation\u001b[22m\u001b[24m!\u001b[0m\n"
      ]
     },
     "metadata": {},
     "output_type": "display_data"
    },
    {
     "data": {
      "text/html": [
       "<pre style=\"white-space:pre;overflow-x:auto;line-height:normal;font-family:Menlo,'DejaVu Sans Mono',consolas,'Courier New',monospace\"><span style=\"background-color: #800000; font-weight: bold\"> ERROR </span><span style=\"color: #800000; text-decoration-color: #800000; font-weight: bold\"> No entry in quote with quote_compound=56187!</span>\n",
       "</pre>\n"
      ],
      "text/plain": [
       "\u001b[1;7;31m ERROR \u001b[0m\u001b[1;31m No entry in quote with quote_compound=56187!\u001b[0m\n"
      ]
     },
     "metadata": {},
     "output_type": "display_data"
    },
    {
     "data": {
      "text/html": [
       "<pre style=\"white-space:pre;overflow-x:auto;line-height:normal;font-family:Menlo,'DejaVu Sans Mono',consolas,'Courier New',monospace\"><span style=\"background-color: #800000; font-weight: bold\"> ERROR </span><span style=\"color: #800000; text-decoration-color: #800000; font-weight: bold\"> Reactants not available for reaction=\u001b[1m\u001b[4mR53802: C56184 + C56186 -&gt; C56187 via Ester_amidation\u001b[22m\u001b[24m!</span>\n",
       "</pre>\n"
      ],
      "text/plain": [
       "\u001b[1;7;31m ERROR \u001b[0m\u001b[1;31m Reactants not available for reaction=\u001b[1m\u001b[4mR53802: C56184 + C56186 -> C56187 via Ester_amidation\u001b[22m\u001b[24m!\u001b[0m\n"
      ]
     },
     "metadata": {},
     "output_type": "display_data"
    },
    {
     "data": {
      "text/html": [
       "<pre style=\"white-space:pre;overflow-x:auto;line-height:normal;font-family:Menlo,'DejaVu Sans Mono',consolas,'Courier New',monospace\"><span style=\"background-color: #800000; font-weight: bold\"> ERROR </span><span style=\"color: #800000; text-decoration-color: #800000; font-weight: bold\"> No entry in quote with quote_compound=194!</span>\n",
       "</pre>\n"
      ],
      "text/plain": [
       "\u001b[1;7;31m ERROR \u001b[0m\u001b[1;31m No entry in quote with quote_compound=194!\u001b[0m\n"
      ]
     },
     "metadata": {},
     "output_type": "display_data"
    },
    {
     "data": {
      "text/html": [
       "<pre style=\"white-space:pre;overflow-x:auto;line-height:normal;font-family:Menlo,'DejaVu Sans Mono',consolas,'Courier New',monospace\"><span style=\"background-color: #800000; font-weight: bold\"> ERROR </span><span style=\"color: #800000; text-decoration-color: #800000; font-weight: bold\"> No entry in quote with quote_compound=197!</span>\n",
       "</pre>\n"
      ],
      "text/plain": [
       "\u001b[1;7;31m ERROR \u001b[0m\u001b[1;31m No entry in quote with quote_compound=197!\u001b[0m\n"
      ]
     },
     "metadata": {},
     "output_type": "display_data"
    },
    {
     "data": {
      "text/html": [
       "<pre style=\"white-space:pre;overflow-x:auto;line-height:normal;font-family:Menlo,'DejaVu Sans Mono',consolas,'Courier New',monospace\"><span style=\"background-color: #800000; font-weight: bold\"> ERROR </span><span style=\"color: #800000; text-decoration-color: #800000; font-weight: bold\"> No entry in quote with quote_compound=91!</span>\n",
       "</pre>\n"
      ],
      "text/plain": [
       "\u001b[1;7;31m ERROR \u001b[0m\u001b[1;31m No entry in quote with quote_compound=91!\u001b[0m\n"
      ]
     },
     "metadata": {},
     "output_type": "display_data"
    },
    {
     "data": {
      "text/html": [
       "<pre style=\"white-space:pre;overflow-x:auto;line-height:normal;font-family:Menlo,'DejaVu Sans Mono',consolas,'Courier New',monospace\"><span style=\"background-color: #800000; font-weight: bold\"> ERROR </span><span style=\"color: #800000; text-decoration-color: #800000; font-weight: bold\"> No entry in quote with quote_compound=92!</span>\n",
       "</pre>\n"
      ],
      "text/plain": [
       "\u001b[1;7;31m ERROR \u001b[0m\u001b[1;31m No entry in quote with quote_compound=92!\u001b[0m\n"
      ]
     },
     "metadata": {},
     "output_type": "display_data"
    },
    {
     "data": {
      "text/html": [
       "<pre style=\"white-space:pre;overflow-x:auto;line-height:normal;font-family:Menlo,'DejaVu Sans Mono',consolas,'Courier New',monospace\"><span style=\"background-color: #800000; font-weight: bold\"> ERROR </span><span style=\"color: #800000; text-decoration-color: #800000; font-weight: bold\"> No entry in quote with quote_compound=73!</span>\n",
       "</pre>\n"
      ],
      "text/plain": [
       "\u001b[1;7;31m ERROR \u001b[0m\u001b[1;31m No entry in quote with quote_compound=73!\u001b[0m\n"
      ]
     },
     "metadata": {},
     "output_type": "display_data"
    },
    {
     "data": {
      "text/html": [
       "<pre style=\"white-space:pre;overflow-x:auto;line-height:normal;font-family:Menlo,'DejaVu Sans Mono',consolas,'Courier New',monospace\"><span style=\"background-color: #800000; font-weight: bold\"> ERROR </span><span style=\"color: #800000; text-decoration-color: #800000; font-weight: bold\"> No entry in quote with quote_compound=93!</span>\n",
       "</pre>\n"
      ],
      "text/plain": [
       "\u001b[1;7;31m ERROR \u001b[0m\u001b[1;31m No entry in quote with quote_compound=93!\u001b[0m\n"
      ]
     },
     "metadata": {},
     "output_type": "display_data"
    },
    {
     "data": {
      "text/html": [
       "<pre style=\"white-space:pre;overflow-x:auto;line-height:normal;font-family:Menlo,'DejaVu Sans Mono',consolas,'Courier New',monospace\"><span style=\"background-color: #800000; font-weight: bold\"> ERROR </span><span style=\"color: #800000; text-decoration-color: #800000; font-weight: bold\"> No entry in quote with quote_compound=94!</span>\n",
       "</pre>\n"
      ],
      "text/plain": [
       "\u001b[1;7;31m ERROR \u001b[0m\u001b[1;31m No entry in quote with quote_compound=94!\u001b[0m\n"
      ]
     },
     "metadata": {},
     "output_type": "display_data"
    },
    {
     "data": {
      "text/html": [
       "<pre style=\"white-space:pre;overflow-x:auto;line-height:normal;font-family:Menlo,'DejaVu Sans Mono',consolas,'Courier New',monospace\"><span style=\"background-color: #800000; font-weight: bold\"> ERROR </span><span style=\"color: #800000; text-decoration-color: #800000; font-weight: bold\"> Reactants not available for reaction=\u001b[1m\u001b[4mR69845: C71591 + C71592 -&gt; C94 via Amidation\u001b[22m\u001b[24m!</span>\n",
       "</pre>\n"
      ],
      "text/plain": [
       "\u001b[1;7;31m ERROR \u001b[0m\u001b[1;31m Reactants not available for reaction=\u001b[1m\u001b[4mR69845: C71591 + C71592 -> C94 via Amidation\u001b[22m\u001b[24m!\u001b[0m\n"
      ]
     },
     "metadata": {},
     "output_type": "display_data"
    },
    {
     "data": {
      "text/html": [
       "<pre style=\"white-space:pre;overflow-x:auto;line-height:normal;font-family:Menlo,'DejaVu Sans Mono',consolas,'Courier New',monospace\"><span style=\"background-color: #800000; font-weight: bold\"> ERROR </span><span style=\"color: #800000; text-decoration-color: #800000; font-weight: bold\"> No entry in quote with quote_compound=236!</span>\n",
       "</pre>\n"
      ],
      "text/plain": [
       "\u001b[1;7;31m ERROR \u001b[0m\u001b[1;31m No entry in quote with quote_compound=236!\u001b[0m\n"
      ]
     },
     "metadata": {},
     "output_type": "display_data"
    },
    {
     "data": {
      "text/html": [
       "<pre style=\"white-space:pre;overflow-x:auto;line-height:normal;font-family:Menlo,'DejaVu Sans Mono',consolas,'Courier New',monospace\"><span style=\"background-color: #800000; font-weight: bold\"> ERROR </span><span style=\"color: #800000; text-decoration-color: #800000; font-weight: bold\"> No entry in quote with quote_compound=237!</span>\n",
       "</pre>\n"
      ],
      "text/plain": [
       "\u001b[1;7;31m ERROR \u001b[0m\u001b[1;31m No entry in quote with quote_compound=237!\u001b[0m\n"
      ]
     },
     "metadata": {},
     "output_type": "display_data"
    },
    {
     "data": {
      "text/html": [
       "<pre style=\"white-space:pre;overflow-x:auto;line-height:normal;font-family:Menlo,'DejaVu Sans Mono',consolas,'Courier New',monospace\"><span style=\"background-color: #800000; font-weight: bold\"> ERROR </span><span style=\"color: #800000; text-decoration-color: #800000; font-weight: bold\"> Reactants not available for reaction=\u001b[1m\u001b[4mR72327: C71591 + C74041 -&gt; C237 via Amidation\u001b[22m\u001b[24m!</span>\n",
       "</pre>\n"
      ],
      "text/plain": [
       "\u001b[1;7;31m ERROR \u001b[0m\u001b[1;31m Reactants not available for reaction=\u001b[1m\u001b[4mR72327: C71591 + C74041 -> C237 via Amidation\u001b[22m\u001b[24m!\u001b[0m\n"
      ]
     },
     "metadata": {},
     "output_type": "display_data"
    },
    {
     "data": {
      "text/html": [
       "<pre style=\"white-space:pre;overflow-x:auto;line-height:normal;font-family:Menlo,'DejaVu Sans Mono',consolas,'Courier New',monospace\"><span style=\"background-color: #800000; font-weight: bold\"> ERROR </span><span style=\"color: #800000; text-decoration-color: #800000; font-weight: bold\"> No entry in quote with quote_compound=238!</span>\n",
       "</pre>\n"
      ],
      "text/plain": [
       "\u001b[1;7;31m ERROR \u001b[0m\u001b[1;31m No entry in quote with quote_compound=238!\u001b[0m\n"
      ]
     },
     "metadata": {},
     "output_type": "display_data"
    },
    {
     "data": {
      "text/html": [
       "<pre style=\"white-space:pre;overflow-x:auto;line-height:normal;font-family:Menlo,'DejaVu Sans Mono',consolas,'Courier New',monospace\"><span style=\"background-color: #800000; font-weight: bold\"> ERROR </span><span style=\"color: #800000; text-decoration-color: #800000; font-weight: bold\"> Reactants not available for reaction=\u001b[1m\u001b[4mR72343: C71591 + C74058 -&gt; C238 via Amidation\u001b[22m\u001b[24m!</span>\n",
       "</pre>\n"
      ],
      "text/plain": [
       "\u001b[1;7;31m ERROR \u001b[0m\u001b[1;31m Reactants not available for reaction=\u001b[1m\u001b[4mR72343: C71591 + C74058 -> C238 via Amidation\u001b[22m\u001b[24m!\u001b[0m\n"
      ]
     },
     "metadata": {},
     "output_type": "display_data"
    },
    {
     "data": {
      "text/html": [
       "<pre style=\"white-space:pre;overflow-x:auto;line-height:normal;font-family:Menlo,'DejaVu Sans Mono',consolas,'Courier New',monospace\"><span style=\"background-color: #800000; font-weight: bold\"> ERROR </span><span style=\"color: #800000; text-decoration-color: #800000; font-weight: bold\"> No entry in quote with quote_compound=95!</span>\n",
       "</pre>\n"
      ],
      "text/plain": [
       "\u001b[1;7;31m ERROR \u001b[0m\u001b[1;31m No entry in quote with quote_compound=95!\u001b[0m\n"
      ]
     },
     "metadata": {},
     "output_type": "display_data"
    },
    {
     "data": {
      "text/html": [
       "<pre style=\"white-space:pre;overflow-x:auto;line-height:normal;font-family:Menlo,'DejaVu Sans Mono',consolas,'Courier New',monospace\"><span style=\"background-color: #800000; font-weight: bold\"> ERROR </span><span style=\"color: #800000; text-decoration-color: #800000; font-weight: bold\"> Reactants not available for reaction=\u001b[1m\u001b[4mR73581: C71591 + C75662 -&gt; C95 via Amidation\u001b[22m\u001b[24m!</span>\n",
       "</pre>\n"
      ],
      "text/plain": [
       "\u001b[1;7;31m ERROR \u001b[0m\u001b[1;31m Reactants not available for reaction=\u001b[1m\u001b[4mR73581: C71591 + C75662 -> C95 via Amidation\u001b[22m\u001b[24m!\u001b[0m\n"
      ]
     },
     "metadata": {},
     "output_type": "display_data"
    },
    {
     "data": {
      "text/html": [
       "<pre style=\"white-space:pre;overflow-x:auto;line-height:normal;font-family:Menlo,'DejaVu Sans Mono',consolas,'Courier New',monospace\"><span style=\"background-color: #800000; font-weight: bold\"> ERROR </span><span style=\"color: #800000; text-decoration-color: #800000; font-weight: bold\"> No entry in quote with quote_compound=204!</span>\n",
       "</pre>\n"
      ],
      "text/plain": [
       "\u001b[1;7;31m ERROR \u001b[0m\u001b[1;31m No entry in quote with quote_compound=204!\u001b[0m\n"
      ]
     },
     "metadata": {},
     "output_type": "display_data"
    },
    {
     "data": {
      "text/html": [
       "<pre style=\"white-space:pre;overflow-x:auto;line-height:normal;font-family:Menlo,'DejaVu Sans Mono',consolas,'Courier New',monospace\"><span style=\"background-color: #800000; font-weight: bold\"> ERROR </span><span style=\"color: #800000; text-decoration-color: #800000; font-weight: bold\"> No entry in quote with quote_compound=203!</span>\n",
       "</pre>\n"
      ],
      "text/plain": [
       "\u001b[1;7;31m ERROR \u001b[0m\u001b[1;31m No entry in quote with quote_compound=203!\u001b[0m\n"
      ]
     },
     "metadata": {},
     "output_type": "display_data"
    },
    {
     "data": {
      "text/html": [
       "<pre style=\"white-space:pre;overflow-x:auto;line-height:normal;font-family:Menlo,'DejaVu Sans Mono',consolas,'Courier New',monospace\"><span style=\"background-color: #800000; font-weight: bold\"> ERROR </span><span style=\"color: #800000; text-decoration-color: #800000; font-weight: bold\"> Reactants not available for reaction=\u001b[1m\u001b[4mR77206: C79456 + C79457 -&gt; C203 via Amidation\u001b[22m\u001b[24m!</span>\n",
       "</pre>\n"
      ],
      "text/plain": [
       "\u001b[1;7;31m ERROR \u001b[0m\u001b[1;31m Reactants not available for reaction=\u001b[1m\u001b[4mR77206: C79456 + C79457 -> C203 via Amidation\u001b[22m\u001b[24m!\u001b[0m\n"
      ]
     },
     "metadata": {},
     "output_type": "display_data"
    },
    {
     "data": {
      "text/html": [
       "<pre style=\"white-space:pre;overflow-x:auto;line-height:normal;font-family:Menlo,'DejaVu Sans Mono',consolas,'Courier New',monospace\"><span style=\"background-color: #800000; font-weight: bold\"> ERROR </span><span style=\"color: #800000; text-decoration-color: #800000; font-weight: bold\"> No entry in quote with quote_compound=240!</span>\n",
       "</pre>\n"
      ],
      "text/plain": [
       "\u001b[1;7;31m ERROR \u001b[0m\u001b[1;31m No entry in quote with quote_compound=240!\u001b[0m\n"
      ]
     },
     "metadata": {},
     "output_type": "display_data"
    },
    {
     "data": {
      "text/html": [
       "<pre style=\"white-space:pre;overflow-x:auto;line-height:normal;font-family:Menlo,'DejaVu Sans Mono',consolas,'Courier New',monospace\"><span style=\"background-color: #800000; font-weight: bold\"> ERROR </span><span style=\"color: #800000; text-decoration-color: #800000; font-weight: bold\"> No entry in quote with quote_compound=241!</span>\n",
       "</pre>\n"
      ],
      "text/plain": [
       "\u001b[1;7;31m ERROR \u001b[0m\u001b[1;31m No entry in quote with quote_compound=241!\u001b[0m\n"
      ]
     },
     "metadata": {},
     "output_type": "display_data"
    },
    {
     "data": {
      "text/html": [
       "<pre style=\"white-space:pre;overflow-x:auto;line-height:normal;font-family:Menlo,'DejaVu Sans Mono',consolas,'Courier New',monospace\"><span style=\"background-color: #800000; font-weight: bold\"> ERROR </span><span style=\"color: #800000; text-decoration-color: #800000; font-weight: bold\"> Reactants not available for reaction=\u001b[1m\u001b[4mR85211: C87346 + C87347 -&gt; C241 via </span>\n",
       "<span style=\"color: #800000; text-decoration-color: #800000; font-weight: bold\">Williamson_ether_synthesis\u001b[22m\u001b[24m!</span>\n",
       "</pre>\n"
      ],
      "text/plain": [
       "\u001b[1;7;31m ERROR \u001b[0m\u001b[1;31m Reactants not available for reaction=\u001b[1m\u001b[4mR85211: C87346 + C87347 -> C241 via \u001b[0m\n",
       "\u001b[1;31mWilliamson_ether_synthesis\u001b[22m\u001b[24m!\u001b[0m\n"
      ]
     },
     "metadata": {},
     "output_type": "display_data"
    },
    {
     "data": {
      "text/html": [
       "<pre style=\"white-space:pre;overflow-x:auto;line-height:normal;font-family:Menlo,'DejaVu Sans Mono',consolas,'Courier New',monospace\"><span style=\"background-color: #800000; font-weight: bold\"> ERROR </span><span style=\"color: #800000; text-decoration-color: #800000; font-weight: bold\"> No entry in quote with quote_compound=240!</span>\n",
       "</pre>\n"
      ],
      "text/plain": [
       "\u001b[1;7;31m ERROR \u001b[0m\u001b[1;31m No entry in quote with quote_compound=240!\u001b[0m\n"
      ]
     },
     "metadata": {},
     "output_type": "display_data"
    },
    {
     "data": {
      "text/html": [
       "<pre style=\"white-space:pre;overflow-x:auto;line-height:normal;font-family:Menlo,'DejaVu Sans Mono',consolas,'Courier New',monospace\"><span style=\"background-color: #800000; font-weight: bold\"> ERROR </span><span style=\"color: #800000; text-decoration-color: #800000; font-weight: bold\"> Reactants not available for reaction=\u001b[1m\u001b[4mR85247: C82226 + C87346 -&gt; C240 via </span>\n",
       "<span style=\"color: #800000; text-decoration-color: #800000; font-weight: bold\">Williamson_ether_synthesis\u001b[22m\u001b[24m!</span>\n",
       "</pre>\n"
      ],
      "text/plain": [
       "\u001b[1;7;31m ERROR \u001b[0m\u001b[1;31m Reactants not available for reaction=\u001b[1m\u001b[4mR85247: C82226 + C87346 -> C240 via \u001b[0m\n",
       "\u001b[1;31mWilliamson_ether_synthesis\u001b[22m\u001b[24m!\u001b[0m\n"
      ]
     },
     "metadata": {},
     "output_type": "display_data"
    },
    {
     "data": {
      "text/html": [
       "<pre style=\"white-space:pre;overflow-x:auto;line-height:normal;font-family:Menlo,'DejaVu Sans Mono',consolas,'Courier New',monospace\"><span style=\"background-color: #800000; font-weight: bold\"> ERROR </span><span style=\"color: #800000; text-decoration-color: #800000; font-weight: bold\"> No entry in quote with quote_compound=93!</span>\n",
       "</pre>\n"
      ],
      "text/plain": [
       "\u001b[1;7;31m ERROR \u001b[0m\u001b[1;31m No entry in quote with quote_compound=93!\u001b[0m\n"
      ]
     },
     "metadata": {},
     "output_type": "display_data"
    },
    {
     "data": {
      "text/html": [
       "<pre style=\"white-space:pre;overflow-x:auto;line-height:normal;font-family:Menlo,'DejaVu Sans Mono',consolas,'Courier New',monospace\"><span style=\"background-color: #800000; font-weight: bold\"> ERROR </span><span style=\"color: #800000; text-decoration-color: #800000; font-weight: bold\"> Reactants not available for reaction=\u001b[1m\u001b[4mR85648: C64553 + C87346 -&gt; C93 via </span>\n",
       "<span style=\"color: #800000; text-decoration-color: #800000; font-weight: bold\">Williamson_ether_synthesis\u001b[22m\u001b[24m!</span>\n",
       "</pre>\n"
      ],
      "text/plain": [
       "\u001b[1;7;31m ERROR \u001b[0m\u001b[1;31m Reactants not available for reaction=\u001b[1m\u001b[4mR85648: C64553 + C87346 -> C93 via \u001b[0m\n",
       "\u001b[1;31mWilliamson_ether_synthesis\u001b[22m\u001b[24m!\u001b[0m\n"
      ]
     },
     "metadata": {},
     "output_type": "display_data"
    },
    {
     "data": {
      "text/html": [
       "<pre style=\"white-space:pre;overflow-x:auto;line-height:normal;font-family:Menlo,'DejaVu Sans Mono',consolas,'Courier New',monospace\"><span style=\"background-color: #800000; font-weight: bold\"> ERROR </span><span style=\"color: #800000; text-decoration-color: #800000; font-weight: bold\"> No entry in quote with quote_compound=236!</span>\n",
       "</pre>\n"
      ],
      "text/plain": [
       "\u001b[1;7;31m ERROR \u001b[0m\u001b[1;31m No entry in quote with quote_compound=236!\u001b[0m\n"
      ]
     },
     "metadata": {},
     "output_type": "display_data"
    },
    {
     "data": {
      "text/html": [
       "<pre style=\"white-space:pre;overflow-x:auto;line-height:normal;font-family:Menlo,'DejaVu Sans Mono',consolas,'Courier New',monospace\"><span style=\"background-color: #800000; font-weight: bold\"> ERROR </span><span style=\"color: #800000; text-decoration-color: #800000; font-weight: bold\"> Reactants not available for reaction=\u001b[1m\u001b[4mR85683: C71708 + C87346 -&gt; C236 via </span>\n",
       "<span style=\"color: #800000; text-decoration-color: #800000; font-weight: bold\">Williamson_ether_synthesis\u001b[22m\u001b[24m!</span>\n",
       "</pre>\n"
      ],
      "text/plain": [
       "\u001b[1;7;31m ERROR \u001b[0m\u001b[1;31m Reactants not available for reaction=\u001b[1m\u001b[4mR85683: C71708 + C87346 -> C236 via \u001b[0m\n",
       "\u001b[1;31mWilliamson_ether_synthesis\u001b[22m\u001b[24m!\u001b[0m\n"
      ]
     },
     "metadata": {},
     "output_type": "display_data"
    },
    {
     "data": {
      "text/html": [
       "<pre style=\"white-space:pre;overflow-x:auto;line-height:normal;font-family:Menlo,'DejaVu Sans Mono',consolas,'Courier New',monospace\"><span style=\"background-color: #800000; font-weight: bold\"> ERROR </span><span style=\"color: #800000; text-decoration-color: #800000; font-weight: bold\"> No entry in quote with quote_compound=242!</span>\n",
       "</pre>\n"
      ],
      "text/plain": [
       "\u001b[1;7;31m ERROR \u001b[0m\u001b[1;31m No entry in quote with quote_compound=242!\u001b[0m\n"
      ]
     },
     "metadata": {},
     "output_type": "display_data"
    },
    {
     "data": {
      "text/html": [
       "<pre style=\"white-space:pre;overflow-x:auto;line-height:normal;font-family:Menlo,'DejaVu Sans Mono',consolas,'Courier New',monospace\"><span style=\"background-color: #800000; font-weight: bold\"> ERROR </span><span style=\"color: #800000; text-decoration-color: #800000; font-weight: bold\"> No entry in quote with quote_compound=244!</span>\n",
       "</pre>\n"
      ],
      "text/plain": [
       "\u001b[1;7;31m ERROR \u001b[0m\u001b[1;31m No entry in quote with quote_compound=244!\u001b[0m\n"
      ]
     },
     "metadata": {},
     "output_type": "display_data"
    },
    {
     "data": {
      "text/html": [
       "<pre style=\"white-space:pre;overflow-x:auto;line-height:normal;font-family:Menlo,'DejaVu Sans Mono',consolas,'Courier New',monospace\"><span style=\"background-color: #800000; font-weight: bold\"> ERROR </span><span style=\"color: #800000; text-decoration-color: #800000; font-weight: bold\"> Reactants not available for reaction=\u001b[1m\u001b[4mR92396: C71591 + C93285 -&gt; C244 via Amidation\u001b[22m\u001b[24m!</span>\n",
       "</pre>\n"
      ],
      "text/plain": [
       "\u001b[1;7;31m ERROR \u001b[0m\u001b[1;31m Reactants not available for reaction=\u001b[1m\u001b[4mR92396: C71591 + C93285 -> C244 via Amidation\u001b[22m\u001b[24m!\u001b[0m\n"
      ]
     },
     "metadata": {},
     "output_type": "display_data"
    },
    {
     "data": {
      "text/html": [
       "<pre style=\"white-space:pre;overflow-x:auto;line-height:normal;font-family:Menlo,'DejaVu Sans Mono',consolas,'Courier New',monospace\"><span style=\"background-color: #800000; font-weight: bold\"> ERROR </span><span style=\"color: #800000; text-decoration-color: #800000; font-weight: bold\"> No entry in quote with quote_compound=243!</span>\n",
       "</pre>\n"
      ],
      "text/plain": [
       "\u001b[1;7;31m ERROR \u001b[0m\u001b[1;31m No entry in quote with quote_compound=243!\u001b[0m\n"
      ]
     },
     "metadata": {},
     "output_type": "display_data"
    },
    {
     "data": {
      "text/html": [
       "<pre style=\"white-space:pre;overflow-x:auto;line-height:normal;font-family:Menlo,'DejaVu Sans Mono',consolas,'Courier New',monospace\"><span style=\"background-color: #800000; font-weight: bold\"> ERROR </span><span style=\"color: #800000; text-decoration-color: #800000; font-weight: bold\"> No entry in quote with quote_compound=245!</span>\n",
       "</pre>\n"
      ],
      "text/plain": [
       "\u001b[1;7;31m ERROR \u001b[0m\u001b[1;31m No entry in quote with quote_compound=245!\u001b[0m\n"
      ]
     },
     "metadata": {},
     "output_type": "display_data"
    },
    {
     "data": {
      "text/html": [
       "<pre style=\"white-space:pre;overflow-x:auto;line-height:normal;font-family:Menlo,'DejaVu Sans Mono',consolas,'Courier New',monospace\"><span style=\"background-color: #800000; font-weight: bold\"> ERROR </span><span style=\"color: #800000; text-decoration-color: #800000; font-weight: bold\"> Reactants not available for reaction=\u001b[1m\u001b[4mR98709: C71591 + C99711 -&gt; C245 via Amidation\u001b[22m\u001b[24m!</span>\n",
       "</pre>\n"
      ],
      "text/plain": [
       "\u001b[1;7;31m ERROR \u001b[0m\u001b[1;31m Reactants not available for reaction=\u001b[1m\u001b[4mR98709: C71591 + C99711 -> C245 via Amidation\u001b[22m\u001b[24m!\u001b[0m\n"
      ]
     },
     "metadata": {},
     "output_type": "display_data"
    },
    {
     "data": {
      "text/html": [
       "<pre style=\"white-space:pre;overflow-x:auto;line-height:normal;font-family:Menlo,'DejaVu Sans Mono',consolas,'Courier New',monospace\"><span style=\"background-color: #800000; font-weight: bold\"> ERROR </span><span style=\"color: #800000; text-decoration-color: #800000; font-weight: bold\"> No entry in quote with quote_compound=199!</span>\n",
       "</pre>\n"
      ],
      "text/plain": [
       "\u001b[1;7;31m ERROR \u001b[0m\u001b[1;31m No entry in quote with quote_compound=199!\u001b[0m\n"
      ]
     },
     "metadata": {},
     "output_type": "display_data"
    },
    {
     "data": {
      "text/html": [
       "<pre style=\"white-space:pre;overflow-x:auto;line-height:normal;font-family:Menlo,'DejaVu Sans Mono',consolas,'Courier New',monospace\"><span style=\"background-color: #800000; font-weight: bold\"> ERROR </span><span style=\"color: #800000; text-decoration-color: #800000; font-weight: bold\"> No entry in quote with quote_compound=198!</span>\n",
       "</pre>\n"
      ],
      "text/plain": [
       "\u001b[1;7;31m ERROR \u001b[0m\u001b[1;31m No entry in quote with quote_compound=198!\u001b[0m\n"
      ]
     },
     "metadata": {},
     "output_type": "display_data"
    },
    {
     "data": {
      "text/html": [
       "<pre style=\"white-space:pre;overflow-x:auto;line-height:normal;font-family:Menlo,'DejaVu Sans Mono',consolas,'Courier New',monospace\"><span style=\"background-color: #800000; font-weight: bold\"> ERROR </span><span style=\"color: #800000; text-decoration-color: #800000; font-weight: bold\"> No entry in quote with quote_compound=209!</span>\n",
       "</pre>\n"
      ],
      "text/plain": [
       "\u001b[1;7;31m ERROR \u001b[0m\u001b[1;31m No entry in quote with quote_compound=209!\u001b[0m\n"
      ]
     },
     "metadata": {},
     "output_type": "display_data"
    },
    {
     "data": {
      "text/html": [
       "<pre style=\"white-space:pre;overflow-x:auto;line-height:normal;font-family:Menlo,'DejaVu Sans Mono',consolas,'Courier New',monospace\"><span style=\"background-color: #800000; font-weight: bold\"> ERROR </span><span style=\"color: #800000; text-decoration-color: #800000; font-weight: bold\"> Reactants not available for reaction=\u001b[1m\u001b[4mR112587: C16082 + C113941 -&gt; C209 via </span>\n",
       "<span style=\"color: #800000; text-decoration-color: #800000; font-weight: bold\">Buchwald-Hartwig_amidation_with_amide-like_nucleophile\u001b[22m\u001b[24m!</span>\n",
       "</pre>\n"
      ],
      "text/plain": [
       "\u001b[1;7;31m ERROR \u001b[0m\u001b[1;31m Reactants not available for reaction=\u001b[1m\u001b[4mR112587: C16082 + C113941 -> C209 via \u001b[0m\n",
       "\u001b[1;31mBuchwald-Hartwig_amidation_with_amide-like_nucleophile\u001b[22m\u001b[24m!\u001b[0m\n"
      ]
     },
     "metadata": {},
     "output_type": "display_data"
    },
    {
     "data": {
      "text/html": [
       "<pre style=\"white-space:pre;overflow-x:auto;line-height:normal;font-family:Menlo,'DejaVu Sans Mono',consolas,'Courier New',monospace\"><span style=\"background-color: #800000; font-weight: bold\"> ERROR </span><span style=\"color: #800000; text-decoration-color: #800000; font-weight: bold\"> No entry in quote with quote_compound=211!</span>\n",
       "</pre>\n"
      ],
      "text/plain": [
       "\u001b[1;7;31m ERROR \u001b[0m\u001b[1;31m No entry in quote with quote_compound=211!\u001b[0m\n"
      ]
     },
     "metadata": {},
     "output_type": "display_data"
    },
    {
     "data": {
      "text/html": [
       "<pre style=\"white-space:pre;overflow-x:auto;line-height:normal;font-family:Menlo,'DejaVu Sans Mono',consolas,'Courier New',monospace\"><span style=\"background-color: #800000; font-weight: bold\"> ERROR </span><span style=\"color: #800000; text-decoration-color: #800000; font-weight: bold\"> No entry in quote with quote_compound=214!</span>\n",
       "</pre>\n"
      ],
      "text/plain": [
       "\u001b[1;7;31m ERROR \u001b[0m\u001b[1;31m No entry in quote with quote_compound=214!\u001b[0m\n"
      ]
     },
     "metadata": {},
     "output_type": "display_data"
    },
    {
     "data": {
      "text/html": [
       "<pre style=\"white-space:pre;overflow-x:auto;line-height:normal;font-family:Menlo,'DejaVu Sans Mono',consolas,'Courier New',monospace\"><span style=\"background-color: #800000; font-weight: bold\"> ERROR </span><span style=\"color: #800000; text-decoration-color: #800000; font-weight: bold\"> Reactants not available for reaction=\u001b[1m\u001b[4mR117782: C62341 + C119347 -&gt; C214 via Amidation\u001b[22m\u001b[24m!</span>\n",
       "</pre>\n"
      ],
      "text/plain": [
       "\u001b[1;7;31m ERROR \u001b[0m\u001b[1;31m Reactants not available for reaction=\u001b[1m\u001b[4mR117782: C62341 + C119347 -> C214 via Amidation\u001b[22m\u001b[24m!\u001b[0m\n"
      ]
     },
     "metadata": {},
     "output_type": "display_data"
    },
    {
     "data": {
      "text/html": [
       "<pre style=\"white-space:pre;overflow-x:auto;line-height:normal;font-family:Menlo,'DejaVu Sans Mono',consolas,'Courier New',monospace\"></pre>\n"
      ],
      "text/plain": []
     },
     "metadata": {},
     "output_type": "display_data"
    },
    {
     "data": {
      "text/html": [
       "<pre style=\"white-space:pre;overflow-x:auto;line-height:normal;font-family:Menlo,'DejaVu Sans Mono',consolas,'Courier New',monospace\"><span style=\"background-color: #d7af00; font-weight: bold\"> DISK </span> Writing <span style=\"color: #d7af00; text-decoration-color: #d7af00\">/opt/xchem-fragalysis-2/maxwin/2A_HIPPO/hippo/all_scaffold_CAR_quoted_only_1steps.csv</span>...\n",
       "</pre>\n"
      ],
      "text/plain": [
       "\u001b[1;7;38;5;178m DISK \u001b[0m Writing \u001b[38;5;178m/opt/xchem-fragalysis-2/maxwin/2A_HIPPO/hippo/all_scaffold_CAR_quoted_only_1steps.csv\u001b[0m...\n"
      ]
     },
     "metadata": {},
     "output_type": "display_data"
    },
    {
     "data": {
      "text/html": [
       "<pre style=\"white-space:pre;overflow-x:auto;line-height:normal;font-family:Menlo,'DejaVu Sans Mono',consolas,'Courier New',monospace\"><span style=\"background-color: #d7af00; font-weight: bold\"> DISK </span> Writing <span style=\"color: #d7af00; text-decoration-color: #d7af00\">/opt/xchem-fragalysis-2/maxwin/2A_HIPPO/hippo/all_scaffold_CAR_quoted_only.csv</span>...\n",
       "</pre>\n"
      ],
      "text/plain": [
       "\u001b[1;7;38;5;178m DISK \u001b[0m Writing \u001b[38;5;178m/opt/xchem-fragalysis-2/maxwin/2A_HIPPO/hippo/all_scaffold_CAR_quoted_only.csv\u001b[0m...\n"
      ]
     },
     "metadata": {},
     "output_type": "display_data"
    },
    {
     "data": {
      "text/html": [
       "<div>\n",
       "<style scoped>\n",
       "    .dataframe tbody tr th:only-of-type {\n",
       "        vertical-align: middle;\n",
       "    }\n",
       "\n",
       "    .dataframe tbody tr th {\n",
       "        vertical-align: top;\n",
       "    }\n",
       "\n",
       "    .dataframe thead th {\n",
       "        text-align: right;\n",
       "    }\n",
       "</style>\n",
       "<table border=\"1\" class=\"dataframe\">\n",
       "  <thead>\n",
       "    <tr style=\"text-align: right;\">\n",
       "      <th></th>\n",
       "      <th>target-names</th>\n",
       "      <th>no-steps</th>\n",
       "      <th>concentration-required-mM</th>\n",
       "      <th>amount-required-uL</th>\n",
       "      <th>batch-tag</th>\n",
       "      <th>reactant-1-1</th>\n",
       "      <th>reactant-2-1</th>\n",
       "      <th>reaction-product-smiles-1</th>\n",
       "      <th>reaction-name-1</th>\n",
       "      <th>reaction-recipe-1</th>\n",
       "      <th>reaction-groupby-column-1</th>\n",
       "    </tr>\n",
       "  </thead>\n",
       "  <tbody>\n",
       "    <tr>\n",
       "      <th>0</th>\n",
       "      <td>C181</td>\n",
       "      <td>1</td>\n",
       "      <td>None</td>\n",
       "      <td>None</td>\n",
       "      <td>None</td>\n",
       "      <td>Cc1ccc(C=O)cc1C</td>\n",
       "      <td>Nc1ccc(N2CCNC(=O)C2)cn1</td>\n",
       "      <td>Cc1ccc(CNc2ccc(N3CCNC(=O)C3)cn2)cc1C</td>\n",
       "      <td>Reductive_amination</td>\n",
       "      <td>None</td>\n",
       "      <td>None</td>\n",
       "    </tr>\n",
       "    <tr>\n",
       "      <th>1</th>\n",
       "      <td>C139</td>\n",
       "      <td>1</td>\n",
       "      <td>None</td>\n",
       "      <td>None</td>\n",
       "      <td>None</td>\n",
       "      <td>NCC(=O)O</td>\n",
       "      <td>Cc1nn(C)c(C)c1CC(=O)NC(CN)c1ccc2ccccc2c1</td>\n",
       "      <td>Cc1nn(C)c(C)c1CC(=O)NC(CNC(=O)CN)c1ccc2ccccc2c1</td>\n",
       "      <td>Amidation</td>\n",
       "      <td>None</td>\n",
       "      <td>None</td>\n",
       "    </tr>\n",
       "    <tr>\n",
       "      <th>2</th>\n",
       "      <td>C182</td>\n",
       "      <td>1</td>\n",
       "      <td>None</td>\n",
       "      <td>None</td>\n",
       "      <td>None</td>\n",
       "      <td>O=C(O)C1CCNC1=O</td>\n",
       "      <td>c1ccc(CNC2CCCNC2)cc1</td>\n",
       "      <td>O=C1NCCC1C(=O)N1CCCC(NCc2ccccc2)C1</td>\n",
       "      <td>Amidation</td>\n",
       "      <td>None</td>\n",
       "      <td>None</td>\n",
       "    </tr>\n",
       "    <tr>\n",
       "      <th>3</th>\n",
       "      <td>C183</td>\n",
       "      <td>1</td>\n",
       "      <td>None</td>\n",
       "      <td>None</td>\n",
       "      <td>None</td>\n",
       "      <td>O=C1NCCN1c1ccc(Br)cc1</td>\n",
       "      <td>NCc1ccc(C(F)(F)F)cc1</td>\n",
       "      <td>O=C1NCCN1c1ccc(NCc2ccc(C(F)(F)F)cc2)cc1</td>\n",
       "      <td>Buchwald-Hartwig_amination</td>\n",
       "      <td>None</td>\n",
       "      <td>None</td>\n",
       "    </tr>\n",
       "    <tr>\n",
       "      <th>4</th>\n",
       "      <td>C184</td>\n",
       "      <td>1</td>\n",
       "      <td>None</td>\n",
       "      <td>None</td>\n",
       "      <td>None</td>\n",
       "      <td>O=C1NCCN1c1ccc(Br)cc1</td>\n",
       "      <td>NCc1cccc(F)c1</td>\n",
       "      <td>O=C1NCCN1c1ccc(NCc2cccc(F)c2)cc1</td>\n",
       "      <td>Buchwald-Hartwig_amination</td>\n",
       "      <td>None</td>\n",
       "      <td>None</td>\n",
       "    </tr>\n",
       "    <tr>\n",
       "      <th>5</th>\n",
       "      <td>C185</td>\n",
       "      <td>1</td>\n",
       "      <td>None</td>\n",
       "      <td>None</td>\n",
       "      <td>None</td>\n",
       "      <td>Nc1ccc(N2CCNC(=O)C2)cn1</td>\n",
       "      <td>CSc1cccc(C=O)c1</td>\n",
       "      <td>CSc1cccc(CNc2ccc(N3CCNC(=O)C3)cn2)c1</td>\n",
       "      <td>Reductive_amination</td>\n",
       "      <td>None</td>\n",
       "      <td>None</td>\n",
       "    </tr>\n",
       "    <tr>\n",
       "      <th>6</th>\n",
       "      <td>C186</td>\n",
       "      <td>1</td>\n",
       "      <td>None</td>\n",
       "      <td>None</td>\n",
       "      <td>None</td>\n",
       "      <td>Cn1nc(C2CCOCC2)cc1C(=O)O</td>\n",
       "      <td>O=C1CC(CO)CN1</td>\n",
       "      <td>Cn1nc(C2CCOCC2)cc1C(=O)OCC1CNC(=O)C1</td>\n",
       "      <td>Steglich_esterification</td>\n",
       "      <td>None</td>\n",
       "      <td>None</td>\n",
       "    </tr>\n",
       "    <tr>\n",
       "      <th>7</th>\n",
       "      <td>C187</td>\n",
       "      <td>1</td>\n",
       "      <td>None</td>\n",
       "      <td>None</td>\n",
       "      <td>None</td>\n",
       "      <td>NCc1ccc(C(=O)O)cc1</td>\n",
       "      <td>Nc1c[nH]c2ccccc12</td>\n",
       "      <td>NCc1ccc(C(=O)Nc2c[nH]c3ccccc23)cc1</td>\n",
       "      <td>Amidation</td>\n",
       "      <td>None</td>\n",
       "      <td>None</td>\n",
       "    </tr>\n",
       "    <tr>\n",
       "      <th>8</th>\n",
       "      <td>C191</td>\n",
       "      <td>1</td>\n",
       "      <td>None</td>\n",
       "      <td>None</td>\n",
       "      <td>None</td>\n",
       "      <td>COc1cncc(CCC(=O)O)c1</td>\n",
       "      <td>NC1CCNC1=O</td>\n",
       "      <td>COc1cncc(CCC(=O)NC2CCNC2=O)c1</td>\n",
       "      <td>Amidation</td>\n",
       "      <td>None</td>\n",
       "      <td>None</td>\n",
       "    </tr>\n",
       "    <tr>\n",
       "      <th>9</th>\n",
       "      <td>C192</td>\n",
       "      <td>1</td>\n",
       "      <td>None</td>\n",
       "      <td>None</td>\n",
       "      <td>None</td>\n",
       "      <td>O=C(O)c1ccncc1F</td>\n",
       "      <td>O=C1NCCCC1CO</td>\n",
       "      <td>O=C(OCC1CCCNC1=O)c1ccncc1F</td>\n",
       "      <td>Steglich_esterification</td>\n",
       "      <td>None</td>\n",
       "      <td>None</td>\n",
       "    </tr>\n",
       "    <tr>\n",
       "      <th>10</th>\n",
       "      <td>C171</td>\n",
       "      <td>1</td>\n",
       "      <td>None</td>\n",
       "      <td>None</td>\n",
       "      <td>None</td>\n",
       "      <td>N#CCC(=O)O</td>\n",
       "      <td>NC(=O)c1ccc(N)cn1</td>\n",
       "      <td>N#CCC(=O)Nc1ccc(C(N)=O)nc1</td>\n",
       "      <td>Amidation</td>\n",
       "      <td>None</td>\n",
       "      <td>None</td>\n",
       "    </tr>\n",
       "    <tr>\n",
       "      <th>11</th>\n",
       "      <td>C195</td>\n",
       "      <td>1</td>\n",
       "      <td>None</td>\n",
       "      <td>None</td>\n",
       "      <td>None</td>\n",
       "      <td>N#CCC(=O)O</td>\n",
       "      <td>CCOC(=O)c1cc(N)n(C)n1</td>\n",
       "      <td>CCOC(=O)c1cc(NC(=O)CC#N)n(C)n1</td>\n",
       "      <td>Amidation</td>\n",
       "      <td>None</td>\n",
       "      <td>None</td>\n",
       "    </tr>\n",
       "    <tr>\n",
       "      <th>12</th>\n",
       "      <td>C196</td>\n",
       "      <td>1</td>\n",
       "      <td>None</td>\n",
       "      <td>None</td>\n",
       "      <td>None</td>\n",
       "      <td>CC(C)(C)C(=O)Nc1ccc(C(=O)O)cn1</td>\n",
       "      <td>NC1(C(F)F)CCC1</td>\n",
       "      <td>CC(C)(C)C(=O)Nc1ccc(C(=O)NC2(C(F)F)CCC2)cn1</td>\n",
       "      <td>Amidation</td>\n",
       "      <td>None</td>\n",
       "      <td>None</td>\n",
       "    </tr>\n",
       "    <tr>\n",
       "      <th>13</th>\n",
       "      <td>C194</td>\n",
       "      <td>1</td>\n",
       "      <td>None</td>\n",
       "      <td>None</td>\n",
       "      <td>None</td>\n",
       "      <td>CC(C)(C)C(=O)Nc1ccc(C(=O)O)cn1</td>\n",
       "      <td>CCC1CC(N)C1</td>\n",
       "      <td>CCC1CC(NC(=O)c2ccc(NC(=O)C(C)(C)C)nc2)C1</td>\n",
       "      <td>Amidation</td>\n",
       "      <td>None</td>\n",
       "      <td>None</td>\n",
       "    </tr>\n",
       "    <tr>\n",
       "      <th>14</th>\n",
       "      <td>C197</td>\n",
       "      <td>1</td>\n",
       "      <td>None</td>\n",
       "      <td>None</td>\n",
       "      <td>None</td>\n",
       "      <td>N#CCC1CC(N)C1</td>\n",
       "      <td>CCCC(=O)NC1CCNCC1</td>\n",
       "      <td>CCCC(=O)NC1CCN(C(=O)NC2CC(CC#N)C2)CC1</td>\n",
       "      <td>Formation_of_urea_from_two_amines</td>\n",
       "      <td>None</td>\n",
       "      <td>None</td>\n",
       "    </tr>\n",
       "    <tr>\n",
       "      <th>15</th>\n",
       "      <td>C91</td>\n",
       "      <td>1</td>\n",
       "      <td>None</td>\n",
       "      <td>None</td>\n",
       "      <td>None</td>\n",
       "      <td>O=C(O)CCl</td>\n",
       "      <td>Cc1nn(C)c(C)c1CC(=O)NC(CN)c1ccc2ccccc2c1</td>\n",
       "      <td>Cc1nn(C)c(C)c1CC(=O)NC(CNC(=O)CCl)c1ccc2ccccc2c1</td>\n",
       "      <td>Amidation</td>\n",
       "      <td>None</td>\n",
       "      <td>None</td>\n",
       "    </tr>\n",
       "    <tr>\n",
       "      <th>16</th>\n",
       "      <td>C92</td>\n",
       "      <td>1</td>\n",
       "      <td>None</td>\n",
       "      <td>None</td>\n",
       "      <td>None</td>\n",
       "      <td>CC(CC(=O)O)C(F)(F)F</td>\n",
       "      <td>COc1cc(N)n(C)n1</td>\n",
       "      <td>COc1cc(NC(=O)CC(C)C(F)(F)F)n(C)n1</td>\n",
       "      <td>Amidation</td>\n",
       "      <td>None</td>\n",
       "      <td>None</td>\n",
       "    </tr>\n",
       "    <tr>\n",
       "      <th>17</th>\n",
       "      <td>C73</td>\n",
       "      <td>1</td>\n",
       "      <td>None</td>\n",
       "      <td>None</td>\n",
       "      <td>None</td>\n",
       "      <td>COCC(=O)O</td>\n",
       "      <td>NC(=O)C1CCCNC1</td>\n",
       "      <td>COCC(=O)N1CCCC(C(N)=O)C1</td>\n",
       "      <td>Amidation</td>\n",
       "      <td>None</td>\n",
       "      <td>None</td>\n",
       "    </tr>\n",
       "    <tr>\n",
       "      <th>18</th>\n",
       "      <td>C93</td>\n",
       "      <td>1</td>\n",
       "      <td>None</td>\n",
       "      <td>None</td>\n",
       "      <td>None</td>\n",
       "      <td>CCI</td>\n",
       "      <td>CCC(=O)c1ccc(O)cc1</td>\n",
       "      <td>CCOc1ccc(C(=O)CC)cc1</td>\n",
       "      <td>Williamson_ether_synthesis</td>\n",
       "      <td>None</td>\n",
       "      <td>None</td>\n",
       "    </tr>\n",
       "    <tr>\n",
       "      <th>19</th>\n",
       "      <td>C236</td>\n",
       "      <td>1</td>\n",
       "      <td>None</td>\n",
       "      <td>None</td>\n",
       "      <td>None</td>\n",
       "      <td>CCI</td>\n",
       "      <td>O=C(CCl)c1ccc(O)cc1</td>\n",
       "      <td>CCOc1ccc(C(=O)CCl)cc1</td>\n",
       "      <td>Williamson_ether_synthesis</td>\n",
       "      <td>None</td>\n",
       "      <td>None</td>\n",
       "    </tr>\n",
       "    <tr>\n",
       "      <th>20</th>\n",
       "      <td>C204</td>\n",
       "      <td>1</td>\n",
       "      <td>None</td>\n",
       "      <td>None</td>\n",
       "      <td>None</td>\n",
       "      <td>Nc1ccccc1CS(N)(=O)=O</td>\n",
       "      <td>CC1(N)CCC1</td>\n",
       "      <td>CC1(NC(=O)Nc2ccccc2CS(N)(=O)=O)CCC1</td>\n",
       "      <td>Formation_of_urea_from_two_amines</td>\n",
       "      <td>None</td>\n",
       "      <td>None</td>\n",
       "    </tr>\n",
       "    <tr>\n",
       "      <th>21</th>\n",
       "      <td>C240</td>\n",
       "      <td>1</td>\n",
       "      <td>None</td>\n",
       "      <td>None</td>\n",
       "      <td>None</td>\n",
       "      <td>CCI</td>\n",
       "      <td>CC(=O)c1ccc(O)cc1</td>\n",
       "      <td>CCOc1ccc(C(C)=O)cc1</td>\n",
       "      <td>Williamson_ether_synthesis</td>\n",
       "      <td>None</td>\n",
       "      <td>None</td>\n",
       "    </tr>\n",
       "    <tr>\n",
       "      <th>22</th>\n",
       "      <td>C242</td>\n",
       "      <td>1</td>\n",
       "      <td>None</td>\n",
       "      <td>None</td>\n",
       "      <td>None</td>\n",
       "      <td>CC(=O)O</td>\n",
       "      <td>CC(=O)c1ccc(N)cc1</td>\n",
       "      <td>CC(=O)Nc1ccc(C(C)=O)cc1</td>\n",
       "      <td>Amidation</td>\n",
       "      <td>None</td>\n",
       "      <td>None</td>\n",
       "    </tr>\n",
       "    <tr>\n",
       "      <th>23</th>\n",
       "      <td>C243</td>\n",
       "      <td>1</td>\n",
       "      <td>None</td>\n",
       "      <td>None</td>\n",
       "      <td>None</td>\n",
       "      <td>CC(=O)O</td>\n",
       "      <td>Nc1ccc(C=O)cc1</td>\n",
       "      <td>CC(=O)Nc1ccc(C=O)cc1</td>\n",
       "      <td>Amidation</td>\n",
       "      <td>None</td>\n",
       "      <td>None</td>\n",
       "    </tr>\n",
       "    <tr>\n",
       "      <th>24</th>\n",
       "      <td>C199</td>\n",
       "      <td>1</td>\n",
       "      <td>None</td>\n",
       "      <td>None</td>\n",
       "      <td>None</td>\n",
       "      <td>O=C(O)c1cc2ccsc2[nH]1</td>\n",
       "      <td>NC1CC(C(F)(F)F)C1</td>\n",
       "      <td>O=C(NC1CC(C(F)(F)F)C1)c1cc2ccsc2[nH]1</td>\n",
       "      <td>Amidation</td>\n",
       "      <td>None</td>\n",
       "      <td>None</td>\n",
       "    </tr>\n",
       "    <tr>\n",
       "      <th>25</th>\n",
       "      <td>C198</td>\n",
       "      <td>1</td>\n",
       "      <td>None</td>\n",
       "      <td>None</td>\n",
       "      <td>None</td>\n",
       "      <td>O=C(O)C12CCC(CO1)C2</td>\n",
       "      <td>NC(=O)c1cc(N)[nH]n1</td>\n",
       "      <td>NC(=O)c1cc(NC(=O)C23CCC(CO2)C3)[nH]n1</td>\n",
       "      <td>Amidation</td>\n",
       "      <td>None</td>\n",
       "      <td>None</td>\n",
       "    </tr>\n",
       "    <tr>\n",
       "      <th>26</th>\n",
       "      <td>C211</td>\n",
       "      <td>1</td>\n",
       "      <td>None</td>\n",
       "      <td>None</td>\n",
       "      <td>None</td>\n",
       "      <td>O=Cc1cccc(F)c1</td>\n",
       "      <td>Nc1ccc(N2CCCC2=O)cn1</td>\n",
       "      <td>O=C1CCCN1c1ccc(NCc2cccc(F)c2)nc1</td>\n",
       "      <td>Reductive_amination</td>\n",
       "      <td>None</td>\n",
       "      <td>None</td>\n",
       "    </tr>\n",
       "  </tbody>\n",
       "</table>\n",
       "</div>"
      ],
      "text/plain": [
       "   target-names  no-steps concentration-required-mM amount-required-uL  \\\n",
       "0          C181         1                      None               None   \n",
       "1          C139         1                      None               None   \n",
       "2          C182         1                      None               None   \n",
       "3          C183         1                      None               None   \n",
       "4          C184         1                      None               None   \n",
       "5          C185         1                      None               None   \n",
       "6          C186         1                      None               None   \n",
       "7          C187         1                      None               None   \n",
       "8          C191         1                      None               None   \n",
       "9          C192         1                      None               None   \n",
       "10         C171         1                      None               None   \n",
       "11         C195         1                      None               None   \n",
       "12         C196         1                      None               None   \n",
       "13         C194         1                      None               None   \n",
       "14         C197         1                      None               None   \n",
       "15          C91         1                      None               None   \n",
       "16          C92         1                      None               None   \n",
       "17          C73         1                      None               None   \n",
       "18          C93         1                      None               None   \n",
       "19         C236         1                      None               None   \n",
       "20         C204         1                      None               None   \n",
       "21         C240         1                      None               None   \n",
       "22         C242         1                      None               None   \n",
       "23         C243         1                      None               None   \n",
       "24         C199         1                      None               None   \n",
       "25         C198         1                      None               None   \n",
       "26         C211         1                      None               None   \n",
       "\n",
       "   batch-tag                    reactant-1-1  \\\n",
       "0       None                 Cc1ccc(C=O)cc1C   \n",
       "1       None                        NCC(=O)O   \n",
       "2       None                 O=C(O)C1CCNC1=O   \n",
       "3       None           O=C1NCCN1c1ccc(Br)cc1   \n",
       "4       None           O=C1NCCN1c1ccc(Br)cc1   \n",
       "5       None         Nc1ccc(N2CCNC(=O)C2)cn1   \n",
       "6       None        Cn1nc(C2CCOCC2)cc1C(=O)O   \n",
       "7       None              NCc1ccc(C(=O)O)cc1   \n",
       "8       None            COc1cncc(CCC(=O)O)c1   \n",
       "9       None                 O=C(O)c1ccncc1F   \n",
       "10      None                      N#CCC(=O)O   \n",
       "11      None                      N#CCC(=O)O   \n",
       "12      None  CC(C)(C)C(=O)Nc1ccc(C(=O)O)cn1   \n",
       "13      None  CC(C)(C)C(=O)Nc1ccc(C(=O)O)cn1   \n",
       "14      None                   N#CCC1CC(N)C1   \n",
       "15      None                       O=C(O)CCl   \n",
       "16      None             CC(CC(=O)O)C(F)(F)F   \n",
       "17      None                       COCC(=O)O   \n",
       "18      None                             CCI   \n",
       "19      None                             CCI   \n",
       "20      None            Nc1ccccc1CS(N)(=O)=O   \n",
       "21      None                             CCI   \n",
       "22      None                         CC(=O)O   \n",
       "23      None                         CC(=O)O   \n",
       "24      None           O=C(O)c1cc2ccsc2[nH]1   \n",
       "25      None             O=C(O)C12CCC(CO1)C2   \n",
       "26      None                  O=Cc1cccc(F)c1   \n",
       "\n",
       "                                reactant-2-1  \\\n",
       "0                    Nc1ccc(N2CCNC(=O)C2)cn1   \n",
       "1   Cc1nn(C)c(C)c1CC(=O)NC(CN)c1ccc2ccccc2c1   \n",
       "2                       c1ccc(CNC2CCCNC2)cc1   \n",
       "3                       NCc1ccc(C(F)(F)F)cc1   \n",
       "4                              NCc1cccc(F)c1   \n",
       "5                            CSc1cccc(C=O)c1   \n",
       "6                              O=C1CC(CO)CN1   \n",
       "7                          Nc1c[nH]c2ccccc12   \n",
       "8                                 NC1CCNC1=O   \n",
       "9                               O=C1NCCCC1CO   \n",
       "10                         NC(=O)c1ccc(N)cn1   \n",
       "11                     CCOC(=O)c1cc(N)n(C)n1   \n",
       "12                            NC1(C(F)F)CCC1   \n",
       "13                               CCC1CC(N)C1   \n",
       "14                         CCCC(=O)NC1CCNCC1   \n",
       "15  Cc1nn(C)c(C)c1CC(=O)NC(CN)c1ccc2ccccc2c1   \n",
       "16                           COc1cc(N)n(C)n1   \n",
       "17                            NC(=O)C1CCCNC1   \n",
       "18                        CCC(=O)c1ccc(O)cc1   \n",
       "19                       O=C(CCl)c1ccc(O)cc1   \n",
       "20                                CC1(N)CCC1   \n",
       "21                         CC(=O)c1ccc(O)cc1   \n",
       "22                         CC(=O)c1ccc(N)cc1   \n",
       "23                            Nc1ccc(C=O)cc1   \n",
       "24                         NC1CC(C(F)(F)F)C1   \n",
       "25                       NC(=O)c1cc(N)[nH]n1   \n",
       "26                      Nc1ccc(N2CCCC2=O)cn1   \n",
       "\n",
       "                           reaction-product-smiles-1  \\\n",
       "0               Cc1ccc(CNc2ccc(N3CCNC(=O)C3)cn2)cc1C   \n",
       "1    Cc1nn(C)c(C)c1CC(=O)NC(CNC(=O)CN)c1ccc2ccccc2c1   \n",
       "2                 O=C1NCCC1C(=O)N1CCCC(NCc2ccccc2)C1   \n",
       "3            O=C1NCCN1c1ccc(NCc2ccc(C(F)(F)F)cc2)cc1   \n",
       "4                   O=C1NCCN1c1ccc(NCc2cccc(F)c2)cc1   \n",
       "5               CSc1cccc(CNc2ccc(N3CCNC(=O)C3)cn2)c1   \n",
       "6               Cn1nc(C2CCOCC2)cc1C(=O)OCC1CNC(=O)C1   \n",
       "7                 NCc1ccc(C(=O)Nc2c[nH]c3ccccc23)cc1   \n",
       "8                      COc1cncc(CCC(=O)NC2CCNC2=O)c1   \n",
       "9                         O=C(OCC1CCCNC1=O)c1ccncc1F   \n",
       "10                        N#CCC(=O)Nc1ccc(C(N)=O)nc1   \n",
       "11                    CCOC(=O)c1cc(NC(=O)CC#N)n(C)n1   \n",
       "12       CC(C)(C)C(=O)Nc1ccc(C(=O)NC2(C(F)F)CCC2)cn1   \n",
       "13          CCC1CC(NC(=O)c2ccc(NC(=O)C(C)(C)C)nc2)C1   \n",
       "14             CCCC(=O)NC1CCN(C(=O)NC2CC(CC#N)C2)CC1   \n",
       "15  Cc1nn(C)c(C)c1CC(=O)NC(CNC(=O)CCl)c1ccc2ccccc2c1   \n",
       "16                 COc1cc(NC(=O)CC(C)C(F)(F)F)n(C)n1   \n",
       "17                          COCC(=O)N1CCCC(C(N)=O)C1   \n",
       "18                              CCOc1ccc(C(=O)CC)cc1   \n",
       "19                             CCOc1ccc(C(=O)CCl)cc1   \n",
       "20               CC1(NC(=O)Nc2ccccc2CS(N)(=O)=O)CCC1   \n",
       "21                               CCOc1ccc(C(C)=O)cc1   \n",
       "22                           CC(=O)Nc1ccc(C(C)=O)cc1   \n",
       "23                              CC(=O)Nc1ccc(C=O)cc1   \n",
       "24             O=C(NC1CC(C(F)(F)F)C1)c1cc2ccsc2[nH]1   \n",
       "25             NC(=O)c1cc(NC(=O)C23CCC(CO2)C3)[nH]n1   \n",
       "26                  O=C1CCCN1c1ccc(NCc2cccc(F)c2)nc1   \n",
       "\n",
       "                      reaction-name-1 reaction-recipe-1  \\\n",
       "0                 Reductive_amination              None   \n",
       "1                           Amidation              None   \n",
       "2                           Amidation              None   \n",
       "3          Buchwald-Hartwig_amination              None   \n",
       "4          Buchwald-Hartwig_amination              None   \n",
       "5                 Reductive_amination              None   \n",
       "6             Steglich_esterification              None   \n",
       "7                           Amidation              None   \n",
       "8                           Amidation              None   \n",
       "9             Steglich_esterification              None   \n",
       "10                          Amidation              None   \n",
       "11                          Amidation              None   \n",
       "12                          Amidation              None   \n",
       "13                          Amidation              None   \n",
       "14  Formation_of_urea_from_two_amines              None   \n",
       "15                          Amidation              None   \n",
       "16                          Amidation              None   \n",
       "17                          Amidation              None   \n",
       "18         Williamson_ether_synthesis              None   \n",
       "19         Williamson_ether_synthesis              None   \n",
       "20  Formation_of_urea_from_two_amines              None   \n",
       "21         Williamson_ether_synthesis              None   \n",
       "22                          Amidation              None   \n",
       "23                          Amidation              None   \n",
       "24                          Amidation              None   \n",
       "25                          Amidation              None   \n",
       "26                Reductive_amination              None   \n",
       "\n",
       "   reaction-groupby-column-1  \n",
       "0                       None  \n",
       "1                       None  \n",
       "2                       None  \n",
       "3                       None  \n",
       "4                       None  \n",
       "5                       None  \n",
       "6                       None  \n",
       "7                       None  \n",
       "8                       None  \n",
       "9                       None  \n",
       "10                      None  \n",
       "11                      None  \n",
       "12                      None  \n",
       "13                      None  \n",
       "14                      None  \n",
       "15                      None  \n",
       "16                      None  \n",
       "17                      None  \n",
       "18                      None  \n",
       "19                      None  \n",
       "20                      None  \n",
       "21                      None  \n",
       "22                      None  \n",
       "23                      None  \n",
       "24                      None  \n",
       "25                      None  \n",
       "26                      None  "
      ]
     },
     "execution_count": 37,
     "metadata": {},
     "output_type": "execute_result"
    }
   ],
   "source": [
    "animal.compounds(tag=\"Syndirella scaffold\").write_CAR_csv(\"all_scaffold_CAR_quoted_only.csv\", return_df=True, quoted_only=True)"
   ]
  },
  {
   "cell_type": "code",
   "execution_count": null,
   "id": "28858ac4-5b5e-4ede-81dd-dba40ef28aac",
   "metadata": {},
   "outputs": [],
   "source": []
  }
 ],
 "metadata": {
  "kernelspec": {
   "display_name": "Python [conda env:base] *",
   "language": "python",
   "name": "conda-base-py"
  },
  "language_info": {
   "codemirror_mode": {
    "name": "ipython",
    "version": 3
   },
   "file_extension": ".py",
   "mimetype": "text/x-python",
   "name": "python",
   "nbconvert_exporter": "python",
   "pygments_lexer": "ipython3",
   "version": "3.11.6"
  }
 },
 "nbformat": 4,
 "nbformat_minor": 5
}
