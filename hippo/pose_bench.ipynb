{
 "cells": [
  {
   "cell_type": "code",
   "execution_count": 114,
   "id": "78b4e724-3fc6-4e43-b5b8-26cb1446a000",
   "metadata": {},
   "outputs": [
    {
     "name": "stdout",
     "output_type": "stream",
     "text": [
      "The autoreload extension is already loaded. To reload it, use:\n",
      "  %reload_ext autoreload\n"
     ]
    }
   ],
   "source": [
    "%load_ext autoreload"
   ]
  },
  {
   "cell_type": "code",
   "execution_count": 115,
   "id": "a5fa3031-f534-41b2-ab63-012927d34c58",
   "metadata": {},
   "outputs": [],
   "source": [
    "%autoreload 2\n",
    "import hippo2 as hippo\n",
    "import time\n",
    "import plotly.express as px\n",
    "import plotly.graph_objects as go\n",
    "import math\n",
    "import glob"
   ]
  },
  {
   "cell_type": "code",
   "execution_count": 116,
   "id": "0147d9eb-74f0-4449-b82c-3fa08a39ea68",
   "metadata": {},
   "outputs": [],
   "source": [
    "pickle3 = 'pickles/2A_comps_30set.pickle'\n",
    "pickle1 = 'pickles/2A_comps_Dec13_partial.pickle'\n",
    "pickle2 = 'pickles/2A_comps_5set.pickle'\n",
    "pickle3 = 'pickles/2A_comps_27set.pickle'\n",
    "big_pickle = 'pickles/2A_comps_bench.pickle'"
   ]
  },
  {
   "cell_type": "code",
   "execution_count": 117,
   "id": "84c262e8-a88c-4550-a22a-4e17b6b390b0",
   "metadata": {},
   "outputs": [],
   "source": [
    "pickle1 = 'pickles/2A_comps_001set_v2p1.pickle'\n",
    "pickle2 = 'pickles/2A_comps_005set_v2p1.pickle'\n",
    "pickle3 = 'pickles/2A_comps_010set_v2p1.pickle'\n",
    "pickle4 = 'pickles/2A_comps_025set_v2p1.pickle'"
   ]
  },
  {
   "cell_type": "code",
   "execution_count": 123,
   "id": "e464ca31-6b0a-4be4-84dd-1d3535c37329",
   "metadata": {},
   "outputs": [],
   "source": [
    "def bench(pickle, repeats = 5):\n",
    "    results = []\n",
    "    \n",
    "    animal = hippo.HIPPO.from_pickle(pickle)\n",
    "    print(animal.elabs)\n",
    "\n",
    "    for i in range(repeats):\n",
    "        start = time.perf_counter()\n",
    "        \n",
    "        # poses = animal.all_poses\n",
    "        # animal.get_compounds('base')\n",
    "        animal.summary()\n",
    "        \n",
    "        end = time.perf_counter()\n",
    "        print(end - start)\n",
    "        results.append(end - start)\n",
    "    return animal.elabs.num_poses, sum(results)/repeats"
   ]
  },
  {
   "cell_type": "code",
   "execution_count": 124,
   "id": "6e3ce26d-95f6-45e2-8849-faa8191be373",
   "metadata": {
    "scrolled": true
   },
   "outputs": [
    {
     "name": "stdout",
     "output_type": "stream",
     "text": [
      "\u001b[36mpath\u001b[0m = \u001b[38;5;11mpickles/2A_comps_001set_v2p1.pickle\u001b[0m\u001b[95m \u001b[0m\u001b[0m\n",
      "CompoundSet(\"elabs\", #compounds=131, #poses=153)\n",
      "\u001b[1mHIPPO(hippo2_test)\u001b[0m\u001b[0m                              \n",
      "\u001b[36mtarget_name\u001b[0m = A71EV2A\u001b[0m\u001b[95m \u001b[0m\u001b[0m            \n",
      "\u001b[36mmax_lead_time\u001b[0m = 20\u001b[0m\u001b[95m workdays\u001b[0m\u001b[0m       \n",
      "\u001b[36mmax_bb_price\u001b[0m = 100\u001b[0m\u001b[95m $\u001b[0m\u001b[0m              \n",
      "\u001b[36mmin_bb_quantity\u001b[0m = 20\u001b[0m\u001b[95m mg\u001b[0m\u001b[0m           \n",
      "\u001b[36m#compound_sets\u001b[0m = 3\u001b[0m\u001b[95m \u001b[0m\u001b[0m               \n",
      "\u001b[36m#compounds\u001b[0m = 170\u001b[0m\u001b[95m \u001b[0m\u001b[0m                 \n",
      "\u001b[36m#poses\u001b[0m = 203\u001b[0m\u001b[95m \u001b[0m\u001b[0m                     \n",
      "\u001b[36m#tags\u001b[0m = 8\u001b[0m\u001b[95m \u001b[0m\u001b[0m                        \n",
      "\u001b[0m                                                        \n",
      "\u001b[4mcompound sets:\u001b[0m                                      \n",
      "CompoundSet(\"hits\", #compounds=38, #poses=49)\u001b[0m           \n",
      "CompoundSet(\"bases\", #compounds=1, #poses=1)\u001b[0m            \n",
      "CompoundSet(\"elabs\", #compounds=131, #poses=153)\u001b[0m        \n",
      "\u001b[0m                                                        \n",
      "\u001b[4mtags:\u001b[0m                                               \n",
      "hits #compounds=37, #poses=49\u001b[0m                           \n",
      "Catalytic Site #compounds=0, #poses=7\u001b[0m                   \n",
      "P1 #compounds=0, #poses=5\u001b[0m                               \n",
      "P5 #compounds=0, #poses=1\u001b[0m                               \n",
      "Syndirella #compounds=131, #poses=154\u001b[0m                   \n",
      "base #compounds=0, #poses=1\u001b[0m                             \n",
      "too_contorted #compounds=0, #poses=1\u001b[0m                    \n",
      "elab #compounds=130, #poses=153\u001b[0m                         \n",
      "0.0218870691023767\n",
      "\u001b[1mHIPPO(hippo2_test)\u001b[0m\u001b[0m                              \n",
      "\u001b[36mtarget_name\u001b[0m = A71EV2A\u001b[0m\u001b[95m \u001b[0m\u001b[0m            \n",
      "\u001b[36mmax_lead_time\u001b[0m = 20\u001b[0m\u001b[95m workdays\u001b[0m\u001b[0m       \n",
      "\u001b[36mmax_bb_price\u001b[0m = 100\u001b[0m\u001b[95m $\u001b[0m\u001b[0m              \n",
      "\u001b[36mmin_bb_quantity\u001b[0m = 20\u001b[0m\u001b[95m mg\u001b[0m\u001b[0m           \n",
      "\u001b[36m#compound_sets\u001b[0m = 3\u001b[0m\u001b[95m \u001b[0m\u001b[0m               \n",
      "\u001b[36m#compounds\u001b[0m = 170\u001b[0m\u001b[95m \u001b[0m\u001b[0m                 \n",
      "\u001b[36m#poses\u001b[0m = 203\u001b[0m\u001b[95m \u001b[0m\u001b[0m                     \n",
      "\u001b[36m#tags\u001b[0m = 8\u001b[0m\u001b[95m \u001b[0m\u001b[0m                        \n",
      "\u001b[0m                                                        \n",
      "\u001b[4mcompound sets:\u001b[0m                                      \n",
      "CompoundSet(\"hits\", #compounds=38, #poses=49)\u001b[0m           \n",
      "CompoundSet(\"bases\", #compounds=1, #poses=1)\u001b[0m            \n",
      "CompoundSet(\"elabs\", #compounds=131, #poses=153)\u001b[0m        \n",
      "\u001b[0m                                                        \n",
      "\u001b[4mtags:\u001b[0m                                               \n",
      "hits #compounds=37, #poses=49\u001b[0m                           \n",
      "Catalytic Site #compounds=0, #poses=7\u001b[0m                   \n",
      "P1 #compounds=0, #poses=5\u001b[0m                               \n",
      "P5 #compounds=0, #poses=1\u001b[0m                               \n",
      "Syndirella #compounds=131, #poses=154\u001b[0m                   \n",
      "base #compounds=0, #poses=1\u001b[0m                             \n",
      "too_contorted #compounds=0, #poses=1\u001b[0m                    \n",
      "elab #compounds=130, #poses=153\u001b[0m                         \n",
      "0.020379499066621065\n",
      "\u001b[1mHIPPO(hippo2_test)\u001b[0m\u001b[0m                              \n",
      "\u001b[36mtarget_name\u001b[0m = A71EV2A\u001b[0m\u001b[95m \u001b[0m\u001b[0m            \n",
      "\u001b[36mmax_lead_time\u001b[0m = 20\u001b[0m\u001b[95m workdays\u001b[0m\u001b[0m       \n",
      "\u001b[36mmax_bb_price\u001b[0m = 100\u001b[0m\u001b[95m $\u001b[0m\u001b[0m              \n",
      "\u001b[36mmin_bb_quantity\u001b[0m = 20\u001b[0m\u001b[95m mg\u001b[0m\u001b[0m           \n",
      "\u001b[36m#compound_sets\u001b[0m = 3\u001b[0m\u001b[95m \u001b[0m\u001b[0m               \n",
      "\u001b[36m#compounds\u001b[0m = 170\u001b[0m\u001b[95m \u001b[0m\u001b[0m                 \n",
      "\u001b[36m#poses\u001b[0m = 203\u001b[0m\u001b[95m \u001b[0m\u001b[0m                     \n",
      "\u001b[36m#tags\u001b[0m = 8\u001b[0m\u001b[95m \u001b[0m\u001b[0m                        \n",
      "\u001b[0m                                                        \n",
      "\u001b[4mcompound sets:\u001b[0m                                      \n",
      "CompoundSet(\"hits\", #compounds=38, #poses=49)\u001b[0m           \n",
      "CompoundSet(\"bases\", #compounds=1, #poses=1)\u001b[0m            \n",
      "CompoundSet(\"elabs\", #compounds=131, #poses=153)\u001b[0m        \n",
      "\u001b[0m                                                        \n",
      "\u001b[4mtags:\u001b[0m                                               \n",
      "hits #compounds=37, #poses=49\u001b[0m                           \n",
      "Catalytic Site #compounds=0, #poses=7\u001b[0m                   \n",
      "P1 #compounds=0, #poses=5\u001b[0m                               \n",
      "P5 #compounds=0, #poses=1\u001b[0m                               \n",
      "Syndirella #compounds=131, #poses=154\u001b[0m                   \n",
      "base #compounds=0, #poses=1\u001b[0m                             \n",
      "too_contorted #compounds=0, #poses=1\u001b[0m                    \n",
      "elab #compounds=130, #poses=153\u001b[0m                         \n",
      "0.020280275959521532\n",
      "\u001b[1mHIPPO(hippo2_test)\u001b[0m\u001b[0m                              \n",
      "\u001b[36mtarget_name\u001b[0m = A71EV2A\u001b[0m\u001b[95m \u001b[0m\u001b[0m            \n",
      "\u001b[36mmax_lead_time\u001b[0m = 20\u001b[0m\u001b[95m workdays\u001b[0m\u001b[0m       \n",
      "\u001b[36mmax_bb_price\u001b[0m = 100\u001b[0m\u001b[95m $\u001b[0m\u001b[0m              \n",
      "\u001b[36mmin_bb_quantity\u001b[0m = 20\u001b[0m\u001b[95m mg\u001b[0m\u001b[0m           \n",
      "\u001b[36m#compound_sets\u001b[0m = 3\u001b[0m\u001b[95m \u001b[0m\u001b[0m               \n",
      "\u001b[36m#compounds\u001b[0m = 170\u001b[0m\u001b[95m \u001b[0m\u001b[0m                 \n",
      "\u001b[36m#poses\u001b[0m = 203\u001b[0m\u001b[95m \u001b[0m\u001b[0m                     \n",
      "\u001b[36m#tags\u001b[0m = 8\u001b[0m\u001b[95m \u001b[0m\u001b[0m                        \n",
      "\u001b[0m                                                        \n",
      "\u001b[4mcompound sets:\u001b[0m                                      \n",
      "CompoundSet(\"hits\", #compounds=38, #poses=49)\u001b[0m           \n",
      "CompoundSet(\"bases\", #compounds=1, #poses=1)\u001b[0m            \n",
      "CompoundSet(\"elabs\", #compounds=131, #poses=153)\u001b[0m        \n",
      "\u001b[0m                                                        \n",
      "\u001b[4mtags:\u001b[0m                                               \n",
      "hits #compounds=37, #poses=49\u001b[0m                           \n",
      "Catalytic Site #compounds=0, #poses=7\u001b[0m                   \n",
      "P1 #compounds=0, #poses=5\u001b[0m                               \n",
      "P5 #compounds=0, #poses=1\u001b[0m                               \n",
      "Syndirella #compounds=131, #poses=154\u001b[0m                   \n",
      "base #compounds=0, #poses=1\u001b[0m                             \n",
      "too_contorted #compounds=0, #poses=1\u001b[0m                    \n",
      "elab #compounds=130, #poses=153\u001b[0m                         \n",
      "0.02026110701262951\n",
      "\u001b[1mHIPPO(hippo2_test)\u001b[0m\u001b[0m                              \n",
      "\u001b[36mtarget_name\u001b[0m = A71EV2A\u001b[0m\u001b[95m \u001b[0m\u001b[0m            \n",
      "\u001b[36mmax_lead_time\u001b[0m = 20\u001b[0m\u001b[95m workdays\u001b[0m\u001b[0m       \n",
      "\u001b[36mmax_bb_price\u001b[0m = 100\u001b[0m\u001b[95m $\u001b[0m\u001b[0m              \n",
      "\u001b[36mmin_bb_quantity\u001b[0m = 20\u001b[0m\u001b[95m mg\u001b[0m\u001b[0m           \n",
      "\u001b[36m#compound_sets\u001b[0m = 3\u001b[0m\u001b[95m \u001b[0m\u001b[0m               \n",
      "\u001b[36m#compounds\u001b[0m = 170\u001b[0m\u001b[95m \u001b[0m\u001b[0m                 \n",
      "\u001b[36m#poses\u001b[0m = 203\u001b[0m\u001b[95m \u001b[0m\u001b[0m                     \n",
      "\u001b[36m#tags\u001b[0m = 8\u001b[0m\u001b[95m \u001b[0m\u001b[0m                        \n",
      "\u001b[0m                                                        \n",
      "\u001b[4mcompound sets:\u001b[0m                                      \n",
      "CompoundSet(\"hits\", #compounds=38, #poses=49)\u001b[0m           \n",
      "CompoundSet(\"bases\", #compounds=1, #poses=1)\u001b[0m            \n",
      "CompoundSet(\"elabs\", #compounds=131, #poses=153)\u001b[0m        \n",
      "\u001b[0m                                                        \n",
      "\u001b[4mtags:\u001b[0m                                               \n",
      "hits #compounds=37, #poses=49\u001b[0m                           \n",
      "Catalytic Site #compounds=0, #poses=7\u001b[0m                   \n",
      "P1 #compounds=0, #poses=5\u001b[0m                               \n",
      "P5 #compounds=0, #poses=1\u001b[0m                               \n",
      "Syndirella #compounds=131, #poses=154\u001b[0m                   \n",
      "base #compounds=0, #poses=1\u001b[0m                             \n",
      "too_contorted #compounds=0, #poses=1\u001b[0m                    \n",
      "elab #compounds=130, #poses=153\u001b[0m                         \n",
      "0.02968107908964157\n",
      "\u001b[36mpath\u001b[0m = \u001b[38;5;11mpickles/2A_comps_005set_v2p1.pickle\u001b[0m\u001b[95m \u001b[0m\u001b[0m\n",
      "CompoundSet(\"elabs\", #compounds=131, #poses=307)\n",
      "\u001b[1mHIPPO(hippo2_test)\u001b[0m\u001b[0m                              \n",
      "\u001b[36mtarget_name\u001b[0m = A71EV2A\u001b[0m\u001b[95m \u001b[0m\u001b[0m            \n",
      "\u001b[36mmax_lead_time\u001b[0m = 20\u001b[0m\u001b[95m workdays\u001b[0m\u001b[0m       \n",
      "\u001b[36mmax_bb_price\u001b[0m = 100\u001b[0m\u001b[95m $\u001b[0m\u001b[0m              \n",
      "\u001b[36mmin_bb_quantity\u001b[0m = 20\u001b[0m\u001b[95m mg\u001b[0m\u001b[0m           \n",
      "\u001b[36m#compound_sets\u001b[0m = 3\u001b[0m\u001b[95m \u001b[0m\u001b[0m               \n",
      "\u001b[36m#compounds\u001b[0m = 253\u001b[0m\u001b[95m \u001b[0m\u001b[0m                 \n",
      "\u001b[36m#poses\u001b[0m = 446\u001b[0m\u001b[95m \u001b[0m\u001b[0m                     \n",
      "\u001b[36m#tags\u001b[0m = 8\u001b[0m\u001b[95m \u001b[0m\u001b[0m                        \n",
      "\u001b[0m                                                        \n",
      "\u001b[4mcompound sets:\u001b[0m                                      \n",
      "CompoundSet(\"hits\", #compounds=38, #poses=49)\u001b[0m           \n",
      "CompoundSet(\"bases\", #compounds=1, #poses=2)\u001b[0m            \n",
      "CompoundSet(\"elabs\", #compounds=131, #poses=307)\u001b[0m        \n",
      "\u001b[0m                                                        \n",
      "\u001b[4mtags:\u001b[0m                                               \n",
      "hits #compounds=37, #poses=49\u001b[0m                           \n",
      "Catalytic Site #compounds=0, #poses=7\u001b[0m                   \n",
      "P1 #compounds=0, #poses=5\u001b[0m                               \n",
      "P5 #compounds=0, #poses=1\u001b[0m                               \n",
      "Syndirella #compounds=214, #poses=397\u001b[0m                   \n",
      "base #compounds=2, #poses=4\u001b[0m                             \n",
      "too_contorted #compounds=1, #poses=3\u001b[0m                    \n",
      "elab #compounds=211, #poses=393\u001b[0m                         \n",
      "0.011236251797527075\n",
      "\u001b[1mHIPPO(hippo2_test)\u001b[0m\u001b[0m                              \n",
      "\u001b[36mtarget_name\u001b[0m = A71EV2A\u001b[0m\u001b[95m \u001b[0m\u001b[0m            \n",
      "\u001b[36mmax_lead_time\u001b[0m = 20\u001b[0m\u001b[95m workdays\u001b[0m\u001b[0m       \n",
      "\u001b[36mmax_bb_price\u001b[0m = 100\u001b[0m\u001b[95m $\u001b[0m\u001b[0m              \n",
      "\u001b[36mmin_bb_quantity\u001b[0m = 20\u001b[0m\u001b[95m mg\u001b[0m\u001b[0m           \n",
      "\u001b[36m#compound_sets\u001b[0m = 3\u001b[0m\u001b[95m \u001b[0m\u001b[0m               \n",
      "\u001b[36m#compounds\u001b[0m = 253\u001b[0m\u001b[95m \u001b[0m\u001b[0m                 \n",
      "\u001b[36m#poses\u001b[0m = 446\u001b[0m\u001b[95m \u001b[0m\u001b[0m                     \n",
      "\u001b[36m#tags\u001b[0m = 8\u001b[0m\u001b[95m \u001b[0m\u001b[0m                        \n",
      "\u001b[0m                                                        \n",
      "\u001b[4mcompound sets:\u001b[0m                                      \n",
      "CompoundSet(\"hits\", #compounds=38, #poses=49)\u001b[0m           \n",
      "CompoundSet(\"bases\", #compounds=1, #poses=2)\u001b[0m            \n",
      "CompoundSet(\"elabs\", #compounds=131, #poses=307)\u001b[0m        \n",
      "\u001b[0m                                                        \n",
      "\u001b[4mtags:\u001b[0m                                               \n",
      "hits #compounds=37, #poses=49\u001b[0m                           \n",
      "Catalytic Site #compounds=0, #poses=7\u001b[0m                   \n",
      "P1 #compounds=0, #poses=5\u001b[0m                               \n",
      "P5 #compounds=0, #poses=1\u001b[0m                               \n",
      "Syndirella #compounds=214, #poses=397\u001b[0m                   \n",
      "base #compounds=2, #poses=4\u001b[0m                             \n",
      "too_contorted #compounds=1, #poses=3\u001b[0m                    \n",
      "elab #compounds=211, #poses=393\u001b[0m                         \n",
      "0.009591908194124699\n",
      "\u001b[1mHIPPO(hippo2_test)\u001b[0m\u001b[0m                              \n",
      "\u001b[36mtarget_name\u001b[0m = A71EV2A\u001b[0m\u001b[95m \u001b[0m\u001b[0m            \n",
      "\u001b[36mmax_lead_time\u001b[0m = 20\u001b[0m\u001b[95m workdays\u001b[0m\u001b[0m       \n",
      "\u001b[36mmax_bb_price\u001b[0m = 100\u001b[0m\u001b[95m $\u001b[0m\u001b[0m              \n",
      "\u001b[36mmin_bb_quantity\u001b[0m = 20\u001b[0m\u001b[95m mg\u001b[0m\u001b[0m           \n",
      "\u001b[36m#compound_sets\u001b[0m = 3\u001b[0m\u001b[95m \u001b[0m\u001b[0m               \n",
      "\u001b[36m#compounds\u001b[0m = 253\u001b[0m\u001b[95m \u001b[0m\u001b[0m                 \n",
      "\u001b[36m#poses\u001b[0m = 446\u001b[0m\u001b[95m \u001b[0m\u001b[0m                     \n",
      "\u001b[36m#tags\u001b[0m = 8\u001b[0m\u001b[95m \u001b[0m\u001b[0m                        \n",
      "\u001b[0m                                                        \n",
      "\u001b[4mcompound sets:\u001b[0m                                      \n",
      "CompoundSet(\"hits\", #compounds=38, #poses=49)\u001b[0m           \n",
      "CompoundSet(\"bases\", #compounds=1, #poses=2)\u001b[0m            \n",
      "CompoundSet(\"elabs\", #compounds=131, #poses=307)\u001b[0m        \n",
      "\u001b[0m                                                        \n",
      "\u001b[4mtags:\u001b[0m                                               \n",
      "hits #compounds=37, #poses=49\u001b[0m                           \n",
      "Catalytic Site #compounds=0, #poses=7\u001b[0m                   \n",
      "P1 #compounds=0, #poses=5\u001b[0m                               \n",
      "P5 #compounds=0, #poses=1\u001b[0m                               \n",
      "Syndirella #compounds=214, #poses=397\u001b[0m                   \n",
      "base #compounds=2, #poses=4\u001b[0m                             \n",
      "too_contorted #compounds=1, #poses=3\u001b[0m                    \n",
      "elab #compounds=211, #poses=393\u001b[0m                         \n",
      "0.009597446769475937\n",
      "\u001b[1mHIPPO(hippo2_test)\u001b[0m\u001b[0m                              \n",
      "\u001b[36mtarget_name\u001b[0m = A71EV2A\u001b[0m\u001b[95m \u001b[0m\u001b[0m            \n",
      "\u001b[36mmax_lead_time\u001b[0m = 20\u001b[0m\u001b[95m workdays\u001b[0m\u001b[0m       \n",
      "\u001b[36mmax_bb_price\u001b[0m = 100\u001b[0m\u001b[95m $\u001b[0m\u001b[0m              \n",
      "\u001b[36mmin_bb_quantity\u001b[0m = 20\u001b[0m\u001b[95m mg\u001b[0m\u001b[0m           \n",
      "\u001b[36m#compound_sets\u001b[0m = 3\u001b[0m\u001b[95m \u001b[0m\u001b[0m               \n",
      "\u001b[36m#compounds\u001b[0m = 253\u001b[0m\u001b[95m \u001b[0m\u001b[0m                 \n",
      "\u001b[36m#poses\u001b[0m = 446\u001b[0m\u001b[95m \u001b[0m\u001b[0m                     \n",
      "\u001b[36m#tags\u001b[0m = 8\u001b[0m\u001b[95m \u001b[0m\u001b[0m                        \n",
      "\u001b[0m                                                        \n",
      "\u001b[4mcompound sets:\u001b[0m                                      \n",
      "CompoundSet(\"hits\", #compounds=38, #poses=49)\u001b[0m           \n",
      "CompoundSet(\"bases\", #compounds=1, #poses=2)\u001b[0m            \n",
      "CompoundSet(\"elabs\", #compounds=131, #poses=307)\u001b[0m        \n",
      "\u001b[0m                                                        \n",
      "\u001b[4mtags:\u001b[0m                                               \n",
      "hits #compounds=37, #poses=49\u001b[0m                           \n",
      "Catalytic Site #compounds=0, #poses=7\u001b[0m                   \n",
      "P1 #compounds=0, #poses=5\u001b[0m                               \n",
      "P5 #compounds=0, #poses=1\u001b[0m                               \n",
      "Syndirella #compounds=214, #poses=397\u001b[0m                   \n",
      "base #compounds=2, #poses=4\u001b[0m                             \n",
      "too_contorted #compounds=1, #poses=3\u001b[0m                    \n",
      "elab #compounds=211, #poses=393\u001b[0m                         \n",
      "0.009572086855769157\n",
      "\u001b[1mHIPPO(hippo2_test)\u001b[0m\u001b[0m                              \n",
      "\u001b[36mtarget_name\u001b[0m = A71EV2A\u001b[0m\u001b[95m \u001b[0m\u001b[0m            \n",
      "\u001b[36mmax_lead_time\u001b[0m = 20\u001b[0m\u001b[95m workdays\u001b[0m\u001b[0m       \n",
      "\u001b[36mmax_bb_price\u001b[0m = 100\u001b[0m\u001b[95m $\u001b[0m\u001b[0m              \n",
      "\u001b[36mmin_bb_quantity\u001b[0m = 20\u001b[0m\u001b[95m mg\u001b[0m\u001b[0m           \n",
      "\u001b[36m#compound_sets\u001b[0m = 3\u001b[0m\u001b[95m \u001b[0m\u001b[0m               \n",
      "\u001b[36m#compounds\u001b[0m = 253\u001b[0m\u001b[95m \u001b[0m\u001b[0m                 \n",
      "\u001b[36m#poses\u001b[0m = 446\u001b[0m\u001b[95m \u001b[0m\u001b[0m                     \n",
      "\u001b[36m#tags\u001b[0m = 8\u001b[0m\u001b[95m \u001b[0m\u001b[0m                        \n",
      "\u001b[0m                                                        \n",
      "\u001b[4mcompound sets:\u001b[0m                                      \n",
      "CompoundSet(\"hits\", #compounds=38, #poses=49)\u001b[0m           \n",
      "CompoundSet(\"bases\", #compounds=1, #poses=2)\u001b[0m            \n",
      "CompoundSet(\"elabs\", #compounds=131, #poses=307)\u001b[0m        \n",
      "\u001b[0m                                                        \n",
      "\u001b[4mtags:\u001b[0m                                               \n",
      "hits #compounds=37, #poses=49\u001b[0m                           \n",
      "Catalytic Site #compounds=0, #poses=7\u001b[0m                   \n",
      "P1 #compounds=0, #poses=5\u001b[0m                               \n",
      "P5 #compounds=0, #poses=1\u001b[0m                               \n",
      "Syndirella #compounds=214, #poses=397\u001b[0m                   \n",
      "base #compounds=2, #poses=4\u001b[0m                             \n",
      "too_contorted #compounds=1, #poses=3\u001b[0m                    \n",
      "elab #compounds=211, #poses=393\u001b[0m                         \n",
      "0.015738022979348898\n",
      "\u001b[36mpath\u001b[0m = \u001b[38;5;11mpickles/2A_comps_010set_v2p1.pickle\u001b[0m\u001b[95m \u001b[0m\u001b[0m\n",
      "CompoundSet(\"elabs\", #compounds=131, #poses=461)\n",
      "\u001b[1mHIPPO(hippo2_test)\u001b[0m\u001b[0m                              \n",
      "\u001b[36mtarget_name\u001b[0m = A71EV2A\u001b[0m\u001b[95m \u001b[0m\u001b[0m            \n",
      "\u001b[36mmax_lead_time\u001b[0m = 20\u001b[0m\u001b[95m workdays\u001b[0m\u001b[0m       \n",
      "\u001b[36mmax_bb_price\u001b[0m = 100\u001b[0m\u001b[95m $\u001b[0m\u001b[0m              \n",
      "\u001b[36mmin_bb_quantity\u001b[0m = 20\u001b[0m\u001b[95m mg\u001b[0m\u001b[0m           \n",
      "\u001b[36m#compound_sets\u001b[0m = 3\u001b[0m\u001b[95m \u001b[0m\u001b[0m               \n",
      "\u001b[36m#compounds\u001b[0m = 300\u001b[0m\u001b[95m \u001b[0m\u001b[0m                 \n",
      "\u001b[36m#poses\u001b[0m = 753\u001b[0m\u001b[95m \u001b[0m\u001b[0m                     \n",
      "\u001b[36m#tags\u001b[0m = 8\u001b[0m\u001b[95m \u001b[0m\u001b[0m                        \n",
      "\u001b[0m                                                        \n",
      "\u001b[4mcompound sets:\u001b[0m                                      \n",
      "CompoundSet(\"hits\", #compounds=38, #poses=49)\u001b[0m           \n",
      "CompoundSet(\"bases\", #compounds=1, #poses=3)\u001b[0m            \n",
      "CompoundSet(\"elabs\", #compounds=131, #poses=461)\u001b[0m        \n",
      "\u001b[0m                                                        \n",
      "\u001b[4mtags:\u001b[0m                                               \n",
      "hits #compounds=37, #poses=49\u001b[0m                           \n",
      "Catalytic Site #compounds=0, #poses=7\u001b[0m                   \n",
      "P1 #compounds=0, #poses=5\u001b[0m                               \n",
      "P5 #compounds=0, #poses=1\u001b[0m                               \n",
      "Syndirella #compounds=261, #poses=704\u001b[0m                   \n",
      "base #compounds=7, #poses=14\u001b[0m                            \n",
      "too_contorted #compounds=3, #poses=7\u001b[0m                    \n",
      "elab #compounds=253, #poses=690\u001b[0m                         \n",
      "0.013737641740590334\n",
      "\u001b[1mHIPPO(hippo2_test)\u001b[0m\u001b[0m                              \n",
      "\u001b[36mtarget_name\u001b[0m = A71EV2A\u001b[0m\u001b[95m \u001b[0m\u001b[0m            \n",
      "\u001b[36mmax_lead_time\u001b[0m = 20\u001b[0m\u001b[95m workdays\u001b[0m\u001b[0m       \n",
      "\u001b[36mmax_bb_price\u001b[0m = 100\u001b[0m\u001b[95m $\u001b[0m\u001b[0m              \n",
      "\u001b[36mmin_bb_quantity\u001b[0m = 20\u001b[0m\u001b[95m mg\u001b[0m\u001b[0m           \n",
      "\u001b[36m#compound_sets\u001b[0m = 3\u001b[0m\u001b[95m \u001b[0m\u001b[0m               \n",
      "\u001b[36m#compounds\u001b[0m = 300\u001b[0m\u001b[95m \u001b[0m\u001b[0m                 \n",
      "\u001b[36m#poses\u001b[0m = 753\u001b[0m\u001b[95m \u001b[0m\u001b[0m                     \n",
      "\u001b[36m#tags\u001b[0m = 8\u001b[0m\u001b[95m \u001b[0m\u001b[0m                        \n",
      "\u001b[0m                                                        \n",
      "\u001b[4mcompound sets:\u001b[0m                                      \n",
      "CompoundSet(\"hits\", #compounds=38, #poses=49)\u001b[0m           \n",
      "CompoundSet(\"bases\", #compounds=1, #poses=3)\u001b[0m            \n",
      "CompoundSet(\"elabs\", #compounds=131, #poses=461)\u001b[0m        \n",
      "\u001b[0m                                                        \n",
      "\u001b[4mtags:\u001b[0m                                               \n",
      "hits #compounds=37, #poses=49\u001b[0m                           \n",
      "Catalytic Site #compounds=0, #poses=7\u001b[0m                   \n",
      "P1 #compounds=0, #poses=5\u001b[0m                               \n",
      "P5 #compounds=0, #poses=1\u001b[0m                               \n",
      "Syndirella #compounds=261, #poses=704\u001b[0m                   \n",
      "base #compounds=7, #poses=14\u001b[0m                            \n",
      "too_contorted #compounds=3, #poses=7\u001b[0m                    \n",
      "elab #compounds=253, #poses=690\u001b[0m                         \n",
      "0.011986356228590012\n",
      "\u001b[1mHIPPO(hippo2_test)\u001b[0m\u001b[0m                              \n",
      "\u001b[36mtarget_name\u001b[0m = A71EV2A\u001b[0m\u001b[95m \u001b[0m\u001b[0m            \n",
      "\u001b[36mmax_lead_time\u001b[0m = 20\u001b[0m\u001b[95m workdays\u001b[0m\u001b[0m       \n",
      "\u001b[36mmax_bb_price\u001b[0m = 100\u001b[0m\u001b[95m $\u001b[0m\u001b[0m              \n",
      "\u001b[36mmin_bb_quantity\u001b[0m = 20\u001b[0m\u001b[95m mg\u001b[0m\u001b[0m           \n",
      "\u001b[36m#compound_sets\u001b[0m = 3\u001b[0m\u001b[95m \u001b[0m\u001b[0m               \n",
      "\u001b[36m#compounds\u001b[0m = 300\u001b[0m\u001b[95m \u001b[0m\u001b[0m                 \n",
      "\u001b[36m#poses\u001b[0m = 753\u001b[0m\u001b[95m \u001b[0m\u001b[0m                     \n",
      "\u001b[36m#tags\u001b[0m = 8\u001b[0m\u001b[95m \u001b[0m\u001b[0m                        \n",
      "\u001b[0m                                                        \n",
      "\u001b[4mcompound sets:\u001b[0m                                      \n",
      "CompoundSet(\"hits\", #compounds=38, #poses=49)\u001b[0m           \n",
      "CompoundSet(\"bases\", #compounds=1, #poses=3)\u001b[0m            \n",
      "CompoundSet(\"elabs\", #compounds=131, #poses=461)\u001b[0m        \n",
      "\u001b[0m                                                        \n",
      "\u001b[4mtags:\u001b[0m                                               \n",
      "hits #compounds=37, #poses=49\u001b[0m                           \n",
      "Catalytic Site #compounds=0, #poses=7\u001b[0m                   \n",
      "P1 #compounds=0, #poses=5\u001b[0m                               \n",
      "P5 #compounds=0, #poses=1\u001b[0m                               \n",
      "Syndirella #compounds=261, #poses=704\u001b[0m                   \n",
      "base #compounds=7, #poses=14\u001b[0m                            \n",
      "too_contorted #compounds=3, #poses=7\u001b[0m                    \n",
      "elab #compounds=253, #poses=690\u001b[0m                         \n",
      "0.009956452995538712\n",
      "\u001b[1mHIPPO(hippo2_test)\u001b[0m\u001b[0m                              \n",
      "\u001b[36mtarget_name\u001b[0m = A71EV2A\u001b[0m\u001b[95m \u001b[0m\u001b[0m            \n",
      "\u001b[36mmax_lead_time\u001b[0m = 20\u001b[0m\u001b[95m workdays\u001b[0m\u001b[0m       \n",
      "\u001b[36mmax_bb_price\u001b[0m = 100\u001b[0m\u001b[95m $\u001b[0m\u001b[0m              \n",
      "\u001b[36mmin_bb_quantity\u001b[0m = 20\u001b[0m\u001b[95m mg\u001b[0m\u001b[0m           \n",
      "\u001b[36m#compound_sets\u001b[0m = 3\u001b[0m\u001b[95m \u001b[0m\u001b[0m               \n",
      "\u001b[36m#compounds\u001b[0m = 300\u001b[0m\u001b[95m \u001b[0m\u001b[0m                 \n",
      "\u001b[36m#poses\u001b[0m = 753\u001b[0m\u001b[95m \u001b[0m\u001b[0m                     \n",
      "\u001b[36m#tags\u001b[0m = 8\u001b[0m\u001b[95m \u001b[0m\u001b[0m                        \n",
      "\u001b[0m                                                        \n",
      "\u001b[4mcompound sets:\u001b[0m                                      \n",
      "CompoundSet(\"hits\", #compounds=38, #poses=49)\u001b[0m           \n",
      "CompoundSet(\"bases\", #compounds=1, #poses=3)\u001b[0m            \n",
      "CompoundSet(\"elabs\", #compounds=131, #poses=461)\u001b[0m        \n",
      "\u001b[0m                                                        \n",
      "\u001b[4mtags:\u001b[0m                                               \n",
      "hits #compounds=37, #poses=49\u001b[0m                           \n",
      "Catalytic Site #compounds=0, #poses=7\u001b[0m                   \n",
      "P1 #compounds=0, #poses=5\u001b[0m                               \n",
      "P5 #compounds=0, #poses=1\u001b[0m                               \n",
      "Syndirella #compounds=261, #poses=704\u001b[0m                   \n",
      "base #compounds=7, #poses=14\u001b[0m                            \n",
      "too_contorted #compounds=3, #poses=7\u001b[0m                    \n",
      "elab #compounds=253, #poses=690\u001b[0m                         \n",
      "0.009784832131117582\n",
      "\u001b[1mHIPPO(hippo2_test)\u001b[0m\u001b[0m                              \n",
      "\u001b[36mtarget_name\u001b[0m = A71EV2A\u001b[0m\u001b[95m \u001b[0m\u001b[0m            \n",
      "\u001b[36mmax_lead_time\u001b[0m = 20\u001b[0m\u001b[95m workdays\u001b[0m\u001b[0m       \n",
      "\u001b[36mmax_bb_price\u001b[0m = 100\u001b[0m\u001b[95m $\u001b[0m\u001b[0m              \n",
      "\u001b[36mmin_bb_quantity\u001b[0m = 20\u001b[0m\u001b[95m mg\u001b[0m\u001b[0m           \n",
      "\u001b[36m#compound_sets\u001b[0m = 3\u001b[0m\u001b[95m \u001b[0m\u001b[0m               \n",
      "\u001b[36m#compounds\u001b[0m = 300\u001b[0m\u001b[95m \u001b[0m\u001b[0m                 \n",
      "\u001b[36m#poses\u001b[0m = 753\u001b[0m\u001b[95m \u001b[0m\u001b[0m                     \n",
      "\u001b[36m#tags\u001b[0m = 8\u001b[0m\u001b[95m \u001b[0m\u001b[0m                        \n",
      "\u001b[0m                                                        \n",
      "\u001b[4mcompound sets:\u001b[0m                                      \n",
      "CompoundSet(\"hits\", #compounds=38, #poses=49)\u001b[0m           \n",
      "CompoundSet(\"bases\", #compounds=1, #poses=3)\u001b[0m            \n",
      "CompoundSet(\"elabs\", #compounds=131, #poses=461)\u001b[0m        \n",
      "\u001b[0m                                                        \n",
      "\u001b[4mtags:\u001b[0m                                               \n",
      "hits #compounds=37, #poses=49\u001b[0m                           \n",
      "Catalytic Site #compounds=0, #poses=7\u001b[0m                   \n",
      "P1 #compounds=0, #poses=5\u001b[0m                               \n",
      "P5 #compounds=0, #poses=1\u001b[0m                               \n",
      "Syndirella #compounds=261, #poses=704\u001b[0m                   \n",
      "base #compounds=7, #poses=14\u001b[0m                            \n",
      "too_contorted #compounds=3, #poses=7\u001b[0m                    \n",
      "elab #compounds=253, #poses=690\u001b[0m                         \n",
      "0.010283460840582848\n",
      "\u001b[36mpath\u001b[0m = \u001b[38;5;11mpickles/2A_comps_025set_v2p1.pickle\u001b[0m\u001b[95m \u001b[0m\u001b[0m\n",
      "CompoundSet(\"elabs\", #compounds=131, #poses=615)\n",
      "\u001b[1mHIPPO(hippo2_test)\u001b[0m\u001b[0m                              \n",
      "\u001b[36mtarget_name\u001b[0m = A71EV2A\u001b[0m\u001b[95m \u001b[0m\u001b[0m            \n",
      "\u001b[36mmax_lead_time\u001b[0m = 20\u001b[0m\u001b[95m workdays\u001b[0m\u001b[0m       \n",
      "\u001b[36mmax_bb_price\u001b[0m = 100\u001b[0m\u001b[95m $\u001b[0m\u001b[0m              \n",
      "\u001b[36mmin_bb_quantity\u001b[0m = 20\u001b[0m\u001b[95m mg\u001b[0m\u001b[0m           \n",
      "\u001b[36m#compound_sets\u001b[0m = 3\u001b[0m\u001b[95m \u001b[0m\u001b[0m               \n",
      "\u001b[36m#compounds\u001b[0m = 610\u001b[0m\u001b[95m \u001b[0m\u001b[0m                 \n",
      "\u001b[36m#poses\u001b[0m = 1416\u001b[0m\u001b[95m \u001b[0m\u001b[0m                    \n",
      "\u001b[36m#tags\u001b[0m = 8\u001b[0m\u001b[95m \u001b[0m\u001b[0m                        \n",
      "\u001b[0m                                                        \n",
      "\u001b[4mcompound sets:\u001b[0m                                      \n",
      "CompoundSet(\"hits\", #compounds=38, #poses=49)\u001b[0m           \n",
      "CompoundSet(\"bases\", #compounds=1, #poses=4)\u001b[0m            \n",
      "CompoundSet(\"elabs\", #compounds=131, #poses=615)\u001b[0m        \n",
      "\u001b[0m                                                        \n",
      "\u001b[4mtags:\u001b[0m                                               \n",
      "hits #compounds=37, #poses=49\u001b[0m                           \n",
      "Catalytic Site #compounds=0, #poses=7\u001b[0m                   \n",
      "P1 #compounds=0, #poses=5\u001b[0m                               \n",
      "P5 #compounds=0, #poses=1\u001b[0m                               \n",
      "Syndirella #compounds=571, #poses=1367\u001b[0m                  \n",
      "base #compounds=22, #poses=42\u001b[0m                           \n",
      "too_contorted #compounds=13, #poses=22\u001b[0m                  \n",
      "elab #compounds=548, #poses=1325\u001b[0m                        \n",
      "0.015049968846142292\n",
      "\u001b[1mHIPPO(hippo2_test)\u001b[0m\u001b[0m                              \n",
      "\u001b[36mtarget_name\u001b[0m = A71EV2A\u001b[0m\u001b[95m \u001b[0m\u001b[0m            \n",
      "\u001b[36mmax_lead_time\u001b[0m = 20\u001b[0m\u001b[95m workdays\u001b[0m\u001b[0m       \n",
      "\u001b[36mmax_bb_price\u001b[0m = 100\u001b[0m\u001b[95m $\u001b[0m\u001b[0m              \n",
      "\u001b[36mmin_bb_quantity\u001b[0m = 20\u001b[0m\u001b[95m mg\u001b[0m\u001b[0m           \n",
      "\u001b[36m#compound_sets\u001b[0m = 3\u001b[0m\u001b[95m \u001b[0m\u001b[0m               \n",
      "\u001b[36m#compounds\u001b[0m = 610\u001b[0m\u001b[95m \u001b[0m\u001b[0m                 \n",
      "\u001b[36m#poses\u001b[0m = 1416\u001b[0m\u001b[95m \u001b[0m\u001b[0m                    \n",
      "\u001b[36m#tags\u001b[0m = 8\u001b[0m\u001b[95m \u001b[0m\u001b[0m                        \n",
      "\u001b[0m                                                        \n",
      "\u001b[4mcompound sets:\u001b[0m                                      \n",
      "CompoundSet(\"hits\", #compounds=38, #poses=49)\u001b[0m           \n",
      "CompoundSet(\"bases\", #compounds=1, #poses=4)\u001b[0m            \n",
      "CompoundSet(\"elabs\", #compounds=131, #poses=615)\u001b[0m        \n",
      "\u001b[0m                                                        \n",
      "\u001b[4mtags:\u001b[0m                                               \n",
      "hits #compounds=37, #poses=49\u001b[0m                           \n",
      "Catalytic Site #compounds=0, #poses=7\u001b[0m                   \n",
      "P1 #compounds=0, #poses=5\u001b[0m                               \n",
      "P5 #compounds=0, #poses=1\u001b[0m                               \n",
      "Syndirella #compounds=571, #poses=1367\u001b[0m                  \n",
      "base #compounds=22, #poses=42\u001b[0m                           \n",
      "too_contorted #compounds=13, #poses=22\u001b[0m                  \n",
      "elab #compounds=548, #poses=1325\u001b[0m                        \n",
      "0.013585329055786133\n",
      "\u001b[1mHIPPO(hippo2_test)\u001b[0m\u001b[0m                              \n",
      "\u001b[36mtarget_name\u001b[0m = A71EV2A\u001b[0m\u001b[95m \u001b[0m\u001b[0m            \n",
      "\u001b[36mmax_lead_time\u001b[0m = 20\u001b[0m\u001b[95m workdays\u001b[0m\u001b[0m       \n",
      "\u001b[36mmax_bb_price\u001b[0m = 100\u001b[0m\u001b[95m $\u001b[0m\u001b[0m              \n",
      "\u001b[36mmin_bb_quantity\u001b[0m = 20\u001b[0m\u001b[95m mg\u001b[0m\u001b[0m           \n",
      "\u001b[36m#compound_sets\u001b[0m = 3\u001b[0m\u001b[95m \u001b[0m\u001b[0m               \n",
      "\u001b[36m#compounds\u001b[0m = 610\u001b[0m\u001b[95m \u001b[0m\u001b[0m                 \n",
      "\u001b[36m#poses\u001b[0m = 1416\u001b[0m\u001b[95m \u001b[0m\u001b[0m                    \n",
      "\u001b[36m#tags\u001b[0m = 8\u001b[0m\u001b[95m \u001b[0m\u001b[0m                        \n",
      "\u001b[0m                                                        \n",
      "\u001b[4mcompound sets:\u001b[0m                                      \n",
      "CompoundSet(\"hits\", #compounds=38, #poses=49)\u001b[0m           \n",
      "CompoundSet(\"bases\", #compounds=1, #poses=4)\u001b[0m            \n",
      "CompoundSet(\"elabs\", #compounds=131, #poses=615)\u001b[0m        \n",
      "\u001b[0m                                                        \n",
      "\u001b[4mtags:\u001b[0m                                               \n",
      "hits #compounds=37, #poses=49\u001b[0m                           \n",
      "Catalytic Site #compounds=0, #poses=7\u001b[0m                   \n",
      "P1 #compounds=0, #poses=5\u001b[0m                               \n",
      "P5 #compounds=0, #poses=1\u001b[0m                               \n",
      "Syndirella #compounds=571, #poses=1367\u001b[0m                  \n",
      "base #compounds=22, #poses=42\u001b[0m                           \n",
      "too_contorted #compounds=13, #poses=22\u001b[0m                  \n",
      "elab #compounds=548, #poses=1325\u001b[0m                        \n",
      "0.016470327973365784\n",
      "\u001b[1mHIPPO(hippo2_test)\u001b[0m\u001b[0m                              \n",
      "\u001b[36mtarget_name\u001b[0m = A71EV2A\u001b[0m\u001b[95m \u001b[0m\u001b[0m            \n",
      "\u001b[36mmax_lead_time\u001b[0m = 20\u001b[0m\u001b[95m workdays\u001b[0m\u001b[0m       \n",
      "\u001b[36mmax_bb_price\u001b[0m = 100\u001b[0m\u001b[95m $\u001b[0m\u001b[0m              \n",
      "\u001b[36mmin_bb_quantity\u001b[0m = 20\u001b[0m\u001b[95m mg\u001b[0m\u001b[0m           \n",
      "\u001b[36m#compound_sets\u001b[0m = 3\u001b[0m\u001b[95m \u001b[0m\u001b[0m               \n",
      "\u001b[36m#compounds\u001b[0m = 610\u001b[0m\u001b[95m \u001b[0m\u001b[0m                 \n",
      "\u001b[36m#poses\u001b[0m = 1416\u001b[0m\u001b[95m \u001b[0m\u001b[0m                    \n",
      "\u001b[36m#tags\u001b[0m = 8\u001b[0m\u001b[95m \u001b[0m\u001b[0m                        \n",
      "\u001b[0m                                                        \n",
      "\u001b[4mcompound sets:\u001b[0m                                      \n",
      "CompoundSet(\"hits\", #compounds=38, #poses=49)\u001b[0m           \n",
      "CompoundSet(\"bases\", #compounds=1, #poses=4)\u001b[0m            \n",
      "CompoundSet(\"elabs\", #compounds=131, #poses=615)\u001b[0m        \n",
      "\u001b[0m                                                        \n",
      "\u001b[4mtags:\u001b[0m                                               \n",
      "hits #compounds=37, #poses=49\u001b[0m                           \n",
      "Catalytic Site #compounds=0, #poses=7\u001b[0m                   \n",
      "P1 #compounds=0, #poses=5\u001b[0m                               \n",
      "P5 #compounds=0, #poses=1\u001b[0m                               \n",
      "Syndirella #compounds=571, #poses=1367\u001b[0m                  \n",
      "base #compounds=22, #poses=42\u001b[0m                           \n",
      "too_contorted #compounds=13, #poses=22\u001b[0m                  \n",
      "elab #compounds=548, #poses=1325\u001b[0m                        \n",
      "0.013868005014955997\n",
      "\u001b[1mHIPPO(hippo2_test)\u001b[0m\u001b[0m                              \n",
      "\u001b[36mtarget_name\u001b[0m = A71EV2A\u001b[0m\u001b[95m \u001b[0m\u001b[0m            \n",
      "\u001b[36mmax_lead_time\u001b[0m = 20\u001b[0m\u001b[95m workdays\u001b[0m\u001b[0m       \n",
      "\u001b[36mmax_bb_price\u001b[0m = 100\u001b[0m\u001b[95m $\u001b[0m\u001b[0m              \n",
      "\u001b[36mmin_bb_quantity\u001b[0m = 20\u001b[0m\u001b[95m mg\u001b[0m\u001b[0m           \n",
      "\u001b[36m#compound_sets\u001b[0m = 3\u001b[0m\u001b[95m \u001b[0m\u001b[0m               \n",
      "\u001b[36m#compounds\u001b[0m = 610\u001b[0m\u001b[95m \u001b[0m\u001b[0m                 \n",
      "\u001b[36m#poses\u001b[0m = 1416\u001b[0m\u001b[95m \u001b[0m\u001b[0m                    \n",
      "\u001b[36m#tags\u001b[0m = 8\u001b[0m\u001b[95m \u001b[0m\u001b[0m                        \n",
      "\u001b[0m                                                        \n",
      "\u001b[4mcompound sets:\u001b[0m                                      \n",
      "CompoundSet(\"hits\", #compounds=38, #poses=49)\u001b[0m           \n",
      "CompoundSet(\"bases\", #compounds=1, #poses=4)\u001b[0m            \n",
      "CompoundSet(\"elabs\", #compounds=131, #poses=615)\u001b[0m        \n",
      "\u001b[0m                                                        \n",
      "\u001b[4mtags:\u001b[0m                                               \n",
      "hits #compounds=37, #poses=49\u001b[0m                           \n",
      "Catalytic Site #compounds=0, #poses=7\u001b[0m                   \n",
      "P1 #compounds=0, #poses=5\u001b[0m                               \n",
      "P5 #compounds=0, #poses=1\u001b[0m                               \n",
      "Syndirella #compounds=571, #poses=1367\u001b[0m                  \n",
      "base #compounds=22, #poses=42\u001b[0m                           \n",
      "too_contorted #compounds=13, #poses=22\u001b[0m                  \n",
      "elab #compounds=548, #poses=1325\u001b[0m                        \n",
      "0.01315167872235179\n"
     ]
    }
   ],
   "source": [
    "data = []\n",
    "# for p in [pickle1, pickle2, pickle3, pickle4]:#, big_pickle]:\n",
    "for p in [pickle1, pickle2, pickle3, pickle4]:#, big_pickle]:\n",
    "    n, t = bench(p)\n",
    "    data.append(dict(n=n, t=t))\n",
    "\n",
    "n0 = data[0]['n']\n",
    "t0 = data[0]['t']\n",
    "data = [dict(n=d['n'],t=d['t']/t0) for d in data]"
   ]
  },
  {
   "cell_type": "code",
   "execution_count": 125,
   "id": "2238b648-d2f0-4967-8a8c-bb731d00e75b",
   "metadata": {},
   "outputs": [
    {
     "data": {
      "application/vnd.plotly.v1+json": {
       "config": {
        "plotlyServerURL": "https://plot.ly"
       },
       "data": [
        {
         "hovertemplate": "n=%{x}<br>t=%{y}<extra></extra>",
         "legendgroup": "",
         "marker": {
          "color": "#636efa",
          "symbol": "circle"
         },
         "mode": "markers",
         "name": "",
         "orientation": "v",
         "showlegend": false,
         "type": "scatter",
         "x": [
          153,
          307,
          461,
          615
         ],
         "xaxis": "x",
         "y": [
          1,
          0.49547690545375367,
          0.49559271532558735,
          0.6411763837293704
         ],
         "yaxis": "y"
        },
        {
         "mode": "lines",
         "name": "v1 (1.7)",
         "type": "scatter",
         "x": [
          153,
          307,
          461,
          615
         ],
         "y": [
          1,
          3.267080277423313,
          6.521029137954367,
          10.644181330477315
         ]
        },
        {
         "mode": "lines",
         "name": "v1 (1)",
         "type": "scatter",
         "x": [
          153,
          307,
          461,
          615
         ],
         "y": [
          1,
          2.0065359477124183,
          3.0130718954248366,
          4.019607843137255
         ]
        }
       ],
       "layout": {
        "autosize": true,
        "legend": {
         "tracegroupgap": 0
        },
        "margin": {
         "t": 60
        },
        "template": {
         "data": {
          "bar": [
           {
            "error_x": {
             "color": "#2a3f5f"
            },
            "error_y": {
             "color": "#2a3f5f"
            },
            "marker": {
             "line": {
              "color": "#E5ECF6",
              "width": 0.5
             },
             "pattern": {
              "fillmode": "overlay",
              "size": 10,
              "solidity": 0.2
             }
            },
            "type": "bar"
           }
          ],
          "barpolar": [
           {
            "marker": {
             "line": {
              "color": "#E5ECF6",
              "width": 0.5
             },
             "pattern": {
              "fillmode": "overlay",
              "size": 10,
              "solidity": 0.2
             }
            },
            "type": "barpolar"
           }
          ],
          "carpet": [
           {
            "aaxis": {
             "endlinecolor": "#2a3f5f",
             "gridcolor": "white",
             "linecolor": "white",
             "minorgridcolor": "white",
             "startlinecolor": "#2a3f5f"
            },
            "baxis": {
             "endlinecolor": "#2a3f5f",
             "gridcolor": "white",
             "linecolor": "white",
             "minorgridcolor": "white",
             "startlinecolor": "#2a3f5f"
            },
            "type": "carpet"
           }
          ],
          "choropleth": [
           {
            "colorbar": {
             "outlinewidth": 0,
             "ticks": ""
            },
            "type": "choropleth"
           }
          ],
          "contour": [
           {
            "colorbar": {
             "outlinewidth": 0,
             "ticks": ""
            },
            "colorscale": [
             [
              0,
              "#0d0887"
             ],
             [
              0.1111111111111111,
              "#46039f"
             ],
             [
              0.2222222222222222,
              "#7201a8"
             ],
             [
              0.3333333333333333,
              "#9c179e"
             ],
             [
              0.4444444444444444,
              "#bd3786"
             ],
             [
              0.5555555555555556,
              "#d8576b"
             ],
             [
              0.6666666666666666,
              "#ed7953"
             ],
             [
              0.7777777777777778,
              "#fb9f3a"
             ],
             [
              0.8888888888888888,
              "#fdca26"
             ],
             [
              1,
              "#f0f921"
             ]
            ],
            "type": "contour"
           }
          ],
          "contourcarpet": [
           {
            "colorbar": {
             "outlinewidth": 0,
             "ticks": ""
            },
            "type": "contourcarpet"
           }
          ],
          "heatmap": [
           {
            "colorbar": {
             "outlinewidth": 0,
             "ticks": ""
            },
            "colorscale": [
             [
              0,
              "#0d0887"
             ],
             [
              0.1111111111111111,
              "#46039f"
             ],
             [
              0.2222222222222222,
              "#7201a8"
             ],
             [
              0.3333333333333333,
              "#9c179e"
             ],
             [
              0.4444444444444444,
              "#bd3786"
             ],
             [
              0.5555555555555556,
              "#d8576b"
             ],
             [
              0.6666666666666666,
              "#ed7953"
             ],
             [
              0.7777777777777778,
              "#fb9f3a"
             ],
             [
              0.8888888888888888,
              "#fdca26"
             ],
             [
              1,
              "#f0f921"
             ]
            ],
            "type": "heatmap"
           }
          ],
          "heatmapgl": [
           {
            "colorbar": {
             "outlinewidth": 0,
             "ticks": ""
            },
            "colorscale": [
             [
              0,
              "#0d0887"
             ],
             [
              0.1111111111111111,
              "#46039f"
             ],
             [
              0.2222222222222222,
              "#7201a8"
             ],
             [
              0.3333333333333333,
              "#9c179e"
             ],
             [
              0.4444444444444444,
              "#bd3786"
             ],
             [
              0.5555555555555556,
              "#d8576b"
             ],
             [
              0.6666666666666666,
              "#ed7953"
             ],
             [
              0.7777777777777778,
              "#fb9f3a"
             ],
             [
              0.8888888888888888,
              "#fdca26"
             ],
             [
              1,
              "#f0f921"
             ]
            ],
            "type": "heatmapgl"
           }
          ],
          "histogram": [
           {
            "marker": {
             "pattern": {
              "fillmode": "overlay",
              "size": 10,
              "solidity": 0.2
             }
            },
            "type": "histogram"
           }
          ],
          "histogram2d": [
           {
            "colorbar": {
             "outlinewidth": 0,
             "ticks": ""
            },
            "colorscale": [
             [
              0,
              "#0d0887"
             ],
             [
              0.1111111111111111,
              "#46039f"
             ],
             [
              0.2222222222222222,
              "#7201a8"
             ],
             [
              0.3333333333333333,
              "#9c179e"
             ],
             [
              0.4444444444444444,
              "#bd3786"
             ],
             [
              0.5555555555555556,
              "#d8576b"
             ],
             [
              0.6666666666666666,
              "#ed7953"
             ],
             [
              0.7777777777777778,
              "#fb9f3a"
             ],
             [
              0.8888888888888888,
              "#fdca26"
             ],
             [
              1,
              "#f0f921"
             ]
            ],
            "type": "histogram2d"
           }
          ],
          "histogram2dcontour": [
           {
            "colorbar": {
             "outlinewidth": 0,
             "ticks": ""
            },
            "colorscale": [
             [
              0,
              "#0d0887"
             ],
             [
              0.1111111111111111,
              "#46039f"
             ],
             [
              0.2222222222222222,
              "#7201a8"
             ],
             [
              0.3333333333333333,
              "#9c179e"
             ],
             [
              0.4444444444444444,
              "#bd3786"
             ],
             [
              0.5555555555555556,
              "#d8576b"
             ],
             [
              0.6666666666666666,
              "#ed7953"
             ],
             [
              0.7777777777777778,
              "#fb9f3a"
             ],
             [
              0.8888888888888888,
              "#fdca26"
             ],
             [
              1,
              "#f0f921"
             ]
            ],
            "type": "histogram2dcontour"
           }
          ],
          "mesh3d": [
           {
            "colorbar": {
             "outlinewidth": 0,
             "ticks": ""
            },
            "type": "mesh3d"
           }
          ],
          "parcoords": [
           {
            "line": {
             "colorbar": {
              "outlinewidth": 0,
              "ticks": ""
             }
            },
            "type": "parcoords"
           }
          ],
          "pie": [
           {
            "automargin": true,
            "type": "pie"
           }
          ],
          "scatter": [
           {
            "fillpattern": {
             "fillmode": "overlay",
             "size": 10,
             "solidity": 0.2
            },
            "type": "scatter"
           }
          ],
          "scatter3d": [
           {
            "line": {
             "colorbar": {
              "outlinewidth": 0,
              "ticks": ""
             }
            },
            "marker": {
             "colorbar": {
              "outlinewidth": 0,
              "ticks": ""
             }
            },
            "type": "scatter3d"
           }
          ],
          "scattercarpet": [
           {
            "marker": {
             "colorbar": {
              "outlinewidth": 0,
              "ticks": ""
             }
            },
            "type": "scattercarpet"
           }
          ],
          "scattergeo": [
           {
            "marker": {
             "colorbar": {
              "outlinewidth": 0,
              "ticks": ""
             }
            },
            "type": "scattergeo"
           }
          ],
          "scattergl": [
           {
            "marker": {
             "colorbar": {
              "outlinewidth": 0,
              "ticks": ""
             }
            },
            "type": "scattergl"
           }
          ],
          "scattermapbox": [
           {
            "marker": {
             "colorbar": {
              "outlinewidth": 0,
              "ticks": ""
             }
            },
            "type": "scattermapbox"
           }
          ],
          "scatterpolar": [
           {
            "marker": {
             "colorbar": {
              "outlinewidth": 0,
              "ticks": ""
             }
            },
            "type": "scatterpolar"
           }
          ],
          "scatterpolargl": [
           {
            "marker": {
             "colorbar": {
              "outlinewidth": 0,
              "ticks": ""
             }
            },
            "type": "scatterpolargl"
           }
          ],
          "scatterternary": [
           {
            "marker": {
             "colorbar": {
              "outlinewidth": 0,
              "ticks": ""
             }
            },
            "type": "scatterternary"
           }
          ],
          "surface": [
           {
            "colorbar": {
             "outlinewidth": 0,
             "ticks": ""
            },
            "colorscale": [
             [
              0,
              "#0d0887"
             ],
             [
              0.1111111111111111,
              "#46039f"
             ],
             [
              0.2222222222222222,
              "#7201a8"
             ],
             [
              0.3333333333333333,
              "#9c179e"
             ],
             [
              0.4444444444444444,
              "#bd3786"
             ],
             [
              0.5555555555555556,
              "#d8576b"
             ],
             [
              0.6666666666666666,
              "#ed7953"
             ],
             [
              0.7777777777777778,
              "#fb9f3a"
             ],
             [
              0.8888888888888888,
              "#fdca26"
             ],
             [
              1,
              "#f0f921"
             ]
            ],
            "type": "surface"
           }
          ],
          "table": [
           {
            "cells": {
             "fill": {
              "color": "#EBF0F8"
             },
             "line": {
              "color": "white"
             }
            },
            "header": {
             "fill": {
              "color": "#C8D4E3"
             },
             "line": {
              "color": "white"
             }
            },
            "type": "table"
           }
          ]
         },
         "layout": {
          "annotationdefaults": {
           "arrowcolor": "#2a3f5f",
           "arrowhead": 0,
           "arrowwidth": 1
          },
          "autotypenumbers": "strict",
          "coloraxis": {
           "colorbar": {
            "outlinewidth": 0,
            "ticks": ""
           }
          },
          "colorscale": {
           "diverging": [
            [
             0,
             "#8e0152"
            ],
            [
             0.1,
             "#c51b7d"
            ],
            [
             0.2,
             "#de77ae"
            ],
            [
             0.3,
             "#f1b6da"
            ],
            [
             0.4,
             "#fde0ef"
            ],
            [
             0.5,
             "#f7f7f7"
            ],
            [
             0.6,
             "#e6f5d0"
            ],
            [
             0.7,
             "#b8e186"
            ],
            [
             0.8,
             "#7fbc41"
            ],
            [
             0.9,
             "#4d9221"
            ],
            [
             1,
             "#276419"
            ]
           ],
           "sequential": [
            [
             0,
             "#0d0887"
            ],
            [
             0.1111111111111111,
             "#46039f"
            ],
            [
             0.2222222222222222,
             "#7201a8"
            ],
            [
             0.3333333333333333,
             "#9c179e"
            ],
            [
             0.4444444444444444,
             "#bd3786"
            ],
            [
             0.5555555555555556,
             "#d8576b"
            ],
            [
             0.6666666666666666,
             "#ed7953"
            ],
            [
             0.7777777777777778,
             "#fb9f3a"
            ],
            [
             0.8888888888888888,
             "#fdca26"
            ],
            [
             1,
             "#f0f921"
            ]
           ],
           "sequentialminus": [
            [
             0,
             "#0d0887"
            ],
            [
             0.1111111111111111,
             "#46039f"
            ],
            [
             0.2222222222222222,
             "#7201a8"
            ],
            [
             0.3333333333333333,
             "#9c179e"
            ],
            [
             0.4444444444444444,
             "#bd3786"
            ],
            [
             0.5555555555555556,
             "#d8576b"
            ],
            [
             0.6666666666666666,
             "#ed7953"
            ],
            [
             0.7777777777777778,
             "#fb9f3a"
            ],
            [
             0.8888888888888888,
             "#fdca26"
            ],
            [
             1,
             "#f0f921"
            ]
           ]
          },
          "colorway": [
           "#636efa",
           "#EF553B",
           "#00cc96",
           "#ab63fa",
           "#FFA15A",
           "#19d3f3",
           "#FF6692",
           "#B6E880",
           "#FF97FF",
           "#FECB52"
          ],
          "font": {
           "color": "#2a3f5f"
          },
          "geo": {
           "bgcolor": "white",
           "lakecolor": "white",
           "landcolor": "#E5ECF6",
           "showlakes": true,
           "showland": true,
           "subunitcolor": "white"
          },
          "hoverlabel": {
           "align": "left"
          },
          "hovermode": "closest",
          "mapbox": {
           "style": "light"
          },
          "paper_bgcolor": "white",
          "plot_bgcolor": "#E5ECF6",
          "polar": {
           "angularaxis": {
            "gridcolor": "white",
            "linecolor": "white",
            "ticks": ""
           },
           "bgcolor": "#E5ECF6",
           "radialaxis": {
            "gridcolor": "white",
            "linecolor": "white",
            "ticks": ""
           }
          },
          "scene": {
           "xaxis": {
            "backgroundcolor": "#E5ECF6",
            "gridcolor": "white",
            "gridwidth": 2,
            "linecolor": "white",
            "showbackground": true,
            "ticks": "",
            "zerolinecolor": "white"
           },
           "yaxis": {
            "backgroundcolor": "#E5ECF6",
            "gridcolor": "white",
            "gridwidth": 2,
            "linecolor": "white",
            "showbackground": true,
            "ticks": "",
            "zerolinecolor": "white"
           },
           "zaxis": {
            "backgroundcolor": "#E5ECF6",
            "gridcolor": "white",
            "gridwidth": 2,
            "linecolor": "white",
            "showbackground": true,
            "ticks": "",
            "zerolinecolor": "white"
           }
          },
          "shapedefaults": {
           "line": {
            "color": "#2a3f5f"
           }
          },
          "ternary": {
           "aaxis": {
            "gridcolor": "white",
            "linecolor": "white",
            "ticks": ""
           },
           "baxis": {
            "gridcolor": "white",
            "linecolor": "white",
            "ticks": ""
           },
           "bgcolor": "#E5ECF6",
           "caxis": {
            "gridcolor": "white",
            "linecolor": "white",
            "ticks": ""
           }
          },
          "title": {
           "x": 0.05
          },
          "xaxis": {
           "automargin": true,
           "gridcolor": "white",
           "linecolor": "white",
           "ticks": "",
           "title": {
            "standoff": 15
           },
           "zerolinecolor": "white",
           "zerolinewidth": 2
          },
          "yaxis": {
           "automargin": true,
           "gridcolor": "white",
           "linecolor": "white",
           "ticks": "",
           "title": {
            "standoff": 15
           },
           "zerolinecolor": "white",
           "zerolinewidth": 2
          }
         }
        },
        "xaxis": {
         "anchor": "y",
         "autorange": true,
         "domain": [
          0,
          1
         ],
         "range": [
          2.1480131185878397,
          2.825553428005175
         ],
         "title": {
          "text": "n"
         },
         "type": "log"
        },
        "yaxis": {
         "anchor": "x",
         "autorange": true,
         "domain": [
          0,
          1
         ],
         "range": [
          -0.40612618713400295,
          1.1025458671420953
         ],
         "title": {
          "text": "t"
         },
         "type": "log"
        }
       }
      },
      "image/png": "[encoded data removed]",
      "text/html": [
       "<div>                            <div id=\"d413a7f3-f6ed-4b6e-bb2f-c6aac3be745c\" class=\"plotly-graph-div\" style=\"height:525px; width:100%;\"></div>            <script type=\"text/javascript\">                require([\"plotly\"], function(Plotly) {                    window.PLOTLYENV=window.PLOTLYENV || {};                                    if (document.getElementById(\"d413a7f3-f6ed-4b6e-bb2f-c6aac3be745c\")) {                    Plotly.newPlot(                        \"d413a7f3-f6ed-4b6e-bb2f-c6aac3be745c\",                        [{\"hovertemplate\":\"n=%{x}\\u003cbr\\u003et=%{y}\\u003cextra\\u003e\\u003c\\u002fextra\\u003e\",\"legendgroup\":\"\",\"marker\":{\"color\":\"#636efa\",\"symbol\":\"circle\"},\"mode\":\"markers\",\"name\":\"\",\"orientation\":\"v\",\"showlegend\":false,\"x\":[153,307,461,615],\"xaxis\":\"x\",\"y\":[1.0,0.49547690545375367,0.49559271532558735,0.6411763837293704],\"yaxis\":\"y\",\"type\":\"scatter\"},{\"mode\":\"lines\",\"name\":\"v1 (1.7)\",\"x\":[153,307,461,615],\"y\":[1.0,3.267080277423313,6.521029137954367,10.644181330477315],\"type\":\"scatter\"},{\"mode\":\"lines\",\"name\":\"v1 (1)\",\"x\":[153,307,461,615],\"y\":[1.0,2.0065359477124183,3.0130718954248366,4.019607843137255],\"type\":\"scatter\"}],                        {\"template\":{\"data\":{\"histogram2dcontour\":[{\"type\":\"histogram2dcontour\",\"colorbar\":{\"outlinewidth\":0,\"ticks\":\"\"},\"colorscale\":[[0.0,\"#0d0887\"],[0.1111111111111111,\"#46039f\"],[0.2222222222222222,\"#7201a8\"],[0.3333333333333333,\"#9c179e\"],[0.4444444444444444,\"#bd3786\"],[0.5555555555555556,\"#d8576b\"],[0.6666666666666666,\"#ed7953\"],[0.7777777777777778,\"#fb9f3a\"],[0.8888888888888888,\"#fdca26\"],[1.0,\"#f0f921\"]]}],\"choropleth\":[{\"type\":\"choropleth\",\"colorbar\":{\"outlinewidth\":0,\"ticks\":\"\"}}],\"histogram2d\":[{\"type\":\"histogram2d\",\"colorbar\":{\"outlinewidth\":0,\"ticks\":\"\"},\"colorscale\":[[0.0,\"#0d0887\"],[0.1111111111111111,\"#46039f\"],[0.2222222222222222,\"#7201a8\"],[0.3333333333333333,\"#9c179e\"],[0.4444444444444444,\"#bd3786\"],[0.5555555555555556,\"#d8576b\"],[0.6666666666666666,\"#ed7953\"],[0.7777777777777778,\"#fb9f3a\"],[0.8888888888888888,\"#fdca26\"],[1.0,\"#f0f921\"]]}],\"heatmap\":[{\"type\":\"heatmap\",\"colorbar\":{\"outlinewidth\":0,\"ticks\":\"\"},\"colorscale\":[[0.0,\"#0d0887\"],[0.1111111111111111,\"#46039f\"],[0.2222222222222222,\"#7201a8\"],[0.3333333333333333,\"#9c179e\"],[0.4444444444444444,\"#bd3786\"],[0.5555555555555556,\"#d8576b\"],[0.6666666666666666,\"#ed7953\"],[0.7777777777777778,\"#fb9f3a\"],[0.8888888888888888,\"#fdca26\"],[1.0,\"#f0f921\"]]}],\"heatmapgl\":[{\"type\":\"heatmapgl\",\"colorbar\":{\"outlinewidth\":0,\"ticks\":\"\"},\"colorscale\":[[0.0,\"#0d0887\"],[0.1111111111111111,\"#46039f\"],[0.2222222222222222,\"#7201a8\"],[0.3333333333333333,\"#9c179e\"],[0.4444444444444444,\"#bd3786\"],[0.5555555555555556,\"#d8576b\"],[0.6666666666666666,\"#ed7953\"],[0.7777777777777778,\"#fb9f3a\"],[0.8888888888888888,\"#fdca26\"],[1.0,\"#f0f921\"]]}],\"contourcarpet\":[{\"type\":\"contourcarpet\",\"colorbar\":{\"outlinewidth\":0,\"ticks\":\"\"}}],\"contour\":[{\"type\":\"contour\",\"colorbar\":{\"outlinewidth\":0,\"ticks\":\"\"},\"colorscale\":[[0.0,\"#0d0887\"],[0.1111111111111111,\"#46039f\"],[0.2222222222222222,\"#7201a8\"],[0.3333333333333333,\"#9c179e\"],[0.4444444444444444,\"#bd3786\"],[0.5555555555555556,\"#d8576b\"],[0.6666666666666666,\"#ed7953\"],[0.7777777777777778,\"#fb9f3a\"],[0.8888888888888888,\"#fdca26\"],[1.0,\"#f0f921\"]]}],\"surface\":[{\"type\":\"surface\",\"colorbar\":{\"outlinewidth\":0,\"ticks\":\"\"},\"colorscale\":[[0.0,\"#0d0887\"],[0.1111111111111111,\"#46039f\"],[0.2222222222222222,\"#7201a8\"],[0.3333333333333333,\"#9c179e\"],[0.4444444444444444,\"#bd3786\"],[0.5555555555555556,\"#d8576b\"],[0.6666666666666666,\"#ed7953\"],[0.7777777777777778,\"#fb9f3a\"],[0.8888888888888888,\"#fdca26\"],[1.0,\"#f0f921\"]]}],\"mesh3d\":[{\"type\":\"mesh3d\",\"colorbar\":{\"outlinewidth\":0,\"ticks\":\"\"}}],\"scatter\":[{\"fillpattern\":{\"fillmode\":\"overlay\",\"size\":10,\"solidity\":0.2},\"type\":\"scatter\"}],\"parcoords\":[{\"type\":\"parcoords\",\"line\":{\"colorbar\":{\"outlinewidth\":0,\"ticks\":\"\"}}}],\"scatterpolargl\":[{\"type\":\"scatterpolargl\",\"marker\":{\"colorbar\":{\"outlinewidth\":0,\"ticks\":\"\"}}}],\"bar\":[{\"error_x\":{\"color\":\"#2a3f5f\"},\"error_y\":{\"color\":\"#2a3f5f\"},\"marker\":{\"line\":{\"color\":\"#E5ECF6\",\"width\":0.5},\"pattern\":{\"fillmode\":\"overlay\",\"size\":10,\"solidity\":0.2}},\"type\":\"bar\"}],\"scattergeo\":[{\"type\":\"scattergeo\",\"marker\":{\"colorbar\":{\"outlinewidth\":0,\"ticks\":\"\"}}}],\"scatterpolar\":[{\"type\":\"scatterpolar\",\"marker\":{\"colorbar\":{\"outlinewidth\":0,\"ticks\":\"\"}}}],\"histogram\":[{\"marker\":{\"pattern\":{\"fillmode\":\"overlay\",\"size\":10,\"solidity\":0.2}},\"type\":\"histogram\"}],\"scattergl\":[{\"type\":\"scattergl\",\"marker\":{\"colorbar\":{\"outlinewidth\":0,\"ticks\":\"\"}}}],\"scatter3d\":[{\"type\":\"scatter3d\",\"line\":{\"colorbar\":{\"outlinewidth\":0,\"ticks\":\"\"}},\"marker\":{\"colorbar\":{\"outlinewidth\":0,\"ticks\":\"\"}}}],\"scattermapbox\":[{\"type\":\"scattermapbox\",\"marker\":{\"colorbar\":{\"outlinewidth\":0,\"ticks\":\"\"}}}],\"scatterternary\":[{\"type\":\"scatterternary\",\"marker\":{\"colorbar\":{\"outlinewidth\":0,\"ticks\":\"\"}}}],\"scattercarpet\":[{\"type\":\"scattercarpet\",\"marker\":{\"colorbar\":{\"outlinewidth\":0,\"ticks\":\"\"}}}],\"carpet\":[{\"aaxis\":{\"endlinecolor\":\"#2a3f5f\",\"gridcolor\":\"white\",\"linecolor\":\"white\",\"minorgridcolor\":\"white\",\"startlinecolor\":\"#2a3f5f\"},\"baxis\":{\"endlinecolor\":\"#2a3f5f\",\"gridcolor\":\"white\",\"linecolor\":\"white\",\"minorgridcolor\":\"white\",\"startlinecolor\":\"#2a3f5f\"},\"type\":\"carpet\"}],\"table\":[{\"cells\":{\"fill\":{\"color\":\"#EBF0F8\"},\"line\":{\"color\":\"white\"}},\"header\":{\"fill\":{\"color\":\"#C8D4E3\"},\"line\":{\"color\":\"white\"}},\"type\":\"table\"}],\"barpolar\":[{\"marker\":{\"line\":{\"color\":\"#E5ECF6\",\"width\":0.5},\"pattern\":{\"fillmode\":\"overlay\",\"size\":10,\"solidity\":0.2}},\"type\":\"barpolar\"}],\"pie\":[{\"automargin\":true,\"type\":\"pie\"}]},\"layout\":{\"autotypenumbers\":\"strict\",\"colorway\":[\"#636efa\",\"#EF553B\",\"#00cc96\",\"#ab63fa\",\"#FFA15A\",\"#19d3f3\",\"#FF6692\",\"#B6E880\",\"#FF97FF\",\"#FECB52\"],\"font\":{\"color\":\"#2a3f5f\"},\"hovermode\":\"closest\",\"hoverlabel\":{\"align\":\"left\"},\"paper_bgcolor\":\"white\",\"plot_bgcolor\":\"#E5ECF6\",\"polar\":{\"bgcolor\":\"#E5ECF6\",\"angularaxis\":{\"gridcolor\":\"white\",\"linecolor\":\"white\",\"ticks\":\"\"},\"radialaxis\":{\"gridcolor\":\"white\",\"linecolor\":\"white\",\"ticks\":\"\"}},\"ternary\":{\"bgcolor\":\"#E5ECF6\",\"aaxis\":{\"gridcolor\":\"white\",\"linecolor\":\"white\",\"ticks\":\"\"},\"baxis\":{\"gridcolor\":\"white\",\"linecolor\":\"white\",\"ticks\":\"\"},\"caxis\":{\"gridcolor\":\"white\",\"linecolor\":\"white\",\"ticks\":\"\"}},\"coloraxis\":{\"colorbar\":{\"outlinewidth\":0,\"ticks\":\"\"}},\"colorscale\":{\"sequential\":[[0.0,\"#0d0887\"],[0.1111111111111111,\"#46039f\"],[0.2222222222222222,\"#7201a8\"],[0.3333333333333333,\"#9c179e\"],[0.4444444444444444,\"#bd3786\"],[0.5555555555555556,\"#d8576b\"],[0.6666666666666666,\"#ed7953\"],[0.7777777777777778,\"#fb9f3a\"],[0.8888888888888888,\"#fdca26\"],[1.0,\"#f0f921\"]],\"sequentialminus\":[[0.0,\"#0d0887\"],[0.1111111111111111,\"#46039f\"],[0.2222222222222222,\"#7201a8\"],[0.3333333333333333,\"#9c179e\"],[0.4444444444444444,\"#bd3786\"],[0.5555555555555556,\"#d8576b\"],[0.6666666666666666,\"#ed7953\"],[0.7777777777777778,\"#fb9f3a\"],[0.8888888888888888,\"#fdca26\"],[1.0,\"#f0f921\"]],\"diverging\":[[0,\"#8e0152\"],[0.1,\"#c51b7d\"],[0.2,\"#de77ae\"],[0.3,\"#f1b6da\"],[0.4,\"#fde0ef\"],[0.5,\"#f7f7f7\"],[0.6,\"#e6f5d0\"],[0.7,\"#b8e186\"],[0.8,\"#7fbc41\"],[0.9,\"#4d9221\"],[1,\"#276419\"]]},\"xaxis\":{\"gridcolor\":\"white\",\"linecolor\":\"white\",\"ticks\":\"\",\"title\":{\"standoff\":15},\"zerolinecolor\":\"white\",\"automargin\":true,\"zerolinewidth\":2},\"yaxis\":{\"gridcolor\":\"white\",\"linecolor\":\"white\",\"ticks\":\"\",\"title\":{\"standoff\":15},\"zerolinecolor\":\"white\",\"automargin\":true,\"zerolinewidth\":2},\"scene\":{\"xaxis\":{\"backgroundcolor\":\"#E5ECF6\",\"gridcolor\":\"white\",\"linecolor\":\"white\",\"showbackground\":true,\"ticks\":\"\",\"zerolinecolor\":\"white\",\"gridwidth\":2},\"yaxis\":{\"backgroundcolor\":\"#E5ECF6\",\"gridcolor\":\"white\",\"linecolor\":\"white\",\"showbackground\":true,\"ticks\":\"\",\"zerolinecolor\":\"white\",\"gridwidth\":2},\"zaxis\":{\"backgroundcolor\":\"#E5ECF6\",\"gridcolor\":\"white\",\"linecolor\":\"white\",\"showbackground\":true,\"ticks\":\"\",\"zerolinecolor\":\"white\",\"gridwidth\":2}},\"shapedefaults\":{\"line\":{\"color\":\"#2a3f5f\"}},\"annotationdefaults\":{\"arrowcolor\":\"#2a3f5f\",\"arrowhead\":0,\"arrowwidth\":1},\"geo\":{\"bgcolor\":\"white\",\"landcolor\":\"#E5ECF6\",\"subunitcolor\":\"white\",\"showland\":true,\"showlakes\":true,\"lakecolor\":\"white\"},\"title\":{\"x\":0.05},\"mapbox\":{\"style\":\"light\"}}},\"xaxis\":{\"anchor\":\"y\",\"domain\":[0.0,1.0],\"title\":{\"text\":\"n\"},\"type\":\"log\"},\"yaxis\":{\"anchor\":\"x\",\"domain\":[0.0,1.0],\"title\":{\"text\":\"t\"},\"type\":\"log\"},\"legend\":{\"tracegroupgap\":0},\"margin\":{\"t\":60}},                        {\"responsive\": true}                    ).then(function(){\n",
       "                            \n",
       "var gd = document.getElementById('d413a7f3-f6ed-4b6e-bb2f-c6aac3be745c');\n",
       "var x = new MutationObserver(function (mutations, observer) {{\n",
       "        var display = window.getComputedStyle(gd).display;\n",
       "        if (!display || display === 'none') {{\n",
       "            console.log([gd, 'removed!']);\n",
       "            Plotly.purge(gd);\n",
       "            observer.disconnect();\n",
       "        }}\n",
       "}});\n",
       "\n",
       "// Listen for the removal of the full notebook cells\n",
       "var notebookContainer = gd.closest('#notebook-container');\n",
       "if (notebookContainer) {{\n",
       "    x.observe(notebookContainer, {childList: true});\n",
       "}}\n",
       "\n",
       "// Listen for the clearing of the current output cell\n",
       "var outputEl = gd.closest('.output');\n",
       "if (outputEl) {{\n",
       "    x.observe(outputEl, {childList: true});\n",
       "}}\n",
       "\n",
       "                        })                };                });            </script>        </div>"
      ]
     },
     "metadata": {},
     "output_type": "display_data"
    }
   ],
   "source": [
    "fig = px.scatter(data, x='n', y='t')\n",
    "\n",
    "xs = [d['n'] for d in data]\n",
    "\n",
    "# # all_poses\n",
    "# fig.add_trace(go.Scatter(x=xs, y=[math.pow(x/xs[0],2.4) for x in xs], mode='lines', name='orig (2.4)'))\n",
    "# fig.add_trace(go.Scatter(x=xs, y=[math.pow(x/xs[0],1.8) for x in xs], mode='lines', name='v2 (1.8)'))\n",
    "# fig.add_trace(go.Scatter(x=xs, y=[math.pow(x/xs[0],1.2) for x in xs], mode='lines', name='v3 (1.2)'))\n",
    "\n",
    "# get_compounds\n",
    "fig.add_trace(go.Scatter(x=xs, y=[math.pow(x/xs[0],1.7) for x in xs], mode='lines', name='v1 (1.7)'))\n",
    "fig.add_trace(go.Scatter(x=xs, y=[math.pow(x/xs[0],1) for x in xs], mode='lines', name='v1 (1)'))\n",
    "\n",
    "fig.update_xaxes(type=\"log\")\n",
    "fig.update_yaxes(type=\"log\")"
   ]
  },
  {
   "cell_type": "code",
   "execution_count": 126,
   "id": "f4ec924e-c76a-4d03-aa01-b3b580051ddb",
   "metadata": {},
   "outputs": [
    {
     "name": "stdout",
     "output_type": "stream",
     "text": [
      "\u001b[36mpath\u001b[0m = \u001b[38;5;11mpickles/2A_comps_025set_v2p1.pickle\u001b[0m\u001b[95m \u001b[0m\u001b[0m\n"
     ]
    },
    {
     "data": {
      "text/plain": [
       "CompoundSet(\"elabs\", #compounds=131, #poses=615)"
      ]
     },
     "execution_count": 126,
     "metadata": {},
     "output_type": "execute_result"
    }
   ],
   "source": [
    "big_hippo = hippo.HIPPO.from_pickle(pickle4)\n",
    "big_hippo.elabs"
   ]
  },
  {
   "cell_type": "code",
   "execution_count": 127,
   "id": "f59913b4-30e0-4a2d-9ce5-8df64e91909c",
   "metadata": {},
   "outputs": [
    {
     "name": "stdout",
     "output_type": "stream",
     "text": [
      "\u001b[1mHIPPO(hippo2_test)\u001b[0m\u001b[0m                              \n",
      "\u001b[36mtarget_name\u001b[0m = A71EV2A\u001b[0m\u001b[95m \u001b[0m\u001b[0m            \n",
      "\u001b[36mmax_lead_time\u001b[0m = 20\u001b[0m\u001b[95m workdays\u001b[0m\u001b[0m       \n",
      "\u001b[36mmax_bb_price\u001b[0m = 100\u001b[0m\u001b[95m $\u001b[0m\u001b[0m              \n",
      "\u001b[36mmin_bb_quantity\u001b[0m = 20\u001b[0m\u001b[95m mg\u001b[0m\u001b[0m           \n",
      "\u001b[36m#compound_sets\u001b[0m = 3\u001b[0m\u001b[95m \u001b[0m\u001b[0m               \n",
      "\u001b[36m#compounds\u001b[0m = 610\u001b[0m\u001b[95m \u001b[0m\u001b[0m                 \n",
      "\u001b[36m#poses\u001b[0m = 1416\u001b[0m\u001b[95m \u001b[0m\u001b[0m                    \n",
      "\u001b[36m#tags\u001b[0m = 8\u001b[0m\u001b[95m \u001b[0m\u001b[0m                        \n",
      "\u001b[0m                                                        \n",
      "\u001b[4mcompound sets:\u001b[0m                                      \n",
      "CompoundSet(\"hits\", #compounds=38, #poses=49)\u001b[0m           \n",
      "CompoundSet(\"bases\", #compounds=1, #poses=4)\u001b[0m            \n",
      "CompoundSet(\"elabs\", #compounds=131, #poses=615)\u001b[0m        \n",
      "\u001b[0m                                                        \n",
      "\u001b[4mtags:\u001b[0m                                               \n",
      "hits #compounds=37, #poses=49\u001b[0m                           \n",
      "Catalytic Site #compounds=0, #poses=7\u001b[0m                   \n",
      "P1 #compounds=0, #poses=5\u001b[0m                               \n",
      "P5 #compounds=0, #poses=1\u001b[0m                               \n",
      "Syndirella #compounds=571, #poses=1367\u001b[0m                  \n",
      "base #compounds=22, #poses=42\u001b[0m                           \n",
      "too_contorted #compounds=13, #poses=22\u001b[0m                  \n",
      "elab #compounds=548, #poses=1325\u001b[0m                        \n",
      "0.043715487234294415\n"
     ]
    }
   ],
   "source": [
    "start = time.perf_counter()\n",
    "big_hippo.summary()\n",
    "end = time.perf_counter()\n",
    "print(end-start)"
   ]
  },
  {
   "cell_type": "code",
   "execution_count": null,
   "id": "24da6126-54e7-4368-a91c-0eae3f77a28e",
   "metadata": {},
   "outputs": [],
   "source": []
  }
 ],
 "metadata": {
  "kernelspec": {
   "display_name": "Custom Python 3 (ipykernel)",
   "language": "python",
   "name": "python3"
  },
  "language_info": {
   "codemirror_mode": {
    "name": "ipython",
    "version": 3
   },
   "file_extension": ".py",
   "mimetype": "text/x-python",
   "name": "python",
   "nbconvert_exporter": "python",
   "pygments_lexer": "ipython3",
   "version": "3.11.6"
  }
 },
 "nbformat": 4,
 "nbformat_minor": 5
}
