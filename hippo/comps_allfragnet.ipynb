{
 "cells": [
  {
   "cell_type": "markdown",
   "id": "04c7d8f0-2e73-4866-aba4-5b8a2bc30305",
   "metadata": {},
   "source": [
    "# HIPPO for 2A Protease (2/?)"
   ]
  },
  {
   "cell_type": "markdown",
   "id": "256eef05-aa3d-4bc3-9da4-1ac10c37934c",
   "metadata": {},
   "source": [
    "## Imports"
   ]
  },
  {
   "cell_type": "code",
   "execution_count": 1,
   "id": "724238ad-d6b4-45f7-a3e4-226318fcc920",
   "metadata": {},
   "outputs": [],
   "source": [
    "%load_ext autoreload\n",
    "# %pprint"
   ]
  },
  {
   "cell_type": "code",
   "execution_count": 2,
   "id": "17673a87-b13d-4322-a920-839f76f773f8",
   "metadata": {},
   "outputs": [],
   "source": [
    "%autoreload 2\n",
    "from pathlib import Path\n",
    "import molparse as mp\n",
    "import hippo2 as hippo\n",
    "import plotly.express as px\n",
    "import plotly.graph_objects as go\n",
    "import pandas as pd\n",
    "from pprint import pprint\n",
    "import json\n",
    "from rdkit import Chem"
   ]
  },
  {
   "cell_type": "markdown",
   "id": "35ddcf65-3ed2-4270-8100-df360ede1fa3",
   "metadata": {},
   "source": [
    "## Load the project"
   ]
  },
  {
   "cell_type": "code",
   "execution_count": 3,
   "id": "d7048cd6-d89b-4929-a154-7e65e0d97b00",
   "metadata": {},
   "outputs": [
    {
     "name": "stdout",
     "output_type": "stream",
     "text": [
      "\u001b[36mpath\u001b[0m = \u001b[38;5;11mpickles/2A_hits_v2p1.pickle\u001b[0m\u001b[95m \u001b[0m\u001b[0m\n"
     ]
    }
   ],
   "source": [
    "animal = hippo.HIPPO.from_pickle('pickles/2A_hits_v2p1.pickle')\n",
    "# animal = hippo.HIPPO.from_pickle('pickles/2A_comps_restart.pickle')"
   ]
  },
  {
   "cell_type": "code",
   "execution_count": 4,
   "id": "cb1c4299-4bb5-45fe-958b-a7905d63ff93",
   "metadata": {},
   "outputs": [
    {
     "name": "stdout",
     "output_type": "stream",
     "text": [
      "\u001b[1mHIPPO(hippo2_test)\u001b[0m\u001b[0m                              \n",
      "\u001b[36mtarget_name\u001b[0m = A71EV2A\u001b[0m\u001b[95m \u001b[0m\u001b[0m            \n",
      "\u001b[36mmax_lead_time\u001b[0m = 20\u001b[0m\u001b[95m workdays\u001b[0m\u001b[0m       \n",
      "\u001b[36mmax_bb_price\u001b[0m = 100\u001b[0m\u001b[95m $\u001b[0m\u001b[0m              \n",
      "\u001b[36mmin_bb_quantity\u001b[0m = 20\u001b[0m\u001b[95m mg\u001b[0m\u001b[0m           \n",
      "\u001b[36m#compound_sets\u001b[0m = 1\u001b[0m\u001b[95m \u001b[0m\u001b[0m               \n",
      "\u001b[36m#compounds\u001b[0m = 38\u001b[0m\u001b[95m \u001b[0m\u001b[0m                  \n",
      "\u001b[36m#poses\u001b[0m = 49\u001b[0m\u001b[95m \u001b[0m\u001b[0m                      \n",
      "\u001b[36m#tags\u001b[0m = 4\u001b[0m\u001b[95m \u001b[0m\u001b[0m                        \n",
      "\u001b[0m                                                        \n",
      "\u001b[4mcompound sets:\u001b[0m                                      \n",
      "CompoundSet(\"hits\", #compounds=38, #poses=49)\u001b[0m           \n",
      "\u001b[0m                                                        \n",
      "\u001b[4mtags:\u001b[0m                                               \n",
      "hits #compounds=37, #poses=49\u001b[0m                           \n",
      "Catalytic Site #compounds=0, #poses=7\u001b[0m                   \n",
      "P1 #compounds=0, #poses=5\u001b[0m                               \n",
      "P5 #compounds=0, #poses=1\u001b[0m                               \n"
     ]
    }
   ],
   "source": [
    "animal.summary()"
   ]
  },
  {
   "cell_type": "markdown",
   "id": "75804f00-503c-42b5-a74a-3aff15a86b94",
   "metadata": {},
   "source": [
    "## Load Syndirella outputs"
   ]
  },
  {
   "cell_type": "code",
   "execution_count": 5,
   "id": "f915151e-f7f4-4f96-a61d-cb0aa9d33d08",
   "metadata": {},
   "outputs": [],
   "source": [
    "syndirella_root = Path('/data/xchem-fragalysis/kfieseler/A71EV2A')"
   ]
  },
  {
   "cell_type": "code",
   "execution_count": 11,
   "id": "05d49a56-488f-4c18-8c02-bd1c3e5133e1",
   "metadata": {
    "scrolled": true
   },
   "outputs": [
    {
     "name": "stdout",
     "output_type": "stream",
     "text": [
      "\u001b[36mroot_path\u001b[0m = /data/xchem-fragalysis/kfieseler/A71EV2A\u001b[0m\u001b[95m \u001b[0m\u001b[0m\n",
      "\u001b[36mtags\u001b[0m = ['Syndirella']\u001b[0m\u001b[95m \u001b[0m\u001b[0m            \n",
      "\u001b[1mSyndirella Synthetic Routes CSV\u001b[0m\u001b[0m                 \n",
      "\u001b[36mroutes_csv_pattern\u001b[0m = routes_data/*.csv\u001b[0m\u001b[95m \u001b[0m\u001b[0m\n",
      "\u001b[36mpaths\u001b[0m[#=0] = []\u001b[0m\u001b[95m \u001b[0m\u001b[0m                  \n",
      "\u001b[1mSyndirella Elaborations CSVs\u001b[0m\u001b[0m                    \n",
      "\u001b[36melabs_csv_pattern\u001b[0m = elabs/*/*/steph*/*.csv\u001b[0m\u001b[95m \u001b[0m\u001b[0m\n",
      "\u001b[36mminimised_mol_suffix\u001b[0m = .minimised.mol\u001b[0m\u001b[95m \u001b[0m\u001b[0m\n",
      "\u001b[36melabs_skip_prefix\u001b[0m[#=2] = [., ~$]\u001b[0m\u001b[95m \u001b[0m\u001b[0m \n",
      "\u001b[36melabs_skip_substr\u001b[0m[#=1] = [_batch_]\u001b[0m\u001b[95m \u001b[0m\u001b[0m\n",
      "\u001b[36melabs_skip_exact\u001b[0m[#=1] = [output.csv]\u001b[0m\u001b[95m \u001b[0m\u001b[0m\n",
      "\u001b[36m#elab CSVs\u001b[0m = 27\u001b[0m\u001b[95m \u001b[0m\u001b[0m                  \n",
      "\u001b[1m\u001b[34m>>> \u001b[1mj=0/27\u001b[0m\u001b[0m                             \n",
      "\u001b[36mcsv\u001b[0m = \u001b[38;5;11m/data/xchem-fragalysis/kfieseler/A71EV2A/elabs/1_step_dec7_batched/batch_1/steph_fragnetv2_Z1864315293/steph_fragnetv2_Z1864315293_1_of_1_step_20812.csv\u001b[0m\u001b[95m \u001b[0m\u001b[0m\n",
      "\u001b[0m[                                  ] \u001b[38;5;27m  0.00%\u001b[0m #comps=0001237\u001b[0m"
     ]
    },
    {
     "ename": "KeyboardInterrupt",
     "evalue": "",
     "output_type": "error",
     "traceback": [
      "\u001b[0;31m---------------------------------------------------------------------------\u001b[0m",
      "\u001b[0;31mKeyboardInterrupt\u001b[0m                         Traceback (most recent call last)",
      "Cell \u001b[0;32mIn[11], line 2\u001b[0m\n\u001b[1;32m      1\u001b[0m test \u001b[38;5;241m=\u001b[39m \u001b[38;5;241m28\u001b[39m\n\u001b[0;32m----> 2\u001b[0m \u001b[43manimal\u001b[49m\u001b[38;5;241;43m.\u001b[39;49m\u001b[43madd_elabs\u001b[49m\u001b[43m(\u001b[49m\n\u001b[1;32m      3\u001b[0m \u001b[43m    \u001b[49m\u001b[43msyndirella_root\u001b[49m\u001b[43m,\u001b[49m\u001b[43m \u001b[49m\n\u001b[1;32m      4\u001b[0m \u001b[43m    \u001b[49m\u001b[43mtest\u001b[49m\u001b[38;5;241;43m=\u001b[39;49m\u001b[43mtest\u001b[49m\u001b[43m,\u001b[49m\u001b[43m \u001b[49m\n\u001b[1;32m      5\u001b[0m \u001b[43m    \u001b[49m\u001b[43mreference_hit\u001b[49m\u001b[38;5;241;43m=\u001b[39;49m\u001b[38;5;124;43m'\u001b[39;49m\u001b[38;5;124;43mx0310_0A\u001b[39;49m\u001b[38;5;124;43m'\u001b[39;49m\u001b[43m,\u001b[49m\u001b[43m \u001b[49m\n\u001b[1;32m      6\u001b[0m \u001b[43m    \u001b[49m\u001b[43moverwrite\u001b[49m\u001b[38;5;241;43m=\u001b[39;49m\u001b[38;5;28;43;01mTrue\u001b[39;49;00m\u001b[43m,\u001b[49m\u001b[43m \u001b[49m\n\u001b[1;32m      7\u001b[0m \u001b[43m    \u001b[49m\u001b[43mpickle_dump\u001b[49m\u001b[38;5;241;43m=\u001b[39;49m\u001b[38;5;124;43mf\u001b[39;49m\u001b[38;5;124;43m'\u001b[39;49m\u001b[38;5;124;43mpickles/fstein_json_test.pickle\u001b[39;49m\u001b[38;5;124;43m'\u001b[39;49m\u001b[43m,\u001b[49m\u001b[43m \u001b[49m\n\u001b[1;32m      8\u001b[0m \u001b[43m    \u001b[49m\u001b[43mrestart_j\u001b[49m\u001b[38;5;241;43m=\u001b[39;49m\u001b[38;5;241;43m0\u001b[39;49m\u001b[43m,\u001b[49m\n\u001b[1;32m      9\u001b[0m \u001b[43m    \u001b[49m\u001b[43mdebug\u001b[49m\u001b[38;5;241;43m=\u001b[39;49m\u001b[38;5;28;43;01mFalse\u001b[39;49;00m\u001b[43m,\u001b[49m\n\u001b[1;32m     10\u001b[0m \u001b[43m    \u001b[49m\u001b[43mrmsd_cut\u001b[49m\u001b[38;5;241;43m=\u001b[39;49m\u001b[38;5;241;43m2\u001b[39;49m\u001b[43m,\u001b[49m\n\u001b[1;32m     11\u001b[0m \u001b[43m    \u001b[49m\u001b[43melabs_csv_pattern\u001b[49m\u001b[38;5;241;43m=\u001b[39;49m\u001b[38;5;124;43m'\u001b[39;49m\u001b[38;5;124;43melabs/*/*/steph*/*.csv\u001b[39;49m\u001b[38;5;124;43m'\u001b[39;49m\u001b[43m,\u001b[49m\n\u001b[1;32m     12\u001b[0m \u001b[43m)\u001b[49m\n",
      "File \u001b[0;32m/data/xchem-fragalysis/maxwin/HIPPO/hippo2/animal.py:408\u001b[0m, in \u001b[0;36mHIPPO.add_elabs\u001b[0;34m(self, root_path, tags, routes_csv_pattern, elabs_csv_pattern, placements_pattern, placements_output_dir_name, minimised_mol_suffix, elabs_skip_prefix, elabs_skip_substr, elabs_skip_exact, test, reference_hit, overwrite, restart_j, pickle_dump, debug, rmsd_cut)\u001b[0m\n\u001b[1;32m    405\u001b[0m \t\t\tcount_elab_without_base \u001b[38;5;241m+\u001b[39m\u001b[38;5;241m=\u001b[39m \u001b[38;5;241m1\u001b[39m\n\u001b[1;32m    406\u001b[0m \t\t\u001b[38;5;28;01mcontinue\u001b[39;00m\n\u001b[0;32m--> 408\u001b[0m meta_row \u001b[38;5;241m=\u001b[39m df[\u001b[43mdf\u001b[49m\u001b[43m[\u001b[49m\u001b[38;5;124;43m'\u001b[39;49m\u001b[38;5;124;43mname\u001b[39;49m\u001b[38;5;124;43m'\u001b[39;49m\u001b[43m]\u001b[49m\u001b[43m \u001b[49m\u001b[38;5;241;43m==\u001b[39;49m\u001b[43m \u001b[49m\u001b[43mpose_name\u001b[49m]\n\u001b[1;32m    410\u001b[0m \u001b[38;5;66;03m# mout.debug(len(meta_row))\u001b[39;00m\n\u001b[1;32m    411\u001b[0m \u001b[38;5;66;03m# mout.debug(len(meta_row.index))\u001b[39;00m\n\u001b[1;32m    412\u001b[0m \u001b[38;5;66;03m# print(meta_row['name'])\u001b[39;00m\n\u001b[1;32m    414\u001b[0m \u001b[38;5;28;01mif\u001b[39;00m \u001b[38;5;28mlen\u001b[39m(meta_row) \u001b[38;5;241m==\u001b[39m \u001b[38;5;241m0\u001b[39m:\n",
      "File \u001b[0;32m/data/xchem-fragalysis/maxwin/conda/lib/python3.11/site-packages/pandas/core/ops/common.py:76\u001b[0m, in \u001b[0;36m_unpack_zerodim_and_defer.<locals>.new_method\u001b[0;34m(self, other)\u001b[0m\n\u001b[1;32m     72\u001b[0m             \u001b[38;5;28;01mreturn\u001b[39;00m \u001b[38;5;28mNotImplemented\u001b[39m\n\u001b[1;32m     74\u001b[0m other \u001b[38;5;241m=\u001b[39m item_from_zerodim(other)\n\u001b[0;32m---> 76\u001b[0m \u001b[38;5;28;01mreturn\u001b[39;00m \u001b[43mmethod\u001b[49m\u001b[43m(\u001b[49m\u001b[38;5;28;43mself\u001b[39;49m\u001b[43m,\u001b[49m\u001b[43m \u001b[49m\u001b[43mother\u001b[49m\u001b[43m)\u001b[49m\n",
      "File \u001b[0;32m/data/xchem-fragalysis/maxwin/conda/lib/python3.11/site-packages/pandas/core/arraylike.py:40\u001b[0m, in \u001b[0;36mOpsMixin.__eq__\u001b[0;34m(self, other)\u001b[0m\n\u001b[1;32m     38\u001b[0m \u001b[38;5;129m@unpack_zerodim_and_defer\u001b[39m(\u001b[38;5;124m\"\u001b[39m\u001b[38;5;124m__eq__\u001b[39m\u001b[38;5;124m\"\u001b[39m)\n\u001b[1;32m     39\u001b[0m \u001b[38;5;28;01mdef\u001b[39;00m \u001b[38;5;21m__eq__\u001b[39m(\u001b[38;5;28mself\u001b[39m, other):\n\u001b[0;32m---> 40\u001b[0m     \u001b[38;5;28;01mreturn\u001b[39;00m \u001b[38;5;28;43mself\u001b[39;49m\u001b[38;5;241;43m.\u001b[39;49m\u001b[43m_cmp_method\u001b[49m\u001b[43m(\u001b[49m\u001b[43mother\u001b[49m\u001b[43m,\u001b[49m\u001b[43m \u001b[49m\u001b[43moperator\u001b[49m\u001b[38;5;241;43m.\u001b[39;49m\u001b[43meq\u001b[49m\u001b[43m)\u001b[49m\n",
      "File \u001b[0;32m/data/xchem-fragalysis/maxwin/conda/lib/python3.11/site-packages/pandas/core/series.py:5799\u001b[0m, in \u001b[0;36mSeries._cmp_method\u001b[0;34m(self, other, op)\u001b[0m\n\u001b[1;32m   5796\u001b[0m lvalues \u001b[38;5;241m=\u001b[39m \u001b[38;5;28mself\u001b[39m\u001b[38;5;241m.\u001b[39m_values\n\u001b[1;32m   5797\u001b[0m rvalues \u001b[38;5;241m=\u001b[39m extract_array(other, extract_numpy\u001b[38;5;241m=\u001b[39m\u001b[38;5;28;01mTrue\u001b[39;00m, extract_range\u001b[38;5;241m=\u001b[39m\u001b[38;5;28;01mTrue\u001b[39;00m)\n\u001b[0;32m-> 5799\u001b[0m res_values \u001b[38;5;241m=\u001b[39m \u001b[43mops\u001b[49m\u001b[38;5;241;43m.\u001b[39;49m\u001b[43mcomparison_op\u001b[49m\u001b[43m(\u001b[49m\u001b[43mlvalues\u001b[49m\u001b[43m,\u001b[49m\u001b[43m \u001b[49m\u001b[43mrvalues\u001b[49m\u001b[43m,\u001b[49m\u001b[43m \u001b[49m\u001b[43mop\u001b[49m\u001b[43m)\u001b[49m\n\u001b[1;32m   5801\u001b[0m \u001b[38;5;28;01mreturn\u001b[39;00m \u001b[38;5;28mself\u001b[39m\u001b[38;5;241m.\u001b[39m_construct_result(res_values, name\u001b[38;5;241m=\u001b[39mres_name)\n",
      "File \u001b[0;32m/data/xchem-fragalysis/maxwin/conda/lib/python3.11/site-packages/pandas/core/ops/array_ops.py:346\u001b[0m, in \u001b[0;36mcomparison_op\u001b[0;34m(left, right, op)\u001b[0m\n\u001b[1;32m    343\u001b[0m     \u001b[38;5;28;01mreturn\u001b[39;00m invalid_comparison(lvalues, rvalues, op)\n\u001b[1;32m    345\u001b[0m \u001b[38;5;28;01melif\u001b[39;00m lvalues\u001b[38;5;241m.\u001b[39mdtype \u001b[38;5;241m==\u001b[39m \u001b[38;5;28mobject\u001b[39m \u001b[38;5;129;01mor\u001b[39;00m \u001b[38;5;28misinstance\u001b[39m(rvalues, \u001b[38;5;28mstr\u001b[39m):\n\u001b[0;32m--> 346\u001b[0m     res_values \u001b[38;5;241m=\u001b[39m \u001b[43mcomp_method_OBJECT_ARRAY\u001b[49m\u001b[43m(\u001b[49m\u001b[43mop\u001b[49m\u001b[43m,\u001b[49m\u001b[43m \u001b[49m\u001b[43mlvalues\u001b[49m\u001b[43m,\u001b[49m\u001b[43m \u001b[49m\u001b[43mrvalues\u001b[49m\u001b[43m)\u001b[49m\n\u001b[1;32m    348\u001b[0m \u001b[38;5;28;01melse\u001b[39;00m:\n\u001b[1;32m    349\u001b[0m     res_values \u001b[38;5;241m=\u001b[39m _na_arithmetic_op(lvalues, rvalues, op, is_cmp\u001b[38;5;241m=\u001b[39m\u001b[38;5;28;01mTrue\u001b[39;00m)\n",
      "File \u001b[0;32m/data/xchem-fragalysis/maxwin/conda/lib/python3.11/site-packages/pandas/core/ops/array_ops.py:131\u001b[0m, in \u001b[0;36mcomp_method_OBJECT_ARRAY\u001b[0;34m(op, x, y)\u001b[0m\n\u001b[1;32m    129\u001b[0m     result \u001b[38;5;241m=\u001b[39m libops\u001b[38;5;241m.\u001b[39mvec_compare(x\u001b[38;5;241m.\u001b[39mravel(), y\u001b[38;5;241m.\u001b[39mravel(), op)\n\u001b[1;32m    130\u001b[0m \u001b[38;5;28;01melse\u001b[39;00m:\n\u001b[0;32m--> 131\u001b[0m     result \u001b[38;5;241m=\u001b[39m \u001b[43mlibops\u001b[49m\u001b[38;5;241;43m.\u001b[39;49m\u001b[43mscalar_compare\u001b[49m\u001b[43m(\u001b[49m\u001b[43mx\u001b[49m\u001b[38;5;241;43m.\u001b[39;49m\u001b[43mravel\u001b[49m\u001b[43m(\u001b[49m\u001b[43m)\u001b[49m\u001b[43m,\u001b[49m\u001b[43m \u001b[49m\u001b[43my\u001b[49m\u001b[43m,\u001b[49m\u001b[43m \u001b[49m\u001b[43mop\u001b[49m\u001b[43m)\u001b[49m\n\u001b[1;32m    132\u001b[0m \u001b[38;5;28;01mreturn\u001b[39;00m result\u001b[38;5;241m.\u001b[39mreshape(x\u001b[38;5;241m.\u001b[39mshape)\n",
      "\u001b[0;31mKeyboardInterrupt\u001b[0m: "
     ]
    }
   ],
   "source": [
    "test = 28\n",
    "animal.add_elabs(\n",
    "    syndirella_root, \n",
    "    test=test, \n",
    "    reference_hit='x0310_0A', \n",
    "    overwrite=True, \n",
    "    pickle_dump=f'pickles/fstein_json_test.pickle', \n",
    "    restart_j=0,\n",
    "    debug=False,\n",
    "    rmsd_cut=2,\n",
    "    elabs_csv_pattern='elabs/*/*/steph*/*.csv',\n",
    ")"
   ]
  },
  {
   "cell_type": "markdown",
   "id": "a1f49615-5227-4581-a3ef-3570a1e9f576",
   "metadata": {},
   "source": [
    "## Run add_elabs as a shell script"
   ]
  },
  {
   "cell_type": "code",
   "execution_count": 6,
   "id": "e6e4d874-4562-4ca7-8bd1-e8443276ad6f",
   "metadata": {
    "scrolled": true
   },
   "outputs": [
    {
     "name": "stdout",
     "output_type": "stream",
     "text": [
      "ERROR; return code from pthread_create() is 11\n",
      "\tError detail: Resource temporarily unavailable\n"
     ]
    }
   ],
   "source": [
    "!./comps_shell.py -i 'pickles/2A_hits_v2p1.pickle' -o 'pickles/2A_comps_shell_allfragnet_2.pickle' -s '/data/xchem-fragalysis/kfieseler/A71EV2A' -f 'steph' -c 2"
   ]
  },
  {
   "cell_type": "code",
   "execution_count": 7,
   "id": "44851d6d-37f6-412f-a9f4-6907a4954739",
   "metadata": {
    "scrolled": true
   },
   "outputs": [],
   "source": [
    "# !./comps_shell.py -i 'pickles/hippo2_test_comps_shell_restart.pickle' -o 'pickles/2A_comps_shell_allfragnet.pickle' -s '/data/xchem-fragalysis/kfieseler/A71EV2A' -f 'steph' -r 19"
   ]
  },
  {
   "cell_type": "code",
   "execution_count": 8,
   "id": "6c6d7f61-820e-4b50-8ec2-18fcfa1a3cb5",
   "metadata": {},
   "outputs": [
    {
     "name": "stdout",
     "output_type": "stream",
     "text": [
      "\u001b[36mpath\u001b[0m = \u001b[38;5;11mpickles/2A_comps_shell_allfragnet_2.pickle\u001b[0m\u001b[95m \u001b[0m\u001b[0m\n"
     ]
    },
    {
     "ename": "FileNotFoundError",
     "evalue": "[Errno 2] No such file or directory: 'pickles/2A_comps_shell_allfragnet_2.pickle'",
     "output_type": "error",
     "traceback": [
      "\u001b[0;31m---------------------------------------------------------------------------\u001b[0m",
      "\u001b[0;31mFileNotFoundError\u001b[0m                         Traceback (most recent call last)",
      "Cell \u001b[0;32mIn[8], line 1\u001b[0m\n\u001b[0;32m----> 1\u001b[0m animal \u001b[38;5;241m=\u001b[39m \u001b[43mhippo\u001b[49m\u001b[38;5;241;43m.\u001b[39;49m\u001b[43mHIPPO\u001b[49m\u001b[38;5;241;43m.\u001b[39;49m\u001b[43mfrom_pickle\u001b[49m\u001b[43m(\u001b[49m\u001b[38;5;124;43m'\u001b[39;49m\u001b[38;5;124;43mpickles/2A_comps_shell_allfragnet_2.pickle\u001b[39;49m\u001b[38;5;124;43m'\u001b[39;49m\u001b[43m)\u001b[49m\n",
      "File \u001b[0;32m/data/xchem-fragalysis/maxwin/HIPPO/hippo2/animal.py:143\u001b[0m, in \u001b[0;36mHIPPO.from_pickle\u001b[0;34m(self, path)\u001b[0m\n\u001b[1;32m    140\u001b[0m \u001b[38;5;28;01mimport\u001b[39;00m \u001b[38;5;21;01mpickle\u001b[39;00m\n\u001b[1;32m    141\u001b[0m mout\u001b[38;5;241m.\u001b[39mvar(\u001b[38;5;124m'\u001b[39m\u001b[38;5;124mpath\u001b[39m\u001b[38;5;124m'\u001b[39m,\u001b[38;5;28mstr\u001b[39m(path),valCol\u001b[38;5;241m=\u001b[39mmcol\u001b[38;5;241m.\u001b[39mfile)\n\u001b[0;32m--> 143\u001b[0m \u001b[38;5;28;01mwith\u001b[39;00m \u001b[38;5;28;43mopen\u001b[39;49m\u001b[43m(\u001b[49m\u001b[43mpath\u001b[49m\u001b[43m,\u001b[49m\u001b[38;5;124;43m'\u001b[39;49m\u001b[38;5;124;43mrb\u001b[39;49m\u001b[38;5;124;43m'\u001b[39;49m\u001b[43m)\u001b[49m \u001b[38;5;28;01mas\u001b[39;00m f:\n\u001b[1;32m    144\u001b[0m \t\u001b[38;5;28mself\u001b[39m \u001b[38;5;241m=\u001b[39m pickle\u001b[38;5;241m.\u001b[39mload(f)\n\u001b[1;32m    146\u001b[0m \u001b[38;5;28;01mreturn\u001b[39;00m \u001b[38;5;28mself\u001b[39m\n",
      "\u001b[0;31mFileNotFoundError\u001b[0m: [Errno 2] No such file or directory: 'pickles/2A_comps_shell_allfragnet_2.pickle'"
     ]
    }
   ],
   "source": [
    "animal = hippo.HIPPO.from_pickle('pickles/2A_comps_shell_allfragnet_2.pickle')"
   ]
  },
  {
   "cell_type": "code",
   "execution_count": null,
   "id": "d91e944d-2c5e-44ca-a18c-3984adddc689",
   "metadata": {},
   "outputs": [],
   "source": [
    "print(animal.num_compounds)\n",
    "animal.compounds[-1]"
   ]
  },
  {
   "cell_type": "code",
   "execution_count": null,
   "id": "32e7c097-d952-4151-a12b-ef8bc1cdabab",
   "metadata": {},
   "outputs": [],
   "source": [
    "from hippo2.cset import CompoundSet\n",
    "\n",
    "print('getting bases')\n",
    "if 'bases' in animal.compound_sets:\n",
    "    animal.compound_sets['bases'] = animal.get_compounds('base')\n",
    "else:\n",
    "    bases = CompoundSet('bases', animal.get_compounds('base'))\n",
    "    animal.compound_sets.append(bases)\n",
    "print(animal.bases)\n",
    "\n",
    "print('getting elabs')\n",
    "if 'elabs' in animal.compound_sets:\n",
    "    animal.compound_sets['elabs'] = animal.get_compounds('elab')\n",
    "else:\n",
    "    elabs = CompoundSet('elabs', animal.get_compounds('elab'))\n",
    "    animal.compound_sets.append(elabs)\n",
    "print(animal.elabs)\n",
    "\n",
    "animal._update_bb_amounts(debug=True)\n",
    "\n",
    "animal.write_pickle('pickles/2A_HIPPO_comps_allfragnet_2.pickle')"
   ]
  },
  {
   "cell_type": "code",
   "execution_count": null,
   "id": "57463766-2746-47a2-8bc5-c00611ddf1ae",
   "metadata": {},
   "outputs": [],
   "source": [
    "assert animal.num_compounds == len(animal.get_compounds('Syndirella')) + len(animal.hits)\n",
    "print(animal.num_compounds)\n",
    "print(animal.elabs)"
   ]
  },
  {
   "cell_type": "raw",
   "id": "a733f5b6-c4ec-4b46-b711-718c91a63c71",
   "metadata": {},
   "source": [
    "dog = hippo.HIPPO.from_pickle(f'pickles/2A_comps_{test:03}set_v2p1.pickle')\n",
    "print(dog.num_compounds)\n",
    "print(dog.get_compounds('elab'))\n",
    "dog.elabs"
   ]
  },
  {
   "cell_type": "markdown",
   "id": "970393ef-c84d-4462-af45-68fea12f002c",
   "metadata": {},
   "source": [
    "## Visualisation"
   ]
  },
  {
   "cell_type": "code",
   "execution_count": null,
   "id": "3cf3f0a5-1874-4052-90b1-96c4c7656f29",
   "metadata": {},
   "outputs": [],
   "source": [
    "# animal.plot_tag_statistics(log_y=True)"
   ]
  },
  {
   "cell_type": "code",
   "execution_count": null,
   "id": "d451aee5-85a0-480c-b971-f1fde954ec4e",
   "metadata": {},
   "outputs": [],
   "source": [
    "animal.plot_synthetic_routes(html='graphs/elabs_routes_allfragnet', png='graphs/elabs_routes_allfragnet')"
   ]
  },
  {
   "cell_type": "code",
   "execution_count": null,
   "id": "6c302b77-81aa-4935-b911-93c2c2883e47",
   "metadata": {},
   "outputs": [],
   "source": [
    "animal.plot_reactant_amounts()"
   ]
  },
  {
   "cell_type": "code",
   "execution_count": null,
   "id": "7550d935-d839-4d13-9e44-c2abf6fc68ce",
   "metadata": {},
   "outputs": [],
   "source": [
    "#animal.plot_building_blocks(html='graphs/elabs_bbs', png='graphs/elabs_bbs')"
   ]
  },
  {
   "cell_type": "code",
   "execution_count": null,
   "id": "85e28dcd-f474-4c64-bc20-0a45fa34b4bf",
   "metadata": {},
   "outputs": [],
   "source": [
    "animal.plot_numbers()"
   ]
  },
  {
   "cell_type": "markdown",
   "id": "55564cc2-4164-4cec-94b5-87861db0106e",
   "metadata": {},
   "source": [
    "## Random"
   ]
  },
  {
   "cell_type": "code",
   "execution_count": null,
   "id": "64a5c2a9-880f-49dc-94dd-8886c8aef3b7",
   "metadata": {},
   "outputs": [],
   "source": [
    "raise Exception"
   ]
  },
  {
   "cell_type": "code",
   "execution_count": null,
   "id": "4bd0cafd-e341-44bb-86fc-dcbb16bb7d94",
   "metadata": {},
   "outputs": [],
   "source": [
    "df = pd.read_csv('/data/xchem-fragalysis/kfieseler/A71EV2A/elabs/1_step_dec6_batched/batch_1/matteo_ferla_rocs_cov_Z2737383535/matteo_ferla_rocs_cov_Z2737383535_1_of_1_step_10080.csv')"
   ]
  },
  {
   "cell_type": "code",
   "execution_count": null,
   "id": "32895075-a4ba-498b-adca-167b8cf737a7",
   "metadata": {},
   "outputs": [],
   "source": [
    "df = pd.read_csv('/data/xchem-fragalysis/kfieseler/A71EV2A/elabs/1_step_dec7_batched/batch_2/steph_fragnetv2_PV-002862252644/steph_fragnetv2_PV-002862252644_1_of_1_step_26729.csv')"
   ]
  },
  {
   "cell_type": "code",
   "execution_count": null,
   "id": "d73ab9ff-a377-42b8-ab1e-adcd7960d1f7",
   "metadata": {
    "scrolled": true
   },
   "outputs": [],
   "source": [
    "pprint(df[df['smi_reactant2'] == 'Cc1cccc2c1OC(C)(C)CNC2']['metadata_reactant2'].values[0])"
   ]
  },
  {
   "cell_type": "code",
   "execution_count": null,
   "id": "873b2ddd-6857-4665-bdf9-9e0921ce6219",
   "metadata": {},
   "outputs": [],
   "source": [
    "metadata_reactant1 = eval(df['metadata_reactant1'].values[0])"
   ]
  },
  {
   "cell_type": "code",
   "execution_count": null,
   "id": "6769f5e3-901b-48a4-8294-b41f543d65ad",
   "metadata": {},
   "outputs": [],
   "source": [
    "metadata_reactant1"
   ]
  },
  {
   "cell_type": "code",
   "execution_count": null,
   "id": "bf4cc5b7-5474-4a5d-89bc-c434a933789f",
   "metadata": {
    "scrolled": true
   },
   "outputs": [],
   "source": [
    "print(json.dumps(df['metadata_reactant1'].values[0], indent=2))"
   ]
  },
  {
   "cell_type": "code",
   "execution_count": null,
   "id": "38dfd521-9ce7-4a74-8886-cd0d77b3798c",
   "metadata": {},
   "outputs": [],
   "source": [
    "df[['name','smiles', 'smi_reactant1', 'smi_reactant2']].loc[20]"
   ]
  },
  {
   "cell_type": "code",
   "execution_count": null,
   "id": "286d205f-6865-45ed-b0f0-fabd6c8eed53",
   "metadata": {},
   "outputs": [],
   "source": [
    "df[['base_name']].values[0]"
   ]
  },
  {
   "cell_type": "code",
   "execution_count": null,
   "id": "ca2d7673-3f7d-4738-83da-9c5039c103bb",
   "metadata": {},
   "outputs": [],
   "source": [
    "sub.to_csv('test.csv')"
   ]
  },
  {
   "cell_type": "code",
   "execution_count": null,
   "id": "2ca92710-67d4-460b-8f33-6cefd5664503",
   "metadata": {
    "scrolled": true
   },
   "outputs": [],
   "source": [
    "df['name'].values"
   ]
  },
  {
   "cell_type": "code",
   "execution_count": null,
   "id": "45c3f4de-c501-4fd3-93d8-359af0b02b66",
   "metadata": {},
   "outputs": [],
   "source": [
    "animal.get_compounds('Syndirella')"
   ]
  },
  {
   "cell_type": "code",
   "execution_count": null,
   "id": "cfbb5f98-5f29-4123-80f6-5ca19655b8cc",
   "metadata": {},
   "outputs": [],
   "source": [
    "animal.compounds"
   ]
  },
  {
   "cell_type": "code",
   "execution_count": null,
   "id": "48e0b87a-3de5-4d3d-bdbc-7c10eef51e21",
   "metadata": {},
   "outputs": [],
   "source": [
    "elab = animal.elabs[0]\n",
    "elab.summary()"
   ]
  },
  {
   "cell_type": "code",
   "execution_count": null,
   "id": "08aa0b80-0d43-4bd1-8eda-c6150f6d7ba6",
   "metadata": {},
   "outputs": [],
   "source": [
    "elab.mol"
   ]
  },
  {
   "cell_type": "code",
   "execution_count": null,
   "id": "13a228a4-70e2-4465-8bd2-40a16216c8c9",
   "metadata": {},
   "outputs": [],
   "source": [
    "for elab in animal.elabs:\n",
    "    if elab.num_poses > 1:\n",
    "        for p in elab.poses:\n",
    "            p.summary()\n",
    "        break"
   ]
  },
  {
   "cell_type": "code",
   "execution_count": null,
   "id": "f5dafe15-ee54-4214-9330-596c3986f8ae",
   "metadata": {},
   "outputs": [],
   "source": [
    "p.longname"
   ]
  },
  {
   "cell_type": "code",
   "execution_count": null,
   "id": "0bb0e15d-213d-43ff-919b-c66d50e2b39b",
   "metadata": {},
   "outputs": [],
   "source": [
    "mp.rdkit.draw_mols([p.mol for p in elab.poses])"
   ]
  },
  {
   "cell_type": "code",
   "execution_count": null,
   "id": "360453fb-f26c-4292-92e1-8581e3e89358",
   "metadata": {},
   "outputs": [],
   "source": [
    "print(animal.elabs)"
   ]
  },
  {
   "cell_type": "code",
   "execution_count": null,
   "id": "de4cf62e-b134-4a92-8cbc-ff2b4931564e",
   "metadata": {},
   "outputs": [],
   "source": [
    "# for i,c in enumerate(animal.elabs):\n",
    "    # print(i, c.name, animal.elabs.names.count(c.name), animal.elabs.smiles.count(c.smiles))\n"
   ]
  },
  {
   "cell_type": "code",
   "execution_count": null,
   "id": "0efb71c5-9e20-4991-b734-baf83491064b",
   "metadata": {},
   "outputs": [],
   "source": []
  }
 ],
 "metadata": {
  "kernelspec": {
   "display_name": "Custom Python 3 (ipykernel)",
   "language": "python",
   "name": "python3"
  },
  "language_info": {
   "codemirror_mode": {
    "name": "ipython",
    "version": 3
   },
   "file_extension": ".py",
   "mimetype": "text/x-python",
   "name": "python",
   "nbconvert_exporter": "python",
   "pygments_lexer": "ipython3",
   "version": "3.11.6"
  }
 },
 "nbformat": 4,
 "nbformat_minor": 5
}
