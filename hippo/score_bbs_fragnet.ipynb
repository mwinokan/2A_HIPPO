{
 "cells": [
  {
   "cell_type": "markdown",
   "id": "04c7d8f0-2e73-4866-aba4-5b8a2bc30305",
   "metadata": {},
   "source": [
    "# HIPPO for 2A Protease (6/?)"
   ]
  },
  {
   "cell_type": "markdown",
   "id": "256eef05-aa3d-4bc3-9da4-1ac10c37934c",
   "metadata": {},
   "source": [
    "## Imports"
   ]
  },
  {
   "cell_type": "code",
   "execution_count": 1,
   "id": "724238ad-d6b4-45f7-a3e4-226318fcc920",
   "metadata": {},
   "outputs": [],
   "source": [
    "%load_ext autoreload"
   ]
  },
  {
   "cell_type": "code",
   "execution_count": 2,
   "id": "17673a87-b13d-4322-a920-839f76f773f8",
   "metadata": {},
   "outputs": [],
   "source": [
    "%autoreload 2\n",
    "from pathlib import Path\n",
    "import molparse as mp\n",
    "import hippo2 as hippo\n",
    "import plotly.express as px\n",
    "import plotly.graph_objects as go\n",
    "import pandas as pd\n",
    "from pprint import pprint\n",
    "import json\n",
    "import mout\n",
    "import pickle"
   ]
  },
  {
   "cell_type": "markdown",
   "id": "35ddcf65-3ed2-4270-8100-df360ede1fa3",
   "metadata": {},
   "source": [
    "## Load the project"
   ]
  },
  {
   "cell_type": "code",
   "execution_count": 3,
   "id": "d7048cd6-d89b-4929-a154-7e65e0d97b00",
   "metadata": {},
   "outputs": [
    {
     "name": "stdout",
     "output_type": "stream",
     "text": [
      "\u001b[36mpath\u001b[0m = \u001b[38;5;11mpickles/2A_hippo_fragnet_random_latest.pickle\u001b[0m\u001b[95m \u001b[0m\u001b[0m\n"
     ]
    }
   ],
   "source": [
    "# animal = hippo.HIPPO.from_pickle('pickles/2A_hippo_fingerprinted_trim.pickle')\n",
    "animal = hippo.HIPPO.from_pickle('pickles/2A_hippo_fragnet_random_latest.pickle')"
   ]
  },
  {
   "cell_type": "code",
   "execution_count": 4,
   "id": "66b41c49-5a89-4475-878a-5cfff6cd0bd6",
   "metadata": {},
   "outputs": [
    {
     "data": {
      "text/plain": [
       "CompoundSet(\"bases\", #compounds=17, #poses=0)"
      ]
     },
     "execution_count": 4,
     "metadata": {},
     "output_type": "execute_result"
    }
   ],
   "source": [
    "animal.bases"
   ]
  },
  {
   "cell_type": "markdown",
   "id": "244373b2-60fa-40db-99e3-dca8be91365d",
   "metadata": {},
   "source": [
    "## Load the BBSs"
   ]
  },
  {
   "cell_type": "code",
   "execution_count": 5,
   "id": "0de02d45-2e3c-47b4-81fc-85f54c5b911a",
   "metadata": {},
   "outputs": [],
   "source": [
    "bbs_dir = Path('bbs_fragnet_3k')"
   ]
  },
  {
   "cell_type": "code",
   "execution_count": 6,
   "id": "c18299b3-694b-4e0f-90e4-58e103173dea",
   "metadata": {},
   "outputs": [
    {
     "name": "stdout",
     "output_type": "stream",
     "text": [
      "PoseSet(#poses=8, [0A, 0A, 0A, 0A, 0A, 0A, 0A, 0A])\n"
     ]
    }
   ],
   "source": [
    "catalytic_poses = animal.get_poses('Catalytic', search=True, all_poses=animal.hits.poses)\n",
    "print(catalytic_poses)\n",
    "CATALYTIC_FEATURES = catalytic_poses.get_present_features()\n",
    "N_CATALYTIC_FEATURES = len(CATALYTIC_FEATURES)"
   ]
  },
  {
   "cell_type": "code",
   "execution_count": 7,
   "id": "1ff8cd96-0aed-49c9-9a77-b37600f805d2",
   "metadata": {},
   "outputs": [],
   "source": [
    "def catalytic_features(bbs):\n",
    "    features = bbs.products.get_present_features()\n",
    "    return len([f for f in CATALYTIC_FEATURES if f in features])\n",
    "\n",
    "def num_features(bbs):\n",
    "    features = bbs.products.get_present_features()\n",
    "    return len(features)"
   ]
  },
  {
   "cell_type": "code",
   "execution_count": 29,
   "id": "bc68e1eb-48fe-4f54-bd27-9985bae24fa7",
   "metadata": {},
   "outputs": [],
   "source": [
    "def num_bases(bbs):\n",
    "    # print(bbs.products)\n",
    "    return len(set([p.base.name for p in bbs.products if p.base is not None]))\n",
    "\n",
    "def num_products(bbs):\n",
    "    return len(bbs.products)\n",
    "\n",
    "from collections import Counter\n",
    "import numpy as np\n",
    "\n",
    "def base_balance(bbs):\n",
    "    bases = [p.base.name for p in bbs.products if p.base is not None]\n",
    "    counter = Counter(bases)\n",
    "    # for base in set(bases):\n",
    "        # print(base, counter[base])\n",
    "    return np.std([counter[base] for base in set(bases)])"
   ]
  },
  {
   "cell_type": "code",
   "execution_count": 30,
   "id": "66947d29-880a-4619-808b-d0212ecbcef8",
   "metadata": {},
   "outputs": [
    {
     "data": {
      "text/plain": [
       "15.627610892974724"
      ]
     },
     "execution_count": 30,
     "metadata": {},
     "output_type": "execute_result"
    }
   ],
   "source": [
    "base_balance(p)"
   ]
  },
  {
   "cell_type": "code",
   "execution_count": 31,
   "id": "afde2078-de99-4bbe-856c-95710bdd254c",
   "metadata": {},
   "outputs": [
    {
     "name": "stdout",
     "output_type": "stream",
     "text": [
      "\u001b[0m[######                      ] \u001b[38;5;27m 24.95%\u001b[0m i=499 BBS_ALJ.pickle\u001b[0m"
     ]
    }
   ],
   "source": [
    "pickles = bbs_dir.glob('BBS_???.pickle')\n",
    "bb_sets = []\n",
    "n=2000\n",
    "for i,p in enumerate(pickles):\n",
    "    # if i > 500:\n",
    "        # break\n",
    "    # if i%10 == 0:\n",
    "        # mout.out(f'{i=}')\n",
    "    mout.progress(i,n,append=f'{i=} {p.name}')\n",
    "    p = pickle.load(open(p, 'rb'))\n",
    "\n",
    "    d = dict(\n",
    "        name=p.name,\n",
    "        catalytic_features=catalytic_features(p),\n",
    "        num_features=num_features(p),\n",
    "        num_bases=num_bases(p),\n",
    "        num_products=num_products(p),\n",
    "        base_balance=base_balance(p),\n",
    "    )\n",
    "    \n",
    "    bb_sets.append(d)"
   ]
  },
  {
   "cell_type": "code",
   "execution_count": 32,
   "id": "7bc65430-5c81-4e73-a65e-ecd903a8851b",
   "metadata": {},
   "outputs": [
    {
     "name": "stdout",
     "output_type": "stream",
     "text": [
      "\u001b[0m[###             ] \u001b[38;5;27m 24.95%\u001b[0m\u001b[31;1m i=499 BBS_ALJ.pickle INTERRUPTED\u001b[0m\n"
     ]
    }
   ],
   "source": [
    "mout.interrupt()"
   ]
  },
  {
   "cell_type": "markdown",
   "id": "05234e59-8a0f-4d85-8be7-4d97e667a8e7",
   "metadata": {},
   "source": [
    "## Define the scorer"
   ]
  },
  {
   "cell_type": "code",
   "execution_count": 40,
   "id": "29bd75e3-d263-46f2-82d4-7a02552e2a39",
   "metadata": {},
   "outputs": [
    {
     "name": "stdout",
     "output_type": "stream",
     "text": [
      "start\n",
      "\u001b[1m\u001b[34m>>> \u001b[1mScorer(HIPPO(hippo2_test))\u001b[0m\u001b[0m         \n",
      "\u001b[1m\u001b[34m>>> \u001b[1mGetting values for Attribute(num_products)...\u001b[0m\u001b[0m\n",
      "\u001b[1m\u001b[34m>>> \u001b[1mGetting values for Attribute(num_bases)...\u001b[0m\u001b[0m\n",
      "\u001b[1m\u001b[34m>>> \u001b[1mGetting values for Attribute(catalytic_features)...\u001b[0m\u001b[0m\n",
      "\u001b[1m\u001b[34m>>> \u001b[1mGetting values for Attribute(num_features)...\u001b[0m\u001b[0m\n",
      "\u001b[1m\u001b[34m>>> \u001b[1mGetting values for Attribute(base_balance)...\u001b[0m\u001b[0m\n"
     ]
    }
   ],
   "source": [
    "print('start')\n",
    "scorer = hippo.scoring.Scorer(\n",
    "    animal, \n",
    "    bb_sets, \n",
    "    ['num_products',\n",
    "     'num_bases',\n",
    "     'catalytic_features',\n",
    "     'num_features',\n",
    "     'base_balance',\n",
    "    ])\n",
    "    # ['num_products'])\n",
    "\n",
    "# print('num_products')\n",
    "# scorer.add_attribute(hippo.scoring.CustomAttribute('num_products', bb_sets, num_products))\n",
    "# print('num_bases')\n",
    "# scorer.add_attribute(hippo.scoring.CustomAttribute('num_bases', bb_sets, num_bases))\n",
    "# print('catalytic_features')\n",
    "# scorer.add_attribute(hippo.scoring.CustomAttribute('catalytic_features', bb_sets, catalytic_features))\n",
    "# print('num_features')\n",
    "# scorer.add_attribute(hippo.scoring.CustomAttribute('num_features', bb_sets, num_features))\n",
    "\n",
    "scorer.weights = [1.0, 1.0, 1.0, 1.0, -1.0]"
   ]
  },
  {
   "cell_type": "code",
   "execution_count": 41,
   "id": "46c948fa-ef01-45ca-97ae-963b994c8e4a",
   "metadata": {},
   "outputs": [
    {
     "name": "stdout",
     "output_type": "stream",
     "text": [
      "\u001b[1m\u001b[34m>>> \u001b[1msorting 500 BB sets...\u001b[0m\u001b[0m             \n"
     ]
    }
   ],
   "source": [
    "top = scorer.top(5)"
   ]
  },
  {
   "cell_type": "code",
   "execution_count": 42,
   "id": "76769e8c-97cf-4d47-8aba-90b29efb8168",
   "metadata": {},
   "outputs": [
    {
     "name": "stdout",
     "output_type": "stream",
     "text": [
      "\u001b[1mBBS_ABK\u001b[0m\u001b[0m                                         \n",
      "                  key  weight       value          unweighted  weighted\n",
      "0        num_products     0.2   79.000000  0.6324102564102566  0.126482\n",
      "1           num_bases     0.2   13.000000  0.9610000000000001  0.192200\n",
      "2  catalytic_features     0.2   52.000000  0.9159999999999999  0.183200\n",
      "3        num_features     0.2  146.000000  0.9796923076923081  0.195938\n",
      "4        base_balance     0.2    5.497713            0.898699  0.179740\n",
      "\u001b[36mscore\u001b[0m = 0.87756024\u001b[0m\u001b[95m \u001b[0m\u001b[0m               \n",
      "\u001b[1mBBS_ARQ\u001b[0m\u001b[0m                                         \n",
      "                  key  weight       value          unweighted  weighted\n",
      "0        num_products     0.2   85.000000  0.7698461538461538  0.153969\n",
      "1           num_bases     0.2   13.000000  0.9610000000000001  0.192200\n",
      "2  catalytic_features     0.2   52.000000  0.9159999999999999  0.183200\n",
      "3        num_features     0.2  139.000000  0.9080000000000003  0.181600\n",
      "4        base_balance     0.2    6.440442            0.807096  0.161419\n",
      "\u001b[36mscore\u001b[0m = 0.87238840\u001b[0m\u001b[95m \u001b[0m\u001b[0m               \n",
      "\u001b[1mBBS_AMU\u001b[0m\u001b[0m                                         \n",
      "                  key  weight       value          unweighted  weighted\n",
      "0        num_products     0.2   97.000000  0.9518974358974364  0.190379\n",
      "1           num_bases     0.2   13.000000  0.9610000000000001  0.192200\n",
      "2  catalytic_features     0.2   52.000000  0.9159999999999999  0.183200\n",
      "3        num_features     0.2  130.000000  0.6832307692307699  0.136646\n",
      "4        base_balance     0.2    7.268315            0.656952  0.131390\n",
      "\u001b[36mscore\u001b[0m = 0.83381602\u001b[0m\u001b[95m \u001b[0m\u001b[0m               \n",
      "\u001b[1mBBS_ARP\u001b[0m\u001b[0m                                         \n",
      "                  key  weight       value          unweighted  weighted\n",
      "0        num_products     0.2   85.000000  0.7698461538461538  0.153969\n",
      "1           num_bases     0.2   11.000000               0.678  0.135600\n",
      "2  catalytic_features     0.2   54.000000               0.991  0.198200\n",
      "3        num_features     0.2  149.000000  0.9893846153846158  0.197877\n",
      "4        base_balance     0.2    7.072236            0.700853  0.140171\n",
      "\u001b[36mscore\u001b[0m = 0.82581681\u001b[0m\u001b[95m \u001b[0m\u001b[0m               \n",
      "\u001b[1mBBS_AMS\u001b[0m\u001b[0m                                         \n",
      "                  key  weight       value          unweighted  weighted\n",
      "0        num_products     0.2   76.000000  0.5393846153846157  0.107877\n",
      "1           num_bases     0.2   12.000000               0.794  0.158800\n",
      "2  catalytic_features     0.2   51.000000              0.8955  0.179100\n",
      "3        num_features     0.2  142.000000  0.9483076923076925  0.189662\n",
      "4        base_balance     0.2    4.980518            0.933157  0.186631\n",
      "\u001b[36mscore\u001b[0m = 0.82206988\u001b[0m\u001b[95m \u001b[0m\u001b[0m               \n"
     ]
    }
   ],
   "source": [
    "for bbs in top:\n",
    "    mout.header(bbs['name'])\n",
    "    scorer.score(bbs, verbosity=1)"
   ]
  },
  {
   "cell_type": "markdown",
   "id": "c4f14bcc-27db-4609-a370-0cd16cb3260b",
   "metadata": {},
   "source": [
    "## Plotting"
   ]
  },
  {
   "cell_type": "code",
   "execution_count": 43,
   "id": "e70e45b2-d190-4d87-8e94-eb15e8679e60",
   "metadata": {},
   "outputs": [],
   "source": [
    "label=[bbs['name'] for bbs in top]\n",
    "\n",
    "plot_data = []\n",
    "for bbs in bb_sets:\n",
    "    d = dict(\n",
    "        name=bbs['name'],\n",
    "        score=scorer(bbs),\n",
    "        label = bbs['name'] if bbs['name'] in label else '',\n",
    "    )\n",
    "\n",
    "    for attribute in scorer.attributes:\n",
    "        d[attribute.key] = attribute.get_value(bbs)\n",
    "\n",
    "    plot_data.append(d)"
   ]
  },
  {
   "cell_type": "code",
   "execution_count": 44,
   "id": "fa28b87a-9612-4e4a-90a3-e59782357085",
   "metadata": {},
   "outputs": [
    {
     "data": {
      "application/vnd.plotly.v1+json": {
       "config": {
        "plotlyServerURL": "https://plot.ly"
       },
       "data": [
        {
         "customdata": [
          [
           "BBS_AMU",
           0.8338160218351284,
           "BBS_AMU",
           13,
           52,
           7.268314960626288
          ],
          [
           "BBS_AIF",
           0.6931483821376148,
           "",
           12,
           49,
           5.973901572674261
          ],
          [
           "BBS_AJX",
           0.7271126042127913,
           "",
           12,
           52,
           6.783865662978103
          ],
          [
           "BBS_ANK",
           0.6423880308555487,
           "",
           12,
           49,
           6.368324391514267
          ],
          [
           "BBS_AHH",
           0.6691364247140166,
           "",
           13,
           52,
           11.139778927618492
          ],
          [
           "BBS_AOE",
           0.20491223089859112,
           "",
           8,
           48,
           10.099504938362077
          ],
          [
           "BBS_AKV",
           0.60159141346472,
           "",
           9,
           50,
           6.014386045655271
          ],
          [
           "BBS_AHD",
           0.3546712506587384,
           "",
           10,
           46,
           6.844705983459042
          ],
          [
           "BBS_ALW",
           0.6226085695332337,
           "",
           11,
           49,
           10.173698060754749
          ],
          [
           "BBS_AOI",
           0.5387130018147482,
           "",
           8,
           52,
           11.682652738141282
          ],
          [
           "BBS_AKZ",
           0.5376765787135449,
           "",
           10,
           48,
           6.942621983083913
          ],
          [
           "BBS_AMY",
           0.6682324169347296,
           "",
           11,
           50,
           9.506848336291906
          ],
          [
           "BBS_AIJ",
           0.4063561307051367,
           "",
           10,
           48,
           11.694443124834974
          ],
          [
           "BBS_AJT",
           0.47609922424839823,
           "",
           9,
           47,
           10.278828775091759
          ],
          [
           "BBS_ANG",
           0.3600866352741231,
           "",
           10,
           46,
           6.844705983459042
          ],
          [
           "BBS_AOQ",
           0.3978372730369394,
           "",
           9,
           47,
           15.627610892974724
          ],
          [
           "BBS_AKB",
           0.31306366659573603,
           "",
           6,
           46,
           9.598900399987953
          ],
          [
           "BBS_ALO",
           0.4297381004881694,
           "",
           10,
           49,
           9.798469268207153
          ],
          [
           "BBS_AJL",
           0.38985281316966325,
           "",
           9,
           50,
           9.806775183829435
          ],
          [
           "BBS_AMA",
           0.2553177170016278,
           "",
           10,
           45,
           6.487680633323438
          ],
          [
           "BBS_AIR",
           0.3468977901635394,
           "",
           10,
           44,
           5.15363949069005
          ],
          [
           "BBS_ANS",
           0.5173290609135437,
           "",
           11,
           47,
           14.421058981529766
          ],
          [
           "BBS_AMM",
           0.3657402298226767,
           "",
           9,
           47,
           13.712209572422116
          ],
          [
           "BBS_AKN",
           0.6303356707079112,
           "",
           12,
           47,
           7.6684780468848945
          ],
          [
           "BBS_AHP",
           0.381703016139857,
           "",
           10,
           49,
           5.621387729022079
          ],
          [
           "BBS_ALC",
           0.24209652740973525,
           "",
           8,
           46,
           9.17877987534291
          ],
          [
           "BBS_AAD",
           0.7720753143570367,
           "",
           11,
           51,
           7.942978603201012
          ],
          [
           "BBS_AEW",
           0.3753337896539513,
           "",
           8,
           47,
           8.176758220713145
          ],
          [
           "BBS_ARK",
           0.4082567885020934,
           "",
           9,
           49,
           11.185307823708346
          ],
          [
           "BBS_AFI",
           0.3660856215342989,
           "",
           12,
           41,
           7.1545440106270926
          ],
          [
           "BBS_ABZ",
           0.3213387850878184,
           "",
           8,
           47,
           15.122417134836613
          ],
          [
           "BBS_AQU",
           0.35979221102977826,
           "",
           11,
           45,
           6.95796113387362
          ],
          [
           "BBS_ASE",
           0.6185820990510222,
           "",
           11,
           50,
           8.701666981932991
          ],
          [
           "BBS_ADY",
           0.6009994119694005,
           "",
           12,
           48,
           9.767790037783481
          ],
          [
           "BBS_ACT",
           0.37834262767030585,
           "",
           11,
           47,
           6.307545003164238
          ],
          [
           "BBS_AGG",
           0.5093347718570553,
           "",
           14,
           48,
           7.093040567330482
          ],
          [
           "BBS_ADU",
           0.5983974845124449,
           "",
           13,
           49,
           10.372927896023121
          ],
          [
           "BBS_ASI",
           0.7718541326517865,
           "",
           11,
           51,
           8.004131164747323
          ],
          [
           "BBS_ACX",
           0.5143493036165377,
           "",
           11,
           47,
           9.921176949642401
          ],
          [
           "BBS_AGK",
           0.6049950688250705,
           "",
           9,
           51,
           9.596810169639637
          ],
          [
           "BBS_ATD",
           0.7025828904257642,
           "",
           10,
           52,
           8.292164976651152
          ],
          [
           "BBS_APW",
           0.5255603678060463,
           "",
           7,
           52,
           9.812528434899656
          ],
          [
           "BBS_ARG",
           0.49291823521588884,
           "",
           11,
           48,
           8.004131164747323
          ],
          [
           "BBS_AAH",
           0.32109142259746226,
           "",
           9,
           46,
           6.99205898780101
          ],
          [
           "BBS_AQY",
           0.3098312337066373,
           "",
           10,
           46,
           10.863240768757727
          ],
          [
           "BBS_AFE",
           0.3193281148108439,
           "",
           13,
           46,
           12.042331646292173
          ],
          [
           "BBS_ABV",
           0.3831060183311031,
           "",
           11,
           47,
           8.739574662948776
          ],
          [
           "BBS_APO",
           0.5078666490465646,
           "",
           9,
           49,
           11.26230465636761
          ],
          [
           "BBS_AGS",
           0.4774272769011202,
           "",
           12,
           47,
           7.729363205048366
          ],
          [
           "BBS_ASQ",
           0.795244607988921,
           "",
           12,
           55,
           10.053675392058812
          ],
          [
           "BBS_ADM",
           0.5283883031385294,
           "",
           11,
           47,
           10.86354127002884
          ],
          [
           "BBS_ABN",
           0.5759826724314556,
           "",
           9,
           52,
           9.580071908799942
          ],
          [
           "BBS_AQA",
           0.6111397208380966,
           "",
           10,
           50,
           6.818357573492315
          ],
          [
           "BBS_AAP",
           0.49294314371941755,
           "",
           12,
           46,
           8.437268515343103
          ],
          [
           "BBS_AEC",
           0.683500071698444,
           "",
           11,
           49,
           4.844695488899719
          ],
          [
           "BBS_AQM",
           0.39502991671549487,
           "",
           8,
           50,
           9.98436277385793
          ],
          [
           "BBS_AFQ",
           0.6926961391051509,
           "",
           13,
           50,
           3.7035086514494533
          ],
          [
           "BBS_ABB",
           0.7903434035202929,
           "",
           11,
           52,
           6.006883104247923
          ],
          [
           "BBS_ARS",
           0.46062083548365335,
           "",
           11,
           49,
           9.009636714041708
          ],
          [
           "BBS_AEO",
           0.44706805432732516,
           "",
           7,
           49,
           10.020387381000104
          ],
          [
           "BBS_ACL",
           0.40535093560191643,
           "",
           11,
           46,
           7.292019865511083
          ],
          [
           "BBS_APC",
           0.29396362218278793,
           "",
           10,
           46,
           7.161703707917551
          ],
          [
           "BBS_ADA",
           0.556196560273036,
           "",
           10,
           50,
           8.956003573022958
          ],
          [
           "BBS_AAJ",
           0.33641452528189586,
           "",
           10,
           46,
           4.386342439892261
          ],
          [
           "BBS_AEY",
           0.4773760497850833,
           "",
           12,
           47,
           6.574360974438673
          ],
          [
           "BBS_ARE",
           0.3809070793919716,
           "",
           10,
           48,
           9.449338601193208
          ],
          [
           "BBS_AFG",
           0.6394734354614197,
           "",
           9,
           50,
           6.36735501417529
          ],
          [
           "BBS_ABT",
           0.398893389393741,
           "",
           9,
           48,
           7.480014524314149
          ],
          [
           "BBS_ASK",
           0.4651651407152444,
           "",
           14,
           45,
           6.340668863192042
          ],
          [
           "BBS_ADW",
           0.6074352845838047,
           "",
           9,
           51,
           10.314798191355711
          ],
          [
           "BBS_ATF",
           0.4790101421149764,
           "",
           10,
           52,
           6.193545026880809
          ],
          [
           "BBS_APU",
           0.5865917382629009,
           "",
           10,
           50,
           7.621679604916491
          ],
          [
           "BBS_ACZ",
           0.4598837410598881,
           "",
           9,
           48,
           10.122703976827
          ],
          [
           "BBS_AGI",
           0.28335387404721013,
           "",
           8,
           49,
           10.328964130056798
          ],
          [
           "BBS_ASG",
           0.46153115106983006,
           "",
           11,
           48,
           10.869625583734637
          ],
          [
           "BBS_ACV",
           0.3654844503686447,
           "",
           10,
           47,
           8.674675786448736
          ],
          [
           "BBS_AGE",
           0.4750170549481041,
           "",
           10,
           48,
           5.455272678794342
          ],
          [
           "BBS_APY",
           0.2863138923926945,
           "",
           10,
           45,
           5.554277630799526
          ],
          [
           "BBS_ARI",
           0.4310066547954353,
           "",
           11,
           46,
           8.908163217006434
          ],
          [
           "BBS_AAF",
           0.35457070680324054,
           "",
           10,
           47,
           12.234786471369251
          ],
          [
           "BBS_AEU",
           0.4098684991368885,
           "",
           10,
           49,
           9.057593499379403
          ],
          [
           "BBS_AQW",
           0.3671074993667778,
           "",
           10,
           45,
           6.171709649683789
          ],
          [
           "BBS_AFK",
           0.47430164770396016,
           "",
           11,
           47,
           9.506848336291906
          ],
          [
           "BBS_ABX",
           0.33093719719323533,
           "",
           9,
           48,
           8.727705282957992
          ],
          [
           "BBS_APA",
           0.5361833124116562,
           "",
           11,
           49,
           8.985755485928413
          ],
          [
           "BBS_ACN",
           0.550314745790453,
           "",
           11,
           49,
           8.697867127174538
          ],
          [
           "BBS_ADC",
           0.41312754463092466,
           "",
           7,
           49,
           9.482529585872053
          ],
          [
           "BBS_AFS",
           0.47140555963138847,
           "",
           11,
           48,
           14.384909448262464
          ],
          [
           "BBS_AQO",
           0.5552792053384117,
           "",
           9,
           50,
           7.0710678118654755
          ],
          [
           "BBS_AEM",
           0.41748212522225864,
           "",
           9,
           47,
           7.704415921493208
          ],
          [
           "BBS_ARQ",
           0.8723884048049193,
           "BBS_ARQ",
           13,
           52,
           6.440441750441378
          ],
          [
           "BBS_AQC",
           0.6328137988835913,
           "",
           11,
           49,
           8.541585197488251
          ],
          [
           "BBS_ABL",
           0.5588638072373243,
           "",
           11,
           47,
           6.8935231309559555
          ],
          [
           "BBS_AAR",
           0.5627949445007518,
           "",
           8,
           52,
           6.963072238602727
          ],
          [
           "BBS_AEA",
           0.2935312358063368,
           "",
           9,
           45,
           11.175369742826806
          ],
          [
           "BBS_ACB",
           0.672908717963239,
           "",
           10,
           51,
           6.034069936618236
          ],
          [
           "BBS_AGQ",
           0.596813310517517,
           "",
           10,
           51,
           7.876547467006087
          ],
          [
           "BBS_APM",
           0.44350737478375346,
           "",
           12,
           46,
           8.844332774281067
          ],
          [
           "BBS_ADO",
           0.5505391699416861,
           "",
           11,
           49,
           6.623274763667994
          ],
          [
           "BBS_ASS",
           0.5120326036510877,
           "",
           10,
           50,
           7.323933369440223
          ],
          [
           "BBS_AIH",
           0.795873578266816,
           "",
           13,
           52,
           8.337553172208755
          ],
          [
           "BBS_AJV",
           0.6376729612212793,
           "",
           13,
           47,
           7.872504770461987
          ],
          [
           "BBS_ANE",
           0.5428690482235543,
           "",
           9,
           50,
           10.038198648102428
          ],
          [
           "BBS_AHF",
           0.3432089721275225,
           "",
           8,
           49,
           7.75806032459145
          ],
          [
           "BBS_ALU",
           0.6111058499173627,
           "",
           12,
           47,
           3.06752705321766
          ],
          [
           "BBS_AOK",
           0.4043284396530321,
           "",
           12,
           45,
           4.870546398734152
          ],
          [
           "BBS_AKX",
           0.5307570721458335,
           "",
           12,
           47,
           4.8498281756504875
          ],
          [
           "BBS_AHJ",
           0.4533238744495979,
           "",
           11,
           47,
           8.127089686773457
          ],
          [
           "BBS_ALY",
           0.5578596335030857,
           "",
           9,
           54,
           7.955121030963888
          ],
          [
           "BBS_AOG",
           0.5739593025512048,
           "",
           12,
           49,
           6.775671348451179
          ],
          [
           "BBS_AKT",
           0.5189552989270957,
           "",
           11,
           49,
           2.987577586391815
          ],
          [
           "BBS_AMW",
           0.5165446536229844,
           "",
           9,
           49,
           10.187137859957417
          ],
          [
           "BBS_AID",
           0.4992185865109846,
           "",
           11,
           49,
           9.398434896960062
          ],
          [
           "BBS_AJZ",
           0.5755765285481986,
           "",
           11,
           48,
           10.144411806955143
          ],
          [
           "BBS_ANI",
           0.28071531808208017,
           "",
           10,
           45,
           8.777243302996675
          ],
          [
           "BBS_AKL",
           0.5820412609760395,
           "",
           12,
           47,
           6.335525936249404
          ],
          [
           "BBS_AHR",
           0.38670398710790005,
           "",
           11,
           46,
           7.0722364868279
          ],
          [
           "BBS_ALA",
           0.7408055461977902,
           "",
           12,
           51,
           8.400975472460855
          ],
          [
           "BBS_AJB",
           0.5861665899249058,
           "",
           9,
           52,
           6.253887679764573
          ],
          [
           "BBS_ANQ",
           0.5617725694737925,
           "",
           10,
           50,
           6.421837743200928
          ],
          [
           "BBS_AMO",
           0.4842340310750909,
           "",
           13,
           46,
           8.784063029920121
          ],
          [
           "BBS_AJN",
           0.26907705324824344,
           "",
           9,
           49,
           11.106665777422045
          ],
          [
           "BBS_AMC",
           0.4486750987570098,
           "",
           11,
           48,
           7.475580079208647
          ],
          [
           "BBS_AIP",
           0.3898534721910018,
           "",
           10,
           48,
           8.9
          ],
          [
           "BBS_AOS",
           0.5332401453551509,
           "",
           10,
           50,
           10.188719252192595
          ],
          [
           "BBS_ALM",
           0.3229083616634845,
           "",
           9,
           48,
           15.358272793835788
          ],
          [
           "BBS_ARY",
           0.4697394062734402,
           "",
           8,
           51,
           11.799761650135142
          ],
          [
           "BBS_AAV",
           0.33997419363092946,
           "",
           10,
           49,
           10.492378186092987
          ],
          [
           "BBS_AEE",
           0.46184038858013327,
           "",
           11,
           49,
           9.78698748169947
          ],
          [
           "BBS_AQG",
           0.5711014699637226,
           "",
           11,
           47,
           6.575687752736409
          ],
          [
           "BBS_ABH",
           0.4316771609770975,
           "",
           8,
           47,
           5.8081300777444715
          ],
          [
           "BBS_ADK",
           0.4494652930142236,
           "",
           13,
           46,
           6.318939316280878
          ],
          [
           "BBS_ASW",
           0.38402477020768366,
           "",
           12,
           46,
           5.453719423985392
          ],
          [
           "BBS_ACF",
           0.3700230302514883,
           "",
           8,
           48,
           10.879309490955757
          ],
          [
           "BBS_AGU",
           0.43515590161420853,
           "",
           12,
           48,
           6.290976783369088
          ],
          [
           "BBS_API",
           0.2906693423034322,
           "",
           10,
           47,
           8.706319543871567
          ],
          [
           "BBS_ADG",
           0.4906661564477197,
           "",
           9,
           49,
           4.830458915396479
          ],
          [
           "BBS_APE",
           0.5248063605200574,
           "",
           12,
           49,
           7.914473380389177
          ],
          [
           "BBS_ACJ",
           0.3329411210627831,
           "",
           7,
           46,
           11.482017884234354
          ],
          [
           "BBS_AGY",
           0.4430777488089753,
           "",
           9,
           49,
           8.689428798229846
          ],
          [
           "BBS_AAZ",
           0.7255964335083077,
           "",
           10,
           53,
           7.912016177940993
          ],
          [
           "BBS_AEI",
           0.5517905202753635,
           "",
           10,
           50,
           9.221713506718803
          ],
          [
           "BBS_ARU",
           0.4649470983504607,
           "",
           11,
           48,
           10.534477044997072
          ],
          [
           "BBS_AFW",
           0.34517407020808083,
           "",
           9,
           46,
           13.894665465388568
          ],
          [
           "BBS_ABD",
           0.5655596966707356,
           "",
           11,
           49,
           10.269911118416035
          ],
          [
           "BBS_AQK",
           0.550559655690995,
           "",
           10,
           51,
           10.270832488167647
          ],
          [
           "BBS_ACR",
           0.23462114794205988,
           "",
           10,
           43,
           7.1867934435323795
          ],
          [
           "BBS_AGA",
           0.5066427479099731,
           "",
           10,
           50,
           4.583666654546336
          ],
          [
           "BBS_ASC",
           0.2795856414994041,
           "",
           8,
           49,
           8.215838362577491
          ],
          [
           "BBS_AQS",
           0.39937031327401823,
           "",
           9,
           48,
           10.771475820797477
          ],
          [
           "BBS_AFO",
           0.6326255134534606,
           "",
           11,
           50,
           6.875516509523286
          ],
          [
           "BBS_ARM",
           0.5868865186176568,
           "",
           11,
           49,
           5.71788552491505
          ],
          [
           "BBS_AAB",
           0.6307529131079411,
           "",
           11,
           50,
           15.868780098614444
          ],
          [
           "BBS_AEQ",
           0.48407287545989136,
           "",
           11,
           48,
           6.624522437176974
          ],
          [
           "BBS_AFC",
           0.4012801293522135,
           "",
           10,
           47,
           8.4
          ],
          [
           "BBS_ABP",
           0.26596075159658,
           "",
           7,
           48,
           13.791449584168195
          ],
          [
           "BBS_AAN",
           0.30269413447645116,
           "",
           10,
           45,
           8.090117428072352
          ],
          [
           "BBS_ARA",
           0.2898023786805681,
           "",
           9,
           47,
           10.329150885948533
          ],
          [
           "BBS_ATB",
           0.3158121116099874,
           "",
           10,
           48,
           12.751862609046569
          ],
          [
           "BBS_APQ",
           0.45728230032305484,
           "",
           9,
           49,
           4.540625942600567
          ],
          [
           "BBS_AGM",
           0.6269961554255447,
           "",
           11,
           48,
           7.493247649089046
          ],
          [
           "BBS_ASO",
           0.5859668159301226,
           "",
           11,
           48,
           11.87399408527687
          ],
          [
           "BBS_ADS",
           0.3693015856954179,
           "",
           11,
           48,
           8.495988358149873
          ],
          [
           "BBS_AMG",
           0.45577681694089067,
           "",
           10,
           49,
           5.714017850864661
          ],
          [
           "BBS_AIT",
           0.5846799777543444,
           "",
           9,
           56,
           11.929836027972932
          ],
          [
           "BBS_AJJ",
           0.525980083424366,
           "",
           10,
           49,
           7.258787777583803
          ],
          [
           "BBS_ANY",
           0.4577240282724881,
           "",
           11,
           46,
           9.086362499431463
          ],
          [
           "BBS_AHZ",
           0.6992662209910866,
           "",
           11,
           49,
           9.528556471457366
          ],
          [
           "BBS_ALI",
           0.5366939972959961,
           "",
           9,
           50,
           9.140872800534726
          ],
          [
           "BBS_AOW",
           0.6611925343072372,
           "",
           12,
           50,
           8.532617157446802
          ],
          [
           "BBS_AKD",
           0.44923563894785484,
           "",
           10,
           48,
           9.637945839233586
          ],
          [
           "BBS_AHV",
           0.404540977525305,
           "",
           9,
           47,
           13.841251638258017
          ],
          [
           "BBS_ALE",
           0.3923492492904955,
           "",
           10,
           47,
           12.666491226855209
          ],
          [
           "BBS_AKH",
           0.45075834660054115,
           "",
           8,
           52,
           11.85261047195933
          ],
          [
           "BBS_AMK",
           0.27449545399316516,
           "",
           7,
           49,
           8.773801447305193
          ],
          [
           "BBS_AIX",
           0.6179217985504196,
           "",
           12,
           47,
           5.235429516498357
          ],
          [
           "BBS_AJF",
           0.6113070718226348,
           "",
           11,
           48,
           6.932973078159135
          ],
          [
           "BBS_ANU",
           0.48369166717397666,
           "",
           9,
           53,
           9.186678492708618
          ],
          [
           "BBS_AOC",
           0.5440262763791389,
           "",
           9,
           50,
           5.342584568965026
          ],
          [
           "BBS_AKP",
           0.26251331105518727,
           "",
           9,
           46,
           8.731947868617112
          ],
          [
           "BBS_AHN",
           0.230002990609027,
           "",
           10,
           46,
           8.73155198117723
          ],
          [
           "BBS_ANM",
           0.7057395243025347,
           "",
           10,
           50,
           6.102458520956943
          ],
          [
           "BBS_AMS",
           0.8220698802805205,
           "BBS_AMS",
           12,
           51,
           4.9805175991613115
          ],
          [
           "BBS_AJR",
           0.5693663222486898,
           "",
           12,
           47,
           5.955856128401879
          ],
          [
           "BBS_ANA",
           0.26898892877357233,
           "",
           9,
           46,
           14.299270463994628
          ],
          [
           "BBS_AIL",
           0.4415157055896598,
           "",
           11,
           47,
           6.9781240226892685
          ],
          [
           "BBS_AOO",
           0.5217330365431357,
           "",
           12,
           48,
           5.634713834792322
          ],
          [
           "BBS_AHB",
           0.5680396833202426,
           "",
           10,
           49,
           9.123595782365635
          ],
          [
           "BBS_ALQ",
           0.2947351564744931,
           "",
           9,
           49,
           11.362707032706208
          ],
          [
           "BBS_AMI",
           0.5653293790602347,
           "",
           11,
           48,
           10.016515287883141
          ],
          [
           "BBS_AIZ",
           0.3837608540539936,
           "",
           8,
           49,
           12.419742348374221
          ],
          [
           "BBS_AJD",
           0.39593505864594286,
           "",
           11,
           46,
           7.632033404296492
          ],
          [
           "BBS_ANW",
           0.3343945451006024,
           "",
           9,
           47,
           11.709445380166862
          ],
          [
           "BBS_AHT",
           0.2839093005496172,
           "",
           11,
           44,
           10.572848432042434
          ],
          [
           "BBS_ALG",
           0.6040560397874113,
           "",
           9,
           52,
           10.5033798205302
          ],
          [
           "BBS_AOY",
           0.5571938886210168,
           "",
           10,
           50,
           6.764613810115105
          ],
          [
           "BBS_AKJ",
           0.4500595129178252,
           "",
           10,
           46,
           7.296574538781879
          ],
          [
           "BBS_AHX",
           0.4458588428346881,
           "",
           9,
           49,
           6.226189211609734
          ],
          [
           "BBS_ALK",
           0.6149218487326082,
           "",
           11,
           51,
           6.69278629792944
          ],
          [
           "BBS_AOU",
           0.5342242494683491,
           "",
           12,
           47,
           6.917670609870541
          ],
          [
           "BBS_AKF",
           0.3735735020491627,
           "",
           8,
           50,
           12.98075498574717
          ],
          [
           "BBS_AME",
           0.5178236830583322,
           "",
           12,
           46,
           6.49519052838329
          ],
          [
           "BBS_AIV",
           0.37267897471458217,
           "",
           9,
           48,
           5.055250296034367
          ],
          [
           "BBS_AJH",
           0.603656641718737,
           "",
           9,
           53,
           11.990737165736633
          ],
          [
           "BBS_AOM",
           0.644895339457495,
           "",
           11,
           50,
           8.446232472245043
          ],
          [
           "BBS_ALS",
           0.3890750715987325,
           "",
           10,
           49,
           9.256889326334198
          ],
          [
           "BBS_AJP",
           0.5148208336949799,
           "",
           9,
           50,
           15.58489297008128
          ],
          [
           "BBS_ANC",
           0.4225372562239993,
           "",
           8,
           49,
           14.0089257261219
          ],
          [
           "BBS_AIN",
           0.47807353657695745,
           "",
           11,
           50,
           5.768251665169202
          ],
          [
           "BBS_ANO",
           0.5235713344453325,
           "",
           10,
           50,
           13.039938650162432
          ],
          [
           "BBS_AMQ",
           0.351368249933161,
           "",
           8,
           50,
           8.528445051707843
          ],
          [
           "BBS_AIB",
           0.5206575540110664,
           "",
           12,
           48,
           9.003085890713004
          ],
          [
           "BBS_AOA",
           0.3547865454667317,
           "",
           10,
           44,
           9.297311439335566
          ],
          [
           "BBS_AKR",
           0.3569429172028155,
           "",
           9,
           49,
           8.10273540155757
          ],
          [
           "BBS_AHL",
           0.6044264065662739,
           "",
           10,
           49,
           6.545991139621257
          ],
          [
           "BBS_ARW",
           0.5775182580783677,
           "",
           12,
           48,
           8.605553762283723
          ],
          [
           "BBS_AAX",
           0.5302153113883951,
           "",
           9,
           49,
           12.939555586086875
          ],
          [
           "BBS_AEK",
           0.3600268014105309,
           "",
           8,
           46,
           13.637608844661882
          ],
          [
           "BBS_AQI",
           0.49478205270877784,
           "",
           11,
           49,
           8.624393618641035
          ],
          [
           "BBS_AFU",
           0.3395288572001798,
           "",
           11,
           47,
           9.500761170028293
          ],
          [
           "BBS_ABF",
           0.3927913111029887,
           "",
           11,
           49,
           11.440106339446816
          ],
          [
           "BBS_ADE",
           0.5189533005883047,
           "",
           13,
           47,
           7.2283138220513905
          ],
          [
           "BBS_ASY",
           0.425958074429156,
           "",
           10,
           50,
           14.198943622678414
          ],
          [
           "BBS_ACH",
           0.31232609845040843,
           "",
           9,
           44,
           8.027729719194863
          ],
          [
           "BBS_APG",
           0.7436166834977642,
           "",
           13,
           50,
           6.030494499236812
          ],
          [
           "BBS_ASU",
           0.7941291062444863,
           "",
           11,
           55,
           9.334907383995226
          ],
          [
           "BBS_ADI",
           0.20903501785832618,
           "",
           8,
           46,
           14.506464076404008
          ],
          [
           "BBS_APK",
           0.4102600734156011,
           "",
           12,
           45,
           6.006940430313366
          ],
          [
           "BBS_ACD",
           0.6659286261222225,
           "",
           10,
           51,
           8.89325587172662
          ],
          [
           "BBS_AGW",
           0.5382882624106807,
           "",
           9,
           51,
           8.234225472732847
          ],
          [
           "BBS_AAT",
           0.6141118045440384,
           "",
           9,
           51,
           8.202679477907445
          ],
          [
           "BBS_AEG",
           0.7006690033104075,
           "",
           14,
           49,
           8.949974347244048
          ],
          [
           "BBS_AFY",
           0.5892668753928607,
           "",
           11,
           50,
           7.271590820298625
          ],
          [
           "BBS_ABJ",
           0.8165054281289429,
           "",
           12,
           54,
           8.454124568648265
          ],
          [
           "BBS_AQE",
           0.3000010746571405,
           "",
           9,
           45,
           12.056451579604921
          ],
          [
           "BBS_AGO",
           0.7281531038844378,
           "",
           10,
           51,
           7.102112361825882
          ],
          [
           "BBS_APS",
           0.3940405053157763,
           "",
           9,
           48,
           12.27262335243029
          ],
          [
           "BBS_ADQ",
           0.44439464053561284,
           "",
           8,
           50,
           7.490619133289317
          ],
          [
           "BBS_ASM",
           0.3712863217468454,
           "",
           9,
           49,
           6.48074069840786
          ],
          [
           "BBS_AFA",
           0.34068173724517936,
           "",
           10,
           47,
           4.737087712930805
          ],
          [
           "BBS_ABR",
           0.3607863343621744,
           "",
           10,
           48,
           5.3563046963368315
          ],
          [
           "BBS_ARC",
           0.5330690309720567,
           "",
           9,
           49,
           11.80499998692749
          ],
          [
           "BBS_AAL",
           0.5617651293063628,
           "",
           7,
           52,
           5.314592925068078
          ],
          [
           "BBS_AFM",
           0.5364128229470781,
           "",
           12,
           48,
           4.946940693218609
          ],
          [
           "BBS_AQQ",
           0.6671198647158776,
           "",
           12,
           51,
           7.111707874265428
          ],
          [
           "BBS_AES",
           0.5898029551469237,
           "",
           11,
           48,
           10.443076713290457
          ],
          [
           "BBS_ARO",
           0.437767969000742,
           "",
           10,
           49,
           9.497894503520241
          ],
          [
           "BBS_ACP",
           0.43006874978663967,
           "",
           9,
           50,
           7.009693464705557
          ],
          [
           "BBS_AGC",
           0.6894817168751557,
           "",
           11,
           49,
           8.360671411213396
          ],
          [
           "BBS_ASA",
           0.6846465872708448,
           "",
           12,
           48,
           6.273289939630295
          ],
          [
           "BBS_AAQ",
           0.5450577323326925,
           "",
           9,
           49,
           3.890475866669244
          ],
          [
           "BBS_AEB",
           0.31707556784905544,
           "",
           11,
           44,
           5.943257864974965
          ],
          [
           "BBS_ABO",
           0.43496477762768093,
           "",
           11,
           47,
           4.729020655869074
          ],
          [
           "BBS_ASP",
           0.574008343722072,
           "",
           11,
           48,
           9.650932383338336
          ],
          [
           "BBS_ADL",
           0.6297480260155879,
           "",
           12,
           49,
           5.228129047119374
          ],
          [
           "BBS_APN",
           0.5534057728003939,
           "",
           14,
           49,
           8.43976254622929
          ],
          [
           "BBS_ACA",
           0.3032921430579787,
           "",
           9,
           47,
           3.8618104882183926
          ],
          [
           "BBS_AGR",
           0.6970768334572954,
           "",
           12,
           49,
           7.681145747868608
          ],
          [
           "BBS_ACM",
           0.3591125026788983,
           "",
           10,
           49,
           9.617172141539319
          ],
          [
           "BBS_APB",
           0.38367545373242695,
           "",
           10,
           47,
           10.58347768930421
          ],
          [
           "BBS_ARR",
           0.4375808523240382,
           "",
           9,
           49,
           7.243558228002943
          ],
          [
           "BBS_AEN",
           0.5878809079065817,
           "",
           9,
           51,
           6.696230743697495
          ],
          [
           "BBS_AQL",
           0.5158366183640322,
           "",
           11,
           47,
           6.58196885814471
          ],
          [
           "BBS_AFP",
           0.6593132808264186,
           "",
           10,
           53,
           8.307225770376053
          ],
          [
           "BBS_ABC",
           0.6482515974988068,
           "",
           11,
           49,
           9.649219554789338
          ],
          [
           "BBS_APZ",
           0.4249421575899459,
           "",
           12,
           47,
           7.338539818428913
          ],
          [
           "BBS_ACU",
           0.4617070354871966,
           "",
           12,
           46,
           4.290655220618667
          ],
          [
           "BBS_AGF",
           0.6827641264145273,
           "",
           11,
           51,
           13.793039327294673
          ],
          [
           "BBS_ASD",
           0.4164297257283805,
           "",
           12,
           45,
           6.605973727535471
          ],
          [
           "BBS_ADX",
           0.7439690567982425,
           "",
           12,
           52,
           7.803133273813084
          ],
          [
           "BBS_AFH",
           0.3203163737357576,
           "",
           11,
           44,
           7.96376089566392
          ],
          [
           "BBS_AQT",
           0.2696219196500851,
           "",
           9,
           48,
           12.373807462180391
          ],
          [
           "BBS_AAE",
           0.43062128113393944,
           "",
           10,
           49,
           7.533923280734945
          ],
          [
           "BBS_AEV",
           0.11667557351557856,
           "",
           6,
           45,
           15.336956093769787
          ],
          [
           "BBS_ARJ",
           0.44060647018101584,
           "",
           13,
           46,
           6.056929133855239
          ],
          [
           "BBS_AQX",
           0.30964980087221916,
           "",
           9,
           44,
           8.234225472732847
          ],
          [
           "BBS_AFD",
           0.37694638583697415,
           "",
           10,
           48,
           3.714835124201342
          ],
          [
           "BBS_ABW",
           0.529769217570199,
           "",
           10,
           50,
           7.743384273042375
          ],
          [
           "BBS_ARF",
           0.4321137640276892,
           "",
           12,
           46,
           6.491447364716816
          ],
          [
           "BBS_AAI",
           0.4782229039311062,
           "",
           9,
           51,
           10.67707825203131
          ],
          [
           "BBS_AEZ",
           0.3236167028764947,
           "",
           8,
           49,
           7.411983540186797
          ],
          [
           "BBS_ACY",
           0.23504187690807904,
           "",
           8,
           48,
           8.061288668693114
          ],
          [
           "BBS_AGJ",
           0.46948698318251675,
           "",
           10,
           50,
           8.54458893101359
          ],
          [
           "BBS_ATE",
           0.5534081916099943,
           "",
           10,
           50,
           6.554387843269576
          ],
          [
           "BBS_APV",
           0.4013217330520969,
           "",
           10,
           48,
           6.465291950097845
          ],
          [
           "BBS_ADT",
           0.5676529092542686,
           "",
           9,
           51,
           12.059523156635676
          ],
          [
           "BBS_ASH",
           0.5053532874185602,
           "",
           11,
           49,
           6.522687678055308
          ],
          [
           "BBS_AIS",
           0.4422918690698905,
           "",
           10,
           48,
           6.590902821313633
          ],
          [
           "BBS_AJM",
           0.7992765128027037,
           "",
           11,
           51,
           6.286546043498353
          ],
          [
           "BBS_ALN",
           0.2933337642016435,
           "",
           6,
           47,
           8.827041784576908
          ],
          [
           "BBS_AOP",
           0.3503292045538548,
           "",
           11,
           45,
           8.014449760194251
          ],
          [
           "BBS_AKC",
           0.4483916301784782,
           "",
           7,
           51,
           9.084636054619798
          ],
          [
           "BBS_AHQ",
           0.5292935997247347,
           "",
           11,
           50,
           7.115342519763452
          ],
          [
           "BBS_ALB",
           0.283166185865547,
           "",
           8,
           49,
           8.410373059502177
          ],
          [
           "BBS_AKO",
           0.1680943871662011,
           "",
           9,
           43,
           9.986410519387253
          ],
          [
           "BBS_AML",
           0.6386348093673431,
           "",
           10,
           52,
           12.234786471369247
          ],
          [
           "BBS_AJA",
           0.5160531432758036,
           "",
           12,
           49,
           8.558215675919575
          ],
          [
           "BBS_ANR",
           0.3282716971667071,
           "",
           8,
           48,
           13.105342422081156
          ],
          [
           "BBS_AOD",
           0.4466428390935314,
           "",
           12,
           48,
           5.439056290693573
          ],
          [
           "BBS_AKW",
           0.4524119267978022,
           "",
           10,
           49,
           9.47417542586161
          ],
          [
           "BBS_AHI",
           0.2563127299586237,
           "",
           8,
           48,
           12.080459428349569
          ],
          [
           "BBS_ALZ",
           0.5324954406273199,
           "",
           12,
           50,
           10.128000241355096
          ],
          [
           "BBS_AJY",
           0.25869144737899663,
           "",
           10,
           47,
           9.417536832951598
          ],
          [
           "BBS_ANJ",
           0.5421307692307689,
           "",
           10,
           49,
           2.7367864366808017
          ],
          [
           "BBS_AMT",
           0.5383196255900741,
           "",
           10,
           49,
           9.189124006128115
          ],
          [
           "BBS_AIG",
           0.36953392701049,
           "",
           12,
           43,
           6.237765803733114
          ],
          [
           "BBS_AJU",
           0.6798783174180408,
           "",
           12,
           50,
           11.840080236214618
          ],
          [
           "BBS_ANF",
           0.239306812685121,
           "",
           8,
           48,
           11.639775556255369
          ],
          [
           "BBS_AMX",
           0.523214994350609,
           "",
           12,
           49,
           9.349316671405575
          ],
          [
           "BBS_AIK",
           0.28165605081536815,
           "",
           9,
           49,
           9.752492558885196
          ],
          [
           "BBS_AOH",
           0.7043107681594603,
           "",
           12,
           50,
           7.041050268879557
          ],
          [
           "BBS_AHE",
           0.5511221375566923,
           "",
           9,
           50,
           8.982836858403438
          ],
          [
           "BBS_ALV",
           0.4268631224260578,
           "",
           10,
           52,
           9.089004345911603
          ],
          [
           "BBS_AMN",
           0.4510412567783396,
           "",
           11,
           49,
           7.085079188508624
          ],
          [
           "BBS_AJC",
           0.5795438946604575,
           "",
           13,
           46,
           9.076923076923077
          ],
          [
           "BBS_ANP",
           0.5434059586707378,
           "",
           11,
           48,
           11.579406056793205
          ],
          [
           "BBS_AHS",
           0.5068701039710287,
           "",
           9,
           49,
           12.92523610596966
          ],
          [
           "BBS_AKM",
           0.6019730730508752,
           "",
           11,
           50,
           7.049998534669562
          ],
          [
           "BBS_ALL",
           0.43917255560460433,
           "",
           11,
           47,
           6.959148803274414
          ],
          [
           "BBS_AOR",
           0.4571675044074616,
           "",
           10,
           48,
           9.159148432032314
          ],
          [
           "BBS_AKA",
           0.43140031544752516,
           "",
           11,
           47,
           9.649219554789337
          ],
          [
           "BBS_AMB",
           0.5887150070163326,
           "",
           11,
           49,
           4.8207540303864915
          ],
          [
           "BBS_AIQ",
           0.6050906459895132,
           "",
           11,
           52,
           9.902833720833614
          ],
          [
           "BBS_AJO",
           0.4722651551858582,
           "",
           11,
           47,
           6.850227721376185
          ],
          [
           "BBS_AOJ",
           0.8066837733401272,
           "",
           13,
           52,
           5.059410354586261
          ],
          [
           "BBS_AKY",
           0.3610876720953102,
           "",
           9,
           43,
           7.241853660800143
          ],
          [
           "BBS_AHG",
           0.45467186140551086,
           "",
           9,
           50,
           13.241349377360805
          ],
          [
           "BBS_ALT",
           0.6445220428973284,
           "",
           10,
           52,
           8.960468737739115
          ],
          [
           "BBS_AJW",
           0.7706216417406427,
           "",
           9,
           53,
           6.184408911144776
          ],
          [
           "BBS_AND",
           0.7034026526385029,
           "",
           14,
           50,
           8.18691090730085
          ],
          [
           "BBS_AMZ",
           0.17936541338220982,
           "",
           8,
           48,
           12.175154003132773
          ],
          [
           "BBS_AII",
           0.663945421142567,
           "",
           12,
           47,
           7.127801593447699
          ],
          [
           "BBS_ANH",
           0.5905364285429603,
           "",
           9,
           52,
           11.503086005690863
          ],
          [
           "BBS_AMV",
           0.7009605208522607,
           "",
           12,
           50,
           6.12542515531235
          ],
          [
           "BBS_AIE",
           0.7260804837228029,
           "",
           11,
           50,
           7.346219582122518
          ],
          [
           "BBS_AOF",
           0.6720103139871042,
           "",
           11,
           51,
           8.886799570799953
          ],
          [
           "BBS_AKU",
           0.6863972357919288,
           "",
           11,
           50,
           8.85045640136127
          ],
          [
           "BBS_AHK",
           0.36781971376747424,
           "",
           10,
           46,
           6.394528911499267
          ],
          [
           "BBS_ALX",
           0.5414230734320228,
           "",
           10,
           50,
           11.232096865679178
          ],
          [
           "BBS_AEL",
           0.2505604787206048,
           "",
           9,
           45,
           11.3016987688457
          ],
          [
           "BBS_ARP",
           0.8258168076207207,
           "BBS_ARP",
           11,
           54,
           7.0722364868279
          ],
          [
           "BBS_AFR",
           0.2248517158493817,
           "",
           10,
           44,
           9.990495483208027
          ],
          [
           "BBS_ABA",
           0.6799272171990507,
           "",
           11,
           50,
           18.09479172588913
          ],
          [
           "BBS_AQN",
           0.36699303213734047,
           "",
           9,
           48,
           4.483164667073781
          ],
          [
           "BBS_ADB",
           0.4049740697944498,
           "",
           10,
           50,
           7.552483035399683
          ],
          [
           "BBS_ACO",
           0.695002799598565,
           "",
           13,
           49,
           7.369375299690762
          ],
          [
           "BBS_ADN",
           0.4546702972294808,
           "",
           12,
           47,
           9.021579068482906
          ],
          [
           "BBS_ASR",
           0.5279903639447364,
           "",
           10,
           51,
           13.283448347473632
          ],
          [
           "BBS_ACC",
           0.5877711336048621,
           "",
           10,
           49,
           7.602631123499285
          ],
          [
           "BBS_AGP",
           0.33597393394408276,
           "",
           9,
           48,
           7.263981834969401
          ],
          [
           "BBS_APL",
           0.20663579461460363,
           "",
           10,
           44,
           13.289469515371936
          ],
          [
           "BBS_AAS",
           0.42734074308548703,
           "",
           8,
           49,
           9.911325592472481
          ],
          [
           "BBS_AQB",
           0.4187440477040936,
           "",
           11,
           47,
           8.193930428540908
          ],
          [
           "BBS_ABM",
           0.6383891482623717,
           "",
           9,
           50,
           8.680899993166493
          ],
          [
           "BBS_APT",
           0.49890722696194933,
           "",
           9,
           50,
           10.857096444716541
          ],
          [
           "BBS_AGH",
           0.5565267625426239,
           "",
           11,
           50,
           9.499021263197472
          ],
          [
           "BBS_ASJ",
           0.6883574667710941,
           "",
           11,
           50,
           8.312094145936335
          ],
          [
           "BBS_ADV",
           0.6023950831702769,
           "",
           10,
           49,
           5.249761899362675
          ],
          [
           "BBS_AFF",
           0.5556147069022299,
           "",
           9,
           52,
           4.666666666666667
          ],
          [
           "BBS_ABU",
           0.48410983987836853,
           "",
           9,
           51,
           10.556140334678775
          ],
          [
           "BBS_AQZ",
           0.6952776410510948,
           "",
           10,
           53,
           8.129575634681062
          ],
          [
           "BBS_AAK",
           0.5679376928206296,
           "",
           10,
           49,
           9.937806599043876
          ],
          [
           "BBS_AEX",
           0.2458002017214874,
           "",
           9,
           43,
           10.078702640398728
          ],
          [
           "BBS_ARD",
           0.44994764176733054,
           "",
           10,
           48,
           7.02068372738724
          ],
          [
           "BBS_AQV",
           0.37441730929218586,
           "",
           9,
           47,
           9.464684195131936
          ],
          [
           "BBS_AFJ",
           0.2709027254494707,
           "",
           10,
           48,
           9.08845421400141
          ],
          [
           "BBS_ABY",
           0.3491135147396758,
           "",
           9,
           47,
           6.607141665474892
          ],
          [
           "BBS_ARH",
           0.38779832712262563,
           "",
           11,
           47,
           12.777821695137527
          ],
          [
           "BBS_AAG",
           0.6023103870353502,
           "",
           10,
           52,
           3.961060464067672
          ],
          [
           "BBS_AET",
           0.7149088093598062,
           "",
           12,
           52,
           8.56186635936088
          ],
          [
           "BBS_ACW",
           0.6575551383434408,
           "",
           12,
           50,
           7.397447007057382
          ],
          [
           "BBS_AGD",
           0.3699694894727941,
           "",
           10,
           48,
           5.142956348249516
          ],
          [
           "BBS_APX",
           0.07111231615097496,
           "",
           8,
           42,
           11.406549653598146
          ],
          [
           "BBS_ADZ",
           0.49754664467004134,
           "",
           10,
           50,
           5.89915248150105
          ],
          [
           "BBS_ASF",
           0.28928104341263217,
           "",
           9,
           46,
           8.238722183074056
          ],
          [
           "BBS_AMR",
           0.31009300424130715,
           "",
           10,
           47,
           10.793053321465617
          ],
          [
           "BBS_AIA",
           0.3786619837027006,
           "",
           10,
           49,
           9.148223871331528
          ],
          [
           "BBS_ANL",
           0.6949664701455522,
           "",
           12,
           51,
           10.347772170321923
          ],
          [
           "BBS_AHO",
           0.6244493435677068,
           "",
           14,
           46,
           6.767645115412249
          ],
          [
           "BBS_AOB",
           0.4526325489433086,
           "",
           13,
           47,
           7.476986387829456
          ],
          [
           "BBS_AKQ",
           0.6695244266972205,
           "",
           10,
           51,
           6.514598989960933
          ],
          [
           "BBS_AHC",
           0.4105218435523431,
           "",
           11,
           47,
           4.281422487024225
          ],
          [
           "BBS_ALP",
           0.5801371272386117,
           "",
           9,
           51,
           7.212814385385546
          ],
          [
           "BBS_AON",
           0.5651362167745324,
           "",
           10,
           50,
           8.475848040166836
          ],
          [
           "BBS_AIM",
           0.7751792299147945,
           "",
           13,
           51,
           8.45944029930555
          ],
          [
           "BBS_AJS",
           0.5290574747089952,
           "",
           11,
           49,
           7.349593793239177
          ],
          [
           "BBS_AOV",
           0.6821390767653788,
           "",
           12,
           50,
           5.931905258852336
          ],
          [
           "BBS_AKE",
           0.2473397361416862,
           "",
           9,
           48,
           10.705946195951915
          ],
          [
           "BBS_ALH",
           0.7247122645846737,
           "",
           11,
           53,
           9.582180431310078
          ],
          [
           "BBS_AJK",
           0.2676745215597507,
           "",
           8,
           47,
           14.097318007337424
          ],
          [
           "BBS_ANX",
           0.787934034985736,
           "",
           13,
           50,
           5.851212386380497
          ],
          [
           "BBS_AMF",
           0.5152882705256426,
           "",
           10,
           50,
           8.874683092933516
          ],
          [
           "BBS_AIU",
           0.3054737686585684,
           "",
           9,
           45,
           18.22764147058656
          ],
          [
           "BBS_AJG",
           0.4972948997194168,
           "",
           10,
           46,
           7.147726911403373
          ],
          [
           "BBS_ANT",
           0.23544226963917086,
           "",
           10,
           40,
           8.93364427319557
          ],
          [
           "BBS_AMJ",
           0.4380597550485264,
           "",
           9,
           48,
           12.39274977208772
          ],
          [
           "BBS_AIY",
           0.6837695093396031,
           "",
           12,
           48,
           7.323857514239943
          ],
          [
           "BBS_AOZ",
           0.668018225163509,
           "",
           10,
           50,
           7.608547824650903
          ],
          [
           "BBS_AKI",
           0.5112493408693611,
           "",
           12,
           48,
           11.56473326780845
          ],
          [
           "BBS_AHW",
           0.649383986156447,
           "",
           12,
           49,
           7.369230323144714
          ],
          [
           "BBS_ALD",
           0.614439060706369,
           "",
           10,
           50,
           4.2708313008125245
          ],
          [
           "BBS_ARL",
           0.4627631347676867,
           "",
           11,
           47,
           8.233172169154617
          ],
          [
           "BBS_AAC",
           0.5424711022669718,
           "",
           11,
           46,
           4.769046199492364
          ],
          [
           "BBS_AEP",
           0.48825584485416695,
           "",
           9,
           48,
           5.020943790086669
          ],
          [
           "BBS_AQR",
           0.5868447673431236,
           "",
           10,
           52,
           7.7259303646874775
          ],
          [
           "BBS_AFN",
           0.4473228434861846,
           "",
           8,
           48,
           11.61827762622326
          ],
          [
           "BBS_ASB",
           0.2481757875578379,
           "",
           10,
           46,
           9.16733330909267
          ],
          [
           "BBS_ACS",
           0.447919593253992,
           "",
           10,
           50,
           9.715966241192895
          ],
          [
           "BBS_ASN",
           0.531185452089205,
           "",
           11,
           50,
           9.332251019497338
          ],
          [
           "BBS_ADR",
           0.28663039000178936,
           "",
           10,
           45,
           8.83685464404615
          ],
          [
           "BBS_ATC",
           0.590523533893475,
           "",
           10,
           51,
           4.898979485566356
          ],
          [
           "BBS_APP",
           0.5391014026280313,
           "",
           8,
           51,
           8.842369591913696
          ],
          [
           "BBS_AGL",
           0.2791664174626756,
           "",
           10,
           46,
           7.647875521999557
          ],
          [
           "BBS_AAO",
           0.28669600909557635,
           "",
           10,
           42,
           5.546169849544819
          ],
          [
           "BBS_AFB",
           0.418743088416109,
           "",
           12,
           46,
           6.5106749948748694
          ],
          [
           "BBS_ABQ",
           0.2504559029096491,
           "",
           10,
           46,
           7.858753081755401
          ],
          [
           "BBS_ACG",
           0.44178068041582014,
           "",
           10,
           48,
           13.183702059740277
          ],
          [
           "BBS_AGT",
           0.4454238914264509,
           "",
           11,
           47,
           10.103595628690767
          ],
          [
           "BBS_APH",
           0.44722918608908496,
           "",
           10,
           48,
           10.754068997360953
          ],
          [
           "BBS_ADJ",
           0.6532162358070807,
           "",
           12,
           49,
           10.719595245260997
          ],
          [
           "BBS_ASV",
           0.6428988884726813,
           "",
           11,
           50,
           8.349790911421842
          ],
          [
           "BBS_AQF",
           0.6078991505934875,
           "",
           8,
           51,
           9.509863300805117
          ],
          [
           "BBS_AFZ",
           0.3880052975934827,
           "",
           11,
           45,
           4.807019660509922
          ],
          [
           "BBS_ABI",
           0.5430664897057675,
           "",
           11,
           49,
           7.113019142552201
          ],
          [
           "BBS_ARX",
           0.6976126579981292,
           "",
           11,
           50,
           4.772510817602432
          ],
          [
           "BBS_AAW",
           0.5098548578298382,
           "",
           12,
           49,
           7.131210743391803
          ],
          [
           "BBS_AED",
           0.4313693299095238,
           "",
           12,
           44,
           4.424521317486095
          ],
          [
           "BBS_AFV",
           0.3533367227328017,
           "",
           9,
           48,
           6.751314458205916
          ],
          [
           "BBS_ABE",
           0.673153059686688,
           "",
           11,
           49,
           10.302852048368866
          ],
          [
           "BBS_AQJ",
           0.3627489213490068,
           "",
           9,
           46,
           8.781293248212995
          ],
          [
           "BBS_AEH",
           0.636437488281637,
           "",
           11,
           50,
           7.760889443786562
          ],
          [
           "BBS_ART",
           0.7905763863938338,
           "",
           11,
           52,
           7.337214099629481
          ],
          [
           "BBS_APD",
           0.5210542132146666,
           "",
           11,
           49,
           9.78360916351746
          ],
          [
           "BBS_ACK",
           0.5076646738802305,
           "",
           10,
           50,
           8.431488599292535
          ],
          [
           "BBS_AGX",
           0.29722336892066625,
           "",
           10,
           46,
           7.4269778510508555
          ],
          [
           "BBS_ASZ",
           0.4842044998597136,
           "",
           12,
           47,
           8.37779804005802
          ],
          [
           "BBS_ADF",
           0.435087949950941,
           "",
           10,
           49,
           11.897898974188678
          ],
          [
           "BBS_ARB",
           0.45971362934205023,
           "",
           8,
           50,
           6.352902879786531
          ],
          [
           "BBS_AAM",
           0.48612741000272,
           "",
           10,
           50,
           11.998333217576516
          ],
          [
           "BBS_ABS",
           0.5294578953256547,
           "",
           8,
           51,
           12.004556426624017
          ],
          [
           "BBS_ADP",
           0.4527867809206078,
           "",
           9,
           49,
           9.527089382322673
          ],
          [
           "BBS_ASL",
           0.7137861612889148,
           "",
           11,
           51,
           9.777694297999092
          ],
          [
           "BBS_AGN",
           0.40967014078584757,
           "",
           10,
           48,
           7.6609398901179215
          ],
          [
           "BBS_ATA",
           0.4435011270651561,
           "",
           12,
           47,
           4.079079416840139
          ],
          [
           "BBS_APR",
           0.3929881409925996,
           "",
           10,
           47,
           10.509519494249012
          ],
          [
           "BBS_ACQ",
           0.5744033624562649,
           "",
           10,
           50,
           5.885575587824865
          ],
          [
           "BBS_AGB",
           0.4968049501749775,
           "",
           11,
           46,
           7.089743493943724
          ],
          [
           "BBS_AAA",
           0.2968103401034163,
           "",
           9,
           46,
           13.337036522776584
          ],
          [
           "BBS_AER",
           0.5221411331430581,
           "",
           11,
           48,
           7.36082999272624
          ],
          [
           "BBS_ARN",
           0.3484358128241098,
           "",
           11,
           44,
           5.028842431250665
          ],
          [
           "BBS_AFL",
           0.3753045689493326,
           "",
           10,
           48,
           7.08590149522275
          ],
          [
           "BBS_AQP",
           0.38673275457224154,
           "",
           9,
           49,
           9.237604307034012
          ],
          [
           "BBS_ACI",
           0.3404580456299058,
           "",
           9,
           48,
           10.140981519204121
          ],
          [
           "BBS_AGZ",
           0.2555403719308065,
           "",
           8,
           48,
           13.74261165135652
          ],
          [
           "BBS_APF",
           0.4255091415399992,
           "",
           9,
           49,
           9.654526220545982
          ],
          [
           "BBS_ADD",
           0.4817654703485954,
           "",
           9,
           49,
           10.132456102380443
          ],
          [
           "BBS_ASX",
           0.577462843831132,
           "",
           11,
           51,
           7.785343296729688
          ],
          [
           "BBS_AQH",
           0.4880343501498953,
           "",
           10,
           48,
           10.828203913853857
          ],
          [
           "BBS_AFT",
           0.6460885947938633,
           "",
           12,
           50,
           9.004242827072629
          ],
          [
           "BBS_ABG",
           0.4602291881131033,
           "",
           10,
           49,
           8.52994724485445
          ],
          [
           "BBS_ARV",
           0.22333008821800843,
           "",
           7,
           47,
           14.004372495031394
          ],
          [
           "BBS_AAY",
           0.5053461538461536,
           "",
           8,
           51,
           18.874586088176873
          ],
          [
           "BBS_AEJ",
           0.4523940140545377,
           "",
           10,
           49,
           6.48074069840786
          ],
          [
           "BBS_AFX",
           0.34190121145416175,
           "",
           10,
           48,
           6.768308503607086
          ],
          [
           "BBS_ABK",
           0.877560239838022,
           "BBS_ABK",
           13,
           52,
           5.497713349294043
          ],
          [
           "BBS_AQD",
           0.6885098088032375,
           "",
           12,
           51,
           7.243771270700243
          ],
          [
           "BBS_AAU",
           0.33443753222018296,
           "",
           8,
           49,
           14.852924796147054
          ],
          [
           "BBS_AEF",
           0.8023403602768099,
           "",
           13,
           51,
           6.137478232405752
          ],
          [
           "BBS_ARZ",
           0.2434227191257003,
           "",
           9,
           48,
           10.327955589886445
          ],
          [
           "BBS_APJ",
           0.3584619446360335,
           "",
           9,
           48,
           7.465145347662588
          ],
          [
           "BBS_ACE",
           0.5170072106545466,
           "",
           11,
           47,
           5.367487061500186
          ],
          [
           "BBS_AGV",
           0.7111468385143995,
           "",
           11,
           50,
           6.773794912798967
          ],
          [
           "BBS_AST",
           0.5260990562415137,
           "",
           11,
           47,
           12.361630853385481
          ],
          [
           "BBS_ADH",
           0.5413149463873432,
           "",
           10,
           51,
           4.4147480109288235
          ],
          [
           "BBS_AIO",
           0.2642565816381578,
           "",
           10,
           42,
           10.285912696499032
          ],
          [
           "BBS_AJQ",
           0.48582411992407376,
           "",
           9,
           50,
           5.94418483337567
          ],
          [
           "BBS_ANB",
           0.1618248641029809,
           "",
           8,
           45,
           11.725373128391267
          ],
          [
           "BBS_AHA",
           0.43642492421200296,
           "",
           11,
           46,
           7.132743725793829
          ],
          [
           "BBS_ALR",
           0.46526330666398563,
           "",
           11,
           47,
           7.3169112392214135
          ],
          [
           "BBS_AOL",
           0.6335757140462129,
           "",
           11,
           48,
           6.536610186271836
          ],
          [
           "BBS_AHM",
           0.6953086933453037,
           "",
           12,
           50,
           7.181670341145497
          ],
          [
           "BBS_AKS",
           0.4121889697648297,
           "",
           12,
           44,
           4.517712056143267
          ],
          [
           "BBS_AMP",
           0.7062137159153937,
           "",
           11,
           51,
           12.788166017167772
          ],
          [
           "BBS_AIC",
           0.297843715361026,
           "",
           9,
           47,
           11.653431646335017
          ],
          [
           "BBS_ANN",
           0.5691601092474566,
           "",
           12,
           48,
           12.829003598617211
          ],
          [
           "BBS_AOX",
           0.684443995256667,
           "",
           14,
           47,
           5.508805567045383
          ],
          [
           "BBS_AKK",
           0.6547649661297089,
           "",
           13,
           50,
           7.6398209341139305
          ],
          [
           "BBS_AHU",
           0.39197250058525984,
           "",
           9,
           47,
           4.763544691161337
          ],
          [
           "BBS_ALF",
           0.5977836893228192,
           "",
           12,
           48,
           10.586941642104831
          ],
          [
           "BBS_AJE",
           0.524670998971678,
           "",
           11,
           46,
           7.316911239221413
          ],
          [
           "BBS_ANV",
           0.4301544498697806,
           "",
           13,
           45,
           11.594734573179553
          ],
          [
           "BBS_AMH",
           0.5651697287224069,
           "",
           13,
           48,
           6.639490962166181
          ],
          [
           "BBS_AJI",
           0.3615842546974589,
           "",
           9,
           48,
           7.2076776623230465
          ],
          [
           "BBS_ANZ",
           0.4157661987541434,
           "",
           7,
           49,
           11.74734012447073
          ],
          [
           "BBS_AMD",
           0.46650500153611846,
           "",
           12,
           49,
           7.952986860293433
          ],
          [
           "BBS_AIW",
           0.3116885468870855,
           "",
           9,
           47,
           9.007541422004996
          ],
          [
           "BBS_AOT",
           0.47768032756234774,
           "",
           11,
           48,
           11.348717479510716
          ],
          [
           "BBS_AKG",
           0.3843710981961603,
           "",
           13,
           46,
           8.150942879353602
          ],
          [
           "BBS_AHY",
           0.5383192161760124,
           "",
           8,
           51,
           7.548799573442125
          ],
          [
           "BBS_ALJ",
           0.442052296101202,
           "",
           9,
           49,
           5.8267158231675085
          ]
         ],
         "hovertemplate": "num_products=%{x}<br>num_features=%{y}<br>label=%{customdata[2]}<br>name=%{customdata[0]}<br>score=%{marker.color}<br>num_bases=%{customdata[3]}<br>catalytic_features=%{customdata[4]}<br>base_balance=%{customdata[5]}<extra></extra>",
         "legendgroup": "",
         "marker": {
          "color": [
           0.8338160218351284,
           0.6931483821376148,
           0.7271126042127913,
           0.6423880308555487,
           0.6691364247140166,
           0.20491223089859112,
           0.60159141346472,
           0.3546712506587384,
           0.6226085695332337,
           0.5387130018147482,
           0.5376765787135449,
           0.6682324169347296,
           0.4063561307051367,
           0.47609922424839823,
           0.3600866352741231,
           0.3978372730369394,
           0.31306366659573603,
           0.4297381004881694,
           0.38985281316966325,
           0.2553177170016278,
           0.3468977901635394,
           0.5173290609135437,
           0.3657402298226767,
           0.6303356707079112,
           0.381703016139857,
           0.24209652740973525,
           0.7720753143570367,
           0.3753337896539513,
           0.4082567885020934,
           0.3660856215342989,
           0.3213387850878184,
           0.35979221102977826,
           0.6185820990510222,
           0.6009994119694005,
           0.37834262767030585,
           0.5093347718570553,
           0.5983974845124449,
           0.7718541326517865,
           0.5143493036165377,
           0.6049950688250705,
           0.7025828904257642,
           0.5255603678060463,
           0.49291823521588884,
           0.32109142259746226,
           0.3098312337066373,
           0.3193281148108439,
           0.3831060183311031,
           0.5078666490465646,
           0.4774272769011202,
           0.795244607988921,
           0.5283883031385294,
           0.5759826724314556,
           0.6111397208380966,
           0.49294314371941755,
           0.683500071698444,
           0.39502991671549487,
           0.6926961391051509,
           0.7903434035202929,
           0.46062083548365335,
           0.44706805432732516,
           0.40535093560191643,
           0.29396362218278793,
           0.556196560273036,
           0.33641452528189586,
           0.4773760497850833,
           0.3809070793919716,
           0.6394734354614197,
           0.398893389393741,
           0.4651651407152444,
           0.6074352845838047,
           0.4790101421149764,
           0.5865917382629009,
           0.4598837410598881,
           0.28335387404721013,
           0.46153115106983006,
           0.3654844503686447,
           0.4750170549481041,
           0.2863138923926945,
           0.4310066547954353,
           0.35457070680324054,
           0.4098684991368885,
           0.3671074993667778,
           0.47430164770396016,
           0.33093719719323533,
           0.5361833124116562,
           0.550314745790453,
           0.41312754463092466,
           0.47140555963138847,
           0.5552792053384117,
           0.41748212522225864,
           0.8723884048049193,
           0.6328137988835913,
           0.5588638072373243,
           0.5627949445007518,
           0.2935312358063368,
           0.672908717963239,
           0.596813310517517,
           0.44350737478375346,
           0.5505391699416861,
           0.5120326036510877,
           0.795873578266816,
           0.6376729612212793,
           0.5428690482235543,
           0.3432089721275225,
           0.6111058499173627,
           0.4043284396530321,
           0.5307570721458335,
           0.4533238744495979,
           0.5578596335030857,
           0.5739593025512048,
           0.5189552989270957,
           0.5165446536229844,
           0.4992185865109846,
           0.5755765285481986,
           0.28071531808208017,
           0.5820412609760395,
           0.38670398710790005,
           0.7408055461977902,
           0.5861665899249058,
           0.5617725694737925,
           0.4842340310750909,
           0.26907705324824344,
           0.4486750987570098,
           0.3898534721910018,
           0.5332401453551509,
           0.3229083616634845,
           0.4697394062734402,
           0.33997419363092946,
           0.46184038858013327,
           0.5711014699637226,
           0.4316771609770975,
           0.4494652930142236,
           0.38402477020768366,
           0.3700230302514883,
           0.43515590161420853,
           0.2906693423034322,
           0.4906661564477197,
           0.5248063605200574,
           0.3329411210627831,
           0.4430777488089753,
           0.7255964335083077,
           0.5517905202753635,
           0.4649470983504607,
           0.34517407020808083,
           0.5655596966707356,
           0.550559655690995,
           0.23462114794205988,
           0.5066427479099731,
           0.2795856414994041,
           0.39937031327401823,
           0.6326255134534606,
           0.5868865186176568,
           0.6307529131079411,
           0.48407287545989136,
           0.4012801293522135,
           0.26596075159658,
           0.30269413447645116,
           0.2898023786805681,
           0.3158121116099874,
           0.45728230032305484,
           0.6269961554255447,
           0.5859668159301226,
           0.3693015856954179,
           0.45577681694089067,
           0.5846799777543444,
           0.525980083424366,
           0.4577240282724881,
           0.6992662209910866,
           0.5366939972959961,
           0.6611925343072372,
           0.44923563894785484,
           0.404540977525305,
           0.3923492492904955,
           0.45075834660054115,
           0.27449545399316516,
           0.6179217985504196,
           0.6113070718226348,
           0.48369166717397666,
           0.5440262763791389,
           0.26251331105518727,
           0.230002990609027,
           0.7057395243025347,
           0.8220698802805205,
           0.5693663222486898,
           0.26898892877357233,
           0.4415157055896598,
           0.5217330365431357,
           0.5680396833202426,
           0.2947351564744931,
           0.5653293790602347,
           0.3837608540539936,
           0.39593505864594286,
           0.3343945451006024,
           0.2839093005496172,
           0.6040560397874113,
           0.5571938886210168,
           0.4500595129178252,
           0.4458588428346881,
           0.6149218487326082,
           0.5342242494683491,
           0.3735735020491627,
           0.5178236830583322,
           0.37267897471458217,
           0.603656641718737,
           0.644895339457495,
           0.3890750715987325,
           0.5148208336949799,
           0.4225372562239993,
           0.47807353657695745,
           0.5235713344453325,
           0.351368249933161,
           0.5206575540110664,
           0.3547865454667317,
           0.3569429172028155,
           0.6044264065662739,
           0.5775182580783677,
           0.5302153113883951,
           0.3600268014105309,
           0.49478205270877784,
           0.3395288572001798,
           0.3927913111029887,
           0.5189533005883047,
           0.425958074429156,
           0.31232609845040843,
           0.7436166834977642,
           0.7941291062444863,
           0.20903501785832618,
           0.4102600734156011,
           0.6659286261222225,
           0.5382882624106807,
           0.6141118045440384,
           0.7006690033104075,
           0.5892668753928607,
           0.8165054281289429,
           0.3000010746571405,
           0.7281531038844378,
           0.3940405053157763,
           0.44439464053561284,
           0.3712863217468454,
           0.34068173724517936,
           0.3607863343621744,
           0.5330690309720567,
           0.5617651293063628,
           0.5364128229470781,
           0.6671198647158776,
           0.5898029551469237,
           0.437767969000742,
           0.43006874978663967,
           0.6894817168751557,
           0.6846465872708448,
           0.5450577323326925,
           0.31707556784905544,
           0.43496477762768093,
           0.574008343722072,
           0.6297480260155879,
           0.5534057728003939,
           0.3032921430579787,
           0.6970768334572954,
           0.3591125026788983,
           0.38367545373242695,
           0.4375808523240382,
           0.5878809079065817,
           0.5158366183640322,
           0.6593132808264186,
           0.6482515974988068,
           0.4249421575899459,
           0.4617070354871966,
           0.6827641264145273,
           0.4164297257283805,
           0.7439690567982425,
           0.3203163737357576,
           0.2696219196500851,
           0.43062128113393944,
           0.11667557351557856,
           0.44060647018101584,
           0.30964980087221916,
           0.37694638583697415,
           0.529769217570199,
           0.4321137640276892,
           0.4782229039311062,
           0.3236167028764947,
           0.23504187690807904,
           0.46948698318251675,
           0.5534081916099943,
           0.4013217330520969,
           0.5676529092542686,
           0.5053532874185602,
           0.4422918690698905,
           0.7992765128027037,
           0.2933337642016435,
           0.3503292045538548,
           0.4483916301784782,
           0.5292935997247347,
           0.283166185865547,
           0.1680943871662011,
           0.6386348093673431,
           0.5160531432758036,
           0.3282716971667071,
           0.4466428390935314,
           0.4524119267978022,
           0.2563127299586237,
           0.5324954406273199,
           0.25869144737899663,
           0.5421307692307689,
           0.5383196255900741,
           0.36953392701049,
           0.6798783174180408,
           0.239306812685121,
           0.523214994350609,
           0.28165605081536815,
           0.7043107681594603,
           0.5511221375566923,
           0.4268631224260578,
           0.4510412567783396,
           0.5795438946604575,
           0.5434059586707378,
           0.5068701039710287,
           0.6019730730508752,
           0.43917255560460433,
           0.4571675044074616,
           0.43140031544752516,
           0.5887150070163326,
           0.6050906459895132,
           0.4722651551858582,
           0.8066837733401272,
           0.3610876720953102,
           0.45467186140551086,
           0.6445220428973284,
           0.7706216417406427,
           0.7034026526385029,
           0.17936541338220982,
           0.663945421142567,
           0.5905364285429603,
           0.7009605208522607,
           0.7260804837228029,
           0.6720103139871042,
           0.6863972357919288,
           0.36781971376747424,
           0.5414230734320228,
           0.2505604787206048,
           0.8258168076207207,
           0.2248517158493817,
           0.6799272171990507,
           0.36699303213734047,
           0.4049740697944498,
           0.695002799598565,
           0.4546702972294808,
           0.5279903639447364,
           0.5877711336048621,
           0.33597393394408276,
           0.20663579461460363,
           0.42734074308548703,
           0.4187440477040936,
           0.6383891482623717,
           0.49890722696194933,
           0.5565267625426239,
           0.6883574667710941,
           0.6023950831702769,
           0.5556147069022299,
           0.48410983987836853,
           0.6952776410510948,
           0.5679376928206296,
           0.2458002017214874,
           0.44994764176733054,
           0.37441730929218586,
           0.2709027254494707,
           0.3491135147396758,
           0.38779832712262563,
           0.6023103870353502,
           0.7149088093598062,
           0.6575551383434408,
           0.3699694894727941,
           0.07111231615097496,
           0.49754664467004134,
           0.28928104341263217,
           0.31009300424130715,
           0.3786619837027006,
           0.6949664701455522,
           0.6244493435677068,
           0.4526325489433086,
           0.6695244266972205,
           0.4105218435523431,
           0.5801371272386117,
           0.5651362167745324,
           0.7751792299147945,
           0.5290574747089952,
           0.6821390767653788,
           0.2473397361416862,
           0.7247122645846737,
           0.2676745215597507,
           0.787934034985736,
           0.5152882705256426,
           0.3054737686585684,
           0.4972948997194168,
           0.23544226963917086,
           0.4380597550485264,
           0.6837695093396031,
           0.668018225163509,
           0.5112493408693611,
           0.649383986156447,
           0.614439060706369,
           0.4627631347676867,
           0.5424711022669718,
           0.48825584485416695,
           0.5868447673431236,
           0.4473228434861846,
           0.2481757875578379,
           0.447919593253992,
           0.531185452089205,
           0.28663039000178936,
           0.590523533893475,
           0.5391014026280313,
           0.2791664174626756,
           0.28669600909557635,
           0.418743088416109,
           0.2504559029096491,
           0.44178068041582014,
           0.4454238914264509,
           0.44722918608908496,
           0.6532162358070807,
           0.6428988884726813,
           0.6078991505934875,
           0.3880052975934827,
           0.5430664897057675,
           0.6976126579981292,
           0.5098548578298382,
           0.4313693299095238,
           0.3533367227328017,
           0.673153059686688,
           0.3627489213490068,
           0.636437488281637,
           0.7905763863938338,
           0.5210542132146666,
           0.5076646738802305,
           0.29722336892066625,
           0.4842044998597136,
           0.435087949950941,
           0.45971362934205023,
           0.48612741000272,
           0.5294578953256547,
           0.4527867809206078,
           0.7137861612889148,
           0.40967014078584757,
           0.4435011270651561,
           0.3929881409925996,
           0.5744033624562649,
           0.4968049501749775,
           0.2968103401034163,
           0.5221411331430581,
           0.3484358128241098,
           0.3753045689493326,
           0.38673275457224154,
           0.3404580456299058,
           0.2555403719308065,
           0.4255091415399992,
           0.4817654703485954,
           0.577462843831132,
           0.4880343501498953,
           0.6460885947938633,
           0.4602291881131033,
           0.22333008821800843,
           0.5053461538461536,
           0.4523940140545377,
           0.34190121145416175,
           0.877560239838022,
           0.6885098088032375,
           0.33443753222018296,
           0.8023403602768099,
           0.2434227191257003,
           0.3584619446360335,
           0.5170072106545466,
           0.7111468385143995,
           0.5260990562415137,
           0.5413149463873432,
           0.2642565816381578,
           0.48582411992407376,
           0.1618248641029809,
           0.43642492421200296,
           0.46526330666398563,
           0.6335757140462129,
           0.6953086933453037,
           0.4121889697648297,
           0.7062137159153937,
           0.297843715361026,
           0.5691601092474566,
           0.684443995256667,
           0.6547649661297089,
           0.39197250058525984,
           0.5977836893228192,
           0.524670998971678,
           0.4301544498697806,
           0.5651697287224069,
           0.3615842546974589,
           0.4157661987541434,
           0.46650500153611846,
           0.3116885468870855,
           0.47768032756234774,
           0.3843710981961603,
           0.5383192161760124,
           0.442052296101202
          ],
          "coloraxis": "coloraxis",
          "symbol": "circle"
         },
         "mode": "markers+text",
         "name": "",
         "orientation": "v",
         "showlegend": false,
         "text": [
          "BBS_AMU",
          "",
          "",
          "",
          "",
          "",
          "",
          "",
          "",
          "",
          "",
          "",
          "",
          "",
          "",
          "",
          "",
          "",
          "",
          "",
          "",
          "",
          "",
          "",
          "",
          "",
          "",
          "",
          "",
          "",
          "",
          "",
          "",
          "",
          "",
          "",
          "",
          "",
          "",
          "",
          "",
          "",
          "",
          "",
          "",
          "",
          "",
          "",
          "",
          "",
          "",
          "",
          "",
          "",
          "",
          "",
          "",
          "",
          "",
          "",
          "",
          "",
          "",
          "",
          "",
          "",
          "",
          "",
          "",
          "",
          "",
          "",
          "",
          "",
          "",
          "",
          "",
          "",
          "",
          "",
          "",
          "",
          "",
          "",
          "",
          "",
          "",
          "",
          "",
          "",
          "BBS_ARQ",
          "",
          "",
          "",
          "",
          "",
          "",
          "",
          "",
          "",
          "",
          "",
          "",
          "",
          "",
          "",
          "",
          "",
          "",
          "",
          "",
          "",
          "",
          "",
          "",
          "",
          "",
          "",
          "",
          "",
          "",
          "",
          "",
          "",
          "",
          "",
          "",
          "",
          "",
          "",
          "",
          "",
          "",
          "",
          "",
          "",
          "",
          "",
          "",
          "",
          "",
          "",
          "",
          "",
          "",
          "",
          "",
          "",
          "",
          "",
          "",
          "",
          "",
          "",
          "",
          "",
          "",
          "",
          "",
          "",
          "",
          "",
          "",
          "",
          "",
          "",
          "",
          "",
          "",
          "",
          "",
          "",
          "",
          "",
          "",
          "",
          "",
          "",
          "",
          "",
          "",
          "",
          "BBS_AMS",
          "",
          "",
          "",
          "",
          "",
          "",
          "",
          "",
          "",
          "",
          "",
          "",
          "",
          "",
          "",
          "",
          "",
          "",
          "",
          "",
          "",
          "",
          "",
          "",
          "",
          "",
          "",
          "",
          "",
          "",
          "",
          "",
          "",
          "",
          "",
          "",
          "",
          "",
          "",
          "",
          "",
          "",
          "",
          "",
          "",
          "",
          "",
          "",
          "",
          "",
          "",
          "",
          "",
          "",
          "",
          "",
          "",
          "",
          "",
          "",
          "",
          "",
          "",
          "",
          "",
          "",
          "",
          "",
          "",
          "",
          "",
          "",
          "",
          "",
          "",
          "",
          "",
          "",
          "",
          "",
          "",
          "",
          "",
          "",
          "",
          "",
          "",
          "",
          "",
          "",
          "",
          "",
          "",
          "",
          "",
          "",
          "",
          "",
          "",
          "",
          "",
          "",
          "",
          "",
          "",
          "",
          "",
          "",
          "",
          "",
          "",
          "",
          "",
          "",
          "",
          "",
          "",
          "",
          "",
          "",
          "",
          "",
          "",
          "",
          "",
          "",
          "",
          "",
          "",
          "",
          "",
          "",
          "",
          "",
          "",
          "",
          "",
          "",
          "",
          "",
          "",
          "",
          "",
          "",
          "",
          "",
          "",
          "",
          "",
          "",
          "",
          "",
          "",
          "",
          "",
          "",
          "",
          "BBS_ARP",
          "",
          "",
          "",
          "",
          "",
          "",
          "",
          "",
          "",
          "",
          "",
          "",
          "",
          "",
          "",
          "",
          "",
          "",
          "",
          "",
          "",
          "",
          "",
          "",
          "",
          "",
          "",
          "",
          "",
          "",
          "",
          "",
          "",
          "",
          "",
          "",
          "",
          "",
          "",
          "",
          "",
          "",
          "",
          "",
          "",
          "",
          "",
          "",
          "",
          "",
          "",
          "",
          "",
          "",
          "",
          "",
          "",
          "",
          "",
          "",
          "",
          "",
          "",
          "",
          "",
          "",
          "",
          "",
          "",
          "",
          "",
          "",
          "",
          "",
          "",
          "",
          "",
          "",
          "",
          "",
          "",
          "",
          "",
          "",
          "",
          "",
          "",
          "",
          "",
          "",
          "",
          "",
          "",
          "",
          "",
          "",
          "",
          "",
          "",
          "",
          "",
          "",
          "",
          "",
          "",
          "",
          "",
          "",
          "",
          "",
          "",
          "",
          "",
          "",
          "",
          "",
          "",
          "",
          "",
          "",
          "",
          "",
          "",
          "BBS_ABK",
          "",
          "",
          "",
          "",
          "",
          "",
          "",
          "",
          "",
          "",
          "",
          "",
          "",
          "",
          "",
          "",
          "",
          "",
          "",
          "",
          "",
          "",
          "",
          "",
          "",
          "",
          "",
          "",
          "",
          "",
          "",
          "",
          "",
          "",
          ""
         ],
         "type": "scatter",
         "x": [
          97,
          75,
          69,
          69,
          86,
          64,
          65,
          65,
          93,
          84,
          82,
          86,
          93,
          82,
          77,
          105,
          83,
          78,
          65,
          60,
          69,
          103,
          96,
          83,
          61,
          72,
          89,
          73,
          82,
          70,
          78,
          62,
          78,
          85,
          58,
          67,
          89,
          86,
          97,
          80,
          90,
          79,
          73,
          63,
          84,
          71,
          58,
          97,
          72,
          96,
          91,
          79,
          71,
          81,
          72,
          66,
          57,
          77,
          76,
          84,
          67,
          64,
          84,
          56,
          68,
          69,
          85,
          65,
          66,
          89,
          59,
          69,
          86,
          66,
          79,
          66,
          62,
          56,
          77,
          90,
          65,
          73,
          86,
          70,
          74,
          81,
          72,
          103,
          70,
          76,
          85,
          86,
          72,
          67,
          90,
          69,
          75,
          77,
          62,
          65,
          93,
          91,
          84,
          62,
          72,
          57,
          63,
          59,
          62,
          77,
          47,
          85,
          88,
          89,
          76,
          71,
          73,
          80,
          70,
          67,
          88,
          67,
          73,
          77,
          77,
          80,
          91,
          71,
          75,
          75,
          67,
          61,
          55,
          87,
          57,
          70,
          52,
          75,
          92,
          80,
          92,
          74,
          83,
          111,
          85,
          79,
          55,
          47,
          64,
          89,
          66,
          53,
          112,
          62,
          79,
          84,
          75,
          78,
          77,
          48,
          81,
          91,
          66,
          55,
          81,
          72,
          74,
          106,
          76,
          74,
          72,
          85,
          96,
          77,
          57,
          72,
          82,
          61,
          54,
          68,
          64,
          79,
          76,
          77,
          77,
          65,
          68,
          85,
          75,
          91,
          89,
          75,
          86,
          75,
          89,
          62,
          67,
          62,
          61,
          76,
          81,
          77,
          63,
          84,
          83,
          69,
          103,
          97,
          56,
          86,
          61,
          81,
          98,
          62,
          76,
          81,
          91,
          101,
          74,
          67,
          76,
          71,
          97,
          82,
          71,
          97,
          86,
          66,
          82,
          68,
          74,
          79,
          68,
          89,
          97,
          88,
          89,
          66,
          54,
          57,
          52,
          95,
          59,
          63,
          61,
          91,
          78,
          59,
          87,
          81,
          67,
          52,
          57,
          95,
          72,
          76,
          41,
          84,
          71,
          83,
          68,
          74,
          74,
          77,
          86,
          63,
          55,
          105,
          70,
          76,
          68,
          81,
          73,
          74,
          66,
          85,
          51,
          68,
          59,
          84,
          62,
          67,
          75,
          73,
          70,
          89,
          66,
          56,
          84,
          76,
          72,
          74,
          65,
          61,
          70,
          101,
          71,
          97,
          55,
          82,
          78,
          67,
          70,
          50,
          86,
          61,
          94,
          77,
          83,
          71,
          72,
          95,
          67,
          63,
          98,
          87,
          101,
          61,
          61,
          81,
          69,
          57,
          72,
          76,
          69,
          82,
          79,
          79,
          89,
          74,
          69,
          86,
          99,
          76,
          79,
          72,
          87,
          73,
          88,
          81,
          85,
          75,
          119,
          55,
          57,
          91,
          80,
          97,
          80,
          66,
          78,
          83,
          71,
          86,
          91,
          82,
          81,
          73,
          49,
          80,
          82,
          93,
          76,
          62,
          77,
          60,
          55,
          90,
          51,
          88,
          71,
          55,
          63,
          71,
          65,
          79,
          71,
          91,
          81,
          69,
          79,
          53,
          67,
          78,
          89,
          70,
          64,
          70,
          90,
          93,
          73,
          82,
          103,
          80,
          67,
          87,
          87,
          82,
          93,
          74,
          74,
          77,
          74,
          72,
          72,
          100,
          67,
          72,
          79,
          79,
          61,
          75,
          69,
          62,
          70,
          63,
          83,
          87,
          85,
          100,
          78,
          87,
          66,
          75,
          73,
          64,
          66,
          50,
          103,
          69,
          74,
          85,
          76,
          71,
          68,
          82,
          92,
          55,
          90,
          79,
          73,
          88,
          70,
          52,
          76,
          67,
          78,
          82,
          77,
          58,
          63,
          72,
          84,
          80,
          86,
          97,
          61,
          85,
          74,
          82,
          76,
          104,
          61,
          63,
          79,
          62,
          81,
          69,
          72,
          71,
          68,
          72,
          99,
          60,
          83,
          60,
          78,
          77,
          67,
          77,
          79,
          57,
          98,
          76,
          90,
          81,
          75,
          59,
          95,
          77,
          93,
          75,
          73,
          78,
          66,
          68,
          93,
          67,
          68,
          52
         ],
         "xaxis": "x",
         "y": [
          130,
          133,
          136,
          132,
          126,
          119,
          146,
          123,
          132,
          137,
          128,
          133,
          122,
          142,
          112,
          126,
          123,
          124,
          126,
          105,
          116,
          128,
          122,
          132,
          111,
          120,
          137,
          128,
          124,
          107,
          130,
          117,
          128,
          135,
          106,
          120,
          124,
          141,
          123,
          144,
          138,
          133,
          126,
          123,
          117,
          109,
          124,
          130,
          121,
          150,
          128,
          134,
          137,
          123,
          136,
          131,
          130,
          142,
          116,
          130,
          121,
          116,
          127,
          118,
          119,
          128,
          129,
          129,
          119,
          136,
          119,
          142,
          131,
          124,
          126,
          127,
          130,
          114,
          123,
          118,
          128,
          118,
          120,
          122,
          128,
          124,
          133,
          122,
          133,
          125,
          139,
          130,
          130,
          138,
          116,
          146,
          131,
          121,
          128,
          129,
          130,
          126,
          132,
          124,
          127,
          116,
          125,
          130,
          137,
          119,
          123,
          135,
          114,
          133,
          112,
          129,
          100,
          137,
          129,
          130,
          112,
          117,
          118,
          122,
          134,
          124,
          124,
          120,
          121,
          128,
          131,
          118,
          109,
          126,
          116,
          113,
          132,
          119,
          125,
          123,
          137,
          137,
          123,
          122,
          128,
          130,
          114,
          126,
          115,
          124,
          133,
          134,
          131,
          126,
          120,
          118,
          114,
          115,
          121,
          127,
          136,
          141,
          116,
          126,
          141,
          131,
          129,
          145,
          134,
          135,
          138,
          131,
          122,
          129,
          121,
          130,
          128,
          132,
          134,
          119,
          113,
          146,
          142,
          122,
          124,
          121,
          121,
          136,
          113,
          130,
          124,
          113,
          119,
          107,
          135,
          134,
          139,
          126,
          128,
          121,
          122,
          121,
          119,
          147,
          127,
          124,
          128,
          127,
          106,
          130,
          123,
          124,
          115,
          122,
          136,
          129,
          143,
          128,
          122,
          116,
          112,
          121,
          113,
          113,
          133,
          151,
          112,
          115,
          152,
          133,
          148,
          141,
          127,
          143,
          117,
          139,
          126,
          128,
          120,
          113,
          119,
          137,
          137,
          125,
          135,
          136,
          124,
          123,
          139,
          134,
          132,
          100,
          117,
          129,
          126,
          118,
          108,
          135,
          120,
          123,
          126,
          128,
          123,
          142,
          140,
          119,
          122,
          134,
          115,
          138,
          112,
          112,
          120,
          111,
          110,
          108,
          119,
          131,
          122,
          122,
          120,
          109,
          121,
          126,
          119,
          133,
          121,
          132,
          136,
          118,
          112,
          126,
          121,
          119,
          106,
          138,
          124,
          120,
          116,
          123,
          119,
          128,
          108,
          136,
          130,
          113,
          134,
          116,
          118,
          105,
          136,
          125,
          120,
          117,
          125,
          132,
          132,
          132,
          123,
          128,
          127,
          131,
          132,
          114,
          139,
          118,
          128,
          143,
          145,
          133,
          115,
          132,
          131,
          127,
          140,
          143,
          132,
          116,
          129,
          116,
          149,
          108,
          143,
          120,
          120,
          125,
          116,
          124,
          136,
          120,
          111,
          127,
          119,
          145,
          125,
          121,
          135,
          135,
          130,
          125,
          142,
          134,
          118,
          132,
          126,
          119,
          124,
          107,
          133,
          127,
          132,
          119,
          102,
          117,
          123,
          115,
          121,
          130,
          127,
          113,
          131,
          113,
          137,
          130,
          130,
          125,
          134,
          117,
          133,
          113,
          140,
          123,
          120,
          131,
          118,
          132,
          135,
          144,
          123,
          135,
          127,
          120,
          126,
          127,
          131,
          133,
          117,
          125,
          119,
          103,
          130,
          136,
          109,
          112,
          110,
          113,
          133,
          117,
          129,
          133,
          130,
          144,
          111,
          121,
          130,
          122,
          116,
          125,
          142,
          131,
          131,
          142,
          127,
          128,
          115,
          115,
          121,
          129,
          123,
          149,
          133,
          137,
          126,
          115,
          128,
          130,
          123,
          123,
          124,
          108,
          123,
          124,
          117,
          119,
          120,
          125,
          128,
          136,
          135,
          120,
          119,
          128,
          126,
          116,
          146,
          141,
          124,
          149,
          111,
          120,
          124,
          143,
          128,
          124,
          109,
          126,
          101,
          115,
          125,
          135,
          128,
          118,
          140,
          121,
          133,
          127,
          125,
          124,
          132,
          128,
          113,
          120,
          117,
          134,
          119,
          123,
          121,
          111,
          137,
          127
         ],
         "yaxis": "y"
        }
       ],
       "layout": {
        "autosize": true,
        "coloraxis": {
         "colorbar": {
          "title": {
           "text": "score"
          }
         },
         "colorscale": [
          [
           0,
           "#0d0887"
          ],
          [
           0.1111111111111111,
           "#46039f"
          ],
          [
           0.2222222222222222,
           "#7201a8"
          ],
          [
           0.3333333333333333,
           "#9c179e"
          ],
          [
           0.4444444444444444,
           "#bd3786"
          ],
          [
           0.5555555555555556,
           "#d8576b"
          ],
          [
           0.6666666666666666,
           "#ed7953"
          ],
          [
           0.7777777777777778,
           "#fb9f3a"
          ],
          [
           0.8888888888888888,
           "#fdca26"
          ],
          [
           1,
           "#f0f921"
          ]
         ]
        },
        "legend": {
         "tracegroupgap": 0
        },
        "margin": {
         "t": 60
        },
        "template": {
         "data": {
          "bar": [
           {
            "error_x": {
             "color": "#2a3f5f"
            },
            "error_y": {
             "color": "#2a3f5f"
            },
            "marker": {
             "line": {
              "color": "#E5ECF6",
              "width": 0.5
             },
             "pattern": {
              "fillmode": "overlay",
              "size": 10,
              "solidity": 0.2
             }
            },
            "type": "bar"
           }
          ],
          "barpolar": [
           {
            "marker": {
             "line": {
              "color": "#E5ECF6",
              "width": 0.5
             },
             "pattern": {
              "fillmode": "overlay",
              "size": 10,
              "solidity": 0.2
             }
            },
            "type": "barpolar"
           }
          ],
          "carpet": [
           {
            "aaxis": {
             "endlinecolor": "#2a3f5f",
             "gridcolor": "white",
             "linecolor": "white",
             "minorgridcolor": "white",
             "startlinecolor": "#2a3f5f"
            },
            "baxis": {
             "endlinecolor": "#2a3f5f",
             "gridcolor": "white",
             "linecolor": "white",
             "minorgridcolor": "white",
             "startlinecolor": "#2a3f5f"
            },
            "type": "carpet"
           }
          ],
          "choropleth": [
           {
            "colorbar": {
             "outlinewidth": 0,
             "ticks": ""
            },
            "type": "choropleth"
           }
          ],
          "contour": [
           {
            "colorbar": {
             "outlinewidth": 0,
             "ticks": ""
            },
            "colorscale": [
             [
              0,
              "#0d0887"
             ],
             [
              0.1111111111111111,
              "#46039f"
             ],
             [
              0.2222222222222222,
              "#7201a8"
             ],
             [
              0.3333333333333333,
              "#9c179e"
             ],
             [
              0.4444444444444444,
              "#bd3786"
             ],
             [
              0.5555555555555556,
              "#d8576b"
             ],
             [
              0.6666666666666666,
              "#ed7953"
             ],
             [
              0.7777777777777778,
              "#fb9f3a"
             ],
             [
              0.8888888888888888,
              "#fdca26"
             ],
             [
              1,
              "#f0f921"
             ]
            ],
            "type": "contour"
           }
          ],
          "contourcarpet": [
           {
            "colorbar": {
             "outlinewidth": 0,
             "ticks": ""
            },
            "type": "contourcarpet"
           }
          ],
          "heatmap": [
           {
            "colorbar": {
             "outlinewidth": 0,
             "ticks": ""
            },
            "colorscale": [
             [
              0,
              "#0d0887"
             ],
             [
              0.1111111111111111,
              "#46039f"
             ],
             [
              0.2222222222222222,
              "#7201a8"
             ],
             [
              0.3333333333333333,
              "#9c179e"
             ],
             [
              0.4444444444444444,
              "#bd3786"
             ],
             [
              0.5555555555555556,
              "#d8576b"
             ],
             [
              0.6666666666666666,
              "#ed7953"
             ],
             [
              0.7777777777777778,
              "#fb9f3a"
             ],
             [
              0.8888888888888888,
              "#fdca26"
             ],
             [
              1,
              "#f0f921"
             ]
            ],
            "type": "heatmap"
           }
          ],
          "heatmapgl": [
           {
            "colorbar": {
             "outlinewidth": 0,
             "ticks": ""
            },
            "colorscale": [
             [
              0,
              "#0d0887"
             ],
             [
              0.1111111111111111,
              "#46039f"
             ],
             [
              0.2222222222222222,
              "#7201a8"
             ],
             [
              0.3333333333333333,
              "#9c179e"
             ],
             [
              0.4444444444444444,
              "#bd3786"
             ],
             [
              0.5555555555555556,
              "#d8576b"
             ],
             [
              0.6666666666666666,
              "#ed7953"
             ],
             [
              0.7777777777777778,
              "#fb9f3a"
             ],
             [
              0.8888888888888888,
              "#fdca26"
             ],
             [
              1,
              "#f0f921"
             ]
            ],
            "type": "heatmapgl"
           }
          ],
          "histogram": [
           {
            "marker": {
             "pattern": {
              "fillmode": "overlay",
              "size": 10,
              "solidity": 0.2
             }
            },
            "type": "histogram"
           }
          ],
          "histogram2d": [
           {
            "colorbar": {
             "outlinewidth": 0,
             "ticks": ""
            },
            "colorscale": [
             [
              0,
              "#0d0887"
             ],
             [
              0.1111111111111111,
              "#46039f"
             ],
             [
              0.2222222222222222,
              "#7201a8"
             ],
             [
              0.3333333333333333,
              "#9c179e"
             ],
             [
              0.4444444444444444,
              "#bd3786"
             ],
             [
              0.5555555555555556,
              "#d8576b"
             ],
             [
              0.6666666666666666,
              "#ed7953"
             ],
             [
              0.7777777777777778,
              "#fb9f3a"
             ],
             [
              0.8888888888888888,
              "#fdca26"
             ],
             [
              1,
              "#f0f921"
             ]
            ],
            "type": "histogram2d"
           }
          ],
          "histogram2dcontour": [
           {
            "colorbar": {
             "outlinewidth": 0,
             "ticks": ""
            },
            "colorscale": [
             [
              0,
              "#0d0887"
             ],
             [
              0.1111111111111111,
              "#46039f"
             ],
             [
              0.2222222222222222,
              "#7201a8"
             ],
             [
              0.3333333333333333,
              "#9c179e"
             ],
             [
              0.4444444444444444,
              "#bd3786"
             ],
             [
              0.5555555555555556,
              "#d8576b"
             ],
             [
              0.6666666666666666,
              "#ed7953"
             ],
             [
              0.7777777777777778,
              "#fb9f3a"
             ],
             [
              0.8888888888888888,
              "#fdca26"
             ],
             [
              1,
              "#f0f921"
             ]
            ],
            "type": "histogram2dcontour"
           }
          ],
          "mesh3d": [
           {
            "colorbar": {
             "outlinewidth": 0,
             "ticks": ""
            },
            "type": "mesh3d"
           }
          ],
          "parcoords": [
           {
            "line": {
             "colorbar": {
              "outlinewidth": 0,
              "ticks": ""
             }
            },
            "type": "parcoords"
           }
          ],
          "pie": [
           {
            "automargin": true,
            "type": "pie"
           }
          ],
          "scatter": [
           {
            "fillpattern": {
             "fillmode": "overlay",
             "size": 10,
             "solidity": 0.2
            },
            "type": "scatter"
           }
          ],
          "scatter3d": [
           {
            "line": {
             "colorbar": {
              "outlinewidth": 0,
              "ticks": ""
             }
            },
            "marker": {
             "colorbar": {
              "outlinewidth": 0,
              "ticks": ""
             }
            },
            "type": "scatter3d"
           }
          ],
          "scattercarpet": [
           {
            "marker": {
             "colorbar": {
              "outlinewidth": 0,
              "ticks": ""
             }
            },
            "type": "scattercarpet"
           }
          ],
          "scattergeo": [
           {
            "marker": {
             "colorbar": {
              "outlinewidth": 0,
              "ticks": ""
             }
            },
            "type": "scattergeo"
           }
          ],
          "scattergl": [
           {
            "marker": {
             "colorbar": {
              "outlinewidth": 0,
              "ticks": ""
             }
            },
            "type": "scattergl"
           }
          ],
          "scattermapbox": [
           {
            "marker": {
             "colorbar": {
              "outlinewidth": 0,
              "ticks": ""
             }
            },
            "type": "scattermapbox"
           }
          ],
          "scatterpolar": [
           {
            "marker": {
             "colorbar": {
              "outlinewidth": 0,
              "ticks": ""
             }
            },
            "type": "scatterpolar"
           }
          ],
          "scatterpolargl": [
           {
            "marker": {
             "colorbar": {
              "outlinewidth": 0,
              "ticks": ""
             }
            },
            "type": "scatterpolargl"
           }
          ],
          "scatterternary": [
           {
            "marker": {
             "colorbar": {
              "outlinewidth": 0,
              "ticks": ""
             }
            },
            "type": "scatterternary"
           }
          ],
          "surface": [
           {
            "colorbar": {
             "outlinewidth": 0,
             "ticks": ""
            },
            "colorscale": [
             [
              0,
              "#0d0887"
             ],
             [
              0.1111111111111111,
              "#46039f"
             ],
             [
              0.2222222222222222,
              "#7201a8"
             ],
             [
              0.3333333333333333,
              "#9c179e"
             ],
             [
              0.4444444444444444,
              "#bd3786"
             ],
             [
              0.5555555555555556,
              "#d8576b"
             ],
             [
              0.6666666666666666,
              "#ed7953"
             ],
             [
              0.7777777777777778,
              "#fb9f3a"
             ],
             [
              0.8888888888888888,
              "#fdca26"
             ],
             [
              1,
              "#f0f921"
             ]
            ],
            "type": "surface"
           }
          ],
          "table": [
           {
            "cells": {
             "fill": {
              "color": "#EBF0F8"
             },
             "line": {
              "color": "white"
             }
            },
            "header": {
             "fill": {
              "color": "#C8D4E3"
             },
             "line": {
              "color": "white"
             }
            },
            "type": "table"
           }
          ]
         },
         "layout": {
          "annotationdefaults": {
           "arrowcolor": "#2a3f5f",
           "arrowhead": 0,
           "arrowwidth": 1
          },
          "autotypenumbers": "strict",
          "coloraxis": {
           "colorbar": {
            "outlinewidth": 0,
            "ticks": ""
           }
          },
          "colorscale": {
           "diverging": [
            [
             0,
             "#8e0152"
            ],
            [
             0.1,
             "#c51b7d"
            ],
            [
             0.2,
             "#de77ae"
            ],
            [
             0.3,
             "#f1b6da"
            ],
            [
             0.4,
             "#fde0ef"
            ],
            [
             0.5,
             "#f7f7f7"
            ],
            [
             0.6,
             "#e6f5d0"
            ],
            [
             0.7,
             "#b8e186"
            ],
            [
             0.8,
             "#7fbc41"
            ],
            [
             0.9,
             "#4d9221"
            ],
            [
             1,
             "#276419"
            ]
           ],
           "sequential": [
            [
             0,
             "#0d0887"
            ],
            [
             0.1111111111111111,
             "#46039f"
            ],
            [
             0.2222222222222222,
             "#7201a8"
            ],
            [
             0.3333333333333333,
             "#9c179e"
            ],
            [
             0.4444444444444444,
             "#bd3786"
            ],
            [
             0.5555555555555556,
             "#d8576b"
            ],
            [
             0.6666666666666666,
             "#ed7953"
            ],
            [
             0.7777777777777778,
             "#fb9f3a"
            ],
            [
             0.8888888888888888,
             "#fdca26"
            ],
            [
             1,
             "#f0f921"
            ]
           ],
           "sequentialminus": [
            [
             0,
             "#0d0887"
            ],
            [
             0.1111111111111111,
             "#46039f"
            ],
            [
             0.2222222222222222,
             "#7201a8"
            ],
            [
             0.3333333333333333,
             "#9c179e"
            ],
            [
             0.4444444444444444,
             "#bd3786"
            ],
            [
             0.5555555555555556,
             "#d8576b"
            ],
            [
             0.6666666666666666,
             "#ed7953"
            ],
            [
             0.7777777777777778,
             "#fb9f3a"
            ],
            [
             0.8888888888888888,
             "#fdca26"
            ],
            [
             1,
             "#f0f921"
            ]
           ]
          },
          "colorway": [
           "#636efa",
           "#EF553B",
           "#00cc96",
           "#ab63fa",
           "#FFA15A",
           "#19d3f3",
           "#FF6692",
           "#B6E880",
           "#FF97FF",
           "#FECB52"
          ],
          "font": {
           "color": "#2a3f5f"
          },
          "geo": {
           "bgcolor": "white",
           "lakecolor": "white",
           "landcolor": "#E5ECF6",
           "showlakes": true,
           "showland": true,
           "subunitcolor": "white"
          },
          "hoverlabel": {
           "align": "left"
          },
          "hovermode": "closest",
          "mapbox": {
           "style": "light"
          },
          "paper_bgcolor": "white",
          "plot_bgcolor": "#E5ECF6",
          "polar": {
           "angularaxis": {
            "gridcolor": "white",
            "linecolor": "white",
            "ticks": ""
           },
           "bgcolor": "#E5ECF6",
           "radialaxis": {
            "gridcolor": "white",
            "linecolor": "white",
            "ticks": ""
           }
          },
          "scene": {
           "xaxis": {
            "backgroundcolor": "#E5ECF6",
            "gridcolor": "white",
            "gridwidth": 2,
            "linecolor": "white",
            "showbackground": true,
            "ticks": "",
            "zerolinecolor": "white"
           },
           "yaxis": {
            "backgroundcolor": "#E5ECF6",
            "gridcolor": "white",
            "gridwidth": 2,
            "linecolor": "white",
            "showbackground": true,
            "ticks": "",
            "zerolinecolor": "white"
           },
           "zaxis": {
            "backgroundcolor": "#E5ECF6",
            "gridcolor": "white",
            "gridwidth": 2,
            "linecolor": "white",
            "showbackground": true,
            "ticks": "",
            "zerolinecolor": "white"
           }
          },
          "shapedefaults": {
           "line": {
            "color": "#2a3f5f"
           }
          },
          "ternary": {
           "aaxis": {
            "gridcolor": "white",
            "linecolor": "white",
            "ticks": ""
           },
           "baxis": {
            "gridcolor": "white",
            "linecolor": "white",
            "ticks": ""
           },
           "bgcolor": "#E5ECF6",
           "caxis": {
            "gridcolor": "white",
            "linecolor": "white",
            "ticks": ""
           }
          },
          "title": {
           "x": 0.05
          },
          "xaxis": {
           "automargin": true,
           "gridcolor": "white",
           "linecolor": "white",
           "ticks": "",
           "title": {
            "standoff": 15
           },
           "zerolinecolor": "white",
           "zerolinewidth": 2
          },
          "yaxis": {
           "automargin": true,
           "gridcolor": "white",
           "linecolor": "white",
           "ticks": "",
           "title": {
            "standoff": 15
           },
           "zerolinecolor": "white",
           "zerolinewidth": 2
          }
         }
        },
        "xaxis": {
         "anchor": "y",
         "autorange": true,
         "domain": [
          0,
          1
         ],
         "range": [
          36.427308882015026,
          123.57269111798497
         ],
         "title": {
          "text": "num_products"
         },
         "type": "linear"
        },
        "yaxis": {
         "anchor": "x",
         "autorange": true,
         "domain": [
          0,
          1
         ],
         "range": [
          95.9737532808399,
          156.0262467191601
         ],
         "title": {
          "text": "num_features"
         },
         "type": "linear"
        }
       }
      },
      "image/png": "[encoded data removed]",
      "text/html": [
       "<div>                            <div id=\"605693f9-647c-4e66-8e9c-ddade43c5cf6\" class=\"plotly-graph-div\" style=\"height:525px; width:100%;\"></div>            <script type=\"text/javascript\">                require([\"plotly\"], function(Plotly) {                    window.PLOTLYENV=window.PLOTLYENV || {};                                    if (document.getElementById(\"605693f9-647c-4e66-8e9c-ddade43c5cf6\")) {                    Plotly.newPlot(                        \"605693f9-647c-4e66-8e9c-ddade43c5cf6\",                        [{\"customdata\":[[\"BBS_AMU\",0.8338160218351284,\"BBS_AMU\",13,52,7.268314960626288],[\"BBS_AIF\",0.6931483821376148,\"\",12,49,5.973901572674261],[\"BBS_AJX\",0.7271126042127913,\"\",12,52,6.783865662978103],[\"BBS_ANK\",0.6423880308555487,\"\",12,49,6.368324391514267],[\"BBS_AHH\",0.6691364247140166,\"\",13,52,11.139778927618492],[\"BBS_AOE\",0.20491223089859112,\"\",8,48,10.099504938362077],[\"BBS_AKV\",0.60159141346472,\"\",9,50,6.014386045655271],[\"BBS_AHD\",0.3546712506587384,\"\",10,46,6.844705983459042],[\"BBS_ALW\",0.6226085695332337,\"\",11,49,10.173698060754749],[\"BBS_AOI\",0.5387130018147482,\"\",8,52,11.682652738141282],[\"BBS_AKZ\",0.5376765787135449,\"\",10,48,6.942621983083913],[\"BBS_AMY\",0.6682324169347296,\"\",11,50,9.506848336291906],[\"BBS_AIJ\",0.4063561307051367,\"\",10,48,11.694443124834974],[\"BBS_AJT\",0.47609922424839823,\"\",9,47,10.278828775091759],[\"BBS_ANG\",0.3600866352741231,\"\",10,46,6.844705983459042],[\"BBS_AOQ\",0.3978372730369394,\"\",9,47,15.627610892974724],[\"BBS_AKB\",0.31306366659573603,\"\",6,46,9.598900399987953],[\"BBS_ALO\",0.4297381004881694,\"\",10,49,9.798469268207153],[\"BBS_AJL\",0.38985281316966325,\"\",9,50,9.806775183829435],[\"BBS_AMA\",0.2553177170016278,\"\",10,45,6.487680633323438],[\"BBS_AIR\",0.3468977901635394,\"\",10,44,5.15363949069005],[\"BBS_ANS\",0.5173290609135437,\"\",11,47,14.421058981529766],[\"BBS_AMM\",0.3657402298226767,\"\",9,47,13.712209572422116],[\"BBS_AKN\",0.6303356707079112,\"\",12,47,7.6684780468848945],[\"BBS_AHP\",0.381703016139857,\"\",10,49,5.621387729022079],[\"BBS_ALC\",0.24209652740973525,\"\",8,46,9.17877987534291],[\"BBS_AAD\",0.7720753143570367,\"\",11,51,7.942978603201012],[\"BBS_AEW\",0.3753337896539513,\"\",8,47,8.176758220713145],[\"BBS_ARK\",0.4082567885020934,\"\",9,49,11.185307823708346],[\"BBS_AFI\",0.3660856215342989,\"\",12,41,7.1545440106270926],[\"BBS_ABZ\",0.3213387850878184,\"\",8,47,15.122417134836613],[\"BBS_AQU\",0.35979221102977826,\"\",11,45,6.95796113387362],[\"BBS_ASE\",0.6185820990510222,\"\",11,50,8.701666981932991],[\"BBS_ADY\",0.6009994119694005,\"\",12,48,9.767790037783481],[\"BBS_ACT\",0.37834262767030585,\"\",11,47,6.307545003164238],[\"BBS_AGG\",0.5093347718570553,\"\",14,48,7.093040567330482],[\"BBS_ADU\",0.5983974845124449,\"\",13,49,10.372927896023121],[\"BBS_ASI\",0.7718541326517865,\"\",11,51,8.004131164747323],[\"BBS_ACX\",0.5143493036165377,\"\",11,47,9.921176949642401],[\"BBS_AGK\",0.6049950688250705,\"\",9,51,9.596810169639637],[\"BBS_ATD\",0.7025828904257642,\"\",10,52,8.292164976651152],[\"BBS_APW\",0.5255603678060463,\"\",7,52,9.812528434899656],[\"BBS_ARG\",0.49291823521588884,\"\",11,48,8.004131164747323],[\"BBS_AAH\",0.32109142259746226,\"\",9,46,6.99205898780101],[\"BBS_AQY\",0.3098312337066373,\"\",10,46,10.863240768757727],[\"BBS_AFE\",0.3193281148108439,\"\",13,46,12.042331646292173],[\"BBS_ABV\",0.3831060183311031,\"\",11,47,8.739574662948776],[\"BBS_APO\",0.5078666490465646,\"\",9,49,11.26230465636761],[\"BBS_AGS\",0.4774272769011202,\"\",12,47,7.729363205048366],[\"BBS_ASQ\",0.795244607988921,\"\",12,55,10.053675392058812],[\"BBS_ADM\",0.5283883031385294,\"\",11,47,10.86354127002884],[\"BBS_ABN\",0.5759826724314556,\"\",9,52,9.580071908799942],[\"BBS_AQA\",0.6111397208380966,\"\",10,50,6.818357573492315],[\"BBS_AAP\",0.49294314371941755,\"\",12,46,8.437268515343103],[\"BBS_AEC\",0.683500071698444,\"\",11,49,4.844695488899719],[\"BBS_AQM\",0.39502991671549487,\"\",8,50,9.98436277385793],[\"BBS_AFQ\",0.6926961391051509,\"\",13,50,3.7035086514494533],[\"BBS_ABB\",0.7903434035202929,\"\",11,52,6.006883104247923],[\"BBS_ARS\",0.46062083548365335,\"\",11,49,9.009636714041708],[\"BBS_AEO\",0.44706805432732516,\"\",7,49,10.020387381000104],[\"BBS_ACL\",0.40535093560191643,\"\",11,46,7.292019865511083],[\"BBS_APC\",0.29396362218278793,\"\",10,46,7.161703707917551],[\"BBS_ADA\",0.556196560273036,\"\",10,50,8.956003573022958],[\"BBS_AAJ\",0.33641452528189586,\"\",10,46,4.386342439892261],[\"BBS_AEY\",0.4773760497850833,\"\",12,47,6.574360974438673],[\"BBS_ARE\",0.3809070793919716,\"\",10,48,9.449338601193208],[\"BBS_AFG\",0.6394734354614197,\"\",9,50,6.36735501417529],[\"BBS_ABT\",0.398893389393741,\"\",9,48,7.480014524314149],[\"BBS_ASK\",0.4651651407152444,\"\",14,45,6.340668863192042],[\"BBS_ADW\",0.6074352845838047,\"\",9,51,10.314798191355711],[\"BBS_ATF\",0.4790101421149764,\"\",10,52,6.193545026880809],[\"BBS_APU\",0.5865917382629009,\"\",10,50,7.621679604916491],[\"BBS_ACZ\",0.4598837410598881,\"\",9,48,10.122703976827],[\"BBS_AGI\",0.28335387404721013,\"\",8,49,10.328964130056798],[\"BBS_ASG\",0.46153115106983006,\"\",11,48,10.869625583734637],[\"BBS_ACV\",0.3654844503686447,\"\",10,47,8.674675786448736],[\"BBS_AGE\",0.4750170549481041,\"\",10,48,5.455272678794342],[\"BBS_APY\",0.2863138923926945,\"\",10,45,5.554277630799526],[\"BBS_ARI\",0.4310066547954353,\"\",11,46,8.908163217006434],[\"BBS_AAF\",0.35457070680324054,\"\",10,47,12.234786471369251],[\"BBS_AEU\",0.4098684991368885,\"\",10,49,9.057593499379403],[\"BBS_AQW\",0.3671074993667778,\"\",10,45,6.171709649683789],[\"BBS_AFK\",0.47430164770396016,\"\",11,47,9.506848336291906],[\"BBS_ABX\",0.33093719719323533,\"\",9,48,8.727705282957992],[\"BBS_APA\",0.5361833124116562,\"\",11,49,8.985755485928413],[\"BBS_ACN\",0.550314745790453,\"\",11,49,8.697867127174538],[\"BBS_ADC\",0.41312754463092466,\"\",7,49,9.482529585872053],[\"BBS_AFS\",0.47140555963138847,\"\",11,48,14.384909448262464],[\"BBS_AQO\",0.5552792053384117,\"\",9,50,7.0710678118654755],[\"BBS_AEM\",0.41748212522225864,\"\",9,47,7.704415921493208],[\"BBS_ARQ\",0.8723884048049193,\"BBS_ARQ\",13,52,6.440441750441378],[\"BBS_AQC\",0.6328137988835913,\"\",11,49,8.541585197488251],[\"BBS_ABL\",0.5588638072373243,\"\",11,47,6.8935231309559555],[\"BBS_AAR\",0.5627949445007518,\"\",8,52,6.963072238602727],[\"BBS_AEA\",0.2935312358063368,\"\",9,45,11.175369742826806],[\"BBS_ACB\",0.672908717963239,\"\",10,51,6.034069936618236],[\"BBS_AGQ\",0.596813310517517,\"\",10,51,7.876547467006087],[\"BBS_APM\",0.44350737478375346,\"\",12,46,8.844332774281067],[\"BBS_ADO\",0.5505391699416861,\"\",11,49,6.623274763667994],[\"BBS_ASS\",0.5120326036510877,\"\",10,50,7.323933369440223],[\"BBS_AIH\",0.795873578266816,\"\",13,52,8.337553172208755],[\"BBS_AJV\",0.6376729612212793,\"\",13,47,7.872504770461987],[\"BBS_ANE\",0.5428690482235543,\"\",9,50,10.038198648102428],[\"BBS_AHF\",0.3432089721275225,\"\",8,49,7.75806032459145],[\"BBS_ALU\",0.6111058499173627,\"\",12,47,3.06752705321766],[\"BBS_AOK\",0.4043284396530321,\"\",12,45,4.870546398734152],[\"BBS_AKX\",0.5307570721458335,\"\",12,47,4.8498281756504875],[\"BBS_AHJ\",0.4533238744495979,\"\",11,47,8.127089686773457],[\"BBS_ALY\",0.5578596335030857,\"\",9,54,7.955121030963888],[\"BBS_AOG\",0.5739593025512048,\"\",12,49,6.775671348451179],[\"BBS_AKT\",0.5189552989270957,\"\",11,49,2.987577586391815],[\"BBS_AMW\",0.5165446536229844,\"\",9,49,10.187137859957417],[\"BBS_AID\",0.4992185865109846,\"\",11,49,9.398434896960062],[\"BBS_AJZ\",0.5755765285481986,\"\",11,48,10.144411806955143],[\"BBS_ANI\",0.28071531808208017,\"\",10,45,8.777243302996675],[\"BBS_AKL\",0.5820412609760395,\"\",12,47,6.335525936249404],[\"BBS_AHR\",0.38670398710790005,\"\",11,46,7.0722364868279],[\"BBS_ALA\",0.7408055461977902,\"\",12,51,8.400975472460855],[\"BBS_AJB\",0.5861665899249058,\"\",9,52,6.253887679764573],[\"BBS_ANQ\",0.5617725694737925,\"\",10,50,6.421837743200928],[\"BBS_AMO\",0.4842340310750909,\"\",13,46,8.784063029920121],[\"BBS_AJN\",0.26907705324824344,\"\",9,49,11.106665777422045],[\"BBS_AMC\",0.4486750987570098,\"\",11,48,7.475580079208647],[\"BBS_AIP\",0.3898534721910018,\"\",10,48,8.9],[\"BBS_AOS\",0.5332401453551509,\"\",10,50,10.188719252192595],[\"BBS_ALM\",0.3229083616634845,\"\",9,48,15.358272793835788],[\"BBS_ARY\",0.4697394062734402,\"\",8,51,11.799761650135142],[\"BBS_AAV\",0.33997419363092946,\"\",10,49,10.492378186092987],[\"BBS_AEE\",0.46184038858013327,\"\",11,49,9.78698748169947],[\"BBS_AQG\",0.5711014699637226,\"\",11,47,6.575687752736409],[\"BBS_ABH\",0.4316771609770975,\"\",8,47,5.8081300777444715],[\"BBS_ADK\",0.4494652930142236,\"\",13,46,6.318939316280878],[\"BBS_ASW\",0.38402477020768366,\"\",12,46,5.453719423985392],[\"BBS_ACF\",0.3700230302514883,\"\",8,48,10.879309490955757],[\"BBS_AGU\",0.43515590161420853,\"\",12,48,6.290976783369088],[\"BBS_API\",0.2906693423034322,\"\",10,47,8.706319543871567],[\"BBS_ADG\",0.4906661564477197,\"\",9,49,4.830458915396479],[\"BBS_APE\",0.5248063605200574,\"\",12,49,7.914473380389177],[\"BBS_ACJ\",0.3329411210627831,\"\",7,46,11.482017884234354],[\"BBS_AGY\",0.4430777488089753,\"\",9,49,8.689428798229846],[\"BBS_AAZ\",0.7255964335083077,\"\",10,53,7.912016177940993],[\"BBS_AEI\",0.5517905202753635,\"\",10,50,9.221713506718803],[\"BBS_ARU\",0.4649470983504607,\"\",11,48,10.534477044997072],[\"BBS_AFW\",0.34517407020808083,\"\",9,46,13.894665465388568],[\"BBS_ABD\",0.5655596966707356,\"\",11,49,10.269911118416035],[\"BBS_AQK\",0.550559655690995,\"\",10,51,10.270832488167647],[\"BBS_ACR\",0.23462114794205988,\"\",10,43,7.1867934435323795],[\"BBS_AGA\",0.5066427479099731,\"\",10,50,4.583666654546336],[\"BBS_ASC\",0.2795856414994041,\"\",8,49,8.215838362577491],[\"BBS_AQS\",0.39937031327401823,\"\",9,48,10.771475820797477],[\"BBS_AFO\",0.6326255134534606,\"\",11,50,6.875516509523286],[\"BBS_ARM\",0.5868865186176568,\"\",11,49,5.71788552491505],[\"BBS_AAB\",0.6307529131079411,\"\",11,50,15.868780098614444],[\"BBS_AEQ\",0.48407287545989136,\"\",11,48,6.624522437176974],[\"BBS_AFC\",0.4012801293522135,\"\",10,47,8.4],[\"BBS_ABP\",0.26596075159658,\"\",7,48,13.791449584168195],[\"BBS_AAN\",0.30269413447645116,\"\",10,45,8.090117428072352],[\"BBS_ARA\",0.2898023786805681,\"\",9,47,10.329150885948533],[\"BBS_ATB\",0.3158121116099874,\"\",10,48,12.751862609046569],[\"BBS_APQ\",0.45728230032305484,\"\",9,49,4.540625942600567],[\"BBS_AGM\",0.6269961554255447,\"\",11,48,7.493247649089046],[\"BBS_ASO\",0.5859668159301226,\"\",11,48,11.87399408527687],[\"BBS_ADS\",0.3693015856954179,\"\",11,48,8.495988358149873],[\"BBS_AMG\",0.45577681694089067,\"\",10,49,5.714017850864661],[\"BBS_AIT\",0.5846799777543444,\"\",9,56,11.929836027972932],[\"BBS_AJJ\",0.525980083424366,\"\",10,49,7.258787777583803],[\"BBS_ANY\",0.4577240282724881,\"\",11,46,9.086362499431463],[\"BBS_AHZ\",0.6992662209910866,\"\",11,49,9.528556471457366],[\"BBS_ALI\",0.5366939972959961,\"\",9,50,9.140872800534726],[\"BBS_AOW\",0.6611925343072372,\"\",12,50,8.532617157446802],[\"BBS_AKD\",0.44923563894785484,\"\",10,48,9.637945839233586],[\"BBS_AHV\",0.404540977525305,\"\",9,47,13.841251638258017],[\"BBS_ALE\",0.3923492492904955,\"\",10,47,12.666491226855209],[\"BBS_AKH\",0.45075834660054115,\"\",8,52,11.85261047195933],[\"BBS_AMK\",0.27449545399316516,\"\",7,49,8.773801447305193],[\"BBS_AIX\",0.6179217985504196,\"\",12,47,5.235429516498357],[\"BBS_AJF\",0.6113070718226348,\"\",11,48,6.932973078159135],[\"BBS_ANU\",0.48369166717397666,\"\",9,53,9.186678492708618],[\"BBS_AOC\",0.5440262763791389,\"\",9,50,5.342584568965026],[\"BBS_AKP\",0.26251331105518727,\"\",9,46,8.731947868617112],[\"BBS_AHN\",0.230002990609027,\"\",10,46,8.73155198117723],[\"BBS_ANM\",0.7057395243025347,\"\",10,50,6.102458520956943],[\"BBS_AMS\",0.8220698802805205,\"BBS_AMS\",12,51,4.9805175991613115],[\"BBS_AJR\",0.5693663222486898,\"\",12,47,5.955856128401879],[\"BBS_ANA\",0.26898892877357233,\"\",9,46,14.299270463994628],[\"BBS_AIL\",0.4415157055896598,\"\",11,47,6.9781240226892685],[\"BBS_AOO\",0.5217330365431357,\"\",12,48,5.634713834792322],[\"BBS_AHB\",0.5680396833202426,\"\",10,49,9.123595782365635],[\"BBS_ALQ\",0.2947351564744931,\"\",9,49,11.362707032706208],[\"BBS_AMI\",0.5653293790602347,\"\",11,48,10.016515287883141],[\"BBS_AIZ\",0.3837608540539936,\"\",8,49,12.419742348374221],[\"BBS_AJD\",0.39593505864594286,\"\",11,46,7.632033404296492],[\"BBS_ANW\",0.3343945451006024,\"\",9,47,11.709445380166862],[\"BBS_AHT\",0.2839093005496172,\"\",11,44,10.572848432042434],[\"BBS_ALG\",0.6040560397874113,\"\",9,52,10.5033798205302],[\"BBS_AOY\",0.5571938886210168,\"\",10,50,6.764613810115105],[\"BBS_AKJ\",0.4500595129178252,\"\",10,46,7.296574538781879],[\"BBS_AHX\",0.4458588428346881,\"\",9,49,6.226189211609734],[\"BBS_ALK\",0.6149218487326082,\"\",11,51,6.69278629792944],[\"BBS_AOU\",0.5342242494683491,\"\",12,47,6.917670609870541],[\"BBS_AKF\",0.3735735020491627,\"\",8,50,12.98075498574717],[\"BBS_AME\",0.5178236830583322,\"\",12,46,6.49519052838329],[\"BBS_AIV\",0.37267897471458217,\"\",9,48,5.055250296034367],[\"BBS_AJH\",0.603656641718737,\"\",9,53,11.990737165736633],[\"BBS_AOM\",0.644895339457495,\"\",11,50,8.446232472245043],[\"BBS_ALS\",0.3890750715987325,\"\",10,49,9.256889326334198],[\"BBS_AJP\",0.5148208336949799,\"\",9,50,15.58489297008128],[\"BBS_ANC\",0.4225372562239993,\"\",8,49,14.0089257261219],[\"BBS_AIN\",0.47807353657695745,\"\",11,50,5.768251665169202],[\"BBS_ANO\",0.5235713344453325,\"\",10,50,13.039938650162432],[\"BBS_AMQ\",0.351368249933161,\"\",8,50,8.528445051707843],[\"BBS_AIB\",0.5206575540110664,\"\",12,48,9.003085890713004],[\"BBS_AOA\",0.3547865454667317,\"\",10,44,9.297311439335566],[\"BBS_AKR\",0.3569429172028155,\"\",9,49,8.10273540155757],[\"BBS_AHL\",0.6044264065662739,\"\",10,49,6.545991139621257],[\"BBS_ARW\",0.5775182580783677,\"\",12,48,8.605553762283723],[\"BBS_AAX\",0.5302153113883951,\"\",9,49,12.939555586086875],[\"BBS_AEK\",0.3600268014105309,\"\",8,46,13.637608844661882],[\"BBS_AQI\",0.49478205270877784,\"\",11,49,8.624393618641035],[\"BBS_AFU\",0.3395288572001798,\"\",11,47,9.500761170028293],[\"BBS_ABF\",0.3927913111029887,\"\",11,49,11.440106339446816],[\"BBS_ADE\",0.5189533005883047,\"\",13,47,7.2283138220513905],[\"BBS_ASY\",0.425958074429156,\"\",10,50,14.198943622678414],[\"BBS_ACH\",0.31232609845040843,\"\",9,44,8.027729719194863],[\"BBS_APG\",0.7436166834977642,\"\",13,50,6.030494499236812],[\"BBS_ASU\",0.7941291062444863,\"\",11,55,9.334907383995226],[\"BBS_ADI\",0.20903501785832618,\"\",8,46,14.506464076404008],[\"BBS_APK\",0.4102600734156011,\"\",12,45,6.006940430313366],[\"BBS_ACD\",0.6659286261222225,\"\",10,51,8.89325587172662],[\"BBS_AGW\",0.5382882624106807,\"\",9,51,8.234225472732847],[\"BBS_AAT\",0.6141118045440384,\"\",9,51,8.202679477907445],[\"BBS_AEG\",0.7006690033104075,\"\",14,49,8.949974347244048],[\"BBS_AFY\",0.5892668753928607,\"\",11,50,7.271590820298625],[\"BBS_ABJ\",0.8165054281289429,\"\",12,54,8.454124568648265],[\"BBS_AQE\",0.3000010746571405,\"\",9,45,12.056451579604921],[\"BBS_AGO\",0.7281531038844378,\"\",10,51,7.102112361825882],[\"BBS_APS\",0.3940405053157763,\"\",9,48,12.27262335243029],[\"BBS_ADQ\",0.44439464053561284,\"\",8,50,7.490619133289317],[\"BBS_ASM\",0.3712863217468454,\"\",9,49,6.48074069840786],[\"BBS_AFA\",0.34068173724517936,\"\",10,47,4.737087712930805],[\"BBS_ABR\",0.3607863343621744,\"\",10,48,5.3563046963368315],[\"BBS_ARC\",0.5330690309720567,\"\",9,49,11.80499998692749],[\"BBS_AAL\",0.5617651293063628,\"\",7,52,5.314592925068078],[\"BBS_AFM\",0.5364128229470781,\"\",12,48,4.946940693218609],[\"BBS_AQQ\",0.6671198647158776,\"\",12,51,7.111707874265428],[\"BBS_AES\",0.5898029551469237,\"\",11,48,10.443076713290457],[\"BBS_ARO\",0.437767969000742,\"\",10,49,9.497894503520241],[\"BBS_ACP\",0.43006874978663967,\"\",9,50,7.009693464705557],[\"BBS_AGC\",0.6894817168751557,\"\",11,49,8.360671411213396],[\"BBS_ASA\",0.6846465872708448,\"\",12,48,6.273289939630295],[\"BBS_AAQ\",0.5450577323326925,\"\",9,49,3.890475866669244],[\"BBS_AEB\",0.31707556784905544,\"\",11,44,5.943257864974965],[\"BBS_ABO\",0.43496477762768093,\"\",11,47,4.729020655869074],[\"BBS_ASP\",0.574008343722072,\"\",11,48,9.650932383338336],[\"BBS_ADL\",0.6297480260155879,\"\",12,49,5.228129047119374],[\"BBS_APN\",0.5534057728003939,\"\",14,49,8.43976254622929],[\"BBS_ACA\",0.3032921430579787,\"\",9,47,3.8618104882183926],[\"BBS_AGR\",0.6970768334572954,\"\",12,49,7.681145747868608],[\"BBS_ACM\",0.3591125026788983,\"\",10,49,9.617172141539319],[\"BBS_APB\",0.38367545373242695,\"\",10,47,10.58347768930421],[\"BBS_ARR\",0.4375808523240382,\"\",9,49,7.243558228002943],[\"BBS_AEN\",0.5878809079065817,\"\",9,51,6.696230743697495],[\"BBS_AQL\",0.5158366183640322,\"\",11,47,6.58196885814471],[\"BBS_AFP\",0.6593132808264186,\"\",10,53,8.307225770376053],[\"BBS_ABC\",0.6482515974988068,\"\",11,49,9.649219554789338],[\"BBS_APZ\",0.4249421575899459,\"\",12,47,7.338539818428913],[\"BBS_ACU\",0.4617070354871966,\"\",12,46,4.290655220618667],[\"BBS_AGF\",0.6827641264145273,\"\",11,51,13.793039327294673],[\"BBS_ASD\",0.4164297257283805,\"\",12,45,6.605973727535471],[\"BBS_ADX\",0.7439690567982425,\"\",12,52,7.803133273813084],[\"BBS_AFH\",0.3203163737357576,\"\",11,44,7.96376089566392],[\"BBS_AQT\",0.2696219196500851,\"\",9,48,12.373807462180391],[\"BBS_AAE\",0.43062128113393944,\"\",10,49,7.533923280734945],[\"BBS_AEV\",0.11667557351557856,\"\",6,45,15.336956093769787],[\"BBS_ARJ\",0.44060647018101584,\"\",13,46,6.056929133855239],[\"BBS_AQX\",0.30964980087221916,\"\",9,44,8.234225472732847],[\"BBS_AFD\",0.37694638583697415,\"\",10,48,3.714835124201342],[\"BBS_ABW\",0.529769217570199,\"\",10,50,7.743384273042375],[\"BBS_ARF\",0.4321137640276892,\"\",12,46,6.491447364716816],[\"BBS_AAI\",0.4782229039311062,\"\",9,51,10.67707825203131],[\"BBS_AEZ\",0.3236167028764947,\"\",8,49,7.411983540186797],[\"BBS_ACY\",0.23504187690807904,\"\",8,48,8.061288668693114],[\"BBS_AGJ\",0.46948698318251675,\"\",10,50,8.54458893101359],[\"BBS_ATE\",0.5534081916099943,\"\",10,50,6.554387843269576],[\"BBS_APV\",0.4013217330520969,\"\",10,48,6.465291950097845],[\"BBS_ADT\",0.5676529092542686,\"\",9,51,12.059523156635676],[\"BBS_ASH\",0.5053532874185602,\"\",11,49,6.522687678055308],[\"BBS_AIS\",0.4422918690698905,\"\",10,48,6.590902821313633],[\"BBS_AJM\",0.7992765128027037,\"\",11,51,6.286546043498353],[\"BBS_ALN\",0.2933337642016435,\"\",6,47,8.827041784576908],[\"BBS_AOP\",0.3503292045538548,\"\",11,45,8.014449760194251],[\"BBS_AKC\",0.4483916301784782,\"\",7,51,9.084636054619798],[\"BBS_AHQ\",0.5292935997247347,\"\",11,50,7.115342519763452],[\"BBS_ALB\",0.283166185865547,\"\",8,49,8.410373059502177],[\"BBS_AKO\",0.1680943871662011,\"\",9,43,9.986410519387253],[\"BBS_AML\",0.6386348093673431,\"\",10,52,12.234786471369247],[\"BBS_AJA\",0.5160531432758036,\"\",12,49,8.558215675919575],[\"BBS_ANR\",0.3282716971667071,\"\",8,48,13.105342422081156],[\"BBS_AOD\",0.4466428390935314,\"\",12,48,5.439056290693573],[\"BBS_AKW\",0.4524119267978022,\"\",10,49,9.47417542586161],[\"BBS_AHI\",0.2563127299586237,\"\",8,48,12.080459428349569],[\"BBS_ALZ\",0.5324954406273199,\"\",12,50,10.128000241355096],[\"BBS_AJY\",0.25869144737899663,\"\",10,47,9.417536832951598],[\"BBS_ANJ\",0.5421307692307689,\"\",10,49,2.7367864366808017],[\"BBS_AMT\",0.5383196255900741,\"\",10,49,9.189124006128115],[\"BBS_AIG\",0.36953392701049,\"\",12,43,6.237765803733114],[\"BBS_AJU\",0.6798783174180408,\"\",12,50,11.840080236214618],[\"BBS_ANF\",0.239306812685121,\"\",8,48,11.639775556255369],[\"BBS_AMX\",0.523214994350609,\"\",12,49,9.349316671405575],[\"BBS_AIK\",0.28165605081536815,\"\",9,49,9.752492558885196],[\"BBS_AOH\",0.7043107681594603,\"\",12,50,7.041050268879557],[\"BBS_AHE\",0.5511221375566923,\"\",9,50,8.982836858403438],[\"BBS_ALV\",0.4268631224260578,\"\",10,52,9.089004345911603],[\"BBS_AMN\",0.4510412567783396,\"\",11,49,7.085079188508624],[\"BBS_AJC\",0.5795438946604575,\"\",13,46,9.076923076923077],[\"BBS_ANP\",0.5434059586707378,\"\",11,48,11.579406056793205],[\"BBS_AHS\",0.5068701039710287,\"\",9,49,12.92523610596966],[\"BBS_AKM\",0.6019730730508752,\"\",11,50,7.049998534669562],[\"BBS_ALL\",0.43917255560460433,\"\",11,47,6.959148803274414],[\"BBS_AOR\",0.4571675044074616,\"\",10,48,9.159148432032314],[\"BBS_AKA\",0.43140031544752516,\"\",11,47,9.649219554789337],[\"BBS_AMB\",0.5887150070163326,\"\",11,49,4.8207540303864915],[\"BBS_AIQ\",0.6050906459895132,\"\",11,52,9.902833720833614],[\"BBS_AJO\",0.4722651551858582,\"\",11,47,6.850227721376185],[\"BBS_AOJ\",0.8066837733401272,\"\",13,52,5.059410354586261],[\"BBS_AKY\",0.3610876720953102,\"\",9,43,7.241853660800143],[\"BBS_AHG\",0.45467186140551086,\"\",9,50,13.241349377360805],[\"BBS_ALT\",0.6445220428973284,\"\",10,52,8.960468737739115],[\"BBS_AJW\",0.7706216417406427,\"\",9,53,6.184408911144776],[\"BBS_AND\",0.7034026526385029,\"\",14,50,8.18691090730085],[\"BBS_AMZ\",0.17936541338220982,\"\",8,48,12.175154003132773],[\"BBS_AII\",0.663945421142567,\"\",12,47,7.127801593447699],[\"BBS_ANH\",0.5905364285429603,\"\",9,52,11.503086005690863],[\"BBS_AMV\",0.7009605208522607,\"\",12,50,6.12542515531235],[\"BBS_AIE\",0.7260804837228029,\"\",11,50,7.346219582122518],[\"BBS_AOF\",0.6720103139871042,\"\",11,51,8.886799570799953],[\"BBS_AKU\",0.6863972357919288,\"\",11,50,8.85045640136127],[\"BBS_AHK\",0.36781971376747424,\"\",10,46,6.394528911499267],[\"BBS_ALX\",0.5414230734320228,\"\",10,50,11.232096865679178],[\"BBS_AEL\",0.2505604787206048,\"\",9,45,11.3016987688457],[\"BBS_ARP\",0.8258168076207207,\"BBS_ARP\",11,54,7.0722364868279],[\"BBS_AFR\",0.2248517158493817,\"\",10,44,9.990495483208027],[\"BBS_ABA\",0.6799272171990507,\"\",11,50,18.09479172588913],[\"BBS_AQN\",0.36699303213734047,\"\",9,48,4.483164667073781],[\"BBS_ADB\",0.4049740697944498,\"\",10,50,7.552483035399683],[\"BBS_ACO\",0.695002799598565,\"\",13,49,7.369375299690762],[\"BBS_ADN\",0.4546702972294808,\"\",12,47,9.021579068482906],[\"BBS_ASR\",0.5279903639447364,\"\",10,51,13.283448347473632],[\"BBS_ACC\",0.5877711336048621,\"\",10,49,7.602631123499285],[\"BBS_AGP\",0.33597393394408276,\"\",9,48,7.263981834969401],[\"BBS_APL\",0.20663579461460363,\"\",10,44,13.289469515371936],[\"BBS_AAS\",0.42734074308548703,\"\",8,49,9.911325592472481],[\"BBS_AQB\",0.4187440477040936,\"\",11,47,8.193930428540908],[\"BBS_ABM\",0.6383891482623717,\"\",9,50,8.680899993166493],[\"BBS_APT\",0.49890722696194933,\"\",9,50,10.857096444716541],[\"BBS_AGH\",0.5565267625426239,\"\",11,50,9.499021263197472],[\"BBS_ASJ\",0.6883574667710941,\"\",11,50,8.312094145936335],[\"BBS_ADV\",0.6023950831702769,\"\",10,49,5.249761899362675],[\"BBS_AFF\",0.5556147069022299,\"\",9,52,4.666666666666667],[\"BBS_ABU\",0.48410983987836853,\"\",9,51,10.556140334678775],[\"BBS_AQZ\",0.6952776410510948,\"\",10,53,8.129575634681062],[\"BBS_AAK\",0.5679376928206296,\"\",10,49,9.937806599043876],[\"BBS_AEX\",0.2458002017214874,\"\",9,43,10.078702640398728],[\"BBS_ARD\",0.44994764176733054,\"\",10,48,7.02068372738724],[\"BBS_AQV\",0.37441730929218586,\"\",9,47,9.464684195131936],[\"BBS_AFJ\",0.2709027254494707,\"\",10,48,9.08845421400141],[\"BBS_ABY\",0.3491135147396758,\"\",9,47,6.607141665474892],[\"BBS_ARH\",0.38779832712262563,\"\",11,47,12.777821695137527],[\"BBS_AAG\",0.6023103870353502,\"\",10,52,3.961060464067672],[\"BBS_AET\",0.7149088093598062,\"\",12,52,8.56186635936088],[\"BBS_ACW\",0.6575551383434408,\"\",12,50,7.397447007057382],[\"BBS_AGD\",0.3699694894727941,\"\",10,48,5.142956348249516],[\"BBS_APX\",0.07111231615097496,\"\",8,42,11.406549653598146],[\"BBS_ADZ\",0.49754664467004134,\"\",10,50,5.89915248150105],[\"BBS_ASF\",0.28928104341263217,\"\",9,46,8.238722183074056],[\"BBS_AMR\",0.31009300424130715,\"\",10,47,10.793053321465617],[\"BBS_AIA\",0.3786619837027006,\"\",10,49,9.148223871331528],[\"BBS_ANL\",0.6949664701455522,\"\",12,51,10.347772170321923],[\"BBS_AHO\",0.6244493435677068,\"\",14,46,6.767645115412249],[\"BBS_AOB\",0.4526325489433086,\"\",13,47,7.476986387829456],[\"BBS_AKQ\",0.6695244266972205,\"\",10,51,6.514598989960933],[\"BBS_AHC\",0.4105218435523431,\"\",11,47,4.281422487024225],[\"BBS_ALP\",0.5801371272386117,\"\",9,51,7.212814385385546],[\"BBS_AON\",0.5651362167745324,\"\",10,50,8.475848040166836],[\"BBS_AIM\",0.7751792299147945,\"\",13,51,8.45944029930555],[\"BBS_AJS\",0.5290574747089952,\"\",11,49,7.349593793239177],[\"BBS_AOV\",0.6821390767653788,\"\",12,50,5.931905258852336],[\"BBS_AKE\",0.2473397361416862,\"\",9,48,10.705946195951915],[\"BBS_ALH\",0.7247122645846737,\"\",11,53,9.582180431310078],[\"BBS_AJK\",0.2676745215597507,\"\",8,47,14.097318007337424],[\"BBS_ANX\",0.787934034985736,\"\",13,50,5.851212386380497],[\"BBS_AMF\",0.5152882705256426,\"\",10,50,8.874683092933516],[\"BBS_AIU\",0.3054737686585684,\"\",9,45,18.22764147058656],[\"BBS_AJG\",0.4972948997194168,\"\",10,46,7.147726911403373],[\"BBS_ANT\",0.23544226963917086,\"\",10,40,8.93364427319557],[\"BBS_AMJ\",0.4380597550485264,\"\",9,48,12.39274977208772],[\"BBS_AIY\",0.6837695093396031,\"\",12,48,7.323857514239943],[\"BBS_AOZ\",0.668018225163509,\"\",10,50,7.608547824650903],[\"BBS_AKI\",0.5112493408693611,\"\",12,48,11.56473326780845],[\"BBS_AHW\",0.649383986156447,\"\",12,49,7.369230323144714],[\"BBS_ALD\",0.614439060706369,\"\",10,50,4.2708313008125245],[\"BBS_ARL\",0.4627631347676867,\"\",11,47,8.233172169154617],[\"BBS_AAC\",0.5424711022669718,\"\",11,46,4.769046199492364],[\"BBS_AEP\",0.48825584485416695,\"\",9,48,5.020943790086669],[\"BBS_AQR\",0.5868447673431236,\"\",10,52,7.7259303646874775],[\"BBS_AFN\",0.4473228434861846,\"\",8,48,11.61827762622326],[\"BBS_ASB\",0.2481757875578379,\"\",10,46,9.16733330909267],[\"BBS_ACS\",0.447919593253992,\"\",10,50,9.715966241192895],[\"BBS_ASN\",0.531185452089205,\"\",11,50,9.332251019497338],[\"BBS_ADR\",0.28663039000178936,\"\",10,45,8.83685464404615],[\"BBS_ATC\",0.590523533893475,\"\",10,51,4.898979485566356],[\"BBS_APP\",0.5391014026280313,\"\",8,51,8.842369591913696],[\"BBS_AGL\",0.2791664174626756,\"\",10,46,7.647875521999557],[\"BBS_AAO\",0.28669600909557635,\"\",10,42,5.546169849544819],[\"BBS_AFB\",0.418743088416109,\"\",12,46,6.5106749948748694],[\"BBS_ABQ\",0.2504559029096491,\"\",10,46,7.858753081755401],[\"BBS_ACG\",0.44178068041582014,\"\",10,48,13.183702059740277],[\"BBS_AGT\",0.4454238914264509,\"\",11,47,10.103595628690767],[\"BBS_APH\",0.44722918608908496,\"\",10,48,10.754068997360953],[\"BBS_ADJ\",0.6532162358070807,\"\",12,49,10.719595245260997],[\"BBS_ASV\",0.6428988884726813,\"\",11,50,8.349790911421842],[\"BBS_AQF\",0.6078991505934875,\"\",8,51,9.509863300805117],[\"BBS_AFZ\",0.3880052975934827,\"\",11,45,4.807019660509922],[\"BBS_ABI\",0.5430664897057675,\"\",11,49,7.113019142552201],[\"BBS_ARX\",0.6976126579981292,\"\",11,50,4.772510817602432],[\"BBS_AAW\",0.5098548578298382,\"\",12,49,7.131210743391803],[\"BBS_AED\",0.4313693299095238,\"\",12,44,4.424521317486095],[\"BBS_AFV\",0.3533367227328017,\"\",9,48,6.751314458205916],[\"BBS_ABE\",0.673153059686688,\"\",11,49,10.302852048368866],[\"BBS_AQJ\",0.3627489213490068,\"\",9,46,8.781293248212995],[\"BBS_AEH\",0.636437488281637,\"\",11,50,7.760889443786562],[\"BBS_ART\",0.7905763863938338,\"\",11,52,7.337214099629481],[\"BBS_APD\",0.5210542132146666,\"\",11,49,9.78360916351746],[\"BBS_ACK\",0.5076646738802305,\"\",10,50,8.431488599292535],[\"BBS_AGX\",0.29722336892066625,\"\",10,46,7.4269778510508555],[\"BBS_ASZ\",0.4842044998597136,\"\",12,47,8.37779804005802],[\"BBS_ADF\",0.435087949950941,\"\",10,49,11.897898974188678],[\"BBS_ARB\",0.45971362934205023,\"\",8,50,6.352902879786531],[\"BBS_AAM\",0.48612741000272,\"\",10,50,11.998333217576516],[\"BBS_ABS\",0.5294578953256547,\"\",8,51,12.004556426624017],[\"BBS_ADP\",0.4527867809206078,\"\",9,49,9.527089382322673],[\"BBS_ASL\",0.7137861612889148,\"\",11,51,9.777694297999092],[\"BBS_AGN\",0.40967014078584757,\"\",10,48,7.6609398901179215],[\"BBS_ATA\",0.4435011270651561,\"\",12,47,4.079079416840139],[\"BBS_APR\",0.3929881409925996,\"\",10,47,10.509519494249012],[\"BBS_ACQ\",0.5744033624562649,\"\",10,50,5.885575587824865],[\"BBS_AGB\",0.4968049501749775,\"\",11,46,7.089743493943724],[\"BBS_AAA\",0.2968103401034163,\"\",9,46,13.337036522776584],[\"BBS_AER\",0.5221411331430581,\"\",11,48,7.36082999272624],[\"BBS_ARN\",0.3484358128241098,\"\",11,44,5.028842431250665],[\"BBS_AFL\",0.3753045689493326,\"\",10,48,7.08590149522275],[\"BBS_AQP\",0.38673275457224154,\"\",9,49,9.237604307034012],[\"BBS_ACI\",0.3404580456299058,\"\",9,48,10.140981519204121],[\"BBS_AGZ\",0.2555403719308065,\"\",8,48,13.74261165135652],[\"BBS_APF\",0.4255091415399992,\"\",9,49,9.654526220545982],[\"BBS_ADD\",0.4817654703485954,\"\",9,49,10.132456102380443],[\"BBS_ASX\",0.577462843831132,\"\",11,51,7.785343296729688],[\"BBS_AQH\",0.4880343501498953,\"\",10,48,10.828203913853857],[\"BBS_AFT\",0.6460885947938633,\"\",12,50,9.004242827072629],[\"BBS_ABG\",0.4602291881131033,\"\",10,49,8.52994724485445],[\"BBS_ARV\",0.22333008821800843,\"\",7,47,14.004372495031394],[\"BBS_AAY\",0.5053461538461536,\"\",8,51,18.874586088176873],[\"BBS_AEJ\",0.4523940140545377,\"\",10,49,6.48074069840786],[\"BBS_AFX\",0.34190121145416175,\"\",10,48,6.768308503607086],[\"BBS_ABK\",0.877560239838022,\"BBS_ABK\",13,52,5.497713349294043],[\"BBS_AQD\",0.6885098088032375,\"\",12,51,7.243771270700243],[\"BBS_AAU\",0.33443753222018296,\"\",8,49,14.852924796147054],[\"BBS_AEF\",0.8023403602768099,\"\",13,51,6.137478232405752],[\"BBS_ARZ\",0.2434227191257003,\"\",9,48,10.327955589886445],[\"BBS_APJ\",0.3584619446360335,\"\",9,48,7.465145347662588],[\"BBS_ACE\",0.5170072106545466,\"\",11,47,5.367487061500186],[\"BBS_AGV\",0.7111468385143995,\"\",11,50,6.773794912798967],[\"BBS_AST\",0.5260990562415137,\"\",11,47,12.361630853385481],[\"BBS_ADH\",0.5413149463873432,\"\",10,51,4.4147480109288235],[\"BBS_AIO\",0.2642565816381578,\"\",10,42,10.285912696499032],[\"BBS_AJQ\",0.48582411992407376,\"\",9,50,5.94418483337567],[\"BBS_ANB\",0.1618248641029809,\"\",8,45,11.725373128391267],[\"BBS_AHA\",0.43642492421200296,\"\",11,46,7.132743725793829],[\"BBS_ALR\",0.46526330666398563,\"\",11,47,7.3169112392214135],[\"BBS_AOL\",0.6335757140462129,\"\",11,48,6.536610186271836],[\"BBS_AHM\",0.6953086933453037,\"\",12,50,7.181670341145497],[\"BBS_AKS\",0.4121889697648297,\"\",12,44,4.517712056143267],[\"BBS_AMP\",0.7062137159153937,\"\",11,51,12.788166017167772],[\"BBS_AIC\",0.297843715361026,\"\",9,47,11.653431646335017],[\"BBS_ANN\",0.5691601092474566,\"\",12,48,12.829003598617211],[\"BBS_AOX\",0.684443995256667,\"\",14,47,5.508805567045383],[\"BBS_AKK\",0.6547649661297089,\"\",13,50,7.6398209341139305],[\"BBS_AHU\",0.39197250058525984,\"\",9,47,4.763544691161337],[\"BBS_ALF\",0.5977836893228192,\"\",12,48,10.586941642104831],[\"BBS_AJE\",0.524670998971678,\"\",11,46,7.316911239221413],[\"BBS_ANV\",0.4301544498697806,\"\",13,45,11.594734573179553],[\"BBS_AMH\",0.5651697287224069,\"\",13,48,6.639490962166181],[\"BBS_AJI\",0.3615842546974589,\"\",9,48,7.2076776623230465],[\"BBS_ANZ\",0.4157661987541434,\"\",7,49,11.74734012447073],[\"BBS_AMD\",0.46650500153611846,\"\",12,49,7.952986860293433],[\"BBS_AIW\",0.3116885468870855,\"\",9,47,9.007541422004996],[\"BBS_AOT\",0.47768032756234774,\"\",11,48,11.348717479510716],[\"BBS_AKG\",0.3843710981961603,\"\",13,46,8.150942879353602],[\"BBS_AHY\",0.5383192161760124,\"\",8,51,7.548799573442125],[\"BBS_ALJ\",0.442052296101202,\"\",9,49,5.8267158231675085]],\"hovertemplate\":\"num_products=%{x}\\u003cbr\\u003enum_features=%{y}\\u003cbr\\u003elabel=%{customdata[2]}\\u003cbr\\u003ename=%{customdata[0]}\\u003cbr\\u003escore=%{marker.color}\\u003cbr\\u003enum_bases=%{customdata[3]}\\u003cbr\\u003ecatalytic_features=%{customdata[4]}\\u003cbr\\u003ebase_balance=%{customdata[5]}\\u003cextra\\u003e\\u003c\\u002fextra\\u003e\",\"legendgroup\":\"\",\"marker\":{\"color\":[0.8338160218351284,0.6931483821376148,0.7271126042127913,0.6423880308555487,0.6691364247140166,0.20491223089859112,0.60159141346472,0.3546712506587384,0.6226085695332337,0.5387130018147482,0.5376765787135449,0.6682324169347296,0.4063561307051367,0.47609922424839823,0.3600866352741231,0.3978372730369394,0.31306366659573603,0.4297381004881694,0.38985281316966325,0.2553177170016278,0.3468977901635394,0.5173290609135437,0.3657402298226767,0.6303356707079112,0.381703016139857,0.24209652740973525,0.7720753143570367,0.3753337896539513,0.4082567885020934,0.3660856215342989,0.3213387850878184,0.35979221102977826,0.6185820990510222,0.6009994119694005,0.37834262767030585,0.5093347718570553,0.5983974845124449,0.7718541326517865,0.5143493036165377,0.6049950688250705,0.7025828904257642,0.5255603678060463,0.49291823521588884,0.32109142259746226,0.3098312337066373,0.3193281148108439,0.3831060183311031,0.5078666490465646,0.4774272769011202,0.795244607988921,0.5283883031385294,0.5759826724314556,0.6111397208380966,0.49294314371941755,0.683500071698444,0.39502991671549487,0.6926961391051509,0.7903434035202929,0.46062083548365335,0.44706805432732516,0.40535093560191643,0.29396362218278793,0.556196560273036,0.33641452528189586,0.4773760497850833,0.3809070793919716,0.6394734354614197,0.398893389393741,0.4651651407152444,0.6074352845838047,0.4790101421149764,0.5865917382629009,0.4598837410598881,0.28335387404721013,0.46153115106983006,0.3654844503686447,0.4750170549481041,0.2863138923926945,0.4310066547954353,0.35457070680324054,0.4098684991368885,0.3671074993667778,0.47430164770396016,0.33093719719323533,0.5361833124116562,0.550314745790453,0.41312754463092466,0.47140555963138847,0.5552792053384117,0.41748212522225864,0.8723884048049193,0.6328137988835913,0.5588638072373243,0.5627949445007518,0.2935312358063368,0.672908717963239,0.596813310517517,0.44350737478375346,0.5505391699416861,0.5120326036510877,0.795873578266816,0.6376729612212793,0.5428690482235543,0.3432089721275225,0.6111058499173627,0.4043284396530321,0.5307570721458335,0.4533238744495979,0.5578596335030857,0.5739593025512048,0.5189552989270957,0.5165446536229844,0.4992185865109846,0.5755765285481986,0.28071531808208017,0.5820412609760395,0.38670398710790005,0.7408055461977902,0.5861665899249058,0.5617725694737925,0.4842340310750909,0.26907705324824344,0.4486750987570098,0.3898534721910018,0.5332401453551509,0.3229083616634845,0.4697394062734402,0.33997419363092946,0.46184038858013327,0.5711014699637226,0.4316771609770975,0.4494652930142236,0.38402477020768366,0.3700230302514883,0.43515590161420853,0.2906693423034322,0.4906661564477197,0.5248063605200574,0.3329411210627831,0.4430777488089753,0.7255964335083077,0.5517905202753635,0.4649470983504607,0.34517407020808083,0.5655596966707356,0.550559655690995,0.23462114794205988,0.5066427479099731,0.2795856414994041,0.39937031327401823,0.6326255134534606,0.5868865186176568,0.6307529131079411,0.48407287545989136,0.4012801293522135,0.26596075159658,0.30269413447645116,0.2898023786805681,0.3158121116099874,0.45728230032305484,0.6269961554255447,0.5859668159301226,0.3693015856954179,0.45577681694089067,0.5846799777543444,0.525980083424366,0.4577240282724881,0.6992662209910866,0.5366939972959961,0.6611925343072372,0.44923563894785484,0.404540977525305,0.3923492492904955,0.45075834660054115,0.27449545399316516,0.6179217985504196,0.6113070718226348,0.48369166717397666,0.5440262763791389,0.26251331105518727,0.230002990609027,0.7057395243025347,0.8220698802805205,0.5693663222486898,0.26898892877357233,0.4415157055896598,0.5217330365431357,0.5680396833202426,0.2947351564744931,0.5653293790602347,0.3837608540539936,0.39593505864594286,0.3343945451006024,0.2839093005496172,0.6040560397874113,0.5571938886210168,0.4500595129178252,0.4458588428346881,0.6149218487326082,0.5342242494683491,0.3735735020491627,0.5178236830583322,0.37267897471458217,0.603656641718737,0.644895339457495,0.3890750715987325,0.5148208336949799,0.4225372562239993,0.47807353657695745,0.5235713344453325,0.351368249933161,0.5206575540110664,0.3547865454667317,0.3569429172028155,0.6044264065662739,0.5775182580783677,0.5302153113883951,0.3600268014105309,0.49478205270877784,0.3395288572001798,0.3927913111029887,0.5189533005883047,0.425958074429156,0.31232609845040843,0.7436166834977642,0.7941291062444863,0.20903501785832618,0.4102600734156011,0.6659286261222225,0.5382882624106807,0.6141118045440384,0.7006690033104075,0.5892668753928607,0.8165054281289429,0.3000010746571405,0.7281531038844378,0.3940405053157763,0.44439464053561284,0.3712863217468454,0.34068173724517936,0.3607863343621744,0.5330690309720567,0.5617651293063628,0.5364128229470781,0.6671198647158776,0.5898029551469237,0.437767969000742,0.43006874978663967,0.6894817168751557,0.6846465872708448,0.5450577323326925,0.31707556784905544,0.43496477762768093,0.574008343722072,0.6297480260155879,0.5534057728003939,0.3032921430579787,0.6970768334572954,0.3591125026788983,0.38367545373242695,0.4375808523240382,0.5878809079065817,0.5158366183640322,0.6593132808264186,0.6482515974988068,0.4249421575899459,0.4617070354871966,0.6827641264145273,0.4164297257283805,0.7439690567982425,0.3203163737357576,0.2696219196500851,0.43062128113393944,0.11667557351557856,0.44060647018101584,0.30964980087221916,0.37694638583697415,0.529769217570199,0.4321137640276892,0.4782229039311062,0.3236167028764947,0.23504187690807904,0.46948698318251675,0.5534081916099943,0.4013217330520969,0.5676529092542686,0.5053532874185602,0.4422918690698905,0.7992765128027037,0.2933337642016435,0.3503292045538548,0.4483916301784782,0.5292935997247347,0.283166185865547,0.1680943871662011,0.6386348093673431,0.5160531432758036,0.3282716971667071,0.4466428390935314,0.4524119267978022,0.2563127299586237,0.5324954406273199,0.25869144737899663,0.5421307692307689,0.5383196255900741,0.36953392701049,0.6798783174180408,0.239306812685121,0.523214994350609,0.28165605081536815,0.7043107681594603,0.5511221375566923,0.4268631224260578,0.4510412567783396,0.5795438946604575,0.5434059586707378,0.5068701039710287,0.6019730730508752,0.43917255560460433,0.4571675044074616,0.43140031544752516,0.5887150070163326,0.6050906459895132,0.4722651551858582,0.8066837733401272,0.3610876720953102,0.45467186140551086,0.6445220428973284,0.7706216417406427,0.7034026526385029,0.17936541338220982,0.663945421142567,0.5905364285429603,0.7009605208522607,0.7260804837228029,0.6720103139871042,0.6863972357919288,0.36781971376747424,0.5414230734320228,0.2505604787206048,0.8258168076207207,0.2248517158493817,0.6799272171990507,0.36699303213734047,0.4049740697944498,0.695002799598565,0.4546702972294808,0.5279903639447364,0.5877711336048621,0.33597393394408276,0.20663579461460363,0.42734074308548703,0.4187440477040936,0.6383891482623717,0.49890722696194933,0.5565267625426239,0.6883574667710941,0.6023950831702769,0.5556147069022299,0.48410983987836853,0.6952776410510948,0.5679376928206296,0.2458002017214874,0.44994764176733054,0.37441730929218586,0.2709027254494707,0.3491135147396758,0.38779832712262563,0.6023103870353502,0.7149088093598062,0.6575551383434408,0.3699694894727941,0.07111231615097496,0.49754664467004134,0.28928104341263217,0.31009300424130715,0.3786619837027006,0.6949664701455522,0.6244493435677068,0.4526325489433086,0.6695244266972205,0.4105218435523431,0.5801371272386117,0.5651362167745324,0.7751792299147945,0.5290574747089952,0.6821390767653788,0.2473397361416862,0.7247122645846737,0.2676745215597507,0.787934034985736,0.5152882705256426,0.3054737686585684,0.4972948997194168,0.23544226963917086,0.4380597550485264,0.6837695093396031,0.668018225163509,0.5112493408693611,0.649383986156447,0.614439060706369,0.4627631347676867,0.5424711022669718,0.48825584485416695,0.5868447673431236,0.4473228434861846,0.2481757875578379,0.447919593253992,0.531185452089205,0.28663039000178936,0.590523533893475,0.5391014026280313,0.2791664174626756,0.28669600909557635,0.418743088416109,0.2504559029096491,0.44178068041582014,0.4454238914264509,0.44722918608908496,0.6532162358070807,0.6428988884726813,0.6078991505934875,0.3880052975934827,0.5430664897057675,0.6976126579981292,0.5098548578298382,0.4313693299095238,0.3533367227328017,0.673153059686688,0.3627489213490068,0.636437488281637,0.7905763863938338,0.5210542132146666,0.5076646738802305,0.29722336892066625,0.4842044998597136,0.435087949950941,0.45971362934205023,0.48612741000272,0.5294578953256547,0.4527867809206078,0.7137861612889148,0.40967014078584757,0.4435011270651561,0.3929881409925996,0.5744033624562649,0.4968049501749775,0.2968103401034163,0.5221411331430581,0.3484358128241098,0.3753045689493326,0.38673275457224154,0.3404580456299058,0.2555403719308065,0.4255091415399992,0.4817654703485954,0.577462843831132,0.4880343501498953,0.6460885947938633,0.4602291881131033,0.22333008821800843,0.5053461538461536,0.4523940140545377,0.34190121145416175,0.877560239838022,0.6885098088032375,0.33443753222018296,0.8023403602768099,0.2434227191257003,0.3584619446360335,0.5170072106545466,0.7111468385143995,0.5260990562415137,0.5413149463873432,0.2642565816381578,0.48582411992407376,0.1618248641029809,0.43642492421200296,0.46526330666398563,0.6335757140462129,0.6953086933453037,0.4121889697648297,0.7062137159153937,0.297843715361026,0.5691601092474566,0.684443995256667,0.6547649661297089,0.39197250058525984,0.5977836893228192,0.524670998971678,0.4301544498697806,0.5651697287224069,0.3615842546974589,0.4157661987541434,0.46650500153611846,0.3116885468870855,0.47768032756234774,0.3843710981961603,0.5383192161760124,0.442052296101202],\"coloraxis\":\"coloraxis\",\"symbol\":\"circle\"},\"mode\":\"markers+text\",\"name\":\"\",\"orientation\":\"v\",\"showlegend\":false,\"text\":[\"BBS_AMU\",\"\",\"\",\"\",\"\",\"\",\"\",\"\",\"\",\"\",\"\",\"\",\"\",\"\",\"\",\"\",\"\",\"\",\"\",\"\",\"\",\"\",\"\",\"\",\"\",\"\",\"\",\"\",\"\",\"\",\"\",\"\",\"\",\"\",\"\",\"\",\"\",\"\",\"\",\"\",\"\",\"\",\"\",\"\",\"\",\"\",\"\",\"\",\"\",\"\",\"\",\"\",\"\",\"\",\"\",\"\",\"\",\"\",\"\",\"\",\"\",\"\",\"\",\"\",\"\",\"\",\"\",\"\",\"\",\"\",\"\",\"\",\"\",\"\",\"\",\"\",\"\",\"\",\"\",\"\",\"\",\"\",\"\",\"\",\"\",\"\",\"\",\"\",\"\",\"\",\"BBS_ARQ\",\"\",\"\",\"\",\"\",\"\",\"\",\"\",\"\",\"\",\"\",\"\",\"\",\"\",\"\",\"\",\"\",\"\",\"\",\"\",\"\",\"\",\"\",\"\",\"\",\"\",\"\",\"\",\"\",\"\",\"\",\"\",\"\",\"\",\"\",\"\",\"\",\"\",\"\",\"\",\"\",\"\",\"\",\"\",\"\",\"\",\"\",\"\",\"\",\"\",\"\",\"\",\"\",\"\",\"\",\"\",\"\",\"\",\"\",\"\",\"\",\"\",\"\",\"\",\"\",\"\",\"\",\"\",\"\",\"\",\"\",\"\",\"\",\"\",\"\",\"\",\"\",\"\",\"\",\"\",\"\",\"\",\"\",\"\",\"\",\"\",\"\",\"\",\"\",\"\",\"\",\"\",\"BBS_AMS\",\"\",\"\",\"\",\"\",\"\",\"\",\"\",\"\",\"\",\"\",\"\",\"\",\"\",\"\",\"\",\"\",\"\",\"\",\"\",\"\",\"\",\"\",\"\",\"\",\"\",\"\",\"\",\"\",\"\",\"\",\"\",\"\",\"\",\"\",\"\",\"\",\"\",\"\",\"\",\"\",\"\",\"\",\"\",\"\",\"\",\"\",\"\",\"\",\"\",\"\",\"\",\"\",\"\",\"\",\"\",\"\",\"\",\"\",\"\",\"\",\"\",\"\",\"\",\"\",\"\",\"\",\"\",\"\",\"\",\"\",\"\",\"\",\"\",\"\",\"\",\"\",\"\",\"\",\"\",\"\",\"\",\"\",\"\",\"\",\"\",\"\",\"\",\"\",\"\",\"\",\"\",\"\",\"\",\"\",\"\",\"\",\"\",\"\",\"\",\"\",\"\",\"\",\"\",\"\",\"\",\"\",\"\",\"\",\"\",\"\",\"\",\"\",\"\",\"\",\"\",\"\",\"\",\"\",\"\",\"\",\"\",\"\",\"\",\"\",\"\",\"\",\"\",\"\",\"\",\"\",\"\",\"\",\"\",\"\",\"\",\"\",\"\",\"\",\"\",\"\",\"\",\"\",\"\",\"\",\"\",\"\",\"\",\"\",\"\",\"\",\"\",\"\",\"\",\"\",\"\",\"\",\"\",\"BBS_ARP\",\"\",\"\",\"\",\"\",\"\",\"\",\"\",\"\",\"\",\"\",\"\",\"\",\"\",\"\",\"\",\"\",\"\",\"\",\"\",\"\",\"\",\"\",\"\",\"\",\"\",\"\",\"\",\"\",\"\",\"\",\"\",\"\",\"\",\"\",\"\",\"\",\"\",\"\",\"\",\"\",\"\",\"\",\"\",\"\",\"\",\"\",\"\",\"\",\"\",\"\",\"\",\"\",\"\",\"\",\"\",\"\",\"\",\"\",\"\",\"\",\"\",\"\",\"\",\"\",\"\",\"\",\"\",\"\",\"\",\"\",\"\",\"\",\"\",\"\",\"\",\"\",\"\",\"\",\"\",\"\",\"\",\"\",\"\",\"\",\"\",\"\",\"\",\"\",\"\",\"\",\"\",\"\",\"\",\"\",\"\",\"\",\"\",\"\",\"\",\"\",\"\",\"\",\"\",\"\",\"\",\"\",\"\",\"\",\"\",\"\",\"\",\"\",\"\",\"\",\"\",\"\",\"\",\"\",\"\",\"\",\"\",\"\",\"\",\"BBS_ABK\",\"\",\"\",\"\",\"\",\"\",\"\",\"\",\"\",\"\",\"\",\"\",\"\",\"\",\"\",\"\",\"\",\"\",\"\",\"\",\"\",\"\",\"\",\"\",\"\",\"\",\"\",\"\",\"\",\"\",\"\",\"\",\"\",\"\",\"\",\"\"],\"x\":[97,75,69,69,86,64,65,65,93,84,82,86,93,82,77,105,83,78,65,60,69,103,96,83,61,72,89,73,82,70,78,62,78,85,58,67,89,86,97,80,90,79,73,63,84,71,58,97,72,96,91,79,71,81,72,66,57,77,76,84,67,64,84,56,68,69,85,65,66,89,59,69,86,66,79,66,62,56,77,90,65,73,86,70,74,81,72,103,70,76,85,86,72,67,90,69,75,77,62,65,93,91,84,62,72,57,63,59,62,77,47,85,88,89,76,71,73,80,70,67,88,67,73,77,77,80,91,71,75,75,67,61,55,87,57,70,52,75,92,80,92,74,83,111,85,79,55,47,64,89,66,53,112,62,79,84,75,78,77,48,81,91,66,55,81,72,74,106,76,74,72,85,96,77,57,72,82,61,54,68,64,79,76,77,77,65,68,85,75,91,89,75,86,75,89,62,67,62,61,76,81,77,63,84,83,69,103,97,56,86,61,81,98,62,76,81,91,101,74,67,76,71,97,82,71,97,86,66,82,68,74,79,68,89,97,88,89,66,54,57,52,95,59,63,61,91,78,59,87,81,67,52,57,95,72,76,41,84,71,83,68,74,74,77,86,63,55,105,70,76,68,81,73,74,66,85,51,68,59,84,62,67,75,73,70,89,66,56,84,76,72,74,65,61,70,101,71,97,55,82,78,67,70,50,86,61,94,77,83,71,72,95,67,63,98,87,101,61,61,81,69,57,72,76,69,82,79,79,89,74,69,86,99,76,79,72,87,73,88,81,85,75,119,55,57,91,80,97,80,66,78,83,71,86,91,82,81,73,49,80,82,93,76,62,77,60,55,90,51,88,71,55,63,71,65,79,71,91,81,69,79,53,67,78,89,70,64,70,90,93,73,82,103,80,67,87,87,82,93,74,74,77,74,72,72,100,67,72,79,79,61,75,69,62,70,63,83,87,85,100,78,87,66,75,73,64,66,50,103,69,74,85,76,71,68,82,92,55,90,79,73,88,70,52,76,67,78,82,77,58,63,72,84,80,86,97,61,85,74,82,76,104,61,63,79,62,81,69,72,71,68,72,99,60,83,60,78,77,67,77,79,57,98,76,90,81,75,59,95,77,93,75,73,78,66,68,93,67,68,52],\"xaxis\":\"x\",\"y\":[130,133,136,132,126,119,146,123,132,137,128,133,122,142,112,126,123,124,126,105,116,128,122,132,111,120,137,128,124,107,130,117,128,135,106,120,124,141,123,144,138,133,126,123,117,109,124,130,121,150,128,134,137,123,136,131,130,142,116,130,121,116,127,118,119,128,129,129,119,136,119,142,131,124,126,127,130,114,123,118,128,118,120,122,128,124,133,122,133,125,139,130,130,138,116,146,131,121,128,129,130,126,132,124,127,116,125,130,137,119,123,135,114,133,112,129,100,137,129,130,112,117,118,122,134,124,124,120,121,128,131,118,109,126,116,113,132,119,125,123,137,137,123,122,128,130,114,126,115,124,133,134,131,126,120,118,114,115,121,127,136,141,116,126,141,131,129,145,134,135,138,131,122,129,121,130,128,132,134,119,113,146,142,122,124,121,121,136,113,130,124,113,119,107,135,134,139,126,128,121,122,121,119,147,127,124,128,127,106,130,123,124,115,122,136,129,143,128,122,116,112,121,113,113,133,151,112,115,152,133,148,141,127,143,117,139,126,128,120,113,119,137,137,125,135,136,124,123,139,134,132,100,117,129,126,118,108,135,120,123,126,128,123,142,140,119,122,134,115,138,112,112,120,111,110,108,119,131,122,122,120,109,121,126,119,133,121,132,136,118,112,126,121,119,106,138,124,120,116,123,119,128,108,136,130,113,134,116,118,105,136,125,120,117,125,132,132,132,123,128,127,131,132,114,139,118,128,143,145,133,115,132,131,127,140,143,132,116,129,116,149,108,143,120,120,125,116,124,136,120,111,127,119,145,125,121,135,135,130,125,142,134,118,132,126,119,124,107,133,127,132,119,102,117,123,115,121,130,127,113,131,113,137,130,130,125,134,117,133,113,140,123,120,131,118,132,135,144,123,135,127,120,126,127,131,133,117,125,119,103,130,136,109,112,110,113,133,117,129,133,130,144,111,121,130,122,116,125,142,131,131,142,127,128,115,115,121,129,123,149,133,137,126,115,128,130,123,123,124,108,123,124,117,119,120,125,128,136,135,120,119,128,126,116,146,141,124,149,111,120,124,143,128,124,109,126,101,115,125,135,128,118,140,121,133,127,125,124,132,128,113,120,117,134,119,123,121,111,137,127],\"yaxis\":\"y\",\"type\":\"scatter\"}],                        {\"template\":{\"data\":{\"histogram2dcontour\":[{\"type\":\"histogram2dcontour\",\"colorbar\":{\"outlinewidth\":0,\"ticks\":\"\"},\"colorscale\":[[0.0,\"#0d0887\"],[0.1111111111111111,\"#46039f\"],[0.2222222222222222,\"#7201a8\"],[0.3333333333333333,\"#9c179e\"],[0.4444444444444444,\"#bd3786\"],[0.5555555555555556,\"#d8576b\"],[0.6666666666666666,\"#ed7953\"],[0.7777777777777778,\"#fb9f3a\"],[0.8888888888888888,\"#fdca26\"],[1.0,\"#f0f921\"]]}],\"choropleth\":[{\"type\":\"choropleth\",\"colorbar\":{\"outlinewidth\":0,\"ticks\":\"\"}}],\"histogram2d\":[{\"type\":\"histogram2d\",\"colorbar\":{\"outlinewidth\":0,\"ticks\":\"\"},\"colorscale\":[[0.0,\"#0d0887\"],[0.1111111111111111,\"#46039f\"],[0.2222222222222222,\"#7201a8\"],[0.3333333333333333,\"#9c179e\"],[0.4444444444444444,\"#bd3786\"],[0.5555555555555556,\"#d8576b\"],[0.6666666666666666,\"#ed7953\"],[0.7777777777777778,\"#fb9f3a\"],[0.8888888888888888,\"#fdca26\"],[1.0,\"#f0f921\"]]}],\"heatmap\":[{\"type\":\"heatmap\",\"colorbar\":{\"outlinewidth\":0,\"ticks\":\"\"},\"colorscale\":[[0.0,\"#0d0887\"],[0.1111111111111111,\"#46039f\"],[0.2222222222222222,\"#7201a8\"],[0.3333333333333333,\"#9c179e\"],[0.4444444444444444,\"#bd3786\"],[0.5555555555555556,\"#d8576b\"],[0.6666666666666666,\"#ed7953\"],[0.7777777777777778,\"#fb9f3a\"],[0.8888888888888888,\"#fdca26\"],[1.0,\"#f0f921\"]]}],\"heatmapgl\":[{\"type\":\"heatmapgl\",\"colorbar\":{\"outlinewidth\":0,\"ticks\":\"\"},\"colorscale\":[[0.0,\"#0d0887\"],[0.1111111111111111,\"#46039f\"],[0.2222222222222222,\"#7201a8\"],[0.3333333333333333,\"#9c179e\"],[0.4444444444444444,\"#bd3786\"],[0.5555555555555556,\"#d8576b\"],[0.6666666666666666,\"#ed7953\"],[0.7777777777777778,\"#fb9f3a\"],[0.8888888888888888,\"#fdca26\"],[1.0,\"#f0f921\"]]}],\"contourcarpet\":[{\"type\":\"contourcarpet\",\"colorbar\":{\"outlinewidth\":0,\"ticks\":\"\"}}],\"contour\":[{\"type\":\"contour\",\"colorbar\":{\"outlinewidth\":0,\"ticks\":\"\"},\"colorscale\":[[0.0,\"#0d0887\"],[0.1111111111111111,\"#46039f\"],[0.2222222222222222,\"#7201a8\"],[0.3333333333333333,\"#9c179e\"],[0.4444444444444444,\"#bd3786\"],[0.5555555555555556,\"#d8576b\"],[0.6666666666666666,\"#ed7953\"],[0.7777777777777778,\"#fb9f3a\"],[0.8888888888888888,\"#fdca26\"],[1.0,\"#f0f921\"]]}],\"surface\":[{\"type\":\"surface\",\"colorbar\":{\"outlinewidth\":0,\"ticks\":\"\"},\"colorscale\":[[0.0,\"#0d0887\"],[0.1111111111111111,\"#46039f\"],[0.2222222222222222,\"#7201a8\"],[0.3333333333333333,\"#9c179e\"],[0.4444444444444444,\"#bd3786\"],[0.5555555555555556,\"#d8576b\"],[0.6666666666666666,\"#ed7953\"],[0.7777777777777778,\"#fb9f3a\"],[0.8888888888888888,\"#fdca26\"],[1.0,\"#f0f921\"]]}],\"mesh3d\":[{\"type\":\"mesh3d\",\"colorbar\":{\"outlinewidth\":0,\"ticks\":\"\"}}],\"scatter\":[{\"fillpattern\":{\"fillmode\":\"overlay\",\"size\":10,\"solidity\":0.2},\"type\":\"scatter\"}],\"parcoords\":[{\"type\":\"parcoords\",\"line\":{\"colorbar\":{\"outlinewidth\":0,\"ticks\":\"\"}}}],\"scatterpolargl\":[{\"type\":\"scatterpolargl\",\"marker\":{\"colorbar\":{\"outlinewidth\":0,\"ticks\":\"\"}}}],\"bar\":[{\"error_x\":{\"color\":\"#2a3f5f\"},\"error_y\":{\"color\":\"#2a3f5f\"},\"marker\":{\"line\":{\"color\":\"#E5ECF6\",\"width\":0.5},\"pattern\":{\"fillmode\":\"overlay\",\"size\":10,\"solidity\":0.2}},\"type\":\"bar\"}],\"scattergeo\":[{\"type\":\"scattergeo\",\"marker\":{\"colorbar\":{\"outlinewidth\":0,\"ticks\":\"\"}}}],\"scatterpolar\":[{\"type\":\"scatterpolar\",\"marker\":{\"colorbar\":{\"outlinewidth\":0,\"ticks\":\"\"}}}],\"histogram\":[{\"marker\":{\"pattern\":{\"fillmode\":\"overlay\",\"size\":10,\"solidity\":0.2}},\"type\":\"histogram\"}],\"scattergl\":[{\"type\":\"scattergl\",\"marker\":{\"colorbar\":{\"outlinewidth\":0,\"ticks\":\"\"}}}],\"scatter3d\":[{\"type\":\"scatter3d\",\"line\":{\"colorbar\":{\"outlinewidth\":0,\"ticks\":\"\"}},\"marker\":{\"colorbar\":{\"outlinewidth\":0,\"ticks\":\"\"}}}],\"scattermapbox\":[{\"type\":\"scattermapbox\",\"marker\":{\"colorbar\":{\"outlinewidth\":0,\"ticks\":\"\"}}}],\"scatterternary\":[{\"type\":\"scatterternary\",\"marker\":{\"colorbar\":{\"outlinewidth\":0,\"ticks\":\"\"}}}],\"scattercarpet\":[{\"type\":\"scattercarpet\",\"marker\":{\"colorbar\":{\"outlinewidth\":0,\"ticks\":\"\"}}}],\"carpet\":[{\"aaxis\":{\"endlinecolor\":\"#2a3f5f\",\"gridcolor\":\"white\",\"linecolor\":\"white\",\"minorgridcolor\":\"white\",\"startlinecolor\":\"#2a3f5f\"},\"baxis\":{\"endlinecolor\":\"#2a3f5f\",\"gridcolor\":\"white\",\"linecolor\":\"white\",\"minorgridcolor\":\"white\",\"startlinecolor\":\"#2a3f5f\"},\"type\":\"carpet\"}],\"table\":[{\"cells\":{\"fill\":{\"color\":\"#EBF0F8\"},\"line\":{\"color\":\"white\"}},\"header\":{\"fill\":{\"color\":\"#C8D4E3\"},\"line\":{\"color\":\"white\"}},\"type\":\"table\"}],\"barpolar\":[{\"marker\":{\"line\":{\"color\":\"#E5ECF6\",\"width\":0.5},\"pattern\":{\"fillmode\":\"overlay\",\"size\":10,\"solidity\":0.2}},\"type\":\"barpolar\"}],\"pie\":[{\"automargin\":true,\"type\":\"pie\"}]},\"layout\":{\"autotypenumbers\":\"strict\",\"colorway\":[\"#636efa\",\"#EF553B\",\"#00cc96\",\"#ab63fa\",\"#FFA15A\",\"#19d3f3\",\"#FF6692\",\"#B6E880\",\"#FF97FF\",\"#FECB52\"],\"font\":{\"color\":\"#2a3f5f\"},\"hovermode\":\"closest\",\"hoverlabel\":{\"align\":\"left\"},\"paper_bgcolor\":\"white\",\"plot_bgcolor\":\"#E5ECF6\",\"polar\":{\"bgcolor\":\"#E5ECF6\",\"angularaxis\":{\"gridcolor\":\"white\",\"linecolor\":\"white\",\"ticks\":\"\"},\"radialaxis\":{\"gridcolor\":\"white\",\"linecolor\":\"white\",\"ticks\":\"\"}},\"ternary\":{\"bgcolor\":\"#E5ECF6\",\"aaxis\":{\"gridcolor\":\"white\",\"linecolor\":\"white\",\"ticks\":\"\"},\"baxis\":{\"gridcolor\":\"white\",\"linecolor\":\"white\",\"ticks\":\"\"},\"caxis\":{\"gridcolor\":\"white\",\"linecolor\":\"white\",\"ticks\":\"\"}},\"coloraxis\":{\"colorbar\":{\"outlinewidth\":0,\"ticks\":\"\"}},\"colorscale\":{\"sequential\":[[0.0,\"#0d0887\"],[0.1111111111111111,\"#46039f\"],[0.2222222222222222,\"#7201a8\"],[0.3333333333333333,\"#9c179e\"],[0.4444444444444444,\"#bd3786\"],[0.5555555555555556,\"#d8576b\"],[0.6666666666666666,\"#ed7953\"],[0.7777777777777778,\"#fb9f3a\"],[0.8888888888888888,\"#fdca26\"],[1.0,\"#f0f921\"]],\"sequentialminus\":[[0.0,\"#0d0887\"],[0.1111111111111111,\"#46039f\"],[0.2222222222222222,\"#7201a8\"],[0.3333333333333333,\"#9c179e\"],[0.4444444444444444,\"#bd3786\"],[0.5555555555555556,\"#d8576b\"],[0.6666666666666666,\"#ed7953\"],[0.7777777777777778,\"#fb9f3a\"],[0.8888888888888888,\"#fdca26\"],[1.0,\"#f0f921\"]],\"diverging\":[[0,\"#8e0152\"],[0.1,\"#c51b7d\"],[0.2,\"#de77ae\"],[0.3,\"#f1b6da\"],[0.4,\"#fde0ef\"],[0.5,\"#f7f7f7\"],[0.6,\"#e6f5d0\"],[0.7,\"#b8e186\"],[0.8,\"#7fbc41\"],[0.9,\"#4d9221\"],[1,\"#276419\"]]},\"xaxis\":{\"gridcolor\":\"white\",\"linecolor\":\"white\",\"ticks\":\"\",\"title\":{\"standoff\":15},\"zerolinecolor\":\"white\",\"automargin\":true,\"zerolinewidth\":2},\"yaxis\":{\"gridcolor\":\"white\",\"linecolor\":\"white\",\"ticks\":\"\",\"title\":{\"standoff\":15},\"zerolinecolor\":\"white\",\"automargin\":true,\"zerolinewidth\":2},\"scene\":{\"xaxis\":{\"backgroundcolor\":\"#E5ECF6\",\"gridcolor\":\"white\",\"linecolor\":\"white\",\"showbackground\":true,\"ticks\":\"\",\"zerolinecolor\":\"white\",\"gridwidth\":2},\"yaxis\":{\"backgroundcolor\":\"#E5ECF6\",\"gridcolor\":\"white\",\"linecolor\":\"white\",\"showbackground\":true,\"ticks\":\"\",\"zerolinecolor\":\"white\",\"gridwidth\":2},\"zaxis\":{\"backgroundcolor\":\"#E5ECF6\",\"gridcolor\":\"white\",\"linecolor\":\"white\",\"showbackground\":true,\"ticks\":\"\",\"zerolinecolor\":\"white\",\"gridwidth\":2}},\"shapedefaults\":{\"line\":{\"color\":\"#2a3f5f\"}},\"annotationdefaults\":{\"arrowcolor\":\"#2a3f5f\",\"arrowhead\":0,\"arrowwidth\":1},\"geo\":{\"bgcolor\":\"white\",\"landcolor\":\"#E5ECF6\",\"subunitcolor\":\"white\",\"showland\":true,\"showlakes\":true,\"lakecolor\":\"white\"},\"title\":{\"x\":0.05},\"mapbox\":{\"style\":\"light\"}}},\"xaxis\":{\"anchor\":\"y\",\"domain\":[0.0,1.0],\"title\":{\"text\":\"num_products\"}},\"yaxis\":{\"anchor\":\"x\",\"domain\":[0.0,1.0],\"title\":{\"text\":\"num_features\"}},\"coloraxis\":{\"colorbar\":{\"title\":{\"text\":\"score\"}},\"colorscale\":[[0.0,\"#0d0887\"],[0.1111111111111111,\"#46039f\"],[0.2222222222222222,\"#7201a8\"],[0.3333333333333333,\"#9c179e\"],[0.4444444444444444,\"#bd3786\"],[0.5555555555555556,\"#d8576b\"],[0.6666666666666666,\"#ed7953\"],[0.7777777777777778,\"#fb9f3a\"],[0.8888888888888888,\"#fdca26\"],[1.0,\"#f0f921\"]]},\"legend\":{\"tracegroupgap\":0},\"margin\":{\"t\":60}},                        {\"responsive\": true}                    ).then(function(){\n",
       "                            \n",
       "var gd = document.getElementById('605693f9-647c-4e66-8e9c-ddade43c5cf6');\n",
       "var x = new MutationObserver(function (mutations, observer) {{\n",
       "        var display = window.getComputedStyle(gd).display;\n",
       "        if (!display || display === 'none') {{\n",
       "            console.log([gd, 'removed!']);\n",
       "            Plotly.purge(gd);\n",
       "            observer.disconnect();\n",
       "        }}\n",
       "}});\n",
       "\n",
       "// Listen for the removal of the full notebook cells\n",
       "var notebookContainer = gd.closest('#notebook-container');\n",
       "if (notebookContainer) {{\n",
       "    x.observe(notebookContainer, {childList: true});\n",
       "}}\n",
       "\n",
       "// Listen for the clearing of the current output cell\n",
       "var outputEl = gd.closest('.output');\n",
       "if (outputEl) {{\n",
       "    x.observe(outputEl, {childList: true});\n",
       "}}\n",
       "\n",
       "                        })                };                });            </script>        </div>"
      ]
     },
     "metadata": {},
     "output_type": "display_data"
    }
   ],
   "source": [
    "px.scatter(plot_data, x='num_products', y='num_features', color='score', hover_data=plot_data[0].keys(), text='label')"
   ]
  },
  {
   "cell_type": "code",
   "execution_count": 45,
   "id": "2ef2ad55-611d-404a-8bd9-ac1cdc6499e8",
   "metadata": {},
   "outputs": [
    {
     "data": {
      "application/vnd.plotly.v1+json": {
       "config": {
        "plotlyServerURL": "https://plot.ly"
       },
       "data": [
        {
         "customdata": [
          [
           "BBS_AMU",
           0.8338160218351284,
           "BBS_AMU",
           13,
           52,
           130
          ],
          [
           "BBS_AIF",
           0.6931483821376148,
           "",
           12,
           49,
           133
          ],
          [
           "BBS_AJX",
           0.7271126042127913,
           "",
           12,
           52,
           136
          ],
          [
           "BBS_ANK",
           0.6423880308555487,
           "",
           12,
           49,
           132
          ],
          [
           "BBS_AHH",
           0.6691364247140166,
           "",
           13,
           52,
           126
          ],
          [
           "BBS_AOE",
           0.20491223089859112,
           "",
           8,
           48,
           119
          ],
          [
           "BBS_AKV",
           0.60159141346472,
           "",
           9,
           50,
           146
          ],
          [
           "BBS_AHD",
           0.3546712506587384,
           "",
           10,
           46,
           123
          ],
          [
           "BBS_ALW",
           0.6226085695332337,
           "",
           11,
           49,
           132
          ],
          [
           "BBS_AOI",
           0.5387130018147482,
           "",
           8,
           52,
           137
          ],
          [
           "BBS_AKZ",
           0.5376765787135449,
           "",
           10,
           48,
           128
          ],
          [
           "BBS_AMY",
           0.6682324169347296,
           "",
           11,
           50,
           133
          ],
          [
           "BBS_AIJ",
           0.4063561307051367,
           "",
           10,
           48,
           122
          ],
          [
           "BBS_AJT",
           0.47609922424839823,
           "",
           9,
           47,
           142
          ],
          [
           "BBS_ANG",
           0.3600866352741231,
           "",
           10,
           46,
           112
          ],
          [
           "BBS_AOQ",
           0.3978372730369394,
           "",
           9,
           47,
           126
          ],
          [
           "BBS_AKB",
           0.31306366659573603,
           "",
           6,
           46,
           123
          ],
          [
           "BBS_ALO",
           0.4297381004881694,
           "",
           10,
           49,
           124
          ],
          [
           "BBS_AJL",
           0.38985281316966325,
           "",
           9,
           50,
           126
          ],
          [
           "BBS_AMA",
           0.2553177170016278,
           "",
           10,
           45,
           105
          ],
          [
           "BBS_AIR",
           0.3468977901635394,
           "",
           10,
           44,
           116
          ],
          [
           "BBS_ANS",
           0.5173290609135437,
           "",
           11,
           47,
           128
          ],
          [
           "BBS_AMM",
           0.3657402298226767,
           "",
           9,
           47,
           122
          ],
          [
           "BBS_AKN",
           0.6303356707079112,
           "",
           12,
           47,
           132
          ],
          [
           "BBS_AHP",
           0.381703016139857,
           "",
           10,
           49,
           111
          ],
          [
           "BBS_ALC",
           0.24209652740973525,
           "",
           8,
           46,
           120
          ],
          [
           "BBS_AAD",
           0.7720753143570367,
           "",
           11,
           51,
           137
          ],
          [
           "BBS_AEW",
           0.3753337896539513,
           "",
           8,
           47,
           128
          ],
          [
           "BBS_ARK",
           0.4082567885020934,
           "",
           9,
           49,
           124
          ],
          [
           "BBS_AFI",
           0.3660856215342989,
           "",
           12,
           41,
           107
          ],
          [
           "BBS_ABZ",
           0.3213387850878184,
           "",
           8,
           47,
           130
          ],
          [
           "BBS_AQU",
           0.35979221102977826,
           "",
           11,
           45,
           117
          ],
          [
           "BBS_ASE",
           0.6185820990510222,
           "",
           11,
           50,
           128
          ],
          [
           "BBS_ADY",
           0.6009994119694005,
           "",
           12,
           48,
           135
          ],
          [
           "BBS_ACT",
           0.37834262767030585,
           "",
           11,
           47,
           106
          ],
          [
           "BBS_AGG",
           0.5093347718570553,
           "",
           14,
           48,
           120
          ],
          [
           "BBS_ADU",
           0.5983974845124449,
           "",
           13,
           49,
           124
          ],
          [
           "BBS_ASI",
           0.7718541326517865,
           "",
           11,
           51,
           141
          ],
          [
           "BBS_ACX",
           0.5143493036165377,
           "",
           11,
           47,
           123
          ],
          [
           "BBS_AGK",
           0.6049950688250705,
           "",
           9,
           51,
           144
          ],
          [
           "BBS_ATD",
           0.7025828904257642,
           "",
           10,
           52,
           138
          ],
          [
           "BBS_APW",
           0.5255603678060463,
           "",
           7,
           52,
           133
          ],
          [
           "BBS_ARG",
           0.49291823521588884,
           "",
           11,
           48,
           126
          ],
          [
           "BBS_AAH",
           0.32109142259746226,
           "",
           9,
           46,
           123
          ],
          [
           "BBS_AQY",
           0.3098312337066373,
           "",
           10,
           46,
           117
          ],
          [
           "BBS_AFE",
           0.3193281148108439,
           "",
           13,
           46,
           109
          ],
          [
           "BBS_ABV",
           0.3831060183311031,
           "",
           11,
           47,
           124
          ],
          [
           "BBS_APO",
           0.5078666490465646,
           "",
           9,
           49,
           130
          ],
          [
           "BBS_AGS",
           0.4774272769011202,
           "",
           12,
           47,
           121
          ],
          [
           "BBS_ASQ",
           0.795244607988921,
           "",
           12,
           55,
           150
          ],
          [
           "BBS_ADM",
           0.5283883031385294,
           "",
           11,
           47,
           128
          ],
          [
           "BBS_ABN",
           0.5759826724314556,
           "",
           9,
           52,
           134
          ],
          [
           "BBS_AQA",
           0.6111397208380966,
           "",
           10,
           50,
           137
          ],
          [
           "BBS_AAP",
           0.49294314371941755,
           "",
           12,
           46,
           123
          ],
          [
           "BBS_AEC",
           0.683500071698444,
           "",
           11,
           49,
           136
          ],
          [
           "BBS_AQM",
           0.39502991671549487,
           "",
           8,
           50,
           131
          ],
          [
           "BBS_AFQ",
           0.6926961391051509,
           "",
           13,
           50,
           130
          ],
          [
           "BBS_ABB",
           0.7903434035202929,
           "",
           11,
           52,
           142
          ],
          [
           "BBS_ARS",
           0.46062083548365335,
           "",
           11,
           49,
           116
          ],
          [
           "BBS_AEO",
           0.44706805432732516,
           "",
           7,
           49,
           130
          ],
          [
           "BBS_ACL",
           0.40535093560191643,
           "",
           11,
           46,
           121
          ],
          [
           "BBS_APC",
           0.29396362218278793,
           "",
           10,
           46,
           116
          ],
          [
           "BBS_ADA",
           0.556196560273036,
           "",
           10,
           50,
           127
          ],
          [
           "BBS_AAJ",
           0.33641452528189586,
           "",
           10,
           46,
           118
          ],
          [
           "BBS_AEY",
           0.4773760497850833,
           "",
           12,
           47,
           119
          ],
          [
           "BBS_ARE",
           0.3809070793919716,
           "",
           10,
           48,
           128
          ],
          [
           "BBS_AFG",
           0.6394734354614197,
           "",
           9,
           50,
           129
          ],
          [
           "BBS_ABT",
           0.398893389393741,
           "",
           9,
           48,
           129
          ],
          [
           "BBS_ASK",
           0.4651651407152444,
           "",
           14,
           45,
           119
          ],
          [
           "BBS_ADW",
           0.6074352845838047,
           "",
           9,
           51,
           136
          ],
          [
           "BBS_ATF",
           0.4790101421149764,
           "",
           10,
           52,
           119
          ],
          [
           "BBS_APU",
           0.5865917382629009,
           "",
           10,
           50,
           142
          ],
          [
           "BBS_ACZ",
           0.4598837410598881,
           "",
           9,
           48,
           131
          ],
          [
           "BBS_AGI",
           0.28335387404721013,
           "",
           8,
           49,
           124
          ],
          [
           "BBS_ASG",
           0.46153115106983006,
           "",
           11,
           48,
           126
          ],
          [
           "BBS_ACV",
           0.3654844503686447,
           "",
           10,
           47,
           127
          ],
          [
           "BBS_AGE",
           0.4750170549481041,
           "",
           10,
           48,
           130
          ],
          [
           "BBS_APY",
           0.2863138923926945,
           "",
           10,
           45,
           114
          ],
          [
           "BBS_ARI",
           0.4310066547954353,
           "",
           11,
           46,
           123
          ],
          [
           "BBS_AAF",
           0.35457070680324054,
           "",
           10,
           47,
           118
          ],
          [
           "BBS_AEU",
           0.4098684991368885,
           "",
           10,
           49,
           128
          ],
          [
           "BBS_AQW",
           0.3671074993667778,
           "",
           10,
           45,
           118
          ],
          [
           "BBS_AFK",
           0.47430164770396016,
           "",
           11,
           47,
           120
          ],
          [
           "BBS_ABX",
           0.33093719719323533,
           "",
           9,
           48,
           122
          ],
          [
           "BBS_APA",
           0.5361833124116562,
           "",
           11,
           49,
           128
          ],
          [
           "BBS_ACN",
           0.550314745790453,
           "",
           11,
           49,
           124
          ],
          [
           "BBS_ADC",
           0.41312754463092466,
           "",
           7,
           49,
           133
          ],
          [
           "BBS_AFS",
           0.47140555963138847,
           "",
           11,
           48,
           122
          ],
          [
           "BBS_AQO",
           0.5552792053384117,
           "",
           9,
           50,
           133
          ],
          [
           "BBS_AEM",
           0.41748212522225864,
           "",
           9,
           47,
           125
          ],
          [
           "BBS_ARQ",
           0.8723884048049193,
           "BBS_ARQ",
           13,
           52,
           139
          ],
          [
           "BBS_AQC",
           0.6328137988835913,
           "",
           11,
           49,
           130
          ],
          [
           "BBS_ABL",
           0.5588638072373243,
           "",
           11,
           47,
           130
          ],
          [
           "BBS_AAR",
           0.5627949445007518,
           "",
           8,
           52,
           138
          ],
          [
           "BBS_AEA",
           0.2935312358063368,
           "",
           9,
           45,
           116
          ],
          [
           "BBS_ACB",
           0.672908717963239,
           "",
           10,
           51,
           146
          ],
          [
           "BBS_AGQ",
           0.596813310517517,
           "",
           10,
           51,
           131
          ],
          [
           "BBS_APM",
           0.44350737478375346,
           "",
           12,
           46,
           121
          ],
          [
           "BBS_ADO",
           0.5505391699416861,
           "",
           11,
           49,
           128
          ],
          [
           "BBS_ASS",
           0.5120326036510877,
           "",
           10,
           50,
           129
          ],
          [
           "BBS_AIH",
           0.795873578266816,
           "",
           13,
           52,
           130
          ],
          [
           "BBS_AJV",
           0.6376729612212793,
           "",
           13,
           47,
           126
          ],
          [
           "BBS_ANE",
           0.5428690482235543,
           "",
           9,
           50,
           132
          ],
          [
           "BBS_AHF",
           0.3432089721275225,
           "",
           8,
           49,
           124
          ],
          [
           "BBS_ALU",
           0.6111058499173627,
           "",
           12,
           47,
           127
          ],
          [
           "BBS_AOK",
           0.4043284396530321,
           "",
           12,
           45,
           116
          ],
          [
           "BBS_AKX",
           0.5307570721458335,
           "",
           12,
           47,
           125
          ],
          [
           "BBS_AHJ",
           0.4533238744495979,
           "",
           11,
           47,
           130
          ],
          [
           "BBS_ALY",
           0.5578596335030857,
           "",
           9,
           54,
           137
          ],
          [
           "BBS_AOG",
           0.5739593025512048,
           "",
           12,
           49,
           119
          ],
          [
           "BBS_AKT",
           0.5189552989270957,
           "",
           11,
           49,
           123
          ],
          [
           "BBS_AMW",
           0.5165446536229844,
           "",
           9,
           49,
           135
          ],
          [
           "BBS_AID",
           0.4992185865109846,
           "",
           11,
           49,
           114
          ],
          [
           "BBS_AJZ",
           0.5755765285481986,
           "",
           11,
           48,
           133
          ],
          [
           "BBS_ANI",
           0.28071531808208017,
           "",
           10,
           45,
           112
          ],
          [
           "BBS_AKL",
           0.5820412609760395,
           "",
           12,
           47,
           129
          ],
          [
           "BBS_AHR",
           0.38670398710790005,
           "",
           11,
           46,
           100
          ],
          [
           "BBS_ALA",
           0.7408055461977902,
           "",
           12,
           51,
           137
          ],
          [
           "BBS_AJB",
           0.5861665899249058,
           "",
           9,
           52,
           129
          ],
          [
           "BBS_ANQ",
           0.5617725694737925,
           "",
           10,
           50,
           130
          ],
          [
           "BBS_AMO",
           0.4842340310750909,
           "",
           13,
           46,
           112
          ],
          [
           "BBS_AJN",
           0.26907705324824344,
           "",
           9,
           49,
           117
          ],
          [
           "BBS_AMC",
           0.4486750987570098,
           "",
           11,
           48,
           118
          ],
          [
           "BBS_AIP",
           0.3898534721910018,
           "",
           10,
           48,
           122
          ],
          [
           "BBS_AOS",
           0.5332401453551509,
           "",
           10,
           50,
           134
          ],
          [
           "BBS_ALM",
           0.3229083616634845,
           "",
           9,
           48,
           124
          ],
          [
           "BBS_ARY",
           0.4697394062734402,
           "",
           8,
           51,
           124
          ],
          [
           "BBS_AAV",
           0.33997419363092946,
           "",
           10,
           49,
           120
          ],
          [
           "BBS_AEE",
           0.46184038858013327,
           "",
           11,
           49,
           121
          ],
          [
           "BBS_AQG",
           0.5711014699637226,
           "",
           11,
           47,
           128
          ],
          [
           "BBS_ABH",
           0.4316771609770975,
           "",
           8,
           47,
           131
          ],
          [
           "BBS_ADK",
           0.4494652930142236,
           "",
           13,
           46,
           118
          ],
          [
           "BBS_ASW",
           0.38402477020768366,
           "",
           12,
           46,
           109
          ],
          [
           "BBS_ACF",
           0.3700230302514883,
           "",
           8,
           48,
           126
          ],
          [
           "BBS_AGU",
           0.43515590161420853,
           "",
           12,
           48,
           116
          ],
          [
           "BBS_API",
           0.2906693423034322,
           "",
           10,
           47,
           113
          ],
          [
           "BBS_ADG",
           0.4906661564477197,
           "",
           9,
           49,
           132
          ],
          [
           "BBS_APE",
           0.5248063605200574,
           "",
           12,
           49,
           119
          ],
          [
           "BBS_ACJ",
           0.3329411210627831,
           "",
           7,
           46,
           125
          ],
          [
           "BBS_AGY",
           0.4430777488089753,
           "",
           9,
           49,
           123
          ],
          [
           "BBS_AAZ",
           0.7255964335083077,
           "",
           10,
           53,
           137
          ],
          [
           "BBS_AEI",
           0.5517905202753635,
           "",
           10,
           50,
           137
          ],
          [
           "BBS_ARU",
           0.4649470983504607,
           "",
           11,
           48,
           123
          ],
          [
           "BBS_AFW",
           0.34517407020808083,
           "",
           9,
           46,
           122
          ],
          [
           "BBS_ABD",
           0.5655596966707356,
           "",
           11,
           49,
           128
          ],
          [
           "BBS_AQK",
           0.550559655690995,
           "",
           10,
           51,
           130
          ],
          [
           "BBS_ACR",
           0.23462114794205988,
           "",
           10,
           43,
           114
          ],
          [
           "BBS_AGA",
           0.5066427479099731,
           "",
           10,
           50,
           126
          ],
          [
           "BBS_ASC",
           0.2795856414994041,
           "",
           8,
           49,
           115
          ],
          [
           "BBS_AQS",
           0.39937031327401823,
           "",
           9,
           48,
           124
          ],
          [
           "BBS_AFO",
           0.6326255134534606,
           "",
           11,
           50,
           133
          ],
          [
           "BBS_ARM",
           0.5868865186176568,
           "",
           11,
           49,
           134
          ],
          [
           "BBS_AAB",
           0.6307529131079411,
           "",
           11,
           50,
           131
          ],
          [
           "BBS_AEQ",
           0.48407287545989136,
           "",
           11,
           48,
           126
          ],
          [
           "BBS_AFC",
           0.4012801293522135,
           "",
           10,
           47,
           120
          ],
          [
           "BBS_ABP",
           0.26596075159658,
           "",
           7,
           48,
           118
          ],
          [
           "BBS_AAN",
           0.30269413447645116,
           "",
           10,
           45,
           114
          ],
          [
           "BBS_ARA",
           0.2898023786805681,
           "",
           9,
           47,
           115
          ],
          [
           "BBS_ATB",
           0.3158121116099874,
           "",
           10,
           48,
           121
          ],
          [
           "BBS_APQ",
           0.45728230032305484,
           "",
           9,
           49,
           127
          ],
          [
           "BBS_AGM",
           0.6269961554255447,
           "",
           11,
           48,
           136
          ],
          [
           "BBS_ASO",
           0.5859668159301226,
           "",
           11,
           48,
           141
          ],
          [
           "BBS_ADS",
           0.3693015856954179,
           "",
           11,
           48,
           116
          ],
          [
           "BBS_AMG",
           0.45577681694089067,
           "",
           10,
           49,
           126
          ],
          [
           "BBS_AIT",
           0.5846799777543444,
           "",
           9,
           56,
           141
          ],
          [
           "BBS_AJJ",
           0.525980083424366,
           "",
           10,
           49,
           131
          ],
          [
           "BBS_ANY",
           0.4577240282724881,
           "",
           11,
           46,
           129
          ],
          [
           "BBS_AHZ",
           0.6992662209910866,
           "",
           11,
           49,
           145
          ],
          [
           "BBS_ALI",
           0.5366939972959961,
           "",
           9,
           50,
           134
          ],
          [
           "BBS_AOW",
           0.6611925343072372,
           "",
           12,
           50,
           135
          ],
          [
           "BBS_AKD",
           0.44923563894785484,
           "",
           10,
           48,
           138
          ],
          [
           "BBS_AHV",
           0.404540977525305,
           "",
           9,
           47,
           131
          ],
          [
           "BBS_ALE",
           0.3923492492904955,
           "",
           10,
           47,
           122
          ],
          [
           "BBS_AKH",
           0.45075834660054115,
           "",
           8,
           52,
           129
          ],
          [
           "BBS_AMK",
           0.27449545399316516,
           "",
           7,
           49,
           121
          ],
          [
           "BBS_AIX",
           0.6179217985504196,
           "",
           12,
           47,
           130
          ],
          [
           "BBS_AJF",
           0.6113070718226348,
           "",
           11,
           48,
           128
          ],
          [
           "BBS_ANU",
           0.48369166717397666,
           "",
           9,
           53,
           132
          ],
          [
           "BBS_AOC",
           0.5440262763791389,
           "",
           9,
           50,
           134
          ],
          [
           "BBS_AKP",
           0.26251331105518727,
           "",
           9,
           46,
           119
          ],
          [
           "BBS_AHN",
           0.230002990609027,
           "",
           10,
           46,
           113
          ],
          [
           "BBS_ANM",
           0.7057395243025347,
           "",
           10,
           50,
           146
          ],
          [
           "BBS_AMS",
           0.8220698802805205,
           "BBS_AMS",
           12,
           51,
           142
          ],
          [
           "BBS_AJR",
           0.5693663222486898,
           "",
           12,
           47,
           122
          ],
          [
           "BBS_ANA",
           0.26898892877357233,
           "",
           9,
           46,
           124
          ],
          [
           "BBS_AIL",
           0.4415157055896598,
           "",
           11,
           47,
           121
          ],
          [
           "BBS_AOO",
           0.5217330365431357,
           "",
           12,
           48,
           121
          ],
          [
           "BBS_AHB",
           0.5680396833202426,
           "",
           10,
           49,
           136
          ],
          [
           "BBS_ALQ",
           0.2947351564744931,
           "",
           9,
           49,
           113
          ],
          [
           "BBS_AMI",
           0.5653293790602347,
           "",
           11,
           48,
           130
          ],
          [
           "BBS_AIZ",
           0.3837608540539936,
           "",
           8,
           49,
           124
          ],
          [
           "BBS_AJD",
           0.39593505864594286,
           "",
           11,
           46,
           113
          ],
          [
           "BBS_ANW",
           0.3343945451006024,
           "",
           9,
           47,
           119
          ],
          [
           "BBS_AHT",
           0.2839093005496172,
           "",
           11,
           44,
           107
          ],
          [
           "BBS_ALG",
           0.6040560397874113,
           "",
           9,
           52,
           135
          ],
          [
           "BBS_AOY",
           0.5571938886210168,
           "",
           10,
           50,
           134
          ],
          [
           "BBS_AKJ",
           0.4500595129178252,
           "",
           10,
           46,
           139
          ],
          [
           "BBS_AHX",
           0.4458588428346881,
           "",
           9,
           49,
           126
          ],
          [
           "BBS_ALK",
           0.6149218487326082,
           "",
           11,
           51,
           128
          ],
          [
           "BBS_AOU",
           0.5342242494683491,
           "",
           12,
           47,
           121
          ],
          [
           "BBS_AKF",
           0.3735735020491627,
           "",
           8,
           50,
           122
          ],
          [
           "BBS_AME",
           0.5178236830583322,
           "",
           12,
           46,
           121
          ],
          [
           "BBS_AIV",
           0.37267897471458217,
           "",
           9,
           48,
           119
          ],
          [
           "BBS_AJH",
           0.603656641718737,
           "",
           9,
           53,
           147
          ],
          [
           "BBS_AOM",
           0.644895339457495,
           "",
           11,
           50,
           127
          ],
          [
           "BBS_ALS",
           0.3890750715987325,
           "",
           10,
           49,
           124
          ],
          [
           "BBS_AJP",
           0.5148208336949799,
           "",
           9,
           50,
           128
          ],
          [
           "BBS_ANC",
           0.4225372562239993,
           "",
           8,
           49,
           127
          ],
          [
           "BBS_AIN",
           0.47807353657695745,
           "",
           11,
           50,
           106
          ],
          [
           "BBS_ANO",
           0.5235713344453325,
           "",
           10,
           50,
           130
          ],
          [
           "BBS_AMQ",
           0.351368249933161,
           "",
           8,
           50,
           123
          ],
          [
           "BBS_AIB",
           0.5206575540110664,
           "",
           12,
           48,
           124
          ],
          [
           "BBS_AOA",
           0.3547865454667317,
           "",
           10,
           44,
           115
          ],
          [
           "BBS_AKR",
           0.3569429172028155,
           "",
           9,
           49,
           122
          ],
          [
           "BBS_AHL",
           0.6044264065662739,
           "",
           10,
           49,
           136
          ],
          [
           "BBS_ARW",
           0.5775182580783677,
           "",
           12,
           48,
           129
          ],
          [
           "BBS_AAX",
           0.5302153113883951,
           "",
           9,
           49,
           143
          ],
          [
           "BBS_AEK",
           0.3600268014105309,
           "",
           8,
           46,
           128
          ],
          [
           "BBS_AQI",
           0.49478205270877784,
           "",
           11,
           49,
           122
          ],
          [
           "BBS_AFU",
           0.3395288572001798,
           "",
           11,
           47,
           116
          ],
          [
           "BBS_ABF",
           0.3927913111029887,
           "",
           11,
           49,
           112
          ],
          [
           "BBS_ADE",
           0.5189533005883047,
           "",
           13,
           47,
           121
          ],
          [
           "BBS_ASY",
           0.425958074429156,
           "",
           10,
           50,
           113
          ],
          [
           "BBS_ACH",
           0.31232609845040843,
           "",
           9,
           44,
           113
          ],
          [
           "BBS_APG",
           0.7436166834977642,
           "",
           13,
           50,
           133
          ],
          [
           "BBS_ASU",
           0.7941291062444863,
           "",
           11,
           55,
           151
          ],
          [
           "BBS_ADI",
           0.20903501785832618,
           "",
           8,
           46,
           112
          ],
          [
           "BBS_APK",
           0.4102600734156011,
           "",
           12,
           45,
           115
          ],
          [
           "BBS_ACD",
           0.6659286261222225,
           "",
           10,
           51,
           152
          ],
          [
           "BBS_AGW",
           0.5382882624106807,
           "",
           9,
           51,
           133
          ],
          [
           "BBS_AAT",
           0.6141118045440384,
           "",
           9,
           51,
           148
          ],
          [
           "BBS_AEG",
           0.7006690033104075,
           "",
           14,
           49,
           141
          ],
          [
           "BBS_AFY",
           0.5892668753928607,
           "",
           11,
           50,
           127
          ],
          [
           "BBS_ABJ",
           0.8165054281289429,
           "",
           12,
           54,
           143
          ],
          [
           "BBS_AQE",
           0.3000010746571405,
           "",
           9,
           45,
           117
          ],
          [
           "BBS_AGO",
           0.7281531038844378,
           "",
           10,
           51,
           139
          ],
          [
           "BBS_APS",
           0.3940405053157763,
           "",
           9,
           48,
           126
          ],
          [
           "BBS_ADQ",
           0.44439464053561284,
           "",
           8,
           50,
           128
          ],
          [
           "BBS_ASM",
           0.3712863217468454,
           "",
           9,
           49,
           120
          ],
          [
           "BBS_AFA",
           0.34068173724517936,
           "",
           10,
           47,
           113
          ],
          [
           "BBS_ABR",
           0.3607863343621744,
           "",
           10,
           48,
           119
          ],
          [
           "BBS_ARC",
           0.5330690309720567,
           "",
           9,
           49,
           137
          ],
          [
           "BBS_AAL",
           0.5617651293063628,
           "",
           7,
           52,
           137
          ],
          [
           "BBS_AFM",
           0.5364128229470781,
           "",
           12,
           48,
           125
          ],
          [
           "BBS_AQQ",
           0.6671198647158776,
           "",
           12,
           51,
           135
          ],
          [
           "BBS_AES",
           0.5898029551469237,
           "",
           11,
           48,
           136
          ],
          [
           "BBS_ARO",
           0.437767969000742,
           "",
           10,
           49,
           124
          ],
          [
           "BBS_ACP",
           0.43006874978663967,
           "",
           9,
           50,
           123
          ],
          [
           "BBS_AGC",
           0.6894817168751557,
           "",
           11,
           49,
           139
          ],
          [
           "BBS_ASA",
           0.6846465872708448,
           "",
           12,
           48,
           134
          ],
          [
           "BBS_AAQ",
           0.5450577323326925,
           "",
           9,
           49,
           132
          ],
          [
           "BBS_AEB",
           0.31707556784905544,
           "",
           11,
           44,
           100
          ],
          [
           "BBS_ABO",
           0.43496477762768093,
           "",
           11,
           47,
           117
          ],
          [
           "BBS_ASP",
           0.574008343722072,
           "",
           11,
           48,
           129
          ],
          [
           "BBS_ADL",
           0.6297480260155879,
           "",
           12,
           49,
           126
          ],
          [
           "BBS_APN",
           0.5534057728003939,
           "",
           14,
           49,
           118
          ],
          [
           "BBS_ACA",
           0.3032921430579787,
           "",
           9,
           47,
           108
          ],
          [
           "BBS_AGR",
           0.6970768334572954,
           "",
           12,
           49,
           135
          ],
          [
           "BBS_ACM",
           0.3591125026788983,
           "",
           10,
           49,
           120
          ],
          [
           "BBS_APB",
           0.38367545373242695,
           "",
           10,
           47,
           123
          ],
          [
           "BBS_ARR",
           0.4375808523240382,
           "",
           9,
           49,
           126
          ],
          [
           "BBS_AEN",
           0.5878809079065817,
           "",
           9,
           51,
           128
          ],
          [
           "BBS_AQL",
           0.5158366183640322,
           "",
           11,
           47,
           123
          ],
          [
           "BBS_AFP",
           0.6593132808264186,
           "",
           10,
           53,
           142
          ],
          [
           "BBS_ABC",
           0.6482515974988068,
           "",
           11,
           49,
           140
          ],
          [
           "BBS_APZ",
           0.4249421575899459,
           "",
           12,
           47,
           119
          ],
          [
           "BBS_ACU",
           0.4617070354871966,
           "",
           12,
           46,
           122
          ],
          [
           "BBS_AGF",
           0.6827641264145273,
           "",
           11,
           51,
           134
          ],
          [
           "BBS_ASD",
           0.4164297257283805,
           "",
           12,
           45,
           115
          ],
          [
           "BBS_ADX",
           0.7439690567982425,
           "",
           12,
           52,
           138
          ],
          [
           "BBS_AFH",
           0.3203163737357576,
           "",
           11,
           44,
           112
          ],
          [
           "BBS_AQT",
           0.2696219196500851,
           "",
           9,
           48,
           112
          ],
          [
           "BBS_AAE",
           0.43062128113393944,
           "",
           10,
           49,
           120
          ],
          [
           "BBS_AEV",
           0.11667557351557856,
           "",
           6,
           45,
           111
          ],
          [
           "BBS_ARJ",
           0.44060647018101584,
           "",
           13,
           46,
           110
          ],
          [
           "BBS_AQX",
           0.30964980087221916,
           "",
           9,
           44,
           108
          ],
          [
           "BBS_AFD",
           0.37694638583697415,
           "",
           10,
           48,
           119
          ],
          [
           "BBS_ABW",
           0.529769217570199,
           "",
           10,
           50,
           131
          ],
          [
           "BBS_ARF",
           0.4321137640276892,
           "",
           12,
           46,
           122
          ],
          [
           "BBS_AAI",
           0.4782229039311062,
           "",
           9,
           51,
           122
          ],
          [
           "BBS_AEZ",
           0.3236167028764947,
           "",
           8,
           49,
           120
          ],
          [
           "BBS_ACY",
           0.23504187690807904,
           "",
           8,
           48,
           109
          ],
          [
           "BBS_AGJ",
           0.46948698318251675,
           "",
           10,
           50,
           121
          ],
          [
           "BBS_ATE",
           0.5534081916099943,
           "",
           10,
           50,
           126
          ],
          [
           "BBS_APV",
           0.4013217330520969,
           "",
           10,
           48,
           119
          ],
          [
           "BBS_ADT",
           0.5676529092542686,
           "",
           9,
           51,
           133
          ],
          [
           "BBS_ASH",
           0.5053532874185602,
           "",
           11,
           49,
           121
          ],
          [
           "BBS_AIS",
           0.4422918690698905,
           "",
           10,
           48,
           132
          ],
          [
           "BBS_AJM",
           0.7992765128027037,
           "",
           11,
           51,
           136
          ],
          [
           "BBS_ALN",
           0.2933337642016435,
           "",
           6,
           47,
           118
          ],
          [
           "BBS_AOP",
           0.3503292045538548,
           "",
           11,
           45,
           112
          ],
          [
           "BBS_AKC",
           0.4483916301784782,
           "",
           7,
           51,
           126
          ],
          [
           "BBS_AHQ",
           0.5292935997247347,
           "",
           11,
           50,
           121
          ],
          [
           "BBS_ALB",
           0.283166185865547,
           "",
           8,
           49,
           119
          ],
          [
           "BBS_AKO",
           0.1680943871662011,
           "",
           9,
           43,
           106
          ],
          [
           "BBS_AML",
           0.6386348093673431,
           "",
           10,
           52,
           138
          ],
          [
           "BBS_AJA",
           0.5160531432758036,
           "",
           12,
           49,
           124
          ],
          [
           "BBS_ANR",
           0.3282716971667071,
           "",
           8,
           48,
           120
          ],
          [
           "BBS_AOD",
           0.4466428390935314,
           "",
           12,
           48,
           116
          ],
          [
           "BBS_AKW",
           0.4524119267978022,
           "",
           10,
           49,
           123
          ],
          [
           "BBS_AHI",
           0.2563127299586237,
           "",
           8,
           48,
           119
          ],
          [
           "BBS_ALZ",
           0.5324954406273199,
           "",
           12,
           50,
           128
          ],
          [
           "BBS_AJY",
           0.25869144737899663,
           "",
           10,
           47,
           108
          ],
          [
           "BBS_ANJ",
           0.5421307692307689,
           "",
           10,
           49,
           136
          ],
          [
           "BBS_AMT",
           0.5383196255900741,
           "",
           10,
           49,
           130
          ],
          [
           "BBS_AIG",
           0.36953392701049,
           "",
           12,
           43,
           113
          ],
          [
           "BBS_AJU",
           0.6798783174180408,
           "",
           12,
           50,
           134
          ],
          [
           "BBS_ANF",
           0.239306812685121,
           "",
           8,
           48,
           116
          ],
          [
           "BBS_AMX",
           0.523214994350609,
           "",
           12,
           49,
           118
          ],
          [
           "BBS_AIK",
           0.28165605081536815,
           "",
           9,
           49,
           105
          ],
          [
           "BBS_AOH",
           0.7043107681594603,
           "",
           12,
           50,
           136
          ],
          [
           "BBS_AHE",
           0.5511221375566923,
           "",
           9,
           50,
           125
          ],
          [
           "BBS_ALV",
           0.4268631224260578,
           "",
           10,
           52,
           120
          ],
          [
           "BBS_AMN",
           0.4510412567783396,
           "",
           11,
           49,
           117
          ],
          [
           "BBS_AJC",
           0.5795438946604575,
           "",
           13,
           46,
           125
          ],
          [
           "BBS_ANP",
           0.5434059586707378,
           "",
           11,
           48,
           132
          ],
          [
           "BBS_AHS",
           0.5068701039710287,
           "",
           9,
           49,
           132
          ],
          [
           "BBS_AKM",
           0.6019730730508752,
           "",
           11,
           50,
           132
          ],
          [
           "BBS_ALL",
           0.43917255560460433,
           "",
           11,
           47,
           123
          ],
          [
           "BBS_AOR",
           0.4571675044074616,
           "",
           10,
           48,
           128
          ],
          [
           "BBS_AKA",
           0.43140031544752516,
           "",
           11,
           47,
           127
          ],
          [
           "BBS_AMB",
           0.5887150070163326,
           "",
           11,
           49,
           131
          ],
          [
           "BBS_AIQ",
           0.6050906459895132,
           "",
           11,
           52,
           132
          ],
          [
           "BBS_AJO",
           0.4722651551858582,
           "",
           11,
           47,
           114
          ],
          [
           "BBS_AOJ",
           0.8066837733401272,
           "",
           13,
           52,
           139
          ],
          [
           "BBS_AKY",
           0.3610876720953102,
           "",
           9,
           43,
           118
          ],
          [
           "BBS_AHG",
           0.45467186140551086,
           "",
           9,
           50,
           128
          ],
          [
           "BBS_ALT",
           0.6445220428973284,
           "",
           10,
           52,
           143
          ],
          [
           "BBS_AJW",
           0.7706216417406427,
           "",
           9,
           53,
           145
          ],
          [
           "BBS_AND",
           0.7034026526385029,
           "",
           14,
           50,
           133
          ],
          [
           "BBS_AMZ",
           0.17936541338220982,
           "",
           8,
           48,
           115
          ],
          [
           "BBS_AII",
           0.663945421142567,
           "",
           12,
           47,
           132
          ],
          [
           "BBS_ANH",
           0.5905364285429603,
           "",
           9,
           52,
           131
          ],
          [
           "BBS_AMV",
           0.7009605208522607,
           "",
           12,
           50,
           127
          ],
          [
           "BBS_AIE",
           0.7260804837228029,
           "",
           11,
           50,
           140
          ],
          [
           "BBS_AOF",
           0.6720103139871042,
           "",
           11,
           51,
           143
          ],
          [
           "BBS_AKU",
           0.6863972357919288,
           "",
           11,
           50,
           132
          ],
          [
           "BBS_AHK",
           0.36781971376747424,
           "",
           10,
           46,
           116
          ],
          [
           "BBS_ALX",
           0.5414230734320228,
           "",
           10,
           50,
           129
          ],
          [
           "BBS_AEL",
           0.2505604787206048,
           "",
           9,
           45,
           116
          ],
          [
           "BBS_ARP",
           0.8258168076207207,
           "BBS_ARP",
           11,
           54,
           149
          ],
          [
           "BBS_AFR",
           0.2248517158493817,
           "",
           10,
           44,
           108
          ],
          [
           "BBS_ABA",
           0.6799272171990507,
           "",
           11,
           50,
           143
          ],
          [
           "BBS_AQN",
           0.36699303213734047,
           "",
           9,
           48,
           120
          ],
          [
           "BBS_ADB",
           0.4049740697944498,
           "",
           10,
           50,
           120
          ],
          [
           "BBS_ACO",
           0.695002799598565,
           "",
           13,
           49,
           125
          ],
          [
           "BBS_ADN",
           0.4546702972294808,
           "",
           12,
           47,
           116
          ],
          [
           "BBS_ASR",
           0.5279903639447364,
           "",
           10,
           51,
           124
          ],
          [
           "BBS_ACC",
           0.5877711336048621,
           "",
           10,
           49,
           136
          ],
          [
           "BBS_AGP",
           0.33597393394408276,
           "",
           9,
           48,
           120
          ],
          [
           "BBS_APL",
           0.20663579461460363,
           "",
           10,
           44,
           111
          ],
          [
           "BBS_AAS",
           0.42734074308548703,
           "",
           8,
           49,
           127
          ],
          [
           "BBS_AQB",
           0.4187440477040936,
           "",
           11,
           47,
           119
          ],
          [
           "BBS_ABM",
           0.6383891482623717,
           "",
           9,
           50,
           145
          ],
          [
           "BBS_APT",
           0.49890722696194933,
           "",
           9,
           50,
           125
          ],
          [
           "BBS_AGH",
           0.5565267625426239,
           "",
           11,
           50,
           121
          ],
          [
           "BBS_ASJ",
           0.6883574667710941,
           "",
           11,
           50,
           135
          ],
          [
           "BBS_ADV",
           0.6023950831702769,
           "",
           10,
           49,
           135
          ],
          [
           "BBS_AFF",
           0.5556147069022299,
           "",
           9,
           52,
           130
          ],
          [
           "BBS_ABU",
           0.48410983987836853,
           "",
           9,
           51,
           125
          ],
          [
           "BBS_AQZ",
           0.6952776410510948,
           "",
           10,
           53,
           142
          ],
          [
           "BBS_AAK",
           0.5679376928206296,
           "",
           10,
           49,
           134
          ],
          [
           "BBS_AEX",
           0.2458002017214874,
           "",
           9,
           43,
           118
          ],
          [
           "BBS_ARD",
           0.44994764176733054,
           "",
           10,
           48,
           132
          ],
          [
           "BBS_AQV",
           0.37441730929218586,
           "",
           9,
           47,
           126
          ],
          [
           "BBS_AFJ",
           0.2709027254494707,
           "",
           10,
           48,
           119
          ],
          [
           "BBS_ABY",
           0.3491135147396758,
           "",
           9,
           47,
           124
          ],
          [
           "BBS_ARH",
           0.38779832712262563,
           "",
           11,
           47,
           107
          ],
          [
           "BBS_AAG",
           0.6023103870353502,
           "",
           10,
           52,
           133
          ],
          [
           "BBS_AET",
           0.7149088093598062,
           "",
           12,
           52,
           127
          ],
          [
           "BBS_ACW",
           0.6575551383434408,
           "",
           12,
           50,
           132
          ],
          [
           "BBS_AGD",
           0.3699694894727941,
           "",
           10,
           48,
           119
          ],
          [
           "BBS_APX",
           0.07111231615097496,
           "",
           8,
           42,
           102
          ],
          [
           "BBS_ADZ",
           0.49754664467004134,
           "",
           10,
           50,
           117
          ],
          [
           "BBS_ASF",
           0.28928104341263217,
           "",
           9,
           46,
           123
          ],
          [
           "BBS_AMR",
           0.31009300424130715,
           "",
           10,
           47,
           115
          ],
          [
           "BBS_AIA",
           0.3786619837027006,
           "",
           10,
           49,
           121
          ],
          [
           "BBS_ANL",
           0.6949664701455522,
           "",
           12,
           51,
           130
          ],
          [
           "BBS_AHO",
           0.6244493435677068,
           "",
           14,
           46,
           127
          ],
          [
           "BBS_AOB",
           0.4526325489433086,
           "",
           13,
           47,
           113
          ],
          [
           "BBS_AKQ",
           0.6695244266972205,
           "",
           10,
           51,
           131
          ],
          [
           "BBS_AHC",
           0.4105218435523431,
           "",
           11,
           47,
           113
          ],
          [
           "BBS_ALP",
           0.5801371272386117,
           "",
           9,
           51,
           137
          ],
          [
           "BBS_AON",
           0.5651362167745324,
           "",
           10,
           50,
           130
          ],
          [
           "BBS_AIM",
           0.7751792299147945,
           "",
           13,
           51,
           130
          ],
          [
           "BBS_AJS",
           0.5290574747089952,
           "",
           11,
           49,
           125
          ],
          [
           "BBS_AOV",
           0.6821390767653788,
           "",
           12,
           50,
           134
          ],
          [
           "BBS_AKE",
           0.2473397361416862,
           "",
           9,
           48,
           117
          ],
          [
           "BBS_ALH",
           0.7247122645846737,
           "",
           11,
           53,
           133
          ],
          [
           "BBS_AJK",
           0.2676745215597507,
           "",
           8,
           47,
           113
          ],
          [
           "BBS_ANX",
           0.787934034985736,
           "",
           13,
           50,
           140
          ],
          [
           "BBS_AMF",
           0.5152882705256426,
           "",
           10,
           50,
           123
          ],
          [
           "BBS_AIU",
           0.3054737686585684,
           "",
           9,
           45,
           120
          ],
          [
           "BBS_AJG",
           0.4972948997194168,
           "",
           10,
           46,
           131
          ],
          [
           "BBS_ANT",
           0.23544226963917086,
           "",
           10,
           40,
           118
          ],
          [
           "BBS_AMJ",
           0.4380597550485264,
           "",
           9,
           48,
           132
          ],
          [
           "BBS_AIY",
           0.6837695093396031,
           "",
           12,
           48,
           135
          ],
          [
           "BBS_AOZ",
           0.668018225163509,
           "",
           10,
           50,
           144
          ],
          [
           "BBS_AKI",
           0.5112493408693611,
           "",
           12,
           48,
           123
          ],
          [
           "BBS_AHW",
           0.649383986156447,
           "",
           12,
           49,
           135
          ],
          [
           "BBS_ALD",
           0.614439060706369,
           "",
           10,
           50,
           127
          ],
          [
           "BBS_ARL",
           0.4627631347676867,
           "",
           11,
           47,
           120
          ],
          [
           "BBS_AAC",
           0.5424711022669718,
           "",
           11,
           46,
           126
          ],
          [
           "BBS_AEP",
           0.48825584485416695,
           "",
           9,
           48,
           127
          ],
          [
           "BBS_AQR",
           0.5868447673431236,
           "",
           10,
           52,
           131
          ],
          [
           "BBS_AFN",
           0.4473228434861846,
           "",
           8,
           48,
           133
          ],
          [
           "BBS_ASB",
           0.2481757875578379,
           "",
           10,
           46,
           117
          ],
          [
           "BBS_ACS",
           0.447919593253992,
           "",
           10,
           50,
           125
          ],
          [
           "BBS_ASN",
           0.531185452089205,
           "",
           11,
           50,
           119
          ],
          [
           "BBS_ADR",
           0.28663039000178936,
           "",
           10,
           45,
           103
          ],
          [
           "BBS_ATC",
           0.590523533893475,
           "",
           10,
           51,
           130
          ],
          [
           "BBS_APP",
           0.5391014026280313,
           "",
           8,
           51,
           136
          ],
          [
           "BBS_AGL",
           0.2791664174626756,
           "",
           10,
           46,
           109
          ],
          [
           "BBS_AAO",
           0.28669600909557635,
           "",
           10,
           42,
           112
          ],
          [
           "BBS_AFB",
           0.418743088416109,
           "",
           12,
           46,
           110
          ],
          [
           "BBS_ABQ",
           0.2504559029096491,
           "",
           10,
           46,
           113
          ],
          [
           "BBS_ACG",
           0.44178068041582014,
           "",
           10,
           48,
           133
          ],
          [
           "BBS_AGT",
           0.4454238914264509,
           "",
           11,
           47,
           117
          ],
          [
           "BBS_APH",
           0.44722918608908496,
           "",
           10,
           48,
           129
          ],
          [
           "BBS_ADJ",
           0.6532162358070807,
           "",
           12,
           49,
           133
          ],
          [
           "BBS_ASV",
           0.6428988884726813,
           "",
           11,
           50,
           130
          ],
          [
           "BBS_AQF",
           0.6078991505934875,
           "",
           8,
           51,
           144
          ],
          [
           "BBS_AFZ",
           0.3880052975934827,
           "",
           11,
           45,
           111
          ],
          [
           "BBS_ABI",
           0.5430664897057675,
           "",
           11,
           49,
           121
          ],
          [
           "BBS_ARX",
           0.6976126579981292,
           "",
           11,
           50,
           130
          ],
          [
           "BBS_AAW",
           0.5098548578298382,
           "",
           12,
           49,
           122
          ],
          [
           "BBS_AED",
           0.4313693299095238,
           "",
           12,
           44,
           116
          ],
          [
           "BBS_AFV",
           0.3533367227328017,
           "",
           9,
           48,
           125
          ],
          [
           "BBS_ABE",
           0.673153059686688,
           "",
           11,
           49,
           142
          ],
          [
           "BBS_AQJ",
           0.3627489213490068,
           "",
           9,
           46,
           131
          ],
          [
           "BBS_AEH",
           0.636437488281637,
           "",
           11,
           50,
           131
          ],
          [
           "BBS_ART",
           0.7905763863938338,
           "",
           11,
           52,
           142
          ],
          [
           "BBS_APD",
           0.5210542132146666,
           "",
           11,
           49,
           127
          ],
          [
           "BBS_ACK",
           0.5076646738802305,
           "",
           10,
           50,
           128
          ],
          [
           "BBS_AGX",
           0.29722336892066625,
           "",
           10,
           46,
           115
          ],
          [
           "BBS_ASZ",
           0.4842044998597136,
           "",
           12,
           47,
           115
          ],
          [
           "BBS_ADF",
           0.435087949950941,
           "",
           10,
           49,
           121
          ],
          [
           "BBS_ARB",
           0.45971362934205023,
           "",
           8,
           50,
           129
          ],
          [
           "BBS_AAM",
           0.48612741000272,
           "",
           10,
           50,
           123
          ],
          [
           "BBS_ABS",
           0.5294578953256547,
           "",
           8,
           51,
           149
          ],
          [
           "BBS_ADP",
           0.4527867809206078,
           "",
           9,
           49,
           133
          ],
          [
           "BBS_ASL",
           0.7137861612889148,
           "",
           11,
           51,
           137
          ],
          [
           "BBS_AGN",
           0.40967014078584757,
           "",
           10,
           48,
           126
          ],
          [
           "BBS_ATA",
           0.4435011270651561,
           "",
           12,
           47,
           115
          ],
          [
           "BBS_APR",
           0.3929881409925996,
           "",
           10,
           47,
           128
          ],
          [
           "BBS_ACQ",
           0.5744033624562649,
           "",
           10,
           50,
           130
          ],
          [
           "BBS_AGB",
           0.4968049501749775,
           "",
           11,
           46,
           123
          ],
          [
           "BBS_AAA",
           0.2968103401034163,
           "",
           9,
           46,
           123
          ],
          [
           "BBS_AER",
           0.5221411331430581,
           "",
           11,
           48,
           124
          ],
          [
           "BBS_ARN",
           0.3484358128241098,
           "",
           11,
           44,
           108
          ],
          [
           "BBS_AFL",
           0.3753045689493326,
           "",
           10,
           48,
           123
          ],
          [
           "BBS_AQP",
           0.38673275457224154,
           "",
           9,
           49,
           124
          ],
          [
           "BBS_ACI",
           0.3404580456299058,
           "",
           9,
           48,
           117
          ],
          [
           "BBS_AGZ",
           0.2555403719308065,
           "",
           8,
           48,
           119
          ],
          [
           "BBS_APF",
           0.4255091415399992,
           "",
           9,
           49,
           120
          ],
          [
           "BBS_ADD",
           0.4817654703485954,
           "",
           9,
           49,
           125
          ],
          [
           "BBS_ASX",
           0.577462843831132,
           "",
           11,
           51,
           128
          ],
          [
           "BBS_AQH",
           0.4880343501498953,
           "",
           10,
           48,
           136
          ],
          [
           "BBS_AFT",
           0.6460885947938633,
           "",
           12,
           50,
           135
          ],
          [
           "BBS_ABG",
           0.4602291881131033,
           "",
           10,
           49,
           120
          ],
          [
           "BBS_ARV",
           0.22333008821800843,
           "",
           7,
           47,
           119
          ],
          [
           "BBS_AAY",
           0.5053461538461536,
           "",
           8,
           51,
           128
          ],
          [
           "BBS_AEJ",
           0.4523940140545377,
           "",
           10,
           49,
           126
          ],
          [
           "BBS_AFX",
           0.34190121145416175,
           "",
           10,
           48,
           116
          ],
          [
           "BBS_ABK",
           0.877560239838022,
           "BBS_ABK",
           13,
           52,
           146
          ],
          [
           "BBS_AQD",
           0.6885098088032375,
           "",
           12,
           51,
           141
          ],
          [
           "BBS_AAU",
           0.33443753222018296,
           "",
           8,
           49,
           124
          ],
          [
           "BBS_AEF",
           0.8023403602768099,
           "",
           13,
           51,
           149
          ],
          [
           "BBS_ARZ",
           0.2434227191257003,
           "",
           9,
           48,
           111
          ],
          [
           "BBS_APJ",
           0.3584619446360335,
           "",
           9,
           48,
           120
          ],
          [
           "BBS_ACE",
           0.5170072106545466,
           "",
           11,
           47,
           124
          ],
          [
           "BBS_AGV",
           0.7111468385143995,
           "",
           11,
           50,
           143
          ],
          [
           "BBS_AST",
           0.5260990562415137,
           "",
           11,
           47,
           128
          ],
          [
           "BBS_ADH",
           0.5413149463873432,
           "",
           10,
           51,
           124
          ],
          [
           "BBS_AIO",
           0.2642565816381578,
           "",
           10,
           42,
           109
          ],
          [
           "BBS_AJQ",
           0.48582411992407376,
           "",
           9,
           50,
           126
          ],
          [
           "BBS_ANB",
           0.1618248641029809,
           "",
           8,
           45,
           101
          ],
          [
           "BBS_AHA",
           0.43642492421200296,
           "",
           11,
           46,
           115
          ],
          [
           "BBS_ALR",
           0.46526330666398563,
           "",
           11,
           47,
           125
          ],
          [
           "BBS_AOL",
           0.6335757140462129,
           "",
           11,
           48,
           135
          ],
          [
           "BBS_AHM",
           0.6953086933453037,
           "",
           12,
           50,
           128
          ],
          [
           "BBS_AKS",
           0.4121889697648297,
           "",
           12,
           44,
           118
          ],
          [
           "BBS_AMP",
           0.7062137159153937,
           "",
           11,
           51,
           140
          ],
          [
           "BBS_AIC",
           0.297843715361026,
           "",
           9,
           47,
           121
          ],
          [
           "BBS_ANN",
           0.5691601092474566,
           "",
           12,
           48,
           133
          ],
          [
           "BBS_AOX",
           0.684443995256667,
           "",
           14,
           47,
           127
          ],
          [
           "BBS_AKK",
           0.6547649661297089,
           "",
           13,
           50,
           125
          ],
          [
           "BBS_AHU",
           0.39197250058525984,
           "",
           9,
           47,
           124
          ],
          [
           "BBS_ALF",
           0.5977836893228192,
           "",
           12,
           48,
           132
          ],
          [
           "BBS_AJE",
           0.524670998971678,
           "",
           11,
           46,
           128
          ],
          [
           "BBS_ANV",
           0.4301544498697806,
           "",
           13,
           45,
           113
          ],
          [
           "BBS_AMH",
           0.5651697287224069,
           "",
           13,
           48,
           120
          ],
          [
           "BBS_AJI",
           0.3615842546974589,
           "",
           9,
           48,
           117
          ],
          [
           "BBS_ANZ",
           0.4157661987541434,
           "",
           7,
           49,
           134
          ],
          [
           "BBS_AMD",
           0.46650500153611846,
           "",
           12,
           49,
           119
          ],
          [
           "BBS_AIW",
           0.3116885468870855,
           "",
           9,
           47,
           123
          ],
          [
           "BBS_AOT",
           0.47768032756234774,
           "",
           11,
           48,
           121
          ],
          [
           "BBS_AKG",
           0.3843710981961603,
           "",
           13,
           46,
           111
          ],
          [
           "BBS_AHY",
           0.5383192161760124,
           "",
           8,
           51,
           137
          ],
          [
           "BBS_ALJ",
           0.442052296101202,
           "",
           9,
           49,
           127
          ]
         ],
         "hovertemplate": "num_products=%{x}<br>base_balance=%{y}<br>label=%{customdata[2]}<br>name=%{customdata[0]}<br>score=%{marker.color}<br>num_bases=%{customdata[3]}<br>catalytic_features=%{customdata[4]}<br>num_features=%{customdata[5]}<extra></extra>",
         "legendgroup": "",
         "marker": {
          "color": [
           0.8338160218351284,
           0.6931483821376148,
           0.7271126042127913,
           0.6423880308555487,
           0.6691364247140166,
           0.20491223089859112,
           0.60159141346472,
           0.3546712506587384,
           0.6226085695332337,
           0.5387130018147482,
           0.5376765787135449,
           0.6682324169347296,
           0.4063561307051367,
           0.47609922424839823,
           0.3600866352741231,
           0.3978372730369394,
           0.31306366659573603,
           0.4297381004881694,
           0.38985281316966325,
           0.2553177170016278,
           0.3468977901635394,
           0.5173290609135437,
           0.3657402298226767,
           0.6303356707079112,
           0.381703016139857,
           0.24209652740973525,
           0.7720753143570367,
           0.3753337896539513,
           0.4082567885020934,
           0.3660856215342989,
           0.3213387850878184,
           0.35979221102977826,
           0.6185820990510222,
           0.6009994119694005,
           0.37834262767030585,
           0.5093347718570553,
           0.5983974845124449,
           0.7718541326517865,
           0.5143493036165377,
           0.6049950688250705,
           0.7025828904257642,
           0.5255603678060463,
           0.49291823521588884,
           0.32109142259746226,
           0.3098312337066373,
           0.3193281148108439,
           0.3831060183311031,
           0.5078666490465646,
           0.4774272769011202,
           0.795244607988921,
           0.5283883031385294,
           0.5759826724314556,
           0.6111397208380966,
           0.49294314371941755,
           0.683500071698444,
           0.39502991671549487,
           0.6926961391051509,
           0.7903434035202929,
           0.46062083548365335,
           0.44706805432732516,
           0.40535093560191643,
           0.29396362218278793,
           0.556196560273036,
           0.33641452528189586,
           0.4773760497850833,
           0.3809070793919716,
           0.6394734354614197,
           0.398893389393741,
           0.4651651407152444,
           0.6074352845838047,
           0.4790101421149764,
           0.5865917382629009,
           0.4598837410598881,
           0.28335387404721013,
           0.46153115106983006,
           0.3654844503686447,
           0.4750170549481041,
           0.2863138923926945,
           0.4310066547954353,
           0.35457070680324054,
           0.4098684991368885,
           0.3671074993667778,
           0.47430164770396016,
           0.33093719719323533,
           0.5361833124116562,
           0.550314745790453,
           0.41312754463092466,
           0.47140555963138847,
           0.5552792053384117,
           0.41748212522225864,
           0.8723884048049193,
           0.6328137988835913,
           0.5588638072373243,
           0.5627949445007518,
           0.2935312358063368,
           0.672908717963239,
           0.596813310517517,
           0.44350737478375346,
           0.5505391699416861,
           0.5120326036510877,
           0.795873578266816,
           0.6376729612212793,
           0.5428690482235543,
           0.3432089721275225,
           0.6111058499173627,
           0.4043284396530321,
           0.5307570721458335,
           0.4533238744495979,
           0.5578596335030857,
           0.5739593025512048,
           0.5189552989270957,
           0.5165446536229844,
           0.4992185865109846,
           0.5755765285481986,
           0.28071531808208017,
           0.5820412609760395,
           0.38670398710790005,
           0.7408055461977902,
           0.5861665899249058,
           0.5617725694737925,
           0.4842340310750909,
           0.26907705324824344,
           0.4486750987570098,
           0.3898534721910018,
           0.5332401453551509,
           0.3229083616634845,
           0.4697394062734402,
           0.33997419363092946,
           0.46184038858013327,
           0.5711014699637226,
           0.4316771609770975,
           0.4494652930142236,
           0.38402477020768366,
           0.3700230302514883,
           0.43515590161420853,
           0.2906693423034322,
           0.4906661564477197,
           0.5248063605200574,
           0.3329411210627831,
           0.4430777488089753,
           0.7255964335083077,
           0.5517905202753635,
           0.4649470983504607,
           0.34517407020808083,
           0.5655596966707356,
           0.550559655690995,
           0.23462114794205988,
           0.5066427479099731,
           0.2795856414994041,
           0.39937031327401823,
           0.6326255134534606,
           0.5868865186176568,
           0.6307529131079411,
           0.48407287545989136,
           0.4012801293522135,
           0.26596075159658,
           0.30269413447645116,
           0.2898023786805681,
           0.3158121116099874,
           0.45728230032305484,
           0.6269961554255447,
           0.5859668159301226,
           0.3693015856954179,
           0.45577681694089067,
           0.5846799777543444,
           0.525980083424366,
           0.4577240282724881,
           0.6992662209910866,
           0.5366939972959961,
           0.6611925343072372,
           0.44923563894785484,
           0.404540977525305,
           0.3923492492904955,
           0.45075834660054115,
           0.27449545399316516,
           0.6179217985504196,
           0.6113070718226348,
           0.48369166717397666,
           0.5440262763791389,
           0.26251331105518727,
           0.230002990609027,
           0.7057395243025347,
           0.8220698802805205,
           0.5693663222486898,
           0.26898892877357233,
           0.4415157055896598,
           0.5217330365431357,
           0.5680396833202426,
           0.2947351564744931,
           0.5653293790602347,
           0.3837608540539936,
           0.39593505864594286,
           0.3343945451006024,
           0.2839093005496172,
           0.6040560397874113,
           0.5571938886210168,
           0.4500595129178252,
           0.4458588428346881,
           0.6149218487326082,
           0.5342242494683491,
           0.3735735020491627,
           0.5178236830583322,
           0.37267897471458217,
           0.603656641718737,
           0.644895339457495,
           0.3890750715987325,
           0.5148208336949799,
           0.4225372562239993,
           0.47807353657695745,
           0.5235713344453325,
           0.351368249933161,
           0.5206575540110664,
           0.3547865454667317,
           0.3569429172028155,
           0.6044264065662739,
           0.5775182580783677,
           0.5302153113883951,
           0.3600268014105309,
           0.49478205270877784,
           0.3395288572001798,
           0.3927913111029887,
           0.5189533005883047,
           0.425958074429156,
           0.31232609845040843,
           0.7436166834977642,
           0.7941291062444863,
           0.20903501785832618,
           0.4102600734156011,
           0.6659286261222225,
           0.5382882624106807,
           0.6141118045440384,
           0.7006690033104075,
           0.5892668753928607,
           0.8165054281289429,
           0.3000010746571405,
           0.7281531038844378,
           0.3940405053157763,
           0.44439464053561284,
           0.3712863217468454,
           0.34068173724517936,
           0.3607863343621744,
           0.5330690309720567,
           0.5617651293063628,
           0.5364128229470781,
           0.6671198647158776,
           0.5898029551469237,
           0.437767969000742,
           0.43006874978663967,
           0.6894817168751557,
           0.6846465872708448,
           0.5450577323326925,
           0.31707556784905544,
           0.43496477762768093,
           0.574008343722072,
           0.6297480260155879,
           0.5534057728003939,
           0.3032921430579787,
           0.6970768334572954,
           0.3591125026788983,
           0.38367545373242695,
           0.4375808523240382,
           0.5878809079065817,
           0.5158366183640322,
           0.6593132808264186,
           0.6482515974988068,
           0.4249421575899459,
           0.4617070354871966,
           0.6827641264145273,
           0.4164297257283805,
           0.7439690567982425,
           0.3203163737357576,
           0.2696219196500851,
           0.43062128113393944,
           0.11667557351557856,
           0.44060647018101584,
           0.30964980087221916,
           0.37694638583697415,
           0.529769217570199,
           0.4321137640276892,
           0.4782229039311062,
           0.3236167028764947,
           0.23504187690807904,
           0.46948698318251675,
           0.5534081916099943,
           0.4013217330520969,
           0.5676529092542686,
           0.5053532874185602,
           0.4422918690698905,
           0.7992765128027037,
           0.2933337642016435,
           0.3503292045538548,
           0.4483916301784782,
           0.5292935997247347,
           0.283166185865547,
           0.1680943871662011,
           0.6386348093673431,
           0.5160531432758036,
           0.3282716971667071,
           0.4466428390935314,
           0.4524119267978022,
           0.2563127299586237,
           0.5324954406273199,
           0.25869144737899663,
           0.5421307692307689,
           0.5383196255900741,
           0.36953392701049,
           0.6798783174180408,
           0.239306812685121,
           0.523214994350609,
           0.28165605081536815,
           0.7043107681594603,
           0.5511221375566923,
           0.4268631224260578,
           0.4510412567783396,
           0.5795438946604575,
           0.5434059586707378,
           0.5068701039710287,
           0.6019730730508752,
           0.43917255560460433,
           0.4571675044074616,
           0.43140031544752516,
           0.5887150070163326,
           0.6050906459895132,
           0.4722651551858582,
           0.8066837733401272,
           0.3610876720953102,
           0.45467186140551086,
           0.6445220428973284,
           0.7706216417406427,
           0.7034026526385029,
           0.17936541338220982,
           0.663945421142567,
           0.5905364285429603,
           0.7009605208522607,
           0.7260804837228029,
           0.6720103139871042,
           0.6863972357919288,
           0.36781971376747424,
           0.5414230734320228,
           0.2505604787206048,
           0.8258168076207207,
           0.2248517158493817,
           0.6799272171990507,
           0.36699303213734047,
           0.4049740697944498,
           0.695002799598565,
           0.4546702972294808,
           0.5279903639447364,
           0.5877711336048621,
           0.33597393394408276,
           0.20663579461460363,
           0.42734074308548703,
           0.4187440477040936,
           0.6383891482623717,
           0.49890722696194933,
           0.5565267625426239,
           0.6883574667710941,
           0.6023950831702769,
           0.5556147069022299,
           0.48410983987836853,
           0.6952776410510948,
           0.5679376928206296,
           0.2458002017214874,
           0.44994764176733054,
           0.37441730929218586,
           0.2709027254494707,
           0.3491135147396758,
           0.38779832712262563,
           0.6023103870353502,
           0.7149088093598062,
           0.6575551383434408,
           0.3699694894727941,
           0.07111231615097496,
           0.49754664467004134,
           0.28928104341263217,
           0.31009300424130715,
           0.3786619837027006,
           0.6949664701455522,
           0.6244493435677068,
           0.4526325489433086,
           0.6695244266972205,
           0.4105218435523431,
           0.5801371272386117,
           0.5651362167745324,
           0.7751792299147945,
           0.5290574747089952,
           0.6821390767653788,
           0.2473397361416862,
           0.7247122645846737,
           0.2676745215597507,
           0.787934034985736,
           0.5152882705256426,
           0.3054737686585684,
           0.4972948997194168,
           0.23544226963917086,
           0.4380597550485264,
           0.6837695093396031,
           0.668018225163509,
           0.5112493408693611,
           0.649383986156447,
           0.614439060706369,
           0.4627631347676867,
           0.5424711022669718,
           0.48825584485416695,
           0.5868447673431236,
           0.4473228434861846,
           0.2481757875578379,
           0.447919593253992,
           0.531185452089205,
           0.28663039000178936,
           0.590523533893475,
           0.5391014026280313,
           0.2791664174626756,
           0.28669600909557635,
           0.418743088416109,
           0.2504559029096491,
           0.44178068041582014,
           0.4454238914264509,
           0.44722918608908496,
           0.6532162358070807,
           0.6428988884726813,
           0.6078991505934875,
           0.3880052975934827,
           0.5430664897057675,
           0.6976126579981292,
           0.5098548578298382,
           0.4313693299095238,
           0.3533367227328017,
           0.673153059686688,
           0.3627489213490068,
           0.636437488281637,
           0.7905763863938338,
           0.5210542132146666,
           0.5076646738802305,
           0.29722336892066625,
           0.4842044998597136,
           0.435087949950941,
           0.45971362934205023,
           0.48612741000272,
           0.5294578953256547,
           0.4527867809206078,
           0.7137861612889148,
           0.40967014078584757,
           0.4435011270651561,
           0.3929881409925996,
           0.5744033624562649,
           0.4968049501749775,
           0.2968103401034163,
           0.5221411331430581,
           0.3484358128241098,
           0.3753045689493326,
           0.38673275457224154,
           0.3404580456299058,
           0.2555403719308065,
           0.4255091415399992,
           0.4817654703485954,
           0.577462843831132,
           0.4880343501498953,
           0.6460885947938633,
           0.4602291881131033,
           0.22333008821800843,
           0.5053461538461536,
           0.4523940140545377,
           0.34190121145416175,
           0.877560239838022,
           0.6885098088032375,
           0.33443753222018296,
           0.8023403602768099,
           0.2434227191257003,
           0.3584619446360335,
           0.5170072106545466,
           0.7111468385143995,
           0.5260990562415137,
           0.5413149463873432,
           0.2642565816381578,
           0.48582411992407376,
           0.1618248641029809,
           0.43642492421200296,
           0.46526330666398563,
           0.6335757140462129,
           0.6953086933453037,
           0.4121889697648297,
           0.7062137159153937,
           0.297843715361026,
           0.5691601092474566,
           0.684443995256667,
           0.6547649661297089,
           0.39197250058525984,
           0.5977836893228192,
           0.524670998971678,
           0.4301544498697806,
           0.5651697287224069,
           0.3615842546974589,
           0.4157661987541434,
           0.46650500153611846,
           0.3116885468870855,
           0.47768032756234774,
           0.3843710981961603,
           0.5383192161760124,
           0.442052296101202
          ],
          "coloraxis": "coloraxis",
          "symbol": "circle"
         },
         "mode": "markers+text",
         "name": "",
         "orientation": "v",
         "showlegend": false,
         "text": [
          "BBS_AMU",
          "",
          "",
          "",
          "",
          "",
          "",
          "",
          "",
          "",
          "",
          "",
          "",
          "",
          "",
          "",
          "",
          "",
          "",
          "",
          "",
          "",
          "",
          "",
          "",
          "",
          "",
          "",
          "",
          "",
          "",
          "",
          "",
          "",
          "",
          "",
          "",
          "",
          "",
          "",
          "",
          "",
          "",
          "",
          "",
          "",
          "",
          "",
          "",
          "",
          "",
          "",
          "",
          "",
          "",
          "",
          "",
          "",
          "",
          "",
          "",
          "",
          "",
          "",
          "",
          "",
          "",
          "",
          "",
          "",
          "",
          "",
          "",
          "",
          "",
          "",
          "",
          "",
          "",
          "",
          "",
          "",
          "",
          "",
          "",
          "",
          "",
          "",
          "",
          "",
          "BBS_ARQ",
          "",
          "",
          "",
          "",
          "",
          "",
          "",
          "",
          "",
          "",
          "",
          "",
          "",
          "",
          "",
          "",
          "",
          "",
          "",
          "",
          "",
          "",
          "",
          "",
          "",
          "",
          "",
          "",
          "",
          "",
          "",
          "",
          "",
          "",
          "",
          "",
          "",
          "",
          "",
          "",
          "",
          "",
          "",
          "",
          "",
          "",
          "",
          "",
          "",
          "",
          "",
          "",
          "",
          "",
          "",
          "",
          "",
          "",
          "",
          "",
          "",
          "",
          "",
          "",
          "",
          "",
          "",
          "",
          "",
          "",
          "",
          "",
          "",
          "",
          "",
          "",
          "",
          "",
          "",
          "",
          "",
          "",
          "",
          "",
          "",
          "",
          "",
          "",
          "",
          "",
          "",
          "BBS_AMS",
          "",
          "",
          "",
          "",
          "",
          "",
          "",
          "",
          "",
          "",
          "",
          "",
          "",
          "",
          "",
          "",
          "",
          "",
          "",
          "",
          "",
          "",
          "",
          "",
          "",
          "",
          "",
          "",
          "",
          "",
          "",
          "",
          "",
          "",
          "",
          "",
          "",
          "",
          "",
          "",
          "",
          "",
          "",
          "",
          "",
          "",
          "",
          "",
          "",
          "",
          "",
          "",
          "",
          "",
          "",
          "",
          "",
          "",
          "",
          "",
          "",
          "",
          "",
          "",
          "",
          "",
          "",
          "",
          "",
          "",
          "",
          "",
          "",
          "",
          "",
          "",
          "",
          "",
          "",
          "",
          "",
          "",
          "",
          "",
          "",
          "",
          "",
          "",
          "",
          "",
          "",
          "",
          "",
          "",
          "",
          "",
          "",
          "",
          "",
          "",
          "",
          "",
          "",
          "",
          "",
          "",
          "",
          "",
          "",
          "",
          "",
          "",
          "",
          "",
          "",
          "",
          "",
          "",
          "",
          "",
          "",
          "",
          "",
          "",
          "",
          "",
          "",
          "",
          "",
          "",
          "",
          "",
          "",
          "",
          "",
          "",
          "",
          "",
          "",
          "",
          "",
          "",
          "",
          "",
          "",
          "",
          "",
          "",
          "",
          "",
          "",
          "",
          "",
          "",
          "",
          "",
          "",
          "BBS_ARP",
          "",
          "",
          "",
          "",
          "",
          "",
          "",
          "",
          "",
          "",
          "",
          "",
          "",
          "",
          "",
          "",
          "",
          "",
          "",
          "",
          "",
          "",
          "",
          "",
          "",
          "",
          "",
          "",
          "",
          "",
          "",
          "",
          "",
          "",
          "",
          "",
          "",
          "",
          "",
          "",
          "",
          "",
          "",
          "",
          "",
          "",
          "",
          "",
          "",
          "",
          "",
          "",
          "",
          "",
          "",
          "",
          "",
          "",
          "",
          "",
          "",
          "",
          "",
          "",
          "",
          "",
          "",
          "",
          "",
          "",
          "",
          "",
          "",
          "",
          "",
          "",
          "",
          "",
          "",
          "",
          "",
          "",
          "",
          "",
          "",
          "",
          "",
          "",
          "",
          "",
          "",
          "",
          "",
          "",
          "",
          "",
          "",
          "",
          "",
          "",
          "",
          "",
          "",
          "",
          "",
          "",
          "",
          "",
          "",
          "",
          "",
          "",
          "",
          "",
          "",
          "",
          "",
          "",
          "",
          "",
          "",
          "",
          "",
          "BBS_ABK",
          "",
          "",
          "",
          "",
          "",
          "",
          "",
          "",
          "",
          "",
          "",
          "",
          "",
          "",
          "",
          "",
          "",
          "",
          "",
          "",
          "",
          "",
          "",
          "",
          "",
          "",
          "",
          "",
          "",
          "",
          "",
          "",
          "",
          "",
          ""
         ],
         "type": "scatter",
         "x": [
          97,
          75,
          69,
          69,
          86,
          64,
          65,
          65,
          93,
          84,
          82,
          86,
          93,
          82,
          77,
          105,
          83,
          78,
          65,
          60,
          69,
          103,
          96,
          83,
          61,
          72,
          89,
          73,
          82,
          70,
          78,
          62,
          78,
          85,
          58,
          67,
          89,
          86,
          97,
          80,
          90,
          79,
          73,
          63,
          84,
          71,
          58,
          97,
          72,
          96,
          91,
          79,
          71,
          81,
          72,
          66,
          57,
          77,
          76,
          84,
          67,
          64,
          84,
          56,
          68,
          69,
          85,
          65,
          66,
          89,
          59,
          69,
          86,
          66,
          79,
          66,
          62,
          56,
          77,
          90,
          65,
          73,
          86,
          70,
          74,
          81,
          72,
          103,
          70,
          76,
          85,
          86,
          72,
          67,
          90,
          69,
          75,
          77,
          62,
          65,
          93,
          91,
          84,
          62,
          72,
          57,
          63,
          59,
          62,
          77,
          47,
          85,
          88,
          89,
          76,
          71,
          73,
          80,
          70,
          67,
          88,
          67,
          73,
          77,
          77,
          80,
          91,
          71,
          75,
          75,
          67,
          61,
          55,
          87,
          57,
          70,
          52,
          75,
          92,
          80,
          92,
          74,
          83,
          111,
          85,
          79,
          55,
          47,
          64,
          89,
          66,
          53,
          112,
          62,
          79,
          84,
          75,
          78,
          77,
          48,
          81,
          91,
          66,
          55,
          81,
          72,
          74,
          106,
          76,
          74,
          72,
          85,
          96,
          77,
          57,
          72,
          82,
          61,
          54,
          68,
          64,
          79,
          76,
          77,
          77,
          65,
          68,
          85,
          75,
          91,
          89,
          75,
          86,
          75,
          89,
          62,
          67,
          62,
          61,
          76,
          81,
          77,
          63,
          84,
          83,
          69,
          103,
          97,
          56,
          86,
          61,
          81,
          98,
          62,
          76,
          81,
          91,
          101,
          74,
          67,
          76,
          71,
          97,
          82,
          71,
          97,
          86,
          66,
          82,
          68,
          74,
          79,
          68,
          89,
          97,
          88,
          89,
          66,
          54,
          57,
          52,
          95,
          59,
          63,
          61,
          91,
          78,
          59,
          87,
          81,
          67,
          52,
          57,
          95,
          72,
          76,
          41,
          84,
          71,
          83,
          68,
          74,
          74,
          77,
          86,
          63,
          55,
          105,
          70,
          76,
          68,
          81,
          73,
          74,
          66,
          85,
          51,
          68,
          59,
          84,
          62,
          67,
          75,
          73,
          70,
          89,
          66,
          56,
          84,
          76,
          72,
          74,
          65,
          61,
          70,
          101,
          71,
          97,
          55,
          82,
          78,
          67,
          70,
          50,
          86,
          61,
          94,
          77,
          83,
          71,
          72,
          95,
          67,
          63,
          98,
          87,
          101,
          61,
          61,
          81,
          69,
          57,
          72,
          76,
          69,
          82,
          79,
          79,
          89,
          74,
          69,
          86,
          99,
          76,
          79,
          72,
          87,
          73,
          88,
          81,
          85,
          75,
          119,
          55,
          57,
          91,
          80,
          97,
          80,
          66,
          78,
          83,
          71,
          86,
          91,
          82,
          81,
          73,
          49,
          80,
          82,
          93,
          76,
          62,
          77,
          60,
          55,
          90,
          51,
          88,
          71,
          55,
          63,
          71,
          65,
          79,
          71,
          91,
          81,
          69,
          79,
          53,
          67,
          78,
          89,
          70,
          64,
          70,
          90,
          93,
          73,
          82,
          103,
          80,
          67,
          87,
          87,
          82,
          93,
          74,
          74,
          77,
          74,
          72,
          72,
          100,
          67,
          72,
          79,
          79,
          61,
          75,
          69,
          62,
          70,
          63,
          83,
          87,
          85,
          100,
          78,
          87,
          66,
          75,
          73,
          64,
          66,
          50,
          103,
          69,
          74,
          85,
          76,
          71,
          68,
          82,
          92,
          55,
          90,
          79,
          73,
          88,
          70,
          52,
          76,
          67,
          78,
          82,
          77,
          58,
          63,
          72,
          84,
          80,
          86,
          97,
          61,
          85,
          74,
          82,
          76,
          104,
          61,
          63,
          79,
          62,
          81,
          69,
          72,
          71,
          68,
          72,
          99,
          60,
          83,
          60,
          78,
          77,
          67,
          77,
          79,
          57,
          98,
          76,
          90,
          81,
          75,
          59,
          95,
          77,
          93,
          75,
          73,
          78,
          66,
          68,
          93,
          67,
          68,
          52
         ],
         "xaxis": "x",
         "y": [
          7.268314960626288,
          5.973901572674261,
          6.783865662978103,
          6.368324391514267,
          11.139778927618492,
          10.099504938362077,
          6.014386045655271,
          6.844705983459042,
          10.173698060754749,
          11.682652738141282,
          6.942621983083913,
          9.506848336291906,
          11.694443124834974,
          10.278828775091759,
          6.844705983459042,
          15.627610892974724,
          9.598900399987953,
          9.798469268207153,
          9.806775183829435,
          6.487680633323438,
          5.15363949069005,
          14.421058981529766,
          13.712209572422116,
          7.6684780468848945,
          5.621387729022079,
          9.17877987534291,
          7.942978603201012,
          8.176758220713145,
          11.185307823708346,
          7.1545440106270926,
          15.122417134836613,
          6.95796113387362,
          8.701666981932991,
          9.767790037783481,
          6.307545003164238,
          7.093040567330482,
          10.372927896023121,
          8.004131164747323,
          9.921176949642401,
          9.596810169639637,
          8.292164976651152,
          9.812528434899656,
          8.004131164747323,
          6.99205898780101,
          10.863240768757727,
          12.042331646292173,
          8.739574662948776,
          11.26230465636761,
          7.729363205048366,
          10.053675392058812,
          10.86354127002884,
          9.580071908799942,
          6.818357573492315,
          8.437268515343103,
          4.844695488899719,
          9.98436277385793,
          3.7035086514494533,
          6.006883104247923,
          9.009636714041708,
          10.020387381000104,
          7.292019865511083,
          7.161703707917551,
          8.956003573022958,
          4.386342439892261,
          6.574360974438673,
          9.449338601193208,
          6.36735501417529,
          7.480014524314149,
          6.340668863192042,
          10.314798191355711,
          6.193545026880809,
          7.621679604916491,
          10.122703976827,
          10.328964130056798,
          10.869625583734637,
          8.674675786448736,
          5.455272678794342,
          5.554277630799526,
          8.908163217006434,
          12.234786471369251,
          9.057593499379403,
          6.171709649683789,
          9.506848336291906,
          8.727705282957992,
          8.985755485928413,
          8.697867127174538,
          9.482529585872053,
          14.384909448262464,
          7.0710678118654755,
          7.704415921493208,
          6.440441750441378,
          8.541585197488251,
          6.8935231309559555,
          6.963072238602727,
          11.175369742826806,
          6.034069936618236,
          7.876547467006087,
          8.844332774281067,
          6.623274763667994,
          7.323933369440223,
          8.337553172208755,
          7.872504770461987,
          10.038198648102428,
          7.75806032459145,
          3.06752705321766,
          4.870546398734152,
          4.8498281756504875,
          8.127089686773457,
          7.955121030963888,
          6.775671348451179,
          2.987577586391815,
          10.187137859957417,
          9.398434896960062,
          10.144411806955143,
          8.777243302996675,
          6.335525936249404,
          7.0722364868279,
          8.400975472460855,
          6.253887679764573,
          6.421837743200928,
          8.784063029920121,
          11.106665777422045,
          7.475580079208647,
          8.9,
          10.188719252192595,
          15.358272793835788,
          11.799761650135142,
          10.492378186092987,
          9.78698748169947,
          6.575687752736409,
          5.8081300777444715,
          6.318939316280878,
          5.453719423985392,
          10.879309490955757,
          6.290976783369088,
          8.706319543871567,
          4.830458915396479,
          7.914473380389177,
          11.482017884234354,
          8.689428798229846,
          7.912016177940993,
          9.221713506718803,
          10.534477044997072,
          13.894665465388568,
          10.269911118416035,
          10.270832488167647,
          7.1867934435323795,
          4.583666654546336,
          8.215838362577491,
          10.771475820797477,
          6.875516509523286,
          5.71788552491505,
          15.868780098614444,
          6.624522437176974,
          8.4,
          13.791449584168195,
          8.090117428072352,
          10.329150885948533,
          12.751862609046569,
          4.540625942600567,
          7.493247649089046,
          11.87399408527687,
          8.495988358149873,
          5.714017850864661,
          11.929836027972932,
          7.258787777583803,
          9.086362499431463,
          9.528556471457366,
          9.140872800534726,
          8.532617157446802,
          9.637945839233586,
          13.841251638258017,
          12.666491226855209,
          11.85261047195933,
          8.773801447305193,
          5.235429516498357,
          6.932973078159135,
          9.186678492708618,
          5.342584568965026,
          8.731947868617112,
          8.73155198117723,
          6.102458520956943,
          4.9805175991613115,
          5.955856128401879,
          14.299270463994628,
          6.9781240226892685,
          5.634713834792322,
          9.123595782365635,
          11.362707032706208,
          10.016515287883141,
          12.419742348374221,
          7.632033404296492,
          11.709445380166862,
          10.572848432042434,
          10.5033798205302,
          6.764613810115105,
          7.296574538781879,
          6.226189211609734,
          6.69278629792944,
          6.917670609870541,
          12.98075498574717,
          6.49519052838329,
          5.055250296034367,
          11.990737165736633,
          8.446232472245043,
          9.256889326334198,
          15.58489297008128,
          14.0089257261219,
          5.768251665169202,
          13.039938650162432,
          8.528445051707843,
          9.003085890713004,
          9.297311439335566,
          8.10273540155757,
          6.545991139621257,
          8.605553762283723,
          12.939555586086875,
          13.637608844661882,
          8.624393618641035,
          9.500761170028293,
          11.440106339446816,
          7.2283138220513905,
          14.198943622678414,
          8.027729719194863,
          6.030494499236812,
          9.334907383995226,
          14.506464076404008,
          6.006940430313366,
          8.89325587172662,
          8.234225472732847,
          8.202679477907445,
          8.949974347244048,
          7.271590820298625,
          8.454124568648265,
          12.056451579604921,
          7.102112361825882,
          12.27262335243029,
          7.490619133289317,
          6.48074069840786,
          4.737087712930805,
          5.3563046963368315,
          11.80499998692749,
          5.314592925068078,
          4.946940693218609,
          7.111707874265428,
          10.443076713290457,
          9.497894503520241,
          7.009693464705557,
          8.360671411213396,
          6.273289939630295,
          3.890475866669244,
          5.943257864974965,
          4.729020655869074,
          9.650932383338336,
          5.228129047119374,
          8.43976254622929,
          3.8618104882183926,
          7.681145747868608,
          9.617172141539319,
          10.58347768930421,
          7.243558228002943,
          6.696230743697495,
          6.58196885814471,
          8.307225770376053,
          9.649219554789338,
          7.338539818428913,
          4.290655220618667,
          13.793039327294673,
          6.605973727535471,
          7.803133273813084,
          7.96376089566392,
          12.373807462180391,
          7.533923280734945,
          15.336956093769787,
          6.056929133855239,
          8.234225472732847,
          3.714835124201342,
          7.743384273042375,
          6.491447364716816,
          10.67707825203131,
          7.411983540186797,
          8.061288668693114,
          8.54458893101359,
          6.554387843269576,
          6.465291950097845,
          12.059523156635676,
          6.522687678055308,
          6.590902821313633,
          6.286546043498353,
          8.827041784576908,
          8.014449760194251,
          9.084636054619798,
          7.115342519763452,
          8.410373059502177,
          9.986410519387253,
          12.234786471369247,
          8.558215675919575,
          13.105342422081156,
          5.439056290693573,
          9.47417542586161,
          12.080459428349569,
          10.128000241355096,
          9.417536832951598,
          2.7367864366808017,
          9.189124006128115,
          6.237765803733114,
          11.840080236214618,
          11.639775556255369,
          9.349316671405575,
          9.752492558885196,
          7.041050268879557,
          8.982836858403438,
          9.089004345911603,
          7.085079188508624,
          9.076923076923077,
          11.579406056793205,
          12.92523610596966,
          7.049998534669562,
          6.959148803274414,
          9.159148432032314,
          9.649219554789337,
          4.8207540303864915,
          9.902833720833614,
          6.850227721376185,
          5.059410354586261,
          7.241853660800143,
          13.241349377360805,
          8.960468737739115,
          6.184408911144776,
          8.18691090730085,
          12.175154003132773,
          7.127801593447699,
          11.503086005690863,
          6.12542515531235,
          7.346219582122518,
          8.886799570799953,
          8.85045640136127,
          6.394528911499267,
          11.232096865679178,
          11.3016987688457,
          7.0722364868279,
          9.990495483208027,
          18.09479172588913,
          4.483164667073781,
          7.552483035399683,
          7.369375299690762,
          9.021579068482906,
          13.283448347473632,
          7.602631123499285,
          7.263981834969401,
          13.289469515371936,
          9.911325592472481,
          8.193930428540908,
          8.680899993166493,
          10.857096444716541,
          9.499021263197472,
          8.312094145936335,
          5.249761899362675,
          4.666666666666667,
          10.556140334678775,
          8.129575634681062,
          9.937806599043876,
          10.078702640398728,
          7.02068372738724,
          9.464684195131936,
          9.08845421400141,
          6.607141665474892,
          12.777821695137527,
          3.961060464067672,
          8.56186635936088,
          7.397447007057382,
          5.142956348249516,
          11.406549653598146,
          5.89915248150105,
          8.238722183074056,
          10.793053321465617,
          9.148223871331528,
          10.347772170321923,
          6.767645115412249,
          7.476986387829456,
          6.514598989960933,
          4.281422487024225,
          7.212814385385546,
          8.475848040166836,
          8.45944029930555,
          7.349593793239177,
          5.931905258852336,
          10.705946195951915,
          9.582180431310078,
          14.097318007337424,
          5.851212386380497,
          8.874683092933516,
          18.22764147058656,
          7.147726911403373,
          8.93364427319557,
          12.39274977208772,
          7.323857514239943,
          7.608547824650903,
          11.56473326780845,
          7.369230323144714,
          4.2708313008125245,
          8.233172169154617,
          4.769046199492364,
          5.020943790086669,
          7.7259303646874775,
          11.61827762622326,
          9.16733330909267,
          9.715966241192895,
          9.332251019497338,
          8.83685464404615,
          4.898979485566356,
          8.842369591913696,
          7.647875521999557,
          5.546169849544819,
          6.5106749948748694,
          7.858753081755401,
          13.183702059740277,
          10.103595628690767,
          10.754068997360953,
          10.719595245260997,
          8.349790911421842,
          9.509863300805117,
          4.807019660509922,
          7.113019142552201,
          4.772510817602432,
          7.131210743391803,
          4.424521317486095,
          6.751314458205916,
          10.302852048368866,
          8.781293248212995,
          7.760889443786562,
          7.337214099629481,
          9.78360916351746,
          8.431488599292535,
          7.4269778510508555,
          8.37779804005802,
          11.897898974188678,
          6.352902879786531,
          11.998333217576516,
          12.004556426624017,
          9.527089382322673,
          9.777694297999092,
          7.6609398901179215,
          4.079079416840139,
          10.509519494249012,
          5.885575587824865,
          7.089743493943724,
          13.337036522776584,
          7.36082999272624,
          5.028842431250665,
          7.08590149522275,
          9.237604307034012,
          10.140981519204121,
          13.74261165135652,
          9.654526220545982,
          10.132456102380443,
          7.785343296729688,
          10.828203913853857,
          9.004242827072629,
          8.52994724485445,
          14.004372495031394,
          18.874586088176873,
          6.48074069840786,
          6.768308503607086,
          5.497713349294043,
          7.243771270700243,
          14.852924796147054,
          6.137478232405752,
          10.327955589886445,
          7.465145347662588,
          5.367487061500186,
          6.773794912798967,
          12.361630853385481,
          4.4147480109288235,
          10.285912696499032,
          5.94418483337567,
          11.725373128391267,
          7.132743725793829,
          7.3169112392214135,
          6.536610186271836,
          7.181670341145497,
          4.517712056143267,
          12.788166017167772,
          11.653431646335017,
          12.829003598617211,
          5.508805567045383,
          7.6398209341139305,
          4.763544691161337,
          10.586941642104831,
          7.316911239221413,
          11.594734573179553,
          6.639490962166181,
          7.2076776623230465,
          11.74734012447073,
          7.952986860293433,
          9.007541422004996,
          11.348717479510716,
          8.150942879353602,
          7.548799573442125,
          5.8267158231675085
         ],
         "yaxis": "y"
        }
       ],
       "layout": {
        "autosize": true,
        "coloraxis": {
         "colorbar": {
          "title": {
           "text": "score"
          }
         },
         "colorscale": [
          [
           0,
           "#0d0887"
          ],
          [
           0.1111111111111111,
           "#46039f"
          ],
          [
           0.2222222222222222,
           "#7201a8"
          ],
          [
           0.3333333333333333,
           "#9c179e"
          ],
          [
           0.4444444444444444,
           "#bd3786"
          ],
          [
           0.5555555555555556,
           "#d8576b"
          ],
          [
           0.6666666666666666,
           "#ed7953"
          ],
          [
           0.7777777777777778,
           "#fb9f3a"
          ],
          [
           0.8888888888888888,
           "#fdca26"
          ],
          [
           1,
           "#f0f921"
          ]
         ]
        },
        "legend": {
         "tracegroupgap": 0
        },
        "margin": {
         "t": 60
        },
        "template": {
         "data": {
          "bar": [
           {
            "error_x": {
             "color": "#2a3f5f"
            },
            "error_y": {
             "color": "#2a3f5f"
            },
            "marker": {
             "line": {
              "color": "#E5ECF6",
              "width": 0.5
             },
             "pattern": {
              "fillmode": "overlay",
              "size": 10,
              "solidity": 0.2
             }
            },
            "type": "bar"
           }
          ],
          "barpolar": [
           {
            "marker": {
             "line": {
              "color": "#E5ECF6",
              "width": 0.5
             },
             "pattern": {
              "fillmode": "overlay",
              "size": 10,
              "solidity": 0.2
             }
            },
            "type": "barpolar"
           }
          ],
          "carpet": [
           {
            "aaxis": {
             "endlinecolor": "#2a3f5f",
             "gridcolor": "white",
             "linecolor": "white",
             "minorgridcolor": "white",
             "startlinecolor": "#2a3f5f"
            },
            "baxis": {
             "endlinecolor": "#2a3f5f",
             "gridcolor": "white",
             "linecolor": "white",
             "minorgridcolor": "white",
             "startlinecolor": "#2a3f5f"
            },
            "type": "carpet"
           }
          ],
          "choropleth": [
           {
            "colorbar": {
             "outlinewidth": 0,
             "ticks": ""
            },
            "type": "choropleth"
           }
          ],
          "contour": [
           {
            "colorbar": {
             "outlinewidth": 0,
             "ticks": ""
            },
            "colorscale": [
             [
              0,
              "#0d0887"
             ],
             [
              0.1111111111111111,
              "#46039f"
             ],
             [
              0.2222222222222222,
              "#7201a8"
             ],
             [
              0.3333333333333333,
              "#9c179e"
             ],
             [
              0.4444444444444444,
              "#bd3786"
             ],
             [
              0.5555555555555556,
              "#d8576b"
             ],
             [
              0.6666666666666666,
              "#ed7953"
             ],
             [
              0.7777777777777778,
              "#fb9f3a"
             ],
             [
              0.8888888888888888,
              "#fdca26"
             ],
             [
              1,
              "#f0f921"
             ]
            ],
            "type": "contour"
           }
          ],
          "contourcarpet": [
           {
            "colorbar": {
             "outlinewidth": 0,
             "ticks": ""
            },
            "type": "contourcarpet"
           }
          ],
          "heatmap": [
           {
            "colorbar": {
             "outlinewidth": 0,
             "ticks": ""
            },
            "colorscale": [
             [
              0,
              "#0d0887"
             ],
             [
              0.1111111111111111,
              "#46039f"
             ],
             [
              0.2222222222222222,
              "#7201a8"
             ],
             [
              0.3333333333333333,
              "#9c179e"
             ],
             [
              0.4444444444444444,
              "#bd3786"
             ],
             [
              0.5555555555555556,
              "#d8576b"
             ],
             [
              0.6666666666666666,
              "#ed7953"
             ],
             [
              0.7777777777777778,
              "#fb9f3a"
             ],
             [
              0.8888888888888888,
              "#fdca26"
             ],
             [
              1,
              "#f0f921"
             ]
            ],
            "type": "heatmap"
           }
          ],
          "heatmapgl": [
           {
            "colorbar": {
             "outlinewidth": 0,
             "ticks": ""
            },
            "colorscale": [
             [
              0,
              "#0d0887"
             ],
             [
              0.1111111111111111,
              "#46039f"
             ],
             [
              0.2222222222222222,
              "#7201a8"
             ],
             [
              0.3333333333333333,
              "#9c179e"
             ],
             [
              0.4444444444444444,
              "#bd3786"
             ],
             [
              0.5555555555555556,
              "#d8576b"
             ],
             [
              0.6666666666666666,
              "#ed7953"
             ],
             [
              0.7777777777777778,
              "#fb9f3a"
             ],
             [
              0.8888888888888888,
              "#fdca26"
             ],
             [
              1,
              "#f0f921"
             ]
            ],
            "type": "heatmapgl"
           }
          ],
          "histogram": [
           {
            "marker": {
             "pattern": {
              "fillmode": "overlay",
              "size": 10,
              "solidity": 0.2
             }
            },
            "type": "histogram"
           }
          ],
          "histogram2d": [
           {
            "colorbar": {
             "outlinewidth": 0,
             "ticks": ""
            },
            "colorscale": [
             [
              0,
              "#0d0887"
             ],
             [
              0.1111111111111111,
              "#46039f"
             ],
             [
              0.2222222222222222,
              "#7201a8"
             ],
             [
              0.3333333333333333,
              "#9c179e"
             ],
             [
              0.4444444444444444,
              "#bd3786"
             ],
             [
              0.5555555555555556,
              "#d8576b"
             ],
             [
              0.6666666666666666,
              "#ed7953"
             ],
             [
              0.7777777777777778,
              "#fb9f3a"
             ],
             [
              0.8888888888888888,
              "#fdca26"
             ],
             [
              1,
              "#f0f921"
             ]
            ],
            "type": "histogram2d"
           }
          ],
          "histogram2dcontour": [
           {
            "colorbar": {
             "outlinewidth": 0,
             "ticks": ""
            },
            "colorscale": [
             [
              0,
              "#0d0887"
             ],
             [
              0.1111111111111111,
              "#46039f"
             ],
             [
              0.2222222222222222,
              "#7201a8"
             ],
             [
              0.3333333333333333,
              "#9c179e"
             ],
             [
              0.4444444444444444,
              "#bd3786"
             ],
             [
              0.5555555555555556,
              "#d8576b"
             ],
             [
              0.6666666666666666,
              "#ed7953"
             ],
             [
              0.7777777777777778,
              "#fb9f3a"
             ],
             [
              0.8888888888888888,
              "#fdca26"
             ],
             [
              1,
              "#f0f921"
             ]
            ],
            "type": "histogram2dcontour"
           }
          ],
          "mesh3d": [
           {
            "colorbar": {
             "outlinewidth": 0,
             "ticks": ""
            },
            "type": "mesh3d"
           }
          ],
          "parcoords": [
           {
            "line": {
             "colorbar": {
              "outlinewidth": 0,
              "ticks": ""
             }
            },
            "type": "parcoords"
           }
          ],
          "pie": [
           {
            "automargin": true,
            "type": "pie"
           }
          ],
          "scatter": [
           {
            "fillpattern": {
             "fillmode": "overlay",
             "size": 10,
             "solidity": 0.2
            },
            "type": "scatter"
           }
          ],
          "scatter3d": [
           {
            "line": {
             "colorbar": {
              "outlinewidth": 0,
              "ticks": ""
             }
            },
            "marker": {
             "colorbar": {
              "outlinewidth": 0,
              "ticks": ""
             }
            },
            "type": "scatter3d"
           }
          ],
          "scattercarpet": [
           {
            "marker": {
             "colorbar": {
              "outlinewidth": 0,
              "ticks": ""
             }
            },
            "type": "scattercarpet"
           }
          ],
          "scattergeo": [
           {
            "marker": {
             "colorbar": {
              "outlinewidth": 0,
              "ticks": ""
             }
            },
            "type": "scattergeo"
           }
          ],
          "scattergl": [
           {
            "marker": {
             "colorbar": {
              "outlinewidth": 0,
              "ticks": ""
             }
            },
            "type": "scattergl"
           }
          ],
          "scattermapbox": [
           {
            "marker": {
             "colorbar": {
              "outlinewidth": 0,
              "ticks": ""
             }
            },
            "type": "scattermapbox"
           }
          ],
          "scatterpolar": [
           {
            "marker": {
             "colorbar": {
              "outlinewidth": 0,
              "ticks": ""
             }
            },
            "type": "scatterpolar"
           }
          ],
          "scatterpolargl": [
           {
            "marker": {
             "colorbar": {
              "outlinewidth": 0,
              "ticks": ""
             }
            },
            "type": "scatterpolargl"
           }
          ],
          "scatterternary": [
           {
            "marker": {
             "colorbar": {
              "outlinewidth": 0,
              "ticks": ""
             }
            },
            "type": "scatterternary"
           }
          ],
          "surface": [
           {
            "colorbar": {
             "outlinewidth": 0,
             "ticks": ""
            },
            "colorscale": [
             [
              0,
              "#0d0887"
             ],
             [
              0.1111111111111111,
              "#46039f"
             ],
             [
              0.2222222222222222,
              "#7201a8"
             ],
             [
              0.3333333333333333,
              "#9c179e"
             ],
             [
              0.4444444444444444,
              "#bd3786"
             ],
             [
              0.5555555555555556,
              "#d8576b"
             ],
             [
              0.6666666666666666,
              "#ed7953"
             ],
             [
              0.7777777777777778,
              "#fb9f3a"
             ],
             [
              0.8888888888888888,
              "#fdca26"
             ],
             [
              1,
              "#f0f921"
             ]
            ],
            "type": "surface"
           }
          ],
          "table": [
           {
            "cells": {
             "fill": {
              "color": "#EBF0F8"
             },
             "line": {
              "color": "white"
             }
            },
            "header": {
             "fill": {
              "color": "#C8D4E3"
             },
             "line": {
              "color": "white"
             }
            },
            "type": "table"
           }
          ]
         },
         "layout": {
          "annotationdefaults": {
           "arrowcolor": "#2a3f5f",
           "arrowhead": 0,
           "arrowwidth": 1
          },
          "autotypenumbers": "strict",
          "coloraxis": {
           "colorbar": {
            "outlinewidth": 0,
            "ticks": ""
           }
          },
          "colorscale": {
           "diverging": [
            [
             0,
             "#8e0152"
            ],
            [
             0.1,
             "#c51b7d"
            ],
            [
             0.2,
             "#de77ae"
            ],
            [
             0.3,
             "#f1b6da"
            ],
            [
             0.4,
             "#fde0ef"
            ],
            [
             0.5,
             "#f7f7f7"
            ],
            [
             0.6,
             "#e6f5d0"
            ],
            [
             0.7,
             "#b8e186"
            ],
            [
             0.8,
             "#7fbc41"
            ],
            [
             0.9,
             "#4d9221"
            ],
            [
             1,
             "#276419"
            ]
           ],
           "sequential": [
            [
             0,
             "#0d0887"
            ],
            [
             0.1111111111111111,
             "#46039f"
            ],
            [
             0.2222222222222222,
             "#7201a8"
            ],
            [
             0.3333333333333333,
             "#9c179e"
            ],
            [
             0.4444444444444444,
             "#bd3786"
            ],
            [
             0.5555555555555556,
             "#d8576b"
            ],
            [
             0.6666666666666666,
             "#ed7953"
            ],
            [
             0.7777777777777778,
             "#fb9f3a"
            ],
            [
             0.8888888888888888,
             "#fdca26"
            ],
            [
             1,
             "#f0f921"
            ]
           ],
           "sequentialminus": [
            [
             0,
             "#0d0887"
            ],
            [
             0.1111111111111111,
             "#46039f"
            ],
            [
             0.2222222222222222,
             "#7201a8"
            ],
            [
             0.3333333333333333,
             "#9c179e"
            ],
            [
             0.4444444444444444,
             "#bd3786"
            ],
            [
             0.5555555555555556,
             "#d8576b"
            ],
            [
             0.6666666666666666,
             "#ed7953"
            ],
            [
             0.7777777777777778,
             "#fb9f3a"
            ],
            [
             0.8888888888888888,
             "#fdca26"
            ],
            [
             1,
             "#f0f921"
            ]
           ]
          },
          "colorway": [
           "#636efa",
           "#EF553B",
           "#00cc96",
           "#ab63fa",
           "#FFA15A",
           "#19d3f3",
           "#FF6692",
           "#B6E880",
           "#FF97FF",
           "#FECB52"
          ],
          "font": {
           "color": "#2a3f5f"
          },
          "geo": {
           "bgcolor": "white",
           "lakecolor": "white",
           "landcolor": "#E5ECF6",
           "showlakes": true,
           "showland": true,
           "subunitcolor": "white"
          },
          "hoverlabel": {
           "align": "left"
          },
          "hovermode": "closest",
          "mapbox": {
           "style": "light"
          },
          "paper_bgcolor": "white",
          "plot_bgcolor": "#E5ECF6",
          "polar": {
           "angularaxis": {
            "gridcolor": "white",
            "linecolor": "white",
            "ticks": ""
           },
           "bgcolor": "#E5ECF6",
           "radialaxis": {
            "gridcolor": "white",
            "linecolor": "white",
            "ticks": ""
           }
          },
          "scene": {
           "xaxis": {
            "backgroundcolor": "#E5ECF6",
            "gridcolor": "white",
            "gridwidth": 2,
            "linecolor": "white",
            "showbackground": true,
            "ticks": "",
            "zerolinecolor": "white"
           },
           "yaxis": {
            "backgroundcolor": "#E5ECF6",
            "gridcolor": "white",
            "gridwidth": 2,
            "linecolor": "white",
            "showbackground": true,
            "ticks": "",
            "zerolinecolor": "white"
           },
           "zaxis": {
            "backgroundcolor": "#E5ECF6",
            "gridcolor": "white",
            "gridwidth": 2,
            "linecolor": "white",
            "showbackground": true,
            "ticks": "",
            "zerolinecolor": "white"
           }
          },
          "shapedefaults": {
           "line": {
            "color": "#2a3f5f"
           }
          },
          "ternary": {
           "aaxis": {
            "gridcolor": "white",
            "linecolor": "white",
            "ticks": ""
           },
           "baxis": {
            "gridcolor": "white",
            "linecolor": "white",
            "ticks": ""
           },
           "bgcolor": "#E5ECF6",
           "caxis": {
            "gridcolor": "white",
            "linecolor": "white",
            "ticks": ""
           }
          },
          "title": {
           "x": 0.05
          },
          "xaxis": {
           "automargin": true,
           "gridcolor": "white",
           "linecolor": "white",
           "ticks": "",
           "title": {
            "standoff": 15
           },
           "zerolinecolor": "white",
           "zerolinewidth": 2
          },
          "yaxis": {
           "automargin": true,
           "gridcolor": "white",
           "linecolor": "white",
           "ticks": "",
           "title": {
            "standoff": 15
           },
           "zerolinecolor": "white",
           "zerolinewidth": 2
          }
         }
        },
        "xaxis": {
         "anchor": "y",
         "autorange": true,
         "domain": [
          0,
          1
         ],
         "range": [
          36.427308882015026,
          123.57269111798497
         ],
         "title": {
          "text": "num_products"
         },
         "type": "linear"
        },
        "yaxis": {
         "anchor": "x",
         "autorange": true,
         "domain": [
          0,
          1
         ],
         "range": [
          1.487271765501972,
          20.124100759355702
         ],
         "title": {
          "text": "base_balance"
         },
         "type": "linear"
        }
       }
      },
      "image/png": "[encoded data removed]",
      "text/html": [
       "<div>                            <div id=\"b61c0087-c79a-465d-a890-dfd550198396\" class=\"plotly-graph-div\" style=\"height:525px; width:100%;\"></div>            <script type=\"text/javascript\">                require([\"plotly\"], function(Plotly) {                    window.PLOTLYENV=window.PLOTLYENV || {};                                    if (document.getElementById(\"b61c0087-c79a-465d-a890-dfd550198396\")) {                    Plotly.newPlot(                        \"b61c0087-c79a-465d-a890-dfd550198396\",                        [{\"customdata\":[[\"BBS_AMU\",0.8338160218351284,\"BBS_AMU\",13,52,130],[\"BBS_AIF\",0.6931483821376148,\"\",12,49,133],[\"BBS_AJX\",0.7271126042127913,\"\",12,52,136],[\"BBS_ANK\",0.6423880308555487,\"\",12,49,132],[\"BBS_AHH\",0.6691364247140166,\"\",13,52,126],[\"BBS_AOE\",0.20491223089859112,\"\",8,48,119],[\"BBS_AKV\",0.60159141346472,\"\",9,50,146],[\"BBS_AHD\",0.3546712506587384,\"\",10,46,123],[\"BBS_ALW\",0.6226085695332337,\"\",11,49,132],[\"BBS_AOI\",0.5387130018147482,\"\",8,52,137],[\"BBS_AKZ\",0.5376765787135449,\"\",10,48,128],[\"BBS_AMY\",0.6682324169347296,\"\",11,50,133],[\"BBS_AIJ\",0.4063561307051367,\"\",10,48,122],[\"BBS_AJT\",0.47609922424839823,\"\",9,47,142],[\"BBS_ANG\",0.3600866352741231,\"\",10,46,112],[\"BBS_AOQ\",0.3978372730369394,\"\",9,47,126],[\"BBS_AKB\",0.31306366659573603,\"\",6,46,123],[\"BBS_ALO\",0.4297381004881694,\"\",10,49,124],[\"BBS_AJL\",0.38985281316966325,\"\",9,50,126],[\"BBS_AMA\",0.2553177170016278,\"\",10,45,105],[\"BBS_AIR\",0.3468977901635394,\"\",10,44,116],[\"BBS_ANS\",0.5173290609135437,\"\",11,47,128],[\"BBS_AMM\",0.3657402298226767,\"\",9,47,122],[\"BBS_AKN\",0.6303356707079112,\"\",12,47,132],[\"BBS_AHP\",0.381703016139857,\"\",10,49,111],[\"BBS_ALC\",0.24209652740973525,\"\",8,46,120],[\"BBS_AAD\",0.7720753143570367,\"\",11,51,137],[\"BBS_AEW\",0.3753337896539513,\"\",8,47,128],[\"BBS_ARK\",0.4082567885020934,\"\",9,49,124],[\"BBS_AFI\",0.3660856215342989,\"\",12,41,107],[\"BBS_ABZ\",0.3213387850878184,\"\",8,47,130],[\"BBS_AQU\",0.35979221102977826,\"\",11,45,117],[\"BBS_ASE\",0.6185820990510222,\"\",11,50,128],[\"BBS_ADY\",0.6009994119694005,\"\",12,48,135],[\"BBS_ACT\",0.37834262767030585,\"\",11,47,106],[\"BBS_AGG\",0.5093347718570553,\"\",14,48,120],[\"BBS_ADU\",0.5983974845124449,\"\",13,49,124],[\"BBS_ASI\",0.7718541326517865,\"\",11,51,141],[\"BBS_ACX\",0.5143493036165377,\"\",11,47,123],[\"BBS_AGK\",0.6049950688250705,\"\",9,51,144],[\"BBS_ATD\",0.7025828904257642,\"\",10,52,138],[\"BBS_APW\",0.5255603678060463,\"\",7,52,133],[\"BBS_ARG\",0.49291823521588884,\"\",11,48,126],[\"BBS_AAH\",0.32109142259746226,\"\",9,46,123],[\"BBS_AQY\",0.3098312337066373,\"\",10,46,117],[\"BBS_AFE\",0.3193281148108439,\"\",13,46,109],[\"BBS_ABV\",0.3831060183311031,\"\",11,47,124],[\"BBS_APO\",0.5078666490465646,\"\",9,49,130],[\"BBS_AGS\",0.4774272769011202,\"\",12,47,121],[\"BBS_ASQ\",0.795244607988921,\"\",12,55,150],[\"BBS_ADM\",0.5283883031385294,\"\",11,47,128],[\"BBS_ABN\",0.5759826724314556,\"\",9,52,134],[\"BBS_AQA\",0.6111397208380966,\"\",10,50,137],[\"BBS_AAP\",0.49294314371941755,\"\",12,46,123],[\"BBS_AEC\",0.683500071698444,\"\",11,49,136],[\"BBS_AQM\",0.39502991671549487,\"\",8,50,131],[\"BBS_AFQ\",0.6926961391051509,\"\",13,50,130],[\"BBS_ABB\",0.7903434035202929,\"\",11,52,142],[\"BBS_ARS\",0.46062083548365335,\"\",11,49,116],[\"BBS_AEO\",0.44706805432732516,\"\",7,49,130],[\"BBS_ACL\",0.40535093560191643,\"\",11,46,121],[\"BBS_APC\",0.29396362218278793,\"\",10,46,116],[\"BBS_ADA\",0.556196560273036,\"\",10,50,127],[\"BBS_AAJ\",0.33641452528189586,\"\",10,46,118],[\"BBS_AEY\",0.4773760497850833,\"\",12,47,119],[\"BBS_ARE\",0.3809070793919716,\"\",10,48,128],[\"BBS_AFG\",0.6394734354614197,\"\",9,50,129],[\"BBS_ABT\",0.398893389393741,\"\",9,48,129],[\"BBS_ASK\",0.4651651407152444,\"\",14,45,119],[\"BBS_ADW\",0.6074352845838047,\"\",9,51,136],[\"BBS_ATF\",0.4790101421149764,\"\",10,52,119],[\"BBS_APU\",0.5865917382629009,\"\",10,50,142],[\"BBS_ACZ\",0.4598837410598881,\"\",9,48,131],[\"BBS_AGI\",0.28335387404721013,\"\",8,49,124],[\"BBS_ASG\",0.46153115106983006,\"\",11,48,126],[\"BBS_ACV\",0.3654844503686447,\"\",10,47,127],[\"BBS_AGE\",0.4750170549481041,\"\",10,48,130],[\"BBS_APY\",0.2863138923926945,\"\",10,45,114],[\"BBS_ARI\",0.4310066547954353,\"\",11,46,123],[\"BBS_AAF\",0.35457070680324054,\"\",10,47,118],[\"BBS_AEU\",0.4098684991368885,\"\",10,49,128],[\"BBS_AQW\",0.3671074993667778,\"\",10,45,118],[\"BBS_AFK\",0.47430164770396016,\"\",11,47,120],[\"BBS_ABX\",0.33093719719323533,\"\",9,48,122],[\"BBS_APA\",0.5361833124116562,\"\",11,49,128],[\"BBS_ACN\",0.550314745790453,\"\",11,49,124],[\"BBS_ADC\",0.41312754463092466,\"\",7,49,133],[\"BBS_AFS\",0.47140555963138847,\"\",11,48,122],[\"BBS_AQO\",0.5552792053384117,\"\",9,50,133],[\"BBS_AEM\",0.41748212522225864,\"\",9,47,125],[\"BBS_ARQ\",0.8723884048049193,\"BBS_ARQ\",13,52,139],[\"BBS_AQC\",0.6328137988835913,\"\",11,49,130],[\"BBS_ABL\",0.5588638072373243,\"\",11,47,130],[\"BBS_AAR\",0.5627949445007518,\"\",8,52,138],[\"BBS_AEA\",0.2935312358063368,\"\",9,45,116],[\"BBS_ACB\",0.672908717963239,\"\",10,51,146],[\"BBS_AGQ\",0.596813310517517,\"\",10,51,131],[\"BBS_APM\",0.44350737478375346,\"\",12,46,121],[\"BBS_ADO\",0.5505391699416861,\"\",11,49,128],[\"BBS_ASS\",0.5120326036510877,\"\",10,50,129],[\"BBS_AIH\",0.795873578266816,\"\",13,52,130],[\"BBS_AJV\",0.6376729612212793,\"\",13,47,126],[\"BBS_ANE\",0.5428690482235543,\"\",9,50,132],[\"BBS_AHF\",0.3432089721275225,\"\",8,49,124],[\"BBS_ALU\",0.6111058499173627,\"\",12,47,127],[\"BBS_AOK\",0.4043284396530321,\"\",12,45,116],[\"BBS_AKX\",0.5307570721458335,\"\",12,47,125],[\"BBS_AHJ\",0.4533238744495979,\"\",11,47,130],[\"BBS_ALY\",0.5578596335030857,\"\",9,54,137],[\"BBS_AOG\",0.5739593025512048,\"\",12,49,119],[\"BBS_AKT\",0.5189552989270957,\"\",11,49,123],[\"BBS_AMW\",0.5165446536229844,\"\",9,49,135],[\"BBS_AID\",0.4992185865109846,\"\",11,49,114],[\"BBS_AJZ\",0.5755765285481986,\"\",11,48,133],[\"BBS_ANI\",0.28071531808208017,\"\",10,45,112],[\"BBS_AKL\",0.5820412609760395,\"\",12,47,129],[\"BBS_AHR\",0.38670398710790005,\"\",11,46,100],[\"BBS_ALA\",0.7408055461977902,\"\",12,51,137],[\"BBS_AJB\",0.5861665899249058,\"\",9,52,129],[\"BBS_ANQ\",0.5617725694737925,\"\",10,50,130],[\"BBS_AMO\",0.4842340310750909,\"\",13,46,112],[\"BBS_AJN\",0.26907705324824344,\"\",9,49,117],[\"BBS_AMC\",0.4486750987570098,\"\",11,48,118],[\"BBS_AIP\",0.3898534721910018,\"\",10,48,122],[\"BBS_AOS\",0.5332401453551509,\"\",10,50,134],[\"BBS_ALM\",0.3229083616634845,\"\",9,48,124],[\"BBS_ARY\",0.4697394062734402,\"\",8,51,124],[\"BBS_AAV\",0.33997419363092946,\"\",10,49,120],[\"BBS_AEE\",0.46184038858013327,\"\",11,49,121],[\"BBS_AQG\",0.5711014699637226,\"\",11,47,128],[\"BBS_ABH\",0.4316771609770975,\"\",8,47,131],[\"BBS_ADK\",0.4494652930142236,\"\",13,46,118],[\"BBS_ASW\",0.38402477020768366,\"\",12,46,109],[\"BBS_ACF\",0.3700230302514883,\"\",8,48,126],[\"BBS_AGU\",0.43515590161420853,\"\",12,48,116],[\"BBS_API\",0.2906693423034322,\"\",10,47,113],[\"BBS_ADG\",0.4906661564477197,\"\",9,49,132],[\"BBS_APE\",0.5248063605200574,\"\",12,49,119],[\"BBS_ACJ\",0.3329411210627831,\"\",7,46,125],[\"BBS_AGY\",0.4430777488089753,\"\",9,49,123],[\"BBS_AAZ\",0.7255964335083077,\"\",10,53,137],[\"BBS_AEI\",0.5517905202753635,\"\",10,50,137],[\"BBS_ARU\",0.4649470983504607,\"\",11,48,123],[\"BBS_AFW\",0.34517407020808083,\"\",9,46,122],[\"BBS_ABD\",0.5655596966707356,\"\",11,49,128],[\"BBS_AQK\",0.550559655690995,\"\",10,51,130],[\"BBS_ACR\",0.23462114794205988,\"\",10,43,114],[\"BBS_AGA\",0.5066427479099731,\"\",10,50,126],[\"BBS_ASC\",0.2795856414994041,\"\",8,49,115],[\"BBS_AQS\",0.39937031327401823,\"\",9,48,124],[\"BBS_AFO\",0.6326255134534606,\"\",11,50,133],[\"BBS_ARM\",0.5868865186176568,\"\",11,49,134],[\"BBS_AAB\",0.6307529131079411,\"\",11,50,131],[\"BBS_AEQ\",0.48407287545989136,\"\",11,48,126],[\"BBS_AFC\",0.4012801293522135,\"\",10,47,120],[\"BBS_ABP\",0.26596075159658,\"\",7,48,118],[\"BBS_AAN\",0.30269413447645116,\"\",10,45,114],[\"BBS_ARA\",0.2898023786805681,\"\",9,47,115],[\"BBS_ATB\",0.3158121116099874,\"\",10,48,121],[\"BBS_APQ\",0.45728230032305484,\"\",9,49,127],[\"BBS_AGM\",0.6269961554255447,\"\",11,48,136],[\"BBS_ASO\",0.5859668159301226,\"\",11,48,141],[\"BBS_ADS\",0.3693015856954179,\"\",11,48,116],[\"BBS_AMG\",0.45577681694089067,\"\",10,49,126],[\"BBS_AIT\",0.5846799777543444,\"\",9,56,141],[\"BBS_AJJ\",0.525980083424366,\"\",10,49,131],[\"BBS_ANY\",0.4577240282724881,\"\",11,46,129],[\"BBS_AHZ\",0.6992662209910866,\"\",11,49,145],[\"BBS_ALI\",0.5366939972959961,\"\",9,50,134],[\"BBS_AOW\",0.6611925343072372,\"\",12,50,135],[\"BBS_AKD\",0.44923563894785484,\"\",10,48,138],[\"BBS_AHV\",0.404540977525305,\"\",9,47,131],[\"BBS_ALE\",0.3923492492904955,\"\",10,47,122],[\"BBS_AKH\",0.45075834660054115,\"\",8,52,129],[\"BBS_AMK\",0.27449545399316516,\"\",7,49,121],[\"BBS_AIX\",0.6179217985504196,\"\",12,47,130],[\"BBS_AJF\",0.6113070718226348,\"\",11,48,128],[\"BBS_ANU\",0.48369166717397666,\"\",9,53,132],[\"BBS_AOC\",0.5440262763791389,\"\",9,50,134],[\"BBS_AKP\",0.26251331105518727,\"\",9,46,119],[\"BBS_AHN\",0.230002990609027,\"\",10,46,113],[\"BBS_ANM\",0.7057395243025347,\"\",10,50,146],[\"BBS_AMS\",0.8220698802805205,\"BBS_AMS\",12,51,142],[\"BBS_AJR\",0.5693663222486898,\"\",12,47,122],[\"BBS_ANA\",0.26898892877357233,\"\",9,46,124],[\"BBS_AIL\",0.4415157055896598,\"\",11,47,121],[\"BBS_AOO\",0.5217330365431357,\"\",12,48,121],[\"BBS_AHB\",0.5680396833202426,\"\",10,49,136],[\"BBS_ALQ\",0.2947351564744931,\"\",9,49,113],[\"BBS_AMI\",0.5653293790602347,\"\",11,48,130],[\"BBS_AIZ\",0.3837608540539936,\"\",8,49,124],[\"BBS_AJD\",0.39593505864594286,\"\",11,46,113],[\"BBS_ANW\",0.3343945451006024,\"\",9,47,119],[\"BBS_AHT\",0.2839093005496172,\"\",11,44,107],[\"BBS_ALG\",0.6040560397874113,\"\",9,52,135],[\"BBS_AOY\",0.5571938886210168,\"\",10,50,134],[\"BBS_AKJ\",0.4500595129178252,\"\",10,46,139],[\"BBS_AHX\",0.4458588428346881,\"\",9,49,126],[\"BBS_ALK\",0.6149218487326082,\"\",11,51,128],[\"BBS_AOU\",0.5342242494683491,\"\",12,47,121],[\"BBS_AKF\",0.3735735020491627,\"\",8,50,122],[\"BBS_AME\",0.5178236830583322,\"\",12,46,121],[\"BBS_AIV\",0.37267897471458217,\"\",9,48,119],[\"BBS_AJH\",0.603656641718737,\"\",9,53,147],[\"BBS_AOM\",0.644895339457495,\"\",11,50,127],[\"BBS_ALS\",0.3890750715987325,\"\",10,49,124],[\"BBS_AJP\",0.5148208336949799,\"\",9,50,128],[\"BBS_ANC\",0.4225372562239993,\"\",8,49,127],[\"BBS_AIN\",0.47807353657695745,\"\",11,50,106],[\"BBS_ANO\",0.5235713344453325,\"\",10,50,130],[\"BBS_AMQ\",0.351368249933161,\"\",8,50,123],[\"BBS_AIB\",0.5206575540110664,\"\",12,48,124],[\"BBS_AOA\",0.3547865454667317,\"\",10,44,115],[\"BBS_AKR\",0.3569429172028155,\"\",9,49,122],[\"BBS_AHL\",0.6044264065662739,\"\",10,49,136],[\"BBS_ARW\",0.5775182580783677,\"\",12,48,129],[\"BBS_AAX\",0.5302153113883951,\"\",9,49,143],[\"BBS_AEK\",0.3600268014105309,\"\",8,46,128],[\"BBS_AQI\",0.49478205270877784,\"\",11,49,122],[\"BBS_AFU\",0.3395288572001798,\"\",11,47,116],[\"BBS_ABF\",0.3927913111029887,\"\",11,49,112],[\"BBS_ADE\",0.5189533005883047,\"\",13,47,121],[\"BBS_ASY\",0.425958074429156,\"\",10,50,113],[\"BBS_ACH\",0.31232609845040843,\"\",9,44,113],[\"BBS_APG\",0.7436166834977642,\"\",13,50,133],[\"BBS_ASU\",0.7941291062444863,\"\",11,55,151],[\"BBS_ADI\",0.20903501785832618,\"\",8,46,112],[\"BBS_APK\",0.4102600734156011,\"\",12,45,115],[\"BBS_ACD\",0.6659286261222225,\"\",10,51,152],[\"BBS_AGW\",0.5382882624106807,\"\",9,51,133],[\"BBS_AAT\",0.6141118045440384,\"\",9,51,148],[\"BBS_AEG\",0.7006690033104075,\"\",14,49,141],[\"BBS_AFY\",0.5892668753928607,\"\",11,50,127],[\"BBS_ABJ\",0.8165054281289429,\"\",12,54,143],[\"BBS_AQE\",0.3000010746571405,\"\",9,45,117],[\"BBS_AGO\",0.7281531038844378,\"\",10,51,139],[\"BBS_APS\",0.3940405053157763,\"\",9,48,126],[\"BBS_ADQ\",0.44439464053561284,\"\",8,50,128],[\"BBS_ASM\",0.3712863217468454,\"\",9,49,120],[\"BBS_AFA\",0.34068173724517936,\"\",10,47,113],[\"BBS_ABR\",0.3607863343621744,\"\",10,48,119],[\"BBS_ARC\",0.5330690309720567,\"\",9,49,137],[\"BBS_AAL\",0.5617651293063628,\"\",7,52,137],[\"BBS_AFM\",0.5364128229470781,\"\",12,48,125],[\"BBS_AQQ\",0.6671198647158776,\"\",12,51,135],[\"BBS_AES\",0.5898029551469237,\"\",11,48,136],[\"BBS_ARO\",0.437767969000742,\"\",10,49,124],[\"BBS_ACP\",0.43006874978663967,\"\",9,50,123],[\"BBS_AGC\",0.6894817168751557,\"\",11,49,139],[\"BBS_ASA\",0.6846465872708448,\"\",12,48,134],[\"BBS_AAQ\",0.5450577323326925,\"\",9,49,132],[\"BBS_AEB\",0.31707556784905544,\"\",11,44,100],[\"BBS_ABO\",0.43496477762768093,\"\",11,47,117],[\"BBS_ASP\",0.574008343722072,\"\",11,48,129],[\"BBS_ADL\",0.6297480260155879,\"\",12,49,126],[\"BBS_APN\",0.5534057728003939,\"\",14,49,118],[\"BBS_ACA\",0.3032921430579787,\"\",9,47,108],[\"BBS_AGR\",0.6970768334572954,\"\",12,49,135],[\"BBS_ACM\",0.3591125026788983,\"\",10,49,120],[\"BBS_APB\",0.38367545373242695,\"\",10,47,123],[\"BBS_ARR\",0.4375808523240382,\"\",9,49,126],[\"BBS_AEN\",0.5878809079065817,\"\",9,51,128],[\"BBS_AQL\",0.5158366183640322,\"\",11,47,123],[\"BBS_AFP\",0.6593132808264186,\"\",10,53,142],[\"BBS_ABC\",0.6482515974988068,\"\",11,49,140],[\"BBS_APZ\",0.4249421575899459,\"\",12,47,119],[\"BBS_ACU\",0.4617070354871966,\"\",12,46,122],[\"BBS_AGF\",0.6827641264145273,\"\",11,51,134],[\"BBS_ASD\",0.4164297257283805,\"\",12,45,115],[\"BBS_ADX\",0.7439690567982425,\"\",12,52,138],[\"BBS_AFH\",0.3203163737357576,\"\",11,44,112],[\"BBS_AQT\",0.2696219196500851,\"\",9,48,112],[\"BBS_AAE\",0.43062128113393944,\"\",10,49,120],[\"BBS_AEV\",0.11667557351557856,\"\",6,45,111],[\"BBS_ARJ\",0.44060647018101584,\"\",13,46,110],[\"BBS_AQX\",0.30964980087221916,\"\",9,44,108],[\"BBS_AFD\",0.37694638583697415,\"\",10,48,119],[\"BBS_ABW\",0.529769217570199,\"\",10,50,131],[\"BBS_ARF\",0.4321137640276892,\"\",12,46,122],[\"BBS_AAI\",0.4782229039311062,\"\",9,51,122],[\"BBS_AEZ\",0.3236167028764947,\"\",8,49,120],[\"BBS_ACY\",0.23504187690807904,\"\",8,48,109],[\"BBS_AGJ\",0.46948698318251675,\"\",10,50,121],[\"BBS_ATE\",0.5534081916099943,\"\",10,50,126],[\"BBS_APV\",0.4013217330520969,\"\",10,48,119],[\"BBS_ADT\",0.5676529092542686,\"\",9,51,133],[\"BBS_ASH\",0.5053532874185602,\"\",11,49,121],[\"BBS_AIS\",0.4422918690698905,\"\",10,48,132],[\"BBS_AJM\",0.7992765128027037,\"\",11,51,136],[\"BBS_ALN\",0.2933337642016435,\"\",6,47,118],[\"BBS_AOP\",0.3503292045538548,\"\",11,45,112],[\"BBS_AKC\",0.4483916301784782,\"\",7,51,126],[\"BBS_AHQ\",0.5292935997247347,\"\",11,50,121],[\"BBS_ALB\",0.283166185865547,\"\",8,49,119],[\"BBS_AKO\",0.1680943871662011,\"\",9,43,106],[\"BBS_AML\",0.6386348093673431,\"\",10,52,138],[\"BBS_AJA\",0.5160531432758036,\"\",12,49,124],[\"BBS_ANR\",0.3282716971667071,\"\",8,48,120],[\"BBS_AOD\",0.4466428390935314,\"\",12,48,116],[\"BBS_AKW\",0.4524119267978022,\"\",10,49,123],[\"BBS_AHI\",0.2563127299586237,\"\",8,48,119],[\"BBS_ALZ\",0.5324954406273199,\"\",12,50,128],[\"BBS_AJY\",0.25869144737899663,\"\",10,47,108],[\"BBS_ANJ\",0.5421307692307689,\"\",10,49,136],[\"BBS_AMT\",0.5383196255900741,\"\",10,49,130],[\"BBS_AIG\",0.36953392701049,\"\",12,43,113],[\"BBS_AJU\",0.6798783174180408,\"\",12,50,134],[\"BBS_ANF\",0.239306812685121,\"\",8,48,116],[\"BBS_AMX\",0.523214994350609,\"\",12,49,118],[\"BBS_AIK\",0.28165605081536815,\"\",9,49,105],[\"BBS_AOH\",0.7043107681594603,\"\",12,50,136],[\"BBS_AHE\",0.5511221375566923,\"\",9,50,125],[\"BBS_ALV\",0.4268631224260578,\"\",10,52,120],[\"BBS_AMN\",0.4510412567783396,\"\",11,49,117],[\"BBS_AJC\",0.5795438946604575,\"\",13,46,125],[\"BBS_ANP\",0.5434059586707378,\"\",11,48,132],[\"BBS_AHS\",0.5068701039710287,\"\",9,49,132],[\"BBS_AKM\",0.6019730730508752,\"\",11,50,132],[\"BBS_ALL\",0.43917255560460433,\"\",11,47,123],[\"BBS_AOR\",0.4571675044074616,\"\",10,48,128],[\"BBS_AKA\",0.43140031544752516,\"\",11,47,127],[\"BBS_AMB\",0.5887150070163326,\"\",11,49,131],[\"BBS_AIQ\",0.6050906459895132,\"\",11,52,132],[\"BBS_AJO\",0.4722651551858582,\"\",11,47,114],[\"BBS_AOJ\",0.8066837733401272,\"\",13,52,139],[\"BBS_AKY\",0.3610876720953102,\"\",9,43,118],[\"BBS_AHG\",0.45467186140551086,\"\",9,50,128],[\"BBS_ALT\",0.6445220428973284,\"\",10,52,143],[\"BBS_AJW\",0.7706216417406427,\"\",9,53,145],[\"BBS_AND\",0.7034026526385029,\"\",14,50,133],[\"BBS_AMZ\",0.17936541338220982,\"\",8,48,115],[\"BBS_AII\",0.663945421142567,\"\",12,47,132],[\"BBS_ANH\",0.5905364285429603,\"\",9,52,131],[\"BBS_AMV\",0.7009605208522607,\"\",12,50,127],[\"BBS_AIE\",0.7260804837228029,\"\",11,50,140],[\"BBS_AOF\",0.6720103139871042,\"\",11,51,143],[\"BBS_AKU\",0.6863972357919288,\"\",11,50,132],[\"BBS_AHK\",0.36781971376747424,\"\",10,46,116],[\"BBS_ALX\",0.5414230734320228,\"\",10,50,129],[\"BBS_AEL\",0.2505604787206048,\"\",9,45,116],[\"BBS_ARP\",0.8258168076207207,\"BBS_ARP\",11,54,149],[\"BBS_AFR\",0.2248517158493817,\"\",10,44,108],[\"BBS_ABA\",0.6799272171990507,\"\",11,50,143],[\"BBS_AQN\",0.36699303213734047,\"\",9,48,120],[\"BBS_ADB\",0.4049740697944498,\"\",10,50,120],[\"BBS_ACO\",0.695002799598565,\"\",13,49,125],[\"BBS_ADN\",0.4546702972294808,\"\",12,47,116],[\"BBS_ASR\",0.5279903639447364,\"\",10,51,124],[\"BBS_ACC\",0.5877711336048621,\"\",10,49,136],[\"BBS_AGP\",0.33597393394408276,\"\",9,48,120],[\"BBS_APL\",0.20663579461460363,\"\",10,44,111],[\"BBS_AAS\",0.42734074308548703,\"\",8,49,127],[\"BBS_AQB\",0.4187440477040936,\"\",11,47,119],[\"BBS_ABM\",0.6383891482623717,\"\",9,50,145],[\"BBS_APT\",0.49890722696194933,\"\",9,50,125],[\"BBS_AGH\",0.5565267625426239,\"\",11,50,121],[\"BBS_ASJ\",0.6883574667710941,\"\",11,50,135],[\"BBS_ADV\",0.6023950831702769,\"\",10,49,135],[\"BBS_AFF\",0.5556147069022299,\"\",9,52,130],[\"BBS_ABU\",0.48410983987836853,\"\",9,51,125],[\"BBS_AQZ\",0.6952776410510948,\"\",10,53,142],[\"BBS_AAK\",0.5679376928206296,\"\",10,49,134],[\"BBS_AEX\",0.2458002017214874,\"\",9,43,118],[\"BBS_ARD\",0.44994764176733054,\"\",10,48,132],[\"BBS_AQV\",0.37441730929218586,\"\",9,47,126],[\"BBS_AFJ\",0.2709027254494707,\"\",10,48,119],[\"BBS_ABY\",0.3491135147396758,\"\",9,47,124],[\"BBS_ARH\",0.38779832712262563,\"\",11,47,107],[\"BBS_AAG\",0.6023103870353502,\"\",10,52,133],[\"BBS_AET\",0.7149088093598062,\"\",12,52,127],[\"BBS_ACW\",0.6575551383434408,\"\",12,50,132],[\"BBS_AGD\",0.3699694894727941,\"\",10,48,119],[\"BBS_APX\",0.07111231615097496,\"\",8,42,102],[\"BBS_ADZ\",0.49754664467004134,\"\",10,50,117],[\"BBS_ASF\",0.28928104341263217,\"\",9,46,123],[\"BBS_AMR\",0.31009300424130715,\"\",10,47,115],[\"BBS_AIA\",0.3786619837027006,\"\",10,49,121],[\"BBS_ANL\",0.6949664701455522,\"\",12,51,130],[\"BBS_AHO\",0.6244493435677068,\"\",14,46,127],[\"BBS_AOB\",0.4526325489433086,\"\",13,47,113],[\"BBS_AKQ\",0.6695244266972205,\"\",10,51,131],[\"BBS_AHC\",0.4105218435523431,\"\",11,47,113],[\"BBS_ALP\",0.5801371272386117,\"\",9,51,137],[\"BBS_AON\",0.5651362167745324,\"\",10,50,130],[\"BBS_AIM\",0.7751792299147945,\"\",13,51,130],[\"BBS_AJS\",0.5290574747089952,\"\",11,49,125],[\"BBS_AOV\",0.6821390767653788,\"\",12,50,134],[\"BBS_AKE\",0.2473397361416862,\"\",9,48,117],[\"BBS_ALH\",0.7247122645846737,\"\",11,53,133],[\"BBS_AJK\",0.2676745215597507,\"\",8,47,113],[\"BBS_ANX\",0.787934034985736,\"\",13,50,140],[\"BBS_AMF\",0.5152882705256426,\"\",10,50,123],[\"BBS_AIU\",0.3054737686585684,\"\",9,45,120],[\"BBS_AJG\",0.4972948997194168,\"\",10,46,131],[\"BBS_ANT\",0.23544226963917086,\"\",10,40,118],[\"BBS_AMJ\",0.4380597550485264,\"\",9,48,132],[\"BBS_AIY\",0.6837695093396031,\"\",12,48,135],[\"BBS_AOZ\",0.668018225163509,\"\",10,50,144],[\"BBS_AKI\",0.5112493408693611,\"\",12,48,123],[\"BBS_AHW\",0.649383986156447,\"\",12,49,135],[\"BBS_ALD\",0.614439060706369,\"\",10,50,127],[\"BBS_ARL\",0.4627631347676867,\"\",11,47,120],[\"BBS_AAC\",0.5424711022669718,\"\",11,46,126],[\"BBS_AEP\",0.48825584485416695,\"\",9,48,127],[\"BBS_AQR\",0.5868447673431236,\"\",10,52,131],[\"BBS_AFN\",0.4473228434861846,\"\",8,48,133],[\"BBS_ASB\",0.2481757875578379,\"\",10,46,117],[\"BBS_ACS\",0.447919593253992,\"\",10,50,125],[\"BBS_ASN\",0.531185452089205,\"\",11,50,119],[\"BBS_ADR\",0.28663039000178936,\"\",10,45,103],[\"BBS_ATC\",0.590523533893475,\"\",10,51,130],[\"BBS_APP\",0.5391014026280313,\"\",8,51,136],[\"BBS_AGL\",0.2791664174626756,\"\",10,46,109],[\"BBS_AAO\",0.28669600909557635,\"\",10,42,112],[\"BBS_AFB\",0.418743088416109,\"\",12,46,110],[\"BBS_ABQ\",0.2504559029096491,\"\",10,46,113],[\"BBS_ACG\",0.44178068041582014,\"\",10,48,133],[\"BBS_AGT\",0.4454238914264509,\"\",11,47,117],[\"BBS_APH\",0.44722918608908496,\"\",10,48,129],[\"BBS_ADJ\",0.6532162358070807,\"\",12,49,133],[\"BBS_ASV\",0.6428988884726813,\"\",11,50,130],[\"BBS_AQF\",0.6078991505934875,\"\",8,51,144],[\"BBS_AFZ\",0.3880052975934827,\"\",11,45,111],[\"BBS_ABI\",0.5430664897057675,\"\",11,49,121],[\"BBS_ARX\",0.6976126579981292,\"\",11,50,130],[\"BBS_AAW\",0.5098548578298382,\"\",12,49,122],[\"BBS_AED\",0.4313693299095238,\"\",12,44,116],[\"BBS_AFV\",0.3533367227328017,\"\",9,48,125],[\"BBS_ABE\",0.673153059686688,\"\",11,49,142],[\"BBS_AQJ\",0.3627489213490068,\"\",9,46,131],[\"BBS_AEH\",0.636437488281637,\"\",11,50,131],[\"BBS_ART\",0.7905763863938338,\"\",11,52,142],[\"BBS_APD\",0.5210542132146666,\"\",11,49,127],[\"BBS_ACK\",0.5076646738802305,\"\",10,50,128],[\"BBS_AGX\",0.29722336892066625,\"\",10,46,115],[\"BBS_ASZ\",0.4842044998597136,\"\",12,47,115],[\"BBS_ADF\",0.435087949950941,\"\",10,49,121],[\"BBS_ARB\",0.45971362934205023,\"\",8,50,129],[\"BBS_AAM\",0.48612741000272,\"\",10,50,123],[\"BBS_ABS\",0.5294578953256547,\"\",8,51,149],[\"BBS_ADP\",0.4527867809206078,\"\",9,49,133],[\"BBS_ASL\",0.7137861612889148,\"\",11,51,137],[\"BBS_AGN\",0.40967014078584757,\"\",10,48,126],[\"BBS_ATA\",0.4435011270651561,\"\",12,47,115],[\"BBS_APR\",0.3929881409925996,\"\",10,47,128],[\"BBS_ACQ\",0.5744033624562649,\"\",10,50,130],[\"BBS_AGB\",0.4968049501749775,\"\",11,46,123],[\"BBS_AAA\",0.2968103401034163,\"\",9,46,123],[\"BBS_AER\",0.5221411331430581,\"\",11,48,124],[\"BBS_ARN\",0.3484358128241098,\"\",11,44,108],[\"BBS_AFL\",0.3753045689493326,\"\",10,48,123],[\"BBS_AQP\",0.38673275457224154,\"\",9,49,124],[\"BBS_ACI\",0.3404580456299058,\"\",9,48,117],[\"BBS_AGZ\",0.2555403719308065,\"\",8,48,119],[\"BBS_APF\",0.4255091415399992,\"\",9,49,120],[\"BBS_ADD\",0.4817654703485954,\"\",9,49,125],[\"BBS_ASX\",0.577462843831132,\"\",11,51,128],[\"BBS_AQH\",0.4880343501498953,\"\",10,48,136],[\"BBS_AFT\",0.6460885947938633,\"\",12,50,135],[\"BBS_ABG\",0.4602291881131033,\"\",10,49,120],[\"BBS_ARV\",0.22333008821800843,\"\",7,47,119],[\"BBS_AAY\",0.5053461538461536,\"\",8,51,128],[\"BBS_AEJ\",0.4523940140545377,\"\",10,49,126],[\"BBS_AFX\",0.34190121145416175,\"\",10,48,116],[\"BBS_ABK\",0.877560239838022,\"BBS_ABK\",13,52,146],[\"BBS_AQD\",0.6885098088032375,\"\",12,51,141],[\"BBS_AAU\",0.33443753222018296,\"\",8,49,124],[\"BBS_AEF\",0.8023403602768099,\"\",13,51,149],[\"BBS_ARZ\",0.2434227191257003,\"\",9,48,111],[\"BBS_APJ\",0.3584619446360335,\"\",9,48,120],[\"BBS_ACE\",0.5170072106545466,\"\",11,47,124],[\"BBS_AGV\",0.7111468385143995,\"\",11,50,143],[\"BBS_AST\",0.5260990562415137,\"\",11,47,128],[\"BBS_ADH\",0.5413149463873432,\"\",10,51,124],[\"BBS_AIO\",0.2642565816381578,\"\",10,42,109],[\"BBS_AJQ\",0.48582411992407376,\"\",9,50,126],[\"BBS_ANB\",0.1618248641029809,\"\",8,45,101],[\"BBS_AHA\",0.43642492421200296,\"\",11,46,115],[\"BBS_ALR\",0.46526330666398563,\"\",11,47,125],[\"BBS_AOL\",0.6335757140462129,\"\",11,48,135],[\"BBS_AHM\",0.6953086933453037,\"\",12,50,128],[\"BBS_AKS\",0.4121889697648297,\"\",12,44,118],[\"BBS_AMP\",0.7062137159153937,\"\",11,51,140],[\"BBS_AIC\",0.297843715361026,\"\",9,47,121],[\"BBS_ANN\",0.5691601092474566,\"\",12,48,133],[\"BBS_AOX\",0.684443995256667,\"\",14,47,127],[\"BBS_AKK\",0.6547649661297089,\"\",13,50,125],[\"BBS_AHU\",0.39197250058525984,\"\",9,47,124],[\"BBS_ALF\",0.5977836893228192,\"\",12,48,132],[\"BBS_AJE\",0.524670998971678,\"\",11,46,128],[\"BBS_ANV\",0.4301544498697806,\"\",13,45,113],[\"BBS_AMH\",0.5651697287224069,\"\",13,48,120],[\"BBS_AJI\",0.3615842546974589,\"\",9,48,117],[\"BBS_ANZ\",0.4157661987541434,\"\",7,49,134],[\"BBS_AMD\",0.46650500153611846,\"\",12,49,119],[\"BBS_AIW\",0.3116885468870855,\"\",9,47,123],[\"BBS_AOT\",0.47768032756234774,\"\",11,48,121],[\"BBS_AKG\",0.3843710981961603,\"\",13,46,111],[\"BBS_AHY\",0.5383192161760124,\"\",8,51,137],[\"BBS_ALJ\",0.442052296101202,\"\",9,49,127]],\"hovertemplate\":\"num_products=%{x}\\u003cbr\\u003ebase_balance=%{y}\\u003cbr\\u003elabel=%{customdata[2]}\\u003cbr\\u003ename=%{customdata[0]}\\u003cbr\\u003escore=%{marker.color}\\u003cbr\\u003enum_bases=%{customdata[3]}\\u003cbr\\u003ecatalytic_features=%{customdata[4]}\\u003cbr\\u003enum_features=%{customdata[5]}\\u003cextra\\u003e\\u003c\\u002fextra\\u003e\",\"legendgroup\":\"\",\"marker\":{\"color\":[0.8338160218351284,0.6931483821376148,0.7271126042127913,0.6423880308555487,0.6691364247140166,0.20491223089859112,0.60159141346472,0.3546712506587384,0.6226085695332337,0.5387130018147482,0.5376765787135449,0.6682324169347296,0.4063561307051367,0.47609922424839823,0.3600866352741231,0.3978372730369394,0.31306366659573603,0.4297381004881694,0.38985281316966325,0.2553177170016278,0.3468977901635394,0.5173290609135437,0.3657402298226767,0.6303356707079112,0.381703016139857,0.24209652740973525,0.7720753143570367,0.3753337896539513,0.4082567885020934,0.3660856215342989,0.3213387850878184,0.35979221102977826,0.6185820990510222,0.6009994119694005,0.37834262767030585,0.5093347718570553,0.5983974845124449,0.7718541326517865,0.5143493036165377,0.6049950688250705,0.7025828904257642,0.5255603678060463,0.49291823521588884,0.32109142259746226,0.3098312337066373,0.3193281148108439,0.3831060183311031,0.5078666490465646,0.4774272769011202,0.795244607988921,0.5283883031385294,0.5759826724314556,0.6111397208380966,0.49294314371941755,0.683500071698444,0.39502991671549487,0.6926961391051509,0.7903434035202929,0.46062083548365335,0.44706805432732516,0.40535093560191643,0.29396362218278793,0.556196560273036,0.33641452528189586,0.4773760497850833,0.3809070793919716,0.6394734354614197,0.398893389393741,0.4651651407152444,0.6074352845838047,0.4790101421149764,0.5865917382629009,0.4598837410598881,0.28335387404721013,0.46153115106983006,0.3654844503686447,0.4750170549481041,0.2863138923926945,0.4310066547954353,0.35457070680324054,0.4098684991368885,0.3671074993667778,0.47430164770396016,0.33093719719323533,0.5361833124116562,0.550314745790453,0.41312754463092466,0.47140555963138847,0.5552792053384117,0.41748212522225864,0.8723884048049193,0.6328137988835913,0.5588638072373243,0.5627949445007518,0.2935312358063368,0.672908717963239,0.596813310517517,0.44350737478375346,0.5505391699416861,0.5120326036510877,0.795873578266816,0.6376729612212793,0.5428690482235543,0.3432089721275225,0.6111058499173627,0.4043284396530321,0.5307570721458335,0.4533238744495979,0.5578596335030857,0.5739593025512048,0.5189552989270957,0.5165446536229844,0.4992185865109846,0.5755765285481986,0.28071531808208017,0.5820412609760395,0.38670398710790005,0.7408055461977902,0.5861665899249058,0.5617725694737925,0.4842340310750909,0.26907705324824344,0.4486750987570098,0.3898534721910018,0.5332401453551509,0.3229083616634845,0.4697394062734402,0.33997419363092946,0.46184038858013327,0.5711014699637226,0.4316771609770975,0.4494652930142236,0.38402477020768366,0.3700230302514883,0.43515590161420853,0.2906693423034322,0.4906661564477197,0.5248063605200574,0.3329411210627831,0.4430777488089753,0.7255964335083077,0.5517905202753635,0.4649470983504607,0.34517407020808083,0.5655596966707356,0.550559655690995,0.23462114794205988,0.5066427479099731,0.2795856414994041,0.39937031327401823,0.6326255134534606,0.5868865186176568,0.6307529131079411,0.48407287545989136,0.4012801293522135,0.26596075159658,0.30269413447645116,0.2898023786805681,0.3158121116099874,0.45728230032305484,0.6269961554255447,0.5859668159301226,0.3693015856954179,0.45577681694089067,0.5846799777543444,0.525980083424366,0.4577240282724881,0.6992662209910866,0.5366939972959961,0.6611925343072372,0.44923563894785484,0.404540977525305,0.3923492492904955,0.45075834660054115,0.27449545399316516,0.6179217985504196,0.6113070718226348,0.48369166717397666,0.5440262763791389,0.26251331105518727,0.230002990609027,0.7057395243025347,0.8220698802805205,0.5693663222486898,0.26898892877357233,0.4415157055896598,0.5217330365431357,0.5680396833202426,0.2947351564744931,0.5653293790602347,0.3837608540539936,0.39593505864594286,0.3343945451006024,0.2839093005496172,0.6040560397874113,0.5571938886210168,0.4500595129178252,0.4458588428346881,0.6149218487326082,0.5342242494683491,0.3735735020491627,0.5178236830583322,0.37267897471458217,0.603656641718737,0.644895339457495,0.3890750715987325,0.5148208336949799,0.4225372562239993,0.47807353657695745,0.5235713344453325,0.351368249933161,0.5206575540110664,0.3547865454667317,0.3569429172028155,0.6044264065662739,0.5775182580783677,0.5302153113883951,0.3600268014105309,0.49478205270877784,0.3395288572001798,0.3927913111029887,0.5189533005883047,0.425958074429156,0.31232609845040843,0.7436166834977642,0.7941291062444863,0.20903501785832618,0.4102600734156011,0.6659286261222225,0.5382882624106807,0.6141118045440384,0.7006690033104075,0.5892668753928607,0.8165054281289429,0.3000010746571405,0.7281531038844378,0.3940405053157763,0.44439464053561284,0.3712863217468454,0.34068173724517936,0.3607863343621744,0.5330690309720567,0.5617651293063628,0.5364128229470781,0.6671198647158776,0.5898029551469237,0.437767969000742,0.43006874978663967,0.6894817168751557,0.6846465872708448,0.5450577323326925,0.31707556784905544,0.43496477762768093,0.574008343722072,0.6297480260155879,0.5534057728003939,0.3032921430579787,0.6970768334572954,0.3591125026788983,0.38367545373242695,0.4375808523240382,0.5878809079065817,0.5158366183640322,0.6593132808264186,0.6482515974988068,0.4249421575899459,0.4617070354871966,0.6827641264145273,0.4164297257283805,0.7439690567982425,0.3203163737357576,0.2696219196500851,0.43062128113393944,0.11667557351557856,0.44060647018101584,0.30964980087221916,0.37694638583697415,0.529769217570199,0.4321137640276892,0.4782229039311062,0.3236167028764947,0.23504187690807904,0.46948698318251675,0.5534081916099943,0.4013217330520969,0.5676529092542686,0.5053532874185602,0.4422918690698905,0.7992765128027037,0.2933337642016435,0.3503292045538548,0.4483916301784782,0.5292935997247347,0.283166185865547,0.1680943871662011,0.6386348093673431,0.5160531432758036,0.3282716971667071,0.4466428390935314,0.4524119267978022,0.2563127299586237,0.5324954406273199,0.25869144737899663,0.5421307692307689,0.5383196255900741,0.36953392701049,0.6798783174180408,0.239306812685121,0.523214994350609,0.28165605081536815,0.7043107681594603,0.5511221375566923,0.4268631224260578,0.4510412567783396,0.5795438946604575,0.5434059586707378,0.5068701039710287,0.6019730730508752,0.43917255560460433,0.4571675044074616,0.43140031544752516,0.5887150070163326,0.6050906459895132,0.4722651551858582,0.8066837733401272,0.3610876720953102,0.45467186140551086,0.6445220428973284,0.7706216417406427,0.7034026526385029,0.17936541338220982,0.663945421142567,0.5905364285429603,0.7009605208522607,0.7260804837228029,0.6720103139871042,0.6863972357919288,0.36781971376747424,0.5414230734320228,0.2505604787206048,0.8258168076207207,0.2248517158493817,0.6799272171990507,0.36699303213734047,0.4049740697944498,0.695002799598565,0.4546702972294808,0.5279903639447364,0.5877711336048621,0.33597393394408276,0.20663579461460363,0.42734074308548703,0.4187440477040936,0.6383891482623717,0.49890722696194933,0.5565267625426239,0.6883574667710941,0.6023950831702769,0.5556147069022299,0.48410983987836853,0.6952776410510948,0.5679376928206296,0.2458002017214874,0.44994764176733054,0.37441730929218586,0.2709027254494707,0.3491135147396758,0.38779832712262563,0.6023103870353502,0.7149088093598062,0.6575551383434408,0.3699694894727941,0.07111231615097496,0.49754664467004134,0.28928104341263217,0.31009300424130715,0.3786619837027006,0.6949664701455522,0.6244493435677068,0.4526325489433086,0.6695244266972205,0.4105218435523431,0.5801371272386117,0.5651362167745324,0.7751792299147945,0.5290574747089952,0.6821390767653788,0.2473397361416862,0.7247122645846737,0.2676745215597507,0.787934034985736,0.5152882705256426,0.3054737686585684,0.4972948997194168,0.23544226963917086,0.4380597550485264,0.6837695093396031,0.668018225163509,0.5112493408693611,0.649383986156447,0.614439060706369,0.4627631347676867,0.5424711022669718,0.48825584485416695,0.5868447673431236,0.4473228434861846,0.2481757875578379,0.447919593253992,0.531185452089205,0.28663039000178936,0.590523533893475,0.5391014026280313,0.2791664174626756,0.28669600909557635,0.418743088416109,0.2504559029096491,0.44178068041582014,0.4454238914264509,0.44722918608908496,0.6532162358070807,0.6428988884726813,0.6078991505934875,0.3880052975934827,0.5430664897057675,0.6976126579981292,0.5098548578298382,0.4313693299095238,0.3533367227328017,0.673153059686688,0.3627489213490068,0.636437488281637,0.7905763863938338,0.5210542132146666,0.5076646738802305,0.29722336892066625,0.4842044998597136,0.435087949950941,0.45971362934205023,0.48612741000272,0.5294578953256547,0.4527867809206078,0.7137861612889148,0.40967014078584757,0.4435011270651561,0.3929881409925996,0.5744033624562649,0.4968049501749775,0.2968103401034163,0.5221411331430581,0.3484358128241098,0.3753045689493326,0.38673275457224154,0.3404580456299058,0.2555403719308065,0.4255091415399992,0.4817654703485954,0.577462843831132,0.4880343501498953,0.6460885947938633,0.4602291881131033,0.22333008821800843,0.5053461538461536,0.4523940140545377,0.34190121145416175,0.877560239838022,0.6885098088032375,0.33443753222018296,0.8023403602768099,0.2434227191257003,0.3584619446360335,0.5170072106545466,0.7111468385143995,0.5260990562415137,0.5413149463873432,0.2642565816381578,0.48582411992407376,0.1618248641029809,0.43642492421200296,0.46526330666398563,0.6335757140462129,0.6953086933453037,0.4121889697648297,0.7062137159153937,0.297843715361026,0.5691601092474566,0.684443995256667,0.6547649661297089,0.39197250058525984,0.5977836893228192,0.524670998971678,0.4301544498697806,0.5651697287224069,0.3615842546974589,0.4157661987541434,0.46650500153611846,0.3116885468870855,0.47768032756234774,0.3843710981961603,0.5383192161760124,0.442052296101202],\"coloraxis\":\"coloraxis\",\"symbol\":\"circle\"},\"mode\":\"markers+text\",\"name\":\"\",\"orientation\":\"v\",\"showlegend\":false,\"text\":[\"BBS_AMU\",\"\",\"\",\"\",\"\",\"\",\"\",\"\",\"\",\"\",\"\",\"\",\"\",\"\",\"\",\"\",\"\",\"\",\"\",\"\",\"\",\"\",\"\",\"\",\"\",\"\",\"\",\"\",\"\",\"\",\"\",\"\",\"\",\"\",\"\",\"\",\"\",\"\",\"\",\"\",\"\",\"\",\"\",\"\",\"\",\"\",\"\",\"\",\"\",\"\",\"\",\"\",\"\",\"\",\"\",\"\",\"\",\"\",\"\",\"\",\"\",\"\",\"\",\"\",\"\",\"\",\"\",\"\",\"\",\"\",\"\",\"\",\"\",\"\",\"\",\"\",\"\",\"\",\"\",\"\",\"\",\"\",\"\",\"\",\"\",\"\",\"\",\"\",\"\",\"\",\"BBS_ARQ\",\"\",\"\",\"\",\"\",\"\",\"\",\"\",\"\",\"\",\"\",\"\",\"\",\"\",\"\",\"\",\"\",\"\",\"\",\"\",\"\",\"\",\"\",\"\",\"\",\"\",\"\",\"\",\"\",\"\",\"\",\"\",\"\",\"\",\"\",\"\",\"\",\"\",\"\",\"\",\"\",\"\",\"\",\"\",\"\",\"\",\"\",\"\",\"\",\"\",\"\",\"\",\"\",\"\",\"\",\"\",\"\",\"\",\"\",\"\",\"\",\"\",\"\",\"\",\"\",\"\",\"\",\"\",\"\",\"\",\"\",\"\",\"\",\"\",\"\",\"\",\"\",\"\",\"\",\"\",\"\",\"\",\"\",\"\",\"\",\"\",\"\",\"\",\"\",\"\",\"\",\"\",\"BBS_AMS\",\"\",\"\",\"\",\"\",\"\",\"\",\"\",\"\",\"\",\"\",\"\",\"\",\"\",\"\",\"\",\"\",\"\",\"\",\"\",\"\",\"\",\"\",\"\",\"\",\"\",\"\",\"\",\"\",\"\",\"\",\"\",\"\",\"\",\"\",\"\",\"\",\"\",\"\",\"\",\"\",\"\",\"\",\"\",\"\",\"\",\"\",\"\",\"\",\"\",\"\",\"\",\"\",\"\",\"\",\"\",\"\",\"\",\"\",\"\",\"\",\"\",\"\",\"\",\"\",\"\",\"\",\"\",\"\",\"\",\"\",\"\",\"\",\"\",\"\",\"\",\"\",\"\",\"\",\"\",\"\",\"\",\"\",\"\",\"\",\"\",\"\",\"\",\"\",\"\",\"\",\"\",\"\",\"\",\"\",\"\",\"\",\"\",\"\",\"\",\"\",\"\",\"\",\"\",\"\",\"\",\"\",\"\",\"\",\"\",\"\",\"\",\"\",\"\",\"\",\"\",\"\",\"\",\"\",\"\",\"\",\"\",\"\",\"\",\"\",\"\",\"\",\"\",\"\",\"\",\"\",\"\",\"\",\"\",\"\",\"\",\"\",\"\",\"\",\"\",\"\",\"\",\"\",\"\",\"\",\"\",\"\",\"\",\"\",\"\",\"\",\"\",\"\",\"\",\"\",\"\",\"\",\"\",\"BBS_ARP\",\"\",\"\",\"\",\"\",\"\",\"\",\"\",\"\",\"\",\"\",\"\",\"\",\"\",\"\",\"\",\"\",\"\",\"\",\"\",\"\",\"\",\"\",\"\",\"\",\"\",\"\",\"\",\"\",\"\",\"\",\"\",\"\",\"\",\"\",\"\",\"\",\"\",\"\",\"\",\"\",\"\",\"\",\"\",\"\",\"\",\"\",\"\",\"\",\"\",\"\",\"\",\"\",\"\",\"\",\"\",\"\",\"\",\"\",\"\",\"\",\"\",\"\",\"\",\"\",\"\",\"\",\"\",\"\",\"\",\"\",\"\",\"\",\"\",\"\",\"\",\"\",\"\",\"\",\"\",\"\",\"\",\"\",\"\",\"\",\"\",\"\",\"\",\"\",\"\",\"\",\"\",\"\",\"\",\"\",\"\",\"\",\"\",\"\",\"\",\"\",\"\",\"\",\"\",\"\",\"\",\"\",\"\",\"\",\"\",\"\",\"\",\"\",\"\",\"\",\"\",\"\",\"\",\"\",\"\",\"\",\"\",\"\",\"\",\"BBS_ABK\",\"\",\"\",\"\",\"\",\"\",\"\",\"\",\"\",\"\",\"\",\"\",\"\",\"\",\"\",\"\",\"\",\"\",\"\",\"\",\"\",\"\",\"\",\"\",\"\",\"\",\"\",\"\",\"\",\"\",\"\",\"\",\"\",\"\",\"\",\"\"],\"x\":[97,75,69,69,86,64,65,65,93,84,82,86,93,82,77,105,83,78,65,60,69,103,96,83,61,72,89,73,82,70,78,62,78,85,58,67,89,86,97,80,90,79,73,63,84,71,58,97,72,96,91,79,71,81,72,66,57,77,76,84,67,64,84,56,68,69,85,65,66,89,59,69,86,66,79,66,62,56,77,90,65,73,86,70,74,81,72,103,70,76,85,86,72,67,90,69,75,77,62,65,93,91,84,62,72,57,63,59,62,77,47,85,88,89,76,71,73,80,70,67,88,67,73,77,77,80,91,71,75,75,67,61,55,87,57,70,52,75,92,80,92,74,83,111,85,79,55,47,64,89,66,53,112,62,79,84,75,78,77,48,81,91,66,55,81,72,74,106,76,74,72,85,96,77,57,72,82,61,54,68,64,79,76,77,77,65,68,85,75,91,89,75,86,75,89,62,67,62,61,76,81,77,63,84,83,69,103,97,56,86,61,81,98,62,76,81,91,101,74,67,76,71,97,82,71,97,86,66,82,68,74,79,68,89,97,88,89,66,54,57,52,95,59,63,61,91,78,59,87,81,67,52,57,95,72,76,41,84,71,83,68,74,74,77,86,63,55,105,70,76,68,81,73,74,66,85,51,68,59,84,62,67,75,73,70,89,66,56,84,76,72,74,65,61,70,101,71,97,55,82,78,67,70,50,86,61,94,77,83,71,72,95,67,63,98,87,101,61,61,81,69,57,72,76,69,82,79,79,89,74,69,86,99,76,79,72,87,73,88,81,85,75,119,55,57,91,80,97,80,66,78,83,71,86,91,82,81,73,49,80,82,93,76,62,77,60,55,90,51,88,71,55,63,71,65,79,71,91,81,69,79,53,67,78,89,70,64,70,90,93,73,82,103,80,67,87,87,82,93,74,74,77,74,72,72,100,67,72,79,79,61,75,69,62,70,63,83,87,85,100,78,87,66,75,73,64,66,50,103,69,74,85,76,71,68,82,92,55,90,79,73,88,70,52,76,67,78,82,77,58,63,72,84,80,86,97,61,85,74,82,76,104,61,63,79,62,81,69,72,71,68,72,99,60,83,60,78,77,67,77,79,57,98,76,90,81,75,59,95,77,93,75,73,78,66,68,93,67,68,52],\"xaxis\":\"x\",\"y\":[7.268314960626288,5.973901572674261,6.783865662978103,6.368324391514267,11.139778927618492,10.099504938362077,6.014386045655271,6.844705983459042,10.173698060754749,11.682652738141282,6.942621983083913,9.506848336291906,11.694443124834974,10.278828775091759,6.844705983459042,15.627610892974724,9.598900399987953,9.798469268207153,9.806775183829435,6.487680633323438,5.15363949069005,14.421058981529766,13.712209572422116,7.6684780468848945,5.621387729022079,9.17877987534291,7.942978603201012,8.176758220713145,11.185307823708346,7.1545440106270926,15.122417134836613,6.95796113387362,8.701666981932991,9.767790037783481,6.307545003164238,7.093040567330482,10.372927896023121,8.004131164747323,9.921176949642401,9.596810169639637,8.292164976651152,9.812528434899656,8.004131164747323,6.99205898780101,10.863240768757727,12.042331646292173,8.739574662948776,11.26230465636761,7.729363205048366,10.053675392058812,10.86354127002884,9.580071908799942,6.818357573492315,8.437268515343103,4.844695488899719,9.98436277385793,3.7035086514494533,6.006883104247923,9.009636714041708,10.020387381000104,7.292019865511083,7.161703707917551,8.956003573022958,4.386342439892261,6.574360974438673,9.449338601193208,6.36735501417529,7.480014524314149,6.340668863192042,10.314798191355711,6.193545026880809,7.621679604916491,10.122703976827,10.328964130056798,10.869625583734637,8.674675786448736,5.455272678794342,5.554277630799526,8.908163217006434,12.234786471369251,9.057593499379403,6.171709649683789,9.506848336291906,8.727705282957992,8.985755485928413,8.697867127174538,9.482529585872053,14.384909448262464,7.0710678118654755,7.704415921493208,6.440441750441378,8.541585197488251,6.8935231309559555,6.963072238602727,11.175369742826806,6.034069936618236,7.876547467006087,8.844332774281067,6.623274763667994,7.323933369440223,8.337553172208755,7.872504770461987,10.038198648102428,7.75806032459145,3.06752705321766,4.870546398734152,4.8498281756504875,8.127089686773457,7.955121030963888,6.775671348451179,2.987577586391815,10.187137859957417,9.398434896960062,10.144411806955143,8.777243302996675,6.335525936249404,7.0722364868279,8.400975472460855,6.253887679764573,6.421837743200928,8.784063029920121,11.106665777422045,7.475580079208647,8.9,10.188719252192595,15.358272793835788,11.799761650135142,10.492378186092987,9.78698748169947,6.575687752736409,5.8081300777444715,6.318939316280878,5.453719423985392,10.879309490955757,6.290976783369088,8.706319543871567,4.830458915396479,7.914473380389177,11.482017884234354,8.689428798229846,7.912016177940993,9.221713506718803,10.534477044997072,13.894665465388568,10.269911118416035,10.270832488167647,7.1867934435323795,4.583666654546336,8.215838362577491,10.771475820797477,6.875516509523286,5.71788552491505,15.868780098614444,6.624522437176974,8.4,13.791449584168195,8.090117428072352,10.329150885948533,12.751862609046569,4.540625942600567,7.493247649089046,11.87399408527687,8.495988358149873,5.714017850864661,11.929836027972932,7.258787777583803,9.086362499431463,9.528556471457366,9.140872800534726,8.532617157446802,9.637945839233586,13.841251638258017,12.666491226855209,11.85261047195933,8.773801447305193,5.235429516498357,6.932973078159135,9.186678492708618,5.342584568965026,8.731947868617112,8.73155198117723,6.102458520956943,4.9805175991613115,5.955856128401879,14.299270463994628,6.9781240226892685,5.634713834792322,9.123595782365635,11.362707032706208,10.016515287883141,12.419742348374221,7.632033404296492,11.709445380166862,10.572848432042434,10.5033798205302,6.764613810115105,7.296574538781879,6.226189211609734,6.69278629792944,6.917670609870541,12.98075498574717,6.49519052838329,5.055250296034367,11.990737165736633,8.446232472245043,9.256889326334198,15.58489297008128,14.0089257261219,5.768251665169202,13.039938650162432,8.528445051707843,9.003085890713004,9.297311439335566,8.10273540155757,6.545991139621257,8.605553762283723,12.939555586086875,13.637608844661882,8.624393618641035,9.500761170028293,11.440106339446816,7.2283138220513905,14.198943622678414,8.027729719194863,6.030494499236812,9.334907383995226,14.506464076404008,6.006940430313366,8.89325587172662,8.234225472732847,8.202679477907445,8.949974347244048,7.271590820298625,8.454124568648265,12.056451579604921,7.102112361825882,12.27262335243029,7.490619133289317,6.48074069840786,4.737087712930805,5.3563046963368315,11.80499998692749,5.314592925068078,4.946940693218609,7.111707874265428,10.443076713290457,9.497894503520241,7.009693464705557,8.360671411213396,6.273289939630295,3.890475866669244,5.943257864974965,4.729020655869074,9.650932383338336,5.228129047119374,8.43976254622929,3.8618104882183926,7.681145747868608,9.617172141539319,10.58347768930421,7.243558228002943,6.696230743697495,6.58196885814471,8.307225770376053,9.649219554789338,7.338539818428913,4.290655220618667,13.793039327294673,6.605973727535471,7.803133273813084,7.96376089566392,12.373807462180391,7.533923280734945,15.336956093769787,6.056929133855239,8.234225472732847,3.714835124201342,7.743384273042375,6.491447364716816,10.67707825203131,7.411983540186797,8.061288668693114,8.54458893101359,6.554387843269576,6.465291950097845,12.059523156635676,6.522687678055308,6.590902821313633,6.286546043498353,8.827041784576908,8.014449760194251,9.084636054619798,7.115342519763452,8.410373059502177,9.986410519387253,12.234786471369247,8.558215675919575,13.105342422081156,5.439056290693573,9.47417542586161,12.080459428349569,10.128000241355096,9.417536832951598,2.7367864366808017,9.189124006128115,6.237765803733114,11.840080236214618,11.639775556255369,9.349316671405575,9.752492558885196,7.041050268879557,8.982836858403438,9.089004345911603,7.085079188508624,9.076923076923077,11.579406056793205,12.92523610596966,7.049998534669562,6.959148803274414,9.159148432032314,9.649219554789337,4.8207540303864915,9.902833720833614,6.850227721376185,5.059410354586261,7.241853660800143,13.241349377360805,8.960468737739115,6.184408911144776,8.18691090730085,12.175154003132773,7.127801593447699,11.503086005690863,6.12542515531235,7.346219582122518,8.886799570799953,8.85045640136127,6.394528911499267,11.232096865679178,11.3016987688457,7.0722364868279,9.990495483208027,18.09479172588913,4.483164667073781,7.552483035399683,7.369375299690762,9.021579068482906,13.283448347473632,7.602631123499285,7.263981834969401,13.289469515371936,9.911325592472481,8.193930428540908,8.680899993166493,10.857096444716541,9.499021263197472,8.312094145936335,5.249761899362675,4.666666666666667,10.556140334678775,8.129575634681062,9.937806599043876,10.078702640398728,7.02068372738724,9.464684195131936,9.08845421400141,6.607141665474892,12.777821695137527,3.961060464067672,8.56186635936088,7.397447007057382,5.142956348249516,11.406549653598146,5.89915248150105,8.238722183074056,10.793053321465617,9.148223871331528,10.347772170321923,6.767645115412249,7.476986387829456,6.514598989960933,4.281422487024225,7.212814385385546,8.475848040166836,8.45944029930555,7.349593793239177,5.931905258852336,10.705946195951915,9.582180431310078,14.097318007337424,5.851212386380497,8.874683092933516,18.22764147058656,7.147726911403373,8.93364427319557,12.39274977208772,7.323857514239943,7.608547824650903,11.56473326780845,7.369230323144714,4.2708313008125245,8.233172169154617,4.769046199492364,5.020943790086669,7.7259303646874775,11.61827762622326,9.16733330909267,9.715966241192895,9.332251019497338,8.83685464404615,4.898979485566356,8.842369591913696,7.647875521999557,5.546169849544819,6.5106749948748694,7.858753081755401,13.183702059740277,10.103595628690767,10.754068997360953,10.719595245260997,8.349790911421842,9.509863300805117,4.807019660509922,7.113019142552201,4.772510817602432,7.131210743391803,4.424521317486095,6.751314458205916,10.302852048368866,8.781293248212995,7.760889443786562,7.337214099629481,9.78360916351746,8.431488599292535,7.4269778510508555,8.37779804005802,11.897898974188678,6.352902879786531,11.998333217576516,12.004556426624017,9.527089382322673,9.777694297999092,7.6609398901179215,4.079079416840139,10.509519494249012,5.885575587824865,7.089743493943724,13.337036522776584,7.36082999272624,5.028842431250665,7.08590149522275,9.237604307034012,10.140981519204121,13.74261165135652,9.654526220545982,10.132456102380443,7.785343296729688,10.828203913853857,9.004242827072629,8.52994724485445,14.004372495031394,18.874586088176873,6.48074069840786,6.768308503607086,5.497713349294043,7.243771270700243,14.852924796147054,6.137478232405752,10.327955589886445,7.465145347662588,5.367487061500186,6.773794912798967,12.361630853385481,4.4147480109288235,10.285912696499032,5.94418483337567,11.725373128391267,7.132743725793829,7.3169112392214135,6.536610186271836,7.181670341145497,4.517712056143267,12.788166017167772,11.653431646335017,12.829003598617211,5.508805567045383,7.6398209341139305,4.763544691161337,10.586941642104831,7.316911239221413,11.594734573179553,6.639490962166181,7.2076776623230465,11.74734012447073,7.952986860293433,9.007541422004996,11.348717479510716,8.150942879353602,7.548799573442125,5.8267158231675085],\"yaxis\":\"y\",\"type\":\"scatter\"}],                        {\"template\":{\"data\":{\"histogram2dcontour\":[{\"type\":\"histogram2dcontour\",\"colorbar\":{\"outlinewidth\":0,\"ticks\":\"\"},\"colorscale\":[[0.0,\"#0d0887\"],[0.1111111111111111,\"#46039f\"],[0.2222222222222222,\"#7201a8\"],[0.3333333333333333,\"#9c179e\"],[0.4444444444444444,\"#bd3786\"],[0.5555555555555556,\"#d8576b\"],[0.6666666666666666,\"#ed7953\"],[0.7777777777777778,\"#fb9f3a\"],[0.8888888888888888,\"#fdca26\"],[1.0,\"#f0f921\"]]}],\"choropleth\":[{\"type\":\"choropleth\",\"colorbar\":{\"outlinewidth\":0,\"ticks\":\"\"}}],\"histogram2d\":[{\"type\":\"histogram2d\",\"colorbar\":{\"outlinewidth\":0,\"ticks\":\"\"},\"colorscale\":[[0.0,\"#0d0887\"],[0.1111111111111111,\"#46039f\"],[0.2222222222222222,\"#7201a8\"],[0.3333333333333333,\"#9c179e\"],[0.4444444444444444,\"#bd3786\"],[0.5555555555555556,\"#d8576b\"],[0.6666666666666666,\"#ed7953\"],[0.7777777777777778,\"#fb9f3a\"],[0.8888888888888888,\"#fdca26\"],[1.0,\"#f0f921\"]]}],\"heatmap\":[{\"type\":\"heatmap\",\"colorbar\":{\"outlinewidth\":0,\"ticks\":\"\"},\"colorscale\":[[0.0,\"#0d0887\"],[0.1111111111111111,\"#46039f\"],[0.2222222222222222,\"#7201a8\"],[0.3333333333333333,\"#9c179e\"],[0.4444444444444444,\"#bd3786\"],[0.5555555555555556,\"#d8576b\"],[0.6666666666666666,\"#ed7953\"],[0.7777777777777778,\"#fb9f3a\"],[0.8888888888888888,\"#fdca26\"],[1.0,\"#f0f921\"]]}],\"heatmapgl\":[{\"type\":\"heatmapgl\",\"colorbar\":{\"outlinewidth\":0,\"ticks\":\"\"},\"colorscale\":[[0.0,\"#0d0887\"],[0.1111111111111111,\"#46039f\"],[0.2222222222222222,\"#7201a8\"],[0.3333333333333333,\"#9c179e\"],[0.4444444444444444,\"#bd3786\"],[0.5555555555555556,\"#d8576b\"],[0.6666666666666666,\"#ed7953\"],[0.7777777777777778,\"#fb9f3a\"],[0.8888888888888888,\"#fdca26\"],[1.0,\"#f0f921\"]]}],\"contourcarpet\":[{\"type\":\"contourcarpet\",\"colorbar\":{\"outlinewidth\":0,\"ticks\":\"\"}}],\"contour\":[{\"type\":\"contour\",\"colorbar\":{\"outlinewidth\":0,\"ticks\":\"\"},\"colorscale\":[[0.0,\"#0d0887\"],[0.1111111111111111,\"#46039f\"],[0.2222222222222222,\"#7201a8\"],[0.3333333333333333,\"#9c179e\"],[0.4444444444444444,\"#bd3786\"],[0.5555555555555556,\"#d8576b\"],[0.6666666666666666,\"#ed7953\"],[0.7777777777777778,\"#fb9f3a\"],[0.8888888888888888,\"#fdca26\"],[1.0,\"#f0f921\"]]}],\"surface\":[{\"type\":\"surface\",\"colorbar\":{\"outlinewidth\":0,\"ticks\":\"\"},\"colorscale\":[[0.0,\"#0d0887\"],[0.1111111111111111,\"#46039f\"],[0.2222222222222222,\"#7201a8\"],[0.3333333333333333,\"#9c179e\"],[0.4444444444444444,\"#bd3786\"],[0.5555555555555556,\"#d8576b\"],[0.6666666666666666,\"#ed7953\"],[0.7777777777777778,\"#fb9f3a\"],[0.8888888888888888,\"#fdca26\"],[1.0,\"#f0f921\"]]}],\"mesh3d\":[{\"type\":\"mesh3d\",\"colorbar\":{\"outlinewidth\":0,\"ticks\":\"\"}}],\"scatter\":[{\"fillpattern\":{\"fillmode\":\"overlay\",\"size\":10,\"solidity\":0.2},\"type\":\"scatter\"}],\"parcoords\":[{\"type\":\"parcoords\",\"line\":{\"colorbar\":{\"outlinewidth\":0,\"ticks\":\"\"}}}],\"scatterpolargl\":[{\"type\":\"scatterpolargl\",\"marker\":{\"colorbar\":{\"outlinewidth\":0,\"ticks\":\"\"}}}],\"bar\":[{\"error_x\":{\"color\":\"#2a3f5f\"},\"error_y\":{\"color\":\"#2a3f5f\"},\"marker\":{\"line\":{\"color\":\"#E5ECF6\",\"width\":0.5},\"pattern\":{\"fillmode\":\"overlay\",\"size\":10,\"solidity\":0.2}},\"type\":\"bar\"}],\"scattergeo\":[{\"type\":\"scattergeo\",\"marker\":{\"colorbar\":{\"outlinewidth\":0,\"ticks\":\"\"}}}],\"scatterpolar\":[{\"type\":\"scatterpolar\",\"marker\":{\"colorbar\":{\"outlinewidth\":0,\"ticks\":\"\"}}}],\"histogram\":[{\"marker\":{\"pattern\":{\"fillmode\":\"overlay\",\"size\":10,\"solidity\":0.2}},\"type\":\"histogram\"}],\"scattergl\":[{\"type\":\"scattergl\",\"marker\":{\"colorbar\":{\"outlinewidth\":0,\"ticks\":\"\"}}}],\"scatter3d\":[{\"type\":\"scatter3d\",\"line\":{\"colorbar\":{\"outlinewidth\":0,\"ticks\":\"\"}},\"marker\":{\"colorbar\":{\"outlinewidth\":0,\"ticks\":\"\"}}}],\"scattermapbox\":[{\"type\":\"scattermapbox\",\"marker\":{\"colorbar\":{\"outlinewidth\":0,\"ticks\":\"\"}}}],\"scatterternary\":[{\"type\":\"scatterternary\",\"marker\":{\"colorbar\":{\"outlinewidth\":0,\"ticks\":\"\"}}}],\"scattercarpet\":[{\"type\":\"scattercarpet\",\"marker\":{\"colorbar\":{\"outlinewidth\":0,\"ticks\":\"\"}}}],\"carpet\":[{\"aaxis\":{\"endlinecolor\":\"#2a3f5f\",\"gridcolor\":\"white\",\"linecolor\":\"white\",\"minorgridcolor\":\"white\",\"startlinecolor\":\"#2a3f5f\"},\"baxis\":{\"endlinecolor\":\"#2a3f5f\",\"gridcolor\":\"white\",\"linecolor\":\"white\",\"minorgridcolor\":\"white\",\"startlinecolor\":\"#2a3f5f\"},\"type\":\"carpet\"}],\"table\":[{\"cells\":{\"fill\":{\"color\":\"#EBF0F8\"},\"line\":{\"color\":\"white\"}},\"header\":{\"fill\":{\"color\":\"#C8D4E3\"},\"line\":{\"color\":\"white\"}},\"type\":\"table\"}],\"barpolar\":[{\"marker\":{\"line\":{\"color\":\"#E5ECF6\",\"width\":0.5},\"pattern\":{\"fillmode\":\"overlay\",\"size\":10,\"solidity\":0.2}},\"type\":\"barpolar\"}],\"pie\":[{\"automargin\":true,\"type\":\"pie\"}]},\"layout\":{\"autotypenumbers\":\"strict\",\"colorway\":[\"#636efa\",\"#EF553B\",\"#00cc96\",\"#ab63fa\",\"#FFA15A\",\"#19d3f3\",\"#FF6692\",\"#B6E880\",\"#FF97FF\",\"#FECB52\"],\"font\":{\"color\":\"#2a3f5f\"},\"hovermode\":\"closest\",\"hoverlabel\":{\"align\":\"left\"},\"paper_bgcolor\":\"white\",\"plot_bgcolor\":\"#E5ECF6\",\"polar\":{\"bgcolor\":\"#E5ECF6\",\"angularaxis\":{\"gridcolor\":\"white\",\"linecolor\":\"white\",\"ticks\":\"\"},\"radialaxis\":{\"gridcolor\":\"white\",\"linecolor\":\"white\",\"ticks\":\"\"}},\"ternary\":{\"bgcolor\":\"#E5ECF6\",\"aaxis\":{\"gridcolor\":\"white\",\"linecolor\":\"white\",\"ticks\":\"\"},\"baxis\":{\"gridcolor\":\"white\",\"linecolor\":\"white\",\"ticks\":\"\"},\"caxis\":{\"gridcolor\":\"white\",\"linecolor\":\"white\",\"ticks\":\"\"}},\"coloraxis\":{\"colorbar\":{\"outlinewidth\":0,\"ticks\":\"\"}},\"colorscale\":{\"sequential\":[[0.0,\"#0d0887\"],[0.1111111111111111,\"#46039f\"],[0.2222222222222222,\"#7201a8\"],[0.3333333333333333,\"#9c179e\"],[0.4444444444444444,\"#bd3786\"],[0.5555555555555556,\"#d8576b\"],[0.6666666666666666,\"#ed7953\"],[0.7777777777777778,\"#fb9f3a\"],[0.8888888888888888,\"#fdca26\"],[1.0,\"#f0f921\"]],\"sequentialminus\":[[0.0,\"#0d0887\"],[0.1111111111111111,\"#46039f\"],[0.2222222222222222,\"#7201a8\"],[0.3333333333333333,\"#9c179e\"],[0.4444444444444444,\"#bd3786\"],[0.5555555555555556,\"#d8576b\"],[0.6666666666666666,\"#ed7953\"],[0.7777777777777778,\"#fb9f3a\"],[0.8888888888888888,\"#fdca26\"],[1.0,\"#f0f921\"]],\"diverging\":[[0,\"#8e0152\"],[0.1,\"#c51b7d\"],[0.2,\"#de77ae\"],[0.3,\"#f1b6da\"],[0.4,\"#fde0ef\"],[0.5,\"#f7f7f7\"],[0.6,\"#e6f5d0\"],[0.7,\"#b8e186\"],[0.8,\"#7fbc41\"],[0.9,\"#4d9221\"],[1,\"#276419\"]]},\"xaxis\":{\"gridcolor\":\"white\",\"linecolor\":\"white\",\"ticks\":\"\",\"title\":{\"standoff\":15},\"zerolinecolor\":\"white\",\"automargin\":true,\"zerolinewidth\":2},\"yaxis\":{\"gridcolor\":\"white\",\"linecolor\":\"white\",\"ticks\":\"\",\"title\":{\"standoff\":15},\"zerolinecolor\":\"white\",\"automargin\":true,\"zerolinewidth\":2},\"scene\":{\"xaxis\":{\"backgroundcolor\":\"#E5ECF6\",\"gridcolor\":\"white\",\"linecolor\":\"white\",\"showbackground\":true,\"ticks\":\"\",\"zerolinecolor\":\"white\",\"gridwidth\":2},\"yaxis\":{\"backgroundcolor\":\"#E5ECF6\",\"gridcolor\":\"white\",\"linecolor\":\"white\",\"showbackground\":true,\"ticks\":\"\",\"zerolinecolor\":\"white\",\"gridwidth\":2},\"zaxis\":{\"backgroundcolor\":\"#E5ECF6\",\"gridcolor\":\"white\",\"linecolor\":\"white\",\"showbackground\":true,\"ticks\":\"\",\"zerolinecolor\":\"white\",\"gridwidth\":2}},\"shapedefaults\":{\"line\":{\"color\":\"#2a3f5f\"}},\"annotationdefaults\":{\"arrowcolor\":\"#2a3f5f\",\"arrowhead\":0,\"arrowwidth\":1},\"geo\":{\"bgcolor\":\"white\",\"landcolor\":\"#E5ECF6\",\"subunitcolor\":\"white\",\"showland\":true,\"showlakes\":true,\"lakecolor\":\"white\"},\"title\":{\"x\":0.05},\"mapbox\":{\"style\":\"light\"}}},\"xaxis\":{\"anchor\":\"y\",\"domain\":[0.0,1.0],\"title\":{\"text\":\"num_products\"}},\"yaxis\":{\"anchor\":\"x\",\"domain\":[0.0,1.0],\"title\":{\"text\":\"base_balance\"}},\"coloraxis\":{\"colorbar\":{\"title\":{\"text\":\"score\"}},\"colorscale\":[[0.0,\"#0d0887\"],[0.1111111111111111,\"#46039f\"],[0.2222222222222222,\"#7201a8\"],[0.3333333333333333,\"#9c179e\"],[0.4444444444444444,\"#bd3786\"],[0.5555555555555556,\"#d8576b\"],[0.6666666666666666,\"#ed7953\"],[0.7777777777777778,\"#fb9f3a\"],[0.8888888888888888,\"#fdca26\"],[1.0,\"#f0f921\"]]},\"legend\":{\"tracegroupgap\":0},\"margin\":{\"t\":60}},                        {\"responsive\": true}                    ).then(function(){\n",
       "                            \n",
       "var gd = document.getElementById('b61c0087-c79a-465d-a890-dfd550198396');\n",
       "var x = new MutationObserver(function (mutations, observer) {{\n",
       "        var display = window.getComputedStyle(gd).display;\n",
       "        if (!display || display === 'none') {{\n",
       "            console.log([gd, 'removed!']);\n",
       "            Plotly.purge(gd);\n",
       "            observer.disconnect();\n",
       "        }}\n",
       "}});\n",
       "\n",
       "// Listen for the removal of the full notebook cells\n",
       "var notebookContainer = gd.closest('#notebook-container');\n",
       "if (notebookContainer) {{\n",
       "    x.observe(notebookContainer, {childList: true});\n",
       "}}\n",
       "\n",
       "// Listen for the clearing of the current output cell\n",
       "var outputEl = gd.closest('.output');\n",
       "if (outputEl) {{\n",
       "    x.observe(outputEl, {childList: true});\n",
       "}}\n",
       "\n",
       "                        })                };                });            </script>        </div>"
      ]
     },
     "metadata": {},
     "output_type": "display_data"
    }
   ],
   "source": [
    "px.scatter(plot_data, x='num_products', y='base_balance', color='score', hover_data=plot_data[0].keys(), text='label')"
   ]
  },
  {
   "cell_type": "markdown",
   "id": "d7c7f134-e912-4d56-87d6-0a23c9a363ac",
   "metadata": {},
   "source": [
    "## Write CSV"
   ]
  },
  {
   "cell_type": "raw",
   "id": "775924e5-11c3-44d1-b763-c8c3b8285e88",
   "metadata": {},
   "source": [
    "AIN: most prods $6k\n",
    "ADN: highest score $6k"
   ]
  },
  {
   "cell_type": "code",
   "execution_count": 43,
   "id": "5319ac82-083a-4e3b-a11f-89b656b2e419",
   "metadata": {},
   "outputs": [],
   "source": [
    "chosen = top[0]\n",
    "chosen = pickle.load(open(bbs_dir/f'{chosen[\"name\"]}.pickle', 'rb'))"
   ]
  },
  {
   "cell_type": "code",
   "execution_count": 36,
   "id": "dfcfa284-2ccf-4a90-8671-35015d4da0f0",
   "metadata": {},
   "outputs": [],
   "source": [
    "chosen = pickle.load(open(bbs_dir/f'BBS_AIN.pickle', 'rb'))"
   ]
  },
  {
   "cell_type": "code",
   "execution_count": 49,
   "id": "2b099842-b4e7-4260-b2c8-3188ca050876",
   "metadata": {},
   "outputs": [
    {
     "data": {
      "text/plain": [
       "'BBS_ADH'"
      ]
     },
     "execution_count": 49,
     "metadata": {},
     "output_type": "execute_result"
    }
   ],
   "source": [
    "chosen.name"
   ]
  },
  {
   "cell_type": "code",
   "execution_count": 44,
   "id": "249bfdd6-3262-48e7-b584-9d27d250c7b9",
   "metadata": {},
   "outputs": [],
   "source": [
    "for bb in chosen:\n",
    "    bb.__num_reactions = 0\n",
    "    \n",
    "for comp in chosen.products:\n",
    "    # print(comp.reaction)\n",
    "    for bb in comp.reaction.reactants:\n",
    "        chosen[bb.name].__num_reactions += 1\n",
    "        # print(chosen[bb.name])"
   ]
  },
  {
   "cell_type": "code",
   "execution_count": 45,
   "id": "28c3bf53-1207-424a-9ce1-94e461ffe1d5",
   "metadata": {
    "scrolled": true
   },
   "outputs": [],
   "source": [
    "df_data = []\n",
    "for bb in chosen:\n",
    "    # print(bb)\n",
    "\n",
    "    pack = bb.price_picker.get_pack(bb.amount)\n",
    "\n",
    "    # reactions = animal.building_blocks[bb.name].amount\n",
    "\n",
    "    d = dict(\n",
    "        name=bb.name,\n",
    "        smiles=bb.smiles,\n",
    "        required_amount=bb.amount,\n",
    "        quoted_amount=pack['amount'],\n",
    "        price=pack['price'],\n",
    "        lead_time=bb.lead_time,\n",
    "        num_reactions=bb.__num_reactions,\n",
    "    )\n",
    "    \n",
    "    df_data.append(d)"
   ]
  },
  {
   "cell_type": "code",
   "execution_count": 46,
   "id": "6bc34fa8-bf63-4a53-b47a-b2df322f6a6c",
   "metadata": {},
   "outputs": [],
   "source": [
    "df = pd.DataFrame(df_data)"
   ]
  },
  {
   "cell_type": "code",
   "execution_count": 47,
   "id": "2fc9fe62-6090-4ad2-b3b8-67a71589046a",
   "metadata": {
    "scrolled": true
   },
   "outputs": [
    {
     "data": {
      "text/html": [
       "<div>\n",
       "<style scoped>\n",
       "    .dataframe tbody tr th:only-of-type {\n",
       "        vertical-align: middle;\n",
       "    }\n",
       "\n",
       "    .dataframe tbody tr th {\n",
       "        vertical-align: top;\n",
       "    }\n",
       "\n",
       "    .dataframe thead th {\n",
       "        text-align: right;\n",
       "    }\n",
       "</style>\n",
       "<table border=\"1\" class=\"dataframe\">\n",
       "  <thead>\n",
       "    <tr style=\"text-align: right;\">\n",
       "      <th></th>\n",
       "      <th>name</th>\n",
       "      <th>smiles</th>\n",
       "      <th>required_amount</th>\n",
       "      <th>quoted_amount</th>\n",
       "      <th>price</th>\n",
       "      <th>lead_time</th>\n",
       "      <th>num_reactions</th>\n",
       "    </tr>\n",
       "  </thead>\n",
       "  <tbody>\n",
       "    <tr>\n",
       "      <th>0</th>\n",
       "      <td>EN300-2008135</td>\n",
       "      <td>O=C(O)CC1CCNCC1(F)F</td>\n",
       "      <td>21</td>\n",
       "      <td>50.0</td>\n",
       "      <td>229.000000</td>\n",
       "      <td>5</td>\n",
       "      <td>2</td>\n",
       "    </tr>\n",
       "    <tr>\n",
       "      <th>1</th>\n",
       "      <td>EN300-116371</td>\n",
       "      <td>CCOC(=O)Cn1nc(C(C)(C)C)cc1N</td>\n",
       "      <td>22</td>\n",
       "      <td>50.0</td>\n",
       "      <td>155.000000</td>\n",
       "      <td>5</td>\n",
       "      <td>3</td>\n",
       "    </tr>\n",
       "    <tr>\n",
       "      <th>2</th>\n",
       "      <td>EN300-40016</td>\n",
       "      <td>O=C(O)C(F)(F)C(F)(F)F</td>\n",
       "      <td>20</td>\n",
       "      <td>250.0</td>\n",
       "      <td>19.000000</td>\n",
       "      <td>5</td>\n",
       "      <td>1</td>\n",
       "    </tr>\n",
       "    <tr>\n",
       "      <th>3</th>\n",
       "      <td>EN300-29854</td>\n",
       "      <td>Cc1cc(N)n(Cc2ccccc2)n1</td>\n",
       "      <td>21</td>\n",
       "      <td>50.0</td>\n",
       "      <td>102.000000</td>\n",
       "      <td>5</td>\n",
       "      <td>2</td>\n",
       "    </tr>\n",
       "    <tr>\n",
       "      <th>4</th>\n",
       "      <td>Z44356648</td>\n",
       "      <td>O=C(O)CCN1C(=O)/C(=C/c2ccsc2)SC1=S</td>\n",
       "      <td>20</td>\n",
       "      <td>20.0</td>\n",
       "      <td>122.700000</td>\n",
       "      <td>5</td>\n",
       "      <td>1</td>\n",
       "    </tr>\n",
       "    <tr>\n",
       "      <th>5</th>\n",
       "      <td>Z1198733777</td>\n",
       "      <td>COc1ccc2c(c1)OCCC2N</td>\n",
       "      <td>22</td>\n",
       "      <td>25.0</td>\n",
       "      <td>120.000000</td>\n",
       "      <td>5</td>\n",
       "      <td>3</td>\n",
       "    </tr>\n",
       "    <tr>\n",
       "      <th>6</th>\n",
       "      <td>EN300-227402</td>\n",
       "      <td>O=C(O)CCN1C(=O)C=CC1=O</td>\n",
       "      <td>20</td>\n",
       "      <td>500.0</td>\n",
       "      <td>19.000000</td>\n",
       "      <td>5</td>\n",
       "      <td>1</td>\n",
       "    </tr>\n",
       "    <tr>\n",
       "      <th>7</th>\n",
       "      <td>EN300-143566</td>\n",
       "      <td>N#C/C(=N/O)C(=O)O</td>\n",
       "      <td>20</td>\n",
       "      <td>50.0</td>\n",
       "      <td>245.000000</td>\n",
       "      <td>5</td>\n",
       "      <td>1</td>\n",
       "    </tr>\n",
       "    <tr>\n",
       "      <th>8</th>\n",
       "      <td>Z4617346254</td>\n",
       "      <td>O=C(Nc1cc(C(F)(F)F)n[nH]1)C1CCCSS1</td>\n",
       "      <td>20</td>\n",
       "      <td>20.0</td>\n",
       "      <td>233.866667</td>\n",
       "      <td>5</td>\n",
       "      <td>1</td>\n",
       "    </tr>\n",
       "    <tr>\n",
       "      <th>9</th>\n",
       "      <td>EN300-1601853</td>\n",
       "      <td>Cc1onc(C(=O)O)c1[N+](=O)[O-]</td>\n",
       "      <td>20</td>\n",
       "      <td>50.0</td>\n",
       "      <td>27.000000</td>\n",
       "      <td>5</td>\n",
       "      <td>1</td>\n",
       "    </tr>\n",
       "    <tr>\n",
       "      <th>10</th>\n",
       "      <td>EN300-169478</td>\n",
       "      <td>CC(C)CNC(C)c1ccccc1Cl</td>\n",
       "      <td>20</td>\n",
       "      <td>50.0</td>\n",
       "      <td>65.000000</td>\n",
       "      <td>5</td>\n",
       "      <td>1</td>\n",
       "    </tr>\n",
       "    <tr>\n",
       "      <th>11</th>\n",
       "      <td>EN300-156066</td>\n",
       "      <td>CC(=O)OC(C(=O)O)C(F)(F)F</td>\n",
       "      <td>23</td>\n",
       "      <td>50.0</td>\n",
       "      <td>238.000000</td>\n",
       "      <td>5</td>\n",
       "      <td>4</td>\n",
       "    </tr>\n",
       "    <tr>\n",
       "      <th>12</th>\n",
       "      <td>EN300-189515</td>\n",
       "      <td>Cn1nc(C2CCCOC2)cc1N</td>\n",
       "      <td>20</td>\n",
       "      <td>50.0</td>\n",
       "      <td>205.000000</td>\n",
       "      <td>5</td>\n",
       "      <td>1</td>\n",
       "    </tr>\n",
       "    <tr>\n",
       "      <th>13</th>\n",
       "      <td>EN300-127402</td>\n",
       "      <td>O=C([37Cl])C1CCC1</td>\n",
       "      <td>20</td>\n",
       "      <td>500.0</td>\n",
       "      <td>19.000000</td>\n",
       "      <td>5</td>\n",
       "      <td>1</td>\n",
       "    </tr>\n",
       "    <tr>\n",
       "      <th>14</th>\n",
       "      <td>EN300-71580</td>\n",
       "      <td>N#Cc1cnccc1N</td>\n",
       "      <td>20</td>\n",
       "      <td>50.0</td>\n",
       "      <td>61.000000</td>\n",
       "      <td>5</td>\n",
       "      <td>1</td>\n",
       "    </tr>\n",
       "    <tr>\n",
       "      <th>15</th>\n",
       "      <td>EN300-216774</td>\n",
       "      <td>C=C(CC(C)C)C(=O)O</td>\n",
       "      <td>20</td>\n",
       "      <td>50.0</td>\n",
       "      <td>262.000000</td>\n",
       "      <td>5</td>\n",
       "      <td>1</td>\n",
       "    </tr>\n",
       "    <tr>\n",
       "      <th>16</th>\n",
       "      <td>EN300-26675456</td>\n",
       "      <td>CC1CCc2c(C(=O)NCC3(N)CCOCC3)csc2C1</td>\n",
       "      <td>21</td>\n",
       "      <td>50.0</td>\n",
       "      <td>268.000000</td>\n",
       "      <td>5</td>\n",
       "      <td>2</td>\n",
       "    </tr>\n",
       "    <tr>\n",
       "      <th>17</th>\n",
       "      <td>EN300-180188</td>\n",
       "      <td>O=C(O)C(F)C(F)(F)F</td>\n",
       "      <td>21</td>\n",
       "      <td>50.0</td>\n",
       "      <td>19.000000</td>\n",
       "      <td>5</td>\n",
       "      <td>2</td>\n",
       "    </tr>\n",
       "    <tr>\n",
       "      <th>18</th>\n",
       "      <td>Z398900350</td>\n",
       "      <td>Cc1nc(/C=C\\C(=O)N2C(C(=O)O)CC3CCCCC32)cs1</td>\n",
       "      <td>20</td>\n",
       "      <td>20.0</td>\n",
       "      <td>110.400000</td>\n",
       "      <td>5</td>\n",
       "      <td>1</td>\n",
       "    </tr>\n",
       "    <tr>\n",
       "      <th>19</th>\n",
       "      <td>EN300-211276</td>\n",
       "      <td>Nc1nc2c(Br)cccc2s1</td>\n",
       "      <td>20</td>\n",
       "      <td>100.0</td>\n",
       "      <td>19.000000</td>\n",
       "      <td>5</td>\n",
       "      <td>1</td>\n",
       "    </tr>\n",
       "    <tr>\n",
       "      <th>20</th>\n",
       "      <td>EN300-83721</td>\n",
       "      <td>O=C(O)c1noc2c1CCCCC2</td>\n",
       "      <td>20</td>\n",
       "      <td>50.0</td>\n",
       "      <td>40.000000</td>\n",
       "      <td>5</td>\n",
       "      <td>1</td>\n",
       "    </tr>\n",
       "    <tr>\n",
       "      <th>21</th>\n",
       "      <td>EN300-1264529</td>\n",
       "      <td>NC(c1ccccc1Cl)C(F)(F)F</td>\n",
       "      <td>20</td>\n",
       "      <td>50.0</td>\n",
       "      <td>155.000000</td>\n",
       "      <td>5</td>\n",
       "      <td>1</td>\n",
       "    </tr>\n",
       "    <tr>\n",
       "      <th>22</th>\n",
       "      <td>EN300-98872</td>\n",
       "      <td>Cc1nc(Cl)sc1C(=O)O</td>\n",
       "      <td>21</td>\n",
       "      <td>100.0</td>\n",
       "      <td>19.000000</td>\n",
       "      <td>5</td>\n",
       "      <td>2</td>\n",
       "    </tr>\n",
       "    <tr>\n",
       "      <th>23</th>\n",
       "      <td>EN300-65193</td>\n",
       "      <td>CNC(=O)c1c(C)cccc1N</td>\n",
       "      <td>20</td>\n",
       "      <td>50.0</td>\n",
       "      <td>66.000000</td>\n",
       "      <td>5</td>\n",
       "      <td>1</td>\n",
       "    </tr>\n",
       "    <tr>\n",
       "      <th>24</th>\n",
       "      <td>EN300-37081294</td>\n",
       "      <td>O=C(Cl)C1CC1c1ccc(F)cc1</td>\n",
       "      <td>20</td>\n",
       "      <td>50.0</td>\n",
       "      <td>218.000000</td>\n",
       "      <td>5</td>\n",
       "      <td>1</td>\n",
       "    </tr>\n",
       "    <tr>\n",
       "      <th>25</th>\n",
       "      <td>EN300-1664798</td>\n",
       "      <td>Nc1ccnc2c1CCCC2</td>\n",
       "      <td>20</td>\n",
       "      <td>50.0</td>\n",
       "      <td>174.000000</td>\n",
       "      <td>5</td>\n",
       "      <td>1</td>\n",
       "    </tr>\n",
       "    <tr>\n",
       "      <th>26</th>\n",
       "      <td>EN300-127042</td>\n",
       "      <td>CC1CC1C(=O)Cl</td>\n",
       "      <td>21</td>\n",
       "      <td>50.0</td>\n",
       "      <td>43.000000</td>\n",
       "      <td>5</td>\n",
       "      <td>2</td>\n",
       "    </tr>\n",
       "    <tr>\n",
       "      <th>27</th>\n",
       "      <td>EN300-73299</td>\n",
       "      <td>Nc1ccncc1C=O</td>\n",
       "      <td>20</td>\n",
       "      <td>250.0</td>\n",
       "      <td>19.000000</td>\n",
       "      <td>5</td>\n",
       "      <td>1</td>\n",
       "    </tr>\n",
       "    <tr>\n",
       "      <th>28</th>\n",
       "      <td>EN300-94327</td>\n",
       "      <td>Cc1nc(C2CCCC2)sc1C(=O)O</td>\n",
       "      <td>20</td>\n",
       "      <td>50.0</td>\n",
       "      <td>202.000000</td>\n",
       "      <td>5</td>\n",
       "      <td>1</td>\n",
       "    </tr>\n",
       "    <tr>\n",
       "      <th>29</th>\n",
       "      <td>EN300-146122</td>\n",
       "      <td>CC1Cc2ccccc2C1N</td>\n",
       "      <td>22</td>\n",
       "      <td>50.0</td>\n",
       "      <td>218.000000</td>\n",
       "      <td>5</td>\n",
       "      <td>3</td>\n",
       "    </tr>\n",
       "    <tr>\n",
       "      <th>30</th>\n",
       "      <td>Z1238481043</td>\n",
       "      <td>O=C(O)C1(c2ccc(F)cc2F)CCOCC1</td>\n",
       "      <td>21</td>\n",
       "      <td>25.0</td>\n",
       "      <td>133.300000</td>\n",
       "      <td>5</td>\n",
       "      <td>2</td>\n",
       "    </tr>\n",
       "    <tr>\n",
       "      <th>31</th>\n",
       "      <td>EN300-7459942</td>\n",
       "      <td>NC1CC1C1CC1C(=O)O</td>\n",
       "      <td>20</td>\n",
       "      <td>50.0</td>\n",
       "      <td>268.000000</td>\n",
       "      <td>5</td>\n",
       "      <td>1</td>\n",
       "    </tr>\n",
       "    <tr>\n",
       "      <th>32</th>\n",
       "      <td>EN300-55260</td>\n",
       "      <td>C=C(C(=O)O)C(F)(F)F</td>\n",
       "      <td>21</td>\n",
       "      <td>500.0</td>\n",
       "      <td>19.000000</td>\n",
       "      <td>5</td>\n",
       "      <td>2</td>\n",
       "    </tr>\n",
       "    <tr>\n",
       "      <th>33</th>\n",
       "      <td>Z55423092</td>\n",
       "      <td>Cc1cc(N)n(C)n1</td>\n",
       "      <td>20</td>\n",
       "      <td>20.0</td>\n",
       "      <td>110.400000</td>\n",
       "      <td>5</td>\n",
       "      <td>1</td>\n",
       "    </tr>\n",
       "    <tr>\n",
       "      <th>34</th>\n",
       "      <td>EN300-61407</td>\n",
       "      <td>O=C(O)C1(C(F)(F)F)CCNC1</td>\n",
       "      <td>20</td>\n",
       "      <td>50.0</td>\n",
       "      <td>119.000000</td>\n",
       "      <td>5</td>\n",
       "      <td>1</td>\n",
       "    </tr>\n",
       "    <tr>\n",
       "      <th>35</th>\n",
       "      <td>EN300-106016</td>\n",
       "      <td>Cc1nn(C)c(N)c1[N+](=O)[O-]</td>\n",
       "      <td>21</td>\n",
       "      <td>50.0</td>\n",
       "      <td>42.000000</td>\n",
       "      <td>5</td>\n",
       "      <td>2</td>\n",
       "    </tr>\n",
       "    <tr>\n",
       "      <th>36</th>\n",
       "      <td>Z1385252643</td>\n",
       "      <td>CC/C=C(\\C)C(=O)NC1CCCCCC1C(=O)O</td>\n",
       "      <td>20</td>\n",
       "      <td>20.0</td>\n",
       "      <td>110.400000</td>\n",
       "      <td>5</td>\n",
       "      <td>1</td>\n",
       "    </tr>\n",
       "    <tr>\n",
       "      <th>37</th>\n",
       "      <td>EN300-6504614</td>\n",
       "      <td>Cc1nc(C(C)N)sc1C(=O)O</td>\n",
       "      <td>21</td>\n",
       "      <td>50.0</td>\n",
       "      <td>205.000000</td>\n",
       "      <td>5</td>\n",
       "      <td>2</td>\n",
       "    </tr>\n",
       "    <tr>\n",
       "      <th>38</th>\n",
       "      <td>EN300-321186</td>\n",
       "      <td>NC1CCCc2ccc(Cl)cc21</td>\n",
       "      <td>22</td>\n",
       "      <td>50.0</td>\n",
       "      <td>169.000000</td>\n",
       "      <td>5</td>\n",
       "      <td>3</td>\n",
       "    </tr>\n",
       "    <tr>\n",
       "      <th>39</th>\n",
       "      <td>EN300-92189</td>\n",
       "      <td>Cc1nc(CC2CC2)sc1C(=O)O</td>\n",
       "      <td>21</td>\n",
       "      <td>50.0</td>\n",
       "      <td>229.000000</td>\n",
       "      <td>5</td>\n",
       "      <td>2</td>\n",
       "    </tr>\n",
       "    <tr>\n",
       "      <th>40</th>\n",
       "      <td>EN300-70584</td>\n",
       "      <td>c1ccc2c(c1)CNC2</td>\n",
       "      <td>20</td>\n",
       "      <td>250.0</td>\n",
       "      <td>19.000000</td>\n",
       "      <td>5</td>\n",
       "      <td>1</td>\n",
       "    </tr>\n",
       "    <tr>\n",
       "      <th>41</th>\n",
       "      <td>Z398844272</td>\n",
       "      <td>Cc1nc(/C=C/C(=O)N2CCCC2C(=O)O)cs1</td>\n",
       "      <td>20</td>\n",
       "      <td>20.0</td>\n",
       "      <td>134.400000</td>\n",
       "      <td>5</td>\n",
       "      <td>1</td>\n",
       "    </tr>\n",
       "    <tr>\n",
       "      <th>42</th>\n",
       "      <td>EN300-235720</td>\n",
       "      <td>CCOC(=O)c1ccc2nc(N)sc2c1</td>\n",
       "      <td>20</td>\n",
       "      <td>250.0</td>\n",
       "      <td>19.000000</td>\n",
       "      <td>5</td>\n",
       "      <td>1</td>\n",
       "    </tr>\n",
       "    <tr>\n",
       "      <th>43</th>\n",
       "      <td>EN300-67159</td>\n",
       "      <td>Cc1nc(CC(C)C)sc1C(=O)O</td>\n",
       "      <td>22</td>\n",
       "      <td>50.0</td>\n",
       "      <td>66.000000</td>\n",
       "      <td>5</td>\n",
       "      <td>3</td>\n",
       "    </tr>\n",
       "    <tr>\n",
       "      <th>44</th>\n",
       "      <td>EN300-312852</td>\n",
       "      <td>Nc1cccc2c1CNNC2</td>\n",
       "      <td>21</td>\n",
       "      <td>50.0</td>\n",
       "      <td>174.000000</td>\n",
       "      <td>5</td>\n",
       "      <td>2</td>\n",
       "    </tr>\n",
       "    <tr>\n",
       "      <th>45</th>\n",
       "      <td>EN300-150652</td>\n",
       "      <td>N#CC1(C(=O)O)CC=CC1</td>\n",
       "      <td>20</td>\n",
       "      <td>50.0</td>\n",
       "      <td>205.000000</td>\n",
       "      <td>5</td>\n",
       "      <td>1</td>\n",
       "    </tr>\n",
       "    <tr>\n",
       "      <th>46</th>\n",
       "      <td>Z1608961089</td>\n",
       "      <td>CN1CCC(Nc2cc(C3CCC3)nn2C)CC1</td>\n",
       "      <td>20</td>\n",
       "      <td>20.0</td>\n",
       "      <td>122.700000</td>\n",
       "      <td>5</td>\n",
       "      <td>1</td>\n",
       "    </tr>\n",
       "    <tr>\n",
       "      <th>47</th>\n",
       "      <td>EN300-138050</td>\n",
       "      <td>O=C(O)C(O)C(F)(F)F</td>\n",
       "      <td>21</td>\n",
       "      <td>250.0</td>\n",
       "      <td>19.000000</td>\n",
       "      <td>5</td>\n",
       "      <td>2</td>\n",
       "    </tr>\n",
       "    <tr>\n",
       "      <th>48</th>\n",
       "      <td>EN300-27260</td>\n",
       "      <td>CC(C)(C)c1cc(N)n(CCO)n1</td>\n",
       "      <td>23</td>\n",
       "      <td>50.0</td>\n",
       "      <td>82.000000</td>\n",
       "      <td>5</td>\n",
       "      <td>4</td>\n",
       "    </tr>\n",
       "    <tr>\n",
       "      <th>49</th>\n",
       "      <td>EN300-44261</td>\n",
       "      <td>Nc1nc(N)c(N)c(N)n1</td>\n",
       "      <td>20</td>\n",
       "      <td>250.0</td>\n",
       "      <td>19.000000</td>\n",
       "      <td>5</td>\n",
       "      <td>1</td>\n",
       "    </tr>\n",
       "    <tr>\n",
       "      <th>50</th>\n",
       "      <td>EN300-44905</td>\n",
       "      <td>O=C(Cl)C1CCOCC1</td>\n",
       "      <td>20</td>\n",
       "      <td>1000.0</td>\n",
       "      <td>19.000000</td>\n",
       "      <td>5</td>\n",
       "      <td>1</td>\n",
       "    </tr>\n",
       "    <tr>\n",
       "      <th>51</th>\n",
       "      <td>EN300-102234</td>\n",
       "      <td>Cc1cnc(Cl)cc1N</td>\n",
       "      <td>21</td>\n",
       "      <td>1000.0</td>\n",
       "      <td>19.000000</td>\n",
       "      <td>5</td>\n",
       "      <td>2</td>\n",
       "    </tr>\n",
       "  </tbody>\n",
       "</table>\n",
       "</div>"
      ],
      "text/plain": [
       "              name                                     smiles  \\\n",
       "0    EN300-2008135                        O=C(O)CC1CCNCC1(F)F   \n",
       "1     EN300-116371                CCOC(=O)Cn1nc(C(C)(C)C)cc1N   \n",
       "2      EN300-40016                      O=C(O)C(F)(F)C(F)(F)F   \n",
       "3      EN300-29854                     Cc1cc(N)n(Cc2ccccc2)n1   \n",
       "4        Z44356648         O=C(O)CCN1C(=O)/C(=C/c2ccsc2)SC1=S   \n",
       "5      Z1198733777                        COc1ccc2c(c1)OCCC2N   \n",
       "6     EN300-227402                     O=C(O)CCN1C(=O)C=CC1=O   \n",
       "7     EN300-143566                          N#C/C(=N/O)C(=O)O   \n",
       "8      Z4617346254         O=C(Nc1cc(C(F)(F)F)n[nH]1)C1CCCSS1   \n",
       "9    EN300-1601853               Cc1onc(C(=O)O)c1[N+](=O)[O-]   \n",
       "10    EN300-169478                      CC(C)CNC(C)c1ccccc1Cl   \n",
       "11    EN300-156066                   CC(=O)OC(C(=O)O)C(F)(F)F   \n",
       "12    EN300-189515                        Cn1nc(C2CCCOC2)cc1N   \n",
       "13    EN300-127402                          O=C([37Cl])C1CCC1   \n",
       "14     EN300-71580                               N#Cc1cnccc1N   \n",
       "15    EN300-216774                          C=C(CC(C)C)C(=O)O   \n",
       "16  EN300-26675456         CC1CCc2c(C(=O)NCC3(N)CCOCC3)csc2C1   \n",
       "17    EN300-180188                         O=C(O)C(F)C(F)(F)F   \n",
       "18      Z398900350  Cc1nc(/C=C\\C(=O)N2C(C(=O)O)CC3CCCCC32)cs1   \n",
       "19    EN300-211276                         Nc1nc2c(Br)cccc2s1   \n",
       "20     EN300-83721                       O=C(O)c1noc2c1CCCCC2   \n",
       "21   EN300-1264529                     NC(c1ccccc1Cl)C(F)(F)F   \n",
       "22     EN300-98872                         Cc1nc(Cl)sc1C(=O)O   \n",
       "23     EN300-65193                        CNC(=O)c1c(C)cccc1N   \n",
       "24  EN300-37081294                    O=C(Cl)C1CC1c1ccc(F)cc1   \n",
       "25   EN300-1664798                            Nc1ccnc2c1CCCC2   \n",
       "26    EN300-127042                              CC1CC1C(=O)Cl   \n",
       "27     EN300-73299                               Nc1ccncc1C=O   \n",
       "28     EN300-94327                    Cc1nc(C2CCCC2)sc1C(=O)O   \n",
       "29    EN300-146122                            CC1Cc2ccccc2C1N   \n",
       "30     Z1238481043               O=C(O)C1(c2ccc(F)cc2F)CCOCC1   \n",
       "31   EN300-7459942                          NC1CC1C1CC1C(=O)O   \n",
       "32     EN300-55260                        C=C(C(=O)O)C(F)(F)F   \n",
       "33       Z55423092                             Cc1cc(N)n(C)n1   \n",
       "34     EN300-61407                    O=C(O)C1(C(F)(F)F)CCNC1   \n",
       "35    EN300-106016                 Cc1nn(C)c(N)c1[N+](=O)[O-]   \n",
       "36     Z1385252643            CC/C=C(\\C)C(=O)NC1CCCCCC1C(=O)O   \n",
       "37   EN300-6504614                      Cc1nc(C(C)N)sc1C(=O)O   \n",
       "38    EN300-321186                        NC1CCCc2ccc(Cl)cc21   \n",
       "39     EN300-92189                     Cc1nc(CC2CC2)sc1C(=O)O   \n",
       "40     EN300-70584                            c1ccc2c(c1)CNC2   \n",
       "41      Z398844272          Cc1nc(/C=C/C(=O)N2CCCC2C(=O)O)cs1   \n",
       "42    EN300-235720                   CCOC(=O)c1ccc2nc(N)sc2c1   \n",
       "43     EN300-67159                     Cc1nc(CC(C)C)sc1C(=O)O   \n",
       "44    EN300-312852                            Nc1cccc2c1CNNC2   \n",
       "45    EN300-150652                        N#CC1(C(=O)O)CC=CC1   \n",
       "46     Z1608961089               CN1CCC(Nc2cc(C3CCC3)nn2C)CC1   \n",
       "47    EN300-138050                         O=C(O)C(O)C(F)(F)F   \n",
       "48     EN300-27260                    CC(C)(C)c1cc(N)n(CCO)n1   \n",
       "49     EN300-44261                         Nc1nc(N)c(N)c(N)n1   \n",
       "50     EN300-44905                            O=C(Cl)C1CCOCC1   \n",
       "51    EN300-102234                             Cc1cnc(Cl)cc1N   \n",
       "\n",
       "    required_amount  quoted_amount       price  lead_time  num_reactions  \n",
       "0                21           50.0  229.000000          5              2  \n",
       "1                22           50.0  155.000000          5              3  \n",
       "2                20          250.0   19.000000          5              1  \n",
       "3                21           50.0  102.000000          5              2  \n",
       "4                20           20.0  122.700000          5              1  \n",
       "5                22           25.0  120.000000          5              3  \n",
       "6                20          500.0   19.000000          5              1  \n",
       "7                20           50.0  245.000000          5              1  \n",
       "8                20           20.0  233.866667          5              1  \n",
       "9                20           50.0   27.000000          5              1  \n",
       "10               20           50.0   65.000000          5              1  \n",
       "11               23           50.0  238.000000          5              4  \n",
       "12               20           50.0  205.000000          5              1  \n",
       "13               20          500.0   19.000000          5              1  \n",
       "14               20           50.0   61.000000          5              1  \n",
       "15               20           50.0  262.000000          5              1  \n",
       "16               21           50.0  268.000000          5              2  \n",
       "17               21           50.0   19.000000          5              2  \n",
       "18               20           20.0  110.400000          5              1  \n",
       "19               20          100.0   19.000000          5              1  \n",
       "20               20           50.0   40.000000          5              1  \n",
       "21               20           50.0  155.000000          5              1  \n",
       "22               21          100.0   19.000000          5              2  \n",
       "23               20           50.0   66.000000          5              1  \n",
       "24               20           50.0  218.000000          5              1  \n",
       "25               20           50.0  174.000000          5              1  \n",
       "26               21           50.0   43.000000          5              2  \n",
       "27               20          250.0   19.000000          5              1  \n",
       "28               20           50.0  202.000000          5              1  \n",
       "29               22           50.0  218.000000          5              3  \n",
       "30               21           25.0  133.300000          5              2  \n",
       "31               20           50.0  268.000000          5              1  \n",
       "32               21          500.0   19.000000          5              2  \n",
       "33               20           20.0  110.400000          5              1  \n",
       "34               20           50.0  119.000000          5              1  \n",
       "35               21           50.0   42.000000          5              2  \n",
       "36               20           20.0  110.400000          5              1  \n",
       "37               21           50.0  205.000000          5              2  \n",
       "38               22           50.0  169.000000          5              3  \n",
       "39               21           50.0  229.000000          5              2  \n",
       "40               20          250.0   19.000000          5              1  \n",
       "41               20           20.0  134.400000          5              1  \n",
       "42               20          250.0   19.000000          5              1  \n",
       "43               22           50.0   66.000000          5              3  \n",
       "44               21           50.0  174.000000          5              2  \n",
       "45               20           50.0  205.000000          5              1  \n",
       "46               20           20.0  122.700000          5              1  \n",
       "47               21          250.0   19.000000          5              2  \n",
       "48               23           50.0   82.000000          5              4  \n",
       "49               20          250.0   19.000000          5              1  \n",
       "50               20         1000.0   19.000000          5              1  \n",
       "51               21         1000.0   19.000000          5              2  "
      ]
     },
     "execution_count": 47,
     "metadata": {},
     "output_type": "execute_result"
    }
   ],
   "source": [
    "df"
   ]
  },
  {
   "cell_type": "code",
   "execution_count": 48,
   "id": "0830d4f8-b6bb-478a-96dd-099d5cf1f347",
   "metadata": {},
   "outputs": [],
   "source": [
    "df.to_csv(f'picks/{chosen.name}.csv')"
   ]
  },
  {
   "cell_type": "code",
   "execution_count": 50,
   "id": "42080945-acb9-4151-9459-c56b2692c2eb",
   "metadata": {},
   "outputs": [
    {
     "data": {
      "text/plain": [
       "1070"
      ]
     },
     "execution_count": 50,
     "metadata": {},
     "output_type": "execute_result"
    }
   ],
   "source": [
    "df['required_amount'].sum()"
   ]
  },
  {
   "cell_type": "code",
   "execution_count": 51,
   "id": "1005ce8c-21d9-440d-83dd-f71fb7379204",
   "metadata": {},
   "outputs": [
    {
     "data": {
      "text/plain": [
       "6890.0"
      ]
     },
     "execution_count": 51,
     "metadata": {},
     "output_type": "execute_result"
    }
   ],
   "source": [
    "df['quoted_amount'].sum()"
   ]
  },
  {
   "cell_type": "code",
   "execution_count": null,
   "id": "0f8d79da-6d8d-4585-bd5a-9268f6254e03",
   "metadata": {},
   "outputs": [],
   "source": []
  }
 ],
 "metadata": {
  "kernelspec": {
   "display_name": "Python 3 (ipykernel)",
   "language": "python",
   "name": "python3"
  },
  "language_info": {
   "codemirror_mode": {
    "name": "ipython",
    "version": 3
   },
   "file_extension": ".py",
   "mimetype": "text/x-python",
   "name": "python",
   "nbconvert_exporter": "python",
   "pygments_lexer": "ipython3",
   "version": "3.10.12"
  }
 },
 "nbformat": 4,
 "nbformat_minor": 5
}
