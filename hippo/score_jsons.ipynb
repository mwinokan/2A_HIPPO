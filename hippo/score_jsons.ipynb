{
 "cells": [
  {
   "cell_type": "markdown",
   "id": "04c7d8f0-2e73-4866-aba4-5b8a2bc30305",
   "metadata": {},
   "source": [
    "# HIPPO for 2A Protease (6/?)"
   ]
  },
  {
   "cell_type": "markdown",
   "id": "256eef05-aa3d-4bc3-9da4-1ac10c37934c",
   "metadata": {},
   "source": [
    "## Imports"
   ]
  },
  {
   "cell_type": "code",
   "execution_count": 1,
   "id": "724238ad-d6b4-45f7-a3e4-226318fcc920",
   "metadata": {},
   "outputs": [],
   "source": [
    "%load_ext autoreload"
   ]
  },
  {
   "cell_type": "code",
   "execution_count": 4,
   "id": "17673a87-b13d-4322-a920-839f76f773f8",
   "metadata": {},
   "outputs": [],
   "source": [
    "%autoreload 2\n",
    "from pathlib import Path\n",
    "import molparse as mp\n",
    "import hippo2 as hippo\n",
    "import plotly.express as px\n",
    "import plotly.graph_objects as go\n",
    "import pandas as pd\n",
    "from pprint import pprint\n",
    "import json\n",
    "import mout\n",
    "import pickle\n",
    "import json"
   ]
  },
  {
   "cell_type": "markdown",
   "id": "35ddcf65-3ed2-4270-8100-df360ede1fa3",
   "metadata": {},
   "source": [
    "## Load the project"
   ]
  },
  {
   "cell_type": "code",
   "execution_count": 3,
   "id": "d7048cd6-d89b-4929-a154-7e65e0d97b00",
   "metadata": {},
   "outputs": [
    {
     "name": "stdout",
     "output_type": "stream",
     "text": [
      "\u001b[36mpath\u001b[0m = \u001b[38;5;11mpickles/2A_hippo_random_latest.pickle\u001b[0m\u001b[95m \u001b[0m\u001b[0m\n"
     ]
    }
   ],
   "source": [
    "# animal = hippo.HIPPO.from_pickle('pickles/2A_hippo_fingerprinted_trim.pickle')\n",
    "animal = hippo.HIPPO.from_pickle('pickles/2A_hippo_random_latest.pickle')"
   ]
  },
  {
   "cell_type": "markdown",
   "id": "244373b2-60fa-40db-99e3-dca8be91365d",
   "metadata": {},
   "source": [
    "## Load the BBSs"
   ]
  },
  {
   "cell_type": "code",
   "execution_count": 5,
   "id": "0de02d45-2e3c-47b4-81fc-85f54c5b911a",
   "metadata": {},
   "outputs": [],
   "source": [
    "bbs_dir = Path('bbs_5k')"
   ]
  },
  {
   "cell_type": "code",
   "execution_count": 7,
   "id": "d7eb0747-3e42-4bf7-b06f-56db81d543da",
   "metadata": {},
   "outputs": [
    {
     "name": "stdout",
     "output_type": "stream",
     "text": [
      "i=0\u001b[0m                                                     \n",
      "i=50\u001b[0m                                                    \n",
      "i=100\u001b[0m                                                   \n",
      "i=150\u001b[0m                                                   \n",
      "i=200\u001b[0m                                                   \n",
      "i=250\u001b[0m                                                   \n",
      "i=300\u001b[0m                                                   \n",
      "i=350\u001b[0m                                                   \n",
      "i=400\u001b[0m                                                   \n",
      "i=450\u001b[0m                                                   \n",
      "i=500\u001b[0m                                                   \n",
      "i=550\u001b[0m                                                   \n",
      "i=600\u001b[0m                                                   \n",
      "i=650\u001b[0m                                                   \n",
      "i=700\u001b[0m                                                   \n",
      "i=750\u001b[0m                                                   \n",
      "i=800\u001b[0m                                                   \n",
      "i=850\u001b[0m                                                   \n",
      "i=900\u001b[0m                                                   \n",
      "i=950\u001b[0m                                                   \n",
      "i=1000\u001b[0m                                                  \n"
     ]
    }
   ],
   "source": [
    "jsons = bbs_dir.glob('BBS_???.json')\n",
    "bb_sets = []\n",
    "for i,p in enumerate(jsons):\n",
    "    # if i > 10:\n",
    "        # break\n",
    "    if i%50 == 0:\n",
    "        mout.out(f'{i=}')\n",
    "    p = json.load(open(p, 'rt'))\n",
    "    bb_sets.append(p)"
   ]
  },
  {
   "cell_type": "code",
   "execution_count": 9,
   "id": "25c6cba0-c844-415b-8713-3bc958c0e74e",
   "metadata": {},
   "outputs": [
    {
     "data": {
      "text/plain": [
       "{'name': 'matteo-ferla-rocs-mixed-Z420031520-1-of-1-step-base',\n",
       " 'smiles': 'Cc1ccccc1CNC(=O)c1scnc1C',\n",
       " 'orig_smiles': 'Cc1ccccc1CNC(=O)c1scnc1C',\n",
       " 'crystal_name': None,\n",
       " 'num_poses': 0,\n",
       " 'num_reactions': 1,\n",
       " 'reactions': [{'type': 'Amidation',\n",
       "   'product_name': 'matteo-ferla-rocs-mixed-Z420031520-1-of-1-step-base',\n",
       "   'product_smiles': 'Cc1ccccc1CNC(=O)c1scnc1C',\n",
       "   'num_reactants': 2,\n",
       "   'reactant_names': ['Z57474978', 'EN300-11614'],\n",
       "   'reactant_smiles': ['Cc1ncsc1C(=O)O', 'Cc1ccccc1CN']}],\n",
       " 'inspirations': ['x0451_0A',\n",
       "  'x0554_0A',\n",
       "  'x0556_0A',\n",
       "  'x0566_0A',\n",
       "  'x0310_0A',\n",
       "  'x0416_0A']}"
      ]
     },
     "execution_count": 9,
     "metadata": {},
     "output_type": "execute_result"
    }
   ],
   "source": [
    "bb_sets[0]['products'][0]['base']"
   ]
  },
  {
   "cell_type": "markdown",
   "id": "05234e59-8a0f-4d85-8be7-4d97e667a8e7",
   "metadata": {},
   "source": [
    "## Define the scorer"
   ]
  },
  {
   "cell_type": "code",
   "execution_count": 10,
   "id": "bc68e1eb-48fe-4f54-bd27-9985bae24fa7",
   "metadata": {},
   "outputs": [],
   "source": [
    "def num_bases(bbs):\n",
    "    # print(bbs.products)\n",
    "    return len(set([p['base']['name'] for p in bbs['products'] if p['base'] is not None]))\n",
    "\n",
    "def num_products(bbs):\n",
    "    return len(bbs['products'])"
   ]
  },
  {
   "cell_type": "code",
   "execution_count": 11,
   "id": "c18299b3-694b-4e0f-90e4-58e103173dea",
   "metadata": {},
   "outputs": [
    {
     "name": "stdout",
     "output_type": "stream",
     "text": [
      "PoseSet(#poses=8, [0A, 0A, 0A, 0A, 0A, 0A, 0A, 0A])\n"
     ]
    }
   ],
   "source": [
    "catalytic_poses = animal.get_poses('Catalytic', search=True, all_poses=animal.hits.poses)\n",
    "print(catalytic_poses)\n",
    "CATALYTIC_FEATURES = catalytic_poses.get_present_features()\n",
    "N_CATALYTIC_FEATURES = len(CATALYTIC_FEATURES)"
   ]
  },
  {
   "cell_type": "code",
   "execution_count": null,
   "id": "1ff8cd96-0aed-49c9-9a77-b37600f805d2",
   "metadata": {},
   "outputs": [],
   "source": [
    "def catalytic_features(bbs):\n",
    "    features = bbs.products.get_present_features()\n",
    "    return len([f for f in CATALYTIC_FEATURES if f in features])\n",
    "\n",
    "def num_features(bbs):\n",
    "    features = bbs.products.get_present_features()\n",
    "    return len(features)"
   ]
  },
  {
   "cell_type": "code",
   "execution_count": null,
   "id": "29bd75e3-d263-46f2-82d4-7a02552e2a39",
   "metadata": {},
   "outputs": [],
   "source": [
    "print('start')\n",
    "scorer = hippo.scoring.Scorer(\n",
    "    animal, \n",
    "    bb_sets, \n",
    "    [])\n",
    "    # ['num_products'])\n",
    "\n",
    "print('num_products')\n",
    "scorer.add_attribute(hippo.scoring.CustomAttribute('num_products', bb_sets, num_products))\n",
    "print('num_bases')\n",
    "scorer.add_attribute(hippo.scoring.CustomAttribute('num_bases', bb_sets, num_bases))\n",
    "print('catalytic_features')\n",
    "scorer.add_attribute(hippo.scoring.CustomAttribute('catalytic_features', bb_sets, catalytic_features))\n",
    "print('num_features')\n",
    "scorer.add_attribute(hippo.scoring.CustomAttribute('num_features', bb_sets, num_features))\n",
    "\n",
    "scorer.weights = [1.0, 1.0, 1.0, 1.0]"
   ]
  },
  {
   "cell_type": "code",
   "execution_count": null,
   "id": "46c948fa-ef01-45ca-97ae-963b994c8e4a",
   "metadata": {},
   "outputs": [],
   "source": [
    "top = scorer.top(5)"
   ]
  },
  {
   "cell_type": "code",
   "execution_count": null,
   "id": "76769e8c-97cf-4d47-8aba-90b29efb8168",
   "metadata": {},
   "outputs": [],
   "source": [
    "for bbs in top:\n",
    "    scorer.score(bbs, verbosity=1)"
   ]
  },
  {
   "cell_type": "markdown",
   "id": "c4f14bcc-27db-4609-a370-0cd16cb3260b",
   "metadata": {},
   "source": [
    "## Plotting"
   ]
  },
  {
   "cell_type": "code",
   "execution_count": null,
   "id": "e70e45b2-d190-4d87-8e94-eb15e8679e60",
   "metadata": {},
   "outputs": [],
   "source": [
    "plot_data = []\n",
    "for bbs in bb_sets:\n",
    "    d = dict(\n",
    "        name=bbs.name,\n",
    "        score=scorer(bbs),\n",
    "    )\n",
    "\n",
    "    for attribute in scorer.attributes:\n",
    "        d[attribute.key] = attribute.get_value(bbs)\n",
    "\n",
    "    plot_data.append(d)"
   ]
  },
  {
   "cell_type": "code",
   "execution_count": null,
   "id": "fa28b87a-9612-4e4a-90a3-e59782357085",
   "metadata": {},
   "outputs": [],
   "source": [
    "px.scatter(plot_data, x='num_products', y='num_features', color='score')"
   ]
  },
  {
   "cell_type": "markdown",
   "id": "d7c7f134-e912-4d56-87d6-0a23c9a363ac",
   "metadata": {},
   "source": [
    "## Write CSV"
   ]
  },
  {
   "cell_type": "code",
   "execution_count": null,
   "id": "9ca538dc-588d-4834-8317-83a281cbdb04",
   "metadata": {},
   "outputs": [],
   "source": []
  }
 ],
 "metadata": {
  "kernelspec": {
   "display_name": "Python 3 (ipykernel)",
   "language": "python",
   "name": "python3"
  },
  "language_info": {
   "codemirror_mode": {
    "name": "ipython",
    "version": 3
   },
   "file_extension": ".py",
   "mimetype": "text/x-python",
   "name": "python",
   "nbconvert_exporter": "python",
   "pygments_lexer": "ipython3",
   "version": "3.10.12"
  }
 },
 "nbformat": 4,
 "nbformat_minor": 5
}
