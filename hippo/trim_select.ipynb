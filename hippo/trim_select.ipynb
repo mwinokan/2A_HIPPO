{
 "cells": [
  {
   "cell_type": "code",
   "execution_count": 67,
   "id": "98e629ff-6022-4356-9101-dab4c78cacaa",
   "metadata": {},
   "outputs": [
    {
     "name": "stdout",
     "output_type": "stream",
     "text": [
      "The autoreload extension is already loaded. To reload it, use:\n",
      "  %reload_ext autoreload\n"
     ]
    }
   ],
   "source": [
    "%load_ext autoreload"
   ]
  },
  {
   "cell_type": "code",
   "execution_count": 68,
   "id": "0434952d-5426-48ba-be50-554d4e809451",
   "metadata": {},
   "outputs": [],
   "source": [
    "%autoreload 2\n",
    "from pathlib import Path\n",
    "import molparse as mp\n",
    "import hippo2 as hippo\n",
    "import plotly.express as px\n",
    "import plotly.graph_objects as go\n",
    "import pandas as pd\n",
    "from rdkit import DataStructs\n",
    "from rdkit.Chem.Fingerprints import FingerprintMols\n",
    "from rdkit import Chem\n",
    "import mout\n",
    "import mcol"
   ]
  },
  {
   "cell_type": "markdown",
   "id": "c914f57d-1897-4768-8a92-6285ec3baa72",
   "metadata": {},
   "source": [
    "### load the restart animal"
   ]
  },
  {
   "cell_type": "code",
   "execution_count": 69,
   "id": "f378a2d7-73c2-4be2-833d-96bfd9e49e69",
   "metadata": {},
   "outputs": [
    {
     "name": "stdout",
     "output_type": "stream",
     "text": [
      "\u001b[36mpath\u001b[0m = \u001b[38;5;11mpickles/hippo2_test_comps_shell_restart.pickle\u001b[0m\u001b[95m \u001b[0m\u001b[0m\n"
     ]
    }
   ],
   "source": [
    "animal = hippo.HIPPO.from_pickle('pickles/hippo2_test_comps_shell_restart.pickle')"
   ]
  },
  {
   "cell_type": "code",
   "execution_count": 71,
   "id": "cf1b325b-ac17-4df3-8263-67e1d6873306",
   "metadata": {},
   "outputs": [
    {
     "name": "stdout",
     "output_type": "stream",
     "text": [
      "Compound(matteo-ferla-rocs-cov-Z2737383535-1-of-1-step-base, C=CC(=O)N1Cc2ccccc2OC(C)(C)C1, #poses=1)\n",
      "Compound(matteo-ferla-rocs-cov-Z4425282901-1-of-1-step-base, C=CC(=O)NCC1(NC(=O)c2ccc(F)c3ccccc23)CCOCC1, #poses=1)\n",
      "Compound(matteo-ferla-rocs-mixed-Z420031520-1-of-1-step-base, Cc1ccccc1CNC(=O)c1scnc1C, #poses=1)\n",
      "Compound(matteo-ferla-rocs-mixed-Z645758468-1-of-1-step-base, COc1ccc2ccccc2c1CNC(=O)c1c(C)nn2c(C)cc(C)nc12, #poses=1)\n",
      "Compound(matteo-ferla-rocs-mixed-Z27634076-1-of-1-step-base, Cc1cc(C(=O)NC(C)c2ccccc2Cl)no1, #poses=2)\n",
      "Compound(matteo-ferla-rocs-mixed-Z27634076-1-of-1-step-base-2, Cc1cc(C(=O)NC2Cc3cccc(Cl)c32)no1, #poses=2)\n",
      "Compound(matteo-ferla-rocs-mixed-Z1083845368-1-of-1-step-base, CC(=O)NC(Cc1c[nH]c2ccccc12)C(=O)N1CCN(C)c2ccccc2C1, #poses=2)\n",
      "Compound(matteo-ferla-rocs-cov-Z4899905008-1-of-1-step-base, C=CC(=O)NCc1ccccc1C(=O)Nc1cc(C(=O)Nc2nc(C)cs2)ccc1OC, #poses=1)\n",
      "Compound(matteo-ferla-rocs-cov-Z4408138101-1-of-1-step-base, C=CC(=O)N(Cc1cc(Cl)c2c(c1)OCCCO2)C1CCCCNC1=O, #poses=2)\n",
      "Compound(matteo-ferla-rocs-cov-Z1479333050-1-of-1-step-base, C=CC(=O)NCCC(=O)NC1CCOc2cc(OC)ccc21, #poses=2)\n",
      "Compound(matteo-ferla-rocs-cov-Z2285377640-1-of-1-step-base, C=CC(=O)NC1CCCN(c2cc(C)nn2C)C1=O, #poses=2)\n",
      "Compound(matteo-ferla-rocs-cov-Z4425282871-1-of-1-step-base, C=CC(=O)NC1(CNC(=O)c2cccc3nnn(C)c23)CCCCCC1, #poses=1)\n",
      "Compound(matteo-ferla-rocs-cov-Z8604605053-1-of-1-step-base, O=C(Nc1cccn(C2CC2)c1=O)C1Cc2ccccc2CN1C(=O)CCl, #poses=1)\n",
      "Compound(matteo-ferla-rocs-cov-Z3672058033-1-of-1-step-base, C=CC(=O)N1CCC(C(=O)NCc2cccc3c2OCCO3)(c2ccccc2)CC1, #poses=1)\n",
      "Compound(matteo-ferla-rocs-cov-Z3366906784-1-of-1-step-base, C=CC(=O)N1CCC(C(=O)NCc2cnc3n2CCC3)(c2ccccc2)CC1, #poses=1)\n",
      "Compound(matteo-ferla-rocs-cov-Z4425283296-1-of-1-step-base, C=CC(=O)NC1(CNC(=O)c2csc3c2CCC(C)C3)CCOCC1, #poses=2)\n",
      "Compound(matteo-ferla-rocs-cov-Z2285378239-1-of-1-step-base, C=CC(=O)NC1(c2nnc3n2CCCC3)CCC1, #poses=1)\n",
      "Compound(matteo-ferla-rocs-cov-Z2285378207-1-of-1-step-base, C=CC(=O)NC(C)c1ccc(C(F)(F)F)nc1Cl, #poses=2)\n",
      "Compound(matteo-ferla-rocs-cov-Z2285377339-1-of-1-step-base, C=CC(=O)N1CCCC1C(=O)Nc1nc2ccccc2s1, #poses=2)\n",
      "Compound(matteo-ferla-rocs-cov-Z4425282832-1-of-1-step-base, C=CC(=O)NC1(CNC(=O)C2CCc3ccccc3C2)CCCCCC1, #poses=2)\n",
      "Compound(matteo-ferla-rocs-cov-Z4425283150-1-of-1-step-base, C=CC(=O)NC1(CNC(=O)c2c(C3CCCC3)noc2C)CCCCC1, #poses=1)\n",
      "Compound(matteo-ferla-rocs-cov-Z4425211736-1-of-1-step-base, Cc1nn(C)c(C)c1CC(=O)NC(CNC(=O)CCl)c1ccc2ccccc2c1, #poses=2)\n",
      "Compound(matteo-ferla-rocs-cov-Z2867490857-1-of-1-step-base, C=CC(=O)N1CCCc2c([nH]c3c(F)cccc23)C1, #poses=1)\n",
      "Compound(matteo-ferla-rocs-cov-Z2499129286-1-of-1-step-base, C=CC(=O)N1CCC(C(=O)NCc2cnc3n2CCCC3)(c2ccccc2)CC1, #poses=1)\n",
      "Compound(matteo-ferla-rocs-cov-Z3756437706-1-of-1-step-base, C=CC(=O)N1CCCC(C(=O)N2CCc3cc(Br)c(S(N)(=O)=O)cc32)C1, #poses=2)\n",
      "Compound(matteo-ferla-rocs-cov-Z4425283079-1-of-1-step-base, C=CC(=O)NC1(CNC(=O)c2cccc3c2OCCCO3)CCCCC1, #poses=1)\n",
      "Compound(steph-fragnetv2-Z1864315293-1-of-1-step-base, CC(C)n1nc(-c2ccccc2)cc1NC(=O)CC(C)(F)F, #poses=1)\n",
      "Compound(steph-fragnetv2-Z4246247588-1-of-1-step-base, CCn1nc(-c2ccccc2)cc1NC(=O)CC(C)(C)C#N, #poses=1)\n",
      "Compound(steph-fragnetv2-Z4246247588-1-of-1-step-base-2, CC(C)(C#N)CC(=O)N1CCn2nc(-c3ccccc3)cc21, #poses=1)\n",
      "Compound(steph-fragnetv2-Z3608273487-1-of-1-step-base, CCn1nc(C(C)(C)C)cc1NC(=O)C(C)C(F)(F)F, #poses=2)\n",
      "Compound(steph-fragnetv2-Z1449166017-1-of-1-step-base, COCCc1cc(NC(=O)C(C)C)n(C)n1, #poses=1)\n",
      "Compound(steph-fragnetv2-Z3585809468-1-of-1-step-base, Cn1cc(NC(=O)CC#N)c(C(F)F)n1, #poses=1)\n",
      "Compound(steph-fragnetv2-Z4048800382-1-of-1-step-base, Cn1nc(C(F)(F)F)cc1NC(=O)CC#N, #poses=1)\n",
      "Compound(steph-fragnetv2-Z393051624-1-of-1-step-base, Cc1cc(NC(=O)CC(F)(F)F)n(C)n1, #poses=1)\n",
      "Compound(steph-fragnetv2-Z1217419270-1-of-1-step-base, CCc1cc(NC(=O)CC(F)(F)F)n(C)n1, #poses=1)\n",
      "Compound(steph-fragnetv2-Z1022599558-1-of-1-step-base, CCC(=O)Nc1cccc(-c2noc(C3CCCO3)n2)c1, #poses=4)\n",
      "Compound(matteo-ferla-rocs-mixed-Z383844704-1-of-1-step-base, Cc1noc(C)c1CC(=O)Nc1cccc(OCc2ccccn2)c1, #poses=2)\n",
      "Compound(steph-fragnetv2-113738-B1X-1-of-1-step-base, Cc1cnccc1NC(=O)C(C)C, #poses=2)\n",
      "Compound(steph-fragnetv2-PV-003517486233-1-of-1-step-base, CC(C#N)C(=O)NC1(CN(C)C(=O)CC2CCCO2)CC1, #poses=8)\n",
      "Compound(steph-fragnetv2-Z1726613457-1-of-1-step-base, N#CCC(=O)Nc1cnn(CC2CC2)c1, #poses=3)\n",
      "Compound(steph-fragnetv2-Z1157963730-1-of-1-step-base, CCCC(=O)Nc1c(-c2ccccc2)c(C)nn1C, #poses=3)\n",
      "Compound(steph-fragnetv2-Z1726332759-1-of-1-step-base, CCS(=O)(=O)CCn1cc(NC(=O)CC#N)cn1, #poses=3)\n",
      "Compound(steph-fragnetv2-Z1688566804-1-of-1-step-base, Cn1nc(C2CCC2)cc1NC(=O)CC#N, #poses=3)\n",
      "Compound(steph-fragnetv2-Z3608271981-1-of-1-step-base, CCn1nc(C(C)(C)C)cc1NC(=O)CC(C)C(F)F, #poses=8)\n",
      "Compound(steph-fragnetv2-Z2852444229-1-of-1-step-base, COc1cc(NC(=O)CC(C)C(F)(F)F)n(C)n1, #poses=8)\n",
      "Compound(steph-fragnetv2-Z2957505129-1-of-1-step-base, N#CCC(=O)n1nc(C(F)(F)F)cc1N, #poses=4)\n",
      "Compound(steph-fragnetv2-Z2957505129-1-of-1-step-base-2, N#CCC(=O)Nc1cc(C(F)(F)F)n[nH]1, #poses=4)\n"
     ]
    }
   ],
   "source": [
    "for base in animal.bases:\n",
    "    if 'fegrow' in base.name:\n",
    "        continue\n",
    "    print(base)"
   ]
  },
  {
   "cell_type": "markdown",
   "id": "0b44a225-e601-4e93-afe8-65a5ec62075c",
   "metadata": {},
   "source": [
    "### load the curated data"
   ]
  },
  {
   "cell_type": "code",
   "execution_count": 28,
   "id": "5a024f10-4ae5-4c57-b281-9484a5bd68d6",
   "metadata": {},
   "outputs": [],
   "source": [
    "df = pd.read_excel('Quote_1782205_clean.xlsx')"
   ]
  },
  {
   "cell_type": "code",
   "execution_count": 29,
   "id": "f2a9a2a1-78a7-4bfe-b5ac-d470de676b31",
   "metadata": {},
   "outputs": [
    {
     "data": {
      "text/html": [
       "<div>\n",
       "<style scoped>\n",
       "    .dataframe tbody tr th:only-of-type {\n",
       "        vertical-align: middle;\n",
       "    }\n",
       "\n",
       "    .dataframe tbody tr th {\n",
       "        vertical-align: top;\n",
       "    }\n",
       "\n",
       "    .dataframe thead th {\n",
       "        text-align: right;\n",
       "    }\n",
       "</style>\n",
       "<table border=\"1\" class=\"dataframe\">\n",
       "  <thead>\n",
       "    <tr style=\"text-align: right;\">\n",
       "      <th></th>\n",
       "      <th>SMILES</th>\n",
       "      <th>Customer Code</th>\n",
       "      <th>Catalog ID</th>\n",
       "      <th>Purity, %</th>\n",
       "      <th>Amount, mg</th>\n",
       "      <th>Collection</th>\n",
       "      <th>Price, USD</th>\n",
       "      <th>Lead time</th>\n",
       "      <th>Detail</th>\n",
       "    </tr>\n",
       "  </thead>\n",
       "  <tbody>\n",
       "    <tr>\n",
       "      <th>0</th>\n",
       "      <td>CCN1C(=NC=2C=CC=CC12)C(C)NC(=O)C</td>\n",
       "      <td>Z57841819</td>\n",
       "      <td>Z57841819</td>\n",
       "      <td>90</td>\n",
       "      <td>5</td>\n",
       "      <td>HTS</td>\n",
       "      <td>44</td>\n",
       "      <td>1-2 weeks</td>\n",
       "      <td>(stock)</td>\n",
       "    </tr>\n",
       "    <tr>\n",
       "      <th>1</th>\n",
       "      <td>CCCS(=O)(=O)NC=1ON=C(C)C1C</td>\n",
       "      <td>Z1607060571</td>\n",
       "      <td>Z1607060571</td>\n",
       "      <td>90</td>\n",
       "      <td>5</td>\n",
       "      <td>HTS</td>\n",
       "      <td>44</td>\n",
       "      <td>1-2 weeks</td>\n",
       "      <td>(stock)</td>\n",
       "    </tr>\n",
       "    <tr>\n",
       "      <th>2</th>\n",
       "      <td>CC(C)(C)NC(=O)CC1=NOC=2C=CC=CC12</td>\n",
       "      <td>Z99095183</td>\n",
       "      <td>Z99095183</td>\n",
       "      <td>90</td>\n",
       "      <td>5</td>\n",
       "      <td>HTS</td>\n",
       "      <td>44</td>\n",
       "      <td>1-2 weeks</td>\n",
       "      <td>(stock)</td>\n",
       "    </tr>\n",
       "    <tr>\n",
       "      <th>3</th>\n",
       "      <td>CC1=NOC(C)=C1CC(=O)NC=2C=CC=C(OCC=3C=CC=CN3)C2</td>\n",
       "      <td>Z383844704</td>\n",
       "      <td>Z383844704</td>\n",
       "      <td>90</td>\n",
       "      <td>5</td>\n",
       "      <td>HTS</td>\n",
       "      <td>44</td>\n",
       "      <td>1-2 weeks</td>\n",
       "      <td>(stock)</td>\n",
       "    </tr>\n",
       "    <tr>\n",
       "      <th>4</th>\n",
       "      <td>CC=1N=CSC1C(=O)NCC=2C=CC=CC2C</td>\n",
       "      <td>Z420031520</td>\n",
       "      <td>Z420031520</td>\n",
       "      <td>90</td>\n",
       "      <td>5</td>\n",
       "      <td>HTS</td>\n",
       "      <td>44</td>\n",
       "      <td>1-2 weeks</td>\n",
       "      <td>(stock)</td>\n",
       "    </tr>\n",
       "    <tr>\n",
       "      <th>...</th>\n",
       "      <td>...</td>\n",
       "      <td>...</td>\n",
       "      <td>...</td>\n",
       "      <td>...</td>\n",
       "      <td>...</td>\n",
       "      <td>...</td>\n",
       "      <td>...</td>\n",
       "      <td>...</td>\n",
       "      <td>...</td>\n",
       "    </tr>\n",
       "    <tr>\n",
       "      <th>121</th>\n",
       "      <td>ClC=1C=CC=2C(NC(=O)C3(CC3)C=4C=CC(=CC4)C=5N=NN...</td>\n",
       "      <td>PV-006984519164</td>\n",
       "      <td>Z8873590480</td>\n",
       "      <td>90</td>\n",
       "      <td>5</td>\n",
       "      <td>No starting material</td>\n",
       "      <td>0</td>\n",
       "      <td>unavailable</td>\n",
       "      <td>(unavailable)</td>\n",
       "    </tr>\n",
       "    <tr>\n",
       "      <th>122</th>\n",
       "      <td>ClC=1C=CC=2C(NC(=O)C(CC=3N=NNN3)C=4C=CC=CN4)=C...</td>\n",
       "      <td>PV-007011194285</td>\n",
       "      <td>Z8873590481</td>\n",
       "      <td>90</td>\n",
       "      <td>5</td>\n",
       "      <td>No starting material</td>\n",
       "      <td>0</td>\n",
       "      <td>unavailable</td>\n",
       "      <td>(unavailable)</td>\n",
       "    </tr>\n",
       "    <tr>\n",
       "      <th>123</th>\n",
       "      <td>CC=1C=C(C=C(C)C1CC(=O)NC=2C=CC=C3N=C(Cl)C=CC23...</td>\n",
       "      <td>PV-007016163177</td>\n",
       "      <td>Z8873590482</td>\n",
       "      <td>90</td>\n",
       "      <td>5</td>\n",
       "      <td>No starting material</td>\n",
       "      <td>0</td>\n",
       "      <td>unavailable</td>\n",
       "      <td>(unavailable)</td>\n",
       "    </tr>\n",
       "    <tr>\n",
       "      <th>124</th>\n",
       "      <td>COC(=O)C=1C=C2OC3(CCN(C3)C(=O)OC(C)(C)C)CC(N)C...</td>\n",
       "      <td>EN300_1129082</td>\n",
       "      <td>Z3002995587</td>\n",
       "      <td>90</td>\n",
       "      <td>5</td>\n",
       "      <td>No starting material</td>\n",
       "      <td>0</td>\n",
       "      <td>unavailable</td>\n",
       "      <td>(unavailable)</td>\n",
       "    </tr>\n",
       "    <tr>\n",
       "      <th>125</th>\n",
       "      <td>CN1N=CC(CN)=C1NC(=O)CC#N</td>\n",
       "      <td>x0556_0A-x0310_0A_134_PXX</td>\n",
       "      <td>Z4130475067</td>\n",
       "      <td>90</td>\n",
       "      <td>5</td>\n",
       "      <td>No starting material</td>\n",
       "      <td>0</td>\n",
       "      <td>unavailable</td>\n",
       "      <td>(unavailable)</td>\n",
       "    </tr>\n",
       "  </tbody>\n",
       "</table>\n",
       "<p>126 rows × 9 columns</p>\n",
       "</div>"
      ],
      "text/plain": [
       "                                                SMILES  \\\n",
       "0                     CCN1C(=NC=2C=CC=CC12)C(C)NC(=O)C   \n",
       "1                           CCCS(=O)(=O)NC=1ON=C(C)C1C   \n",
       "2                     CC(C)(C)NC(=O)CC1=NOC=2C=CC=CC12   \n",
       "3       CC1=NOC(C)=C1CC(=O)NC=2C=CC=C(OCC=3C=CC=CN3)C2   \n",
       "4                        CC=1N=CSC1C(=O)NCC=2C=CC=CC2C   \n",
       "..                                                 ...   \n",
       "121  ClC=1C=CC=2C(NC(=O)C3(CC3)C=4C=CC(=CC4)C=5N=NN...   \n",
       "122  ClC=1C=CC=2C(NC(=O)C(CC=3N=NNN3)C=4C=CC=CN4)=C...   \n",
       "123  CC=1C=C(C=C(C)C1CC(=O)NC=2C=CC=C3N=C(Cl)C=CC23...   \n",
       "124  COC(=O)C=1C=C2OC3(CCN(C3)C(=O)OC(C)(C)C)CC(N)C...   \n",
       "125                           CN1N=CC(CN)=C1NC(=O)CC#N   \n",
       "\n",
       "                 Customer Code   Catalog ID  Purity, %  Amount, mg  \\\n",
       "0                    Z57841819    Z57841819         90           5   \n",
       "1                  Z1607060571  Z1607060571         90           5   \n",
       "2                    Z99095183    Z99095183         90           5   \n",
       "3                   Z383844704   Z383844704         90           5   \n",
       "4                   Z420031520   Z420031520         90           5   \n",
       "..                         ...          ...        ...         ...   \n",
       "121            PV-006984519164  Z8873590480         90           5   \n",
       "122            PV-007011194285  Z8873590481         90           5   \n",
       "123            PV-007016163177  Z8873590482         90           5   \n",
       "124              EN300_1129082  Z3002995587         90           5   \n",
       "125  x0556_0A-x0310_0A_134_PXX  Z4130475067         90           5   \n",
       "\n",
       "               Collection  Price, USD    Lead time         Detail  \n",
       "0                     HTS          44    1-2 weeks        (stock)  \n",
       "1                     HTS          44    1-2 weeks        (stock)  \n",
       "2                     HTS          44    1-2 weeks        (stock)  \n",
       "3                     HTS          44    1-2 weeks        (stock)  \n",
       "4                     HTS          44    1-2 weeks        (stock)  \n",
       "..                    ...         ...          ...            ...  \n",
       "121  No starting material           0  unavailable  (unavailable)  \n",
       "122  No starting material           0  unavailable  (unavailable)  \n",
       "123  No starting material           0  unavailable  (unavailable)  \n",
       "124  No starting material           0  unavailable  (unavailable)  \n",
       "125  No starting material           0  unavailable  (unavailable)  \n",
       "\n",
       "[126 rows x 9 columns]"
      ]
     },
     "execution_count": 29,
     "metadata": {},
     "output_type": "execute_result"
    }
   ],
   "source": [
    "df"
   ]
  },
  {
   "cell_type": "code",
   "execution_count": 30,
   "id": "8ce21b7f-04a2-4a7d-aeaf-c870e2096878",
   "metadata": {},
   "outputs": [],
   "source": [
    "### match base compounds"
   ]
  },
  {
   "cell_type": "code",
   "execution_count": 31,
   "id": "3fe762a9-ca38-43da-8b6a-3abc985804db",
   "metadata": {},
   "outputs": [],
   "source": [
    "fps = [FingerprintMols.FingerprintMol(Chem.MolFromSmiles(s), minPath=1, maxPath=7, fpSize=2048, bitsPerHash=2, useHs=True, tgtDensity=0.0, minSize=128) \n",
    "           for s in df['SMILES']]\n",
    "\n",
    "def get_similar(df, smiles):\n",
    "    mol = Chem.MolFromSmiles(Chem.CanonSmiles(smiles))\n",
    "    fp = FingerprintMols.FingerprintMol(mol, minPath=1, maxPath=7, fpSize=2048, bitsPerHash=2, useHs=True, tgtDensity=0.0, minSize=128)\n",
    "    scores = DataStructs.BulkTanimotoSimilarity(fp, fps)\n",
    "    df['similarity'] = scores\n",
    "    return df[df['similarity'] == 1.0]"
   ]
  },
  {
   "cell_type": "code",
   "execution_count": 36,
   "id": "1d405b14-3fff-40e7-afc0-d5449244d92f",
   "metadata": {},
   "outputs": [
    {
     "data": {
      "text/plain": [
       "CompoundSet(\"curated bases\", #compounds=88, #poses=184)"
      ]
     },
     "execution_count": 36,
     "metadata": {},
     "output_type": "execute_result"
    }
   ],
   "source": [
    "curated_bases = hippo.cset.CompoundSet('curated bases')\n",
    "for base in animal.get_compounds('base'):\n",
    "    # print(base)\n",
    "    # print(get_similar(df, base.smiles))\n",
    "    matches = get_similar(df, base.smiles)\n",
    "    if len(matches) == 1:\n",
    "        curated_bases.add(base)\n",
    "\n",
    "curated_bases"
   ]
  },
  {
   "cell_type": "code",
   "execution_count": 56,
   "id": "cd3648ca-46cd-4196-a604-a95574e81116",
   "metadata": {},
   "outputs": [
    {
     "name": "stdout",
     "output_type": "stream",
     "text": [
      "\u001b[0m[################################################ ] \u001b[38;5;27m 99.95%\u001b[0m\u001b[0mCompoundSet(\"delete list\", #compounds=14197, #poses=49818)\n"
     ]
    }
   ],
   "source": [
    "delete_list = hippo.cset.CompoundSet('delete list')\n",
    "\n",
    "n = len(animal.compounds)\n",
    "\n",
    "for i,comp in enumerate(animal.compounds):\n",
    "\n",
    "    if i%100 == 0:\n",
    "        # print(i)\n",
    "        mout.progress(i,n)\n",
    "\n",
    "    if 'hits' in comp.tags:\n",
    "        continue\n",
    "\n",
    "    if 'base' in comp.tags:\n",
    "        curated = comp in curated_bases\n",
    "        if curated:\n",
    "            continue\n",
    "        else:\n",
    "            delete_list.add(comp)\n",
    "            continue\n",
    "\n",
    "    if 'elab' in comp.tags:\n",
    "        base = comp.base\n",
    "        if base is None:\n",
    "            base_name = '-'.join(comp.name.split('-')[:-1]) + '-base'\n",
    "            base = base_name\n",
    "        \n",
    "        curated = base in curated_bases\n",
    "        if curated:\n",
    "            continue\n",
    "        else:\n",
    "            delete_list.add(comp)\n",
    "            continue\n",
    "\n",
    "    mout.error('Unknown compound')\n",
    "\n",
    "mout.finish()\n",
    "\n",
    "print(delete_list)"
   ]
  },
  {
   "cell_type": "code",
   "execution_count": 62,
   "id": "6a6a9e7b-0291-47a2-b84f-252531a95085",
   "metadata": {},
   "outputs": [
    {
     "name": "stdout",
     "output_type": "stream",
     "text": [
      "\u001b[1m\u001b[34m>>> \u001b[1mCompoundSet(\"hits\", #compounds=38, #poses=49)\u001b[0m\u001b[0m\n",
      "\u001b[1m\u001b[34m>>> \u001b[1mCompound(x0152, O=C1CN(C(=O)COc2ccccc2)CCN1, #poses=2)\u001b[0m\u001b[0m\n",
      "\u001b[36mreferences deleted\u001b[0m = 0\u001b[0m\u001b[95m \u001b[0m\u001b[0m           ;5;27m 91.23%\u001b[0m\u001b[0m\n",
      "\u001b[36mcompounds deleted\u001b[0m = 0\u001b[0m\u001b[95m \u001b[0m\u001b[0m            ;5;27m 91.23%\u001b[0m\n",
      "\u001b[0m[############################################     ] \u001b[38;5;27m 91.23%\u001b[0m"
     ]
    }
   ],
   "source": [
    "animal._delete_compounds(delete_list, debug=True)"
   ]
  },
  {
   "cell_type": "code",
   "execution_count": 42,
   "id": "c44e902b-2613-4146-9ff4-d589bba50b7d",
   "metadata": {},
   "outputs": [
    {
     "data": {
      "text/plain": [
       "Compound(matteo-ferla-rocs-cov-Z2737383535-1-of-1-step-base, C=CC(=O)N1Cc2ccccc2OC(C)(C)C1, #poses=1)"
      ]
     },
     "execution_count": 42,
     "metadata": {},
     "output_type": "execute_result"
    }
   ],
   "source": [
    "curated_bases[0]"
   ]
  },
  {
   "cell_type": "code",
   "execution_count": 63,
   "id": "a5eda613-8dfc-45fb-a237-7b95934752e0",
   "metadata": {},
   "outputs": [
    {
     "name": "stdout",
     "output_type": "stream",
     "text": [
      "                                                            \u001b[0m\n",
      "\u001b[0m[############################################     ] \u001b[38;5;27m 91.23%\u001b[0mDone.\u001b[0m\n",
      "\u001b[0m[############################################     ] \u001b[38;5;27m 91.23%\u001b[0m"
     ]
    }
   ],
   "source": [
    "animal.write_pickle('pickles/2A_hippo_post_trim.pickle')"
   ]
  },
  {
   "cell_type": "code",
   "execution_count": 64,
   "id": "f5bf0594-f02c-467a-af9b-9ab669ff1b2e",
   "metadata": {},
   "outputs": [
    {
     "data": {
      "text/plain": [
       "CompoundSet(\"compounds\", #compounds=65607, #poses=216823)"
      ]
     },
     "execution_count": 64,
     "metadata": {},
     "output_type": "execute_result"
    }
   ],
   "source": [
    "animal.compounds"
   ]
  },
  {
   "cell_type": "code",
   "execution_count": 65,
   "id": "cd2fed1b-2967-4a30-bd82-4b212d18c49f",
   "metadata": {},
   "outputs": [
    {
     "name": "stdout",
     "output_type": "stream",
     "text": [
      "\u001b[1mHIPPO(hippo2_test)\u001b[0m\u001b[0m                              \n",
      "\u001b[36mtarget_name\u001b[0m = A71EV2A\u001b[0m\u001b[95m \u001b[0m\u001b[0m            ;5;27m 91.23%\u001b[0m\n",
      "\u001b[36mmax_lead_time\u001b[0m = 20\u001b[0m\u001b[95m workdays\u001b[0m\u001b[0m       ;5;27m 91.23%\u001b[0m\n",
      "\u001b[36mmax_bb_price\u001b[0m = 100\u001b[0m\u001b[95m $\u001b[0m\u001b[0m              ;5;27m 91.23%\u001b[0m\n",
      "\u001b[36mmin_bb_quantity\u001b[0m = 20\u001b[0m\u001b[95m mg\u001b[0m\u001b[0m           ;5;27m 91.23%\u001b[0m\n",
      "\u001b[36m#compound_sets\u001b[0m = 1\u001b[0m\u001b[95m \u001b[0m\u001b[0m               ;5;27m 91.23%\u001b[0m\n",
      "\u001b[36m#compounds\u001b[0m = 65607\u001b[0m\u001b[95m \u001b[0m\u001b[0m               ;5;27m 91.23%\u001b[0m\n",
      "\u001b[36m#poses\u001b[0m = 216823\u001b[0m\u001b[95m \u001b[0m\u001b[0m                  ;5;27m 91.23%\u001b[0m\n",
      "\u001b[36m#tags\u001b[0m = 8\u001b[0m\u001b[95m \u001b[0m\u001b[0m                        ;5;27m 91.23%\u001b[0m\n",
      "\u001b[0m                                                        ;5;27m 91.23%\u001b[0m\n",
      "\u001b[4mcompound sets:\u001b[0m                                      ;5;27m 91.23%\u001b[0m\n",
      "CompoundSet(\"hits\", #compounds=38, #poses=49)\u001b[0m           ;5;27m 91.23%\u001b[0m\n",
      "\u001b[0m                                                        ;5;27m 91.23%\u001b[0m\n",
      "\u001b[4mtags:\u001b[0m                                               ;5;27m 91.23%\u001b[0m\n",
      "hits #compounds=37, #poses=49\u001b[0m                           ;5;27m 91.23%\u001b[0m\n",
      "Catalytic Site #compounds=0, #poses=7\u001b[0m                   ;5;27m 91.23%\u001b[0m\n",
      "P1 #compounds=0, #poses=5\u001b[0m                               ;5;27m 91.23%\u001b[0m\n",
      "P5 #compounds=0, #poses=1\u001b[0m                               ;5;27m 91.23%\u001b[0m\n",
      "Syndirella #compounds=65568, #poses=216774\u001b[0m              ;5;27m 91.23%\u001b[0m\n",
      "base #compounds=153, #poses=351\u001b[0m                         ;5;27m 91.23%\u001b[0m\n",
      "too_contorted #compounds=73, #poses=165\u001b[0m                 ;5;27m 91.23%\u001b[0m\n",
      "elab #compounds=65414, #poses=216423\u001b[0m                    ;5;27m 91.23%\u001b[0m\n",
      "\u001b[0m[############################################     ] \u001b[38;5;27m 91.23%\u001b[0m"
     ]
    }
   ],
   "source": [
    "animal.summary()"
   ]
  },
  {
   "cell_type": "code",
   "execution_count": 66,
   "id": "438f8ca1-aac2-4a7e-bd89-d37a90a2ebc4",
   "metadata": {},
   "outputs": [
    {
     "name": "stdout",
     "output_type": "stream",
     "text": [
      "\u001b[0m\u001b[32;1m OK\u001b[0m                                          \n"
     ]
    }
   ],
   "source": [
    "mout.finish()"
   ]
  },
  {
   "cell_type": "code",
   "execution_count": null,
   "id": "8cf90dd8-4c80-43b7-9122-ca363426a67b",
   "metadata": {},
   "outputs": [],
   "source": []
  }
 ],
 "metadata": {
  "kernelspec": {
   "display_name": "Custom Python 3 (ipykernel)",
   "language": "python",
   "name": "python3"
  },
  "language_info": {
   "codemirror_mode": {
    "name": "ipython",
    "version": 3
   },
   "file_extension": ".py",
   "mimetype": "text/x-python",
   "name": "python",
   "nbconvert_exporter": "python",
   "pygments_lexer": "ipython3",
   "version": "3.11.6"
  }
 },
 "nbformat": 4,
 "nbformat_minor": 5
}
