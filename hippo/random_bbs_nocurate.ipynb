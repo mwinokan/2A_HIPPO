{
 "cells": [
  {
   "cell_type": "markdown",
   "id": "04c7d8f0-2e73-4866-aba4-5b8a2bc30305",
   "metadata": {},
   "source": [
    "# HIPPO for 2A Protease (5/?)"
   ]
  },
  {
   "cell_type": "markdown",
   "id": "256eef05-aa3d-4bc3-9da4-1ac10c37934c",
   "metadata": {},
   "source": [
    "## Imports"
   ]
  },
  {
   "cell_type": "code",
   "execution_count": 1,
   "id": "724238ad-d6b4-45f7-a3e4-226318fcc920",
   "metadata": {},
   "outputs": [],
   "source": [
    "%load_ext autoreload"
   ]
  },
  {
   "cell_type": "code",
   "execution_count": 2,
   "id": "17673a87-b13d-4322-a920-839f76f773f8",
   "metadata": {},
   "outputs": [],
   "source": [
    "%autoreload 2\n",
    "from pathlib import Path\n",
    "import molparse as mp\n",
    "import hippo2 as hippo\n",
    "import plotly.express as px\n",
    "import plotly.graph_objects as go\n",
    "import pandas as pd\n",
    "from pprint import pprint\n",
    "import json\n",
    "import mout\n",
    "import pickle"
   ]
  },
  {
   "cell_type": "markdown",
   "id": "35ddcf65-3ed2-4270-8100-df360ede1fa3",
   "metadata": {},
   "source": [
    "## Load the project"
   ]
  },
  {
   "cell_type": "code",
   "execution_count": 8,
   "id": "d7048cd6-d89b-4929-a154-7e65e0d97b00",
   "metadata": {},
   "outputs": [
    {
     "name": "stdout",
     "output_type": "stream",
     "text": [
      "\u001b[36mpath\u001b[0m = \u001b[38;5;11mpickles/2A_HIPPO_comps_final.pickle\u001b[0m\u001b[95m \u001b[0m\u001b[0m\n"
     ]
    }
   ],
   "source": [
    "# animal = hippo.HIPPO.from_pickle('pickles/2A_hippo_fingerprinted_trim.pickle')\n",
    "# animal = hippo.HIPPO.from_pickle('pickles/2A_hippo_random_latest.pickle')\n",
    "# animal = hippo.HIPPO.from_pickle('pickles/hippo2_test_comps_shell_restart.pickle')\n",
    "animal = hippo.HIPPO.from_pickle('pickles/2A_HIPPO_comps_final.pickle')"
   ]
  },
  {
   "cell_type": "code",
   "execution_count": 9,
   "id": "9fb8a71b-b287-4629-8929-fa78497c353f",
   "metadata": {},
   "outputs": [
    {
     "name": "stdout",
     "output_type": "stream",
     "text": [
      "Compound(matteo-ferla-rocs-cov-Z2737383535-1-of-1-step-base, C=CC(=O)N1Cc2ccccc2OC(C)(C)C1, #poses=1)\n",
      "Compound(matteo-ferla-rocs-cov-Z4425282901-1-of-1-step-base, C=CC(=O)NCC1(NC(=O)c2ccc(F)c3ccccc23)CCOCC1, #poses=1)\n",
      "Compound(matteo-ferla-rocs-mixed-Z420031520-1-of-1-step-base, Cc1ccccc1CNC(=O)c1scnc1C, #poses=1)\n",
      "Compound(matteo-ferla-rocs-mixed-Z645758468-1-of-1-step-base, COc1ccc2ccccc2c1CNC(=O)c1c(C)nn2c(C)cc(C)nc12, #poses=1)\n",
      "Compound(matteo-ferla-rocs-mixed-Z27634076-1-of-1-step-base, Cc1cc(C(=O)NC(C)c2ccccc2Cl)no1, #poses=2)\n",
      "Compound(matteo-ferla-rocs-mixed-Z27634076-1-of-1-step-base-2, Cc1cc(C(=O)NC2Cc3cccc(Cl)c32)no1, #poses=2)\n",
      "Compound(matteo-ferla-rocs-mixed-Z1083845368-1-of-1-step-base, CC(=O)NC(Cc1c[nH]c2ccccc12)C(=O)N1CCN(C)c2ccccc2C1, #poses=2)\n",
      "Compound(matteo-ferla-rocs-cov-Z4899905008-1-of-1-step-base, C=CC(=O)NCc1ccccc1C(=O)Nc1cc(C(=O)Nc2nc(C)cs2)ccc1OC, #poses=1)\n",
      "Compound(matteo-ferla-rocs-cov-Z4408138101-1-of-1-step-base, C=CC(=O)N(Cc1cc(Cl)c2c(c1)OCCCO2)C1CCCCNC1=O, #poses=2)\n",
      "Compound(matteo-ferla-rocs-cov-Z1479333050-1-of-1-step-base, C=CC(=O)NCCC(=O)NC1CCOc2cc(OC)ccc21, #poses=2)\n",
      "Compound(matteo-ferla-rocs-cov-Z2285377640-1-of-1-step-base, C=CC(=O)NC1CCCN(c2cc(C)nn2C)C1=O, #poses=2)\n",
      "Compound(matteo-ferla-rocs-cov-Z4425282871-1-of-1-step-base, C=CC(=O)NC1(CNC(=O)c2cccc3nnn(C)c23)CCCCCC1, #poses=1)\n",
      "Compound(matteo-ferla-rocs-cov-Z8604605053-1-of-1-step-base, O=C(Nc1cccn(C2CC2)c1=O)C1Cc2ccccc2CN1C(=O)CCl, #poses=1)\n",
      "Compound(matteo-ferla-rocs-cov-Z3672058033-1-of-1-step-base, C=CC(=O)N1CCC(C(=O)NCc2cccc3c2OCCO3)(c2ccccc2)CC1, #poses=1)\n",
      "Compound(matteo-ferla-rocs-cov-Z3366906784-1-of-1-step-base, C=CC(=O)N1CCC(C(=O)NCc2cnc3n2CCC3)(c2ccccc2)CC1, #poses=1)\n",
      "Compound(matteo-ferla-rocs-cov-Z4425283296-1-of-1-step-base, C=CC(=O)NC1(CNC(=O)c2csc3c2CCC(C)C3)CCOCC1, #poses=2)\n",
      "Compound(matteo-ferla-rocs-cov-Z2285378239-1-of-1-step-base, C=CC(=O)NC1(c2nnc3n2CCCC3)CCC1, #poses=1)\n",
      "Compound(matteo-ferla-rocs-cov-Z2285378207-1-of-1-step-base, C=CC(=O)NC(C)c1ccc(C(F)(F)F)nc1Cl, #poses=2)\n",
      "Compound(matteo-ferla-rocs-cov-Z2285377339-1-of-1-step-base, C=CC(=O)N1CCCC1C(=O)Nc1nc2ccccc2s1, #poses=2)\n",
      "Compound(matteo-ferla-rocs-cov-Z4425282832-1-of-1-step-base, C=CC(=O)NC1(CNC(=O)C2CCc3ccccc3C2)CCCCCC1, #poses=2)\n",
      "Compound(matteo-ferla-rocs-cov-Z4425283150-1-of-1-step-base, C=CC(=O)NC1(CNC(=O)c2c(C3CCCC3)noc2C)CCCCC1, #poses=1)\n",
      "Compound(matteo-ferla-rocs-cov-Z4425211736-1-of-1-step-base, Cc1nn(C)c(C)c1CC(=O)NC(CNC(=O)CCl)c1ccc2ccccc2c1, #poses=2)\n",
      "Compound(matteo-ferla-rocs-cov-Z2867490857-1-of-1-step-base, C=CC(=O)N1CCCc2c([nH]c3c(F)cccc23)C1, #poses=1)\n",
      "Compound(matteo-ferla-rocs-cov-Z2499129286-1-of-1-step-base, C=CC(=O)N1CCC(C(=O)NCc2cnc3n2CCCC3)(c2ccccc2)CC1, #poses=1)\n",
      "Compound(matteo-ferla-rocs-cov-Z3756437706-1-of-1-step-base, C=CC(=O)N1CCCC(C(=O)N2CCc3cc(Br)c(S(N)(=O)=O)cc32)C1, #poses=2)\n",
      "Compound(matteo-ferla-rocs-cov-Z4425283079-1-of-1-step-base, C=CC(=O)NC1(CNC(=O)c2cccc3c2OCCCO3)CCCCC1, #poses=1)\n",
      "Compound(steph-fragnetv2-Z1864315293-1-of-1-step-base, CC(C)n1nc(-c2ccccc2)cc1NC(=O)CC(C)(F)F, #poses=1)\n",
      "Compound(steph-fragnetv2-Z4246247588-1-of-1-step-base, CCn1nc(-c2ccccc2)cc1NC(=O)CC(C)(C)C#N, #poses=1)\n",
      "Compound(steph-fragnetv2-Z4246247588-1-of-1-step-base-2, CC(C)(C#N)CC(=O)N1CCn2nc(-c3ccccc3)cc21, #poses=1)\n",
      "Compound(steph-fragnetv2-Z3608273487-1-of-1-step-base, CCn1nc(C(C)(C)C)cc1NC(=O)C(C)C(F)(F)F, #poses=2)\n",
      "Compound(steph-fragnetv2-Z1449166017-1-of-1-step-base, COCCc1cc(NC(=O)C(C)C)n(C)n1, #poses=1)\n",
      "Compound(steph-fragnetv2-Z3585809468-1-of-1-step-base, Cn1cc(NC(=O)CC#N)c(C(F)F)n1, #poses=1)\n",
      "Compound(steph-fragnetv2-Z4048800382-1-of-1-step-base, Cn1nc(C(F)(F)F)cc1NC(=O)CC#N, #poses=1)\n",
      "Compound(steph-fragnetv2-Z393051624-1-of-1-step-base, Cc1cc(NC(=O)CC(F)(F)F)n(C)n1, #poses=1)\n",
      "Compound(steph-fragnetv2-Z1217419270-1-of-1-step-base, CCc1cc(NC(=O)CC(F)(F)F)n(C)n1, #poses=1)\n",
      "Compound(steph-fragnetv2-Z1022599558-1-of-1-step-base, CCC(=O)Nc1cccc(-c2noc(C3CCCO3)n2)c1, #poses=4)\n",
      "Compound(matteo-ferla-rocs-mixed-Z383844704-1-of-1-step-base, Cc1noc(C)c1CC(=O)Nc1cccc(OCc2ccccn2)c1, #poses=2)\n",
      "Compound(steph-fragnetv2-113738-B1X-1-of-1-step-base, Cc1cnccc1NC(=O)C(C)C, #poses=2)\n",
      "Compound(steph-fragnetv2-PV-003517486233-1-of-1-step-base, CC(C#N)C(=O)NC1(CN(C)C(=O)CC2CCCO2)CC1, #poses=8)\n",
      "Compound(steph-fragnetv2-Z1726613457-1-of-1-step-base, N#CCC(=O)Nc1cnn(CC2CC2)c1, #poses=3)\n",
      "Compound(steph-fragnetv2-Z1157963730-1-of-1-step-base, CCCC(=O)Nc1c(-c2ccccc2)c(C)nn1C, #poses=3)\n",
      "Compound(steph-fragnetv2-Z1726332759-1-of-1-step-base, CCS(=O)(=O)CCn1cc(NC(=O)CC#N)cn1, #poses=3)\n",
      "Compound(steph-fragnetv2-Z1688566804-1-of-1-step-base, Cn1nc(C2CCC2)cc1NC(=O)CC#N, #poses=3)\n",
      "Compound(steph-fragnetv2-Z3608271981-1-of-1-step-base, CCn1nc(C(C)(C)C)cc1NC(=O)CC(C)C(F)F, #poses=8)\n",
      "Compound(steph-fragnetv2-Z2852444229-1-of-1-step-base, COc1cc(NC(=O)CC(C)C(F)(F)F)n(C)n1, #poses=8)\n",
      "Compound(steph-fragnetv2-Z2957505129-1-of-1-step-base, N#CCC(=O)n1nc(C(F)(F)F)cc1N, #poses=4)\n",
      "Compound(steph-fragnetv2-Z2957505129-1-of-1-step-base-2, N#CCC(=O)Nc1cc(C(F)(F)F)n[nH]1, #poses=4)\n"
     ]
    }
   ],
   "source": [
    "for base in animal.bases:\n",
    "    if 'fegrow' in base.name:\n",
    "        continue\n",
    "    print(base)"
   ]
  },
  {
   "cell_type": "raw",
   "id": "b7a76942-d53a-47ac-a28b-4805f2b1e334",
   "metadata": {},
   "source": [
    "for bb in animal.building_blocks:\n",
    "    if bb.price_picker:\n",
    "        bb.price_picker = bb.price_picker.reinit()\n",
    "        if 0 in bb.price_picker.data.values():\n",
    "            print(bb.price_picker.data)\n",
    "\n",
    "for comp in animal.compounds:\n",
    "    for reaction in comp.reactions:\n",
    "        for bb in reaction.reactants:\n",
    "            if bb.price_picker:\n",
    "                bb.price_picker = bb.price_picker.reinit()\n",
    "                if 0 in bb.price_picker.data.values():\n",
    "                    print(bb.price_picker.data)\n",
    "\n",
    "        comp.reactions.remove_unpurchaseable(animal)"
   ]
  },
  {
   "cell_type": "raw",
   "id": "3e194816-2953-46c2-afd0-1c450016d571",
   "metadata": {},
   "source": [
    "animal.compound_sets"
   ]
  },
  {
   "cell_type": "code",
   "execution_count": null,
   "id": "1d2e5f50-cc6a-440f-b64a-aefa480d3193",
   "metadata": {},
   "outputs": [],
   "source": [
    "# Only use Fragnet base compounds\n",
    "\n",
    "new_comps = []\n",
    "\n",
    "for comp in animal.compounds:\n",
    "    if 'hits' in comp.tags:\n",
    "        continue\n",
    "\n",
    "    if 'fragnetv2' in comp.name:\n",
    "        new_comps.append(comp)\n",
    "\n",
    "animal._compound_sets = hippo.csetlist.CompoundSetList([animal.hits])\n",
    "\n",
    "print(len(new_comps))\n",
    "new_cset = hippo.cset.CompoundSet('compounds', new_comps, duplicate='no_check')\n",
    "print(new_cset)\n",
    "new_bases = hippo.cset.CompoundSet('bases', animal.get_compounds('base'), duplicate='no_check')\n",
    "print(new_bases)\n",
    "new_elabs = hippo.cset.CompoundSet('elabs', animal.get_compounds('elab'), duplicate='no_check')\n",
    "print(new_elabs)\n",
    "\n",
    "animal._compounds = new_cset\n",
    "animal.compound_sets.append(new_bases)\n",
    "animal.compound_sets.append(new_elabs)\n",
    "\n",
    "# print(new_cset)"
   ]
  },
  {
   "cell_type": "raw",
   "id": "856e5363-175f-4cdc-a83c-c57a3bbf8f14",
   "metadata": {},
   "source": [
    "animal.write_pickle('pickles/2A_hippo_requoted_fragnet.pickle')"
   ]
  },
  {
   "cell_type": "code",
   "execution_count": 54,
   "id": "6ee18e08-af0a-4977-b038-fdd54afe03a0",
   "metadata": {},
   "outputs": [
    {
     "name": "stdout",
     "output_type": "stream",
     "text": [
      "\u001b[1mHIPPO(hippo2_test)\u001b[0m\u001b[0m                              \n",
      "\u001b[36mtarget_name\u001b[0m = A71EV2A\u001b[0m\u001b[95m \u001b[0m\u001b[0m            \n",
      "\u001b[36mmax_lead_time\u001b[0m = 10\u001b[0m\u001b[95m workdays\u001b[0m\u001b[0m       \n",
      "\u001b[36mmax_bb_price\u001b[0m = 300\u001b[0m\u001b[95m $\u001b[0m\u001b[0m              \n",
      "\u001b[36mmin_bb_quantity\u001b[0m = 20\u001b[0m\u001b[95m mg\u001b[0m\u001b[0m           \n",
      "\u001b[36m#compound_sets\u001b[0m = 3\u001b[0m\u001b[95m \u001b[0m\u001b[0m               \n",
      "\u001b[36m#compounds\u001b[0m = 12241\u001b[0m\u001b[95m \u001b[0m\u001b[0m               \n",
      "\u001b[36m#poses\u001b[0m = 44972\u001b[0m\u001b[95m \u001b[0m\u001b[0m                   \n",
      "\u001b[36m#tags\u001b[0m = 4\u001b[0m\u001b[95m \u001b[0m\u001b[0m                        \n",
      "\u001b[0m                                                        \n",
      "\u001b[4mcompound sets:\u001b[0m                                      \n",
      "CompoundSet(\"hits\", #compounds=38, #poses=49)\u001b[0m           \n",
      "CompoundSet(\"bases\", #compounds=17, #poses=0)\u001b[0m           \n",
      "CompoundSet(\"elabs\", #compounds=12224, #poses=44972)\u001b[0m    \n",
      "\u001b[0m                                                        \n",
      "\u001b[4mtags:\u001b[0m                                               \n",
      "Syndirella #compounds=12240, #poses=44972\u001b[0m               \n",
      "base #compounds=16, #poses=0\u001b[0m                            \n",
      "too_contorted #compounds=2, #poses=0\u001b[0m                    \n",
      "elab #compounds=12223, #poses=44972\u001b[0m                     \n"
     ]
    }
   ],
   "source": [
    "animal.summary()"
   ]
  },
  {
   "cell_type": "code",
   "execution_count": 55,
   "id": "3d18ba65-8766-43df-ac1a-06a6d976c926",
   "metadata": {},
   "outputs": [
    {
     "name": "stdout",
     "output_type": "stream",
     "text": [
      "writing \u001b[38;5;11mgraphs/elabs_routes_fragnet.html\u001b[0m ... \u001b[0mDone.\u001b[0m\n",
      "writing \u001b[38;5;11mgraphs/elabs_routes_fragnet.png\u001b[0m ... \u001b[0mDone.\u001b[0m\n"
     ]
    },
    {
     "data": {
      "application/vnd.plotly.v1+json": {
       "config": {
        "plotlyServerURL": "https://plot.ly"
       },
       "data": [
        {
         "alignmentgroup": "True",
         "bingroup": "x",
         "hovertemplate": "num_reactants=2<br>type=%{x}<br>count=%{y}<extra></extra>",
         "legendgroup": "2",
         "marker": {
          "color": "#636efa",
          "pattern": {
           "shape": ""
          }
         },
         "name": "2",
         "offsetgroup": "2",
         "orientation": "v",
         "showlegend": true,
         "type": "histogram",
         "x": [
          "Amidation",
          "Amidation",
          "Amidation",
          "Amidation",
          "Amidation",
          "Amidation",
          "Amidation",
          "Amidation",
          "Amidation",
          "Amidation",
          "Amidation",
          "Amidation",
          "Amidation",
          "Amidation",
          "Amidation",
          "Amidation",
          "Amidation",
          "Amidation",
          "Amidation",
          "Amidation",
          "Amidation",
          "Amidation",
          "Amidation",
          "Amidation",
          "Amidation",
          "Amidation",
          "Amidation",
          "Amidation",
          "Amidation",
          "Amidation",
          "Amidation",
          "Amidation",
          "Amidation",
          "Amidation",
          "Amidation",
          "Amidation",
          "Amidation",
          "Amidation",
          "Amidation",
          "Amidation",
          "Amidation",
          "Amidation",
          "Amidation",
          "Amidation",
          "Amidation",
          "Amidation",
          "Amidation",
          "Amidation",
          "Amidation",
          "Amidation",
          "Amidation",
          "Amidation",
          "Amidation",
          "Amidation",
          "Amidation",
          "Amidation",
          "Amidation",
          "Amidation",
          "Amidation",
          "Amidation",
          "Amidation",
          "Amidation",
          "Amidation",
          "Amidation",
          "Amidation",
          "Amidation",
          "Amidation",
          "Amidation",
          "Amidation",
          "Amidation",
          "Amidation",
          "Amidation",
          "Amidation",
          "Amidation",
          "Amidation",
          "Amidation",
          "Amidation",
          "Amidation",
          "Amidation",
          "Amidation",
          "Amidation",
          "Amidation",
          "Amidation",
          "Amidation",
          "Amidation",
          "Amidation",
          "Amidation",
          "Amidation",
          "Amidation",
          "Amidation",
          "Amidation",
          "Amidation",
          "Amidation",
          "Amidation",
          "Amidation",
          "Amidation",
          "Amidation",
          "Amidation",
          "Amidation",
          "Amidation",
          "Amidation",
          "Amidation",
          "Amidation",
          "Amidation",
          "Amidation",
          "Amidation",
          "Amidation",
          "Amidation",
          "Amidation",
          "Amidation",
          "Amidation",
          "Amidation",
          "Amidation",
          "Amidation",
          "Amidation",
          "Amidation",
          "Amidation",
          "Amidation",
          "Amidation",
          "Amidation",
          "Amidation",
          "Amidation",
          "Amidation",
          "Amidation",
          "Amidation",
          "Amidation",
          "Amidation",
          "Amidation",
          "Amidation",
          "Amidation",
          "Amidation",
          "Amidation",
          "Amidation",
          "Amidation",
          "Amidation",
          "Amidation",
          "Amide_Schotten-Baumann_with_amine",
          "Amide_Schotten-Baumann_with_amine",
          "Amide_Schotten-Baumann_with_amine",
          "Amide_Schotten-Baumann_with_amine",
          "Amide_Schotten-Baumann_with_amine",
          "Amide_Schotten-Baumann_with_amine",
          "Amide_Schotten-Baumann_with_amine",
          "Amide_Schotten-Baumann_with_amine",
          "Amidation",
          "Amide_Schotten-Baumann_with_amine",
          "Amide_Schotten-Baumann_with_amine",
          "Amide_Schotten-Baumann_with_amine",
          "Amide_Schotten-Baumann_with_amine",
          "Amide_Schotten-Baumann_with_amine",
          "Amide_Schotten-Baumann_with_amine",
          "Amide_Schotten-Baumann_with_amine",
          "Amidation",
          "Amidation",
          "Amidation",
          "Amidation",
          "Amidation",
          "Amidation",
          "Amidation",
          "Amidation",
          "Amidation",
          "Amidation",
          "Amidation",
          "Amidation",
          "Amidation",
          "Amidation",
          "Amidation",
          "Amidation",
          "Amidation",
          "Amidation",
          "Amidation",
          "Amidation",
          "Amidation",
          "Amidation",
          "Amidation",
          "Amidation",
          "Amidation",
          "Amidation",
          "Amidation",
          "Amidation",
          "Amidation",
          "Amidation",
          "Amidation",
          "Amidation",
          "Amidation",
          "Amidation",
          "Amidation",
          "Amidation",
          "Amidation",
          "Amidation",
          "Amidation",
          "Amidation",
          "Amidation",
          "Amidation",
          "Amidation",
          "Amidation",
          "Amidation",
          "Amidation",
          "Amidation",
          "Amidation",
          "Amidation",
          "Amidation",
          "Amidation",
          "Amidation",
          "Amidation",
          "Amidation",
          "Amidation",
          "Amidation",
          "Amidation",
          "Amidation",
          "Amidation",
          "Amidation",
          "Amidation",
          "Amidation",
          "Amidation",
          "Amidation",
          "Amidation",
          "Amidation",
          "Amidation",
          "Amidation",
          "Amidation",
          "Amidation",
          "Amidation",
          "Amidation",
          "Amidation",
          "Amidation",
          "Amidation",
          "Amidation",
          "Amidation",
          "Amidation",
          "Amidation",
          "Amidation",
          "Amidation",
          "Amidation",
          "Amidation",
          "Amidation",
          "Amidation",
          "Amidation",
          "Amidation",
          "Amidation",
          "Amidation",
          "Amidation",
          "Amidation",
          "Amidation",
          "Amidation",
          "Amidation",
          "Amidation",
          "Amidation",
          "Amidation",
          "Amidation",
          "Amidation",
          "Amidation",
          "Amidation",
          "Amidation",
          "Amidation",
          "Amidation",
          "Amidation",
          "Amidation",
          "Amidation",
          "Amidation",
          "Amidation",
          "Amidation",
          "Amidation",
          "Amidation",
          "Amidation",
          "Amidation",
          "Amidation",
          "Amidation",
          "Amidation",
          "Amidation",
          "Amidation",
          "Amidation",
          "Amidation",
          "Amidation",
          "Amidation",
          "Amidation",
          "Amidation",
          "Amidation",
          "Amidation",
          "Amidation",
          "Amidation",
          "Amidation",
          "Amidation",
          "Amidation",
          "Amidation",
          "Amidation",
          "Amidation",
          "Amidation",
          "Amidation",
          "Amidation",
          "Amidation",
          "Amidation",
          "Amidation",
          "Amidation",
          "Amidation",
          "Amidation",
          "Amidation",
          "Amidation",
          "Amidation",
          "Amidation",
          "Amidation",
          "Amidation",
          "Amidation",
          "Amidation",
          "Amidation",
          "Amidation",
          "Amidation",
          "Amidation",
          "Amidation",
          "Amidation",
          "Amidation",
          "Amidation",
          "Amidation",
          "Amidation",
          "Amidation",
          "Amidation",
          "Amidation",
          "Amidation",
          "Amidation",
          "Amidation",
          "Amidation",
          "Amidation",
          "Amidation",
          "Amidation",
          "Amidation",
          "Amidation",
          "Amidation",
          "Amidation",
          "Amidation",
          "Amidation",
          "Amidation",
          "Amidation",
          "Amidation",
          "Amidation",
          "Amidation",
          "Amidation",
          "Amidation",
          "Amidation",
          "Amidation",
          "Amidation",
          "Amidation",
          "Amidation",
          "Amidation",
          "Amidation",
          "Amidation",
          "Amidation",
          "Amidation",
          "Amidation",
          "Amidation",
          "Amidation",
          "Amidation",
          "Amidation",
          "Amidation",
          "Amidation",
          "Amidation",
          "Amidation",
          "Amidation",
          "Amidation",
          "Amidation",
          "Amidation",
          "Amidation",
          "Amidation",
          "Amidation",
          "Amidation",
          "Amidation",
          "Amidation",
          "Amidation",
          "Amidation",
          "Amidation",
          "Amidation",
          "Amidation",
          "Amidation",
          "Amidation",
          "Amidation",
          "Amidation",
          "Amidation",
          "Amidation",
          "Amidation",
          "Amidation",
          "Amidation",
          "Amidation",
          "Amidation",
          "Amidation",
          "Amidation",
          "Amidation",
          "Amidation",
          "Amidation",
          "Amidation",
          "Amidation",
          "Amidation",
          "Amidation",
          "Amidation",
          "Amidation",
          "Amidation",
          "Amidation",
          "Amidation",
          "Amidation",
          "Amidation",
          "Amidation",
          "Amidation",
          "Amidation",
          "Amidation",
          "Amidation",
          "Amidation",
          "Amidation",
          "Amidation",
          "Amidation",
          "Amidation",
          "Amidation",
          "Amidation",
          "Amidation",
          "Amidation",
          "Amidation",
          "Amidation",
          "Amidation",
          "Amidation",
          "Amidation",
          "Amidation",
          "Amidation",
          "Amidation",
          "Amidation",
          "Amidation",
          "Amidation",
          "Amidation",
          "Amidation",
          "Amidation",
          "Amidation",
          "Amidation",
          "Amidation",
          "Amidation",
          "Amidation",
          "Amidation",
          "Amidation",
          "Amidation",
          "Amidation",
          "Amidation",
          "Amidation",
          "Amidation",
          "Amidation",
          "Amidation",
          "Amidation",
          "Amidation",
          "Amidation",
          "Amidation",
          "Amidation",
          "Amidation",
          "Amidation",
          "Amidation",
          "Amidation",
          "Amidation",
          "Amidation",
          "Amidation",
          "Amidation",
          "Amidation",
          "Amidation",
          "Amidation",
          "Amidation",
          "Amidation",
          "Amidation",
          "Amidation",
          "Amidation",
          "Amidation",
          "Amidation",
          "Amidation",
          "Amidation",
          "Amidation",
          "Amidation",
          "Amidation",
          "Amidation",
          "Amidation",
          "Amidation",
          "Amidation",
          "Amidation",
          "Amidation",
          "Amidation",
          "Amidation",
          "Amidation",
          "Amidation",
          "Amidation",
          "Amidation",
          "Amidation",
          "Amidation",
          "Amidation",
          "Amidation",
          "Amidation",
          "Amidation",
          "Amidation",
          "Amidation",
          "Amidation",
          "Amidation",
          "Amidation",
          "Amidation",
          "Amidation",
          "Amidation",
          "Amidation",
          "Amidation",
          "Amidation",
          "Amidation",
          "Amidation",
          "Amidation",
          "Amidation",
          "Amidation",
          "Amidation",
          "Amidation",
          "Amidation",
          "Amidation",
          "Amidation",
          "Amidation",
          "Amidation",
          "Amidation",
          "Amidation",
          "Amidation",
          "Amidation",
          "Amidation",
          "Amidation",
          "Amidation",
          "Amidation",
          "Amidation",
          "Amidation",
          "Amidation",
          "Amidation",
          "Amidation",
          "Amidation",
          "Amidation",
          "Amidation",
          "Amidation",
          "Amidation",
          "Amidation",
          "Amidation",
          "Amidation",
          "Amidation",
          "Amidation",
          "Amidation",
          "Amidation",
          "Amidation",
          "Amidation",
          "Amidation",
          "Amidation",
          "Amidation",
          "Amidation",
          "Amidation",
          "Amidation",
          "Amidation",
          "Amidation",
          "Amidation",
          "Amidation",
          "Amidation",
          "Amidation",
          "Amidation",
          "Amidation",
          "Amidation",
          "Amidation",
          "Amidation",
          "Amidation",
          "Amidation",
          "Amidation",
          "Amidation",
          "Amidation",
          "Amidation",
          "Amidation",
          "Amidation",
          "Amidation",
          "Amidation",
          "Amidation",
          "Amidation",
          "Amidation",
          "Amidation",
          "Amidation",
          "Amidation",
          "Amidation",
          "Amidation",
          "Amidation",
          "Amidation",
          "Amidation",
          "Amidation",
          "Amidation",
          "Amidation",
          "Amidation",
          "Amidation",
          "Amidation",
          "Amidation",
          "Amidation",
          "Amidation",
          "Amidation",
          "Amidation",
          "Amidation",
          "Amidation",
          "Amidation",
          "Amidation",
          "Amidation",
          "Amidation",
          "Amidation",
          "Amidation",
          "Amidation",
          "Amidation",
          "Amidation",
          "Amidation",
          "Amidation",
          "Amidation",
          "Amidation",
          "Amidation",
          "Amidation",
          "Amidation",
          "Amidation",
          "Amidation",
          "Amidation",
          "Amidation",
          "Amidation",
          "Amidation",
          "Amidation",
          "Amidation",
          "Amidation",
          "Amidation",
          "Amidation",
          "Amidation",
          "Amidation",
          "Amidation",
          "Amidation",
          "Amidation",
          "Amidation",
          "Amidation",
          "Amidation",
          "Amidation",
          "Amidation",
          "Amidation",
          "Amidation",
          "Amidation",
          "Amidation",
          "Amidation",
          "Amidation",
          "Amidation",
          "Amidation",
          "Amidation",
          "Amidation",
          "Amidation",
          "Amidation",
          "Amidation",
          "Amidation",
          "Amidation",
          "Amidation",
          "Amidation",
          "Amidation",
          "Amidation",
          "Amidation",
          "Amidation",
          "Amidation",
          "Amidation",
          "Amidation",
          "Amidation",
          "Amidation",
          "Amidation",
          "Amidation",
          "Amidation",
          "Amidation",
          "Amidation",
          "Amidation",
          "Amidation",
          "Amidation",
          "Amidation",
          "Amidation",
          "Amidation",
          "Amidation",
          "Amidation",
          "Amidation",
          "Amidation",
          "Amidation",
          "Amidation",
          "Amidation",
          "Amidation",
          "Amidation",
          "Amidation",
          "Amidation",
          "Amidation",
          "Amidation",
          "Amidation",
          "Amidation",
          "Amidation",
          "Amidation",
          "Amidation",
          "Amidation",
          "Amidation",
          "Amidation",
          "Amidation",
          "Amidation",
          "Amidation",
          "Amidation",
          "Amidation",
          "Amidation",
          "Amidation",
          "Amidation",
          "Amidation",
          "Amidation",
          "Amidation",
          "Amidation",
          "Amidation",
          "Amidation",
          "Amidation",
          "Amidation",
          "Amidation",
          "Amidation",
          "Amidation",
          "Amidation",
          "Amidation",
          "Amidation",
          "Amidation",
          "Amidation",
          "Amidation",
          "Amidation",
          "Amidation",
          "Amidation",
          "Amidation",
          "Amidation",
          "Amidation",
          "Amidation",
          "Amidation",
          "Amidation",
          "Amidation",
          "Amidation",
          "Amidation",
          "Amidation",
          "Amidation",
          "Amidation",
          "Amidation",
          "Amidation",
          "Amidation",
          "Amidation",
          "Amidation",
          "Amidation",
          "Amidation",
          "Amidation",
          "Amidation",
          "Amidation",
          "Amidation",
          "Amidation",
          "Amidation",
          "Amidation",
          "Amidation",
          "Amidation",
          "Amidation",
          "Amidation",
          "Amidation",
          "Amidation",
          "Amidation",
          "Amidation",
          "Amidation",
          "Amidation",
          "Amidation",
          "Amidation",
          "Amidation",
          "Amidation",
          "Amidation",
          "Amidation",
          "Amidation",
          "Amidation",
          "Amidation",
          "Amidation",
          "Amidation",
          "Amidation",
          "Amidation",
          "Amidation",
          "Amidation",
          "Amidation",
          "Amidation",
          "Amidation",
          "Amidation",
          "Amidation",
          "Amidation",
          "Amidation",
          "Amidation",
          "Amide_Schotten-Baumann_with_amine",
          "Amide_Schotten-Baumann_with_amine",
          "Amide_Schotten-Baumann_with_amine",
          "Amide_Schotten-Baumann_with_amine",
          "Amide_Schotten-Baumann_with_amine",
          "Amide_Schotten-Baumann_with_amine",
          "Amide_Schotten-Baumann_with_amine",
          "Amide_Schotten-Baumann_with_amine",
          "Amide_Schotten-Baumann_with_amine",
          "Amide_Schotten-Baumann_with_amine",
          "Amide_Schotten-Baumann_with_amine",
          "Amide_Schotten-Baumann_with_amine",
          "Amide_Schotten-Baumann_with_amine",
          "Amide_Schotten-Baumann_with_amine",
          "Amide_Schotten-Baumann_with_amine",
          "Amide_Schotten-Baumann_with_amine",
          "Amide_Schotten-Baumann_with_amine",
          "Amide_Schotten-Baumann_with_amine",
          "Amide_Schotten-Baumann_with_amine",
          "Amide_Schotten-Baumann_with_amine",
          "Amide_Schotten-Baumann_with_amine",
          "Amide_Schotten-Baumann_with_amine",
          "Amide_Schotten-Baumann_with_amine",
          "Amide_Schotten-Baumann_with_amine",
          "Amide_Schotten-Baumann_with_amine",
          "Amide_Schotten-Baumann_with_amine",
          "Amide_Schotten-Baumann_with_amine",
          "Amide_Schotten-Baumann_with_amine",
          "Amide_Schotten-Baumann_with_amine",
          "Amide_Schotten-Baumann_with_amine",
          "Amide_Schotten-Baumann_with_amine",
          "Amide_Schotten-Baumann_with_amine",
          "Amide_Schotten-Baumann_with_amine",
          "Amide_Schotten-Baumann_with_amine",
          "Amide_Schotten-Baumann_with_amine",
          "Amide_Schotten-Baumann_with_amine",
          "Amide_Schotten-Baumann_with_amine",
          "Amide_Schotten-Baumann_with_amine",
          "Amide_Schotten-Baumann_with_amine",
          "Amide_Schotten-Baumann_with_amine",
          "Amide_Schotten-Baumann_with_amine",
          "Amide_Schotten-Baumann_with_amine",
          "Amide_Schotten-Baumann_with_amine",
          "Amide_Schotten-Baumann_with_amine",
          "Amide_Schotten-Baumann_with_amine",
          "Amide_Schotten-Baumann_with_amine",
          "Amide_Schotten-Baumann_with_amine",
          "Amide_Schotten-Baumann_with_amine",
          "Amide_Schotten-Baumann_with_amine",
          "Amide_Schotten-Baumann_with_amine",
          "Amide_Schotten-Baumann_with_amine",
          "Amide_Schotten-Baumann_with_amine",
          "Amide_Schotten-Baumann_with_amine",
          "Amide_Schotten-Baumann_with_amine",
          "Amide_Schotten-Baumann_with_amine",
          "Amide_Schotten-Baumann_with_amine",
          "Amide_Schotten-Baumann_with_amine",
          "Amide_Schotten-Baumann_with_amine",
          "Amide_Schotten-Baumann_with_amine",
          "Amide_Schotten-Baumann_with_amine",
          "Amide_Schotten-Baumann_with_amine",
          "Amide_Schotten-Baumann_with_amine",
          "Amide_Schotten-Baumann_with_amine",
          "Amide_Schotten-Baumann_with_amine",
          "Amide_Schotten-Baumann_with_amine",
          "Amide_Schotten-Baumann_with_amine",
          "Amide_Schotten-Baumann_with_amine",
          "Amide_Schotten-Baumann_with_amine",
          "Amide_Schotten-Baumann_with_amine",
          "Amide_Schotten-Baumann_with_amine",
          "Amide_Schotten-Baumann_with_amine",
          "Amide_Schotten-Baumann_with_amine",
          "Amide_Schotten-Baumann_with_amine",
          "Amide_Schotten-Baumann_with_amine",
          "Amide_Schotten-Baumann_with_amine",
          "Amide_Schotten-Baumann_with_amine",
          "Amide_Schotten-Baumann_with_amine",
          "Amide_Schotten-Baumann_with_amine",
          "Amide_Schotten-Baumann_with_amine",
          "Amide_Schotten-Baumann_with_amine",
          "Amide_Schotten-Baumann_with_amine",
          "Amide_Schotten-Baumann_with_amine",
          "Amide_Schotten-Baumann_with_amine",
          "Amide_Schotten-Baumann_with_amine",
          "Amide_Schotten-Baumann_with_amine",
          "Amide_Schotten-Baumann_with_amine",
          "Amide_Schotten-Baumann_with_amine",
          "Amide_Schotten-Baumann_with_amine",
          "Amide_Schotten-Baumann_with_amine",
          "Amide_Schotten-Baumann_with_amine",
          "Amide_Schotten-Baumann_with_amine",
          "Amide_Schotten-Baumann_with_amine",
          "Amide_Schotten-Baumann_with_amine",
          "Amide_Schotten-Baumann_with_amine",
          "Amide_Schotten-Baumann_with_amine",
          "Amide_Schotten-Baumann_with_amine",
          "Amide_Schotten-Baumann_with_amine",
          "Amide_Schotten-Baumann_with_amine",
          "Amide_Schotten-Baumann_with_amine",
          "Amide_Schotten-Baumann_with_amine",
          "Amide_Schotten-Baumann_with_amine",
          "Amide_Schotten-Baumann_with_amine",
          "Amide_Schotten-Baumann_with_amine",
          "Amide_Schotten-Baumann_with_amine",
          "Amide_Schotten-Baumann_with_amine",
          "Amide_Schotten-Baumann_with_amine",
          "Amide_Schotten-Baumann_with_amine",
          "Amide_Schotten-Baumann_with_amine",
          "Amide_Schotten-Baumann_with_amine",
          "Amide_Schotten-Baumann_with_amine",
          "Amide_Schotten-Baumann_with_amine",
          "Amide_Schotten-Baumann_with_amine",
          "Amide_Schotten-Baumann_with_amine",
          "Amide_Schotten-Baumann_with_amine",
          "Amide_Schotten-Baumann_with_amine",
          "Amide_Schotten-Baumann_with_amine",
          "Amide_Schotten-Baumann_with_amine",
          "Amide_Schotten-Baumann_with_amine",
          "Amide_Schotten-Baumann_with_amine",
          "Amide_Schotten-Baumann_with_amine",
          "Amide_Schotten-Baumann_with_amine",
          "Amide_Schotten-Baumann_with_amine",
          "Amide_Schotten-Baumann_with_amine",
          "Amide_Schotten-Baumann_with_amine",
          "Amide_Schotten-Baumann_with_amine",
          "Amide_Schotten-Baumann_with_amine",
          "Amide_Schotten-Baumann_with_amine",
          "Amide_Schotten-Baumann_with_amine",
          "Amide_Schotten-Baumann_with_amine",
          "Amide_Schotten-Baumann_with_amine",
          "Amide_Schotten-Baumann_with_amine",
          "Amide_Schotten-Baumann_with_amine",
          "Amide_Schotten-Baumann_with_amine",
          "Amide_Schotten-Baumann_with_amine",
          "Amide_Schotten-Baumann_with_amine",
          "Amide_Schotten-Baumann_with_amine",
          "Amide_Schotten-Baumann_with_amine",
          "Amide_Schotten-Baumann_with_amine",
          "Amide_Schotten-Baumann_with_amine",
          "Amide_Schotten-Baumann_with_amine",
          "Amide_Schotten-Baumann_with_amine",
          "Amide_Schotten-Baumann_with_amine",
          "Amide_Schotten-Baumann_with_amine",
          "Amide_Schotten-Baumann_with_amine",
          "Amide_Schotten-Baumann_with_amine",
          "Amide_Schotten-Baumann_with_amine",
          "Amide_Schotten-Baumann_with_amine",
          "Amide_Schotten-Baumann_with_amine",
          "Amide_Schotten-Baumann_with_amine",
          "Amide_Schotten-Baumann_with_amine",
          "Amide_Schotten-Baumann_with_amine",
          "Amide_Schotten-Baumann_with_amine",
          "Amide_Schotten-Baumann_with_amine",
          "Amide_Schotten-Baumann_with_amine",
          "Amide_Schotten-Baumann_with_amine",
          "Amide_Schotten-Baumann_with_amine",
          "Amide_Schotten-Baumann_with_amine",
          "Amide_Schotten-Baumann_with_amine",
          "Amide_Schotten-Baumann_with_amine",
          "Amide_Schotten-Baumann_with_amine",
          "Amide_Schotten-Baumann_with_amine",
          "Amide_Schotten-Baumann_with_amine",
          "Amide_Schotten-Baumann_with_amine",
          "Amide_Schotten-Baumann_with_amine",
          "Amide_Schotten-Baumann_with_amine",
          "Amide_Schotten-Baumann_with_amine",
          "Amide_Schotten-Baumann_with_amine",
          "Amide_Schotten-Baumann_with_amine",
          "Amide_Schotten-Baumann_with_amine",
          "Amide_Schotten-Baumann_with_amine",
          "Amide_Schotten-Baumann_with_amine",
          "Amide_Schotten-Baumann_with_amine",
          "Amide_Schotten-Baumann_with_amine",
          "Amide_Schotten-Baumann_with_amine",
          "Amide_Schotten-Baumann_with_amine",
          "Amide_Schotten-Baumann_with_amine",
          "Amide_Schotten-Baumann_with_amine",
          "Amide_Schotten-Baumann_with_amine",
          "Amide_Schotten-Baumann_with_amine",
          "Amide_Schotten-Baumann_with_amine",
          "Amide_Schotten-Baumann_with_amine",
          "Amide_Schotten-Baumann_with_amine",
          "Amide_Schotten-Baumann_with_amine",
          "Amide_Schotten-Baumann_with_amine",
          "Amide_Schotten-Baumann_with_amine",
          "Amide_Schotten-Baumann_with_amine",
          "Amide_Schotten-Baumann_with_amine",
          "Amide_Schotten-Baumann_with_amine",
          "Amide_Schotten-Baumann_with_amine",
          "Amide_Schotten-Baumann_with_amine",
          "Amide_Schotten-Baumann_with_amine",
          "Amide_Schotten-Baumann_with_amine",
          "Amide_Schotten-Baumann_with_amine",
          "Amide_Schotten-Baumann_with_amine",
          "Amide_Schotten-Baumann_with_amine",
          "Amide_Schotten-Baumann_with_amine",
          "Amide_Schotten-Baumann_with_amine",
          "Amide_Schotten-Baumann_with_amine",
          "Amide_Schotten-Baumann_with_amine",
          "Amide_Schotten-Baumann_with_amine",
          "Amide_Schotten-Baumann_with_amine",
          "Amide_Schotten-Baumann_with_amine",
          "Amide_Schotten-Baumann_with_amine",
          "Amide_Schotten-Baumann_with_amine",
          "Amide_Schotten-Baumann_with_amine",
          "Amide_Schotten-Baumann_with_amine",
          "Amide_Schotten-Baumann_with_amine",
          "Amide_Schotten-Baumann_with_amine",
          "Amide_Schotten-Baumann_with_amine",
          "Amide_Schotten-Baumann_with_amine",
          "Amide_Schotten-Baumann_with_amine",
          "Amide_Schotten-Baumann_with_amine",
          "Amide_Schotten-Baumann_with_amine",
          "Amide_Schotten-Baumann_with_amine",
          "Amide_Schotten-Baumann_with_amine",
          "Amide_Schotten-Baumann_with_amine",
          "Amide_Schotten-Baumann_with_amine",
          "Amide_Schotten-Baumann_with_amine",
          "Amide_Schotten-Baumann_with_amine",
          "Amide_Schotten-Baumann_with_amine",
          "Amide_Schotten-Baumann_with_amine",
          "Amide_Schotten-Baumann_with_amine",
          "Amide_Schotten-Baumann_with_amine",
          "Amide_Schotten-Baumann_with_amine",
          "Amide_Schotten-Baumann_with_amine",
          "Amide_Schotten-Baumann_with_amine",
          "Amide_Schotten-Baumann_with_amine",
          "Amide_Schotten-Baumann_with_amine",
          "Amide_Schotten-Baumann_with_amine",
          "Amide_Schotten-Baumann_with_amine",
          "Amide_Schotten-Baumann_with_amine",
          "Amide_Schotten-Baumann_with_amine",
          "Amide_Schotten-Baumann_with_amine",
          "Amide_Schotten-Baumann_with_amine",
          "Amide_Schotten-Baumann_with_amine",
          "Amide_Schotten-Baumann_with_amine",
          "Amide_Schotten-Baumann_with_amine",
          "Amide_Schotten-Baumann_with_amine",
          "Amide_Schotten-Baumann_with_amine",
          "Amide_Schotten-Baumann_with_amine",
          "Amide_Schotten-Baumann_with_amine",
          "Amide_Schotten-Baumann_with_amine",
          "Amide_Schotten-Baumann_with_amine",
          "Amide_Schotten-Baumann_with_amine",
          "Amide_Schotten-Baumann_with_amine",
          "Amide_Schotten-Baumann_with_amine",
          "Amide_Schotten-Baumann_with_amine",
          "Amide_Schotten-Baumann_with_amine",
          "Amide_Schotten-Baumann_with_amine",
          "Amide_Schotten-Baumann_with_amine",
          "Amide_Schotten-Baumann_with_amine",
          "Amide_Schotten-Baumann_with_amine",
          "Amide_Schotten-Baumann_with_amine",
          "Amide_Schotten-Baumann_with_amine",
          "Amide_Schotten-Baumann_with_amine",
          "Amide_Schotten-Baumann_with_amine",
          "Amide_Schotten-Baumann_with_amine",
          "Amide_Schotten-Baumann_with_amine",
          "Amide_Schotten-Baumann_with_amine",
          "Amide_Schotten-Baumann_with_amine",
          "Amide_Schotten-Baumann_with_amine",
          "Amide_Schotten-Baumann_with_amine",
          "Amide_Schotten-Baumann_with_amine",
          "Amide_Schotten-Baumann_with_amine",
          "Amide_Schotten-Baumann_with_amine",
          "Amide_Schotten-Baumann_with_amine",
          "Amide_Schotten-Baumann_with_amine",
          "Amide_Schotten-Baumann_with_amine",
          "Amide_Schotten-Baumann_with_amine",
          "Amide_Schotten-Baumann_with_amine",
          "Amide_Schotten-Baumann_with_amine",
          "Amide_Schotten-Baumann_with_amine",
          "Amide_Schotten-Baumann_with_amine",
          "Amide_Schotten-Baumann_with_amine",
          "Amide_Schotten-Baumann_with_amine",
          "Amide_Schotten-Baumann_with_amine",
          "Amide_Schotten-Baumann_with_amine",
          "Amide_Schotten-Baumann_with_amine",
          "Amide_Schotten-Baumann_with_amine",
          "Amide_Schotten-Baumann_with_amine",
          "Amide_Schotten-Baumann_with_amine",
          "Amide_Schotten-Baumann_with_amine",
          "Amide_Schotten-Baumann_with_amine",
          "Amide_Schotten-Baumann_with_amine",
          "Amide_Schotten-Baumann_with_amine",
          "Amide_Schotten-Baumann_with_amine",
          "Amide_Schotten-Baumann_with_amine",
          "Amide_Schotten-Baumann_with_amine",
          "Amide_Schotten-Baumann_with_amine",
          "Amide_Schotten-Baumann_with_amine",
          "Amide_Schotten-Baumann_with_amine",
          "Amide_Schotten-Baumann_with_amine",
          "Amide_Schotten-Baumann_with_amine",
          "Amide_Schotten-Baumann_with_amine",
          "Amide_Schotten-Baumann_with_amine",
          "Amide_Schotten-Baumann_with_amine",
          "Amide_Schotten-Baumann_with_amine",
          "Amide_Schotten-Baumann_with_amine",
          "Amide_Schotten-Baumann_with_amine",
          "Amide_Schotten-Baumann_with_amine",
          "Amide_Schotten-Baumann_with_amine",
          "Amide_Schotten-Baumann_with_amine",
          "Amide_Schotten-Baumann_with_amine",
          "Amide_Schotten-Baumann_with_amine",
          "Amide_Schotten-Baumann_with_amine",
          "Amide_Schotten-Baumann_with_amine",
          "Amide_Schotten-Baumann_with_amine",
          "Amide_Schotten-Baumann_with_amine",
          "Amide_Schotten-Baumann_with_amine",
          "Amide_Schotten-Baumann_with_amine",
          "Amide_Schotten-Baumann_with_amine",
          "Amide_Schotten-Baumann_with_amine",
          "Amide_Schotten-Baumann_with_amine",
          "Amide_Schotten-Baumann_with_amine",
          "Amide_Schotten-Baumann_with_amine",
          "Amide_Schotten-Baumann_with_amine",
          "Amide_Schotten-Baumann_with_amine",
          "Amide_Schotten-Baumann_with_amine",
          "Amide_Schotten-Baumann_with_amine",
          "Amide_Schotten-Baumann_with_amine",
          "Amide_Schotten-Baumann_with_amine",
          "Amide_Schotten-Baumann_with_amine",
          "Amide_Schotten-Baumann_with_amine",
          "Amide_Schotten-Baumann_with_amine",
          "Amide_Schotten-Baumann_with_amine",
          "Amide_Schotten-Baumann_with_amine",
          "Amide_Schotten-Baumann_with_amine",
          "Amide_Schotten-Baumann_with_amine",
          "Amide_Schotten-Baumann_with_amine",
          "Amide_Schotten-Baumann_with_amine",
          "Amide_Schotten-Baumann_with_amine",
          "Amide_Schotten-Baumann_with_amine",
          "Amide_Schotten-Baumann_with_amine",
          "Amide_Schotten-Baumann_with_amine",
          "Amide_Schotten-Baumann_with_amine",
          "Amide_Schotten-Baumann_with_amine",
          "Amide_Schotten-Baumann_with_amine",
          "Amide_Schotten-Baumann_with_amine",
          "Amide_Schotten-Baumann_with_amine",
          "Amide_Schotten-Baumann_with_amine",
          "Amide_Schotten-Baumann_with_amine",
          "Amide_Schotten-Baumann_with_amine",
          "Amide_Schotten-Baumann_with_amine",
          "Amide_Schotten-Baumann_with_amine",
          "Amide_Schotten-Baumann_with_amine",
          "Amide_Schotten-Baumann_with_amine",
          "Amide_Schotten-Baumann_with_amine",
          "Amide_Schotten-Baumann_with_amine",
          "Amide_Schotten-Baumann_with_amine",
          "Amide_Schotten-Baumann_with_amine",
          "Amide_Schotten-Baumann_with_amine",
          "Amide_Schotten-Baumann_with_amine",
          "Amide_Schotten-Baumann_with_amine",
          "Amide_Schotten-Baumann_with_amine",
          "Amide_Schotten-Baumann_with_amine",
          "Amide_Schotten-Baumann_with_amine",
          "Amide_Schotten-Baumann_with_amine",
          "Amide_Schotten-Baumann_with_amine",
          "Amide_Schotten-Baumann_with_amine",
          "Amide_Schotten-Baumann_with_amine",
          "Amide_Schotten-Baumann_with_amine",
          "Amide_Schotten-Baumann_with_amine",
          "Amide_Schotten-Baumann_with_amine",
          "Amide_Schotten-Baumann_with_amine",
          "Amide_Schotten-Baumann_with_amine",
          "Amide_Schotten-Baumann_with_amine",
          "Amide_Schotten-Baumann_with_amine",
          "Amide_Schotten-Baumann_with_amine",
          "Amide_Schotten-Baumann_with_amine",
          "Amide_Schotten-Baumann_with_amine",
          "Amide_Schotten-Baumann_with_amine",
          "Amide_Schotten-Baumann_with_amine",
          "Amide_Schotten-Baumann_with_amine",
          "Amide_Schotten-Baumann_with_amine",
          "Amide_Schotten-Baumann_with_amine",
          "Amide_Schotten-Baumann_with_amine",
          "Amide_Schotten-Baumann_with_amine",
          "Amide_Schotten-Baumann_with_amine",
          "Amide_Schotten-Baumann_with_amine",
          "Amide_Schotten-Baumann_with_amine",
          "Amide_Schotten-Baumann_with_amine",
          "Amide_Schotten-Baumann_with_amine",
          "Amide_Schotten-Baumann_with_amine",
          "Amide_Schotten-Baumann_with_amine",
          "Amide_Schotten-Baumann_with_amine",
          "Amide_Schotten-Baumann_with_amine",
          "Amide_Schotten-Baumann_with_amine",
          "Amide_Schotten-Baumann_with_amine",
          "Amide_Schotten-Baumann_with_amine",
          "Amide_Schotten-Baumann_with_amine",
          "Amide_Schotten-Baumann_with_amine",
          "Amide_Schotten-Baumann_with_amine",
          "Amide_Schotten-Baumann_with_amine",
          "Amide_Schotten-Baumann_with_amine",
          "Amide_Schotten-Baumann_with_amine",
          "Amide_Schotten-Baumann_with_amine",
          "Amide_Schotten-Baumann_with_amine",
          "Amide_Schotten-Baumann_with_amine",
          "Amide_Schotten-Baumann_with_amine",
          "Amide_Schotten-Baumann_with_amine",
          "Amide_Schotten-Baumann_with_amine",
          "Amide_Schotten-Baumann_with_amine",
          "Amide_Schotten-Baumann_with_amine",
          "Amidation",
          "Amidation",
          "Amidation",
          "Amidation",
          "Amidation",
          "Amidation",
          "Amidation",
          "Amidation",
          "Amidation",
          "Amidation",
          "Amidation",
          "Amidation",
          "Amidation",
          "Amidation",
          "Amidation",
          "Amidation",
          "Amidation",
          "Amidation",
          "Amide_Schotten-Baumann_with_amine",
          "Amide_Schotten-Baumann_with_amine",
          "Amide_Schotten-Baumann_with_amine",
          "Amide_Schotten-Baumann_with_amine",
          "Amide_Schotten-Baumann_with_amine",
          "Amide_Schotten-Baumann_with_amine",
          "Amide_Schotten-Baumann_with_amine",
          "Amidation",
          "Amidation",
          "Amidation",
          "Amidation",
          "Amidation",
          "Amidation",
          "Amidation",
          "Amidation",
          "Amidation",
          "Amidation",
          "Amidation",
          "Amidation",
          "Amidation",
          "Amidation",
          "Amidation",
          "Amidation",
          "Amidation",
          "Amidation",
          "Amidation",
          "Amidation",
          "Amidation",
          "Amidation",
          "Amidation",
          "Amidation",
          "Amidation",
          "Amidation",
          "Amidation",
          "Amidation",
          "Amidation",
          "Amidation",
          "Amidation",
          "Amidation",
          "Amidation",
          "Amidation",
          "Amidation",
          "Amidation",
          "Amidation",
          "Amidation",
          "Amidation",
          "Amidation",
          "Amidation",
          "Amidation",
          "Amidation",
          "Amidation",
          "Amidation",
          "Amidation",
          "Amidation",
          "Amidation",
          "Amidation",
          "Amidation",
          "Amidation",
          "Amidation",
          "Amidation",
          "Amidation",
          "Amidation",
          "Amidation",
          "Amidation",
          "Amidation",
          "Amidation",
          "Amidation",
          "Amidation",
          "Amidation",
          "Amidation",
          "Amidation",
          "Amidation",
          "Amidation",
          "Amidation",
          "Amidation",
          "Amidation",
          "Amidation",
          "Amidation",
          "Amidation",
          "Amidation",
          "Amidation",
          "Amidation",
          "Amidation",
          "Amidation",
          "Amidation",
          "Amidation",
          "Amidation",
          "Amidation",
          "Amidation",
          "Amidation",
          "Amidation",
          "Amidation",
          "Amidation",
          "Amidation",
          "Amidation",
          "Amidation",
          "Amidation",
          "Amidation",
          "Amidation",
          "Amidation",
          "Amidation",
          "Amidation",
          "Amidation",
          "Amidation",
          "Amidation",
          "Amidation",
          "Amidation",
          "Amidation",
          "Amidation",
          "Amidation",
          "Amidation",
          "Amidation",
          "Amidation",
          "Amidation",
          "Amidation",
          "Amidation",
          "Amidation",
          "Amidation",
          "Amidation",
          "Amidation",
          "Amidation",
          "Amidation",
          "Amidation",
          "Amidation",
          "Amidation",
          "Amidation",
          "Amidation",
          "Amidation",
          "Amidation",
          "Amidation",
          "Amidation",
          "Amidation",
          "Amidation",
          "Amidation",
          "Amidation",
          "Amidation",
          "Amidation",
          "Amidation",
          "Amidation",
          "Amidation",
          "Amidation",
          "Amidation",
          "Amidation",
          "Amidation",
          "Amidation",
          "Amidation",
          "Amide_Schotten-Baumann_with_amine",
          "Amide_Schotten-Baumann_with_amine",
          "Amide_Schotten-Baumann_with_amine",
          "Amide_Schotten-Baumann_with_amine",
          "Amide_Schotten-Baumann_with_amine",
          "Amide_Schotten-Baumann_with_amine",
          "Amide_Schotten-Baumann_with_amine",
          "Amide_Schotten-Baumann_with_amine",
          "Amide_Schotten-Baumann_with_amine",
          "Amidation",
          "Amidation",
          "Amidation",
          "Amidation",
          "Amidation",
          "Amidation",
          "Amidation",
          "Amidation",
          "Amidation",
          "Amidation",
          "Amidation",
          "Amidation",
          "Amidation",
          "Amidation",
          "Amidation",
          "Amidation",
          "Amidation",
          "Amidation",
          "Amidation",
          "Amidation",
          "Amidation",
          "Amidation",
          "Amidation",
          "Amidation",
          "Amidation",
          "Amidation",
          "Amidation",
          "Amidation",
          "Amidation",
          "Amidation",
          "Amidation",
          "Amidation",
          "Amidation",
          "Amidation",
          "Amidation",
          "Amidation",
          "Amidation",
          "Amidation",
          "Amidation",
          "Amidation",
          "Amidation",
          "Amidation",
          "Amidation",
          "Amidation",
          "Amidation",
          "Amidation",
          "Amidation",
          "Amidation",
          "Amidation",
          "Amidation",
          "Amidation",
          "Amidation",
          "Amidation",
          "Amidation",
          "Amidation",
          "Amidation",
          "Amidation",
          "Amidation",
          "Amidation",
          "Amidation",
          "Amidation",
          "Amidation",
          "Amidation",
          "Amidation",
          "Amidation",
          "Amidation",
          "Amidation",
          "Amidation",
          "Amidation",
          "Amidation",
          "Amidation",
          "Amidation",
          "Amidation",
          "Amidation",
          "Amidation",
          "Amidation",
          "Amidation",
          "Amidation",
          "Amidation",
          "Amidation",
          "Amidation",
          "Amidation",
          "Amidation",
          "Amidation",
          "Amidation",
          "Amidation",
          "Amidation",
          "Amidation",
          "Amidation",
          "Amidation",
          "Amidation",
          "Amidation",
          "Amidation",
          "Amidation",
          "Amidation",
          "Amidation",
          "Amidation",
          "Amidation"
         ],
         "xaxis": "x",
         "yaxis": "y"
        }
       ],
       "layout": {
        "autosize": true,
        "barmode": "relative",
        "images": [
         {
          "sizex": 0.3,
          "sizey": 0.3,
          "source": "https://raw.githubusercontent.com/mwinokan/HIPPO/main/logos/hippo_logo_tightcrop.png",
          "x": 0.95,
          "xanchor": "right",
          "xref": "paper",
          "y": 0.95,
          "yanchor": "top",
          "yref": "paper"
         }
        ],
        "legend": {
         "title": {
          "text": "num_reactants"
         },
         "tracegroupgap": 0
        },
        "margin": {
         "t": 60
        },
        "template": {
         "data": {
          "bar": [
           {
            "error_x": {
             "color": "#2a3f5f"
            },
            "error_y": {
             "color": "#2a3f5f"
            },
            "marker": {
             "line": {
              "color": "#E5ECF6",
              "width": 0.5
             },
             "pattern": {
              "fillmode": "overlay",
              "size": 10,
              "solidity": 0.2
             }
            },
            "type": "bar"
           }
          ],
          "barpolar": [
           {
            "marker": {
             "line": {
              "color": "#E5ECF6",
              "width": 0.5
             },
             "pattern": {
              "fillmode": "overlay",
              "size": 10,
              "solidity": 0.2
             }
            },
            "type": "barpolar"
           }
          ],
          "carpet": [
           {
            "aaxis": {
             "endlinecolor": "#2a3f5f",
             "gridcolor": "white",
             "linecolor": "white",
             "minorgridcolor": "white",
             "startlinecolor": "#2a3f5f"
            },
            "baxis": {
             "endlinecolor": "#2a3f5f",
             "gridcolor": "white",
             "linecolor": "white",
             "minorgridcolor": "white",
             "startlinecolor": "#2a3f5f"
            },
            "type": "carpet"
           }
          ],
          "choropleth": [
           {
            "colorbar": {
             "outlinewidth": 0,
             "ticks": ""
            },
            "type": "choropleth"
           }
          ],
          "contour": [
           {
            "colorbar": {
             "outlinewidth": 0,
             "ticks": ""
            },
            "colorscale": [
             [
              0,
              "#0d0887"
             ],
             [
              0.1111111111111111,
              "#46039f"
             ],
             [
              0.2222222222222222,
              "#7201a8"
             ],
             [
              0.3333333333333333,
              "#9c179e"
             ],
             [
              0.4444444444444444,
              "#bd3786"
             ],
             [
              0.5555555555555556,
              "#d8576b"
             ],
             [
              0.6666666666666666,
              "#ed7953"
             ],
             [
              0.7777777777777778,
              "#fb9f3a"
             ],
             [
              0.8888888888888888,
              "#fdca26"
             ],
             [
              1,
              "#f0f921"
             ]
            ],
            "type": "contour"
           }
          ],
          "contourcarpet": [
           {
            "colorbar": {
             "outlinewidth": 0,
             "ticks": ""
            },
            "type": "contourcarpet"
           }
          ],
          "heatmap": [
           {
            "colorbar": {
             "outlinewidth": 0,
             "ticks": ""
            },
            "colorscale": [
             [
              0,
              "#0d0887"
             ],
             [
              0.1111111111111111,
              "#46039f"
             ],
             [
              0.2222222222222222,
              "#7201a8"
             ],
             [
              0.3333333333333333,
              "#9c179e"
             ],
             [
              0.4444444444444444,
              "#bd3786"
             ],
             [
              0.5555555555555556,
              "#d8576b"
             ],
             [
              0.6666666666666666,
              "#ed7953"
             ],
             [
              0.7777777777777778,
              "#fb9f3a"
             ],
             [
              0.8888888888888888,
              "#fdca26"
             ],
             [
              1,
              "#f0f921"
             ]
            ],
            "type": "heatmap"
           }
          ],
          "heatmapgl": [
           {
            "colorbar": {
             "outlinewidth": 0,
             "ticks": ""
            },
            "colorscale": [
             [
              0,
              "#0d0887"
             ],
             [
              0.1111111111111111,
              "#46039f"
             ],
             [
              0.2222222222222222,
              "#7201a8"
             ],
             [
              0.3333333333333333,
              "#9c179e"
             ],
             [
              0.4444444444444444,
              "#bd3786"
             ],
             [
              0.5555555555555556,
              "#d8576b"
             ],
             [
              0.6666666666666666,
              "#ed7953"
             ],
             [
              0.7777777777777778,
              "#fb9f3a"
             ],
             [
              0.8888888888888888,
              "#fdca26"
             ],
             [
              1,
              "#f0f921"
             ]
            ],
            "type": "heatmapgl"
           }
          ],
          "histogram": [
           {
            "marker": {
             "pattern": {
              "fillmode": "overlay",
              "size": 10,
              "solidity": 0.2
             }
            },
            "type": "histogram"
           }
          ],
          "histogram2d": [
           {
            "colorbar": {
             "outlinewidth": 0,
             "ticks": ""
            },
            "colorscale": [
             [
              0,
              "#0d0887"
             ],
             [
              0.1111111111111111,
              "#46039f"
             ],
             [
              0.2222222222222222,
              "#7201a8"
             ],
             [
              0.3333333333333333,
              "#9c179e"
             ],
             [
              0.4444444444444444,
              "#bd3786"
             ],
             [
              0.5555555555555556,
              "#d8576b"
             ],
             [
              0.6666666666666666,
              "#ed7953"
             ],
             [
              0.7777777777777778,
              "#fb9f3a"
             ],
             [
              0.8888888888888888,
              "#fdca26"
             ],
             [
              1,
              "#f0f921"
             ]
            ],
            "type": "histogram2d"
           }
          ],
          "histogram2dcontour": [
           {
            "colorbar": {
             "outlinewidth": 0,
             "ticks": ""
            },
            "colorscale": [
             [
              0,
              "#0d0887"
             ],
             [
              0.1111111111111111,
              "#46039f"
             ],
             [
              0.2222222222222222,
              "#7201a8"
             ],
             [
              0.3333333333333333,
              "#9c179e"
             ],
             [
              0.4444444444444444,
              "#bd3786"
             ],
             [
              0.5555555555555556,
              "#d8576b"
             ],
             [
              0.6666666666666666,
              "#ed7953"
             ],
             [
              0.7777777777777778,
              "#fb9f3a"
             ],
             [
              0.8888888888888888,
              "#fdca26"
             ],
             [
              1,
              "#f0f921"
             ]
            ],
            "type": "histogram2dcontour"
           }
          ],
          "mesh3d": [
           {
            "colorbar": {
             "outlinewidth": 0,
             "ticks": ""
            },
            "type": "mesh3d"
           }
          ],
          "parcoords": [
           {
            "line": {
             "colorbar": {
              "outlinewidth": 0,
              "ticks": ""
             }
            },
            "type": "parcoords"
           }
          ],
          "pie": [
           {
            "automargin": true,
            "type": "pie"
           }
          ],
          "scatter": [
           {
            "fillpattern": {
             "fillmode": "overlay",
             "size": 10,
             "solidity": 0.2
            },
            "type": "scatter"
           }
          ],
          "scatter3d": [
           {
            "line": {
             "colorbar": {
              "outlinewidth": 0,
              "ticks": ""
             }
            },
            "marker": {
             "colorbar": {
              "outlinewidth": 0,
              "ticks": ""
             }
            },
            "type": "scatter3d"
           }
          ],
          "scattercarpet": [
           {
            "marker": {
             "colorbar": {
              "outlinewidth": 0,
              "ticks": ""
             }
            },
            "type": "scattercarpet"
           }
          ],
          "scattergeo": [
           {
            "marker": {
             "colorbar": {
              "outlinewidth": 0,
              "ticks": ""
             }
            },
            "type": "scattergeo"
           }
          ],
          "scattergl": [
           {
            "marker": {
             "colorbar": {
              "outlinewidth": 0,
              "ticks": ""
             }
            },
            "type": "scattergl"
           }
          ],
          "scattermapbox": [
           {
            "marker": {
             "colorbar": {
              "outlinewidth": 0,
              "ticks": ""
             }
            },
            "type": "scattermapbox"
           }
          ],
          "scatterpolar": [
           {
            "marker": {
             "colorbar": {
              "outlinewidth": 0,
              "ticks": ""
             }
            },
            "type": "scatterpolar"
           }
          ],
          "scatterpolargl": [
           {
            "marker": {
             "colorbar": {
              "outlinewidth": 0,
              "ticks": ""
             }
            },
            "type": "scatterpolargl"
           }
          ],
          "scatterternary": [
           {
            "marker": {
             "colorbar": {
              "outlinewidth": 0,
              "ticks": ""
             }
            },
            "type": "scatterternary"
           }
          ],
          "surface": [
           {
            "colorbar": {
             "outlinewidth": 0,
             "ticks": ""
            },
            "colorscale": [
             [
              0,
              "#0d0887"
             ],
             [
              0.1111111111111111,
              "#46039f"
             ],
             [
              0.2222222222222222,
              "#7201a8"
             ],
             [
              0.3333333333333333,
              "#9c179e"
             ],
             [
              0.4444444444444444,
              "#bd3786"
             ],
             [
              0.5555555555555556,
              "#d8576b"
             ],
             [
              0.6666666666666666,
              "#ed7953"
             ],
             [
              0.7777777777777778,
              "#fb9f3a"
             ],
             [
              0.8888888888888888,
              "#fdca26"
             ],
             [
              1,
              "#f0f921"
             ]
            ],
            "type": "surface"
           }
          ],
          "table": [
           {
            "cells": {
             "fill": {
              "color": "#EBF0F8"
             },
             "line": {
              "color": "white"
             }
            },
            "header": {
             "fill": {
              "color": "#C8D4E3"
             },
             "line": {
              "color": "white"
             }
            },
            "type": "table"
           }
          ]
         },
         "layout": {
          "annotationdefaults": {
           "arrowcolor": "#2a3f5f",
           "arrowhead": 0,
           "arrowwidth": 1
          },
          "autotypenumbers": "strict",
          "coloraxis": {
           "colorbar": {
            "outlinewidth": 0,
            "ticks": ""
           }
          },
          "colorscale": {
           "diverging": [
            [
             0,
             "#8e0152"
            ],
            [
             0.1,
             "#c51b7d"
            ],
            [
             0.2,
             "#de77ae"
            ],
            [
             0.3,
             "#f1b6da"
            ],
            [
             0.4,
             "#fde0ef"
            ],
            [
             0.5,
             "#f7f7f7"
            ],
            [
             0.6,
             "#e6f5d0"
            ],
            [
             0.7,
             "#b8e186"
            ],
            [
             0.8,
             "#7fbc41"
            ],
            [
             0.9,
             "#4d9221"
            ],
            [
             1,
             "#276419"
            ]
           ],
           "sequential": [
            [
             0,
             "#0d0887"
            ],
            [
             0.1111111111111111,
             "#46039f"
            ],
            [
             0.2222222222222222,
             "#7201a8"
            ],
            [
             0.3333333333333333,
             "#9c179e"
            ],
            [
             0.4444444444444444,
             "#bd3786"
            ],
            [
             0.5555555555555556,
             "#d8576b"
            ],
            [
             0.6666666666666666,
             "#ed7953"
            ],
            [
             0.7777777777777778,
             "#fb9f3a"
            ],
            [
             0.8888888888888888,
             "#fdca26"
            ],
            [
             1,
             "#f0f921"
            ]
           ],
           "sequentialminus": [
            [
             0,
             "#0d0887"
            ],
            [
             0.1111111111111111,
             "#46039f"
            ],
            [
             0.2222222222222222,
             "#7201a8"
            ],
            [
             0.3333333333333333,
             "#9c179e"
            ],
            [
             0.4444444444444444,
             "#bd3786"
            ],
            [
             0.5555555555555556,
             "#d8576b"
            ],
            [
             0.6666666666666666,
             "#ed7953"
            ],
            [
             0.7777777777777778,
             "#fb9f3a"
            ],
            [
             0.8888888888888888,
             "#fdca26"
            ],
            [
             1,
             "#f0f921"
            ]
           ]
          },
          "colorway": [
           "#636efa",
           "#EF553B",
           "#00cc96",
           "#ab63fa",
           "#FFA15A",
           "#19d3f3",
           "#FF6692",
           "#B6E880",
           "#FF97FF",
           "#FECB52"
          ],
          "font": {
           "color": "#2a3f5f"
          },
          "geo": {
           "bgcolor": "white",
           "lakecolor": "white",
           "landcolor": "#E5ECF6",
           "showlakes": true,
           "showland": true,
           "subunitcolor": "white"
          },
          "hoverlabel": {
           "align": "left"
          },
          "hovermode": "closest",
          "mapbox": {
           "style": "light"
          },
          "paper_bgcolor": "white",
          "plot_bgcolor": "#E5ECF6",
          "polar": {
           "angularaxis": {
            "gridcolor": "white",
            "linecolor": "white",
            "ticks": ""
           },
           "bgcolor": "#E5ECF6",
           "radialaxis": {
            "gridcolor": "white",
            "linecolor": "white",
            "ticks": ""
           }
          },
          "scene": {
           "xaxis": {
            "backgroundcolor": "#E5ECF6",
            "gridcolor": "white",
            "gridwidth": 2,
            "linecolor": "white",
            "showbackground": true,
            "ticks": "",
            "zerolinecolor": "white"
           },
           "yaxis": {
            "backgroundcolor": "#E5ECF6",
            "gridcolor": "white",
            "gridwidth": 2,
            "linecolor": "white",
            "showbackground": true,
            "ticks": "",
            "zerolinecolor": "white"
           },
           "zaxis": {
            "backgroundcolor": "#E5ECF6",
            "gridcolor": "white",
            "gridwidth": 2,
            "linecolor": "white",
            "showbackground": true,
            "ticks": "",
            "zerolinecolor": "white"
           }
          },
          "shapedefaults": {
           "line": {
            "color": "#2a3f5f"
           }
          },
          "ternary": {
           "aaxis": {
            "gridcolor": "white",
            "linecolor": "white",
            "ticks": ""
           },
           "baxis": {
            "gridcolor": "white",
            "linecolor": "white",
            "ticks": ""
           },
           "bgcolor": "#E5ECF6",
           "caxis": {
            "gridcolor": "white",
            "linecolor": "white",
            "ticks": ""
           }
          },
          "title": {
           "x": 0.05
          },
          "xaxis": {
           "automargin": true,
           "gridcolor": "white",
           "linecolor": "white",
           "ticks": "",
           "title": {
            "standoff": 15
           },
           "zerolinecolor": "white",
           "zerolinewidth": 2
          },
          "yaxis": {
           "automargin": true,
           "gridcolor": "white",
           "linecolor": "white",
           "ticks": "",
           "title": {
            "standoff": 15
           },
           "zerolinecolor": "white",
           "zerolinewidth": 2
          }
         }
        },
        "title": {
         "automargin": false,
         "text": "<b>A71EV2A</b>: Synthetic Routes<br><sup><i>\"elabs\": #compounds=12224</i></sup>",
         "yref": "container"
        },
        "xaxis": {
         "anchor": "y",
         "autorange": true,
         "domain": [
          0,
          1
         ],
         "range": [
          -0.5,
          1.5
         ],
         "title": {
          "text": "Compound"
         },
         "type": "category"
        },
        "yaxis": {
         "anchor": "x",
         "autorange": true,
         "domain": [
          0,
          1
         ],
         "range": [
          0,
          1062.1052631578948
         ],
         "title": {
          "text": "#Routes"
         }
        }
       }
      },
      "image/png": "[encoded data removed]",
      "text/html": [
       "<div>                            <div id=\"a0c9e227-532c-4703-be5c-841b017161d7\" class=\"plotly-graph-div\" style=\"height:525px; width:100%;\"></div>            <script type=\"text/javascript\">                require([\"plotly\"], function(Plotly) {                    window.PLOTLYENV=window.PLOTLYENV || {};                                    if (document.getElementById(\"a0c9e227-532c-4703-be5c-841b017161d7\")) {                    Plotly.newPlot(                        \"a0c9e227-532c-4703-be5c-841b017161d7\",                        [{\"alignmentgroup\":\"True\",\"bingroup\":\"x\",\"hovertemplate\":\"num_reactants=2\\u003cbr\\u003etype=%{x}\\u003cbr\\u003ecount=%{y}\\u003cextra\\u003e\\u003c\\u002fextra\\u003e\",\"legendgroup\":\"2\",\"marker\":{\"color\":\"#636efa\",\"pattern\":{\"shape\":\"\"}},\"name\":\"2\",\"offsetgroup\":\"2\",\"orientation\":\"v\",\"showlegend\":true,\"x\":[\"Amidation\",\"Amidation\",\"Amidation\",\"Amidation\",\"Amidation\",\"Amidation\",\"Amidation\",\"Amidation\",\"Amidation\",\"Amidation\",\"Amidation\",\"Amidation\",\"Amidation\",\"Amidation\",\"Amidation\",\"Amidation\",\"Amidation\",\"Amidation\",\"Amidation\",\"Amidation\",\"Amidation\",\"Amidation\",\"Amidation\",\"Amidation\",\"Amidation\",\"Amidation\",\"Amidation\",\"Amidation\",\"Amidation\",\"Amidation\",\"Amidation\",\"Amidation\",\"Amidation\",\"Amidation\",\"Amidation\",\"Amidation\",\"Amidation\",\"Amidation\",\"Amidation\",\"Amidation\",\"Amidation\",\"Amidation\",\"Amidation\",\"Amidation\",\"Amidation\",\"Amidation\",\"Amidation\",\"Amidation\",\"Amidation\",\"Amidation\",\"Amidation\",\"Amidation\",\"Amidation\",\"Amidation\",\"Amidation\",\"Amidation\",\"Amidation\",\"Amidation\",\"Amidation\",\"Amidation\",\"Amidation\",\"Amidation\",\"Amidation\",\"Amidation\",\"Amidation\",\"Amidation\",\"Amidation\",\"Amidation\",\"Amidation\",\"Amidation\",\"Amidation\",\"Amidation\",\"Amidation\",\"Amidation\",\"Amidation\",\"Amidation\",\"Amidation\",\"Amidation\",\"Amidation\",\"Amidation\",\"Amidation\",\"Amidation\",\"Amidation\",\"Amidation\",\"Amidation\",\"Amidation\",\"Amidation\",\"Amidation\",\"Amidation\",\"Amidation\",\"Amidation\",\"Amidation\",\"Amidation\",\"Amidation\",\"Amidation\",\"Amidation\",\"Amidation\",\"Amidation\",\"Amidation\",\"Amidation\",\"Amidation\",\"Amidation\",\"Amidation\",\"Amidation\",\"Amidation\",\"Amidation\",\"Amidation\",\"Amidation\",\"Amidation\",\"Amidation\",\"Amidation\",\"Amidation\",\"Amidation\",\"Amidation\",\"Amidation\",\"Amidation\",\"Amidation\",\"Amidation\",\"Amidation\",\"Amidation\",\"Amidation\",\"Amidation\",\"Amidation\",\"Amidation\",\"Amidation\",\"Amidation\",\"Amidation\",\"Amidation\",\"Amidation\",\"Amidation\",\"Amidation\",\"Amidation\",\"Amidation\",\"Amidation\",\"Amidation\",\"Amidation\",\"Amide_Schotten-Baumann_with_amine\",\"Amide_Schotten-Baumann_with_amine\",\"Amide_Schotten-Baumann_with_amine\",\"Amide_Schotten-Baumann_with_amine\",\"Amide_Schotten-Baumann_with_amine\",\"Amide_Schotten-Baumann_with_amine\",\"Amide_Schotten-Baumann_with_amine\",\"Amide_Schotten-Baumann_with_amine\",\"Amidation\",\"Amide_Schotten-Baumann_with_amine\",\"Amide_Schotten-Baumann_with_amine\",\"Amide_Schotten-Baumann_with_amine\",\"Amide_Schotten-Baumann_with_amine\",\"Amide_Schotten-Baumann_with_amine\",\"Amide_Schotten-Baumann_with_amine\",\"Amide_Schotten-Baumann_with_amine\",\"Amidation\",\"Amidation\",\"Amidation\",\"Amidation\",\"Amidation\",\"Amidation\",\"Amidation\",\"Amidation\",\"Amidation\",\"Amidation\",\"Amidation\",\"Amidation\",\"Amidation\",\"Amidation\",\"Amidation\",\"Amidation\",\"Amidation\",\"Amidation\",\"Amidation\",\"Amidation\",\"Amidation\",\"Amidation\",\"Amidation\",\"Amidation\",\"Amidation\",\"Amidation\",\"Amidation\",\"Amidation\",\"Amidation\",\"Amidation\",\"Amidation\",\"Amidation\",\"Amidation\",\"Amidation\",\"Amidation\",\"Amidation\",\"Amidation\",\"Amidation\",\"Amidation\",\"Amidation\",\"Amidation\",\"Amidation\",\"Amidation\",\"Amidation\",\"Amidation\",\"Amidation\",\"Amidation\",\"Amidation\",\"Amidation\",\"Amidation\",\"Amidation\",\"Amidation\",\"Amidation\",\"Amidation\",\"Amidation\",\"Amidation\",\"Amidation\",\"Amidation\",\"Amidation\",\"Amidation\",\"Amidation\",\"Amidation\",\"Amidation\",\"Amidation\",\"Amidation\",\"Amidation\",\"Amidation\",\"Amidation\",\"Amidation\",\"Amidation\",\"Amidation\",\"Amidation\",\"Amidation\",\"Amidation\",\"Amidation\",\"Amidation\",\"Amidation\",\"Amidation\",\"Amidation\",\"Amidation\",\"Amidation\",\"Amidation\",\"Amidation\",\"Amidation\",\"Amidation\",\"Amidation\",\"Amidation\",\"Amidation\",\"Amidation\",\"Amidation\",\"Amidation\",\"Amidation\",\"Amidation\",\"Amidation\",\"Amidation\",\"Amidation\",\"Amidation\",\"Amidation\",\"Amidation\",\"Amidation\",\"Amidation\",\"Amidation\",\"Amidation\",\"Amidation\",\"Amidation\",\"Amidation\",\"Amidation\",\"Amidation\",\"Amidation\",\"Amidation\",\"Amidation\",\"Amidation\",\"Amidation\",\"Amidation\",\"Amidation\",\"Amidation\",\"Amidation\",\"Amidation\",\"Amidation\",\"Amidation\",\"Amidation\",\"Amidation\",\"Amidation\",\"Amidation\",\"Amidation\",\"Amidation\",\"Amidation\",\"Amidation\",\"Amidation\",\"Amidation\",\"Amidation\",\"Amidation\",\"Amidation\",\"Amidation\",\"Amidation\",\"Amidation\",\"Amidation\",\"Amidation\",\"Amidation\",\"Amidation\",\"Amidation\",\"Amidation\",\"Amidation\",\"Amidation\",\"Amidation\",\"Amidation\",\"Amidation\",\"Amidation\",\"Amidation\",\"Amidation\",\"Amidation\",\"Amidation\",\"Amidation\",\"Amidation\",\"Amidation\",\"Amidation\",\"Amidation\",\"Amidation\",\"Amidation\",\"Amidation\",\"Amidation\",\"Amidation\",\"Amidation\",\"Amidation\",\"Amidation\",\"Amidation\",\"Amidation\",\"Amidation\",\"Amidation\",\"Amidation\",\"Amidation\",\"Amidation\",\"Amidation\",\"Amidation\",\"Amidation\",\"Amidation\",\"Amidation\",\"Amidation\",\"Amidation\",\"Amidation\",\"Amidation\",\"Amidation\",\"Amidation\",\"Amidation\",\"Amidation\",\"Amidation\",\"Amidation\",\"Amidation\",\"Amidation\",\"Amidation\",\"Amidation\",\"Amidation\",\"Amidation\",\"Amidation\",\"Amidation\",\"Amidation\",\"Amidation\",\"Amidation\",\"Amidation\",\"Amidation\",\"Amidation\",\"Amidation\",\"Amidation\",\"Amidation\",\"Amidation\",\"Amidation\",\"Amidation\",\"Amidation\",\"Amidation\",\"Amidation\",\"Amidation\",\"Amidation\",\"Amidation\",\"Amidation\",\"Amidation\",\"Amidation\",\"Amidation\",\"Amidation\",\"Amidation\",\"Amidation\",\"Amidation\",\"Amidation\",\"Amidation\",\"Amidation\",\"Amidation\",\"Amidation\",\"Amidation\",\"Amidation\",\"Amidation\",\"Amidation\",\"Amidation\",\"Amidation\",\"Amidation\",\"Amidation\",\"Amidation\",\"Amidation\",\"Amidation\",\"Amidation\",\"Amidation\",\"Amidation\",\"Amidation\",\"Amidation\",\"Amidation\",\"Amidation\",\"Amidation\",\"Amidation\",\"Amidation\",\"Amidation\",\"Amidation\",\"Amidation\",\"Amidation\",\"Amidation\",\"Amidation\",\"Amidation\",\"Amidation\",\"Amidation\",\"Amidation\",\"Amidation\",\"Amidation\",\"Amidation\",\"Amidation\",\"Amidation\",\"Amidation\",\"Amidation\",\"Amidation\",\"Amidation\",\"Amidation\",\"Amidation\",\"Amidation\",\"Amidation\",\"Amidation\",\"Amidation\",\"Amidation\",\"Amidation\",\"Amidation\",\"Amidation\",\"Amidation\",\"Amidation\",\"Amidation\",\"Amidation\",\"Amidation\",\"Amidation\",\"Amidation\",\"Amidation\",\"Amidation\",\"Amidation\",\"Amidation\",\"Amidation\",\"Amidation\",\"Amidation\",\"Amidation\",\"Amidation\",\"Amidation\",\"Amidation\",\"Amidation\",\"Amidation\",\"Amidation\",\"Amidation\",\"Amidation\",\"Amidation\",\"Amidation\",\"Amidation\",\"Amidation\",\"Amidation\",\"Amidation\",\"Amidation\",\"Amidation\",\"Amidation\",\"Amidation\",\"Amidation\",\"Amidation\",\"Amidation\",\"Amidation\",\"Amidation\",\"Amidation\",\"Amidation\",\"Amidation\",\"Amidation\",\"Amidation\",\"Amidation\",\"Amidation\",\"Amidation\",\"Amidation\",\"Amidation\",\"Amidation\",\"Amidation\",\"Amidation\",\"Amidation\",\"Amidation\",\"Amidation\",\"Amidation\",\"Amidation\",\"Amidation\",\"Amidation\",\"Amidation\",\"Amidation\",\"Amidation\",\"Amidation\",\"Amidation\",\"Amidation\",\"Amidation\",\"Amidation\",\"Amidation\",\"Amidation\",\"Amidation\",\"Amidation\",\"Amidation\",\"Amidation\",\"Amidation\",\"Amidation\",\"Amidation\",\"Amidation\",\"Amidation\",\"Amidation\",\"Amidation\",\"Amidation\",\"Amidation\",\"Amidation\",\"Amidation\",\"Amidation\",\"Amidation\",\"Amidation\",\"Amidation\",\"Amidation\",\"Amidation\",\"Amidation\",\"Amidation\",\"Amidation\",\"Amidation\",\"Amidation\",\"Amidation\",\"Amidation\",\"Amidation\",\"Amidation\",\"Amidation\",\"Amidation\",\"Amidation\",\"Amidation\",\"Amidation\",\"Amidation\",\"Amidation\",\"Amidation\",\"Amidation\",\"Amidation\",\"Amidation\",\"Amidation\",\"Amidation\",\"Amidation\",\"Amidation\",\"Amidation\",\"Amidation\",\"Amidation\",\"Amidation\",\"Amidation\",\"Amidation\",\"Amidation\",\"Amidation\",\"Amidation\",\"Amidation\",\"Amidation\",\"Amidation\",\"Amidation\",\"Amidation\",\"Amidation\",\"Amidation\",\"Amidation\",\"Amidation\",\"Amidation\",\"Amidation\",\"Amidation\",\"Amidation\",\"Amidation\",\"Amidation\",\"Amidation\",\"Amidation\",\"Amidation\",\"Amidation\",\"Amidation\",\"Amidation\",\"Amidation\",\"Amidation\",\"Amidation\",\"Amidation\",\"Amidation\",\"Amidation\",\"Amidation\",\"Amidation\",\"Amidation\",\"Amidation\",\"Amidation\",\"Amidation\",\"Amidation\",\"Amidation\",\"Amidation\",\"Amidation\",\"Amidation\",\"Amidation\",\"Amidation\",\"Amidation\",\"Amidation\",\"Amidation\",\"Amidation\",\"Amidation\",\"Amidation\",\"Amidation\",\"Amidation\",\"Amidation\",\"Amidation\",\"Amidation\",\"Amidation\",\"Amidation\",\"Amidation\",\"Amidation\",\"Amidation\",\"Amidation\",\"Amidation\",\"Amidation\",\"Amidation\",\"Amidation\",\"Amidation\",\"Amidation\",\"Amidation\",\"Amidation\",\"Amidation\",\"Amidation\",\"Amidation\",\"Amidation\",\"Amidation\",\"Amidation\",\"Amidation\",\"Amidation\",\"Amidation\",\"Amidation\",\"Amidation\",\"Amidation\",\"Amidation\",\"Amidation\",\"Amidation\",\"Amidation\",\"Amidation\",\"Amidation\",\"Amidation\",\"Amidation\",\"Amidation\",\"Amidation\",\"Amidation\",\"Amidation\",\"Amidation\",\"Amidation\",\"Amidation\",\"Amidation\",\"Amidation\",\"Amidation\",\"Amidation\",\"Amidation\",\"Amidation\",\"Amidation\",\"Amidation\",\"Amidation\",\"Amidation\",\"Amidation\",\"Amidation\",\"Amidation\",\"Amidation\",\"Amidation\",\"Amidation\",\"Amidation\",\"Amidation\",\"Amidation\",\"Amidation\",\"Amidation\",\"Amidation\",\"Amidation\",\"Amidation\",\"Amidation\",\"Amidation\",\"Amidation\",\"Amidation\",\"Amidation\",\"Amidation\",\"Amidation\",\"Amidation\",\"Amidation\",\"Amidation\",\"Amidation\",\"Amidation\",\"Amidation\",\"Amidation\",\"Amidation\",\"Amidation\",\"Amidation\",\"Amidation\",\"Amidation\",\"Amidation\",\"Amidation\",\"Amidation\",\"Amidation\",\"Amidation\",\"Amidation\",\"Amidation\",\"Amidation\",\"Amidation\",\"Amidation\",\"Amidation\",\"Amidation\",\"Amidation\",\"Amidation\",\"Amidation\",\"Amidation\",\"Amidation\",\"Amidation\",\"Amidation\",\"Amidation\",\"Amidation\",\"Amidation\",\"Amidation\",\"Amidation\",\"Amidation\",\"Amidation\",\"Amidation\",\"Amidation\",\"Amidation\",\"Amidation\",\"Amidation\",\"Amidation\",\"Amidation\",\"Amidation\",\"Amidation\",\"Amidation\",\"Amidation\",\"Amidation\",\"Amidation\",\"Amidation\",\"Amidation\",\"Amidation\",\"Amidation\",\"Amidation\",\"Amidation\",\"Amidation\",\"Amidation\",\"Amidation\",\"Amidation\",\"Amidation\",\"Amidation\",\"Amidation\",\"Amidation\",\"Amidation\",\"Amidation\",\"Amidation\",\"Amidation\",\"Amidation\",\"Amidation\",\"Amidation\",\"Amidation\",\"Amidation\",\"Amidation\",\"Amidation\",\"Amidation\",\"Amidation\",\"Amidation\",\"Amidation\",\"Amidation\",\"Amidation\",\"Amidation\",\"Amidation\",\"Amidation\",\"Amidation\",\"Amidation\",\"Amidation\",\"Amidation\",\"Amidation\",\"Amidation\",\"Amidation\",\"Amidation\",\"Amidation\",\"Amidation\",\"Amidation\",\"Amide_Schotten-Baumann_with_amine\",\"Amide_Schotten-Baumann_with_amine\",\"Amide_Schotten-Baumann_with_amine\",\"Amide_Schotten-Baumann_with_amine\",\"Amide_Schotten-Baumann_with_amine\",\"Amide_Schotten-Baumann_with_amine\",\"Amide_Schotten-Baumann_with_amine\",\"Amide_Schotten-Baumann_with_amine\",\"Amide_Schotten-Baumann_with_amine\",\"Amide_Schotten-Baumann_with_amine\",\"Amide_Schotten-Baumann_with_amine\",\"Amide_Schotten-Baumann_with_amine\",\"Amide_Schotten-Baumann_with_amine\",\"Amide_Schotten-Baumann_with_amine\",\"Amide_Schotten-Baumann_with_amine\",\"Amide_Schotten-Baumann_with_amine\",\"Amide_Schotten-Baumann_with_amine\",\"Amide_Schotten-Baumann_with_amine\",\"Amide_Schotten-Baumann_with_amine\",\"Amide_Schotten-Baumann_with_amine\",\"Amide_Schotten-Baumann_with_amine\",\"Amide_Schotten-Baumann_with_amine\",\"Amide_Schotten-Baumann_with_amine\",\"Amide_Schotten-Baumann_with_amine\",\"Amide_Schotten-Baumann_with_amine\",\"Amide_Schotten-Baumann_with_amine\",\"Amide_Schotten-Baumann_with_amine\",\"Amide_Schotten-Baumann_with_amine\",\"Amide_Schotten-Baumann_with_amine\",\"Amide_Schotten-Baumann_with_amine\",\"Amide_Schotten-Baumann_with_amine\",\"Amide_Schotten-Baumann_with_amine\",\"Amide_Schotten-Baumann_with_amine\",\"Amide_Schotten-Baumann_with_amine\",\"Amide_Schotten-Baumann_with_amine\",\"Amide_Schotten-Baumann_with_amine\",\"Amide_Schotten-Baumann_with_amine\",\"Amide_Schotten-Baumann_with_amine\",\"Amide_Schotten-Baumann_with_amine\",\"Amide_Schotten-Baumann_with_amine\",\"Amide_Schotten-Baumann_with_amine\",\"Amide_Schotten-Baumann_with_amine\",\"Amide_Schotten-Baumann_with_amine\",\"Amide_Schotten-Baumann_with_amine\",\"Amide_Schotten-Baumann_with_amine\",\"Amide_Schotten-Baumann_with_amine\",\"Amide_Schotten-Baumann_with_amine\",\"Amide_Schotten-Baumann_with_amine\",\"Amide_Schotten-Baumann_with_amine\",\"Amide_Schotten-Baumann_with_amine\",\"Amide_Schotten-Baumann_with_amine\",\"Amide_Schotten-Baumann_with_amine\",\"Amide_Schotten-Baumann_with_amine\",\"Amide_Schotten-Baumann_with_amine\",\"Amide_Schotten-Baumann_with_amine\",\"Amide_Schotten-Baumann_with_amine\",\"Amide_Schotten-Baumann_with_amine\",\"Amide_Schotten-Baumann_with_amine\",\"Amide_Schotten-Baumann_with_amine\",\"Amide_Schotten-Baumann_with_amine\",\"Amide_Schotten-Baumann_with_amine\",\"Amide_Schotten-Baumann_with_amine\",\"Amide_Schotten-Baumann_with_amine\",\"Amide_Schotten-Baumann_with_amine\",\"Amide_Schotten-Baumann_with_amine\",\"Amide_Schotten-Baumann_with_amine\",\"Amide_Schotten-Baumann_with_amine\",\"Amide_Schotten-Baumann_with_amine\",\"Amide_Schotten-Baumann_with_amine\",\"Amide_Schotten-Baumann_with_amine\",\"Amide_Schotten-Baumann_with_amine\",\"Amide_Schotten-Baumann_with_amine\",\"Amide_Schotten-Baumann_with_amine\",\"Amide_Schotten-Baumann_with_amine\",\"Amide_Schotten-Baumann_with_amine\",\"Amide_Schotten-Baumann_with_amine\",\"Amide_Schotten-Baumann_with_amine\",\"Amide_Schotten-Baumann_with_amine\",\"Amide_Schotten-Baumann_with_amine\",\"Amide_Schotten-Baumann_with_amine\",\"Amide_Schotten-Baumann_with_amine\",\"Amide_Schotten-Baumann_with_amine\",\"Amide_Schotten-Baumann_with_amine\",\"Amide_Schotten-Baumann_with_amine\",\"Amide_Schotten-Baumann_with_amine\",\"Amide_Schotten-Baumann_with_amine\",\"Amide_Schotten-Baumann_with_amine\",\"Amide_Schotten-Baumann_with_amine\",\"Amide_Schotten-Baumann_with_amine\",\"Amide_Schotten-Baumann_with_amine\",\"Amide_Schotten-Baumann_with_amine\",\"Amide_Schotten-Baumann_with_amine\",\"Amide_Schotten-Baumann_with_amine\",\"Amide_Schotten-Baumann_with_amine\",\"Amide_Schotten-Baumann_with_amine\",\"Amide_Schotten-Baumann_with_amine\",\"Amide_Schotten-Baumann_with_amine\",\"Amide_Schotten-Baumann_with_amine\",\"Amide_Schotten-Baumann_with_amine\",\"Amide_Schotten-Baumann_with_amine\",\"Amide_Schotten-Baumann_with_amine\",\"Amide_Schotten-Baumann_with_amine\",\"Amide_Schotten-Baumann_with_amine\",\"Amide_Schotten-Baumann_with_amine\",\"Amide_Schotten-Baumann_with_amine\",\"Amide_Schotten-Baumann_with_amine\",\"Amide_Schotten-Baumann_with_amine\",\"Amide_Schotten-Baumann_with_amine\",\"Amide_Schotten-Baumann_with_amine\",\"Amide_Schotten-Baumann_with_amine\",\"Amide_Schotten-Baumann_with_amine\",\"Amide_Schotten-Baumann_with_amine\",\"Amide_Schotten-Baumann_with_amine\",\"Amide_Schotten-Baumann_with_amine\",\"Amide_Schotten-Baumann_with_amine\",\"Amide_Schotten-Baumann_with_amine\",\"Amide_Schotten-Baumann_with_amine\",\"Amide_Schotten-Baumann_with_amine\",\"Amide_Schotten-Baumann_with_amine\",\"Amide_Schotten-Baumann_with_amine\",\"Amide_Schotten-Baumann_with_amine\",\"Amide_Schotten-Baumann_with_amine\",\"Amide_Schotten-Baumann_with_amine\",\"Amide_Schotten-Baumann_with_amine\",\"Amide_Schotten-Baumann_with_amine\",\"Amide_Schotten-Baumann_with_amine\",\"Amide_Schotten-Baumann_with_amine\",\"Amide_Schotten-Baumann_with_amine\",\"Amide_Schotten-Baumann_with_amine\",\"Amide_Schotten-Baumann_with_amine\",\"Amide_Schotten-Baumann_with_amine\",\"Amide_Schotten-Baumann_with_amine\",\"Amide_Schotten-Baumann_with_amine\",\"Amide_Schotten-Baumann_with_amine\",\"Amide_Schotten-Baumann_with_amine\",\"Amide_Schotten-Baumann_with_amine\",\"Amide_Schotten-Baumann_with_amine\",\"Amide_Schotten-Baumann_with_amine\",\"Amide_Schotten-Baumann_with_amine\",\"Amide_Schotten-Baumann_with_amine\",\"Amide_Schotten-Baumann_with_amine\",\"Amide_Schotten-Baumann_with_amine\",\"Amide_Schotten-Baumann_with_amine\",\"Amide_Schotten-Baumann_with_amine\",\"Amide_Schotten-Baumann_with_amine\",\"Amide_Schotten-Baumann_with_amine\",\"Amide_Schotten-Baumann_with_amine\",\"Amide_Schotten-Baumann_with_amine\",\"Amide_Schotten-Baumann_with_amine\",\"Amide_Schotten-Baumann_with_amine\",\"Amide_Schotten-Baumann_with_amine\",\"Amide_Schotten-Baumann_with_amine\",\"Amide_Schotten-Baumann_with_amine\",\"Amide_Schotten-Baumann_with_amine\",\"Amide_Schotten-Baumann_with_amine\",\"Amide_Schotten-Baumann_with_amine\",\"Amide_Schotten-Baumann_with_amine\",\"Amide_Schotten-Baumann_with_amine\",\"Amide_Schotten-Baumann_with_amine\",\"Amide_Schotten-Baumann_with_amine\",\"Amide_Schotten-Baumann_with_amine\",\"Amide_Schotten-Baumann_with_amine\",\"Amide_Schotten-Baumann_with_amine\",\"Amide_Schotten-Baumann_with_amine\",\"Amide_Schotten-Baumann_with_amine\",\"Amide_Schotten-Baumann_with_amine\",\"Amide_Schotten-Baumann_with_amine\",\"Amide_Schotten-Baumann_with_amine\",\"Amide_Schotten-Baumann_with_amine\",\"Amide_Schotten-Baumann_with_amine\",\"Amide_Schotten-Baumann_with_amine\",\"Amide_Schotten-Baumann_with_amine\",\"Amide_Schotten-Baumann_with_amine\",\"Amide_Schotten-Baumann_with_amine\",\"Amide_Schotten-Baumann_with_amine\",\"Amide_Schotten-Baumann_with_amine\",\"Amide_Schotten-Baumann_with_amine\",\"Amide_Schotten-Baumann_with_amine\",\"Amide_Schotten-Baumann_with_amine\",\"Amide_Schotten-Baumann_with_amine\",\"Amide_Schotten-Baumann_with_amine\",\"Amide_Schotten-Baumann_with_amine\",\"Amide_Schotten-Baumann_with_amine\",\"Amide_Schotten-Baumann_with_amine\",\"Amide_Schotten-Baumann_with_amine\",\"Amide_Schotten-Baumann_with_amine\",\"Amide_Schotten-Baumann_with_amine\",\"Amide_Schotten-Baumann_with_amine\",\"Amide_Schotten-Baumann_with_amine\",\"Amide_Schotten-Baumann_with_amine\",\"Amide_Schotten-Baumann_with_amine\",\"Amide_Schotten-Baumann_with_amine\",\"Amide_Schotten-Baumann_with_amine\",\"Amide_Schotten-Baumann_with_amine\",\"Amide_Schotten-Baumann_with_amine\",\"Amide_Schotten-Baumann_with_amine\",\"Amide_Schotten-Baumann_with_amine\",\"Amide_Schotten-Baumann_with_amine\",\"Amide_Schotten-Baumann_with_amine\",\"Amide_Schotten-Baumann_with_amine\",\"Amide_Schotten-Baumann_with_amine\",\"Amide_Schotten-Baumann_with_amine\",\"Amide_Schotten-Baumann_with_amine\",\"Amide_Schotten-Baumann_with_amine\",\"Amide_Schotten-Baumann_with_amine\",\"Amide_Schotten-Baumann_with_amine\",\"Amide_Schotten-Baumann_with_amine\",\"Amide_Schotten-Baumann_with_amine\",\"Amide_Schotten-Baumann_with_amine\",\"Amide_Schotten-Baumann_with_amine\",\"Amide_Schotten-Baumann_with_amine\",\"Amide_Schotten-Baumann_with_amine\",\"Amide_Schotten-Baumann_with_amine\",\"Amide_Schotten-Baumann_with_amine\",\"Amide_Schotten-Baumann_with_amine\",\"Amide_Schotten-Baumann_with_amine\",\"Amide_Schotten-Baumann_with_amine\",\"Amide_Schotten-Baumann_with_amine\",\"Amide_Schotten-Baumann_with_amine\",\"Amide_Schotten-Baumann_with_amine\",\"Amide_Schotten-Baumann_with_amine\",\"Amide_Schotten-Baumann_with_amine\",\"Amide_Schotten-Baumann_with_amine\",\"Amide_Schotten-Baumann_with_amine\",\"Amide_Schotten-Baumann_with_amine\",\"Amide_Schotten-Baumann_with_amine\",\"Amide_Schotten-Baumann_with_amine\",\"Amide_Schotten-Baumann_with_amine\",\"Amide_Schotten-Baumann_with_amine\",\"Amide_Schotten-Baumann_with_amine\",\"Amide_Schotten-Baumann_with_amine\",\"Amide_Schotten-Baumann_with_amine\",\"Amide_Schotten-Baumann_with_amine\",\"Amide_Schotten-Baumann_with_amine\",\"Amide_Schotten-Baumann_with_amine\",\"Amide_Schotten-Baumann_with_amine\",\"Amide_Schotten-Baumann_with_amine\",\"Amide_Schotten-Baumann_with_amine\",\"Amide_Schotten-Baumann_with_amine\",\"Amide_Schotten-Baumann_with_amine\",\"Amide_Schotten-Baumann_with_amine\",\"Amide_Schotten-Baumann_with_amine\",\"Amide_Schotten-Baumann_with_amine\",\"Amide_Schotten-Baumann_with_amine\",\"Amide_Schotten-Baumann_with_amine\",\"Amide_Schotten-Baumann_with_amine\",\"Amide_Schotten-Baumann_with_amine\",\"Amide_Schotten-Baumann_with_amine\",\"Amide_Schotten-Baumann_with_amine\",\"Amide_Schotten-Baumann_with_amine\",\"Amide_Schotten-Baumann_with_amine\",\"Amide_Schotten-Baumann_with_amine\",\"Amide_Schotten-Baumann_with_amine\",\"Amide_Schotten-Baumann_with_amine\",\"Amide_Schotten-Baumann_with_amine\",\"Amide_Schotten-Baumann_with_amine\",\"Amide_Schotten-Baumann_with_amine\",\"Amide_Schotten-Baumann_with_amine\",\"Amide_Schotten-Baumann_with_amine\",\"Amide_Schotten-Baumann_with_amine\",\"Amide_Schotten-Baumann_with_amine\",\"Amide_Schotten-Baumann_with_amine\",\"Amide_Schotten-Baumann_with_amine\",\"Amide_Schotten-Baumann_with_amine\",\"Amide_Schotten-Baumann_with_amine\",\"Amide_Schotten-Baumann_with_amine\",\"Amide_Schotten-Baumann_with_amine\",\"Amide_Schotten-Baumann_with_amine\",\"Amide_Schotten-Baumann_with_amine\",\"Amide_Schotten-Baumann_with_amine\",\"Amide_Schotten-Baumann_with_amine\",\"Amide_Schotten-Baumann_with_amine\",\"Amide_Schotten-Baumann_with_amine\",\"Amide_Schotten-Baumann_with_amine\",\"Amide_Schotten-Baumann_with_amine\",\"Amide_Schotten-Baumann_with_amine\",\"Amide_Schotten-Baumann_with_amine\",\"Amide_Schotten-Baumann_with_amine\",\"Amide_Schotten-Baumann_with_amine\",\"Amide_Schotten-Baumann_with_amine\",\"Amide_Schotten-Baumann_with_amine\",\"Amide_Schotten-Baumann_with_amine\",\"Amide_Schotten-Baumann_with_amine\",\"Amide_Schotten-Baumann_with_amine\",\"Amide_Schotten-Baumann_with_amine\",\"Amide_Schotten-Baumann_with_amine\",\"Amide_Schotten-Baumann_with_amine\",\"Amide_Schotten-Baumann_with_amine\",\"Amide_Schotten-Baumann_with_amine\",\"Amide_Schotten-Baumann_with_amine\",\"Amide_Schotten-Baumann_with_amine\",\"Amide_Schotten-Baumann_with_amine\",\"Amide_Schotten-Baumann_with_amine\",\"Amide_Schotten-Baumann_with_amine\",\"Amide_Schotten-Baumann_with_amine\",\"Amide_Schotten-Baumann_with_amine\",\"Amide_Schotten-Baumann_with_amine\",\"Amide_Schotten-Baumann_with_amine\",\"Amide_Schotten-Baumann_with_amine\",\"Amide_Schotten-Baumann_with_amine\",\"Amide_Schotten-Baumann_with_amine\",\"Amide_Schotten-Baumann_with_amine\",\"Amide_Schotten-Baumann_with_amine\",\"Amide_Schotten-Baumann_with_amine\",\"Amide_Schotten-Baumann_with_amine\",\"Amide_Schotten-Baumann_with_amine\",\"Amide_Schotten-Baumann_with_amine\",\"Amide_Schotten-Baumann_with_amine\",\"Amide_Schotten-Baumann_with_amine\",\"Amide_Schotten-Baumann_with_amine\",\"Amide_Schotten-Baumann_with_amine\",\"Amide_Schotten-Baumann_with_amine\",\"Amide_Schotten-Baumann_with_amine\",\"Amide_Schotten-Baumann_with_amine\",\"Amide_Schotten-Baumann_with_amine\",\"Amide_Schotten-Baumann_with_amine\",\"Amide_Schotten-Baumann_with_amine\",\"Amide_Schotten-Baumann_with_amine\",\"Amide_Schotten-Baumann_with_amine\",\"Amide_Schotten-Baumann_with_amine\",\"Amide_Schotten-Baumann_with_amine\",\"Amide_Schotten-Baumann_with_amine\",\"Amide_Schotten-Baumann_with_amine\",\"Amide_Schotten-Baumann_with_amine\",\"Amide_Schotten-Baumann_with_amine\",\"Amide_Schotten-Baumann_with_amine\",\"Amide_Schotten-Baumann_with_amine\",\"Amide_Schotten-Baumann_with_amine\",\"Amide_Schotten-Baumann_with_amine\",\"Amide_Schotten-Baumann_with_amine\",\"Amide_Schotten-Baumann_with_amine\",\"Amide_Schotten-Baumann_with_amine\",\"Amide_Schotten-Baumann_with_amine\",\"Amide_Schotten-Baumann_with_amine\",\"Amide_Schotten-Baumann_with_amine\",\"Amide_Schotten-Baumann_with_amine\",\"Amide_Schotten-Baumann_with_amine\",\"Amide_Schotten-Baumann_with_amine\",\"Amide_Schotten-Baumann_with_amine\",\"Amide_Schotten-Baumann_with_amine\",\"Amide_Schotten-Baumann_with_amine\",\"Amide_Schotten-Baumann_with_amine\",\"Amide_Schotten-Baumann_with_amine\",\"Amide_Schotten-Baumann_with_amine\",\"Amide_Schotten-Baumann_with_amine\",\"Amide_Schotten-Baumann_with_amine\",\"Amide_Schotten-Baumann_with_amine\",\"Amide_Schotten-Baumann_with_amine\",\"Amide_Schotten-Baumann_with_amine\",\"Amide_Schotten-Baumann_with_amine\",\"Amide_Schotten-Baumann_with_amine\",\"Amide_Schotten-Baumann_with_amine\",\"Amide_Schotten-Baumann_with_amine\",\"Amide_Schotten-Baumann_with_amine\",\"Amide_Schotten-Baumann_with_amine\",\"Amide_Schotten-Baumann_with_amine\",\"Amide_Schotten-Baumann_with_amine\",\"Amide_Schotten-Baumann_with_amine\",\"Amide_Schotten-Baumann_with_amine\",\"Amide_Schotten-Baumann_with_amine\",\"Amide_Schotten-Baumann_with_amine\",\"Amide_Schotten-Baumann_with_amine\",\"Amide_Schotten-Baumann_with_amine\",\"Amide_Schotten-Baumann_with_amine\",\"Amide_Schotten-Baumann_with_amine\",\"Amide_Schotten-Baumann_with_amine\",\"Amide_Schotten-Baumann_with_amine\",\"Amide_Schotten-Baumann_with_amine\",\"Amide_Schotten-Baumann_with_amine\",\"Amide_Schotten-Baumann_with_amine\",\"Amide_Schotten-Baumann_with_amine\",\"Amide_Schotten-Baumann_with_amine\",\"Amide_Schotten-Baumann_with_amine\",\"Amide_Schotten-Baumann_with_amine\",\"Amide_Schotten-Baumann_with_amine\",\"Amide_Schotten-Baumann_with_amine\",\"Amide_Schotten-Baumann_with_amine\",\"Amide_Schotten-Baumann_with_amine\",\"Amide_Schotten-Baumann_with_amine\",\"Amide_Schotten-Baumann_with_amine\",\"Amide_Schotten-Baumann_with_amine\",\"Amide_Schotten-Baumann_with_amine\",\"Amide_Schotten-Baumann_with_amine\",\"Amide_Schotten-Baumann_with_amine\",\"Amide_Schotten-Baumann_with_amine\",\"Amide_Schotten-Baumann_with_amine\",\"Amide_Schotten-Baumann_with_amine\",\"Amide_Schotten-Baumann_with_amine\",\"Amide_Schotten-Baumann_with_amine\",\"Amide_Schotten-Baumann_with_amine\",\"Amide_Schotten-Baumann_with_amine\",\"Amide_Schotten-Baumann_with_amine\",\"Amide_Schotten-Baumann_with_amine\",\"Amide_Schotten-Baumann_with_amine\",\"Amide_Schotten-Baumann_with_amine\",\"Amide_Schotten-Baumann_with_amine\",\"Amide_Schotten-Baumann_with_amine\",\"Amide_Schotten-Baumann_with_amine\",\"Amide_Schotten-Baumann_with_amine\",\"Amide_Schotten-Baumann_with_amine\",\"Amide_Schotten-Baumann_with_amine\",\"Amide_Schotten-Baumann_with_amine\",\"Amide_Schotten-Baumann_with_amine\",\"Amidation\",\"Amidation\",\"Amidation\",\"Amidation\",\"Amidation\",\"Amidation\",\"Amidation\",\"Amidation\",\"Amidation\",\"Amidation\",\"Amidation\",\"Amidation\",\"Amidation\",\"Amidation\",\"Amidation\",\"Amidation\",\"Amidation\",\"Amidation\",\"Amide_Schotten-Baumann_with_amine\",\"Amide_Schotten-Baumann_with_amine\",\"Amide_Schotten-Baumann_with_amine\",\"Amide_Schotten-Baumann_with_amine\",\"Amide_Schotten-Baumann_with_amine\",\"Amide_Schotten-Baumann_with_amine\",\"Amide_Schotten-Baumann_with_amine\",\"Amidation\",\"Amidation\",\"Amidation\",\"Amidation\",\"Amidation\",\"Amidation\",\"Amidation\",\"Amidation\",\"Amidation\",\"Amidation\",\"Amidation\",\"Amidation\",\"Amidation\",\"Amidation\",\"Amidation\",\"Amidation\",\"Amidation\",\"Amidation\",\"Amidation\",\"Amidation\",\"Amidation\",\"Amidation\",\"Amidation\",\"Amidation\",\"Amidation\",\"Amidation\",\"Amidation\",\"Amidation\",\"Amidation\",\"Amidation\",\"Amidation\",\"Amidation\",\"Amidation\",\"Amidation\",\"Amidation\",\"Amidation\",\"Amidation\",\"Amidation\",\"Amidation\",\"Amidation\",\"Amidation\",\"Amidation\",\"Amidation\",\"Amidation\",\"Amidation\",\"Amidation\",\"Amidation\",\"Amidation\",\"Amidation\",\"Amidation\",\"Amidation\",\"Amidation\",\"Amidation\",\"Amidation\",\"Amidation\",\"Amidation\",\"Amidation\",\"Amidation\",\"Amidation\",\"Amidation\",\"Amidation\",\"Amidation\",\"Amidation\",\"Amidation\",\"Amidation\",\"Amidation\",\"Amidation\",\"Amidation\",\"Amidation\",\"Amidation\",\"Amidation\",\"Amidation\",\"Amidation\",\"Amidation\",\"Amidation\",\"Amidation\",\"Amidation\",\"Amidation\",\"Amidation\",\"Amidation\",\"Amidation\",\"Amidation\",\"Amidation\",\"Amidation\",\"Amidation\",\"Amidation\",\"Amidation\",\"Amidation\",\"Amidation\",\"Amidation\",\"Amidation\",\"Amidation\",\"Amidation\",\"Amidation\",\"Amidation\",\"Amidation\",\"Amidation\",\"Amidation\",\"Amidation\",\"Amidation\",\"Amidation\",\"Amidation\",\"Amidation\",\"Amidation\",\"Amidation\",\"Amidation\",\"Amidation\",\"Amidation\",\"Amidation\",\"Amidation\",\"Amidation\",\"Amidation\",\"Amidation\",\"Amidation\",\"Amidation\",\"Amidation\",\"Amidation\",\"Amidation\",\"Amidation\",\"Amidation\",\"Amidation\",\"Amidation\",\"Amidation\",\"Amidation\",\"Amidation\",\"Amidation\",\"Amidation\",\"Amidation\",\"Amidation\",\"Amidation\",\"Amidation\",\"Amidation\",\"Amidation\",\"Amidation\",\"Amidation\",\"Amidation\",\"Amidation\",\"Amidation\",\"Amidation\",\"Amide_Schotten-Baumann_with_amine\",\"Amide_Schotten-Baumann_with_amine\",\"Amide_Schotten-Baumann_with_amine\",\"Amide_Schotten-Baumann_with_amine\",\"Amide_Schotten-Baumann_with_amine\",\"Amide_Schotten-Baumann_with_amine\",\"Amide_Schotten-Baumann_with_amine\",\"Amide_Schotten-Baumann_with_amine\",\"Amide_Schotten-Baumann_with_amine\",\"Amidation\",\"Amidation\",\"Amidation\",\"Amidation\",\"Amidation\",\"Amidation\",\"Amidation\",\"Amidation\",\"Amidation\",\"Amidation\",\"Amidation\",\"Amidation\",\"Amidation\",\"Amidation\",\"Amidation\",\"Amidation\",\"Amidation\",\"Amidation\",\"Amidation\",\"Amidation\",\"Amidation\",\"Amidation\",\"Amidation\",\"Amidation\",\"Amidation\",\"Amidation\",\"Amidation\",\"Amidation\",\"Amidation\",\"Amidation\",\"Amidation\",\"Amidation\",\"Amidation\",\"Amidation\",\"Amidation\",\"Amidation\",\"Amidation\",\"Amidation\",\"Amidation\",\"Amidation\",\"Amidation\",\"Amidation\",\"Amidation\",\"Amidation\",\"Amidation\",\"Amidation\",\"Amidation\",\"Amidation\",\"Amidation\",\"Amidation\",\"Amidation\",\"Amidation\",\"Amidation\",\"Amidation\",\"Amidation\",\"Amidation\",\"Amidation\",\"Amidation\",\"Amidation\",\"Amidation\",\"Amidation\",\"Amidation\",\"Amidation\",\"Amidation\",\"Amidation\",\"Amidation\",\"Amidation\",\"Amidation\",\"Amidation\",\"Amidation\",\"Amidation\",\"Amidation\",\"Amidation\",\"Amidation\",\"Amidation\",\"Amidation\",\"Amidation\",\"Amidation\",\"Amidation\",\"Amidation\",\"Amidation\",\"Amidation\",\"Amidation\",\"Amidation\",\"Amidation\",\"Amidation\",\"Amidation\",\"Amidation\",\"Amidation\",\"Amidation\",\"Amidation\",\"Amidation\",\"Amidation\",\"Amidation\",\"Amidation\",\"Amidation\",\"Amidation\",\"Amidation\"],\"xaxis\":\"x\",\"yaxis\":\"y\",\"type\":\"histogram\"}],                        {\"template\":{\"data\":{\"histogram2dcontour\":[{\"type\":\"histogram2dcontour\",\"colorbar\":{\"outlinewidth\":0,\"ticks\":\"\"},\"colorscale\":[[0.0,\"#0d0887\"],[0.1111111111111111,\"#46039f\"],[0.2222222222222222,\"#7201a8\"],[0.3333333333333333,\"#9c179e\"],[0.4444444444444444,\"#bd3786\"],[0.5555555555555556,\"#d8576b\"],[0.6666666666666666,\"#ed7953\"],[0.7777777777777778,\"#fb9f3a\"],[0.8888888888888888,\"#fdca26\"],[1.0,\"#f0f921\"]]}],\"choropleth\":[{\"type\":\"choropleth\",\"colorbar\":{\"outlinewidth\":0,\"ticks\":\"\"}}],\"histogram2d\":[{\"type\":\"histogram2d\",\"colorbar\":{\"outlinewidth\":0,\"ticks\":\"\"},\"colorscale\":[[0.0,\"#0d0887\"],[0.1111111111111111,\"#46039f\"],[0.2222222222222222,\"#7201a8\"],[0.3333333333333333,\"#9c179e\"],[0.4444444444444444,\"#bd3786\"],[0.5555555555555556,\"#d8576b\"],[0.6666666666666666,\"#ed7953\"],[0.7777777777777778,\"#fb9f3a\"],[0.8888888888888888,\"#fdca26\"],[1.0,\"#f0f921\"]]}],\"heatmap\":[{\"type\":\"heatmap\",\"colorbar\":{\"outlinewidth\":0,\"ticks\":\"\"},\"colorscale\":[[0.0,\"#0d0887\"],[0.1111111111111111,\"#46039f\"],[0.2222222222222222,\"#7201a8\"],[0.3333333333333333,\"#9c179e\"],[0.4444444444444444,\"#bd3786\"],[0.5555555555555556,\"#d8576b\"],[0.6666666666666666,\"#ed7953\"],[0.7777777777777778,\"#fb9f3a\"],[0.8888888888888888,\"#fdca26\"],[1.0,\"#f0f921\"]]}],\"heatmapgl\":[{\"type\":\"heatmapgl\",\"colorbar\":{\"outlinewidth\":0,\"ticks\":\"\"},\"colorscale\":[[0.0,\"#0d0887\"],[0.1111111111111111,\"#46039f\"],[0.2222222222222222,\"#7201a8\"],[0.3333333333333333,\"#9c179e\"],[0.4444444444444444,\"#bd3786\"],[0.5555555555555556,\"#d8576b\"],[0.6666666666666666,\"#ed7953\"],[0.7777777777777778,\"#fb9f3a\"],[0.8888888888888888,\"#fdca26\"],[1.0,\"#f0f921\"]]}],\"contourcarpet\":[{\"type\":\"contourcarpet\",\"colorbar\":{\"outlinewidth\":0,\"ticks\":\"\"}}],\"contour\":[{\"type\":\"contour\",\"colorbar\":{\"outlinewidth\":0,\"ticks\":\"\"},\"colorscale\":[[0.0,\"#0d0887\"],[0.1111111111111111,\"#46039f\"],[0.2222222222222222,\"#7201a8\"],[0.3333333333333333,\"#9c179e\"],[0.4444444444444444,\"#bd3786\"],[0.5555555555555556,\"#d8576b\"],[0.6666666666666666,\"#ed7953\"],[0.7777777777777778,\"#fb9f3a\"],[0.8888888888888888,\"#fdca26\"],[1.0,\"#f0f921\"]]}],\"surface\":[{\"type\":\"surface\",\"colorbar\":{\"outlinewidth\":0,\"ticks\":\"\"},\"colorscale\":[[0.0,\"#0d0887\"],[0.1111111111111111,\"#46039f\"],[0.2222222222222222,\"#7201a8\"],[0.3333333333333333,\"#9c179e\"],[0.4444444444444444,\"#bd3786\"],[0.5555555555555556,\"#d8576b\"],[0.6666666666666666,\"#ed7953\"],[0.7777777777777778,\"#fb9f3a\"],[0.8888888888888888,\"#fdca26\"],[1.0,\"#f0f921\"]]}],\"mesh3d\":[{\"type\":\"mesh3d\",\"colorbar\":{\"outlinewidth\":0,\"ticks\":\"\"}}],\"scatter\":[{\"fillpattern\":{\"fillmode\":\"overlay\",\"size\":10,\"solidity\":0.2},\"type\":\"scatter\"}],\"parcoords\":[{\"type\":\"parcoords\",\"line\":{\"colorbar\":{\"outlinewidth\":0,\"ticks\":\"\"}}}],\"scatterpolargl\":[{\"type\":\"scatterpolargl\",\"marker\":{\"colorbar\":{\"outlinewidth\":0,\"ticks\":\"\"}}}],\"bar\":[{\"error_x\":{\"color\":\"#2a3f5f\"},\"error_y\":{\"color\":\"#2a3f5f\"},\"marker\":{\"line\":{\"color\":\"#E5ECF6\",\"width\":0.5},\"pattern\":{\"fillmode\":\"overlay\",\"size\":10,\"solidity\":0.2}},\"type\":\"bar\"}],\"scattergeo\":[{\"type\":\"scattergeo\",\"marker\":{\"colorbar\":{\"outlinewidth\":0,\"ticks\":\"\"}}}],\"scatterpolar\":[{\"type\":\"scatterpolar\",\"marker\":{\"colorbar\":{\"outlinewidth\":0,\"ticks\":\"\"}}}],\"histogram\":[{\"marker\":{\"pattern\":{\"fillmode\":\"overlay\",\"size\":10,\"solidity\":0.2}},\"type\":\"histogram\"}],\"scattergl\":[{\"type\":\"scattergl\",\"marker\":{\"colorbar\":{\"outlinewidth\":0,\"ticks\":\"\"}}}],\"scatter3d\":[{\"type\":\"scatter3d\",\"line\":{\"colorbar\":{\"outlinewidth\":0,\"ticks\":\"\"}},\"marker\":{\"colorbar\":{\"outlinewidth\":0,\"ticks\":\"\"}}}],\"scattermapbox\":[{\"type\":\"scattermapbox\",\"marker\":{\"colorbar\":{\"outlinewidth\":0,\"ticks\":\"\"}}}],\"scatterternary\":[{\"type\":\"scatterternary\",\"marker\":{\"colorbar\":{\"outlinewidth\":0,\"ticks\":\"\"}}}],\"scattercarpet\":[{\"type\":\"scattercarpet\",\"marker\":{\"colorbar\":{\"outlinewidth\":0,\"ticks\":\"\"}}}],\"carpet\":[{\"aaxis\":{\"endlinecolor\":\"#2a3f5f\",\"gridcolor\":\"white\",\"linecolor\":\"white\",\"minorgridcolor\":\"white\",\"startlinecolor\":\"#2a3f5f\"},\"baxis\":{\"endlinecolor\":\"#2a3f5f\",\"gridcolor\":\"white\",\"linecolor\":\"white\",\"minorgridcolor\":\"white\",\"startlinecolor\":\"#2a3f5f\"},\"type\":\"carpet\"}],\"table\":[{\"cells\":{\"fill\":{\"color\":\"#EBF0F8\"},\"line\":{\"color\":\"white\"}},\"header\":{\"fill\":{\"color\":\"#C8D4E3\"},\"line\":{\"color\":\"white\"}},\"type\":\"table\"}],\"barpolar\":[{\"marker\":{\"line\":{\"color\":\"#E5ECF6\",\"width\":0.5},\"pattern\":{\"fillmode\":\"overlay\",\"size\":10,\"solidity\":0.2}},\"type\":\"barpolar\"}],\"pie\":[{\"automargin\":true,\"type\":\"pie\"}]},\"layout\":{\"autotypenumbers\":\"strict\",\"colorway\":[\"#636efa\",\"#EF553B\",\"#00cc96\",\"#ab63fa\",\"#FFA15A\",\"#19d3f3\",\"#FF6692\",\"#B6E880\",\"#FF97FF\",\"#FECB52\"],\"font\":{\"color\":\"#2a3f5f\"},\"hovermode\":\"closest\",\"hoverlabel\":{\"align\":\"left\"},\"paper_bgcolor\":\"white\",\"plot_bgcolor\":\"#E5ECF6\",\"polar\":{\"bgcolor\":\"#E5ECF6\",\"angularaxis\":{\"gridcolor\":\"white\",\"linecolor\":\"white\",\"ticks\":\"\"},\"radialaxis\":{\"gridcolor\":\"white\",\"linecolor\":\"white\",\"ticks\":\"\"}},\"ternary\":{\"bgcolor\":\"#E5ECF6\",\"aaxis\":{\"gridcolor\":\"white\",\"linecolor\":\"white\",\"ticks\":\"\"},\"baxis\":{\"gridcolor\":\"white\",\"linecolor\":\"white\",\"ticks\":\"\"},\"caxis\":{\"gridcolor\":\"white\",\"linecolor\":\"white\",\"ticks\":\"\"}},\"coloraxis\":{\"colorbar\":{\"outlinewidth\":0,\"ticks\":\"\"}},\"colorscale\":{\"sequential\":[[0.0,\"#0d0887\"],[0.1111111111111111,\"#46039f\"],[0.2222222222222222,\"#7201a8\"],[0.3333333333333333,\"#9c179e\"],[0.4444444444444444,\"#bd3786\"],[0.5555555555555556,\"#d8576b\"],[0.6666666666666666,\"#ed7953\"],[0.7777777777777778,\"#fb9f3a\"],[0.8888888888888888,\"#fdca26\"],[1.0,\"#f0f921\"]],\"sequentialminus\":[[0.0,\"#0d0887\"],[0.1111111111111111,\"#46039f\"],[0.2222222222222222,\"#7201a8\"],[0.3333333333333333,\"#9c179e\"],[0.4444444444444444,\"#bd3786\"],[0.5555555555555556,\"#d8576b\"],[0.6666666666666666,\"#ed7953\"],[0.7777777777777778,\"#fb9f3a\"],[0.8888888888888888,\"#fdca26\"],[1.0,\"#f0f921\"]],\"diverging\":[[0,\"#8e0152\"],[0.1,\"#c51b7d\"],[0.2,\"#de77ae\"],[0.3,\"#f1b6da\"],[0.4,\"#fde0ef\"],[0.5,\"#f7f7f7\"],[0.6,\"#e6f5d0\"],[0.7,\"#b8e186\"],[0.8,\"#7fbc41\"],[0.9,\"#4d9221\"],[1,\"#276419\"]]},\"xaxis\":{\"gridcolor\":\"white\",\"linecolor\":\"white\",\"ticks\":\"\",\"title\":{\"standoff\":15},\"zerolinecolor\":\"white\",\"automargin\":true,\"zerolinewidth\":2},\"yaxis\":{\"gridcolor\":\"white\",\"linecolor\":\"white\",\"ticks\":\"\",\"title\":{\"standoff\":15},\"zerolinecolor\":\"white\",\"automargin\":true,\"zerolinewidth\":2},\"scene\":{\"xaxis\":{\"backgroundcolor\":\"#E5ECF6\",\"gridcolor\":\"white\",\"linecolor\":\"white\",\"showbackground\":true,\"ticks\":\"\",\"zerolinecolor\":\"white\",\"gridwidth\":2},\"yaxis\":{\"backgroundcolor\":\"#E5ECF6\",\"gridcolor\":\"white\",\"linecolor\":\"white\",\"showbackground\":true,\"ticks\":\"\",\"zerolinecolor\":\"white\",\"gridwidth\":2},\"zaxis\":{\"backgroundcolor\":\"#E5ECF6\",\"gridcolor\":\"white\",\"linecolor\":\"white\",\"showbackground\":true,\"ticks\":\"\",\"zerolinecolor\":\"white\",\"gridwidth\":2}},\"shapedefaults\":{\"line\":{\"color\":\"#2a3f5f\"}},\"annotationdefaults\":{\"arrowcolor\":\"#2a3f5f\",\"arrowhead\":0,\"arrowwidth\":1},\"geo\":{\"bgcolor\":\"white\",\"landcolor\":\"#E5ECF6\",\"subunitcolor\":\"white\",\"showland\":true,\"showlakes\":true,\"lakecolor\":\"white\"},\"title\":{\"x\":0.05},\"mapbox\":{\"style\":\"light\"}}},\"xaxis\":{\"anchor\":\"y\",\"domain\":[0.0,1.0],\"title\":{\"text\":\"Compound\"}},\"yaxis\":{\"anchor\":\"x\",\"domain\":[0.0,1.0],\"title\":{\"text\":\"#Routes\"}},\"legend\":{\"title\":{\"text\":\"num_reactants\"},\"tracegroupgap\":0},\"margin\":{\"t\":60},\"barmode\":\"relative\",\"title\":{\"text\":\"\\u003cb\\u003eA71EV2A\\u003c\\u002fb\\u003e: Synthetic Routes\\u003cbr\\u003e\\u003csup\\u003e\\u003ci\\u003e\\\"elabs\\\": #compounds=12224\\u003c\\u002fi\\u003e\\u003c\\u002fsup\\u003e\",\"automargin\":false,\"yref\":\"container\"},\"images\":[{\"sizex\":0.3,\"sizey\":0.3,\"source\":\"https:\\u002f\\u002fraw.githubusercontent.com\\u002fmwinokan\\u002fHIPPO\\u002fmain\\u002flogos\\u002fhippo_logo_tightcrop.png\",\"x\":0.95,\"xanchor\":\"right\",\"xref\":\"paper\",\"y\":0.95,\"yanchor\":\"top\",\"yref\":\"paper\"}]},                        {\"responsive\": true}                    ).then(function(){\n",
       "                            \n",
       "var gd = document.getElementById('a0c9e227-532c-4703-be5c-841b017161d7');\n",
       "var x = new MutationObserver(function (mutations, observer) {{\n",
       "        var display = window.getComputedStyle(gd).display;\n",
       "        if (!display || display === 'none') {{\n",
       "            console.log([gd, 'removed!']);\n",
       "            Plotly.purge(gd);\n",
       "            observer.disconnect();\n",
       "        }}\n",
       "}});\n",
       "\n",
       "// Listen for the removal of the full notebook cells\n",
       "var notebookContainer = gd.closest('#notebook-container');\n",
       "if (notebookContainer) {{\n",
       "    x.observe(notebookContainer, {childList: true});\n",
       "}}\n",
       "\n",
       "// Listen for the clearing of the current output cell\n",
       "var outputEl = gd.closest('.output');\n",
       "if (outputEl) {{\n",
       "    x.observe(outputEl, {childList: true});\n",
       "}}\n",
       "\n",
       "                        })                };                });            </script>        </div>"
      ]
     },
     "metadata": {},
     "output_type": "display_data"
    }
   ],
   "source": [
    "animal.plot_synthetic_routes(html='graphs/elabs_routes_fragnet', png='graphs/elabs_routes_fragnet')"
   ]
  },
  {
   "cell_type": "code",
   "execution_count": 56,
   "id": "466c5c24-dde8-4e95-838d-8b8824e1d386",
   "metadata": {},
   "outputs": [
    {
     "data": {
      "application/vnd.plotly.v1+json": {
       "config": {
        "plotlyServerURL": "https://plot.ly"
       },
       "data": [
        {
         "alignmentgroup": "True",
         "hovertemplate": "type=compound<br>category=%{x}<br>number=%{y}<extra></extra>",
         "legendgroup": "compound",
         "marker": {
          "color": "#636efa",
          "pattern": {
           "shape": ""
          }
         },
         "name": "compound",
         "offsetgroup": "compound",
         "orientation": "v",
         "showlegend": true,
         "textposition": "auto",
         "type": "bar",
         "x": [
          "Experimental Hits",
          "Base compounds",
          "Syndirella Elaborations",
          "Unique Reactants"
         ],
         "xaxis": "x",
         "y": [
          38,
          17,
          12224,
          7358
         ],
         "yaxis": "y"
        },
        {
         "alignmentgroup": "True",
         "hovertemplate": "type=poses<br>category=%{x}<br>number=%{y}<extra></extra>",
         "legendgroup": "poses",
         "marker": {
          "color": "#EF553B",
          "pattern": {
           "shape": ""
          }
         },
         "name": "poses",
         "offsetgroup": "poses",
         "orientation": "v",
         "showlegend": true,
         "textposition": "auto",
         "type": "bar",
         "x": [
          "Experimental Hits",
          "Base compounds",
          "Syndirella Elaborations"
         ],
         "xaxis": "x",
         "y": [
          49,
          0,
          44972
         ],
         "yaxis": "y"
        }
       ],
       "layout": {
        "autosize": true,
        "barmode": "group",
        "images": [
         {
          "sizex": 0.3,
          "sizey": 0.3,
          "source": "https://raw.githubusercontent.com/mwinokan/HIPPO/main/logos/hippo_logo_tightcrop.png",
          "x": 0.95,
          "xanchor": "right",
          "xref": "paper",
          "y": 0.95,
          "yanchor": "top",
          "yref": "paper"
         }
        ],
        "legend": {
         "title": {
          "text": "type"
         },
         "tracegroupgap": 0
        },
        "margin": {
         "t": 60
        },
        "template": {
         "data": {
          "bar": [
           {
            "error_x": {
             "color": "#2a3f5f"
            },
            "error_y": {
             "color": "#2a3f5f"
            },
            "marker": {
             "line": {
              "color": "#E5ECF6",
              "width": 0.5
             },
             "pattern": {
              "fillmode": "overlay",
              "size": 10,
              "solidity": 0.2
             }
            },
            "type": "bar"
           }
          ],
          "barpolar": [
           {
            "marker": {
             "line": {
              "color": "#E5ECF6",
              "width": 0.5
             },
             "pattern": {
              "fillmode": "overlay",
              "size": 10,
              "solidity": 0.2
             }
            },
            "type": "barpolar"
           }
          ],
          "carpet": [
           {
            "aaxis": {
             "endlinecolor": "#2a3f5f",
             "gridcolor": "white",
             "linecolor": "white",
             "minorgridcolor": "white",
             "startlinecolor": "#2a3f5f"
            },
            "baxis": {
             "endlinecolor": "#2a3f5f",
             "gridcolor": "white",
             "linecolor": "white",
             "minorgridcolor": "white",
             "startlinecolor": "#2a3f5f"
            },
            "type": "carpet"
           }
          ],
          "choropleth": [
           {
            "colorbar": {
             "outlinewidth": 0,
             "ticks": ""
            },
            "type": "choropleth"
           }
          ],
          "contour": [
           {
            "colorbar": {
             "outlinewidth": 0,
             "ticks": ""
            },
            "colorscale": [
             [
              0,
              "#0d0887"
             ],
             [
              0.1111111111111111,
              "#46039f"
             ],
             [
              0.2222222222222222,
              "#7201a8"
             ],
             [
              0.3333333333333333,
              "#9c179e"
             ],
             [
              0.4444444444444444,
              "#bd3786"
             ],
             [
              0.5555555555555556,
              "#d8576b"
             ],
             [
              0.6666666666666666,
              "#ed7953"
             ],
             [
              0.7777777777777778,
              "#fb9f3a"
             ],
             [
              0.8888888888888888,
              "#fdca26"
             ],
             [
              1,
              "#f0f921"
             ]
            ],
            "type": "contour"
           }
          ],
          "contourcarpet": [
           {
            "colorbar": {
             "outlinewidth": 0,
             "ticks": ""
            },
            "type": "contourcarpet"
           }
          ],
          "heatmap": [
           {
            "colorbar": {
             "outlinewidth": 0,
             "ticks": ""
            },
            "colorscale": [
             [
              0,
              "#0d0887"
             ],
             [
              0.1111111111111111,
              "#46039f"
             ],
             [
              0.2222222222222222,
              "#7201a8"
             ],
             [
              0.3333333333333333,
              "#9c179e"
             ],
             [
              0.4444444444444444,
              "#bd3786"
             ],
             [
              0.5555555555555556,
              "#d8576b"
             ],
             [
              0.6666666666666666,
              "#ed7953"
             ],
             [
              0.7777777777777778,
              "#fb9f3a"
             ],
             [
              0.8888888888888888,
              "#fdca26"
             ],
             [
              1,
              "#f0f921"
             ]
            ],
            "type": "heatmap"
           }
          ],
          "heatmapgl": [
           {
            "colorbar": {
             "outlinewidth": 0,
             "ticks": ""
            },
            "colorscale": [
             [
              0,
              "#0d0887"
             ],
             [
              0.1111111111111111,
              "#46039f"
             ],
             [
              0.2222222222222222,
              "#7201a8"
             ],
             [
              0.3333333333333333,
              "#9c179e"
             ],
             [
              0.4444444444444444,
              "#bd3786"
             ],
             [
              0.5555555555555556,
              "#d8576b"
             ],
             [
              0.6666666666666666,
              "#ed7953"
             ],
             [
              0.7777777777777778,
              "#fb9f3a"
             ],
             [
              0.8888888888888888,
              "#fdca26"
             ],
             [
              1,
              "#f0f921"
             ]
            ],
            "type": "heatmapgl"
           }
          ],
          "histogram": [
           {
            "marker": {
             "pattern": {
              "fillmode": "overlay",
              "size": 10,
              "solidity": 0.2
             }
            },
            "type": "histogram"
           }
          ],
          "histogram2d": [
           {
            "colorbar": {
             "outlinewidth": 0,
             "ticks": ""
            },
            "colorscale": [
             [
              0,
              "#0d0887"
             ],
             [
              0.1111111111111111,
              "#46039f"
             ],
             [
              0.2222222222222222,
              "#7201a8"
             ],
             [
              0.3333333333333333,
              "#9c179e"
             ],
             [
              0.4444444444444444,
              "#bd3786"
             ],
             [
              0.5555555555555556,
              "#d8576b"
             ],
             [
              0.6666666666666666,
              "#ed7953"
             ],
             [
              0.7777777777777778,
              "#fb9f3a"
             ],
             [
              0.8888888888888888,
              "#fdca26"
             ],
             [
              1,
              "#f0f921"
             ]
            ],
            "type": "histogram2d"
           }
          ],
          "histogram2dcontour": [
           {
            "colorbar": {
             "outlinewidth": 0,
             "ticks": ""
            },
            "colorscale": [
             [
              0,
              "#0d0887"
             ],
             [
              0.1111111111111111,
              "#46039f"
             ],
             [
              0.2222222222222222,
              "#7201a8"
             ],
             [
              0.3333333333333333,
              "#9c179e"
             ],
             [
              0.4444444444444444,
              "#bd3786"
             ],
             [
              0.5555555555555556,
              "#d8576b"
             ],
             [
              0.6666666666666666,
              "#ed7953"
             ],
             [
              0.7777777777777778,
              "#fb9f3a"
             ],
             [
              0.8888888888888888,
              "#fdca26"
             ],
             [
              1,
              "#f0f921"
             ]
            ],
            "type": "histogram2dcontour"
           }
          ],
          "mesh3d": [
           {
            "colorbar": {
             "outlinewidth": 0,
             "ticks": ""
            },
            "type": "mesh3d"
           }
          ],
          "parcoords": [
           {
            "line": {
             "colorbar": {
              "outlinewidth": 0,
              "ticks": ""
             }
            },
            "type": "parcoords"
           }
          ],
          "pie": [
           {
            "automargin": true,
            "type": "pie"
           }
          ],
          "scatter": [
           {
            "fillpattern": {
             "fillmode": "overlay",
             "size": 10,
             "solidity": 0.2
            },
            "type": "scatter"
           }
          ],
          "scatter3d": [
           {
            "line": {
             "colorbar": {
              "outlinewidth": 0,
              "ticks": ""
             }
            },
            "marker": {
             "colorbar": {
              "outlinewidth": 0,
              "ticks": ""
             }
            },
            "type": "scatter3d"
           }
          ],
          "scattercarpet": [
           {
            "marker": {
             "colorbar": {
              "outlinewidth": 0,
              "ticks": ""
             }
            },
            "type": "scattercarpet"
           }
          ],
          "scattergeo": [
           {
            "marker": {
             "colorbar": {
              "outlinewidth": 0,
              "ticks": ""
             }
            },
            "type": "scattergeo"
           }
          ],
          "scattergl": [
           {
            "marker": {
             "colorbar": {
              "outlinewidth": 0,
              "ticks": ""
             }
            },
            "type": "scattergl"
           }
          ],
          "scattermapbox": [
           {
            "marker": {
             "colorbar": {
              "outlinewidth": 0,
              "ticks": ""
             }
            },
            "type": "scattermapbox"
           }
          ],
          "scatterpolar": [
           {
            "marker": {
             "colorbar": {
              "outlinewidth": 0,
              "ticks": ""
             }
            },
            "type": "scatterpolar"
           }
          ],
          "scatterpolargl": [
           {
            "marker": {
             "colorbar": {
              "outlinewidth": 0,
              "ticks": ""
             }
            },
            "type": "scatterpolargl"
           }
          ],
          "scatterternary": [
           {
            "marker": {
             "colorbar": {
              "outlinewidth": 0,
              "ticks": ""
             }
            },
            "type": "scatterternary"
           }
          ],
          "surface": [
           {
            "colorbar": {
             "outlinewidth": 0,
             "ticks": ""
            },
            "colorscale": [
             [
              0,
              "#0d0887"
             ],
             [
              0.1111111111111111,
              "#46039f"
             ],
             [
              0.2222222222222222,
              "#7201a8"
             ],
             [
              0.3333333333333333,
              "#9c179e"
             ],
             [
              0.4444444444444444,
              "#bd3786"
             ],
             [
              0.5555555555555556,
              "#d8576b"
             ],
             [
              0.6666666666666666,
              "#ed7953"
             ],
             [
              0.7777777777777778,
              "#fb9f3a"
             ],
             [
              0.8888888888888888,
              "#fdca26"
             ],
             [
              1,
              "#f0f921"
             ]
            ],
            "type": "surface"
           }
          ],
          "table": [
           {
            "cells": {
             "fill": {
              "color": "#EBF0F8"
             },
             "line": {
              "color": "white"
             }
            },
            "header": {
             "fill": {
              "color": "#C8D4E3"
             },
             "line": {
              "color": "white"
             }
            },
            "type": "table"
           }
          ]
         },
         "layout": {
          "annotationdefaults": {
           "arrowcolor": "#2a3f5f",
           "arrowhead": 0,
           "arrowwidth": 1
          },
          "autotypenumbers": "strict",
          "coloraxis": {
           "colorbar": {
            "outlinewidth": 0,
            "ticks": ""
           }
          },
          "colorscale": {
           "diverging": [
            [
             0,
             "#8e0152"
            ],
            [
             0.1,
             "#c51b7d"
            ],
            [
             0.2,
             "#de77ae"
            ],
            [
             0.3,
             "#f1b6da"
            ],
            [
             0.4,
             "#fde0ef"
            ],
            [
             0.5,
             "#f7f7f7"
            ],
            [
             0.6,
             "#e6f5d0"
            ],
            [
             0.7,
             "#b8e186"
            ],
            [
             0.8,
             "#7fbc41"
            ],
            [
             0.9,
             "#4d9221"
            ],
            [
             1,
             "#276419"
            ]
           ],
           "sequential": [
            [
             0,
             "#0d0887"
            ],
            [
             0.1111111111111111,
             "#46039f"
            ],
            [
             0.2222222222222222,
             "#7201a8"
            ],
            [
             0.3333333333333333,
             "#9c179e"
            ],
            [
             0.4444444444444444,
             "#bd3786"
            ],
            [
             0.5555555555555556,
             "#d8576b"
            ],
            [
             0.6666666666666666,
             "#ed7953"
            ],
            [
             0.7777777777777778,
             "#fb9f3a"
            ],
            [
             0.8888888888888888,
             "#fdca26"
            ],
            [
             1,
             "#f0f921"
            ]
           ],
           "sequentialminus": [
            [
             0,
             "#0d0887"
            ],
            [
             0.1111111111111111,
             "#46039f"
            ],
            [
             0.2222222222222222,
             "#7201a8"
            ],
            [
             0.3333333333333333,
             "#9c179e"
            ],
            [
             0.4444444444444444,
             "#bd3786"
            ],
            [
             0.5555555555555556,
             "#d8576b"
            ],
            [
             0.6666666666666666,
             "#ed7953"
            ],
            [
             0.7777777777777778,
             "#fb9f3a"
            ],
            [
             0.8888888888888888,
             "#fdca26"
            ],
            [
             1,
             "#f0f921"
            ]
           ]
          },
          "colorway": [
           "#636efa",
           "#EF553B",
           "#00cc96",
           "#ab63fa",
           "#FFA15A",
           "#19d3f3",
           "#FF6692",
           "#B6E880",
           "#FF97FF",
           "#FECB52"
          ],
          "font": {
           "color": "#2a3f5f"
          },
          "geo": {
           "bgcolor": "white",
           "lakecolor": "white",
           "landcolor": "#E5ECF6",
           "showlakes": true,
           "showland": true,
           "subunitcolor": "white"
          },
          "hoverlabel": {
           "align": "left"
          },
          "hovermode": "closest",
          "mapbox": {
           "style": "light"
          },
          "paper_bgcolor": "white",
          "plot_bgcolor": "#E5ECF6",
          "polar": {
           "angularaxis": {
            "gridcolor": "white",
            "linecolor": "white",
            "ticks": ""
           },
           "bgcolor": "#E5ECF6",
           "radialaxis": {
            "gridcolor": "white",
            "linecolor": "white",
            "ticks": ""
           }
          },
          "scene": {
           "xaxis": {
            "backgroundcolor": "#E5ECF6",
            "gridcolor": "white",
            "gridwidth": 2,
            "linecolor": "white",
            "showbackground": true,
            "ticks": "",
            "zerolinecolor": "white"
           },
           "yaxis": {
            "backgroundcolor": "#E5ECF6",
            "gridcolor": "white",
            "gridwidth": 2,
            "linecolor": "white",
            "showbackground": true,
            "ticks": "",
            "zerolinecolor": "white"
           },
           "zaxis": {
            "backgroundcolor": "#E5ECF6",
            "gridcolor": "white",
            "gridwidth": 2,
            "linecolor": "white",
            "showbackground": true,
            "ticks": "",
            "zerolinecolor": "white"
           }
          },
          "shapedefaults": {
           "line": {
            "color": "#2a3f5f"
           }
          },
          "ternary": {
           "aaxis": {
            "gridcolor": "white",
            "linecolor": "white",
            "ticks": ""
           },
           "baxis": {
            "gridcolor": "white",
            "linecolor": "white",
            "ticks": ""
           },
           "bgcolor": "#E5ECF6",
           "caxis": {
            "gridcolor": "white",
            "linecolor": "white",
            "ticks": ""
           }
          },
          "title": {
           "x": 0.05
          },
          "xaxis": {
           "automargin": true,
           "gridcolor": "white",
           "linecolor": "white",
           "ticks": "",
           "title": {
            "standoff": 15
           },
           "zerolinecolor": "white",
           "zerolinewidth": 2
          },
          "yaxis": {
           "automargin": true,
           "gridcolor": "white",
           "linecolor": "white",
           "ticks": "",
           "title": {
            "standoff": 15
           },
           "zerolinecolor": "white",
           "zerolinewidth": 2
          }
         }
        },
        "title": {
         "automargin": false,
         "text": "<b>A71EV2A</b>: Compounds & Poses<br>",
         "yref": "container"
        },
        "xaxis": {
         "anchor": "y",
         "autorange": true,
         "domain": [
          0,
          1
         ],
         "range": [
          -0.5,
          3.5
         ],
         "title": {},
         "type": "category"
        },
        "yaxis": {
         "anchor": "x",
         "autorange": true,
         "domain": [
          0,
          1
         ],
         "range": [
          1.040310405788623,
          4.843080717581643
         ],
         "title": {
          "text": "Log(Quantity)"
         },
         "type": "log"
        }
       }
      },
      "image/png": "[encoded data removed]",
      "text/html": [
       "<div>                            <div id=\"355ca8cb-2d8f-46f3-9f90-1c9fc5a85d1b\" class=\"plotly-graph-div\" style=\"height:525px; width:100%;\"></div>            <script type=\"text/javascript\">                require([\"plotly\"], function(Plotly) {                    window.PLOTLYENV=window.PLOTLYENV || {};                                    if (document.getElementById(\"355ca8cb-2d8f-46f3-9f90-1c9fc5a85d1b\")) {                    Plotly.newPlot(                        \"355ca8cb-2d8f-46f3-9f90-1c9fc5a85d1b\",                        [{\"alignmentgroup\":\"True\",\"hovertemplate\":\"type=compound\\u003cbr\\u003ecategory=%{x}\\u003cbr\\u003enumber=%{y}\\u003cextra\\u003e\\u003c\\u002fextra\\u003e\",\"legendgroup\":\"compound\",\"marker\":{\"color\":\"#636efa\",\"pattern\":{\"shape\":\"\"}},\"name\":\"compound\",\"offsetgroup\":\"compound\",\"orientation\":\"v\",\"showlegend\":true,\"textposition\":\"auto\",\"x\":[\"Experimental Hits\",\"Base compounds\",\"Syndirella Elaborations\",\"Unique Reactants\"],\"xaxis\":\"x\",\"y\":[38,17,12224,7358],\"yaxis\":\"y\",\"type\":\"bar\"},{\"alignmentgroup\":\"True\",\"hovertemplate\":\"type=poses\\u003cbr\\u003ecategory=%{x}\\u003cbr\\u003enumber=%{y}\\u003cextra\\u003e\\u003c\\u002fextra\\u003e\",\"legendgroup\":\"poses\",\"marker\":{\"color\":\"#EF553B\",\"pattern\":{\"shape\":\"\"}},\"name\":\"poses\",\"offsetgroup\":\"poses\",\"orientation\":\"v\",\"showlegend\":true,\"textposition\":\"auto\",\"x\":[\"Experimental Hits\",\"Base compounds\",\"Syndirella Elaborations\"],\"xaxis\":\"x\",\"y\":[49,0,44972],\"yaxis\":\"y\",\"type\":\"bar\"}],                        {\"template\":{\"data\":{\"histogram2dcontour\":[{\"type\":\"histogram2dcontour\",\"colorbar\":{\"outlinewidth\":0,\"ticks\":\"\"},\"colorscale\":[[0.0,\"#0d0887\"],[0.1111111111111111,\"#46039f\"],[0.2222222222222222,\"#7201a8\"],[0.3333333333333333,\"#9c179e\"],[0.4444444444444444,\"#bd3786\"],[0.5555555555555556,\"#d8576b\"],[0.6666666666666666,\"#ed7953\"],[0.7777777777777778,\"#fb9f3a\"],[0.8888888888888888,\"#fdca26\"],[1.0,\"#f0f921\"]]}],\"choropleth\":[{\"type\":\"choropleth\",\"colorbar\":{\"outlinewidth\":0,\"ticks\":\"\"}}],\"histogram2d\":[{\"type\":\"histogram2d\",\"colorbar\":{\"outlinewidth\":0,\"ticks\":\"\"},\"colorscale\":[[0.0,\"#0d0887\"],[0.1111111111111111,\"#46039f\"],[0.2222222222222222,\"#7201a8\"],[0.3333333333333333,\"#9c179e\"],[0.4444444444444444,\"#bd3786\"],[0.5555555555555556,\"#d8576b\"],[0.6666666666666666,\"#ed7953\"],[0.7777777777777778,\"#fb9f3a\"],[0.8888888888888888,\"#fdca26\"],[1.0,\"#f0f921\"]]}],\"heatmap\":[{\"type\":\"heatmap\",\"colorbar\":{\"outlinewidth\":0,\"ticks\":\"\"},\"colorscale\":[[0.0,\"#0d0887\"],[0.1111111111111111,\"#46039f\"],[0.2222222222222222,\"#7201a8\"],[0.3333333333333333,\"#9c179e\"],[0.4444444444444444,\"#bd3786\"],[0.5555555555555556,\"#d8576b\"],[0.6666666666666666,\"#ed7953\"],[0.7777777777777778,\"#fb9f3a\"],[0.8888888888888888,\"#fdca26\"],[1.0,\"#f0f921\"]]}],\"heatmapgl\":[{\"type\":\"heatmapgl\",\"colorbar\":{\"outlinewidth\":0,\"ticks\":\"\"},\"colorscale\":[[0.0,\"#0d0887\"],[0.1111111111111111,\"#46039f\"],[0.2222222222222222,\"#7201a8\"],[0.3333333333333333,\"#9c179e\"],[0.4444444444444444,\"#bd3786\"],[0.5555555555555556,\"#d8576b\"],[0.6666666666666666,\"#ed7953\"],[0.7777777777777778,\"#fb9f3a\"],[0.8888888888888888,\"#fdca26\"],[1.0,\"#f0f921\"]]}],\"contourcarpet\":[{\"type\":\"contourcarpet\",\"colorbar\":{\"outlinewidth\":0,\"ticks\":\"\"}}],\"contour\":[{\"type\":\"contour\",\"colorbar\":{\"outlinewidth\":0,\"ticks\":\"\"},\"colorscale\":[[0.0,\"#0d0887\"],[0.1111111111111111,\"#46039f\"],[0.2222222222222222,\"#7201a8\"],[0.3333333333333333,\"#9c179e\"],[0.4444444444444444,\"#bd3786\"],[0.5555555555555556,\"#d8576b\"],[0.6666666666666666,\"#ed7953\"],[0.7777777777777778,\"#fb9f3a\"],[0.8888888888888888,\"#fdca26\"],[1.0,\"#f0f921\"]]}],\"surface\":[{\"type\":\"surface\",\"colorbar\":{\"outlinewidth\":0,\"ticks\":\"\"},\"colorscale\":[[0.0,\"#0d0887\"],[0.1111111111111111,\"#46039f\"],[0.2222222222222222,\"#7201a8\"],[0.3333333333333333,\"#9c179e\"],[0.4444444444444444,\"#bd3786\"],[0.5555555555555556,\"#d8576b\"],[0.6666666666666666,\"#ed7953\"],[0.7777777777777778,\"#fb9f3a\"],[0.8888888888888888,\"#fdca26\"],[1.0,\"#f0f921\"]]}],\"mesh3d\":[{\"type\":\"mesh3d\",\"colorbar\":{\"outlinewidth\":0,\"ticks\":\"\"}}],\"scatter\":[{\"fillpattern\":{\"fillmode\":\"overlay\",\"size\":10,\"solidity\":0.2},\"type\":\"scatter\"}],\"parcoords\":[{\"type\":\"parcoords\",\"line\":{\"colorbar\":{\"outlinewidth\":0,\"ticks\":\"\"}}}],\"scatterpolargl\":[{\"type\":\"scatterpolargl\",\"marker\":{\"colorbar\":{\"outlinewidth\":0,\"ticks\":\"\"}}}],\"bar\":[{\"error_x\":{\"color\":\"#2a3f5f\"},\"error_y\":{\"color\":\"#2a3f5f\"},\"marker\":{\"line\":{\"color\":\"#E5ECF6\",\"width\":0.5},\"pattern\":{\"fillmode\":\"overlay\",\"size\":10,\"solidity\":0.2}},\"type\":\"bar\"}],\"scattergeo\":[{\"type\":\"scattergeo\",\"marker\":{\"colorbar\":{\"outlinewidth\":0,\"ticks\":\"\"}}}],\"scatterpolar\":[{\"type\":\"scatterpolar\",\"marker\":{\"colorbar\":{\"outlinewidth\":0,\"ticks\":\"\"}}}],\"histogram\":[{\"marker\":{\"pattern\":{\"fillmode\":\"overlay\",\"size\":10,\"solidity\":0.2}},\"type\":\"histogram\"}],\"scattergl\":[{\"type\":\"scattergl\",\"marker\":{\"colorbar\":{\"outlinewidth\":0,\"ticks\":\"\"}}}],\"scatter3d\":[{\"type\":\"scatter3d\",\"line\":{\"colorbar\":{\"outlinewidth\":0,\"ticks\":\"\"}},\"marker\":{\"colorbar\":{\"outlinewidth\":0,\"ticks\":\"\"}}}],\"scattermapbox\":[{\"type\":\"scattermapbox\",\"marker\":{\"colorbar\":{\"outlinewidth\":0,\"ticks\":\"\"}}}],\"scatterternary\":[{\"type\":\"scatterternary\",\"marker\":{\"colorbar\":{\"outlinewidth\":0,\"ticks\":\"\"}}}],\"scattercarpet\":[{\"type\":\"scattercarpet\",\"marker\":{\"colorbar\":{\"outlinewidth\":0,\"ticks\":\"\"}}}],\"carpet\":[{\"aaxis\":{\"endlinecolor\":\"#2a3f5f\",\"gridcolor\":\"white\",\"linecolor\":\"white\",\"minorgridcolor\":\"white\",\"startlinecolor\":\"#2a3f5f\"},\"baxis\":{\"endlinecolor\":\"#2a3f5f\",\"gridcolor\":\"white\",\"linecolor\":\"white\",\"minorgridcolor\":\"white\",\"startlinecolor\":\"#2a3f5f\"},\"type\":\"carpet\"}],\"table\":[{\"cells\":{\"fill\":{\"color\":\"#EBF0F8\"},\"line\":{\"color\":\"white\"}},\"header\":{\"fill\":{\"color\":\"#C8D4E3\"},\"line\":{\"color\":\"white\"}},\"type\":\"table\"}],\"barpolar\":[{\"marker\":{\"line\":{\"color\":\"#E5ECF6\",\"width\":0.5},\"pattern\":{\"fillmode\":\"overlay\",\"size\":10,\"solidity\":0.2}},\"type\":\"barpolar\"}],\"pie\":[{\"automargin\":true,\"type\":\"pie\"}]},\"layout\":{\"autotypenumbers\":\"strict\",\"colorway\":[\"#636efa\",\"#EF553B\",\"#00cc96\",\"#ab63fa\",\"#FFA15A\",\"#19d3f3\",\"#FF6692\",\"#B6E880\",\"#FF97FF\",\"#FECB52\"],\"font\":{\"color\":\"#2a3f5f\"},\"hovermode\":\"closest\",\"hoverlabel\":{\"align\":\"left\"},\"paper_bgcolor\":\"white\",\"plot_bgcolor\":\"#E5ECF6\",\"polar\":{\"bgcolor\":\"#E5ECF6\",\"angularaxis\":{\"gridcolor\":\"white\",\"linecolor\":\"white\",\"ticks\":\"\"},\"radialaxis\":{\"gridcolor\":\"white\",\"linecolor\":\"white\",\"ticks\":\"\"}},\"ternary\":{\"bgcolor\":\"#E5ECF6\",\"aaxis\":{\"gridcolor\":\"white\",\"linecolor\":\"white\",\"ticks\":\"\"},\"baxis\":{\"gridcolor\":\"white\",\"linecolor\":\"white\",\"ticks\":\"\"},\"caxis\":{\"gridcolor\":\"white\",\"linecolor\":\"white\",\"ticks\":\"\"}},\"coloraxis\":{\"colorbar\":{\"outlinewidth\":0,\"ticks\":\"\"}},\"colorscale\":{\"sequential\":[[0.0,\"#0d0887\"],[0.1111111111111111,\"#46039f\"],[0.2222222222222222,\"#7201a8\"],[0.3333333333333333,\"#9c179e\"],[0.4444444444444444,\"#bd3786\"],[0.5555555555555556,\"#d8576b\"],[0.6666666666666666,\"#ed7953\"],[0.7777777777777778,\"#fb9f3a\"],[0.8888888888888888,\"#fdca26\"],[1.0,\"#f0f921\"]],\"sequentialminus\":[[0.0,\"#0d0887\"],[0.1111111111111111,\"#46039f\"],[0.2222222222222222,\"#7201a8\"],[0.3333333333333333,\"#9c179e\"],[0.4444444444444444,\"#bd3786\"],[0.5555555555555556,\"#d8576b\"],[0.6666666666666666,\"#ed7953\"],[0.7777777777777778,\"#fb9f3a\"],[0.8888888888888888,\"#fdca26\"],[1.0,\"#f0f921\"]],\"diverging\":[[0,\"#8e0152\"],[0.1,\"#c51b7d\"],[0.2,\"#de77ae\"],[0.3,\"#f1b6da\"],[0.4,\"#fde0ef\"],[0.5,\"#f7f7f7\"],[0.6,\"#e6f5d0\"],[0.7,\"#b8e186\"],[0.8,\"#7fbc41\"],[0.9,\"#4d9221\"],[1,\"#276419\"]]},\"xaxis\":{\"gridcolor\":\"white\",\"linecolor\":\"white\",\"ticks\":\"\",\"title\":{\"standoff\":15},\"zerolinecolor\":\"white\",\"automargin\":true,\"zerolinewidth\":2},\"yaxis\":{\"gridcolor\":\"white\",\"linecolor\":\"white\",\"ticks\":\"\",\"title\":{\"standoff\":15},\"zerolinecolor\":\"white\",\"automargin\":true,\"zerolinewidth\":2},\"scene\":{\"xaxis\":{\"backgroundcolor\":\"#E5ECF6\",\"gridcolor\":\"white\",\"linecolor\":\"white\",\"showbackground\":true,\"ticks\":\"\",\"zerolinecolor\":\"white\",\"gridwidth\":2},\"yaxis\":{\"backgroundcolor\":\"#E5ECF6\",\"gridcolor\":\"white\",\"linecolor\":\"white\",\"showbackground\":true,\"ticks\":\"\",\"zerolinecolor\":\"white\",\"gridwidth\":2},\"zaxis\":{\"backgroundcolor\":\"#E5ECF6\",\"gridcolor\":\"white\",\"linecolor\":\"white\",\"showbackground\":true,\"ticks\":\"\",\"zerolinecolor\":\"white\",\"gridwidth\":2}},\"shapedefaults\":{\"line\":{\"color\":\"#2a3f5f\"}},\"annotationdefaults\":{\"arrowcolor\":\"#2a3f5f\",\"arrowhead\":0,\"arrowwidth\":1},\"geo\":{\"bgcolor\":\"white\",\"landcolor\":\"#E5ECF6\",\"subunitcolor\":\"white\",\"showland\":true,\"showlakes\":true,\"lakecolor\":\"white\"},\"title\":{\"x\":0.05},\"mapbox\":{\"style\":\"light\"}}},\"xaxis\":{\"anchor\":\"y\",\"domain\":[0.0,1.0],\"title\":{}},\"yaxis\":{\"anchor\":\"x\",\"domain\":[0.0,1.0],\"title\":{\"text\":\"Log(Quantity)\"},\"type\":\"log\"},\"legend\":{\"title\":{\"text\":\"type\"},\"tracegroupgap\":0},\"margin\":{\"t\":60},\"barmode\":\"group\",\"title\":{\"text\":\"\\u003cb\\u003eA71EV2A\\u003c\\u002fb\\u003e: Compounds & Poses\\u003cbr\\u003e\",\"automargin\":false,\"yref\":\"container\"},\"images\":[{\"sizex\":0.3,\"sizey\":0.3,\"source\":\"https:\\u002f\\u002fraw.githubusercontent.com\\u002fmwinokan\\u002fHIPPO\\u002fmain\\u002flogos\\u002fhippo_logo_tightcrop.png\",\"x\":0.95,\"xanchor\":\"right\",\"xref\":\"paper\",\"y\":0.95,\"yanchor\":\"top\",\"yref\":\"paper\"}]},                        {\"responsive\": true}                    ).then(function(){\n",
       "                            \n",
       "var gd = document.getElementById('355ca8cb-2d8f-46f3-9f90-1c9fc5a85d1b');\n",
       "var x = new MutationObserver(function (mutations, observer) {{\n",
       "        var display = window.getComputedStyle(gd).display;\n",
       "        if (!display || display === 'none') {{\n",
       "            console.log([gd, 'removed!']);\n",
       "            Plotly.purge(gd);\n",
       "            observer.disconnect();\n",
       "        }}\n",
       "}});\n",
       "\n",
       "// Listen for the removal of the full notebook cells\n",
       "var notebookContainer = gd.closest('#notebook-container');\n",
       "if (notebookContainer) {{\n",
       "    x.observe(notebookContainer, {childList: true});\n",
       "}}\n",
       "\n",
       "// Listen for the clearing of the current output cell\n",
       "var outputEl = gd.closest('.output');\n",
       "if (outputEl) {{\n",
       "    x.observe(outputEl, {childList: true});\n",
       "}}\n",
       "\n",
       "                        })                };                });            </script>        </div>"
      ]
     },
     "metadata": {},
     "output_type": "display_data"
    }
   ],
   "source": [
    "animal.plot_numbers()"
   ]
  },
  {
   "cell_type": "code",
   "execution_count": 57,
   "id": "cf0d2be9-e0d3-4e58-999b-0e278b7ffcac",
   "metadata": {},
   "outputs": [
    {
     "name": "stdout",
     "output_type": "stream",
     "text": [
      "writing \u001b[38;5;11mgraphs/reactant_prices_fragnet.html\u001b[0m ... \u001b[0mDone.\u001b[0m\n",
      "writing \u001b[38;5;11mgraphs/reactant_prices_fragnet.pdf\u001b[0m ... \u001b[0mDone.\u001b[0m\n"
     ]
    },
    {
     "data": {
      "application/vnd.plotly.v1+json": {
       "config": {
        "plotlyServerURL": "https://plot.ly"
       },
       "data": [
        {
         "alignmentgroup": "True",
         "bingroup": "x",
         "hovertemplate": "lead_time=20<br>price_20mg=%{x}<br>count=%{y}<extra></extra>",
         "legendgroup": "20",
         "marker": {
          "color": "#636efa",
          "pattern": {
           "shape": ""
          }
         },
         "name": "20",
         "offsetgroup": "20",
         "orientation": "v",
         "showlegend": true,
         "type": "histogram",
         "x": [
          986,
          986,
          671,
          821,
          347,
          612,
          612,
          347,
          1232,
          1068,
          612,
          328,
          238,
          1414,
          492,
          1150,
          739,
          1216,
          1183,
          986,
          551,
          888,
          1068,
          657,
          2655,
          84,
          587,
          587,
          1150,
          587,
          854,
          1216,
          468,
          821,
          1939,
          647,
          1150,
          1150,
          107,
          854,
          492,
          455,
          492,
          455,
          205,
          252,
          359,
          888,
          1261,
          1166,
          528,
          1150,
          528,
          903,
          1216,
          624,
          854,
          903,
          821,
          328,
          83,
          903,
          851,
          647,
          657,
          528,
          1216,
          167,
          739,
          348,
          30,
          574,
          574,
          528,
          95,
          739,
          1117,
          888,
          953,
          1511,
          986,
          986,
          407,
          612,
          1216,
          455,
          44,
          657,
          903,
          348,
          647,
          739,
          903,
          986,
          986,
          903,
          707,
          739,
          1117,
          1068,
          455,
          657,
          1643,
          90,
          986,
          1117,
          574,
          986,
          739,
          1216,
          410,
          821,
          986,
          348,
          707,
          888,
          707,
          492,
          492,
          492,
          1199,
          1216,
          912,
          1150,
          1476,
          821,
          1117,
          1117,
          1117,
          1216,
          1117,
          903,
          1117,
          1117,
          1133,
          1216,
          821,
          739,
          1247,
          1150,
          888,
          1216,
          707,
          1080,
          1397,
          587,
          1101,
          839,
          1101,
          1779,
          657,
          739,
          97,
          1364,
          1117,
          768,
          563,
          924,
          888,
          1068,
          707,
          768,
          768,
          1232,
          739,
          768,
          587,
          407,
          1133,
          1117,
          1117,
          1298,
          1133,
          1232,
          1150,
          707,
          1117,
          1117,
          587,
          82,
          948,
          1643,
          1895,
          888,
          1315,
          953,
          948,
          986,
          768,
          1348,
          574,
          76,
          76,
          1133,
          459,
          816,
          854,
          200,
          1216,
          205,
          1117,
          788,
          624,
          719,
          624,
          816,
          624,
          624,
          816,
          612,
          574,
          587,
          587,
          1117,
          1117,
          827,
          624,
          528,
          587,
          986,
          888,
          1164,
          657,
          1183,
          227,
          707,
          821,
          468,
          707,
          900,
          1117,
          707,
          468,
          492,
          888,
          587,
          492,
          986,
          780,
          492,
          468,
          707,
          587,
          657,
          888,
          647,
          328,
          707,
          407,
          948,
          587,
          707,
          864,
          587,
          1117,
          468,
          768,
          468,
          657,
          683,
          587,
          227,
          657,
          935,
          1150,
          811,
          657,
          122.7,
          587,
          986,
          903,
          1150,
          361,
          359,
          1117,
          587,
          299,
          986,
          821,
          227,
          587,
          647,
          948,
          468,
          468,
          903,
          587,
          528,
          732,
          455,
          455,
          1320,
          864,
          1129,
          1117,
          574,
          903,
          821,
          739,
          739,
          657,
          821,
          657,
          739,
          739,
          821,
          903,
          574,
          821,
          821,
          821,
          821,
          23,
          1117,
          1133,
          1290,
          1133,
          1117,
          816,
          903,
          707,
          1478,
          1232,
          1150,
          185,
          671,
          118,
          1199,
          21,
          1068,
          959,
          1068,
          407,
          19,
          21,
          1068,
          81,
          1080,
          66,
          870,
          46,
          739,
          744,
          468,
          607,
          492,
          492,
          492,
          574,
          986,
          263,
          821,
          657,
          739,
          739,
          739,
          407,
          772,
          1085,
          821,
          607,
          612,
          1117,
          888,
          821,
          657,
          574,
          1150,
          657,
          986,
          323,
          612,
          587,
          612,
          739,
          105,
          1117,
          821,
          612,
          468,
          515,
          612,
          903,
          1133,
          1101,
          986,
          328,
          492,
          612,
          574,
          563,
          587,
          1002,
          83,
          1117,
          348,
          821,
          492,
          612,
          1528,
          1117,
          612,
          739,
          612,
          492,
          612,
          155,
          348,
          1140,
          706,
          657,
          1117,
          739,
          854,
          1117,
          587,
          1133,
          821,
          821,
          821,
          1101,
          1117,
          574,
          612,
          528,
          612,
          135,
          739,
          81,
          739,
          459,
          903,
          1183,
          739,
          744,
          1150,
          1212,
          924,
          1008,
          1216,
          1261,
          1200,
          1129,
          1150,
          1308,
          1224,
          920,
          1261,
          1068,
          1381,
          1129,
          920,
          2454,
          1224,
          924,
          1068,
          1068,
          1216,
          647,
          1068,
          1068,
          1272,
          1133,
          739,
          739,
          851,
          912,
          707,
          827,
          821,
          739,
          660,
          707,
          1196,
          1188,
          1216,
          903,
          888,
          739,
          1008,
          903,
          1216,
          739,
          1807,
          1643,
          1397,
          903,
          821,
          1397,
          1068,
          1397,
          827,
          5215,
          647,
          821,
          888,
          647,
          1140,
          739,
          21,
          1133,
          587,
          1150,
          827,
          821,
          1610,
          739,
          986,
          574,
          788,
          328,
          903,
          492,
          541,
          1117,
          821,
          739,
          624,
          986,
          227,
          1117,
          1133,
          1117,
          1117,
          612,
          1117,
          1133,
          821,
          903,
          492,
          1117,
          1133,
          1133,
          278,
          1117,
          1133,
          1117,
          1117,
          81,
          1117,
          1117,
          612,
          903,
          1117,
          1117,
          1117,
          492,
          1117,
          1117,
          1133,
          612,
          1117,
          1117,
          683,
          827,
          1348,
          707,
          1643,
          1561,
          1133,
          1873,
          1232,
          468,
          468,
          1068,
          1232,
          888,
          1807,
          1166,
          1397,
          1561,
          1807,
          1478,
          1232,
          1561,
          647,
          683,
          1643,
          180,
          1972,
          1397,
          468,
          739,
          768,
          492,
          1056,
          1150,
          647,
          1068,
          647,
          1133,
          647,
          657,
          1133,
          497,
          197,
          1627,
          1627,
          1008,
          827,
          1381,
          707,
          768,
          888,
          903,
          492,
          282,
          827,
          1216,
          986,
          1957,
          1117,
          1561,
          1150,
          1232,
          657,
          587,
          468,
          986,
          492,
          986,
          683,
          1117,
          468,
          707,
          827,
          1117,
          1150,
          1643,
          739,
          888,
          468,
          707,
          1216,
          707,
          647,
          2044,
          216,
          1133,
          707,
          468,
          647,
          983,
          587,
          528,
          587,
          888,
          739,
          888,
          888,
          1216,
          587,
          587,
          1150,
          768,
          492,
          1315,
          768,
          768,
          888,
          528,
          1117,
          1129,
          768,
          1008,
          903,
          888,
          1008,
          647,
          821,
          1737,
          1478,
          986,
          827,
          647,
          492,
          657,
          903,
          903,
          2169,
          948,
          492,
          1150,
          492,
          1216,
          492,
          492,
          707,
          1068,
          612,
          492,
          768,
          1008,
          1150,
          492,
          1315,
          903,
          647,
          768,
          88,
          574,
          903,
          587,
          827,
          707,
          587,
          888,
          1393,
          1150,
          1216,
          587,
          647,
          768,
          1150,
          1232,
          707,
          948,
          468,
          1393,
          1008,
          768,
          1513,
          1133,
          647,
          468,
          468,
          587,
          827,
          827,
          768,
          888,
          1216,
          587,
          468,
          827,
          468,
          768,
          574,
          900,
          91,
          1709,
          900,
          707,
          252,
          1478,
          1397,
          2971,
          1232,
          827,
          1232,
          1247,
          1068,
          803,
          1068,
          888,
          888,
          986,
          1216,
          707,
          903,
          647,
          903,
          1216,
          1381,
          821,
          948,
          1232,
          768,
          4227,
          948,
          1216,
          821,
          986,
          1216,
          1478,
          1117,
          226,
          1216,
          821,
          155,
          1117,
          475,
          574,
          348,
          739,
          1019,
          920,
          1101,
          1101,
          739,
          574,
          657,
          1002,
          1150,
          788,
          986,
          83,
          821,
          986,
          821,
          821,
          986,
          948,
          768,
          647,
          1216,
          1216,
          575,
          1008,
          1315,
          1216,
          948,
          1643,
          1150,
          212,
          1315,
          1397,
          948,
          827,
          768,
          1216,
          1315,
          1478,
          1890,
          1561,
          1056,
          1133,
          1133,
          768,
          1561,
          1561,
          903,
          1133,
          1133,
          1150,
          1150,
          1133,
          1133,
          1133,
          1133,
          1133,
          1117,
          821,
          657,
          344,
          574,
          854,
          1166,
          1216,
          1150,
          1150,
          821,
          1232,
          1232,
          359,
          657,
          657,
          528,
          1972,
          1150,
          1150,
          657,
          707,
          903,
          739,
          903,
          1133,
          1133,
          612,
          821,
          1068,
          903,
          1117,
          821,
          1117,
          739,
          821,
          1117,
          903,
          903,
          821,
          1117,
          1117,
          1068,
          657,
          768,
          986,
          1117,
          732,
          1150,
          986,
          1117,
          739,
          903,
          739,
          1117,
          1117,
          1117,
          1315,
          1232,
          1397,
          1068,
          1397,
          1216,
          1117,
          1117,
          1199,
          739,
          821,
          768,
          1216,
          821,
          657,
          528,
          315,
          821,
          1183,
          657,
          821,
          1117,
          1216,
          1166,
          1216,
          1019,
          1150,
          574,
          1232,
          821,
          574,
          1150,
          920,
          903,
          739,
          1216,
          1188,
          587,
          1657,
          768,
          768,
          162,
          768,
          1676,
          739,
          1068,
          1150,
          768,
          443,
          936,
          1440,
          587,
          1068,
          986,
          948,
          986,
          1232,
          888,
          587,
          903,
          821,
          155,
          827,
          1249,
          32,
          1315,
          986,
          1397,
          558,
          706,
          671,
          1150,
          1183,
          295,
          739,
          986,
          821,
          986,
          1068,
          739,
          1019,
          328,
          1216,
          876,
          395,
          1166,
          903,
          776,
          574,
          1414,
          821,
          1068,
          1216,
          887,
          903,
          821,
          1166,
          986,
          1002,
          1056,
          723,
          1216,
          1150,
          920,
          1381,
          541,
          607,
          903,
          1216,
          1397,
          673,
          657,
          525,
          903,
          1315,
          827,
          821,
          612,
          986,
          1561,
          1478,
          587,
          1068,
          821,
          707,
          986,
          1183,
          1085,
          344,
          1117,
          1117,
          1117,
          1117,
          1101,
          1117,
          1216,
          612,
          1101,
          1117,
          1117,
          1117,
          1117,
          788,
          1133,
          1232,
          2022,
          827,
          1216,
          1150,
          707,
          647,
          528,
          1216,
          541,
          647,
          821,
          574,
          821,
          1414,
          1414,
          1774,
          1478,
          1150,
          821,
          1216,
          1774,
          657,
          837,
          657,
          1150,
          1150,
          1150,
          821,
          986,
          1397,
          739,
          903,
          903,
          1594,
          1133,
          903,
          657,
          657,
          1133,
          1133,
          986,
          1150,
          821,
          657,
          1117,
          657,
          986,
          1117,
          739,
          732,
          657,
          986,
          821,
          739,
          821,
          1133,
          1019,
          1133,
          986,
          1117,
          65,
          821,
          986,
          986,
          574,
          821,
          525,
          1561,
          986,
          657,
          986,
          1117,
          1068,
          821,
          821,
          986,
          1068,
          657,
          1150,
          888,
          657,
          1150,
          1478,
          660,
          468,
          821,
          42,
          739,
          1315,
          888,
          245,
          827,
          903,
          1150,
          986,
          1150,
          821,
          1500,
          1117,
          924,
          903,
          1150,
          903,
          647,
          167,
          986,
          986,
          986,
          1068,
          410,
          528,
          1452,
          1150,
          739,
          1315,
          1150,
          1397,
          1397,
          587,
          1216,
          986,
          1150,
          528,
          1056,
          1150,
          707,
          1150,
          1150,
          528,
          768,
          1068,
          1133,
          1478,
          528,
          612,
          707,
          1008,
          1133,
          768,
          647,
          528,
          888,
          948,
          827,
          1397,
          1315,
          1150,
          1150,
          768,
          948,
          1397,
          528,
          732,
          1150,
          1150,
          1133,
          768,
          827,
          407,
          1315,
          1068,
          816,
          407,
          1150,
          821,
          1150,
          1216,
          903,
          739,
          739,
          903,
          1068,
          407,
          1020,
          1133,
          1133,
          935,
          1232,
          1478,
          1133,
          1150,
          1315,
          1561,
          1232,
          1232,
          1133,
          903,
          1068,
          1331,
          587,
          657,
          1008,
          739,
          707,
          492,
          492,
          492,
          1216,
          657,
          887,
          1008,
          707,
          739,
          739,
          492,
          707,
          739,
          657,
          948,
          359,
          768,
          1216,
          492,
          827,
          65,
          888,
          948,
          903,
          888,
          1008,
          1216,
          1129,
          394,
          827,
          1068,
          821,
          359,
          1216,
          827,
          827,
          1068,
          1216,
          827,
          468,
          986,
          1183,
          587,
          1216,
          657,
          1150,
          821,
          1183,
          1166,
          986,
          1166,
          1150,
          673,
          574,
          986,
          1331,
          468,
          624,
          574,
          657,
          739,
          1052,
          953,
          1183,
          468,
          657,
          1150,
          574,
          1150,
          508,
          1052,
          508,
          821,
          95,
          821,
          1232,
          1957,
          1150,
          657,
          1282,
          2689,
          1068,
          986,
          1166,
          1150,
          1364,
          1133,
          1232,
          888,
          1117,
          1085,
          1117,
          1117,
          1117,
          1133,
          739,
          1117,
          1166,
          986,
          1133,
          1232,
          851,
          1216,
          1216,
          1216,
          1150,
          1216,
          1068,
          1216,
          657,
          948,
          986,
          821,
          1150,
          612,
          903,
          903,
          903,
          647,
          816,
          1150,
          1183,
          1183,
          1183,
          821,
          657,
          468,
          1397,
          647,
          1104,
          1216,
          827,
          707,
          739,
          315,
          903,
          1709,
          821,
          1895,
          657,
          903,
          468,
          587,
          821,
          3638,
          1643,
          1133,
          468,
          768,
          468,
          768,
          587,
          707,
          657,
          739,
          657,
          468,
          587,
          647,
          587,
          468,
          657,
          468,
          647,
          657,
          468,
          574,
          827,
          647,
          443,
          912,
          903,
          821,
          587,
          1737,
          344,
          657,
          1002,
          903,
          657,
          903,
          1150,
          821,
          821,
          903,
          821,
          903,
          821,
          821,
          587,
          903,
          1117,
          821,
          821,
          821,
          821,
          903,
          986,
          1068,
          528,
          1150,
          528,
          528,
          903,
          1117,
          903,
          1068,
          821,
          1068,
          528,
          903,
          1068,
          1117,
          739,
          903,
          1068,
          1150,
          903,
          739,
          1150,
          1117,
          903,
          657,
          739,
          903,
          1068,
          1232,
          1068,
          903,
          739,
          1068,
          1117,
          1117,
          1232,
          1068,
          1232,
          986,
          657,
          821,
          1315,
          1068,
          903,
          903,
          1068,
          739,
          1150,
          986,
          1315,
          739,
          739,
          903,
          1212,
          768,
          1397,
          1150,
          1478,
          1232,
          1035,
          706,
          1632,
          1002,
          821,
          903,
          1068,
          574,
          1216,
          1117,
          821,
          903,
          657,
          1150,
          657,
          1117,
          227,
          739,
          359,
          1068,
          1129,
          612,
          657,
          827,
          1068,
          903,
          827,
          1068,
          657,
          657,
          657,
          657,
          657,
          657,
          657,
          903,
          1150,
          1315,
          903,
          903,
          707,
          587,
          1315,
          1068,
          903,
          903,
          903,
          1068,
          903,
          1315,
          1315,
          1150,
          1068,
          903,
          1232,
          1315,
          903,
          1068,
          348,
          492,
          821,
          986,
          903,
          706,
          706,
          528,
          1232,
          468,
          1019,
          986,
          348,
          821,
          1906,
          1216,
          683,
          1052,
          821,
          65,
          1166,
          707,
          612,
          1133,
          612,
          657,
          1561,
          647,
          468,
          792,
          1150,
          920,
          903,
          972,
          468,
          1150,
          574,
          612,
          683,
          821,
          587,
          1133,
          768,
          1133,
          827,
          574,
          1117,
          410,
          359,
          739,
          827,
          888,
          1188,
          587,
          827,
          1561,
          1068,
          1610,
          1561,
          1890,
          1972,
          1561,
          768,
          1643,
          624,
          468,
          468,
          468,
          804,
          920,
          657,
          81,
          323,
          739,
          821,
          821,
          1150,
          587,
          81,
          468,
          1133,
          887,
          657,
          1117,
          1150,
          986,
          574,
          1080,
          262,
          1133,
          1117,
          1117,
          574,
          1117,
          1216,
          1133,
          647,
          612,
          1117,
          1216,
          1117,
          492,
          1117,
          1117,
          1117,
          1216,
          1117,
          768,
          612,
          1561,
          768,
          707,
          1200,
          600,
          2066,
          903,
          986,
          827,
          888,
          1986,
          2360,
          624,
          347,
          1068,
          1032,
          1196,
          821,
          903,
          1056,
          1056,
          1428,
          1272,
          1068,
          1056,
          768,
          1056,
          1056,
          1056,
          1056,
          1056,
          1056,
          827,
          1478,
          587,
          1056,
          903,
          1056,
          614,
          1992,
          252,
          1742,
          1068,
          1133,
          1445,
          768,
          1315,
          1117,
          1397,
          707,
          1315,
          162,
          168,
          587
         ],
         "xaxis": "x",
         "yaxis": "y"
        },
        {
         "alignmentgroup": "True",
         "bingroup": "x",
         "hovertemplate": "lead_time=5<br>price_20mg=%{x}<br>count=%{y}<extra></extra>",
         "legendgroup": "5",
         "marker": {
          "color": "#EF553B",
          "pattern": {
           "shape": ""
          }
         },
         "name": "5",
         "offsetgroup": "5",
         "orientation": "v",
         "showlegend": true,
         "type": "histogram",
         "x": [
          238,
          174,
          226,
          168.4,
          312,
          315,
          278,
          245,
          86,
          315,
          19,
          79,
          238,
          75,
          19,
          168.4,
          168.4,
          33,
          88,
          209,
          39,
          168.4,
          122.7,
          53,
          168.4,
          194,
          197,
          196,
          51,
          212,
          179,
          160,
          41,
          53,
          110.4,
          110.4,
          110.4,
          110.4,
          122.7,
          122.7,
          122.7,
          122.7,
          110.4,
          110.4,
          110.4,
          122.7,
          110.4,
          110.4,
          122.7,
          110.4,
          122.7,
          122.7,
          110.4,
          110.4,
          122.7,
          122.7,
          110.4,
          122.7,
          122.7,
          110.4,
          110.4,
          122.7,
          110.4,
          122.7,
          168.4,
          110.4,
          122.7,
          153,
          66,
          122.7,
          122.7,
          229,
          122.7,
          122.7,
          122.7,
          122.7,
          135,
          122.7,
          432,
          72,
          44,
          19,
          312,
          128,
          69,
          122,
          336,
          19,
          111,
          23,
          19,
          226,
          232,
          45,
          747,
          19,
          186,
          19,
          72,
          66,
          174,
          226,
          19,
          218,
          109,
          40,
          19,
          312,
          69,
          179,
          53,
          30,
          118,
          76,
          101,
          82,
          205,
          34,
          19,
          275,
          89,
          235,
          45,
          123,
          229,
          45,
          238,
          182,
          197,
          79,
          205,
          202,
          202,
          315,
          216,
          306,
          729,
          19,
          87,
          249,
          88,
          72,
          87,
          37,
          43,
          173,
          110.4,
          122.7,
          135,
          111,
          122.7,
          122.7,
          110.4,
          110.4,
          122.7,
          69,
          110.4,
          167,
          24,
          212,
          122.7,
          205.4,
          66,
          110.4,
          110.4,
          206.4,
          110.4,
          220,
          122.7,
          79,
          66,
          197,
          110.4,
          155,
          110.4,
          197,
          218,
          174,
          110.4,
          740,
          46,
          168.4,
          110.4,
          186,
          285,
          362.8,
          255.4,
          258,
          659,
          202,
          205,
          122.7,
          61,
          226,
          168.4,
          110.4,
          164,
          256,
          110.4,
          168.4,
          155,
          245,
          110.4,
          166,
          218,
          222,
          122.7,
          122.7,
          115,
          273,
          61,
          168.4,
          102,
          177,
          315,
          268,
          455,
          275,
          43,
          19,
          159,
          177,
          110.4,
          258,
          453.9,
          347,
          110.4,
          94,
          168,
          220,
          45,
          168.4,
          42,
          122.7,
          168.4,
          282,
          122.7,
          230.8,
          122.7,
          735,
          347,
          168.4,
          168.4,
          252,
          245,
          212,
          229,
          524,
          229,
          277.1,
          110.4,
          122.7,
          122.7,
          122.7,
          53,
          222.7,
          252,
          149,
          46,
          330,
          168.4,
          122.7,
          188,
          262,
          86,
          110.4,
          110.4,
          122.7,
          122.7,
          315,
          122.7,
          110.4,
          174,
          110.4,
          229,
          110.4,
          122.7,
          200,
          245,
          229,
          255.4,
          249,
          200.9,
          255.4,
          233.6,
          19,
          42,
          118,
          40,
          135,
          61,
          66,
          179,
          110.4,
          252,
          46,
          225.3,
          113,
          109,
          88,
          142,
          160,
          122.7,
          22,
          42,
          19,
          53,
          110.4,
          23,
          149,
          45,
          42,
          42,
          42,
          42,
          35,
          419,
          29,
          63,
          37,
          66,
          122.7,
          110.4,
          53,
          168.4,
          110.4,
          52,
          52,
          245,
          295,
          493,
          122.7,
          663,
          122.7,
          110.4,
          110.4,
          122.7,
          203.5,
          218,
          209,
          122.7,
          168.4,
          238,
          162,
          108,
          301,
          210,
          252,
          729,
          1306,
          226,
          168,
          64,
          174,
          155,
          252,
          174,
          154,
          65,
          524,
          432,
          30,
          88,
          68,
          48,
          94,
          44,
          179,
          249,
          25,
          94,
          45,
          212,
          226,
          66,
          179,
          122.7,
          182,
          245,
          88,
          122.7,
          25,
          122.7,
          122.7,
          122.7,
          122.7,
          122.7,
          122.7,
          229,
          88,
          89,
          139,
          122.7,
          122.7,
          226,
          102,
          168.4,
          238,
          212,
          222,
          255.4,
          659,
          195,
          344,
          42,
          42,
          344,
          110.4,
          110.4,
          110.4,
          195,
          110.4,
          122.7,
          134.4,
          110.4,
          110.4,
          110.4,
          110.4,
          229,
          330,
          182.4,
          110.4,
          19,
          19,
          110.4,
          222,
          84,
          75,
          174,
          232,
          222,
          168,
          19,
          359,
          249,
          202,
          19,
          229,
          229,
          168,
          179,
          153,
          226,
          245,
          262,
          19,
          264,
          57.7,
          104,
          50,
          52,
          229,
          19,
          19,
          35,
          42,
          195,
          46,
          587,
          97,
          19,
          252,
          3818,
          407,
          50,
          135,
          330,
          25,
          57,
          36,
          21,
          19,
          53,
          88,
          19,
          110.4,
          252,
          66,
          19,
          61,
          302,
          437,
          19,
          19,
          19,
          46,
          226,
          301,
          122.7,
          122.7,
          150,
          110.4,
          110.4,
          112,
          122.7,
          211,
          153,
          19,
          19,
          19,
          19,
          315,
          315,
          22,
          110.4,
          245,
          42,
          110.4,
          212,
          19,
          668,
          229,
          26,
          462,
          266,
          805,
          295,
          717,
          462,
          232,
          659,
          347,
          94,
          315,
          312,
          315,
          315,
          174,
          256,
          315,
          226,
          289,
          315,
          581,
          425,
          763,
          312,
          252,
          256,
          306,
          75,
          252,
          493,
          600,
          298,
          252,
          226,
          823,
          805,
          295,
          659,
          210,
          174,
          40,
          800,
          800,
          212,
          252,
          301,
          212,
          110.4,
          171,
          245,
          545,
          301,
          312,
          508,
          651,
          315,
          805,
          312,
          226,
          249,
          312,
          262,
          493,
          235,
          25,
          218,
          212,
          168,
          197,
          65,
          94,
          572,
          19,
          179,
          226,
          30,
          614,
          174,
          51,
          19,
          432,
          67,
          524,
          179,
          312,
          252,
          229,
          179,
          75,
          312,
          73,
          23,
          162,
          245,
          26,
          42,
          19,
          282,
          19,
          347,
          36,
          34,
          94,
          135,
          19,
          315,
          44,
          361,
          19,
          344,
          792,
          149,
          179,
          212,
          41,
          212,
          315,
          65,
          182,
          42,
          162,
          462,
          28,
          182,
          182,
          182,
          57.7,
          243,
          155,
          168,
          203,
          245,
          249,
          226,
          524,
          205.4,
          282,
          347,
          205.4,
          314,
          740,
          344,
          273,
          344,
          200,
          232,
          344,
          347,
          828,
          249,
          252,
          226,
          252,
          245,
          624,
          344,
          609,
          308,
          805,
          55,
          185,
          285,
          293,
          92,
          57,
          226,
          312,
          341,
          161,
          306,
          249,
          249,
          218,
          135,
          646,
          312,
          19,
          238,
          501,
          2047,
          278,
          315,
          315,
          238,
          516,
          147,
          312,
          252,
          122.7,
          252,
          110.4,
          330,
          605,
          110.4,
          651,
          122.7,
          122.7,
          155,
          19,
          50,
          46,
          19,
          54,
          455,
          162,
          42,
          508,
          273,
          19,
          110.4,
          162,
          205,
          94,
          800,
          341,
          226,
          249,
          268,
          312,
          249,
          125,
          273,
          245,
          282,
          238,
          238,
          238,
          293,
          275,
          202,
          312,
          205,
          229,
          101,
          226,
          330,
          110.4,
          347,
          800,
          252,
          19,
          595,
          181,
          218,
          19,
          238,
          903,
          344,
          344,
          174,
          202,
          174,
          266,
          206,
          122.7,
          212,
          101,
          220,
          220,
          166,
          19,
          220,
          220,
          122.7,
          122.7,
          220,
          122.7,
          110.4,
          122.7,
          168.4,
          174,
          168.4,
          122.7,
          811,
          105,
          19,
          209,
          25,
          252,
          205,
          57,
          166,
          19,
          168,
          600,
          182,
          226,
          19,
          226,
          88,
          1041,
          205,
          252,
          800,
          218,
          513,
          344,
          312,
          266,
          344,
          238,
          293,
          315,
          226,
          273,
          212,
          216,
          245,
          249,
          245,
          222,
          226,
          312,
          19,
          80,
          684,
          30,
          432,
          249,
          54,
          680,
          72,
          344,
          322,
          122,
          212,
          432,
          122,
          200,
          322,
          249.9,
          110.4,
          238,
          69,
          162,
          155,
          162,
          202,
          162,
          101,
          110.4,
          182,
          174,
          89.2,
          122.7,
          168.4,
          220,
          122.7,
          220,
          168.4,
          226,
          110.4,
          168.4,
          168.4,
          220,
          53,
          135,
          110.4,
          651,
          312,
          365,
          238,
          595,
          97,
          245,
          270,
          229,
          200,
          200,
          205,
          154,
          182,
          266,
          179,
          61,
          226,
          135,
          205,
          226,
          249,
          168,
          42,
          591,
          153,
          226,
          256,
          61,
          229,
          39,
          245,
          168,
          84,
          212,
          282,
          66,
          200,
          484,
          216,
          674,
          218,
          238,
          238,
          226,
          315,
          308,
          484,
          516,
          205,
          222,
          315,
          186,
          182,
          341,
          329,
          315,
          330,
          306,
          440,
          92,
          212,
          205,
          174,
          212,
          67,
          252,
          238,
          152,
          168.4,
          59,
          80,
          315,
          245,
          541,
          94,
          293,
          226,
          20,
          330,
          249,
          36,
          19,
          94,
          30,
          330,
          30,
          520,
          541,
          724,
          335,
          758,
          545,
          338,
          57.7,
          98,
          20,
          218,
          162,
          205,
          94,
          245,
          50,
          301,
          273,
          35,
          174,
          19,
          285,
          226,
          212,
          19,
          344,
          312,
          122.7,
          122.7,
          174,
          82,
          46,
          19,
          174,
          329,
          200,
          153,
          379,
          86,
          341,
          763,
          122.7,
          252,
          285,
          315,
          226,
          646,
          222,
          110.4,
          168,
          45,
          477,
          104,
          490,
          93,
          490,
          309,
          344,
          312,
          182,
          285,
          243,
          315,
          200,
          122.7,
          179,
          166,
          110.4,
          122.7,
          122.7,
          197,
          455,
          202,
          23,
          205,
          135,
          110.4,
          229,
          249,
          96,
          252,
          205,
          490,
          166,
          315,
          245,
          232,
          66,
          238,
          197,
          266,
          226,
          600,
          524,
          154,
          238,
          252,
          226,
          226,
          168,
          245,
          330,
          347,
          97,
          97,
          306,
          110.4,
          168.4,
          19,
          252,
          268,
          19,
          315,
          226,
          202,
          266,
          651,
          122.7,
          122.7,
          122.7,
          122.7,
          168.4,
          220,
          220,
          220,
          110.4,
          315,
          249,
          202,
          76,
          252,
          312,
          226,
          22,
          174,
          19,
          19,
          32,
          19,
          229,
          19,
          122.7,
          19,
          174,
          459,
          162,
          21,
          20,
          19,
          162,
          97,
          19,
          37,
          344,
          25,
          200,
          19,
          61,
          19,
          19,
          186,
          42,
          22,
          37,
          545,
          490,
          285,
          218,
          524,
          252,
          245,
          524,
          306,
          659,
          188,
          226,
          600,
          319,
          315,
          205,
          344,
          252,
          312,
          252,
          347,
          437,
          344,
          218,
          365,
          528,
          212,
          336,
          218,
          205,
          315,
          245,
          464,
          651,
          202,
          577.6,
          168.4,
          168.4,
          312,
          329,
          235,
          232,
          319,
          600,
          600,
          166,
          212,
          212,
          303,
          102,
          168.4,
          122.7,
          168.4,
          134.4,
          122.7,
          202.6,
          122.7,
          110.4,
          269,
          212,
          50,
          168.4,
          110.4,
          269,
          149.33333333333334,
          42,
          226,
          122.7
         ],
         "xaxis": "x",
         "yaxis": "y"
        },
        {
         "alignmentgroup": "True",
         "bingroup": "x",
         "hovertemplate": "lead_time=15<br>price_20mg=%{x}<br>count=%{y}<extra></extra>",
         "legendgroup": "15",
         "marker": {
          "color": "#00cc96",
          "pattern": {
           "shape": ""
          }
         },
         "name": "15",
         "offsetgroup": "15",
         "orientation": "v",
         "showlegend": true,
         "type": "histogram",
         "x": [
          4140,
          4140,
          4140,
          4140,
          4140,
          4140,
          4140,
          4140,
          4140,
          4140,
          4140,
          4140,
          4140,
          4140,
          4140,
          4140,
          4140,
          4140,
          4140,
          4140,
          4140,
          4140,
          4140,
          4140,
          4140,
          4140,
          4140,
          4140,
          4140,
          4140,
          4140,
          4140,
          4140,
          4140,
          4140,
          4140,
          4140,
          4140,
          4140,
          4140,
          4140,
          4140,
          4140,
          4140,
          4140,
          4140,
          4140,
          4140,
          4140,
          4140,
          4140,
          4140,
          4140,
          4140,
          4140,
          4140,
          4140,
          4140,
          4140,
          4140
         ],
         "xaxis": "x",
         "yaxis": "y"
        }
       ],
       "layout": {
        "autosize": true,
        "barmode": "relative",
        "images": [
         {
          "sizex": 0.3,
          "sizey": 0.3,
          "source": "https://raw.githubusercontent.com/mwinokan/HIPPO/main/logos/hippo_logo_tightcrop.png",
          "x": 0.95,
          "xanchor": "right",
          "xref": "paper",
          "y": 0.95,
          "yanchor": "top",
          "yref": "paper"
         }
        ],
        "legend": {
         "title": {
          "text": "lead_time"
         },
         "tracegroupgap": 0
        },
        "margin": {
         "t": 60
        },
        "template": {
         "data": {
          "bar": [
           {
            "error_x": {
             "color": "#2a3f5f"
            },
            "error_y": {
             "color": "#2a3f5f"
            },
            "marker": {
             "line": {
              "color": "#E5ECF6",
              "width": 0.5
             },
             "pattern": {
              "fillmode": "overlay",
              "size": 10,
              "solidity": 0.2
             }
            },
            "type": "bar"
           }
          ],
          "barpolar": [
           {
            "marker": {
             "line": {
              "color": "#E5ECF6",
              "width": 0.5
             },
             "pattern": {
              "fillmode": "overlay",
              "size": 10,
              "solidity": 0.2
             }
            },
            "type": "barpolar"
           }
          ],
          "carpet": [
           {
            "aaxis": {
             "endlinecolor": "#2a3f5f",
             "gridcolor": "white",
             "linecolor": "white",
             "minorgridcolor": "white",
             "startlinecolor": "#2a3f5f"
            },
            "baxis": {
             "endlinecolor": "#2a3f5f",
             "gridcolor": "white",
             "linecolor": "white",
             "minorgridcolor": "white",
             "startlinecolor": "#2a3f5f"
            },
            "type": "carpet"
           }
          ],
          "choropleth": [
           {
            "colorbar": {
             "outlinewidth": 0,
             "ticks": ""
            },
            "type": "choropleth"
           }
          ],
          "contour": [
           {
            "colorbar": {
             "outlinewidth": 0,
             "ticks": ""
            },
            "colorscale": [
             [
              0,
              "#0d0887"
             ],
             [
              0.1111111111111111,
              "#46039f"
             ],
             [
              0.2222222222222222,
              "#7201a8"
             ],
             [
              0.3333333333333333,
              "#9c179e"
             ],
             [
              0.4444444444444444,
              "#bd3786"
             ],
             [
              0.5555555555555556,
              "#d8576b"
             ],
             [
              0.6666666666666666,
              "#ed7953"
             ],
             [
              0.7777777777777778,
              "#fb9f3a"
             ],
             [
              0.8888888888888888,
              "#fdca26"
             ],
             [
              1,
              "#f0f921"
             ]
            ],
            "type": "contour"
           }
          ],
          "contourcarpet": [
           {
            "colorbar": {
             "outlinewidth": 0,
             "ticks": ""
            },
            "type": "contourcarpet"
           }
          ],
          "heatmap": [
           {
            "colorbar": {
             "outlinewidth": 0,
             "ticks": ""
            },
            "colorscale": [
             [
              0,
              "#0d0887"
             ],
             [
              0.1111111111111111,
              "#46039f"
             ],
             [
              0.2222222222222222,
              "#7201a8"
             ],
             [
              0.3333333333333333,
              "#9c179e"
             ],
             [
              0.4444444444444444,
              "#bd3786"
             ],
             [
              0.5555555555555556,
              "#d8576b"
             ],
             [
              0.6666666666666666,
              "#ed7953"
             ],
             [
              0.7777777777777778,
              "#fb9f3a"
             ],
             [
              0.8888888888888888,
              "#fdca26"
             ],
             [
              1,
              "#f0f921"
             ]
            ],
            "type": "heatmap"
           }
          ],
          "heatmapgl": [
           {
            "colorbar": {
             "outlinewidth": 0,
             "ticks": ""
            },
            "colorscale": [
             [
              0,
              "#0d0887"
             ],
             [
              0.1111111111111111,
              "#46039f"
             ],
             [
              0.2222222222222222,
              "#7201a8"
             ],
             [
              0.3333333333333333,
              "#9c179e"
             ],
             [
              0.4444444444444444,
              "#bd3786"
             ],
             [
              0.5555555555555556,
              "#d8576b"
             ],
             [
              0.6666666666666666,
              "#ed7953"
             ],
             [
              0.7777777777777778,
              "#fb9f3a"
             ],
             [
              0.8888888888888888,
              "#fdca26"
             ],
             [
              1,
              "#f0f921"
             ]
            ],
            "type": "heatmapgl"
           }
          ],
          "histogram": [
           {
            "marker": {
             "pattern": {
              "fillmode": "overlay",
              "size": 10,
              "solidity": 0.2
             }
            },
            "type": "histogram"
           }
          ],
          "histogram2d": [
           {
            "colorbar": {
             "outlinewidth": 0,
             "ticks": ""
            },
            "colorscale": [
             [
              0,
              "#0d0887"
             ],
             [
              0.1111111111111111,
              "#46039f"
             ],
             [
              0.2222222222222222,
              "#7201a8"
             ],
             [
              0.3333333333333333,
              "#9c179e"
             ],
             [
              0.4444444444444444,
              "#bd3786"
             ],
             [
              0.5555555555555556,
              "#d8576b"
             ],
             [
              0.6666666666666666,
              "#ed7953"
             ],
             [
              0.7777777777777778,
              "#fb9f3a"
             ],
             [
              0.8888888888888888,
              "#fdca26"
             ],
             [
              1,
              "#f0f921"
             ]
            ],
            "type": "histogram2d"
           }
          ],
          "histogram2dcontour": [
           {
            "colorbar": {
             "outlinewidth": 0,
             "ticks": ""
            },
            "colorscale": [
             [
              0,
              "#0d0887"
             ],
             [
              0.1111111111111111,
              "#46039f"
             ],
             [
              0.2222222222222222,
              "#7201a8"
             ],
             [
              0.3333333333333333,
              "#9c179e"
             ],
             [
              0.4444444444444444,
              "#bd3786"
             ],
             [
              0.5555555555555556,
              "#d8576b"
             ],
             [
              0.6666666666666666,
              "#ed7953"
             ],
             [
              0.7777777777777778,
              "#fb9f3a"
             ],
             [
              0.8888888888888888,
              "#fdca26"
             ],
             [
              1,
              "#f0f921"
             ]
            ],
            "type": "histogram2dcontour"
           }
          ],
          "mesh3d": [
           {
            "colorbar": {
             "outlinewidth": 0,
             "ticks": ""
            },
            "type": "mesh3d"
           }
          ],
          "parcoords": [
           {
            "line": {
             "colorbar": {
              "outlinewidth": 0,
              "ticks": ""
             }
            },
            "type": "parcoords"
           }
          ],
          "pie": [
           {
            "automargin": true,
            "type": "pie"
           }
          ],
          "scatter": [
           {
            "fillpattern": {
             "fillmode": "overlay",
             "size": 10,
             "solidity": 0.2
            },
            "type": "scatter"
           }
          ],
          "scatter3d": [
           {
            "line": {
             "colorbar": {
              "outlinewidth": 0,
              "ticks": ""
             }
            },
            "marker": {
             "colorbar": {
              "outlinewidth": 0,
              "ticks": ""
             }
            },
            "type": "scatter3d"
           }
          ],
          "scattercarpet": [
           {
            "marker": {
             "colorbar": {
              "outlinewidth": 0,
              "ticks": ""
             }
            },
            "type": "scattercarpet"
           }
          ],
          "scattergeo": [
           {
            "marker": {
             "colorbar": {
              "outlinewidth": 0,
              "ticks": ""
             }
            },
            "type": "scattergeo"
           }
          ],
          "scattergl": [
           {
            "marker": {
             "colorbar": {
              "outlinewidth": 0,
              "ticks": ""
             }
            },
            "type": "scattergl"
           }
          ],
          "scattermapbox": [
           {
            "marker": {
             "colorbar": {
              "outlinewidth": 0,
              "ticks": ""
             }
            },
            "type": "scattermapbox"
           }
          ],
          "scatterpolar": [
           {
            "marker": {
             "colorbar": {
              "outlinewidth": 0,
              "ticks": ""
             }
            },
            "type": "scatterpolar"
           }
          ],
          "scatterpolargl": [
           {
            "marker": {
             "colorbar": {
              "outlinewidth": 0,
              "ticks": ""
             }
            },
            "type": "scatterpolargl"
           }
          ],
          "scatterternary": [
           {
            "marker": {
             "colorbar": {
              "outlinewidth": 0,
              "ticks": ""
             }
            },
            "type": "scatterternary"
           }
          ],
          "surface": [
           {
            "colorbar": {
             "outlinewidth": 0,
             "ticks": ""
            },
            "colorscale": [
             [
              0,
              "#0d0887"
             ],
             [
              0.1111111111111111,
              "#46039f"
             ],
             [
              0.2222222222222222,
              "#7201a8"
             ],
             [
              0.3333333333333333,
              "#9c179e"
             ],
             [
              0.4444444444444444,
              "#bd3786"
             ],
             [
              0.5555555555555556,
              "#d8576b"
             ],
             [
              0.6666666666666666,
              "#ed7953"
             ],
             [
              0.7777777777777778,
              "#fb9f3a"
             ],
             [
              0.8888888888888888,
              "#fdca26"
             ],
             [
              1,
              "#f0f921"
             ]
            ],
            "type": "surface"
           }
          ],
          "table": [
           {
            "cells": {
             "fill": {
              "color": "#EBF0F8"
             },
             "line": {
              "color": "white"
             }
            },
            "header": {
             "fill": {
              "color": "#C8D4E3"
             },
             "line": {
              "color": "white"
             }
            },
            "type": "table"
           }
          ]
         },
         "layout": {
          "annotationdefaults": {
           "arrowcolor": "#2a3f5f",
           "arrowhead": 0,
           "arrowwidth": 1
          },
          "autotypenumbers": "strict",
          "coloraxis": {
           "colorbar": {
            "outlinewidth": 0,
            "ticks": ""
           }
          },
          "colorscale": {
           "diverging": [
            [
             0,
             "#8e0152"
            ],
            [
             0.1,
             "#c51b7d"
            ],
            [
             0.2,
             "#de77ae"
            ],
            [
             0.3,
             "#f1b6da"
            ],
            [
             0.4,
             "#fde0ef"
            ],
            [
             0.5,
             "#f7f7f7"
            ],
            [
             0.6,
             "#e6f5d0"
            ],
            [
             0.7,
             "#b8e186"
            ],
            [
             0.8,
             "#7fbc41"
            ],
            [
             0.9,
             "#4d9221"
            ],
            [
             1,
             "#276419"
            ]
           ],
           "sequential": [
            [
             0,
             "#0d0887"
            ],
            [
             0.1111111111111111,
             "#46039f"
            ],
            [
             0.2222222222222222,
             "#7201a8"
            ],
            [
             0.3333333333333333,
             "#9c179e"
            ],
            [
             0.4444444444444444,
             "#bd3786"
            ],
            [
             0.5555555555555556,
             "#d8576b"
            ],
            [
             0.6666666666666666,
             "#ed7953"
            ],
            [
             0.7777777777777778,
             "#fb9f3a"
            ],
            [
             0.8888888888888888,
             "#fdca26"
            ],
            [
             1,
             "#f0f921"
            ]
           ],
           "sequentialminus": [
            [
             0,
             "#0d0887"
            ],
            [
             0.1111111111111111,
             "#46039f"
            ],
            [
             0.2222222222222222,
             "#7201a8"
            ],
            [
             0.3333333333333333,
             "#9c179e"
            ],
            [
             0.4444444444444444,
             "#bd3786"
            ],
            [
             0.5555555555555556,
             "#d8576b"
            ],
            [
             0.6666666666666666,
             "#ed7953"
            ],
            [
             0.7777777777777778,
             "#fb9f3a"
            ],
            [
             0.8888888888888888,
             "#fdca26"
            ],
            [
             1,
             "#f0f921"
            ]
           ]
          },
          "colorway": [
           "#636efa",
           "#EF553B",
           "#00cc96",
           "#ab63fa",
           "#FFA15A",
           "#19d3f3",
           "#FF6692",
           "#B6E880",
           "#FF97FF",
           "#FECB52"
          ],
          "font": {
           "color": "#2a3f5f"
          },
          "geo": {
           "bgcolor": "white",
           "lakecolor": "white",
           "landcolor": "#E5ECF6",
           "showlakes": true,
           "showland": true,
           "subunitcolor": "white"
          },
          "hoverlabel": {
           "align": "left"
          },
          "hovermode": "closest",
          "mapbox": {
           "style": "light"
          },
          "paper_bgcolor": "white",
          "plot_bgcolor": "#E5ECF6",
          "polar": {
           "angularaxis": {
            "gridcolor": "white",
            "linecolor": "white",
            "ticks": ""
           },
           "bgcolor": "#E5ECF6",
           "radialaxis": {
            "gridcolor": "white",
            "linecolor": "white",
            "ticks": ""
           }
          },
          "scene": {
           "xaxis": {
            "backgroundcolor": "#E5ECF6",
            "gridcolor": "white",
            "gridwidth": 2,
            "linecolor": "white",
            "showbackground": true,
            "ticks": "",
            "zerolinecolor": "white"
           },
           "yaxis": {
            "backgroundcolor": "#E5ECF6",
            "gridcolor": "white",
            "gridwidth": 2,
            "linecolor": "white",
            "showbackground": true,
            "ticks": "",
            "zerolinecolor": "white"
           },
           "zaxis": {
            "backgroundcolor": "#E5ECF6",
            "gridcolor": "white",
            "gridwidth": 2,
            "linecolor": "white",
            "showbackground": true,
            "ticks": "",
            "zerolinecolor": "white"
           }
          },
          "shapedefaults": {
           "line": {
            "color": "#2a3f5f"
           }
          },
          "ternary": {
           "aaxis": {
            "gridcolor": "white",
            "linecolor": "white",
            "ticks": ""
           },
           "baxis": {
            "gridcolor": "white",
            "linecolor": "white",
            "ticks": ""
           },
           "bgcolor": "#E5ECF6",
           "caxis": {
            "gridcolor": "white",
            "linecolor": "white",
            "ticks": ""
           }
          },
          "title": {
           "x": 0.05
          },
          "xaxis": {
           "automargin": true,
           "gridcolor": "white",
           "linecolor": "white",
           "ticks": "",
           "title": {
            "standoff": 15
           },
           "zerolinecolor": "white",
           "zerolinewidth": 2
          },
          "yaxis": {
           "automargin": true,
           "gridcolor": "white",
           "linecolor": "white",
           "ticks": "",
           "title": {
            "standoff": 15
           },
           "zerolinecolor": "white",
           "zerolinewidth": 2
          }
         }
        },
        "title": {
         "automargin": false,
         "text": "<b>A71EV2A</b>: Reactant Pricing<br><sup><i>#BBs=7358</i></sup>",
         "yref": "container"
        },
        "xaxis": {
         "anchor": "y",
         "autorange": true,
         "domain": [
          0,
          1
         ],
         "range": [
          0,
          5300
         ],
         "title": {
          "text": "Reactant"
         },
         "type": "linear"
        },
        "yaxis": {
         "anchor": "x",
         "autorange": true,
         "domain": [
          0,
          1
         ],
         "range": [
          0,
          395.7894736842105
         ],
         "title": {
          "text": "Price for 20mg [$USD]"
         }
        }
       }
      },
      "image/png": "[encoded data removed]",
      "text/html": [
       "<div>                            <div id=\"029dd419-962d-4d1c-87d1-9cdd94b9f00b\" class=\"plotly-graph-div\" style=\"height:525px; width:100%;\"></div>            <script type=\"text/javascript\">                require([\"plotly\"], function(Plotly) {                    window.PLOTLYENV=window.PLOTLYENV || {};                                    if (document.getElementById(\"029dd419-962d-4d1c-87d1-9cdd94b9f00b\")) {                    Plotly.newPlot(                        \"029dd419-962d-4d1c-87d1-9cdd94b9f00b\",                        [{\"alignmentgroup\":\"True\",\"bingroup\":\"x\",\"hovertemplate\":\"lead_time=20\\u003cbr\\u003eprice_20mg=%{x}\\u003cbr\\u003ecount=%{y}\\u003cextra\\u003e\\u003c\\u002fextra\\u003e\",\"legendgroup\":\"20\",\"marker\":{\"color\":\"#636efa\",\"pattern\":{\"shape\":\"\"}},\"name\":\"20\",\"offsetgroup\":\"20\",\"orientation\":\"v\",\"showlegend\":true,\"x\":[986.0,986.0,671.0,821.0,347.0,612.0,612.0,347.0,1232.0,1068.0,612.0,328.0,238.0,1414.0,492.0,1150.0,739.0,1216.0,1183.0,986.0,551.0,888.0,1068.0,657.0,2655.0,84.0,587.0,587.0,1150.0,587.0,854.0,1216.0,468.0,821.0,1939.0,647.0,1150.0,1150.0,107.0,854.0,492.0,455.0,492.0,455.0,205.0,252.0,359.0,888.0,1261.0,1166.0,528.0,1150.0,528.0,903.0,1216.0,624.0,854.0,903.0,821.0,328.0,83.0,903.0,851.0,647.0,657.0,528.0,1216.0,167.0,739.0,348.0,30.0,574.0,574.0,528.0,95.0,739.0,1117.0,888.0,953.0,1511.0,986.0,986.0,407.0,612.0,1216.0,455.0,44.0,657.0,903.0,348.0,647.0,739.0,903.0,986.0,986.0,903.0,707.0,739.0,1117.0,1068.0,455.0,657.0,1643.0,90.0,986.0,1117.0,574.0,986.0,739.0,1216.0,410.0,821.0,986.0,348.0,707.0,888.0,707.0,492.0,492.0,492.0,1199.0,1216.0,912.0,1150.0,1476.0,821.0,1117.0,1117.0,1117.0,1216.0,1117.0,903.0,1117.0,1117.0,1133.0,1216.0,821.0,739.0,1247.0,1150.0,888.0,1216.0,707.0,1080.0,1397.0,587.0,1101.0,839.0,1101.0,1779.0,657.0,739.0,97.0,1364.0,1117.0,768.0,563.0,924.0,888.0,1068.0,707.0,768.0,768.0,1232.0,739.0,768.0,587.0,407.0,1133.0,1117.0,1117.0,1298.0,1133.0,1232.0,1150.0,707.0,1117.0,1117.0,587.0,82.0,948.0,1643.0,1895.0,888.0,1315.0,953.0,948.0,986.0,768.0,1348.0,574.0,76.0,76.0,1133.0,459.0,816.0,854.0,200.0,1216.0,205.0,1117.0,788.0,624.0,719.0,624.0,816.0,624.0,624.0,816.0,612.0,574.0,587.0,587.0,1117.0,1117.0,827.0,624.0,528.0,587.0,986.0,888.0,1164.0,657.0,1183.0,227.0,707.0,821.0,468.0,707.0,900.0,1117.0,707.0,468.0,492.0,888.0,587.0,492.0,986.0,780.0,492.0,468.0,707.0,587.0,657.0,888.0,647.0,328.0,707.0,407.0,948.0,587.0,707.0,864.0,587.0,1117.0,468.0,768.0,468.0,657.0,683.0,587.0,227.0,657.0,935.0,1150.0,811.0,657.0,122.7,587.0,986.0,903.0,1150.0,361.0,359.0,1117.0,587.0,299.0,986.0,821.0,227.0,587.0,647.0,948.0,468.0,468.0,903.0,587.0,528.0,732.0,455.0,455.0,1320.0,864.0,1129.0,1117.0,574.0,903.0,821.0,739.0,739.0,657.0,821.0,657.0,739.0,739.0,821.0,903.0,574.0,821.0,821.0,821.0,821.0,23.0,1117.0,1133.0,1290.0,1133.0,1117.0,816.0,903.0,707.0,1478.0,1232.0,1150.0,185.0,671.0,118.0,1199.0,21.0,1068.0,959.0,1068.0,407.0,19.0,21.0,1068.0,81.0,1080.0,66.0,870.0,46.0,739.0,744.0,468.0,607.0,492.0,492.0,492.0,574.0,986.0,263.0,821.0,657.0,739.0,739.0,739.0,407.0,772.0,1085.0,821.0,607.0,612.0,1117.0,888.0,821.0,657.0,574.0,1150.0,657.0,986.0,323.0,612.0,587.0,612.0,739.0,105.0,1117.0,821.0,612.0,468.0,515.0,612.0,903.0,1133.0,1101.0,986.0,328.0,492.0,612.0,574.0,563.0,587.0,1002.0,83.0,1117.0,348.0,821.0,492.0,612.0,1528.0,1117.0,612.0,739.0,612.0,492.0,612.0,155.0,348.0,1140.0,706.0,657.0,1117.0,739.0,854.0,1117.0,587.0,1133.0,821.0,821.0,821.0,1101.0,1117.0,574.0,612.0,528.0,612.0,135.0,739.0,81.0,739.0,459.0,903.0,1183.0,739.0,744.0,1150.0,1212.0,924.0,1008.0,1216.0,1261.0,1200.0,1129.0,1150.0,1308.0,1224.0,920.0,1261.0,1068.0,1381.0,1129.0,920.0,2454.0,1224.0,924.0,1068.0,1068.0,1216.0,647.0,1068.0,1068.0,1272.0,1133.0,739.0,739.0,851.0,912.0,707.0,827.0,821.0,739.0,660.0,707.0,1196.0,1188.0,1216.0,903.0,888.0,739.0,1008.0,903.0,1216.0,739.0,1807.0,1643.0,1397.0,903.0,821.0,1397.0,1068.0,1397.0,827.0,5215.0,647.0,821.0,888.0,647.0,1140.0,739.0,21.0,1133.0,587.0,1150.0,827.0,821.0,1610.0,739.0,986.0,574.0,788.0,328.0,903.0,492.0,541.0,1117.0,821.0,739.0,624.0,986.0,227.0,1117.0,1133.0,1117.0,1117.0,612.0,1117.0,1133.0,821.0,903.0,492.0,1117.0,1133.0,1133.0,278.0,1117.0,1133.0,1117.0,1117.0,81.0,1117.0,1117.0,612.0,903.0,1117.0,1117.0,1117.0,492.0,1117.0,1117.0,1133.0,612.0,1117.0,1117.0,683.0,827.0,1348.0,707.0,1643.0,1561.0,1133.0,1873.0,1232.0,468.0,468.0,1068.0,1232.0,888.0,1807.0,1166.0,1397.0,1561.0,1807.0,1478.0,1232.0,1561.0,647.0,683.0,1643.0,180.0,1972.0,1397.0,468.0,739.0,768.0,492.0,1056.0,1150.0,647.0,1068.0,647.0,1133.0,647.0,657.0,1133.0,497.0,197.0,1627.0,1627.0,1008.0,827.0,1381.0,707.0,768.0,888.0,903.0,492.0,282.0,827.0,1216.0,986.0,1957.0,1117.0,1561.0,1150.0,1232.0,657.0,587.0,468.0,986.0,492.0,986.0,683.0,1117.0,468.0,707.0,827.0,1117.0,1150.0,1643.0,739.0,888.0,468.0,707.0,1216.0,707.0,647.0,2044.0,216.0,1133.0,707.0,468.0,647.0,983.0,587.0,528.0,587.0,888.0,739.0,888.0,888.0,1216.0,587.0,587.0,1150.0,768.0,492.0,1315.0,768.0,768.0,888.0,528.0,1117.0,1129.0,768.0,1008.0,903.0,888.0,1008.0,647.0,821.0,1737.0,1478.0,986.0,827.0,647.0,492.0,657.0,903.0,903.0,2169.0,948.0,492.0,1150.0,492.0,1216.0,492.0,492.0,707.0,1068.0,612.0,492.0,768.0,1008.0,1150.0,492.0,1315.0,903.0,647.0,768.0,88.0,574.0,903.0,587.0,827.0,707.0,587.0,888.0,1393.0,1150.0,1216.0,587.0,647.0,768.0,1150.0,1232.0,707.0,948.0,468.0,1393.0,1008.0,768.0,1513.0,1133.0,647.0,468.0,468.0,587.0,827.0,827.0,768.0,888.0,1216.0,587.0,468.0,827.0,468.0,768.0,574.0,900.0,91.0,1709.0,900.0,707.0,252.0,1478.0,1397.0,2971.0,1232.0,827.0,1232.0,1247.0,1068.0,803.0,1068.0,888.0,888.0,986.0,1216.0,707.0,903.0,647.0,903.0,1216.0,1381.0,821.0,948.0,1232.0,768.0,4227.0,948.0,1216.0,821.0,986.0,1216.0,1478.0,1117.0,226.0,1216.0,821.0,155.0,1117.0,475.0,574.0,348.0,739.0,1019.0,920.0,1101.0,1101.0,739.0,574.0,657.0,1002.0,1150.0,788.0,986.0,83.0,821.0,986.0,821.0,821.0,986.0,948.0,768.0,647.0,1216.0,1216.0,575.0,1008.0,1315.0,1216.0,948.0,1643.0,1150.0,212.0,1315.0,1397.0,948.0,827.0,768.0,1216.0,1315.0,1478.0,1890.0,1561.0,1056.0,1133.0,1133.0,768.0,1561.0,1561.0,903.0,1133.0,1133.0,1150.0,1150.0,1133.0,1133.0,1133.0,1133.0,1133.0,1117.0,821.0,657.0,344.0,574.0,854.0,1166.0,1216.0,1150.0,1150.0,821.0,1232.0,1232.0,359.0,657.0,657.0,528.0,1972.0,1150.0,1150.0,657.0,707.0,903.0,739.0,903.0,1133.0,1133.0,612.0,821.0,1068.0,903.0,1117.0,821.0,1117.0,739.0,821.0,1117.0,903.0,903.0,821.0,1117.0,1117.0,1068.0,657.0,768.0,986.0,1117.0,732.0,1150.0,986.0,1117.0,739.0,903.0,739.0,1117.0,1117.0,1117.0,1315.0,1232.0,1397.0,1068.0,1397.0,1216.0,1117.0,1117.0,1199.0,739.0,821.0,768.0,1216.0,821.0,657.0,528.0,315.0,821.0,1183.0,657.0,821.0,1117.0,1216.0,1166.0,1216.0,1019.0,1150.0,574.0,1232.0,821.0,574.0,1150.0,920.0,903.0,739.0,1216.0,1188.0,587.0,1657.0,768.0,768.0,162.0,768.0,1676.0,739.0,1068.0,1150.0,768.0,443.0,936.0,1440.0,587.0,1068.0,986.0,948.0,986.0,1232.0,888.0,587.0,903.0,821.0,155.0,827.0,1249.0,32.0,1315.0,986.0,1397.0,558.0,706.0,671.0,1150.0,1183.0,295.0,739.0,986.0,821.0,986.0,1068.0,739.0,1019.0,328.0,1216.0,876.0,395.0,1166.0,903.0,776.0,574.0,1414.0,821.0,1068.0,1216.0,887.0,903.0,821.0,1166.0,986.0,1002.0,1056.0,723.0,1216.0,1150.0,920.0,1381.0,541.0,607.0,903.0,1216.0,1397.0,673.0,657.0,525.0,903.0,1315.0,827.0,821.0,612.0,986.0,1561.0,1478.0,587.0,1068.0,821.0,707.0,986.0,1183.0,1085.0,344.0,1117.0,1117.0,1117.0,1117.0,1101.0,1117.0,1216.0,612.0,1101.0,1117.0,1117.0,1117.0,1117.0,788.0,1133.0,1232.0,2022.0,827.0,1216.0,1150.0,707.0,647.0,528.0,1216.0,541.0,647.0,821.0,574.0,821.0,1414.0,1414.0,1774.0,1478.0,1150.0,821.0,1216.0,1774.0,657.0,837.0,657.0,1150.0,1150.0,1150.0,821.0,986.0,1397.0,739.0,903.0,903.0,1594.0,1133.0,903.0,657.0,657.0,1133.0,1133.0,986.0,1150.0,821.0,657.0,1117.0,657.0,986.0,1117.0,739.0,732.0,657.0,986.0,821.0,739.0,821.0,1133.0,1019.0,1133.0,986.0,1117.0,65.0,821.0,986.0,986.0,574.0,821.0,525.0,1561.0,986.0,657.0,986.0,1117.0,1068.0,821.0,821.0,986.0,1068.0,657.0,1150.0,888.0,657.0,1150.0,1478.0,660.0,468.0,821.0,42.0,739.0,1315.0,888.0,245.0,827.0,903.0,1150.0,986.0,1150.0,821.0,1500.0,1117.0,924.0,903.0,1150.0,903.0,647.0,167.0,986.0,986.0,986.0,1068.0,410.0,528.0,1452.0,1150.0,739.0,1315.0,1150.0,1397.0,1397.0,587.0,1216.0,986.0,1150.0,528.0,1056.0,1150.0,707.0,1150.0,1150.0,528.0,768.0,1068.0,1133.0,1478.0,528.0,612.0,707.0,1008.0,1133.0,768.0,647.0,528.0,888.0,948.0,827.0,1397.0,1315.0,1150.0,1150.0,768.0,948.0,1397.0,528.0,732.0,1150.0,1150.0,1133.0,768.0,827.0,407.0,1315.0,1068.0,816.0,407.0,1150.0,821.0,1150.0,1216.0,903.0,739.0,739.0,903.0,1068.0,407.0,1020.0,1133.0,1133.0,935.0,1232.0,1478.0,1133.0,1150.0,1315.0,1561.0,1232.0,1232.0,1133.0,903.0,1068.0,1331.0,587.0,657.0,1008.0,739.0,707.0,492.0,492.0,492.0,1216.0,657.0,887.0,1008.0,707.0,739.0,739.0,492.0,707.0,739.0,657.0,948.0,359.0,768.0,1216.0,492.0,827.0,65.0,888.0,948.0,903.0,888.0,1008.0,1216.0,1129.0,394.0,827.0,1068.0,821.0,359.0,1216.0,827.0,827.0,1068.0,1216.0,827.0,468.0,986.0,1183.0,587.0,1216.0,657.0,1150.0,821.0,1183.0,1166.0,986.0,1166.0,1150.0,673.0,574.0,986.0,1331.0,468.0,624.0,574.0,657.0,739.0,1052.0,953.0,1183.0,468.0,657.0,1150.0,574.0,1150.0,508.0,1052.0,508.0,821.0,95.0,821.0,1232.0,1957.0,1150.0,657.0,1282.0,2689.0,1068.0,986.0,1166.0,1150.0,1364.0,1133.0,1232.0,888.0,1117.0,1085.0,1117.0,1117.0,1117.0,1133.0,739.0,1117.0,1166.0,986.0,1133.0,1232.0,851.0,1216.0,1216.0,1216.0,1150.0,1216.0,1068.0,1216.0,657.0,948.0,986.0,821.0,1150.0,612.0,903.0,903.0,903.0,647.0,816.0,1150.0,1183.0,1183.0,1183.0,821.0,657.0,468.0,1397.0,647.0,1104.0,1216.0,827.0,707.0,739.0,315.0,903.0,1709.0,821.0,1895.0,657.0,903.0,468.0,587.0,821.0,3638.0,1643.0,1133.0,468.0,768.0,468.0,768.0,587.0,707.0,657.0,739.0,657.0,468.0,587.0,647.0,587.0,468.0,657.0,468.0,647.0,657.0,468.0,574.0,827.0,647.0,443.0,912.0,903.0,821.0,587.0,1737.0,344.0,657.0,1002.0,903.0,657.0,903.0,1150.0,821.0,821.0,903.0,821.0,903.0,821.0,821.0,587.0,903.0,1117.0,821.0,821.0,821.0,821.0,903.0,986.0,1068.0,528.0,1150.0,528.0,528.0,903.0,1117.0,903.0,1068.0,821.0,1068.0,528.0,903.0,1068.0,1117.0,739.0,903.0,1068.0,1150.0,903.0,739.0,1150.0,1117.0,903.0,657.0,739.0,903.0,1068.0,1232.0,1068.0,903.0,739.0,1068.0,1117.0,1117.0,1232.0,1068.0,1232.0,986.0,657.0,821.0,1315.0,1068.0,903.0,903.0,1068.0,739.0,1150.0,986.0,1315.0,739.0,739.0,903.0,1212.0,768.0,1397.0,1150.0,1478.0,1232.0,1035.0,706.0,1632.0,1002.0,821.0,903.0,1068.0,574.0,1216.0,1117.0,821.0,903.0,657.0,1150.0,657.0,1117.0,227.0,739.0,359.0,1068.0,1129.0,612.0,657.0,827.0,1068.0,903.0,827.0,1068.0,657.0,657.0,657.0,657.0,657.0,657.0,657.0,903.0,1150.0,1315.0,903.0,903.0,707.0,587.0,1315.0,1068.0,903.0,903.0,903.0,1068.0,903.0,1315.0,1315.0,1150.0,1068.0,903.0,1232.0,1315.0,903.0,1068.0,348.0,492.0,821.0,986.0,903.0,706.0,706.0,528.0,1232.0,468.0,1019.0,986.0,348.0,821.0,1906.0,1216.0,683.0,1052.0,821.0,65.0,1166.0,707.0,612.0,1133.0,612.0,657.0,1561.0,647.0,468.0,792.0,1150.0,920.0,903.0,972.0,468.0,1150.0,574.0,612.0,683.0,821.0,587.0,1133.0,768.0,1133.0,827.0,574.0,1117.0,410.0,359.0,739.0,827.0,888.0,1188.0,587.0,827.0,1561.0,1068.0,1610.0,1561.0,1890.0,1972.0,1561.0,768.0,1643.0,624.0,468.0,468.0,468.0,804.0,920.0,657.0,81.0,323.0,739.0,821.0,821.0,1150.0,587.0,81.0,468.0,1133.0,887.0,657.0,1117.0,1150.0,986.0,574.0,1080.0,262.0,1133.0,1117.0,1117.0,574.0,1117.0,1216.0,1133.0,647.0,612.0,1117.0,1216.0,1117.0,492.0,1117.0,1117.0,1117.0,1216.0,1117.0,768.0,612.0,1561.0,768.0,707.0,1200.0,600.0,2066.0,903.0,986.0,827.0,888.0,1986.0,2360.0,624.0,347.0,1068.0,1032.0,1196.0,821.0,903.0,1056.0,1056.0,1428.0,1272.0,1068.0,1056.0,768.0,1056.0,1056.0,1056.0,1056.0,1056.0,1056.0,827.0,1478.0,587.0,1056.0,903.0,1056.0,614.0,1992.0,252.0,1742.0,1068.0,1133.0,1445.0,768.0,1315.0,1117.0,1397.0,707.0,1315.0,162.0,168.0,587.0],\"xaxis\":\"x\",\"yaxis\":\"y\",\"type\":\"histogram\"},{\"alignmentgroup\":\"True\",\"bingroup\":\"x\",\"hovertemplate\":\"lead_time=5\\u003cbr\\u003eprice_20mg=%{x}\\u003cbr\\u003ecount=%{y}\\u003cextra\\u003e\\u003c\\u002fextra\\u003e\",\"legendgroup\":\"5\",\"marker\":{\"color\":\"#EF553B\",\"pattern\":{\"shape\":\"\"}},\"name\":\"5\",\"offsetgroup\":\"5\",\"orientation\":\"v\",\"showlegend\":true,\"x\":[238.0,174.0,226.0,168.4,312.0,315.0,278.0,245.0,86.0,315.0,19.0,79.0,238.0,75.0,19.0,168.4,168.4,33.0,88.0,209.0,39.0,168.4,122.7,53.0,168.4,194.0,197.0,196.0,51.0,212.0,179.0,160.0,41.0,53.0,110.4,110.4,110.4,110.4,122.7,122.7,122.7,122.7,110.4,110.4,110.4,122.7,110.4,110.4,122.7,110.4,122.7,122.7,110.4,110.4,122.7,122.7,110.4,122.7,122.7,110.4,110.4,122.7,110.4,122.7,168.4,110.4,122.7,153.0,66.0,122.7,122.7,229.0,122.7,122.7,122.7,122.7,135.0,122.7,432.0,72.0,44.0,19.0,312.0,128.0,69.0,122.0,336.0,19.0,111.0,23.0,19.0,226.0,232.0,45.0,747.0,19.0,186.0,19.0,72.0,66.0,174.0,226.0,19.0,218.0,109.0,40.0,19.0,312.0,69.0,179.0,53.0,30.0,118.0,76.0,101.0,82.0,205.0,34.0,19.0,275.0,89.0,235.0,45.0,123.0,229.0,45.0,238.0,182.0,197.0,79.0,205.0,202.0,202.0,315.0,216.0,306.0,729.0,19.0,87.0,249.0,88.0,72.0,87.0,37.0,43.0,173.0,110.4,122.7,135.0,111.0,122.7,122.7,110.4,110.4,122.7,69.0,110.4,167.0,24.0,212.0,122.7,205.4,66.0,110.4,110.4,206.4,110.4,220.0,122.7,79.0,66.0,197.0,110.4,155.0,110.4,197.0,218.0,174.0,110.4,740.0,46.0,168.4,110.4,186.0,285.0,362.8,255.4,258.0,659.0,202.0,205.0,122.7,61.0,226.0,168.4,110.4,164.0,256.0,110.4,168.4,155.0,245.0,110.4,166.0,218.0,222.0,122.7,122.7,115.0,273.0,61.0,168.4,102.0,177.0,315.0,268.0,455.0,275.0,43.0,19.0,159.0,177.0,110.4,258.0,453.9,347.0,110.4,94.0,168.0,220.0,45.0,168.4,42.0,122.7,168.4,282.0,122.7,230.8,122.7,735.0,347.0,168.4,168.4,252.0,245.0,212.0,229.0,524.0,229.0,277.1,110.4,122.7,122.7,122.7,53.0,222.7,252.0,149.0,46.0,330.0,168.4,122.7,188.0,262.0,86.0,110.4,110.4,122.7,122.7,315.0,122.7,110.4,174.0,110.4,229.0,110.4,122.7,200.0,245.0,229.0,255.4,249.0,200.9,255.4,233.6,19.0,42.0,118.0,40.0,135.0,61.0,66.0,179.0,110.4,252.0,46.0,225.3,113.0,109.0,88.0,142.0,160.0,122.7,22.0,42.0,19.0,53.0,110.4,23.0,149.0,45.0,42.0,42.0,42.0,42.0,35.0,419.0,29.0,63.0,37.0,66.0,122.7,110.4,53.0,168.4,110.4,52.0,52.0,245.0,295.0,493.0,122.7,663.0,122.7,110.4,110.4,122.7,203.5,218.0,209.0,122.7,168.4,238.0,162.0,108.0,301.0,210.0,252.0,729.0,1306.0,226.0,168.0,64.0,174.0,155.0,252.0,174.0,154.0,65.0,524.0,432.0,30.0,88.0,68.0,48.0,94.0,44.0,179.0,249.0,25.0,94.0,45.0,212.0,226.0,66.0,179.0,122.7,182.0,245.0,88.0,122.7,25.0,122.7,122.7,122.7,122.7,122.7,122.7,229.0,88.0,89.0,139.0,122.7,122.7,226.0,102.0,168.4,238.0,212.0,222.0,255.4,659.0,195.0,344.0,42.0,42.0,344.0,110.4,110.4,110.4,195.0,110.4,122.7,134.4,110.4,110.4,110.4,110.4,229.0,330.0,182.4,110.4,19.0,19.0,110.4,222.0,84.0,75.0,174.0,232.0,222.0,168.0,19.0,359.0,249.0,202.0,19.0,229.0,229.0,168.0,179.0,153.0,226.0,245.0,262.0,19.0,264.0,57.7,104.0,50.0,52.0,229.0,19.0,19.0,35.0,42.0,195.0,46.0,587.0,97.0,19.0,252.0,3818.0,407.0,50.0,135.0,330.0,25.0,57.0,36.0,21.0,19.0,53.0,88.0,19.0,110.4,252.0,66.0,19.0,61.0,302.0,437.0,19.0,19.0,19.0,46.0,226.0,301.0,122.7,122.7,150.0,110.4,110.4,112.0,122.7,211.0,153.0,19.0,19.0,19.0,19.0,315.0,315.0,22.0,110.4,245.0,42.0,110.4,212.0,19.0,668.0,229.0,26.0,462.0,266.0,805.0,295.0,717.0,462.0,232.0,659.0,347.0,94.0,315.0,312.0,315.0,315.0,174.0,256.0,315.0,226.0,289.0,315.0,581.0,425.0,763.0,312.0,252.0,256.0,306.0,75.0,252.0,493.0,600.0,298.0,252.0,226.0,823.0,805.0,295.0,659.0,210.0,174.0,40.0,800.0,800.0,212.0,252.0,301.0,212.0,110.4,171.0,245.0,545.0,301.0,312.0,508.0,651.0,315.0,805.0,312.0,226.0,249.0,312.0,262.0,493.0,235.0,25.0,218.0,212.0,168.0,197.0,65.0,94.0,572.0,19.0,179.0,226.0,30.0,614.0,174.0,51.0,19.0,432.0,67.0,524.0,179.0,312.0,252.0,229.0,179.0,75.0,312.0,73.0,23.0,162.0,245.0,26.0,42.0,19.0,282.0,19.0,347.0,36.0,34.0,94.0,135.0,19.0,315.0,44.0,361.0,19.0,344.0,792.0,149.0,179.0,212.0,41.0,212.0,315.0,65.0,182.0,42.0,162.0,462.0,28.0,182.0,182.0,182.0,57.7,243.0,155.0,168.0,203.0,245.0,249.0,226.0,524.0,205.4,282.0,347.0,205.4,314.0,740.0,344.0,273.0,344.0,200.0,232.0,344.0,347.0,828.0,249.0,252.0,226.0,252.0,245.0,624.0,344.0,609.0,308.0,805.0,55.0,185.0,285.0,293.0,92.0,57.0,226.0,312.0,341.0,161.0,306.0,249.0,249.0,218.0,135.0,646.0,312.0,19.0,238.0,501.0,2047.0,278.0,315.0,315.0,238.0,516.0,147.0,312.0,252.0,122.7,252.0,110.4,330.0,605.0,110.4,651.0,122.7,122.7,155.0,19.0,50.0,46.0,19.0,54.0,455.0,162.0,42.0,508.0,273.0,19.0,110.4,162.0,205.0,94.0,800.0,341.0,226.0,249.0,268.0,312.0,249.0,125.0,273.0,245.0,282.0,238.0,238.0,238.0,293.0,275.0,202.0,312.0,205.0,229.0,101.0,226.0,330.0,110.4,347.0,800.0,252.0,19.0,595.0,181.0,218.0,19.0,238.0,903.0,344.0,344.0,174.0,202.0,174.0,266.0,206.0,122.7,212.0,101.0,220.0,220.0,166.0,19.0,220.0,220.0,122.7,122.7,220.0,122.7,110.4,122.7,168.4,174.0,168.4,122.7,811.0,105.0,19.0,209.0,25.0,252.0,205.0,57.0,166.0,19.0,168.0,600.0,182.0,226.0,19.0,226.0,88.0,1041.0,205.0,252.0,800.0,218.0,513.0,344.0,312.0,266.0,344.0,238.0,293.0,315.0,226.0,273.0,212.0,216.0,245.0,249.0,245.0,222.0,226.0,312.0,19.0,80.0,684.0,30.0,432.0,249.0,54.0,680.0,72.0,344.0,322.0,122.0,212.0,432.0,122.0,200.0,322.0,249.9,110.4,238.0,69.0,162.0,155.0,162.0,202.0,162.0,101.0,110.4,182.0,174.0,89.2,122.7,168.4,220.0,122.7,220.0,168.4,226.0,110.4,168.4,168.4,220.0,53.0,135.0,110.4,651.0,312.0,365.0,238.0,595.0,97.0,245.0,270.0,229.0,200.0,200.0,205.0,154.0,182.0,266.0,179.0,61.0,226.0,135.0,205.0,226.0,249.0,168.0,42.0,591.0,153.0,226.0,256.0,61.0,229.0,39.0,245.0,168.0,84.0,212.0,282.0,66.0,200.0,484.0,216.0,674.0,218.0,238.0,238.0,226.0,315.0,308.0,484.0,516.0,205.0,222.0,315.0,186.0,182.0,341.0,329.0,315.0,330.0,306.0,440.0,92.0,212.0,205.0,174.0,212.0,67.0,252.0,238.0,152.0,168.4,59.0,80.0,315.0,245.0,541.0,94.0,293.0,226.0,20.0,330.0,249.0,36.0,19.0,94.0,30.0,330.0,30.0,520.0,541.0,724.0,335.0,758.0,545.0,338.0,57.7,98.0,20.0,218.0,162.0,205.0,94.0,245.0,50.0,301.0,273.0,35.0,174.0,19.0,285.0,226.0,212.0,19.0,344.0,312.0,122.7,122.7,174.0,82.0,46.0,19.0,174.0,329.0,200.0,153.0,379.0,86.0,341.0,763.0,122.7,252.0,285.0,315.0,226.0,646.0,222.0,110.4,168.0,45.0,477.0,104.0,490.0,93.0,490.0,309.0,344.0,312.0,182.0,285.0,243.0,315.0,200.0,122.7,179.0,166.0,110.4,122.7,122.7,197.0,455.0,202.0,23.0,205.0,135.0,110.4,229.0,249.0,96.0,252.0,205.0,490.0,166.0,315.0,245.0,232.0,66.0,238.0,197.0,266.0,226.0,600.0,524.0,154.0,238.0,252.0,226.0,226.0,168.0,245.0,330.0,347.0,97.0,97.0,306.0,110.4,168.4,19.0,252.0,268.0,19.0,315.0,226.0,202.0,266.0,651.0,122.7,122.7,122.7,122.7,168.4,220.0,220.0,220.0,110.4,315.0,249.0,202.0,76.0,252.0,312.0,226.0,22.0,174.0,19.0,19.0,32.0,19.0,229.0,19.0,122.7,19.0,174.0,459.0,162.0,21.0,20.0,19.0,162.0,97.0,19.0,37.0,344.0,25.0,200.0,19.0,61.0,19.0,19.0,186.0,42.0,22.0,37.0,545.0,490.0,285.0,218.0,524.0,252.0,245.0,524.0,306.0,659.0,188.0,226.0,600.0,319.0,315.0,205.0,344.0,252.0,312.0,252.0,347.0,437.0,344.0,218.0,365.0,528.0,212.0,336.0,218.0,205.0,315.0,245.0,464.0,651.0,202.0,577.6,168.4,168.4,312.0,329.0,235.0,232.0,319.0,600.0,600.0,166.0,212.0,212.0,303.0,102.0,168.4,122.7,168.4,134.4,122.7,202.6,122.7,110.4,269.0,212.0,50.0,168.4,110.4,269.0,149.33333333333334,42.0,226.0,122.7],\"xaxis\":\"x\",\"yaxis\":\"y\",\"type\":\"histogram\"},{\"alignmentgroup\":\"True\",\"bingroup\":\"x\",\"hovertemplate\":\"lead_time=15\\u003cbr\\u003eprice_20mg=%{x}\\u003cbr\\u003ecount=%{y}\\u003cextra\\u003e\\u003c\\u002fextra\\u003e\",\"legendgroup\":\"15\",\"marker\":{\"color\":\"#00cc96\",\"pattern\":{\"shape\":\"\"}},\"name\":\"15\",\"offsetgroup\":\"15\",\"orientation\":\"v\",\"showlegend\":true,\"x\":[4140.0,4140.0,4140.0,4140.0,4140.0,4140.0,4140.0,4140.0,4140.0,4140.0,4140.0,4140.0,4140.0,4140.0,4140.0,4140.0,4140.0,4140.0,4140.0,4140.0,4140.0,4140.0,4140.0,4140.0,4140.0,4140.0,4140.0,4140.0,4140.0,4140.0,4140.0,4140.0,4140.0,4140.0,4140.0,4140.0,4140.0,4140.0,4140.0,4140.0,4140.0,4140.0,4140.0,4140.0,4140.0,4140.0,4140.0,4140.0,4140.0,4140.0,4140.0,4140.0,4140.0,4140.0,4140.0,4140.0,4140.0,4140.0,4140.0,4140.0],\"xaxis\":\"x\",\"yaxis\":\"y\",\"type\":\"histogram\"}],                        {\"template\":{\"data\":{\"histogram2dcontour\":[{\"type\":\"histogram2dcontour\",\"colorbar\":{\"outlinewidth\":0,\"ticks\":\"\"},\"colorscale\":[[0.0,\"#0d0887\"],[0.1111111111111111,\"#46039f\"],[0.2222222222222222,\"#7201a8\"],[0.3333333333333333,\"#9c179e\"],[0.4444444444444444,\"#bd3786\"],[0.5555555555555556,\"#d8576b\"],[0.6666666666666666,\"#ed7953\"],[0.7777777777777778,\"#fb9f3a\"],[0.8888888888888888,\"#fdca26\"],[1.0,\"#f0f921\"]]}],\"choropleth\":[{\"type\":\"choropleth\",\"colorbar\":{\"outlinewidth\":0,\"ticks\":\"\"}}],\"histogram2d\":[{\"type\":\"histogram2d\",\"colorbar\":{\"outlinewidth\":0,\"ticks\":\"\"},\"colorscale\":[[0.0,\"#0d0887\"],[0.1111111111111111,\"#46039f\"],[0.2222222222222222,\"#7201a8\"],[0.3333333333333333,\"#9c179e\"],[0.4444444444444444,\"#bd3786\"],[0.5555555555555556,\"#d8576b\"],[0.6666666666666666,\"#ed7953\"],[0.7777777777777778,\"#fb9f3a\"],[0.8888888888888888,\"#fdca26\"],[1.0,\"#f0f921\"]]}],\"heatmap\":[{\"type\":\"heatmap\",\"colorbar\":{\"outlinewidth\":0,\"ticks\":\"\"},\"colorscale\":[[0.0,\"#0d0887\"],[0.1111111111111111,\"#46039f\"],[0.2222222222222222,\"#7201a8\"],[0.3333333333333333,\"#9c179e\"],[0.4444444444444444,\"#bd3786\"],[0.5555555555555556,\"#d8576b\"],[0.6666666666666666,\"#ed7953\"],[0.7777777777777778,\"#fb9f3a\"],[0.8888888888888888,\"#fdca26\"],[1.0,\"#f0f921\"]]}],\"heatmapgl\":[{\"type\":\"heatmapgl\",\"colorbar\":{\"outlinewidth\":0,\"ticks\":\"\"},\"colorscale\":[[0.0,\"#0d0887\"],[0.1111111111111111,\"#46039f\"],[0.2222222222222222,\"#7201a8\"],[0.3333333333333333,\"#9c179e\"],[0.4444444444444444,\"#bd3786\"],[0.5555555555555556,\"#d8576b\"],[0.6666666666666666,\"#ed7953\"],[0.7777777777777778,\"#fb9f3a\"],[0.8888888888888888,\"#fdca26\"],[1.0,\"#f0f921\"]]}],\"contourcarpet\":[{\"type\":\"contourcarpet\",\"colorbar\":{\"outlinewidth\":0,\"ticks\":\"\"}}],\"contour\":[{\"type\":\"contour\",\"colorbar\":{\"outlinewidth\":0,\"ticks\":\"\"},\"colorscale\":[[0.0,\"#0d0887\"],[0.1111111111111111,\"#46039f\"],[0.2222222222222222,\"#7201a8\"],[0.3333333333333333,\"#9c179e\"],[0.4444444444444444,\"#bd3786\"],[0.5555555555555556,\"#d8576b\"],[0.6666666666666666,\"#ed7953\"],[0.7777777777777778,\"#fb9f3a\"],[0.8888888888888888,\"#fdca26\"],[1.0,\"#f0f921\"]]}],\"surface\":[{\"type\":\"surface\",\"colorbar\":{\"outlinewidth\":0,\"ticks\":\"\"},\"colorscale\":[[0.0,\"#0d0887\"],[0.1111111111111111,\"#46039f\"],[0.2222222222222222,\"#7201a8\"],[0.3333333333333333,\"#9c179e\"],[0.4444444444444444,\"#bd3786\"],[0.5555555555555556,\"#d8576b\"],[0.6666666666666666,\"#ed7953\"],[0.7777777777777778,\"#fb9f3a\"],[0.8888888888888888,\"#fdca26\"],[1.0,\"#f0f921\"]]}],\"mesh3d\":[{\"type\":\"mesh3d\",\"colorbar\":{\"outlinewidth\":0,\"ticks\":\"\"}}],\"scatter\":[{\"fillpattern\":{\"fillmode\":\"overlay\",\"size\":10,\"solidity\":0.2},\"type\":\"scatter\"}],\"parcoords\":[{\"type\":\"parcoords\",\"line\":{\"colorbar\":{\"outlinewidth\":0,\"ticks\":\"\"}}}],\"scatterpolargl\":[{\"type\":\"scatterpolargl\",\"marker\":{\"colorbar\":{\"outlinewidth\":0,\"ticks\":\"\"}}}],\"bar\":[{\"error_x\":{\"color\":\"#2a3f5f\"},\"error_y\":{\"color\":\"#2a3f5f\"},\"marker\":{\"line\":{\"color\":\"#E5ECF6\",\"width\":0.5},\"pattern\":{\"fillmode\":\"overlay\",\"size\":10,\"solidity\":0.2}},\"type\":\"bar\"}],\"scattergeo\":[{\"type\":\"scattergeo\",\"marker\":{\"colorbar\":{\"outlinewidth\":0,\"ticks\":\"\"}}}],\"scatterpolar\":[{\"type\":\"scatterpolar\",\"marker\":{\"colorbar\":{\"outlinewidth\":0,\"ticks\":\"\"}}}],\"histogram\":[{\"marker\":{\"pattern\":{\"fillmode\":\"overlay\",\"size\":10,\"solidity\":0.2}},\"type\":\"histogram\"}],\"scattergl\":[{\"type\":\"scattergl\",\"marker\":{\"colorbar\":{\"outlinewidth\":0,\"ticks\":\"\"}}}],\"scatter3d\":[{\"type\":\"scatter3d\",\"line\":{\"colorbar\":{\"outlinewidth\":0,\"ticks\":\"\"}},\"marker\":{\"colorbar\":{\"outlinewidth\":0,\"ticks\":\"\"}}}],\"scattermapbox\":[{\"type\":\"scattermapbox\",\"marker\":{\"colorbar\":{\"outlinewidth\":0,\"ticks\":\"\"}}}],\"scatterternary\":[{\"type\":\"scatterternary\",\"marker\":{\"colorbar\":{\"outlinewidth\":0,\"ticks\":\"\"}}}],\"scattercarpet\":[{\"type\":\"scattercarpet\",\"marker\":{\"colorbar\":{\"outlinewidth\":0,\"ticks\":\"\"}}}],\"carpet\":[{\"aaxis\":{\"endlinecolor\":\"#2a3f5f\",\"gridcolor\":\"white\",\"linecolor\":\"white\",\"minorgridcolor\":\"white\",\"startlinecolor\":\"#2a3f5f\"},\"baxis\":{\"endlinecolor\":\"#2a3f5f\",\"gridcolor\":\"white\",\"linecolor\":\"white\",\"minorgridcolor\":\"white\",\"startlinecolor\":\"#2a3f5f\"},\"type\":\"carpet\"}],\"table\":[{\"cells\":{\"fill\":{\"color\":\"#EBF0F8\"},\"line\":{\"color\":\"white\"}},\"header\":{\"fill\":{\"color\":\"#C8D4E3\"},\"line\":{\"color\":\"white\"}},\"type\":\"table\"}],\"barpolar\":[{\"marker\":{\"line\":{\"color\":\"#E5ECF6\",\"width\":0.5},\"pattern\":{\"fillmode\":\"overlay\",\"size\":10,\"solidity\":0.2}},\"type\":\"barpolar\"}],\"pie\":[{\"automargin\":true,\"type\":\"pie\"}]},\"layout\":{\"autotypenumbers\":\"strict\",\"colorway\":[\"#636efa\",\"#EF553B\",\"#00cc96\",\"#ab63fa\",\"#FFA15A\",\"#19d3f3\",\"#FF6692\",\"#B6E880\",\"#FF97FF\",\"#FECB52\"],\"font\":{\"color\":\"#2a3f5f\"},\"hovermode\":\"closest\",\"hoverlabel\":{\"align\":\"left\"},\"paper_bgcolor\":\"white\",\"plot_bgcolor\":\"#E5ECF6\",\"polar\":{\"bgcolor\":\"#E5ECF6\",\"angularaxis\":{\"gridcolor\":\"white\",\"linecolor\":\"white\",\"ticks\":\"\"},\"radialaxis\":{\"gridcolor\":\"white\",\"linecolor\":\"white\",\"ticks\":\"\"}},\"ternary\":{\"bgcolor\":\"#E5ECF6\",\"aaxis\":{\"gridcolor\":\"white\",\"linecolor\":\"white\",\"ticks\":\"\"},\"baxis\":{\"gridcolor\":\"white\",\"linecolor\":\"white\",\"ticks\":\"\"},\"caxis\":{\"gridcolor\":\"white\",\"linecolor\":\"white\",\"ticks\":\"\"}},\"coloraxis\":{\"colorbar\":{\"outlinewidth\":0,\"ticks\":\"\"}},\"colorscale\":{\"sequential\":[[0.0,\"#0d0887\"],[0.1111111111111111,\"#46039f\"],[0.2222222222222222,\"#7201a8\"],[0.3333333333333333,\"#9c179e\"],[0.4444444444444444,\"#bd3786\"],[0.5555555555555556,\"#d8576b\"],[0.6666666666666666,\"#ed7953\"],[0.7777777777777778,\"#fb9f3a\"],[0.8888888888888888,\"#fdca26\"],[1.0,\"#f0f921\"]],\"sequentialminus\":[[0.0,\"#0d0887\"],[0.1111111111111111,\"#46039f\"],[0.2222222222222222,\"#7201a8\"],[0.3333333333333333,\"#9c179e\"],[0.4444444444444444,\"#bd3786\"],[0.5555555555555556,\"#d8576b\"],[0.6666666666666666,\"#ed7953\"],[0.7777777777777778,\"#fb9f3a\"],[0.8888888888888888,\"#fdca26\"],[1.0,\"#f0f921\"]],\"diverging\":[[0,\"#8e0152\"],[0.1,\"#c51b7d\"],[0.2,\"#de77ae\"],[0.3,\"#f1b6da\"],[0.4,\"#fde0ef\"],[0.5,\"#f7f7f7\"],[0.6,\"#e6f5d0\"],[0.7,\"#b8e186\"],[0.8,\"#7fbc41\"],[0.9,\"#4d9221\"],[1,\"#276419\"]]},\"xaxis\":{\"gridcolor\":\"white\",\"linecolor\":\"white\",\"ticks\":\"\",\"title\":{\"standoff\":15},\"zerolinecolor\":\"white\",\"automargin\":true,\"zerolinewidth\":2},\"yaxis\":{\"gridcolor\":\"white\",\"linecolor\":\"white\",\"ticks\":\"\",\"title\":{\"standoff\":15},\"zerolinecolor\":\"white\",\"automargin\":true,\"zerolinewidth\":2},\"scene\":{\"xaxis\":{\"backgroundcolor\":\"#E5ECF6\",\"gridcolor\":\"white\",\"linecolor\":\"white\",\"showbackground\":true,\"ticks\":\"\",\"zerolinecolor\":\"white\",\"gridwidth\":2},\"yaxis\":{\"backgroundcolor\":\"#E5ECF6\",\"gridcolor\":\"white\",\"linecolor\":\"white\",\"showbackground\":true,\"ticks\":\"\",\"zerolinecolor\":\"white\",\"gridwidth\":2},\"zaxis\":{\"backgroundcolor\":\"#E5ECF6\",\"gridcolor\":\"white\",\"linecolor\":\"white\",\"showbackground\":true,\"ticks\":\"\",\"zerolinecolor\":\"white\",\"gridwidth\":2}},\"shapedefaults\":{\"line\":{\"color\":\"#2a3f5f\"}},\"annotationdefaults\":{\"arrowcolor\":\"#2a3f5f\",\"arrowhead\":0,\"arrowwidth\":1},\"geo\":{\"bgcolor\":\"white\",\"landcolor\":\"#E5ECF6\",\"subunitcolor\":\"white\",\"showland\":true,\"showlakes\":true,\"lakecolor\":\"white\"},\"title\":{\"x\":0.05},\"mapbox\":{\"style\":\"light\"}}},\"xaxis\":{\"anchor\":\"y\",\"domain\":[0.0,1.0],\"title\":{\"text\":\"Reactant\"}},\"yaxis\":{\"anchor\":\"x\",\"domain\":[0.0,1.0],\"title\":{\"text\":\"Price for 20mg [$USD]\"}},\"legend\":{\"title\":{\"text\":\"lead_time\"},\"tracegroupgap\":0},\"margin\":{\"t\":60},\"barmode\":\"relative\",\"title\":{\"text\":\"\\u003cb\\u003eA71EV2A\\u003c\\u002fb\\u003e: Reactant Pricing\\u003cbr\\u003e\\u003csup\\u003e\\u003ci\\u003e#BBs=7358\\u003c\\u002fi\\u003e\\u003c\\u002fsup\\u003e\",\"automargin\":false,\"yref\":\"container\"},\"images\":[{\"sizex\":0.3,\"sizey\":0.3,\"source\":\"https:\\u002f\\u002fraw.githubusercontent.com\\u002fmwinokan\\u002fHIPPO\\u002fmain\\u002flogos\\u002fhippo_logo_tightcrop.png\",\"x\":0.95,\"xanchor\":\"right\",\"xref\":\"paper\",\"y\":0.95,\"yanchor\":\"top\",\"yref\":\"paper\"}]},                        {\"responsive\": true}                    ).then(function(){\n",
       "                            \n",
       "var gd = document.getElementById('029dd419-962d-4d1c-87d1-9cdd94b9f00b');\n",
       "var x = new MutationObserver(function (mutations, observer) {{\n",
       "        var display = window.getComputedStyle(gd).display;\n",
       "        if (!display || display === 'none') {{\n",
       "            console.log([gd, 'removed!']);\n",
       "            Plotly.purge(gd);\n",
       "            observer.disconnect();\n",
       "        }}\n",
       "}});\n",
       "\n",
       "// Listen for the removal of the full notebook cells\n",
       "var notebookContainer = gd.closest('#notebook-container');\n",
       "if (notebookContainer) {{\n",
       "    x.observe(notebookContainer, {childList: true});\n",
       "}}\n",
       "\n",
       "// Listen for the clearing of the current output cell\n",
       "var outputEl = gd.closest('.output');\n",
       "if (outputEl) {{\n",
       "    x.observe(outputEl, {childList: true});\n",
       "}}\n",
       "\n",
       "                        })                };                });            </script>        </div>"
      ]
     },
     "metadata": {},
     "output_type": "display_data"
    }
   ],
   "source": [
    "animal.plot_reactant_price(pdf='graphs/reactant_prices_fragnet', html='graphs/reactant_prices_fragnet')"
   ]
  },
  {
   "cell_type": "code",
   "execution_count": 58,
   "id": "593cd4f8-3e42-4222-bb23-8f55676018cc",
   "metadata": {},
   "outputs": [
    {
     "name": "stdout",
     "output_type": "stream",
     "text": [
      "0\n",
      "writing \u001b[38;5;11mgraphs/reactant_sankey_fragnet.html\u001b[0m ... \u001b[0mDone.\u001b[0m\n",
      "writing \u001b[38;5;11mgraphs/reactant_sankey_fragnet.pdf\u001b[0m ... \u001b[0mDone.\u001b[0m\n"
     ]
    },
    {
     "data": {
      "application/vnd.plotly.v1+json": {
       "config": {
        "plotlyServerURL": "https://plot.ly"
       },
       "data": [
        {
         "link": {
          "source": [
           8,
           8,
           1,
           1,
           1,
           1,
           0,
           0
          ],
          "target": [
           1,
           2,
           3,
           4,
           5,
           6,
           7,
           8
          ],
          "value": [
           2965,
           4393,
           952,
           238,
           70,
           1705,
           0,
           7358
          ]
         },
         "node": {
          "label": [
           "Total = 7358",
           "Quote Succeeded = 2965",
           "Quote Failed = 4393",
           "OK = 952",
           "Too expensive (20mg > $300) = 238",
           "Too slow (lead_time > 10 days) = 70",
           "Too expensive & slow = 1705",
           "Quote not attempted = 0",
           "Quote attempted = 7358"
          ]
         },
         "type": "sankey"
        }
       ],
       "layout": {
        "autosize": true,
        "font": {
         "size": 10
        },
        "images": [
         {
          "sizex": 0.3,
          "sizey": 0.3,
          "source": "https://raw.githubusercontent.com/mwinokan/HIPPO/main/logos/hippo_logo_tightcrop.png",
          "x": 0.95,
          "xanchor": "right",
          "xref": "paper",
          "y": 0.95,
          "yanchor": "top",
          "yref": "paper"
         }
        ],
        "template": {
         "data": {
          "bar": [
           {
            "error_x": {
             "color": "#2a3f5f"
            },
            "error_y": {
             "color": "#2a3f5f"
            },
            "marker": {
             "line": {
              "color": "#E5ECF6",
              "width": 0.5
             },
             "pattern": {
              "fillmode": "overlay",
              "size": 10,
              "solidity": 0.2
             }
            },
            "type": "bar"
           }
          ],
          "barpolar": [
           {
            "marker": {
             "line": {
              "color": "#E5ECF6",
              "width": 0.5
             },
             "pattern": {
              "fillmode": "overlay",
              "size": 10,
              "solidity": 0.2
             }
            },
            "type": "barpolar"
           }
          ],
          "carpet": [
           {
            "aaxis": {
             "endlinecolor": "#2a3f5f",
             "gridcolor": "white",
             "linecolor": "white",
             "minorgridcolor": "white",
             "startlinecolor": "#2a3f5f"
            },
            "baxis": {
             "endlinecolor": "#2a3f5f",
             "gridcolor": "white",
             "linecolor": "white",
             "minorgridcolor": "white",
             "startlinecolor": "#2a3f5f"
            },
            "type": "carpet"
           }
          ],
          "choropleth": [
           {
            "colorbar": {
             "outlinewidth": 0,
             "ticks": ""
            },
            "type": "choropleth"
           }
          ],
          "contour": [
           {
            "colorbar": {
             "outlinewidth": 0,
             "ticks": ""
            },
            "colorscale": [
             [
              0,
              "#0d0887"
             ],
             [
              0.1111111111111111,
              "#46039f"
             ],
             [
              0.2222222222222222,
              "#7201a8"
             ],
             [
              0.3333333333333333,
              "#9c179e"
             ],
             [
              0.4444444444444444,
              "#bd3786"
             ],
             [
              0.5555555555555556,
              "#d8576b"
             ],
             [
              0.6666666666666666,
              "#ed7953"
             ],
             [
              0.7777777777777778,
              "#fb9f3a"
             ],
             [
              0.8888888888888888,
              "#fdca26"
             ],
             [
              1,
              "#f0f921"
             ]
            ],
            "type": "contour"
           }
          ],
          "contourcarpet": [
           {
            "colorbar": {
             "outlinewidth": 0,
             "ticks": ""
            },
            "type": "contourcarpet"
           }
          ],
          "heatmap": [
           {
            "colorbar": {
             "outlinewidth": 0,
             "ticks": ""
            },
            "colorscale": [
             [
              0,
              "#0d0887"
             ],
             [
              0.1111111111111111,
              "#46039f"
             ],
             [
              0.2222222222222222,
              "#7201a8"
             ],
             [
              0.3333333333333333,
              "#9c179e"
             ],
             [
              0.4444444444444444,
              "#bd3786"
             ],
             [
              0.5555555555555556,
              "#d8576b"
             ],
             [
              0.6666666666666666,
              "#ed7953"
             ],
             [
              0.7777777777777778,
              "#fb9f3a"
             ],
             [
              0.8888888888888888,
              "#fdca26"
             ],
             [
              1,
              "#f0f921"
             ]
            ],
            "type": "heatmap"
           }
          ],
          "heatmapgl": [
           {
            "colorbar": {
             "outlinewidth": 0,
             "ticks": ""
            },
            "colorscale": [
             [
              0,
              "#0d0887"
             ],
             [
              0.1111111111111111,
              "#46039f"
             ],
             [
              0.2222222222222222,
              "#7201a8"
             ],
             [
              0.3333333333333333,
              "#9c179e"
             ],
             [
              0.4444444444444444,
              "#bd3786"
             ],
             [
              0.5555555555555556,
              "#d8576b"
             ],
             [
              0.6666666666666666,
              "#ed7953"
             ],
             [
              0.7777777777777778,
              "#fb9f3a"
             ],
             [
              0.8888888888888888,
              "#fdca26"
             ],
             [
              1,
              "#f0f921"
             ]
            ],
            "type": "heatmapgl"
           }
          ],
          "histogram": [
           {
            "marker": {
             "pattern": {
              "fillmode": "overlay",
              "size": 10,
              "solidity": 0.2
             }
            },
            "type": "histogram"
           }
          ],
          "histogram2d": [
           {
            "colorbar": {
             "outlinewidth": 0,
             "ticks": ""
            },
            "colorscale": [
             [
              0,
              "#0d0887"
             ],
             [
              0.1111111111111111,
              "#46039f"
             ],
             [
              0.2222222222222222,
              "#7201a8"
             ],
             [
              0.3333333333333333,
              "#9c179e"
             ],
             [
              0.4444444444444444,
              "#bd3786"
             ],
             [
              0.5555555555555556,
              "#d8576b"
             ],
             [
              0.6666666666666666,
              "#ed7953"
             ],
             [
              0.7777777777777778,
              "#fb9f3a"
             ],
             [
              0.8888888888888888,
              "#fdca26"
             ],
             [
              1,
              "#f0f921"
             ]
            ],
            "type": "histogram2d"
           }
          ],
          "histogram2dcontour": [
           {
            "colorbar": {
             "outlinewidth": 0,
             "ticks": ""
            },
            "colorscale": [
             [
              0,
              "#0d0887"
             ],
             [
              0.1111111111111111,
              "#46039f"
             ],
             [
              0.2222222222222222,
              "#7201a8"
             ],
             [
              0.3333333333333333,
              "#9c179e"
             ],
             [
              0.4444444444444444,
              "#bd3786"
             ],
             [
              0.5555555555555556,
              "#d8576b"
             ],
             [
              0.6666666666666666,
              "#ed7953"
             ],
             [
              0.7777777777777778,
              "#fb9f3a"
             ],
             [
              0.8888888888888888,
              "#fdca26"
             ],
             [
              1,
              "#f0f921"
             ]
            ],
            "type": "histogram2dcontour"
           }
          ],
          "mesh3d": [
           {
            "colorbar": {
             "outlinewidth": 0,
             "ticks": ""
            },
            "type": "mesh3d"
           }
          ],
          "parcoords": [
           {
            "line": {
             "colorbar": {
              "outlinewidth": 0,
              "ticks": ""
             }
            },
            "type": "parcoords"
           }
          ],
          "pie": [
           {
            "automargin": true,
            "type": "pie"
           }
          ],
          "scatter": [
           {
            "fillpattern": {
             "fillmode": "overlay",
             "size": 10,
             "solidity": 0.2
            },
            "type": "scatter"
           }
          ],
          "scatter3d": [
           {
            "line": {
             "colorbar": {
              "outlinewidth": 0,
              "ticks": ""
             }
            },
            "marker": {
             "colorbar": {
              "outlinewidth": 0,
              "ticks": ""
             }
            },
            "type": "scatter3d"
           }
          ],
          "scattercarpet": [
           {
            "marker": {
             "colorbar": {
              "outlinewidth": 0,
              "ticks": ""
             }
            },
            "type": "scattercarpet"
           }
          ],
          "scattergeo": [
           {
            "marker": {
             "colorbar": {
              "outlinewidth": 0,
              "ticks": ""
             }
            },
            "type": "scattergeo"
           }
          ],
          "scattergl": [
           {
            "marker": {
             "colorbar": {
              "outlinewidth": 0,
              "ticks": ""
             }
            },
            "type": "scattergl"
           }
          ],
          "scattermapbox": [
           {
            "marker": {
             "colorbar": {
              "outlinewidth": 0,
              "ticks": ""
             }
            },
            "type": "scattermapbox"
           }
          ],
          "scatterpolar": [
           {
            "marker": {
             "colorbar": {
              "outlinewidth": 0,
              "ticks": ""
             }
            },
            "type": "scatterpolar"
           }
          ],
          "scatterpolargl": [
           {
            "marker": {
             "colorbar": {
              "outlinewidth": 0,
              "ticks": ""
             }
            },
            "type": "scatterpolargl"
           }
          ],
          "scatterternary": [
           {
            "marker": {
             "colorbar": {
              "outlinewidth": 0,
              "ticks": ""
             }
            },
            "type": "scatterternary"
           }
          ],
          "surface": [
           {
            "colorbar": {
             "outlinewidth": 0,
             "ticks": ""
            },
            "colorscale": [
             [
              0,
              "#0d0887"
             ],
             [
              0.1111111111111111,
              "#46039f"
             ],
             [
              0.2222222222222222,
              "#7201a8"
             ],
             [
              0.3333333333333333,
              "#9c179e"
             ],
             [
              0.4444444444444444,
              "#bd3786"
             ],
             [
              0.5555555555555556,
              "#d8576b"
             ],
             [
              0.6666666666666666,
              "#ed7953"
             ],
             [
              0.7777777777777778,
              "#fb9f3a"
             ],
             [
              0.8888888888888888,
              "#fdca26"
             ],
             [
              1,
              "#f0f921"
             ]
            ],
            "type": "surface"
           }
          ],
          "table": [
           {
            "cells": {
             "fill": {
              "color": "#EBF0F8"
             },
             "line": {
              "color": "white"
             }
            },
            "header": {
             "fill": {
              "color": "#C8D4E3"
             },
             "line": {
              "color": "white"
             }
            },
            "type": "table"
           }
          ]
         },
         "layout": {
          "annotationdefaults": {
           "arrowcolor": "#2a3f5f",
           "arrowhead": 0,
           "arrowwidth": 1
          },
          "autotypenumbers": "strict",
          "coloraxis": {
           "colorbar": {
            "outlinewidth": 0,
            "ticks": ""
           }
          },
          "colorscale": {
           "diverging": [
            [
             0,
             "#8e0152"
            ],
            [
             0.1,
             "#c51b7d"
            ],
            [
             0.2,
             "#de77ae"
            ],
            [
             0.3,
             "#f1b6da"
            ],
            [
             0.4,
             "#fde0ef"
            ],
            [
             0.5,
             "#f7f7f7"
            ],
            [
             0.6,
             "#e6f5d0"
            ],
            [
             0.7,
             "#b8e186"
            ],
            [
             0.8,
             "#7fbc41"
            ],
            [
             0.9,
             "#4d9221"
            ],
            [
             1,
             "#276419"
            ]
           ],
           "sequential": [
            [
             0,
             "#0d0887"
            ],
            [
             0.1111111111111111,
             "#46039f"
            ],
            [
             0.2222222222222222,
             "#7201a8"
            ],
            [
             0.3333333333333333,
             "#9c179e"
            ],
            [
             0.4444444444444444,
             "#bd3786"
            ],
            [
             0.5555555555555556,
             "#d8576b"
            ],
            [
             0.6666666666666666,
             "#ed7953"
            ],
            [
             0.7777777777777778,
             "#fb9f3a"
            ],
            [
             0.8888888888888888,
             "#fdca26"
            ],
            [
             1,
             "#f0f921"
            ]
           ],
           "sequentialminus": [
            [
             0,
             "#0d0887"
            ],
            [
             0.1111111111111111,
             "#46039f"
            ],
            [
             0.2222222222222222,
             "#7201a8"
            ],
            [
             0.3333333333333333,
             "#9c179e"
            ],
            [
             0.4444444444444444,
             "#bd3786"
            ],
            [
             0.5555555555555556,
             "#d8576b"
            ],
            [
             0.6666666666666666,
             "#ed7953"
            ],
            [
             0.7777777777777778,
             "#fb9f3a"
            ],
            [
             0.8888888888888888,
             "#fdca26"
            ],
            [
             1,
             "#f0f921"
            ]
           ]
          },
          "colorway": [
           "#636efa",
           "#EF553B",
           "#00cc96",
           "#ab63fa",
           "#FFA15A",
           "#19d3f3",
           "#FF6692",
           "#B6E880",
           "#FF97FF",
           "#FECB52"
          ],
          "font": {
           "color": "#2a3f5f"
          },
          "geo": {
           "bgcolor": "white",
           "lakecolor": "white",
           "landcolor": "#E5ECF6",
           "showlakes": true,
           "showland": true,
           "subunitcolor": "white"
          },
          "hoverlabel": {
           "align": "left"
          },
          "hovermode": "closest",
          "mapbox": {
           "style": "light"
          },
          "paper_bgcolor": "white",
          "plot_bgcolor": "#E5ECF6",
          "polar": {
           "angularaxis": {
            "gridcolor": "white",
            "linecolor": "white",
            "ticks": ""
           },
           "bgcolor": "#E5ECF6",
           "radialaxis": {
            "gridcolor": "white",
            "linecolor": "white",
            "ticks": ""
           }
          },
          "scene": {
           "xaxis": {
            "backgroundcolor": "#E5ECF6",
            "gridcolor": "white",
            "gridwidth": 2,
            "linecolor": "white",
            "showbackground": true,
            "ticks": "",
            "zerolinecolor": "white"
           },
           "yaxis": {
            "backgroundcolor": "#E5ECF6",
            "gridcolor": "white",
            "gridwidth": 2,
            "linecolor": "white",
            "showbackground": true,
            "ticks": "",
            "zerolinecolor": "white"
           },
           "zaxis": {
            "backgroundcolor": "#E5ECF6",
            "gridcolor": "white",
            "gridwidth": 2,
            "linecolor": "white",
            "showbackground": true,
            "ticks": "",
            "zerolinecolor": "white"
           }
          },
          "shapedefaults": {
           "line": {
            "color": "#2a3f5f"
           }
          },
          "ternary": {
           "aaxis": {
            "gridcolor": "white",
            "linecolor": "white",
            "ticks": ""
           },
           "baxis": {
            "gridcolor": "white",
            "linecolor": "white",
            "ticks": ""
           },
           "bgcolor": "#E5ECF6",
           "caxis": {
            "gridcolor": "white",
            "linecolor": "white",
            "ticks": ""
           }
          },
          "title": {
           "x": 0.05
          },
          "xaxis": {
           "automargin": true,
           "gridcolor": "white",
           "linecolor": "white",
           "ticks": "",
           "title": {
            "standoff": 15
           },
           "zerolinecolor": "white",
           "zerolinewidth": 2
          },
          "yaxis": {
           "automargin": true,
           "gridcolor": "white",
           "linecolor": "white",
           "ticks": "",
           "title": {
            "standoff": 15
           },
           "zerolinecolor": "white",
           "zerolinewidth": 2
          }
         }
        },
        "title": {
         "automargin": false,
         "text": "<b>A71EV2A</b>: Reactant Quoting<br><sup><i>enamine</i></sup>",
         "yref": "container"
        }
       }
      },
      "image/png": "[encoded data removed]",
      "text/html": [
       "<div>                            <div id=\"66f8ce7c-3ffa-4358-9a43-ffde3bdd6d12\" class=\"plotly-graph-div\" style=\"height:525px; width:100%;\"></div>            <script type=\"text/javascript\">                require([\"plotly\"], function(Plotly) {                    window.PLOTLYENV=window.PLOTLYENV || {};                                    if (document.getElementById(\"66f8ce7c-3ffa-4358-9a43-ffde3bdd6d12\")) {                    Plotly.newPlot(                        \"66f8ce7c-3ffa-4358-9a43-ffde3bdd6d12\",                        [{\"link\":{\"source\":[8,8,1,1,1,1,0,0],\"target\":[1,2,3,4,5,6,7,8],\"value\":[2965,4393,952,238,70,1705,0,7358]},\"node\":{\"label\":[\"Total = 7358\",\"Quote Succeeded = 2965\",\"Quote Failed = 4393\",\"OK = 952\",\"Too expensive (20mg \\u003e $300) = 238\",\"Too slow (lead_time \\u003e 10 days) = 70\",\"Too expensive & slow = 1705\",\"Quote not attempted = 0\",\"Quote attempted = 7358\"]},\"type\":\"sankey\"}],                        {\"template\":{\"data\":{\"histogram2dcontour\":[{\"type\":\"histogram2dcontour\",\"colorbar\":{\"outlinewidth\":0,\"ticks\":\"\"},\"colorscale\":[[0.0,\"#0d0887\"],[0.1111111111111111,\"#46039f\"],[0.2222222222222222,\"#7201a8\"],[0.3333333333333333,\"#9c179e\"],[0.4444444444444444,\"#bd3786\"],[0.5555555555555556,\"#d8576b\"],[0.6666666666666666,\"#ed7953\"],[0.7777777777777778,\"#fb9f3a\"],[0.8888888888888888,\"#fdca26\"],[1.0,\"#f0f921\"]]}],\"choropleth\":[{\"type\":\"choropleth\",\"colorbar\":{\"outlinewidth\":0,\"ticks\":\"\"}}],\"histogram2d\":[{\"type\":\"histogram2d\",\"colorbar\":{\"outlinewidth\":0,\"ticks\":\"\"},\"colorscale\":[[0.0,\"#0d0887\"],[0.1111111111111111,\"#46039f\"],[0.2222222222222222,\"#7201a8\"],[0.3333333333333333,\"#9c179e\"],[0.4444444444444444,\"#bd3786\"],[0.5555555555555556,\"#d8576b\"],[0.6666666666666666,\"#ed7953\"],[0.7777777777777778,\"#fb9f3a\"],[0.8888888888888888,\"#fdca26\"],[1.0,\"#f0f921\"]]}],\"heatmap\":[{\"type\":\"heatmap\",\"colorbar\":{\"outlinewidth\":0,\"ticks\":\"\"},\"colorscale\":[[0.0,\"#0d0887\"],[0.1111111111111111,\"#46039f\"],[0.2222222222222222,\"#7201a8\"],[0.3333333333333333,\"#9c179e\"],[0.4444444444444444,\"#bd3786\"],[0.5555555555555556,\"#d8576b\"],[0.6666666666666666,\"#ed7953\"],[0.7777777777777778,\"#fb9f3a\"],[0.8888888888888888,\"#fdca26\"],[1.0,\"#f0f921\"]]}],\"heatmapgl\":[{\"type\":\"heatmapgl\",\"colorbar\":{\"outlinewidth\":0,\"ticks\":\"\"},\"colorscale\":[[0.0,\"#0d0887\"],[0.1111111111111111,\"#46039f\"],[0.2222222222222222,\"#7201a8\"],[0.3333333333333333,\"#9c179e\"],[0.4444444444444444,\"#bd3786\"],[0.5555555555555556,\"#d8576b\"],[0.6666666666666666,\"#ed7953\"],[0.7777777777777778,\"#fb9f3a\"],[0.8888888888888888,\"#fdca26\"],[1.0,\"#f0f921\"]]}],\"contourcarpet\":[{\"type\":\"contourcarpet\",\"colorbar\":{\"outlinewidth\":0,\"ticks\":\"\"}}],\"contour\":[{\"type\":\"contour\",\"colorbar\":{\"outlinewidth\":0,\"ticks\":\"\"},\"colorscale\":[[0.0,\"#0d0887\"],[0.1111111111111111,\"#46039f\"],[0.2222222222222222,\"#7201a8\"],[0.3333333333333333,\"#9c179e\"],[0.4444444444444444,\"#bd3786\"],[0.5555555555555556,\"#d8576b\"],[0.6666666666666666,\"#ed7953\"],[0.7777777777777778,\"#fb9f3a\"],[0.8888888888888888,\"#fdca26\"],[1.0,\"#f0f921\"]]}],\"surface\":[{\"type\":\"surface\",\"colorbar\":{\"outlinewidth\":0,\"ticks\":\"\"},\"colorscale\":[[0.0,\"#0d0887\"],[0.1111111111111111,\"#46039f\"],[0.2222222222222222,\"#7201a8\"],[0.3333333333333333,\"#9c179e\"],[0.4444444444444444,\"#bd3786\"],[0.5555555555555556,\"#d8576b\"],[0.6666666666666666,\"#ed7953\"],[0.7777777777777778,\"#fb9f3a\"],[0.8888888888888888,\"#fdca26\"],[1.0,\"#f0f921\"]]}],\"mesh3d\":[{\"type\":\"mesh3d\",\"colorbar\":{\"outlinewidth\":0,\"ticks\":\"\"}}],\"scatter\":[{\"fillpattern\":{\"fillmode\":\"overlay\",\"size\":10,\"solidity\":0.2},\"type\":\"scatter\"}],\"parcoords\":[{\"type\":\"parcoords\",\"line\":{\"colorbar\":{\"outlinewidth\":0,\"ticks\":\"\"}}}],\"scatterpolargl\":[{\"type\":\"scatterpolargl\",\"marker\":{\"colorbar\":{\"outlinewidth\":0,\"ticks\":\"\"}}}],\"bar\":[{\"error_x\":{\"color\":\"#2a3f5f\"},\"error_y\":{\"color\":\"#2a3f5f\"},\"marker\":{\"line\":{\"color\":\"#E5ECF6\",\"width\":0.5},\"pattern\":{\"fillmode\":\"overlay\",\"size\":10,\"solidity\":0.2}},\"type\":\"bar\"}],\"scattergeo\":[{\"type\":\"scattergeo\",\"marker\":{\"colorbar\":{\"outlinewidth\":0,\"ticks\":\"\"}}}],\"scatterpolar\":[{\"type\":\"scatterpolar\",\"marker\":{\"colorbar\":{\"outlinewidth\":0,\"ticks\":\"\"}}}],\"histogram\":[{\"marker\":{\"pattern\":{\"fillmode\":\"overlay\",\"size\":10,\"solidity\":0.2}},\"type\":\"histogram\"}],\"scattergl\":[{\"type\":\"scattergl\",\"marker\":{\"colorbar\":{\"outlinewidth\":0,\"ticks\":\"\"}}}],\"scatter3d\":[{\"type\":\"scatter3d\",\"line\":{\"colorbar\":{\"outlinewidth\":0,\"ticks\":\"\"}},\"marker\":{\"colorbar\":{\"outlinewidth\":0,\"ticks\":\"\"}}}],\"scattermapbox\":[{\"type\":\"scattermapbox\",\"marker\":{\"colorbar\":{\"outlinewidth\":0,\"ticks\":\"\"}}}],\"scatterternary\":[{\"type\":\"scatterternary\",\"marker\":{\"colorbar\":{\"outlinewidth\":0,\"ticks\":\"\"}}}],\"scattercarpet\":[{\"type\":\"scattercarpet\",\"marker\":{\"colorbar\":{\"outlinewidth\":0,\"ticks\":\"\"}}}],\"carpet\":[{\"aaxis\":{\"endlinecolor\":\"#2a3f5f\",\"gridcolor\":\"white\",\"linecolor\":\"white\",\"minorgridcolor\":\"white\",\"startlinecolor\":\"#2a3f5f\"},\"baxis\":{\"endlinecolor\":\"#2a3f5f\",\"gridcolor\":\"white\",\"linecolor\":\"white\",\"minorgridcolor\":\"white\",\"startlinecolor\":\"#2a3f5f\"},\"type\":\"carpet\"}],\"table\":[{\"cells\":{\"fill\":{\"color\":\"#EBF0F8\"},\"line\":{\"color\":\"white\"}},\"header\":{\"fill\":{\"color\":\"#C8D4E3\"},\"line\":{\"color\":\"white\"}},\"type\":\"table\"}],\"barpolar\":[{\"marker\":{\"line\":{\"color\":\"#E5ECF6\",\"width\":0.5},\"pattern\":{\"fillmode\":\"overlay\",\"size\":10,\"solidity\":0.2}},\"type\":\"barpolar\"}],\"pie\":[{\"automargin\":true,\"type\":\"pie\"}]},\"layout\":{\"autotypenumbers\":\"strict\",\"colorway\":[\"#636efa\",\"#EF553B\",\"#00cc96\",\"#ab63fa\",\"#FFA15A\",\"#19d3f3\",\"#FF6692\",\"#B6E880\",\"#FF97FF\",\"#FECB52\"],\"font\":{\"color\":\"#2a3f5f\"},\"hovermode\":\"closest\",\"hoverlabel\":{\"align\":\"left\"},\"paper_bgcolor\":\"white\",\"plot_bgcolor\":\"#E5ECF6\",\"polar\":{\"bgcolor\":\"#E5ECF6\",\"angularaxis\":{\"gridcolor\":\"white\",\"linecolor\":\"white\",\"ticks\":\"\"},\"radialaxis\":{\"gridcolor\":\"white\",\"linecolor\":\"white\",\"ticks\":\"\"}},\"ternary\":{\"bgcolor\":\"#E5ECF6\",\"aaxis\":{\"gridcolor\":\"white\",\"linecolor\":\"white\",\"ticks\":\"\"},\"baxis\":{\"gridcolor\":\"white\",\"linecolor\":\"white\",\"ticks\":\"\"},\"caxis\":{\"gridcolor\":\"white\",\"linecolor\":\"white\",\"ticks\":\"\"}},\"coloraxis\":{\"colorbar\":{\"outlinewidth\":0,\"ticks\":\"\"}},\"colorscale\":{\"sequential\":[[0.0,\"#0d0887\"],[0.1111111111111111,\"#46039f\"],[0.2222222222222222,\"#7201a8\"],[0.3333333333333333,\"#9c179e\"],[0.4444444444444444,\"#bd3786\"],[0.5555555555555556,\"#d8576b\"],[0.6666666666666666,\"#ed7953\"],[0.7777777777777778,\"#fb9f3a\"],[0.8888888888888888,\"#fdca26\"],[1.0,\"#f0f921\"]],\"sequentialminus\":[[0.0,\"#0d0887\"],[0.1111111111111111,\"#46039f\"],[0.2222222222222222,\"#7201a8\"],[0.3333333333333333,\"#9c179e\"],[0.4444444444444444,\"#bd3786\"],[0.5555555555555556,\"#d8576b\"],[0.6666666666666666,\"#ed7953\"],[0.7777777777777778,\"#fb9f3a\"],[0.8888888888888888,\"#fdca26\"],[1.0,\"#f0f921\"]],\"diverging\":[[0,\"#8e0152\"],[0.1,\"#c51b7d\"],[0.2,\"#de77ae\"],[0.3,\"#f1b6da\"],[0.4,\"#fde0ef\"],[0.5,\"#f7f7f7\"],[0.6,\"#e6f5d0\"],[0.7,\"#b8e186\"],[0.8,\"#7fbc41\"],[0.9,\"#4d9221\"],[1,\"#276419\"]]},\"xaxis\":{\"gridcolor\":\"white\",\"linecolor\":\"white\",\"ticks\":\"\",\"title\":{\"standoff\":15},\"zerolinecolor\":\"white\",\"automargin\":true,\"zerolinewidth\":2},\"yaxis\":{\"gridcolor\":\"white\",\"linecolor\":\"white\",\"ticks\":\"\",\"title\":{\"standoff\":15},\"zerolinecolor\":\"white\",\"automargin\":true,\"zerolinewidth\":2},\"scene\":{\"xaxis\":{\"backgroundcolor\":\"#E5ECF6\",\"gridcolor\":\"white\",\"linecolor\":\"white\",\"showbackground\":true,\"ticks\":\"\",\"zerolinecolor\":\"white\",\"gridwidth\":2},\"yaxis\":{\"backgroundcolor\":\"#E5ECF6\",\"gridcolor\":\"white\",\"linecolor\":\"white\",\"showbackground\":true,\"ticks\":\"\",\"zerolinecolor\":\"white\",\"gridwidth\":2},\"zaxis\":{\"backgroundcolor\":\"#E5ECF6\",\"gridcolor\":\"white\",\"linecolor\":\"white\",\"showbackground\":true,\"ticks\":\"\",\"zerolinecolor\":\"white\",\"gridwidth\":2}},\"shapedefaults\":{\"line\":{\"color\":\"#2a3f5f\"}},\"annotationdefaults\":{\"arrowcolor\":\"#2a3f5f\",\"arrowhead\":0,\"arrowwidth\":1},\"geo\":{\"bgcolor\":\"white\",\"landcolor\":\"#E5ECF6\",\"subunitcolor\":\"white\",\"showland\":true,\"showlakes\":true,\"lakecolor\":\"white\"},\"title\":{\"x\":0.05},\"mapbox\":{\"style\":\"light\"}}},\"font\":{\"size\":10},\"title\":{\"text\":\"\\u003cb\\u003eA71EV2A\\u003c\\u002fb\\u003e: Reactant Quoting\\u003cbr\\u003e\\u003csup\\u003e\\u003ci\\u003eenamine\\u003c\\u002fi\\u003e\\u003c\\u002fsup\\u003e\",\"automargin\":false,\"yref\":\"container\"},\"images\":[{\"sizex\":0.3,\"sizey\":0.3,\"source\":\"https:\\u002f\\u002fraw.githubusercontent.com\\u002fmwinokan\\u002fHIPPO\\u002fmain\\u002flogos\\u002fhippo_logo_tightcrop.png\",\"x\":0.95,\"xanchor\":\"right\",\"xref\":\"paper\",\"y\":0.95,\"yanchor\":\"top\",\"yref\":\"paper\"}]},                        {\"responsive\": true}                    ).then(function(){\n",
       "                            \n",
       "var gd = document.getElementById('66f8ce7c-3ffa-4358-9a43-ffde3bdd6d12');\n",
       "var x = new MutationObserver(function (mutations, observer) {{\n",
       "        var display = window.getComputedStyle(gd).display;\n",
       "        if (!display || display === 'none') {{\n",
       "            console.log([gd, 'removed!']);\n",
       "            Plotly.purge(gd);\n",
       "            observer.disconnect();\n",
       "        }}\n",
       "}});\n",
       "\n",
       "// Listen for the removal of the full notebook cells\n",
       "var notebookContainer = gd.closest('#notebook-container');\n",
       "if (notebookContainer) {{\n",
       "    x.observe(notebookContainer, {childList: true});\n",
       "}}\n",
       "\n",
       "// Listen for the clearing of the current output cell\n",
       "var outputEl = gd.closest('.output');\n",
       "if (outputEl) {{\n",
       "    x.observe(outputEl, {childList: true});\n",
       "}}\n",
       "\n",
       "                        })                };                });            </script>        </div>"
      ]
     },
     "metadata": {},
     "output_type": "display_data"
    }
   ],
   "source": [
    "animal.plot_reactant_sankey(pdf='graphs/reactant_sankey_fragnet', html='graphs/reactant_sankey_fragnet')"
   ]
  },
  {
   "cell_type": "code",
   "execution_count": 82,
   "id": "c2b610ad-be06-4976-9207-f1d90fadb9a8",
   "metadata": {},
   "outputs": [],
   "source": [
    "from IPython.display import display\n",
    "\n",
    "def inspiration_mcs(comp):\n",
    "\n",
    "    comp_smiles = comp.smiles\n",
    "\n",
    "    # drawings = []\n",
    "\n",
    "    for inspiration in comp.inspirations:\n",
    "        insp_smiles = mp.rdkit.mol_to_smiles(inspiration.mol)\n",
    "        print(insp_smiles)\n",
    "\n",
    "        display(mp.rdkit.draw_mcs({comp_smiles:comp.name, insp_smiles:inspiration.compound.name}, align_substructure=False))\n",
    "\n",
    "    # return drawings"
   ]
  },
  {
   "cell_type": "code",
   "execution_count": 84,
   "id": "40b6d14b-8a20-4f06-ade4-f16dcd926fed",
   "metadata": {},
   "outputs": [
    {
     "name": "stdout",
     "output_type": "stream",
     "text": [
      "CN1CC(N)C(C(O)NC2CCC2)N1\n"
     ]
    },
    {
     "data": {
      "image/png": "[encoded data removed]",
      "text/plain": [
       "<IPython.core.display.Image object>"
      ]
     },
     "metadata": {},
     "output_type": "display_data"
    },
    {
     "name": "stdout",
     "output_type": "stream",
     "text": [
      "CC1NN(C)C(C)C1NC(O)CCN\n"
     ]
    },
    {
     "data": {
      "image/png": "[encoded data removed]",
      "text/plain": [
       "<IPython.core.display.Image object>"
      ]
     },
     "metadata": {},
     "output_type": "display_data"
    }
   ],
   "source": [
    "inspiration_mcs(animal.bases[1])"
   ]
  },
  {
   "cell_type": "markdown",
   "id": "244373b2-60fa-40db-99e3-dca8be91365d",
   "metadata": {},
   "source": [
    "## Random BBS Generation"
   ]
  },
  {
   "cell_type": "code",
   "execution_count": 42,
   "id": "3b426232-efd3-4395-b6a4-63a5038ee5f7",
   "metadata": {},
   "outputs": [],
   "source": [
    "animal._bbs_id_counter = 0"
   ]
  },
  {
   "cell_type": "code",
   "execution_count": 43,
   "id": "22cf47e7-738a-4732-b2f2-cfae8e19b158",
   "metadata": {},
   "outputs": [],
   "source": [
    "for bb in animal.building_blocks:\n",
    "    if bb.price_picker:\n",
    "        assert bb.price_picker.min_price > 0"
   ]
  },
  {
   "cell_type": "code",
   "execution_count": 44,
   "id": "5c5e6e76-4d55-4794-82ba-4ab004774428",
   "metadata": {},
   "outputs": [],
   "source": [
    "animal._min_bb_quantity = 10"
   ]
  },
  {
   "cell_type": "code",
   "execution_count": 45,
   "id": "5d5576da-aef0-4277-9ea2-c8d77b22d7cc",
   "metadata": {},
   "outputs": [],
   "source": [
    "# animal.building_blocks['EN300-54150']"
   ]
  },
  {
   "cell_type": "code",
   "execution_count": 46,
   "id": "1172872d-ad6f-4e25-aba4-42d9133f5fab",
   "metadata": {},
   "outputs": [],
   "source": [
    "output_directory = Path('bbs_fragnet_3k')"
   ]
  },
  {
   "cell_type": "code",
   "execution_count": 47,
   "id": "62ff6326-300e-456a-9624-2824b444cd8e",
   "metadata": {},
   "outputs": [],
   "source": [
    "# test\n",
    "mout.debug(animal.bbs_id_counter)\n",
    "bbs, _ = animal.random_sample(3000, max_iter=5000, debug=False, increment_count=False)\n",
    "bbs.write(output_directory, overwrite=True)"
   ]
  },
  {
   "cell_type": "code",
   "execution_count": null,
   "id": "b330f1fb-478b-4063-b989-00da84478f29",
   "metadata": {
    "scrolled": true
   },
   "outputs": [],
   "source": [
    "for i in range(500):\n",
    "    mout.debug(animal.bbs_id_counter)\n",
    "    bbs, _ = animal.random_sample(8000, max_iter=5000, debug=False, increment_count=True)\n",
    "    bbs.write(output_directory, overwrite=True)"
   ]
  },
  {
   "cell_type": "code",
   "execution_count": null,
   "id": "ca4e0c49-abfc-42fb-ab83-944a833d40a1",
   "metadata": {},
   "outputs": [],
   "source": [
    "animal.write_pickle('pickles/2A_hippo_fragnet_random_latest.pickle')"
   ]
  },
  {
   "cell_type": "code",
   "execution_count": null,
   "id": "320227d1-c5ca-4d73-9b44-5585507f9363",
   "metadata": {},
   "outputs": [],
   "source": [
    "mout.success('DONE')"
   ]
  },
  {
   "cell_type": "markdown",
   "id": "5860ccbd-52ea-4523-bfec-57759db0ac95",
   "metadata": {},
   "source": [
    "# Stuff that must go into JSON output:\n",
    "\n",
    "- [x] inspirations\n",
    "- [x] base\n",
    "- [ ] lead_time?\n",
    "- [ ] reaction info"
   ]
  },
  {
   "cell_type": "code",
   "execution_count": null,
   "id": "4f28f61d-ee57-41d9-afaf-e42b0783b5d2",
   "metadata": {},
   "outputs": [],
   "source": []
  }
 ],
 "metadata": {
  "kernelspec": {
   "display_name": "Python 3 (ipykernel)",
   "language": "python",
   "name": "python3"
  },
  "language_info": {
   "codemirror_mode": {
    "name": "ipython",
    "version": 3
   },
   "file_extension": ".py",
   "mimetype": "text/x-python",
   "name": "python",
   "nbconvert_exporter": "python",
   "pygments_lexer": "ipython3",
   "version": "3.10.12"
  }
 },
 "nbformat": 4,
 "nbformat_minor": 5
}
