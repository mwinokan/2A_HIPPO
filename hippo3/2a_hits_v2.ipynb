{
 "cells": [
  {
   "cell_type": "code",
   "execution_count": 1,
   "id": "1f7be6ea-d610-4fac-aabd-4dd5e3955684",
   "metadata": {},
   "outputs": [],
   "source": [
    "%load_ext autoreload"
   ]
  },
  {
   "cell_type": "code",
   "execution_count": 2,
   "id": "a7c7e8c8-fade-4658-8f97-06fbb3b05b12",
   "metadata": {},
   "outputs": [],
   "source": [
    "%autoreload 2\n",
    "import hippo3 as hippo\n",
    "import os\n",
    "import molparse as mp\n",
    "import mcol\n",
    "from pathlib import Path"
   ]
  },
  {
   "cell_type": "code",
   "execution_count": 3,
   "id": "1f0e18fa-2aa3-4d56-b199-7e151a2f40b2",
   "metadata": {},
   "outputs": [],
   "source": [
    "hit_root = Path('../aligned_v2')"
   ]
  },
  {
   "cell_type": "code",
   "execution_count": 4,
   "id": "fbb407e1-e9fd-436a-ac4c-4f00ed9791d5",
   "metadata": {},
   "outputs": [
    {
     "name": "stderr",
     "output_type": "stream",
     "text": [
      "rm: cannot remove 'test_2a_hits_v2.db': No such file or directory\n"
     ]
    },
    {
     "data": {
      "text/plain": [
       "256"
      ]
     },
     "execution_count": 4,
     "metadata": {},
     "output_type": "execute_result"
    }
   ],
   "source": [
    "os.system('rm -v test_2a_hits_v2.db')"
   ]
  },
  {
   "cell_type": "code",
   "execution_count": 5,
   "id": "7a57d185-d7b5-4e79-ab6e-edf45a3c17f2",
   "metadata": {},
   "outputs": [
    {
     "name": "stdout",
     "output_type": "stream",
     "text": [
      "\u001b[1m\u001b[38;5;166mCreating HIPPO animal\u001b[0m\n",
      "\u001b[36mname\u001b[0m = \u001b[38;5;154m2A_hippo3\u001b[0m\n",
      "\u001b[36mdb_path\u001b[0m = \u001b[38;5;11mtest_2a_hits_v2.db\u001b[0m\n",
      "\u001b[2mDEBUG: hippo3.Database.__init__()\u001b[0m\n",
      "\u001b[2mDEBUG: Database.path = test_2a_hits_v2.db\u001b[0m\n",
      "\u001b[2mDEBUG: hippo3.Database.connect()\u001b[0m\n",
      "\u001b[2mDEBUG: sqlite3.version='2.6.0'\u001b[0m\n",
      "\u001b[7m\u001b[32;1m SUCCESS \u001b[0m\u001b[32;1m Database connected @ \u001b[38;5;11mtest_2a_hits_v2.db!\u001b[0m\n",
      "Creating blank database...\n",
      "\u001b[2mDEBUG: HIPPO.Database.create_table_compound()\u001b[0m\n",
      "\u001b[2mDEBUG: HIPPO.Database.create_table_inspiration()\u001b[0m\n",
      "\u001b[2mDEBUG: HIPPO.Database.create_table_reaction()\u001b[0m\n",
      "\u001b[2mDEBUG: HIPPO.Database.create_table_reactant()\u001b[0m\n",
      "\u001b[2mDEBUG: HIPPO.Database.create_table_pose()\u001b[0m\n",
      "\u001b[2mDEBUG: HIPPO.Database.create_table_tag()\u001b[0m\n",
      "\u001b[2mDEBUG: HIPPO.Database.create_table_quote()\u001b[0m\n",
      "\u001b[2mDEBUG: HIPPO.Database.create_table_pattern_bfp()\u001b[0m\n",
      "\u001b[7m\u001b[32;1m SUCCESS \u001b[0m\u001b[32;1m Initialised animal HIPPO(\"2A_hippo3\")!\u001b[0m\n",
      "HIPPO(\"2A_hippo3\")\n"
     ]
    }
   ],
   "source": [
    "animal = hippo.HIPPO('2A_hippo3', 'test_2a_hits_v2.db')\n",
    "print(animal)"
   ]
  },
  {
   "cell_type": "code",
   "execution_count": 13,
   "id": "ac03aef9-4972-4f3c-95c4-cbbc0ea95df3",
   "metadata": {},
   "outputs": [
    {
     "name": "stdout",
     "output_type": "stream",
     "text": [
      "../aligned_v2/Ax0152a/Ax0152a.pdb 2\n",
      "../aligned_v2/Ax0152b/Ax0152b.pdb 2\n",
      "../aligned_v2/Ax0202a/Ax0202a.pdb 2\n",
      "../aligned_v2/Ax0202b/Ax0202b.pdb 2\n",
      "../aligned_v2/Ax0229a/Ax0229a.pdb 2\n",
      "../aligned_v2/Ax0229b/Ax0229b.pdb 2\n",
      "../aligned_v2/Ax0278a/Ax0278a.pdb 2\n",
      "../aligned_v2/Ax0278b/Ax0278b.pdb 2\n",
      "../aligned_v2/Ax0351a/Ax0351a.pdb 3\n",
      "../aligned_v2/Ax0351b/Ax0351b.pdb 3\n",
      "../aligned_v2/Ax0351c/Ax0351c.pdb 3\n",
      "../aligned_v2/Ax0375a/Ax0375a.pdb 3\n",
      "../aligned_v2/Ax0375b/Ax0375b.pdb 3\n",
      "../aligned_v2/Ax0375c/Ax0375c.pdb 3\n",
      "../aligned_v2/Ax0395a/Ax0395a.pdb 2\n",
      "../aligned_v2/Ax0395b/Ax0395b.pdb 2\n",
      "../aligned_v2/Ax0515a/Ax0515a.pdb 2\n",
      "../aligned_v2/Ax0515b/Ax0515b.pdb 2\n",
      "../aligned_v2/Ax0528a/Ax0528a.pdb 2\n",
      "../aligned_v2/Ax0528b/Ax0528b.pdb 2\n",
      "../aligned_v2/Ax0554a/Ax0554a.pdb 2\n",
      "../aligned_v2/Ax0554b/Ax0554b.pdb 2\n",
      "../aligned_v2/Ax0719a/Ax0719a.pdb 2\n",
      "../aligned_v2/Ax0719b/Ax0719b.pdb 2\n",
      "../aligned_v2/Ax0875a/Ax0875a.pdb 2\n",
      "../aligned_v2/Ax0875b/Ax0875b.pdb 2\n",
      "../aligned_v2/Ax1068a/Ax1068a.pdb 2\n",
      "../aligned_v2/Ax1068b/Ax1068b.pdb 2\n",
      "../aligned_v2/Ax1081a/Ax1081a.pdb 2\n",
      "../aligned_v2/Ax1081b/Ax1081b.pdb 2\n",
      "../aligned_v2/Ax1105a/Ax1105a.pdb 2\n",
      "../aligned_v2/Ax1105b/Ax1105b.pdb 2\n",
      "../aligned_v2/Ax1145a/Ax1145a.pdb 2\n",
      "../aligned_v2/Ax1145b/Ax1145b.pdb 2\n",
      "../aligned_v2/Ax1148a/Ax1148a.pdb 2\n",
      "../aligned_v2/Ax1148b/Ax1148b.pdb 2\n"
     ]
    }
   ],
   "source": [
    "for pdb in hit_root.glob('Ax?????/Ax?????.pdb'):\n",
    "    # print(pdb)\n",
    "\n",
    "    sys = mp.parse(str(pdb), verbosity=False)\n",
    "\n",
    "    # sys.summary()\n",
    "\n",
    "    n = len(sys['rLIG'])\n",
    "\n",
    "    if n > 1:\n",
    "\n",
    "        print(pdb, n)\n",
    "    \n",
    "    # break"
   ]
  },
  {
   "cell_type": "code",
   "execution_count": null,
   "id": "4ad80b08-e9ec-4716-97e2-11e6a86e23da",
   "metadata": {},
   "outputs": [],
   "source": []
  }
 ],
 "metadata": {
  "kernelspec": {
   "display_name": "Custom Python 3 (ipykernel)",
   "language": "python",
   "name": "python3"
  },
  "language_info": {
   "codemirror_mode": {
    "name": "ipython",
    "version": 3
   },
   "file_extension": ".py",
   "mimetype": "text/x-python",
   "name": "python",
   "nbconvert_exporter": "python",
   "pygments_lexer": "ipython3",
   "version": "3.11.6"
  }
 },
 "nbformat": 4,
 "nbformat_minor": 5
}
