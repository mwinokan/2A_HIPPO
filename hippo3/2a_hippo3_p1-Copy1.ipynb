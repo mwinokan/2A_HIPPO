{
 "cells": [
  {
   "cell_type": "code",
   "execution_count": 1,
   "id": "f13649e3-5e5a-47a7-8bfd-166a554e2b6e",
   "metadata": {},
   "outputs": [],
   "source": [
    "# !../../HIPPO/hippo3/db_test.py"
   ]
  },
  {
   "cell_type": "code",
   "execution_count": 2,
   "id": "1709c307-53f3-41c2-8842-26eba606f150",
   "metadata": {},
   "outputs": [],
   "source": [
    "%load_ext autoreload"
   ]
  },
  {
   "cell_type": "code",
   "execution_count": 3,
   "id": "a7c7845d-2b48-4e94-bf29-005c86d0ece5",
   "metadata": {},
   "outputs": [],
   "source": [
    "%autoreload 2\n",
    "import hippo3 as hippo\n",
    "import os"
   ]
  },
  {
   "cell_type": "code",
   "execution_count": 4,
   "id": "68d3ee7d-c947-4af7-9f3d-4a8da08a82fd",
   "metadata": {},
   "outputs": [
    {
     "name": "stdout",
     "output_type": "stream",
     "text": [
      "removed 'test.db'\n"
     ]
    },
    {
     "ename": "TypeError",
     "evalue": "HIPPO.__init__() takes 3 positional arguments but 4 were given",
     "output_type": "error",
     "traceback": [
      "\u001b[0;31m---------------------------------------------------------------------------\u001b[0m",
      "\u001b[0;31mTypeError\u001b[0m                                 Traceback (most recent call last)",
      "Cell \u001b[0;32mIn[4], line 2\u001b[0m\n\u001b[1;32m      1\u001b[0m os\u001b[38;5;241m.\u001b[39msystem(\u001b[38;5;124m'\u001b[39m\u001b[38;5;124mrm -v test.db\u001b[39m\u001b[38;5;124m'\u001b[39m)\n\u001b[0;32m----> 2\u001b[0m animal \u001b[38;5;241m=\u001b[39m \u001b[43mhippo\u001b[49m\u001b[38;5;241;43m.\u001b[39;49m\u001b[43mHIPPO\u001b[49m\u001b[43m(\u001b[49m\u001b[38;5;124;43m'\u001b[39;49m\u001b[38;5;124;43m2A_hippo3\u001b[39;49m\u001b[38;5;124;43m'\u001b[39;49m\u001b[43m,\u001b[49m\u001b[43m \u001b[49m\u001b[38;5;124;43m'\u001b[39;49m\u001b[38;5;124;43mA71EV2A\u001b[39;49m\u001b[38;5;124;43m'\u001b[39;49m\u001b[43m,\u001b[49m\u001b[43m \u001b[49m\u001b[38;5;124;43m'\u001b[39;49m\u001b[38;5;124;43mtest.db\u001b[39;49m\u001b[38;5;124;43m'\u001b[39;49m\u001b[43m)\u001b[49m\n",
      "\u001b[0;31mTypeError\u001b[0m: HIPPO.__init__() takes 3 positional arguments but 4 were given"
     ]
    }
   ],
   "source": [
    "os.system('rm -v test.db')\n",
    "animal = hippo.HIPPO('2A_hippo3', 'A71EV2A', 'test.db')"
   ]
  },
  {
   "cell_type": "code",
   "execution_count": 92,
   "id": "9b3592d7-bd51-494a-a73c-5b0b191e0ac0",
   "metadata": {},
   "outputs": [
    {
     "name": "stdout",
     "output_type": "stream",
     "text": [
      "\u001b[36mmetadata_path\u001b[0m = \u001b[38;5;11m../metadata_tagged.csv\u001b[0m\n",
      "\u001b[7m\u001b[32;1m SUCCESS \u001b[0m\u001b[32;1m Parsed metadata CSV!\u001b[0m\n",
      "\u001b[36mpdb_path\u001b[0m = \u001b[38;5;11m../aligned\u001b[0m\n",
      "\u001b[36mpdb_pattern\u001b[0m = \u001b[38;5;11m**/A71EV2A-x????_??_bound.pdb\u001b[0m\n",
      "\u001b[2mDEBUG: name='hits'\u001b[0m\n",
      "\u001b[2mDEBUG: pdb_pattern='**/A71EV2A-x????_??_bound.pdb'\u001b[0m\n",
      "\u001b[2mDEBUG: tags=['hits']\u001b[0m\n",
      "\u001b[2mDEBUG: animal=HIPPO(\"2A_hippo3\")\u001b[0m\n",
      "\u001b[2mDEBUG: ../aligned/A71EV2A-x0152_0A/A71EV2A-x0152_0A_bound.pdb\u001b[0m\n",
      "\u001b[2mDEBUG: pose_name='A71EV2A-x0152_0A'\u001b[0m\n",
      "\u001b[2mDEBUG: metadata={'crystal_name': 'A71EV2A-x0152_0A', 'RealCrystalName': 'A71EV2A-x0152', 'smiles': 'O=C(COc1ccccc1)N2CCNC(=O)C2', 'new_smiles': 'O=C(COc1ccccc1)N2CCNC(=O)C2', 'alternate_name': 'Z31602870', 'site_name': None, 'pdb_entry': None}\u001b[0m\n",
      "\u001b[2mDEBUG: comp_name='x0152'\u001b[0m\n"
     ]
    },
    {
     "ename": "TypeError",
     "evalue": "Database.register_compound() got an unexpected keyword argument 'tags'",
     "output_type": "error",
     "traceback": [
      "\u001b[0;31m---------------------------------------------------------------------------\u001b[0m",
      "\u001b[0;31mTypeError\u001b[0m                                 Traceback (most recent call last)",
      "Cell \u001b[0;32mIn[92], line 1\u001b[0m\n\u001b[0;32m----> 1\u001b[0m \u001b[43manimal\u001b[49m\u001b[38;5;241;43m.\u001b[39;49m\u001b[43madd_hits\u001b[49m\u001b[43m(\u001b[49m\u001b[43mmetadata_path\u001b[49m\u001b[38;5;241;43m=\u001b[39;49m\u001b[38;5;124;43m'\u001b[39;49m\u001b[38;5;124;43m../metadata_tagged.csv\u001b[39;49m\u001b[38;5;124;43m'\u001b[39;49m\u001b[43m,\u001b[49m\u001b[43m \u001b[49m\n\u001b[1;32m      2\u001b[0m \u001b[43m                \u001b[49m\u001b[43mpdb_path\u001b[49m\u001b[38;5;241;43m=\u001b[39;49m\u001b[38;5;124;43m'\u001b[39;49m\u001b[38;5;124;43m../aligned\u001b[39;49m\u001b[38;5;124;43m'\u001b[39;49m\u001b[43m,\u001b[49m\u001b[43m \u001b[49m\n\u001b[1;32m      3\u001b[0m \u001b[43m                \u001b[49m\u001b[43mpdb_pattern\u001b[49m\u001b[38;5;241;43m=\u001b[39;49m\u001b[38;5;124;43mf\u001b[39;49m\u001b[38;5;124;43m'\u001b[39;49m\u001b[38;5;124;43m**/\u001b[39;49m\u001b[38;5;132;43;01m{\u001b[39;49;00m\u001b[43manimal\u001b[49m\u001b[38;5;241;43m.\u001b[39;49m\u001b[43mtarget_name\u001b[49m\u001b[38;5;132;43;01m}\u001b[39;49;00m\u001b[38;5;124;43m-x????_??_bound.pdb\u001b[39;49m\u001b[38;5;124;43m'\u001b[39;49m\u001b[43m,\u001b[49m\u001b[43m \u001b[49m\n\u001b[1;32m      4\u001b[0m \u001b[43m                \u001b[49m\u001b[43moverwrite\u001b[49m\u001b[38;5;241;43m=\u001b[39;49m\u001b[38;5;28;43;01mTrue\u001b[39;49;00m\u001b[43m)\u001b[49m\n",
      "File \u001b[0;32m/data/xchem-fragalysis/maxwin/HIPPO/hippo3/animal.py:101\u001b[0m, in \u001b[0;36mHIPPO.add_hits\u001b[0;34m(self, metadata_path, pdb_path, pdb_pattern, tags, overwrite)\u001b[0m\n\u001b[1;32m     97\u001b[0m \tlogger\u001b[38;5;241m.\u001b[39merror(\u001b[38;5;124mf\u001b[39m\u001b[38;5;124m'\u001b[39m\u001b[38;5;124mDid not find any PDBs\u001b[39m\u001b[38;5;124m'\u001b[39m,fatal\u001b[38;5;241m=\u001b[39m\u001b[38;5;28;01mTrue\u001b[39;00m,code\u001b[38;5;241m=\u001b[39m\u001b[38;5;124m'\u001b[39m\u001b[38;5;124mHIPPO.add_hits.0\u001b[39m\u001b[38;5;124m'\u001b[39m)\n\u001b[1;32m     99\u001b[0m \u001b[38;5;66;03m# from .io import compounds_from_bound_pdbs\u001b[39;00m\n\u001b[0;32m--> 101\u001b[0m comp_set \u001b[38;5;241m=\u001b[39m \u001b[43mCompoundSet\u001b[49m\u001b[38;5;241;43m.\u001b[39;49m\u001b[43mfrom_bound_pdbs\u001b[49m\u001b[43m(\u001b[49m\u001b[43mname\u001b[49m\u001b[38;5;241;43m=\u001b[39;49m\u001b[38;5;124;43m'\u001b[39;49m\u001b[38;5;124;43mhits\u001b[39;49m\u001b[38;5;124;43m'\u001b[39;49m\u001b[43m,\u001b[49m\u001b[43m \u001b[49m\n\u001b[1;32m    102\u001b[0m \u001b[43m\t\u001b[49m\u001b[43mpdbs\u001b[49m\u001b[38;5;241;43m=\u001b[39;49m\u001b[43mpdbs\u001b[49m\u001b[43m,\u001b[49m\u001b[43m \u001b[49m\n\u001b[1;32m    103\u001b[0m \u001b[43m\t\u001b[49m\u001b[43mmetadata_df\u001b[49m\u001b[38;5;241;43m=\u001b[39;49m\u001b[43mmetadata_df\u001b[49m\u001b[43m,\u001b[49m\n\u001b[1;32m    104\u001b[0m \u001b[43m\t\u001b[49m\u001b[43mpdb_pattern\u001b[49m\u001b[38;5;241;43m=\u001b[39;49m\u001b[43mpdb_pattern\u001b[49m\u001b[43m,\u001b[49m\n\u001b[1;32m    105\u001b[0m \u001b[43m\t\u001b[49m\u001b[43mtags\u001b[49m\u001b[38;5;241;43m=\u001b[39;49m\u001b[43mtags\u001b[49m\u001b[43m,\u001b[49m\n\u001b[1;32m    106\u001b[0m \u001b[43m\t\u001b[49m\u001b[43manimal\u001b[49m\u001b[38;5;241;43m=\u001b[39;49m\u001b[38;5;28;43mself\u001b[39;49m\u001b[43m,\u001b[49m\n\u001b[1;32m    107\u001b[0m \u001b[43m\u001b[49m\u001b[43m)\u001b[49m\n",
      "File \u001b[0;32m/data/xchem-fragalysis/maxwin/HIPPO/hippo3/cset.py:58\u001b[0m, in \u001b[0;36mCompoundSet.from_bound_pdbs\u001b[0;34m(cls, name, pdbs, metadata_df, pdb_pattern, tags, animal)\u001b[0m\n\u001b[1;32m     54\u001b[0m logger\u001b[38;5;241m.\u001b[39mdebug(\u001b[38;5;124mf\u001b[39m\u001b[38;5;124m'\u001b[39m\u001b[38;5;132;01m{\u001b[39;00mcomp_name\u001b[38;5;132;01m=}\u001b[39;00m\u001b[38;5;124m'\u001b[39m)\n\u001b[1;32m     56\u001b[0m smiles \u001b[38;5;241m=\u001b[39m metadata[\u001b[38;5;124m'\u001b[39m\u001b[38;5;124mnew_smiles\u001b[39m\u001b[38;5;124m'\u001b[39m] \u001b[38;5;129;01mor\u001b[39;00m metadata[\u001b[38;5;124m'\u001b[39m\u001b[38;5;124msmiles\u001b[39m\u001b[38;5;124m'\u001b[39m]\n\u001b[0;32m---> 58\u001b[0m \u001b[43manimal\u001b[49m\u001b[38;5;241;43m.\u001b[39;49m\u001b[43mdb\u001b[49m\u001b[38;5;241;43m.\u001b[39;49m\u001b[43mregister_compound\u001b[49m\u001b[43m(\u001b[49m\u001b[43mcomp_name\u001b[49m\u001b[43m,\u001b[49m\u001b[43m \u001b[49m\u001b[43msmiles\u001b[49m\u001b[43m,\u001b[49m\u001b[43m \u001b[49m\u001b[43msmiles\u001b[49m\u001b[43m,\u001b[49m\u001b[43m \u001b[49m\u001b[43msmiles\u001b[49m\u001b[43m,\u001b[49m\u001b[43m \u001b[49m\u001b[43mtags\u001b[49m\u001b[38;5;241;43m=\u001b[39;49m\u001b[43mtags\u001b[49m\u001b[43m)\u001b[49m\n\u001b[1;32m     60\u001b[0m \u001b[38;5;66;03m# if comp_name not in self:\u001b[39;00m\n\u001b[1;32m     61\u001b[0m \n\u001b[1;32m     62\u001b[0m \u001b[38;5;66;03m# \tcompound = Compound.from_bound_pdb(comp_name, pdb, metadata, tags=tags, animal=animal)\u001b[39;00m\n\u001b[0;32m   (...)\u001b[0m\n\u001b[1;32m     69\u001b[0m \u001b[38;5;66;03m# \tpose = Pose.from_bound_pdb(compound, pdb, metadata, tags=tags)\u001b[39;00m\n\u001b[1;32m     70\u001b[0m \u001b[38;5;66;03m# \tcompound.add_pose(pose)\u001b[39;00m\n\u001b[1;32m     72\u001b[0m \u001b[38;5;28;01mbreak\u001b[39;00m\n",
      "\u001b[0;31mTypeError\u001b[0m: Database.register_compound() got an unexpected keyword argument 'tags'"
     ]
    }
   ],
   "source": [
    "animal.add_hits(metadata_path='../metadata_tagged.csv', \n",
    "                pdb_path='../aligned', \n",
    "                pdb_pattern=f'**/{animal.target_name}-x????_??_bound.pdb', \n",
    "                overwrite=True)"
   ]
  },
  {
   "cell_type": "code",
   "execution_count": null,
   "id": "31dfea08-5eeb-4b0a-9e67-ec145938c95b",
   "metadata": {},
   "outputs": [],
   "source": []
  },
  {
   "cell_type": "code",
   "execution_count": 83,
   "id": "ceb06a09-5b52-44ba-98a7-185d2bbaf18e",
   "metadata": {},
   "outputs": [
    {
     "name": "stdout",
     "output_type": "stream",
     "text": [
      "[(1,\n",
      "  'x0152',\n",
      "  'O=C(COc1ccccc1)N2CCNC(=O)C2',\n",
      "  'O=C(COc1ccccc1)N2CCNC(=O)C2',\n",
      "  'O=C(COc1ccccc1)N2CCNC(=O)C2',\n",
      "  b'MOL\\x00\\xef\\xbe\\xad\\xde\\x00\\x00\\x00\\x00\\x0f\\x00\\x00\\x00\\x00\\x00\\x00\\x00'\n",
      "  b'\\x00\\x00\\x00\\x00\\x11\\x00\\x00\\x00\\x12\\x00\\x00\\x00\\x80\\x01\\x08\\x00'\n",
      "  b'(\\x00\\x00\\x00\\x03\\x02\\x06\\x00(\\x00\\x00\\x00\\x03\\x04\\x06\\x00`\\x00\\x00\\x00'\n",
      "  b'\\x02\\x02\\x08\\x00(\\x00\\x00\\x00\\x03\\x02\\x06@(\\x00\\x00\\x00\\x03\\x04\\x06@'\n",
      "  b'h\\x00\\x00\\x00\\x03\\x03\\x01\\x06@h\\x00\\x00\\x00\\x03\\x03\\x01\\x06@h\\x00'\n",
      "  b'\\x00\\x00\\x03\\x03\\x01\\x06@h\\x00\\x00\\x00\\x03\\x03\\x01\\x06@h\\x00\\x00\\x00'\n",
      "  b'\\x03\\x03\\x01\\x07\\x00(\\x00\\x00\\x00\\x03\\x03\\x06\\x00`\\x00\\x00\\x00\\x02\\x02\\x06'\n",
      "  b'\\x00`\\x00\\x00\\x00\\x02\\x02\\x07\\x00h\\x00\\x00\\x00\\x03\\x02\\x01\\x06\\x00(\\x00'\n",
      "  b'\\x00\\x00\\x03\\x04\\x08\\x00(\\x00\\x00\\x00\\x03\\x02\\x06\\x00`\\x00\\x00\\x00\\x02\\x02'\n",
      "  b'\\x0b\\x00\\x01(\\x02\\x01\\x02\\x00\\x02\\x03\\x00\\x03\\x04 \\x04\\x05h\\x0c\\x05\\x06'\n",
      "  b'h\\x0c\\x06\\x07h\\x0c\\x07\\x08h\\x0c\\x08\\th\\x0c\\x01\\n \\n\\x0b\\x00\\x0b\\x0c\\x00\\x0c'\n",
      "  b'\\r\\x00\\r\\x0e \\x0e\\x0f(\\x02\\x0e\\x10\\x00\\t\\x04h\\x0c\\x10\\n\\x00\\x14'\n",
      "  b'\\x02\\x00\\x00\\x00\\x06\\x05\\x06\\x07\\x08\\t\\x04\\x06\\x0b\\x0c\\r\\x0e\\x10\\n\\x17\\t'\n",
      "  b'\\x00\\x00\\x00\\x00\\x00\\x00\\x00?\\x00\\x00\\x00\\x00\\x12d\\x00\\x00\\x00\\x03\\x00\\x0f'\n",
      "  b'\\x00\\x00\\x00__computedProps\\x06\\x02\\x00\\x00\\x00\\x00\\x00\\x00\\x00\\x07'\n",
      "  b'\\x00\\x00\\x00numArom\\x0f\\x00\\x00\\x00_StereochemDone\\x07\\x00\\x00\\x00numArom'\n",
      "  b'\\x01\\x01\\x00\\x00\\x00\\x0f\\x00\\x00\\x00_StereochemDone\\x01\\x01\\x00\\x00'\n",
      "  b'\\x00\\x13:\\xfc\\x03\\x00\\x00\\x02\\x00\\x0f\\x00\\x00\\x00__computedProps'\n",
      "  b'\\x06\\x01\\x00\\x00\\x00\\x00\\x00\\x00\\x00\\x08\\x00\\x00\\x00_CIPRank\\x08\\x00\\x00'\n",
      "  b'\\x00_CIPRank\\x02\\x0e\\x00\\x00\\x00\\x00\\x02\\x00\\x0f\\x00\\x00\\x00__computedProps'\n",
      "  b'\\x06\\x01\\x00\\x00\\x00\\x00\\x00\\x00\\x00\\x08\\x00\\x00\\x00_CIPRank\\x08\\x00\\x00'\n",
      "  b'\\x00_CIPRank\\x02\\t\\x00\\x00\\x00\\x00\\x02\\x00\\x0f\\x00\\x00\\x00__computedProps'\n",
      "  b'\\x06\\x01\\x00\\x00\\x00\\x00\\x00\\x00\\x00\\x08\\x00\\x00\\x00_CIPRank\\x08\\x00\\x00'\n",
      "  b'\\x00_CIPRank\\x02\\x06\\x00\\x00\\x00\\x00\\x02\\x00\\x0f\\x00\\x00\\x00__computedProps'\n",
      "  b'\\x06\\x01\\x00\\x00\\x00\\x00\\x00\\x00\\x00\\x08\\x00\\x00\\x00_CIPRank\\x08\\x00\\x00'\n",
      "  b'\\x00_CIPRank\\x02\\x0c\\x00\\x00\\x00\\x00\\x02\\x00\\x0f\\x00\\x00\\x00__computedProps'\n",
      "  b'\\x06\\x01\\x00\\x00\\x00\\x00\\x00\\x00\\x00\\x08\\x00\\x00\\x00_CIPRank\\x08\\x00\\x00'\n",
      "  b'\\x00_CIPRank\\x02\\x07\\x00\\x00\\x00\\x00\\x02\\x00\\x0f\\x00\\x00\\x00__computedProps'\n",
      "  b'\\x06\\x01\\x00\\x00\\x00\\x00\\x00\\x00\\x00\\x08\\x00\\x00\\x00_CIPRank\\x08\\x00\\x00'\n",
      "  b'\\x00_CIPRank\\x02\\x02\\x00\\x00\\x00\\x00\\x02\\x00\\x0f\\x00\\x00\\x00__computedProps'\n",
      "  b'\\x06\\x01\\x00\\x00\\x00\\x00\\x00\\x00\\x00\\x08\\x00\\x00\\x00_CIPRank\\x08\\x00\\x00'\n",
      "  b'\\x00_CIPRank\\x02\\x01\\x00\\x00\\x00\\x00\\x02\\x00\\x0f\\x00\\x00\\x00__computedProps'\n",
      "  b'\\x06\\x01\\x00\\x00\\x00\\x00\\x00\\x00\\x00\\x08\\x00\\x00\\x00_CIPRank\\x08\\x00\\x00'\n",
      "  b'\\x00_CIPRank\\x02\\x00\\x00\\x00\\x00\\x00\\x02\\x00\\x0f\\x00\\x00\\x00__computedProps'\n",
      "  b'\\x06\\x01\\x00\\x00\\x00\\x00\\x00\\x00\\x00\\x08\\x00\\x00\\x00_CIPRank\\x08\\x00\\x00'\n",
      "  b'\\x00_CIPRank\\x02\\x01\\x00\\x00\\x00\\x00\\x02\\x00\\x0f\\x00\\x00\\x00__computedProps'\n",
      "  b'\\x06\\x01\\x00\\x00\\x00\\x00\\x00\\x00\\x00\\x08\\x00\\x00\\x00_CIPRank\\x08\\x00\\x00'\n",
      "  b'\\x00_CIPRank\\x02\\x02\\x00\\x00\\x00\\x00\\x02\\x00\\x0f\\x00\\x00\\x00__computedProps'\n",
      "  b'\\x06\\x01\\x00\\x00\\x00\\x00\\x00\\x00\\x00\\x08\\x00\\x00\\x00_CIPRank\\x08\\x00\\x00'\n",
      "  b'\\x00_CIPRank\\x02\\x0b\\x00\\x00\\x00\\x00\\x02\\x00\\x0f\\x00\\x00\\x00__computedProps'\n",
      "  b'\\x06\\x01\\x00\\x00\\x00\\x00\\x00\\x00\\x00\\x08\\x00\\x00\\x00_CIPRank\\x08\\x00\\x00'\n",
      "  b'\\x00_CIPRank\\x02\\x04\\x00\\x00\\x00\\x00\\x02\\x00\\x0f\\x00\\x00\\x00__computedProps'\n",
      "  b'\\x06\\x01\\x00\\x00\\x00\\x00\\x00\\x00\\x00\\x08\\x00\\x00\\x00_CIPRank\\x08\\x00\\x00'\n",
      "  b'\\x00_CIPRank\\x02\\x03\\x00\\x00\\x00\\x00\\x02\\x00\\x0f\\x00\\x00\\x00__computedProps'\n",
      "  b'\\x06\\x01\\x00\\x00\\x00\\x00\\x00\\x00\\x00\\x08\\x00\\x00\\x00_CIPRank\\x08\\x00\\x00'\n",
      "  b'\\x00_CIPRank\\x02\\n\\x00\\x00\\x00\\x00\\x02\\x00\\x0f\\x00\\x00\\x00__computedProps'\n",
      "  b'\\x06\\x01\\x00\\x00\\x00\\x00\\x00\\x00\\x00\\x08\\x00\\x00\\x00_CIPRank\\x08\\x00\\x00'\n",
      "  b'\\x00_CIPRank\\x02\\x08\\x00\\x00\\x00\\x00\\x02\\x00\\x0f\\x00\\x00\\x00__computedProps'\n",
      "  b'\\x06\\x01\\x00\\x00\\x00\\x00\\x00\\x00\\x00\\x08\\x00\\x00\\x00_CIPRank\\x08\\x00\\x00'\n",
      "  b'\\x00_CIPRank\\x02\\r\\x00\\x00\\x00\\x00\\x02\\x00\\x0f\\x00\\x00\\x00__computedProps'\n",
      "  b'\\x06\\x01\\x00\\x00\\x00\\x00\\x00\\x00\\x00\\x08\\x00\\x00\\x00_CIPRank\\x08\\x00\\x00'\n",
      "  b'\\x00_CIPRank\\x02\\x05\\x00\\x00\\x00\\x00\\x13\\x16')]\n"
     ]
    }
   ],
   "source": [
    "animal.db._print_table('COMPOUND')"
   ]
  },
  {
   "cell_type": "code",
   "execution_count": null,
   "id": "f9cbac0d-e65e-4134-b8e6-87fa0209fd92",
   "metadata": {},
   "outputs": [],
   "source": []
  },
  {
   "cell_type": "code",
   "execution_count": null,
   "id": "ae4a1c20-1291-4a22-bc59-7f2963423c89",
   "metadata": {},
   "outputs": [],
   "source": []
  }
 ],
 "metadata": {
  "kernelspec": {
   "display_name": "Custom Python 3 (ipykernel)",
   "language": "python",
   "name": "python3"
  },
  "language_info": {
   "codemirror_mode": {
    "name": "ipython",
    "version": 3
   },
   "file_extension": ".py",
   "mimetype": "text/x-python",
   "name": "python",
   "nbconvert_exporter": "python",
   "pygments_lexer": "ipython3",
   "version": "3.11.6"
  }
 },
 "nbformat": 4,
 "nbformat_minor": 5
}
