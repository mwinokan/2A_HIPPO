{
 "cells": [
  {
   "cell_type": "code",
   "execution_count": 124,
   "id": "1709c307-53f3-41c2-8842-26eba606f150",
   "metadata": {},
   "outputs": [
    {
     "name": "stdout",
     "output_type": "stream",
     "text": [
      "The autoreload extension is already loaded. To reload it, use:\n",
      "  %reload_ext autoreload\n"
     ]
    }
   ],
   "source": [
    "%load_ext autoreload"
   ]
  },
  {
   "cell_type": "code",
   "execution_count": 125,
   "id": "a7c7845d-2b48-4e94-bf29-005c86d0ece5",
   "metadata": {},
   "outputs": [],
   "source": [
    "%autoreload 2\n",
    "import hippo3 as hippo\n",
    "import os\n",
    "import molparse as mp\n",
    "import mcol"
   ]
  },
  {
   "cell_type": "code",
   "execution_count": 138,
   "id": "8a6efc46-ce86-4ec0-b26e-b1f2b43e6650",
   "metadata": {},
   "outputs": [
    {
     "name": "stdout",
     "output_type": "stream",
     "text": [
      "removed 'test.db'\n"
     ]
    },
    {
     "data": {
      "text/plain": [
       "0"
      ]
     },
     "execution_count": 138,
     "metadata": {},
     "output_type": "execute_result"
    }
   ],
   "source": [
    "os.system('rm -v test.db')"
   ]
  },
  {
   "cell_type": "code",
   "execution_count": 139,
   "id": "68d3ee7d-c947-4af7-9f3d-4a8da08a82fd",
   "metadata": {},
   "outputs": [
    {
     "name": "stdout",
     "output_type": "stream",
     "text": [
      "\u001b[1m\u001b[38;5;166mCreating HIPPO animal\u001b[0m\n",
      "\u001b[36mname\u001b[0m = \u001b[38;5;154m2A_hippo3\u001b[0m\n",
      "\u001b[36mdb_path\u001b[0m = \u001b[38;5;11mtest.db\u001b[0m\n",
      "\u001b[2mDEBUG: hippo3.Database.__init__()\u001b[0m\n",
      "\u001b[2mDEBUG: Database.path = test.db\u001b[0m\n",
      "\u001b[2mDEBUG: hippo3.Database.connect()\u001b[0m\n",
      "\u001b[2mDEBUG: sqlite3.version='2.6.0'\u001b[0m\n",
      "\u001b[7m\u001b[32;1m SUCCESS \u001b[0m\u001b[32;1m Database connected @ \u001b[38;5;11mtest.db!\u001b[0m\n",
      "Creating blank database...\n",
      "\u001b[2mDEBUG: HIPPO.Database.create_table_compound()\u001b[0m\n",
      "\u001b[2mDEBUG: HIPPO.Database.create_table_inspiration()\u001b[0m\n",
      "\u001b[2mDEBUG: HIPPO.Database.create_table_reaction()\u001b[0m\n",
      "\u001b[2mDEBUG: HIPPO.Database.create_table_reactant()\u001b[0m\n",
      "\u001b[2mDEBUG: HIPPO.Database.create_table_pose()\u001b[0m\n",
      "\u001b[2mDEBUG: HIPPO.Database.create_table_tag()\u001b[0m\n",
      "\u001b[2mDEBUG: HIPPO.Database.create_table_quote()\u001b[0m\n",
      "\u001b[2mDEBUG: HIPPO.Database.create_table_pattern_bfp()\u001b[0m\n",
      "\u001b[7m\u001b[32;1m SUCCESS \u001b[0m\u001b[32;1m Initialised animal HIPPO(\"2A_hippo3\")!\u001b[0m\n",
      "HIPPO(\"2A_hippo3\")\n"
     ]
    }
   ],
   "source": [
    "animal = hippo.HIPPO('2A_hippo3', 'test.db')\n",
    "print(animal)"
   ]
  },
  {
   "cell_type": "code",
   "execution_count": 140,
   "id": "f1cb8e21-317e-4a2c-94f8-17fe1bca462c",
   "metadata": {},
   "outputs": [
    {
     "name": "stdout",
     "output_type": "stream",
     "text": [
      "\u001b[1m\u001b[4mset(C x 0)\u001b[22m\u001b[24m\n",
      "\u001b[1m\u001b[4mset(P x 0)\u001b[22m\u001b[24m\n"
     ]
    }
   ],
   "source": [
    "print(animal.compounds)\n",
    "print(animal.poses)"
   ]
  },
  {
   "cell_type": "markdown",
   "id": "9bba23b1-f821-4fb6-b374-61a362ebac53",
   "metadata": {},
   "source": [
    "# insert test data"
   ]
  },
  {
   "cell_type": "code",
   "execution_count": 141,
   "id": "f9cbac0d-e65e-4134-b8e6-87fa0209fd92",
   "metadata": {},
   "outputs": [
    {
     "data": {
      "text/plain": [
       "\u001b[1m\u001b[4mset(C x 8)\u001b[22m\u001b[24m"
      ]
     },
     "execution_count": 141,
     "metadata": {},
     "output_type": "execute_result"
    }
   ],
   "source": [
    "animal.db.insert_compound(name='x0310', smiles='Cc1nn(C)c(C)c1NC(=O)CC#N', tags=['hits'])\n",
    "animal.db.insert_compound(name='x0152', smiles='O=C(COc1ccccc1)N2CCNC(=O)C2', tags=['hits'])\n",
    "animal.db.insert_compound(name='base1', smiles='Cc1nn(C)c(C)c1NC(=O)Oc2ccccc2', tags=['base'])\n",
    "animal.db.insert_compound(name='elab1', smiles='Cc1nn(C)c(C)c1NC(=O)Oc2cccc(Cl)c2', base=animal.compounds['base1'], tags=['elab'])\n",
    "animal.db.insert_compound(name='elab2', smiles='Cc2nn1CC=CCc1c2NC(=O)Oc3ccccc3', base=animal.compounds['base1'], tags=['elab'])\n",
    "animal.db.insert_compound(name='bb1', smiles='Cc2nn1CC=CCc1c2NC(=O)', tags=['reactant'])\n",
    "animal.db.insert_compound(name='bb2', smiles='Oc3ccccc3', tags=['reactant'])\n",
    "animal.db.insert_compound(name='bb3', smiles='CC', tags=['reactant'])\n",
    "animal.compounds"
   ]
  },
  {
   "cell_type": "code",
   "execution_count": 142,
   "id": "a05c008b-1c50-4bd1-aa91-2e31df6740cd",
   "metadata": {},
   "outputs": [
    {
     "name": "stdout",
     "output_type": "stream",
     "text": [
      "\u001b[7m\u001b[31;1m ERROR \u001b[0m\u001b[31;1m Path cannot be resolved: \u001b[38;5;11m/tmp/elab1!\u001b[0m\n"
     ]
    },
    {
     "data": {
      "text/plain": [
       "\u001b[1m\u001b[4mset(P x 5)\u001b[22m\u001b[24m"
      ]
     },
     "execution_count": 142,
     "metadata": {},
     "output_type": "execute_result"
    }
   ],
   "source": [
    "animal.db.insert_pose(compound=animal.compounds['x0310'], name='0A', target='A71EV2A', path='/dev/null', tags=['hits'])\n",
    "animal.db.insert_pose(compound=animal.compounds['x0310'], name='1A', target='A71EV2A', path=None, tags=['hits'])\n",
    "animal.db.insert_pose(compound=animal.compounds['x0152'], name='0B', target='A71EV2A', path=None, tags=['hits'])\n",
    "animal.db.insert_pose(compound=animal.compounds['base1'], name='a', target='A71EV2A', path=None, tags=['hits'])\n",
    "animal.db.insert_pose(compound=animal.compounds['elab1'], name='a', target='A71EV2A', path='/tmp/elab1', tags=['hits'])\n",
    "animal.db.insert_pose(compound=animal.compounds['elab1'], name='a', target='A71EV2A', path=None, tags=['hits'])\n",
    "animal.poses"
   ]
  },
  {
   "cell_type": "code",
   "execution_count": 143,
   "id": "fc450a8c-7a38-4e71-b008-38a755b6a317",
   "metadata": {},
   "outputs": [
    {
     "data": {
      "text/plain": [
       "2"
      ]
     },
     "execution_count": 143,
     "metadata": {},
     "output_type": "execute_result"
    }
   ],
   "source": [
    "animal.db.insert_inspiration(derivative=animal.poses['A71EV2A_base1_a'], original=animal.poses['A71EV2A_x0310_0A'])\n",
    "animal.db.insert_inspiration(derivative=animal.compounds['base1'].get_poses()[0], original=animal.poses['A71EV2A_x0152_0B'])"
   ]
  },
  {
   "cell_type": "code",
   "execution_count": 144,
   "id": "c957b400-a8fc-4fe9-93d6-1855fa7fc616",
   "metadata": {},
   "outputs": [
    {
     "data": {
      "text/plain": [
       "1"
      ]
     },
     "execution_count": 144,
     "metadata": {},
     "output_type": "execute_result"
    }
   ],
   "source": [
    "animal.db.insert_reaction(type='Amidation', product=animal.compounds['base1'])"
   ]
  },
  {
   "cell_type": "code",
   "execution_count": 145,
   "id": "38253cd9-89a4-4115-84d7-c7c657e93faf",
   "metadata": {},
   "outputs": [
    {
     "data": {
      "text/plain": [
       "2"
      ]
     },
     "execution_count": 145,
     "metadata": {},
     "output_type": "execute_result"
    }
   ],
   "source": [
    "animal.db.insert_reactant(compound=animal.compounds['bb1'], reaction=animal.db.get_reaction(id=1), amount=1)\n",
    "animal.db.insert_reactant(compound=animal.compounds['bb2'], reaction=animal.db.get_reaction(id=1), amount=1)"
   ]
  },
  {
   "cell_type": "code",
   "execution_count": 146,
   "id": "54e62bbd-d627-4dfc-97de-8ce9035112ac",
   "metadata": {},
   "outputs": [
    {
     "data": {
      "text/plain": [
       "1"
      ]
     },
     "execution_count": 146,
     "metadata": {},
     "output_type": "execute_result"
    }
   ],
   "source": [
    "animal.db.insert_quote(compound=animal.compounds['bb1'], \n",
    "                       supplier='Enamine', catalogue='BB', entry='Z0123456789', \n",
    "                       amount=21, price=100, currency='USD', lead_time=20)"
   ]
  },
  {
   "cell_type": "code",
   "execution_count": 147,
   "id": "fa3ae548-048e-423d-a740-33139426ab51",
   "metadata": {},
   "outputs": [
    {
     "data": {
      "text/plain": [
       "2"
      ]
     },
     "execution_count": 147,
     "metadata": {},
     "output_type": "execute_result"
    }
   ],
   "source": [
    "animal.db.insert_quote(compound=animal.compounds['bb1'], \n",
    "                       supplier='Enamine', catalogue='BB', entry='Z0123456789', \n",
    "                       amount=5, price=30, currency='USD', lead_time=20)"
   ]
  },
  {
   "cell_type": "code",
   "execution_count": 148,
   "id": "65c79463-23f4-4983-a7e7-61f79dde614b",
   "metadata": {
    "scrolled": true
   },
   "outputs": [
    {
     "data": {
      "text/plain": [
       "3"
      ]
     },
     "execution_count": 148,
     "metadata": {},
     "output_type": "execute_result"
    }
   ],
   "source": [
    "animal.db.insert_quote(compound=animal.compounds['bb2'], \n",
    "                       supplier='Enamine', catalogue='BB', entry='Z0123456790', \n",
    "                       amount=21, price=100, currency='USD', lead_time=20)"
   ]
  },
  {
   "cell_type": "code",
   "execution_count": 149,
   "id": "258862d6-b21c-4401-8f84-ec4ec7c5f0ea",
   "metadata": {},
   "outputs": [
    {
     "data": {
      "text/plain": [
       "4"
      ]
     },
     "execution_count": 149,
     "metadata": {},
     "output_type": "execute_result"
    }
   ],
   "source": [
    "animal.db.insert_quote(compound=animal.compounds['bb3'], \n",
    "                       supplier='Enamine', catalogue='BB', entry='Z0123456791', \n",
    "                       amount=21, price=100, currency='USD', lead_time=20)"
   ]
  },
  {
   "cell_type": "markdown",
   "id": "08d7bbbf-c46e-4e4e-9e48-a09f0f92bb6a",
   "metadata": {},
   "source": [
    "# test multi-step reactions\n",
    "\n",
    "1. bb1 + bb2 --> base1\n",
    "2. base1 + bb3 --> elab1\n",
    "\n",
    "**step 1. added above**"
   ]
  },
  {
   "cell_type": "code",
   "execution_count": 150,
   "id": "104ed230-399a-4424-81d9-2cfa5988fef7",
   "metadata": {},
   "outputs": [
    {
     "data": {
      "text/plain": [
       "2"
      ]
     },
     "execution_count": 150,
     "metadata": {},
     "output_type": "execute_result"
    }
   ],
   "source": [
    "animal.db.insert_reaction(type='Suzuki', product=animal.compounds['elab1'], product_yield=0.8)"
   ]
  },
  {
   "cell_type": "code",
   "execution_count": 151,
   "id": "022360b6-4555-43c8-b134-76924eaa5afe",
   "metadata": {},
   "outputs": [
    {
     "data": {
      "text/plain": [
       "4"
      ]
     },
     "execution_count": 151,
     "metadata": {},
     "output_type": "execute_result"
    }
   ],
   "source": [
    "animal.db.insert_reactant(compound=animal.compounds['base1'], reaction=animal.db.get_reaction(id=2), amount=1)\n",
    "animal.db.insert_reactant(compound=animal.compounds['bb3'], reaction=animal.db.get_reaction(id=2), amount=2)"
   ]
  },
  {
   "cell_type": "markdown",
   "id": "43607275-3f06-42bb-8281-4d92bff2d070",
   "metadata": {},
   "source": [
    "# test repr's"
   ]
  },
  {
   "cell_type": "code",
   "execution_count": 152,
   "id": "f7e19667-9f09-45cf-91cc-06fae6aa48d6",
   "metadata": {},
   "outputs": [
    {
     "data": {
      "text/plain": [
       "\u001b[1m\u001b[4mset(C x 8)\u001b[22m\u001b[24m"
      ]
     },
     "execution_count": 152,
     "metadata": {},
     "output_type": "execute_result"
    }
   ],
   "source": [
    "animal.compounds"
   ]
  },
  {
   "cell_type": "code",
   "execution_count": 153,
   "id": "3c24b72f-d719-4e52-8a61-060548632d09",
   "metadata": {},
   "outputs": [
    {
     "data": {
      "text/plain": [
       "\u001b[1m\u001b[4mC1 \"x0310\"\u001b[22m\u001b[24m"
      ]
     },
     "execution_count": 153,
     "metadata": {},
     "output_type": "execute_result"
    }
   ],
   "source": [
    "animal.compounds[1]"
   ]
  },
  {
   "cell_type": "code",
   "execution_count": 154,
   "id": "40f8ad41-e636-45cb-9a70-bcf09b9d836d",
   "metadata": {},
   "outputs": [
    {
     "data": {
      "text/plain": [
       "\u001b[1m\u001b[4mset(P x 5)\u001b[22m\u001b[24m"
      ]
     },
     "execution_count": 154,
     "metadata": {},
     "output_type": "execute_result"
    }
   ],
   "source": [
    "animal.poses"
   ]
  },
  {
   "cell_type": "code",
   "execution_count": 155,
   "id": "7e8f7f8c-73e6-407d-ba8c-c0f3bbeecde2",
   "metadata": {},
   "outputs": [
    {
     "data": {
      "text/plain": [
       "\u001b[1m\u001b[4mC1->P1 \"A71EV2A_x0310_0A\"\u001b[22m\u001b[24m"
      ]
     },
     "execution_count": 155,
     "metadata": {},
     "output_type": "execute_result"
    }
   ],
   "source": [
    "animal.poses[1]"
   ]
  },
  {
   "cell_type": "code",
   "execution_count": 156,
   "id": "2960c8f5-b58d-4881-97a6-6a2798932728",
   "metadata": {},
   "outputs": [
    {
     "data": {
      "text/plain": [
       "[\u001b[1m\u001b[4m21.0 mg of \"Z0123456789\" in Enamine BB for 100.0 USD in 20 days\u001b[22m\u001b[24m,\n",
       " \u001b[1m\u001b[4m5.0 mg of \"Z0123456789\" in Enamine BB for 30.0 USD in 20 days\u001b[22m\u001b[24m]"
      ]
     },
     "execution_count": 156,
     "metadata": {},
     "output_type": "execute_result"
    }
   ],
   "source": [
    "animal.compounds['bb1'].get_quotes()"
   ]
  },
  {
   "cell_type": "markdown",
   "id": "d01ec17b-e792-497c-a8f6-e0540f2e33d5",
   "metadata": {},
   "source": [
    "# test compound"
   ]
  },
  {
   "cell_type": "code",
   "execution_count": 157,
   "id": "27c8b998-e263-4974-9b20-38e456256491",
   "metadata": {},
   "outputs": [],
   "source": [
    "comp = animal.compounds['base1']"
   ]
  },
  {
   "cell_type": "code",
   "execution_count": 158,
   "id": "813c4497-ec24-4b9f-9d73-14bee36b65a3",
   "metadata": {},
   "outputs": [
    {
     "data": {
      "text/plain": [
       "3"
      ]
     },
     "execution_count": 158,
     "metadata": {},
     "output_type": "execute_result"
    }
   ],
   "source": [
    "comp.id"
   ]
  },
  {
   "cell_type": "code",
   "execution_count": 159,
   "id": "95d6b7c5-a11b-4aaf-b907-08a7137614db",
   "metadata": {},
   "outputs": [
    {
     "data": {
      "image/png": "[encoded data removed]",
      "text/plain": [
       "<rdkit.Chem.rdchem.Mol at 0x2acb8fb60310>"
      ]
     },
     "execution_count": 159,
     "metadata": {},
     "output_type": "execute_result"
    }
   ],
   "source": [
    "comp.mol"
   ]
  },
  {
   "cell_type": "code",
   "execution_count": 160,
   "id": "b673b31e-2e1d-4072-a97d-b65f648eb69d",
   "metadata": {},
   "outputs": [
    {
     "data": {
      "text/plain": [
       "{'base'}"
      ]
     },
     "execution_count": 160,
     "metadata": {},
     "output_type": "execute_result"
    }
   ],
   "source": [
    "comp.tags"
   ]
  },
  {
   "cell_type": "markdown",
   "id": "eff074be-3806-482c-99f3-dd6b7f81bd4c",
   "metadata": {},
   "source": [
    "## test quoting data"
   ]
  },
  {
   "cell_type": "code",
   "execution_count": 161,
   "id": "10bd7961-7da7-48b1-953d-cb51f7e29ce3",
   "metadata": {},
   "outputs": [
    {
     "data": {
      "text/plain": [
       "[\u001b[1m\u001b[4m21.0 mg of \"Z0123456789\" in Enamine BB for 100.0 USD in 20 days\u001b[22m\u001b[24m,\n",
       " \u001b[1m\u001b[4m5.0 mg of \"Z0123456789\" in Enamine BB for 30.0 USD in 20 days\u001b[22m\u001b[24m]"
      ]
     },
     "execution_count": 161,
     "metadata": {},
     "output_type": "execute_result"
    }
   ],
   "source": [
    "animal.compounds['bb1'].get_quotes()"
   ]
  },
  {
   "cell_type": "code",
   "execution_count": 162,
   "id": "e9656201-8d75-4d43-9441-b28232cf466b",
   "metadata": {},
   "outputs": [
    {
     "name": "stdout",
     "output_type": "stream",
     "text": [
      "\u001b[7m\u001b[31;1m ERROR \u001b[0m\u001b[31;1m No entry in quote with quote_compound=3!\u001b[0m\n"
     ]
    },
    {
     "data": {
      "text/plain": [
       "[]"
      ]
     },
     "execution_count": 162,
     "metadata": {},
     "output_type": "execute_result"
    }
   ],
   "source": [
    "comp.get_quotes()"
   ]
  },
  {
   "cell_type": "markdown",
   "id": "4c8c45d6-b7d6-4207-9489-ebf68144dfeb",
   "metadata": {},
   "source": [
    "## test synthesis data"
   ]
  },
  {
   "cell_type": "code",
   "execution_count": 163,
   "id": "213d7a65-56fa-4372-9bd8-a4a4c0792428",
   "metadata": {},
   "outputs": [
    {
     "name": "stdout",
     "output_type": "stream",
     "text": [
      "\u001b[1m\u001b[4mR1\u001b[22m\u001b[24m.id=1\n",
      "\u001b[1m\u001b[4mR1\u001b[22m\u001b[24m.type=Amidation\n",
      "\u001b[1m\u001b[4mR1\u001b[22m\u001b[24m.product=3\n",
      "\u001b[1m\u001b[4mR1\u001b[22m\u001b[24m.product_yield=1.0\n",
      "\u001b[1m\u001b[4mR1\u001b[22m\u001b[24m.reactants=[(\u001b[1m\u001b[4mC6 \"bb1\"\u001b[22m\u001b[24m, 1.0), (\u001b[1m\u001b[4mC7 \"bb2\"\u001b[22m\u001b[24m, 1.0)]\n",
      "Ingredients for 3 mg of product:\n",
      "[3.00mg of \u001b[1m\u001b[4mC6 \"bb1\"\u001b[22m\u001b[24m, 3.00mg of \u001b[1m\u001b[4mC7 \"bb2\"\u001b[22m\u001b[24m]\n"
     ]
    }
   ],
   "source": [
    "recipe = animal.compounds['base1'].get_reactions()[0].summary(amount=3)"
   ]
  },
  {
   "cell_type": "code",
   "execution_count": 164,
   "id": "9f71c42a-54e3-47a6-a815-9556209db0f0",
   "metadata": {},
   "outputs": [
    {
     "data": {
      "text/plain": [
       "Recipe(ingredients=[3.00mg of \u001b[1m\u001b[4mC6 \"bb1\"\u001b[22m\u001b[24m, 3.00mg of \u001b[1m\u001b[4mC7 \"bb2\"\u001b[22m\u001b[24m], reactions=[\u001b[1m\u001b[4mR1\u001b[22m\u001b[24m])"
      ]
     },
     "execution_count": 164,
     "metadata": {},
     "output_type": "execute_result"
    }
   ],
   "source": [
    "recipe"
   ]
  },
  {
   "cell_type": "code",
   "execution_count": 165,
   "id": "422c2630-c3ec-4c23-a0f2-da7c64f87390",
   "metadata": {},
   "outputs": [
    {
     "name": "stdout",
     "output_type": "stream",
     "text": [
      "\u001b[1m\u001b[4m5.0 mg of \"Z0123456789\" in Enamine BB for 30.0 USD in 20 days\u001b[22m\u001b[24m\n",
      "\u001b[1m\u001b[4m21.0 mg of \"Z0123456790\" in Enamine BB for 100.0 USD in 20 days\u001b[22m\u001b[24m\n"
     ]
    }
   ],
   "source": [
    "for t in recipe.ingredients:\n",
    "    print(t.quote)"
   ]
  },
  {
   "cell_type": "code",
   "execution_count": 166,
   "id": "10efc3fb-6ab7-4c3b-b1cd-4254b2420d9b",
   "metadata": {},
   "outputs": [
    {
     "name": "stdout",
     "output_type": "stream",
     "text": [
      "\u001b[1m\u001b[4mR2\u001b[22m\u001b[24m.id=2\n",
      "\u001b[1m\u001b[4mR2\u001b[22m\u001b[24m.type=Suzuki\n",
      "\u001b[1m\u001b[4mR2\u001b[22m\u001b[24m.product=4\n",
      "\u001b[1m\u001b[4mR2\u001b[22m\u001b[24m.product_yield=0.8\n",
      "\u001b[1m\u001b[4mR2\u001b[22m\u001b[24m.reactants=[(\u001b[1m\u001b[4mC3 \"base1\"\u001b[22m\u001b[24m, 1.0), (\u001b[1m\u001b[4mC8 \"bb3\"\u001b[22m\u001b[24m, 2.0)]\n",
      "Ingredients for 1 mg of product:\n",
      "[1.25mg of \u001b[1m\u001b[4mC6 \"bb1\"\u001b[22m\u001b[24m, 1.25mg of \u001b[1m\u001b[4mC7 \"bb2\"\u001b[22m\u001b[24m, 2.50mg of \u001b[1m\u001b[4mC8 \"bb3\"\u001b[22m\u001b[24m]\n"
     ]
    },
    {
     "data": {
      "text/plain": [
       "Recipe(ingredients=[1.25mg of \u001b[1m\u001b[4mC6 \"bb1\"\u001b[22m\u001b[24m, 1.25mg of \u001b[1m\u001b[4mC7 \"bb2\"\u001b[22m\u001b[24m, 2.50mg of \u001b[1m\u001b[4mC8 \"bb3\"\u001b[22m\u001b[24m], reactions=[\u001b[1m\u001b[4mR1\u001b[22m\u001b[24m, \u001b[1m\u001b[4mR2\u001b[22m\u001b[24m])"
      ]
     },
     "execution_count": 166,
     "metadata": {},
     "output_type": "execute_result"
    }
   ],
   "source": [
    "animal.compounds['elab1'].get_reactions()[0].summary()"
   ]
  },
  {
   "cell_type": "markdown",
   "id": "2048fc1c-65c8-477e-9d2e-ae19e641b7a0",
   "metadata": {},
   "source": [
    "# test pose"
   ]
  },
  {
   "cell_type": "code",
   "execution_count": null,
   "id": "465a235b-3ad3-4d09-844a-cf73f043a9c0",
   "metadata": {},
   "outputs": [],
   "source": [
    "pose = comp.poses[0]\n",
    "pose"
   ]
  },
  {
   "cell_type": "code",
   "execution_count": null,
   "id": "3465df3f-1878-404f-acd7-dff497693b6d",
   "metadata": {},
   "outputs": [],
   "source": [
    "pose.inspirations"
   ]
  },
  {
   "cell_type": "markdown",
   "id": "092bb789-ed67-44db-8470-fbfcc6c71a84",
   "metadata": {},
   "source": [
    "# test query"
   ]
  },
  {
   "cell_type": "code",
   "execution_count": null,
   "id": "84f3c042-b94c-480e-8a07-190d4bc59ba9",
   "metadata": {},
   "outputs": [],
   "source": [
    "a = animal.db.query_substructure('Cc1nn(C)c(C)c1NC(=O)CC#N')\n",
    "b = animal.db.query_substructure('c1nn(C)cc1')\n",
    "c = animal.db.query_substructure('O=C(COc1ccccc1)N2CCNC(=O)C2')\n",
    "a,b,c"
   ]
  },
  {
   "cell_type": "code",
   "execution_count": null,
   "id": "f0e5025e-1724-4f85-8e04-f51c938c5452",
   "metadata": {},
   "outputs": [],
   "source": [
    "a = animal.db.query_similarity('Cc1nn(C)c(C)c1NC(=O)CC#N', 0.6, return_similarity=True)\n",
    "b = animal.db.query_similarity('Cc1nn(C)c(C)c1NC(=O)CC#N', 0.2, return_similarity=True)\n",
    "c = animal.db.query_exact('Cc1nn(C)c(C)c1NC(=O)CC#N')\n",
    "a, b, c"
   ]
  },
  {
   "cell_type": "code",
   "execution_count": null,
   "id": "7f6f3837-d988-4bbb-b0c2-a00358189f12",
   "metadata": {},
   "outputs": [],
   "source": [
    "display(mp.rdkit.mol_from_smiles('Cc1nn(C)c(C)c1NC(=O)CC#N'))\n",
    "mp.rdkit.mol_from_smiles('c1nn(C)cc1')"
   ]
  },
  {
   "cell_type": "code",
   "execution_count": null,
   "id": "fe14cc57-44d2-4385-895d-7ed28ee718c8",
   "metadata": {},
   "outputs": [],
   "source": [
    "animal.db.execute(\"SELECT compound_name, compound_smiles, compound_base FROM compound\")\n",
    "animal.db.cursor.fetchall()"
   ]
  },
  {
   "cell_type": "code",
   "execution_count": null,
   "id": "b469fb4a-9898-4df6-abb2-5cc069c4f696",
   "metadata": {},
   "outputs": [],
   "source": [
    "animal.db.execute(\"SELECT inspiration_original, inspiration_derivative FROM inspiration\")\n",
    "animal.db.cursor.fetchall()"
   ]
  },
  {
   "cell_type": "code",
   "execution_count": null,
   "id": "9f8239df-cece-4abb-bb8a-e2e2a0da1850",
   "metadata": {},
   "outputs": [],
   "source": [
    "animal.db.execute(f'PRAGMA table_info(compound_mfp);')\n",
    "animal.db.cursor.fetchall()"
   ]
  },
  {
   "cell_type": "code",
   "execution_count": null,
   "id": "747466eb-c573-4ca9-b8a8-e7bcf944ffbf",
   "metadata": {},
   "outputs": [],
   "source": [
    "animal.db.execute(f'PRAGMA table_info(compound);')\n",
    "animal.db.cursor.fetchall()"
   ]
  },
  {
   "cell_type": "code",
   "execution_count": null,
   "id": "baff1a93-fa08-400e-8110-7bac231839fd",
   "metadata": {},
   "outputs": [],
   "source": []
  }
 ],
 "metadata": {
  "kernelspec": {
   "display_name": "Custom Python 3 (ipykernel)",
   "language": "python",
   "name": "python3"
  },
  "language_info": {
   "codemirror_mode": {
    "name": "ipython",
    "version": 3
   },
   "file_extension": ".py",
   "mimetype": "text/x-python",
   "name": "python",
   "nbconvert_exporter": "python",
   "pygments_lexer": "ipython3",
   "version": "3.11.6"
  }
 },
 "nbformat": 4,
 "nbformat_minor": 5
}
