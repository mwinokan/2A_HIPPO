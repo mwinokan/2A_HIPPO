{
 "cells": [
  {
   "cell_type": "code",
   "execution_count": 3,
   "id": "04f5d101-fd6c-4000-b771-54599b2f409c",
   "metadata": {},
   "outputs": [
    {
     "name": "stdout",
     "output_type": "stream",
     "text": [
      "The autoreload extension is already loaded. To reload it, use:\n",
      "  %reload_ext autoreload\n"
     ]
    }
   ],
   "source": [
    "%load_ext autoreload"
   ]
  },
  {
   "cell_type": "code",
   "execution_count": 4,
   "id": "98eeb878-8fef-4927-990a-f7b103262a98",
   "metadata": {},
   "outputs": [],
   "source": [
    "%autoreload 2\n",
    "import hippo3 as hippo\n",
    "import os\n",
    "import molparse as mp\n",
    "import mcol\n",
    "from pathlib import Path\n",
    "import pandas as pd\n",
    "from mlog import setup_logger\n",
    "logger = setup_logger('2a_hits')"
   ]
  },
  {
   "cell_type": "code",
   "execution_count": 5,
   "id": "b3d93942-c3e7-4880-871d-b2e05e912d89",
   "metadata": {},
   "outputs": [
    {
     "name": "stdout",
     "output_type": "stream",
     "text": [
      "removed 'test_2a_hits.db'\n"
     ]
    },
    {
     "data": {
      "text/plain": [
       "0"
      ]
     },
     "execution_count": 5,
     "metadata": {},
     "output_type": "execute_result"
    }
   ],
   "source": [
    "os.system('rm -v test_2a_hits.db')"
   ]
  },
  {
   "cell_type": "code",
   "execution_count": 6,
   "id": "df3ba6ee-5ef5-4e74-af57-f14e170352d2",
   "metadata": {},
   "outputs": [
    {
     "name": "stdout",
     "output_type": "stream",
     "text": [
      "\u001b[1m\u001b[38;5;166mCreating HIPPO animal\u001b[0m\n",
      "\u001b[36mname\u001b[0m = \u001b[38;5;154m2A_hippo3\u001b[0m\n",
      "\u001b[36mdb_path\u001b[0m = \u001b[38;5;11mtest_2a_hits.db\u001b[0m\n",
      "\u001b[2mDEBUG: hippo3.Database.__init__()\u001b[0m\n",
      "\u001b[2mDEBUG: Database.path = test_2a_hits.db\u001b[0m\n",
      "\u001b[2mDEBUG: hippo3.Database.connect()\u001b[0m\n",
      "\u001b[2mDEBUG: sqlite3.version='2.6.0'\u001b[0m\n",
      "\u001b[7m\u001b[32;1m SUCCESS \u001b[0m\u001b[32;1m Database connected @ \u001b[38;5;11mtest_2a_hits.db!\u001b[0m\n",
      "Creating blank database...\n",
      "\u001b[2mDEBUG: HIPPO.Database.create_table_compound()\u001b[0m\n",
      "\u001b[2mDEBUG: HIPPO.Database.create_table_inspiration()\u001b[0m\n",
      "\u001b[2mDEBUG: HIPPO.Database.create_table_reaction()\u001b[0m\n",
      "\u001b[2mDEBUG: HIPPO.Database.create_table_reactant()\u001b[0m\n",
      "\u001b[2mDEBUG: HIPPO.Database.create_table_pose()\u001b[0m\n",
      "\u001b[2mDEBUG: HIPPO.Database.create_table_tag()\u001b[0m\n",
      "\u001b[2mDEBUG: HIPPO.Database.create_table_quote()\u001b[0m\n",
      "\u001b[2mDEBUG: HIPPO.Database.create_table_pattern_bfp()\u001b[0m\n",
      "\u001b[7m\u001b[32;1m SUCCESS \u001b[0m\u001b[32;1m Initialised animal HIPPO(\"2A_hippo3\")!\u001b[0m\n",
      "HIPPO(\"2A_hippo3\")\n"
     ]
    }
   ],
   "source": [
    "animal = hippo.HIPPO('2A_hippo3', 'test_2a_hits.db')\n",
    "print(animal)"
   ]
  },
  {
   "cell_type": "code",
   "execution_count": 7,
   "id": "5f517953-528b-46a5-9b39-61439f67d2cc",
   "metadata": {},
   "outputs": [],
   "source": [
    "hits_root = Path('../aligned_v2')"
   ]
  },
  {
   "cell_type": "code",
   "execution_count": 10,
   "id": "2c67d551-d331-4a77-a548-e445740bd2aa",
   "metadata": {},
   "outputs": [
    {
     "name": "stdout",
     "output_type": "stream",
     "text": [
      "A71EV2A-x0152_0A\n",
      "\u001b[2mDEBUG: Trying to add compound name='x0152'\u001b[0m\n",
      "\u001b[2mDEBUG: Trying to add pose 0A\u001b[0m\n",
      "A71EV2A-x0152_1A\n",
      "\u001b[2mDEBUG: Trying to add compound name='x0152'\u001b[0m\n",
      "\u001b[7m\u001b[38;5;166m\u001b[1m Warning \u001b[0m\u001b[38;5;166m Skipping compound with existing morgan binary fingerprint \"O=C(COc1ccccc1)N2CCNC(=O)C2\"\u001b[0m\n",
      "\u001b[2mDEBUG: compound exists\u001b[0m\n",
      "\u001b[2mDEBUG: Trying to add pose 1A\u001b[0m\n",
      "A71EV2A-x0188_0A\n",
      "\u001b[2mDEBUG: Trying to add compound name='x0188'\u001b[0m\n",
      "\u001b[2mDEBUG: Trying to add pose 0A\u001b[0m\n",
      "A71EV2A-x0202_0A\n",
      "\u001b[2mDEBUG: Trying to add compound name='x0202'\u001b[0m\n",
      "\u001b[2mDEBUG: Trying to add pose 0A\u001b[0m\n",
      "A71EV2A-x0211_0A\n",
      "\u001b[2mDEBUG: Trying to add compound name='x0211'\u001b[0m\n",
      "\u001b[2mDEBUG: Trying to add pose 0A\u001b[0m\n",
      "A71EV2A-x0211_1A\n",
      "\u001b[2mDEBUG: Trying to add compound name='x0211'\u001b[0m\n",
      "\u001b[7m\u001b[38;5;166m\u001b[1m Warning \u001b[0m\u001b[38;5;166m Skipping compound with existing morgan binary fingerprint \"NS(=O)(=O)c1ccccc1OC(F)F\"\u001b[0m\n",
      "\u001b[2mDEBUG: compound exists\u001b[0m\n",
      "\u001b[2mDEBUG: Trying to add pose 1A\u001b[0m\n",
      "A71EV2A-x0211_2A\n",
      "\u001b[2mDEBUG: Trying to add compound name='x0211'\u001b[0m\n",
      "\u001b[7m\u001b[38;5;166m\u001b[1m Warning \u001b[0m\u001b[38;5;166m Skipping compound with existing morgan binary fingerprint \"NS(=O)(=O)c1ccccc1OC(F)F\"\u001b[0m\n",
      "\u001b[2mDEBUG: compound exists\u001b[0m\n",
      "\u001b[2mDEBUG: Trying to add pose 2A\u001b[0m\n",
      "A71EV2A-x0228_0A\n",
      "\u001b[2mDEBUG: Trying to add compound name='x0228'\u001b[0m\n",
      "\u001b[2mDEBUG: Trying to add pose 0A\u001b[0m\n",
      "A71EV2A-x0229_0A\n",
      "\u001b[2mDEBUG: Trying to add compound name='x0229'\u001b[0m\n",
      "\u001b[2mDEBUG: Trying to add pose 0A\u001b[0m\n",
      "A71EV2A-x0229_1A\n",
      "\u001b[2mDEBUG: Trying to add compound name='x0229'\u001b[0m\n",
      "\u001b[7m\u001b[38;5;166m\u001b[1m Warning \u001b[0m\u001b[38;5;166m Skipping compound with existing morgan binary fingerprint \"CS(=O)(=O)Nc1ccc(CN)cc1\"\u001b[0m\n",
      "\u001b[2mDEBUG: compound exists\u001b[0m\n",
      "\u001b[2mDEBUG: Trying to add pose 1A\u001b[0m\n",
      "A71EV2A-x0239_0A\n",
      "\u001b[2mDEBUG: Trying to add compound name='x0239'\u001b[0m\n",
      "\u001b[2mDEBUG: Trying to add pose 0A\u001b[0m\n",
      "A71EV2A-x0269_0A\n",
      "\u001b[2mDEBUG: Trying to add compound name='x0269'\u001b[0m\n",
      "\u001b[2mDEBUG: Trying to add pose 0A\u001b[0m\n",
      "A71EV2A-x0269_1A\n",
      "\u001b[2mDEBUG: Trying to add compound name='x0269'\u001b[0m\n",
      "\u001b[7m\u001b[38;5;166m\u001b[1m Warning \u001b[0m\u001b[38;5;166m Skipping compound with existing morgan binary fingerprint \"O=C(NC1CCCNC1)c2ccccc2\"\u001b[0m\n",
      "\u001b[2mDEBUG: compound exists\u001b[0m\n",
      "\u001b[2mDEBUG: Trying to add pose 1A\u001b[0m\n",
      "A71EV2A-x0278_0A\n",
      "\u001b[2mDEBUG: Trying to add compound name='x0278'\u001b[0m\n",
      "\u001b[2mDEBUG: Trying to add pose 0A\u001b[0m\n",
      "A71EV2A-x0278_1A\n",
      "\u001b[2mDEBUG: Trying to add compound name='x0278'\u001b[0m\n",
      "\u001b[7m\u001b[38;5;166m\u001b[1m Warning \u001b[0m\u001b[38;5;166m Skipping compound with existing morgan binary fingerprint \"N[C@H]1CCN(C1)S(=O)(=O)c2ccccc2\"\u001b[0m\n",
      "\u001b[2mDEBUG: compound exists\u001b[0m\n",
      "\u001b[2mDEBUG: Trying to add pose 1A\u001b[0m\n",
      "A71EV2A-x0305_0A\n",
      "\u001b[2mDEBUG: Trying to add compound name='x0305'\u001b[0m\n",
      "\u001b[2mDEBUG: Trying to add pose 0A\u001b[0m\n",
      "A71EV2A-x0309_0A\n",
      "\u001b[2mDEBUG: Trying to add compound name='x0309'\u001b[0m\n",
      "\u001b[2mDEBUG: Trying to add pose 0A\u001b[0m\n",
      "A71EV2A-x0310_0A\n",
      "\u001b[2mDEBUG: Trying to add compound name='x0310'\u001b[0m\n",
      "\u001b[2mDEBUG: Trying to add pose 0A\u001b[0m\n",
      "Catalytic Site; P1\n",
      "A71EV2A-x0326_0A\n",
      "\u001b[2mDEBUG: Trying to add compound name='x0326'\u001b[0m\n",
      "\u001b[2mDEBUG: Trying to add pose 0A\u001b[0m\n",
      "A71EV2A-x0332_0A\n",
      "\u001b[2mDEBUG: Trying to add compound name='x0332'\u001b[0m\n",
      "\u001b[2mDEBUG: Trying to add pose 0A\u001b[0m\n",
      "A71EV2A-x0341_0A\n",
      "\u001b[2mDEBUG: Trying to add compound name='x0341'\u001b[0m\n",
      "\u001b[2mDEBUG: Trying to add pose 0A\u001b[0m\n",
      "A71EV2A-x0341_1A\n",
      "\u001b[2mDEBUG: Trying to add compound name='x0341'\u001b[0m\n",
      "\u001b[7m\u001b[38;5;166m\u001b[1m Warning \u001b[0m\u001b[38;5;166m Skipping compound with existing morgan binary fingerprint \"CC1=NN(C(=O)C1)c2ccccc2\"\u001b[0m\n",
      "\u001b[2mDEBUG: compound exists\u001b[0m\n",
      "\u001b[2mDEBUG: Trying to add pose 1A\u001b[0m\n",
      "A71EV2A-x0354_0A\n",
      "\u001b[2mDEBUG: Trying to add compound name='x0354'\u001b[0m\n",
      "\u001b[2mDEBUG: Trying to add pose 0A\u001b[0m\n",
      "A71EV2A-x0359_0A\n",
      "\u001b[2mDEBUG: Trying to add compound name='x0359'\u001b[0m\n",
      "\u001b[2mDEBUG: Trying to add pose 0A\u001b[0m\n",
      "A71EV2A-x0379_0A\n",
      "\u001b[2mDEBUG: Trying to add compound name='x0379'\u001b[0m\n",
      "\u001b[2mDEBUG: Trying to add pose 0A\u001b[0m\n",
      "A71EV2A-x0395_0A\n",
      "\u001b[2mDEBUG: Trying to add compound name='x0395'\u001b[0m\n",
      "\u001b[2mDEBUG: Trying to add pose 0A\u001b[0m\n",
      "A71EV2A-x0395_1A\n",
      "\u001b[2mDEBUG: Trying to add compound name='x0395'\u001b[0m\n",
      "\u001b[7m\u001b[38;5;166m\u001b[1m Warning \u001b[0m\u001b[38;5;166m Skipping compound with existing morgan binary fingerprint \"CC(CO)(CO)NC(=O)Nc1ccccc1\"\u001b[0m\n",
      "\u001b[2mDEBUG: compound exists\u001b[0m\n",
      "\u001b[2mDEBUG: Trying to add pose 1A\u001b[0m\n",
      "A71EV2A-x0396_0A\n",
      "\u001b[2mDEBUG: Trying to add compound name='x0396'\u001b[0m\n",
      "\u001b[2mDEBUG: Trying to add pose 0A\u001b[0m\n",
      "A71EV2A-x0412_0A\n",
      "\u001b[2mDEBUG: Trying to add compound name='x0412'\u001b[0m\n",
      "\u001b[2mDEBUG: Trying to add pose 0A\u001b[0m\n",
      "A71EV2A-x0416_0A\n",
      "\u001b[2mDEBUG: Trying to add compound name='x0416'\u001b[0m\n",
      "\u001b[2mDEBUG: Trying to add pose 0A\u001b[0m\n",
      "Catalytic Site; P1\n",
      "A71EV2A-x0428_0A\n",
      "\u001b[2mDEBUG: Trying to add compound name='x0428'\u001b[0m\n",
      "\u001b[2mDEBUG: Trying to add pose 0A\u001b[0m\n",
      "A71EV2A-x0451_0A\n",
      "\u001b[2mDEBUG: Trying to add compound name='x0451'\u001b[0m\n",
      "\u001b[2mDEBUG: Trying to add pose 0A\u001b[0m\n",
      "Catalytic Site; P1\n",
      "A71EV2A-x0469_0A\n",
      "\u001b[2mDEBUG: Trying to add compound name='x0469'\u001b[0m\n",
      "\u001b[2mDEBUG: Trying to add pose 0A\u001b[0m\n",
      "A71EV2A-x0473_0A\n",
      "\u001b[2mDEBUG: Trying to add compound name='x0473'\u001b[0m\n",
      "\u001b[2mDEBUG: Trying to add pose 0A\u001b[0m\n",
      "Catalytic Site; P5\n",
      "A71EV2A-x0486_0A\n",
      "\u001b[2mDEBUG: Trying to add compound name='x0486'\u001b[0m\n",
      "\u001b[2mDEBUG: Trying to add pose 0A\u001b[0m\n",
      "A71EV2A-x0517_0A\n",
      "\u001b[2mDEBUG: Trying to add compound name='x0517'\u001b[0m\n",
      "\u001b[2mDEBUG: Trying to add pose 0A\u001b[0m\n",
      "A71EV2A-x0525_0A\n",
      "\u001b[2mDEBUG: Trying to add compound name='x0525'\u001b[0m\n",
      "\u001b[2mDEBUG: Trying to add pose 0A\u001b[0m\n",
      "A71EV2A-x0526_0A\n",
      "\u001b[2mDEBUG: Trying to add compound name='x0526'\u001b[0m\n",
      "\u001b[2mDEBUG: Trying to add pose 0A\u001b[0m\n",
      "Catalytic Site; P5\n",
      "A71EV2A-x0540_0A\n",
      "\u001b[2mDEBUG: Trying to add compound name='x0540'\u001b[0m\n",
      "\u001b[2mDEBUG: Trying to add pose 0A\u001b[0m\n",
      "A71EV2A-x0541_0A\n",
      "\u001b[2mDEBUG: Trying to add compound name='x0541'\u001b[0m\n",
      "\u001b[2mDEBUG: Trying to add pose 0A\u001b[0m\n",
      "A71EV2A-x0554_0A\n",
      "\u001b[2mDEBUG: Trying to add compound name='x0554'\u001b[0m\n",
      "\u001b[2mDEBUG: Trying to add pose 0A\u001b[0m\n",
      "Catalytic Site; P1\n",
      "A71EV2A-x0554_1A\n",
      "\u001b[2mDEBUG: Trying to add compound name='x0554'\u001b[0m\n",
      "\u001b[7m\u001b[38;5;166m\u001b[1m Warning \u001b[0m\u001b[38;5;166m Skipping compound with existing morgan binary fingerprint \"CC(=O)Nc1cccc2cc[nH]c12\"\u001b[0m\n",
      "\u001b[2mDEBUG: compound exists\u001b[0m\n",
      "\u001b[2mDEBUG: Trying to add pose 1A\u001b[0m\n",
      "A71EV2A-x0554_2A\n",
      "\u001b[2mDEBUG: Trying to add compound name='x0554'\u001b[0m\n",
      "\u001b[7m\u001b[38;5;166m\u001b[1m Warning \u001b[0m\u001b[38;5;166m Skipping compound with existing morgan binary fingerprint \"CC(=O)Nc1cccc2cc[nH]c12\"\u001b[0m\n",
      "\u001b[2mDEBUG: compound exists\u001b[0m\n",
      "\u001b[2mDEBUG: Trying to add pose 2A\u001b[0m\n",
      "A71EV2A-x0556_0A\n",
      "\u001b[2mDEBUG: Trying to add compound name='x0556'\u001b[0m\n",
      "\u001b[2mDEBUG: Trying to add pose 0A\u001b[0m\n",
      "Catalytic Site; P1\n",
      "A71EV2A-x0566_0A\n",
      "\u001b[2mDEBUG: Trying to add compound name='x0566'\u001b[0m\n",
      "\u001b[2mDEBUG: Trying to add pose 0A\u001b[0m\n",
      "Catalytic Site; P1\n",
      "A71EV2A-x0586_0A\n",
      "\u001b[2mDEBUG: Trying to add compound name='x0586'\u001b[0m\n",
      "\u001b[2mDEBUG: Trying to add pose 0A\u001b[0m\n",
      "A71EV2A-x0608_0A\n",
      "\u001b[2mDEBUG: Trying to add compound name='x0608'\u001b[0m\n",
      "\u001b[2mDEBUG: Trying to add pose 0A\u001b[0m\n",
      "A71EV2A-x0608_1A\n",
      "\u001b[2mDEBUG: Trying to add compound name='x0608'\u001b[0m\n",
      "\u001b[7m\u001b[38;5;166m\u001b[1m Warning \u001b[0m\u001b[38;5;166m Skipping compound with existing morgan binary fingerprint \"Cc1ccc(CC(=O)NC[C@@H]2CCCO2)cc1\"\u001b[0m\n",
      "\u001b[2mDEBUG: compound exists\u001b[0m\n",
      "\u001b[2mDEBUG: Trying to add pose 1A\u001b[0m\n",
      "A71EV2A-x0691_0A\n",
      "\u001b[2mDEBUG: Trying to add compound name='x0691'\u001b[0m\n",
      "\u001b[2mDEBUG: Trying to add pose 0A\u001b[0m\n"
     ]
    }
   ],
   "source": [
    "for i,row in df.iterrows():\n",
    "    print(row['crystal_name'])\n",
    "\n",
    "    smiles = row['new_smiles'] or row['smiles']\n",
    "\n",
    "    if '.' in smiles:\n",
    "        smiles = sorted(smiles.split('.'), key = lambda x: len(x), reverse=True)[0]\n",
    "\n",
    "    name = row['RealCrystalName'].split('-')[-1]\n",
    "\n",
    "    pose_name = row['crystal_name']\n",
    "\n",
    "    logger.debug(f\"Trying to add compound {name=}\")\n",
    "\n",
    "    compound_id = animal.db.insert_compound(name=name, smiles=smiles, tags=['hits'])\n",
    "    \n",
    "    if not compound_id:\n",
    "\n",
    "        logger.debug(\"compound exists\")\n",
    "\n",
    "        compound = animal.compounds[name]\n",
    "    \n",
    "        # compound = animal.db.query_exact(smiles)[0]\n",
    "        \n",
    "    else:\n",
    "\n",
    "        compound = animal.compounds[compound_id]\n",
    "\n",
    "    pose_name = pose_name.split('_')[-1]\n",
    "\n",
    "    path = list(hits_root.glob(f'*{compound.name}_{pose_name}/*.pdb'))[0]\n",
    "\n",
    "    logger.debug(f\"Trying to add pose {pose_name}\")\n",
    "\n",
    "    tags=['hits']\n",
    "\n",
    "    if isinstance(row['site_name'], str):\n",
    "        print(row['site_name'])\n",
    "        tags += [t.strip() for t in row['site_name'].split(';')]\n",
    "    \n",
    "    animal.db.insert_pose(compound=compound, name=pose_name, target='A71EV2A', path=path, tags=tags)\n",
    "    \n",
    "    # if i > 2:\n",
    "    #     break"
   ]
  },
  {
   "cell_type": "code",
   "execution_count": 11,
   "id": "0d104a5d-08cb-4b10-acfc-69ccaa3f1075",
   "metadata": {},
   "outputs": [
    {
     "data": {
      "text/plain": [
       "\u001b[1m\u001b[4mset(C x 38)\u001b[22m\u001b[24m"
      ]
     },
     "execution_count": 11,
     "metadata": {},
     "output_type": "execute_result"
    }
   ],
   "source": [
    "animal.compounds"
   ]
  },
  {
   "cell_type": "code",
   "execution_count": 12,
   "id": "9d3196df-b203-4784-93eb-74a7663ce231",
   "metadata": {},
   "outputs": [
    {
     "data": {
      "text/plain": [
       "\u001b[1m\u001b[4mset(P x 49)\u001b[22m\u001b[24m"
      ]
     },
     "execution_count": 12,
     "metadata": {},
     "output_type": "execute_result"
    }
   ],
   "source": [
    "animal.poses"
   ]
  },
  {
   "cell_type": "code",
   "execution_count": 13,
   "id": "895c142a-8b3a-4bc3-811b-fa099a2b2439",
   "metadata": {},
   "outputs": [
    {
     "name": "stdout",
     "output_type": "stream",
     "text": [
      "C1 ['P1', 'P2']\n",
      "C2 ['P3']\n",
      "C3 ['P4']\n",
      "C4 ['P5', 'P6', 'P7']\n",
      "C5 ['P8']\n",
      "C6 ['P9', 'P10']\n",
      "C7 ['P11']\n",
      "C8 ['P12', 'P13']\n",
      "C9 ['P14', 'P15']\n",
      "C10 ['P16']\n",
      "C11 ['P17']\n",
      "C12 ['P18']\n",
      "C13 ['P19']\n",
      "C14 ['P20']\n",
      "C15 ['P21', 'P22']\n",
      "C16 ['P23']\n",
      "C17 ['P24']\n",
      "C18 ['P25']\n",
      "C19 ['P26', 'P27']\n",
      "C20 ['P28']\n",
      "C21 ['P29']\n",
      "C22 ['P30']\n",
      "C23 ['P31']\n",
      "C24 ['P32']\n",
      "C25 ['P33']\n",
      "C26 ['P34']\n",
      "C27 ['P35']\n",
      "C28 ['P36']\n",
      "C29 ['P37']\n",
      "C30 ['P38']\n",
      "C31 ['P39']\n",
      "C32 ['P40']\n",
      "C33 ['P41', 'P42', 'P43']\n",
      "C34 ['P44']\n",
      "C35 ['P45']\n",
      "C36 ['P46']\n",
      "C37 ['P47', 'P48']\n",
      "C38 ['P49']\n"
     ]
    }
   ],
   "source": [
    "for c in animal.compounds:\n",
    "    print(c, [str(p) for p in c.poses])"
   ]
  },
  {
   "cell_type": "code",
   "execution_count": 14,
   "id": "9f928b7b-9240-4746-a48d-f43be89e2911",
   "metadata": {},
   "outputs": [
    {
     "data": {
      "text/plain": [
       "\u001b[1m\u001b[4mC1 \"x0152\"\u001b[22m\u001b[24m"
      ]
     },
     "execution_count": 14,
     "metadata": {},
     "output_type": "execute_result"
    }
   ],
   "source": [
    "animal.compounds[1]"
   ]
  },
  {
   "cell_type": "code",
   "execution_count": 15,
   "id": "0443dada-e99d-4709-81e4-d7cb8ccf06ea",
   "metadata": {},
   "outputs": [
    {
     "data": {
      "text/plain": [
       "\u001b[1m\u001b[4mC1->P1 \"A71EV2A_x0152_0A\"\u001b[22m\u001b[24m"
      ]
     },
     "execution_count": 15,
     "metadata": {},
     "output_type": "execute_result"
    }
   ],
   "source": [
    "animal.poses[1]"
   ]
  },
  {
   "cell_type": "code",
   "execution_count": 16,
   "id": "4fd4f575-ac92-4f2f-984d-1e46f1f00d37",
   "metadata": {},
   "outputs": [
    {
     "data": {
      "text/plain": [
       "[\u001b[1m\u001b[4mC34 \"x0556\"\u001b[22m\u001b[24m,\n",
       " \u001b[1m\u001b[4mC12 \"x0310\"\u001b[22m\u001b[24m,\n",
       " \u001b[1m\u001b[4mC27 \"x0486\"\u001b[22m\u001b[24m,\n",
       " \u001b[1m\u001b[4mC28 \"x0517\"\u001b[22m\u001b[24m]"
      ]
     },
     "execution_count": 16,
     "metadata": {},
     "output_type": "execute_result"
    }
   ],
   "source": [
    "animal.db.query_substructure('c1nn(C)cc1')"
   ]
  },
  {
   "cell_type": "code",
   "execution_count": 17,
   "id": "fed24b20-5d65-4e7b-9236-9c188d8fda20",
   "metadata": {},
   "outputs": [
    {
     "data": {
      "text/plain": [
       "[(\u001b[1m\u001b[4mC20 \"x0396\"\u001b[22m\u001b[24m, 0.41025641025641024),\n",
       " (\u001b[1m\u001b[4mC12 \"x0310\"\u001b[22m\u001b[24m, 0.3360323886639676),\n",
       " (\u001b[1m\u001b[4mC34 \"x0556\"\u001b[22m\u001b[24m, 0.33067729083665337),\n",
       " (\u001b[1m\u001b[4mC28 \"x0517\"\u001b[22m\u001b[24m, 0.33067729083665337),\n",
       " (\u001b[1m\u001b[4mC27 \"x0486\"\u001b[22m\u001b[24m, 0.3204633204633205),\n",
       " (\u001b[1m\u001b[4mC30 \"x0526\"\u001b[22m\u001b[24m, 0.3140096618357488),\n",
       " (\u001b[1m\u001b[4mC17 \"x0359\"\u001b[22m\u001b[24m, 0.29878048780487804),\n",
       " (\u001b[1m\u001b[4mC29 \"x0525\"\u001b[22m\u001b[24m, 0.2826086956521739),\n",
       " (\u001b[1m\u001b[4mC35 \"x0566\"\u001b[22m\u001b[24m, 0.2674897119341564),\n",
       " (\u001b[1m\u001b[4mC33 \"x0554\"\u001b[22m\u001b[24m, 0.2674897119341564),\n",
       " (\u001b[1m\u001b[4mC37 \"x0608\"\u001b[22m\u001b[24m, 0.2543103448275862),\n",
       " (\u001b[1m\u001b[4mC22 \"x0416\"\u001b[22m\u001b[24m, 0.25301204819277107),\n",
       " (\u001b[1m\u001b[4mC7 \"x0239\"\u001b[22m\u001b[24m, 0.23985239852398524),\n",
       " (\u001b[1m\u001b[4mC15 \"x0341\"\u001b[22m\u001b[24m, 0.23809523809523808),\n",
       " (\u001b[1m\u001b[4mC18 \"x0379\"\u001b[22m\u001b[24m, 0.23786407766990292),\n",
       " (\u001b[1m\u001b[4mC24 \"x0451\"\u001b[22m\u001b[24m, 0.23426573426573427),\n",
       " (\u001b[1m\u001b[4mC25 \"x0469\"\u001b[22m\u001b[24m, 0.23043478260869565),\n",
       " (\u001b[1m\u001b[4mC13 \"x0326\"\u001b[22m\u001b[24m, 0.22784810126582278),\n",
       " (\u001b[1m\u001b[4mC38 \"x0691\"\u001b[22m\u001b[24m, 0.22767857142857142),\n",
       " (\u001b[1m\u001b[4mC8 \"x0269\"\u001b[22m\u001b[24m, 0.22624434389140272),\n",
       " (\u001b[1m\u001b[4mC21 \"x0412\"\u001b[22m\u001b[24m, 0.22525597269624573),\n",
       " (\u001b[1m\u001b[4mC6 \"x0229\"\u001b[22m\u001b[24m, 0.2242152466367713),\n",
       " (\u001b[1m\u001b[4mC11 \"x0309\"\u001b[22m\u001b[24m, 0.22377622377622378),\n",
       " (\u001b[1m\u001b[4mC32 \"x0541\"\u001b[22m\u001b[24m, 0.22340425531914893),\n",
       " (\u001b[1m\u001b[4mC19 \"x0395\"\u001b[22m\u001b[24m, 0.21888412017167383),\n",
       " (\u001b[1m\u001b[4mC23 \"x0428\"\u001b[22m\u001b[24m, 0.21370967741935484),\n",
       " (\u001b[1m\u001b[4mC31 \"x0540\"\u001b[22m\u001b[24m, 0.21212121212121213),\n",
       " (\u001b[1m\u001b[4mC26 \"x0473\"\u001b[22m\u001b[24m, 0.2111111111111111),\n",
       " (\u001b[1m\u001b[4mC1 \"x0152\"\u001b[22m\u001b[24m, 0.20242914979757085),\n",
       " (\u001b[1m\u001b[4mC3 \"x0202\"\u001b[22m\u001b[24m, 0.2006269592476489)]"
      ]
     },
     "execution_count": 17,
     "metadata": {},
     "output_type": "execute_result"
    }
   ],
   "source": [
    "animal.db.query_similarity('c1nn(C)cc1', 0.2, return_similarity=True)"
   ]
  },
  {
   "cell_type": "code",
   "execution_count": 18,
   "id": "09d0265d-8cf1-4d65-b1b7-4139993f47d8",
   "metadata": {},
   "outputs": [
    {
     "name": "stdout",
     "output_type": "stream",
     "text": [
      "\u001b[7m\u001b[1m\u001b[38;5;11m DISK \u001b[0m Reading \u001b[38;5;11m/data/xchem-fragalysis/maxwin/2A_HIPPO/aligned/A71EV2A-x0341_0A/A71EV2A-x0341_0A_bound.pdb\u001b[0m\n",
      "\u001b[7m\u001b[38;5;166m\u001b[1m Warning \u001b[0m\u001b[38;5;166m Multiple ligands in PDB\u001b[0m\n"
     ]
    },
    {
     "data": {
      "application/3dmoljs_load.v0": "<div id=\"3dmolviewer_17089461158399055\"  style=\"position: relative; width: 400px; height: 400px;\">\n        <p id=\"3dmolwarning_17089461158399055\" style=\"background-color:#ffcccc;color:black\">You appear to be running in JupyterLab (or JavaScript failed to load for some other reason).  You need to install the 3dmol extension: <br>\n        <tt>jupyter labextension install jupyterlab_3dmol</tt></p>\n        </div>\n<script>\n\nvar loadScriptAsync = function(uri){\n  return new Promise((resolve, reject) => {\n    //this is to ignore the existence of requirejs amd\n    var savedexports, savedmodule;\n    if (typeof exports !== 'undefined') savedexports = exports;\n    else exports = {}\n    if (typeof module !== 'undefined') savedmodule = module;\n    else module = {}\n\n    var tag = document.createElement('script');\n    tag.src = uri;\n    tag.async = true;\n    tag.onload = () => {\n        exports = savedexports;\n        module = savedmodule;\n        resolve();\n    };\n  var firstScriptTag = document.getElementsByTagName('script')[0];\n  firstScriptTag.parentNode.insertBefore(tag, firstScriptTag);\n});\n};\n\nif(typeof $3Dmolpromise === 'undefined') {\n$3Dmolpromise = null;\n  $3Dmolpromise = loadScriptAsync('https://cdnjs.cloudflare.com/ajax/libs/3Dmol/2.0.4/3Dmol-min.js');\n}\n\nvar viewer_17089461158399055 = null;\nvar warn = document.getElementById(\"3dmolwarning_17089461158399055\");\nif(warn) {\n    warn.parentNode.removeChild(warn);\n}\n$3Dmolpromise.then(function() {\nviewer_17089461158399055 = $3Dmol.createViewer(document.getElementById(\"3dmolviewer_17089461158399055\"),{backgroundColor:\"white\"});\nviewer_17089461158399055.zoomTo();\n\tviewer_17089461158399055.removeAllModels();\n\tviewer_17089461158399055.addModel(\"\\n     RDKit          3D\\n\\n 13 14  0  0  0  0  0  0  0  0999 V2000\\n   17.2110   -5.0540   20.8540 N   0  0  0  0  0  0  0  0  0  0  0  0\\n   18.5060   -5.0990   22.9010 C   0  0  0  0  0  0  0  0  0  0  0  0\\n   18.2220   -2.5500   18.7100 O   0  0  0  0  0  0  0  0  0  0  0  0\\n   18.1570   -4.5560   21.5540 C   0  0  0  0  0  0  0  0  0  0  0  0\\n   18.0480   -3.3100   19.6440 C   0  0  0  0  0  0  0  0  0  0  0  0\\n   18.8440   -3.3870   20.9210 C   0  0  0  0  0  0  0  0  0  0  0  0\\n   16.1000   -4.6500   18.7280 C   0  0  0  0  0  0  0  0  0  0  0  0\\n   15.8990   -5.9840   18.3700 C   0  0  0  0  0  0  0  0  0  0  0  0\\n   14.8800   -6.3150   17.4910 C   0  0  0  0  0  0  0  0  0  0  0  0\\n   14.0690   -5.3370   16.9610 C   0  0  0  0  0  0  0  0  0  0  0  0\\n   14.2810   -4.0120   17.2890 C   0  0  0  0  0  0  0  0  0  0  0  0\\n   15.2890   -3.6610   18.1760 C   0  0  0  0  0  0  0  0  0  0  0  0\\n   17.1040   -4.3080   19.6930 N   0  0  0  0  0  0  0  0  0  0  0  0\\n  4  1  1  0\\n  4  2  1  0\\n  5  3  1  0\\n  6  5  1  0\\n  6  4  1  0\\n  8  7  1  0\\n  9  8  1  0\\n 10  9  1  0\\n 11 10  1  0\\n 12 11  1  0\\n 12  7  1  0\\n 13  7  1  0\\n 13  5  1  0\\n 13  1  1  0\\nM  END\\n\",\"sdf\");\n\tviewer_17089461158399055.setStyle({\"stick\": {}});\n\tviewer_17089461158399055.setBackgroundColor(\"0xeeeeee\");\n\tviewer_17089461158399055.zoomTo();\nviewer_17089461158399055.render();\n});\n</script>",
      "text/html": [
       "<div id=\"3dmolviewer_17089461158399055\"  style=\"position: relative; width: 400px; height: 400px;\">\n",
       "        <p id=\"3dmolwarning_17089461158399055\" style=\"background-color:#ffcccc;color:black\">You appear to be running in JupyterLab (or JavaScript failed to load for some other reason).  You need to install the 3dmol extension: <br>\n",
       "        <tt>jupyter labextension install jupyterlab_3dmol</tt></p>\n",
       "        </div>\n",
       "<script>\n",
       "\n",
       "var loadScriptAsync = function(uri){\n",
       "  return new Promise((resolve, reject) => {\n",
       "    //this is to ignore the existence of requirejs amd\n",
       "    var savedexports, savedmodule;\n",
       "    if (typeof exports !== 'undefined') savedexports = exports;\n",
       "    else exports = {}\n",
       "    if (typeof module !== 'undefined') savedmodule = module;\n",
       "    else module = {}\n",
       "\n",
       "    var tag = document.createElement('script');\n",
       "    tag.src = uri;\n",
       "    tag.async = true;\n",
       "    tag.onload = () => {\n",
       "        exports = savedexports;\n",
       "        module = savedmodule;\n",
       "        resolve();\n",
       "    };\n",
       "  var firstScriptTag = document.getElementsByTagName('script')[0];\n",
       "  firstScriptTag.parentNode.insertBefore(tag, firstScriptTag);\n",
       "});\n",
       "};\n",
       "\n",
       "if(typeof $3Dmolpromise === 'undefined') {\n",
       "$3Dmolpromise = null;\n",
       "  $3Dmolpromise = loadScriptAsync('https://cdnjs.cloudflare.com/ajax/libs/3Dmol/2.0.4/3Dmol-min.js');\n",
       "}\n",
       "\n",
       "var viewer_17089461158399055 = null;\n",
       "var warn = document.getElementById(\"3dmolwarning_17089461158399055\");\n",
       "if(warn) {\n",
       "    warn.parentNode.removeChild(warn);\n",
       "}\n",
       "$3Dmolpromise.then(function() {\n",
       "viewer_17089461158399055 = $3Dmol.createViewer(document.getElementById(\"3dmolviewer_17089461158399055\"),{backgroundColor:\"white\"});\n",
       "viewer_17089461158399055.zoomTo();\n",
       "\tviewer_17089461158399055.removeAllModels();\n",
       "\tviewer_17089461158399055.addModel(\"\\n     RDKit          3D\\n\\n 13 14  0  0  0  0  0  0  0  0999 V2000\\n   17.2110   -5.0540   20.8540 N   0  0  0  0  0  0  0  0  0  0  0  0\\n   18.5060   -5.0990   22.9010 C   0  0  0  0  0  0  0  0  0  0  0  0\\n   18.2220   -2.5500   18.7100 O   0  0  0  0  0  0  0  0  0  0  0  0\\n   18.1570   -4.5560   21.5540 C   0  0  0  0  0  0  0  0  0  0  0  0\\n   18.0480   -3.3100   19.6440 C   0  0  0  0  0  0  0  0  0  0  0  0\\n   18.8440   -3.3870   20.9210 C   0  0  0  0  0  0  0  0  0  0  0  0\\n   16.1000   -4.6500   18.7280 C   0  0  0  0  0  0  0  0  0  0  0  0\\n   15.8990   -5.9840   18.3700 C   0  0  0  0  0  0  0  0  0  0  0  0\\n   14.8800   -6.3150   17.4910 C   0  0  0  0  0  0  0  0  0  0  0  0\\n   14.0690   -5.3370   16.9610 C   0  0  0  0  0  0  0  0  0  0  0  0\\n   14.2810   -4.0120   17.2890 C   0  0  0  0  0  0  0  0  0  0  0  0\\n   15.2890   -3.6610   18.1760 C   0  0  0  0  0  0  0  0  0  0  0  0\\n   17.1040   -4.3080   19.6930 N   0  0  0  0  0  0  0  0  0  0  0  0\\n  4  1  1  0\\n  4  2  1  0\\n  5  3  1  0\\n  6  5  1  0\\n  6  4  1  0\\n  8  7  1  0\\n  9  8  1  0\\n 10  9  1  0\\n 11 10  1  0\\n 12 11  1  0\\n 12  7  1  0\\n 13  7  1  0\\n 13  5  1  0\\n 13  1  1  0\\nM  END\\n\",\"sdf\");\n",
       "\tviewer_17089461158399055.setStyle({\"stick\": {}});\n",
       "\tviewer_17089461158399055.setBackgroundColor(\"0xeeeeee\");\n",
       "\tviewer_17089461158399055.zoomTo();\n",
       "viewer_17089461158399055.render();\n",
       "});\n",
       "</script>"
      ]
     },
     "metadata": {},
     "output_type": "display_data"
    },
    {
     "data": {
      "image/png": "[encoded data removed]",
      "text/html": [],
      "text/plain": [
       "<rdkit.Chem.rdchem.Mol at 0x2b663ae7fa00>"
      ]
     },
     "execution_count": 18,
     "metadata": {},
     "output_type": "execute_result"
    }
   ],
   "source": [
    "animal.poses[21].mol"
   ]
  },
  {
   "cell_type": "code",
   "execution_count": null,
   "id": "150cacff-252d-4b40-ae29-5ee555355d0a",
   "metadata": {},
   "outputs": [],
   "source": []
  }
 ],
 "metadata": {
  "kernelspec": {
   "display_name": "Custom Python 3 (ipykernel)",
   "language": "python",
   "name": "python3"
  },
  "language_info": {
   "codemirror_mode": {
    "name": "ipython",
    "version": 3
   },
   "file_extension": ".py",
   "mimetype": "text/x-python",
   "name": "python",
   "nbconvert_exporter": "python",
   "pygments_lexer": "ipython3",
   "version": "3.11.6"
  }
 },
 "nbformat": 4,
 "nbformat_minor": 5
}
