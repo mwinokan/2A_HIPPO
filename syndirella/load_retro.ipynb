{
 "cells": [
  {
   "cell_type": "code",
   "execution_count": 1,
   "id": "0a95d974-79ec-41d8-9939-ab6f02a7e267",
   "metadata": {},
   "outputs": [],
   "source": [
    "%load_ext autoreload\n",
    "%autoreload 2\n",
    "import hippo"
   ]
  },
  {
   "cell_type": "code",
   "execution_count": 2,
   "id": "e1281702-1db2-456d-a9cb-19aae7df3c60",
   "metadata": {},
   "outputs": [],
   "source": [
    "import pandas as pd\n",
    "from pathlib import Path\n",
    "import mrich\n",
    "from rich import print"
   ]
  },
  {
   "cell_type": "code",
   "execution_count": 3,
   "id": "63d227eb-588d-48ab-89f1-b9d865a4a7c7",
   "metadata": {},
   "outputs": [
    {
     "data": {
      "text/html": [
       "<pre style=\"white-space:pre;overflow-x:auto;line-height:normal;font-family:Menlo,'DejaVu Sans Mono',consolas,'Courier New',monospace\"><span style=\"font-weight: bold\"> Creating HIPPO animal</span>\n",
       "</pre>\n"
      ],
      "text/plain": [
       "\u001b[1m Creating HIPPO animal\u001b[0m\n"
      ]
     },
     "metadata": {},
     "output_type": "display_data"
    },
    {
     "data": {
      "text/html": [
       "<pre style=\"white-space:pre;overflow-x:auto;line-height:normal;font-family:Menlo,'DejaVu Sans Mono',consolas,'Courier New',monospace\"><span style=\"color: #008080; text-decoration-color: #008080; font-weight: bold\">name</span> = <span style=\"color: #00d7af; text-decoration-color: #00d7af\">RdRp_FFF</span>\n",
       "</pre>\n"
      ],
      "text/plain": [
       "\u001b[1;36mname\u001b[0m = \u001b[38;5;43mRdRp_FFF\u001b[0m\n"
      ]
     },
     "metadata": {},
     "output_type": "display_data"
    },
    {
     "data": {
      "text/html": [
       "<pre style=\"white-space:pre;overflow-x:auto;line-height:normal;font-family:Menlo,'DejaVu Sans Mono',consolas,'Courier New',monospace\"><span style=\"color: #008080; text-decoration-color: #008080; font-weight: bold\">db_path</span> = <span style=\"color: #d7af00; text-decoration-color: #d7af00\">../hippo_iter2/2A_i2_1.sqlite</span>\n",
       "</pre>\n"
      ],
      "text/plain": [
       "\u001b[1;36mdb_path\u001b[0m = \u001b[38;5;178m../hippo_iter2/2A_i2_1.sqlite\u001b[0m\n"
      ]
     },
     "metadata": {},
     "output_type": "display_data"
    },
    {
     "data": {
      "text/html": [
       "<pre style=\"white-space:pre;overflow-x:auto;line-height:normal;font-family:Menlo,'DejaVu Sans Mono',consolas,'Courier New',monospace\"><span style=\"color: #808080; text-decoration-color: #808080\">DEBUG: hippo.Database.__init__()</span>\n",
       "</pre>\n"
      ],
      "text/plain": [
       "\u001b[90mDEBUG: hippo.Database.__init__()\u001b[0m\n"
      ]
     },
     "metadata": {},
     "output_type": "display_data"
    },
    {
     "data": {
      "text/html": [
       "<pre style=\"white-space:pre;overflow-x:auto;line-height:normal;font-family:Menlo,'DejaVu Sans Mono',consolas,'Courier New',monospace\"><span style=\"color: #808080; text-decoration-color: #808080\">DEBUG: Database.path = ../hippo_iter2/2A_i2_1.sqlite</span>\n",
       "</pre>\n"
      ],
      "text/plain": [
       "\u001b[90mDEBUG: Database.path = ../hippo_iter2/2A_i2_1.sqlite\u001b[0m\n"
      ]
     },
     "metadata": {},
     "output_type": "display_data"
    },
    {
     "data": {
      "text/html": [
       "<pre style=\"white-space:pre;overflow-x:auto;line-height:normal;font-family:Menlo,'DejaVu Sans Mono',consolas,'Courier New',monospace\"><span style=\"color: #808080; text-decoration-color: #808080\">DEBUG: hippo.Database.connect()</span>\n",
       "</pre>\n"
      ],
      "text/plain": [
       "\u001b[90mDEBUG: hippo.Database.connect()\u001b[0m\n"
      ]
     },
     "metadata": {},
     "output_type": "display_data"
    },
    {
     "data": {
      "text/html": [
       "<pre style=\"white-space:pre;overflow-x:auto;line-height:normal;font-family:Menlo,'DejaVu Sans Mono',consolas,'Courier New',monospace\"><span style=\"color: #808080; text-decoration-color: #808080\">DEBUG: sqlite3.version='2.6.0'</span>\n",
       "</pre>\n"
      ],
      "text/plain": [
       "\u001b[90mDEBUG: sqlite3.version='2.6.0'\u001b[0m\n"
      ]
     },
     "metadata": {},
     "output_type": "display_data"
    },
    {
     "data": {
      "text/html": [
       "<pre style=\"white-space:pre;overflow-x:auto;line-height:normal;font-family:Menlo,'DejaVu Sans Mono',consolas,'Courier New',monospace\"><span style=\"background-color: #008000; font-weight: bold\"> Success </span><span style=\"color: #008000; text-decoration-color: #008000; font-weight: bold\"> Database connected @</span><span style=\"color: #d7af00; text-decoration-color: #d7af00; font-weight: bold\"> ../hippo_iter2/2A_i2_1.sqlite!</span>\n",
       "</pre>\n"
      ],
      "text/plain": [
       "\u001b[1;7;32m Success \u001b[0m\u001b[1;32m Database connected @\u001b[0m\u001b[1;38;5;178m ../hippo_iter2/2A_i2_1.sqlite!\u001b[0m\n"
      ]
     },
     "metadata": {},
     "output_type": "display_data"
    },
    {
     "data": {
      "text/html": [
       "<pre style=\"white-space:pre;overflow-x:auto;line-height:normal;font-family:Menlo,'DejaVu Sans Mono',consolas,'Courier New',monospace\"><span style=\"background-color: #008000; font-weight: bold\"> Success </span><span style=\"color: #008000; text-decoration-color: #008000; font-weight: bold\"> Initialised animal</span><span style=\"color: #008080; text-decoration-color: #008080; font-weight: bold\"> HIPPO(\"RdRp_FFF\")!</span>\n",
       "</pre>\n"
      ],
      "text/plain": [
       "\u001b[1;7;32m Success \u001b[0m\u001b[1;32m Initialised animal\u001b[0m\u001b[1;36m HIPPO(\"RdRp_FFF\")!\u001b[0m\n"
      ]
     },
     "metadata": {},
     "output_type": "display_data"
    }
   ],
   "source": [
    "animal = hippo.HIPPO(\"RdRp_FFF\", \"../hippo_iter2/2A_i2_1.sqlite\")"
   ]
  },
  {
   "cell_type": "code",
   "execution_count": 4,
   "id": "3042a05a-d9d7-4c60-9f29-9cf6a09e4de4",
   "metadata": {},
   "outputs": [
    {
     "data": {
      "text/plain": [
       "<sqlite3.Cursor at 0x7f2a94e21340>"
      ]
     },
     "execution_count": 4,
     "metadata": {},
     "output_type": "execute_result"
    }
   ],
   "source": [
    "# animal.db.execute(\"DELETE FROM route\")\n",
    "# animal.db.execute(\"DELETE FROM component\")"
   ]
  },
  {
   "cell_type": "code",
   "execution_count": 14,
   "id": "eb74d7b3-c2ed-45a2-8ff6-d1a286a5076a",
   "metadata": {},
   "outputs": [
    {
     "data": {
      "text/html": [
       "<pre style=\"white-space:pre;overflow-x:auto;line-height:normal;font-family:Menlo,'DejaVu Sans Mono',consolas,'Courier New',monospace\"><span style=\"color: #008080; text-decoration-color: #008080; font-weight: bold\">0</span> <span style=\"color: #008080; text-decoration-color: #008080; font-weight: bold\">0</span> <span style=\"color: #008080; text-decoration-color: #008080; font-weight: bold\">0</span> Amidation <span style=\"font-weight: bold; text-decoration: underline\">C122549 </span><span style=\"color: #008000; text-decoration-color: #008000; font-weight: bold; text-decoration: underline\">\"YJRYXQGADMRDQO-UHFFFAOYSA-N\"</span>\n",
       "</pre>\n"
      ],
      "text/plain": [
       "\u001b[1;36m0\u001b[0m \u001b[1;36m0\u001b[0m \u001b[1;36m0\u001b[0m Amidation \u001b[1;4mC122549 \u001b[0m\u001b[1;4;32m\"YJRYXQGADMRDQO-UHFFFAOYSA-N\"\u001b[0m\n"
      ]
     },
     "metadata": {},
     "output_type": "display_data"
    },
    {
     "data": {
      "text/html": [
       "<pre style=\"white-space:pre;overflow-x:auto;line-height:normal;font-family:Menlo,'DejaVu Sans Mono',consolas,'Courier New',monospace\"><span style=\"background-color: #008000; font-weight: bold\"> Success </span><span style=\"color: #008000; text-decoration-color: #008000; font-weight: bold\"> registered route 99!</span>\n",
       "</pre>\n"
      ],
      "text/plain": [
       "\u001b[1;7;32m Success \u001b[0m\u001b[1;32m registered route 99!\u001b[0m\n"
      ]
     },
     "metadata": {},
     "output_type": "display_data"
    },
    {
     "data": {
      "text/html": [
       "<pre style=\"white-space:pre;overflow-x:auto;line-height:normal;font-family:Menlo,'DejaVu Sans Mono',consolas,'Courier New',monospace\"><span style=\"color: #008080; text-decoration-color: #008080; font-weight: bold\">1</span> <span style=\"color: #008080; text-decoration-color: #008080; font-weight: bold\">0</span> <span style=\"color: #008080; text-decoration-color: #008080; font-weight: bold\">0</span> Amidation <span style=\"font-weight: bold; text-decoration: underline\">C122550 </span><span style=\"color: #008000; text-decoration-color: #008000; font-weight: bold; text-decoration: underline\">\"WOSHQSSTXNWEDB-UHFFFAOYSA-N\"</span>\n",
       "</pre>\n"
      ],
      "text/plain": [
       "\u001b[1;36m1\u001b[0m \u001b[1;36m0\u001b[0m \u001b[1;36m0\u001b[0m Amidation \u001b[1;4mC122550 \u001b[0m\u001b[1;4;32m\"WOSHQSSTXNWEDB-UHFFFAOYSA-N\"\u001b[0m\n"
      ]
     },
     "metadata": {},
     "output_type": "display_data"
    },
    {
     "data": {
      "text/html": [
       "<pre style=\"white-space:pre;overflow-x:auto;line-height:normal;font-family:Menlo,'DejaVu Sans Mono',consolas,'Courier New',monospace\"><span style=\"background-color: #008000; font-weight: bold\"> Success </span><span style=\"color: #008000; text-decoration-color: #008000; font-weight: bold\"> registered route 100!</span>\n",
       "</pre>\n"
      ],
      "text/plain": [
       "\u001b[1;7;32m Success \u001b[0m\u001b[1;32m registered route 100!\u001b[0m\n"
      ]
     },
     "metadata": {},
     "output_type": "display_data"
    },
    {
     "data": {
      "text/html": [
       "<pre style=\"white-space:pre;overflow-x:auto;line-height:normal;font-family:Menlo,'DejaVu Sans Mono',consolas,'Courier New',monospace\"><span style=\"color: #008080; text-decoration-color: #008080; font-weight: bold\">2</span> <span style=\"color: #008080; text-decoration-color: #008080; font-weight: bold\">0</span> <span style=\"color: #008080; text-decoration-color: #008080; font-weight: bold\">0</span> Amidation <span style=\"font-weight: bold; text-decoration: underline\">C122551 </span><span style=\"color: #008000; text-decoration-color: #008000; font-weight: bold; text-decoration: underline\">\"WDWZKNJCYBSIRL-UHFFFAOYSA-N\"</span>\n",
       "</pre>\n"
      ],
      "text/plain": [
       "\u001b[1;36m2\u001b[0m \u001b[1;36m0\u001b[0m \u001b[1;36m0\u001b[0m Amidation \u001b[1;4mC122551 \u001b[0m\u001b[1;4;32m\"WDWZKNJCYBSIRL-UHFFFAOYSA-N\"\u001b[0m\n"
      ]
     },
     "metadata": {},
     "output_type": "display_data"
    },
    {
     "data": {
      "text/html": [
       "<pre style=\"white-space:pre;overflow-x:auto;line-height:normal;font-family:Menlo,'DejaVu Sans Mono',consolas,'Courier New',monospace\"><span style=\"background-color: #008000; font-weight: bold\"> Success </span><span style=\"color: #008000; text-decoration-color: #008000; font-weight: bold\"> registered route 101!</span>\n",
       "</pre>\n"
      ],
      "text/plain": [
       "\u001b[1;7;32m Success \u001b[0m\u001b[1;32m registered route 101!\u001b[0m\n"
      ]
     },
     "metadata": {},
     "output_type": "display_data"
    },
    {
     "data": {
      "text/html": [
       "<pre style=\"white-space:pre;overflow-x:auto;line-height:normal;font-family:Menlo,'DejaVu Sans Mono',consolas,'Courier New',monospace\"><span style=\"color: #008080; text-decoration-color: #008080; font-weight: bold\">3</span> <span style=\"color: #008080; text-decoration-color: #008080; font-weight: bold\">0</span> <span style=\"color: #008080; text-decoration-color: #008080; font-weight: bold\">0</span> Amidation <span style=\"font-weight: bold; text-decoration: underline\">C122552 </span><span style=\"color: #008000; text-decoration-color: #008000; font-weight: bold; text-decoration: underline\">\"PQPPRBLQDZEENG-UHFFFAOYSA-N\"</span>\n",
       "</pre>\n"
      ],
      "text/plain": [
       "\u001b[1;36m3\u001b[0m \u001b[1;36m0\u001b[0m \u001b[1;36m0\u001b[0m Amidation \u001b[1;4mC122552 \u001b[0m\u001b[1;4;32m\"PQPPRBLQDZEENG-UHFFFAOYSA-N\"\u001b[0m\n"
      ]
     },
     "metadata": {},
     "output_type": "display_data"
    },
    {
     "data": {
      "text/html": [
       "<pre style=\"white-space:pre;overflow-x:auto;line-height:normal;font-family:Menlo,'DejaVu Sans Mono',consolas,'Courier New',monospace\"><span style=\"background-color: #008000; font-weight: bold\"> Success </span><span style=\"color: #008000; text-decoration-color: #008000; font-weight: bold\"> registered route 102!</span>\n",
       "</pre>\n"
      ],
      "text/plain": [
       "\u001b[1;7;32m Success \u001b[0m\u001b[1;32m registered route 102!\u001b[0m\n"
      ]
     },
     "metadata": {},
     "output_type": "display_data"
    },
    {
     "data": {
      "text/html": [
       "<pre style=\"white-space:pre;overflow-x:auto;line-height:normal;font-family:Menlo,'DejaVu Sans Mono',consolas,'Courier New',monospace\"><span style=\"color: #008080; text-decoration-color: #008080; font-weight: bold\">4</span> <span style=\"color: #008080; text-decoration-color: #008080; font-weight: bold\">0</span> <span style=\"color: #008080; text-decoration-color: #008080; font-weight: bold\">0</span> Amidation <span style=\"font-weight: bold; text-decoration: underline\">C122466 </span><span style=\"color: #008000; text-decoration-color: #008000; font-weight: bold; text-decoration: underline\">\"MSPWRYALONZABD-UHFFFAOYSA-N\"</span>\n",
       "</pre>\n"
      ],
      "text/plain": [
       "\u001b[1;36m4\u001b[0m \u001b[1;36m0\u001b[0m \u001b[1;36m0\u001b[0m Amidation \u001b[1;4mC122466 \u001b[0m\u001b[1;4;32m\"MSPWRYALONZABD-UHFFFAOYSA-N\"\u001b[0m\n"
      ]
     },
     "metadata": {},
     "output_type": "display_data"
    },
    {
     "data": {
      "text/html": [
       "<pre style=\"white-space:pre;overflow-x:auto;line-height:normal;font-family:Menlo,'DejaVu Sans Mono',consolas,'Courier New',monospace\"><span style=\"background-color: #008000; font-weight: bold\"> Success </span><span style=\"color: #008000; text-decoration-color: #008000; font-weight: bold\"> registered route 103!</span>\n",
       "</pre>\n"
      ],
      "text/plain": [
       "\u001b[1;7;32m Success \u001b[0m\u001b[1;32m registered route 103!\u001b[0m\n"
      ]
     },
     "metadata": {},
     "output_type": "display_data"
    },
    {
     "data": {
      "text/html": [
       "<pre style=\"white-space:pre;overflow-x:auto;line-height:normal;font-family:Menlo,'DejaVu Sans Mono',consolas,'Courier New',monospace\"><span style=\"color: #008080; text-decoration-color: #008080; font-weight: bold\">5</span> <span style=\"color: #008080; text-decoration-color: #008080; font-weight: bold\">2</span> <span style=\"color: #008080; text-decoration-color: #008080; font-weight: bold\">0</span> Formation_of_urea_from_two_amines <span style=\"font-weight: bold; text-decoration: underline\">C122457 </span><span style=\"color: #008000; text-decoration-color: #008000; font-weight: bold; text-decoration: underline\">\"BAWQVTYFUSCRSF-UHFFFAOYSA-N\"</span>\n",
       "</pre>\n"
      ],
      "text/plain": [
       "\u001b[1;36m5\u001b[0m \u001b[1;36m2\u001b[0m \u001b[1;36m0\u001b[0m Formation_of_urea_from_two_amines \u001b[1;4mC122457 \u001b[0m\u001b[1;4;32m\"BAWQVTYFUSCRSF-UHFFFAOYSA-N\"\u001b[0m\n"
      ]
     },
     "metadata": {},
     "output_type": "display_data"
    },
    {
     "data": {
      "text/html": [
       "<pre style=\"white-space:pre;overflow-x:auto;line-height:normal;font-family:Menlo,'DejaVu Sans Mono',consolas,'Courier New',monospace\"><span style=\"background-color: #008000; font-weight: bold\"> Success </span><span style=\"color: #008000; text-decoration-color: #008000; font-weight: bold\"> registered route 104!</span>\n",
       "</pre>\n"
      ],
      "text/plain": [
       "\u001b[1;7;32m Success \u001b[0m\u001b[1;32m registered route 104!\u001b[0m\n"
      ]
     },
     "metadata": {},
     "output_type": "display_data"
    },
    {
     "data": {
      "text/html": [
       "<pre style=\"white-space:pre;overflow-x:auto;line-height:normal;font-family:Menlo,'DejaVu Sans Mono',consolas,'Courier New',monospace\"><span style=\"color: #008080; text-decoration-color: #008080; font-weight: bold\">6</span> <span style=\"color: #008080; text-decoration-color: #008080; font-weight: bold\">0</span> <span style=\"color: #008080; text-decoration-color: #008080; font-weight: bold\">0</span> Amidation <span style=\"font-weight: bold; text-decoration: underline\">C122553 </span><span style=\"color: #008000; text-decoration-color: #008000; font-weight: bold; text-decoration: underline\">\"AXUVEMNCADPROP-UHFFFAOYSA-N\"</span>\n",
       "</pre>\n"
      ],
      "text/plain": [
       "\u001b[1;36m6\u001b[0m \u001b[1;36m0\u001b[0m \u001b[1;36m0\u001b[0m Amidation \u001b[1;4mC122553 \u001b[0m\u001b[1;4;32m\"AXUVEMNCADPROP-UHFFFAOYSA-N\"\u001b[0m\n"
      ]
     },
     "metadata": {},
     "output_type": "display_data"
    },
    {
     "data": {
      "text/html": [
       "<pre style=\"white-space:pre;overflow-x:auto;line-height:normal;font-family:Menlo,'DejaVu Sans Mono',consolas,'Courier New',monospace\"><span style=\"background-color: #008000; font-weight: bold\"> Success </span><span style=\"color: #008000; text-decoration-color: #008000; font-weight: bold\"> registered route 105!</span>\n",
       "</pre>\n"
      ],
      "text/plain": [
       "\u001b[1;7;32m Success \u001b[0m\u001b[1;32m registered route 105!\u001b[0m\n"
      ]
     },
     "metadata": {},
     "output_type": "display_data"
    },
    {
     "data": {
      "text/html": [
       "<pre style=\"white-space:pre;overflow-x:auto;line-height:normal;font-family:Menlo,'DejaVu Sans Mono',consolas,'Courier New',monospace\"><span style=\"color: #008080; text-decoration-color: #008080; font-weight: bold\">7</span> <span style=\"color: #008080; text-decoration-color: #008080; font-weight: bold\">0</span> <span style=\"color: #008080; text-decoration-color: #008080; font-weight: bold\">0</span> Amidation <span style=\"font-weight: bold; text-decoration: underline\">C122554 </span><span style=\"color: #008000; text-decoration-color: #008000; font-weight: bold; text-decoration: underline\">\"RXCDGQVWMAQTNG-UHFFFAOYSA-N\"</span>\n",
       "</pre>\n"
      ],
      "text/plain": [
       "\u001b[1;36m7\u001b[0m \u001b[1;36m0\u001b[0m \u001b[1;36m0\u001b[0m Amidation \u001b[1;4mC122554 \u001b[0m\u001b[1;4;32m\"RXCDGQVWMAQTNG-UHFFFAOYSA-N\"\u001b[0m\n"
      ]
     },
     "metadata": {},
     "output_type": "display_data"
    },
    {
     "data": {
      "text/html": [
       "<pre style=\"white-space:pre;overflow-x:auto;line-height:normal;font-family:Menlo,'DejaVu Sans Mono',consolas,'Courier New',monospace\"><span style=\"background-color: #008000; font-weight: bold\"> Success </span><span style=\"color: #008000; text-decoration-color: #008000; font-weight: bold\"> registered route 106!</span>\n",
       "</pre>\n"
      ],
      "text/plain": [
       "\u001b[1;7;32m Success \u001b[0m\u001b[1;32m registered route 106!\u001b[0m\n"
      ]
     },
     "metadata": {},
     "output_type": "display_data"
    },
    {
     "data": {
      "text/html": [
       "<pre style=\"white-space:pre;overflow-x:auto;line-height:normal;font-family:Menlo,'DejaVu Sans Mono',consolas,'Courier New',monospace\"><span style=\"color: #008080; text-decoration-color: #008080; font-weight: bold\">8</span> <span style=\"color: #008080; text-decoration-color: #008080; font-weight: bold\">0</span> <span style=\"color: #008080; text-decoration-color: #008080; font-weight: bold\">0</span> Amidation <span style=\"font-weight: bold; text-decoration: underline\">C122555 </span><span style=\"color: #008000; text-decoration-color: #008000; font-weight: bold; text-decoration: underline\">\"KEZJHWCQWSCOQQ-UHFFFAOYSA-N\"</span>\n",
       "</pre>\n"
      ],
      "text/plain": [
       "\u001b[1;36m8\u001b[0m \u001b[1;36m0\u001b[0m \u001b[1;36m0\u001b[0m Amidation \u001b[1;4mC122555 \u001b[0m\u001b[1;4;32m\"KEZJHWCQWSCOQQ-UHFFFAOYSA-N\"\u001b[0m\n"
      ]
     },
     "metadata": {},
     "output_type": "display_data"
    },
    {
     "data": {
      "text/html": [
       "<pre style=\"white-space:pre;overflow-x:auto;line-height:normal;font-family:Menlo,'DejaVu Sans Mono',consolas,'Courier New',monospace\"><span style=\"background-color: #008000; font-weight: bold\"> Success </span><span style=\"color: #008000; text-decoration-color: #008000; font-weight: bold\"> registered route 107!</span>\n",
       "</pre>\n"
      ],
      "text/plain": [
       "\u001b[1;7;32m Success \u001b[0m\u001b[1;32m registered route 107!\u001b[0m\n"
      ]
     },
     "metadata": {},
     "output_type": "display_data"
    },
    {
     "data": {
      "text/html": [
       "<pre style=\"white-space:pre;overflow-x:auto;line-height:normal;font-family:Menlo,'DejaVu Sans Mono',consolas,'Courier New',monospace\"><span style=\"color: #008080; text-decoration-color: #008080; font-weight: bold\">9</span> <span style=\"color: #008080; text-decoration-color: #008080; font-weight: bold\">0</span> <span style=\"color: #008080; text-decoration-color: #008080; font-weight: bold\">0</span> Amidation <span style=\"font-weight: bold; text-decoration: underline\">C122556 </span><span style=\"color: #008000; text-decoration-color: #008000; font-weight: bold; text-decoration: underline\">\"BJVLTIUJQBTOEQ-UHFFFAOYSA-N\"</span>\n",
       "</pre>\n"
      ],
      "text/plain": [
       "\u001b[1;36m9\u001b[0m \u001b[1;36m0\u001b[0m \u001b[1;36m0\u001b[0m Amidation \u001b[1;4mC122556 \u001b[0m\u001b[1;4;32m\"BJVLTIUJQBTOEQ-UHFFFAOYSA-N\"\u001b[0m\n"
      ]
     },
     "metadata": {},
     "output_type": "display_data"
    },
    {
     "data": {
      "text/html": [
       "<pre style=\"white-space:pre;overflow-x:auto;line-height:normal;font-family:Menlo,'DejaVu Sans Mono',consolas,'Courier New',monospace\"><span style=\"background-color: #008000; font-weight: bold\"> Success </span><span style=\"color: #008000; text-decoration-color: #008000; font-weight: bold\"> registered route 108!</span>\n",
       "</pre>\n"
      ],
      "text/plain": [
       "\u001b[1;7;32m Success \u001b[0m\u001b[1;32m registered route 108!\u001b[0m\n"
      ]
     },
     "metadata": {},
     "output_type": "display_data"
    },
    {
     "data": {
      "text/html": [
       "<pre style=\"white-space:pre;overflow-x:auto;line-height:normal;font-family:Menlo,'DejaVu Sans Mono',consolas,'Courier New',monospace\"><span style=\"color: #008080; text-decoration-color: #008080; font-weight: bold\">10</span> <span style=\"color: #008080; text-decoration-color: #008080; font-weight: bold\">0</span> <span style=\"color: #008080; text-decoration-color: #008080; font-weight: bold\">0</span> Amidation <span style=\"font-weight: bold; text-decoration: underline\">C122557 </span><span style=\"color: #008000; text-decoration-color: #008000; font-weight: bold; text-decoration: underline\">\"BPTVIAUUXZRLLA-UHFFFAOYSA-N\"</span>\n",
       "</pre>\n"
      ],
      "text/plain": [
       "\u001b[1;36m10\u001b[0m \u001b[1;36m0\u001b[0m \u001b[1;36m0\u001b[0m Amidation \u001b[1;4mC122557 \u001b[0m\u001b[1;4;32m\"BPTVIAUUXZRLLA-UHFFFAOYSA-N\"\u001b[0m\n"
      ]
     },
     "metadata": {},
     "output_type": "display_data"
    },
    {
     "data": {
      "text/html": [
       "<pre style=\"white-space:pre;overflow-x:auto;line-height:normal;font-family:Menlo,'DejaVu Sans Mono',consolas,'Courier New',monospace\"><span style=\"background-color: #008000; font-weight: bold\"> Success </span><span style=\"color: #008000; text-decoration-color: #008000; font-weight: bold\"> registered route 109!</span>\n",
       "</pre>\n"
      ],
      "text/plain": [
       "\u001b[1;7;32m Success \u001b[0m\u001b[1;32m registered route 109!\u001b[0m\n"
      ]
     },
     "metadata": {},
     "output_type": "display_data"
    },
    {
     "data": {
      "text/html": [
       "<pre style=\"white-space:pre;overflow-x:auto;line-height:normal;font-family:Menlo,'DejaVu Sans Mono',consolas,'Courier New',monospace\"><span style=\"color: #008080; text-decoration-color: #008080; font-weight: bold\">11</span> <span style=\"color: #008080; text-decoration-color: #008080; font-weight: bold\">0</span> <span style=\"color: #008080; text-decoration-color: #008080; font-weight: bold\">0</span> Amidation <span style=\"font-weight: bold; text-decoration: underline\">C122558 </span><span style=\"color: #008000; text-decoration-color: #008000; font-weight: bold; text-decoration: underline\">\"BAOPJNLBCKGSSV-UHFFFAOYSA-N\"</span>\n",
       "</pre>\n"
      ],
      "text/plain": [
       "\u001b[1;36m11\u001b[0m \u001b[1;36m0\u001b[0m \u001b[1;36m0\u001b[0m Amidation \u001b[1;4mC122558 \u001b[0m\u001b[1;4;32m\"BAOPJNLBCKGSSV-UHFFFAOYSA-N\"\u001b[0m\n"
      ]
     },
     "metadata": {},
     "output_type": "display_data"
    },
    {
     "data": {
      "text/html": [
       "<pre style=\"white-space:pre;overflow-x:auto;line-height:normal;font-family:Menlo,'DejaVu Sans Mono',consolas,'Courier New',monospace\"><span style=\"background-color: #008000; font-weight: bold\"> Success </span><span style=\"color: #008000; text-decoration-color: #008000; font-weight: bold\"> registered route 110!</span>\n",
       "</pre>\n"
      ],
      "text/plain": [
       "\u001b[1;7;32m Success \u001b[0m\u001b[1;32m registered route 110!\u001b[0m\n"
      ]
     },
     "metadata": {},
     "output_type": "display_data"
    },
    {
     "data": {
      "text/html": [
       "<pre style=\"white-space:pre;overflow-x:auto;line-height:normal;font-family:Menlo,'DejaVu Sans Mono',consolas,'Courier New',monospace\"><span style=\"color: #008080; text-decoration-color: #008080; font-weight: bold\">12</span> <span style=\"color: #008080; text-decoration-color: #008080; font-weight: bold\">0</span> <span style=\"color: #008080; text-decoration-color: #008080; font-weight: bold\">0</span> Amidation <span style=\"font-weight: bold; text-decoration: underline\">C122559 </span><span style=\"color: #008000; text-decoration-color: #008000; font-weight: bold; text-decoration: underline\">\"YLPGSMZMXYJENJ-UHFFFAOYSA-N\"</span>\n",
       "</pre>\n"
      ],
      "text/plain": [
       "\u001b[1;36m12\u001b[0m \u001b[1;36m0\u001b[0m \u001b[1;36m0\u001b[0m Amidation \u001b[1;4mC122559 \u001b[0m\u001b[1;4;32m\"YLPGSMZMXYJENJ-UHFFFAOYSA-N\"\u001b[0m\n"
      ]
     },
     "metadata": {},
     "output_type": "display_data"
    },
    {
     "data": {
      "text/html": [
       "<pre style=\"white-space:pre;overflow-x:auto;line-height:normal;font-family:Menlo,'DejaVu Sans Mono',consolas,'Courier New',monospace\"><span style=\"background-color: #008000; font-weight: bold\"> Success </span><span style=\"color: #008000; text-decoration-color: #008000; font-weight: bold\"> registered route 111!</span>\n",
       "</pre>\n"
      ],
      "text/plain": [
       "\u001b[1;7;32m Success \u001b[0m\u001b[1;32m registered route 111!\u001b[0m\n"
      ]
     },
     "metadata": {},
     "output_type": "display_data"
    },
    {
     "data": {
      "text/html": [
       "<pre style=\"white-space:pre;overflow-x:auto;line-height:normal;font-family:Menlo,'DejaVu Sans Mono',consolas,'Courier New',monospace\"><span style=\"color: #008080; text-decoration-color: #008080; font-weight: bold\">13</span> <span style=\"color: #008080; text-decoration-color: #008080; font-weight: bold\">0</span> <span style=\"color: #008080; text-decoration-color: #008080; font-weight: bold\">0</span> Formation_of_urea_from_two_amines <span style=\"font-weight: bold; text-decoration: underline\">C122560 </span><span style=\"color: #008000; text-decoration-color: #008000; font-weight: bold; text-decoration: underline\">\"SXBSHLKXQZBYPV-UHFFFAOYSA-N\"</span>\n",
       "</pre>\n"
      ],
      "text/plain": [
       "\u001b[1;36m13\u001b[0m \u001b[1;36m0\u001b[0m \u001b[1;36m0\u001b[0m Formation_of_urea_from_two_amines \u001b[1;4mC122560 \u001b[0m\u001b[1;4;32m\"SXBSHLKXQZBYPV-UHFFFAOYSA-N\"\u001b[0m\n"
      ]
     },
     "metadata": {},
     "output_type": "display_data"
    },
    {
     "data": {
      "text/html": [
       "<pre style=\"white-space:pre;overflow-x:auto;line-height:normal;font-family:Menlo,'DejaVu Sans Mono',consolas,'Courier New',monospace\"><span style=\"background-color: #008000; font-weight: bold\"> Success </span><span style=\"color: #008000; text-decoration-color: #008000; font-weight: bold\"> registered route 112!</span>\n",
       "</pre>\n"
      ],
      "text/plain": [
       "\u001b[1;7;32m Success \u001b[0m\u001b[1;32m registered route 112!\u001b[0m\n"
      ]
     },
     "metadata": {},
     "output_type": "display_data"
    },
    {
     "data": {
      "text/html": [
       "<pre style=\"white-space:pre;overflow-x:auto;line-height:normal;font-family:Menlo,'DejaVu Sans Mono',consolas,'Courier New',monospace\"><span style=\"color: #008080; text-decoration-color: #008080; font-weight: bold\">14</span> <span style=\"color: #008080; text-decoration-color: #008080; font-weight: bold\">1</span> <span style=\"color: #008080; text-decoration-color: #008080; font-weight: bold\">0</span> Formation_of_urea_from_two_amines <span style=\"font-weight: bold; text-decoration: underline\">C122561 </span><span style=\"color: #008000; text-decoration-color: #008000; font-weight: bold; text-decoration: underline\">\"XHGBHCKDUHPBTE-UHFFFAOYSA-N\"</span>\n",
       "</pre>\n"
      ],
      "text/plain": [
       "\u001b[1;36m14\u001b[0m \u001b[1;36m1\u001b[0m \u001b[1;36m0\u001b[0m Formation_of_urea_from_two_amines \u001b[1;4mC122561 \u001b[0m\u001b[1;4;32m\"XHGBHCKDUHPBTE-UHFFFAOYSA-N\"\u001b[0m\n"
      ]
     },
     "metadata": {},
     "output_type": "display_data"
    },
    {
     "data": {
      "text/html": [
       "<pre style=\"white-space:pre;overflow-x:auto;line-height:normal;font-family:Menlo,'DejaVu Sans Mono',consolas,'Courier New',monospace\"><span style=\"background-color: #008000; font-weight: bold\"> Success </span><span style=\"color: #008000; text-decoration-color: #008000; font-weight: bold\"> registered route 113!</span>\n",
       "</pre>\n"
      ],
      "text/plain": [
       "\u001b[1;7;32m Success \u001b[0m\u001b[1;32m registered route 113!\u001b[0m\n"
      ]
     },
     "metadata": {},
     "output_type": "display_data"
    },
    {
     "data": {
      "text/html": [
       "<pre style=\"white-space:pre;overflow-x:auto;line-height:normal;font-family:Menlo,'DejaVu Sans Mono',consolas,'Courier New',monospace\"><span style=\"color: #008080; text-decoration-color: #008080; font-weight: bold\">15</span> <span style=\"color: #008080; text-decoration-color: #008080; font-weight: bold\">0</span> <span style=\"color: #008080; text-decoration-color: #008080; font-weight: bold\">0</span> Formation_of_urea_from_two_amines <span style=\"font-weight: bold; text-decoration: underline\">C122562 </span><span style=\"color: #008000; text-decoration-color: #008000; font-weight: bold; text-decoration: underline\">\"WBSLTZMNEYEYKV-UHFFFAOYSA-N\"</span>\n",
       "</pre>\n"
      ],
      "text/plain": [
       "\u001b[1;36m15\u001b[0m \u001b[1;36m0\u001b[0m \u001b[1;36m0\u001b[0m Formation_of_urea_from_two_amines \u001b[1;4mC122562 \u001b[0m\u001b[1;4;32m\"WBSLTZMNEYEYKV-UHFFFAOYSA-N\"\u001b[0m\n"
      ]
     },
     "metadata": {},
     "output_type": "display_data"
    },
    {
     "data": {
      "text/html": [
       "<pre style=\"white-space:pre;overflow-x:auto;line-height:normal;font-family:Menlo,'DejaVu Sans Mono',consolas,'Courier New',monospace\"><span style=\"background-color: #008000; font-weight: bold\"> Success </span><span style=\"color: #008000; text-decoration-color: #008000; font-weight: bold\"> registered route 114!</span>\n",
       "</pre>\n"
      ],
      "text/plain": [
       "\u001b[1;7;32m Success \u001b[0m\u001b[1;32m registered route 114!\u001b[0m\n"
      ]
     },
     "metadata": {},
     "output_type": "display_data"
    },
    {
     "data": {
      "text/html": [
       "<pre style=\"white-space:pre;overflow-x:auto;line-height:normal;font-family:Menlo,'DejaVu Sans Mono',consolas,'Courier New',monospace\"><span style=\"color: #008080; text-decoration-color: #008080; font-weight: bold\">16</span> <span style=\"color: #008080; text-decoration-color: #008080; font-weight: bold\">0</span> <span style=\"color: #008080; text-decoration-color: #008080; font-weight: bold\">0</span> Amidation <span style=\"font-weight: bold; text-decoration: underline\">C122563 </span><span style=\"color: #008000; text-decoration-color: #008000; font-weight: bold; text-decoration: underline\">\"CNHPUFFRJJADDP-UHFFFAOYSA-N\"</span>\n",
       "</pre>\n"
      ],
      "text/plain": [
       "\u001b[1;36m16\u001b[0m \u001b[1;36m0\u001b[0m \u001b[1;36m0\u001b[0m Amidation \u001b[1;4mC122563 \u001b[0m\u001b[1;4;32m\"CNHPUFFRJJADDP-UHFFFAOYSA-N\"\u001b[0m\n"
      ]
     },
     "metadata": {},
     "output_type": "display_data"
    },
    {
     "data": {
      "text/html": [
       "<pre style=\"white-space:pre;overflow-x:auto;line-height:normal;font-family:Menlo,'DejaVu Sans Mono',consolas,'Courier New',monospace\"><span style=\"background-color: #008000; font-weight: bold\"> Success </span><span style=\"color: #008000; text-decoration-color: #008000; font-weight: bold\"> registered route 115!</span>\n",
       "</pre>\n"
      ],
      "text/plain": [
       "\u001b[1;7;32m Success \u001b[0m\u001b[1;32m registered route 115!\u001b[0m\n"
      ]
     },
     "metadata": {},
     "output_type": "display_data"
    },
    {
     "data": {
      "text/html": [
       "<pre style=\"white-space:pre;overflow-x:auto;line-height:normal;font-family:Menlo,'DejaVu Sans Mono',consolas,'Courier New',monospace\"><span style=\"color: #008080; text-decoration-color: #008080; font-weight: bold\">17</span> <span style=\"color: #008080; text-decoration-color: #008080; font-weight: bold\">0</span> <span style=\"color: #008080; text-decoration-color: #008080; font-weight: bold\">0</span> Amidation <span style=\"font-weight: bold; text-decoration: underline\">C122564 </span><span style=\"color: #008000; text-decoration-color: #008000; font-weight: bold; text-decoration: underline\">\"SPTOPDLRNCGQBI-UHFFFAOYSA-N\"</span>\n",
       "</pre>\n"
      ],
      "text/plain": [
       "\u001b[1;36m17\u001b[0m \u001b[1;36m0\u001b[0m \u001b[1;36m0\u001b[0m Amidation \u001b[1;4mC122564 \u001b[0m\u001b[1;4;32m\"SPTOPDLRNCGQBI-UHFFFAOYSA-N\"\u001b[0m\n"
      ]
     },
     "metadata": {},
     "output_type": "display_data"
    },
    {
     "data": {
      "text/html": [
       "<pre style=\"white-space:pre;overflow-x:auto;line-height:normal;font-family:Menlo,'DejaVu Sans Mono',consolas,'Courier New',monospace\"><span style=\"background-color: #008000; font-weight: bold\"> Success </span><span style=\"color: #008000; text-decoration-color: #008000; font-weight: bold\"> registered route 116!</span>\n",
       "</pre>\n"
      ],
      "text/plain": [
       "\u001b[1;7;32m Success \u001b[0m\u001b[1;32m registered route 116!\u001b[0m\n"
      ]
     },
     "metadata": {},
     "output_type": "display_data"
    },
    {
     "data": {
      "text/html": [
       "<pre style=\"white-space:pre;overflow-x:auto;line-height:normal;font-family:Menlo,'DejaVu Sans Mono',consolas,'Courier New',monospace\"><span style=\"color: #008080; text-decoration-color: #008080; font-weight: bold\">18</span> <span style=\"color: #008080; text-decoration-color: #008080; font-weight: bold\">1</span> <span style=\"color: #008080; text-decoration-color: #008080; font-weight: bold\">0</span> Amidation <span style=\"font-weight: bold; text-decoration: underline\">C122565 </span><span style=\"color: #008000; text-decoration-color: #008000; font-weight: bold; text-decoration: underline\">\"AFDMLMKWXCGILH-UHFFFAOYSA-N\"</span>\n",
       "</pre>\n"
      ],
      "text/plain": [
       "\u001b[1;36m18\u001b[0m \u001b[1;36m1\u001b[0m \u001b[1;36m0\u001b[0m Amidation \u001b[1;4mC122565 \u001b[0m\u001b[1;4;32m\"AFDMLMKWXCGILH-UHFFFAOYSA-N\"\u001b[0m\n"
      ]
     },
     "metadata": {},
     "output_type": "display_data"
    },
    {
     "data": {
      "text/html": [
       "<pre style=\"white-space:pre;overflow-x:auto;line-height:normal;font-family:Menlo,'DejaVu Sans Mono',consolas,'Courier New',monospace\"><span style=\"background-color: #008000; font-weight: bold\"> Success </span><span style=\"color: #008000; text-decoration-color: #008000; font-weight: bold\"> registered route 117!</span>\n",
       "</pre>\n"
      ],
      "text/plain": [
       "\u001b[1;7;32m Success \u001b[0m\u001b[1;32m registered route 117!\u001b[0m\n"
      ]
     },
     "metadata": {},
     "output_type": "display_data"
    },
    {
     "data": {
      "text/html": [
       "<pre style=\"white-space:pre;overflow-x:auto;line-height:normal;font-family:Menlo,'DejaVu Sans Mono',consolas,'Courier New',monospace\"><span style=\"color: #008080; text-decoration-color: #008080; font-weight: bold\">19</span> <span style=\"color: #008080; text-decoration-color: #008080; font-weight: bold\">0</span> <span style=\"color: #008080; text-decoration-color: #008080; font-weight: bold\">0</span> Amidation <span style=\"font-weight: bold; text-decoration: underline\">C122566 </span><span style=\"color: #008000; text-decoration-color: #008000; font-weight: bold; text-decoration: underline\">\"IFJNGSWSPUXOCR-UHFFFAOYSA-N\"</span>\n",
       "</pre>\n"
      ],
      "text/plain": [
       "\u001b[1;36m19\u001b[0m \u001b[1;36m0\u001b[0m \u001b[1;36m0\u001b[0m Amidation \u001b[1;4mC122566 \u001b[0m\u001b[1;4;32m\"IFJNGSWSPUXOCR-UHFFFAOYSA-N\"\u001b[0m\n"
      ]
     },
     "metadata": {},
     "output_type": "display_data"
    },
    {
     "data": {
      "text/html": [
       "<pre style=\"white-space:pre;overflow-x:auto;line-height:normal;font-family:Menlo,'DejaVu Sans Mono',consolas,'Courier New',monospace\"><span style=\"background-color: #008000; font-weight: bold\"> Success </span><span style=\"color: #008000; text-decoration-color: #008000; font-weight: bold\"> registered route 118!</span>\n",
       "</pre>\n"
      ],
      "text/plain": [
       "\u001b[1;7;32m Success \u001b[0m\u001b[1;32m registered route 118!\u001b[0m\n"
      ]
     },
     "metadata": {},
     "output_type": "display_data"
    },
    {
     "data": {
      "text/html": [
       "<pre style=\"white-space:pre;overflow-x:auto;line-height:normal;font-family:Menlo,'DejaVu Sans Mono',consolas,'Courier New',monospace\"><span style=\"color: #008080; text-decoration-color: #008080; font-weight: bold\">20</span> <span style=\"color: #008080; text-decoration-color: #008080; font-weight: bold\">0</span> <span style=\"color: #008080; text-decoration-color: #008080; font-weight: bold\">0</span> Amidation <span style=\"font-weight: bold; text-decoration: underline\">C122567 </span><span style=\"color: #008000; text-decoration-color: #008000; font-weight: bold; text-decoration: underline\">\"JMAAQTAWUKUKJY-UHFFFAOYSA-N\"</span>\n",
       "</pre>\n"
      ],
      "text/plain": [
       "\u001b[1;36m20\u001b[0m \u001b[1;36m0\u001b[0m \u001b[1;36m0\u001b[0m Amidation \u001b[1;4mC122567 \u001b[0m\u001b[1;4;32m\"JMAAQTAWUKUKJY-UHFFFAOYSA-N\"\u001b[0m\n"
      ]
     },
     "metadata": {},
     "output_type": "display_data"
    },
    {
     "data": {
      "text/html": [
       "<pre style=\"white-space:pre;overflow-x:auto;line-height:normal;font-family:Menlo,'DejaVu Sans Mono',consolas,'Courier New',monospace\"><span style=\"background-color: #008000; font-weight: bold\"> Success </span><span style=\"color: #008000; text-decoration-color: #008000; font-weight: bold\"> registered route 119!</span>\n",
       "</pre>\n"
      ],
      "text/plain": [
       "\u001b[1;7;32m Success \u001b[0m\u001b[1;32m registered route 119!\u001b[0m\n"
      ]
     },
     "metadata": {},
     "output_type": "display_data"
    },
    {
     "data": {
      "text/html": [
       "<pre style=\"white-space:pre;overflow-x:auto;line-height:normal;font-family:Menlo,'DejaVu Sans Mono',consolas,'Courier New',monospace\"><span style=\"color: #008080; text-decoration-color: #008080; font-weight: bold\">21</span> <span style=\"color: #008080; text-decoration-color: #008080; font-weight: bold\">0</span> <span style=\"color: #008080; text-decoration-color: #008080; font-weight: bold\">0</span> Amidation <span style=\"font-weight: bold; text-decoration: underline\">C122568 </span><span style=\"color: #008000; text-decoration-color: #008000; font-weight: bold; text-decoration: underline\">\"YEEQWHOUTZRGAB-UHFFFAOYSA-N\"</span>\n",
       "</pre>\n"
      ],
      "text/plain": [
       "\u001b[1;36m21\u001b[0m \u001b[1;36m0\u001b[0m \u001b[1;36m0\u001b[0m Amidation \u001b[1;4mC122568 \u001b[0m\u001b[1;4;32m\"YEEQWHOUTZRGAB-UHFFFAOYSA-N\"\u001b[0m\n"
      ]
     },
     "metadata": {},
     "output_type": "display_data"
    },
    {
     "data": {
      "text/html": [
       "<pre style=\"white-space:pre;overflow-x:auto;line-height:normal;font-family:Menlo,'DejaVu Sans Mono',consolas,'Courier New',monospace\"><span style=\"background-color: #008000; font-weight: bold\"> Success </span><span style=\"color: #008000; text-decoration-color: #008000; font-weight: bold\"> registered route 120!</span>\n",
       "</pre>\n"
      ],
      "text/plain": [
       "\u001b[1;7;32m Success \u001b[0m\u001b[1;32m registered route 120!\u001b[0m\n"
      ]
     },
     "metadata": {},
     "output_type": "display_data"
    },
    {
     "data": {
      "text/html": [
       "<pre style=\"white-space:pre;overflow-x:auto;line-height:normal;font-family:Menlo,'DejaVu Sans Mono',consolas,'Courier New',monospace\"><span style=\"color: #008080; text-decoration-color: #008080; font-weight: bold\">22</span> <span style=\"color: #008080; text-decoration-color: #008080; font-weight: bold\">0</span> <span style=\"color: #008080; text-decoration-color: #008080; font-weight: bold\">0</span> Amidation <span style=\"font-weight: bold; text-decoration: underline\">C122569 </span><span style=\"color: #008000; text-decoration-color: #008000; font-weight: bold; text-decoration: underline\">\"TXWPVJKFUSGQMQ-UHFFFAOYSA-N\"</span>\n",
       "</pre>\n"
      ],
      "text/plain": [
       "\u001b[1;36m22\u001b[0m \u001b[1;36m0\u001b[0m \u001b[1;36m0\u001b[0m Amidation \u001b[1;4mC122569 \u001b[0m\u001b[1;4;32m\"TXWPVJKFUSGQMQ-UHFFFAOYSA-N\"\u001b[0m\n"
      ]
     },
     "metadata": {},
     "output_type": "display_data"
    },
    {
     "data": {
      "text/html": [
       "<pre style=\"white-space:pre;overflow-x:auto;line-height:normal;font-family:Menlo,'DejaVu Sans Mono',consolas,'Courier New',monospace\"><span style=\"background-color: #008000; font-weight: bold\"> Success </span><span style=\"color: #008000; text-decoration-color: #008000; font-weight: bold\"> registered route 121!</span>\n",
       "</pre>\n"
      ],
      "text/plain": [
       "\u001b[1;7;32m Success \u001b[0m\u001b[1;32m registered route 121!\u001b[0m\n"
      ]
     },
     "metadata": {},
     "output_type": "display_data"
    },
    {
     "data": {
      "text/html": [
       "<pre style=\"white-space:pre;overflow-x:auto;line-height:normal;font-family:Menlo,'DejaVu Sans Mono',consolas,'Courier New',monospace\"><span style=\"color: #008080; text-decoration-color: #008080; font-weight: bold\">23</span> <span style=\"color: #008080; text-decoration-color: #008080; font-weight: bold\">0</span> <span style=\"color: #008080; text-decoration-color: #008080; font-weight: bold\">0</span> Amidation <span style=\"font-weight: bold; text-decoration: underline\">C122467 </span><span style=\"color: #008000; text-decoration-color: #008000; font-weight: bold; text-decoration: underline\">\"DPQNQDXNIINHJH-UHFFFAOYSA-N\"</span>\n",
       "</pre>\n"
      ],
      "text/plain": [
       "\u001b[1;36m23\u001b[0m \u001b[1;36m0\u001b[0m \u001b[1;36m0\u001b[0m Amidation \u001b[1;4mC122467 \u001b[0m\u001b[1;4;32m\"DPQNQDXNIINHJH-UHFFFAOYSA-N\"\u001b[0m\n"
      ]
     },
     "metadata": {},
     "output_type": "display_data"
    },
    {
     "data": {
      "text/html": [
       "<pre style=\"white-space:pre;overflow-x:auto;line-height:normal;font-family:Menlo,'DejaVu Sans Mono',consolas,'Courier New',monospace\"><span style=\"background-color: #008000; font-weight: bold\"> Success </span><span style=\"color: #008000; text-decoration-color: #008000; font-weight: bold\"> registered route 122!</span>\n",
       "</pre>\n"
      ],
      "text/plain": [
       "\u001b[1;7;32m Success \u001b[0m\u001b[1;32m registered route 122!\u001b[0m\n"
      ]
     },
     "metadata": {},
     "output_type": "display_data"
    },
    {
     "data": {
      "text/html": [
       "<pre style=\"white-space:pre;overflow-x:auto;line-height:normal;font-family:Menlo,'DejaVu Sans Mono',consolas,'Courier New',monospace\"><span style=\"color: #008080; text-decoration-color: #008080; font-weight: bold\">24</span> <span style=\"color: #008080; text-decoration-color: #008080; font-weight: bold\">0</span> <span style=\"color: #008080; text-decoration-color: #008080; font-weight: bold\">0</span> Amidation <span style=\"font-weight: bold; text-decoration: underline\">C122570 </span><span style=\"color: #008000; text-decoration-color: #008000; font-weight: bold; text-decoration: underline\">\"FRGPDZGWTMZAON-UHFFFAOYSA-N\"</span>\n",
       "</pre>\n"
      ],
      "text/plain": [
       "\u001b[1;36m24\u001b[0m \u001b[1;36m0\u001b[0m \u001b[1;36m0\u001b[0m Amidation \u001b[1;4mC122570 \u001b[0m\u001b[1;4;32m\"FRGPDZGWTMZAON-UHFFFAOYSA-N\"\u001b[0m\n"
      ]
     },
     "metadata": {},
     "output_type": "display_data"
    },
    {
     "data": {
      "text/html": [
       "<pre style=\"white-space:pre;overflow-x:auto;line-height:normal;font-family:Menlo,'DejaVu Sans Mono',consolas,'Courier New',monospace\"><span style=\"background-color: #008000; font-weight: bold\"> Success </span><span style=\"color: #008000; text-decoration-color: #008000; font-weight: bold\"> registered route 123!</span>\n",
       "</pre>\n"
      ],
      "text/plain": [
       "\u001b[1;7;32m Success \u001b[0m\u001b[1;32m registered route 123!\u001b[0m\n"
      ]
     },
     "metadata": {},
     "output_type": "display_data"
    },
    {
     "data": {
      "text/html": [
       "<pre style=\"white-space:pre;overflow-x:auto;line-height:normal;font-family:Menlo,'DejaVu Sans Mono',consolas,'Courier New',monospace\"><span style=\"color: #008080; text-decoration-color: #008080; font-weight: bold\">25</span> <span style=\"color: #008080; text-decoration-color: #008080; font-weight: bold\">0</span> <span style=\"color: #008080; text-decoration-color: #008080; font-weight: bold\">0</span> Amidation <span style=\"font-weight: bold; text-decoration: underline\">C122571 </span><span style=\"color: #008000; text-decoration-color: #008000; font-weight: bold; text-decoration: underline\">\"YJUWSGAKKBDWFC-UHFFFAOYSA-N\"</span>\n",
       "</pre>\n"
      ],
      "text/plain": [
       "\u001b[1;36m25\u001b[0m \u001b[1;36m0\u001b[0m \u001b[1;36m0\u001b[0m Amidation \u001b[1;4mC122571 \u001b[0m\u001b[1;4;32m\"YJUWSGAKKBDWFC-UHFFFAOYSA-N\"\u001b[0m\n"
      ]
     },
     "metadata": {},
     "output_type": "display_data"
    },
    {
     "data": {
      "text/html": [
       "<pre style=\"white-space:pre;overflow-x:auto;line-height:normal;font-family:Menlo,'DejaVu Sans Mono',consolas,'Courier New',monospace\"><span style=\"background-color: #008000; font-weight: bold\"> Success </span><span style=\"color: #008000; text-decoration-color: #008000; font-weight: bold\"> registered route 124!</span>\n",
       "</pre>\n"
      ],
      "text/plain": [
       "\u001b[1;7;32m Success \u001b[0m\u001b[1;32m registered route 124!\u001b[0m\n"
      ]
     },
     "metadata": {},
     "output_type": "display_data"
    },
    {
     "data": {
      "text/html": [
       "<pre style=\"white-space:pre;overflow-x:auto;line-height:normal;font-family:Menlo,'DejaVu Sans Mono',consolas,'Courier New',monospace\"><span style=\"color: #008080; text-decoration-color: #008080; font-weight: bold\">26</span> <span style=\"color: #008080; text-decoration-color: #008080; font-weight: bold\">0</span> <span style=\"color: #008080; text-decoration-color: #008080; font-weight: bold\">0</span> Amidation <span style=\"font-weight: bold; text-decoration: underline\">C122572 </span><span style=\"color: #008000; text-decoration-color: #008000; font-weight: bold; text-decoration: underline\">\"STXHBHXJQBAUQV-UHFFFAOYSA-N\"</span>\n",
       "</pre>\n"
      ],
      "text/plain": [
       "\u001b[1;36m26\u001b[0m \u001b[1;36m0\u001b[0m \u001b[1;36m0\u001b[0m Amidation \u001b[1;4mC122572 \u001b[0m\u001b[1;4;32m\"STXHBHXJQBAUQV-UHFFFAOYSA-N\"\u001b[0m\n"
      ]
     },
     "metadata": {},
     "output_type": "display_data"
    },
    {
     "data": {
      "text/html": [
       "<pre style=\"white-space:pre;overflow-x:auto;line-height:normal;font-family:Menlo,'DejaVu Sans Mono',consolas,'Courier New',monospace\"><span style=\"background-color: #008000; font-weight: bold\"> Success </span><span style=\"color: #008000; text-decoration-color: #008000; font-weight: bold\"> registered route 125!</span>\n",
       "</pre>\n"
      ],
      "text/plain": [
       "\u001b[1;7;32m Success \u001b[0m\u001b[1;32m registered route 125!\u001b[0m\n"
      ]
     },
     "metadata": {},
     "output_type": "display_data"
    },
    {
     "name": "stdout",
     "output_type": "stream",
     "text": [
      "CPU times: user 704 ms, sys: 1.05 s, total: 1.76 s\n",
      "Wall time: 19.2 s\n"
     ]
    }
   ],
   "source": [
    "%%time\n",
    "\n",
    "paths = [\n",
    "    # \"P3_20241209/justretroquery_P3_20241209_syndirella_input.pkl.gz\",\n",
    "    # \"P3_20241211/justretroquery_P3_20241211_syndirella_input.pkl.gz\",\n",
    "    \"P3_20241212/justretroquery_P3_20241212_syndirella_input.pkl.gz\",\n",
    "]\n",
    "\n",
    "for path in paths:\n",
    "    animal.add_syndirella_routes(path, check_chemistry=False)"
   ]
  },
  {
   "cell_type": "code",
   "execution_count": 15,
   "id": "85d42fd0-e9c8-438c-956c-6349d9a6c3f8",
   "metadata": {},
   "outputs": [
    {
     "data": {
      "text/plain": [
       "125"
      ]
     },
     "execution_count": 15,
     "metadata": {},
     "output_type": "execute_result"
    }
   ],
   "source": [
    "animal.db.count(table='route')"
   ]
  },
  {
   "cell_type": "code",
   "execution_count": 16,
   "id": "7a5672cc-d278-416e-aa91-96249e5ee953",
   "metadata": {},
   "outputs": [
    {
     "data": {
      "text/plain": [
       "\u001b[1m\u001b[4m{C × 28}\u001b[22m\u001b[24m"
      ]
     },
     "execution_count": 16,
     "metadata": {},
     "output_type": "execute_result"
    }
   ],
   "source": [
    "rs = animal.db.select_where(table='route', query='route_product', key=\"route_id >= 98\", multiple=True)\n",
    "rs = set([r for r, in rs])\n",
    "products = animal.compounds[rs]\n",
    "products"
   ]
  },
  {
   "cell_type": "code",
   "execution_count": 17,
   "id": "30eabeef-2d3f-4bc8-b800-aa41c6680f4b",
   "metadata": {},
   "outputs": [
    {
     "data": {
      "text/html": [
       "<pre style=\"white-space:pre;overflow-x:auto;line-height:normal;font-family:Menlo,'DejaVu Sans Mono',consolas,'Courier New',monospace\"><span style=\"color: #008080; text-decoration-color: #008080; font-weight: bold\">#compounds</span> = <span style=\"color: #008080; text-decoration-color: #008080; font-weight: bold\">28</span>\n",
       "</pre>\n"
      ],
      "text/plain": [
       "\u001b[1;36m#compounds\u001b[0m = \u001b[1;36m28\u001b[0m\n"
      ]
     },
     "metadata": {},
     "output_type": "display_data"
    },
    {
     "data": {
      "application/vnd.jupyter.widget-view+json": {
       "model_id": "47cfa1881f32419e9345b399ebe526e3",
       "version_major": 2,
       "version_minor": 0
      },
      "text/plain": [
       "Output()"
      ]
     },
     "metadata": {},
     "output_type": "display_data"
    },
    {
     "data": {
      "text/html": [
       "<pre style=\"white-space:pre;overflow-x:auto;line-height:normal;font-family:Menlo,'DejaVu Sans Mono',consolas,'Courier New',monospace\"><span style=\"background-color: #008000; font-weight: bold\"> Success </span><span style=\"color: #008000; text-decoration-color: #008000; font-weight: bold\"> Found solution for compound=C122457!</span>\n",
       "</pre>\n"
      ],
      "text/plain": [
       "\u001b[1;7;32m Success \u001b[0m\u001b[1;32m Found solution for compound=C122457!\u001b[0m\n"
      ]
     },
     "metadata": {},
     "output_type": "display_data"
    },
    {
     "data": {
      "text/html": [
       "<pre style=\"white-space:pre;overflow-x:auto;line-height:normal;font-family:Menlo,'DejaVu Sans Mono',consolas,'Courier New',monospace\"><span style=\"background-color: #008000; font-weight: bold\"> Success </span><span style=\"color: #008000; text-decoration-color: #008000; font-weight: bold\"> Found solution for compound=C122466!</span>\n",
       "</pre>\n"
      ],
      "text/plain": [
       "\u001b[1;7;32m Success \u001b[0m\u001b[1;32m Found solution for compound=C122466!\u001b[0m\n"
      ]
     },
     "metadata": {},
     "output_type": "display_data"
    },
    {
     "data": {
      "text/html": [
       "<pre style=\"white-space:pre;overflow-x:auto;line-height:normal;font-family:Menlo,'DejaVu Sans Mono',consolas,'Courier New',monospace\"><span style=\"background-color: #008000; font-weight: bold\"> Success </span><span style=\"color: #008000; text-decoration-color: #008000; font-weight: bold\"> Found solution for compound=C122467!</span>\n",
       "</pre>\n"
      ],
      "text/plain": [
       "\u001b[1;7;32m Success \u001b[0m\u001b[1;32m Found solution for compound=C122467!\u001b[0m\n"
      ]
     },
     "metadata": {},
     "output_type": "display_data"
    },
    {
     "data": {
      "text/html": [
       "<pre style=\"white-space:pre;overflow-x:auto;line-height:normal;font-family:Menlo,'DejaVu Sans Mono',consolas,'Courier New',monospace\"><span style=\"background-color: #008000; font-weight: bold\"> Success </span><span style=\"color: #008000; text-decoration-color: #008000; font-weight: bold\"> Found solution for compound=C122496!</span>\n",
       "</pre>\n"
      ],
      "text/plain": [
       "\u001b[1;7;32m Success \u001b[0m\u001b[1;32m Found solution for compound=C122496!\u001b[0m\n"
      ]
     },
     "metadata": {},
     "output_type": "display_data"
    },
    {
     "data": {
      "text/html": [
       "<pre style=\"white-space:pre;overflow-x:auto;line-height:normal;font-family:Menlo,'DejaVu Sans Mono',consolas,'Courier New',monospace\"><span style=\"background-color: #008000; font-weight: bold\"> Success </span><span style=\"color: #008000; text-decoration-color: #008000; font-weight: bold\"> Found solution for compound=C122549!</span>\n",
       "</pre>\n"
      ],
      "text/plain": [
       "\u001b[1;7;32m Success \u001b[0m\u001b[1;32m Found solution for compound=C122549!\u001b[0m\n"
      ]
     },
     "metadata": {},
     "output_type": "display_data"
    },
    {
     "data": {
      "text/html": [
       "<pre style=\"white-space:pre;overflow-x:auto;line-height:normal;font-family:Menlo,'DejaVu Sans Mono',consolas,'Courier New',monospace\"><span style=\"background-color: #008000; font-weight: bold\"> Success </span><span style=\"color: #008000; text-decoration-color: #008000; font-weight: bold\"> Found solution for compound=C122550!</span>\n",
       "</pre>\n"
      ],
      "text/plain": [
       "\u001b[1;7;32m Success \u001b[0m\u001b[1;32m Found solution for compound=C122550!\u001b[0m\n"
      ]
     },
     "metadata": {},
     "output_type": "display_data"
    },
    {
     "data": {
      "text/html": [
       "<pre style=\"white-space:pre;overflow-x:auto;line-height:normal;font-family:Menlo,'DejaVu Sans Mono',consolas,'Courier New',monospace\"><span style=\"background-color: #008000; font-weight: bold\"> Success </span><span style=\"color: #008000; text-decoration-color: #008000; font-weight: bold\"> Found solution for compound=C122551!</span>\n",
       "</pre>\n"
      ],
      "text/plain": [
       "\u001b[1;7;32m Success \u001b[0m\u001b[1;32m Found solution for compound=C122551!\u001b[0m\n"
      ]
     },
     "metadata": {},
     "output_type": "display_data"
    },
    {
     "data": {
      "text/html": [
       "<pre style=\"white-space:pre;overflow-x:auto;line-height:normal;font-family:Menlo,'DejaVu Sans Mono',consolas,'Courier New',monospace\"><span style=\"background-color: #008000; font-weight: bold\"> Success </span><span style=\"color: #008000; text-decoration-color: #008000; font-weight: bold\"> Found solution for compound=C122552!</span>\n",
       "</pre>\n"
      ],
      "text/plain": [
       "\u001b[1;7;32m Success \u001b[0m\u001b[1;32m Found solution for compound=C122552!\u001b[0m\n"
      ]
     },
     "metadata": {},
     "output_type": "display_data"
    },
    {
     "data": {
      "text/html": [
       "<pre style=\"white-space:pre;overflow-x:auto;line-height:normal;font-family:Menlo,'DejaVu Sans Mono',consolas,'Courier New',monospace\"><span style=\"background-color: #008000; font-weight: bold\"> Success </span><span style=\"color: #008000; text-decoration-color: #008000; font-weight: bold\"> Found solution for compound=C122553!</span>\n",
       "</pre>\n"
      ],
      "text/plain": [
       "\u001b[1;7;32m Success \u001b[0m\u001b[1;32m Found solution for compound=C122553!\u001b[0m\n"
      ]
     },
     "metadata": {},
     "output_type": "display_data"
    },
    {
     "data": {
      "text/html": [
       "<pre style=\"white-space:pre;overflow-x:auto;line-height:normal;font-family:Menlo,'DejaVu Sans Mono',consolas,'Courier New',monospace\"><span style=\"background-color: #008000; font-weight: bold\"> Success </span><span style=\"color: #008000; text-decoration-color: #008000; font-weight: bold\"> Found solution for compound=C122554!</span>\n",
       "</pre>\n"
      ],
      "text/plain": [
       "\u001b[1;7;32m Success \u001b[0m\u001b[1;32m Found solution for compound=C122554!\u001b[0m\n"
      ]
     },
     "metadata": {},
     "output_type": "display_data"
    },
    {
     "data": {
      "text/html": [
       "<pre style=\"white-space:pre;overflow-x:auto;line-height:normal;font-family:Menlo,'DejaVu Sans Mono',consolas,'Courier New',monospace\"><span style=\"background-color: #008000; font-weight: bold\"> Success </span><span style=\"color: #008000; text-decoration-color: #008000; font-weight: bold\"> Found solution for compound=C122555!</span>\n",
       "</pre>\n"
      ],
      "text/plain": [
       "\u001b[1;7;32m Success \u001b[0m\u001b[1;32m Found solution for compound=C122555!\u001b[0m\n"
      ]
     },
     "metadata": {},
     "output_type": "display_data"
    },
    {
     "data": {
      "text/html": [
       "<pre style=\"white-space:pre;overflow-x:auto;line-height:normal;font-family:Menlo,'DejaVu Sans Mono',consolas,'Courier New',monospace\"><span style=\"background-color: #008000; font-weight: bold\"> Success </span><span style=\"color: #008000; text-decoration-color: #008000; font-weight: bold\"> Found solution for compound=C122556!</span>\n",
       "</pre>\n"
      ],
      "text/plain": [
       "\u001b[1;7;32m Success \u001b[0m\u001b[1;32m Found solution for compound=C122556!\u001b[0m\n"
      ]
     },
     "metadata": {},
     "output_type": "display_data"
    },
    {
     "data": {
      "text/html": [
       "<pre style=\"white-space:pre;overflow-x:auto;line-height:normal;font-family:Menlo,'DejaVu Sans Mono',consolas,'Courier New',monospace\"><span style=\"background-color: #008000; font-weight: bold\"> Success </span><span style=\"color: #008000; text-decoration-color: #008000; font-weight: bold\"> Found solution for compound=C122557!</span>\n",
       "</pre>\n"
      ],
      "text/plain": [
       "\u001b[1;7;32m Success \u001b[0m\u001b[1;32m Found solution for compound=C122557!\u001b[0m\n"
      ]
     },
     "metadata": {},
     "output_type": "display_data"
    },
    {
     "data": {
      "text/html": [
       "<pre style=\"white-space:pre;overflow-x:auto;line-height:normal;font-family:Menlo,'DejaVu Sans Mono',consolas,'Courier New',monospace\"><span style=\"background-color: #008000; font-weight: bold\"> Success </span><span style=\"color: #008000; text-decoration-color: #008000; font-weight: bold\"> Found solution for compound=C122558!</span>\n",
       "</pre>\n"
      ],
      "text/plain": [
       "\u001b[1;7;32m Success \u001b[0m\u001b[1;32m Found solution for compound=C122558!\u001b[0m\n"
      ]
     },
     "metadata": {},
     "output_type": "display_data"
    },
    {
     "data": {
      "text/html": [
       "<pre style=\"white-space:pre;overflow-x:auto;line-height:normal;font-family:Menlo,'DejaVu Sans Mono',consolas,'Courier New',monospace\"><span style=\"background-color: #008000; font-weight: bold\"> Success </span><span style=\"color: #008000; text-decoration-color: #008000; font-weight: bold\"> Found solution for compound=C122559!</span>\n",
       "</pre>\n"
      ],
      "text/plain": [
       "\u001b[1;7;32m Success \u001b[0m\u001b[1;32m Found solution for compound=C122559!\u001b[0m\n"
      ]
     },
     "metadata": {},
     "output_type": "display_data"
    },
    {
     "data": {
      "text/html": [
       "<pre style=\"white-space:pre;overflow-x:auto;line-height:normal;font-family:Menlo,'DejaVu Sans Mono',consolas,'Courier New',monospace\"><span style=\"background-color: #008000; font-weight: bold\"> Success </span><span style=\"color: #008000; text-decoration-color: #008000; font-weight: bold\"> Found solution for compound=C122560!</span>\n",
       "</pre>\n"
      ],
      "text/plain": [
       "\u001b[1;7;32m Success \u001b[0m\u001b[1;32m Found solution for compound=C122560!\u001b[0m\n"
      ]
     },
     "metadata": {},
     "output_type": "display_data"
    },
    {
     "data": {
      "text/html": [
       "<pre style=\"white-space:pre;overflow-x:auto;line-height:normal;font-family:Menlo,'DejaVu Sans Mono',consolas,'Courier New',monospace\"><span style=\"background-color: #008000; font-weight: bold\"> Success </span><span style=\"color: #008000; text-decoration-color: #008000; font-weight: bold\"> Found solution for compound=C122561!</span>\n",
       "</pre>\n"
      ],
      "text/plain": [
       "\u001b[1;7;32m Success \u001b[0m\u001b[1;32m Found solution for compound=C122561!\u001b[0m\n"
      ]
     },
     "metadata": {},
     "output_type": "display_data"
    },
    {
     "data": {
      "text/html": [
       "<pre style=\"white-space:pre;overflow-x:auto;line-height:normal;font-family:Menlo,'DejaVu Sans Mono',consolas,'Courier New',monospace\"><span style=\"background-color: #008000; font-weight: bold\"> Success </span><span style=\"color: #008000; text-decoration-color: #008000; font-weight: bold\"> Found solution for compound=C122562!</span>\n",
       "</pre>\n"
      ],
      "text/plain": [
       "\u001b[1;7;32m Success \u001b[0m\u001b[1;32m Found solution for compound=C122562!\u001b[0m\n"
      ]
     },
     "metadata": {},
     "output_type": "display_data"
    },
    {
     "data": {
      "text/html": [
       "<pre style=\"white-space:pre;overflow-x:auto;line-height:normal;font-family:Menlo,'DejaVu Sans Mono',consolas,'Courier New',monospace\"><span style=\"background-color: #008000; font-weight: bold\"> Success </span><span style=\"color: #008000; text-decoration-color: #008000; font-weight: bold\"> Found solution for compound=C122563!</span>\n",
       "</pre>\n"
      ],
      "text/plain": [
       "\u001b[1;7;32m Success \u001b[0m\u001b[1;32m Found solution for compound=C122563!\u001b[0m\n"
      ]
     },
     "metadata": {},
     "output_type": "display_data"
    },
    {
     "data": {
      "text/html": [
       "<pre style=\"white-space:pre;overflow-x:auto;line-height:normal;font-family:Menlo,'DejaVu Sans Mono',consolas,'Courier New',monospace\"><span style=\"background-color: #008000; font-weight: bold\"> Success </span><span style=\"color: #008000; text-decoration-color: #008000; font-weight: bold\"> Found solution for compound=C122564!</span>\n",
       "</pre>\n"
      ],
      "text/plain": [
       "\u001b[1;7;32m Success \u001b[0m\u001b[1;32m Found solution for compound=C122564!\u001b[0m\n"
      ]
     },
     "metadata": {},
     "output_type": "display_data"
    },
    {
     "data": {
      "text/html": [
       "<pre style=\"white-space:pre;overflow-x:auto;line-height:normal;font-family:Menlo,'DejaVu Sans Mono',consolas,'Courier New',monospace\"><span style=\"background-color: #008000; font-weight: bold\"> Success </span><span style=\"color: #008000; text-decoration-color: #008000; font-weight: bold\"> Found solution for compound=C122565!</span>\n",
       "</pre>\n"
      ],
      "text/plain": [
       "\u001b[1;7;32m Success \u001b[0m\u001b[1;32m Found solution for compound=C122565!\u001b[0m\n"
      ]
     },
     "metadata": {},
     "output_type": "display_data"
    },
    {
     "data": {
      "text/html": [
       "<pre style=\"white-space:pre;overflow-x:auto;line-height:normal;font-family:Menlo,'DejaVu Sans Mono',consolas,'Courier New',monospace\"><span style=\"background-color: #008000; font-weight: bold\"> Success </span><span style=\"color: #008000; text-decoration-color: #008000; font-weight: bold\"> Found solution for compound=C122566!</span>\n",
       "</pre>\n"
      ],
      "text/plain": [
       "\u001b[1;7;32m Success \u001b[0m\u001b[1;32m Found solution for compound=C122566!\u001b[0m\n"
      ]
     },
     "metadata": {},
     "output_type": "display_data"
    },
    {
     "data": {
      "text/html": [
       "<pre style=\"white-space:pre;overflow-x:auto;line-height:normal;font-family:Menlo,'DejaVu Sans Mono',consolas,'Courier New',monospace\"><span style=\"background-color: #008000; font-weight: bold\"> Success </span><span style=\"color: #008000; text-decoration-color: #008000; font-weight: bold\"> Found solution for compound=C122567!</span>\n",
       "</pre>\n"
      ],
      "text/plain": [
       "\u001b[1;7;32m Success \u001b[0m\u001b[1;32m Found solution for compound=C122567!\u001b[0m\n"
      ]
     },
     "metadata": {},
     "output_type": "display_data"
    },
    {
     "data": {
      "text/html": [
       "<pre style=\"white-space:pre;overflow-x:auto;line-height:normal;font-family:Menlo,'DejaVu Sans Mono',consolas,'Courier New',monospace\"><span style=\"background-color: #008000; font-weight: bold\"> Success </span><span style=\"color: #008000; text-decoration-color: #008000; font-weight: bold\"> Found solution for compound=C122568!</span>\n",
       "</pre>\n"
      ],
      "text/plain": [
       "\u001b[1;7;32m Success \u001b[0m\u001b[1;32m Found solution for compound=C122568!\u001b[0m\n"
      ]
     },
     "metadata": {},
     "output_type": "display_data"
    },
    {
     "data": {
      "text/html": [
       "<pre style=\"white-space:pre;overflow-x:auto;line-height:normal;font-family:Menlo,'DejaVu Sans Mono',consolas,'Courier New',monospace\"><span style=\"background-color: #008000; font-weight: bold\"> Success </span><span style=\"color: #008000; text-decoration-color: #008000; font-weight: bold\"> Found solution for compound=C122569!</span>\n",
       "</pre>\n"
      ],
      "text/plain": [
       "\u001b[1;7;32m Success \u001b[0m\u001b[1;32m Found solution for compound=C122569!\u001b[0m\n"
      ]
     },
     "metadata": {},
     "output_type": "display_data"
    },
    {
     "data": {
      "text/html": [
       "<pre style=\"white-space:pre;overflow-x:auto;line-height:normal;font-family:Menlo,'DejaVu Sans Mono',consolas,'Courier New',monospace\"><span style=\"background-color: #008000; font-weight: bold\"> Success </span><span style=\"color: #008000; text-decoration-color: #008000; font-weight: bold\"> Found solution for compound=C122570!</span>\n",
       "</pre>\n"
      ],
      "text/plain": [
       "\u001b[1;7;32m Success \u001b[0m\u001b[1;32m Found solution for compound=C122570!\u001b[0m\n"
      ]
     },
     "metadata": {},
     "output_type": "display_data"
    },
    {
     "data": {
      "text/html": [
       "<pre style=\"white-space:pre;overflow-x:auto;line-height:normal;font-family:Menlo,'DejaVu Sans Mono',consolas,'Courier New',monospace\"><span style=\"background-color: #008000; font-weight: bold\"> Success </span><span style=\"color: #008000; text-decoration-color: #008000; font-weight: bold\"> Found solution for compound=C122571!</span>\n",
       "</pre>\n"
      ],
      "text/plain": [
       "\u001b[1;7;32m Success \u001b[0m\u001b[1;32m Found solution for compound=C122571!\u001b[0m\n"
      ]
     },
     "metadata": {},
     "output_type": "display_data"
    },
    {
     "data": {
      "text/html": [
       "<pre style=\"white-space:pre;overflow-x:auto;line-height:normal;font-family:Menlo,'DejaVu Sans Mono',consolas,'Courier New',monospace\"><span style=\"background-color: #008000; font-weight: bold\"> Success </span><span style=\"color: #008000; text-decoration-color: #008000; font-weight: bold\"> Found solution for compound=C122572!</span>\n",
       "</pre>\n"
      ],
      "text/plain": [
       "\u001b[1;7;32m Success \u001b[0m\u001b[1;32m Found solution for compound=C122572!\u001b[0m\n"
      ]
     },
     "metadata": {},
     "output_type": "display_data"
    },
    {
     "data": {
      "text/html": [
       "<pre style=\"white-space:pre;overflow-x:auto;line-height:normal;font-family:Menlo,'DejaVu Sans Mono',consolas,'Courier New',monospace\"></pre>\n"
      ],
      "text/plain": []
     },
     "metadata": {},
     "output_type": "display_data"
    },
    {
     "data": {
      "text/html": [
       "<pre style=\"white-space:pre;overflow-x:auto;line-height:normal;font-family:Menlo,'DejaVu Sans Mono',consolas,'Courier New',monospace\">Solving recipe combinations<span style=\"color: #808000; text-decoration-color: #808000\">...</span>\n",
       "</pre>\n"
      ],
      "text/plain": [
       "Solving recipe combinations\u001b[33m...\u001b[0m\n"
      ]
     },
     "metadata": {},
     "output_type": "display_data"
    },
    {
     "data": {
      "text/html": [
       "<pre style=\"white-space:pre;overflow-x:auto;line-height:normal;font-family:Menlo,'DejaVu Sans Mono',consolas,'Courier New',monospace\">\n",
       "</pre>\n"
      ],
      "text/plain": [
       "\n"
      ]
     },
     "metadata": {},
     "output_type": "display_data"
    },
    {
     "data": {
      "application/vnd.jupyter.widget-view+json": {
       "model_id": "b1a61c4f3dcc43c8ab15bc7afaa0238f",
       "version_major": 2,
       "version_minor": 0
      },
      "text/plain": [
       "Output()"
      ]
     },
     "metadata": {},
     "output_type": "display_data"
    },
    {
     "data": {
      "text/html": [
       "<pre style=\"white-space:pre;overflow-x:auto;line-height:normal;font-family:Menlo,'DejaVu Sans Mono',consolas,'Courier New',monospace\"></pre>\n"
      ],
      "text/plain": []
     },
     "metadata": {},
     "output_type": "display_data"
    }
   ],
   "source": [
    "recipe = hippo.Recipe.from_compounds(products, pick_cheapest=False)"
   ]
  },
  {
   "cell_type": "code",
   "execution_count": 18,
   "id": "70629314-381b-44e2-8fa3-4bfa9695ba58",
   "metadata": {},
   "outputs": [
    {
     "data": {
      "text/plain": [
       "[\u001b[1m\u001b[4mRecipe({Ingredient × 31} --> {Ingredient × 28} via {R × 28})\u001b[22m\u001b[24m]"
      ]
     },
     "execution_count": 18,
     "metadata": {},
     "output_type": "execute_result"
    }
   ],
   "source": [
    "recipe"
   ]
  },
  {
   "cell_type": "code",
   "execution_count": 18,
   "id": "794af375-e19f-4042-b51d-51e5efcb89f0",
   "metadata": {},
   "outputs": [
    {
     "data": {
      "text/plain": [
       "{120412}"
      ]
     },
     "execution_count": 18,
     "metadata": {},
     "output_type": "execute_result"
    }
   ],
   "source": [
    "# set(recipe[0].reactions.ids) - set(recipe[1].reactions.ids)\n",
    "set(recipe[1].reactions.ids) - set(recipe[0].reactions.ids)"
   ]
  },
  {
   "cell_type": "code",
   "execution_count": 17,
   "id": "90062844-02dd-4ab2-bdf0-688ec0b813f6",
   "metadata": {},
   "outputs": [
    {
     "data": {
      "image/png": "[encoded data removed]",
      "text/plain": [
       "<IPython.core.display.Image object>"
      ]
     },
     "metadata": {},
     "output_type": "display_data"
    }
   ],
   "source": [
    "animal.reactions[120400].draw()"
   ]
  },
  {
   "cell_type": "code",
   "execution_count": 19,
   "id": "845eed74-8599-44da-ab95-0a505166e790",
   "metadata": {},
   "outputs": [
    {
     "data": {
      "image/png": "[encoded data removed]",
      "text/plain": [
       "<IPython.core.display.Image object>"
      ]
     },
     "metadata": {},
     "output_type": "display_data"
    }
   ],
   "source": [
    "animal.reactions[120412].draw()"
   ]
  },
  {
   "cell_type": "code",
   "execution_count": 19,
   "id": "84bb237b-12c3-43a9-83a7-b2b8b4ee5a61",
   "metadata": {},
   "outputs": [
    {
     "data": {
      "text/plain": [
       "\u001b[1m\u001b[4mRecipe({Ingredient × 31} --> {Ingredient × 28} via {R × 28})\u001b[22m\u001b[24m"
      ]
     },
     "execution_count": 19,
     "metadata": {},
     "output_type": "execute_result"
    }
   ],
   "source": [
    "# chosen = recipe[1] # 20241209\n",
    "chosen = recipe[0] # 20241211\n",
    "chosen = recipe[0] # 20241212\n",
    "chosen"
   ]
  },
  {
   "cell_type": "code",
   "execution_count": 20,
   "id": "1c9ba46f-f00f-4bd0-bd83-1b4850fcd9f9",
   "metadata": {},
   "outputs": [
    {
     "data": {
      "text/html": [
       "<pre style=\"white-space:pre;overflow-x:auto;line-height:normal;font-family:Menlo,'DejaVu Sans Mono',consolas,'Courier New',monospace\"><span style=\"color: #808080; text-decoration-color: #808080\">DEBUG: Querying database for routes</span>\n",
       "</pre>\n"
      ],
      "text/plain": [
       "\u001b[90mDEBUG: Querying database for routes\u001b[0m\n"
      ]
     },
     "metadata": {},
     "output_type": "display_data"
    },
    {
     "data": {
      "text/html": [
       "<pre style=\"white-space:pre;overflow-x:auto;line-height:normal;font-family:Menlo,'DejaVu Sans Mono',consolas,'Courier New',monospace\"><span style=\"color: #808080; text-decoration-color: #808080\">DEBUG: Assembling route dictionary</span>\n",
       "</pre>\n"
      ],
      "text/plain": [
       "\u001b[90mDEBUG: Assembling route dictionary\u001b[0m\n"
      ]
     },
     "metadata": {},
     "output_type": "display_data"
    },
    {
     "data": {
      "text/html": [
       "<pre style=\"white-space:pre;overflow-x:auto;line-height:normal;font-family:Menlo,'DejaVu Sans Mono',consolas,'Courier New',monospace\"><span style=\"color: #808080; text-decoration-color: #808080\">DEBUG: Checking availability</span>\n",
       "</pre>\n"
      ],
      "text/plain": [
       "\u001b[90mDEBUG: Checking availability\u001b[0m\n"
      ]
     },
     "metadata": {},
     "output_type": "display_data"
    },
    {
     "data": {
      "application/vnd.jupyter.widget-view+json": {
       "model_id": "3fbd05fb92d1476b8b133a09c0ac8c22",
       "version_major": 2,
       "version_minor": 0
      },
      "text/plain": [
       "Output()"
      ]
     },
     "metadata": {},
     "output_type": "display_data"
    },
    {
     "data": {
      "text/html": [
       "<pre style=\"white-space:pre;overflow-x:auto;line-height:normal;font-family:Menlo,'DejaVu Sans Mono',consolas,'Courier New',monospace\"></pre>\n"
      ],
      "text/plain": []
     },
     "metadata": {},
     "output_type": "display_data"
    },
    {
     "data": {
      "text/html": [
       "<pre style=\"white-space:pre;overflow-x:auto;line-height:normal;font-family:Menlo,'DejaVu Sans Mono',consolas,'Courier New',monospace\"><span style=\"background-color: #d7af00; font-weight: bold\"> DISK </span> Writing <span style=\"color: #d7af00; text-decoration-color: #d7af00\">/opt/xchem-fragalysis-2/maxwin/2A_HIPPO/syndirella/P3_20241212_retro_1steps.csv</span>...\n",
       "</pre>\n"
      ],
      "text/plain": [
       "\u001b[1;7;38;5;178m DISK \u001b[0m Writing \u001b[38;5;178m/opt/xchem-fragalysis-2/maxwin/2A_HIPPO/syndirella/P3_20241212_retro_1steps.csv\u001b[0m...\n"
      ]
     },
     "metadata": {},
     "output_type": "display_data"
    },
    {
     "data": {
      "text/html": [
       "<pre style=\"white-space:pre;overflow-x:auto;line-height:normal;font-family:Menlo,'DejaVu Sans Mono',consolas,'Courier New',monospace\"><span style=\"background-color: #d7af00; font-weight: bold\"> DISK </span> Writing <span style=\"color: #d7af00; text-decoration-color: #d7af00\">/opt/xchem-fragalysis-2/maxwin/2A_HIPPO/syndirella/P3_20241212_retro.csv</span>...\n",
       "</pre>\n"
      ],
      "text/plain": [
       "\u001b[1;7;38;5;178m DISK \u001b[0m Writing \u001b[38;5;178m/opt/xchem-fragalysis-2/maxwin/2A_HIPPO/syndirella/P3_20241212_retro.csv\u001b[0m...\n"
      ]
     },
     "metadata": {},
     "output_type": "display_data"
    },
    {
     "data": {
      "text/html": [
       "<div>\n",
       "<style scoped>\n",
       "    .dataframe tbody tr th:only-of-type {\n",
       "        vertical-align: middle;\n",
       "    }\n",
       "\n",
       "    .dataframe tbody tr th {\n",
       "        vertical-align: top;\n",
       "    }\n",
       "\n",
       "    .dataframe thead th {\n",
       "        text-align: right;\n",
       "    }\n",
       "</style>\n",
       "<table border=\"1\" class=\"dataframe\">\n",
       "  <thead>\n",
       "    <tr style=\"text-align: right;\">\n",
       "      <th></th>\n",
       "      <th>target-names</th>\n",
       "      <th>no-steps</th>\n",
       "      <th>concentration-required-mM</th>\n",
       "      <th>amount-required-uL</th>\n",
       "      <th>batch-tag</th>\n",
       "      <th>reactant-1-1</th>\n",
       "      <th>reactant-2-1</th>\n",
       "      <th>reaction-product-smiles-1</th>\n",
       "      <th>reaction-name-1</th>\n",
       "      <th>reaction-recipe-1</th>\n",
       "      <th>reaction-groupby-column-1</th>\n",
       "    </tr>\n",
       "  </thead>\n",
       "  <tbody>\n",
       "    <tr>\n",
       "      <th>0</th>\n",
       "      <td>C122457</td>\n",
       "      <td>1</td>\n",
       "      <td>None</td>\n",
       "      <td>None</td>\n",
       "      <td>None</td>\n",
       "      <td>NC(=O)C1CCCNC1</td>\n",
       "      <td>COc1cccc(Cl)c1N</td>\n",
       "      <td>COc1cccc(Cl)c1NC(=O)N1CCCC(C(N)=O)C1</td>\n",
       "      <td>Formation_of_urea_from_two_amines</td>\n",
       "      <td>None</td>\n",
       "      <td>None</td>\n",
       "    </tr>\n",
       "    <tr>\n",
       "      <th>1</th>\n",
       "      <td>C122466</td>\n",
       "      <td>1</td>\n",
       "      <td>None</td>\n",
       "      <td>None</td>\n",
       "      <td>None</td>\n",
       "      <td>COc1ccccc1CC(=O)O</td>\n",
       "      <td>NC(=O)CC1CCNC1</td>\n",
       "      <td>COc1ccccc1CC(=O)N1CCC(CC(N)=O)C1</td>\n",
       "      <td>Amidation</td>\n",
       "      <td>None</td>\n",
       "      <td>None</td>\n",
       "    </tr>\n",
       "    <tr>\n",
       "      <th>2</th>\n",
       "      <td>C122467</td>\n",
       "      <td>1</td>\n",
       "      <td>None</td>\n",
       "      <td>None</td>\n",
       "      <td>None</td>\n",
       "      <td>NC(=O)C1CCCNC1</td>\n",
       "      <td>COc1ncccc1CC(=O)O</td>\n",
       "      <td>COc1ncccc1CC(=O)N1CCCC(C(N)=O)C1</td>\n",
       "      <td>Amidation</td>\n",
       "      <td>None</td>\n",
       "      <td>None</td>\n",
       "    </tr>\n",
       "    <tr>\n",
       "      <th>3</th>\n",
       "      <td>C122467</td>\n",
       "      <td>1</td>\n",
       "      <td>None</td>\n",
       "      <td>None</td>\n",
       "      <td>None</td>\n",
       "      <td>NC(=O)C1CCCNC1</td>\n",
       "      <td>COc1ncccc1CC(=O)O</td>\n",
       "      <td>COc1ncccc1CC(=O)N1CCCC(C(N)=O)C1</td>\n",
       "      <td>Amidation</td>\n",
       "      <td>None</td>\n",
       "      <td>None</td>\n",
       "    </tr>\n",
       "    <tr>\n",
       "      <th>4</th>\n",
       "      <td>C122467</td>\n",
       "      <td>1</td>\n",
       "      <td>None</td>\n",
       "      <td>None</td>\n",
       "      <td>None</td>\n",
       "      <td>NC(=O)C1CCCNC1</td>\n",
       "      <td>COc1ncccc1CC(=O)O</td>\n",
       "      <td>COc1ncccc1CC(=O)N1CCCC(C(N)=O)C1</td>\n",
       "      <td>Amidation</td>\n",
       "      <td>None</td>\n",
       "      <td>None</td>\n",
       "    </tr>\n",
       "    <tr>\n",
       "      <th>5</th>\n",
       "      <td>C122467</td>\n",
       "      <td>1</td>\n",
       "      <td>None</td>\n",
       "      <td>None</td>\n",
       "      <td>None</td>\n",
       "      <td>NC(=O)C1CCCNC1</td>\n",
       "      <td>COc1ncccc1CC(=O)O</td>\n",
       "      <td>COc1ncccc1CC(=O)N1CCCC(C(N)=O)C1</td>\n",
       "      <td>Amidation</td>\n",
       "      <td>None</td>\n",
       "      <td>None</td>\n",
       "    </tr>\n",
       "    <tr>\n",
       "      <th>6</th>\n",
       "      <td>C122496</td>\n",
       "      <td>1</td>\n",
       "      <td>None</td>\n",
       "      <td>None</td>\n",
       "      <td>None</td>\n",
       "      <td>NC(=O)C1CCCNC1</td>\n",
       "      <td>CSc1ccccc1CC(=O)O</td>\n",
       "      <td>CSc1ccccc1CC(=O)N1CCCC(C(N)=O)C1</td>\n",
       "      <td>Amidation</td>\n",
       "      <td>None</td>\n",
       "      <td>None</td>\n",
       "    </tr>\n",
       "    <tr>\n",
       "      <th>7</th>\n",
       "      <td>C122549</td>\n",
       "      <td>1</td>\n",
       "      <td>None</td>\n",
       "      <td>None</td>\n",
       "      <td>None</td>\n",
       "      <td>NC(=O)C1CCCNC1</td>\n",
       "      <td>CC1(C(=O)O)CCCCO1</td>\n",
       "      <td>CC1(C(=O)N2CCCC(C(N)=O)C2)CCCCO1</td>\n",
       "      <td>Amidation</td>\n",
       "      <td>None</td>\n",
       "      <td>None</td>\n",
       "    </tr>\n",
       "    <tr>\n",
       "      <th>8</th>\n",
       "      <td>C122550</td>\n",
       "      <td>1</td>\n",
       "      <td>None</td>\n",
       "      <td>None</td>\n",
       "      <td>None</td>\n",
       "      <td>NC(=O)C1CCCNC1</td>\n",
       "      <td>COc1ccc(Cl)cc1CC(=O)O</td>\n",
       "      <td>COc1ccc(Cl)cc1CC(=O)N1CCCC(C(N)=O)C1</td>\n",
       "      <td>Amidation</td>\n",
       "      <td>None</td>\n",
       "      <td>None</td>\n",
       "    </tr>\n",
       "    <tr>\n",
       "      <th>9</th>\n",
       "      <td>C122551</td>\n",
       "      <td>1</td>\n",
       "      <td>None</td>\n",
       "      <td>None</td>\n",
       "      <td>None</td>\n",
       "      <td>COc1ccccc1CC(=O)O</td>\n",
       "      <td>NC(=O)C1CNCC1C(F)(F)F</td>\n",
       "      <td>COc1ccccc1CC(=O)N1CC(C(N)=O)C(C(F)(F)F)C1</td>\n",
       "      <td>Amidation</td>\n",
       "      <td>None</td>\n",
       "      <td>None</td>\n",
       "    </tr>\n",
       "    <tr>\n",
       "      <th>10</th>\n",
       "      <td>C122552</td>\n",
       "      <td>1</td>\n",
       "      <td>None</td>\n",
       "      <td>None</td>\n",
       "      <td>None</td>\n",
       "      <td>NC(=O)C1CCCNC1</td>\n",
       "      <td>COc1ccc(C(F)(F)F)cc1CC(=O)O</td>\n",
       "      <td>COc1ccc(C(F)(F)F)cc1CC(=O)N1CCCC(C(N)=O)C1</td>\n",
       "      <td>Amidation</td>\n",
       "      <td>None</td>\n",
       "      <td>None</td>\n",
       "    </tr>\n",
       "    <tr>\n",
       "      <th>11</th>\n",
       "      <td>C122466</td>\n",
       "      <td>1</td>\n",
       "      <td>None</td>\n",
       "      <td>None</td>\n",
       "      <td>None</td>\n",
       "      <td>COc1ccccc1CC(=O)O</td>\n",
       "      <td>NC(=O)CC1CCNC1</td>\n",
       "      <td>COc1ccccc1CC(=O)N1CCC(CC(N)=O)C1</td>\n",
       "      <td>Amidation</td>\n",
       "      <td>None</td>\n",
       "      <td>None</td>\n",
       "    </tr>\n",
       "    <tr>\n",
       "      <th>12</th>\n",
       "      <td>C122457</td>\n",
       "      <td>1</td>\n",
       "      <td>None</td>\n",
       "      <td>None</td>\n",
       "      <td>None</td>\n",
       "      <td>NC(=O)C1CCCNC1</td>\n",
       "      <td>COc1cccc(Cl)c1N</td>\n",
       "      <td>COc1cccc(Cl)c1NC(=O)N1CCCC(C(N)=O)C1</td>\n",
       "      <td>Formation_of_urea_from_two_amines</td>\n",
       "      <td>None</td>\n",
       "      <td>None</td>\n",
       "    </tr>\n",
       "    <tr>\n",
       "      <th>13</th>\n",
       "      <td>C122553</td>\n",
       "      <td>1</td>\n",
       "      <td>None</td>\n",
       "      <td>None</td>\n",
       "      <td>None</td>\n",
       "      <td>NC(=O)C1CCCNC1</td>\n",
       "      <td>O=C(O)C1CCc2cccc(Br)c21</td>\n",
       "      <td>NC(=O)C1CCCN(C(=O)C2CCc3cccc(Br)c32)C1</td>\n",
       "      <td>Amidation</td>\n",
       "      <td>None</td>\n",
       "      <td>None</td>\n",
       "    </tr>\n",
       "    <tr>\n",
       "      <th>14</th>\n",
       "      <td>C122554</td>\n",
       "      <td>1</td>\n",
       "      <td>None</td>\n",
       "      <td>None</td>\n",
       "      <td>None</td>\n",
       "      <td>NC(=O)C1CCCNC1</td>\n",
       "      <td>COc1cc(Cl)ccc1CC(=O)O</td>\n",
       "      <td>COc1cc(Cl)ccc1CC(=O)N1CCCC(C(N)=O)C1</td>\n",
       "      <td>Amidation</td>\n",
       "      <td>None</td>\n",
       "      <td>None</td>\n",
       "    </tr>\n",
       "    <tr>\n",
       "      <th>15</th>\n",
       "      <td>C122555</td>\n",
       "      <td>1</td>\n",
       "      <td>None</td>\n",
       "      <td>None</td>\n",
       "      <td>None</td>\n",
       "      <td>NC(=O)C1CCCNC1</td>\n",
       "      <td>COc1ccccc1C(NC(C)=O)C(=O)O</td>\n",
       "      <td>COc1ccccc1C(NC(C)=O)C(=O)N1CCCC(C(N)=O)C1</td>\n",
       "      <td>Amidation</td>\n",
       "      <td>None</td>\n",
       "      <td>None</td>\n",
       "    </tr>\n",
       "    <tr>\n",
       "      <th>16</th>\n",
       "      <td>C122556</td>\n",
       "      <td>1</td>\n",
       "      <td>None</td>\n",
       "      <td>None</td>\n",
       "      <td>None</td>\n",
       "      <td>NC(=O)C1CCCNC1</td>\n",
       "      <td>O=C(O)C(Cc1ccc(F)cc1)c1ccccc1</td>\n",
       "      <td>NC(=O)C1CCCN(C(=O)C(Cc2ccc(F)cc2)c2ccccc2)C1</td>\n",
       "      <td>Amidation</td>\n",
       "      <td>None</td>\n",
       "      <td>None</td>\n",
       "    </tr>\n",
       "    <tr>\n",
       "      <th>17</th>\n",
       "      <td>C122557</td>\n",
       "      <td>1</td>\n",
       "      <td>None</td>\n",
       "      <td>None</td>\n",
       "      <td>None</td>\n",
       "      <td>NC(=O)C1CCCNC1</td>\n",
       "      <td>O=C(O)C1CCOc2ccc(Cl)cc21</td>\n",
       "      <td>NC(=O)C1CCCN(C(=O)C2CCOc3ccc(Cl)cc32)C1</td>\n",
       "      <td>Amidation</td>\n",
       "      <td>None</td>\n",
       "      <td>None</td>\n",
       "    </tr>\n",
       "    <tr>\n",
       "      <th>18</th>\n",
       "      <td>C122558</td>\n",
       "      <td>1</td>\n",
       "      <td>None</td>\n",
       "      <td>None</td>\n",
       "      <td>None</td>\n",
       "      <td>NC(=O)C1CCCNC1</td>\n",
       "      <td>Cc1cc(C)c(CC(=O)O)c(=O)[nH]1</td>\n",
       "      <td>Cc1cc(C)c(CC(=O)N2CCCC(C(N)=O)C2)c(=O)[nH]1</td>\n",
       "      <td>Amidation</td>\n",
       "      <td>None</td>\n",
       "      <td>None</td>\n",
       "    </tr>\n",
       "    <tr>\n",
       "      <th>19</th>\n",
       "      <td>C122559</td>\n",
       "      <td>1</td>\n",
       "      <td>None</td>\n",
       "      <td>None</td>\n",
       "      <td>None</td>\n",
       "      <td>NC(=O)C1CCCNC1</td>\n",
       "      <td>O=C(O)Cc1cnccc1C(F)(F)F</td>\n",
       "      <td>NC(=O)C1CCCN(C(=O)Cc2cnccc2C(F)(F)F)C1</td>\n",
       "      <td>Amidation</td>\n",
       "      <td>None</td>\n",
       "      <td>None</td>\n",
       "    </tr>\n",
       "    <tr>\n",
       "      <th>20</th>\n",
       "      <td>C122560</td>\n",
       "      <td>1</td>\n",
       "      <td>None</td>\n",
       "      <td>None</td>\n",
       "      <td>None</td>\n",
       "      <td>NC(=O)C1CCCNC1</td>\n",
       "      <td>COc1ccc(NS(C)(=O)=O)cc1N</td>\n",
       "      <td>COc1ccc(NS(C)(=O)=O)cc1NC(=O)N1CCCC(C(N)=O)C1</td>\n",
       "      <td>Formation_of_urea_from_two_amines</td>\n",
       "      <td>None</td>\n",
       "      <td>None</td>\n",
       "    </tr>\n",
       "    <tr>\n",
       "      <th>21</th>\n",
       "      <td>C122561</td>\n",
       "      <td>1</td>\n",
       "      <td>None</td>\n",
       "      <td>None</td>\n",
       "      <td>None</td>\n",
       "      <td>NC(=O)C1CCCNC1</td>\n",
       "      <td>Nc1ccccc1OCC(F)(F)F</td>\n",
       "      <td>NC(=O)C1CCCN(C(=O)Nc2ccccc2OCC(F)(F)F)C1</td>\n",
       "      <td>Formation_of_urea_from_two_amines</td>\n",
       "      <td>None</td>\n",
       "      <td>None</td>\n",
       "    </tr>\n",
       "    <tr>\n",
       "      <th>22</th>\n",
       "      <td>C122562</td>\n",
       "      <td>1</td>\n",
       "      <td>None</td>\n",
       "      <td>None</td>\n",
       "      <td>None</td>\n",
       "      <td>NC(=O)C1CCCNC1</td>\n",
       "      <td>CCS(=O)(=O)c1ccc(OC)c(N)c1</td>\n",
       "      <td>CCS(=O)(=O)c1ccc(OC)c(NC(=O)N2CCCC(C(N)=O)C2)c1</td>\n",
       "      <td>Formation_of_urea_from_two_amines</td>\n",
       "      <td>None</td>\n",
       "      <td>None</td>\n",
       "    </tr>\n",
       "    <tr>\n",
       "      <th>23</th>\n",
       "      <td>C122563</td>\n",
       "      <td>1</td>\n",
       "      <td>None</td>\n",
       "      <td>None</td>\n",
       "      <td>None</td>\n",
       "      <td>NC(=O)C1CCCNC1</td>\n",
       "      <td>O=C(O)Cc1ccccc1OC(F)F</td>\n",
       "      <td>NC(=O)C1CCCN(C(=O)Cc2ccccc2OC(F)F)C1</td>\n",
       "      <td>Amidation</td>\n",
       "      <td>None</td>\n",
       "      <td>None</td>\n",
       "    </tr>\n",
       "    <tr>\n",
       "      <th>24</th>\n",
       "      <td>C122564</td>\n",
       "      <td>1</td>\n",
       "      <td>None</td>\n",
       "      <td>None</td>\n",
       "      <td>None</td>\n",
       "      <td>NC(=O)C1CCCNC1</td>\n",
       "      <td>N#CCc1ccccc1CC(=O)O</td>\n",
       "      <td>N#CCc1ccccc1CC(=O)N1CCCC(C(N)=O)C1</td>\n",
       "      <td>Amidation</td>\n",
       "      <td>None</td>\n",
       "      <td>None</td>\n",
       "    </tr>\n",
       "    <tr>\n",
       "      <th>25</th>\n",
       "      <td>C122565</td>\n",
       "      <td>1</td>\n",
       "      <td>None</td>\n",
       "      <td>None</td>\n",
       "      <td>None</td>\n",
       "      <td>N</td>\n",
       "      <td>O=C(O)C1CCC(=O)N(Cc2cccc3c2OCC3)C1</td>\n",
       "      <td>NC(=O)C1CCC(=O)N(Cc2cccc3c2OCC3)C1</td>\n",
       "      <td>Amidation</td>\n",
       "      <td>None</td>\n",
       "      <td>None</td>\n",
       "    </tr>\n",
       "    <tr>\n",
       "      <th>26</th>\n",
       "      <td>C122566</td>\n",
       "      <td>1</td>\n",
       "      <td>None</td>\n",
       "      <td>None</td>\n",
       "      <td>None</td>\n",
       "      <td>NC(=O)C1CCCNC1</td>\n",
       "      <td>CCc1ccccc1CC(=O)O</td>\n",
       "      <td>CCc1ccccc1CC(=O)N1CCCC(C(N)=O)C1</td>\n",
       "      <td>Amidation</td>\n",
       "      <td>None</td>\n",
       "      <td>None</td>\n",
       "    </tr>\n",
       "    <tr>\n",
       "      <th>27</th>\n",
       "      <td>C122567</td>\n",
       "      <td>1</td>\n",
       "      <td>None</td>\n",
       "      <td>None</td>\n",
       "      <td>None</td>\n",
       "      <td>NC(=O)C1CCCNC1</td>\n",
       "      <td>Cc1ncccc1CC(=O)O</td>\n",
       "      <td>Cc1ncccc1CC(=O)N1CCCC(C(N)=O)C1</td>\n",
       "      <td>Amidation</td>\n",
       "      <td>None</td>\n",
       "      <td>None</td>\n",
       "    </tr>\n",
       "    <tr>\n",
       "      <th>28</th>\n",
       "      <td>C122568</td>\n",
       "      <td>1</td>\n",
       "      <td>None</td>\n",
       "      <td>None</td>\n",
       "      <td>None</td>\n",
       "      <td>NC(=O)C1CCCNC1</td>\n",
       "      <td>CSc1cccc(CC(=O)O)c1</td>\n",
       "      <td>CSc1cccc(CC(=O)N2CCCC(C(N)=O)C2)c1</td>\n",
       "      <td>Amidation</td>\n",
       "      <td>None</td>\n",
       "      <td>None</td>\n",
       "    </tr>\n",
       "    <tr>\n",
       "      <th>29</th>\n",
       "      <td>C122569</td>\n",
       "      <td>1</td>\n",
       "      <td>None</td>\n",
       "      <td>None</td>\n",
       "      <td>None</td>\n",
       "      <td>NC(=O)C1CCCNC1</td>\n",
       "      <td>O=C(O)Cc1cccc(Cl)c1Cl</td>\n",
       "      <td>NC(=O)C1CCCN(C(=O)Cc2cccc(Cl)c2Cl)C1</td>\n",
       "      <td>Amidation</td>\n",
       "      <td>None</td>\n",
       "      <td>None</td>\n",
       "    </tr>\n",
       "    <tr>\n",
       "      <th>30</th>\n",
       "      <td>C122467</td>\n",
       "      <td>1</td>\n",
       "      <td>None</td>\n",
       "      <td>None</td>\n",
       "      <td>None</td>\n",
       "      <td>NC(=O)C1CCCNC1</td>\n",
       "      <td>COc1ncccc1CC(=O)O</td>\n",
       "      <td>COc1ncccc1CC(=O)N1CCCC(C(N)=O)C1</td>\n",
       "      <td>Amidation</td>\n",
       "      <td>None</td>\n",
       "      <td>None</td>\n",
       "    </tr>\n",
       "    <tr>\n",
       "      <th>31</th>\n",
       "      <td>C122570</td>\n",
       "      <td>1</td>\n",
       "      <td>None</td>\n",
       "      <td>None</td>\n",
       "      <td>None</td>\n",
       "      <td>NC(=O)C1CCCNC1</td>\n",
       "      <td>O=C(O)Cc1cccc2c1OCCO2</td>\n",
       "      <td>NC(=O)C1CCCN(C(=O)Cc2cccc3c2OCCO3)C1</td>\n",
       "      <td>Amidation</td>\n",
       "      <td>None</td>\n",
       "      <td>None</td>\n",
       "    </tr>\n",
       "    <tr>\n",
       "      <th>32</th>\n",
       "      <td>C122571</td>\n",
       "      <td>1</td>\n",
       "      <td>None</td>\n",
       "      <td>None</td>\n",
       "      <td>None</td>\n",
       "      <td>NC(=O)C1CCCNC1</td>\n",
       "      <td>O=C(O)Cc1cccnc1O</td>\n",
       "      <td>NC(=O)C1CCCN(C(=O)Cc2cccnc2O)C1</td>\n",
       "      <td>Amidation</td>\n",
       "      <td>None</td>\n",
       "      <td>None</td>\n",
       "    </tr>\n",
       "    <tr>\n",
       "      <th>33</th>\n",
       "      <td>C122572</td>\n",
       "      <td>1</td>\n",
       "      <td>None</td>\n",
       "      <td>None</td>\n",
       "      <td>None</td>\n",
       "      <td>NC(=O)C1CCCNC1</td>\n",
       "      <td>O=C(O)Cc1cc(C(F)(F)F)ccc1C(F)(F)F</td>\n",
       "      <td>NC(=O)C1CCCN(C(=O)Cc2cc(C(F)(F)F)ccc2C(F)(F)F)C1</td>\n",
       "      <td>Amidation</td>\n",
       "      <td>None</td>\n",
       "      <td>None</td>\n",
       "    </tr>\n",
       "  </tbody>\n",
       "</table>\n",
       "</div>"
      ],
      "text/plain": [
       "   target-names  no-steps concentration-required-mM amount-required-uL  \\\n",
       "0       C122457         1                      None               None   \n",
       "1       C122466         1                      None               None   \n",
       "2       C122467         1                      None               None   \n",
       "3       C122467         1                      None               None   \n",
       "4       C122467         1                      None               None   \n",
       "5       C122467         1                      None               None   \n",
       "6       C122496         1                      None               None   \n",
       "7       C122549         1                      None               None   \n",
       "8       C122550         1                      None               None   \n",
       "9       C122551         1                      None               None   \n",
       "10      C122552         1                      None               None   \n",
       "11      C122466         1                      None               None   \n",
       "12      C122457         1                      None               None   \n",
       "13      C122553         1                      None               None   \n",
       "14      C122554         1                      None               None   \n",
       "15      C122555         1                      None               None   \n",
       "16      C122556         1                      None               None   \n",
       "17      C122557         1                      None               None   \n",
       "18      C122558         1                      None               None   \n",
       "19      C122559         1                      None               None   \n",
       "20      C122560         1                      None               None   \n",
       "21      C122561         1                      None               None   \n",
       "22      C122562         1                      None               None   \n",
       "23      C122563         1                      None               None   \n",
       "24      C122564         1                      None               None   \n",
       "25      C122565         1                      None               None   \n",
       "26      C122566         1                      None               None   \n",
       "27      C122567         1                      None               None   \n",
       "28      C122568         1                      None               None   \n",
       "29      C122569         1                      None               None   \n",
       "30      C122467         1                      None               None   \n",
       "31      C122570         1                      None               None   \n",
       "32      C122571         1                      None               None   \n",
       "33      C122572         1                      None               None   \n",
       "\n",
       "   batch-tag       reactant-1-1                        reactant-2-1  \\\n",
       "0       None     NC(=O)C1CCCNC1                     COc1cccc(Cl)c1N   \n",
       "1       None  COc1ccccc1CC(=O)O                      NC(=O)CC1CCNC1   \n",
       "2       None     NC(=O)C1CCCNC1                   COc1ncccc1CC(=O)O   \n",
       "3       None     NC(=O)C1CCCNC1                   COc1ncccc1CC(=O)O   \n",
       "4       None     NC(=O)C1CCCNC1                   COc1ncccc1CC(=O)O   \n",
       "5       None     NC(=O)C1CCCNC1                   COc1ncccc1CC(=O)O   \n",
       "6       None     NC(=O)C1CCCNC1                   CSc1ccccc1CC(=O)O   \n",
       "7       None     NC(=O)C1CCCNC1                   CC1(C(=O)O)CCCCO1   \n",
       "8       None     NC(=O)C1CCCNC1               COc1ccc(Cl)cc1CC(=O)O   \n",
       "9       None  COc1ccccc1CC(=O)O               NC(=O)C1CNCC1C(F)(F)F   \n",
       "10      None     NC(=O)C1CCCNC1         COc1ccc(C(F)(F)F)cc1CC(=O)O   \n",
       "11      None  COc1ccccc1CC(=O)O                      NC(=O)CC1CCNC1   \n",
       "12      None     NC(=O)C1CCCNC1                     COc1cccc(Cl)c1N   \n",
       "13      None     NC(=O)C1CCCNC1             O=C(O)C1CCc2cccc(Br)c21   \n",
       "14      None     NC(=O)C1CCCNC1               COc1cc(Cl)ccc1CC(=O)O   \n",
       "15      None     NC(=O)C1CCCNC1          COc1ccccc1C(NC(C)=O)C(=O)O   \n",
       "16      None     NC(=O)C1CCCNC1       O=C(O)C(Cc1ccc(F)cc1)c1ccccc1   \n",
       "17      None     NC(=O)C1CCCNC1            O=C(O)C1CCOc2ccc(Cl)cc21   \n",
       "18      None     NC(=O)C1CCCNC1        Cc1cc(C)c(CC(=O)O)c(=O)[nH]1   \n",
       "19      None     NC(=O)C1CCCNC1             O=C(O)Cc1cnccc1C(F)(F)F   \n",
       "20      None     NC(=O)C1CCCNC1            COc1ccc(NS(C)(=O)=O)cc1N   \n",
       "21      None     NC(=O)C1CCCNC1                 Nc1ccccc1OCC(F)(F)F   \n",
       "22      None     NC(=O)C1CCCNC1          CCS(=O)(=O)c1ccc(OC)c(N)c1   \n",
       "23      None     NC(=O)C1CCCNC1               O=C(O)Cc1ccccc1OC(F)F   \n",
       "24      None     NC(=O)C1CCCNC1                 N#CCc1ccccc1CC(=O)O   \n",
       "25      None                  N  O=C(O)C1CCC(=O)N(Cc2cccc3c2OCC3)C1   \n",
       "26      None     NC(=O)C1CCCNC1                   CCc1ccccc1CC(=O)O   \n",
       "27      None     NC(=O)C1CCCNC1                    Cc1ncccc1CC(=O)O   \n",
       "28      None     NC(=O)C1CCCNC1                 CSc1cccc(CC(=O)O)c1   \n",
       "29      None     NC(=O)C1CCCNC1               O=C(O)Cc1cccc(Cl)c1Cl   \n",
       "30      None     NC(=O)C1CCCNC1                   COc1ncccc1CC(=O)O   \n",
       "31      None     NC(=O)C1CCCNC1               O=C(O)Cc1cccc2c1OCCO2   \n",
       "32      None     NC(=O)C1CCCNC1                    O=C(O)Cc1cccnc1O   \n",
       "33      None     NC(=O)C1CCCNC1   O=C(O)Cc1cc(C(F)(F)F)ccc1C(F)(F)F   \n",
       "\n",
       "                           reaction-product-smiles-1  \\\n",
       "0               COc1cccc(Cl)c1NC(=O)N1CCCC(C(N)=O)C1   \n",
       "1                   COc1ccccc1CC(=O)N1CCC(CC(N)=O)C1   \n",
       "2                   COc1ncccc1CC(=O)N1CCCC(C(N)=O)C1   \n",
       "3                   COc1ncccc1CC(=O)N1CCCC(C(N)=O)C1   \n",
       "4                   COc1ncccc1CC(=O)N1CCCC(C(N)=O)C1   \n",
       "5                   COc1ncccc1CC(=O)N1CCCC(C(N)=O)C1   \n",
       "6                   CSc1ccccc1CC(=O)N1CCCC(C(N)=O)C1   \n",
       "7                   CC1(C(=O)N2CCCC(C(N)=O)C2)CCCCO1   \n",
       "8               COc1ccc(Cl)cc1CC(=O)N1CCCC(C(N)=O)C1   \n",
       "9          COc1ccccc1CC(=O)N1CC(C(N)=O)C(C(F)(F)F)C1   \n",
       "10        COc1ccc(C(F)(F)F)cc1CC(=O)N1CCCC(C(N)=O)C1   \n",
       "11                  COc1ccccc1CC(=O)N1CCC(CC(N)=O)C1   \n",
       "12              COc1cccc(Cl)c1NC(=O)N1CCCC(C(N)=O)C1   \n",
       "13            NC(=O)C1CCCN(C(=O)C2CCc3cccc(Br)c32)C1   \n",
       "14              COc1cc(Cl)ccc1CC(=O)N1CCCC(C(N)=O)C1   \n",
       "15         COc1ccccc1C(NC(C)=O)C(=O)N1CCCC(C(N)=O)C1   \n",
       "16      NC(=O)C1CCCN(C(=O)C(Cc2ccc(F)cc2)c2ccccc2)C1   \n",
       "17           NC(=O)C1CCCN(C(=O)C2CCOc3ccc(Cl)cc32)C1   \n",
       "18       Cc1cc(C)c(CC(=O)N2CCCC(C(N)=O)C2)c(=O)[nH]1   \n",
       "19            NC(=O)C1CCCN(C(=O)Cc2cnccc2C(F)(F)F)C1   \n",
       "20     COc1ccc(NS(C)(=O)=O)cc1NC(=O)N1CCCC(C(N)=O)C1   \n",
       "21          NC(=O)C1CCCN(C(=O)Nc2ccccc2OCC(F)(F)F)C1   \n",
       "22   CCS(=O)(=O)c1ccc(OC)c(NC(=O)N2CCCC(C(N)=O)C2)c1   \n",
       "23              NC(=O)C1CCCN(C(=O)Cc2ccccc2OC(F)F)C1   \n",
       "24                N#CCc1ccccc1CC(=O)N1CCCC(C(N)=O)C1   \n",
       "25                NC(=O)C1CCC(=O)N(Cc2cccc3c2OCC3)C1   \n",
       "26                  CCc1ccccc1CC(=O)N1CCCC(C(N)=O)C1   \n",
       "27                   Cc1ncccc1CC(=O)N1CCCC(C(N)=O)C1   \n",
       "28                CSc1cccc(CC(=O)N2CCCC(C(N)=O)C2)c1   \n",
       "29              NC(=O)C1CCCN(C(=O)Cc2cccc(Cl)c2Cl)C1   \n",
       "30                  COc1ncccc1CC(=O)N1CCCC(C(N)=O)C1   \n",
       "31              NC(=O)C1CCCN(C(=O)Cc2cccc3c2OCCO3)C1   \n",
       "32                   NC(=O)C1CCCN(C(=O)Cc2cccnc2O)C1   \n",
       "33  NC(=O)C1CCCN(C(=O)Cc2cc(C(F)(F)F)ccc2C(F)(F)F)C1   \n",
       "\n",
       "                      reaction-name-1 reaction-recipe-1  \\\n",
       "0   Formation_of_urea_from_two_amines              None   \n",
       "1                           Amidation              None   \n",
       "2                           Amidation              None   \n",
       "3                           Amidation              None   \n",
       "4                           Amidation              None   \n",
       "5                           Amidation              None   \n",
       "6                           Amidation              None   \n",
       "7                           Amidation              None   \n",
       "8                           Amidation              None   \n",
       "9                           Amidation              None   \n",
       "10                          Amidation              None   \n",
       "11                          Amidation              None   \n",
       "12  Formation_of_urea_from_two_amines              None   \n",
       "13                          Amidation              None   \n",
       "14                          Amidation              None   \n",
       "15                          Amidation              None   \n",
       "16                          Amidation              None   \n",
       "17                          Amidation              None   \n",
       "18                          Amidation              None   \n",
       "19                          Amidation              None   \n",
       "20  Formation_of_urea_from_two_amines              None   \n",
       "21  Formation_of_urea_from_two_amines              None   \n",
       "22  Formation_of_urea_from_two_amines              None   \n",
       "23                          Amidation              None   \n",
       "24                          Amidation              None   \n",
       "25                          Amidation              None   \n",
       "26                          Amidation              None   \n",
       "27                          Amidation              None   \n",
       "28                          Amidation              None   \n",
       "29                          Amidation              None   \n",
       "30                          Amidation              None   \n",
       "31                          Amidation              None   \n",
       "32                          Amidation              None   \n",
       "33                          Amidation              None   \n",
       "\n",
       "   reaction-groupby-column-1  \n",
       "0                       None  \n",
       "1                       None  \n",
       "2                       None  \n",
       "3                       None  \n",
       "4                       None  \n",
       "5                       None  \n",
       "6                       None  \n",
       "7                       None  \n",
       "8                       None  \n",
       "9                       None  \n",
       "10                      None  \n",
       "11                      None  \n",
       "12                      None  \n",
       "13                      None  \n",
       "14                      None  \n",
       "15                      None  \n",
       "16                      None  \n",
       "17                      None  \n",
       "18                      None  \n",
       "19                      None  \n",
       "20                      None  \n",
       "21                      None  \n",
       "22                      None  \n",
       "23                      None  \n",
       "24                      None  \n",
       "25                      None  \n",
       "26                      None  \n",
       "27                      None  \n",
       "28                      None  \n",
       "29                      None  \n",
       "30                      None  \n",
       "31                      None  \n",
       "32                      None  \n",
       "33                      None  "
      ]
     },
     "execution_count": 20,
     "metadata": {},
     "output_type": "execute_result"
    }
   ],
   "source": [
    "chosen.write_CAR_csv(\"P3_20241212_retro.csv\")"
   ]
  },
  {
   "cell_type": "code",
   "execution_count": 12,
   "id": "e323c148-1a2b-4ede-bd85-725d582ce19f",
   "metadata": {
    "scrolled": true
   },
   "outputs": [],
   "source": [
    "# chosen.write_json(\"P3_20241211_retro_ok_recipe.json\")"
   ]
  },
  {
   "cell_type": "code",
   "execution_count": null,
   "id": "f3b91e13-34ae-402d-b109-793ff4efedcf",
   "metadata": {},
   "outputs": [],
   "source": []
  }
 ],
 "metadata": {
  "kernelspec": {
   "display_name": "Python [conda env:base] *",
   "language": "python",
   "name": "conda-base-py"
  },
  "language_info": {
   "codemirror_mode": {
    "name": "ipython",
    "version": 3
   },
   "file_extension": ".py",
   "mimetype": "text/x-python",
   "name": "python",
   "nbconvert_exporter": "python",
   "pygments_lexer": "ipython3",
   "version": "3.11.6"
  }
 },
 "nbformat": 4,
 "nbformat_minor": 5
}
