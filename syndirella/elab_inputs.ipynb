{
 "cells": [
  {
   "cell_type": "code",
   "execution_count": 1,
   "id": "d5685e54-4b25-4869-9b41-817b19d7af7c",
   "metadata": {},
   "outputs": [],
   "source": [
    "%load_ext autoreload\n",
    "%autoreload 2\n",
    "import hippo\n",
    "from rdkit.Chem import PandasTools\n",
    "from pandas import DataFrame"
   ]
  },
  {
   "cell_type": "code",
   "execution_count": 2,
   "id": "e14722d2-d58f-4378-a3fb-b128ee367684",
   "metadata": {},
   "outputs": [
    {
     "data": {
      "text/html": [
       "<pre style=\"white-space:pre;overflow-x:auto;line-height:normal;font-family:Menlo,'DejaVu Sans Mono',consolas,'Courier New',monospace\"><span style=\"font-weight: bold\"> Creating HIPPO animal</span>\n",
       "</pre>\n"
      ],
      "text/plain": [
       "\u001b[1m Creating HIPPO animal\u001b[0m\n"
      ]
     },
     "metadata": {},
     "output_type": "display_data"
    },
    {
     "data": {
      "text/html": [
       "<pre style=\"white-space:pre;overflow-x:auto;line-height:normal;font-family:Menlo,'DejaVu Sans Mono',consolas,'Courier New',monospace\"><span style=\"color: #008080; text-decoration-color: #008080; font-weight: bold\">name</span> = <span style=\"color: #00d7af; text-decoration-color: #00d7af\">2A_i2_1</span>\n",
       "</pre>\n"
      ],
      "text/plain": [
       "\u001b[1;36mname\u001b[0m = \u001b[38;5;43m2A_i2_1\u001b[0m\n"
      ]
     },
     "metadata": {},
     "output_type": "display_data"
    },
    {
     "data": {
      "text/html": [
       "<pre style=\"white-space:pre;overflow-x:auto;line-height:normal;font-family:Menlo,'DejaVu Sans Mono',consolas,'Courier New',monospace\"><span style=\"color: #008080; text-decoration-color: #008080; font-weight: bold\">db_path</span> = <span style=\"color: #d7af00; text-decoration-color: #d7af00\">../hippo_iter2/2A_i2_1.sqlite</span>\n",
       "</pre>\n"
      ],
      "text/plain": [
       "\u001b[1;36mdb_path\u001b[0m = \u001b[38;5;178m../hippo_iter2/2A_i2_1.sqlite\u001b[0m\n"
      ]
     },
     "metadata": {},
     "output_type": "display_data"
    },
    {
     "data": {
      "text/html": [
       "<pre style=\"white-space:pre;overflow-x:auto;line-height:normal;font-family:Menlo,'DejaVu Sans Mono',consolas,'Courier New',monospace\"><span style=\"color: #808080; text-decoration-color: #808080\">DEBUG: hippo.Database.__init__()</span>\n",
       "</pre>\n"
      ],
      "text/plain": [
       "\u001b[90mDEBUG: hippo.Database.__init__()\u001b[0m\n"
      ]
     },
     "metadata": {},
     "output_type": "display_data"
    },
    {
     "data": {
      "text/html": [
       "<pre style=\"white-space:pre;overflow-x:auto;line-height:normal;font-family:Menlo,'DejaVu Sans Mono',consolas,'Courier New',monospace\"><span style=\"color: #808080; text-decoration-color: #808080\">DEBUG: Database.path = ../hippo_iter2/2A_i2_1.sqlite</span>\n",
       "</pre>\n"
      ],
      "text/plain": [
       "\u001b[90mDEBUG: Database.path = ../hippo_iter2/2A_i2_1.sqlite\u001b[0m\n"
      ]
     },
     "metadata": {},
     "output_type": "display_data"
    },
    {
     "data": {
      "text/html": [
       "<pre style=\"white-space:pre;overflow-x:auto;line-height:normal;font-family:Menlo,'DejaVu Sans Mono',consolas,'Courier New',monospace\"><span style=\"color: #808080; text-decoration-color: #808080\">DEBUG: hippo.Database.connect()</span>\n",
       "</pre>\n"
      ],
      "text/plain": [
       "\u001b[90mDEBUG: hippo.Database.connect()\u001b[0m\n"
      ]
     },
     "metadata": {},
     "output_type": "display_data"
    },
    {
     "data": {
      "text/html": [
       "<pre style=\"white-space:pre;overflow-x:auto;line-height:normal;font-family:Menlo,'DejaVu Sans Mono',consolas,'Courier New',monospace\"><span style=\"color: #808080; text-decoration-color: #808080\">DEBUG: sqlite3.version='2.6.0'</span>\n",
       "</pre>\n"
      ],
      "text/plain": [
       "\u001b[90mDEBUG: sqlite3.version='2.6.0'\u001b[0m\n"
      ]
     },
     "metadata": {},
     "output_type": "display_data"
    },
    {
     "data": {
      "text/html": [
       "<pre style=\"white-space:pre;overflow-x:auto;line-height:normal;font-family:Menlo,'DejaVu Sans Mono',consolas,'Courier New',monospace\"><span style=\"background-color: #008000; font-weight: bold\"> Success </span><span style=\"color: #008000; text-decoration-color: #008000; font-weight: bold\"> Database connected @</span><span style=\"color: #d7af00; text-decoration-color: #d7af00; font-weight: bold\"> ../hippo_iter2/2A_i2_1.sqlite!</span>\n",
       "</pre>\n"
      ],
      "text/plain": [
       "\u001b[1;7;32m Success \u001b[0m\u001b[1;32m Database connected @\u001b[0m\u001b[1;38;5;178m ../hippo_iter2/2A_i2_1.sqlite!\u001b[0m\n"
      ]
     },
     "metadata": {},
     "output_type": "display_data"
    },
    {
     "data": {
      "text/html": [
       "<pre style=\"white-space:pre;overflow-x:auto;line-height:normal;font-family:Menlo,'DejaVu Sans Mono',consolas,'Courier New',monospace\"><span style=\"background-color: #008000; font-weight: bold\"> Success </span><span style=\"color: #008000; text-decoration-color: #008000; font-weight: bold\"> Initialised animal</span><span style=\"color: #008080; text-decoration-color: #008080; font-weight: bold\"> HIPPO(\"2A_i2_1\")!</span>\n",
       "</pre>\n"
      ],
      "text/plain": [
       "\u001b[1;7;32m Success \u001b[0m\u001b[1;32m Initialised animal\u001b[0m\u001b[1;36m HIPPO(\"2A_i2_1\")!\u001b[0m\n"
      ]
     },
     "metadata": {},
     "output_type": "display_data"
    }
   ],
   "source": [
    "animal = hippo.HIPPO(\"2A_i2_1\", \"../hippo_iter2/2A_i2_1.sqlite\")"
   ]
  },
  {
   "cell_type": "code",
   "execution_count": 5,
   "id": "bb53d57e-abda-4e9e-b6bf-ba390007959f",
   "metadata": {
    "scrolled": true
   },
   "outputs": [
    {
     "data": {
      "text/html": [
       "<pre style=\"white-space:pre;overflow-x:auto;line-height:normal;font-family:Menlo,'DejaVu Sans Mono',consolas,'Courier New',monospace\"><span style=\"color: #008080; text-decoration-color: #008080; font-weight: bold\">0</span> <span style=\"color: #008080; text-decoration-color: #008080; font-weight: bold\">0</span> <span style=\"color: #008080; text-decoration-color: #008080; font-weight: bold\">0</span> Amidation <span style=\"font-weight: bold; text-decoration: underline\">C6 </span><span style=\"color: #008000; text-decoration-color: #008000; font-weight: bold; text-decoration: underline\">\"OHXYWSIWHXTWCT-UHFFFAOYSA-N\"</span>\n",
       "</pre>\n"
      ],
      "text/plain": [
       "\u001b[1;36m0\u001b[0m \u001b[1;36m0\u001b[0m \u001b[1;36m0\u001b[0m Amidation \u001b[1;4mC6 \u001b[0m\u001b[1;4;32m\"OHXYWSIWHXTWCT-UHFFFAOYSA-N\"\u001b[0m\n"
      ]
     },
     "metadata": {},
     "output_type": "display_data"
    },
    {
     "data": {
      "text/html": [
       "<pre style=\"white-space:pre;overflow-x:auto;line-height:normal;font-family:Menlo,'DejaVu Sans Mono',consolas,'Courier New',monospace\"><span style=\"background-color: #800000; font-weight: bold\"> ERROR </span><span style=\"color: #800000; text-decoration-color: #800000; font-weight: bold\"> No entry in quote with quote_compound=6!</span>\n",
       "</pre>\n"
      ],
      "text/plain": [
       "\u001b[1;7;31m ERROR \u001b[0m\u001b[1;31m No entry in quote with quote_compound=6!\u001b[0m\n"
      ]
     },
     "metadata": {},
     "output_type": "display_data"
    },
    {
     "data": {
      "text/html": [
       "<pre style=\"white-space:pre;overflow-x:auto;line-height:normal;font-family:Menlo,'DejaVu Sans Mono',consolas,'Courier New',monospace\"><span style=\"background-color: #008000; font-weight: bold\"> Success </span><span style=\"color: #008000; text-decoration-color: #008000; font-weight: bold\"> registered route 140861!</span>\n",
       "</pre>\n"
      ],
      "text/plain": [
       "\u001b[1;7;32m Success \u001b[0m\u001b[1;32m registered route 140861!\u001b[0m\n"
      ]
     },
     "metadata": {},
     "output_type": "display_data"
    },
    {
     "data": {
      "text/html": [
       "<pre style=\"white-space:pre;overflow-x:auto;line-height:normal;font-family:Menlo,'DejaVu Sans Mono',consolas,'Courier New',monospace\"><span style=\"color: #008080; text-decoration-color: #008080; font-weight: bold\">1</span> <span style=\"color: #008080; text-decoration-color: #008080; font-weight: bold\">0</span> <span style=\"color: #008080; text-decoration-color: #008080; font-weight: bold\">0</span> Amidation <span style=\"font-weight: bold; text-decoration: underline\">C97 </span><span style=\"color: #008000; text-decoration-color: #008000; font-weight: bold; text-decoration: underline\">\"DXESIOGIYNKDQX-UHFFFAOYSA-N\"</span>\n",
       "</pre>\n"
      ],
      "text/plain": [
       "\u001b[1;36m1\u001b[0m \u001b[1;36m0\u001b[0m \u001b[1;36m0\u001b[0m Amidation \u001b[1;4mC97 \u001b[0m\u001b[1;4;32m\"DXESIOGIYNKDQX-UHFFFAOYSA-N\"\u001b[0m\n"
      ]
     },
     "metadata": {},
     "output_type": "display_data"
    },
    {
     "data": {
      "text/html": [
       "<pre style=\"white-space:pre;overflow-x:auto;line-height:normal;font-family:Menlo,'DejaVu Sans Mono',consolas,'Courier New',monospace\"><span style=\"background-color: #800000; font-weight: bold\"> ERROR </span><span style=\"color: #800000; text-decoration-color: #800000; font-weight: bold\"> No entry in quote with quote_compound=97!</span>\n",
       "</pre>\n"
      ],
      "text/plain": [
       "\u001b[1;7;31m ERROR \u001b[0m\u001b[1;31m No entry in quote with quote_compound=97!\u001b[0m\n"
      ]
     },
     "metadata": {},
     "output_type": "display_data"
    },
    {
     "data": {
      "text/html": [
       "<pre style=\"white-space:pre;overflow-x:auto;line-height:normal;font-family:Menlo,'DejaVu Sans Mono',consolas,'Courier New',monospace\"><span style=\"background-color: #008000; font-weight: bold\"> Success </span><span style=\"color: #008000; text-decoration-color: #008000; font-weight: bold\"> registered route 140862!</span>\n",
       "</pre>\n"
      ],
      "text/plain": [
       "\u001b[1;7;32m Success \u001b[0m\u001b[1;32m registered route 140862!\u001b[0m\n"
      ]
     },
     "metadata": {},
     "output_type": "display_data"
    },
    {
     "data": {
      "text/html": [
       "<pre style=\"white-space:pre;overflow-x:auto;line-height:normal;font-family:Menlo,'DejaVu Sans Mono',consolas,'Courier New',monospace\"><span style=\"color: #008080; text-decoration-color: #008080; font-weight: bold\">2</span> <span style=\"color: #008080; text-decoration-color: #008080; font-weight: bold\">0</span> <span style=\"color: #008080; text-decoration-color: #008080; font-weight: bold\">0</span> Amidation <span style=\"font-weight: bold; text-decoration: underline\">C98 </span><span style=\"color: #008000; text-decoration-color: #008000; font-weight: bold; text-decoration: underline\">\"FCRASUWOKLJVQY-UHFFFAOYSA-N\"</span>\n",
       "</pre>\n"
      ],
      "text/plain": [
       "\u001b[1;36m2\u001b[0m \u001b[1;36m0\u001b[0m \u001b[1;36m0\u001b[0m Amidation \u001b[1;4mC98 \u001b[0m\u001b[1;4;32m\"FCRASUWOKLJVQY-UHFFFAOYSA-N\"\u001b[0m\n"
      ]
     },
     "metadata": {},
     "output_type": "display_data"
    },
    {
     "data": {
      "text/html": [
       "<pre style=\"white-space:pre;overflow-x:auto;line-height:normal;font-family:Menlo,'DejaVu Sans Mono',consolas,'Courier New',monospace\"><span style=\"background-color: #800000; font-weight: bold\"> ERROR </span><span style=\"color: #800000; text-decoration-color: #800000; font-weight: bold\"> No entry in quote with quote_compound=98!</span>\n",
       "</pre>\n"
      ],
      "text/plain": [
       "\u001b[1;7;31m ERROR \u001b[0m\u001b[1;31m No entry in quote with quote_compound=98!\u001b[0m\n"
      ]
     },
     "metadata": {},
     "output_type": "display_data"
    },
    {
     "data": {
      "text/html": [
       "<pre style=\"white-space:pre;overflow-x:auto;line-height:normal;font-family:Menlo,'DejaVu Sans Mono',consolas,'Courier New',monospace\"><span style=\"background-color: #008000; font-weight: bold\"> Success </span><span style=\"color: #008000; text-decoration-color: #008000; font-weight: bold\"> registered route 140863!</span>\n",
       "</pre>\n"
      ],
      "text/plain": [
       "\u001b[1;7;32m Success \u001b[0m\u001b[1;32m registered route 140863!\u001b[0m\n"
      ]
     },
     "metadata": {},
     "output_type": "display_data"
    },
    {
     "data": {
      "text/html": [
       "<pre style=\"white-space:pre;overflow-x:auto;line-height:normal;font-family:Menlo,'DejaVu Sans Mono',consolas,'Courier New',monospace\"><span style=\"color: #008080; text-decoration-color: #008080; font-weight: bold\">3</span> <span style=\"color: #008080; text-decoration-color: #008080; font-weight: bold\">0</span> <span style=\"color: #008080; text-decoration-color: #008080; font-weight: bold\">0</span> Amidation <span style=\"font-weight: bold; text-decoration: underline\">C99 </span><span style=\"color: #008000; text-decoration-color: #008000; font-weight: bold; text-decoration: underline\">\"JXKYXHWVMLLNCD-UHFFFAOYSA-N\"</span>\n",
       "</pre>\n"
      ],
      "text/plain": [
       "\u001b[1;36m3\u001b[0m \u001b[1;36m0\u001b[0m \u001b[1;36m0\u001b[0m Amidation \u001b[1;4mC99 \u001b[0m\u001b[1;4;32m\"JXKYXHWVMLLNCD-UHFFFAOYSA-N\"\u001b[0m\n"
      ]
     },
     "metadata": {},
     "output_type": "display_data"
    },
    {
     "data": {
      "text/html": [
       "<pre style=\"white-space:pre;overflow-x:auto;line-height:normal;font-family:Menlo,'DejaVu Sans Mono',consolas,'Courier New',monospace\"><span style=\"background-color: #800000; font-weight: bold\"> ERROR </span><span style=\"color: #800000; text-decoration-color: #800000; font-weight: bold\"> No entry in quote with quote_compound=99!</span>\n",
       "</pre>\n"
      ],
      "text/plain": [
       "\u001b[1;7;31m ERROR \u001b[0m\u001b[1;31m No entry in quote with quote_compound=99!\u001b[0m\n"
      ]
     },
     "metadata": {},
     "output_type": "display_data"
    },
    {
     "data": {
      "text/html": [
       "<pre style=\"white-space:pre;overflow-x:auto;line-height:normal;font-family:Menlo,'DejaVu Sans Mono',consolas,'Courier New',monospace\"><span style=\"background-color: #008000; font-weight: bold\"> Success </span><span style=\"color: #008000; text-decoration-color: #008000; font-weight: bold\"> registered route 140864!</span>\n",
       "</pre>\n"
      ],
      "text/plain": [
       "\u001b[1;7;32m Success \u001b[0m\u001b[1;32m registered route 140864!\u001b[0m\n"
      ]
     },
     "metadata": {},
     "output_type": "display_data"
    },
    {
     "data": {
      "text/html": [
       "<pre style=\"white-space:pre;overflow-x:auto;line-height:normal;font-family:Menlo,'DejaVu Sans Mono',consolas,'Courier New',monospace\"><span style=\"color: #008080; text-decoration-color: #008080; font-weight: bold\">4</span> <span style=\"color: #008080; text-decoration-color: #008080; font-weight: bold\">0</span> <span style=\"color: #008080; text-decoration-color: #008080; font-weight: bold\">0</span> Amidation <span style=\"font-weight: bold; text-decoration: underline\">C100 </span><span style=\"color: #008000; text-decoration-color: #008000; font-weight: bold; text-decoration: underline\">\"LJCPETRSDJEEFS-UHFFFAOYSA-N\"</span>\n",
       "</pre>\n"
      ],
      "text/plain": [
       "\u001b[1;36m4\u001b[0m \u001b[1;36m0\u001b[0m \u001b[1;36m0\u001b[0m Amidation \u001b[1;4mC100 \u001b[0m\u001b[1;4;32m\"LJCPETRSDJEEFS-UHFFFAOYSA-N\"\u001b[0m\n"
      ]
     },
     "metadata": {},
     "output_type": "display_data"
    },
    {
     "data": {
      "text/html": [
       "<pre style=\"white-space:pre;overflow-x:auto;line-height:normal;font-family:Menlo,'DejaVu Sans Mono',consolas,'Courier New',monospace\"><span style=\"background-color: #800000; font-weight: bold\"> ERROR </span><span style=\"color: #800000; text-decoration-color: #800000; font-weight: bold\"> No entry in quote with quote_compound=100!</span>\n",
       "</pre>\n"
      ],
      "text/plain": [
       "\u001b[1;7;31m ERROR \u001b[0m\u001b[1;31m No entry in quote with quote_compound=100!\u001b[0m\n"
      ]
     },
     "metadata": {},
     "output_type": "display_data"
    },
    {
     "data": {
      "text/html": [
       "<pre style=\"white-space:pre;overflow-x:auto;line-height:normal;font-family:Menlo,'DejaVu Sans Mono',consolas,'Courier New',monospace\"><span style=\"background-color: #008000; font-weight: bold\"> Success </span><span style=\"color: #008000; text-decoration-color: #008000; font-weight: bold\"> registered route 140865!</span>\n",
       "</pre>\n"
      ],
      "text/plain": [
       "\u001b[1;7;32m Success \u001b[0m\u001b[1;32m registered route 140865!\u001b[0m\n"
      ]
     },
     "metadata": {},
     "output_type": "display_data"
    },
    {
     "data": {
      "text/html": [
       "<pre style=\"white-space:pre;overflow-x:auto;line-height:normal;font-family:Menlo,'DejaVu Sans Mono',consolas,'Courier New',monospace\"><span style=\"color: #008080; text-decoration-color: #008080; font-weight: bold\">5</span> <span style=\"color: #008080; text-decoration-color: #008080; font-weight: bold\">0</span> <span style=\"color: #008080; text-decoration-color: #008080; font-weight: bold\">0</span> Amidation <span style=\"font-weight: bold; text-decoration: underline\">C101 </span><span style=\"color: #008000; text-decoration-color: #008000; font-weight: bold; text-decoration: underline\">\"GDGNASXSZYDGJM-UHFFFAOYSA-N\"</span>\n",
       "</pre>\n"
      ],
      "text/plain": [
       "\u001b[1;36m5\u001b[0m \u001b[1;36m0\u001b[0m \u001b[1;36m0\u001b[0m Amidation \u001b[1;4mC101 \u001b[0m\u001b[1;4;32m\"GDGNASXSZYDGJM-UHFFFAOYSA-N\"\u001b[0m\n"
      ]
     },
     "metadata": {},
     "output_type": "display_data"
    },
    {
     "data": {
      "text/html": [
       "<pre style=\"white-space:pre;overflow-x:auto;line-height:normal;font-family:Menlo,'DejaVu Sans Mono',consolas,'Courier New',monospace\"><span style=\"background-color: #800000; font-weight: bold\"> ERROR </span><span style=\"color: #800000; text-decoration-color: #800000; font-weight: bold\"> No entry in quote with quote_compound=101!</span>\n",
       "</pre>\n"
      ],
      "text/plain": [
       "\u001b[1;7;31m ERROR \u001b[0m\u001b[1;31m No entry in quote with quote_compound=101!\u001b[0m\n"
      ]
     },
     "metadata": {},
     "output_type": "display_data"
    },
    {
     "data": {
      "text/html": [
       "<pre style=\"white-space:pre;overflow-x:auto;line-height:normal;font-family:Menlo,'DejaVu Sans Mono',consolas,'Courier New',monospace\"><span style=\"background-color: #008000; font-weight: bold\"> Success </span><span style=\"color: #008000; text-decoration-color: #008000; font-weight: bold\"> registered route 140866!</span>\n",
       "</pre>\n"
      ],
      "text/plain": [
       "\u001b[1;7;32m Success \u001b[0m\u001b[1;32m registered route 140866!\u001b[0m\n"
      ]
     },
     "metadata": {},
     "output_type": "display_data"
    },
    {
     "data": {
      "text/html": [
       "<pre style=\"white-space:pre;overflow-x:auto;line-height:normal;font-family:Menlo,'DejaVu Sans Mono',consolas,'Courier New',monospace\"><span style=\"color: #008080; text-decoration-color: #008080; font-weight: bold\">6</span> <span style=\"color: #008080; text-decoration-color: #008080; font-weight: bold\">0</span> <span style=\"color: #008080; text-decoration-color: #008080; font-weight: bold\">0</span> Amidation <span style=\"font-weight: bold; text-decoration: underline\">C70 </span><span style=\"color: #008000; text-decoration-color: #008000; font-weight: bold; text-decoration: underline\">\"GVNXANNAMKHSRF-UHFFFAOYSA-N\"</span>\n",
       "</pre>\n"
      ],
      "text/plain": [
       "\u001b[1;36m6\u001b[0m \u001b[1;36m0\u001b[0m \u001b[1;36m0\u001b[0m Amidation \u001b[1;4mC70 \u001b[0m\u001b[1;4;32m\"GVNXANNAMKHSRF-UHFFFAOYSA-N\"\u001b[0m\n"
      ]
     },
     "metadata": {},
     "output_type": "display_data"
    },
    {
     "data": {
      "text/html": [
       "<pre style=\"white-space:pre;overflow-x:auto;line-height:normal;font-family:Menlo,'DejaVu Sans Mono',consolas,'Courier New',monospace\"><span style=\"background-color: #800000; font-weight: bold\"> ERROR </span><span style=\"color: #800000; text-decoration-color: #800000; font-weight: bold\"> No entry in quote with quote_compound=70!</span>\n",
       "</pre>\n"
      ],
      "text/plain": [
       "\u001b[1;7;31m ERROR \u001b[0m\u001b[1;31m No entry in quote with quote_compound=70!\u001b[0m\n"
      ]
     },
     "metadata": {},
     "output_type": "display_data"
    },
    {
     "data": {
      "text/html": [
       "<pre style=\"white-space:pre;overflow-x:auto;line-height:normal;font-family:Menlo,'DejaVu Sans Mono',consolas,'Courier New',monospace\"><span style=\"background-color: #008000; font-weight: bold\"> Success </span><span style=\"color: #008000; text-decoration-color: #008000; font-weight: bold\"> registered route 140867!</span>\n",
       "</pre>\n"
      ],
      "text/plain": [
       "\u001b[1;7;32m Success \u001b[0m\u001b[1;32m registered route 140867!\u001b[0m\n"
      ]
     },
     "metadata": {},
     "output_type": "display_data"
    },
    {
     "data": {
      "text/html": [
       "<pre style=\"white-space:pre;overflow-x:auto;line-height:normal;font-family:Menlo,'DejaVu Sans Mono',consolas,'Courier New',monospace\"><span style=\"color: #008080; text-decoration-color: #008080; font-weight: bold\">8</span> <span style=\"color: #008080; text-decoration-color: #008080; font-weight: bold\">4</span> <span style=\"color: #008080; text-decoration-color: #008080; font-weight: bold\">0</span> Buchwald-Hartwig_amidation_with_amide-like_nucleophile <span style=\"font-weight: bold; text-decoration: underline\">C103 </span><span style=\"color: #008000; text-decoration-color: #008000; font-weight: bold; text-decoration: underline\">\"GXPNSFDRGMRUJM-UHFFFAOYSA-N\"</span>\n",
       "</pre>\n"
      ],
      "text/plain": [
       "\u001b[1;36m8\u001b[0m \u001b[1;36m4\u001b[0m \u001b[1;36m0\u001b[0m Buchwald-Hartwig_amidation_with_amide-like_nucleophile \u001b[1;4mC103 \u001b[0m\u001b[1;4;32m\"GXPNSFDRGMRUJM-UHFFFAOYSA-N\"\u001b[0m\n"
      ]
     },
     "metadata": {},
     "output_type": "display_data"
    },
    {
     "data": {
      "text/html": [
       "<pre style=\"white-space:pre;overflow-x:auto;line-height:normal;font-family:Menlo,'DejaVu Sans Mono',consolas,'Courier New',monospace\"><span style=\"color: #008080; text-decoration-color: #008080; font-weight: bold\">9</span> <span style=\"color: #008080; text-decoration-color: #008080; font-weight: bold\">0</span> <span style=\"color: #008080; text-decoration-color: #008080; font-weight: bold\">0</span> Amidation <span style=\"font-weight: bold; text-decoration: underline\">C104 </span><span style=\"color: #008000; text-decoration-color: #008000; font-weight: bold; text-decoration: underline\">\"ONGQCMNCDUWDOR-UHFFFAOYSA-N\"</span>\n",
       "</pre>\n"
      ],
      "text/plain": [
       "\u001b[1;36m9\u001b[0m \u001b[1;36m0\u001b[0m \u001b[1;36m0\u001b[0m Amidation \u001b[1;4mC104 \u001b[0m\u001b[1;4;32m\"ONGQCMNCDUWDOR-UHFFFAOYSA-N\"\u001b[0m\n"
      ]
     },
     "metadata": {},
     "output_type": "display_data"
    },
    {
     "data": {
      "text/html": [
       "<pre style=\"white-space:pre;overflow-x:auto;line-height:normal;font-family:Menlo,'DejaVu Sans Mono',consolas,'Courier New',monospace\"><span style=\"background-color: #800000; font-weight: bold\"> ERROR </span><span style=\"color: #800000; text-decoration-color: #800000; font-weight: bold\"> No entry in quote with quote_compound=104!</span>\n",
       "</pre>\n"
      ],
      "text/plain": [
       "\u001b[1;7;31m ERROR \u001b[0m\u001b[1;31m No entry in quote with quote_compound=104!\u001b[0m\n"
      ]
     },
     "metadata": {},
     "output_type": "display_data"
    },
    {
     "data": {
      "text/html": [
       "<pre style=\"white-space:pre;overflow-x:auto;line-height:normal;font-family:Menlo,'DejaVu Sans Mono',consolas,'Courier New',monospace\"><span style=\"background-color: #008000; font-weight: bold\"> Success </span><span style=\"color: #008000; text-decoration-color: #008000; font-weight: bold\"> registered route 140868!</span>\n",
       "</pre>\n"
      ],
      "text/plain": [
       "\u001b[1;7;32m Success \u001b[0m\u001b[1;32m registered route 140868!\u001b[0m\n"
      ]
     },
     "metadata": {},
     "output_type": "display_data"
    },
    {
     "data": {
      "text/html": [
       "<pre style=\"white-space:pre;overflow-x:auto;line-height:normal;font-family:Menlo,'DejaVu Sans Mono',consolas,'Courier New',monospace\"><span style=\"color: #008080; text-decoration-color: #008080; font-weight: bold\">10</span> <span style=\"color: #008080; text-decoration-color: #008080; font-weight: bold\">0</span> <span style=\"color: #008080; text-decoration-color: #008080; font-weight: bold\">0</span> Amidation <span style=\"font-weight: bold; text-decoration: underline\">C105 </span><span style=\"color: #008000; text-decoration-color: #008000; font-weight: bold; text-decoration: underline\">\"FWZMGOFFERWMMX-UHFFFAOYSA-N\"</span>\n",
       "</pre>\n"
      ],
      "text/plain": [
       "\u001b[1;36m10\u001b[0m \u001b[1;36m0\u001b[0m \u001b[1;36m0\u001b[0m Amidation \u001b[1;4mC105 \u001b[0m\u001b[1;4;32m\"FWZMGOFFERWMMX-UHFFFAOYSA-N\"\u001b[0m\n"
      ]
     },
     "metadata": {},
     "output_type": "display_data"
    },
    {
     "data": {
      "text/html": [
       "<pre style=\"white-space:pre;overflow-x:auto;line-height:normal;font-family:Menlo,'DejaVu Sans Mono',consolas,'Courier New',monospace\"><span style=\"background-color: #800000; font-weight: bold\"> ERROR </span><span style=\"color: #800000; text-decoration-color: #800000; font-weight: bold\"> No entry in quote with quote_compound=105!</span>\n",
       "</pre>\n"
      ],
      "text/plain": [
       "\u001b[1;7;31m ERROR \u001b[0m\u001b[1;31m No entry in quote with quote_compound=105!\u001b[0m\n"
      ]
     },
     "metadata": {},
     "output_type": "display_data"
    },
    {
     "data": {
      "text/html": [
       "<pre style=\"white-space:pre;overflow-x:auto;line-height:normal;font-family:Menlo,'DejaVu Sans Mono',consolas,'Courier New',monospace\"><span style=\"background-color: #008000; font-weight: bold\"> Success </span><span style=\"color: #008000; text-decoration-color: #008000; font-weight: bold\"> registered route 140869!</span>\n",
       "</pre>\n"
      ],
      "text/plain": [
       "\u001b[1;7;32m Success \u001b[0m\u001b[1;32m registered route 140869!\u001b[0m\n"
      ]
     },
     "metadata": {},
     "output_type": "display_data"
    },
    {
     "data": {
      "text/html": [
       "<pre style=\"white-space:pre;overflow-x:auto;line-height:normal;font-family:Menlo,'DejaVu Sans Mono',consolas,'Courier New',monospace\"><span style=\"color: #008080; text-decoration-color: #008080; font-weight: bold\">11</span> <span style=\"color: #008080; text-decoration-color: #008080; font-weight: bold\">0</span> <span style=\"color: #008080; text-decoration-color: #008080; font-weight: bold\">0</span> Amidation <span style=\"font-weight: bold; text-decoration: underline\">C106 </span><span style=\"color: #008000; text-decoration-color: #008000; font-weight: bold; text-decoration: underline\">\"PUSSAGYROFRULS-UHFFFAOYSA-N\"</span>\n",
       "</pre>\n"
      ],
      "text/plain": [
       "\u001b[1;36m11\u001b[0m \u001b[1;36m0\u001b[0m \u001b[1;36m0\u001b[0m Amidation \u001b[1;4mC106 \u001b[0m\u001b[1;4;32m\"PUSSAGYROFRULS-UHFFFAOYSA-N\"\u001b[0m\n"
      ]
     },
     "metadata": {},
     "output_type": "display_data"
    },
    {
     "data": {
      "text/html": [
       "<pre style=\"white-space:pre;overflow-x:auto;line-height:normal;font-family:Menlo,'DejaVu Sans Mono',consolas,'Courier New',monospace\"><span style=\"background-color: #800000; font-weight: bold\"> ERROR </span><span style=\"color: #800000; text-decoration-color: #800000; font-weight: bold\"> No entry in quote with quote_compound=106!</span>\n",
       "</pre>\n"
      ],
      "text/plain": [
       "\u001b[1;7;31m ERROR \u001b[0m\u001b[1;31m No entry in quote with quote_compound=106!\u001b[0m\n"
      ]
     },
     "metadata": {},
     "output_type": "display_data"
    },
    {
     "data": {
      "text/html": [
       "<pre style=\"white-space:pre;overflow-x:auto;line-height:normal;font-family:Menlo,'DejaVu Sans Mono',consolas,'Courier New',monospace\"><span style=\"background-color: #008000; font-weight: bold\"> Success </span><span style=\"color: #008000; text-decoration-color: #008000; font-weight: bold\"> registered route 140870!</span>\n",
       "</pre>\n"
      ],
      "text/plain": [
       "\u001b[1;7;32m Success \u001b[0m\u001b[1;32m registered route 140870!\u001b[0m\n"
      ]
     },
     "metadata": {},
     "output_type": "display_data"
    },
    {
     "data": {
      "text/html": [
       "<pre style=\"white-space:pre;overflow-x:auto;line-height:normal;font-family:Menlo,'DejaVu Sans Mono',consolas,'Courier New',monospace\"><span style=\"color: #008080; text-decoration-color: #008080; font-weight: bold\">12</span> <span style=\"color: #008080; text-decoration-color: #008080; font-weight: bold\">0</span> <span style=\"color: #008080; text-decoration-color: #008080; font-weight: bold\">0</span> Amidation <span style=\"font-weight: bold; text-decoration: underline\">C107 </span><span style=\"color: #008000; text-decoration-color: #008000; font-weight: bold; text-decoration: underline\">\"RYIGIXMEYULONZ-UHFFFAOYSA-N\"</span>\n",
       "</pre>\n"
      ],
      "text/plain": [
       "\u001b[1;36m12\u001b[0m \u001b[1;36m0\u001b[0m \u001b[1;36m0\u001b[0m Amidation \u001b[1;4mC107 \u001b[0m\u001b[1;4;32m\"RYIGIXMEYULONZ-UHFFFAOYSA-N\"\u001b[0m\n"
      ]
     },
     "metadata": {},
     "output_type": "display_data"
    },
    {
     "data": {
      "text/html": [
       "<pre style=\"white-space:pre;overflow-x:auto;line-height:normal;font-family:Menlo,'DejaVu Sans Mono',consolas,'Courier New',monospace\"><span style=\"background-color: #800000; font-weight: bold\"> ERROR </span><span style=\"color: #800000; text-decoration-color: #800000; font-weight: bold\"> No entry in quote with quote_compound=107!</span>\n",
       "</pre>\n"
      ],
      "text/plain": [
       "\u001b[1;7;31m ERROR \u001b[0m\u001b[1;31m No entry in quote with quote_compound=107!\u001b[0m\n"
      ]
     },
     "metadata": {},
     "output_type": "display_data"
    },
    {
     "data": {
      "text/html": [
       "<pre style=\"white-space:pre;overflow-x:auto;line-height:normal;font-family:Menlo,'DejaVu Sans Mono',consolas,'Courier New',monospace\"><span style=\"background-color: #008000; font-weight: bold\"> Success </span><span style=\"color: #008000; text-decoration-color: #008000; font-weight: bold\"> registered route 140871!</span>\n",
       "</pre>\n"
      ],
      "text/plain": [
       "\u001b[1;7;32m Success \u001b[0m\u001b[1;32m registered route 140871!\u001b[0m\n"
      ]
     },
     "metadata": {},
     "output_type": "display_data"
    },
    {
     "data": {
      "text/html": [
       "<pre style=\"white-space:pre;overflow-x:auto;line-height:normal;font-family:Menlo,'DejaVu Sans Mono',consolas,'Courier New',monospace\"><span style=\"color: #008080; text-decoration-color: #008080; font-weight: bold\">13</span> <span style=\"color: #008080; text-decoration-color: #008080; font-weight: bold\">0</span> <span style=\"color: #008080; text-decoration-color: #008080; font-weight: bold\">0</span> Amidation <span style=\"font-weight: bold; text-decoration: underline\">C108 </span><span style=\"color: #008000; text-decoration-color: #008000; font-weight: bold; text-decoration: underline\">\"UFYNWTYMVOYUIH-UHFFFAOYSA-N\"</span>\n",
       "</pre>\n"
      ],
      "text/plain": [
       "\u001b[1;36m13\u001b[0m \u001b[1;36m0\u001b[0m \u001b[1;36m0\u001b[0m Amidation \u001b[1;4mC108 \u001b[0m\u001b[1;4;32m\"UFYNWTYMVOYUIH-UHFFFAOYSA-N\"\u001b[0m\n"
      ]
     },
     "metadata": {},
     "output_type": "display_data"
    },
    {
     "data": {
      "text/html": [
       "<pre style=\"white-space:pre;overflow-x:auto;line-height:normal;font-family:Menlo,'DejaVu Sans Mono',consolas,'Courier New',monospace\"><span style=\"background-color: #800000; font-weight: bold\"> ERROR </span><span style=\"color: #800000; text-decoration-color: #800000; font-weight: bold\"> No entry in quote with quote_compound=108!</span>\n",
       "</pre>\n"
      ],
      "text/plain": [
       "\u001b[1;7;31m ERROR \u001b[0m\u001b[1;31m No entry in quote with quote_compound=108!\u001b[0m\n"
      ]
     },
     "metadata": {},
     "output_type": "display_data"
    },
    {
     "data": {
      "text/html": [
       "<pre style=\"white-space:pre;overflow-x:auto;line-height:normal;font-family:Menlo,'DejaVu Sans Mono',consolas,'Courier New',monospace\"><span style=\"background-color: #008000; font-weight: bold\"> Success </span><span style=\"color: #008000; text-decoration-color: #008000; font-weight: bold\"> registered route 140872!</span>\n",
       "</pre>\n"
      ],
      "text/plain": [
       "\u001b[1;7;32m Success \u001b[0m\u001b[1;32m registered route 140872!\u001b[0m\n"
      ]
     },
     "metadata": {},
     "output_type": "display_data"
    },
    {
     "data": {
      "text/html": [
       "<pre style=\"white-space:pre;overflow-x:auto;line-height:normal;font-family:Menlo,'DejaVu Sans Mono',consolas,'Courier New',monospace\"><span style=\"color: #008080; text-decoration-color: #008080; font-weight: bold\">14</span> <span style=\"color: #008080; text-decoration-color: #008080; font-weight: bold\">0</span> <span style=\"color: #008080; text-decoration-color: #008080; font-weight: bold\">0</span> Amidation <span style=\"font-weight: bold; text-decoration: underline\">C109 </span><span style=\"color: #008000; text-decoration-color: #008000; font-weight: bold; text-decoration: underline\">\"KPYFSQUXIWVGBB-UHFFFAOYSA-N\"</span>\n",
       "</pre>\n"
      ],
      "text/plain": [
       "\u001b[1;36m14\u001b[0m \u001b[1;36m0\u001b[0m \u001b[1;36m0\u001b[0m Amidation \u001b[1;4mC109 \u001b[0m\u001b[1;4;32m\"KPYFSQUXIWVGBB-UHFFFAOYSA-N\"\u001b[0m\n"
      ]
     },
     "metadata": {},
     "output_type": "display_data"
    },
    {
     "data": {
      "text/html": [
       "<pre style=\"white-space:pre;overflow-x:auto;line-height:normal;font-family:Menlo,'DejaVu Sans Mono',consolas,'Courier New',monospace\"><span style=\"background-color: #800000; font-weight: bold\"> ERROR </span><span style=\"color: #800000; text-decoration-color: #800000; font-weight: bold\"> No entry in quote with quote_compound=109!</span>\n",
       "</pre>\n"
      ],
      "text/plain": [
       "\u001b[1;7;31m ERROR \u001b[0m\u001b[1;31m No entry in quote with quote_compound=109!\u001b[0m\n"
      ]
     },
     "metadata": {},
     "output_type": "display_data"
    },
    {
     "data": {
      "text/html": [
       "<pre style=\"white-space:pre;overflow-x:auto;line-height:normal;font-family:Menlo,'DejaVu Sans Mono',consolas,'Courier New',monospace\"><span style=\"background-color: #008000; font-weight: bold\"> Success </span><span style=\"color: #008000; text-decoration-color: #008000; font-weight: bold\"> registered route 140873!</span>\n",
       "</pre>\n"
      ],
      "text/plain": [
       "\u001b[1;7;32m Success \u001b[0m\u001b[1;32m registered route 140873!\u001b[0m\n"
      ]
     },
     "metadata": {},
     "output_type": "display_data"
    },
    {
     "data": {
      "text/html": [
       "<pre style=\"white-space:pre;overflow-x:auto;line-height:normal;font-family:Menlo,'DejaVu Sans Mono',consolas,'Courier New',monospace\"><span style=\"color: #008080; text-decoration-color: #008080; font-weight: bold\">15</span> <span style=\"color: #008080; text-decoration-color: #008080; font-weight: bold\">0</span> <span style=\"color: #008080; text-decoration-color: #008080; font-weight: bold\">0</span> Amidation <span style=\"font-weight: bold; text-decoration: underline\">C110 </span><span style=\"color: #008000; text-decoration-color: #008000; font-weight: bold; text-decoration: underline\">\"OUXJTKZWAHXWFL-UHFFFAOYSA-N\"</span>\n",
       "</pre>\n"
      ],
      "text/plain": [
       "\u001b[1;36m15\u001b[0m \u001b[1;36m0\u001b[0m \u001b[1;36m0\u001b[0m Amidation \u001b[1;4mC110 \u001b[0m\u001b[1;4;32m\"OUXJTKZWAHXWFL-UHFFFAOYSA-N\"\u001b[0m\n"
      ]
     },
     "metadata": {},
     "output_type": "display_data"
    },
    {
     "data": {
      "text/html": [
       "<pre style=\"white-space:pre;overflow-x:auto;line-height:normal;font-family:Menlo,'DejaVu Sans Mono',consolas,'Courier New',monospace\"><span style=\"background-color: #800000; font-weight: bold\"> ERROR </span><span style=\"color: #800000; text-decoration-color: #800000; font-weight: bold\"> No entry in quote with quote_compound=110!</span>\n",
       "</pre>\n"
      ],
      "text/plain": [
       "\u001b[1;7;31m ERROR \u001b[0m\u001b[1;31m No entry in quote with quote_compound=110!\u001b[0m\n"
      ]
     },
     "metadata": {},
     "output_type": "display_data"
    },
    {
     "data": {
      "text/html": [
       "<pre style=\"white-space:pre;overflow-x:auto;line-height:normal;font-family:Menlo,'DejaVu Sans Mono',consolas,'Courier New',monospace\"><span style=\"background-color: #008000; font-weight: bold\"> Success </span><span style=\"color: #008000; text-decoration-color: #008000; font-weight: bold\"> registered route 140874!</span>\n",
       "</pre>\n"
      ],
      "text/plain": [
       "\u001b[1;7;32m Success \u001b[0m\u001b[1;32m registered route 140874!\u001b[0m\n"
      ]
     },
     "metadata": {},
     "output_type": "display_data"
    },
    {
     "data": {
      "text/html": [
       "<pre style=\"white-space:pre;overflow-x:auto;line-height:normal;font-family:Menlo,'DejaVu Sans Mono',consolas,'Courier New',monospace\"><span style=\"color: #008080; text-decoration-color: #008080; font-weight: bold\">16</span> <span style=\"color: #008080; text-decoration-color: #008080; font-weight: bold\">0</span> <span style=\"color: #008080; text-decoration-color: #008080; font-weight: bold\">0</span> Amidation <span style=\"font-weight: bold; text-decoration: underline\">C111 </span><span style=\"color: #008000; text-decoration-color: #008000; font-weight: bold; text-decoration: underline\">\"UIOOLKZMABSWFR-UHFFFAOYSA-N\"</span>\n",
       "</pre>\n"
      ],
      "text/plain": [
       "\u001b[1;36m16\u001b[0m \u001b[1;36m0\u001b[0m \u001b[1;36m0\u001b[0m Amidation \u001b[1;4mC111 \u001b[0m\u001b[1;4;32m\"UIOOLKZMABSWFR-UHFFFAOYSA-N\"\u001b[0m\n"
      ]
     },
     "metadata": {},
     "output_type": "display_data"
    },
    {
     "data": {
      "text/html": [
       "<pre style=\"white-space:pre;overflow-x:auto;line-height:normal;font-family:Menlo,'DejaVu Sans Mono',consolas,'Courier New',monospace\"><span style=\"background-color: #800000; font-weight: bold\"> ERROR </span><span style=\"color: #800000; text-decoration-color: #800000; font-weight: bold\"> No entry in quote with quote_compound=111!</span>\n",
       "</pre>\n"
      ],
      "text/plain": [
       "\u001b[1;7;31m ERROR \u001b[0m\u001b[1;31m No entry in quote with quote_compound=111!\u001b[0m\n"
      ]
     },
     "metadata": {},
     "output_type": "display_data"
    },
    {
     "data": {
      "text/html": [
       "<pre style=\"white-space:pre;overflow-x:auto;line-height:normal;font-family:Menlo,'DejaVu Sans Mono',consolas,'Courier New',monospace\"><span style=\"background-color: #008000; font-weight: bold\"> Success </span><span style=\"color: #008000; text-decoration-color: #008000; font-weight: bold\"> registered route 140875!</span>\n",
       "</pre>\n"
      ],
      "text/plain": [
       "\u001b[1;7;32m Success \u001b[0m\u001b[1;32m registered route 140875!\u001b[0m\n"
      ]
     },
     "metadata": {},
     "output_type": "display_data"
    },
    {
     "data": {
      "text/html": [
       "<pre style=\"white-space:pre;overflow-x:auto;line-height:normal;font-family:Menlo,'DejaVu Sans Mono',consolas,'Courier New',monospace\"><span style=\"color: #008080; text-decoration-color: #008080; font-weight: bold\">17</span> <span style=\"color: #008080; text-decoration-color: #008080; font-weight: bold\">0</span> <span style=\"color: #008080; text-decoration-color: #008080; font-weight: bold\">0</span> Amidation <span style=\"font-weight: bold; text-decoration: underline\">C122391 </span><span style=\"color: #008000; text-decoration-color: #008000; font-weight: bold; text-decoration: underline\">\"NQHLIPQTOQIZAL-UHFFFAOYSA-N\"</span>\n",
       "</pre>\n"
      ],
      "text/plain": [
       "\u001b[1;36m17\u001b[0m \u001b[1;36m0\u001b[0m \u001b[1;36m0\u001b[0m Amidation \u001b[1;4mC122391 \u001b[0m\u001b[1;4;32m\"NQHLIPQTOQIZAL-UHFFFAOYSA-N\"\u001b[0m\n"
      ]
     },
     "metadata": {},
     "output_type": "display_data"
    },
    {
     "data": {
      "text/html": [
       "<pre style=\"white-space:pre;overflow-x:auto;line-height:normal;font-family:Menlo,'DejaVu Sans Mono',consolas,'Courier New',monospace\"><span style=\"background-color: #800000; font-weight: bold\"> ERROR </span><span style=\"color: #800000; text-decoration-color: #800000; font-weight: bold\"> No entry in quote with quote_compound=122391!</span>\n",
       "</pre>\n"
      ],
      "text/plain": [
       "\u001b[1;7;31m ERROR \u001b[0m\u001b[1;31m No entry in quote with quote_compound=122391!\u001b[0m\n"
      ]
     },
     "metadata": {},
     "output_type": "display_data"
    },
    {
     "data": {
      "text/html": [
       "<pre style=\"white-space:pre;overflow-x:auto;line-height:normal;font-family:Menlo,'DejaVu Sans Mono',consolas,'Courier New',monospace\"><span style=\"background-color: #008000; font-weight: bold\"> Success </span><span style=\"color: #008000; text-decoration-color: #008000; font-weight: bold\"> registered route 140876!</span>\n",
       "</pre>\n"
      ],
      "text/plain": [
       "\u001b[1;7;32m Success \u001b[0m\u001b[1;32m registered route 140876!\u001b[0m\n"
      ]
     },
     "metadata": {},
     "output_type": "display_data"
    },
    {
     "data": {
      "text/html": [
       "<pre style=\"white-space:pre;overflow-x:auto;line-height:normal;font-family:Menlo,'DejaVu Sans Mono',consolas,'Courier New',monospace\"><span style=\"color: #008080; text-decoration-color: #008080; font-weight: bold\">18</span> <span style=\"color: #008080; text-decoration-color: #008080; font-weight: bold\">0</span> <span style=\"color: #008080; text-decoration-color: #008080; font-weight: bold\">0</span> Amidation <span style=\"font-weight: bold; text-decoration: underline\">C122392 </span><span style=\"color: #008000; text-decoration-color: #008000; font-weight: bold; text-decoration: underline\">\"LQNOWDAJBFJAFM-UHFFFAOYSA-N\"</span>\n",
       "</pre>\n"
      ],
      "text/plain": [
       "\u001b[1;36m18\u001b[0m \u001b[1;36m0\u001b[0m \u001b[1;36m0\u001b[0m Amidation \u001b[1;4mC122392 \u001b[0m\u001b[1;4;32m\"LQNOWDAJBFJAFM-UHFFFAOYSA-N\"\u001b[0m\n"
      ]
     },
     "metadata": {},
     "output_type": "display_data"
    },
    {
     "data": {
      "text/html": [
       "<pre style=\"white-space:pre;overflow-x:auto;line-height:normal;font-family:Menlo,'DejaVu Sans Mono',consolas,'Courier New',monospace\"><span style=\"background-color: #800000; font-weight: bold\"> ERROR </span><span style=\"color: #800000; text-decoration-color: #800000; font-weight: bold\"> No entry in quote with quote_compound=122392!</span>\n",
       "</pre>\n"
      ],
      "text/plain": [
       "\u001b[1;7;31m ERROR \u001b[0m\u001b[1;31m No entry in quote with quote_compound=122392!\u001b[0m\n"
      ]
     },
     "metadata": {},
     "output_type": "display_data"
    },
    {
     "data": {
      "text/html": [
       "<pre style=\"white-space:pre;overflow-x:auto;line-height:normal;font-family:Menlo,'DejaVu Sans Mono',consolas,'Courier New',monospace\"><span style=\"background-color: #008000; font-weight: bold\"> Success </span><span style=\"color: #008000; text-decoration-color: #008000; font-weight: bold\"> registered route 140877!</span>\n",
       "</pre>\n"
      ],
      "text/plain": [
       "\u001b[1;7;32m Success \u001b[0m\u001b[1;32m registered route 140877!\u001b[0m\n"
      ]
     },
     "metadata": {},
     "output_type": "display_data"
    },
    {
     "data": {
      "text/html": [
       "<pre style=\"white-space:pre;overflow-x:auto;line-height:normal;font-family:Menlo,'DejaVu Sans Mono',consolas,'Courier New',monospace\"><span style=\"color: #008080; text-decoration-color: #008080; font-weight: bold\">19</span> <span style=\"color: #008080; text-decoration-color: #008080; font-weight: bold\">0</span> <span style=\"color: #008080; text-decoration-color: #008080; font-weight: bold\">0</span> Formation_of_urea_from_two_amines <span style=\"font-weight: bold; text-decoration: underline\">C122393 </span><span style=\"color: #008000; text-decoration-color: #008000; font-weight: bold; text-decoration: underline\">\"CFBYKVAFAXYDRK-UHFFFAOYSA-N\"</span>\n",
       "</pre>\n"
      ],
      "text/plain": [
       "\u001b[1;36m19\u001b[0m \u001b[1;36m0\u001b[0m \u001b[1;36m0\u001b[0m Formation_of_urea_from_two_amines \u001b[1;4mC122393 \u001b[0m\u001b[1;4;32m\"CFBYKVAFAXYDRK-UHFFFAOYSA-N\"\u001b[0m\n"
      ]
     },
     "metadata": {},
     "output_type": "display_data"
    },
    {
     "data": {
      "text/html": [
       "<pre style=\"white-space:pre;overflow-x:auto;line-height:normal;font-family:Menlo,'DejaVu Sans Mono',consolas,'Courier New',monospace\"><span style=\"background-color: #800000; font-weight: bold\"> ERROR </span><span style=\"color: #800000; text-decoration-color: #800000; font-weight: bold\"> No entry in quote with quote_compound=122393!</span>\n",
       "</pre>\n"
      ],
      "text/plain": [
       "\u001b[1;7;31m ERROR \u001b[0m\u001b[1;31m No entry in quote with quote_compound=122393!\u001b[0m\n"
      ]
     },
     "metadata": {},
     "output_type": "display_data"
    },
    {
     "data": {
      "text/html": [
       "<pre style=\"white-space:pre;overflow-x:auto;line-height:normal;font-family:Menlo,'DejaVu Sans Mono',consolas,'Courier New',monospace\"><span style=\"background-color: #008000; font-weight: bold\"> Success </span><span style=\"color: #008000; text-decoration-color: #008000; font-weight: bold\"> registered route 140878!</span>\n",
       "</pre>\n"
      ],
      "text/plain": [
       "\u001b[1;7;32m Success \u001b[0m\u001b[1;32m registered route 140878!\u001b[0m\n"
      ]
     },
     "metadata": {},
     "output_type": "display_data"
    },
    {
     "data": {
      "text/html": [
       "<pre style=\"white-space:pre;overflow-x:auto;line-height:normal;font-family:Menlo,'DejaVu Sans Mono',consolas,'Courier New',monospace\"><span style=\"color: #008080; text-decoration-color: #008080; font-weight: bold\">20</span> <span style=\"color: #008080; text-decoration-color: #008080; font-weight: bold\">0</span> <span style=\"color: #008080; text-decoration-color: #008080; font-weight: bold\">0</span> Amidation <span style=\"font-weight: bold; text-decoration: underline\">C122394 </span><span style=\"color: #008000; text-decoration-color: #008000; font-weight: bold; text-decoration: underline\">\"YEAWWZXWMQIDNB-UHFFFAOYSA-N\"</span>\n",
       "</pre>\n"
      ],
      "text/plain": [
       "\u001b[1;36m20\u001b[0m \u001b[1;36m0\u001b[0m \u001b[1;36m0\u001b[0m Amidation \u001b[1;4mC122394 \u001b[0m\u001b[1;4;32m\"YEAWWZXWMQIDNB-UHFFFAOYSA-N\"\u001b[0m\n"
      ]
     },
     "metadata": {},
     "output_type": "display_data"
    },
    {
     "data": {
      "text/html": [
       "<pre style=\"white-space:pre;overflow-x:auto;line-height:normal;font-family:Menlo,'DejaVu Sans Mono',consolas,'Courier New',monospace\"><span style=\"background-color: #800000; font-weight: bold\"> ERROR </span><span style=\"color: #800000; text-decoration-color: #800000; font-weight: bold\"> No entry in quote with quote_compound=122394!</span>\n",
       "</pre>\n"
      ],
      "text/plain": [
       "\u001b[1;7;31m ERROR \u001b[0m\u001b[1;31m No entry in quote with quote_compound=122394!\u001b[0m\n"
      ]
     },
     "metadata": {},
     "output_type": "display_data"
    },
    {
     "data": {
      "text/html": [
       "<pre style=\"white-space:pre;overflow-x:auto;line-height:normal;font-family:Menlo,'DejaVu Sans Mono',consolas,'Courier New',monospace\"><span style=\"background-color: #008000; font-weight: bold\"> Success </span><span style=\"color: #008000; text-decoration-color: #008000; font-weight: bold\"> registered route 140879!</span>\n",
       "</pre>\n"
      ],
      "text/plain": [
       "\u001b[1;7;32m Success \u001b[0m\u001b[1;32m registered route 140879!\u001b[0m\n"
      ]
     },
     "metadata": {},
     "output_type": "display_data"
    },
    {
     "data": {
      "text/html": [
       "<pre style=\"white-space:pre;overflow-x:auto;line-height:normal;font-family:Menlo,'DejaVu Sans Mono',consolas,'Courier New',monospace\"><span style=\"color: #008080; text-decoration-color: #008080; font-weight: bold\">21</span> <span style=\"color: #008080; text-decoration-color: #008080; font-weight: bold\">0</span> <span style=\"color: #008080; text-decoration-color: #008080; font-weight: bold\">0</span> Sulfonamide_Schotten-<span style=\"color: #800080; text-decoration-color: #800080; font-weight: bold\">Baumann_with_amine_</span><span style=\"font-weight: bold\">(</span>intermolecular<span style=\"font-weight: bold\">)</span> <span style=\"font-weight: bold; text-decoration: underline\">C122395 </span><span style=\"color: #008000; text-decoration-color: #008000; font-weight: bold; text-decoration: underline\">\"FSNFOMGLDYESSZ-UHFFFAOYSA-N\"</span>\n",
       "</pre>\n"
      ],
      "text/plain": [
       "\u001b[1;36m21\u001b[0m \u001b[1;36m0\u001b[0m \u001b[1;36m0\u001b[0m Sulfonamide_Schotten-\u001b[1;35mBaumann_with_amine_\u001b[0m\u001b[1m(\u001b[0mintermolecular\u001b[1m)\u001b[0m \u001b[1;4mC122395 \u001b[0m\u001b[1;4;32m\"FSNFOMGLDYESSZ-UHFFFAOYSA-N\"\u001b[0m\n"
      ]
     },
     "metadata": {},
     "output_type": "display_data"
    },
    {
     "data": {
      "text/html": [
       "<pre style=\"white-space:pre;overflow-x:auto;line-height:normal;font-family:Menlo,'DejaVu Sans Mono',consolas,'Courier New',monospace\"><span style=\"color: #008080; text-decoration-color: #008080; font-weight: bold\">reactants</span> =\n",
       "<span style=\"font-weight: bold\">[</span><span style=\"color: #008080; text-decoration-color: #008080; font-weight: bold\">62341</span>, <span style=\"color: #008080; text-decoration-color: #008080; font-weight: bold\">122431</span><span style=\"font-weight: bold\">]</span>\n",
       "</pre>\n"
      ],
      "text/plain": [
       "\u001b[1;36mreactants\u001b[0m =\n",
       "\u001b[1m[\u001b[0m\u001b[1;36m62341\u001b[0m, \u001b[1;36m122431\u001b[0m\u001b[1m]\u001b[0m\n"
      ]
     },
     "metadata": {},
     "output_type": "display_data"
    },
    {
     "data": {
      "text/html": [
       "<pre style=\"white-space:pre;overflow-x:auto;line-height:normal;font-family:Menlo,'DejaVu Sans Mono',consolas,'Courier New',monospace\"><span style=\"color: #008080; text-decoration-color: #008080; font-weight: bold\">product</span> = <span style=\"font-weight: bold; text-decoration: underline\">C122395 \"FSNFOMGLDYESSZ-UHFFFAOYSA-N\"</span>\n",
       "</pre>\n"
      ],
      "text/plain": [
       "\u001b[1;36mproduct\u001b[0m = \u001b[1;4mC122395 \"FSNFOMGLDYESSZ-UHFFFAOYSA-N\"\u001b[0m\n"
      ]
     },
     "metadata": {},
     "output_type": "display_data"
    },
    {
     "data": {
      "text/html": [
       "<pre style=\"white-space:pre;overflow-x:auto;line-height:normal;font-family:Menlo,'DejaVu Sans Mono',consolas,'Courier New',monospace\"><span style=\"background-color: #ff8700; font-weight: bold\"> Warning </span><span style=\"color: #ff8700; text-decoration-color: #ff8700\"> Skipping unsupported chemistry: Sulfonamide_Schotten-Baumann_with_amine_(intermolecular)!</span>\n",
       "</pre>\n"
      ],
      "text/plain": [
       "\u001b[1;7;38;5;208m Warning \u001b[0m\u001b[38;5;208m Skipping unsupported chemistry: Sulfonamide_Schotten-Baumann_with_amine_(intermolecular)!\u001b[0m\n"
      ]
     },
     "metadata": {},
     "output_type": "display_data"
    },
    {
     "data": {
      "text/html": [
       "<pre style=\"white-space:pre;overflow-x:auto;line-height:normal;font-family:Menlo,'DejaVu Sans Mono',consolas,'Courier New',monospace\"><span style=\"color: #008080; text-decoration-color: #008080; font-weight: bold\">21</span> <span style=\"color: #008080; text-decoration-color: #008080; font-weight: bold\">1</span> <span style=\"color: #008080; text-decoration-color: #008080; font-weight: bold\">0</span> Sulfonamide_Schotten-<span style=\"color: #800080; text-decoration-color: #800080; font-weight: bold\">Baumann_with_amine_</span><span style=\"font-weight: bold\">(</span>intermolecular<span style=\"font-weight: bold\">)</span> <span style=\"font-weight: bold; text-decoration: underline\">C122395 </span><span style=\"color: #008000; text-decoration-color: #008000; font-weight: bold; text-decoration: underline\">\"FSNFOMGLDYESSZ-UHFFFAOYSA-N\"</span>\n",
       "</pre>\n"
      ],
      "text/plain": [
       "\u001b[1;36m21\u001b[0m \u001b[1;36m1\u001b[0m \u001b[1;36m0\u001b[0m Sulfonamide_Schotten-\u001b[1;35mBaumann_with_amine_\u001b[0m\u001b[1m(\u001b[0mintermolecular\u001b[1m)\u001b[0m \u001b[1;4mC122395 \u001b[0m\u001b[1;4;32m\"FSNFOMGLDYESSZ-UHFFFAOYSA-N\"\u001b[0m\n"
      ]
     },
     "metadata": {},
     "output_type": "display_data"
    },
    {
     "data": {
      "text/html": [
       "<pre style=\"white-space:pre;overflow-x:auto;line-height:normal;font-family:Menlo,'DejaVu Sans Mono',consolas,'Courier New',monospace\"><span style=\"color: #008080; text-decoration-color: #008080; font-weight: bold\">reactants</span> =\n",
       "<span style=\"font-weight: bold\">[</span><span style=\"color: #008080; text-decoration-color: #008080; font-weight: bold\">62341</span>, <span style=\"color: #008080; text-decoration-color: #008080; font-weight: bold\">122432</span><span style=\"font-weight: bold\">]</span>\n",
       "</pre>\n"
      ],
      "text/plain": [
       "\u001b[1;36mreactants\u001b[0m =\n",
       "\u001b[1m[\u001b[0m\u001b[1;36m62341\u001b[0m, \u001b[1;36m122432\u001b[0m\u001b[1m]\u001b[0m\n"
      ]
     },
     "metadata": {},
     "output_type": "display_data"
    },
    {
     "data": {
      "text/html": [
       "<pre style=\"white-space:pre;overflow-x:auto;line-height:normal;font-family:Menlo,'DejaVu Sans Mono',consolas,'Courier New',monospace\"><span style=\"color: #008080; text-decoration-color: #008080; font-weight: bold\">product</span> = <span style=\"font-weight: bold; text-decoration: underline\">C122395 \"FSNFOMGLDYESSZ-UHFFFAOYSA-N\"</span>\n",
       "</pre>\n"
      ],
      "text/plain": [
       "\u001b[1;36mproduct\u001b[0m = \u001b[1;4mC122395 \"FSNFOMGLDYESSZ-UHFFFAOYSA-N\"\u001b[0m\n"
      ]
     },
     "metadata": {},
     "output_type": "display_data"
    },
    {
     "data": {
      "text/html": [
       "<pre style=\"white-space:pre;overflow-x:auto;line-height:normal;font-family:Menlo,'DejaVu Sans Mono',consolas,'Courier New',monospace\"><span style=\"background-color: #ff8700; font-weight: bold\"> Warning </span><span style=\"color: #ff8700; text-decoration-color: #ff8700\"> Skipping unsupported chemistry: Sulfonamide_Schotten-Baumann_with_amine_(intermolecular)!</span>\n",
       "</pre>\n"
      ],
      "text/plain": [
       "\u001b[1;7;38;5;208m Warning \u001b[0m\u001b[38;5;208m Skipping unsupported chemistry: Sulfonamide_Schotten-Baumann_with_amine_(intermolecular)!\u001b[0m\n"
      ]
     },
     "metadata": {},
     "output_type": "display_data"
    },
    {
     "data": {
      "text/html": [
       "<pre style=\"white-space:pre;overflow-x:auto;line-height:normal;font-family:Menlo,'DejaVu Sans Mono',consolas,'Courier New',monospace\"><span style=\"color: #008080; text-decoration-color: #008080; font-weight: bold\">21</span> <span style=\"color: #008080; text-decoration-color: #008080; font-weight: bold\">2</span> <span style=\"color: #008080; text-decoration-color: #008080; font-weight: bold\">0</span> Amidation <span style=\"font-weight: bold; text-decoration: underline\">C122395 </span><span style=\"color: #008000; text-decoration-color: #008000; font-weight: bold; text-decoration: underline\">\"FSNFOMGLDYESSZ-UHFFFAOYSA-N\"</span>\n",
       "</pre>\n"
      ],
      "text/plain": [
       "\u001b[1;36m21\u001b[0m \u001b[1;36m2\u001b[0m \u001b[1;36m0\u001b[0m Amidation \u001b[1;4mC122395 \u001b[0m\u001b[1;4;32m\"FSNFOMGLDYESSZ-UHFFFAOYSA-N\"\u001b[0m\n"
      ]
     },
     "metadata": {},
     "output_type": "display_data"
    },
    {
     "data": {
      "text/html": [
       "<pre style=\"white-space:pre;overflow-x:auto;line-height:normal;font-family:Menlo,'DejaVu Sans Mono',consolas,'Courier New',monospace\"><span style=\"color: #008080; text-decoration-color: #008080; font-weight: bold\">21</span> <span style=\"color: #008080; text-decoration-color: #008080; font-weight: bold\">2</span> <span style=\"color: #008080; text-decoration-color: #008080; font-weight: bold\">1</span> Sulfonamide_Schotten-<span style=\"color: #800080; text-decoration-color: #800080; font-weight: bold\">Baumann_with_amine_</span><span style=\"font-weight: bold\">(</span>intermolecular<span style=\"font-weight: bold\">)</span> <span style=\"font-weight: bold; text-decoration: underline\">C122433 </span><span style=\"color: #008000; text-decoration-color: #008000; font-weight: bold; text-decoration: underline\">\"UJOIVGJVTWYEEG-UHFFFAOYSA-N\"</span>\n",
       "</pre>\n"
      ],
      "text/plain": [
       "\u001b[1;36m21\u001b[0m \u001b[1;36m2\u001b[0m \u001b[1;36m1\u001b[0m Sulfonamide_Schotten-\u001b[1;35mBaumann_with_amine_\u001b[0m\u001b[1m(\u001b[0mintermolecular\u001b[1m)\u001b[0m \u001b[1;4mC122433 \u001b[0m\u001b[1;4;32m\"UJOIVGJVTWYEEG-UHFFFAOYSA-N\"\u001b[0m\n"
      ]
     },
     "metadata": {},
     "output_type": "display_data"
    },
    {
     "data": {
      "text/html": [
       "<pre style=\"white-space:pre;overflow-x:auto;line-height:normal;font-family:Menlo,'DejaVu Sans Mono',consolas,'Courier New',monospace\"><span style=\"color: #008080; text-decoration-color: #008080; font-weight: bold\">reactants</span> =\n",
       "<span style=\"font-weight: bold\">[</span><span style=\"color: #008080; text-decoration-color: #008080; font-weight: bold\">74880</span>, <span style=\"color: #008080; text-decoration-color: #008080; font-weight: bold\">122432</span><span style=\"font-weight: bold\">]</span>\n",
       "</pre>\n"
      ],
      "text/plain": [
       "\u001b[1;36mreactants\u001b[0m =\n",
       "\u001b[1m[\u001b[0m\u001b[1;36m74880\u001b[0m, \u001b[1;36m122432\u001b[0m\u001b[1m]\u001b[0m\n"
      ]
     },
     "metadata": {},
     "output_type": "display_data"
    },
    {
     "data": {
      "text/html": [
       "<pre style=\"white-space:pre;overflow-x:auto;line-height:normal;font-family:Menlo,'DejaVu Sans Mono',consolas,'Courier New',monospace\"><span style=\"color: #008080; text-decoration-color: #008080; font-weight: bold\">product</span> = <span style=\"font-weight: bold; text-decoration: underline\">C122433 \"UJOIVGJVTWYEEG-UHFFFAOYSA-N\"</span>\n",
       "</pre>\n"
      ],
      "text/plain": [
       "\u001b[1;36mproduct\u001b[0m = \u001b[1;4mC122433 \"UJOIVGJVTWYEEG-UHFFFAOYSA-N\"\u001b[0m\n"
      ]
     },
     "metadata": {},
     "output_type": "display_data"
    },
    {
     "data": {
      "text/html": [
       "<pre style=\"white-space:pre;overflow-x:auto;line-height:normal;font-family:Menlo,'DejaVu Sans Mono',consolas,'Courier New',monospace\"><span style=\"background-color: #ff8700; font-weight: bold\"> Warning </span><span style=\"color: #ff8700; text-decoration-color: #ff8700\"> Skipping unsupported chemistry: Sulfonamide_Schotten-Baumann_with_amine_(intermolecular)!</span>\n",
       "</pre>\n"
      ],
      "text/plain": [
       "\u001b[1;7;38;5;208m Warning \u001b[0m\u001b[38;5;208m Skipping unsupported chemistry: Sulfonamide_Schotten-Baumann_with_amine_(intermolecular)!\u001b[0m\n"
      ]
     },
     "metadata": {},
     "output_type": "display_data"
    },
    {
     "data": {
      "text/html": [
       "<pre style=\"white-space:pre;overflow-x:auto;line-height:normal;font-family:Menlo,'DejaVu Sans Mono',consolas,'Courier New',monospace\"><span style=\"color: #008080; text-decoration-color: #008080; font-weight: bold\">21</span> <span style=\"color: #008080; text-decoration-color: #008080; font-weight: bold\">4</span> <span style=\"color: #008080; text-decoration-color: #008080; font-weight: bold\">0</span> Amidation <span style=\"font-weight: bold; text-decoration: underline\">C122395 </span><span style=\"color: #008000; text-decoration-color: #008000; font-weight: bold; text-decoration: underline\">\"FSNFOMGLDYESSZ-UHFFFAOYSA-N\"</span>\n",
       "</pre>\n"
      ],
      "text/plain": [
       "\u001b[1;36m21\u001b[0m \u001b[1;36m4\u001b[0m \u001b[1;36m0\u001b[0m Amidation \u001b[1;4mC122395 \u001b[0m\u001b[1;4;32m\"FSNFOMGLDYESSZ-UHFFFAOYSA-N\"\u001b[0m\n"
      ]
     },
     "metadata": {},
     "output_type": "display_data"
    },
    {
     "data": {
      "text/html": [
       "<pre style=\"white-space:pre;overflow-x:auto;line-height:normal;font-family:Menlo,'DejaVu Sans Mono',consolas,'Courier New',monospace\"><span style=\"color: #008080; text-decoration-color: #008080; font-weight: bold\">21</span> <span style=\"color: #008080; text-decoration-color: #008080; font-weight: bold\">4</span> <span style=\"color: #008080; text-decoration-color: #008080; font-weight: bold\">1</span> Sulfonamide_Schotten-<span style=\"color: #800080; text-decoration-color: #800080; font-weight: bold\">Baumann_with_amine_</span><span style=\"font-weight: bold\">(</span>intermolecular<span style=\"font-weight: bold\">)</span> <span style=\"font-weight: bold; text-decoration: underline\">C122433 </span><span style=\"color: #008000; text-decoration-color: #008000; font-weight: bold; text-decoration: underline\">\"UJOIVGJVTWYEEG-UHFFFAOYSA-N\"</span>\n",
       "</pre>\n"
      ],
      "text/plain": [
       "\u001b[1;36m21\u001b[0m \u001b[1;36m4\u001b[0m \u001b[1;36m1\u001b[0m Sulfonamide_Schotten-\u001b[1;35mBaumann_with_amine_\u001b[0m\u001b[1m(\u001b[0mintermolecular\u001b[1m)\u001b[0m \u001b[1;4mC122433 \u001b[0m\u001b[1;4;32m\"UJOIVGJVTWYEEG-UHFFFAOYSA-N\"\u001b[0m\n"
      ]
     },
     "metadata": {},
     "output_type": "display_data"
    },
    {
     "data": {
      "text/html": [
       "<pre style=\"white-space:pre;overflow-x:auto;line-height:normal;font-family:Menlo,'DejaVu Sans Mono',consolas,'Courier New',monospace\"><span style=\"color: #008080; text-decoration-color: #008080; font-weight: bold\">reactants</span> =\n",
       "<span style=\"font-weight: bold\">[</span><span style=\"color: #008080; text-decoration-color: #008080; font-weight: bold\">74880</span>, <span style=\"color: #008080; text-decoration-color: #008080; font-weight: bold\">122431</span><span style=\"font-weight: bold\">]</span>\n",
       "</pre>\n"
      ],
      "text/plain": [
       "\u001b[1;36mreactants\u001b[0m =\n",
       "\u001b[1m[\u001b[0m\u001b[1;36m74880\u001b[0m, \u001b[1;36m122431\u001b[0m\u001b[1m]\u001b[0m\n"
      ]
     },
     "metadata": {},
     "output_type": "display_data"
    },
    {
     "data": {
      "text/html": [
       "<pre style=\"white-space:pre;overflow-x:auto;line-height:normal;font-family:Menlo,'DejaVu Sans Mono',consolas,'Courier New',monospace\"><span style=\"color: #008080; text-decoration-color: #008080; font-weight: bold\">product</span> = <span style=\"font-weight: bold; text-decoration: underline\">C122433 \"UJOIVGJVTWYEEG-UHFFFAOYSA-N\"</span>\n",
       "</pre>\n"
      ],
      "text/plain": [
       "\u001b[1;36mproduct\u001b[0m = \u001b[1;4mC122433 \"UJOIVGJVTWYEEG-UHFFFAOYSA-N\"\u001b[0m\n"
      ]
     },
     "metadata": {},
     "output_type": "display_data"
    },
    {
     "data": {
      "text/html": [
       "<pre style=\"white-space:pre;overflow-x:auto;line-height:normal;font-family:Menlo,'DejaVu Sans Mono',consolas,'Courier New',monospace\"><span style=\"background-color: #ff8700; font-weight: bold\"> Warning </span><span style=\"color: #ff8700; text-decoration-color: #ff8700\"> Skipping unsupported chemistry: Sulfonamide_Schotten-Baumann_with_amine_(intermolecular)!</span>\n",
       "</pre>\n"
      ],
      "text/plain": [
       "\u001b[1;7;38;5;208m Warning \u001b[0m\u001b[38;5;208m Skipping unsupported chemistry: Sulfonamide_Schotten-Baumann_with_amine_(intermolecular)!\u001b[0m\n"
      ]
     },
     "metadata": {},
     "output_type": "display_data"
    },
    {
     "data": {
      "text/html": [
       "<pre style=\"white-space:pre;overflow-x:auto;line-height:normal;font-family:Menlo,'DejaVu Sans Mono',consolas,'Courier New',monospace\"><span style=\"color: #008080; text-decoration-color: #008080; font-weight: bold\">22</span> <span style=\"color: #008080; text-decoration-color: #008080; font-weight: bold\">0</span> <span style=\"color: #008080; text-decoration-color: #008080; font-weight: bold\">0</span> Amidation <span style=\"font-weight: bold; text-decoration: underline\">C122396 </span><span style=\"color: #008000; text-decoration-color: #008000; font-weight: bold; text-decoration: underline\">\"LIYDFYCGCLXSCX-UHFFFAOYSA-N\"</span>\n",
       "</pre>\n"
      ],
      "text/plain": [
       "\u001b[1;36m22\u001b[0m \u001b[1;36m0\u001b[0m \u001b[1;36m0\u001b[0m Amidation \u001b[1;4mC122396 \u001b[0m\u001b[1;4;32m\"LIYDFYCGCLXSCX-UHFFFAOYSA-N\"\u001b[0m\n"
      ]
     },
     "metadata": {},
     "output_type": "display_data"
    },
    {
     "data": {
      "text/html": [
       "<pre style=\"white-space:pre;overflow-x:auto;line-height:normal;font-family:Menlo,'DejaVu Sans Mono',consolas,'Courier New',monospace\"><span style=\"background-color: #800000; font-weight: bold\"> ERROR </span><span style=\"color: #800000; text-decoration-color: #800000; font-weight: bold\"> No entry in quote with quote_compound=122396!</span>\n",
       "</pre>\n"
      ],
      "text/plain": [
       "\u001b[1;7;31m ERROR \u001b[0m\u001b[1;31m No entry in quote with quote_compound=122396!\u001b[0m\n"
      ]
     },
     "metadata": {},
     "output_type": "display_data"
    },
    {
     "data": {
      "text/html": [
       "<pre style=\"white-space:pre;overflow-x:auto;line-height:normal;font-family:Menlo,'DejaVu Sans Mono',consolas,'Courier New',monospace\"><span style=\"background-color: #008000; font-weight: bold\"> Success </span><span style=\"color: #008000; text-decoration-color: #008000; font-weight: bold\"> registered route 140880!</span>\n",
       "</pre>\n"
      ],
      "text/plain": [
       "\u001b[1;7;32m Success \u001b[0m\u001b[1;32m registered route 140880!\u001b[0m\n"
      ]
     },
     "metadata": {},
     "output_type": "display_data"
    },
    {
     "data": {
      "text/html": [
       "<pre style=\"white-space:pre;overflow-x:auto;line-height:normal;font-family:Menlo,'DejaVu Sans Mono',consolas,'Courier New',monospace\"><span style=\"color: #008080; text-decoration-color: #008080; font-weight: bold\">23</span> <span style=\"color: #008080; text-decoration-color: #008080; font-weight: bold\">1</span> <span style=\"color: #008080; text-decoration-color: #008080; font-weight: bold\">0</span> Formation_of_urea_from_two_amines <span style=\"font-weight: bold; text-decoration: underline\">C122397 </span><span style=\"color: #008000; text-decoration-color: #008000; font-weight: bold; text-decoration: underline\">\"FPQQXSDKENBGCM-UHFFFAOYSA-N\"</span>\n",
       "</pre>\n"
      ],
      "text/plain": [
       "\u001b[1;36m23\u001b[0m \u001b[1;36m1\u001b[0m \u001b[1;36m0\u001b[0m Formation_of_urea_from_two_amines \u001b[1;4mC122397 \u001b[0m\u001b[1;4;32m\"FPQQXSDKENBGCM-UHFFFAOYSA-N\"\u001b[0m\n"
      ]
     },
     "metadata": {},
     "output_type": "display_data"
    },
    {
     "data": {
      "text/html": [
       "<pre style=\"white-space:pre;overflow-x:auto;line-height:normal;font-family:Menlo,'DejaVu Sans Mono',consolas,'Courier New',monospace\"><span style=\"background-color: #800000; font-weight: bold\"> ERROR </span><span style=\"color: #800000; text-decoration-color: #800000; font-weight: bold\"> No entry in quote with quote_compound=122397!</span>\n",
       "</pre>\n"
      ],
      "text/plain": [
       "\u001b[1;7;31m ERROR \u001b[0m\u001b[1;31m No entry in quote with quote_compound=122397!\u001b[0m\n"
      ]
     },
     "metadata": {},
     "output_type": "display_data"
    },
    {
     "data": {
      "text/html": [
       "<pre style=\"white-space:pre;overflow-x:auto;line-height:normal;font-family:Menlo,'DejaVu Sans Mono',consolas,'Courier New',monospace\"><span style=\"background-color: #008000; font-weight: bold\"> Success </span><span style=\"color: #008000; text-decoration-color: #008000; font-weight: bold\"> registered route 140881!</span>\n",
       "</pre>\n"
      ],
      "text/plain": [
       "\u001b[1;7;32m Success \u001b[0m\u001b[1;32m registered route 140881!\u001b[0m\n"
      ]
     },
     "metadata": {},
     "output_type": "display_data"
    },
    {
     "data": {
      "text/html": [
       "<pre style=\"white-space:pre;overflow-x:auto;line-height:normal;font-family:Menlo,'DejaVu Sans Mono',consolas,'Courier New',monospace\"><span style=\"color: #008080; text-decoration-color: #008080; font-weight: bold\">24</span> <span style=\"color: #008080; text-decoration-color: #008080; font-weight: bold\">0</span> <span style=\"color: #008080; text-decoration-color: #008080; font-weight: bold\">0</span> Amidation <span style=\"font-weight: bold; text-decoration: underline\">C122398 </span><span style=\"color: #008000; text-decoration-color: #008000; font-weight: bold; text-decoration: underline\">\"LDVAVSGFMNNJNN-UHFFFAOYSA-N\"</span>\n",
       "</pre>\n"
      ],
      "text/plain": [
       "\u001b[1;36m24\u001b[0m \u001b[1;36m0\u001b[0m \u001b[1;36m0\u001b[0m Amidation \u001b[1;4mC122398 \u001b[0m\u001b[1;4;32m\"LDVAVSGFMNNJNN-UHFFFAOYSA-N\"\u001b[0m\n"
      ]
     },
     "metadata": {},
     "output_type": "display_data"
    },
    {
     "data": {
      "text/html": [
       "<pre style=\"white-space:pre;overflow-x:auto;line-height:normal;font-family:Menlo,'DejaVu Sans Mono',consolas,'Courier New',monospace\"><span style=\"background-color: #800000; font-weight: bold\"> ERROR </span><span style=\"color: #800000; text-decoration-color: #800000; font-weight: bold\"> No entry in quote with quote_compound=122398!</span>\n",
       "</pre>\n"
      ],
      "text/plain": [
       "\u001b[1;7;31m ERROR \u001b[0m\u001b[1;31m No entry in quote with quote_compound=122398!\u001b[0m\n"
      ]
     },
     "metadata": {},
     "output_type": "display_data"
    },
    {
     "data": {
      "text/html": [
       "<pre style=\"white-space:pre;overflow-x:auto;line-height:normal;font-family:Menlo,'DejaVu Sans Mono',consolas,'Courier New',monospace\"><span style=\"background-color: #008000; font-weight: bold\"> Success </span><span style=\"color: #008000; text-decoration-color: #008000; font-weight: bold\"> registered route 140882!</span>\n",
       "</pre>\n"
      ],
      "text/plain": [
       "\u001b[1;7;32m Success \u001b[0m\u001b[1;32m registered route 140882!\u001b[0m\n"
      ]
     },
     "metadata": {},
     "output_type": "display_data"
    },
    {
     "data": {
      "text/html": [
       "<pre style=\"white-space:pre;overflow-x:auto;line-height:normal;font-family:Menlo,'DejaVu Sans Mono',consolas,'Courier New',monospace\"><span style=\"color: #008080; text-decoration-color: #008080; font-weight: bold\">25</span> <span style=\"color: #008080; text-decoration-color: #008080; font-weight: bold\">0</span> <span style=\"color: #008080; text-decoration-color: #008080; font-weight: bold\">0</span> Amidation <span style=\"font-weight: bold; text-decoration: underline\">C122399 </span><span style=\"color: #008000; text-decoration-color: #008000; font-weight: bold; text-decoration: underline\">\"INXUYTDTOJRNGX-UHFFFAOYSA-N\"</span>\n",
       "</pre>\n"
      ],
      "text/plain": [
       "\u001b[1;36m25\u001b[0m \u001b[1;36m0\u001b[0m \u001b[1;36m0\u001b[0m Amidation \u001b[1;4mC122399 \u001b[0m\u001b[1;4;32m\"INXUYTDTOJRNGX-UHFFFAOYSA-N\"\u001b[0m\n"
      ]
     },
     "metadata": {},
     "output_type": "display_data"
    },
    {
     "data": {
      "text/html": [
       "<pre style=\"white-space:pre;overflow-x:auto;line-height:normal;font-family:Menlo,'DejaVu Sans Mono',consolas,'Courier New',monospace\"><span style=\"background-color: #800000; font-weight: bold\"> ERROR </span><span style=\"color: #800000; text-decoration-color: #800000; font-weight: bold\"> No entry in quote with quote_compound=122399!</span>\n",
       "</pre>\n"
      ],
      "text/plain": [
       "\u001b[1;7;31m ERROR \u001b[0m\u001b[1;31m No entry in quote with quote_compound=122399!\u001b[0m\n"
      ]
     },
     "metadata": {},
     "output_type": "display_data"
    },
    {
     "data": {
      "text/html": [
       "<pre style=\"white-space:pre;overflow-x:auto;line-height:normal;font-family:Menlo,'DejaVu Sans Mono',consolas,'Courier New',monospace\"><span style=\"background-color: #008000; font-weight: bold\"> Success </span><span style=\"color: #008000; text-decoration-color: #008000; font-weight: bold\"> registered route 140883!</span>\n",
       "</pre>\n"
      ],
      "text/plain": [
       "\u001b[1;7;32m Success \u001b[0m\u001b[1;32m registered route 140883!\u001b[0m\n"
      ]
     },
     "metadata": {},
     "output_type": "display_data"
    },
    {
     "data": {
      "text/html": [
       "<pre style=\"white-space:pre;overflow-x:auto;line-height:normal;font-family:Menlo,'DejaVu Sans Mono',consolas,'Courier New',monospace\"><span style=\"color: #008080; text-decoration-color: #008080; font-weight: bold\">26</span> <span style=\"color: #008080; text-decoration-color: #008080; font-weight: bold\">0</span> <span style=\"color: #008080; text-decoration-color: #008080; font-weight: bold\">0</span> Amidation <span style=\"font-weight: bold; text-decoration: underline\">C122400 </span><span style=\"color: #008000; text-decoration-color: #008000; font-weight: bold; text-decoration: underline\">\"PBFVVICHKJKWIA-UHFFFAOYSA-N\"</span>\n",
       "</pre>\n"
      ],
      "text/plain": [
       "\u001b[1;36m26\u001b[0m \u001b[1;36m0\u001b[0m \u001b[1;36m0\u001b[0m Amidation \u001b[1;4mC122400 \u001b[0m\u001b[1;4;32m\"PBFVVICHKJKWIA-UHFFFAOYSA-N\"\u001b[0m\n"
      ]
     },
     "metadata": {},
     "output_type": "display_data"
    },
    {
     "data": {
      "text/html": [
       "<pre style=\"white-space:pre;overflow-x:auto;line-height:normal;font-family:Menlo,'DejaVu Sans Mono',consolas,'Courier New',monospace\"><span style=\"background-color: #800000; font-weight: bold\"> ERROR </span><span style=\"color: #800000; text-decoration-color: #800000; font-weight: bold\"> No entry in quote with quote_compound=122400!</span>\n",
       "</pre>\n"
      ],
      "text/plain": [
       "\u001b[1;7;31m ERROR \u001b[0m\u001b[1;31m No entry in quote with quote_compound=122400!\u001b[0m\n"
      ]
     },
     "metadata": {},
     "output_type": "display_data"
    },
    {
     "data": {
      "text/html": [
       "<pre style=\"white-space:pre;overflow-x:auto;line-height:normal;font-family:Menlo,'DejaVu Sans Mono',consolas,'Courier New',monospace\"><span style=\"background-color: #008000; font-weight: bold\"> Success </span><span style=\"color: #008000; text-decoration-color: #008000; font-weight: bold\"> registered route 140884!</span>\n",
       "</pre>\n"
      ],
      "text/plain": [
       "\u001b[1;7;32m Success \u001b[0m\u001b[1;32m registered route 140884!\u001b[0m\n"
      ]
     },
     "metadata": {},
     "output_type": "display_data"
    },
    {
     "data": {
      "text/html": [
       "<pre style=\"white-space:pre;overflow-x:auto;line-height:normal;font-family:Menlo,'DejaVu Sans Mono',consolas,'Courier New',monospace\"><span style=\"color: #008080; text-decoration-color: #008080; font-weight: bold\">27</span> <span style=\"color: #008080; text-decoration-color: #008080; font-weight: bold\">0</span> <span style=\"color: #008080; text-decoration-color: #008080; font-weight: bold\">0</span> Amidation <span style=\"font-weight: bold; text-decoration: underline\">C122401 </span><span style=\"color: #008000; text-decoration-color: #008000; font-weight: bold; text-decoration: underline\">\"AQMCQXPYDBYMNV-UHFFFAOYSA-N\"</span>\n",
       "</pre>\n"
      ],
      "text/plain": [
       "\u001b[1;36m27\u001b[0m \u001b[1;36m0\u001b[0m \u001b[1;36m0\u001b[0m Amidation \u001b[1;4mC122401 \u001b[0m\u001b[1;4;32m\"AQMCQXPYDBYMNV-UHFFFAOYSA-N\"\u001b[0m\n"
      ]
     },
     "metadata": {},
     "output_type": "display_data"
    },
    {
     "data": {
      "text/html": [
       "<pre style=\"white-space:pre;overflow-x:auto;line-height:normal;font-family:Menlo,'DejaVu Sans Mono',consolas,'Courier New',monospace\"><span style=\"background-color: #800000; font-weight: bold\"> ERROR </span><span style=\"color: #800000; text-decoration-color: #800000; font-weight: bold\"> No entry in quote with quote_compound=122401!</span>\n",
       "</pre>\n"
      ],
      "text/plain": [
       "\u001b[1;7;31m ERROR \u001b[0m\u001b[1;31m No entry in quote with quote_compound=122401!\u001b[0m\n"
      ]
     },
     "metadata": {},
     "output_type": "display_data"
    },
    {
     "data": {
      "text/html": [
       "<pre style=\"white-space:pre;overflow-x:auto;line-height:normal;font-family:Menlo,'DejaVu Sans Mono',consolas,'Courier New',monospace\"><span style=\"background-color: #008000; font-weight: bold\"> Success </span><span style=\"color: #008000; text-decoration-color: #008000; font-weight: bold\"> registered route 140885!</span>\n",
       "</pre>\n"
      ],
      "text/plain": [
       "\u001b[1;7;32m Success \u001b[0m\u001b[1;32m registered route 140885!\u001b[0m\n"
      ]
     },
     "metadata": {},
     "output_type": "display_data"
    },
    {
     "data": {
      "text/html": [
       "<pre style=\"white-space:pre;overflow-x:auto;line-height:normal;font-family:Menlo,'DejaVu Sans Mono',consolas,'Courier New',monospace\"><span style=\"color: #008080; text-decoration-color: #008080; font-weight: bold\">28</span> <span style=\"color: #008080; text-decoration-color: #008080; font-weight: bold\">1</span> <span style=\"color: #008080; text-decoration-color: #008080; font-weight: bold\">0</span> Formation_of_urea_from_two_amines <span style=\"font-weight: bold; text-decoration: underline\">C122402 </span><span style=\"color: #008000; text-decoration-color: #008000; font-weight: bold; text-decoration: underline\">\"UDNDCMKCZBQOCR-UHFFFAOYSA-N\"</span>\n",
       "</pre>\n"
      ],
      "text/plain": [
       "\u001b[1;36m28\u001b[0m \u001b[1;36m1\u001b[0m \u001b[1;36m0\u001b[0m Formation_of_urea_from_two_amines \u001b[1;4mC122402 \u001b[0m\u001b[1;4;32m\"UDNDCMKCZBQOCR-UHFFFAOYSA-N\"\u001b[0m\n"
      ]
     },
     "metadata": {},
     "output_type": "display_data"
    },
    {
     "data": {
      "text/html": [
       "<pre style=\"white-space:pre;overflow-x:auto;line-height:normal;font-family:Menlo,'DejaVu Sans Mono',consolas,'Courier New',monospace\"><span style=\"background-color: #800000; font-weight: bold\"> ERROR </span><span style=\"color: #800000; text-decoration-color: #800000; font-weight: bold\"> No entry in quote with quote_compound=122402!</span>\n",
       "</pre>\n"
      ],
      "text/plain": [
       "\u001b[1;7;31m ERROR \u001b[0m\u001b[1;31m No entry in quote with quote_compound=122402!\u001b[0m\n"
      ]
     },
     "metadata": {},
     "output_type": "display_data"
    },
    {
     "data": {
      "text/html": [
       "<pre style=\"white-space:pre;overflow-x:auto;line-height:normal;font-family:Menlo,'DejaVu Sans Mono',consolas,'Courier New',monospace\"><span style=\"background-color: #008000; font-weight: bold\"> Success </span><span style=\"color: #008000; text-decoration-color: #008000; font-weight: bold\"> registered route 140886!</span>\n",
       "</pre>\n"
      ],
      "text/plain": [
       "\u001b[1;7;32m Success \u001b[0m\u001b[1;32m registered route 140886!\u001b[0m\n"
      ]
     },
     "metadata": {},
     "output_type": "display_data"
    },
    {
     "data": {
      "text/html": [
       "<pre style=\"white-space:pre;overflow-x:auto;line-height:normal;font-family:Menlo,'DejaVu Sans Mono',consolas,'Courier New',monospace\"><span style=\"color: #008080; text-decoration-color: #008080; font-weight: bold\">29</span> <span style=\"color: #008080; text-decoration-color: #008080; font-weight: bold\">1</span> <span style=\"color: #008080; text-decoration-color: #008080; font-weight: bold\">0</span> Formation_of_urea_from_two_amines <span style=\"font-weight: bold; text-decoration: underline\">C122403 </span><span style=\"color: #008000; text-decoration-color: #008000; font-weight: bold; text-decoration: underline\">\"GUBBGFXTNMOAAR-UHFFFAOYSA-N\"</span>\n",
       "</pre>\n"
      ],
      "text/plain": [
       "\u001b[1;36m29\u001b[0m \u001b[1;36m1\u001b[0m \u001b[1;36m0\u001b[0m Formation_of_urea_from_two_amines \u001b[1;4mC122403 \u001b[0m\u001b[1;4;32m\"GUBBGFXTNMOAAR-UHFFFAOYSA-N\"\u001b[0m\n"
      ]
     },
     "metadata": {},
     "output_type": "display_data"
    },
    {
     "data": {
      "text/html": [
       "<pre style=\"white-space:pre;overflow-x:auto;line-height:normal;font-family:Menlo,'DejaVu Sans Mono',consolas,'Courier New',monospace\"><span style=\"background-color: #800000; font-weight: bold\"> ERROR </span><span style=\"color: #800000; text-decoration-color: #800000; font-weight: bold\"> No entry in quote with quote_compound=122403!</span>\n",
       "</pre>\n"
      ],
      "text/plain": [
       "\u001b[1;7;31m ERROR \u001b[0m\u001b[1;31m No entry in quote with quote_compound=122403!\u001b[0m\n"
      ]
     },
     "metadata": {},
     "output_type": "display_data"
    },
    {
     "data": {
      "text/html": [
       "<pre style=\"white-space:pre;overflow-x:auto;line-height:normal;font-family:Menlo,'DejaVu Sans Mono',consolas,'Courier New',monospace\"><span style=\"background-color: #008000; font-weight: bold\"> Success </span><span style=\"color: #008000; text-decoration-color: #008000; font-weight: bold\"> registered route 140887!</span>\n",
       "</pre>\n"
      ],
      "text/plain": [
       "\u001b[1;7;32m Success \u001b[0m\u001b[1;32m registered route 140887!\u001b[0m\n"
      ]
     },
     "metadata": {},
     "output_type": "display_data"
    },
    {
     "data": {
      "text/html": [
       "<pre style=\"white-space:pre;overflow-x:auto;line-height:normal;font-family:Menlo,'DejaVu Sans Mono',consolas,'Courier New',monospace\"><span style=\"color: #008080; text-decoration-color: #008080; font-weight: bold\">30</span> <span style=\"color: #008080; text-decoration-color: #008080; font-weight: bold\">2</span> <span style=\"color: #008080; text-decoration-color: #008080; font-weight: bold\">0</span> Formation_of_urea_from_two_amines <span style=\"font-weight: bold; text-decoration: underline\">C122404 </span><span style=\"color: #008000; text-decoration-color: #008000; font-weight: bold; text-decoration: underline\">\"JKJIXILNAMCJIA-UHFFFAOYSA-N\"</span>\n",
       "</pre>\n"
      ],
      "text/plain": [
       "\u001b[1;36m30\u001b[0m \u001b[1;36m2\u001b[0m \u001b[1;36m0\u001b[0m Formation_of_urea_from_two_amines \u001b[1;4mC122404 \u001b[0m\u001b[1;4;32m\"JKJIXILNAMCJIA-UHFFFAOYSA-N\"\u001b[0m\n"
      ]
     },
     "metadata": {},
     "output_type": "display_data"
    },
    {
     "data": {
      "text/html": [
       "<pre style=\"white-space:pre;overflow-x:auto;line-height:normal;font-family:Menlo,'DejaVu Sans Mono',consolas,'Courier New',monospace\"><span style=\"background-color: #800000; font-weight: bold\"> ERROR </span><span style=\"color: #800000; text-decoration-color: #800000; font-weight: bold\"> No entry in quote with quote_compound=122404!</span>\n",
       "</pre>\n"
      ],
      "text/plain": [
       "\u001b[1;7;31m ERROR \u001b[0m\u001b[1;31m No entry in quote with quote_compound=122404!\u001b[0m\n"
      ]
     },
     "metadata": {},
     "output_type": "display_data"
    },
    {
     "data": {
      "text/html": [
       "<pre style=\"white-space:pre;overflow-x:auto;line-height:normal;font-family:Menlo,'DejaVu Sans Mono',consolas,'Courier New',monospace\"><span style=\"background-color: #008000; font-weight: bold\"> Success </span><span style=\"color: #008000; text-decoration-color: #008000; font-weight: bold\"> registered route 140888!</span>\n",
       "</pre>\n"
      ],
      "text/plain": [
       "\u001b[1;7;32m Success \u001b[0m\u001b[1;32m registered route 140888!\u001b[0m\n"
      ]
     },
     "metadata": {},
     "output_type": "display_data"
    },
    {
     "data": {
      "text/html": [
       "<pre style=\"white-space:pre;overflow-x:auto;line-height:normal;font-family:Menlo,'DejaVu Sans Mono',consolas,'Courier New',monospace\"><span style=\"color: #008080; text-decoration-color: #008080; font-weight: bold\">32</span> <span style=\"color: #008080; text-decoration-color: #008080; font-weight: bold\">0</span> <span style=\"color: #008080; text-decoration-color: #008080; font-weight: bold\">0</span> Amidation <span style=\"font-weight: bold; text-decoration: underline\">C122406 </span><span style=\"color: #008000; text-decoration-color: #008000; font-weight: bold; text-decoration: underline\">\"FXTPOBAQIFAHIO-UHFFFAOYSA-N\"</span>\n",
       "</pre>\n"
      ],
      "text/plain": [
       "\u001b[1;36m32\u001b[0m \u001b[1;36m0\u001b[0m \u001b[1;36m0\u001b[0m Amidation \u001b[1;4mC122406 \u001b[0m\u001b[1;4;32m\"FXTPOBAQIFAHIO-UHFFFAOYSA-N\"\u001b[0m\n"
      ]
     },
     "metadata": {},
     "output_type": "display_data"
    },
    {
     "data": {
      "text/html": [
       "<pre style=\"white-space:pre;overflow-x:auto;line-height:normal;font-family:Menlo,'DejaVu Sans Mono',consolas,'Courier New',monospace\"><span style=\"background-color: #800000; font-weight: bold\"> ERROR </span><span style=\"color: #800000; text-decoration-color: #800000; font-weight: bold\"> No entry in quote with quote_compound=122406!</span>\n",
       "</pre>\n"
      ],
      "text/plain": [
       "\u001b[1;7;31m ERROR \u001b[0m\u001b[1;31m No entry in quote with quote_compound=122406!\u001b[0m\n"
      ]
     },
     "metadata": {},
     "output_type": "display_data"
    },
    {
     "data": {
      "text/html": [
       "<pre style=\"white-space:pre;overflow-x:auto;line-height:normal;font-family:Menlo,'DejaVu Sans Mono',consolas,'Courier New',monospace\"><span style=\"background-color: #008000; font-weight: bold\"> Success </span><span style=\"color: #008000; text-decoration-color: #008000; font-weight: bold\"> registered route 140889!</span>\n",
       "</pre>\n"
      ],
      "text/plain": [
       "\u001b[1;7;32m Success \u001b[0m\u001b[1;32m registered route 140889!\u001b[0m\n"
      ]
     },
     "metadata": {},
     "output_type": "display_data"
    },
    {
     "data": {
      "text/html": [
       "<div>\n",
       "<style scoped>\n",
       "    .dataframe tbody tr th:only-of-type {\n",
       "        vertical-align: middle;\n",
       "    }\n",
       "\n",
       "    .dataframe tbody tr th {\n",
       "        vertical-align: top;\n",
       "    }\n",
       "\n",
       "    .dataframe thead th {\n",
       "        text-align: right;\n",
       "    }\n",
       "</style>\n",
       "<table border=\"1\" class=\"dataframe\">\n",
       "  <thead>\n",
       "    <tr style=\"text-align: right;\">\n",
       "      <th></th>\n",
       "      <th>smiles</th>\n",
       "      <th>template</th>\n",
       "      <th>compound_set</th>\n",
       "      <th>hit1</th>\n",
       "      <th>route0</th>\n",
       "      <th>route0_names</th>\n",
       "      <th>route0_CAR</th>\n",
       "      <th>route0_non_CAR</th>\n",
       "      <th>route1</th>\n",
       "      <th>route1_names</th>\n",
       "      <th>...</th>\n",
       "      <th>route2_CAR</th>\n",
       "      <th>route2_non_CAR</th>\n",
       "      <th>route3</th>\n",
       "      <th>route3_names</th>\n",
       "      <th>route3_CAR</th>\n",
       "      <th>route3_non_CAR</th>\n",
       "      <th>route4</th>\n",
       "      <th>route4_names</th>\n",
       "      <th>route4_CAR</th>\n",
       "      <th>route4_non_CAR</th>\n",
       "    </tr>\n",
       "  </thead>\n",
       "  <tbody>\n",
       "    <tr>\n",
       "      <th>0</th>\n",
       "      <td>CNC(=O)c1cn(C)c2ccccc12</td>\n",
       "      <td>/opt/xchem-fragalysis-2/maxwin/2A_HIPPO/aligne...</td>\n",
       "      <td>P3_20241209</td>\n",
       "      <td>A3066a</td>\n",
       "      <td>[{'name': 'Amidation', 'reactantSmiles': ['Cn1...</td>\n",
       "      <td>[Amidation]</td>\n",
       "      <td>True</td>\n",
       "      <td>None</td>\n",
       "      <td>[{'name': 'Nucleophilic_substitution_with_amin...</td>\n",
       "      <td>[Nucleophilic_substitution_with_amine]</td>\n",
       "      <td>...</td>\n",
       "      <td>False</td>\n",
       "      <td>[Chan-Lam_coupling_of_amides,_sulfonamides,_an...</td>\n",
       "      <td>[{'name': 'Nucleophilic_substitution_with_amin...</td>\n",
       "      <td>[Nucleophilic_substitution_with_amine]</td>\n",
       "      <td>True</td>\n",
       "      <td>None</td>\n",
       "      <td>[{'name': 'Amide_Schotten-Baumann_with_amine',...</td>\n",
       "      <td>[Amide_Schotten-Baumann_with_amine]</td>\n",
       "      <td>True</td>\n",
       "      <td>None</td>\n",
       "    </tr>\n",
       "    <tr>\n",
       "      <th>1</th>\n",
       "      <td>CNC(=O)c1nn(C)c2ccccc12</td>\n",
       "      <td>/opt/xchem-fragalysis-2/maxwin/2A_HIPPO/aligne...</td>\n",
       "      <td>P3_20241209</td>\n",
       "      <td>A2290a</td>\n",
       "      <td>[{'name': 'Amidation', 'reactantSmiles': ['Cn1...</td>\n",
       "      <td>[Amidation]</td>\n",
       "      <td>True</td>\n",
       "      <td>None</td>\n",
       "      <td>[{'name': 'Chan-Lam_coupling_(amination)', 're...</td>\n",
       "      <td>[Chan-Lam_coupling_(amination)]</td>\n",
       "      <td>...</td>\n",
       "      <td>True</td>\n",
       "      <td>None</td>\n",
       "      <td>[{'name': 'Amide_Schotten-Baumann_with_amine',...</td>\n",
       "      <td>[Amide_Schotten-Baumann_with_amine]</td>\n",
       "      <td>True</td>\n",
       "      <td>None</td>\n",
       "      <td>[{'name': 'Chan-Lam_coupling_of_amides,_sulfon...</td>\n",
       "      <td>[Chan-Lam_coupling_of_amides,_sulfonamides,_an...</td>\n",
       "      <td>False</td>\n",
       "      <td>[Chan-Lam_coupling_of_amides,_sulfonamides,_an...</td>\n",
       "    </tr>\n",
       "    <tr>\n",
       "      <th>2</th>\n",
       "      <td>Cn1nc(C(=O)NCC2Cc3ccccc3CN2)c2ccccc21</td>\n",
       "      <td>/opt/xchem-fragalysis-2/maxwin/2A_HIPPO/aligne...</td>\n",
       "      <td>P3_20241209</td>\n",
       "      <td>A2293a</td>\n",
       "      <td>[{'name': 'Amidation', 'reactantSmiles': ['NCC...</td>\n",
       "      <td>[Amidation]</td>\n",
       "      <td>True</td>\n",
       "      <td>None</td>\n",
       "      <td>[{'name': 'Ester_amidation', 'reactantSmiles':...</td>\n",
       "      <td>[Ester_amidation]</td>\n",
       "      <td>...</td>\n",
       "      <td>True</td>\n",
       "      <td>None</td>\n",
       "      <td>[{'name': 'Chan-Lam_coupling_(amination)', 're...</td>\n",
       "      <td>[Chan-Lam_coupling_(amination)]</td>\n",
       "      <td>False</td>\n",
       "      <td>[Chan-Lam_coupling_(amination)]</td>\n",
       "      <td>[{'name': 'Nucleophilic_substitution_with_amin...</td>\n",
       "      <td>[Nucleophilic_substitution_with_amine]</td>\n",
       "      <td>True</td>\n",
       "      <td>None</td>\n",
       "    </tr>\n",
       "    <tr>\n",
       "      <th>3</th>\n",
       "      <td>Cn1nc(C(=O)Nc2cn[nH]c2)c2ccccc21</td>\n",
       "      <td>/opt/xchem-fragalysis-2/maxwin/2A_HIPPO/aligne...</td>\n",
       "      <td>P3_20241209</td>\n",
       "      <td>A2304a</td>\n",
       "      <td>[{'name': 'Amidation', 'reactantSmiles': ['Nc1...</td>\n",
       "      <td>[Amidation]</td>\n",
       "      <td>True</td>\n",
       "      <td>None</td>\n",
       "      <td>[{'name': 'Chan-Lam_coupling_of_amides,_sulfon...</td>\n",
       "      <td>[Chan-Lam_coupling_of_amides,_sulfonamides,_an...</td>\n",
       "      <td>...</td>\n",
       "      <td>True</td>\n",
       "      <td>None</td>\n",
       "      <td>[{'name': 'Nucleophilic_aromatic_substitution_...</td>\n",
       "      <td>[Nucleophilic_aromatic_substitution_(methylsul...</td>\n",
       "      <td>False</td>\n",
       "      <td>[Nucleophilic_aromatic_substitution_(methylsul...</td>\n",
       "      <td>[{'name': 'Ester_amidation', 'reactantSmiles':...</td>\n",
       "      <td>[Ester_amidation]</td>\n",
       "      <td>True</td>\n",
       "      <td>None</td>\n",
       "    </tr>\n",
       "    <tr>\n",
       "      <th>4</th>\n",
       "      <td>Cn1nc(C(=O)NC2CC2)c2cc(F)ccc21</td>\n",
       "      <td>/opt/xchem-fragalysis-2/maxwin/2A_HIPPO/aligne...</td>\n",
       "      <td>P3_20241209</td>\n",
       "      <td>A2339a</td>\n",
       "      <td>[{'name': 'Amidation', 'reactantSmiles': ['NC1...</td>\n",
       "      <td>[Amidation]</td>\n",
       "      <td>True</td>\n",
       "      <td>None</td>\n",
       "      <td>[{'name': 'Chan-Lam_coupling_of_amides,_sulfon...</td>\n",
       "      <td>[Chan-Lam_coupling_of_amides,_sulfonamides,_an...</td>\n",
       "      <td>...</td>\n",
       "      <td>True</td>\n",
       "      <td>None</td>\n",
       "      <td>[{'name': 'Ester_amidation', 'reactantSmiles':...</td>\n",
       "      <td>[Ester_amidation]</td>\n",
       "      <td>True</td>\n",
       "      <td>None</td>\n",
       "      <td>[{'name': 'Chan-Lam_coupling_(amination)', 're...</td>\n",
       "      <td>[Chan-Lam_coupling_(amination)]</td>\n",
       "      <td>False</td>\n",
       "      <td>[Chan-Lam_coupling_(amination)]</td>\n",
       "    </tr>\n",
       "    <tr>\n",
       "      <th>5</th>\n",
       "      <td>Cn1nc(C(N)=O)c2cc(F)ccc21</td>\n",
       "      <td>/opt/xchem-fragalysis-2/maxwin/2A_HIPPO/aligne...</td>\n",
       "      <td>P3_20241209</td>\n",
       "      <td>A2351a</td>\n",
       "      <td>[{'name': 'Amidation', 'reactantSmiles': ['N',...</td>\n",
       "      <td>[Amidation]</td>\n",
       "      <td>True</td>\n",
       "      <td>None</td>\n",
       "      <td>[{'name': 'Ester_ammonolysis', 'reactantSmiles...</td>\n",
       "      <td>[Ester_ammonolysis]</td>\n",
       "      <td>...</td>\n",
       "      <td>True</td>\n",
       "      <td>None</td>\n",
       "      <td>[{'name': 'Ester_amidation', 'reactantSmiles':...</td>\n",
       "      <td>[Ester_amidation]</td>\n",
       "      <td>True</td>\n",
       "      <td>None</td>\n",
       "      <td>[{'name': 'Carboxylic_acid_to_primary_amide', ...</td>\n",
       "      <td>[Carboxylic_acid_to_primary_amide]</td>\n",
       "      <td>False</td>\n",
       "      <td>[Carboxylic_acid_to_primary_amide]</td>\n",
       "    </tr>\n",
       "    <tr>\n",
       "      <th>6</th>\n",
       "      <td>CC(=O)Nc1cccc(NC(N)=O)c1</td>\n",
       "      <td>/opt/xchem-fragalysis-2/maxwin/2A_HIPPO/aligne...</td>\n",
       "      <td>P3_20241209</td>\n",
       "      <td>A2454a</td>\n",
       "      <td>[{'name': 'Amidation', 'reactantSmiles': ['NC(...</td>\n",
       "      <td>[Amidation]</td>\n",
       "      <td>True</td>\n",
       "      <td>None</td>\n",
       "      <td>[{'name': 'Chan-Lam_coupling_of_amides,_sulfon...</td>\n",
       "      <td>[Chan-Lam_coupling_of_amides,_sulfonamides,_an...</td>\n",
       "      <td>...</td>\n",
       "      <td>False</td>\n",
       "      <td>[Iodo_N-arylation]</td>\n",
       "      <td>[{'name': 'Amide_Schotten-Baumann_with_amine',...</td>\n",
       "      <td>[Amide_Schotten-Baumann_with_amine]</td>\n",
       "      <td>True</td>\n",
       "      <td>None</td>\n",
       "      <td>[{'name': 'Iodo_N-arylation', 'reactantSmiles'...</td>\n",
       "      <td>[Iodo_N-arylation]</td>\n",
       "      <td>False</td>\n",
       "      <td>[Iodo_N-arylation]</td>\n",
       "    </tr>\n",
       "    <tr>\n",
       "      <th>7</th>\n",
       "      <td>COc1ccc(Cl)c2c1C(=O)C(=O)N2</td>\n",
       "      <td>/opt/xchem-fragalysis-2/maxwin/2A_HIPPO/aligne...</td>\n",
       "      <td>P3_20241209</td>\n",
       "      <td>A2513a</td>\n",
       "      <td>[{'name': 'Buchwald-Hartwig_(thio)etherificati...</td>\n",
       "      <td>[Buchwald-Hartwig_(thio)etherification]</td>\n",
       "      <td>False</td>\n",
       "      <td>[Buchwald-Hartwig_(thio)etherification]</td>\n",
       "      <td>[{'name': 'Buchwald-Hartwig_(thio)etherificati...</td>\n",
       "      <td>[Buchwald-Hartwig_(thio)etherification]</td>\n",
       "      <td>...</td>\n",
       "      <td>False</td>\n",
       "      <td>[Riley_oxidation]</td>\n",
       "      <td>[{'name': 'Nucleophilic_aromatic_substitution_...</td>\n",
       "      <td>[Nucleophilic_aromatic_substitution_(alcohol,_...</td>\n",
       "      <td>False</td>\n",
       "      <td>[Nucleophilic_aromatic_substitution_(alcohol,_...</td>\n",
       "      <td>[{'name': 'Nucleophilic_aromatic_substitution_...</td>\n",
       "      <td>[Nucleophilic_aromatic_substitution_(alcohol,_...</td>\n",
       "      <td>False</td>\n",
       "      <td>[Nucleophilic_aromatic_substitution_(alcohol,_...</td>\n",
       "    </tr>\n",
       "    <tr>\n",
       "      <th>8</th>\n",
       "      <td>COc1ccccc1NC(=O)Nc1cccnc1</td>\n",
       "      <td>/opt/xchem-fragalysis-2/maxwin/2A_HIPPO/aligne...</td>\n",
       "      <td>P3_20241209</td>\n",
       "      <td>A2629a</td>\n",
       "      <td>[{'name': 'Buchwald-Hartwig_(thio)etherificati...</td>\n",
       "      <td>[Buchwald-Hartwig_(thio)etherification]</td>\n",
       "      <td>False</td>\n",
       "      <td>[Buchwald-Hartwig_(thio)etherification]</td>\n",
       "      <td>[{'name': 'Isocyanate_to_urea', 'reactantSmile...</td>\n",
       "      <td>[Isocyanate_to_urea]</td>\n",
       "      <td>...</td>\n",
       "      <td>False</td>\n",
       "      <td>[Isocyanate_to_urea]</td>\n",
       "      <td>[{'name': 'Buchwald-Hartwig_(thio)etherificati...</td>\n",
       "      <td>[Buchwald-Hartwig_(thio)etherification]</td>\n",
       "      <td>False</td>\n",
       "      <td>[Buchwald-Hartwig_(thio)etherification]</td>\n",
       "      <td>[{'name': 'Buchwald-Hartwig_amidation_with_ami...</td>\n",
       "      <td>[Buchwald-Hartwig_amidation_with_amide-like_nu...</td>\n",
       "      <td>True</td>\n",
       "      <td>None</td>\n",
       "    </tr>\n",
       "    <tr>\n",
       "      <th>9</th>\n",
       "      <td>Cn1nc(C(=O)NCCc2cocn2)c2ccccc21</td>\n",
       "      <td>/opt/xchem-fragalysis-2/maxwin/2A_HIPPO/aligne...</td>\n",
       "      <td>P3_20241209</td>\n",
       "      <td>A2846a</td>\n",
       "      <td>[{'name': 'Amidation', 'reactantSmiles': ['NCC...</td>\n",
       "      <td>[Amidation]</td>\n",
       "      <td>True</td>\n",
       "      <td>None</td>\n",
       "      <td>[{'name': 'Amide_Schotten-Baumann_with_amine',...</td>\n",
       "      <td>[Amide_Schotten-Baumann_with_amine]</td>\n",
       "      <td>...</td>\n",
       "      <td>True</td>\n",
       "      <td>None</td>\n",
       "      <td>[{'name': 'Ester_amidation', 'reactantSmiles':...</td>\n",
       "      <td>[Ester_amidation]</td>\n",
       "      <td>True</td>\n",
       "      <td>None</td>\n",
       "      <td>[{'name': 'Chan-Lam_coupling_(amination)', 're...</td>\n",
       "      <td>[Chan-Lam_coupling_(amination)]</td>\n",
       "      <td>False</td>\n",
       "      <td>[Chan-Lam_coupling_(amination)]</td>\n",
       "    </tr>\n",
       "    <tr>\n",
       "      <th>10</th>\n",
       "      <td>Cn1nc(C(=O)NCc2c[nH]cn2)c2ccccc21</td>\n",
       "      <td>/opt/xchem-fragalysis-2/maxwin/2A_HIPPO/aligne...</td>\n",
       "      <td>P3_20241209</td>\n",
       "      <td>A2972a</td>\n",
       "      <td>[{'name': 'Amidation', 'reactantSmiles': ['NCc...</td>\n",
       "      <td>[Amidation]</td>\n",
       "      <td>True</td>\n",
       "      <td>None</td>\n",
       "      <td>[{'name': 'Ester_amidation', 'reactantSmiles':...</td>\n",
       "      <td>[Ester_amidation]</td>\n",
       "      <td>...</td>\n",
       "      <td>True</td>\n",
       "      <td>None</td>\n",
       "      <td>[{'name': 'Amide_Schotten-Baumann_with_amine',...</td>\n",
       "      <td>[Amide_Schotten-Baumann_with_amine]</td>\n",
       "      <td>True</td>\n",
       "      <td>None</td>\n",
       "      <td>[{'name': 'Nucleophilic_substitution_with_amin...</td>\n",
       "      <td>[Nucleophilic_substitution_with_amine]</td>\n",
       "      <td>True</td>\n",
       "      <td>None</td>\n",
       "    </tr>\n",
       "    <tr>\n",
       "      <th>11</th>\n",
       "      <td>Cc1cccc(NC(=O)N2CCCC(C(N)=O)C2)c1</td>\n",
       "      <td>/opt/xchem-fragalysis-2/maxwin/2A_HIPPO/aligne...</td>\n",
       "      <td>P3_20241209</td>\n",
       "      <td>A3054a</td>\n",
       "      <td>[{'name': 'Amidation', 'reactantSmiles': ['N',...</td>\n",
       "      <td>[Amidation]</td>\n",
       "      <td>True</td>\n",
       "      <td>None</td>\n",
       "      <td>[{'name': 'Isocyanate_to_urea', 'reactantSmile...</td>\n",
       "      <td>[Isocyanate_to_urea]</td>\n",
       "      <td>...</td>\n",
       "      <td>False</td>\n",
       "      <td>[Iodo_N-arylation]</td>\n",
       "      <td>[{'name': 'Formation_of_urea_from_two_amines',...</td>\n",
       "      <td>[Formation_of_urea_from_two_amines]</td>\n",
       "      <td>True</td>\n",
       "      <td>None</td>\n",
       "      <td>[{'name': 'Buchwald-Hartwig_amidation_with_ami...</td>\n",
       "      <td>[Buchwald-Hartwig_amidation_with_amide-like_nu...</td>\n",
       "      <td>True</td>\n",
       "      <td>None</td>\n",
       "    </tr>\n",
       "    <tr>\n",
       "      <th>12</th>\n",
       "      <td>Cc1cc(CNC(=O)c2cn(C)c3ccccc23)on1</td>\n",
       "      <td>/opt/xchem-fragalysis-2/maxwin/2A_HIPPO/aligne...</td>\n",
       "      <td>P3_20241209</td>\n",
       "      <td>A3175a</td>\n",
       "      <td>[{'name': 'Amidation', 'reactantSmiles': ['Cn1...</td>\n",
       "      <td>[Amidation]</td>\n",
       "      <td>True</td>\n",
       "      <td>None</td>\n",
       "      <td>[{'name': 'Amide_Schotten-Baumann_with_amine',...</td>\n",
       "      <td>[Amide_Schotten-Baumann_with_amine]</td>\n",
       "      <td>...</td>\n",
       "      <td>True</td>\n",
       "      <td>None</td>\n",
       "      <td>[{'name': 'Ester_amidation', 'reactantSmiles':...</td>\n",
       "      <td>[Ester_amidation]</td>\n",
       "      <td>True</td>\n",
       "      <td>None</td>\n",
       "      <td>[{'name': 'Ester_amidation', 'reactantSmiles':...</td>\n",
       "      <td>[Ester_amidation]</td>\n",
       "      <td>True</td>\n",
       "      <td>None</td>\n",
       "    </tr>\n",
       "    <tr>\n",
       "      <th>13</th>\n",
       "      <td>COCC(C)NC(=O)c1nn(C)c2ccccc12</td>\n",
       "      <td>/opt/xchem-fragalysis-2/maxwin/2A_HIPPO/aligne...</td>\n",
       "      <td>P3_20241209</td>\n",
       "      <td>A3176a</td>\n",
       "      <td>[{'name': 'Amidation', 'reactantSmiles': ['Cn1...</td>\n",
       "      <td>[Amidation]</td>\n",
       "      <td>True</td>\n",
       "      <td>None</td>\n",
       "      <td>[{'name': 'Nucleophilic_substitution_with_amin...</td>\n",
       "      <td>[Nucleophilic_substitution_with_amine]</td>\n",
       "      <td>...</td>\n",
       "      <td>True</td>\n",
       "      <td>None</td>\n",
       "      <td>[{'name': 'Chan-Lam_coupling_(amination)', 're...</td>\n",
       "      <td>[Chan-Lam_coupling_(amination)]</td>\n",
       "      <td>False</td>\n",
       "      <td>[Chan-Lam_coupling_(amination)]</td>\n",
       "      <td>[{'name': 'Nucleophilic_substitution_with_amin...</td>\n",
       "      <td>[Nucleophilic_substitution_with_amine]</td>\n",
       "      <td>True</td>\n",
       "      <td>None</td>\n",
       "    </tr>\n",
       "    <tr>\n",
       "      <th>14</th>\n",
       "      <td>Cn1nc(C(=O)NC2CC2CO)c2ccccc21</td>\n",
       "      <td>/opt/xchem-fragalysis-2/maxwin/2A_HIPPO/aligne...</td>\n",
       "      <td>P3_20241209</td>\n",
       "      <td>A3177a</td>\n",
       "      <td>[{'name': 'Amidation', 'reactantSmiles': ['NC1...</td>\n",
       "      <td>[Amidation]</td>\n",
       "      <td>True</td>\n",
       "      <td>None</td>\n",
       "      <td>[{'name': 'Ester_amidation', 'reactantSmiles':...</td>\n",
       "      <td>[Ester_amidation]</td>\n",
       "      <td>...</td>\n",
       "      <td>True</td>\n",
       "      <td>None</td>\n",
       "      <td>[{'name': 'Ester_to_alcohol_reduction_(intermo...</td>\n",
       "      <td>[Ester_to_alcohol_reduction_(intermolecular), ...</td>\n",
       "      <td>False</td>\n",
       "      <td>[Ester_to_alcohol_reduction_(intermolecular)]</td>\n",
       "      <td>[{'name': 'Chan-Lam_coupling_of_amides,_sulfon...</td>\n",
       "      <td>[Chan-Lam_coupling_of_amides,_sulfonamides,_an...</td>\n",
       "      <td>False</td>\n",
       "      <td>[Chan-Lam_coupling_of_amides,_sulfonamides,_an...</td>\n",
       "    </tr>\n",
       "    <tr>\n",
       "      <th>15</th>\n",
       "      <td>Cn1nc(C(=O)NC2CCOC2)c2ccccc21</td>\n",
       "      <td>/opt/xchem-fragalysis-2/maxwin/2A_HIPPO/aligne...</td>\n",
       "      <td>P3_20241209</td>\n",
       "      <td>A3178a</td>\n",
       "      <td>[{'name': 'Amidation', 'reactantSmiles': ['NC1...</td>\n",
       "      <td>[Amidation]</td>\n",
       "      <td>True</td>\n",
       "      <td>None</td>\n",
       "      <td>[{'name': 'Amide_Schotten-Baumann_with_amine',...</td>\n",
       "      <td>[Amide_Schotten-Baumann_with_amine]</td>\n",
       "      <td>...</td>\n",
       "      <td>True</td>\n",
       "      <td>None</td>\n",
       "      <td>[{'name': 'Ester_amidation', 'reactantSmiles':...</td>\n",
       "      <td>[Ester_amidation]</td>\n",
       "      <td>True</td>\n",
       "      <td>None</td>\n",
       "      <td>[{'name': 'Chan-Lam_coupling_(amination)', 're...</td>\n",
       "      <td>[Chan-Lam_coupling_(amination)]</td>\n",
       "      <td>False</td>\n",
       "      <td>[Chan-Lam_coupling_(amination)]</td>\n",
       "    </tr>\n",
       "    <tr>\n",
       "      <th>16</th>\n",
       "      <td>Cn1nc(C(=O)NCCn2cncn2)c2ccccc21</td>\n",
       "      <td>/opt/xchem-fragalysis-2/maxwin/2A_HIPPO/aligne...</td>\n",
       "      <td>P3_20241209</td>\n",
       "      <td>A3181a</td>\n",
       "      <td>[{'name': 'Amidation', 'reactantSmiles': ['NCC...</td>\n",
       "      <td>[Amidation]</td>\n",
       "      <td>True</td>\n",
       "      <td>None</td>\n",
       "      <td>[{'name': 'Amide_Schotten-Baumann_with_amine',...</td>\n",
       "      <td>[Amide_Schotten-Baumann_with_amine]</td>\n",
       "      <td>...</td>\n",
       "      <td>True</td>\n",
       "      <td>None</td>\n",
       "      <td>[{'name': 'Ester_amidation', 'reactantSmiles':...</td>\n",
       "      <td>[Ester_amidation]</td>\n",
       "      <td>True</td>\n",
       "      <td>None</td>\n",
       "      <td>[{'name': 'Nucleophilic_substitution_with_amin...</td>\n",
       "      <td>[Nucleophilic_substitution_with_amine]</td>\n",
       "      <td>True</td>\n",
       "      <td>None</td>\n",
       "    </tr>\n",
       "    <tr>\n",
       "      <th>17</th>\n",
       "      <td>Cn1cnc(CCNC(=O)c2nn(C)c3ccccc23)c1</td>\n",
       "      <td>/opt/xchem-fragalysis-2/maxwin/2A_HIPPO/A71EV2...</td>\n",
       "      <td>P3_20241209</td>\n",
       "      <td>A3371a</td>\n",
       "      <td>[{'name': 'Amidation', 'reactantSmiles': ['Cn1...</td>\n",
       "      <td>[Amidation]</td>\n",
       "      <td>True</td>\n",
       "      <td>None</td>\n",
       "      <td>[{'name': 'Amide_Schotten-Baumann_with_amine',...</td>\n",
       "      <td>[Amide_Schotten-Baumann_with_amine]</td>\n",
       "      <td>...</td>\n",
       "      <td>True</td>\n",
       "      <td>None</td>\n",
       "      <td>[{'name': 'Ester_amidation', 'reactantSmiles':...</td>\n",
       "      <td>[Ester_amidation]</td>\n",
       "      <td>True</td>\n",
       "      <td>None</td>\n",
       "      <td>[{'name': 'Chan-Lam_coupling_(amination)', 're...</td>\n",
       "      <td>[Chan-Lam_coupling_(amination)]</td>\n",
       "      <td>False</td>\n",
       "      <td>[Chan-Lam_coupling_(amination)]</td>\n",
       "    </tr>\n",
       "    <tr>\n",
       "      <th>18</th>\n",
       "      <td>CC(Cc1cocn1)NC(=O)c1nn(C)c2ccccc12</td>\n",
       "      <td>/opt/xchem-fragalysis-2/maxwin/2A_HIPPO/A71EV2...</td>\n",
       "      <td>P3_20241209</td>\n",
       "      <td>A3379a</td>\n",
       "      <td>[{'name': 'Amidation', 'reactantSmiles': ['Cn1...</td>\n",
       "      <td>[Amidation]</td>\n",
       "      <td>True</td>\n",
       "      <td>None</td>\n",
       "      <td>[{'name': 'Amide_Schotten-Baumann_with_amine',...</td>\n",
       "      <td>[Amide_Schotten-Baumann_with_amine]</td>\n",
       "      <td>...</td>\n",
       "      <td>True</td>\n",
       "      <td>None</td>\n",
       "      <td>[{'name': 'Ester_amidation', 'reactantSmiles':...</td>\n",
       "      <td>[Ester_amidation]</td>\n",
       "      <td>True</td>\n",
       "      <td>None</td>\n",
       "      <td>[{'name': 'Sp3-sp2_Macmillan_coupling_alcohol_...</td>\n",
       "      <td>[Sp3-sp2_Macmillan_coupling_alcohol_and_aryl_b...</td>\n",
       "      <td>False</td>\n",
       "      <td>[Sp3-sp2_Macmillan_coupling_alcohol_and_aryl_b...</td>\n",
       "    </tr>\n",
       "    <tr>\n",
       "      <th>19</th>\n",
       "      <td>O=C(NCCc1cocn1)N1CCc2ccccc21</td>\n",
       "      <td>/opt/xchem-fragalysis-2/maxwin/2A_HIPPO/A71EV2...</td>\n",
       "      <td>P3_20241209</td>\n",
       "      <td>A3392a</td>\n",
       "      <td>[{'name': 'Formation_of_urea_from_two_amines',...</td>\n",
       "      <td>[Formation_of_urea_from_two_amines]</td>\n",
       "      <td>True</td>\n",
       "      <td>None</td>\n",
       "      <td>[{'name': 'Buchwald-Hartwig_amidation_with_ami...</td>\n",
       "      <td>[Buchwald-Hartwig_amidation_with_amide-like_nu...</td>\n",
       "      <td>...</td>\n",
       "      <td>True</td>\n",
       "      <td>None</td>\n",
       "      <td>[{'name': 'Buchwald-Hartwig_amidation_with_ami...</td>\n",
       "      <td>[Buchwald-Hartwig_amidation_with_amide-like_nu...</td>\n",
       "      <td>True</td>\n",
       "      <td>None</td>\n",
       "      <td>[{'name': 'Sp3-sp2_Suzuki_coupling', 'reactant...</td>\n",
       "      <td>[Sp3-sp2_Suzuki_coupling, Formation_of_urea_fr...</td>\n",
       "      <td>True</td>\n",
       "      <td>None</td>\n",
       "    </tr>\n",
       "    <tr>\n",
       "      <th>20</th>\n",
       "      <td>Cn1cc2cccc(NC(=O)Cc3cocn3)c2n1</td>\n",
       "      <td>/opt/xchem-fragalysis-2/maxwin/2A_HIPPO/A71EV2...</td>\n",
       "      <td>P3_20241209</td>\n",
       "      <td>A3403a</td>\n",
       "      <td>[{'name': 'Amidation', 'reactantSmiles': ['O=C...</td>\n",
       "      <td>[Amidation]</td>\n",
       "      <td>True</td>\n",
       "      <td>None</td>\n",
       "      <td>[{'name': 'Ester_amidation', 'reactantSmiles':...</td>\n",
       "      <td>[Ester_amidation]</td>\n",
       "      <td>...</td>\n",
       "      <td>True</td>\n",
       "      <td>None</td>\n",
       "      <td>[{'name': 'Chan-Lam_coupling_of_amides,_sulfon...</td>\n",
       "      <td>[Chan-Lam_coupling_of_amides,_sulfonamides,_an...</td>\n",
       "      <td>False</td>\n",
       "      <td>[Chan-Lam_coupling_of_amides,_sulfonamides,_an...</td>\n",
       "      <td>[{'name': 'Chan-Lam_coupling_(amination)', 're...</td>\n",
       "      <td>[Chan-Lam_coupling_(amination)]</td>\n",
       "      <td>False</td>\n",
       "      <td>[Chan-Lam_coupling_(amination)]</td>\n",
       "    </tr>\n",
       "    <tr>\n",
       "      <th>21</th>\n",
       "      <td>C=CS(=O)(=O)N1CCCC(C(N)=O)C1</td>\n",
       "      <td>/opt/xchem-fragalysis-2/maxwin/2A_HIPPO/A71EV2...</td>\n",
       "      <td>P3_20241209</td>\n",
       "      <td>A3408a</td>\n",
       "      <td>[{'name': 'Sulfonamide_Schotten-Baumann_with_a...</td>\n",
       "      <td>[Sulfonamide_Schotten-Baumann_with_amine_(inte...</td>\n",
       "      <td>True</td>\n",
       "      <td>None</td>\n",
       "      <td>[{'name': 'Sulfonamide_Schotten-Baumann_with_a...</td>\n",
       "      <td>[Sulfonamide_Schotten-Baumann_with_amine_(inte...</td>\n",
       "      <td>...</td>\n",
       "      <td>True</td>\n",
       "      <td>None</td>\n",
       "      <td>[{'name': 'Elimination_reaction', 'reactantSmi...</td>\n",
       "      <td>[Elimination_reaction, Sulfonamide_Schotten-Ba...</td>\n",
       "      <td>False</td>\n",
       "      <td>[Elimination_reaction]</td>\n",
       "      <td>[{'name': 'Amidation', 'reactantSmiles': ['N',...</td>\n",
       "      <td>[Amidation, Sulfonamide_Schotten-Baumann_with_...</td>\n",
       "      <td>True</td>\n",
       "      <td>None</td>\n",
       "    </tr>\n",
       "    <tr>\n",
       "      <th>22</th>\n",
       "      <td>Cc1nn(C)c2cc(C(=O)NCCc3cocn3)ccc12</td>\n",
       "      <td>/opt/xchem-fragalysis-2/maxwin/2A_HIPPO/A71EV2...</td>\n",
       "      <td>P3_20241209</td>\n",
       "      <td>A3410a</td>\n",
       "      <td>[{'name': 'Amidation', 'reactantSmiles': ['NCC...</td>\n",
       "      <td>[Amidation]</td>\n",
       "      <td>True</td>\n",
       "      <td>None</td>\n",
       "      <td>[{'name': 'Chan-Lam_coupling_(amination)', 're...</td>\n",
       "      <td>[Chan-Lam_coupling_(amination)]</td>\n",
       "      <td>...</td>\n",
       "      <td>False</td>\n",
       "      <td>[Sp3-sp2_Macmillan_coupling_alcohol_and_aryl_b...</td>\n",
       "      <td>[{'name': 'Ester_amidation', 'reactantSmiles':...</td>\n",
       "      <td>[Ester_amidation]</td>\n",
       "      <td>True</td>\n",
       "      <td>None</td>\n",
       "      <td>[{'name': 'Nucleophilic_substitution_with_amin...</td>\n",
       "      <td>[Nucleophilic_substitution_with_amine]</td>\n",
       "      <td>True</td>\n",
       "      <td>None</td>\n",
       "    </tr>\n",
       "    <tr>\n",
       "      <th>23</th>\n",
       "      <td>NC(=O)C1CCCN(C(=O)NCC2CC2)C1</td>\n",
       "      <td>/opt/xchem-fragalysis-2/maxwin/2A_HIPPO/A71EV2...</td>\n",
       "      <td>P3_20241209</td>\n",
       "      <td>A3417a</td>\n",
       "      <td>[{'name': 'Isocyanate_to_urea', 'reactantSmile...</td>\n",
       "      <td>[Isocyanate_to_urea]</td>\n",
       "      <td>False</td>\n",
       "      <td>[Isocyanate_to_urea]</td>\n",
       "      <td>[{'name': 'Formation_of_urea_from_two_amines',...</td>\n",
       "      <td>[Formation_of_urea_from_two_amines]</td>\n",
       "      <td>...</td>\n",
       "      <td>True</td>\n",
       "      <td>None</td>\n",
       "      <td>[{'name': 'Ester_amidation', 'reactantSmiles':...</td>\n",
       "      <td>[Ester_amidation]</td>\n",
       "      <td>True</td>\n",
       "      <td>None</td>\n",
       "      <td>[{'name': 'Ester_amidation', 'reactantSmiles':...</td>\n",
       "      <td>[Ester_amidation]</td>\n",
       "      <td>True</td>\n",
       "      <td>None</td>\n",
       "    </tr>\n",
       "    <tr>\n",
       "      <th>24</th>\n",
       "      <td>Cn1nc(C(=O)NCCc2cocn2)c2ccccc2c1=O</td>\n",
       "      <td>/opt/xchem-fragalysis-2/maxwin/2A_HIPPO/A71EV2...</td>\n",
       "      <td>P3_20241209</td>\n",
       "      <td>A3419a</td>\n",
       "      <td>[{'name': 'Amidation', 'reactantSmiles': ['NCC...</td>\n",
       "      <td>[Amidation]</td>\n",
       "      <td>True</td>\n",
       "      <td>None</td>\n",
       "      <td>[{'name': 'Ester_amidation', 'reactantSmiles':...</td>\n",
       "      <td>[Ester_amidation]</td>\n",
       "      <td>...</td>\n",
       "      <td>True</td>\n",
       "      <td>None</td>\n",
       "      <td>[{'name': 'Nucleophilic_substitution_with_amin...</td>\n",
       "      <td>[Nucleophilic_substitution_with_amine]</td>\n",
       "      <td>True</td>\n",
       "      <td>None</td>\n",
       "      <td>[{'name': 'Sp3-sp2_Macmillan_coupling_alcohol_...</td>\n",
       "      <td>[Sp3-sp2_Macmillan_coupling_alcohol_and_aryl_b...</td>\n",
       "      <td>False</td>\n",
       "      <td>[Sp3-sp2_Macmillan_coupling_alcohol_and_aryl_b...</td>\n",
       "    </tr>\n",
       "    <tr>\n",
       "      <th>25</th>\n",
       "      <td>O=C(NCCc1cocn1)c1ccccc1</td>\n",
       "      <td>/opt/xchem-fragalysis-2/maxwin/2A_HIPPO/A71EV2...</td>\n",
       "      <td>P3_20241209</td>\n",
       "      <td>A3435a</td>\n",
       "      <td>[{'name': 'Amidation', 'reactantSmiles': ['O=C...</td>\n",
       "      <td>[Amidation]</td>\n",
       "      <td>True</td>\n",
       "      <td>None</td>\n",
       "      <td>[{'name': 'Sp3-sp2_Macmillan_coupling_with_bro...</td>\n",
       "      <td>[Sp3-sp2_Macmillan_coupling_with_bromide_(inte...</td>\n",
       "      <td>...</td>\n",
       "      <td>True</td>\n",
       "      <td>None</td>\n",
       "      <td>[{'name': 'Sp3-sp2_Macmillan_coupling_alcohol_...</td>\n",
       "      <td>[Sp3-sp2_Macmillan_coupling_alcohol_and_aryl_b...</td>\n",
       "      <td>False</td>\n",
       "      <td>[Sp3-sp2_Macmillan_coupling_alcohol_and_aryl_b...</td>\n",
       "      <td>[{'name': 'Ester_amidation', 'reactantSmiles':...</td>\n",
       "      <td>[Ester_amidation]</td>\n",
       "      <td>True</td>\n",
       "      <td>None</td>\n",
       "    </tr>\n",
       "    <tr>\n",
       "      <th>26</th>\n",
       "      <td>Cn1ncc(C(=O)NCCc2cocn2)n1</td>\n",
       "      <td>/opt/xchem-fragalysis-2/maxwin/2A_HIPPO/A71EV2...</td>\n",
       "      <td>P3_20241209</td>\n",
       "      <td>A3436a</td>\n",
       "      <td>[{'name': 'Amidation', 'reactantSmiles': ['NCC...</td>\n",
       "      <td>[Amidation]</td>\n",
       "      <td>True</td>\n",
       "      <td>None</td>\n",
       "      <td>[{'name': 'Ester_amidation', 'reactantSmiles':...</td>\n",
       "      <td>[Ester_amidation]</td>\n",
       "      <td>...</td>\n",
       "      <td>False</td>\n",
       "      <td>[Chan-Lam_coupling_(amination)]</td>\n",
       "      <td>[{'name': 'Sp3-sp2_Macmillan_coupling_alcohol_...</td>\n",
       "      <td>[Sp3-sp2_Macmillan_coupling_alcohol_and_aryl_b...</td>\n",
       "      <td>False</td>\n",
       "      <td>[Sp3-sp2_Macmillan_coupling_alcohol_and_aryl_b...</td>\n",
       "      <td>[{'name': 'Nucleophilic_substitution_with_amin...</td>\n",
       "      <td>[Nucleophilic_substitution_with_amine]</td>\n",
       "      <td>True</td>\n",
       "      <td>None</td>\n",
       "    </tr>\n",
       "    <tr>\n",
       "      <th>27</th>\n",
       "      <td>N#Cc1sccc1CC(=O)N1CCCC(C(N)=O)C1</td>\n",
       "      <td>/opt/xchem-fragalysis-2/maxwin/2A_HIPPO/A71EV2...</td>\n",
       "      <td>P3_20241209</td>\n",
       "      <td>A3450a</td>\n",
       "      <td>[{'name': 'Amidation', 'reactantSmiles': ['NC(...</td>\n",
       "      <td>[Amidation]</td>\n",
       "      <td>True</td>\n",
       "      <td>None</td>\n",
       "      <td>[{'name': 'Alpha-arylation', 'reactantSmiles':...</td>\n",
       "      <td>[Alpha-arylation]</td>\n",
       "      <td>...</td>\n",
       "      <td>False</td>\n",
       "      <td>[Thiophene_C-2_alkylation]</td>\n",
       "      <td>[{'name': 'Alpha-arylation', 'reactantSmiles':...</td>\n",
       "      <td>[Alpha-arylation]</td>\n",
       "      <td>False</td>\n",
       "      <td>[Alpha-arylation]</td>\n",
       "      <td>[{'name': 'Thiophene_C-2_alkylation', 'reactan...</td>\n",
       "      <td>[Thiophene_C-2_alkylation]</td>\n",
       "      <td>False</td>\n",
       "      <td>[Thiophene_C-2_alkylation]</td>\n",
       "    </tr>\n",
       "    <tr>\n",
       "      <th>28</th>\n",
       "      <td>N#CCc1cccc(NC(=O)N2CCCC(C(N)=O)C2)c1</td>\n",
       "      <td>/opt/xchem-fragalysis-2/maxwin/2A_HIPPO/A71EV2...</td>\n",
       "      <td>P3_20241209</td>\n",
       "      <td>A3480a</td>\n",
       "      <td>[{'name': 'Iodo_N-arylation', 'reactantSmiles'...</td>\n",
       "      <td>[Iodo_N-arylation]</td>\n",
       "      <td>False</td>\n",
       "      <td>[Iodo_N-arylation]</td>\n",
       "      <td>[{'name': 'Formation_of_urea_from_two_amines',...</td>\n",
       "      <td>[Formation_of_urea_from_two_amines]</td>\n",
       "      <td>...</td>\n",
       "      <td>True</td>\n",
       "      <td>None</td>\n",
       "      <td>[{'name': 'Buchwald-Hartwig_amidation_with_ami...</td>\n",
       "      <td>[Buchwald-Hartwig_amidation_with_amide-like_nu...</td>\n",
       "      <td>True</td>\n",
       "      <td>None</td>\n",
       "      <td>[{'name': 'Buchwald-Hartwig_amidation_with_ami...</td>\n",
       "      <td>[Buchwald-Hartwig_amidation_with_amide-like_nu...</td>\n",
       "      <td>True</td>\n",
       "      <td>None</td>\n",
       "    </tr>\n",
       "    <tr>\n",
       "      <th>29</th>\n",
       "      <td>COCc1ccccc1NC(=O)N1CCCC(C(N)=O)C1</td>\n",
       "      <td>/opt/xchem-fragalysis-2/maxwin/2A_HIPPO/A71EV2...</td>\n",
       "      <td>P3_20241209</td>\n",
       "      <td>A3483a</td>\n",
       "      <td>[{'name': 'Iodo_N-arylation', 'reactantSmiles'...</td>\n",
       "      <td>[Iodo_N-arylation]</td>\n",
       "      <td>False</td>\n",
       "      <td>[Iodo_N-arylation]</td>\n",
       "      <td>[{'name': 'Formation_of_urea_from_two_amines',...</td>\n",
       "      <td>[Formation_of_urea_from_two_amines]</td>\n",
       "      <td>...</td>\n",
       "      <td>True</td>\n",
       "      <td>None</td>\n",
       "      <td>[{'name': 'Buchwald-Hartwig_amidation_with_ami...</td>\n",
       "      <td>[Buchwald-Hartwig_amidation_with_amide-like_nu...</td>\n",
       "      <td>True</td>\n",
       "      <td>None</td>\n",
       "      <td>[{'name': 'Ester_amidation', 'reactantSmiles':...</td>\n",
       "      <td>[Ester_amidation]</td>\n",
       "      <td>True</td>\n",
       "      <td>None</td>\n",
       "    </tr>\n",
       "    <tr>\n",
       "      <th>30</th>\n",
       "      <td>COc1cccc(NC(=O)N2CCCC(C(N)=O)C2)c1</td>\n",
       "      <td>/opt/xchem-fragalysis-2/maxwin/2A_HIPPO/A71EV2...</td>\n",
       "      <td>P3_20241209</td>\n",
       "      <td>A3485a</td>\n",
       "      <td>[{'name': 'Isocyanate_to_urea', 'reactantSmile...</td>\n",
       "      <td>[Isocyanate_to_urea]</td>\n",
       "      <td>False</td>\n",
       "      <td>[Isocyanate_to_urea]</td>\n",
       "      <td>[{'name': 'Iodo_N-arylation', 'reactantSmiles'...</td>\n",
       "      <td>[Iodo_N-arylation]</td>\n",
       "      <td>...</td>\n",
       "      <td>True</td>\n",
       "      <td>None</td>\n",
       "      <td>[{'name': 'Buchwald-Hartwig_amidation_with_ami...</td>\n",
       "      <td>[Buchwald-Hartwig_amidation_with_amide-like_nu...</td>\n",
       "      <td>True</td>\n",
       "      <td>None</td>\n",
       "      <td>[{'name': 'Buchwald-Hartwig_amidation_with_ami...</td>\n",
       "      <td>[Buchwald-Hartwig_amidation_with_amide-like_nu...</td>\n",
       "      <td>True</td>\n",
       "      <td>None</td>\n",
       "    </tr>\n",
       "    <tr>\n",
       "      <th>31</th>\n",
       "      <td>COCC(=O)Nc1c(Cl)cc(C)cc1Oc1cccc(C(N)=O)c1</td>\n",
       "      <td>/opt/xchem-fragalysis-2/maxwin/2A_HIPPO/A71EV2...</td>\n",
       "      <td>P3_20241209</td>\n",
       "      <td>A3488a</td>\n",
       "      <td>[{'name': 'Buchwald-Hartwig_(thio)etherificati...</td>\n",
       "      <td>[Buchwald-Hartwig_(thio)etherification]</td>\n",
       "      <td>False</td>\n",
       "      <td>[Buchwald-Hartwig_(thio)etherification]</td>\n",
       "      <td>[{'name': 'Buchwald-Hartwig_(thio)etherificati...</td>\n",
       "      <td>[Buchwald-Hartwig_(thio)etherification, Amidat...</td>\n",
       "      <td>...</td>\n",
       "      <td>False</td>\n",
       "      <td>[Buchwald-Hartwig_(thio)etherification]</td>\n",
       "      <td>[{'name': 'Buchwald-Hartwig_(thio)etherificati...</td>\n",
       "      <td>[Buchwald-Hartwig_(thio)etherification, Amidat...</td>\n",
       "      <td>False</td>\n",
       "      <td>[Buchwald-Hartwig_(thio)etherification]</td>\n",
       "      <td>[{'name': 'Buchwald-Hartwig_(thio)etherificati...</td>\n",
       "      <td>[Buchwald-Hartwig_(thio)etherification, Amidat...</td>\n",
       "      <td>False</td>\n",
       "      <td>[Buchwald-Hartwig_(thio)etherification]</td>\n",
       "    </tr>\n",
       "    <tr>\n",
       "      <th>32</th>\n",
       "      <td>Cc1nc2n(c1CC(=O)N1CCCC(C(N)=O)C1)CCCC2</td>\n",
       "      <td>/opt/xchem-fragalysis-2/maxwin/2A_HIPPO/A71EV2...</td>\n",
       "      <td>P3_20241209</td>\n",
       "      <td>A3489a</td>\n",
       "      <td>[{'name': 'Amidation', 'reactantSmiles': ['NC(...</td>\n",
       "      <td>[Amidation]</td>\n",
       "      <td>True</td>\n",
       "      <td>None</td>\n",
       "      <td>[{'name': 'Alpha-arylation', 'reactantSmiles':...</td>\n",
       "      <td>[Alpha-arylation]</td>\n",
       "      <td>...</td>\n",
       "      <td>True</td>\n",
       "      <td>None</td>\n",
       "      <td>[{'name': 'Sp3-sp2_Macmillan_coupling_alcohol_...</td>\n",
       "      <td>[Sp3-sp2_Macmillan_coupling_alcohol_and_aryl_b...</td>\n",
       "      <td>False</td>\n",
       "      <td>[Sp3-sp2_Macmillan_coupling_alcohol_and_aryl_b...</td>\n",
       "      <td>[{'name': 'Carboxylic_acid_to_primary_amide', ...</td>\n",
       "      <td>[Carboxylic_acid_to_primary_amide]</td>\n",
       "      <td>False</td>\n",
       "      <td>[Carboxylic_acid_to_primary_amide]</td>\n",
       "    </tr>\n",
       "  </tbody>\n",
       "</table>\n",
       "<p>33 rows × 24 columns</p>\n",
       "</div>"
      ],
      "text/plain": [
       "                                       smiles  \\\n",
       "0                     CNC(=O)c1cn(C)c2ccccc12   \n",
       "1                     CNC(=O)c1nn(C)c2ccccc12   \n",
       "2       Cn1nc(C(=O)NCC2Cc3ccccc3CN2)c2ccccc21   \n",
       "3            Cn1nc(C(=O)Nc2cn[nH]c2)c2ccccc21   \n",
       "4              Cn1nc(C(=O)NC2CC2)c2cc(F)ccc21   \n",
       "5                   Cn1nc(C(N)=O)c2cc(F)ccc21   \n",
       "6                    CC(=O)Nc1cccc(NC(N)=O)c1   \n",
       "7                 COc1ccc(Cl)c2c1C(=O)C(=O)N2   \n",
       "8                   COc1ccccc1NC(=O)Nc1cccnc1   \n",
       "9             Cn1nc(C(=O)NCCc2cocn2)c2ccccc21   \n",
       "10          Cn1nc(C(=O)NCc2c[nH]cn2)c2ccccc21   \n",
       "11          Cc1cccc(NC(=O)N2CCCC(C(N)=O)C2)c1   \n",
       "12          Cc1cc(CNC(=O)c2cn(C)c3ccccc23)on1   \n",
       "13              COCC(C)NC(=O)c1nn(C)c2ccccc12   \n",
       "14              Cn1nc(C(=O)NC2CC2CO)c2ccccc21   \n",
       "15              Cn1nc(C(=O)NC2CCOC2)c2ccccc21   \n",
       "16            Cn1nc(C(=O)NCCn2cncn2)c2ccccc21   \n",
       "17         Cn1cnc(CCNC(=O)c2nn(C)c3ccccc23)c1   \n",
       "18         CC(Cc1cocn1)NC(=O)c1nn(C)c2ccccc12   \n",
       "19               O=C(NCCc1cocn1)N1CCc2ccccc21   \n",
       "20             Cn1cc2cccc(NC(=O)Cc3cocn3)c2n1   \n",
       "21               C=CS(=O)(=O)N1CCCC(C(N)=O)C1   \n",
       "22         Cc1nn(C)c2cc(C(=O)NCCc3cocn3)ccc12   \n",
       "23               NC(=O)C1CCCN(C(=O)NCC2CC2)C1   \n",
       "24         Cn1nc(C(=O)NCCc2cocn2)c2ccccc2c1=O   \n",
       "25                    O=C(NCCc1cocn1)c1ccccc1   \n",
       "26                  Cn1ncc(C(=O)NCCc2cocn2)n1   \n",
       "27           N#Cc1sccc1CC(=O)N1CCCC(C(N)=O)C1   \n",
       "28       N#CCc1cccc(NC(=O)N2CCCC(C(N)=O)C2)c1   \n",
       "29          COCc1ccccc1NC(=O)N1CCCC(C(N)=O)C1   \n",
       "30         COc1cccc(NC(=O)N2CCCC(C(N)=O)C2)c1   \n",
       "31  COCC(=O)Nc1c(Cl)cc(C)cc1Oc1cccc(C(N)=O)c1   \n",
       "32     Cc1nc2n(c1CC(=O)N1CCCC(C(N)=O)C1)CCCC2   \n",
       "\n",
       "                                             template compound_set    hit1  \\\n",
       "0   /opt/xchem-fragalysis-2/maxwin/2A_HIPPO/aligne...  P3_20241209  A3066a   \n",
       "1   /opt/xchem-fragalysis-2/maxwin/2A_HIPPO/aligne...  P3_20241209  A2290a   \n",
       "2   /opt/xchem-fragalysis-2/maxwin/2A_HIPPO/aligne...  P3_20241209  A2293a   \n",
       "3   /opt/xchem-fragalysis-2/maxwin/2A_HIPPO/aligne...  P3_20241209  A2304a   \n",
       "4   /opt/xchem-fragalysis-2/maxwin/2A_HIPPO/aligne...  P3_20241209  A2339a   \n",
       "5   /opt/xchem-fragalysis-2/maxwin/2A_HIPPO/aligne...  P3_20241209  A2351a   \n",
       "6   /opt/xchem-fragalysis-2/maxwin/2A_HIPPO/aligne...  P3_20241209  A2454a   \n",
       "7   /opt/xchem-fragalysis-2/maxwin/2A_HIPPO/aligne...  P3_20241209  A2513a   \n",
       "8   /opt/xchem-fragalysis-2/maxwin/2A_HIPPO/aligne...  P3_20241209  A2629a   \n",
       "9   /opt/xchem-fragalysis-2/maxwin/2A_HIPPO/aligne...  P3_20241209  A2846a   \n",
       "10  /opt/xchem-fragalysis-2/maxwin/2A_HIPPO/aligne...  P3_20241209  A2972a   \n",
       "11  /opt/xchem-fragalysis-2/maxwin/2A_HIPPO/aligne...  P3_20241209  A3054a   \n",
       "12  /opt/xchem-fragalysis-2/maxwin/2A_HIPPO/aligne...  P3_20241209  A3175a   \n",
       "13  /opt/xchem-fragalysis-2/maxwin/2A_HIPPO/aligne...  P3_20241209  A3176a   \n",
       "14  /opt/xchem-fragalysis-2/maxwin/2A_HIPPO/aligne...  P3_20241209  A3177a   \n",
       "15  /opt/xchem-fragalysis-2/maxwin/2A_HIPPO/aligne...  P3_20241209  A3178a   \n",
       "16  /opt/xchem-fragalysis-2/maxwin/2A_HIPPO/aligne...  P3_20241209  A3181a   \n",
       "17  /opt/xchem-fragalysis-2/maxwin/2A_HIPPO/A71EV2...  P3_20241209  A3371a   \n",
       "18  /opt/xchem-fragalysis-2/maxwin/2A_HIPPO/A71EV2...  P3_20241209  A3379a   \n",
       "19  /opt/xchem-fragalysis-2/maxwin/2A_HIPPO/A71EV2...  P3_20241209  A3392a   \n",
       "20  /opt/xchem-fragalysis-2/maxwin/2A_HIPPO/A71EV2...  P3_20241209  A3403a   \n",
       "21  /opt/xchem-fragalysis-2/maxwin/2A_HIPPO/A71EV2...  P3_20241209  A3408a   \n",
       "22  /opt/xchem-fragalysis-2/maxwin/2A_HIPPO/A71EV2...  P3_20241209  A3410a   \n",
       "23  /opt/xchem-fragalysis-2/maxwin/2A_HIPPO/A71EV2...  P3_20241209  A3417a   \n",
       "24  /opt/xchem-fragalysis-2/maxwin/2A_HIPPO/A71EV2...  P3_20241209  A3419a   \n",
       "25  /opt/xchem-fragalysis-2/maxwin/2A_HIPPO/A71EV2...  P3_20241209  A3435a   \n",
       "26  /opt/xchem-fragalysis-2/maxwin/2A_HIPPO/A71EV2...  P3_20241209  A3436a   \n",
       "27  /opt/xchem-fragalysis-2/maxwin/2A_HIPPO/A71EV2...  P3_20241209  A3450a   \n",
       "28  /opt/xchem-fragalysis-2/maxwin/2A_HIPPO/A71EV2...  P3_20241209  A3480a   \n",
       "29  /opt/xchem-fragalysis-2/maxwin/2A_HIPPO/A71EV2...  P3_20241209  A3483a   \n",
       "30  /opt/xchem-fragalysis-2/maxwin/2A_HIPPO/A71EV2...  P3_20241209  A3485a   \n",
       "31  /opt/xchem-fragalysis-2/maxwin/2A_HIPPO/A71EV2...  P3_20241209  A3488a   \n",
       "32  /opt/xchem-fragalysis-2/maxwin/2A_HIPPO/A71EV2...  P3_20241209  A3489a   \n",
       "\n",
       "                                               route0  \\\n",
       "0   [{'name': 'Amidation', 'reactantSmiles': ['Cn1...   \n",
       "1   [{'name': 'Amidation', 'reactantSmiles': ['Cn1...   \n",
       "2   [{'name': 'Amidation', 'reactantSmiles': ['NCC...   \n",
       "3   [{'name': 'Amidation', 'reactantSmiles': ['Nc1...   \n",
       "4   [{'name': 'Amidation', 'reactantSmiles': ['NC1...   \n",
       "5   [{'name': 'Amidation', 'reactantSmiles': ['N',...   \n",
       "6   [{'name': 'Amidation', 'reactantSmiles': ['NC(...   \n",
       "7   [{'name': 'Buchwald-Hartwig_(thio)etherificati...   \n",
       "8   [{'name': 'Buchwald-Hartwig_(thio)etherificati...   \n",
       "9   [{'name': 'Amidation', 'reactantSmiles': ['NCC...   \n",
       "10  [{'name': 'Amidation', 'reactantSmiles': ['NCc...   \n",
       "11  [{'name': 'Amidation', 'reactantSmiles': ['N',...   \n",
       "12  [{'name': 'Amidation', 'reactantSmiles': ['Cn1...   \n",
       "13  [{'name': 'Amidation', 'reactantSmiles': ['Cn1...   \n",
       "14  [{'name': 'Amidation', 'reactantSmiles': ['NC1...   \n",
       "15  [{'name': 'Amidation', 'reactantSmiles': ['NC1...   \n",
       "16  [{'name': 'Amidation', 'reactantSmiles': ['NCC...   \n",
       "17  [{'name': 'Amidation', 'reactantSmiles': ['Cn1...   \n",
       "18  [{'name': 'Amidation', 'reactantSmiles': ['Cn1...   \n",
       "19  [{'name': 'Formation_of_urea_from_two_amines',...   \n",
       "20  [{'name': 'Amidation', 'reactantSmiles': ['O=C...   \n",
       "21  [{'name': 'Sulfonamide_Schotten-Baumann_with_a...   \n",
       "22  [{'name': 'Amidation', 'reactantSmiles': ['NCC...   \n",
       "23  [{'name': 'Isocyanate_to_urea', 'reactantSmile...   \n",
       "24  [{'name': 'Amidation', 'reactantSmiles': ['NCC...   \n",
       "25  [{'name': 'Amidation', 'reactantSmiles': ['O=C...   \n",
       "26  [{'name': 'Amidation', 'reactantSmiles': ['NCC...   \n",
       "27  [{'name': 'Amidation', 'reactantSmiles': ['NC(...   \n",
       "28  [{'name': 'Iodo_N-arylation', 'reactantSmiles'...   \n",
       "29  [{'name': 'Iodo_N-arylation', 'reactantSmiles'...   \n",
       "30  [{'name': 'Isocyanate_to_urea', 'reactantSmile...   \n",
       "31  [{'name': 'Buchwald-Hartwig_(thio)etherificati...   \n",
       "32  [{'name': 'Amidation', 'reactantSmiles': ['NC(...   \n",
       "\n",
       "                                         route0_names  route0_CAR  \\\n",
       "0                                         [Amidation]        True   \n",
       "1                                         [Amidation]        True   \n",
       "2                                         [Amidation]        True   \n",
       "3                                         [Amidation]        True   \n",
       "4                                         [Amidation]        True   \n",
       "5                                         [Amidation]        True   \n",
       "6                                         [Amidation]        True   \n",
       "7             [Buchwald-Hartwig_(thio)etherification]       False   \n",
       "8             [Buchwald-Hartwig_(thio)etherification]       False   \n",
       "9                                         [Amidation]        True   \n",
       "10                                        [Amidation]        True   \n",
       "11                                        [Amidation]        True   \n",
       "12                                        [Amidation]        True   \n",
       "13                                        [Amidation]        True   \n",
       "14                                        [Amidation]        True   \n",
       "15                                        [Amidation]        True   \n",
       "16                                        [Amidation]        True   \n",
       "17                                        [Amidation]        True   \n",
       "18                                        [Amidation]        True   \n",
       "19                [Formation_of_urea_from_two_amines]        True   \n",
       "20                                        [Amidation]        True   \n",
       "21  [Sulfonamide_Schotten-Baumann_with_amine_(inte...        True   \n",
       "22                                        [Amidation]        True   \n",
       "23                               [Isocyanate_to_urea]       False   \n",
       "24                                        [Amidation]        True   \n",
       "25                                        [Amidation]        True   \n",
       "26                                        [Amidation]        True   \n",
       "27                                        [Amidation]        True   \n",
       "28                                 [Iodo_N-arylation]       False   \n",
       "29                                 [Iodo_N-arylation]       False   \n",
       "30                               [Isocyanate_to_urea]       False   \n",
       "31            [Buchwald-Hartwig_(thio)etherification]       False   \n",
       "32                                        [Amidation]        True   \n",
       "\n",
       "                             route0_non_CAR  \\\n",
       "0                                      None   \n",
       "1                                      None   \n",
       "2                                      None   \n",
       "3                                      None   \n",
       "4                                      None   \n",
       "5                                      None   \n",
       "6                                      None   \n",
       "7   [Buchwald-Hartwig_(thio)etherification]   \n",
       "8   [Buchwald-Hartwig_(thio)etherification]   \n",
       "9                                      None   \n",
       "10                                     None   \n",
       "11                                     None   \n",
       "12                                     None   \n",
       "13                                     None   \n",
       "14                                     None   \n",
       "15                                     None   \n",
       "16                                     None   \n",
       "17                                     None   \n",
       "18                                     None   \n",
       "19                                     None   \n",
       "20                                     None   \n",
       "21                                     None   \n",
       "22                                     None   \n",
       "23                     [Isocyanate_to_urea]   \n",
       "24                                     None   \n",
       "25                                     None   \n",
       "26                                     None   \n",
       "27                                     None   \n",
       "28                       [Iodo_N-arylation]   \n",
       "29                       [Iodo_N-arylation]   \n",
       "30                     [Isocyanate_to_urea]   \n",
       "31  [Buchwald-Hartwig_(thio)etherification]   \n",
       "32                                     None   \n",
       "\n",
       "                                               route1  \\\n",
       "0   [{'name': 'Nucleophilic_substitution_with_amin...   \n",
       "1   [{'name': 'Chan-Lam_coupling_(amination)', 're...   \n",
       "2   [{'name': 'Ester_amidation', 'reactantSmiles':...   \n",
       "3   [{'name': 'Chan-Lam_coupling_of_amides,_sulfon...   \n",
       "4   [{'name': 'Chan-Lam_coupling_of_amides,_sulfon...   \n",
       "5   [{'name': 'Ester_ammonolysis', 'reactantSmiles...   \n",
       "6   [{'name': 'Chan-Lam_coupling_of_amides,_sulfon...   \n",
       "7   [{'name': 'Buchwald-Hartwig_(thio)etherificati...   \n",
       "8   [{'name': 'Isocyanate_to_urea', 'reactantSmile...   \n",
       "9   [{'name': 'Amide_Schotten-Baumann_with_amine',...   \n",
       "10  [{'name': 'Ester_amidation', 'reactantSmiles':...   \n",
       "11  [{'name': 'Isocyanate_to_urea', 'reactantSmile...   \n",
       "12  [{'name': 'Amide_Schotten-Baumann_with_amine',...   \n",
       "13  [{'name': 'Nucleophilic_substitution_with_amin...   \n",
       "14  [{'name': 'Ester_amidation', 'reactantSmiles':...   \n",
       "15  [{'name': 'Amide_Schotten-Baumann_with_amine',...   \n",
       "16  [{'name': 'Amide_Schotten-Baumann_with_amine',...   \n",
       "17  [{'name': 'Amide_Schotten-Baumann_with_amine',...   \n",
       "18  [{'name': 'Amide_Schotten-Baumann_with_amine',...   \n",
       "19  [{'name': 'Buchwald-Hartwig_amidation_with_ami...   \n",
       "20  [{'name': 'Ester_amidation', 'reactantSmiles':...   \n",
       "21  [{'name': 'Sulfonamide_Schotten-Baumann_with_a...   \n",
       "22  [{'name': 'Chan-Lam_coupling_(amination)', 're...   \n",
       "23  [{'name': 'Formation_of_urea_from_two_amines',...   \n",
       "24  [{'name': 'Ester_amidation', 'reactantSmiles':...   \n",
       "25  [{'name': 'Sp3-sp2_Macmillan_coupling_with_bro...   \n",
       "26  [{'name': 'Ester_amidation', 'reactantSmiles':...   \n",
       "27  [{'name': 'Alpha-arylation', 'reactantSmiles':...   \n",
       "28  [{'name': 'Formation_of_urea_from_two_amines',...   \n",
       "29  [{'name': 'Formation_of_urea_from_two_amines',...   \n",
       "30  [{'name': 'Iodo_N-arylation', 'reactantSmiles'...   \n",
       "31  [{'name': 'Buchwald-Hartwig_(thio)etherificati...   \n",
       "32  [{'name': 'Alpha-arylation', 'reactantSmiles':...   \n",
       "\n",
       "                                         route1_names  ...  route2_CAR  \\\n",
       "0              [Nucleophilic_substitution_with_amine]  ...       False   \n",
       "1                     [Chan-Lam_coupling_(amination)]  ...        True   \n",
       "2                                   [Ester_amidation]  ...        True   \n",
       "3   [Chan-Lam_coupling_of_amides,_sulfonamides,_an...  ...        True   \n",
       "4   [Chan-Lam_coupling_of_amides,_sulfonamides,_an...  ...        True   \n",
       "5                                 [Ester_ammonolysis]  ...        True   \n",
       "6   [Chan-Lam_coupling_of_amides,_sulfonamides,_an...  ...       False   \n",
       "7             [Buchwald-Hartwig_(thio)etherification]  ...       False   \n",
       "8                                [Isocyanate_to_urea]  ...       False   \n",
       "9                 [Amide_Schotten-Baumann_with_amine]  ...        True   \n",
       "10                                  [Ester_amidation]  ...        True   \n",
       "11                               [Isocyanate_to_urea]  ...       False   \n",
       "12                [Amide_Schotten-Baumann_with_amine]  ...        True   \n",
       "13             [Nucleophilic_substitution_with_amine]  ...        True   \n",
       "14                                  [Ester_amidation]  ...        True   \n",
       "15                [Amide_Schotten-Baumann_with_amine]  ...        True   \n",
       "16                [Amide_Schotten-Baumann_with_amine]  ...        True   \n",
       "17                [Amide_Schotten-Baumann_with_amine]  ...        True   \n",
       "18                [Amide_Schotten-Baumann_with_amine]  ...        True   \n",
       "19  [Buchwald-Hartwig_amidation_with_amide-like_nu...  ...        True   \n",
       "20                                  [Ester_amidation]  ...        True   \n",
       "21  [Sulfonamide_Schotten-Baumann_with_amine_(inte...  ...        True   \n",
       "22                    [Chan-Lam_coupling_(amination)]  ...       False   \n",
       "23                [Formation_of_urea_from_two_amines]  ...        True   \n",
       "24                                  [Ester_amidation]  ...        True   \n",
       "25  [Sp3-sp2_Macmillan_coupling_with_bromide_(inte...  ...        True   \n",
       "26                                  [Ester_amidation]  ...       False   \n",
       "27                                  [Alpha-arylation]  ...       False   \n",
       "28                [Formation_of_urea_from_two_amines]  ...        True   \n",
       "29                [Formation_of_urea_from_two_amines]  ...        True   \n",
       "30                                 [Iodo_N-arylation]  ...        True   \n",
       "31  [Buchwald-Hartwig_(thio)etherification, Amidat...  ...       False   \n",
       "32                                  [Alpha-arylation]  ...        True   \n",
       "\n",
       "                                       route2_non_CAR  \\\n",
       "0   [Chan-Lam_coupling_of_amides,_sulfonamides,_an...   \n",
       "1                                                None   \n",
       "2                                                None   \n",
       "3                                                None   \n",
       "4                                                None   \n",
       "5                                                None   \n",
       "6                                  [Iodo_N-arylation]   \n",
       "7                                   [Riley_oxidation]   \n",
       "8                                [Isocyanate_to_urea]   \n",
       "9                                                None   \n",
       "10                                               None   \n",
       "11                                 [Iodo_N-arylation]   \n",
       "12                                               None   \n",
       "13                                               None   \n",
       "14                                               None   \n",
       "15                                               None   \n",
       "16                                               None   \n",
       "17                                               None   \n",
       "18                                               None   \n",
       "19                                               None   \n",
       "20                                               None   \n",
       "21                                               None   \n",
       "22  [Sp3-sp2_Macmillan_coupling_alcohol_and_aryl_b...   \n",
       "23                                               None   \n",
       "24                                               None   \n",
       "25                                               None   \n",
       "26                    [Chan-Lam_coupling_(amination)]   \n",
       "27                         [Thiophene_C-2_alkylation]   \n",
       "28                                               None   \n",
       "29                                               None   \n",
       "30                                               None   \n",
       "31            [Buchwald-Hartwig_(thio)etherification]   \n",
       "32                                               None   \n",
       "\n",
       "                                               route3  \\\n",
       "0   [{'name': 'Nucleophilic_substitution_with_amin...   \n",
       "1   [{'name': 'Amide_Schotten-Baumann_with_amine',...   \n",
       "2   [{'name': 'Chan-Lam_coupling_(amination)', 're...   \n",
       "3   [{'name': 'Nucleophilic_aromatic_substitution_...   \n",
       "4   [{'name': 'Ester_amidation', 'reactantSmiles':...   \n",
       "5   [{'name': 'Ester_amidation', 'reactantSmiles':...   \n",
       "6   [{'name': 'Amide_Schotten-Baumann_with_amine',...   \n",
       "7   [{'name': 'Nucleophilic_aromatic_substitution_...   \n",
       "8   [{'name': 'Buchwald-Hartwig_(thio)etherificati...   \n",
       "9   [{'name': 'Ester_amidation', 'reactantSmiles':...   \n",
       "10  [{'name': 'Amide_Schotten-Baumann_with_amine',...   \n",
       "11  [{'name': 'Formation_of_urea_from_two_amines',...   \n",
       "12  [{'name': 'Ester_amidation', 'reactantSmiles':...   \n",
       "13  [{'name': 'Chan-Lam_coupling_(amination)', 're...   \n",
       "14  [{'name': 'Ester_to_alcohol_reduction_(intermo...   \n",
       "15  [{'name': 'Ester_amidation', 'reactantSmiles':...   \n",
       "16  [{'name': 'Ester_amidation', 'reactantSmiles':...   \n",
       "17  [{'name': 'Ester_amidation', 'reactantSmiles':...   \n",
       "18  [{'name': 'Ester_amidation', 'reactantSmiles':...   \n",
       "19  [{'name': 'Buchwald-Hartwig_amidation_with_ami...   \n",
       "20  [{'name': 'Chan-Lam_coupling_of_amides,_sulfon...   \n",
       "21  [{'name': 'Elimination_reaction', 'reactantSmi...   \n",
       "22  [{'name': 'Ester_amidation', 'reactantSmiles':...   \n",
       "23  [{'name': 'Ester_amidation', 'reactantSmiles':...   \n",
       "24  [{'name': 'Nucleophilic_substitution_with_amin...   \n",
       "25  [{'name': 'Sp3-sp2_Macmillan_coupling_alcohol_...   \n",
       "26  [{'name': 'Sp3-sp2_Macmillan_coupling_alcohol_...   \n",
       "27  [{'name': 'Alpha-arylation', 'reactantSmiles':...   \n",
       "28  [{'name': 'Buchwald-Hartwig_amidation_with_ami...   \n",
       "29  [{'name': 'Buchwald-Hartwig_amidation_with_ami...   \n",
       "30  [{'name': 'Buchwald-Hartwig_amidation_with_ami...   \n",
       "31  [{'name': 'Buchwald-Hartwig_(thio)etherificati...   \n",
       "32  [{'name': 'Sp3-sp2_Macmillan_coupling_alcohol_...   \n",
       "\n",
       "                                         route3_names  route3_CAR  \\\n",
       "0              [Nucleophilic_substitution_with_amine]        True   \n",
       "1                 [Amide_Schotten-Baumann_with_amine]        True   \n",
       "2                     [Chan-Lam_coupling_(amination)]       False   \n",
       "3   [Nucleophilic_aromatic_substitution_(methylsul...       False   \n",
       "4                                   [Ester_amidation]        True   \n",
       "5                                   [Ester_amidation]        True   \n",
       "6                 [Amide_Schotten-Baumann_with_amine]        True   \n",
       "7   [Nucleophilic_aromatic_substitution_(alcohol,_...       False   \n",
       "8             [Buchwald-Hartwig_(thio)etherification]       False   \n",
       "9                                   [Ester_amidation]        True   \n",
       "10                [Amide_Schotten-Baumann_with_amine]        True   \n",
       "11                [Formation_of_urea_from_two_amines]        True   \n",
       "12                                  [Ester_amidation]        True   \n",
       "13                    [Chan-Lam_coupling_(amination)]       False   \n",
       "14  [Ester_to_alcohol_reduction_(intermolecular), ...       False   \n",
       "15                                  [Ester_amidation]        True   \n",
       "16                                  [Ester_amidation]        True   \n",
       "17                                  [Ester_amidation]        True   \n",
       "18                                  [Ester_amidation]        True   \n",
       "19  [Buchwald-Hartwig_amidation_with_amide-like_nu...        True   \n",
       "20  [Chan-Lam_coupling_of_amides,_sulfonamides,_an...       False   \n",
       "21  [Elimination_reaction, Sulfonamide_Schotten-Ba...       False   \n",
       "22                                  [Ester_amidation]        True   \n",
       "23                                  [Ester_amidation]        True   \n",
       "24             [Nucleophilic_substitution_with_amine]        True   \n",
       "25  [Sp3-sp2_Macmillan_coupling_alcohol_and_aryl_b...       False   \n",
       "26  [Sp3-sp2_Macmillan_coupling_alcohol_and_aryl_b...       False   \n",
       "27                                  [Alpha-arylation]       False   \n",
       "28  [Buchwald-Hartwig_amidation_with_amide-like_nu...        True   \n",
       "29  [Buchwald-Hartwig_amidation_with_amide-like_nu...        True   \n",
       "30  [Buchwald-Hartwig_amidation_with_amide-like_nu...        True   \n",
       "31  [Buchwald-Hartwig_(thio)etherification, Amidat...       False   \n",
       "32  [Sp3-sp2_Macmillan_coupling_alcohol_and_aryl_b...       False   \n",
       "\n",
       "                                       route3_non_CAR  \\\n",
       "0                                                None   \n",
       "1                                                None   \n",
       "2                     [Chan-Lam_coupling_(amination)]   \n",
       "3   [Nucleophilic_aromatic_substitution_(methylsul...   \n",
       "4                                                None   \n",
       "5                                                None   \n",
       "6                                                None   \n",
       "7   [Nucleophilic_aromatic_substitution_(alcohol,_...   \n",
       "8             [Buchwald-Hartwig_(thio)etherification]   \n",
       "9                                                None   \n",
       "10                                               None   \n",
       "11                                               None   \n",
       "12                                               None   \n",
       "13                    [Chan-Lam_coupling_(amination)]   \n",
       "14      [Ester_to_alcohol_reduction_(intermolecular)]   \n",
       "15                                               None   \n",
       "16                                               None   \n",
       "17                                               None   \n",
       "18                                               None   \n",
       "19                                               None   \n",
       "20  [Chan-Lam_coupling_of_amides,_sulfonamides,_an...   \n",
       "21                             [Elimination_reaction]   \n",
       "22                                               None   \n",
       "23                                               None   \n",
       "24                                               None   \n",
       "25  [Sp3-sp2_Macmillan_coupling_alcohol_and_aryl_b...   \n",
       "26  [Sp3-sp2_Macmillan_coupling_alcohol_and_aryl_b...   \n",
       "27                                  [Alpha-arylation]   \n",
       "28                                               None   \n",
       "29                                               None   \n",
       "30                                               None   \n",
       "31            [Buchwald-Hartwig_(thio)etherification]   \n",
       "32  [Sp3-sp2_Macmillan_coupling_alcohol_and_aryl_b...   \n",
       "\n",
       "                                               route4  \\\n",
       "0   [{'name': 'Amide_Schotten-Baumann_with_amine',...   \n",
       "1   [{'name': 'Chan-Lam_coupling_of_amides,_sulfon...   \n",
       "2   [{'name': 'Nucleophilic_substitution_with_amin...   \n",
       "3   [{'name': 'Ester_amidation', 'reactantSmiles':...   \n",
       "4   [{'name': 'Chan-Lam_coupling_(amination)', 're...   \n",
       "5   [{'name': 'Carboxylic_acid_to_primary_amide', ...   \n",
       "6   [{'name': 'Iodo_N-arylation', 'reactantSmiles'...   \n",
       "7   [{'name': 'Nucleophilic_aromatic_substitution_...   \n",
       "8   [{'name': 'Buchwald-Hartwig_amidation_with_ami...   \n",
       "9   [{'name': 'Chan-Lam_coupling_(amination)', 're...   \n",
       "10  [{'name': 'Nucleophilic_substitution_with_amin...   \n",
       "11  [{'name': 'Buchwald-Hartwig_amidation_with_ami...   \n",
       "12  [{'name': 'Ester_amidation', 'reactantSmiles':...   \n",
       "13  [{'name': 'Nucleophilic_substitution_with_amin...   \n",
       "14  [{'name': 'Chan-Lam_coupling_of_amides,_sulfon...   \n",
       "15  [{'name': 'Chan-Lam_coupling_(amination)', 're...   \n",
       "16  [{'name': 'Nucleophilic_substitution_with_amin...   \n",
       "17  [{'name': 'Chan-Lam_coupling_(amination)', 're...   \n",
       "18  [{'name': 'Sp3-sp2_Macmillan_coupling_alcohol_...   \n",
       "19  [{'name': 'Sp3-sp2_Suzuki_coupling', 'reactant...   \n",
       "20  [{'name': 'Chan-Lam_coupling_(amination)', 're...   \n",
       "21  [{'name': 'Amidation', 'reactantSmiles': ['N',...   \n",
       "22  [{'name': 'Nucleophilic_substitution_with_amin...   \n",
       "23  [{'name': 'Ester_amidation', 'reactantSmiles':...   \n",
       "24  [{'name': 'Sp3-sp2_Macmillan_coupling_alcohol_...   \n",
       "25  [{'name': 'Ester_amidation', 'reactantSmiles':...   \n",
       "26  [{'name': 'Nucleophilic_substitution_with_amin...   \n",
       "27  [{'name': 'Thiophene_C-2_alkylation', 'reactan...   \n",
       "28  [{'name': 'Buchwald-Hartwig_amidation_with_ami...   \n",
       "29  [{'name': 'Ester_amidation', 'reactantSmiles':...   \n",
       "30  [{'name': 'Buchwald-Hartwig_amidation_with_ami...   \n",
       "31  [{'name': 'Buchwald-Hartwig_(thio)etherificati...   \n",
       "32  [{'name': 'Carboxylic_acid_to_primary_amide', ...   \n",
       "\n",
       "                                         route4_names  route4_CAR  \\\n",
       "0                 [Amide_Schotten-Baumann_with_amine]        True   \n",
       "1   [Chan-Lam_coupling_of_amides,_sulfonamides,_an...       False   \n",
       "2              [Nucleophilic_substitution_with_amine]        True   \n",
       "3                                   [Ester_amidation]        True   \n",
       "4                     [Chan-Lam_coupling_(amination)]       False   \n",
       "5                  [Carboxylic_acid_to_primary_amide]       False   \n",
       "6                                  [Iodo_N-arylation]       False   \n",
       "7   [Nucleophilic_aromatic_substitution_(alcohol,_...       False   \n",
       "8   [Buchwald-Hartwig_amidation_with_amide-like_nu...        True   \n",
       "9                     [Chan-Lam_coupling_(amination)]       False   \n",
       "10             [Nucleophilic_substitution_with_amine]        True   \n",
       "11  [Buchwald-Hartwig_amidation_with_amide-like_nu...        True   \n",
       "12                                  [Ester_amidation]        True   \n",
       "13             [Nucleophilic_substitution_with_amine]        True   \n",
       "14  [Chan-Lam_coupling_of_amides,_sulfonamides,_an...       False   \n",
       "15                    [Chan-Lam_coupling_(amination)]       False   \n",
       "16             [Nucleophilic_substitution_with_amine]        True   \n",
       "17                    [Chan-Lam_coupling_(amination)]       False   \n",
       "18  [Sp3-sp2_Macmillan_coupling_alcohol_and_aryl_b...       False   \n",
       "19  [Sp3-sp2_Suzuki_coupling, Formation_of_urea_fr...        True   \n",
       "20                    [Chan-Lam_coupling_(amination)]       False   \n",
       "21  [Amidation, Sulfonamide_Schotten-Baumann_with_...        True   \n",
       "22             [Nucleophilic_substitution_with_amine]        True   \n",
       "23                                  [Ester_amidation]        True   \n",
       "24  [Sp3-sp2_Macmillan_coupling_alcohol_and_aryl_b...       False   \n",
       "25                                  [Ester_amidation]        True   \n",
       "26             [Nucleophilic_substitution_with_amine]        True   \n",
       "27                         [Thiophene_C-2_alkylation]       False   \n",
       "28  [Buchwald-Hartwig_amidation_with_amide-like_nu...        True   \n",
       "29                                  [Ester_amidation]        True   \n",
       "30  [Buchwald-Hartwig_amidation_with_amide-like_nu...        True   \n",
       "31  [Buchwald-Hartwig_(thio)etherification, Amidat...       False   \n",
       "32                 [Carboxylic_acid_to_primary_amide]       False   \n",
       "\n",
       "                                       route4_non_CAR  \n",
       "0                                                None  \n",
       "1   [Chan-Lam_coupling_of_amides,_sulfonamides,_an...  \n",
       "2                                                None  \n",
       "3                                                None  \n",
       "4                     [Chan-Lam_coupling_(amination)]  \n",
       "5                  [Carboxylic_acid_to_primary_amide]  \n",
       "6                                  [Iodo_N-arylation]  \n",
       "7   [Nucleophilic_aromatic_substitution_(alcohol,_...  \n",
       "8                                                None  \n",
       "9                     [Chan-Lam_coupling_(amination)]  \n",
       "10                                               None  \n",
       "11                                               None  \n",
       "12                                               None  \n",
       "13                                               None  \n",
       "14  [Chan-Lam_coupling_of_amides,_sulfonamides,_an...  \n",
       "15                    [Chan-Lam_coupling_(amination)]  \n",
       "16                                               None  \n",
       "17                    [Chan-Lam_coupling_(amination)]  \n",
       "18  [Sp3-sp2_Macmillan_coupling_alcohol_and_aryl_b...  \n",
       "19                                               None  \n",
       "20                    [Chan-Lam_coupling_(amination)]  \n",
       "21                                               None  \n",
       "22                                               None  \n",
       "23                                               None  \n",
       "24  [Sp3-sp2_Macmillan_coupling_alcohol_and_aryl_b...  \n",
       "25                                               None  \n",
       "26                                               None  \n",
       "27                         [Thiophene_C-2_alkylation]  \n",
       "28                                               None  \n",
       "29                                               None  \n",
       "30                                               None  \n",
       "31            [Buchwald-Hartwig_(thio)etherification]  \n",
       "32                 [Carboxylic_acid_to_primary_amide]  \n",
       "\n",
       "[33 rows x 24 columns]"
      ]
     },
     "execution_count": 5,
     "metadata": {},
     "output_type": "execute_result"
    }
   ],
   "source": [
    "# animal.add_syndirella_routes(\"P3_20241209/justretroquery_P3_20241209_syndirella_input.pkl.gz\")"
   ]
  },
  {
   "cell_type": "code",
   "execution_count": 12,
   "id": "db2eaf4d-9080-404f-a2d8-6f4d9bfb6620",
   "metadata": {},
   "outputs": [
    {
     "data": {
      "text/plain": [
       "\u001b[1m\u001b[4mposes tagged \"P3_20241212\": {P × 27}\u001b[22m\u001b[24m"
      ]
     },
     "execution_count": 12,
     "metadata": {},
     "output_type": "execute_result"
    }
   ],
   "source": [
    "# name = \"P3_20241209\"\n",
    "# tag = \"[Other] P3 compound design\"\n",
    "\n",
    "name = \"P3_20241211\"\n",
    "tag = name\n",
    "\n",
    "name = \"P3_20241212\"\n",
    "tag = name\n",
    "\n",
    "derivatives = animal.poses(tag=tag)\n",
    "derivatives"
   ]
  },
  {
   "cell_type": "code",
   "execution_count": 13,
   "id": "6d524adb-21ee-491a-9e38-54d3b175f2ab",
   "metadata": {},
   "outputs": [
    {
     "data": {
      "text/plain": [
       "33"
      ]
     },
     "execution_count": 13,
     "metadata": {},
     "output_type": "execute_result"
    }
   ],
   "source": [
    "route_ids = set()\n",
    "for pose in derivatives:\n",
    "    comp = pose.compound\n",
    "\n",
    "    records = animal.db.select_id_where(table='route', key=\"product\", value=comp.id, multiple=True, none=\"quiet\")\n",
    "    if not records:\n",
    "        n = 0\n",
    "    else:\n",
    "        n = len(records)\n",
    "    # print(comp, n)\n",
    "\n",
    "    for route_id, in records:\n",
    "        route_ids.add(route_id)\n",
    "len(route_ids)"
   ]
  },
  {
   "cell_type": "code",
   "execution_count": null,
   "id": "032c0f50-d8f7-426d-a366-f890a04f4102",
   "metadata": {},
   "outputs": [
    {
     "name": "stdout",
     "output_type": "stream",
     "text": [
      "C122457 ['A4035a']\n"
     ]
    },
    {
     "data": {
      "text/html": [
       "<pre style=\"white-space:pre;overflow-x:auto;line-height:normal;font-family:Menlo,'DejaVu Sans Mono',consolas,'Courier New',monospace\"><span style=\"color: #008080; text-decoration-color: #008080; font-weight: bold\">out_key</span> = A4035a\n",
       "</pre>\n"
      ],
      "text/plain": [
       "\u001b[1;36mout_key\u001b[0m = A4035a\n"
      ]
     },
     "metadata": {},
     "output_type": "display_data"
    },
    {
     "data": {
      "text/html": [
       "<pre style=\"white-space:pre;overflow-x:auto;line-height:normal;font-family:Menlo,'DejaVu Sans Mono',consolas,'Courier New',monospace\"><span style=\"color: #008080; text-decoration-color: #008080; font-weight: bold\">#poses</span> = <span style=\"color: #008080; text-decoration-color: #008080; font-weight: bold\">1</span>\n",
       "</pre>\n"
      ],
      "text/plain": [
       "\u001b[1;36m#poses\u001b[0m = \u001b[1;36m1\u001b[0m\n"
      ]
     },
     "metadata": {},
     "output_type": "display_data"
    },
    {
     "data": {
      "application/vnd.jupyter.widget-view+json": {
       "model_id": "49a8084b96fc4d58b667f279be211aa7",
       "version_major": 2,
       "version_minor": 0
      },
      "text/plain": [
       "Output()"
      ]
     },
     "metadata": {},
     "output_type": "display_data"
    },
    {
     "data": {
      "text/html": [
       "<pre style=\"white-space:pre;overflow-x:auto;line-height:normal;font-family:Menlo,'DejaVu Sans Mono',consolas,'Courier New',monospace\"></pre>\n"
      ],
      "text/plain": []
     },
     "metadata": {},
     "output_type": "display_data"
    },
    {
     "data": {
      "text/html": [
       "<pre style=\"white-space:pre;overflow-x:auto;line-height:normal;font-family:Menlo,'DejaVu Sans Mono',consolas,'Courier New',monospace\"><span style=\"background-color: #d7af00; font-weight: bold\"> DISK </span> Writing <span style=\"color: #d7af00; text-decoration-color: #d7af00\">P3_20241212_elabs/A4035a_syndirella_input.csv</span>...\n",
       "</pre>\n"
      ],
      "text/plain": [
       "\u001b[1;7;38;5;178m DISK \u001b[0m Writing \u001b[38;5;178mP3_20241212_elabs/A4035a_syndirella_input.csv\u001b[0m...\n"
      ]
     },
     "metadata": {},
     "output_type": "display_data"
    },
    {
     "data": {
      "text/html": [
       "<pre style=\"white-space:pre;overflow-x:auto;line-height:normal;font-family:Menlo,'DejaVu Sans Mono',consolas,'Courier New',monospace\"><span style=\"background-color: #d7af00; font-weight: bold\"> DISK </span> Writing <span style=\"color: #d7af00; text-decoration-color: #d7af00\">P3_20241212_elabs/A4035a_syndirella_inspiration_hits.sdf</span>...\n",
       "</pre>\n"
      ],
      "text/plain": [
       "\u001b[1;7;38;5;178m DISK \u001b[0m Writing \u001b[38;5;178mP3_20241212_elabs/A4035a_syndirella_inspiration_hits.sdf\u001b[0m...\n"
      ]
     },
     "metadata": {},
     "output_type": "display_data"
    }
   ],
   "source": [
    "%%time\n",
    "for route_id in route_ids:\n",
    "    route = animal.db.get_route(id=route_id)\n",
    "    comp = route.product.compound\n",
    "    # poses = comp.poses(tag=\"[Other] P3 compound design\")\n",
    "    poses = comp.poses(tag=tag)\n",
    "    print(comp, poses.names)\n",
    "\n",
    "    for pose in poses:\n",
    "        pset = animal.poses[pose.id,]\n",
    "\n",
    "        pset.to_syndirella(out_key=f\"{name}_elabs/{pose.alias}\")\n",
    "    \n",
    "    # break\n",
    "    "
   ]
  },
  {
   "cell_type": "code",
   "execution_count": null,
   "id": "c67daeb4-b4b3-4e19-810c-df7f15241b19",
   "metadata": {},
   "outputs": [],
   "source": [
    "# animal.poses[\"A3066a\"].summary()"
   ]
  },
  {
   "cell_type": "code",
   "execution_count": null,
   "id": "7b6a0178-a408-4a47-a52f-d2f8e6dc0d3a",
   "metadata": {},
   "outputs": [],
   "source": []
  }
 ],
 "metadata": {
  "kernelspec": {
   "display_name": "Python [conda env:base] *",
   "language": "python",
   "name": "conda-base-py"
  },
  "language_info": {
   "codemirror_mode": {
    "name": "ipython",
    "version": 3
   },
   "file_extension": ".py",
   "mimetype": "text/x-python",
   "name": "python",
   "nbconvert_exporter": "python",
   "pygments_lexer": "ipython3",
   "version": "3.11.6"
  }
 },
 "nbformat": 4,
 "nbformat_minor": 5
}
