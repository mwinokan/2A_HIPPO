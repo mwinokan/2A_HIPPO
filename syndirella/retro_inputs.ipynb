{
 "cells": [
  {
   "cell_type": "code",
   "execution_count": 1,
   "id": "d5685e54-4b25-4869-9b41-817b19d7af7c",
   "metadata": {},
   "outputs": [],
   "source": [
    "%load_ext autoreload\n",
    "%autoreload 2\n",
    "import hippo\n",
    "from rdkit.Chem import PandasTools\n",
    "from pandas import DataFrame"
   ]
  },
  {
   "cell_type": "code",
   "execution_count": 2,
   "id": "e14722d2-d58f-4378-a3fb-b128ee367684",
   "metadata": {},
   "outputs": [
    {
     "data": {
      "text/html": [
       "<pre style=\"white-space:pre;overflow-x:auto;line-height:normal;font-family:Menlo,'DejaVu Sans Mono',consolas,'Courier New',monospace\"><span style=\"font-weight: bold\"> Creating HIPPO animal</span>\n",
       "</pre>\n"
      ],
      "text/plain": [
       "\u001b[1m Creating HIPPO animal\u001b[0m\n"
      ]
     },
     "metadata": {},
     "output_type": "display_data"
    },
    {
     "data": {
      "text/html": [
       "<pre style=\"white-space:pre;overflow-x:auto;line-height:normal;font-family:Menlo,'DejaVu Sans Mono',consolas,'Courier New',monospace\"><span style=\"color: #008080; text-decoration-color: #008080; font-weight: bold\">name</span> = <span style=\"color: #00d7af; text-decoration-color: #00d7af\">2A_i2_1</span>\n",
       "</pre>\n"
      ],
      "text/plain": [
       "\u001b[1;36mname\u001b[0m = \u001b[38;5;43m2A_i2_1\u001b[0m\n"
      ]
     },
     "metadata": {},
     "output_type": "display_data"
    },
    {
     "data": {
      "text/html": [
       "<pre style=\"white-space:pre;overflow-x:auto;line-height:normal;font-family:Menlo,'DejaVu Sans Mono',consolas,'Courier New',monospace\"><span style=\"color: #008080; text-decoration-color: #008080; font-weight: bold\">db_path</span> = <span style=\"color: #d7af00; text-decoration-color: #d7af00\">../hippo_iter2/2A_i2_1.sqlite</span>\n",
       "</pre>\n"
      ],
      "text/plain": [
       "\u001b[1;36mdb_path\u001b[0m = \u001b[38;5;178m../hippo_iter2/2A_i2_1.sqlite\u001b[0m\n"
      ]
     },
     "metadata": {},
     "output_type": "display_data"
    },
    {
     "data": {
      "text/html": [
       "<pre style=\"white-space:pre;overflow-x:auto;line-height:normal;font-family:Menlo,'DejaVu Sans Mono',consolas,'Courier New',monospace\"><span style=\"color: #808080; text-decoration-color: #808080\">DEBUG: hippo.Database.__init__()</span>\n",
       "</pre>\n"
      ],
      "text/plain": [
       "\u001b[90mDEBUG: hippo.Database.__init__()\u001b[0m\n"
      ]
     },
     "metadata": {},
     "output_type": "display_data"
    },
    {
     "data": {
      "text/html": [
       "<pre style=\"white-space:pre;overflow-x:auto;line-height:normal;font-family:Menlo,'DejaVu Sans Mono',consolas,'Courier New',monospace\"><span style=\"color: #808080; text-decoration-color: #808080\">DEBUG: Database.path = ../hippo_iter2/2A_i2_1.sqlite</span>\n",
       "</pre>\n"
      ],
      "text/plain": [
       "\u001b[90mDEBUG: Database.path = ../hippo_iter2/2A_i2_1.sqlite\u001b[0m\n"
      ]
     },
     "metadata": {},
     "output_type": "display_data"
    },
    {
     "data": {
      "text/html": [
       "<pre style=\"white-space:pre;overflow-x:auto;line-height:normal;font-family:Menlo,'DejaVu Sans Mono',consolas,'Courier New',monospace\"><span style=\"color: #808080; text-decoration-color: #808080\">DEBUG: hippo.Database.connect()</span>\n",
       "</pre>\n"
      ],
      "text/plain": [
       "\u001b[90mDEBUG: hippo.Database.connect()\u001b[0m\n"
      ]
     },
     "metadata": {},
     "output_type": "display_data"
    },
    {
     "data": {
      "text/html": [
       "<pre style=\"white-space:pre;overflow-x:auto;line-height:normal;font-family:Menlo,'DejaVu Sans Mono',consolas,'Courier New',monospace\"><span style=\"color: #808080; text-decoration-color: #808080\">DEBUG: sqlite3.version='2.6.0'</span>\n",
       "</pre>\n"
      ],
      "text/plain": [
       "\u001b[90mDEBUG: sqlite3.version='2.6.0'\u001b[0m\n"
      ]
     },
     "metadata": {},
     "output_type": "display_data"
    },
    {
     "data": {
      "text/html": [
       "<pre style=\"white-space:pre;overflow-x:auto;line-height:normal;font-family:Menlo,'DejaVu Sans Mono',consolas,'Courier New',monospace\"><span style=\"background-color: #008000; font-weight: bold\"> Success </span><span style=\"color: #008000; text-decoration-color: #008000; font-weight: bold\"> Database connected @</span><span style=\"color: #d7af00; text-decoration-color: #d7af00; font-weight: bold\"> ../hippo_iter2/2A_i2_1.sqlite!</span>\n",
       "</pre>\n"
      ],
      "text/plain": [
       "\u001b[1;7;32m Success \u001b[0m\u001b[1;32m Database connected @\u001b[0m\u001b[1;38;5;178m ../hippo_iter2/2A_i2_1.sqlite!\u001b[0m\n"
      ]
     },
     "metadata": {},
     "output_type": "display_data"
    },
    {
     "data": {
      "text/html": [
       "<pre style=\"white-space:pre;overflow-x:auto;line-height:normal;font-family:Menlo,'DejaVu Sans Mono',consolas,'Courier New',monospace\"><span style=\"background-color: #008000; font-weight: bold\"> Success </span><span style=\"color: #008000; text-decoration-color: #008000; font-weight: bold\"> Initialised animal</span><span style=\"color: #008080; text-decoration-color: #008080; font-weight: bold\"> HIPPO(\"2A_i2_1\")!</span>\n",
       "</pre>\n"
      ],
      "text/plain": [
       "\u001b[1;7;32m Success \u001b[0m\u001b[1;32m Initialised animal\u001b[0m\u001b[1;36m HIPPO(\"2A_i2_1\")!\u001b[0m\n"
      ]
     },
     "metadata": {},
     "output_type": "display_data"
    }
   ],
   "source": [
    "animal = hippo.HIPPO(\"2A_i2_1\", \"../hippo_iter2/2A_i2_1.sqlite\")"
   ]
  },
  {
   "cell_type": "code",
   "execution_count": 9,
   "id": "65fc40b4-0943-44a4-bf90-fd2bc059e7cf",
   "metadata": {},
   "outputs": [
    {
     "data": {
      "text/plain": [
       "\u001b[1m\u001b[4mposes tagged \"[Other] P3 compound design\": {P × 33}\u001b[22m\u001b[24m"
      ]
     },
     "execution_count": 9,
     "metadata": {},
     "output_type": "execute_result"
    }
   ],
   "source": [
    "name = \"P3_20241209\"\n",
    "derivatives = animal.poses(tag=\"[Other] P3 compound design\")\n",
    "derivatives"
   ]
  },
  {
   "cell_type": "code",
   "execution_count": 10,
   "id": "cd686f53-126d-470c-80f9-0d121afd4d36",
   "metadata": {},
   "outputs": [
    {
     "data": {
      "text/html": [
       "<pre style=\"white-space:pre;overflow-x:auto;line-height:normal;font-family:Menlo,'DejaVu Sans Mono',consolas,'Courier New',monospace\"><span style=\"color: #008080; text-decoration-color: #008080; font-weight: bold\">out_key</span> = P3_20241209\n",
       "</pre>\n"
      ],
      "text/plain": [
       "\u001b[1;36mout_key\u001b[0m = P3_20241209\n"
      ]
     },
     "metadata": {},
     "output_type": "display_data"
    },
    {
     "data": {
      "text/html": [
       "<pre style=\"white-space:pre;overflow-x:auto;line-height:normal;font-family:Menlo,'DejaVu Sans Mono',consolas,'Courier New',monospace\"><span style=\"color: #008080; text-decoration-color: #008080; font-weight: bold\">#poses</span> = <span style=\"color: #008080; text-decoration-color: #008080; font-weight: bold\">33</span>\n",
       "</pre>\n"
      ],
      "text/plain": [
       "\u001b[1;36m#poses\u001b[0m = \u001b[1;36m33\u001b[0m\n"
      ]
     },
     "metadata": {},
     "output_type": "display_data"
    },
    {
     "data": {
      "application/vnd.jupyter.widget-view+json": {
       "model_id": "8bedba72225d4c76b3b8cbec19495603",
       "version_major": 2,
       "version_minor": 0
      },
      "text/plain": [
       "Output()"
      ]
     },
     "metadata": {},
     "output_type": "display_data"
    },
    {
     "data": {
      "text/html": [
       "<pre style=\"white-space:pre;overflow-x:auto;line-height:normal;font-family:Menlo,'DejaVu Sans Mono',consolas,'Courier New',monospace\"></pre>\n"
      ],
      "text/plain": []
     },
     "metadata": {},
     "output_type": "display_data"
    },
    {
     "data": {
      "text/html": [
       "<pre style=\"white-space:pre;overflow-x:auto;line-height:normal;font-family:Menlo,'DejaVu Sans Mono',consolas,'Courier New',monospace\"><span style=\"background-color: #d7af00; font-weight: bold\"> DISK </span> Writing <span style=\"color: #d7af00; text-decoration-color: #d7af00\">P3_20241209/P3_20241209_syndirella_input.csv</span>...\n",
       "</pre>\n"
      ],
      "text/plain": [
       "\u001b[1;7;38;5;178m DISK \u001b[0m Writing \u001b[38;5;178mP3_20241209/P3_20241209_syndirella_input.csv\u001b[0m...\n"
      ]
     },
     "metadata": {},
     "output_type": "display_data"
    },
    {
     "data": {
      "text/html": [
       "<pre style=\"white-space:pre;overflow-x:auto;line-height:normal;font-family:Menlo,'DejaVu Sans Mono',consolas,'Courier New',monospace\"><span style=\"background-color: #d7af00; font-weight: bold\"> DISK </span> Writing <span style=\"color: #d7af00; text-decoration-color: #d7af00\">P3_20241209/P3_20241209_syndirella_inspiration_hits.sdf</span>...\n",
       "</pre>\n"
      ],
      "text/plain": [
       "\u001b[1;7;38;5;178m DISK \u001b[0m Writing \u001b[38;5;178mP3_20241209/P3_20241209_syndirella_inspiration_hits.sdf\u001b[0m...\n"
      ]
     },
     "metadata": {},
     "output_type": "display_data"
    },
    {
     "name": "stdout",
     "output_type": "stream",
     "text": [
      "CPU times: user 960 ms, sys: 1.01 s, total: 1.97 s\n",
      "Wall time: 22.6 s\n"
     ]
    },
    {
     "data": {
      "text/html": [
       "<div>\n",
       "<style scoped>\n",
       "    .dataframe tbody tr th:only-of-type {\n",
       "        vertical-align: middle;\n",
       "    }\n",
       "\n",
       "    .dataframe tbody tr th {\n",
       "        vertical-align: top;\n",
       "    }\n",
       "\n",
       "    .dataframe thead th {\n",
       "        text-align: right;\n",
       "    }\n",
       "</style>\n",
       "<table border=\"1\" class=\"dataframe\">\n",
       "  <thead>\n",
       "    <tr style=\"text-align: right;\">\n",
       "      <th></th>\n",
       "      <th>smiles</th>\n",
       "      <th>template</th>\n",
       "      <th>compound_set</th>\n",
       "      <th>hit1</th>\n",
       "    </tr>\n",
       "  </thead>\n",
       "  <tbody>\n",
       "    <tr>\n",
       "      <th>0</th>\n",
       "      <td>CNC(=O)c1cn(C)c2ccccc12</td>\n",
       "      <td>/opt/xchem-fragalysis-2/maxwin/2A_HIPPO/aligne...</td>\n",
       "      <td>P3_20241209</td>\n",
       "      <td>A3066a</td>\n",
       "    </tr>\n",
       "    <tr>\n",
       "      <th>1</th>\n",
       "      <td>CNC(=O)c1nn(C)c2ccccc12</td>\n",
       "      <td>/opt/xchem-fragalysis-2/maxwin/2A_HIPPO/aligne...</td>\n",
       "      <td>P3_20241209</td>\n",
       "      <td>A2290a</td>\n",
       "    </tr>\n",
       "    <tr>\n",
       "      <th>2</th>\n",
       "      <td>Cn1nc(C(=O)NCC2Cc3ccccc3CN2)c2ccccc21</td>\n",
       "      <td>/opt/xchem-fragalysis-2/maxwin/2A_HIPPO/aligne...</td>\n",
       "      <td>P3_20241209</td>\n",
       "      <td>A2293a</td>\n",
       "    </tr>\n",
       "    <tr>\n",
       "      <th>3</th>\n",
       "      <td>Cn1nc(C(=O)Nc2cn[nH]c2)c2ccccc21</td>\n",
       "      <td>/opt/xchem-fragalysis-2/maxwin/2A_HIPPO/aligne...</td>\n",
       "      <td>P3_20241209</td>\n",
       "      <td>A2304a</td>\n",
       "    </tr>\n",
       "    <tr>\n",
       "      <th>4</th>\n",
       "      <td>Cn1nc(C(=O)NC2CC2)c2cc(F)ccc21</td>\n",
       "      <td>/opt/xchem-fragalysis-2/maxwin/2A_HIPPO/aligne...</td>\n",
       "      <td>P3_20241209</td>\n",
       "      <td>A2339a</td>\n",
       "    </tr>\n",
       "    <tr>\n",
       "      <th>5</th>\n",
       "      <td>Cn1nc(C(N)=O)c2cc(F)ccc21</td>\n",
       "      <td>/opt/xchem-fragalysis-2/maxwin/2A_HIPPO/aligne...</td>\n",
       "      <td>P3_20241209</td>\n",
       "      <td>A2351a</td>\n",
       "    </tr>\n",
       "    <tr>\n",
       "      <th>6</th>\n",
       "      <td>CC(=O)Nc1cccc(NC(N)=O)c1</td>\n",
       "      <td>/opt/xchem-fragalysis-2/maxwin/2A_HIPPO/aligne...</td>\n",
       "      <td>P3_20241209</td>\n",
       "      <td>A2454a</td>\n",
       "    </tr>\n",
       "    <tr>\n",
       "      <th>7</th>\n",
       "      <td>COc1ccc(Cl)c2c1C(=O)C(=O)N2</td>\n",
       "      <td>/opt/xchem-fragalysis-2/maxwin/2A_HIPPO/aligne...</td>\n",
       "      <td>P3_20241209</td>\n",
       "      <td>A2513a</td>\n",
       "    </tr>\n",
       "    <tr>\n",
       "      <th>8</th>\n",
       "      <td>COc1ccccc1NC(=O)Nc1cccnc1</td>\n",
       "      <td>/opt/xchem-fragalysis-2/maxwin/2A_HIPPO/aligne...</td>\n",
       "      <td>P3_20241209</td>\n",
       "      <td>A2629a</td>\n",
       "    </tr>\n",
       "    <tr>\n",
       "      <th>9</th>\n",
       "      <td>Cn1nc(C(=O)NCCc2cocn2)c2ccccc21</td>\n",
       "      <td>/opt/xchem-fragalysis-2/maxwin/2A_HIPPO/aligne...</td>\n",
       "      <td>P3_20241209</td>\n",
       "      <td>A2846a</td>\n",
       "    </tr>\n",
       "    <tr>\n",
       "      <th>10</th>\n",
       "      <td>Cn1nc(C(=O)NCc2c[nH]cn2)c2ccccc21</td>\n",
       "      <td>/opt/xchem-fragalysis-2/maxwin/2A_HIPPO/aligne...</td>\n",
       "      <td>P3_20241209</td>\n",
       "      <td>A2972a</td>\n",
       "    </tr>\n",
       "    <tr>\n",
       "      <th>11</th>\n",
       "      <td>Cc1cccc(NC(=O)N2CCCC(C(N)=O)C2)c1</td>\n",
       "      <td>/opt/xchem-fragalysis-2/maxwin/2A_HIPPO/aligne...</td>\n",
       "      <td>P3_20241209</td>\n",
       "      <td>A3054a</td>\n",
       "    </tr>\n",
       "    <tr>\n",
       "      <th>12</th>\n",
       "      <td>Cc1cc(CNC(=O)c2cn(C)c3ccccc23)on1</td>\n",
       "      <td>/opt/xchem-fragalysis-2/maxwin/2A_HIPPO/aligne...</td>\n",
       "      <td>P3_20241209</td>\n",
       "      <td>A3175a</td>\n",
       "    </tr>\n",
       "    <tr>\n",
       "      <th>13</th>\n",
       "      <td>COCC(C)NC(=O)c1nn(C)c2ccccc12</td>\n",
       "      <td>/opt/xchem-fragalysis-2/maxwin/2A_HIPPO/aligne...</td>\n",
       "      <td>P3_20241209</td>\n",
       "      <td>A3176a</td>\n",
       "    </tr>\n",
       "    <tr>\n",
       "      <th>14</th>\n",
       "      <td>Cn1nc(C(=O)NC2CC2CO)c2ccccc21</td>\n",
       "      <td>/opt/xchem-fragalysis-2/maxwin/2A_HIPPO/aligne...</td>\n",
       "      <td>P3_20241209</td>\n",
       "      <td>A3177a</td>\n",
       "    </tr>\n",
       "    <tr>\n",
       "      <th>15</th>\n",
       "      <td>Cn1nc(C(=O)NC2CCOC2)c2ccccc21</td>\n",
       "      <td>/opt/xchem-fragalysis-2/maxwin/2A_HIPPO/aligne...</td>\n",
       "      <td>P3_20241209</td>\n",
       "      <td>A3178a</td>\n",
       "    </tr>\n",
       "    <tr>\n",
       "      <th>16</th>\n",
       "      <td>Cn1nc(C(=O)NCCn2cncn2)c2ccccc21</td>\n",
       "      <td>/opt/xchem-fragalysis-2/maxwin/2A_HIPPO/aligne...</td>\n",
       "      <td>P3_20241209</td>\n",
       "      <td>A3181a</td>\n",
       "    </tr>\n",
       "    <tr>\n",
       "      <th>17</th>\n",
       "      <td>Cn1cnc(CCNC(=O)c2nn(C)c3ccccc23)c1</td>\n",
       "      <td>/opt/xchem-fragalysis-2/maxwin/2A_HIPPO/A71EV2...</td>\n",
       "      <td>P3_20241209</td>\n",
       "      <td>A3371a</td>\n",
       "    </tr>\n",
       "    <tr>\n",
       "      <th>18</th>\n",
       "      <td>CC(Cc1cocn1)NC(=O)c1nn(C)c2ccccc12</td>\n",
       "      <td>/opt/xchem-fragalysis-2/maxwin/2A_HIPPO/A71EV2...</td>\n",
       "      <td>P3_20241209</td>\n",
       "      <td>A3379a</td>\n",
       "    </tr>\n",
       "    <tr>\n",
       "      <th>19</th>\n",
       "      <td>O=C(NCCc1cocn1)N1CCc2ccccc21</td>\n",
       "      <td>/opt/xchem-fragalysis-2/maxwin/2A_HIPPO/A71EV2...</td>\n",
       "      <td>P3_20241209</td>\n",
       "      <td>A3392a</td>\n",
       "    </tr>\n",
       "    <tr>\n",
       "      <th>20</th>\n",
       "      <td>Cn1cc2cccc(NC(=O)Cc3cocn3)c2n1</td>\n",
       "      <td>/opt/xchem-fragalysis-2/maxwin/2A_HIPPO/A71EV2...</td>\n",
       "      <td>P3_20241209</td>\n",
       "      <td>A3403a</td>\n",
       "    </tr>\n",
       "    <tr>\n",
       "      <th>21</th>\n",
       "      <td>C=CS(=O)(=O)N1CCCC(C(N)=O)C1</td>\n",
       "      <td>/opt/xchem-fragalysis-2/maxwin/2A_HIPPO/A71EV2...</td>\n",
       "      <td>P3_20241209</td>\n",
       "      <td>A3408a</td>\n",
       "    </tr>\n",
       "    <tr>\n",
       "      <th>22</th>\n",
       "      <td>Cc1nn(C)c2cc(C(=O)NCCc3cocn3)ccc12</td>\n",
       "      <td>/opt/xchem-fragalysis-2/maxwin/2A_HIPPO/A71EV2...</td>\n",
       "      <td>P3_20241209</td>\n",
       "      <td>A3410a</td>\n",
       "    </tr>\n",
       "    <tr>\n",
       "      <th>23</th>\n",
       "      <td>NC(=O)C1CCCN(C(=O)NCC2CC2)C1</td>\n",
       "      <td>/opt/xchem-fragalysis-2/maxwin/2A_HIPPO/A71EV2...</td>\n",
       "      <td>P3_20241209</td>\n",
       "      <td>A3417a</td>\n",
       "    </tr>\n",
       "    <tr>\n",
       "      <th>24</th>\n",
       "      <td>Cn1nc(C(=O)NCCc2cocn2)c2ccccc2c1=O</td>\n",
       "      <td>/opt/xchem-fragalysis-2/maxwin/2A_HIPPO/A71EV2...</td>\n",
       "      <td>P3_20241209</td>\n",
       "      <td>A3419a</td>\n",
       "    </tr>\n",
       "    <tr>\n",
       "      <th>25</th>\n",
       "      <td>O=C(NCCc1cocn1)c1ccccc1</td>\n",
       "      <td>/opt/xchem-fragalysis-2/maxwin/2A_HIPPO/A71EV2...</td>\n",
       "      <td>P3_20241209</td>\n",
       "      <td>A3435a</td>\n",
       "    </tr>\n",
       "    <tr>\n",
       "      <th>26</th>\n",
       "      <td>Cn1ncc(C(=O)NCCc2cocn2)n1</td>\n",
       "      <td>/opt/xchem-fragalysis-2/maxwin/2A_HIPPO/A71EV2...</td>\n",
       "      <td>P3_20241209</td>\n",
       "      <td>A3436a</td>\n",
       "    </tr>\n",
       "    <tr>\n",
       "      <th>27</th>\n",
       "      <td>N#Cc1sccc1CC(=O)N1CCCC(C(N)=O)C1</td>\n",
       "      <td>/opt/xchem-fragalysis-2/maxwin/2A_HIPPO/A71EV2...</td>\n",
       "      <td>P3_20241209</td>\n",
       "      <td>A3450a</td>\n",
       "    </tr>\n",
       "    <tr>\n",
       "      <th>28</th>\n",
       "      <td>N#CCc1cccc(NC(=O)N2CCCC(C(N)=O)C2)c1</td>\n",
       "      <td>/opt/xchem-fragalysis-2/maxwin/2A_HIPPO/A71EV2...</td>\n",
       "      <td>P3_20241209</td>\n",
       "      <td>A3480a</td>\n",
       "    </tr>\n",
       "    <tr>\n",
       "      <th>29</th>\n",
       "      <td>COCc1ccccc1NC(=O)N1CCCC(C(N)=O)C1</td>\n",
       "      <td>/opt/xchem-fragalysis-2/maxwin/2A_HIPPO/A71EV2...</td>\n",
       "      <td>P3_20241209</td>\n",
       "      <td>A3483a</td>\n",
       "    </tr>\n",
       "    <tr>\n",
       "      <th>30</th>\n",
       "      <td>COc1cccc(NC(=O)N2CCCC(C(N)=O)C2)c1</td>\n",
       "      <td>/opt/xchem-fragalysis-2/maxwin/2A_HIPPO/A71EV2...</td>\n",
       "      <td>P3_20241209</td>\n",
       "      <td>A3485a</td>\n",
       "    </tr>\n",
       "    <tr>\n",
       "      <th>31</th>\n",
       "      <td>COCC(=O)Nc1c(Cl)cc(C)cc1Oc1cccc(C(N)=O)c1</td>\n",
       "      <td>/opt/xchem-fragalysis-2/maxwin/2A_HIPPO/A71EV2...</td>\n",
       "      <td>P3_20241209</td>\n",
       "      <td>A3488a</td>\n",
       "    </tr>\n",
       "    <tr>\n",
       "      <th>32</th>\n",
       "      <td>Cc1nc2n(c1CC(=O)N1CCCC(C(N)=O)C1)CCCC2</td>\n",
       "      <td>/opt/xchem-fragalysis-2/maxwin/2A_HIPPO/A71EV2...</td>\n",
       "      <td>P3_20241209</td>\n",
       "      <td>A3489a</td>\n",
       "    </tr>\n",
       "  </tbody>\n",
       "</table>\n",
       "</div>"
      ],
      "text/plain": [
       "                                       smiles  \\\n",
       "0                     CNC(=O)c1cn(C)c2ccccc12   \n",
       "1                     CNC(=O)c1nn(C)c2ccccc12   \n",
       "2       Cn1nc(C(=O)NCC2Cc3ccccc3CN2)c2ccccc21   \n",
       "3            Cn1nc(C(=O)Nc2cn[nH]c2)c2ccccc21   \n",
       "4              Cn1nc(C(=O)NC2CC2)c2cc(F)ccc21   \n",
       "5                   Cn1nc(C(N)=O)c2cc(F)ccc21   \n",
       "6                    CC(=O)Nc1cccc(NC(N)=O)c1   \n",
       "7                 COc1ccc(Cl)c2c1C(=O)C(=O)N2   \n",
       "8                   COc1ccccc1NC(=O)Nc1cccnc1   \n",
       "9             Cn1nc(C(=O)NCCc2cocn2)c2ccccc21   \n",
       "10          Cn1nc(C(=O)NCc2c[nH]cn2)c2ccccc21   \n",
       "11          Cc1cccc(NC(=O)N2CCCC(C(N)=O)C2)c1   \n",
       "12          Cc1cc(CNC(=O)c2cn(C)c3ccccc23)on1   \n",
       "13              COCC(C)NC(=O)c1nn(C)c2ccccc12   \n",
       "14              Cn1nc(C(=O)NC2CC2CO)c2ccccc21   \n",
       "15              Cn1nc(C(=O)NC2CCOC2)c2ccccc21   \n",
       "16            Cn1nc(C(=O)NCCn2cncn2)c2ccccc21   \n",
       "17         Cn1cnc(CCNC(=O)c2nn(C)c3ccccc23)c1   \n",
       "18         CC(Cc1cocn1)NC(=O)c1nn(C)c2ccccc12   \n",
       "19               O=C(NCCc1cocn1)N1CCc2ccccc21   \n",
       "20             Cn1cc2cccc(NC(=O)Cc3cocn3)c2n1   \n",
       "21               C=CS(=O)(=O)N1CCCC(C(N)=O)C1   \n",
       "22         Cc1nn(C)c2cc(C(=O)NCCc3cocn3)ccc12   \n",
       "23               NC(=O)C1CCCN(C(=O)NCC2CC2)C1   \n",
       "24         Cn1nc(C(=O)NCCc2cocn2)c2ccccc2c1=O   \n",
       "25                    O=C(NCCc1cocn1)c1ccccc1   \n",
       "26                  Cn1ncc(C(=O)NCCc2cocn2)n1   \n",
       "27           N#Cc1sccc1CC(=O)N1CCCC(C(N)=O)C1   \n",
       "28       N#CCc1cccc(NC(=O)N2CCCC(C(N)=O)C2)c1   \n",
       "29          COCc1ccccc1NC(=O)N1CCCC(C(N)=O)C1   \n",
       "30         COc1cccc(NC(=O)N2CCCC(C(N)=O)C2)c1   \n",
       "31  COCC(=O)Nc1c(Cl)cc(C)cc1Oc1cccc(C(N)=O)c1   \n",
       "32     Cc1nc2n(c1CC(=O)N1CCCC(C(N)=O)C1)CCCC2   \n",
       "\n",
       "                                             template compound_set    hit1  \n",
       "0   /opt/xchem-fragalysis-2/maxwin/2A_HIPPO/aligne...  P3_20241209  A3066a  \n",
       "1   /opt/xchem-fragalysis-2/maxwin/2A_HIPPO/aligne...  P3_20241209  A2290a  \n",
       "2   /opt/xchem-fragalysis-2/maxwin/2A_HIPPO/aligne...  P3_20241209  A2293a  \n",
       "3   /opt/xchem-fragalysis-2/maxwin/2A_HIPPO/aligne...  P3_20241209  A2304a  \n",
       "4   /opt/xchem-fragalysis-2/maxwin/2A_HIPPO/aligne...  P3_20241209  A2339a  \n",
       "5   /opt/xchem-fragalysis-2/maxwin/2A_HIPPO/aligne...  P3_20241209  A2351a  \n",
       "6   /opt/xchem-fragalysis-2/maxwin/2A_HIPPO/aligne...  P3_20241209  A2454a  \n",
       "7   /opt/xchem-fragalysis-2/maxwin/2A_HIPPO/aligne...  P3_20241209  A2513a  \n",
       "8   /opt/xchem-fragalysis-2/maxwin/2A_HIPPO/aligne...  P3_20241209  A2629a  \n",
       "9   /opt/xchem-fragalysis-2/maxwin/2A_HIPPO/aligne...  P3_20241209  A2846a  \n",
       "10  /opt/xchem-fragalysis-2/maxwin/2A_HIPPO/aligne...  P3_20241209  A2972a  \n",
       "11  /opt/xchem-fragalysis-2/maxwin/2A_HIPPO/aligne...  P3_20241209  A3054a  \n",
       "12  /opt/xchem-fragalysis-2/maxwin/2A_HIPPO/aligne...  P3_20241209  A3175a  \n",
       "13  /opt/xchem-fragalysis-2/maxwin/2A_HIPPO/aligne...  P3_20241209  A3176a  \n",
       "14  /opt/xchem-fragalysis-2/maxwin/2A_HIPPO/aligne...  P3_20241209  A3177a  \n",
       "15  /opt/xchem-fragalysis-2/maxwin/2A_HIPPO/aligne...  P3_20241209  A3178a  \n",
       "16  /opt/xchem-fragalysis-2/maxwin/2A_HIPPO/aligne...  P3_20241209  A3181a  \n",
       "17  /opt/xchem-fragalysis-2/maxwin/2A_HIPPO/A71EV2...  P3_20241209  A3371a  \n",
       "18  /opt/xchem-fragalysis-2/maxwin/2A_HIPPO/A71EV2...  P3_20241209  A3379a  \n",
       "19  /opt/xchem-fragalysis-2/maxwin/2A_HIPPO/A71EV2...  P3_20241209  A3392a  \n",
       "20  /opt/xchem-fragalysis-2/maxwin/2A_HIPPO/A71EV2...  P3_20241209  A3403a  \n",
       "21  /opt/xchem-fragalysis-2/maxwin/2A_HIPPO/A71EV2...  P3_20241209  A3408a  \n",
       "22  /opt/xchem-fragalysis-2/maxwin/2A_HIPPO/A71EV2...  P3_20241209  A3410a  \n",
       "23  /opt/xchem-fragalysis-2/maxwin/2A_HIPPO/A71EV2...  P3_20241209  A3417a  \n",
       "24  /opt/xchem-fragalysis-2/maxwin/2A_HIPPO/A71EV2...  P3_20241209  A3419a  \n",
       "25  /opt/xchem-fragalysis-2/maxwin/2A_HIPPO/A71EV2...  P3_20241209  A3435a  \n",
       "26  /opt/xchem-fragalysis-2/maxwin/2A_HIPPO/A71EV2...  P3_20241209  A3436a  \n",
       "27  /opt/xchem-fragalysis-2/maxwin/2A_HIPPO/A71EV2...  P3_20241209  A3450a  \n",
       "28  /opt/xchem-fragalysis-2/maxwin/2A_HIPPO/A71EV2...  P3_20241209  A3480a  \n",
       "29  /opt/xchem-fragalysis-2/maxwin/2A_HIPPO/A71EV2...  P3_20241209  A3483a  \n",
       "30  /opt/xchem-fragalysis-2/maxwin/2A_HIPPO/A71EV2...  P3_20241209  A3485a  \n",
       "31  /opt/xchem-fragalysis-2/maxwin/2A_HIPPO/A71EV2...  P3_20241209  A3488a  \n",
       "32  /opt/xchem-fragalysis-2/maxwin/2A_HIPPO/A71EV2...  P3_20241209  A3489a  "
      ]
     },
     "execution_count": 10,
     "metadata": {},
     "output_type": "execute_result"
    }
   ],
   "source": [
    "%%time\n",
    "derivatives.to_syndirella(f\"{name}/{name}\")"
   ]
  },
  {
   "cell_type": "code",
   "execution_count": null,
   "id": "bb53d57e-abda-4e9e-b6bf-ba390007959f",
   "metadata": {},
   "outputs": [],
   "source": []
  }
 ],
 "metadata": {
  "kernelspec": {
   "display_name": "Python [conda env:base] *",
   "language": "python",
   "name": "conda-base-py"
  },
  "language_info": {
   "codemirror_mode": {
    "name": "ipython",
    "version": 3
   },
   "file_extension": ".py",
   "mimetype": "text/x-python",
   "name": "python",
   "nbconvert_exporter": "python",
   "pygments_lexer": "ipython3",
   "version": "3.11.6"
  }
 },
 "nbformat": 4,
 "nbformat_minor": 5
}
