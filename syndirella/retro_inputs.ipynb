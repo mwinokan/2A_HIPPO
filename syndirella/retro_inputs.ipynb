{
 "cells": [
  {
   "cell_type": "code",
   "execution_count": 1,
   "id": "d5685e54-4b25-4869-9b41-817b19d7af7c",
   "metadata": {},
   "outputs": [],
   "source": [
    "%load_ext autoreload\n",
    "%autoreload 2\n",
    "import hippo\n",
    "from rdkit.Chem import PandasTools\n",
    "from pandas import DataFrame"
   ]
  },
  {
   "cell_type": "code",
   "execution_count": 2,
   "id": "e14722d2-d58f-4378-a3fb-b128ee367684",
   "metadata": {},
   "outputs": [
    {
     "data": {
      "text/html": [
       "<pre style=\"white-space:pre;overflow-x:auto;line-height:normal;font-family:Menlo,'DejaVu Sans Mono',consolas,'Courier New',monospace\"><span style=\"font-weight: bold\"> Creating HIPPO animal</span>\n",
       "</pre>\n"
      ],
      "text/plain": [
       "\u001b[1m Creating HIPPO animal\u001b[0m\n"
      ]
     },
     "metadata": {},
     "output_type": "display_data"
    },
    {
     "data": {
      "text/html": [
       "<pre style=\"white-space:pre;overflow-x:auto;line-height:normal;font-family:Menlo,'DejaVu Sans Mono',consolas,'Courier New',monospace\"><span style=\"color: #008080; text-decoration-color: #008080; font-weight: bold\">name</span> = <span style=\"color: #00d7af; text-decoration-color: #00d7af\">2A_i2_1</span>\n",
       "</pre>\n"
      ],
      "text/plain": [
       "\u001b[1;36mname\u001b[0m = \u001b[38;5;43m2A_i2_1\u001b[0m\n"
      ]
     },
     "metadata": {},
     "output_type": "display_data"
    },
    {
     "data": {
      "text/html": [
       "<pre style=\"white-space:pre;overflow-x:auto;line-height:normal;font-family:Menlo,'DejaVu Sans Mono',consolas,'Courier New',monospace\"><span style=\"color: #008080; text-decoration-color: #008080; font-weight: bold\">db_path</span> = <span style=\"color: #d7af00; text-decoration-color: #d7af00\">../hippo_iter2/2A_i2_1.sqlite</span>\n",
       "</pre>\n"
      ],
      "text/plain": [
       "\u001b[1;36mdb_path\u001b[0m = \u001b[38;5;178m../hippo_iter2/2A_i2_1.sqlite\u001b[0m\n"
      ]
     },
     "metadata": {},
     "output_type": "display_data"
    },
    {
     "data": {
      "text/html": [
       "<pre style=\"white-space:pre;overflow-x:auto;line-height:normal;font-family:Menlo,'DejaVu Sans Mono',consolas,'Courier New',monospace\"><span style=\"color: #808080; text-decoration-color: #808080\">DEBUG: hippo.Database.__init__()</span>\n",
       "</pre>\n"
      ],
      "text/plain": [
       "\u001b[90mDEBUG: hippo.Database.__init__()\u001b[0m\n"
      ]
     },
     "metadata": {},
     "output_type": "display_data"
    },
    {
     "data": {
      "text/html": [
       "<pre style=\"white-space:pre;overflow-x:auto;line-height:normal;font-family:Menlo,'DejaVu Sans Mono',consolas,'Courier New',monospace\"><span style=\"color: #808080; text-decoration-color: #808080\">DEBUG: Database.path = ../hippo_iter2/2A_i2_1.sqlite</span>\n",
       "</pre>\n"
      ],
      "text/plain": [
       "\u001b[90mDEBUG: Database.path = ../hippo_iter2/2A_i2_1.sqlite\u001b[0m\n"
      ]
     },
     "metadata": {},
     "output_type": "display_data"
    },
    {
     "data": {
      "text/html": [
       "<pre style=\"white-space:pre;overflow-x:auto;line-height:normal;font-family:Menlo,'DejaVu Sans Mono',consolas,'Courier New',monospace\"><span style=\"color: #808080; text-decoration-color: #808080\">DEBUG: hippo.Database.connect()</span>\n",
       "</pre>\n"
      ],
      "text/plain": [
       "\u001b[90mDEBUG: hippo.Database.connect()\u001b[0m\n"
      ]
     },
     "metadata": {},
     "output_type": "display_data"
    },
    {
     "data": {
      "text/html": [
       "<pre style=\"white-space:pre;overflow-x:auto;line-height:normal;font-family:Menlo,'DejaVu Sans Mono',consolas,'Courier New',monospace\"><span style=\"color: #808080; text-decoration-color: #808080\">DEBUG: sqlite3.version='2.6.0'</span>\n",
       "</pre>\n"
      ],
      "text/plain": [
       "\u001b[90mDEBUG: sqlite3.version='2.6.0'\u001b[0m\n"
      ]
     },
     "metadata": {},
     "output_type": "display_data"
    },
    {
     "data": {
      "text/html": [
       "<pre style=\"white-space:pre;overflow-x:auto;line-height:normal;font-family:Menlo,'DejaVu Sans Mono',consolas,'Courier New',monospace\"><span style=\"background-color: #008000; font-weight: bold\"> Success </span><span style=\"color: #008000; text-decoration-color: #008000; font-weight: bold\"> Database connected @</span><span style=\"color: #d7af00; text-decoration-color: #d7af00; font-weight: bold\"> ../hippo_iter2/2A_i2_1.sqlite!</span>\n",
       "</pre>\n"
      ],
      "text/plain": [
       "\u001b[1;7;32m Success \u001b[0m\u001b[1;32m Database connected @\u001b[0m\u001b[1;38;5;178m ../hippo_iter2/2A_i2_1.sqlite!\u001b[0m\n"
      ]
     },
     "metadata": {},
     "output_type": "display_data"
    },
    {
     "data": {
      "text/html": [
       "<pre style=\"white-space:pre;overflow-x:auto;line-height:normal;font-family:Menlo,'DejaVu Sans Mono',consolas,'Courier New',monospace\"><span style=\"background-color: #008000; font-weight: bold\"> Success </span><span style=\"color: #008000; text-decoration-color: #008000; font-weight: bold\"> Initialised animal</span><span style=\"color: #008080; text-decoration-color: #008080; font-weight: bold\"> HIPPO(\"2A_i2_1\")!</span>\n",
       "</pre>\n"
      ],
      "text/plain": [
       "\u001b[1;7;32m Success \u001b[0m\u001b[1;32m Initialised animal\u001b[0m\u001b[1;36m HIPPO(\"2A_i2_1\")!\u001b[0m\n"
      ]
     },
     "metadata": {},
     "output_type": "display_data"
    }
   ],
   "source": [
    "animal = hippo.HIPPO(\"2A_i2_1\", \"../hippo_iter2/2A_i2_1.sqlite\")"
   ]
  },
  {
   "cell_type": "code",
   "execution_count": 5,
   "id": "65fc40b4-0943-44a4-bf90-fd2bc059e7cf",
   "metadata": {},
   "outputs": [
    {
     "data": {
      "text/plain": [
       "\u001b[1m\u001b[4mposes tagged \"P3_20241212\": {P × 27}\u001b[22m\u001b[24m"
      ]
     },
     "execution_count": 5,
     "metadata": {},
     "output_type": "execute_result"
    }
   ],
   "source": [
    "# name = \"P3_20241209\"\n",
    "# derivatives = animal.poses(tag=\"[Other] P3 compound design\")\n",
    "\n",
    "# name = \"P3_20241211\"\n",
    "# derivatives = animal.poses(tag=\"P3_20241211\")\n",
    "\n",
    "name = \"P3_20241212\"\n",
    "derivatives = animal.poses(tag=\"P3_20241212\")\n",
    "\n",
    "derivatives"
   ]
  },
  {
   "cell_type": "code",
   "execution_count": 6,
   "id": "cd686f53-126d-470c-80f9-0d121afd4d36",
   "metadata": {},
   "outputs": [
    {
     "data": {
      "text/html": [
       "<pre style=\"white-space:pre;overflow-x:auto;line-height:normal;font-family:Menlo,'DejaVu Sans Mono',consolas,'Courier New',monospace\"><span style=\"color: #008080; text-decoration-color: #008080; font-weight: bold\">out_key</span> = P3_20241212\n",
       "</pre>\n"
      ],
      "text/plain": [
       "\u001b[1;36mout_key\u001b[0m = P3_20241212\n"
      ]
     },
     "metadata": {},
     "output_type": "display_data"
    },
    {
     "data": {
      "text/html": [
       "<pre style=\"white-space:pre;overflow-x:auto;line-height:normal;font-family:Menlo,'DejaVu Sans Mono',consolas,'Courier New',monospace\"><span style=\"color: #008080; text-decoration-color: #008080; font-weight: bold\">#poses</span> = <span style=\"color: #008080; text-decoration-color: #008080; font-weight: bold\">27</span>\n",
       "</pre>\n"
      ],
      "text/plain": [
       "\u001b[1;36m#poses\u001b[0m = \u001b[1;36m27\u001b[0m\n"
      ]
     },
     "metadata": {},
     "output_type": "display_data"
    },
    {
     "data": {
      "application/vnd.jupyter.widget-view+json": {
       "model_id": "813613d8530a4907887300a2ff5b1574",
       "version_major": 2,
       "version_minor": 0
      },
      "text/plain": [
       "Output()"
      ]
     },
     "metadata": {},
     "output_type": "display_data"
    },
    {
     "data": {
      "text/html": [
       "<pre style=\"white-space:pre;overflow-x:auto;line-height:normal;font-family:Menlo,'DejaVu Sans Mono',consolas,'Courier New',monospace\"></pre>\n"
      ],
      "text/plain": []
     },
     "metadata": {},
     "output_type": "display_data"
    },
    {
     "data": {
      "text/html": [
       "<pre style=\"white-space:pre;overflow-x:auto;line-height:normal;font-family:Menlo,'DejaVu Sans Mono',consolas,'Courier New',monospace\"><span style=\"background-color: #d7af00; font-weight: bold\"> DISK </span> Writing <span style=\"color: #d7af00; text-decoration-color: #d7af00\">P3_20241212/P3_20241212_syndirella_input.csv</span>...\n",
       "</pre>\n"
      ],
      "text/plain": [
       "\u001b[1;7;38;5;178m DISK \u001b[0m Writing \u001b[38;5;178mP3_20241212/P3_20241212_syndirella_input.csv\u001b[0m...\n"
      ]
     },
     "metadata": {},
     "output_type": "display_data"
    },
    {
     "data": {
      "text/html": [
       "<pre style=\"white-space:pre;overflow-x:auto;line-height:normal;font-family:Menlo,'DejaVu Sans Mono',consolas,'Courier New',monospace\"><span style=\"background-color: #d7af00; font-weight: bold\"> DISK </span> Reading <span style=\"color: #d7af00; text-decoration-color: #d7af00\">/opt/xchem-fragalysis-2/maxwin/2A_HIPPO/A71EV2A_P3only_20241212/aligned_files/A3938a/A3938a.pdb</span>...\n",
       "</pre>\n"
      ],
      "text/plain": [
       "\u001b[1;7;38;5;178m DISK \u001b[0m Reading \u001b[38;5;178m/opt/xchem-fragalysis-2/maxwin/2A_HIPPO/A71EV2A_P3only_20241212/aligned_files/A3938a/A3938a.pdb\u001b[0m...\n"
      ]
     },
     "metadata": {},
     "output_type": "display_data"
    },
    {
     "data": {
      "text/html": [
       "<pre style=\"white-space:pre;overflow-x:auto;line-height:normal;font-family:Menlo,'DejaVu Sans Mono',consolas,'Courier New',monospace\"><span style=\"background-color: #d7af00; font-weight: bold\"> DISK </span> Reading <span style=\"color: #d7af00; text-decoration-color: #d7af00\">/opt/xchem-fragalysis-2/maxwin/2A_HIPPO/A71EV2A_P3only_20241212/aligned_files/A3940a/A3940a.pdb</span>...\n",
       "</pre>\n"
      ],
      "text/plain": [
       "\u001b[1;7;38;5;178m DISK \u001b[0m Reading \u001b[38;5;178m/opt/xchem-fragalysis-2/maxwin/2A_HIPPO/A71EV2A_P3only_20241212/aligned_files/A3940a/A3940a.pdb\u001b[0m...\n"
      ]
     },
     "metadata": {},
     "output_type": "display_data"
    },
    {
     "data": {
      "text/html": [
       "<pre style=\"white-space:pre;overflow-x:auto;line-height:normal;font-family:Menlo,'DejaVu Sans Mono',consolas,'Courier New',monospace\"><span style=\"background-color: #d7af00; font-weight: bold\"> DISK </span> Reading <span style=\"color: #d7af00; text-decoration-color: #d7af00\">/opt/xchem-fragalysis-2/maxwin/2A_HIPPO/A71EV2A_P3only_20241212/aligned_files/A3990a/A3990a.pdb</span>...\n",
       "</pre>\n"
      ],
      "text/plain": [
       "\u001b[1;7;38;5;178m DISK \u001b[0m Reading \u001b[38;5;178m/opt/xchem-fragalysis-2/maxwin/2A_HIPPO/A71EV2A_P3only_20241212/aligned_files/A3990a/A3990a.pdb\u001b[0m...\n"
      ]
     },
     "metadata": {},
     "output_type": "display_data"
    },
    {
     "name": "stderr",
     "output_type": "stream",
     "text": [
      "[13:37:03] WARNING: More than one matching pattern found - picking one\n",
      "\n"
     ]
    },
    {
     "data": {
      "text/html": [
       "<pre style=\"white-space:pre;overflow-x:auto;line-height:normal;font-family:Menlo,'DejaVu Sans Mono',consolas,'Courier New',monospace\"><span style=\"background-color: #d7af00; font-weight: bold\"> DISK </span> Reading <span style=\"color: #d7af00; text-decoration-color: #d7af00\">/opt/xchem-fragalysis-2/maxwin/2A_HIPPO/A71EV2A_P3only_20241212/aligned_files/A4028a/A4028a.pdb</span>...\n",
       "</pre>\n"
      ],
      "text/plain": [
       "\u001b[1;7;38;5;178m DISK \u001b[0m Reading \u001b[38;5;178m/opt/xchem-fragalysis-2/maxwin/2A_HIPPO/A71EV2A_P3only_20241212/aligned_files/A4028a/A4028a.pdb\u001b[0m...\n"
      ]
     },
     "metadata": {},
     "output_type": "display_data"
    },
    {
     "name": "stderr",
     "output_type": "stream",
     "text": [
      "[13:37:04] WARNING: More than one matching pattern found - picking one\n",
      "\n"
     ]
    },
    {
     "data": {
      "text/html": [
       "<pre style=\"white-space:pre;overflow-x:auto;line-height:normal;font-family:Menlo,'DejaVu Sans Mono',consolas,'Courier New',monospace\"><span style=\"background-color: #d7af00; font-weight: bold\"> DISK </span> Reading \n",
       "<span style=\"color: #d7af00; text-decoration-color: #d7af00\">/opt/xchem-fragalysis-2/maxwin/2A_HIPPO/A71EV2A_P3only_20241212/aligned_files/A4032a/A4032a_hippo.pdb</span>...\n",
       "</pre>\n"
      ],
      "text/plain": [
       "\u001b[1;7;38;5;178m DISK \u001b[0m Reading \n",
       "\u001b[38;5;178m/opt/xchem-fragalysis-2/maxwin/2A_HIPPO/A71EV2A_P3only_20241212/aligned_files/A4032a/A4032a_hippo.pdb\u001b[0m...\n"
      ]
     },
     "metadata": {},
     "output_type": "display_data"
    },
    {
     "data": {
      "text/html": [
       "<pre style=\"white-space:pre;overflow-x:auto;line-height:normal;font-family:Menlo,'DejaVu Sans Mono',consolas,'Courier New',monospace\"><span style=\"background-color: #d7af00; font-weight: bold\"> DISK </span> Reading \n",
       "<span style=\"color: #d7af00; text-decoration-color: #d7af00\">/opt/xchem-fragalysis-2/maxwin/2A_HIPPO/A71EV2A_P3only_20241212/aligned_files/A4035a/A4035a_hippo.pdb</span>...\n",
       "</pre>\n"
      ],
      "text/plain": [
       "\u001b[1;7;38;5;178m DISK \u001b[0m Reading \n",
       "\u001b[38;5;178m/opt/xchem-fragalysis-2/maxwin/2A_HIPPO/A71EV2A_P3only_20241212/aligned_files/A4035a/A4035a_hippo.pdb\u001b[0m...\n"
      ]
     },
     "metadata": {},
     "output_type": "display_data"
    },
    {
     "data": {
      "text/html": [
       "<pre style=\"white-space:pre;overflow-x:auto;line-height:normal;font-family:Menlo,'DejaVu Sans Mono',consolas,'Courier New',monospace\"><span style=\"background-color: #d7af00; font-weight: bold\"> DISK </span> Reading \n",
       "<span style=\"color: #d7af00; text-decoration-color: #d7af00\">/opt/xchem-fragalysis-2/maxwin/2A_HIPPO/A71EV2A_P3only_20241212/aligned_files/A4202a/A4202a_hippo.pdb</span>...\n",
       "</pre>\n"
      ],
      "text/plain": [
       "\u001b[1;7;38;5;178m DISK \u001b[0m Reading \n",
       "\u001b[38;5;178m/opt/xchem-fragalysis-2/maxwin/2A_HIPPO/A71EV2A_P3only_20241212/aligned_files/A4202a/A4202a_hippo.pdb\u001b[0m...\n"
      ]
     },
     "metadata": {},
     "output_type": "display_data"
    },
    {
     "data": {
      "text/html": [
       "<pre style=\"white-space:pre;overflow-x:auto;line-height:normal;font-family:Menlo,'DejaVu Sans Mono',consolas,'Courier New',monospace\"><span style=\"background-color: #d7af00; font-weight: bold\"> DISK </span> Reading <span style=\"color: #d7af00; text-decoration-color: #d7af00\">/opt/xchem-fragalysis-2/maxwin/2A_HIPPO/A71EV2A_P3only_20241212/aligned_files/A4203a/A4203a.pdb</span>...\n",
       "</pre>\n"
      ],
      "text/plain": [
       "\u001b[1;7;38;5;178m DISK \u001b[0m Reading \u001b[38;5;178m/opt/xchem-fragalysis-2/maxwin/2A_HIPPO/A71EV2A_P3only_20241212/aligned_files/A4203a/A4203a.pdb\u001b[0m...\n"
      ]
     },
     "metadata": {},
     "output_type": "display_data"
    },
    {
     "data": {
      "text/html": [
       "<pre style=\"white-space:pre;overflow-x:auto;line-height:normal;font-family:Menlo,'DejaVu Sans Mono',consolas,'Courier New',monospace\"><span style=\"background-color: #d7af00; font-weight: bold\"> DISK </span> Reading \n",
       "<span style=\"color: #d7af00; text-decoration-color: #d7af00\">/opt/xchem-fragalysis-2/maxwin/2A_HIPPO/A71EV2A_P3only_20241212/aligned_files/A4207a/A4207a_hippo.pdb</span>...\n",
       "</pre>\n"
      ],
      "text/plain": [
       "\u001b[1;7;38;5;178m DISK \u001b[0m Reading \n",
       "\u001b[38;5;178m/opt/xchem-fragalysis-2/maxwin/2A_HIPPO/A71EV2A_P3only_20241212/aligned_files/A4207a/A4207a_hippo.pdb\u001b[0m...\n"
      ]
     },
     "metadata": {},
     "output_type": "display_data"
    },
    {
     "data": {
      "text/html": [
       "<pre style=\"white-space:pre;overflow-x:auto;line-height:normal;font-family:Menlo,'DejaVu Sans Mono',consolas,'Courier New',monospace\"><span style=\"background-color: #d7af00; font-weight: bold\"> DISK </span> Reading \n",
       "<span style=\"color: #d7af00; text-decoration-color: #d7af00\">/opt/xchem-fragalysis-2/maxwin/2A_HIPPO/A71EV2A_P3only_20241212/aligned_files/A4237a/A4237a_hippo.pdb</span>...\n",
       "</pre>\n"
      ],
      "text/plain": [
       "\u001b[1;7;38;5;178m DISK \u001b[0m Reading \n",
       "\u001b[38;5;178m/opt/xchem-fragalysis-2/maxwin/2A_HIPPO/A71EV2A_P3only_20241212/aligned_files/A4237a/A4237a_hippo.pdb\u001b[0m...\n"
      ]
     },
     "metadata": {},
     "output_type": "display_data"
    },
    {
     "name": "stderr",
     "output_type": "stream",
     "text": [
      "[13:37:04] WARNING: More than one matching pattern found - picking one\n",
      "\n"
     ]
    },
    {
     "data": {
      "text/html": [
       "<pre style=\"white-space:pre;overflow-x:auto;line-height:normal;font-family:Menlo,'DejaVu Sans Mono',consolas,'Courier New',monospace\"><span style=\"background-color: #d7af00; font-weight: bold\"> DISK </span> Reading <span style=\"color: #d7af00; text-decoration-color: #d7af00\">/opt/xchem-fragalysis-2/maxwin/2A_HIPPO/A71EV2A_P3only_20241212/aligned_files/A4260a/A4260a.pdb</span>...\n",
       "</pre>\n"
      ],
      "text/plain": [
       "\u001b[1;7;38;5;178m DISK \u001b[0m Reading \u001b[38;5;178m/opt/xchem-fragalysis-2/maxwin/2A_HIPPO/A71EV2A_P3only_20241212/aligned_files/A4260a/A4260a.pdb\u001b[0m...\n"
      ]
     },
     "metadata": {},
     "output_type": "display_data"
    },
    {
     "data": {
      "text/html": [
       "<pre style=\"white-space:pre;overflow-x:auto;line-height:normal;font-family:Menlo,'DejaVu Sans Mono',consolas,'Courier New',monospace\"><span style=\"background-color: #d7af00; font-weight: bold\"> DISK </span> Reading <span style=\"color: #d7af00; text-decoration-color: #d7af00\">/opt/xchem-fragalysis-2/maxwin/2A_HIPPO/A71EV2A_P3only_20241212/aligned_files/A4291a/A4291a.pdb</span>...\n",
       "</pre>\n"
      ],
      "text/plain": [
       "\u001b[1;7;38;5;178m DISK \u001b[0m Reading \u001b[38;5;178m/opt/xchem-fragalysis-2/maxwin/2A_HIPPO/A71EV2A_P3only_20241212/aligned_files/A4291a/A4291a.pdb\u001b[0m...\n"
      ]
     },
     "metadata": {},
     "output_type": "display_data"
    },
    {
     "data": {
      "text/html": [
       "<pre style=\"white-space:pre;overflow-x:auto;line-height:normal;font-family:Menlo,'DejaVu Sans Mono',consolas,'Courier New',monospace\"><span style=\"background-color: #d7af00; font-weight: bold\"> DISK </span> Reading <span style=\"color: #d7af00; text-decoration-color: #d7af00\">/opt/xchem-fragalysis-2/maxwin/2A_HIPPO/A71EV2A_P3only_20241212/aligned_files/A4292a/A4292a.pdb</span>...\n",
       "</pre>\n"
      ],
      "text/plain": [
       "\u001b[1;7;38;5;178m DISK \u001b[0m Reading \u001b[38;5;178m/opt/xchem-fragalysis-2/maxwin/2A_HIPPO/A71EV2A_P3only_20241212/aligned_files/A4292a/A4292a.pdb\u001b[0m...\n"
      ]
     },
     "metadata": {},
     "output_type": "display_data"
    },
    {
     "name": "stderr",
     "output_type": "stream",
     "text": [
      "[13:37:05] WARNING: More than one matching pattern found - picking one\n",
      "\n"
     ]
    },
    {
     "data": {
      "text/html": [
       "<pre style=\"white-space:pre;overflow-x:auto;line-height:normal;font-family:Menlo,'DejaVu Sans Mono',consolas,'Courier New',monospace\"><span style=\"background-color: #d7af00; font-weight: bold\"> DISK </span> Reading <span style=\"color: #d7af00; text-decoration-color: #d7af00\">/opt/xchem-fragalysis-2/maxwin/2A_HIPPO/A71EV2A_P3only_20241212/aligned_files/A4304a/A4304a.pdb</span>...\n",
       "</pre>\n"
      ],
      "text/plain": [
       "\u001b[1;7;38;5;178m DISK \u001b[0m Reading \u001b[38;5;178m/opt/xchem-fragalysis-2/maxwin/2A_HIPPO/A71EV2A_P3only_20241212/aligned_files/A4304a/A4304a.pdb\u001b[0m...\n"
      ]
     },
     "metadata": {},
     "output_type": "display_data"
    },
    {
     "name": "stderr",
     "output_type": "stream",
     "text": [
      "[13:37:05] WARNING: More than one matching pattern found - picking one\n",
      "\n"
     ]
    },
    {
     "data": {
      "text/html": [
       "<pre style=\"white-space:pre;overflow-x:auto;line-height:normal;font-family:Menlo,'DejaVu Sans Mono',consolas,'Courier New',monospace\"><span style=\"background-color: #d7af00; font-weight: bold\"> DISK </span> Reading <span style=\"color: #d7af00; text-decoration-color: #d7af00\">/opt/xchem-fragalysis-2/maxwin/2A_HIPPO/A71EV2A_P3only_20241212/aligned_files/A4306a/A4306a.pdb</span>...\n",
       "</pre>\n"
      ],
      "text/plain": [
       "\u001b[1;7;38;5;178m DISK \u001b[0m Reading \u001b[38;5;178m/opt/xchem-fragalysis-2/maxwin/2A_HIPPO/A71EV2A_P3only_20241212/aligned_files/A4306a/A4306a.pdb\u001b[0m...\n"
      ]
     },
     "metadata": {},
     "output_type": "display_data"
    },
    {
     "name": "stderr",
     "output_type": "stream",
     "text": [
      "[13:37:05] WARNING: More than one matching pattern found - picking one\n",
      "\n"
     ]
    },
    {
     "data": {
      "text/html": [
       "<pre style=\"white-space:pre;overflow-x:auto;line-height:normal;font-family:Menlo,'DejaVu Sans Mono',consolas,'Courier New',monospace\"><span style=\"background-color: #d7af00; font-weight: bold\"> DISK </span> Reading \n",
       "<span style=\"color: #d7af00; text-decoration-color: #d7af00\">/opt/xchem-fragalysis-2/maxwin/2A_HIPPO/A71EV2A_P3only_20241212/aligned_files/A4309a/A4309a_hippo.pdb</span>...\n",
       "</pre>\n"
      ],
      "text/plain": [
       "\u001b[1;7;38;5;178m DISK \u001b[0m Reading \n",
       "\u001b[38;5;178m/opt/xchem-fragalysis-2/maxwin/2A_HIPPO/A71EV2A_P3only_20241212/aligned_files/A4309a/A4309a_hippo.pdb\u001b[0m...\n"
      ]
     },
     "metadata": {},
     "output_type": "display_data"
    },
    {
     "name": "stderr",
     "output_type": "stream",
     "text": [
      "[13:37:05] WARNING: More than one matching pattern found - picking one\n",
      "\n"
     ]
    },
    {
     "data": {
      "text/html": [
       "<pre style=\"white-space:pre;overflow-x:auto;line-height:normal;font-family:Menlo,'DejaVu Sans Mono',consolas,'Courier New',monospace\"><span style=\"background-color: #d7af00; font-weight: bold\"> DISK </span> Reading <span style=\"color: #d7af00; text-decoration-color: #d7af00\">/opt/xchem-fragalysis-2/maxwin/2A_HIPPO/A71EV2A_P3only_20241212/aligned_files/A4319a/A4319a.pdb</span>...\n",
       "</pre>\n"
      ],
      "text/plain": [
       "\u001b[1;7;38;5;178m DISK \u001b[0m Reading \u001b[38;5;178m/opt/xchem-fragalysis-2/maxwin/2A_HIPPO/A71EV2A_P3only_20241212/aligned_files/A4319a/A4319a.pdb\u001b[0m...\n"
      ]
     },
     "metadata": {},
     "output_type": "display_data"
    },
    {
     "name": "stderr",
     "output_type": "stream",
     "text": [
      "[13:37:05] WARNING: More than one matching pattern found - picking one\n",
      "\n"
     ]
    },
    {
     "data": {
      "text/html": [
       "<pre style=\"white-space:pre;overflow-x:auto;line-height:normal;font-family:Menlo,'DejaVu Sans Mono',consolas,'Courier New',monospace\"><span style=\"background-color: #d7af00; font-weight: bold\"> DISK </span> Reading \n",
       "<span style=\"color: #d7af00; text-decoration-color: #d7af00\">/opt/xchem-fragalysis-2/maxwin/2A_HIPPO/A71EV2A_P3only_20241212/aligned_files/A4321a/A4321a_hippo.pdb</span>...\n",
       "</pre>\n"
      ],
      "text/plain": [
       "\u001b[1;7;38;5;178m DISK \u001b[0m Reading \n",
       "\u001b[38;5;178m/opt/xchem-fragalysis-2/maxwin/2A_HIPPO/A71EV2A_P3only_20241212/aligned_files/A4321a/A4321a_hippo.pdb\u001b[0m...\n"
      ]
     },
     "metadata": {},
     "output_type": "display_data"
    },
    {
     "data": {
      "text/html": [
       "<pre style=\"white-space:pre;overflow-x:auto;line-height:normal;font-family:Menlo,'DejaVu Sans Mono',consolas,'Courier New',monospace\"><span style=\"background-color: #d7af00; font-weight: bold\"> DISK </span> Reading <span style=\"color: #d7af00; text-decoration-color: #d7af00\">/opt/xchem-fragalysis-2/maxwin/2A_HIPPO/A71EV2A_P3only_20241212/aligned_files/A4324a/A4324a.pdb</span>...\n",
       "</pre>\n"
      ],
      "text/plain": [
       "\u001b[1;7;38;5;178m DISK \u001b[0m Reading \u001b[38;5;178m/opt/xchem-fragalysis-2/maxwin/2A_HIPPO/A71EV2A_P3only_20241212/aligned_files/A4324a/A4324a.pdb\u001b[0m...\n"
      ]
     },
     "metadata": {},
     "output_type": "display_data"
    },
    {
     "data": {
      "text/html": [
       "<pre style=\"white-space:pre;overflow-x:auto;line-height:normal;font-family:Menlo,'DejaVu Sans Mono',consolas,'Courier New',monospace\"><span style=\"background-color: #d7af00; font-weight: bold\"> DISK </span> Reading \n",
       "<span style=\"color: #d7af00; text-decoration-color: #d7af00\">/opt/xchem-fragalysis-2/maxwin/2A_HIPPO/A71EV2A_P3only_20241212/aligned_files/A4331a/A4331a_hippo.pdb</span>...\n",
       "</pre>\n"
      ],
      "text/plain": [
       "\u001b[1;7;38;5;178m DISK \u001b[0m Reading \n",
       "\u001b[38;5;178m/opt/xchem-fragalysis-2/maxwin/2A_HIPPO/A71EV2A_P3only_20241212/aligned_files/A4331a/A4331a_hippo.pdb\u001b[0m...\n"
      ]
     },
     "metadata": {},
     "output_type": "display_data"
    },
    {
     "data": {
      "text/html": [
       "<pre style=\"white-space:pre;overflow-x:auto;line-height:normal;font-family:Menlo,'DejaVu Sans Mono',consolas,'Courier New',monospace\"><span style=\"background-color: #d7af00; font-weight: bold\"> DISK </span> Reading <span style=\"color: #d7af00; text-decoration-color: #d7af00\">/opt/xchem-fragalysis-2/maxwin/2A_HIPPO/A71EV2A_P3only_20241212/aligned_files/A4333a/A4333a.pdb</span>...\n",
       "</pre>\n"
      ],
      "text/plain": [
       "\u001b[1;7;38;5;178m DISK \u001b[0m Reading \u001b[38;5;178m/opt/xchem-fragalysis-2/maxwin/2A_HIPPO/A71EV2A_P3only_20241212/aligned_files/A4333a/A4333a.pdb\u001b[0m...\n"
      ]
     },
     "metadata": {},
     "output_type": "display_data"
    },
    {
     "data": {
      "text/html": [
       "<pre style=\"white-space:pre;overflow-x:auto;line-height:normal;font-family:Menlo,'DejaVu Sans Mono',consolas,'Courier New',monospace\"><span style=\"background-color: #d7af00; font-weight: bold\"> DISK </span> Reading \n",
       "<span style=\"color: #d7af00; text-decoration-color: #d7af00\">/opt/xchem-fragalysis-2/maxwin/2A_HIPPO/A71EV2A_P3only_20241212/aligned_files/A4334a/A4334a_hippo.pdb</span>...\n",
       "</pre>\n"
      ],
      "text/plain": [
       "\u001b[1;7;38;5;178m DISK \u001b[0m Reading \n",
       "\u001b[38;5;178m/opt/xchem-fragalysis-2/maxwin/2A_HIPPO/A71EV2A_P3only_20241212/aligned_files/A4334a/A4334a_hippo.pdb\u001b[0m...\n"
      ]
     },
     "metadata": {},
     "output_type": "display_data"
    },
    {
     "data": {
      "text/html": [
       "<pre style=\"white-space:pre;overflow-x:auto;line-height:normal;font-family:Menlo,'DejaVu Sans Mono',consolas,'Courier New',monospace\"><span style=\"background-color: #d7af00; font-weight: bold\"> DISK </span> Reading <span style=\"color: #d7af00; text-decoration-color: #d7af00\">/opt/xchem-fragalysis-2/maxwin/2A_HIPPO/A71EV2A_P3only_20241212/aligned_files/A4336a/A4336a.pdb</span>...\n",
       "</pre>\n"
      ],
      "text/plain": [
       "\u001b[1;7;38;5;178m DISK \u001b[0m Reading \u001b[38;5;178m/opt/xchem-fragalysis-2/maxwin/2A_HIPPO/A71EV2A_P3only_20241212/aligned_files/A4336a/A4336a.pdb\u001b[0m...\n"
      ]
     },
     "metadata": {},
     "output_type": "display_data"
    },
    {
     "data": {
      "text/html": [
       "<pre style=\"white-space:pre;overflow-x:auto;line-height:normal;font-family:Menlo,'DejaVu Sans Mono',consolas,'Courier New',monospace\"><span style=\"background-color: #d7af00; font-weight: bold\"> DISK </span> Reading <span style=\"color: #d7af00; text-decoration-color: #d7af00\">/opt/xchem-fragalysis-2/maxwin/2A_HIPPO/A71EV2A_P3only_20241212/aligned_files/A4347a/A4347a.pdb</span>...\n",
       "</pre>\n"
      ],
      "text/plain": [
       "\u001b[1;7;38;5;178m DISK \u001b[0m Reading \u001b[38;5;178m/opt/xchem-fragalysis-2/maxwin/2A_HIPPO/A71EV2A_P3only_20241212/aligned_files/A4347a/A4347a.pdb\u001b[0m...\n"
      ]
     },
     "metadata": {},
     "output_type": "display_data"
    },
    {
     "data": {
      "text/html": [
       "<pre style=\"white-space:pre;overflow-x:auto;line-height:normal;font-family:Menlo,'DejaVu Sans Mono',consolas,'Courier New',monospace\"><span style=\"background-color: #d7af00; font-weight: bold\"> DISK </span> Reading \n",
       "<span style=\"color: #d7af00; text-decoration-color: #d7af00\">/opt/xchem-fragalysis-2/maxwin/2A_HIPPO/A71EV2A_P3only_20241212/aligned_files/A4365a/A4365a_hippo.pdb</span>...\n",
       "</pre>\n"
      ],
      "text/plain": [
       "\u001b[1;7;38;5;178m DISK \u001b[0m Reading \n",
       "\u001b[38;5;178m/opt/xchem-fragalysis-2/maxwin/2A_HIPPO/A71EV2A_P3only_20241212/aligned_files/A4365a/A4365a_hippo.pdb\u001b[0m...\n"
      ]
     },
     "metadata": {},
     "output_type": "display_data"
    },
    {
     "data": {
      "text/html": [
       "<pre style=\"white-space:pre;overflow-x:auto;line-height:normal;font-family:Menlo,'DejaVu Sans Mono',consolas,'Courier New',monospace\"><span style=\"background-color: #d7af00; font-weight: bold\"> DISK </span> Reading <span style=\"color: #d7af00; text-decoration-color: #d7af00\">/opt/xchem-fragalysis-2/maxwin/2A_HIPPO/A71EV2A_P3only_20241212/aligned_files/A4372a/A4372a.pdb</span>...\n",
       "</pre>\n"
      ],
      "text/plain": [
       "\u001b[1;7;38;5;178m DISK \u001b[0m Reading \u001b[38;5;178m/opt/xchem-fragalysis-2/maxwin/2A_HIPPO/A71EV2A_P3only_20241212/aligned_files/A4372a/A4372a.pdb\u001b[0m...\n"
      ]
     },
     "metadata": {},
     "output_type": "display_data"
    },
    {
     "data": {
      "text/html": [
       "<pre style=\"white-space:pre;overflow-x:auto;line-height:normal;font-family:Menlo,'DejaVu Sans Mono',consolas,'Courier New',monospace\"><span style=\"background-color: #d7af00; font-weight: bold\"> DISK </span> Reading <span style=\"color: #d7af00; text-decoration-color: #d7af00\">/opt/xchem-fragalysis-2/maxwin/2A_HIPPO/A71EV2A_P3only_20241212/aligned_files/A4381a/A4381a.pdb</span>...\n",
       "</pre>\n"
      ],
      "text/plain": [
       "\u001b[1;7;38;5;178m DISK \u001b[0m Reading \u001b[38;5;178m/opt/xchem-fragalysis-2/maxwin/2A_HIPPO/A71EV2A_P3only_20241212/aligned_files/A4381a/A4381a.pdb\u001b[0m...\n"
      ]
     },
     "metadata": {},
     "output_type": "display_data"
    },
    {
     "name": "stderr",
     "output_type": "stream",
     "text": [
      "[13:37:07] WARNING: More than one matching pattern found - picking one\n",
      "\n"
     ]
    },
    {
     "data": {
      "text/html": [
       "<pre style=\"white-space:pre;overflow-x:auto;line-height:normal;font-family:Menlo,'DejaVu Sans Mono',consolas,'Courier New',monospace\"><span style=\"background-color: #d7af00; font-weight: bold\"> DISK </span> Writing <span style=\"color: #d7af00; text-decoration-color: #d7af00\">P3_20241212/P3_20241212_syndirella_inspiration_hits.sdf</span>...\n",
       "</pre>\n"
      ],
      "text/plain": [
       "\u001b[1;7;38;5;178m DISK \u001b[0m Writing \u001b[38;5;178mP3_20241212/P3_20241212_syndirella_inspiration_hits.sdf\u001b[0m...\n"
      ]
     },
     "metadata": {},
     "output_type": "display_data"
    },
    {
     "name": "stdout",
     "output_type": "stream",
     "text": [
      "CPU times: user 2.22 s, sys: 817 ms, total: 3.03 s\n",
      "Wall time: 20.4 s\n"
     ]
    },
    {
     "data": {
      "text/html": [
       "<div>\n",
       "<style scoped>\n",
       "    .dataframe tbody tr th:only-of-type {\n",
       "        vertical-align: middle;\n",
       "    }\n",
       "\n",
       "    .dataframe tbody tr th {\n",
       "        vertical-align: top;\n",
       "    }\n",
       "\n",
       "    .dataframe thead th {\n",
       "        text-align: right;\n",
       "    }\n",
       "</style>\n",
       "<table border=\"1\" class=\"dataframe\">\n",
       "  <thead>\n",
       "    <tr style=\"text-align: right;\">\n",
       "      <th></th>\n",
       "      <th>smiles</th>\n",
       "      <th>template</th>\n",
       "      <th>compound_set</th>\n",
       "      <th>hit1</th>\n",
       "    </tr>\n",
       "  </thead>\n",
       "  <tbody>\n",
       "    <tr>\n",
       "      <th>0</th>\n",
       "      <td>CC1(C(=O)N2CCCC(C(N)=O)C2)CCCCO1</td>\n",
       "      <td>A3938a</td>\n",
       "      <td>P3_20241212</td>\n",
       "      <td>A3938a</td>\n",
       "    </tr>\n",
       "    <tr>\n",
       "      <th>1</th>\n",
       "      <td>COc1ccc(Cl)cc1CC(=O)N1CCCC(C(N)=O)C1</td>\n",
       "      <td>A3940a</td>\n",
       "      <td>P3_20241212</td>\n",
       "      <td>A3940a</td>\n",
       "    </tr>\n",
       "    <tr>\n",
       "      <th>2</th>\n",
       "      <td>COc1ccccc1CC(=O)N1CC(C(N)=O)C(C(F)(F)F)C1</td>\n",
       "      <td>A3990a</td>\n",
       "      <td>P3_20241212</td>\n",
       "      <td>A3990a</td>\n",
       "    </tr>\n",
       "    <tr>\n",
       "      <th>3</th>\n",
       "      <td>COc1ccc(C(F)(F)F)cc1CC(=O)N1CCCC(C(N)=O)C1</td>\n",
       "      <td>A4028a</td>\n",
       "      <td>P3_20241212</td>\n",
       "      <td>A4028a</td>\n",
       "    </tr>\n",
       "    <tr>\n",
       "      <th>4</th>\n",
       "      <td>COc1ccccc1CC(=O)N1CCC(CC(N)=O)C1</td>\n",
       "      <td>A4032a</td>\n",
       "      <td>P3_20241212</td>\n",
       "      <td>A4032a</td>\n",
       "    </tr>\n",
       "    <tr>\n",
       "      <th>5</th>\n",
       "      <td>COc1cccc(Cl)c1NC(=O)N1CCCC(C(N)=O)C1</td>\n",
       "      <td>A4035a</td>\n",
       "      <td>P3_20241212</td>\n",
       "      <td>A4035a</td>\n",
       "    </tr>\n",
       "    <tr>\n",
       "      <th>6</th>\n",
       "      <td>NC(=O)C1CCCN(C(=O)C2CCc3cccc(Br)c32)C1</td>\n",
       "      <td>A4202a</td>\n",
       "      <td>P3_20241212</td>\n",
       "      <td>A4202a</td>\n",
       "    </tr>\n",
       "    <tr>\n",
       "      <th>7</th>\n",
       "      <td>COc1cc(Cl)ccc1CC(=O)N1CCCC(C(N)=O)C1</td>\n",
       "      <td>A4203a</td>\n",
       "      <td>P3_20241212</td>\n",
       "      <td>A4203a</td>\n",
       "    </tr>\n",
       "    <tr>\n",
       "      <th>8</th>\n",
       "      <td>COc1ccccc1C(NC(C)=O)C(=O)N1CCCC(C(N)=O)C1</td>\n",
       "      <td>A4207a</td>\n",
       "      <td>P3_20241212</td>\n",
       "      <td>A4207a</td>\n",
       "    </tr>\n",
       "    <tr>\n",
       "      <th>9</th>\n",
       "      <td>NC(=O)C1CCCN(C(=O)C(Cc2ccc(F)cc2)c2ccccc2)C1</td>\n",
       "      <td>A4237a</td>\n",
       "      <td>P3_20241212</td>\n",
       "      <td>A4237a</td>\n",
       "    </tr>\n",
       "    <tr>\n",
       "      <th>10</th>\n",
       "      <td>NC(=O)C1CCCN(C(=O)C2CCOc3ccc(Cl)cc32)C1</td>\n",
       "      <td>A4260a</td>\n",
       "      <td>P3_20241212</td>\n",
       "      <td>A4260a</td>\n",
       "    </tr>\n",
       "    <tr>\n",
       "      <th>11</th>\n",
       "      <td>Cc1cc(C)c(CC(=O)N2CCCC(C(N)=O)C2)c(=O)[nH]1</td>\n",
       "      <td>A4291a</td>\n",
       "      <td>P3_20241212</td>\n",
       "      <td>A4291a</td>\n",
       "    </tr>\n",
       "    <tr>\n",
       "      <th>12</th>\n",
       "      <td>NC(=O)C1CCCN(C(=O)Cc2cnccc2C(F)(F)F)C1</td>\n",
       "      <td>A4292a</td>\n",
       "      <td>P3_20241212</td>\n",
       "      <td>A4292a</td>\n",
       "    </tr>\n",
       "    <tr>\n",
       "      <th>13</th>\n",
       "      <td>COc1ccc(NS(C)(=O)=O)cc1NC(=O)N1CCCC(C(N)=O)C1</td>\n",
       "      <td>A4304a</td>\n",
       "      <td>P3_20241212</td>\n",
       "      <td>A4304a</td>\n",
       "    </tr>\n",
       "    <tr>\n",
       "      <th>14</th>\n",
       "      <td>NC(=O)C1CCCN(C(=O)Nc2ccccc2OCC(F)(F)F)C1</td>\n",
       "      <td>A4306a</td>\n",
       "      <td>P3_20241212</td>\n",
       "      <td>A4306a</td>\n",
       "    </tr>\n",
       "    <tr>\n",
       "      <th>15</th>\n",
       "      <td>CCS(=O)(=O)c1ccc(OC)c(NC(=O)N2CCCC(C(N)=O)C2)c1</td>\n",
       "      <td>A4309a</td>\n",
       "      <td>P3_20241212</td>\n",
       "      <td>A4309a</td>\n",
       "    </tr>\n",
       "    <tr>\n",
       "      <th>16</th>\n",
       "      <td>NC(=O)C1CCCN(C(=O)Cc2ccccc2OC(F)F)C1</td>\n",
       "      <td>A4319a</td>\n",
       "      <td>P3_20241212</td>\n",
       "      <td>A4319a</td>\n",
       "    </tr>\n",
       "    <tr>\n",
       "      <th>17</th>\n",
       "      <td>N#CCc1ccccc1CC(=O)N1CCCC(C(N)=O)C1</td>\n",
       "      <td>A4321a</td>\n",
       "      <td>P3_20241212</td>\n",
       "      <td>A4321a</td>\n",
       "    </tr>\n",
       "    <tr>\n",
       "      <th>18</th>\n",
       "      <td>NC(=O)C1CCC(=O)N(Cc2cccc3c2OCC3)C1</td>\n",
       "      <td>A4324a</td>\n",
       "      <td>P3_20241212</td>\n",
       "      <td>A4324a</td>\n",
       "    </tr>\n",
       "    <tr>\n",
       "      <th>19</th>\n",
       "      <td>CCc1ccccc1CC(=O)N1CCCC(C(N)=O)C1</td>\n",
       "      <td>A4331a</td>\n",
       "      <td>P3_20241212</td>\n",
       "      <td>A4331a</td>\n",
       "    </tr>\n",
       "    <tr>\n",
       "      <th>20</th>\n",
       "      <td>Cc1ncccc1CC(=O)N1CCCC(C(N)=O)C1</td>\n",
       "      <td>A4333a</td>\n",
       "      <td>P3_20241212</td>\n",
       "      <td>A4333a</td>\n",
       "    </tr>\n",
       "    <tr>\n",
       "      <th>21</th>\n",
       "      <td>CSc1cccc(CC(=O)N2CCCC(C(N)=O)C2)c1</td>\n",
       "      <td>A4334a</td>\n",
       "      <td>P3_20241212</td>\n",
       "      <td>A4334a</td>\n",
       "    </tr>\n",
       "    <tr>\n",
       "      <th>22</th>\n",
       "      <td>NC(=O)C1CCCN(C(=O)Cc2cccc(Cl)c2Cl)C1</td>\n",
       "      <td>A4336a</td>\n",
       "      <td>P3_20241212</td>\n",
       "      <td>A4336a</td>\n",
       "    </tr>\n",
       "    <tr>\n",
       "      <th>23</th>\n",
       "      <td>COc1ncccc1CC(=O)N1CCCC(C(N)=O)C1</td>\n",
       "      <td>A4347a</td>\n",
       "      <td>P3_20241212</td>\n",
       "      <td>A4347a</td>\n",
       "    </tr>\n",
       "    <tr>\n",
       "      <th>24</th>\n",
       "      <td>NC(=O)C1CCCN(C(=O)Cc2cccc3c2OCCO3)C1</td>\n",
       "      <td>A4365a</td>\n",
       "      <td>P3_20241212</td>\n",
       "      <td>A4365a</td>\n",
       "    </tr>\n",
       "    <tr>\n",
       "      <th>25</th>\n",
       "      <td>NC(=O)C1CCCN(C(=O)Cc2cccnc2O)C1</td>\n",
       "      <td>A4372a</td>\n",
       "      <td>P3_20241212</td>\n",
       "      <td>A4372a</td>\n",
       "    </tr>\n",
       "    <tr>\n",
       "      <th>26</th>\n",
       "      <td>NC(=O)C1CCCN(C(=O)Cc2cc(C(F)(F)F)ccc2C(F)(F)F)C1</td>\n",
       "      <td>A4381a</td>\n",
       "      <td>P3_20241212</td>\n",
       "      <td>A4381a</td>\n",
       "    </tr>\n",
       "  </tbody>\n",
       "</table>\n",
       "</div>"
      ],
      "text/plain": [
       "                                              smiles template compound_set  \\\n",
       "0                   CC1(C(=O)N2CCCC(C(N)=O)C2)CCCCO1   A3938a  P3_20241212   \n",
       "1               COc1ccc(Cl)cc1CC(=O)N1CCCC(C(N)=O)C1   A3940a  P3_20241212   \n",
       "2          COc1ccccc1CC(=O)N1CC(C(N)=O)C(C(F)(F)F)C1   A3990a  P3_20241212   \n",
       "3         COc1ccc(C(F)(F)F)cc1CC(=O)N1CCCC(C(N)=O)C1   A4028a  P3_20241212   \n",
       "4                   COc1ccccc1CC(=O)N1CCC(CC(N)=O)C1   A4032a  P3_20241212   \n",
       "5               COc1cccc(Cl)c1NC(=O)N1CCCC(C(N)=O)C1   A4035a  P3_20241212   \n",
       "6             NC(=O)C1CCCN(C(=O)C2CCc3cccc(Br)c32)C1   A4202a  P3_20241212   \n",
       "7               COc1cc(Cl)ccc1CC(=O)N1CCCC(C(N)=O)C1   A4203a  P3_20241212   \n",
       "8          COc1ccccc1C(NC(C)=O)C(=O)N1CCCC(C(N)=O)C1   A4207a  P3_20241212   \n",
       "9       NC(=O)C1CCCN(C(=O)C(Cc2ccc(F)cc2)c2ccccc2)C1   A4237a  P3_20241212   \n",
       "10           NC(=O)C1CCCN(C(=O)C2CCOc3ccc(Cl)cc32)C1   A4260a  P3_20241212   \n",
       "11       Cc1cc(C)c(CC(=O)N2CCCC(C(N)=O)C2)c(=O)[nH]1   A4291a  P3_20241212   \n",
       "12            NC(=O)C1CCCN(C(=O)Cc2cnccc2C(F)(F)F)C1   A4292a  P3_20241212   \n",
       "13     COc1ccc(NS(C)(=O)=O)cc1NC(=O)N1CCCC(C(N)=O)C1   A4304a  P3_20241212   \n",
       "14          NC(=O)C1CCCN(C(=O)Nc2ccccc2OCC(F)(F)F)C1   A4306a  P3_20241212   \n",
       "15   CCS(=O)(=O)c1ccc(OC)c(NC(=O)N2CCCC(C(N)=O)C2)c1   A4309a  P3_20241212   \n",
       "16              NC(=O)C1CCCN(C(=O)Cc2ccccc2OC(F)F)C1   A4319a  P3_20241212   \n",
       "17                N#CCc1ccccc1CC(=O)N1CCCC(C(N)=O)C1   A4321a  P3_20241212   \n",
       "18                NC(=O)C1CCC(=O)N(Cc2cccc3c2OCC3)C1   A4324a  P3_20241212   \n",
       "19                  CCc1ccccc1CC(=O)N1CCCC(C(N)=O)C1   A4331a  P3_20241212   \n",
       "20                   Cc1ncccc1CC(=O)N1CCCC(C(N)=O)C1   A4333a  P3_20241212   \n",
       "21                CSc1cccc(CC(=O)N2CCCC(C(N)=O)C2)c1   A4334a  P3_20241212   \n",
       "22              NC(=O)C1CCCN(C(=O)Cc2cccc(Cl)c2Cl)C1   A4336a  P3_20241212   \n",
       "23                  COc1ncccc1CC(=O)N1CCCC(C(N)=O)C1   A4347a  P3_20241212   \n",
       "24              NC(=O)C1CCCN(C(=O)Cc2cccc3c2OCCO3)C1   A4365a  P3_20241212   \n",
       "25                   NC(=O)C1CCCN(C(=O)Cc2cccnc2O)C1   A4372a  P3_20241212   \n",
       "26  NC(=O)C1CCCN(C(=O)Cc2cc(C(F)(F)F)ccc2C(F)(F)F)C1   A4381a  P3_20241212   \n",
       "\n",
       "      hit1  \n",
       "0   A3938a  \n",
       "1   A3940a  \n",
       "2   A3990a  \n",
       "3   A4028a  \n",
       "4   A4032a  \n",
       "5   A4035a  \n",
       "6   A4202a  \n",
       "7   A4203a  \n",
       "8   A4207a  \n",
       "9   A4237a  \n",
       "10  A4260a  \n",
       "11  A4291a  \n",
       "12  A4292a  \n",
       "13  A4304a  \n",
       "14  A4306a  \n",
       "15  A4309a  \n",
       "16  A4319a  \n",
       "17  A4321a  \n",
       "18  A4324a  \n",
       "19  A4331a  \n",
       "20  A4333a  \n",
       "21  A4334a  \n",
       "22  A4336a  \n",
       "23  A4347a  \n",
       "24  A4365a  \n",
       "25  A4372a  \n",
       "26  A4381a  "
      ]
     },
     "execution_count": 6,
     "metadata": {},
     "output_type": "execute_result"
    }
   ],
   "source": [
    "%%time\n",
    "derivatives.to_syndirella(f\"{name}/{name}\")"
   ]
  },
  {
   "cell_type": "code",
   "execution_count": null,
   "id": "bb53d57e-abda-4e9e-b6bf-ba390007959f",
   "metadata": {},
   "outputs": [],
   "source": []
  }
 ],
 "metadata": {
  "kernelspec": {
   "display_name": "Python [conda env:base] *",
   "language": "python",
   "name": "conda-base-py"
  },
  "language_info": {
   "codemirror_mode": {
    "name": "ipython",
    "version": 3
   },
   "file_extension": ".py",
   "mimetype": "text/x-python",
   "name": "python",
   "nbconvert_exporter": "python",
   "pygments_lexer": "ipython3",
   "version": "3.11.6"
  }
 },
 "nbformat": 4,
 "nbformat_minor": 5
}
